{
 "cells": [
  {
   "cell_type": "code",
   "execution_count": 2,
   "metadata": {},
   "outputs": [],
   "source": [
    "import numpy as np\n",
    "import pandas as pd\n",
    "import matplotlib.pyplot as plt\n",
    "import seaborn as sns\n",
    "from sklearn import datasets\n",
    "from sklearn.model_selection import train_test_split\n",
    "from sklearn.ensemble import IsolationForest\n",
    "from sklearn.metrics import confusion_matrix, classification_report"
   ]
  },
  {
   "cell_type": "code",
   "execution_count": 3,
   "metadata": {},
   "outputs": [],
   "source": [
    "\n",
    "# Load the dataset \n",
    "data = datasets.load_breast_cancer()\n",
    "\n",
    "# Split up dependent and independent vars\n",
    "X = data.data\n",
    "y = data.target\n",
    "\n",
    "# holding out data for model validation \n",
    "X_train, X_test, y_train, y_test = train_test_split(X, y, test_size=0.3, random_state=42)"
   ]
  },
  {
   "cell_type": "code",
   "execution_count": 4,
   "metadata": {},
   "outputs": [],
   "source": [
    "# create the isolation forest object and then fit the model \n",
    "clf = IsolationForest(contamination='auto', random_state=42)\n",
    "clf.fit(X_train)\n",
    "\n",
    "# generate predictions\n",
    "y_pred_test = clf.predict(X_test)\n",
    "\n",
    "# convert data to match dataset coding (1 = benine, 0 = malignant) vs. sklearn's output where (1 = inlier, -1 = outlier)\n",
    "y_pred_test = np.where(y_pred_test == 1, 1, 0)"
   ]
  },
  {
   "cell_type": "code",
   "execution_count": 5,
   "metadata": {},
   "outputs": [
    {
     "data": {
      "image/png": "[encoded data removed]",
      "text/plain": [
       "<Figure size 600x600 with 1 Axes>"
      ]
     },
     "metadata": {},
     "output_type": "display_data"
    },
    {
     "name": "stdout",
     "output_type": "stream",
     "text": [
      "\n",
      "Classification Report:\n",
      "              precision    recall  f1-score   support\n",
      "\n",
      "           0       0.58      0.17      0.27        63\n",
      "           1       0.66      0.93      0.77       108\n",
      "\n",
      "    accuracy                           0.65       171\n",
      "   macro avg       0.62      0.55      0.52       171\n",
      "weighted avg       0.63      0.65      0.58       171\n",
      "\n"
     ]
    }
   ],
   "source": [
    "# Calculate the confusion matrix\n",
    "cm = confusion_matrix(y_test, y_pred_test)\n",
    "\n",
    "# Plot the confusion matrix\n",
    "plt.figure(figsize=(6, 6))\n",
    "sns.set(font_scale=1.3)\n",
    "sns.heatmap(cm, annot=True, fmt='d', cmap='coolwarm', cbar=False,\n",
    "            xticklabels=['Class 0', 'Class 1'],\n",
    "            yticklabels=['Class 0', 'Class 1'])\n",
    "\n",
    "plt.xlabel('Predicted Label', fontsize=14)\n",
    "plt.ylabel('True Label', fontsize=14)\n",
    "plt.title('Confusion Matrix', fontsize=16)\n",
    "plt.show()\n",
    "\n",
    "print(\"\\nClassification Report:\")\n",
    "print(classification_report(y_test, y_pred_test))"
   ]
  },
  {
   "cell_type": "code",
   "execution_count": 6,
   "metadata": {},
   "outputs": [
    {
     "name": "stdout",
     "output_type": "stream",
     "text": [
      "Confusion Matrix:\n",
      "[[41 22]\n",
      " [30 78]]\n",
      "\n",
      "Classification Report:\n",
      "              precision    recall  f1-score   support\n",
      "\n",
      "           0       0.58      0.65      0.61        63\n",
      "           1       0.78      0.72      0.75       108\n",
      "\n",
      "    accuracy                           0.70       171\n",
      "   macro avg       0.68      0.69      0.68       171\n",
      "weighted avg       0.71      0.70      0.70       171\n",
      "\n"
     ]
    }
   ],
   "source": [
    "# in a binary classifier, the mean of the target variable is the proportion of the class represented by 1\n",
    "contamination = 1 - y_train.mean()\n",
    "\n",
    "# fit a new model \n",
    "clf_improved = IsolationForest(contamination=contamination, random_state=42)\n",
    "clf_improved.fit(X_train)\n",
    "\n",
    "# generate new predictions \n",
    "y_pred_test_improved = clf_improved.predict(X_test)\n",
    "\n",
    "# re-label predictions\n",
    "y_pred_test_improved = np.where(y_pred_test_improved == 1, 1, 0)\n",
    "\n",
    "# initial results \n",
    "print(\"Confusion Matrix:\")\n",
    "print(confusion_matrix(y_test, y_pred_test_improved))\n",
    "print(\"\\nClassification Report:\")\n",
    "print(classification_report(y_test, y_pred_test_improved))"
   ]
  }
 ],
 "metadata": {
  "kernelspec": {
   "display_name": "Python 3",
   "language": "python",
   "name": "python3"
  },
  "language_info": {
   "codemirror_mode": {
    "name": "ipython",
    "version": 3
   },
   "file_extension": ".py",
   "mimetype": "text/x-python",
   "name": "python",
   "nbconvert_exporter": "python",
   "pygments_lexer": "ipython3",
   "version": "3.11.9"
  }
 },
 "nbformat": 4,
 "nbformat_minor": 2
}
