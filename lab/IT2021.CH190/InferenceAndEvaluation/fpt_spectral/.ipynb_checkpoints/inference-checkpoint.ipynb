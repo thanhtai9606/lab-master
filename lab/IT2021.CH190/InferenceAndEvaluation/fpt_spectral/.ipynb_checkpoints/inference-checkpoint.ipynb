{
 "cells": [
  {
   "cell_type": "code",
   "execution_count": 7,
   "id": "ccb4b4c8-145e-473b-91a7-100cdee417a1",
   "metadata": {},
   "outputs": [],
   "source": [
    "# pip install openai-whisper jiwer"
   ]
  },
  {
   "cell_type": "code",
   "execution_count": 8,
   "id": "8ff3c37b",
   "metadata": {},
   "outputs": [],
   "source": [
    "# pip install ffmpeg"
   ]
  },
  {
   "cell_type": "code",
   "execution_count": 9,
   "id": "ddead78c-bba4-4b7b-b17a-dc129d3b3c24",
   "metadata": {},
   "outputs": [
    {
     "name": "stdout",
     "output_type": "stream",
     "text": [
      "import\n"
     ]
    }
   ],
   "source": [
    "import os\n",
    "import whisper\n",
    "import jiwer\n",
    "\n",
    "print(\"import\")"
   ]
  },
  {
   "cell_type": "code",
   "execution_count": 10,
   "id": "de38b478-d6ae-41ec-9559-90b2c867afab",
   "metadata": {},
   "outputs": [
    {
     "name": "stdout",
     "output_type": "stream",
     "text": [
      "Load model\n"
     ]
    }
   ],
   "source": [
    "# Định nghĩa đường dẫn thư mục\n",
    "AUDIO_FOLDER = \"./data\"\n",
    "TRANSCRIPT_FILE = \"./transcriptAll.txt\"\n",
    "RESULT_FILE = \"./transcript_result.txt\"\n",
    "\n",
    "# Load mô hình Whisper Large V3\n",
    "model = whisper.load_model(\"large-v3\")\n",
    "\n",
    "print(\"Load model\")"
   ]
  },
  {
   "cell_type": "code",
   "execution_count": 11,
   "id": "c5bdf0ba-b83f-4e34-be23-4ffcfa696016",
   "metadata": {},
   "outputs": [
    {
     "name": "stdout",
     "output_type": "stream",
     "text": [
      "Doc transcript\n",
      "Doc transcript - end\n"
     ]
    }
   ],
   "source": [
    "# Đọc transcript chuẩn\n",
    "print(\"Doc transcript\")\n",
    "ground_truths = {}\n",
    "with open(TRANSCRIPT_FILE, \"r\", encoding=\"utf-8\") as f:\n",
    "    for line in f:\n",
    "        parts = line.strip().split(\"|\")\n",
    "        if len(parts) >= 2:\n",
    "            filename, transcript, length = parts\n",
    "            ground_truths[filename] = transcript\n",
    "\n",
    "print(\"Doc transcript - end\")"
   ]
  },
  {
   "cell_type": "code",
   "execution_count": 12,
   "id": "c6605ce8-f0d2-41d0-9397-a6d49e7b1cf5",
   "metadata": {},
   "outputs": [
    {
     "name": "stdout",
     "output_type": "stream",
     "text": [
      "Processing: FPTOpenSpeechData_Set001_V0.1_000001.mp3\n"
     ]
    },
    {
     "name": "stderr",
     "output_type": "stream",
     "text": [
      "/home/ngo/anaconda3/lib/python3.12/site-packages/whisper/transcribe.py:126: UserWarning: FP16 is not supported on CPU; using FP32 instead\n",
      "  warnings.warn(\"FP16 is not supported on CPU; using FP32 instead\")\n"
     ]
    },
    {
     "name": "stdout",
     "output_type": "stream",
     "text": [
      "reference_text - predicted_text: cách để đi - cảm ơn các bạn đã theo dõi và hẹn gặp lại.\n",
      "Processing: FPTOpenSpeechData_Set001_V0.1_000002.mp3\n"
     ]
    },
    {
     "name": "stderr",
     "output_type": "stream",
     "text": [
      "/home/ngo/anaconda3/lib/python3.12/site-packages/whisper/transcribe.py:126: UserWarning: FP16 is not supported on CPU; using FP32 instead\n",
      "  warnings.warn(\"FP16 is not supported on CPU; using FP32 instead\")\n"
     ]
    },
    {
     "name": "stdout",
     "output_type": "stream",
     "text": [
      "reference_text - predicted_text: họ đã xét nghiệm máu cho cheng nhưng mọi thứ vẫn hoàn toàn bình thường - hãy subscribe cho kênh ghiền mì gõ để không bỏ lỡ những video hấp dẫn\n",
      "Processing: FPTOpenSpeechData_Set001_V0.1_000003.mp3\n"
     ]
    },
    {
     "name": "stderr",
     "output_type": "stream",
     "text": [
      "/home/ngo/anaconda3/lib/python3.12/site-packages/whisper/transcribe.py:126: UserWarning: FP16 is not supported on CPU; using FP32 instead\n",
      "  warnings.warn(\"FP16 is not supported on CPU; using FP32 instead\")\n"
     ]
    },
    {
     "name": "stdout",
     "output_type": "stream",
     "text": [
      "reference_text - predicted_text: anh có thể gọi tôi không - hãy subscribe cho kênh ghiền mì gõ để không bỏ lỡ những video hấp dẫn\n",
      "Processing: FPTOpenSpeechData_Set001_V0.1_000004.mp3\n"
     ]
    },
    {
     "name": "stderr",
     "output_type": "stream",
     "text": [
      "/home/ngo/anaconda3/lib/python3.12/site-packages/whisper/transcribe.py:126: UserWarning: FP16 is not supported on CPU; using FP32 instead\n",
      "  warnings.warn(\"FP16 is not supported on CPU; using FP32 instead\")\n"
     ]
    },
    {
     "name": "stdout",
     "output_type": "stream",
     "text": [
      "reference_text - predicted_text: có rất nhiều yếu tố may rủi ở đây - cảm ơn các bạn đã theo dõi và hẹn gặp lại.\n",
      "Processing: FPTOpenSpeechData_Set001_V0.1_000005.mp3\n"
     ]
    },
    {
     "name": "stderr",
     "output_type": "stream",
     "text": [
      "/home/ngo/anaconda3/lib/python3.12/site-packages/whisper/transcribe.py:126: UserWarning: FP16 is not supported on CPU; using FP32 instead\n",
      "  warnings.warn(\"FP16 is not supported on CPU; using FP32 instead\")\n"
     ]
    },
    {
     "name": "stdout",
     "output_type": "stream",
     "text": [
      "reference_text - predicted_text: ai là chúa nói dối - cảm ơn các bạn đã theo dõi và hẹn gặp lại.\n",
      "Processing: FPTOpenSpeechData_Set001_V0.1_000006.mp3\n"
     ]
    },
    {
     "name": "stderr",
     "output_type": "stream",
     "text": [
      "/home/ngo/anaconda3/lib/python3.12/site-packages/whisper/transcribe.py:126: UserWarning: FP16 is not supported on CPU; using FP32 instead\n",
      "  warnings.warn(\"FP16 is not supported on CPU; using FP32 instead\")\n"
     ]
    },
    {
     "name": "stdout",
     "output_type": "stream",
     "text": [
      "reference_text - predicted_text: có cửa hàng tiện lợi ở sân bay không - cảm ơn các bạn đã theo dõi và hẹn gặp lại.\n",
      "Processing: FPTOpenSpeechData_Set001_V0.1_000007.mp3\n"
     ]
    },
    {
     "name": "stderr",
     "output_type": "stream",
     "text": [
      "/home/ngo/anaconda3/lib/python3.12/site-packages/whisper/transcribe.py:126: UserWarning: FP16 is not supported on CPU; using FP32 instead\n",
      "  warnings.warn(\"FP16 is not supported on CPU; using FP32 instead\")\n"
     ]
    },
    {
     "name": "stdout",
     "output_type": "stream",
     "text": [
      "reference_text - predicted_text: anh đổi ngoại tệ được không - hãy đợi hoài đại được không?\n",
      "Processing: FPTOpenSpeechData_Set001_V0.1_000008.mp3\n"
     ]
    },
    {
     "name": "stderr",
     "output_type": "stream",
     "text": [
      "/home/ngo/anaconda3/lib/python3.12/site-packages/whisper/transcribe.py:126: UserWarning: FP16 is not supported on CPU; using FP32 instead\n",
      "  warnings.warn(\"FP16 is not supported on CPU; using FP32 instead\")\n"
     ]
    },
    {
     "name": "stdout",
     "output_type": "stream",
     "text": [
      "reference_text - predicted_text: cô ấy mua hai mươi trái chôm chôm và ba con cá - cô ấy mua 2 dưới, 2 dung và 3 mắt ạ.\n",
      "Processing: FPTOpenSpeechData_Set001_V0.1_000009.mp3\n"
     ]
    },
    {
     "name": "stderr",
     "output_type": "stream",
     "text": [
      "/home/ngo/anaconda3/lib/python3.12/site-packages/whisper/transcribe.py:126: UserWarning: FP16 is not supported on CPU; using FP32 instead\n",
      "  warnings.warn(\"FP16 is not supported on CPU; using FP32 instead\")\n"
     ]
    },
    {
     "name": "stdout",
     "output_type": "stream",
     "text": [
      "reference_text - predicted_text: đứa bé có ói òng ọc ra sữa hoặc nước và bé chưa đến mười tuần tuổi hoặc có biểu hiện mất nước không - hãy subscribe cho kênh ghiền mì gõ để không bỏ lỡ những video hấp dẫn\n",
      "Processing: FPTOpenSpeechData_Set001_V0.1_000010.mp3\n"
     ]
    },
    {
     "name": "stderr",
     "output_type": "stream",
     "text": [
      "/home/ngo/anaconda3/lib/python3.12/site-packages/whisper/transcribe.py:126: UserWarning: FP16 is not supported on CPU; using FP32 instead\n",
      "  warnings.warn(\"FP16 is not supported on CPU; using FP32 instead\")\n"
     ]
    },
    {
     "name": "stdout",
     "output_type": "stream",
     "text": [
      "reference_text - predicted_text: tôi có thể viết tên địa chỉ số điện thoại của công ty bảo hiểm của anh được không - tôi có thể biết tên, địa chỉ, số điện thoại của công ty bảo hiểm của anh được không?\n",
      "Processing: FPTOpenSpeechData_Set001_V0.1_000011.mp3\n"
     ]
    },
    {
     "name": "stderr",
     "output_type": "stream",
     "text": [
      "/home/ngo/anaconda3/lib/python3.12/site-packages/whisper/transcribe.py:126: UserWarning: FP16 is not supported on CPU; using FP32 instead\n",
      "  warnings.warn(\"FP16 is not supported on CPU; using FP32 instead\")\n"
     ]
    },
    {
     "name": "stdout",
     "output_type": "stream",
     "text": [
      "reference_text - predicted_text: đừng lo tôi vừa mới đến rồi - tình hào tôi đúng với đến rồi.\n",
      "Processing: FPTOpenSpeechData_Set001_V0.1_000012.mp3\n"
     ]
    },
    {
     "name": "stderr",
     "output_type": "stream",
     "text": [
      "/home/ngo/anaconda3/lib/python3.12/site-packages/whisper/transcribe.py:126: UserWarning: FP16 is not supported on CPU; using FP32 instead\n",
      "  warnings.warn(\"FP16 is not supported on CPU; using FP32 instead\")\n"
     ]
    },
    {
     "name": "stdout",
     "output_type": "stream",
     "text": [
      "reference_text - predicted_text: mười phút nữa vào giờ rưỡi - 10 phút nữa vào 10.\n",
      "Processing: FPTOpenSpeechData_Set001_V0.1_000013.mp3\n"
     ]
    },
    {
     "name": "stderr",
     "output_type": "stream",
     "text": [
      "/home/ngo/anaconda3/lib/python3.12/site-packages/whisper/transcribe.py:126: UserWarning: FP16 is not supported on CPU; using FP32 instead\n",
      "  warnings.warn(\"FP16 is not supported on CPU; using FP32 instead\")\n"
     ]
    },
    {
     "name": "stdout",
     "output_type": "stream",
     "text": [
      "reference_text - predicted_text: tôi có thể hẹn cho chiều mai không - cô có thể hãy tự dùng máy tính.\n",
      "Processing: FPTOpenSpeechData_Set001_V0.1_000014.mp3\n"
     ]
    },
    {
     "name": "stderr",
     "output_type": "stream",
     "text": [
      "/home/ngo/anaconda3/lib/python3.12/site-packages/whisper/transcribe.py:126: UserWarning: FP16 is not supported on CPU; using FP32 instead\n",
      "  warnings.warn(\"FP16 is not supported on CPU; using FP32 instead\")\n"
     ]
    },
    {
     "name": "stdout",
     "output_type": "stream",
     "text": [
      "reference_text - predicted_text: anh rửa hình kỹ thuật số ra được không - anh vừa hình dị thật sự ra được không?\n",
      "Processing: FPTOpenSpeechData_Set001_V0.1_000015.mp3\n"
     ]
    },
    {
     "name": "stderr",
     "output_type": "stream",
     "text": [
      "/home/ngo/anaconda3/lib/python3.12/site-packages/whisper/transcribe.py:126: UserWarning: FP16 is not supported on CPU; using FP32 instead\n",
      "  warnings.warn(\"FP16 is not supported on CPU; using FP32 instead\")\n"
     ]
    },
    {
     "name": "stdout",
     "output_type": "stream",
     "text": [
      "reference_text - predicted_text: tôi cố thu xếp thôi - cảm ơn các bạn đã theo dõi và hẹn gặp lại.\n",
      "Processing: FPTOpenSpeechData_Set001_V0.1_000016.mp3\n"
     ]
    },
    {
     "name": "stderr",
     "output_type": "stream",
     "text": [
      "/home/ngo/anaconda3/lib/python3.12/site-packages/whisper/transcribe.py:126: UserWarning: FP16 is not supported on CPU; using FP32 instead\n",
      "  warnings.warn(\"FP16 is not supported on CPU; using FP32 instead\")\n"
     ]
    },
    {
     "name": "stdout",
     "output_type": "stream",
     "text": [
      "reference_text - predicted_text: tôi không dùng ma túy - cảm ơn các bạn đã theo dõi và hẹn gặp lại.\n",
      "Processing: FPTOpenSpeechData_Set001_V0.1_000017.mp3\n"
     ]
    },
    {
     "name": "stderr",
     "output_type": "stream",
     "text": [
      "/home/ngo/anaconda3/lib/python3.12/site-packages/whisper/transcribe.py:126: UserWarning: FP16 is not supported on CPU; using FP32 instead\n",
      "  warnings.warn(\"FP16 is not supported on CPU; using FP32 instead\")\n"
     ]
    },
    {
     "name": "stdout",
     "output_type": "stream",
     "text": [
      "reference_text - predicted_text: quân đội mỹ muốn chế tạo những máy tự động hoàn toàn vì những chiếc mà họ đang có vẫn cần được điều khiển bởi con người - các đội mỹ vua thứ tạng hiện nay tự động hoàn toàn dùng những chiếc mà họ đã có để tâm lực điều khiển với con người.\n",
      "Processing: FPTOpenSpeechData_Set001_V0.1_000018.mp3\n"
     ]
    },
    {
     "name": "stderr",
     "output_type": "stream",
     "text": [
      "/home/ngo/anaconda3/lib/python3.12/site-packages/whisper/transcribe.py:126: UserWarning: FP16 is not supported on CPU; using FP32 instead\n",
      "  warnings.warn(\"FP16 is not supported on CPU; using FP32 instead\")\n"
     ]
    },
    {
     "name": "stdout",
     "output_type": "stream",
     "text": [
      "reference_text - predicted_text: tôi quên túi đeo vai trong xe tắc xi - cô đơn vị đã bán được cái gì?\n",
      "Processing: FPTOpenSpeechData_Set001_V0.1_000019.mp3\n"
     ]
    },
    {
     "name": "stderr",
     "output_type": "stream",
     "text": [
      "/home/ngo/anaconda3/lib/python3.12/site-packages/whisper/transcribe.py:126: UserWarning: FP16 is not supported on CPU; using FP32 instead\n",
      "  warnings.warn(\"FP16 is not supported on CPU; using FP32 instead\")\n"
     ]
    },
    {
     "name": "stdout",
     "output_type": "stream",
     "text": [
      "reference_text - predicted_text: dư luận đã phản ánh lên cơ quan địa chính của thị trấn nhưng mãi chả thấy hồi âm - hãy subscribe cho kênh ghiền mì gõ để không bỏ lỡ những video hấp dẫn\n",
      "Processing: FPTOpenSpeechData_Set001_V0.1_000020.mp3\n"
     ]
    },
    {
     "name": "stderr",
     "output_type": "stream",
     "text": [
      "/home/ngo/anaconda3/lib/python3.12/site-packages/whisper/transcribe.py:126: UserWarning: FP16 is not supported on CPU; using FP32 instead\n",
      "  warnings.warn(\"FP16 is not supported on CPU; using FP32 instead\")\n"
     ]
    },
    {
     "name": "stdout",
     "output_type": "stream",
     "text": [
      "reference_text - predicted_text: giả danh làm từ thiện lừa tiền người dân - rồi đây là từ khuyện lùa tiệc người dân\n",
      "Processing: FPTOpenSpeechData_Set001_V0.1_000021.mp3\n"
     ]
    },
    {
     "name": "stderr",
     "output_type": "stream",
     "text": [
      "/home/ngo/anaconda3/lib/python3.12/site-packages/whisper/transcribe.py:126: UserWarning: FP16 is not supported on CPU; using FP32 instead\n",
      "  warnings.warn(\"FP16 is not supported on CPU; using FP32 instead\")\n"
     ]
    },
    {
     "name": "stdout",
     "output_type": "stream",
     "text": [
      "reference_text - predicted_text: sắm đồ siêu sang ở hội chợ triệu phú - chào tạm biệt.\n",
      "Processing: FPTOpenSpeechData_Set001_V0.1_000022.mp3\n"
     ]
    },
    {
     "name": "stderr",
     "output_type": "stream",
     "text": [
      "/home/ngo/anaconda3/lib/python3.12/site-packages/whisper/transcribe.py:126: UserWarning: FP16 is not supported on CPU; using FP32 instead\n",
      "  warnings.warn(\"FP16 is not supported on CPU; using FP32 instead\")\n"
     ]
    },
    {
     "name": "stdout",
     "output_type": "stream",
     "text": [
      "reference_text - predicted_text: nếu làm lộ thiên cơ âm binh sẽ đánh trả thầy - nếu làm lộn, nhưng sao âm binh sẽ đánh trả thầy.\n",
      "Processing: FPTOpenSpeechData_Set001_V0.1_000023.mp3\n"
     ]
    },
    {
     "name": "stderr",
     "output_type": "stream",
     "text": [
      "/home/ngo/anaconda3/lib/python3.12/site-packages/whisper/transcribe.py:126: UserWarning: FP16 is not supported on CPU; using FP32 instead\n",
      "  warnings.warn(\"FP16 is not supported on CPU; using FP32 instead\")\n"
     ]
    },
    {
     "name": "stdout",
     "output_type": "stream",
     "text": [
      "reference_text - predicted_text: máy ném bom chiến lược của nga gặp nạn - hãy đăng ký kênh để ủng hộ kênh của mình nhé.\n",
      "Processing: FPTOpenSpeechData_Set001_V0.1_000024.mp3\n"
     ]
    },
    {
     "name": "stderr",
     "output_type": "stream",
     "text": [
      "/home/ngo/anaconda3/lib/python3.12/site-packages/whisper/transcribe.py:126: UserWarning: FP16 is not supported on CPU; using FP32 instead\n",
      "  warnings.warn(\"FP16 is not supported on CPU; using FP32 instead\")\n"
     ]
    },
    {
     "name": "stdout",
     "output_type": "stream",
     "text": [
      "reference_text - predicted_text: anh có thích tôi giữ trước quyển sách này cho anh không - anh có thích tôi giữ chú chuyển sách này cho anh không?\n",
      "Processing: FPTOpenSpeechData_Set001_V0.1_000025.mp3\n"
     ]
    },
    {
     "name": "stderr",
     "output_type": "stream",
     "text": [
      "/home/ngo/anaconda3/lib/python3.12/site-packages/whisper/transcribe.py:126: UserWarning: FP16 is not supported on CPU; using FP32 instead\n",
      "  warnings.warn(\"FP16 is not supported on CPU; using FP32 instead\")\n"
     ]
    },
    {
     "name": "stdout",
     "output_type": "stream",
     "text": [
      "reference_text - predicted_text: ở người bị hội chứng khi ăn ngủ phần não phải vẫn thức và sau đó là cả các dạng hoạt động thể chất - hãy subscribe cho kênh ghiền mì gõ để không bỏ lỡ những video hấp dẫn\n",
      "Processing: FPTOpenSpeechData_Set001_V0.1_000026.mp3\n"
     ]
    },
    {
     "name": "stderr",
     "output_type": "stream",
     "text": [
      "/home/ngo/anaconda3/lib/python3.12/site-packages/whisper/transcribe.py:126: UserWarning: FP16 is not supported on CPU; using FP32 instead\n",
      "  warnings.warn(\"FP16 is not supported on CPU; using FP32 instead\")\n"
     ]
    },
    {
     "name": "stdout",
     "output_type": "stream",
     "text": [
      "reference_text - predicted_text: tỉ lệ là mười mm trên một km - chính tệ là người như mẹ một tương lai.\n",
      "Processing: FPTOpenSpeechData_Set001_V0.1_000027.mp3\n"
     ]
    },
    {
     "name": "stderr",
     "output_type": "stream",
     "text": [
      "/home/ngo/anaconda3/lib/python3.12/site-packages/whisper/transcribe.py:126: UserWarning: FP16 is not supported on CPU; using FP32 instead\n",
      "  warnings.warn(\"FP16 is not supported on CPU; using FP32 instead\")\n"
     ]
    },
    {
     "name": "stdout",
     "output_type": "stream",
     "text": [
      "reference_text - predicted_text: tôi muốn thực hiện một cuộc gọi điện thoại quốc tế đi nhật bản cuộc gọi -n là đến tokyo số ba hai chín hai tám hai một một - hãy subscribe cho kênh ghiền mì gõ để không bỏ lỡ những video hấp dẫn\n",
      "Processing: FPTOpenSpeechData_Set001_V0.1_000028.mp3\n"
     ]
    },
    {
     "name": "stderr",
     "output_type": "stream",
     "text": [
      "/home/ngo/anaconda3/lib/python3.12/site-packages/whisper/transcribe.py:126: UserWarning: FP16 is not supported on CPU; using FP32 instead\n",
      "  warnings.warn(\"FP16 is not supported on CPU; using FP32 instead\")\n"
     ]
    },
    {
     "name": "stdout",
     "output_type": "stream",
     "text": [
      "reference_text - predicted_text: nơi đây hiện khá yên tĩnh - lời đây hiện tại.\n",
      "Processing: FPTOpenSpeechData_Set001_V0.1_000029.mp3\n"
     ]
    },
    {
     "name": "stderr",
     "output_type": "stream",
     "text": [
      "/home/ngo/anaconda3/lib/python3.12/site-packages/whisper/transcribe.py:126: UserWarning: FP16 is not supported on CPU; using FP32 instead\n",
      "  warnings.warn(\"FP16 is not supported on CPU; using FP32 instead\")\n"
     ]
    },
    {
     "name": "stdout",
     "output_type": "stream",
     "text": [
      "reference_text - predicted_text: nhưng cũng có những bạn nằm khèo ở nhà trùm mềm và khóc nhè - chứ cũng có những bạn nằm kèo ở nhà thông môn và ông em\n",
      "Processing: FPTOpenSpeechData_Set001_V0.1_000030.mp3\n"
     ]
    },
    {
     "name": "stderr",
     "output_type": "stream",
     "text": [
      "/home/ngo/anaconda3/lib/python3.12/site-packages/whisper/transcribe.py:126: UserWarning: FP16 is not supported on CPU; using FP32 instead\n",
      "  warnings.warn(\"FP16 is not supported on CPU; using FP32 instead\")\n"
     ]
    },
    {
     "name": "stdout",
     "output_type": "stream",
     "text": [
      "reference_text - predicted_text: chúng ta không thể mua cái nào ở nhật bản - chúng ta không sẵn mùi cách nào như vậy.\n",
      "Processing: FPTOpenSpeechData_Set001_V0.1_000031.mp3\n"
     ]
    },
    {
     "name": "stderr",
     "output_type": "stream",
     "text": [
      "/home/ngo/anaconda3/lib/python3.12/site-packages/whisper/transcribe.py:126: UserWarning: FP16 is not supported on CPU; using FP32 instead\n",
      "  warnings.warn(\"FP16 is not supported on CPU; using FP32 instead\")\n"
     ]
    },
    {
     "name": "stdout",
     "output_type": "stream",
     "text": [
      "reference_text - predicted_text: cho vừa với số kinh phí hạn hẹp của một bộ phim - chào tạm biệt.\n",
      "Processing: FPTOpenSpeechData_Set001_V0.1_000032.mp3\n"
     ]
    },
    {
     "name": "stderr",
     "output_type": "stream",
     "text": [
      "/home/ngo/anaconda3/lib/python3.12/site-packages/whisper/transcribe.py:126: UserWarning: FP16 is not supported on CPU; using FP32 instead\n",
      "  warnings.warn(\"FP16 is not supported on CPU; using FP32 instead\")\n"
     ]
    },
    {
     "name": "stdout",
     "output_type": "stream",
     "text": [
      "reference_text - predicted_text: kịch sến nhiều tập làm tôi oải quá tôi sẽ tắt tv - thực sớm nhiều tập được hoài quá, tôi sẽ cắt miếng lấy.\n",
      "Processing: FPTOpenSpeechData_Set001_V0.1_000033.mp3\n"
     ]
    },
    {
     "name": "stderr",
     "output_type": "stream",
     "text": [
      "/home/ngo/anaconda3/lib/python3.12/site-packages/whisper/transcribe.py:126: UserWarning: FP16 is not supported on CPU; using FP32 instead\n",
      "  warnings.warn(\"FP16 is not supported on CPU; using FP32 instead\")\n"
     ]
    },
    {
     "name": "stdout",
     "output_type": "stream",
     "text": [
      "reference_text - predicted_text: chính vì thế những người phải sống một thời gian dài trong không gian có thể gặp rủi ro - chính vì thế, những người phải sống một thời gian dài trong không gian có thể là tùy cho.\n",
      "Processing: FPTOpenSpeechData_Set001_V0.1_000034.mp3\n"
     ]
    },
    {
     "name": "stderr",
     "output_type": "stream",
     "text": [
      "/home/ngo/anaconda3/lib/python3.12/site-packages/whisper/transcribe.py:126: UserWarning: FP16 is not supported on CPU; using FP32 instead\n",
      "  warnings.warn(\"FP16 is not supported on CPU; using FP32 instead\")\n"
     ]
    },
    {
     "name": "stdout",
     "output_type": "stream",
     "text": [
      "reference_text - predicted_text: thực ra thà không đến nỗi mơ mộng đến mê muội để chẳng hiểu tấm lòng của những người thân thông qua lời khuyên nhủ - rát thà không đến nỗi mơ mộng đến mê mùi đánh giữa thấm và buồn những người không có quả thương nữa\n",
      "Processing: FPTOpenSpeechData_Set001_V0.1_000035.mp3\n"
     ]
    },
    {
     "name": "stderr",
     "output_type": "stream",
     "text": [
      "/home/ngo/anaconda3/lib/python3.12/site-packages/whisper/transcribe.py:126: UserWarning: FP16 is not supported on CPU; using FP32 instead\n",
      "  warnings.warn(\"FP16 is not supported on CPU; using FP32 instead\")\n"
     ]
    },
    {
     "name": "stdout",
     "output_type": "stream",
     "text": [
      "reference_text - predicted_text: bán đấu giá mỹ nữ - bác đồng giá đi được.\n",
      "Processing: FPTOpenSpeechData_Set001_V0.1_000036.mp3\n"
     ]
    },
    {
     "name": "stderr",
     "output_type": "stream",
     "text": [
      "/home/ngo/anaconda3/lib/python3.12/site-packages/whisper/transcribe.py:126: UserWarning: FP16 is not supported on CPU; using FP32 instead\n",
      "  warnings.warn(\"FP16 is not supported on CPU; using FP32 instead\")\n"
     ]
    },
    {
     "name": "stdout",
     "output_type": "stream",
     "text": [
      "reference_text - predicted_text: địa chỉ email của tôi là s t e f a n dot m a r t e n s \\r\\n @ gmx dot de - đi ký email của tôi là\n",
      "Processing: FPTOpenSpeechData_Set001_V0.1_000037.mp3\n"
     ]
    },
    {
     "name": "stderr",
     "output_type": "stream",
     "text": [
      "/home/ngo/anaconda3/lib/python3.12/site-packages/whisper/transcribe.py:126: UserWarning: FP16 is not supported on CPU; using FP32 instead\n",
      "  warnings.warn(\"FP16 is not supported on CPU; using FP32 instead\")\n"
     ]
    },
    {
     "name": "stdout",
     "output_type": "stream",
     "text": [
      "reference_text - predicted_text: hôm thứ năm ủy ban bầu cử thái lan cho rằng đảng của người thái yêu người thái đã phạm hai luật trong chiến dịch tranh cử vừa qua - chào tạm biệt và hẹn gặp lại.\n",
      "Processing: FPTOpenSpeechData_Set001_V0.1_000038.mp3\n"
     ]
    },
    {
     "name": "stderr",
     "output_type": "stream",
     "text": [
      "/home/ngo/anaconda3/lib/python3.12/site-packages/whisper/transcribe.py:126: UserWarning: FP16 is not supported on CPU; using FP32 instead\n",
      "  warnings.warn(\"FP16 is not supported on CPU; using FP32 instead\")\n"
     ]
    },
    {
     "name": "stdout",
     "output_type": "stream",
     "text": [
      "reference_text - predicted_text: không thể xem lần vấp ngã ấy là tai - chúng tôi xem chẳng có gì.\n",
      "Processing: FPTOpenSpeechData_Set001_V0.1_000039.mp3\n"
     ]
    },
    {
     "name": "stderr",
     "output_type": "stream",
     "text": [
      "/home/ngo/anaconda3/lib/python3.12/site-packages/whisper/transcribe.py:126: UserWarning: FP16 is not supported on CPU; using FP32 instead\n",
      "  warnings.warn(\"FP16 is not supported on CPU; using FP32 instead\")\n"
     ]
    },
    {
     "name": "stdout",
     "output_type": "stream",
     "text": [
      "reference_text - predicted_text: cướp bóc trong khi hỏa hoạn - học tập tiêu thảo khác.\n",
      "Processing: FPTOpenSpeechData_Set001_V0.1_000040.mp3\n"
     ]
    },
    {
     "name": "stderr",
     "output_type": "stream",
     "text": [
      "/home/ngo/anaconda3/lib/python3.12/site-packages/whisper/transcribe.py:126: UserWarning: FP16 is not supported on CPU; using FP32 instead\n",
      "  warnings.warn(\"FP16 is not supported on CPU; using FP32 instead\")\n"
     ]
    },
    {
     "name": "stdout",
     "output_type": "stream",
     "text": [
      "reference_text - predicted_text: một dân tộc từng không có người từ á sang âu -n - cảm ơn các bạn đã theo dõi và hẹn gặp lại.\n",
      "Processing: FPTOpenSpeechData_Set001_V0.1_000041.mp3\n"
     ]
    },
    {
     "name": "stderr",
     "output_type": "stream",
     "text": [
      "/home/ngo/anaconda3/lib/python3.12/site-packages/whisper/transcribe.py:126: UserWarning: FP16 is not supported on CPU; using FP32 instead\n",
      "  warnings.warn(\"FP16 is not supported on CPU; using FP32 instead\")\n"
     ]
    },
    {
     "name": "stdout",
     "output_type": "stream",
     "text": [
      "reference_text - predicted_text: tết đầu tiên xa việt nam của cháu quả là ý nghĩa - tết đầu tiên sang việt nam của cháu quả ai ý nghĩa?\n",
      "Processing: FPTOpenSpeechData_Set001_V0.1_000042.mp3\n"
     ]
    },
    {
     "name": "stderr",
     "output_type": "stream",
     "text": [
      "/home/ngo/anaconda3/lib/python3.12/site-packages/whisper/transcribe.py:126: UserWarning: FP16 is not supported on CPU; using FP32 instead\n",
      "  warnings.warn(\"FP16 is not supported on CPU; using FP32 instead\")\n"
     ]
    },
    {
     "name": "stdout",
     "output_type": "stream",
     "text": [
      "reference_text - predicted_text: trong làng ai cũng quý mến gia đình anh phú - trong là hai cụm miếng ngón gia đình thăng cuốn.\n",
      "Processing: FPTOpenSpeechData_Set001_V0.1_000043.mp3\n"
     ]
    },
    {
     "name": "stderr",
     "output_type": "stream",
     "text": [
      "/home/ngo/anaconda3/lib/python3.12/site-packages/whisper/transcribe.py:126: UserWarning: FP16 is not supported on CPU; using FP32 instead\n",
      "  warnings.warn(\"FP16 is not supported on CPU; using FP32 instead\")\n"
     ]
    },
    {
     "name": "stdout",
     "output_type": "stream",
     "text": [
      "reference_text - predicted_text: xin chào gia đình tanaka - chào tạm biệt các bạn.\n",
      "Processing: FPTOpenSpeechData_Set001_V0.1_000044.mp3\n"
     ]
    },
    {
     "name": "stderr",
     "output_type": "stream",
     "text": [
      "/home/ngo/anaconda3/lib/python3.12/site-packages/whisper/transcribe.py:126: UserWarning: FP16 is not supported on CPU; using FP32 instead\n",
      "  warnings.warn(\"FP16 is not supported on CPU; using FP32 instead\")\n"
     ]
    },
    {
     "name": "stdout",
     "output_type": "stream",
     "text": [
      "reference_text - predicted_text: anh đã làm rất tệ - chào tạm biệt.\n",
      "Processing: FPTOpenSpeechData_Set001_V0.1_000045.mp3\n"
     ]
    },
    {
     "name": "stderr",
     "output_type": "stream",
     "text": [
      "/home/ngo/anaconda3/lib/python3.12/site-packages/whisper/transcribe.py:126: UserWarning: FP16 is not supported on CPU; using FP32 instead\n",
      "  warnings.warn(\"FP16 is not supported on CPU; using FP32 instead\")\n"
     ]
    },
    {
     "name": "stdout",
     "output_type": "stream",
     "text": [
      "reference_text - predicted_text: cô ta nghi ngờ lúc mình say rượu đã bị toán cưỡng bức - hãy subscribe cho kênh ghiền mì gõ để không bỏ lỡ những video hấp dẫn\n",
      "Processing: FPTOpenSpeechData_Set001_V0.1_000046.mp3\n"
     ]
    },
    {
     "name": "stderr",
     "output_type": "stream",
     "text": [
      "/home/ngo/anaconda3/lib/python3.12/site-packages/whisper/transcribe.py:126: UserWarning: FP16 is not supported on CPU; using FP32 instead\n",
      "  warnings.warn(\"FP16 is not supported on CPU; using FP32 instead\")\n"
     ]
    },
    {
     "name": "stdout",
     "output_type": "stream",
     "text": [
      "reference_text - predicted_text: ông muốn nhãn hiệu bia nào - cảm ơn các bạn đã theo dõi và hẹn gặp lại.\n",
      "Processing: FPTOpenSpeechData_Set001_V0.1_000047.mp3\n"
     ]
    },
    {
     "name": "stderr",
     "output_type": "stream",
     "text": [
      "/home/ngo/anaconda3/lib/python3.12/site-packages/whisper/transcribe.py:126: UserWarning: FP16 is not supported on CPU; using FP32 instead\n",
      "  warnings.warn(\"FP16 is not supported on CPU; using FP32 instead\")\n"
     ]
    },
    {
     "name": "stdout",
     "output_type": "stream",
     "text": [
      "reference_text - predicted_text: anh có dừng tại khách sạn begin không - anh có dừng lại dạng điên không?\n",
      "Processing: FPTOpenSpeechData_Set001_V0.1_000048.mp3\n"
     ]
    },
    {
     "name": "stderr",
     "output_type": "stream",
     "text": [
      "/home/ngo/anaconda3/lib/python3.12/site-packages/whisper/transcribe.py:126: UserWarning: FP16 is not supported on CPU; using FP32 instead\n",
      "  warnings.warn(\"FP16 is not supported on CPU; using FP32 instead\")\n"
     ]
    },
    {
     "name": "stdout",
     "output_type": "stream",
     "text": [
      "reference_text - predicted_text: bật điều hòa nhiệt độ - học viên hoài nghi bảo.\n",
      "Processing: FPTOpenSpeechData_Set001_V0.1_000049.mp3\n"
     ]
    },
    {
     "name": "stderr",
     "output_type": "stream",
     "text": [
      "/home/ngo/anaconda3/lib/python3.12/site-packages/whisper/transcribe.py:126: UserWarning: FP16 is not supported on CPU; using FP32 instead\n",
      "  warnings.warn(\"FP16 is not supported on CPU; using FP32 instead\")\n"
     ]
    },
    {
     "name": "stdout",
     "output_type": "stream",
     "text": [
      "reference_text - predicted_text: nhiều chàng trai để ý và theo dõi bạn - nhìn chàng trai để ấy ra theo gỡ cả.\n",
      "Processing: FPTOpenSpeechData_Set001_V0.1_000050.mp3\n"
     ]
    },
    {
     "name": "stderr",
     "output_type": "stream",
     "text": [
      "/home/ngo/anaconda3/lib/python3.12/site-packages/whisper/transcribe.py:126: UserWarning: FP16 is not supported on CPU; using FP32 instead\n",
      "  warnings.warn(\"FP16 is not supported on CPU; using FP32 instead\")\n"
     ]
    },
    {
     "name": "stdout",
     "output_type": "stream",
     "text": [
      "reference_text - predicted_text: chúng ta hãy tung một đồng tiền để quyết định - cảm ơn các bạn.\n",
      "Processing: FPTOpenSpeechData_Set001_V0.1_000051.mp3\n"
     ]
    },
    {
     "name": "stderr",
     "output_type": "stream",
     "text": [
      "/home/ngo/anaconda3/lib/python3.12/site-packages/whisper/transcribe.py:126: UserWarning: FP16 is not supported on CPU; using FP32 instead\n",
      "  warnings.warn(\"FP16 is not supported on CPU; using FP32 instead\")\n"
     ]
    },
    {
     "name": "stdout",
     "output_type": "stream",
     "text": [
      "reference_text - predicted_text: tôi nghe đĩa cd này được không - các bạn có thể nhớ like và share video này để ủng hộ kênh của mình nhé.\n",
      "Processing: FPTOpenSpeechData_Set001_V0.1_000052.mp3\n"
     ]
    },
    {
     "name": "stderr",
     "output_type": "stream",
     "text": [
      "/home/ngo/anaconda3/lib/python3.12/site-packages/whisper/transcribe.py:126: UserWarning: FP16 is not supported on CPU; using FP32 instead\n",
      "  warnings.warn(\"FP16 is not supported on CPU; using FP32 instead\")\n"
     ]
    },
    {
     "name": "stdout",
     "output_type": "stream",
     "text": [
      "reference_text - predicted_text: nguyễn văn vũ vừa tử nạn vì hỗ trợ đuổi bắt tội phạm ngày mười ba tháng một công an xã cẩm trạch huyện cần cẩu cho biết một người lái xe khách hai bảy tuổi đã tử nạn khi giúp một phụ nữ bị bảy tên khống chế cướp tài sản - hãy subscribe cho kênh ghiền mì gõ để không bỏ lỡ những video hấp dẫn\n",
      "Processing: FPTOpenSpeechData_Set001_V0.1_000053.mp3\n"
     ]
    },
    {
     "name": "stderr",
     "output_type": "stream",
     "text": [
      "/home/ngo/anaconda3/lib/python3.12/site-packages/whisper/transcribe.py:126: UserWarning: FP16 is not supported on CPU; using FP32 instead\n",
      "  warnings.warn(\"FP16 is not supported on CPU; using FP32 instead\")\n"
     ]
    },
    {
     "name": "stdout",
     "output_type": "stream",
     "text": [
      "reference_text - predicted_text: hai con voi này rất hung dữ và phá nát nhiều hoa màu của người dân trong khu vực - hai con voi này rất hôn dữ và bán áp nhiều hoa màu của người dân trong khu vực.\n",
      "Processing: FPTOpenSpeechData_Set001_V0.1_000054.mp3\n"
     ]
    },
    {
     "name": "stderr",
     "output_type": "stream",
     "text": [
      "/home/ngo/anaconda3/lib/python3.12/site-packages/whisper/transcribe.py:126: UserWarning: FP16 is not supported on CPU; using FP32 instead\n",
      "  warnings.warn(\"FP16 is not supported on CPU; using FP32 instead\")\n"
     ]
    },
    {
     "name": "stdout",
     "output_type": "stream",
     "text": [
      "reference_text - predicted_text: anh có bị đau do mệt mỏi không - anh có bị đau đô nguyệt không?\n",
      "Processing: FPTOpenSpeechData_Set001_V0.1_000055.mp3\n"
     ]
    },
    {
     "name": "stderr",
     "output_type": "stream",
     "text": [
      "/home/ngo/anaconda3/lib/python3.12/site-packages/whisper/transcribe.py:126: UserWarning: FP16 is not supported on CPU; using FP32 instead\n",
      "  warnings.warn(\"FP16 is not supported on CPU; using FP32 instead\")\n"
     ]
    },
    {
     "name": "stdout",
     "output_type": "stream",
     "text": [
      "reference_text - predicted_text: bạn có muốn tôi dịch cái này cho bạn không tôi nói tiếng nhật - bản gọi của tôi thì cách này cho bạn bầu, tôi đã tự nhập.\n",
      "Processing: FPTOpenSpeechData_Set001_V0.1_000056.mp3\n"
     ]
    },
    {
     "name": "stderr",
     "output_type": "stream",
     "text": [
      "/home/ngo/anaconda3/lib/python3.12/site-packages/whisper/transcribe.py:126: UserWarning: FP16 is not supported on CPU; using FP32 instead\n",
      "  warnings.warn(\"FP16 is not supported on CPU; using FP32 instead\")\n"
     ]
    },
    {
     "name": "stdout",
     "output_type": "stream",
     "text": [
      "reference_text - predicted_text: vâng giá sẽ là ba trăm yên - còn giá trả là 80.000.\n",
      "Processing: FPTOpenSpeechData_Set001_V0.1_000057.mp3\n"
     ]
    },
    {
     "name": "stderr",
     "output_type": "stream",
     "text": [
      "/home/ngo/anaconda3/lib/python3.12/site-packages/whisper/transcribe.py:126: UserWarning: FP16 is not supported on CPU; using FP32 instead\n",
      "  warnings.warn(\"FP16 is not supported on CPU; using FP32 instead\")\n"
     ]
    },
    {
     "name": "stdout",
     "output_type": "stream",
     "text": [
      "reference_text - predicted_text: và như thế những điều tốt đẹp - và như thế thì...\n",
      "Processing: FPTOpenSpeechData_Set001_V0.1_000058.mp3\n"
     ]
    },
    {
     "name": "stderr",
     "output_type": "stream",
     "text": [
      "/home/ngo/anaconda3/lib/python3.12/site-packages/whisper/transcribe.py:126: UserWarning: FP16 is not supported on CPU; using FP32 instead\n",
      "  warnings.warn(\"FP16 is not supported on CPU; using FP32 instead\")\n"
     ]
    },
    {
     "name": "stdout",
     "output_type": "stream",
     "text": [
      "reference_text - predicted_text: tăng nhiệt độ lên hai mươi mốt độ - các vị thợ lên 21 độ.\n",
      "Processing: FPTOpenSpeechData_Set001_V0.1_000059.mp3\n"
     ]
    },
    {
     "name": "stderr",
     "output_type": "stream",
     "text": [
      "/home/ngo/anaconda3/lib/python3.12/site-packages/whisper/transcribe.py:126: UserWarning: FP16 is not supported on CPU; using FP32 instead\n",
      "  warnings.warn(\"FP16 is not supported on CPU; using FP32 instead\")\n"
     ]
    },
    {
     "name": "stdout",
     "output_type": "stream",
     "text": [
      "reference_text - predicted_text: -n ở sheraton - cảm ơn các bạn đã theo dõi và hẹn gặp lại.\n",
      "Processing: FPTOpenSpeechData_Set001_V0.1_000060.mp3\n"
     ]
    },
    {
     "name": "stderr",
     "output_type": "stream",
     "text": [
      "/home/ngo/anaconda3/lib/python3.12/site-packages/whisper/transcribe.py:126: UserWarning: FP16 is not supported on CPU; using FP32 instead\n",
      "  warnings.warn(\"FP16 is not supported on CPU; using FP32 instead\")\n"
     ]
    },
    {
     "name": "stdout",
     "output_type": "stream",
     "text": [
      "reference_text - predicted_text: tốt hơn là tôi nên đi bây giờ - \n",
      "Processing: FPTOpenSpeechData_Set001_V0.1_000061.mp3\n"
     ]
    },
    {
     "name": "stderr",
     "output_type": "stream",
     "text": [
      "/home/ngo/anaconda3/lib/python3.12/site-packages/whisper/transcribe.py:126: UserWarning: FP16 is not supported on CPU; using FP32 instead\n",
      "  warnings.warn(\"FP16 is not supported on CPU; using FP32 instead\")\n"
     ]
    },
    {
     "name": "stdout",
     "output_type": "stream",
     "text": [
      "reference_text - predicted_text: kỳ tích có thể để lại quyền lực bởi một nhà độc tài dầu mỏ nhưng cũng có thể giúp thể chế hóa những phong trào chống mỹ diễn ra tại khu vực trung đông - chính thức có thể đề lạc trường lực với một nhà đại tài dầu mạc, nhưng cũng có thể giúp thể thuyền hóa những thông thảo của những nhân gia tại khu vực vinh đông.\n",
      "Processing: FPTOpenSpeechData_Set001_V0.1_000062.mp3\n"
     ]
    },
    {
     "name": "stderr",
     "output_type": "stream",
     "text": [
      "/home/ngo/anaconda3/lib/python3.12/site-packages/whisper/transcribe.py:126: UserWarning: FP16 is not supported on CPU; using FP32 instead\n",
      "  warnings.warn(\"FP16 is not supported on CPU; using FP32 instead\")\n"
     ]
    },
    {
     "name": "stdout",
     "output_type": "stream",
     "text": [
      "reference_text - predicted_text: lãnh đạo ngành ô tô mỹ nên từ chức - mà là khó khăn. ô tô bị ra tử.\n",
      "Processing: FPTOpenSpeechData_Set001_V0.1_000063.mp3\n"
     ]
    },
    {
     "name": "stderr",
     "output_type": "stream",
     "text": [
      "/home/ngo/anaconda3/lib/python3.12/site-packages/whisper/transcribe.py:126: UserWarning: FP16 is not supported on CPU; using FP32 instead\n",
      "  warnings.warn(\"FP16 is not supported on CPU; using FP32 instead\")\n"
     ]
    },
    {
     "name": "stdout",
     "output_type": "stream",
     "text": [
      "reference_text - predicted_text: cô ấy biết - hãy subscribe cho kênh ghiền mì gõ để không bỏ lỡ những video hấp dẫn\n",
      "Processing: FPTOpenSpeechData_Set001_V0.1_000064.mp3\n"
     ]
    },
    {
     "name": "stderr",
     "output_type": "stream",
     "text": [
      "/home/ngo/anaconda3/lib/python3.12/site-packages/whisper/transcribe.py:126: UserWarning: FP16 is not supported on CPU; using FP32 instead\n",
      "  warnings.warn(\"FP16 is not supported on CPU; using FP32 instead\")\n"
     ]
    },
    {
     "name": "stdout",
     "output_type": "stream",
     "text": [
      "reference_text - predicted_text: từng sợi thương li ti kết lại - sơn chạy luôn lý tí đó này.\n",
      "Processing: FPTOpenSpeechData_Set001_V0.1_000065.mp3\n"
     ]
    },
    {
     "name": "stderr",
     "output_type": "stream",
     "text": [
      "/home/ngo/anaconda3/lib/python3.12/site-packages/whisper/transcribe.py:126: UserWarning: FP16 is not supported on CPU; using FP32 instead\n",
      "  warnings.warn(\"FP16 is not supported on CPU; using FP32 instead\")\n"
     ]
    },
    {
     "name": "stdout",
     "output_type": "stream",
     "text": [
      "reference_text - predicted_text: mồ hôi là một trong những phương tiện để cơ thể thải cặn bã ra ngoài - bồ hôi là một trong những công việc để cơ thể khả cặp đã đá hoàng.\n",
      "Processing: FPTOpenSpeechData_Set001_V0.1_000066.mp3\n"
     ]
    },
    {
     "name": "stderr",
     "output_type": "stream",
     "text": [
      "/home/ngo/anaconda3/lib/python3.12/site-packages/whisper/transcribe.py:126: UserWarning: FP16 is not supported on CPU; using FP32 instead\n",
      "  warnings.warn(\"FP16 is not supported on CPU; using FP32 instead\")\n"
     ]
    },
    {
     "name": "stdout",
     "output_type": "stream",
     "text": [
      "reference_text - predicted_text: ti vi k+ một - hãy subscribe cho kênh ghiền mì gõ để không bỏ lỡ những video hấp dẫn\n",
      "Processing: FPTOpenSpeechData_Set001_V0.1_000067.mp3\n"
     ]
    },
    {
     "name": "stderr",
     "output_type": "stream",
     "text": [
      "/home/ngo/anaconda3/lib/python3.12/site-packages/whisper/transcribe.py:126: UserWarning: FP16 is not supported on CPU; using FP32 instead\n",
      "  warnings.warn(\"FP16 is not supported on CPU; using FP32 instead\")\n"
     ]
    },
    {
     "name": "stdout",
     "output_type": "stream",
     "text": [
      "reference_text - predicted_text: hiện nay mỗi khi chào hàng các lò rang hạt dưa như tứ hưng duy ký thiên hương - hiện nay mỗi khi vào hàng các loại đang mặc dư như tử, như thân, như tỉ, như thương.\n",
      "Processing: FPTOpenSpeechData_Set001_V0.1_000068.mp3\n"
     ]
    },
    {
     "name": "stderr",
     "output_type": "stream",
     "text": [
      "/home/ngo/anaconda3/lib/python3.12/site-packages/whisper/transcribe.py:126: UserWarning: FP16 is not supported on CPU; using FP32 instead\n",
      "  warnings.warn(\"FP16 is not supported on CPU; using FP32 instead\")\n"
     ]
    },
    {
     "name": "stdout",
     "output_type": "stream",
     "text": [
      "reference_text - predicted_text: vì không biết nhìn xa trông rộng và vì niềm tin sắt đá rằng rồi mọi việc sẽ êm xuôi - \n",
      "Processing: FPTOpenSpeechData_Set001_V0.1_000069.mp3\n"
     ]
    },
    {
     "name": "stderr",
     "output_type": "stream",
     "text": [
      "/home/ngo/anaconda3/lib/python3.12/site-packages/whisper/transcribe.py:126: UserWarning: FP16 is not supported on CPU; using FP32 instead\n",
      "  warnings.warn(\"FP16 is not supported on CPU; using FP32 instead\")\n"
     ]
    },
    {
     "name": "stdout",
     "output_type": "stream",
     "text": [
      "reference_text - predicted_text: nhờ có chúa - nhưng có thua.\n",
      "Processing: FPTOpenSpeechData_Set001_V0.1_000070.mp3\n"
     ]
    },
    {
     "name": "stderr",
     "output_type": "stream",
     "text": [
      "/home/ngo/anaconda3/lib/python3.12/site-packages/whisper/transcribe.py:126: UserWarning: FP16 is not supported on CPU; using FP32 instead\n",
      "  warnings.warn(\"FP16 is not supported on CPU; using FP32 instead\")\n"
     ]
    },
    {
     "name": "stdout",
     "output_type": "stream",
     "text": [
      "reference_text - predicted_text: xe chú rể lăn xuống vực sau tiệc cưới - ché xé, áp tức chắc kết luận.\n",
      "Processing: FPTOpenSpeechData_Set001_V0.1_000071.mp3\n"
     ]
    },
    {
     "name": "stderr",
     "output_type": "stream",
     "text": [
      "/home/ngo/anaconda3/lib/python3.12/site-packages/whisper/transcribe.py:126: UserWarning: FP16 is not supported on CPU; using FP32 instead\n",
      "  warnings.warn(\"FP16 is not supported on CPU; using FP32 instead\")\n"
     ]
    },
    {
     "name": "stdout",
     "output_type": "stream",
     "text": [
      "reference_text - predicted_text: rồi anh đi một chuyến đến khu vực vỉa san hô và thăm viện bảo tàng úc anh có thể tìm hiểu nhiều về nước úc anh cũng có thể có một món quà đẹp tại cảng darling nếu anh muốn mua vài đồ lưu niệm có rất nhiều đồ vật và phụ kiện anh có thể muốn mua - rồi anh đi một miếng tế phục vừa ra ngô và thăm thêm cả đám ốc. anh có thể tìm hiểu nhiều về nước. anh cũng có thể có một đón quà kè tài tài. tài linh nếu anh muốn mua vài đồ nước miệng. có rất nhiều đồ mặt bạc để anh có thể mua.\n",
      "Processing: FPTOpenSpeechData_Set001_V0.1_000072.mp3\n"
     ]
    },
    {
     "name": "stderr",
     "output_type": "stream",
     "text": [
      "/home/ngo/anaconda3/lib/python3.12/site-packages/whisper/transcribe.py:126: UserWarning: FP16 is not supported on CPU; using FP32 instead\n",
      "  warnings.warn(\"FP16 is not supported on CPU; using FP32 instead\")\n"
     ]
    },
    {
     "name": "stdout",
     "output_type": "stream",
     "text": [
      "reference_text - predicted_text: đó là chưa kể các thủ đoạn chính trị xã hội khác - đó là chư trị các hữu lợi chính trị phạm hồ pháp.\n",
      "Processing: FPTOpenSpeechData_Set001_V0.1_000073.mp3\n"
     ]
    },
    {
     "name": "stderr",
     "output_type": "stream",
     "text": [
      "/home/ngo/anaconda3/lib/python3.12/site-packages/whisper/transcribe.py:126: UserWarning: FP16 is not supported on CPU; using FP32 instead\n",
      "  warnings.warn(\"FP16 is not supported on CPU; using FP32 instead\")\n"
     ]
    },
    {
     "name": "stdout",
     "output_type": "stream",
     "text": [
      "reference_text - predicted_text: tôi có vẽ một chút - tôi có thể nghe thiếu.\n",
      "Processing: FPTOpenSpeechData_Set001_V0.1_000074.mp3\n"
     ]
    },
    {
     "name": "stderr",
     "output_type": "stream",
     "text": [
      "/home/ngo/anaconda3/lib/python3.12/site-packages/whisper/transcribe.py:126: UserWarning: FP16 is not supported on CPU; using FP32 instead\n",
      "  warnings.warn(\"FP16 is not supported on CPU; using FP32 instead\")\n"
     ]
    },
    {
     "name": "stdout",
     "output_type": "stream",
     "text": [
      "reference_text - predicted_text: cho tôi mẫu thử được không - cảm ơn các bạn đã theo dõi và hẹn gặp lại.\n",
      "Processing: FPTOpenSpeechData_Set001_V0.1_000075.mp3\n"
     ]
    },
    {
     "name": "stderr",
     "output_type": "stream",
     "text": [
      "/home/ngo/anaconda3/lib/python3.12/site-packages/whisper/transcribe.py:126: UserWarning: FP16 is not supported on CPU; using FP32 instead\n",
      "  warnings.warn(\"FP16 is not supported on CPU; using FP32 instead\")\n"
     ]
    },
    {
     "name": "stdout",
     "output_type": "stream",
     "text": [
      "reference_text - predicted_text: tôi có ba con gái - hãy subscribe cho kênh ghiền mì gõ để không bỏ lỡ những video hấp dẫn\n",
      "Processing: FPTOpenSpeechData_Set001_V0.1_000076.mp3\n"
     ]
    },
    {
     "name": "stderr",
     "output_type": "stream",
     "text": [
      "/home/ngo/anaconda3/lib/python3.12/site-packages/whisper/transcribe.py:126: UserWarning: FP16 is not supported on CPU; using FP32 instead\n",
      "  warnings.warn(\"FP16 is not supported on CPU; using FP32 instead\")\n"
     ]
    },
    {
     "name": "stdout",
     "output_type": "stream",
     "text": [
      "reference_text - predicted_text: tôi sẽ ở lại đây - tôi sẽ lại đánh.\n",
      "Processing: FPTOpenSpeechData_Set001_V0.1_000077.mp3\n"
     ]
    },
    {
     "name": "stderr",
     "output_type": "stream",
     "text": [
      "/home/ngo/anaconda3/lib/python3.12/site-packages/whisper/transcribe.py:126: UserWarning: FP16 is not supported on CPU; using FP32 instead\n",
      "  warnings.warn(\"FP16 is not supported on CPU; using FP32 instead\")\n"
     ]
    },
    {
     "name": "stdout",
     "output_type": "stream",
     "text": [
      "reference_text - predicted_text: người ta cho rằng số khúc gỗ ở dưới đáy bị dính nước bẩn ít thì kỳ kinh sẽ ngắn - hãy đăng ký kênh để nhận thêm nhiều video mới nhé.\n",
      "Processing: FPTOpenSpeechData_Set001_V0.1_000078.mp3\n"
     ]
    },
    {
     "name": "stderr",
     "output_type": "stream",
     "text": [
      "/home/ngo/anaconda3/lib/python3.12/site-packages/whisper/transcribe.py:126: UserWarning: FP16 is not supported on CPU; using FP32 instead\n",
      "  warnings.warn(\"FP16 is not supported on CPU; using FP32 instead\")\n"
     ]
    },
    {
     "name": "stdout",
     "output_type": "stream",
     "text": [
      "reference_text - predicted_text: không một nơi nào lãng mạn và thơ mộng hơn những khu hồ hoang - không một nơi nào lãng mạn và thơ mộng hơn những ưu hộ hoá.\n",
      "Processing: FPTOpenSpeechData_Set001_V0.1_000079.mp3\n"
     ]
    },
    {
     "name": "stderr",
     "output_type": "stream",
     "text": [
      "/home/ngo/anaconda3/lib/python3.12/site-packages/whisper/transcribe.py:126: UserWarning: FP16 is not supported on CPU; using FP32 instead\n",
      "  warnings.warn(\"FP16 is not supported on CPU; using FP32 instead\")\n"
     ]
    },
    {
     "name": "stdout",
     "output_type": "stream",
     "text": [
      "reference_text - predicted_text: bị hại kháng cáo vì cho rằng các cơ quan tố tụng ở huyện hương khê bỏ lọt người sót tội - hãy subscribe cho kênh la la school để không bỏ lỡ những video hấp dẫn\n",
      "Processing: FPTOpenSpeechData_Set001_V0.1_000080.mp3\n"
     ]
    },
    {
     "name": "stderr",
     "output_type": "stream",
     "text": [
      "/home/ngo/anaconda3/lib/python3.12/site-packages/whisper/transcribe.py:126: UserWarning: FP16 is not supported on CPU; using FP32 instead\n",
      "  warnings.warn(\"FP16 is not supported on CPU; using FP32 instead\")\n"
     ]
    },
    {
     "name": "stdout",
     "output_type": "stream",
     "text": [
      "reference_text - predicted_text: cuối cùng họ sẽ phải gõ cửa nhờ ông ấy - cảm ơn các bạn đã theo dõi và hẹn gặp lại.\n",
      "Processing: FPTOpenSpeechData_Set001_V0.1_000081.mp3\n"
     ]
    },
    {
     "name": "stderr",
     "output_type": "stream",
     "text": [
      "/home/ngo/anaconda3/lib/python3.12/site-packages/whisper/transcribe.py:126: UserWarning: FP16 is not supported on CPU; using FP32 instead\n",
      "  warnings.warn(\"FP16 is not supported on CPU; using FP32 instead\")\n"
     ]
    },
    {
     "name": "stdout",
     "output_type": "stream",
     "text": [
      "reference_text - predicted_text: cái giá của một anh hùng - cả giá cũng một ảnh hưởng.\n",
      "Processing: FPTOpenSpeechData_Set001_V0.1_000082.mp3\n"
     ]
    },
    {
     "name": "stderr",
     "output_type": "stream",
     "text": [
      "/home/ngo/anaconda3/lib/python3.12/site-packages/whisper/transcribe.py:126: UserWarning: FP16 is not supported on CPU; using FP32 instead\n",
      "  warnings.warn(\"FP16 is not supported on CPU; using FP32 instead\")\n"
     ]
    },
    {
     "name": "stdout",
     "output_type": "stream",
     "text": [
      "reference_text - predicted_text: bản sao tấm séc khoản tiền vợ chồng nguyễn nhận được - cảm ơn các bạn đã theo dõi và hẹn gặp lại.\n",
      "Processing: FPTOpenSpeechData_Set001_V0.1_000083.mp3\n"
     ]
    },
    {
     "name": "stderr",
     "output_type": "stream",
     "text": [
      "/home/ngo/anaconda3/lib/python3.12/site-packages/whisper/transcribe.py:126: UserWarning: FP16 is not supported on CPU; using FP32 instead\n",
      "  warnings.warn(\"FP16 is not supported on CPU; using FP32 instead\")\n"
     ]
    },
    {
     "name": "stdout",
     "output_type": "stream",
     "text": [
      "reference_text - predicted_text: nhằm thu hút thêm nhiều nhà đầu tư - nhằm thu hút thêm nhiều nhà đầu tư.\n",
      "Processing: FPTOpenSpeechData_Set001_V0.1_000084.mp3\n"
     ]
    },
    {
     "name": "stderr",
     "output_type": "stream",
     "text": [
      "/home/ngo/anaconda3/lib/python3.12/site-packages/whisper/transcribe.py:126: UserWarning: FP16 is not supported on CPU; using FP32 instead\n",
      "  warnings.warn(\"FP16 is not supported on CPU; using FP32 instead\")\n"
     ]
    },
    {
     "name": "stdout",
     "output_type": "stream",
     "text": [
      "reference_text - predicted_text: vui lòng cho ba vé khứ hồi hạng hai - hãy subscribe cho kênh ghiền mì gõ để không bỏ lỡ những video hấp dẫn\n",
      "Processing: FPTOpenSpeechData_Set001_V0.1_000085.mp3\n"
     ]
    },
    {
     "name": "stderr",
     "output_type": "stream",
     "text": [
      "/home/ngo/anaconda3/lib/python3.12/site-packages/whisper/transcribe.py:126: UserWarning: FP16 is not supported on CPU; using FP32 instead\n",
      "  warnings.warn(\"FP16 is not supported on CPU; using FP32 instead\")\n"
     ]
    },
    {
     "name": "stdout",
     "output_type": "stream",
     "text": [
      "reference_text - predicted_text: anh cần một con tem một đô la ba mươi cent - anh thầm quân tiêm mất đồ ra ra mươi trăm.\n",
      "Processing: FPTOpenSpeechData_Set001_V0.1_000086.mp3\n"
     ]
    },
    {
     "name": "stderr",
     "output_type": "stream",
     "text": [
      "/home/ngo/anaconda3/lib/python3.12/site-packages/whisper/transcribe.py:126: UserWarning: FP16 is not supported on CPU; using FP32 instead\n",
      "  warnings.warn(\"FP16 is not supported on CPU; using FP32 instead\")\n"
     ]
    },
    {
     "name": "stdout",
     "output_type": "stream",
     "text": [
      "reference_text - predicted_text: xà lách trộn phó mát mốc xanh và cây óc chó - thầy đưa con mặt cho thằng bà kia cho.\n",
      "Processing: FPTOpenSpeechData_Set001_V0.1_000087.mp3\n"
     ]
    },
    {
     "name": "stderr",
     "output_type": "stream",
     "text": [
      "/home/ngo/anaconda3/lib/python3.12/site-packages/whisper/transcribe.py:126: UserWarning: FP16 is not supported on CPU; using FP32 instead\n",
      "  warnings.warn(\"FP16 is not supported on CPU; using FP32 instead\")\n"
     ]
    },
    {
     "name": "stdout",
     "output_type": "stream",
     "text": [
      "reference_text - predicted_text: chúng tôi sẽ bồi thường cho anh - chúng tôi sẽ bưu thường cho anh\n",
      "Processing: FPTOpenSpeechData_Set001_V0.1_000088.mp3\n"
     ]
    },
    {
     "name": "stderr",
     "output_type": "stream",
     "text": [
      "/home/ngo/anaconda3/lib/python3.12/site-packages/whisper/transcribe.py:126: UserWarning: FP16 is not supported on CPU; using FP32 instead\n",
      "  warnings.warn(\"FP16 is not supported on CPU; using FP32 instead\")\n"
     ]
    },
    {
     "name": "stdout",
     "output_type": "stream",
     "text": [
      "reference_text - predicted_text: chỉ xét tuyển hồ sơ không phải thi - để ý xét để ý mồm xeo thông bài thay.\n",
      "Processing: FPTOpenSpeechData_Set001_V0.1_000089.mp3\n"
     ]
    },
    {
     "name": "stderr",
     "output_type": "stream",
     "text": [
      "/home/ngo/anaconda3/lib/python3.12/site-packages/whisper/transcribe.py:126: UserWarning: FP16 is not supported on CPU; using FP32 instead\n",
      "  warnings.warn(\"FP16 is not supported on CPU; using FP32 instead\")\n"
     ]
    },
    {
     "name": "stdout",
     "output_type": "stream",
     "text": [
      "reference_text - predicted_text: gần chín nghìn tỉ đồng xây đường sắt đô thị cát linh hà đông - gần chính mình tử đồng, xoay đường sát đôi người, các linh hà đông.\n",
      "Processing: FPTOpenSpeechData_Set001_V0.1_000090.mp3\n"
     ]
    },
    {
     "name": "stderr",
     "output_type": "stream",
     "text": [
      "/home/ngo/anaconda3/lib/python3.12/site-packages/whisper/transcribe.py:126: UserWarning: FP16 is not supported on CPU; using FP32 instead\n",
      "  warnings.warn(\"FP16 is not supported on CPU; using FP32 instead\")\n"
     ]
    },
    {
     "name": "stdout",
     "output_type": "stream",
     "text": [
      "reference_text - predicted_text: bỏ quần vào trong máy giặt - hòa, quên sợ không mấy đợt.\n",
      "Processing: FPTOpenSpeechData_Set001_V0.1_000091.mp3\n"
     ]
    },
    {
     "name": "stderr",
     "output_type": "stream",
     "text": [
      "/home/ngo/anaconda3/lib/python3.12/site-packages/whisper/transcribe.py:126: UserWarning: FP16 is not supported on CPU; using FP32 instead\n",
      "  warnings.warn(\"FP16 is not supported on CPU; using FP32 instead\")\n"
     ]
    },
    {
     "name": "stdout",
     "output_type": "stream",
     "text": [
      "reference_text - predicted_text: trả lời tôi biết - trả lời tôi biết.\n",
      "Processing: FPTOpenSpeechData_Set001_V0.1_000092.mp3\n"
     ]
    },
    {
     "name": "stderr",
     "output_type": "stream",
     "text": [
      "/home/ngo/anaconda3/lib/python3.12/site-packages/whisper/transcribe.py:126: UserWarning: FP16 is not supported on CPU; using FP32 instead\n",
      "  warnings.warn(\"FP16 is not supported on CPU; using FP32 instead\")\n"
     ]
    },
    {
     "name": "stdout",
     "output_type": "stream",
     "text": [
      "reference_text - predicted_text: đến thời điểm hiện tại ít nhất trong cả nước đã có năm mươi nghìn lao động thất nghiệp - đến thời điểm hiện tại, trong cả nước đã có các phương hình lao động thích nghiệp.\n",
      "Processing: FPTOpenSpeechData_Set001_V0.1_000093.mp3\n"
     ]
    },
    {
     "name": "stderr",
     "output_type": "stream",
     "text": [
      "/home/ngo/anaconda3/lib/python3.12/site-packages/whisper/transcribe.py:126: UserWarning: FP16 is not supported on CPU; using FP32 instead\n",
      "  warnings.warn(\"FP16 is not supported on CPU; using FP32 instead\")\n"
     ]
    },
    {
     "name": "stdout",
     "output_type": "stream",
     "text": [
      "reference_text - predicted_text: anh sẵn sàng gọi món chưa - anh thật chào mọi người.\n",
      "Processing: FPTOpenSpeechData_Set001_V0.1_000094.mp3\n"
     ]
    },
    {
     "name": "stderr",
     "output_type": "stream",
     "text": [
      "/home/ngo/anaconda3/lib/python3.12/site-packages/whisper/transcribe.py:126: UserWarning: FP16 is not supported on CPU; using FP32 instead\n",
      "  warnings.warn(\"FP16 is not supported on CPU; using FP32 instead\")\n"
     ]
    },
    {
     "name": "stdout",
     "output_type": "stream",
     "text": [
      "reference_text - predicted_text: là tác động của nó đến hiệu suất chung của toàn bộ hệ thống điện - cả cái đạo của nó đến nhịp chung của toàn bộ hệ thống địa.\n",
      "Processing: FPTOpenSpeechData_Set001_V0.1_000095.mp3\n"
     ]
    },
    {
     "name": "stderr",
     "output_type": "stream",
     "text": [
      "/home/ngo/anaconda3/lib/python3.12/site-packages/whisper/transcribe.py:126: UserWarning: FP16 is not supported on CPU; using FP32 instead\n",
      "  warnings.warn(\"FP16 is not supported on CPU; using FP32 instead\")\n"
     ]
    },
    {
     "name": "stdout",
     "output_type": "stream",
     "text": [
      "reference_text - predicted_text: đã bán rồi - cảm ơn.\n",
      "Processing: FPTOpenSpeechData_Set001_V0.1_000096.mp3\n"
     ]
    },
    {
     "name": "stderr",
     "output_type": "stream",
     "text": [
      "/home/ngo/anaconda3/lib/python3.12/site-packages/whisper/transcribe.py:126: UserWarning: FP16 is not supported on CPU; using FP32 instead\n",
      "  warnings.warn(\"FP16 is not supported on CPU; using FP32 instead\")\n"
     ]
    },
    {
     "name": "stdout",
     "output_type": "stream",
     "text": [
      "reference_text - predicted_text: thời tiết ấm áp như thể là đầu hè - \n",
      "Processing: FPTOpenSpeechData_Set001_V0.1_000097.mp3\n"
     ]
    },
    {
     "name": "stderr",
     "output_type": "stream",
     "text": [
      "/home/ngo/anaconda3/lib/python3.12/site-packages/whisper/transcribe.py:126: UserWarning: FP16 is not supported on CPU; using FP32 instead\n",
      "  warnings.warn(\"FP16 is not supported on CPU; using FP32 instead\")\n"
     ]
    },
    {
     "name": "stdout",
     "output_type": "stream",
     "text": [
      "reference_text - predicted_text: chúng tôi có bốn người - thôi xong rồi chơi\n",
      "Processing: FPTOpenSpeechData_Set001_V0.1_000098.mp3\n"
     ]
    },
    {
     "name": "stderr",
     "output_type": "stream",
     "text": [
      "/home/ngo/anaconda3/lib/python3.12/site-packages/whisper/transcribe.py:126: UserWarning: FP16 is not supported on CPU; using FP32 instead\n",
      "  warnings.warn(\"FP16 is not supported on CPU; using FP32 instead\")\n"
     ]
    },
    {
     "name": "stdout",
     "output_type": "stream",
     "text": [
      "reference_text - predicted_text: vẻ đẹp khuôn mặt và bản năng tình dục quan hệ tương hỗ chặt chẽ với nhau - vì vậy không phải là mình có gì quan hệ thương thật với nhau.\n",
      "Processing: FPTOpenSpeechData_Set001_V0.1_000099.mp3\n"
     ]
    },
    {
     "name": "stderr",
     "output_type": "stream",
     "text": [
      "/home/ngo/anaconda3/lib/python3.12/site-packages/whisper/transcribe.py:126: UserWarning: FP16 is not supported on CPU; using FP32 instead\n",
      "  warnings.warn(\"FP16 is not supported on CPU; using FP32 instead\")\n"
     ]
    },
    {
     "name": "stdout",
     "output_type": "stream",
     "text": [
      "reference_text - predicted_text: hầu bàn của quý khách sẽ là alfredo - thông qua của phía khách hàng là othello.\n",
      "Processing: FPTOpenSpeechData_Set001_V0.1_000100.mp3\n"
     ]
    },
    {
     "name": "stderr",
     "output_type": "stream",
     "text": [
      "/home/ngo/anaconda3/lib/python3.12/site-packages/whisper/transcribe.py:126: UserWarning: FP16 is not supported on CPU; using FP32 instead\n",
      "  warnings.warn(\"FP16 is not supported on CPU; using FP32 instead\")\n"
     ]
    },
    {
     "name": "stdout",
     "output_type": "stream",
     "text": [
      "reference_text - predicted_text: đầu gối có bị sưng đỏ hoặc cả hai - đồng hồ có biến tính tòa hoặc là...\n",
      "Processing: FPTOpenSpeechData_Set001_V0.1_000101.mp3\n"
     ]
    },
    {
     "name": "stderr",
     "output_type": "stream",
     "text": [
      "/home/ngo/anaconda3/lib/python3.12/site-packages/whisper/transcribe.py:126: UserWarning: FP16 is not supported on CPU; using FP32 instead\n",
      "  warnings.warn(\"FP16 is not supported on CPU; using FP32 instead\")\n"
     ]
    },
    {
     "name": "stdout",
     "output_type": "stream",
     "text": [
      "reference_text - predicted_text: hút thuốc bị hạn chế trong khu vực công cộng - cảm ơn các bạn đã theo dõi và hẹn gặp lại.\n",
      "Processing: FPTOpenSpeechData_Set001_V0.1_000102.mp3\n"
     ]
    },
    {
     "name": "stderr",
     "output_type": "stream",
     "text": [
      "/home/ngo/anaconda3/lib/python3.12/site-packages/whisper/transcribe.py:126: UserWarning: FP16 is not supported on CPU; using FP32 instead\n",
      "  warnings.warn(\"FP16 is not supported on CPU; using FP32 instead\")\n"
     ]
    },
    {
     "name": "stdout",
     "output_type": "stream",
     "text": [
      "reference_text - predicted_text: chẳng phải là bệnh hiểm nghèo nhưng trĩ vẫn là bệnh gây khó chịu cho bệnh nhân bởi làm cản trở công việc của họ lúc làm việc cũng như lúc ngủ họ vẫn phải lo nghĩ giáo sư nghĩa nói - cảm giác là bệnh bệnh nào, nhưng chỉ vẫn làm bệnh đầy thật, chỉ cho bệnh nhân về, làm trở công việc hoặc họ. nếu mà người như mong muốn, họ vẫn phải nghe những bài hướng của mình.\n",
      "Processing: FPTOpenSpeechData_Set001_V0.1_000103.mp3\n"
     ]
    },
    {
     "name": "stderr",
     "output_type": "stream",
     "text": [
      "/home/ngo/anaconda3/lib/python3.12/site-packages/whisper/transcribe.py:126: UserWarning: FP16 is not supported on CPU; using FP32 instead\n",
      "  warnings.warn(\"FP16 is not supported on CPU; using FP32 instead\")\n"
     ]
    },
    {
     "name": "stdout",
     "output_type": "stream",
     "text": [
      "reference_text - predicted_text: chuyển máy cho ai - cảm ơn các bạn đã theo dõi và hẹn gặp lại.\n",
      "Processing: FPTOpenSpeechData_Set001_V0.1_000104.mp3\n"
     ]
    },
    {
     "name": "stderr",
     "output_type": "stream",
     "text": [
      "/home/ngo/anaconda3/lib/python3.12/site-packages/whisper/transcribe.py:126: UserWarning: FP16 is not supported on CPU; using FP32 instead\n",
      "  warnings.warn(\"FP16 is not supported on CPU; using FP32 instead\")\n"
     ]
    },
    {
     "name": "stdout",
     "output_type": "stream",
     "text": [
      "reference_text - predicted_text: kết quả lao động của tôi đến đâu thì tác phẩm trả lời - hẹn gặp lại các bạn trong những video tiếp theo.\n",
      "Processing: FPTOpenSpeechData_Set001_V0.1_000105.mp3\n"
     ]
    },
    {
     "name": "stderr",
     "output_type": "stream",
     "text": [
      "/home/ngo/anaconda3/lib/python3.12/site-packages/whisper/transcribe.py:126: UserWarning: FP16 is not supported on CPU; using FP32 instead\n",
      "  warnings.warn(\"FP16 is not supported on CPU; using FP32 instead\")\n"
     ]
    },
    {
     "name": "stdout",
     "output_type": "stream",
     "text": [
      "reference_text - predicted_text: khi những chiếc đĩa được dỡ bỏ lũ hà mã cũng chẳng thèm chú ý tới những chiếc nhãn đó nữa - chịu!\n",
      "Processing: FPTOpenSpeechData_Set001_V0.1_000106.mp3\n"
     ]
    },
    {
     "name": "stderr",
     "output_type": "stream",
     "text": [
      "/home/ngo/anaconda3/lib/python3.12/site-packages/whisper/transcribe.py:126: UserWarning: FP16 is not supported on CPU; using FP32 instead\n",
      "  warnings.warn(\"FP16 is not supported on CPU; using FP32 instead\")\n"
     ]
    },
    {
     "name": "stdout",
     "output_type": "stream",
     "text": [
      "reference_text - predicted_text: không vậy không sao tôi sẽ gọi ông ấy sau cảm ơn - không phải không sao tôi chắc là tôi thích thấu thật hơn.\n",
      "Processing: FPTOpenSpeechData_Set001_V0.1_000107.mp3\n"
     ]
    },
    {
     "name": "stderr",
     "output_type": "stream",
     "text": [
      "/home/ngo/anaconda3/lib/python3.12/site-packages/whisper/transcribe.py:126: UserWarning: FP16 is not supported on CPU; using FP32 instead\n",
      "  warnings.warn(\"FP16 is not supported on CPU; using FP32 instead\")\n"
     ]
    },
    {
     "name": "stdout",
     "output_type": "stream",
     "text": [
      "reference_text - predicted_text: có giảm giá cho người cao niên không - hỏi chàng trả cho người khác điên thôi.\n",
      "Processing: FPTOpenSpeechData_Set001_V0.1_000108.mp3\n"
     ]
    },
    {
     "name": "stderr",
     "output_type": "stream",
     "text": [
      "/home/ngo/anaconda3/lib/python3.12/site-packages/whisper/transcribe.py:126: UserWarning: FP16 is not supported on CPU; using FP32 instead\n",
      "  warnings.warn(\"FP16 is not supported on CPU; using FP32 instead\")\n"
     ]
    },
    {
     "name": "stdout",
     "output_type": "stream",
     "text": [
      "reference_text - predicted_text: hãy gọi cảnh sát ngay - hãy bờ cảnh sát ngay.\n",
      "Processing: FPTOpenSpeechData_Set001_V0.1_000109.mp3\n"
     ]
    },
    {
     "name": "stderr",
     "output_type": "stream",
     "text": [
      "/home/ngo/anaconda3/lib/python3.12/site-packages/whisper/transcribe.py:126: UserWarning: FP16 is not supported on CPU; using FP32 instead\n",
      "  warnings.warn(\"FP16 is not supported on CPU; using FP32 instead\")\n"
     ]
    },
    {
     "name": "stdout",
     "output_type": "stream",
     "text": [
      "reference_text - predicted_text: bắt đầu đếm - cảm ơn các bạn đã theo dõi và hẹn gặp lại.\n",
      "Processing: FPTOpenSpeechData_Set001_V0.1_000110.mp3\n"
     ]
    },
    {
     "name": "stderr",
     "output_type": "stream",
     "text": [
      "/home/ngo/anaconda3/lib/python3.12/site-packages/whisper/transcribe.py:126: UserWarning: FP16 is not supported on CPU; using FP32 instead\n",
      "  warnings.warn(\"FP16 is not supported on CPU; using FP32 instead\")\n"
     ]
    },
    {
     "name": "stdout",
     "output_type": "stream",
     "text": [
      "reference_text - predicted_text: anh có bị đau do mệt mỏi không - cảm ơn các bạn đã theo dõi và hẹn gặp lại.\n",
      "Processing: FPTOpenSpeechData_Set001_V0.1_000111.mp3\n"
     ]
    },
    {
     "name": "stderr",
     "output_type": "stream",
     "text": [
      "/home/ngo/anaconda3/lib/python3.12/site-packages/whisper/transcribe.py:126: UserWarning: FP16 is not supported on CPU; using FP32 instead\n",
      "  warnings.warn(\"FP16 is not supported on CPU; using FP32 instead\")\n"
     ]
    },
    {
     "name": "stdout",
     "output_type": "stream",
     "text": [
      "reference_text - predicted_text: lãi suất cho vay cũng đã giảm mạnh theo lãi huy động vốn lãi nhiều vẫn chẳng có người nào gửi cả - lại cho tôi vai cũng đã giảm mạnh theo, lại anh giảm vốn, lại anh nhiều vận dạng tổng hệ nào cũng giảm.\n",
      "Processing: FPTOpenSpeechData_Set001_V0.1_000112.mp3\n"
     ]
    },
    {
     "name": "stderr",
     "output_type": "stream",
     "text": [
      "/home/ngo/anaconda3/lib/python3.12/site-packages/whisper/transcribe.py:126: UserWarning: FP16 is not supported on CPU; using FP32 instead\n",
      "  warnings.warn(\"FP16 is not supported on CPU; using FP32 instead\")\n"
     ]
    },
    {
     "name": "stdout",
     "output_type": "stream",
     "text": [
      "reference_text - predicted_text: các nhà khoa học đang tiến thêm một bước - các nhà sơ học đang chiến thêm một bước.\n",
      "Processing: FPTOpenSpeechData_Set001_V0.1_000113.mp3\n"
     ]
    },
    {
     "name": "stderr",
     "output_type": "stream",
     "text": [
      "/home/ngo/anaconda3/lib/python3.12/site-packages/whisper/transcribe.py:126: UserWarning: FP16 is not supported on CPU; using FP32 instead\n",
      "  warnings.warn(\"FP16 is not supported on CPU; using FP32 instead\")\n"
     ]
    },
    {
     "name": "stdout",
     "output_type": "stream",
     "text": [
      "reference_text - predicted_text: cùng chuẩn và ngũ hai đối tượng khác chuyên làm nhiệm vụ đưa người sang trung quốc là nguyễn vũ hải và võ cảnh dũng cùng trú tại bắc giang cũng bị cảnh sát bắt - hãy subscribe cho kênh ghiền mì gõ để không bỏ lỡ những video hấp dẫn\n",
      "Processing: FPTOpenSpeechData_Set001_V0.1_000114.mp3\n"
     ]
    },
    {
     "name": "stderr",
     "output_type": "stream",
     "text": [
      "/home/ngo/anaconda3/lib/python3.12/site-packages/whisper/transcribe.py:126: UserWarning: FP16 is not supported on CPU; using FP32 instead\n",
      "  warnings.warn(\"FP16 is not supported on CPU; using FP32 instead\")\n"
     ]
    },
    {
     "name": "stdout",
     "output_type": "stream",
     "text": [
      "reference_text - predicted_text: hệ thống phòng ngự tài năng và giàu kinh nghiệm - thế thức phóng, ai áp, coi dấu đi kìa.\n",
      "Processing: FPTOpenSpeechData_Set001_V0.1_000115.mp3\n"
     ]
    },
    {
     "name": "stderr",
     "output_type": "stream",
     "text": [
      "/home/ngo/anaconda3/lib/python3.12/site-packages/whisper/transcribe.py:126: UserWarning: FP16 is not supported on CPU; using FP32 instead\n",
      "  warnings.warn(\"FP16 is not supported on CPU; using FP32 instead\")\n"
     ]
    },
    {
     "name": "stdout",
     "output_type": "stream",
     "text": [
      "reference_text - predicted_text: sẽ đủ sức cạnh tranh với nước ngoài - sẽ đổ xuất các cặp bên ngoài.\n",
      "Processing: FPTOpenSpeechData_Set001_V0.1_000116.mp3\n"
     ]
    },
    {
     "name": "stderr",
     "output_type": "stream",
     "text": [
      "/home/ngo/anaconda3/lib/python3.12/site-packages/whisper/transcribe.py:126: UserWarning: FP16 is not supported on CPU; using FP32 instead\n",
      "  warnings.warn(\"FP16 is not supported on CPU; using FP32 instead\")\n"
     ]
    },
    {
     "name": "stdout",
     "output_type": "stream",
     "text": [
      "reference_text - predicted_text: giơ tay lên để đồng ý - cảm ơn các bạn đã theo dõi và hẹn gặp lại.\n",
      "Processing: FPTOpenSpeechData_Set001_V0.1_000117.mp3\n"
     ]
    },
    {
     "name": "stderr",
     "output_type": "stream",
     "text": [
      "/home/ngo/anaconda3/lib/python3.12/site-packages/whisper/transcribe.py:126: UserWarning: FP16 is not supported on CPU; using FP32 instead\n",
      "  warnings.warn(\"FP16 is not supported on CPU; using FP32 instead\")\n"
     ]
    },
    {
     "name": "stdout",
     "output_type": "stream",
     "text": [
      "reference_text - predicted_text: vui lòng trả mười đô la - chúng ta chẳng người đủ lắm.\n",
      "Processing: FPTOpenSpeechData_Set001_V0.1_000118.mp3\n"
     ]
    },
    {
     "name": "stderr",
     "output_type": "stream",
     "text": [
      "/home/ngo/anaconda3/lib/python3.12/site-packages/whisper/transcribe.py:126: UserWarning: FP16 is not supported on CPU; using FP32 instead\n",
      "  warnings.warn(\"FP16 is not supported on CPU; using FP32 instead\")\n"
     ]
    },
    {
     "name": "stdout",
     "output_type": "stream",
     "text": [
      "reference_text - predicted_text: đây là hồi chuông cảnh báo về sự mất an toàn lưới điện trên địa bàn - đây là hội đu cáo về sự quốc án và ưu định trên địa bàn.\n",
      "Processing: FPTOpenSpeechData_Set001_V0.1_000119.mp3\n"
     ]
    },
    {
     "name": "stderr",
     "output_type": "stream",
     "text": [
      "/home/ngo/anaconda3/lib/python3.12/site-packages/whisper/transcribe.py:126: UserWarning: FP16 is not supported on CPU; using FP32 instead\n",
      "  warnings.warn(\"FP16 is not supported on CPU; using FP32 instead\")\n"
     ]
    },
    {
     "name": "stdout",
     "output_type": "stream",
     "text": [
      "reference_text - predicted_text: ban đêm bắng cây đa - cảm ơn các bạn đã theo dõi và hẹn gặp lại.\n",
      "Processing: FPTOpenSpeechData_Set001_V0.1_000120.mp3\n"
     ]
    },
    {
     "name": "stderr",
     "output_type": "stream",
     "text": [
      "/home/ngo/anaconda3/lib/python3.12/site-packages/whisper/transcribe.py:126: UserWarning: FP16 is not supported on CPU; using FP32 instead\n",
      "  warnings.warn(\"FP16 is not supported on CPU; using FP32 instead\")\n"
     ]
    },
    {
     "name": "stdout",
     "output_type": "stream",
     "text": [
      "reference_text - predicted_text: kênh hai ti vi - hãy subscribe cho kênh ghiền mì gõ để không bỏ lỡ những video hấp dẫn\n",
      "Processing: FPTOpenSpeechData_Set001_V0.1_000121.mp3\n"
     ]
    },
    {
     "name": "stderr",
     "output_type": "stream",
     "text": [
      "/home/ngo/anaconda3/lib/python3.12/site-packages/whisper/transcribe.py:126: UserWarning: FP16 is not supported on CPU; using FP32 instead\n",
      "  warnings.warn(\"FP16 is not supported on CPU; using FP32 instead\")\n"
     ]
    },
    {
     "name": "stdout",
     "output_type": "stream",
     "text": [
      "reference_text - predicted_text: này chúng tôi sắp nhổ neo - cảm ơn các bạn đã theo dõi và hẹn gặp lại.\n",
      "Processing: FPTOpenSpeechData_Set001_V0.1_000122.mp3\n"
     ]
    },
    {
     "name": "stderr",
     "output_type": "stream",
     "text": [
      "/home/ngo/anaconda3/lib/python3.12/site-packages/whisper/transcribe.py:126: UserWarning: FP16 is not supported on CPU; using FP32 instead\n",
      "  warnings.warn(\"FP16 is not supported on CPU; using FP32 instead\")\n"
     ]
    },
    {
     "name": "stdout",
     "output_type": "stream",
     "text": [
      "reference_text - predicted_text: mở - 5\n",
      "Processing: FPTOpenSpeechData_Set001_V0.1_000123.mp3\n"
     ]
    },
    {
     "name": "stderr",
     "output_type": "stream",
     "text": [
      "/home/ngo/anaconda3/lib/python3.12/site-packages/whisper/transcribe.py:126: UserWarning: FP16 is not supported on CPU; using FP32 instead\n",
      "  warnings.warn(\"FP16 is not supported on CPU; using FP32 instead\")\n"
     ]
    },
    {
     "name": "stdout",
     "output_type": "stream",
     "text": [
      "reference_text - predicted_text: độc giả của tôi muốn hướng tới là sinh viên và trí thức - của đại mũ hướng\n",
      "Processing: FPTOpenSpeechData_Set001_V0.1_000124.mp3\n"
     ]
    },
    {
     "name": "stderr",
     "output_type": "stream",
     "text": [
      "/home/ngo/anaconda3/lib/python3.12/site-packages/whisper/transcribe.py:126: UserWarning: FP16 is not supported on CPU; using FP32 instead\n",
      "  warnings.warn(\"FP16 is not supported on CPU; using FP32 instead\")\n"
     ]
    },
    {
     "name": "stdout",
     "output_type": "stream",
     "text": [
      "reference_text - predicted_text: không mở cửa ồ ạt - hãy subscribe cho kênh ghiền mì gõ để không bỏ lỡ những video hấp dẫn\n",
      "Processing: FPTOpenSpeechData_Set001_V0.1_000125.mp3\n"
     ]
    },
    {
     "name": "stderr",
     "output_type": "stream",
     "text": [
      "/home/ngo/anaconda3/lib/python3.12/site-packages/whisper/transcribe.py:126: UserWarning: FP16 is not supported on CPU; using FP32 instead\n",
      "  warnings.warn(\"FP16 is not supported on CPU; using FP32 instead\")\n"
     ]
    },
    {
     "name": "stdout",
     "output_type": "stream",
     "text": [
      "reference_text - predicted_text: tôi muốn đổi cái này lấy cái màu xanh - ôi, nhìn kìa, cái này lấy cái màu ra.\n",
      "Processing: FPTOpenSpeechData_Set001_V0.1_000126.mp3\n"
     ]
    },
    {
     "name": "stderr",
     "output_type": "stream",
     "text": [
      "/home/ngo/anaconda3/lib/python3.12/site-packages/whisper/transcribe.py:126: UserWarning: FP16 is not supported on CPU; using FP32 instead\n",
      "  warnings.warn(\"FP16 is not supported on CPU; using FP32 instead\")\n"
     ]
    },
    {
     "name": "stdout",
     "output_type": "stream",
     "text": [
      "reference_text - predicted_text: sống với em anh nhé - tạm thời em anh nhé.\n",
      "Processing: FPTOpenSpeechData_Set001_V0.1_000127.mp3\n"
     ]
    },
    {
     "name": "stderr",
     "output_type": "stream",
     "text": [
      "/home/ngo/anaconda3/lib/python3.12/site-packages/whisper/transcribe.py:126: UserWarning: FP16 is not supported on CPU; using FP32 instead\n",
      "  warnings.warn(\"FP16 is not supported on CPU; using FP32 instead\")\n"
     ]
    },
    {
     "name": "stdout",
     "output_type": "stream",
     "text": [
      "reference_text - predicted_text: vừa gọi điện vừa đi lại rất gây hại cho sức khỏe - vừa gọi điện vừa đi lại hết gây hại cho sức khỏe\n",
      "Processing: FPTOpenSpeechData_Set001_V0.1_000128.mp3\n"
     ]
    },
    {
     "name": "stderr",
     "output_type": "stream",
     "text": [
      "/home/ngo/anaconda3/lib/python3.12/site-packages/whisper/transcribe.py:126: UserWarning: FP16 is not supported on CPU; using FP32 instead\n",
      "  warnings.warn(\"FP16 is not supported on CPU; using FP32 instead\")\n"
     ]
    },
    {
     "name": "stdout",
     "output_type": "stream",
     "text": [
      "reference_text - predicted_text: tôi có thể tìm bảng tin ở đâu - các bạn hãy đăng kí cho kênh lalaschool để không bỏ lỡ những video hấp dẫn\n",
      "Processing: FPTOpenSpeechData_Set001_V0.1_000129.mp3\n"
     ]
    },
    {
     "name": "stderr",
     "output_type": "stream",
     "text": [
      "/home/ngo/anaconda3/lib/python3.12/site-packages/whisper/transcribe.py:126: UserWarning: FP16 is not supported on CPU; using FP32 instead\n",
      "  warnings.warn(\"FP16 is not supported on CPU; using FP32 instead\")\n"
     ]
    },
    {
     "name": "stdout",
     "output_type": "stream",
     "text": [
      "reference_text - predicted_text: anh chuẩn bị toa này cho tôi được không - anh còn chỉ toán này cho tôi thì không.\n",
      "Processing: FPTOpenSpeechData_Set001_V0.1_000130.mp3\n"
     ]
    },
    {
     "name": "stderr",
     "output_type": "stream",
     "text": [
      "/home/ngo/anaconda3/lib/python3.12/site-packages/whisper/transcribe.py:126: UserWarning: FP16 is not supported on CPU; using FP32 instead\n",
      "  warnings.warn(\"FP16 is not supported on CPU; using FP32 instead\")\n"
     ]
    },
    {
     "name": "stdout",
     "output_type": "stream",
     "text": [
      "reference_text - predicted_text: đây là địa chỉ của anh - đây là địa chỉ của anh.\n",
      "Processing: FPTOpenSpeechData_Set001_V0.1_000131.mp3\n"
     ]
    },
    {
     "name": "stderr",
     "output_type": "stream",
     "text": [
      "/home/ngo/anaconda3/lib/python3.12/site-packages/whisper/transcribe.py:126: UserWarning: FP16 is not supported on CPU; using FP32 instead\n",
      "  warnings.warn(\"FP16 is not supported on CPU; using FP32 instead\")\n"
     ]
    },
    {
     "name": "stdout",
     "output_type": "stream",
     "text": [
      "reference_text - predicted_text: anh lắng nghe tôi một phút được không - anh đánh nghe tôi một phút được không?\n",
      "Processing: FPTOpenSpeechData_Set001_V0.1_000132.mp3\n"
     ]
    },
    {
     "name": "stderr",
     "output_type": "stream",
     "text": [
      "/home/ngo/anaconda3/lib/python3.12/site-packages/whisper/transcribe.py:126: UserWarning: FP16 is not supported on CPU; using FP32 instead\n",
      "  warnings.warn(\"FP16 is not supported on CPU; using FP32 instead\")\n"
     ]
    },
    {
     "name": "stdout",
     "output_type": "stream",
     "text": [
      "reference_text - predicted_text: lạm phát tăng là do dự báo yếu kém - cảm ơn các bạn đã theo dõi.\n",
      "Processing: FPTOpenSpeechData_Set001_V0.1_000133.mp3\n"
     ]
    },
    {
     "name": "stderr",
     "output_type": "stream",
     "text": [
      "/home/ngo/anaconda3/lib/python3.12/site-packages/whisper/transcribe.py:126: UserWarning: FP16 is not supported on CPU; using FP32 instead\n",
      "  warnings.warn(\"FP16 is not supported on CPU; using FP32 instead\")\n"
     ]
    },
    {
     "name": "stdout",
     "output_type": "stream",
     "text": [
      "reference_text - predicted_text: thịt gà nhồi hỗn hợp băm nhỏ - hiệp gia rồi hồn hợp tâm nhỏ.\n",
      "Processing: FPTOpenSpeechData_Set001_V0.1_000134.mp3\n"
     ]
    },
    {
     "name": "stderr",
     "output_type": "stream",
     "text": [
      "/home/ngo/anaconda3/lib/python3.12/site-packages/whisper/transcribe.py:126: UserWarning: FP16 is not supported on CPU; using FP32 instead\n",
      "  warnings.warn(\"FP16 is not supported on CPU; using FP32 instead\")\n"
     ]
    },
    {
     "name": "stdout",
     "output_type": "stream",
     "text": [
      "reference_text - predicted_text: trung tá nguyễn phả lại cán bộ quản giáo trực tiếp buồng số bảy chỗ ở của ông mẫu ông dũng nói kín kẽ cũng là tâm lý của người cải tạo loại án như trường hợp ông dũng - chúng ta những cả là cán bộ quản giáo thức tiếp vùng số 70 ở của ông mẫu hồ dực nói, những kẻ bức ngạc âm mỹ của người cảnh tạo là hạng như cường hóa công dụng.\n",
      "Processing: FPTOpenSpeechData_Set001_V0.1_000135.mp3\n"
     ]
    },
    {
     "name": "stderr",
     "output_type": "stream",
     "text": [
      "/home/ngo/anaconda3/lib/python3.12/site-packages/whisper/transcribe.py:126: UserWarning: FP16 is not supported on CPU; using FP32 instead\n",
      "  warnings.warn(\"FP16 is not supported on CPU; using FP32 instead\")\n"
     ]
    },
    {
     "name": "stdout",
     "output_type": "stream",
     "text": [
      "reference_text - predicted_text: kí túc vắng tanh đèn thoát hiểm nhấp nháy chập chờn cứ như trên phim được xem ý - chị cứ bảo bà bán lên mặt điện thì mất ngay cho trên đường đi. trên đường điện thì...\n",
      "Processing: FPTOpenSpeechData_Set001_V0.1_000136.mp3\n"
     ]
    },
    {
     "name": "stderr",
     "output_type": "stream",
     "text": [
      "/home/ngo/anaconda3/lib/python3.12/site-packages/whisper/transcribe.py:126: UserWarning: FP16 is not supported on CPU; using FP32 instead\n",
      "  warnings.warn(\"FP16 is not supported on CPU; using FP32 instead\")\n"
     ]
    },
    {
     "name": "stdout",
     "output_type": "stream",
     "text": [
      "reference_text - predicted_text: mở - màu\n",
      "Processing: FPTOpenSpeechData_Set001_V0.1_000137.mp3\n"
     ]
    },
    {
     "name": "stderr",
     "output_type": "stream",
     "text": [
      "/home/ngo/anaconda3/lib/python3.12/site-packages/whisper/transcribe.py:126: UserWarning: FP16 is not supported on CPU; using FP32 instead\n",
      "  warnings.warn(\"FP16 is not supported on CPU; using FP32 instead\")\n"
     ]
    },
    {
     "name": "stdout",
     "output_type": "stream",
     "text": [
      "reference_text - predicted_text: tốt nhất anh không nên làm nó - các bạn có thể nhớ đăng ký kênh để ủng hộ kênh của mình nhé.\n",
      "Processing: FPTOpenSpeechData_Set001_V0.1_000138.mp3\n"
     ]
    },
    {
     "name": "stderr",
     "output_type": "stream",
     "text": [
      "/home/ngo/anaconda3/lib/python3.12/site-packages/whisper/transcribe.py:126: UserWarning: FP16 is not supported on CPU; using FP32 instead\n",
      "  warnings.warn(\"FP16 is not supported on CPU; using FP32 instead\")\n"
     ]
    },
    {
     "name": "stdout",
     "output_type": "stream",
     "text": [
      "reference_text - predicted_text: tôi có thể mua vé ở đâu - cô có thể mua bẹo nữa đâu\n",
      "Processing: FPTOpenSpeechData_Set001_V0.1_000139.mp3\n"
     ]
    },
    {
     "name": "stderr",
     "output_type": "stream",
     "text": [
      "/home/ngo/anaconda3/lib/python3.12/site-packages/whisper/transcribe.py:126: UserWarning: FP16 is not supported on CPU; using FP32 instead\n",
      "  warnings.warn(\"FP16 is not supported on CPU; using FP32 instead\")\n"
     ]
    },
    {
     "name": "stdout",
     "output_type": "stream",
     "text": [
      "reference_text - predicted_text: vậy điều gì ủng hộ ý tưởng táo bạo trên - cảm ơn các bạn đã theo dõi và hẹn gặp lại.\n",
      "Processing: FPTOpenSpeechData_Set001_V0.1_000140.mp3\n"
     ]
    },
    {
     "name": "stderr",
     "output_type": "stream",
     "text": [
      "/home/ngo/anaconda3/lib/python3.12/site-packages/whisper/transcribe.py:126: UserWarning: FP16 is not supported on CPU; using FP32 instead\n",
      "  warnings.warn(\"FP16 is not supported on CPU; using FP32 instead\")\n"
     ]
    },
    {
     "name": "stdout",
     "output_type": "stream",
     "text": [
      "reference_text - predicted_text: họ sẽ chơi nhiều ca khúc từ bộ phim âm thanh của âm nhạc - họ sẽ chơi nhiều ca phúc từ bộ viết âm thanh của âm nhạc.\n",
      "Processing: FPTOpenSpeechData_Set001_V0.1_000141.mp3\n"
     ]
    },
    {
     "name": "stderr",
     "output_type": "stream",
     "text": [
      "/home/ngo/anaconda3/lib/python3.12/site-packages/whisper/transcribe.py:126: UserWarning: FP16 is not supported on CPU; using FP32 instead\n",
      "  warnings.warn(\"FP16 is not supported on CPU; using FP32 instead\")\n"
     ]
    },
    {
     "name": "stdout",
     "output_type": "stream",
     "text": [
      "reference_text - predicted_text: mã vùng của plymouth là không một bảy năm hai - và vùng của lai mau là 01752\n",
      "Processing: FPTOpenSpeechData_Set001_V0.1_000142.mp3\n"
     ]
    },
    {
     "name": "stderr",
     "output_type": "stream",
     "text": [
      "/home/ngo/anaconda3/lib/python3.12/site-packages/whisper/transcribe.py:126: UserWarning: FP16 is not supported on CPU; using FP32 instead\n",
      "  warnings.warn(\"FP16 is not supported on CPU; using FP32 instead\")\n"
     ]
    },
    {
     "name": "stdout",
     "output_type": "stream",
     "text": [
      "reference_text - predicted_text: không tôi luôn tỉ mỉ - cảm ơn.\n",
      "Processing: FPTOpenSpeechData_Set001_V0.1_000143.mp3\n"
     ]
    },
    {
     "name": "stderr",
     "output_type": "stream",
     "text": [
      "/home/ngo/anaconda3/lib/python3.12/site-packages/whisper/transcribe.py:126: UserWarning: FP16 is not supported on CPU; using FP32 instead\n",
      "  warnings.warn(\"FP16 is not supported on CPU; using FP32 instead\")\n"
     ]
    },
    {
     "name": "stdout",
     "output_type": "stream",
     "text": [
      "reference_text - predicted_text: một số trò chơi đòi hỏi các động tác chậm thận trọng hãy từ từ - một số tài xứ gọi hỏi tất cả dân thành cộng hòa thông tin.\n",
      "Processing: FPTOpenSpeechData_Set001_V0.1_000144.mp3\n"
     ]
    },
    {
     "name": "stderr",
     "output_type": "stream",
     "text": [
      "/home/ngo/anaconda3/lib/python3.12/site-packages/whisper/transcribe.py:126: UserWarning: FP16 is not supported on CPU; using FP32 instead\n",
      "  warnings.warn(\"FP16 is not supported on CPU; using FP32 instead\")\n"
     ]
    },
    {
     "name": "stdout",
     "output_type": "stream",
     "text": [
      "reference_text - predicted_text: có nên ưu tiên cho các hoạt động bí mật - hãy subscribe cho kênh ghiền mì gõ để không bỏ lỡ những video hấp dẫn\n",
      "Processing: FPTOpenSpeechData_Set001_V0.1_000145.mp3\n"
     ]
    },
    {
     "name": "stderr",
     "output_type": "stream",
     "text": [
      "/home/ngo/anaconda3/lib/python3.12/site-packages/whisper/transcribe.py:126: UserWarning: FP16 is not supported on CPU; using FP32 instead\n",
      "  warnings.warn(\"FP16 is not supported on CPU; using FP32 instead\")\n"
     ]
    },
    {
     "name": "stdout",
     "output_type": "stream",
     "text": [
      "reference_text - predicted_text: nó là của anh - nói lại quán\n",
      "Processing: FPTOpenSpeechData_Set001_V0.1_000146.mp3\n"
     ]
    },
    {
     "name": "stderr",
     "output_type": "stream",
     "text": [
      "/home/ngo/anaconda3/lib/python3.12/site-packages/whisper/transcribe.py:126: UserWarning: FP16 is not supported on CPU; using FP32 instead\n",
      "  warnings.warn(\"FP16 is not supported on CPU; using FP32 instead\")\n"
     ]
    },
    {
     "name": "stdout",
     "output_type": "stream",
     "text": [
      "reference_text - predicted_text: -n lỗ mũi hẹp -n có tài kiếm tiền - hãy subscribe cho kênh ghiền mì gõ để không bỏ lỡ những video hấp dẫn\n",
      "Processing: FPTOpenSpeechData_Set001_V0.1_000147.mp3\n"
     ]
    },
    {
     "name": "stderr",
     "output_type": "stream",
     "text": [
      "/home/ngo/anaconda3/lib/python3.12/site-packages/whisper/transcribe.py:126: UserWarning: FP16 is not supported on CPU; using FP32 instead\n",
      "  warnings.warn(\"FP16 is not supported on CPU; using FP32 instead\")\n"
     ]
    },
    {
     "name": "stdout",
     "output_type": "stream",
     "text": [
      "reference_text - predicted_text: đây là ghi chép cho phí nào - cảm ơn các vị khách chào tính mạng.\n",
      "Processing: FPTOpenSpeechData_Set001_V0.1_000148.mp3\n"
     ]
    },
    {
     "name": "stderr",
     "output_type": "stream",
     "text": [
      "/home/ngo/anaconda3/lib/python3.12/site-packages/whisper/transcribe.py:126: UserWarning: FP16 is not supported on CPU; using FP32 instead\n",
      "  warnings.warn(\"FP16 is not supported on CPU; using FP32 instead\")\n"
     ]
    },
    {
     "name": "stdout",
     "output_type": "stream",
     "text": [
      "reference_text - predicted_text: tôi bị các triệu chứng viêm phổi - cảm ơn các bạn đã theo dõi và hẹn gặp lại.\n",
      "Processing: FPTOpenSpeechData_Set001_V0.1_000149.mp3\n"
     ]
    },
    {
     "name": "stderr",
     "output_type": "stream",
     "text": [
      "/home/ngo/anaconda3/lib/python3.12/site-packages/whisper/transcribe.py:126: UserWarning: FP16 is not supported on CPU; using FP32 instead\n",
      "  warnings.warn(\"FP16 is not supported on CPU; using FP32 instead\")\n"
     ]
    },
    {
     "name": "stdout",
     "output_type": "stream",
     "text": [
      "reference_text - predicted_text: còn bao nhiều giờ thì chúng ta sẽ đến new york - còn ta như giờ thì chúng ta sẽ đến như đó.\n",
      "Processing: FPTOpenSpeechData_Set001_V0.1_000150.mp3\n"
     ]
    },
    {
     "name": "stderr",
     "output_type": "stream",
     "text": [
      "/home/ngo/anaconda3/lib/python3.12/site-packages/whisper/transcribe.py:126: UserWarning: FP16 is not supported on CPU; using FP32 instead\n",
      "  warnings.warn(\"FP16 is not supported on CPU; using FP32 instead\")\n"
     ]
    },
    {
     "name": "stdout",
     "output_type": "stream",
     "text": [
      "reference_text - predicted_text: thị trường chính thức kém sôi động nên thị trường phi tập trung cũng ê ẩm - cảm ơn các bạn đã theo dõi và hẹn gặp lại.\n",
      "Processing: FPTOpenSpeechData_Set001_V0.1_000151.mp3\n"
     ]
    },
    {
     "name": "stderr",
     "output_type": "stream",
     "text": [
      "/home/ngo/anaconda3/lib/python3.12/site-packages/whisper/transcribe.py:126: UserWarning: FP16 is not supported on CPU; using FP32 instead\n",
      "  warnings.warn(\"FP16 is not supported on CPU; using FP32 instead\")\n"
     ]
    },
    {
     "name": "stdout",
     "output_type": "stream",
     "text": [
      "reference_text - predicted_text: chúng tôi đã thuê căn hộ - tôi đã thấy con hồ.\n",
      "Processing: FPTOpenSpeechData_Set001_V0.1_000152.mp3\n"
     ]
    },
    {
     "name": "stderr",
     "output_type": "stream",
     "text": [
      "/home/ngo/anaconda3/lib/python3.12/site-packages/whisper/transcribe.py:126: UserWarning: FP16 is not supported on CPU; using FP32 instead\n",
      "  warnings.warn(\"FP16 is not supported on CPU; using FP32 instead\")\n"
     ]
    },
    {
     "name": "stdout",
     "output_type": "stream",
     "text": [
      "reference_text - predicted_text: mở lên - hãy subscribe cho kênh ghiền mì gõ để không bỏ lỡ những video hấp dẫn\n",
      "Processing: FPTOpenSpeechData_Set001_V0.1_000153.mp3\n"
     ]
    },
    {
     "name": "stderr",
     "output_type": "stream",
     "text": [
      "/home/ngo/anaconda3/lib/python3.12/site-packages/whisper/transcribe.py:126: UserWarning: FP16 is not supported on CPU; using FP32 instead\n",
      "  warnings.warn(\"FP16 is not supported on CPU; using FP32 instead\")\n"
     ]
    },
    {
     "name": "stdout",
     "output_type": "stream",
     "text": [
      "reference_text - predicted_text: cuộc tình đó tồn tại cho tới ngày cô ta -n khối tài sản mà ông giao phó rồi biến mất tăm - cô kỳnh đã trả lời cho tôi, ngày ta trả lời cho các tài sản mà ông đã gọi là tiền bắt lắm.\n",
      "Processing: FPTOpenSpeechData_Set001_V0.1_000154.mp3\n"
     ]
    },
    {
     "name": "stderr",
     "output_type": "stream",
     "text": [
      "/home/ngo/anaconda3/lib/python3.12/site-packages/whisper/transcribe.py:126: UserWarning: FP16 is not supported on CPU; using FP32 instead\n",
      "  warnings.warn(\"FP16 is not supported on CPU; using FP32 instead\")\n"
     ]
    },
    {
     "name": "stdout",
     "output_type": "stream",
     "text": [
      "reference_text - predicted_text: xin vui lòng hãy sẵn sàng vào lúc chín giờ rưỡi - xin hãy đăng ký kênh để ủng hộ kênh của mình nhé.\n",
      "Processing: FPTOpenSpeechData_Set001_V0.1_000155.mp3\n"
     ]
    },
    {
     "name": "stderr",
     "output_type": "stream",
     "text": [
      "/home/ngo/anaconda3/lib/python3.12/site-packages/whisper/transcribe.py:126: UserWarning: FP16 is not supported on CPU; using FP32 instead\n",
      "  warnings.warn(\"FP16 is not supported on CPU; using FP32 instead\")\n"
     ]
    },
    {
     "name": "stdout",
     "output_type": "stream",
     "text": [
      "reference_text - predicted_text: tôi không nghĩ như vậy - tôi không muốn như vậy.\n",
      "Processing: FPTOpenSpeechData_Set001_V0.1_000156.mp3\n"
     ]
    },
    {
     "name": "stderr",
     "output_type": "stream",
     "text": [
      "/home/ngo/anaconda3/lib/python3.12/site-packages/whisper/transcribe.py:126: UserWarning: FP16 is not supported on CPU; using FP32 instead\n",
      "  warnings.warn(\"FP16 is not supported on CPU; using FP32 instead\")\n"
     ]
    },
    {
     "name": "stdout",
     "output_type": "stream",
     "text": [
      "reference_text - predicted_text: cách dễ nhất là tìm người khác để yêu - các bạn hãy đăng ký kênh để ủng hộ kênh của mình nhé.\n",
      "Processing: FPTOpenSpeechData_Set001_V0.1_000157.mp3\n"
     ]
    },
    {
     "name": "stderr",
     "output_type": "stream",
     "text": [
      "/home/ngo/anaconda3/lib/python3.12/site-packages/whisper/transcribe.py:126: UserWarning: FP16 is not supported on CPU; using FP32 instead\n",
      "  warnings.warn(\"FP16 is not supported on CPU; using FP32 instead\")\n"
     ]
    },
    {
     "name": "stdout",
     "output_type": "stream",
     "text": [
      "reference_text - predicted_text: hãy tận dụng những gì có sẵn từ thiên nhiên để làm đẹp làn da - hãy tự dụng những gì có tảm thức chiếm để lát đẹp ra.\n",
      "Processing: FPTOpenSpeechData_Set001_V0.1_000158.mp3\n"
     ]
    },
    {
     "name": "stderr",
     "output_type": "stream",
     "text": [
      "/home/ngo/anaconda3/lib/python3.12/site-packages/whisper/transcribe.py:126: UserWarning: FP16 is not supported on CPU; using FP32 instead\n",
      "  warnings.warn(\"FP16 is not supported on CPU; using FP32 instead\")\n"
     ]
    },
    {
     "name": "stdout",
     "output_type": "stream",
     "text": [
      "reference_text - predicted_text: cô lấy cho tôi cái khăn nào - cô hãy cho tôi cái thằng nào.\n",
      "Processing: FPTOpenSpeechData_Set001_V0.1_000159.mp3\n"
     ]
    },
    {
     "name": "stderr",
     "output_type": "stream",
     "text": [
      "/home/ngo/anaconda3/lib/python3.12/site-packages/whisper/transcribe.py:126: UserWarning: FP16 is not supported on CPU; using FP32 instead\n",
      "  warnings.warn(\"FP16 is not supported on CPU; using FP32 instead\")\n"
     ]
    },
    {
     "name": "stdout",
     "output_type": "stream",
     "text": [
      "reference_text - predicted_text: lối đánh tấn công quen thuộc của chị biến mất thay vào đó là những đường bóng yếu ớt - nếu em tính phong quan thuộc của chị biến mất hay vào đó là những lường vóng yếu ớt\n",
      "Processing: FPTOpenSpeechData_Set001_V0.1_000160.mp3\n"
     ]
    },
    {
     "name": "stderr",
     "output_type": "stream",
     "text": [
      "/home/ngo/anaconda3/lib/python3.12/site-packages/whisper/transcribe.py:126: UserWarning: FP16 is not supported on CPU; using FP32 instead\n",
      "  warnings.warn(\"FP16 is not supported on CPU; using FP32 instead\")\n"
     ]
    },
    {
     "name": "stdout",
     "output_type": "stream",
     "text": [
      "reference_text - predicted_text: tôi có thể có bản đồ đường đi của đảo maui không - tôi có thể phỏ bằng được những việc nào đó.\n",
      "Processing: FPTOpenSpeechData_Set001_V0.1_000161.mp3\n"
     ]
    },
    {
     "name": "stderr",
     "output_type": "stream",
     "text": [
      "/home/ngo/anaconda3/lib/python3.12/site-packages/whisper/transcribe.py:126: UserWarning: FP16 is not supported on CPU; using FP32 instead\n",
      "  warnings.warn(\"FP16 is not supported on CPU; using FP32 instead\")\n"
     ]
    },
    {
     "name": "stdout",
     "output_type": "stream",
     "text": [
      "reference_text - predicted_text: tôi bị suyễn - cảm ơn các bạn đã theo dõi và hẹn gặp lại.\n",
      "Processing: FPTOpenSpeechData_Set001_V0.1_000162.mp3\n"
     ]
    },
    {
     "name": "stderr",
     "output_type": "stream",
     "text": [
      "/home/ngo/anaconda3/lib/python3.12/site-packages/whisper/transcribe.py:126: UserWarning: FP16 is not supported on CPU; using FP32 instead\n",
      "  warnings.warn(\"FP16 is not supported on CPU; using FP32 instead\")\n"
     ]
    },
    {
     "name": "stdout",
     "output_type": "stream",
     "text": [
      "reference_text - predicted_text: thành ra càng cổ phần hóa ồ ạt càng bán giá nội bộ ồ ạt trừ phi có sẵn một cơ chế kiểm soát - hãy subscribe cho kênh ghiền mì gõ để không bỏ lỡ những video hấp dẫn\n",
      "Processing: FPTOpenSpeechData_Set001_V0.1_000163.mp3\n"
     ]
    },
    {
     "name": "stderr",
     "output_type": "stream",
     "text": [
      "/home/ngo/anaconda3/lib/python3.12/site-packages/whisper/transcribe.py:126: UserWarning: FP16 is not supported on CPU; using FP32 instead\n",
      "  warnings.warn(\"FP16 is not supported on CPU; using FP32 instead\")\n"
     ]
    },
    {
     "name": "stdout",
     "output_type": "stream",
     "text": [
      "reference_text - predicted_text: nền tài chính nhật bản phụ thuộc khá lớn vào các chính sách tiền tệ của mỹ - nên tài chính các bạn phù thuộc khá lớn vào các chính sách địa tài của mỹ.\n",
      "Processing: FPTOpenSpeechData_Set001_V0.1_000164.mp3\n"
     ]
    },
    {
     "name": "stderr",
     "output_type": "stream",
     "text": [
      "/home/ngo/anaconda3/lib/python3.12/site-packages/whisper/transcribe.py:126: UserWarning: FP16 is not supported on CPU; using FP32 instead\n",
      "  warnings.warn(\"FP16 is not supported on CPU; using FP32 instead\")\n"
     ]
    },
    {
     "name": "stdout",
     "output_type": "stream",
     "text": [
      "reference_text - predicted_text: anh cất hành lý này cho tôi được không - cảm ơn các anh chị rất là lâu\n",
      "Processing: FPTOpenSpeechData_Set001_V0.1_000165.mp3\n"
     ]
    },
    {
     "name": "stderr",
     "output_type": "stream",
     "text": [
      "/home/ngo/anaconda3/lib/python3.12/site-packages/whisper/transcribe.py:126: UserWarning: FP16 is not supported on CPU; using FP32 instead\n",
      "  warnings.warn(\"FP16 is not supported on CPU; using FP32 instead\")\n"
     ]
    },
    {
     "name": "stdout",
     "output_type": "stream",
     "text": [
      "reference_text - predicted_text: obon nghĩa là gì - ô con ghê là gì?\n",
      "Processing: FPTOpenSpeechData_Set001_V0.1_000166.mp3\n"
     ]
    },
    {
     "name": "stderr",
     "output_type": "stream",
     "text": [
      "/home/ngo/anaconda3/lib/python3.12/site-packages/whisper/transcribe.py:126: UserWarning: FP16 is not supported on CPU; using FP32 instead\n",
      "  warnings.warn(\"FP16 is not supported on CPU; using FP32 instead\")\n"
     ]
    },
    {
     "name": "stdout",
     "output_type": "stream",
     "text": [
      "reference_text - predicted_text: tăng nhiệt độ lên hai mươi chín độ - điểm độ lớn 29 độ.\n",
      "Processing: FPTOpenSpeechData_Set001_V0.1_000167.mp3\n"
     ]
    },
    {
     "name": "stderr",
     "output_type": "stream",
     "text": [
      "/home/ngo/anaconda3/lib/python3.12/site-packages/whisper/transcribe.py:126: UserWarning: FP16 is not supported on CPU; using FP32 instead\n",
      "  warnings.warn(\"FP16 is not supported on CPU; using FP32 instead\")\n"
     ]
    },
    {
     "name": "stdout",
     "output_type": "stream",
     "text": [
      "reference_text - predicted_text: kênh sáu - chào\n",
      "Processing: FPTOpenSpeechData_Set001_V0.1_000168.mp3\n"
     ]
    },
    {
     "name": "stderr",
     "output_type": "stream",
     "text": [
      "/home/ngo/anaconda3/lib/python3.12/site-packages/whisper/transcribe.py:126: UserWarning: FP16 is not supported on CPU; using FP32 instead\n",
      "  warnings.warn(\"FP16 is not supported on CPU; using FP32 instead\")\n"
     ]
    },
    {
     "name": "stdout",
     "output_type": "stream",
     "text": [
      "reference_text - predicted_text: phờ phạc sau hành trình dài - cảm ơn các bạn đã theo dõi và hẹn gặp lại.\n",
      "Processing: FPTOpenSpeechData_Set001_V0.1_000169.mp3\n"
     ]
    },
    {
     "name": "stderr",
     "output_type": "stream",
     "text": [
      "/home/ngo/anaconda3/lib/python3.12/site-packages/whisper/transcribe.py:126: UserWarning: FP16 is not supported on CPU; using FP32 instead\n",
      "  warnings.warn(\"FP16 is not supported on CPU; using FP32 instead\")\n"
     ]
    },
    {
     "name": "stdout",
     "output_type": "stream",
     "text": [
      "reference_text - predicted_text: mười hai giờ mười lăm rồi - 12h15 rồi.\n",
      "Processing: FPTOpenSpeechData_Set001_V0.1_000170.mp3\n"
     ]
    },
    {
     "name": "stderr",
     "output_type": "stream",
     "text": [
      "/home/ngo/anaconda3/lib/python3.12/site-packages/whisper/transcribe.py:126: UserWarning: FP16 is not supported on CPU; using FP32 instead\n",
      "  warnings.warn(\"FP16 is not supported on CPU; using FP32 instead\")\n"
     ]
    },
    {
     "name": "stdout",
     "output_type": "stream",
     "text": [
      "reference_text - predicted_text: tiêu cực ương ngạnh - cảm ơn các bạn đã theo dõi và hẹn gặp lại.\n",
      "Processing: FPTOpenSpeechData_Set001_V0.1_000171.mp3\n"
     ]
    },
    {
     "name": "stderr",
     "output_type": "stream",
     "text": [
      "/home/ngo/anaconda3/lib/python3.12/site-packages/whisper/transcribe.py:126: UserWarning: FP16 is not supported on CPU; using FP32 instead\n",
      "  warnings.warn(\"FP16 is not supported on CPU; using FP32 instead\")\n"
     ]
    },
    {
     "name": "stdout",
     "output_type": "stream",
     "text": [
      "reference_text - predicted_text: tuy nhiên hôm qua ông đã phá lệ - cảm ơn các bạn đã theo dõi và hẹn gặp lại.\n",
      "Processing: FPTOpenSpeechData_Set001_V0.1_000172.mp3\n"
     ]
    },
    {
     "name": "stderr",
     "output_type": "stream",
     "text": [
      "/home/ngo/anaconda3/lib/python3.12/site-packages/whisper/transcribe.py:126: UserWarning: FP16 is not supported on CPU; using FP32 instead\n",
      "  warnings.warn(\"FP16 is not supported on CPU; using FP32 instead\")\n"
     ]
    },
    {
     "name": "stdout",
     "output_type": "stream",
     "text": [
      "reference_text - predicted_text: phát triển - hãy subscribe cho kênh ghiền mì gõ để không bỏ lỡ những video hấp dẫn\n",
      "Processing: FPTOpenSpeechData_Set001_V0.1_000173.mp3\n"
     ]
    },
    {
     "name": "stderr",
     "output_type": "stream",
     "text": [
      "/home/ngo/anaconda3/lib/python3.12/site-packages/whisper/transcribe.py:126: UserWarning: FP16 is not supported on CPU; using FP32 instead\n",
      "  warnings.warn(\"FP16 is not supported on CPU; using FP32 instead\")\n"
     ]
    },
    {
     "name": "stdout",
     "output_type": "stream",
     "text": [
      "reference_text - predicted_text: cái xác cứ thế khô dần cho đến hôm nay - cảm ơn các bạn đã theo dõi và hẹn gặp lại.\n",
      "Processing: FPTOpenSpeechData_Set001_V0.1_000174.mp3\n"
     ]
    },
    {
     "name": "stderr",
     "output_type": "stream",
     "text": [
      "/home/ngo/anaconda3/lib/python3.12/site-packages/whisper/transcribe.py:126: UserWarning: FP16 is not supported on CPU; using FP32 instead\n",
      "  warnings.warn(\"FP16 is not supported on CPU; using FP32 instead\")\n"
     ]
    },
    {
     "name": "stdout",
     "output_type": "stream",
     "text": [
      "reference_text - predicted_text: ti vi vtv hai - vtv2\n",
      "Processing: FPTOpenSpeechData_Set001_V0.1_000175.mp3\n"
     ]
    },
    {
     "name": "stderr",
     "output_type": "stream",
     "text": [
      "/home/ngo/anaconda3/lib/python3.12/site-packages/whisper/transcribe.py:126: UserWarning: FP16 is not supported on CPU; using FP32 instead\n",
      "  warnings.warn(\"FP16 is not supported on CPU; using FP32 instead\")\n"
     ]
    },
    {
     "name": "stdout",
     "output_type": "stream",
     "text": [
      "reference_text - predicted_text: nhóm cho rằng điều đó chứng tỏ phụ nữ tập trung hơn vào ngôn ngữ của sự hài hước - hãy đăng ký kênh để ủng hộ kênh của mình nhé.\n",
      "Processing: FPTOpenSpeechData_Set001_V0.1_000176.mp3\n"
     ]
    },
    {
     "name": "stderr",
     "output_type": "stream",
     "text": [
      "/home/ngo/anaconda3/lib/python3.12/site-packages/whisper/transcribe.py:126: UserWarning: FP16 is not supported on CPU; using FP32 instead\n",
      "  warnings.warn(\"FP16 is not supported on CPU; using FP32 instead\")\n"
     ]
    },
    {
     "name": "stdout",
     "output_type": "stream",
     "text": [
      "reference_text - predicted_text: phòng quá ồn và tôi không thể ngủ được - hồng quá ồn tôi không thể ngủ được.\n",
      "Processing: FPTOpenSpeechData_Set001_V0.1_000177.mp3\n"
     ]
    },
    {
     "name": "stderr",
     "output_type": "stream",
     "text": [
      "/home/ngo/anaconda3/lib/python3.12/site-packages/whisper/transcribe.py:126: UserWarning: FP16 is not supported on CPU; using FP32 instead\n",
      "  warnings.warn(\"FP16 is not supported on CPU; using FP32 instead\")\n"
     ]
    },
    {
     "name": "stdout",
     "output_type": "stream",
     "text": [
      "reference_text - predicted_text: những lãnh đạo cấp cao đang phải đối mặt với việc giảm lương đến mức nào hiện vẫn chưa rõ - những năng lượng cao đăng đường mà kể về thành dương chỉ mức nào vẫn chưa có.\n",
      "Processing: FPTOpenSpeechData_Set001_V0.1_000178.mp3\n"
     ]
    },
    {
     "name": "stderr",
     "output_type": "stream",
     "text": [
      "/home/ngo/anaconda3/lib/python3.12/site-packages/whisper/transcribe.py:126: UserWarning: FP16 is not supported on CPU; using FP32 instead\n",
      "  warnings.warn(\"FP16 is not supported on CPU; using FP32 instead\")\n"
     ]
    },
    {
     "name": "stdout",
     "output_type": "stream",
     "text": [
      "reference_text - predicted_text: xe mỹ từng là biểu tượng giàu sang - sẽ mệnh tương lai biểu tượng râu rá.\n",
      "Processing: FPTOpenSpeechData_Set001_V0.1_000179.mp3\n"
     ]
    },
    {
     "name": "stderr",
     "output_type": "stream",
     "text": [
      "/home/ngo/anaconda3/lib/python3.12/site-packages/whisper/transcribe.py:126: UserWarning: FP16 is not supported on CPU; using FP32 instead\n",
      "  warnings.warn(\"FP16 is not supported on CPU; using FP32 instead\")\n"
     ]
    },
    {
     "name": "stdout",
     "output_type": "stream",
     "text": [
      "reference_text - predicted_text: bữa ăn sinh viên từ lâu đã đơn giản lắm rồi giờ càng đơn giản hơn bao giờ hết - bữa ăn trên viên tử lâu đã đơn giản lắm rồi, giờ càng đơn giản hơn bao giờ hơn.\n",
      "Processing: FPTOpenSpeechData_Set001_V0.1_000180.mp3\n"
     ]
    },
    {
     "name": "stderr",
     "output_type": "stream",
     "text": [
      "/home/ngo/anaconda3/lib/python3.12/site-packages/whisper/transcribe.py:126: UserWarning: FP16 is not supported on CPU; using FP32 instead\n",
      "  warnings.warn(\"FP16 is not supported on CPU; using FP32 instead\")\n"
     ]
    },
    {
     "name": "stdout",
     "output_type": "stream",
     "text": [
      "reference_text - predicted_text: bệnh này có thường xảy ra không - mặt này có thường sẽ ra không?\n",
      "Processing: FPTOpenSpeechData_Set001_V0.1_000181.mp3\n"
     ]
    },
    {
     "name": "stderr",
     "output_type": "stream",
     "text": [
      "/home/ngo/anaconda3/lib/python3.12/site-packages/whisper/transcribe.py:126: UserWarning: FP16 is not supported on CPU; using FP32 instead\n",
      "  warnings.warn(\"FP16 is not supported on CPU; using FP32 instead\")\n"
     ]
    },
    {
     "name": "stdout",
     "output_type": "stream",
     "text": [
      "reference_text - predicted_text: anh có đang thấy cầu vồng không - anh có đem thấy tổ vồn không?\n",
      "Processing: FPTOpenSpeechData_Set001_V0.1_000182.mp3\n"
     ]
    },
    {
     "name": "stderr",
     "output_type": "stream",
     "text": [
      "/home/ngo/anaconda3/lib/python3.12/site-packages/whisper/transcribe.py:126: UserWarning: FP16 is not supported on CPU; using FP32 instead\n",
      "  warnings.warn(\"FP16 is not supported on CPU; using FP32 instead\")\n"
     ]
    },
    {
     "name": "stdout",
     "output_type": "stream",
     "text": [
      "reference_text - predicted_text: họ phải đảm bảo có đủ vắc xin và thực hiện các biện pháp cần thiết khác để đối phó với tình hình - hãy subscribe cho kênh ghiền mì gõ để không bỏ lỡ những video hấp dẫn\n",
      "Processing: FPTOpenSpeechData_Set001_V0.1_000183.mp3\n"
     ]
    },
    {
     "name": "stderr",
     "output_type": "stream",
     "text": [
      "/home/ngo/anaconda3/lib/python3.12/site-packages/whisper/transcribe.py:126: UserWarning: FP16 is not supported on CPU; using FP32 instead\n",
      "  warnings.warn(\"FP16 is not supported on CPU; using FP32 instead\")\n"
     ]
    },
    {
     "name": "stdout",
     "output_type": "stream",
     "text": [
      "reference_text - predicted_text: anh gọi đánh thức tôi lúc bảy giờ sáng mai được không - anh gọi đánh thức tôi lúc 7 giờ tháng mai không?\n",
      "Processing: FPTOpenSpeechData_Set001_V0.1_000184.mp3\n"
     ]
    },
    {
     "name": "stderr",
     "output_type": "stream",
     "text": [
      "/home/ngo/anaconda3/lib/python3.12/site-packages/whisper/transcribe.py:126: UserWarning: FP16 is not supported on CPU; using FP32 instead\n",
      "  warnings.warn(\"FP16 is not supported on CPU; using FP32 instead\")\n"
     ]
    },
    {
     "name": "stdout",
     "output_type": "stream",
     "text": [
      "reference_text - predicted_text: tự đăng cáo phó cho mình - cảm ơn các bạn đã theo dõi và hẹn gặp lại.\n",
      "Processing: FPTOpenSpeechData_Set001_V0.1_000185.mp3\n"
     ]
    },
    {
     "name": "stderr",
     "output_type": "stream",
     "text": [
      "/home/ngo/anaconda3/lib/python3.12/site-packages/whisper/transcribe.py:126: UserWarning: FP16 is not supported on CPU; using FP32 instead\n",
      "  warnings.warn(\"FP16 is not supported on CPU; using FP32 instead\")\n"
     ]
    },
    {
     "name": "stdout",
     "output_type": "stream",
     "text": [
      "reference_text - predicted_text: anh thích kiểu nào hơn - anh hiểu nào không?\n",
      "Processing: FPTOpenSpeechData_Set001_V0.1_000186.mp3\n"
     ]
    },
    {
     "name": "stderr",
     "output_type": "stream",
     "text": [
      "/home/ngo/anaconda3/lib/python3.12/site-packages/whisper/transcribe.py:126: UserWarning: FP16 is not supported on CPU; using FP32 instead\n",
      "  warnings.warn(\"FP16 is not supported on CPU; using FP32 instead\")\n"
     ]
    },
    {
     "name": "stdout",
     "output_type": "stream",
     "text": [
      "reference_text - predicted_text: ánh đuốc hắt lên khoanh cổ cụt đỏ hỏn hụt hẫng - anh đưa hạt lên quanh cổ cụt đỏ ngon thật thật.\n",
      "Processing: FPTOpenSpeechData_Set001_V0.1_000187.mp3\n"
     ]
    },
    {
     "name": "stderr",
     "output_type": "stream",
     "text": [
      "/home/ngo/anaconda3/lib/python3.12/site-packages/whisper/transcribe.py:126: UserWarning: FP16 is not supported on CPU; using FP32 instead\n",
      "  warnings.warn(\"FP16 is not supported on CPU; using FP32 instead\")\n"
     ]
    },
    {
     "name": "stdout",
     "output_type": "stream",
     "text": [
      "reference_text - predicted_text: xin lỗi anh có thể -n lĩnh tiền mặt cái này không - xin lỗi, anh có thể thử cùng điện mà trả ngay không?\n",
      "Processing: FPTOpenSpeechData_Set001_V0.1_000188.mp3\n"
     ]
    },
    {
     "name": "stderr",
     "output_type": "stream",
     "text": [
      "/home/ngo/anaconda3/lib/python3.12/site-packages/whisper/transcribe.py:126: UserWarning: FP16 is not supported on CPU; using FP32 instead\n",
      "  warnings.warn(\"FP16 is not supported on CPU; using FP32 instead\")\n"
     ]
    },
    {
     "name": "stdout",
     "output_type": "stream",
     "text": [
      "reference_text - predicted_text: cảnh sát biết rằng có một nhóm bí mật hoạt động bất hợp pháp - cảm giác biết rằng có một nhân viên mất tài lộc bất phật.\n",
      "Processing: FPTOpenSpeechData_Set001_V0.1_000189.mp3\n"
     ]
    },
    {
     "name": "stderr",
     "output_type": "stream",
     "text": [
      "/home/ngo/anaconda3/lib/python3.12/site-packages/whisper/transcribe.py:126: UserWarning: FP16 is not supported on CPU; using FP32 instead\n",
      "  warnings.warn(\"FP16 is not supported on CPU; using FP32 instead\")\n"
     ]
    },
    {
     "name": "stdout",
     "output_type": "stream",
     "text": [
      "reference_text - predicted_text: thiết bị còn gửi thông điệp cảnh báo tới người chủ khi pin sắp hết - hãy subscribe cho kênh ghiền mì gõ để không bỏ lỡ những video hấp dẫn\n",
      "Processing: FPTOpenSpeechData_Set001_V0.1_000190.mp3\n"
     ]
    },
    {
     "name": "stderr",
     "output_type": "stream",
     "text": [
      "/home/ngo/anaconda3/lib/python3.12/site-packages/whisper/transcribe.py:126: UserWarning: FP16 is not supported on CPU; using FP32 instead\n",
      "  warnings.warn(\"FP16 is not supported on CPU; using FP32 instead\")\n"
     ]
    },
    {
     "name": "stdout",
     "output_type": "stream",
     "text": [
      "reference_text - predicted_text: xin vui lòng cứ mang giày - chuyện vui lòng giữ mãi dài.\n",
      "Processing: FPTOpenSpeechData_Set001_V0.1_000191.mp3\n"
     ]
    },
    {
     "name": "stderr",
     "output_type": "stream",
     "text": [
      "/home/ngo/anaconda3/lib/python3.12/site-packages/whisper/transcribe.py:126: UserWarning: FP16 is not supported on CPU; using FP32 instead\n",
      "  warnings.warn(\"FP16 is not supported on CPU; using FP32 instead\")\n"
     ]
    },
    {
     "name": "stdout",
     "output_type": "stream",
     "text": [
      "reference_text - predicted_text: tôi không biết chắc là có tai nạn - tôi không biết, chắc là họ đã ngạc nhiên.\n",
      "Processing: FPTOpenSpeechData_Set001_V0.1_000192.mp3\n"
     ]
    },
    {
     "name": "stderr",
     "output_type": "stream",
     "text": [
      "/home/ngo/anaconda3/lib/python3.12/site-packages/whisper/transcribe.py:126: UserWarning: FP16 is not supported on CPU; using FP32 instead\n",
      "  warnings.warn(\"FP16 is not supported on CPU; using FP32 instead\")\n"
     ]
    },
    {
     "name": "stdout",
     "output_type": "stream",
     "text": [
      "reference_text - predicted_text: tao nhanh đến mức nào - tạo ra những...\n",
      "Processing: FPTOpenSpeechData_Set001_V0.1_000193.mp3\n"
     ]
    },
    {
     "name": "stderr",
     "output_type": "stream",
     "text": [
      "/home/ngo/anaconda3/lib/python3.12/site-packages/whisper/transcribe.py:126: UserWarning: FP16 is not supported on CPU; using FP32 instead\n",
      "  warnings.warn(\"FP16 is not supported on CPU; using FP32 instead\")\n"
     ]
    },
    {
     "name": "stdout",
     "output_type": "stream",
     "text": [
      "reference_text - predicted_text: bữa tiệc sống động -n - bữa thì sóng động.\n",
      "Processing: FPTOpenSpeechData_Set001_V0.1_000194.mp3\n"
     ]
    },
    {
     "name": "stderr",
     "output_type": "stream",
     "text": [
      "/home/ngo/anaconda3/lib/python3.12/site-packages/whisper/transcribe.py:126: UserWarning: FP16 is not supported on CPU; using FP32 instead\n",
      "  warnings.warn(\"FP16 is not supported on CPU; using FP32 instead\")\n"
     ]
    },
    {
     "name": "stdout",
     "output_type": "stream",
     "text": [
      "reference_text - predicted_text: vậy còn yếu tố tinh thần thì sao - quả yêu của tất cả chúng ta\n",
      "Processing: FPTOpenSpeechData_Set001_V0.1_000195.mp3\n"
     ]
    },
    {
     "name": "stderr",
     "output_type": "stream",
     "text": [
      "/home/ngo/anaconda3/lib/python3.12/site-packages/whisper/transcribe.py:126: UserWarning: FP16 is not supported on CPU; using FP32 instead\n",
      "  warnings.warn(\"FP16 is not supported on CPU; using FP32 instead\")\n"
     ]
    },
    {
     "name": "stdout",
     "output_type": "stream",
     "text": [
      "reference_text - predicted_text: cái này trên tầng ba - để ngay chung tầm 3.\n",
      "Processing: FPTOpenSpeechData_Set001_V0.1_000196.mp3\n"
     ]
    },
    {
     "name": "stderr",
     "output_type": "stream",
     "text": [
      "/home/ngo/anaconda3/lib/python3.12/site-packages/whisper/transcribe.py:126: UserWarning: FP16 is not supported on CPU; using FP32 instead\n",
      "  warnings.warn(\"FP16 is not supported on CPU; using FP32 instead\")\n"
     ]
    },
    {
     "name": "stdout",
     "output_type": "stream",
     "text": [
      "reference_text - predicted_text: chuyến bay của anh khi nào - hẹn gặp lại các bạn trong những video tiếp theo.\n",
      "Processing: FPTOpenSpeechData_Set001_V0.1_000197.mp3\n"
     ]
    },
    {
     "name": "stderr",
     "output_type": "stream",
     "text": [
      "/home/ngo/anaconda3/lib/python3.12/site-packages/whisper/transcribe.py:126: UserWarning: FP16 is not supported on CPU; using FP32 instead\n",
      "  warnings.warn(\"FP16 is not supported on CPU; using FP32 instead\")\n"
     ]
    },
    {
     "name": "stdout",
     "output_type": "stream",
     "text": [
      "reference_text - predicted_text: không không phải có bàn trống cho hai người không - cảm ơn các bạn đã theo dõi.\n",
      "Processing: FPTOpenSpeechData_Set001_V0.1_000198.mp3\n"
     ]
    },
    {
     "name": "stderr",
     "output_type": "stream",
     "text": [
      "/home/ngo/anaconda3/lib/python3.12/site-packages/whisper/transcribe.py:126: UserWarning: FP16 is not supported on CPU; using FP32 instead\n",
      "  warnings.warn(\"FP16 is not supported on CPU; using FP32 instead\")\n"
     ]
    },
    {
     "name": "stdout",
     "output_type": "stream",
     "text": [
      "reference_text - predicted_text: tôi có thể có một tờ tạp chí khác không - \n",
      "Processing: FPTOpenSpeechData_Set001_V0.1_000199.mp3\n"
     ]
    },
    {
     "name": "stderr",
     "output_type": "stream",
     "text": [
      "/home/ngo/anaconda3/lib/python3.12/site-packages/whisper/transcribe.py:126: UserWarning: FP16 is not supported on CPU; using FP32 instead\n",
      "  warnings.warn(\"FP16 is not supported on CPU; using FP32 instead\")\n"
     ]
    },
    {
     "name": "stdout",
     "output_type": "stream",
     "text": [
      "reference_text - predicted_text: bán cho tôi một vé hạng hai đến chermarn - và cái tôi một vẻ hài hại để xem ai.\n",
      "Processing: FPTOpenSpeechData_Set001_V0.1_000200.mp3\n"
     ]
    },
    {
     "name": "stderr",
     "output_type": "stream",
     "text": [
      "/home/ngo/anaconda3/lib/python3.12/site-packages/whisper/transcribe.py:126: UserWarning: FP16 is not supported on CPU; using FP32 instead\n",
      "  warnings.warn(\"FP16 is not supported on CPU; using FP32 instead\")\n"
     ]
    },
    {
     "name": "stdout",
     "output_type": "stream",
     "text": [
      "reference_text - predicted_text: jerry đây là jack làm ơn gọi cho edith - chào tạm biệt quý vị và các bạn.\n",
      "Xu ly tung file am thanh - end\n"
     ]
    }
   ],
   "source": [
    "# Khởi tạo danh sách để lưu kết quả\n",
    "hypotheses = []\n",
    "references = []\n",
    "results = []\n",
    "\n",
    "# Sắp xếp danh sách file theo tên\n",
    "audio_files = sorted([f for f in os.listdir(AUDIO_FOLDER) if f.endswith(\".mp3\")])\n",
    "\n",
    "# Xử lý từng file âm thanh\n",
    "for audio_file in audio_files:\n",
    "    file_path = os.path.join(AUDIO_FOLDER, audio_file)\n",
    "    print(f\"Processing: {audio_file}\")\n",
    "    \n",
    "    # Nhận diện giọng nói\n",
    "    result = model.transcribe(file_path, language=\"vi\")\n",
    "    predicted_text = result[\"text\"].strip().lower()\n",
    "    \n",
    "    # Lưu kết quả nếu có transcript chuẩn\n",
    "    if audio_file in ground_truths:\n",
    "        reference_text = ground_truths[audio_file].strip().lower()\n",
    "        print(f'reference_text - predicted_text: {reference_text} - {predicted_text}')\n",
    "        if reference_text and predicted_text:\n",
    "            references.append(reference_text)\n",
    "            hypotheses.append(predicted_text)\n",
    "    else:\n",
    "        print(f\"Warning: No reference found for {audio_file}\")\n",
    "    \n",
    "    # Ghi kết quả vào danh sách\n",
    "    results.append(f\"{audio_file}|{predicted_text}\")\n",
    "\n",
    "print(\"Xu ly tung file am thanh - end\")"
   ]
  },
  {
   "cell_type": "code",
   "execution_count": 13,
   "id": "53097727-224f-4ac1-8ae8-ed8b8a2b0003",
   "metadata": {},
   "outputs": [
    {
     "name": "stdout",
     "output_type": "stream",
     "text": [
      "reference_text: ['cách để đi', 'họ đã xét nghiệm máu cho cheng nhưng mọi thứ vẫn hoàn toàn bình thường', 'anh có thể gọi tôi không', 'có rất nhiều yếu tố may rủi ở đây', 'ai là chúa nói dối', 'có cửa hàng tiện lợi ở sân bay không', 'anh đổi ngoại tệ được không', 'cô ấy mua hai mươi trái chôm chôm và ba con cá', 'đứa bé có ói òng ọc ra sữa hoặc nước và bé chưa đến mười tuần tuổi hoặc có biểu hiện mất nước không', 'tôi có thể viết tên địa chỉ số điện thoại của công ty bảo hiểm của anh được không', 'đừng lo tôi vừa mới đến rồi', 'mười phút nữa vào giờ rưỡi', 'tôi có thể hẹn cho chiều mai không', 'anh rửa hình kỹ thuật số ra được không', 'tôi cố thu xếp thôi', 'tôi không dùng ma túy', 'quân đội mỹ muốn chế tạo những máy tự động hoàn toàn vì những chiếc mà họ đang có vẫn cần được điều khiển bởi con người', 'tôi quên túi đeo vai trong xe tắc xi', 'dư luận đã phản ánh lên cơ quan địa chính của thị trấn nhưng mãi chả thấy hồi âm', 'giả danh làm từ thiện lừa tiền người dân', 'sắm đồ siêu sang ở hội chợ triệu phú', 'nếu làm lộ thiên cơ âm binh sẽ đánh trả thầy', 'máy ném bom chiến lược của nga gặp nạn', 'anh có thích tôi giữ trước quyển sách này cho anh không', 'ở người bị hội chứng khi ăn ngủ phần não phải vẫn thức và sau đó là cả các dạng hoạt động thể chất', 'tỉ lệ là mười mm trên một km', 'tôi muốn thực hiện một cuộc gọi điện thoại quốc tế đi nhật bản cuộc gọi -n là đến tokyo số ba hai chín hai tám hai một một', 'nơi đây hiện khá yên tĩnh', 'nhưng cũng có những bạn nằm khèo ở nhà trùm mềm và khóc nhè', 'chúng ta không thể mua cái nào ở nhật bản', 'cho vừa với số kinh phí hạn hẹp của một bộ phim', 'kịch sến nhiều tập làm tôi oải quá tôi sẽ tắt tv', 'chính vì thế những người phải sống một thời gian dài trong không gian có thể gặp rủi ro', 'thực ra thà không đến nỗi mơ mộng đến mê muội để chẳng hiểu tấm lòng của những người thân thông qua lời khuyên nhủ', 'bán đấu giá mỹ nữ', 'địa chỉ email của tôi là s t e f a n dot m a r t e n s \\\\r\\\\n @ gmx dot de', 'hôm thứ năm ủy ban bầu cử thái lan cho rằng đảng của người thái yêu người thái đã phạm hai luật trong chiến dịch tranh cử vừa qua', 'không thể xem lần vấp ngã ấy là tai', 'cướp bóc trong khi hỏa hoạn', 'một dân tộc từng không có người từ á sang âu -n', 'tết đầu tiên xa việt nam của cháu quả là ý nghĩa', 'trong làng ai cũng quý mến gia đình anh phú', 'xin chào gia đình tanaka', 'anh đã làm rất tệ', 'cô ta nghi ngờ lúc mình say rượu đã bị toán cưỡng bức', 'ông muốn nhãn hiệu bia nào', 'anh có dừng tại khách sạn begin không', 'bật điều hòa nhiệt độ', 'nhiều chàng trai để ý và theo dõi bạn', 'chúng ta hãy tung một đồng tiền để quyết định', 'tôi nghe đĩa cd này được không', 'nguyễn văn vũ vừa tử nạn vì hỗ trợ đuổi bắt tội phạm ngày mười ba tháng một công an xã cẩm trạch huyện cần cẩu cho biết một người lái xe khách hai bảy tuổi đã tử nạn khi giúp một phụ nữ bị bảy tên khống chế cướp tài sản', 'hai con voi này rất hung dữ và phá nát nhiều hoa màu của người dân trong khu vực', 'anh có bị đau do mệt mỏi không', 'bạn có muốn tôi dịch cái này cho bạn không tôi nói tiếng nhật', 'vâng giá sẽ là ba trăm yên', 'và như thế những điều tốt đẹp', 'tăng nhiệt độ lên hai mươi mốt độ', '-n ở sheraton', 'kỳ tích có thể để lại quyền lực bởi một nhà độc tài dầu mỏ nhưng cũng có thể giúp thể chế hóa những phong trào chống mỹ diễn ra tại khu vực trung đông', 'lãnh đạo ngành ô tô mỹ nên từ chức', 'cô ấy biết', 'từng sợi thương li ti kết lại', 'mồ hôi là một trong những phương tiện để cơ thể thải cặn bã ra ngoài', 'ti vi k+ một', 'hiện nay mỗi khi chào hàng các lò rang hạt dưa như tứ hưng duy ký thiên hương', 'nhờ có chúa', 'xe chú rể lăn xuống vực sau tiệc cưới', 'rồi anh đi một chuyến đến khu vực vỉa san hô và thăm viện bảo tàng úc anh có thể tìm hiểu nhiều về nước úc anh cũng có thể có một món quà đẹp tại cảng darling nếu anh muốn mua vài đồ lưu niệm có rất nhiều đồ vật và phụ kiện anh có thể muốn mua', 'đó là chưa kể các thủ đoạn chính trị xã hội khác', 'tôi có vẽ một chút', 'cho tôi mẫu thử được không', 'tôi có ba con gái', 'tôi sẽ ở lại đây', 'người ta cho rằng số khúc gỗ ở dưới đáy bị dính nước bẩn ít thì kỳ kinh sẽ ngắn', 'không một nơi nào lãng mạn và thơ mộng hơn những khu hồ hoang', 'bị hại kháng cáo vì cho rằng các cơ quan tố tụng ở huyện hương khê bỏ lọt người sót tội', 'cuối cùng họ sẽ phải gõ cửa nhờ ông ấy', 'cái giá của một anh hùng', 'bản sao tấm séc khoản tiền vợ chồng nguyễn nhận được', 'nhằm thu hút thêm nhiều nhà đầu tư', 'vui lòng cho ba vé khứ hồi hạng hai', 'anh cần một con tem một đô la ba mươi cent', 'xà lách trộn phó mát mốc xanh và cây óc chó', 'chúng tôi sẽ bồi thường cho anh', 'chỉ xét tuyển hồ sơ không phải thi', 'gần chín nghìn tỉ đồng xây đường sắt đô thị cát linh hà đông', 'bỏ quần vào trong máy giặt', 'trả lời tôi biết', 'đến thời điểm hiện tại ít nhất trong cả nước đã có năm mươi nghìn lao động thất nghiệp', 'anh sẵn sàng gọi món chưa', 'là tác động của nó đến hiệu suất chung của toàn bộ hệ thống điện', 'đã bán rồi', 'chúng tôi có bốn người', 'vẻ đẹp khuôn mặt và bản năng tình dục quan hệ tương hỗ chặt chẽ với nhau', 'hầu bàn của quý khách sẽ là alfredo', 'đầu gối có bị sưng đỏ hoặc cả hai', 'hút thuốc bị hạn chế trong khu vực công cộng', 'chẳng phải là bệnh hiểm nghèo nhưng trĩ vẫn là bệnh gây khó chịu cho bệnh nhân bởi làm cản trở công việc của họ lúc làm việc cũng như lúc ngủ họ vẫn phải lo nghĩ giáo sư nghĩa nói', 'chuyển máy cho ai', 'kết quả lao động của tôi đến đâu thì tác phẩm trả lời', 'khi những chiếc đĩa được dỡ bỏ lũ hà mã cũng chẳng thèm chú ý tới những chiếc nhãn đó nữa', 'không vậy không sao tôi sẽ gọi ông ấy sau cảm ơn', 'có giảm giá cho người cao niên không', 'hãy gọi cảnh sát ngay', 'bắt đầu đếm', 'anh có bị đau do mệt mỏi không', 'lãi suất cho vay cũng đã giảm mạnh theo lãi huy động vốn lãi nhiều vẫn chẳng có người nào gửi cả', 'các nhà khoa học đang tiến thêm một bước', 'cùng chuẩn và ngũ hai đối tượng khác chuyên làm nhiệm vụ đưa người sang trung quốc là nguyễn vũ hải và võ cảnh dũng cùng trú tại bắc giang cũng bị cảnh sát bắt', 'hệ thống phòng ngự tài năng và giàu kinh nghiệm', 'sẽ đủ sức cạnh tranh với nước ngoài', 'giơ tay lên để đồng ý', 'vui lòng trả mười đô la', 'đây là hồi chuông cảnh báo về sự mất an toàn lưới điện trên địa bàn', 'ban đêm bắng cây đa', 'kênh hai ti vi', 'này chúng tôi sắp nhổ neo', 'mở', 'độc giả của tôi muốn hướng tới là sinh viên và trí thức', 'không mở cửa ồ ạt', 'tôi muốn đổi cái này lấy cái màu xanh', 'sống với em anh nhé', 'vừa gọi điện vừa đi lại rất gây hại cho sức khỏe', 'tôi có thể tìm bảng tin ở đâu', 'anh chuẩn bị toa này cho tôi được không', 'đây là địa chỉ của anh', 'anh lắng nghe tôi một phút được không', 'lạm phát tăng là do dự báo yếu kém', 'thịt gà nhồi hỗn hợp băm nhỏ', 'trung tá nguyễn phả lại cán bộ quản giáo trực tiếp buồng số bảy chỗ ở của ông mẫu ông dũng nói kín kẽ cũng là tâm lý của người cải tạo loại án như trường hợp ông dũng', 'kí túc vắng tanh đèn thoát hiểm nhấp nháy chập chờn cứ như trên phim được xem ý', 'mở', 'tốt nhất anh không nên làm nó', 'tôi có thể mua vé ở đâu', 'vậy điều gì ủng hộ ý tưởng táo bạo trên', 'họ sẽ chơi nhiều ca khúc từ bộ phim âm thanh của âm nhạc', 'mã vùng của plymouth là không một bảy năm hai', 'không tôi luôn tỉ mỉ', 'một số trò chơi đòi hỏi các động tác chậm thận trọng hãy từ từ', 'có nên ưu tiên cho các hoạt động bí mật', 'nó là của anh', '-n lỗ mũi hẹp -n có tài kiếm tiền', 'đây là ghi chép cho phí nào', 'tôi bị các triệu chứng viêm phổi', 'còn bao nhiều giờ thì chúng ta sẽ đến new york', 'thị trường chính thức kém sôi động nên thị trường phi tập trung cũng ê ẩm', 'chúng tôi đã thuê căn hộ', 'mở lên', 'cuộc tình đó tồn tại cho tới ngày cô ta -n khối tài sản mà ông giao phó rồi biến mất tăm', 'xin vui lòng hãy sẵn sàng vào lúc chín giờ rưỡi', 'tôi không nghĩ như vậy', 'cách dễ nhất là tìm người khác để yêu', 'hãy tận dụng những gì có sẵn từ thiên nhiên để làm đẹp làn da', 'cô lấy cho tôi cái khăn nào', 'lối đánh tấn công quen thuộc của chị biến mất thay vào đó là những đường bóng yếu ớt', 'tôi có thể có bản đồ đường đi của đảo maui không', 'tôi bị suyễn', 'thành ra càng cổ phần hóa ồ ạt càng bán giá nội bộ ồ ạt trừ phi có sẵn một cơ chế kiểm soát', 'nền tài chính nhật bản phụ thuộc khá lớn vào các chính sách tiền tệ của mỹ', 'anh cất hành lý này cho tôi được không', 'obon nghĩa là gì', 'tăng nhiệt độ lên hai mươi chín độ', 'kênh sáu', 'phờ phạc sau hành trình dài', 'mười hai giờ mười lăm rồi', 'tiêu cực ương ngạnh', 'tuy nhiên hôm qua ông đã phá lệ', 'phát triển', 'cái xác cứ thế khô dần cho đến hôm nay', 'ti vi vtv hai', 'nhóm cho rằng điều đó chứng tỏ phụ nữ tập trung hơn vào ngôn ngữ của sự hài hước', 'phòng quá ồn và tôi không thể ngủ được', 'những lãnh đạo cấp cao đang phải đối mặt với việc giảm lương đến mức nào hiện vẫn chưa rõ', 'xe mỹ từng là biểu tượng giàu sang', 'bữa ăn sinh viên từ lâu đã đơn giản lắm rồi giờ càng đơn giản hơn bao giờ hết', 'bệnh này có thường xảy ra không', 'anh có đang thấy cầu vồng không', 'họ phải đảm bảo có đủ vắc xin và thực hiện các biện pháp cần thiết khác để đối phó với tình hình', 'anh gọi đánh thức tôi lúc bảy giờ sáng mai được không', 'tự đăng cáo phó cho mình', 'anh thích kiểu nào hơn', 'ánh đuốc hắt lên khoanh cổ cụt đỏ hỏn hụt hẫng', 'xin lỗi anh có thể -n lĩnh tiền mặt cái này không', 'cảnh sát biết rằng có một nhóm bí mật hoạt động bất hợp pháp', 'thiết bị còn gửi thông điệp cảnh báo tới người chủ khi pin sắp hết', 'xin vui lòng cứ mang giày', 'tôi không biết chắc là có tai nạn', 'tao nhanh đến mức nào', 'bữa tiệc sống động -n', 'vậy còn yếu tố tinh thần thì sao', 'cái này trên tầng ba', 'chuyến bay của anh khi nào', 'không không phải có bàn trống cho hai người không', 'bán cho tôi một vé hạng hai đến chermarn', 'jerry đây là jack làm ơn gọi cho edith']\n",
      "hypothesis: ['cảm ơn các bạn đã theo dõi và hẹn gặp lại.', 'hãy subscribe cho kênh ghiền mì gõ để không bỏ lỡ những video hấp dẫn', 'hãy subscribe cho kênh ghiền mì gõ để không bỏ lỡ những video hấp dẫn', 'cảm ơn các bạn đã theo dõi và hẹn gặp lại.', 'cảm ơn các bạn đã theo dõi và hẹn gặp lại.', 'cảm ơn các bạn đã theo dõi và hẹn gặp lại.', 'hãy đợi hoài đại được không?', 'cô ấy mua 2 dưới, 2 dung và 3 mắt ạ.', 'hãy subscribe cho kênh ghiền mì gõ để không bỏ lỡ những video hấp dẫn', 'tôi có thể biết tên, địa chỉ, số điện thoại của công ty bảo hiểm của anh được không?', 'tình hào tôi đúng với đến rồi.', '10 phút nữa vào 10.', 'cô có thể hãy tự dùng máy tính.', 'anh vừa hình dị thật sự ra được không?', 'cảm ơn các bạn đã theo dõi và hẹn gặp lại.', 'cảm ơn các bạn đã theo dõi và hẹn gặp lại.', 'các đội mỹ vua thứ tạng hiện nay tự động hoàn toàn dùng những chiếc mà họ đã có để tâm lực điều khiển với con người.', 'cô đơn vị đã bán được cái gì?', 'hãy subscribe cho kênh ghiền mì gõ để không bỏ lỡ những video hấp dẫn', 'rồi đây là từ khuyện lùa tiệc người dân', 'chào tạm biệt.', 'nếu làm lộn, nhưng sao âm binh sẽ đánh trả thầy.', 'hãy đăng ký kênh để ủng hộ kênh của mình nhé.', 'anh có thích tôi giữ chú chuyển sách này cho anh không?', 'hãy subscribe cho kênh ghiền mì gõ để không bỏ lỡ những video hấp dẫn', 'chính tệ là người như mẹ một tương lai.', 'hãy subscribe cho kênh ghiền mì gõ để không bỏ lỡ những video hấp dẫn', 'lời đây hiện tại.', 'chứ cũng có những bạn nằm kèo ở nhà thông môn và ông em', 'chúng ta không sẵn mùi cách nào như vậy.', 'chào tạm biệt.', 'thực sớm nhiều tập được hoài quá, tôi sẽ cắt miếng lấy.', 'chính vì thế, những người phải sống một thời gian dài trong không gian có thể là tùy cho.', 'rát thà không đến nỗi mơ mộng đến mê mùi đánh giữa thấm và buồn những người không có quả thương nữa', 'bác đồng giá đi được.', 'đi ký email của tôi là', 'chào tạm biệt và hẹn gặp lại.', 'chúng tôi xem chẳng có gì.', 'học tập tiêu thảo khác.', 'cảm ơn các bạn đã theo dõi và hẹn gặp lại.', 'tết đầu tiên sang việt nam của cháu quả ai ý nghĩa?', 'trong là hai cụm miếng ngón gia đình thăng cuốn.', 'chào tạm biệt các bạn.', 'chào tạm biệt.', 'hãy subscribe cho kênh ghiền mì gõ để không bỏ lỡ những video hấp dẫn', 'cảm ơn các bạn đã theo dõi và hẹn gặp lại.', 'anh có dừng lại dạng điên không?', 'học viên hoài nghi bảo.', 'nhìn chàng trai để ấy ra theo gỡ cả.', 'cảm ơn các bạn.', 'các bạn có thể nhớ like và share video này để ủng hộ kênh của mình nhé.', 'hãy subscribe cho kênh ghiền mì gõ để không bỏ lỡ những video hấp dẫn', 'hai con voi này rất hôn dữ và bán áp nhiều hoa màu của người dân trong khu vực.', 'anh có bị đau đô nguyệt không?', 'bản gọi của tôi thì cách này cho bạn bầu, tôi đã tự nhập.', 'còn giá trả là 80.000.', 'và như thế thì...', 'các vị thợ lên 21 độ.', 'cảm ơn các bạn đã theo dõi và hẹn gặp lại.', 'chính thức có thể đề lạc trường lực với một nhà đại tài dầu mạc, nhưng cũng có thể giúp thể thuyền hóa những thông thảo của những nhân gia tại khu vực vinh đông.', 'mà là khó khăn. ô tô bị ra tử.', 'hãy subscribe cho kênh ghiền mì gõ để không bỏ lỡ những video hấp dẫn', 'sơn chạy luôn lý tí đó này.', 'bồ hôi là một trong những công việc để cơ thể khả cặp đã đá hoàng.', 'hãy subscribe cho kênh ghiền mì gõ để không bỏ lỡ những video hấp dẫn', 'hiện nay mỗi khi vào hàng các loại đang mặc dư như tử, như thân, như tỉ, như thương.', 'nhưng có thua.', 'ché xé, áp tức chắc kết luận.', 'rồi anh đi một miếng tế phục vừa ra ngô và thăm thêm cả đám ốc. anh có thể tìm hiểu nhiều về nước. anh cũng có thể có một đón quà kè tài tài. tài linh nếu anh muốn mua vài đồ nước miệng. có rất nhiều đồ mặt bạc để anh có thể mua.', 'đó là chư trị các hữu lợi chính trị phạm hồ pháp.', 'tôi có thể nghe thiếu.', 'cảm ơn các bạn đã theo dõi và hẹn gặp lại.', 'hãy subscribe cho kênh ghiền mì gõ để không bỏ lỡ những video hấp dẫn', 'tôi sẽ lại đánh.', 'hãy đăng ký kênh để nhận thêm nhiều video mới nhé.', 'không một nơi nào lãng mạn và thơ mộng hơn những ưu hộ hoá.', 'hãy subscribe cho kênh la la school để không bỏ lỡ những video hấp dẫn', 'cảm ơn các bạn đã theo dõi và hẹn gặp lại.', 'cả giá cũng một ảnh hưởng.', 'cảm ơn các bạn đã theo dõi và hẹn gặp lại.', 'nhằm thu hút thêm nhiều nhà đầu tư.', 'hãy subscribe cho kênh ghiền mì gõ để không bỏ lỡ những video hấp dẫn', 'anh thầm quân tiêm mất đồ ra ra mươi trăm.', 'thầy đưa con mặt cho thằng bà kia cho.', 'chúng tôi sẽ bưu thường cho anh', 'để ý xét để ý mồm xeo thông bài thay.', 'gần chính mình tử đồng, xoay đường sát đôi người, các linh hà đông.', 'hòa, quên sợ không mấy đợt.', 'trả lời tôi biết.', 'đến thời điểm hiện tại, trong cả nước đã có các phương hình lao động thích nghiệp.', 'anh thật chào mọi người.', 'cả cái đạo của nó đến nhịp chung của toàn bộ hệ thống địa.', 'cảm ơn.', 'thôi xong rồi chơi', 'vì vậy không phải là mình có gì quan hệ thương thật với nhau.', 'thông qua của phía khách hàng là othello.', 'đồng hồ có biến tính tòa hoặc là...', 'cảm ơn các bạn đã theo dõi và hẹn gặp lại.', 'cảm giác là bệnh bệnh nào, nhưng chỉ vẫn làm bệnh đầy thật, chỉ cho bệnh nhân về, làm trở công việc hoặc họ. nếu mà người như mong muốn, họ vẫn phải nghe những bài hướng của mình.', 'cảm ơn các bạn đã theo dõi và hẹn gặp lại.', 'hẹn gặp lại các bạn trong những video tiếp theo.', 'chịu!', 'không phải không sao tôi chắc là tôi thích thấu thật hơn.', 'hỏi chàng trả cho người khác điên thôi.', 'hãy bờ cảnh sát ngay.', 'cảm ơn các bạn đã theo dõi và hẹn gặp lại.', 'cảm ơn các bạn đã theo dõi và hẹn gặp lại.', 'lại cho tôi vai cũng đã giảm mạnh theo, lại anh giảm vốn, lại anh nhiều vận dạng tổng hệ nào cũng giảm.', 'các nhà sơ học đang chiến thêm một bước.', 'hãy subscribe cho kênh ghiền mì gõ để không bỏ lỡ những video hấp dẫn', 'thế thức phóng, ai áp, coi dấu đi kìa.', 'sẽ đổ xuất các cặp bên ngoài.', 'cảm ơn các bạn đã theo dõi và hẹn gặp lại.', 'chúng ta chẳng người đủ lắm.', 'đây là hội đu cáo về sự quốc án và ưu định trên địa bàn.', 'cảm ơn các bạn đã theo dõi và hẹn gặp lại.', 'hãy subscribe cho kênh ghiền mì gõ để không bỏ lỡ những video hấp dẫn', 'cảm ơn các bạn đã theo dõi và hẹn gặp lại.', '5', 'của đại mũ hướng', 'hãy subscribe cho kênh ghiền mì gõ để không bỏ lỡ những video hấp dẫn', 'ôi, nhìn kìa, cái này lấy cái màu ra.', 'tạm thời em anh nhé.', 'vừa gọi điện vừa đi lại hết gây hại cho sức khỏe', 'các bạn hãy đăng kí cho kênh lalaschool để không bỏ lỡ những video hấp dẫn', 'anh còn chỉ toán này cho tôi thì không.', 'đây là địa chỉ của anh.', 'anh đánh nghe tôi một phút được không?', 'cảm ơn các bạn đã theo dõi.', 'hiệp gia rồi hồn hợp tâm nhỏ.', 'chúng ta những cả là cán bộ quản giáo thức tiếp vùng số 70 ở của ông mẫu hồ dực nói, những kẻ bức ngạc âm mỹ của người cảnh tạo là hạng như cường hóa công dụng.', 'chị cứ bảo bà bán lên mặt điện thì mất ngay cho trên đường đi. trên đường điện thì...', 'màu', 'các bạn có thể nhớ đăng ký kênh để ủng hộ kênh của mình nhé.', 'cô có thể mua bẹo nữa đâu', 'cảm ơn các bạn đã theo dõi và hẹn gặp lại.', 'họ sẽ chơi nhiều ca phúc từ bộ viết âm thanh của âm nhạc.', 'và vùng của lai mau là 01752', 'cảm ơn.', 'một số tài xứ gọi hỏi tất cả dân thành cộng hòa thông tin.', 'hãy subscribe cho kênh ghiền mì gõ để không bỏ lỡ những video hấp dẫn', 'nói lại quán', 'hãy subscribe cho kênh ghiền mì gõ để không bỏ lỡ những video hấp dẫn', 'cảm ơn các vị khách chào tính mạng.', 'cảm ơn các bạn đã theo dõi và hẹn gặp lại.', 'còn ta như giờ thì chúng ta sẽ đến như đó.', 'cảm ơn các bạn đã theo dõi và hẹn gặp lại.', 'tôi đã thấy con hồ.', 'hãy subscribe cho kênh ghiền mì gõ để không bỏ lỡ những video hấp dẫn', 'cô kỳnh đã trả lời cho tôi, ngày ta trả lời cho các tài sản mà ông đã gọi là tiền bắt lắm.', 'xin hãy đăng ký kênh để ủng hộ kênh của mình nhé.', 'tôi không muốn như vậy.', 'các bạn hãy đăng ký kênh để ủng hộ kênh của mình nhé.', 'hãy tự dụng những gì có tảm thức chiếm để lát đẹp ra.', 'cô hãy cho tôi cái thằng nào.', 'nếu em tính phong quan thuộc của chị biến mất hay vào đó là những lường vóng yếu ớt', 'tôi có thể phỏ bằng được những việc nào đó.', 'cảm ơn các bạn đã theo dõi và hẹn gặp lại.', 'hãy subscribe cho kênh ghiền mì gõ để không bỏ lỡ những video hấp dẫn', 'nên tài chính các bạn phù thuộc khá lớn vào các chính sách địa tài của mỹ.', 'cảm ơn các anh chị rất là lâu', 'ô con ghê là gì?', 'điểm độ lớn 29 độ.', 'chào', 'cảm ơn các bạn đã theo dõi và hẹn gặp lại.', '12h15 rồi.', 'cảm ơn các bạn đã theo dõi và hẹn gặp lại.', 'cảm ơn các bạn đã theo dõi và hẹn gặp lại.', 'hãy subscribe cho kênh ghiền mì gõ để không bỏ lỡ những video hấp dẫn', 'cảm ơn các bạn đã theo dõi và hẹn gặp lại.', 'vtv2', 'hãy đăng ký kênh để ủng hộ kênh của mình nhé.', 'hồng quá ồn tôi không thể ngủ được.', 'những năng lượng cao đăng đường mà kể về thành dương chỉ mức nào vẫn chưa có.', 'sẽ mệnh tương lai biểu tượng râu rá.', 'bữa ăn trên viên tử lâu đã đơn giản lắm rồi, giờ càng đơn giản hơn bao giờ hơn.', 'mặt này có thường sẽ ra không?', 'anh có đem thấy tổ vồn không?', 'hãy subscribe cho kênh ghiền mì gõ để không bỏ lỡ những video hấp dẫn', 'anh gọi đánh thức tôi lúc 7 giờ tháng mai không?', 'cảm ơn các bạn đã theo dõi và hẹn gặp lại.', 'anh hiểu nào không?', 'anh đưa hạt lên quanh cổ cụt đỏ ngon thật thật.', 'xin lỗi, anh có thể thử cùng điện mà trả ngay không?', 'cảm giác biết rằng có một nhân viên mất tài lộc bất phật.', 'hãy subscribe cho kênh ghiền mì gõ để không bỏ lỡ những video hấp dẫn', 'chuyện vui lòng giữ mãi dài.', 'tôi không biết, chắc là họ đã ngạc nhiên.', 'tạo ra những...', 'bữa thì sóng động.', 'quả yêu của tất cả chúng ta', 'để ngay chung tầm 3.', 'hẹn gặp lại các bạn trong những video tiếp theo.', 'cảm ơn các bạn đã theo dõi.', 'và cái tôi một vẻ hài hại để xem ai.', 'chào tạm biệt quý vị và các bạn.']\n",
      "Tính toán WER\n",
      "Word Error Rate (WER): 87.08%\n"
     ]
    }
   ],
   "source": [
    "# Ghi kết quả dự đoán vào file transcript_result.txt\n",
    "with open(RESULT_FILE, \"w\", encoding=\"utf-8\") as f:\n",
    "    f.write(\"\\n\".join(results))\n",
    "\n",
    "print(f\"reference_text: {references}\")\n",
    "print(f\"hypothesis: {hypotheses}\")\n",
    "# Tính toán WER nếu có dữ liệu hợp lệ\n",
    "if references and hypotheses:\n",
    "    print(\"Tính toán WER\")\n",
    "    wer_score = jiwer.wer(references, hypotheses)\n",
    "    print(f\"Word Error Rate (WER): {wer_score:.2%}\")\n",
    "else:\n",
    "    print(\"Không có dữ liệu hợp lệ để tính WER.\")\n"
   ]
  },
  {
   "cell_type": "code",
   "execution_count": null,
   "id": "1ddcd313-c573-45bf-8ac0-1723dc78f059",
   "metadata": {},
   "outputs": [],
   "source": []
  }
 ],
 "metadata": {
  "kernelspec": {
   "display_name": "base",
   "language": "python",
   "name": "python3"
  },
  "language_info": {
   "codemirror_mode": {
    "name": "ipython",
    "version": 3
   },
   "file_extension": ".py",
   "mimetype": "text/x-python",
   "name": "python",
   "nbconvert_exporter": "python",
   "pygments_lexer": "ipython3",
   "version": "3.12.2"
  }
 },
 "nbformat": 4,
 "nbformat_minor": 5
}
