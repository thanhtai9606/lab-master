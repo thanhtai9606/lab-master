{
 "cells": [
  {
   "cell_type": "code",
   "execution_count": 9,
   "id": "5d5a0b03-b0cf-4c80-9745-f80592e1c92a",
   "metadata": {},
   "outputs": [],
   "source": [
    "# pip install librosa"
   ]
  },
  {
   "cell_type": "code",
   "execution_count": 13,
   "id": "853b156c-d104-4d25-8597-4cd43bb4cafd",
   "metadata": {},
   "outputs": [
    {
     "name": "stdout",
     "output_type": "stream",
     "text": [
      "Load function done\n"
     ]
    }
   ],
   "source": [
    "import librosa\n",
    "import numpy as np\n",
    "import os\n",
    "from scipy.signal import medfilt\n",
    "from scipy.ndimage import gaussian_filter1d\n",
    "import soundfile as sf\n",
    "\n",
    "def preprocess_audio(input_dir, output_dir):\n",
    "    \"\"\"\n",
    "    Tiền xử lý các file âm thanh .wav trong thư mục đầu vào và lưu vào thư mục đầu ra.\n",
    "\n",
    "    Args:\n",
    "        input_dir (str): Đường dẫn đến thư mục chứa các file âm thanh .wav đầu vào.\n",
    "        output_dir (str): Đường dẫn đến thư mục chứa các file âm thanh .wav sau khi xử lý.\n",
    "    \"\"\"\n",
    "\n",
    "    # Tạo thư mục đầu ra nếu chưa tồn tại\n",
    "    if not os.path.exists(output_dir):\n",
    "        os.makedirs(output_dir)\n",
    "\n",
    "    # Duyệt qua từng file trong thư mục đầu vào\n",
    "    for filename in os.listdir(input_dir):\n",
    "        if filename.endswith(\".wav\"):\n",
    "            input_path = os.path.join(input_dir, filename)\n",
    "            output_path = os.path.join(output_dir, filename)\n",
    "\n",
    "            print(f'Process file: {input_path} => Save: {output_path}')\n",
    "            # Đọc file âm thanh\n",
    "            y, sr = librosa.load(input_path, sr=None)\n",
    "\n",
    "            # Chuẩn hóa tín hiệu âm thanh\n",
    "            y = librosa.util.normalize(y)\n",
    "\n",
    "            # Loại bỏ đoạn tĩnh (Silence Removal)\n",
    "            non_silent_indices = librosa.effects.split(y, top_db=30)\n",
    "            y_trimmed = np.concatenate([y[start:end] for start, end in non_silent_indices])\n",
    "\n",
    "            # Tính STFT để xử lý nhiễu\n",
    "            S_full, phase = librosa.magphase(librosa.stft(y_trimmed, n_fft=2048, hop_length=512))\n",
    "            noise_power = np.mean(S_full[:, :int(sr * 0.1)], axis=1)\n",
    "\n",
    "            # Áp dụng mặt nạ giảm nhiễu\n",
    "            mask = S_full > (noise_power[:, None] * 1.5)\n",
    "            mask = medfilt(mask.astype(float), kernel_size=(1, 5))\n",
    "\n",
    "            # Tăng cường tín hiệu (Spectral Enhancement)\n",
    "            S_clean = S_full * mask\n",
    "            S_clean = gaussian_filter1d(S_clean, sigma=1, axis=0)\n",
    "\n",
    "            # Tái tạo tín hiệu âm thanh\n",
    "            y_clean = librosa.istft(S_clean * phase, hop_length=512)\n",
    "\n",
    "            # Lưu file âm thanh đã xử lý\n",
    "            # librosa.output.write_wav(output_path, y_clean, sr)\n",
    "            sf.write(output_path, y_clean, sr)\n",
    "\n",
    "\n",
    "            print(f\"Đã xử lý và lưu file: {output_path}\")\n",
    "print(\"Load function done\")"
   ]
  },
  {
   "cell_type": "code",
   "execution_count": 15,
   "id": "dc301129-65f9-4df8-8b9c-ec1acef101ad",
   "metadata": {},
   "outputs": [
    {
     "name": "stdout",
     "output_type": "stream",
     "text": [
      "Process file: ./audio_goc_co_nhieu/data/database_sa1_Jan08_Mar19_cleaned_utt_0000002194-1.wav => Save: ./dalocnhieu/database_sa1_Jan08_Mar19_cleaned_utt_0000002194-1.wav\n"
     ]
    },
    {
     "ename": "AttributeError",
     "evalue": "No librosa attribute output",
     "output_type": "error",
     "traceback": [
      "\u001b[0;31m---------------------------------------------------------------------------\u001b[0m",
      "\u001b[0;31mAttributeError\u001b[0m                            Traceback (most recent call last)",
      "Cell \u001b[0;32mIn[15], line 3\u001b[0m\n\u001b[1;32m      1\u001b[0m input_directory \u001b[38;5;241m=\u001b[39m \u001b[38;5;124m\"\u001b[39m\u001b[38;5;124m./audio_goc_co_nhieu/data\u001b[39m\u001b[38;5;124m\"\u001b[39m  \u001b[38;5;66;03m# Thay đổi đường dẫn đầu vào\u001b[39;00m\n\u001b[1;32m      2\u001b[0m output_directory \u001b[38;5;241m=\u001b[39m \u001b[38;5;124m\"\u001b[39m\u001b[38;5;124m./dalocnhieu\u001b[39m\u001b[38;5;124m\"\u001b[39m \u001b[38;5;66;03m# Thay đổi đường dẫn đầu ra\u001b[39;00m\n\u001b[0;32m----> 3\u001b[0m preprocess_audio(input_directory, output_directory)\n",
      "Cell \u001b[0;32mIn[13], line 53\u001b[0m, in \u001b[0;36mpreprocess_audio\u001b[0;34m(input_dir, output_dir)\u001b[0m\n\u001b[1;32m     50\u001b[0m y_clean \u001b[38;5;241m=\u001b[39m librosa\u001b[38;5;241m.\u001b[39mistft(S_clean \u001b[38;5;241m*\u001b[39m phase, hop_length\u001b[38;5;241m=\u001b[39m\u001b[38;5;241m512\u001b[39m)\n\u001b[1;32m     52\u001b[0m \u001b[38;5;66;03m# Lưu file âm thanh đã xử lý\u001b[39;00m\n\u001b[0;32m---> 53\u001b[0m librosa\u001b[38;5;241m.\u001b[39moutput\u001b[38;5;241m.\u001b[39mwrite_wav(output_path, y_clean, sr)\n\u001b[1;32m     55\u001b[0m \u001b[38;5;28mprint\u001b[39m(\u001b[38;5;124mf\u001b[39m\u001b[38;5;124m\"\u001b[39m\u001b[38;5;124mĐã xử lý và lưu file: \u001b[39m\u001b[38;5;132;01m{\u001b[39;00moutput_path\u001b[38;5;132;01m}\u001b[39;00m\u001b[38;5;124m\"\u001b[39m)\n",
      "File \u001b[0;32m/opt/anaconda3/lib/python3.12/site-packages/lazy_loader/__init__.py:94\u001b[0m, in \u001b[0;36mattach.<locals>.__getattr__\u001b[0;34m(name)\u001b[0m\n\u001b[1;32m     92\u001b[0m     \u001b[38;5;28;01mreturn\u001b[39;00m attr\n\u001b[1;32m     93\u001b[0m \u001b[38;5;28;01melse\u001b[39;00m:\n\u001b[0;32m---> 94\u001b[0m     \u001b[38;5;28;01mraise\u001b[39;00m \u001b[38;5;167;01mAttributeError\u001b[39;00m(\u001b[38;5;124mf\u001b[39m\u001b[38;5;124m\"\u001b[39m\u001b[38;5;124mNo \u001b[39m\u001b[38;5;132;01m{\u001b[39;00mpackage_name\u001b[38;5;132;01m}\u001b[39;00m\u001b[38;5;124m attribute \u001b[39m\u001b[38;5;132;01m{\u001b[39;00mname\u001b[38;5;132;01m}\u001b[39;00m\u001b[38;5;124m\"\u001b[39m)\n",
      "\u001b[0;31mAttributeError\u001b[0m: No librosa attribute output"
     ]
    }
   ],
   "source": [
    "input_directory = \"./audio_goc_co_nhieu/data\"  # Thay đổi đường dẫn đầu vào\n",
    "output_directory = \"./dalocnhieu\" # Thay đổi đường dẫn đầu ra\n",
    "preprocess_audio(input_directory, output_directory)"
   ]
  },
  {
   "cell_type": "code",
   "execution_count": null,
   "id": "c0e5ad6e-c48f-408f-a0f9-7b6640aea655",
   "metadata": {},
   "outputs": [],
   "source": []
  }
 ],
 "metadata": {
  "kernelspec": {
   "display_name": "Python 3 (ipykernel)",
   "language": "python",
   "name": "python3"
  },
  "language_info": {
   "codemirror_mode": {
    "name": "ipython",
    "version": 3
   },
   "file_extension": ".py",
   "mimetype": "text/x-python",
   "name": "python",
   "nbconvert_exporter": "python",
   "pygments_lexer": "ipython3",
   "version": "3.12.2"
  }
 },
 "nbformat": 4,
 "nbformat_minor": 5
}
