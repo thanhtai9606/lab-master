{
 "cells": [
  {
   "cell_type": "markdown",
   "id": "e2a99501",
   "metadata": {},
   "source": [
    "# 📌 Xử lý hàng loạt file âm thanh: Lọc nhiễu & Loại bỏ khoảng lặng"
   ]
  },
  {
   "cell_type": "markdown",
   "id": "cc27ec51",
   "metadata": {},
   "source": [
    "## 🔧 Cài đặt các thư viện cần thiết"
   ]
  },
  {
   "cell_type": "code",
   "execution_count": null,
   "id": "4f0fbada",
   "metadata": {},
   "outputs": [],
   "source": [
    "!pip install numpy scipy librosa webrtcvad soundfile tqdm"
   ]
  },
  {
   "cell_type": "markdown",
   "id": "38f747d5",
   "metadata": {},
   "source": [
    "## 🔄 Nhập các thư viện cần thiết"
   ]
  },
  {
   "cell_type": "code",
   "execution_count": null,
   "id": "bf1f8358",
   "metadata": {},
   "outputs": [],
   "source": [
    "\n",
    "import os\n",
    "import numpy as np\n",
    "import librosa\n",
    "import soundfile as sf\n",
    "import webrtcvad\n",
    "import wave\n",
    "import struct\n",
    "from tqdm import tqdm\n",
    "    "
   ]
  },
  {
   "cell_type": "markdown",
   "id": "17ad72ce",
   "metadata": {},
   "source": [
    "## 🔹 Chuyển đổi âm thanh về PCM 16-bit Mono"
   ]
  },
  {
   "cell_type": "code",
   "execution_count": null,
   "id": "52ec3def",
   "metadata": {},
   "outputs": [],
   "source": [
    "\n",
    "def convert_audio_to_pcm16_mono(input_wav, output_wav, target_sr=16000):\n",
    "    \"\"\"\n",
    "    Chuyển đổi tệp âm thanh về PCM 16-bit mono.\n",
    "    \"\"\"\n",
    "    y, sr = librosa.load(input_wav, sr=target_sr, mono=True)\n",
    "    sf.write(output_wav, y, target_sr, subtype='PCM_16')\n",
    "    "
   ]
  },
  {
   "cell_type": "markdown",
   "id": "ad0bb83f",
   "metadata": {},
   "source": [
    "## 🔹 Lọc nhiễu bằng Spectral Subtraction"
   ]
  },
  {
   "cell_type": "code",
   "execution_count": null,
   "id": "d8020537",
   "metadata": {},
   "outputs": [],
   "source": [
    "\n",
    "def spectral_subtraction(y, sr, noise_estimate=None, alpha=1.2):\n",
    "    \"\"\"\n",
    "    Lọc nhiễu trong tín hiệu âm thanh bằng phương pháp Spectral Subtraction.\n",
    "    \"\"\"\n",
    "    n_fft = 2048\n",
    "    hop_length = 512\n",
    "\n",
    "    D = librosa.stft(y, n_fft=n_fft, hop_length=hop_length)\n",
    "    magnitude, phase = np.abs(D), np.angle(D)\n",
    "\n",
    "    if noise_estimate is None:\n",
    "        noise_frames = int(0.5 * sr / hop_length)\n",
    "        noise_estimate = np.mean(magnitude[:, :noise_frames], axis=1, keepdims=True)\n",
    "\n",
    "    magnitude_denoised = np.maximum(magnitude - alpha * noise_estimate, 0)\n",
    "    D_denoised = magnitude_denoised * np.exp(1j * phase)\n",
    "    y_denoised = librosa.istft(D_denoised, hop_length=hop_length)\n",
    "\n",
    "    return y_denoised\n",
    "    "
   ]
  },
  {
   "cell_type": "markdown",
   "id": "d23f6c0c",
   "metadata": {},
   "source": [
    "## 🔹 Loại bỏ khoảng lặng bằng WebRTC VAD"
   ]
  },
  {
   "cell_type": "code",
   "execution_count": null,
   "id": "8fadd270",
   "metadata": {},
   "outputs": [],
   "source": [
    "\n",
    "def remove_silence(input_wav, output_wav, aggressiveness=3):\n",
    "    \"\"\"\n",
    "    Loại bỏ khoảng lặng bằng WebRTC VAD.\n",
    "    \"\"\"\n",
    "    vad = webrtcvad.Vad(aggressiveness)\n",
    "\n",
    "    with wave.open(input_wav, \"rb\") as wf:\n",
    "        sample_rate = wf.getframerate()\n",
    "        channels = wf.getnchannels()\n",
    "        width = wf.getsampwidth()\n",
    "\n",
    "        if channels != 1 or width != 2 or sample_rate not in [8000, 16000, 32000, 48000]:\n",
    "            print(f\"❌ Lỗi: {input_wav} không phải PCM 16-bit mono hoặc có sample rate không hợp lệ!\")\n",
    "            return\n",
    "\n",
    "        frames = wf.readframes(wf.getnframes())\n",
    "\n",
    "    frame_duration = 30  # 30ms mỗi frame\n",
    "    frame_size = int(sample_rate * frame_duration / 1000) * width\n",
    "\n",
    "    frames = [frames[i:i + frame_size] for i in range(0, len(frames), frame_size)]\n",
    "\n",
    "    if not frames or len(frames[0]) != frame_size:\n",
    "        print(f\"❌ Lỗi: Kích thước frame không hợp lệ trong {input_wav}\")\n",
    "        return\n",
    "\n",
    "    voiced_frames = [frame for frame in frames if vad.is_speech(frame, sample_rate)]\n",
    "\n",
    "    if not voiced_frames:\n",
    "        print(f\"⚠️ Cảnh báo: Không tìm thấy giọng nói trong {input_wav}, giữ nguyên file gốc.\")\n",
    "        return\n",
    "\n",
    "    with wave.open(output_wav, \"wb\") as wf_out:\n",
    "        wf_out.setnchannels(1)\n",
    "        wf_out.setsampwidth(2)\n",
    "        wf_out.setframerate(sample_rate)\n",
    "        for frame in voiced_frames:\n",
    "            wf_out.writeframes(frame)\n",
    "    "
   ]
  },
  {
   "cell_type": "markdown",
   "id": "7a3fcd65",
   "metadata": {},
   "source": [
    "## 🔹 Xử lý hàng loạt file âm thanh"
   ]
  },
  {
   "cell_type": "code",
   "execution_count": null,
   "id": "293600b1",
   "metadata": {},
   "outputs": [],
   "source": [
    "\n",
    "def process_audio_folder(input_folder, output_folder):\n",
    "    \"\"\"\n",
    "    Xử lý tất cả các file .wav trong thư mục bằng cách lọc nhiễu và loại bỏ khoảng lặng.\n",
    "    \"\"\"\n",
    "    if not os.path.exists(output_folder):\n",
    "        os.makedirs(output_folder)\n",
    "\n",
    "    files = [f for f in os.listdir(input_folder) if f.endswith(\".wav\")]\n",
    "\n",
    "    for file in tqdm(files, desc=\"Processing files\"):\n",
    "        input_path = os.path.join(input_folder, file)\n",
    "        converted_path = os.path.join(output_folder, \"converted_\" + file)\n",
    "        denoised_path = os.path.join(output_folder, \"denoised_\" + file)\n",
    "        final_output_path = os.path.join(output_folder, \"cleaned_\" + file)\n",
    "\n",
    "        convert_audio_to_pcm16_mono(input_path, converted_path)\n",
    "\n",
    "        y, sr = librosa.load(converted_path, sr=None)\n",
    "        y_denoised = spectral_subtraction(y, sr)\n",
    "        sf.write(denoised_path, y_denoised, sr)\n",
    "\n",
    "        remove_silence(denoised_path, final_output_path)\n",
    "\n",
    "        os.remove(converted_path)\n",
    "        os.remove(denoised_path)\n",
    "\n",
    "    print(f\"✅ Đã xử lý xong tất cả các file! Kết quả lưu tại: {output_folder}\")\n",
    "    "
   ]
  },
  {
   "cell_type": "markdown",
   "id": "ca3c0710",
   "metadata": {},
   "source": [
    "## ▶️ Chạy xử lý âm thanh"
   ]
  },
  {
   "cell_type": "code",
   "execution_count": null,
   "id": "e346491f",
   "metadata": {},
   "outputs": [],
   "source": [
    "\n",
    "# Đặt thư mục đầu vào và đầu ra\n",
    "input_directory = \"./data/wham/cv\"  # Đổi thành thư mục chứa file âm thanh\n",
    "output_directory = \"./data/wham_output\"  # Đổi thành thư mục để lưu kết quả\n",
    "\n",
    "# Chạy xử lý\n",
    "process_audio_folder(input_directory, output_directory)\n",
    "    "
   ]
  }
 ],
 "metadata": {
  "language_info": {
   "name": "python"
  }
 },
 "nbformat": 4,
 "nbformat_minor": 5
}
