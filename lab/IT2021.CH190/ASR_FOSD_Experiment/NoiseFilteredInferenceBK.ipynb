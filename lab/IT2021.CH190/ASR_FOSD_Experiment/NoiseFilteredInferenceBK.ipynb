{
 "cells": [
  {
   "cell_type": "code",
   "execution_count": 8,
   "id": "ccb4b4c8-145e-473b-91a7-100cdee417a1",
   "metadata": {},
   "outputs": [],
   "source": [
    "# pip install openai-whisper jiwer"
   ]
  },
  {
   "cell_type": "code",
   "execution_count": 9,
   "id": "8ff3c37b",
   "metadata": {},
   "outputs": [],
   "source": [
    "# pip install ffmpeg"
   ]
  },
  {
   "cell_type": "code",
   "execution_count": 10,
   "id": "ddead78c-bba4-4b7b-b17a-dc129d3b3c24",
   "metadata": {},
   "outputs": [
    {
     "name": "stdout",
     "output_type": "stream",
     "text": [
      "import\n"
     ]
    }
   ],
   "source": [
    "import os\n",
    "import whisper\n",
    "import jiwer\n",
    "\n",
    "print(\"import\")"
   ]
  },
  {
   "cell_type": "code",
   "execution_count": 11,
   "id": "de38b478-d6ae-41ec-9559-90b2c867afab",
   "metadata": {},
   "outputs": [
    {
     "name": "stdout",
     "output_type": "stream",
     "text": [
      "Load model\n"
     ]
    }
   ],
   "source": [
    "# Định nghĩa đường dẫn thư mục\n",
    "AUDIO_FOLDER = \"./NoiseFilteredData/data\"\n",
    "TRANSCRIPT_FILE = \"./NoiseFilteredData/transcriptAll.txt\"\n",
    "RESULT_FILE = \"./NoiseFilteredData/transcript_result.txt\"\n",
    "\n",
    "# Load mô hình Whisper Large V3\n",
    "model = whisper.load_model(\"large-v3\")\n",
    "\n",
    "print(\"Load model\")"
   ]
  },
  {
   "cell_type": "code",
   "execution_count": 12,
   "id": "c5bdf0ba-b83f-4e34-be23-4ffcfa696016",
   "metadata": {},
   "outputs": [
    {
     "name": "stdout",
     "output_type": "stream",
     "text": [
      "Doc transcript\n",
      "Doc transcript - end\n"
     ]
    }
   ],
   "source": [
    "# Đọc transcript chuẩn\n",
    "print(\"Doc transcript\")\n",
    "ground_truths = {}\n",
    "with open(TRANSCRIPT_FILE, \"r\", encoding=\"utf-8\") as f:\n",
    "    for line in f:\n",
    "        parts = line.strip().split(\"|\")\n",
    "        if len(parts) >= 2:\n",
    "            filename, transcript, length = parts\n",
    "            ground_truths[filename] = transcript\n",
    "\n",
    "print(\"Doc transcript - end\")"
   ]
  },
  {
   "cell_type": "code",
   "execution_count": 16,
   "id": "c6605ce8-f0d2-41d0-9397-a6d49e7b1cf5",
   "metadata": {},
   "outputs": [
    {
     "name": "stdout",
     "output_type": "stream",
     "text": [
      "Xu ly tung file am thanh\n",
      "Processing: FPTOpenSpeechData_Set001_V0.1_000001.mp3\n"
     ]
    },
    {
     "name": "stderr",
     "output_type": "stream",
     "text": [
      "/home/ngo/anaconda3/lib/python3.12/site-packages/whisper/transcribe.py:126: UserWarning: FP16 is not supported on CPU; using FP32 instead\n",
      "  warnings.warn(\"FP16 is not supported on CPU; using FP32 instead\")\n"
     ]
    },
    {
     "name": "stdout",
     "output_type": "stream",
     "text": [
      "reference_text: cách để đi\n",
      "predicted_text: các địa đi\n",
      "Processing: FPTOpenSpeechData_Set001_V0.1_000002.mp3\n"
     ]
    },
    {
     "name": "stderr",
     "output_type": "stream",
     "text": [
      "/home/ngo/anaconda3/lib/python3.12/site-packages/whisper/transcribe.py:126: UserWarning: FP16 is not supported on CPU; using FP32 instead\n",
      "  warnings.warn(\"FP16 is not supported on CPU; using FP32 instead\")\n"
     ]
    },
    {
     "name": "stdout",
     "output_type": "stream",
     "text": [
      "reference_text: họ đã xét nghiệm máu cho cheng nhưng mọi thứ vẫn hoàn toàn bình thường\n",
      "predicted_text: họ đã trải nghiệm mọi các giáo viên mọi người vừa trả comment cho.\n",
      "Processing: FPTOpenSpeechData_Set001_V0.1_000003.mp3\n"
     ]
    },
    {
     "name": "stderr",
     "output_type": "stream",
     "text": [
      "/home/ngo/anaconda3/lib/python3.12/site-packages/whisper/transcribe.py:126: UserWarning: FP16 is not supported on CPU; using FP32 instead\n",
      "  warnings.warn(\"FP16 is not supported on CPU; using FP32 instead\")\n"
     ]
    },
    {
     "name": "stdout",
     "output_type": "stream",
     "text": [
      "reference_text: anh có thể gọi tôi không\n",
      "predicted_text: anh có thể gọi tôi không?\n",
      "Processing: FPTOpenSpeechData_Set001_V0.1_000004.mp3\n"
     ]
    },
    {
     "name": "stderr",
     "output_type": "stream",
     "text": [
      "/home/ngo/anaconda3/lib/python3.12/site-packages/whisper/transcribe.py:126: UserWarning: FP16 is not supported on CPU; using FP32 instead\n",
      "  warnings.warn(\"FP16 is not supported on CPU; using FP32 instead\")\n"
     ]
    },
    {
     "name": "stdout",
     "output_type": "stream",
     "text": [
      "reference_text: có rất nhiều yếu tố may rủi ở đây\n",
      "predicted_text: có rất nhiều yếu tố main ở đây.\n",
      "Processing: FPTOpenSpeechData_Set001_V0.1_000005.mp3\n"
     ]
    },
    {
     "name": "stderr",
     "output_type": "stream",
     "text": [
      "/home/ngo/anaconda3/lib/python3.12/site-packages/whisper/transcribe.py:126: UserWarning: FP16 is not supported on CPU; using FP32 instead\n",
      "  warnings.warn(\"FP16 is not supported on CPU; using FP32 instead\")\n"
     ]
    },
    {
     "name": "stdout",
     "output_type": "stream",
     "text": [
      "reference_text: ai là chúa nói dối\n",
      "predicted_text: ai là trường đối dối?\n",
      "Processing: FPTOpenSpeechData_Set001_V0.1_000006.mp3\n"
     ]
    },
    {
     "name": "stderr",
     "output_type": "stream",
     "text": [
      "/home/ngo/anaconda3/lib/python3.12/site-packages/whisper/transcribe.py:126: UserWarning: FP16 is not supported on CPU; using FP32 instead\n",
      "  warnings.warn(\"FP16 is not supported on CPU; using FP32 instead\")\n"
     ]
    },
    {
     "name": "stdout",
     "output_type": "stream",
     "text": [
      "reference_text: có cửa hàng tiện lợi ở sân bay không\n",
      "predicted_text: cuốn tự hành kiệt lại ở sân máy không?\n",
      "Processing: FPTOpenSpeechData_Set001_V0.1_000007.mp3\n"
     ]
    },
    {
     "name": "stderr",
     "output_type": "stream",
     "text": [
      "/home/ngo/anaconda3/lib/python3.12/site-packages/whisper/transcribe.py:126: UserWarning: FP16 is not supported on CPU; using FP32 instead\n",
      "  warnings.warn(\"FP16 is not supported on CPU; using FP32 instead\")\n"
     ]
    },
    {
     "name": "stdout",
     "output_type": "stream",
     "text": [
      "reference_text: anh đổi ngoại tệ được không\n",
      "predicted_text: anh đổi ngoại tệ được không?\n",
      "Processing: FPTOpenSpeechData_Set001_V0.1_000008.mp3\n"
     ]
    },
    {
     "name": "stderr",
     "output_type": "stream",
     "text": [
      "/home/ngo/anaconda3/lib/python3.12/site-packages/whisper/transcribe.py:126: UserWarning: FP16 is not supported on CPU; using FP32 instead\n",
      "  warnings.warn(\"FP16 is not supported on CPU; using FP32 instead\")\n"
     ]
    },
    {
     "name": "stdout",
     "output_type": "stream",
     "text": [
      "reference_text: cô ấy mua hai mươi trái chôm chôm và ba con cá\n",
      "predicted_text: cô ấy mua 2 nguồn cải tôm tôm và 3 con cá.\n",
      "Processing: FPTOpenSpeechData_Set001_V0.1_000009.mp3\n"
     ]
    },
    {
     "name": "stderr",
     "output_type": "stream",
     "text": [
      "/home/ngo/anaconda3/lib/python3.12/site-packages/whisper/transcribe.py:126: UserWarning: FP16 is not supported on CPU; using FP32 instead\n",
      "  warnings.warn(\"FP16 is not supported on CPU; using FP32 instead\")\n"
     ]
    },
    {
     "name": "stdout",
     "output_type": "stream",
     "text": [
      "reference_text: đứa bé có ói òng ọc ra sữa hoặc nước và bé chưa đến mười tuần tuổi hoặc có biểu hiện mất nước không\n",
      "predicted_text: đưa bè vào gói ông học gá sừa hoặc nước và bè chưa đến 10 tuần tuổi hoặc có biểu hiện mất nữa không?\n",
      "Processing: FPTOpenSpeechData_Set001_V0.1_000010.mp3\n"
     ]
    },
    {
     "name": "stderr",
     "output_type": "stream",
     "text": [
      "/home/ngo/anaconda3/lib/python3.12/site-packages/whisper/transcribe.py:126: UserWarning: FP16 is not supported on CPU; using FP32 instead\n",
      "  warnings.warn(\"FP16 is not supported on CPU; using FP32 instead\")\n"
     ]
    },
    {
     "name": "stdout",
     "output_type": "stream",
     "text": [
      "reference_text: tôi có thể viết tên địa chỉ số điện thoại của công ty bảo hiểm của anh được không\n",
      "predicted_text: tôi có thể viết tên, địa chỉ, số điện thoại của công ty bảo hiểm của anh được không?\n",
      "Processing: FPTOpenSpeechData_Set001_V0.1_000011.mp3\n"
     ]
    },
    {
     "name": "stderr",
     "output_type": "stream",
     "text": [
      "/home/ngo/anaconda3/lib/python3.12/site-packages/whisper/transcribe.py:126: UserWarning: FP16 is not supported on CPU; using FP32 instead\n",
      "  warnings.warn(\"FP16 is not supported on CPU; using FP32 instead\")\n"
     ]
    },
    {
     "name": "stdout",
     "output_type": "stream",
     "text": [
      "reference_text: đừng lo tôi vừa mới đến rồi\n",
      "predicted_text: đừng lo, tôi vừa mới đến rồi.\n",
      "Processing: FPTOpenSpeechData_Set001_V0.1_000012.mp3\n"
     ]
    },
    {
     "name": "stderr",
     "output_type": "stream",
     "text": [
      "/home/ngo/anaconda3/lib/python3.12/site-packages/whisper/transcribe.py:126: UserWarning: FP16 is not supported on CPU; using FP32 instead\n",
      "  warnings.warn(\"FP16 is not supported on CPU; using FP32 instead\")\n"
     ]
    },
    {
     "name": "stdout",
     "output_type": "stream",
     "text": [
      "reference_text: mười phút nữa vào giờ rưỡi\n",
      "predicted_text: 10 phút nữa vào giờ rưỡi\n",
      "Processing: FPTOpenSpeechData_Set001_V0.1_000013.mp3\n"
     ]
    },
    {
     "name": "stderr",
     "output_type": "stream",
     "text": [
      "/home/ngo/anaconda3/lib/python3.12/site-packages/whisper/transcribe.py:126: UserWarning: FP16 is not supported on CPU; using FP32 instead\n",
      "  warnings.warn(\"FP16 is not supported on CPU; using FP32 instead\")\n"
     ]
    },
    {
     "name": "stdout",
     "output_type": "stream",
     "text": [
      "reference_text: tôi có thể hẹn cho chiều mai không\n",
      "predicted_text: tôi có thể hẹn cho trường má có.\n",
      "Processing: FPTOpenSpeechData_Set001_V0.1_000014.mp3\n"
     ]
    },
    {
     "name": "stderr",
     "output_type": "stream",
     "text": [
      "/home/ngo/anaconda3/lib/python3.12/site-packages/whisper/transcribe.py:126: UserWarning: FP16 is not supported on CPU; using FP32 instead\n",
      "  warnings.warn(\"FP16 is not supported on CPU; using FP32 instead\")\n"
     ]
    },
    {
     "name": "stdout",
     "output_type": "stream",
     "text": [
      "reference_text: anh rửa hình kỹ thuật số ra được không\n",
      "predicted_text: anh vừa hình kỳ thật số ra được không?\n",
      "Processing: FPTOpenSpeechData_Set001_V0.1_000015.mp3\n"
     ]
    },
    {
     "name": "stderr",
     "output_type": "stream",
     "text": [
      "/home/ngo/anaconda3/lib/python3.12/site-packages/whisper/transcribe.py:126: UserWarning: FP16 is not supported on CPU; using FP32 instead\n",
      "  warnings.warn(\"FP16 is not supported on CPU; using FP32 instead\")\n"
     ]
    },
    {
     "name": "stdout",
     "output_type": "stream",
     "text": [
      "reference_text: tôi cố thu xếp thôi\n",
      "predicted_text: cảm ơn các bạn đã theo dõi và hẹn gặp lại.\n",
      "Processing: FPTOpenSpeechData_Set001_V0.1_000016.mp3\n"
     ]
    },
    {
     "name": "stderr",
     "output_type": "stream",
     "text": [
      "/home/ngo/anaconda3/lib/python3.12/site-packages/whisper/transcribe.py:126: UserWarning: FP16 is not supported on CPU; using FP32 instead\n",
      "  warnings.warn(\"FP16 is not supported on CPU; using FP32 instead\")\n"
     ]
    },
    {
     "name": "stdout",
     "output_type": "stream",
     "text": [
      "reference_text: tôi không dùng ma túy\n",
      "predicted_text: tôi không thường bắt tui\n",
      "Processing: FPTOpenSpeechData_Set001_V0.1_000017.mp3\n"
     ]
    },
    {
     "name": "stderr",
     "output_type": "stream",
     "text": [
      "/home/ngo/anaconda3/lib/python3.12/site-packages/whisper/transcribe.py:126: UserWarning: FP16 is not supported on CPU; using FP32 instead\n",
      "  warnings.warn(\"FP16 is not supported on CPU; using FP32 instead\")\n"
     ]
    },
    {
     "name": "stdout",
     "output_type": "stream",
     "text": [
      "reference_text: quân đội mỹ muốn chế tạo những máy tự động hoàn toàn vì những chiếc mà họ đang có vẫn cần được điều khiển bởi con người\n",
      "predicted_text: quân đội mỹ muốn chế tạo những máy tự động hoàn toàn vì những chiếc mà họ đang có vẫn cần được điều kiện với con người.\n",
      "Processing: FPTOpenSpeechData_Set001_V0.1_000018.mp3\n"
     ]
    },
    {
     "name": "stderr",
     "output_type": "stream",
     "text": [
      "/home/ngo/anaconda3/lib/python3.12/site-packages/whisper/transcribe.py:126: UserWarning: FP16 is not supported on CPU; using FP32 instead\n",
      "  warnings.warn(\"FP16 is not supported on CPU; using FP32 instead\")\n"
     ]
    },
    {
     "name": "stdout",
     "output_type": "stream",
     "text": [
      "reference_text: tôi quên túi đeo vai trong xe tắc xi\n",
      "predicted_text: tôi quên quỷ đeo vai trong khe đặc trì.\n",
      "Processing: FPTOpenSpeechData_Set001_V0.1_000019.mp3\n"
     ]
    },
    {
     "name": "stderr",
     "output_type": "stream",
     "text": [
      "/home/ngo/anaconda3/lib/python3.12/site-packages/whisper/transcribe.py:126: UserWarning: FP16 is not supported on CPU; using FP32 instead\n",
      "  warnings.warn(\"FP16 is not supported on CPU; using FP32 instead\")\n"
     ]
    },
    {
     "name": "stdout",
     "output_type": "stream",
     "text": [
      "reference_text: dư luận đã phản ánh lên cơ quan địa chính của thị trấn nhưng mãi chả thấy hồi âm\n",
      "predicted_text: dư luận đã phản ánh lên cơ quan địa chính của thị trấn nhưng mãi chả thấy hồi âm\n",
      "Processing: FPTOpenSpeechData_Set001_V0.1_000020.mp3\n"
     ]
    },
    {
     "name": "stderr",
     "output_type": "stream",
     "text": [
      "/home/ngo/anaconda3/lib/python3.12/site-packages/whisper/transcribe.py:126: UserWarning: FP16 is not supported on CPU; using FP32 instead\n",
      "  warnings.warn(\"FP16 is not supported on CPU; using FP32 instead\")\n"
     ]
    },
    {
     "name": "stdout",
     "output_type": "stream",
     "text": [
      "reference_text: giả danh làm từ thiện lừa tiền người dân\n",
      "predicted_text: giả danh làm từ thiện lùa tiền người dân\n",
      "Processing: FPTOpenSpeechData_Set001_V0.1_000021.mp3\n"
     ]
    },
    {
     "name": "stderr",
     "output_type": "stream",
     "text": [
      "/home/ngo/anaconda3/lib/python3.12/site-packages/whisper/transcribe.py:126: UserWarning: FP16 is not supported on CPU; using FP32 instead\n",
      "  warnings.warn(\"FP16 is not supported on CPU; using FP32 instead\")\n"
     ]
    },
    {
     "name": "stdout",
     "output_type": "stream",
     "text": [
      "reference_text: sắm đồ siêu sang ở hội chợ triệu phú\n",
      "predicted_text: sắp đổ siêu sát ở chợ triệu u.\n",
      "Processing: FPTOpenSpeechData_Set001_V0.1_000022.mp3\n"
     ]
    },
    {
     "name": "stderr",
     "output_type": "stream",
     "text": [
      "/home/ngo/anaconda3/lib/python3.12/site-packages/whisper/transcribe.py:126: UserWarning: FP16 is not supported on CPU; using FP32 instead\n",
      "  warnings.warn(\"FP16 is not supported on CPU; using FP32 instead\")\n"
     ]
    },
    {
     "name": "stdout",
     "output_type": "stream",
     "text": [
      "reference_text: nếu làm lộ thiên cơ âm binh sẽ đánh trả thầy\n",
      "predicted_text: nếu làm lộn viên cơ âm binh sẽ đánh trả thầy\n",
      "Processing: FPTOpenSpeechData_Set001_V0.1_000023.mp3\n"
     ]
    },
    {
     "name": "stderr",
     "output_type": "stream",
     "text": [
      "/home/ngo/anaconda3/lib/python3.12/site-packages/whisper/transcribe.py:126: UserWarning: FP16 is not supported on CPU; using FP32 instead\n",
      "  warnings.warn(\"FP16 is not supported on CPU; using FP32 instead\")\n"
     ]
    },
    {
     "name": "stdout",
     "output_type": "stream",
     "text": [
      "reference_text: máy ném bom chiến lược của nga gặp nạn\n",
      "predicted_text: máy ném bom chiến lược của nga gặp lại\n",
      "Processing: FPTOpenSpeechData_Set001_V0.1_000024.mp3\n"
     ]
    },
    {
     "name": "stderr",
     "output_type": "stream",
     "text": [
      "/home/ngo/anaconda3/lib/python3.12/site-packages/whisper/transcribe.py:126: UserWarning: FP16 is not supported on CPU; using FP32 instead\n",
      "  warnings.warn(\"FP16 is not supported on CPU; using FP32 instead\")\n"
     ]
    },
    {
     "name": "stdout",
     "output_type": "stream",
     "text": [
      "reference_text: anh có thích tôi giữ trước quyển sách này cho anh không\n",
      "predicted_text: anh có thích tôi giữ trước quyển sách này cho anh không?\n",
      "Processing: FPTOpenSpeechData_Set001_V0.1_000025.mp3\n"
     ]
    },
    {
     "name": "stderr",
     "output_type": "stream",
     "text": [
      "/home/ngo/anaconda3/lib/python3.12/site-packages/whisper/transcribe.py:126: UserWarning: FP16 is not supported on CPU; using FP32 instead\n",
      "  warnings.warn(\"FP16 is not supported on CPU; using FP32 instead\")\n"
     ]
    },
    {
     "name": "stdout",
     "output_type": "stream",
     "text": [
      "reference_text: ở người bị hội chứng khi ăn ngủ phần não phải vẫn thức và sau đó là cả các dạng hoạt động thể chất\n",
      "predicted_text: ở người bị hộ trứng, khi ăn ngủ, phần não phải dẫn thức và sau đó là cả các loại hoạt động thể chất.\n",
      "Processing: FPTOpenSpeechData_Set001_V0.1_000026.mp3\n"
     ]
    },
    {
     "name": "stderr",
     "output_type": "stream",
     "text": [
      "/home/ngo/anaconda3/lib/python3.12/site-packages/whisper/transcribe.py:126: UserWarning: FP16 is not supported on CPU; using FP32 instead\n",
      "  warnings.warn(\"FP16 is not supported on CPU; using FP32 instead\")\n"
     ]
    },
    {
     "name": "stdout",
     "output_type": "stream",
     "text": [
      "reference_text: tỉ lệ là mười mm trên một km\n",
      "predicted_text: tỷ lệ là 10mm trên 1km\n",
      "Processing: FPTOpenSpeechData_Set001_V0.1_000027.mp3\n"
     ]
    },
    {
     "name": "stderr",
     "output_type": "stream",
     "text": [
      "/home/ngo/anaconda3/lib/python3.12/site-packages/whisper/transcribe.py:126: UserWarning: FP16 is not supported on CPU; using FP32 instead\n",
      "  warnings.warn(\"FP16 is not supported on CPU; using FP32 instead\")\n"
     ]
    },
    {
     "name": "stdout",
     "output_type": "stream",
     "text": [
      "reference_text: tôi muốn thực hiện một cuộc gọi điện thoại quốc tế đi nhật bản cuộc gọi -n là đến tokyo số ba hai chín hai tám hai một một\n",
      "predicted_text: cảm ơn các bạn đã xem video này. hẹn gặp lại các bạn trong những video tiếp theo.\n",
      "Processing: FPTOpenSpeechData_Set001_V0.1_000028.mp3\n"
     ]
    },
    {
     "name": "stderr",
     "output_type": "stream",
     "text": [
      "/home/ngo/anaconda3/lib/python3.12/site-packages/whisper/transcribe.py:126: UserWarning: FP16 is not supported on CPU; using FP32 instead\n",
      "  warnings.warn(\"FP16 is not supported on CPU; using FP32 instead\")\n"
     ]
    },
    {
     "name": "stdout",
     "output_type": "stream",
     "text": [
      "reference_text: nơi đây hiện khá yên tĩnh\n",
      "predicted_text: lời đây hiện khả duyệt gì?\n",
      "Processing: FPTOpenSpeechData_Set001_V0.1_000029.mp3\n"
     ]
    },
    {
     "name": "stderr",
     "output_type": "stream",
     "text": [
      "/home/ngo/anaconda3/lib/python3.12/site-packages/whisper/transcribe.py:126: UserWarning: FP16 is not supported on CPU; using FP32 instead\n",
      "  warnings.warn(\"FP16 is not supported on CPU; using FP32 instead\")\n"
     ]
    },
    {
     "name": "stdout",
     "output_type": "stream",
     "text": [
      "reference_text: nhưng cũng có những bạn nằm khèo ở nhà trùm mềm và khóc nhè\n",
      "predicted_text: nhưng cũng có những bạn nằm kèo ở nhà trầm mền và cọc nhè.\n",
      "Processing: FPTOpenSpeechData_Set001_V0.1_000030.mp3\n"
     ]
    },
    {
     "name": "stderr",
     "output_type": "stream",
     "text": [
      "/home/ngo/anaconda3/lib/python3.12/site-packages/whisper/transcribe.py:126: UserWarning: FP16 is not supported on CPU; using FP32 instead\n",
      "  warnings.warn(\"FP16 is not supported on CPU; using FP32 instead\")\n"
     ]
    },
    {
     "name": "stdout",
     "output_type": "stream",
     "text": [
      "reference_text: chúng ta không thể mua cái nào ở nhật bản\n",
      "predicted_text: chúng ta không thể mua cái nào ở nhật bản.\n",
      "Processing: FPTOpenSpeechData_Set001_V0.1_000031.mp3\n"
     ]
    },
    {
     "name": "stderr",
     "output_type": "stream",
     "text": [
      "/home/ngo/anaconda3/lib/python3.12/site-packages/whisper/transcribe.py:126: UserWarning: FP16 is not supported on CPU; using FP32 instead\n",
      "  warnings.warn(\"FP16 is not supported on CPU; using FP32 instead\")\n"
     ]
    },
    {
     "name": "stdout",
     "output_type": "stream",
     "text": [
      "reference_text: cho vừa với số kinh phí hạn hẹp của một bộ phim\n",
      "predicted_text: cho vừa với số tiến phí hạn hệ của một bộ phim.\n",
      "Processing: FPTOpenSpeechData_Set001_V0.1_000032.mp3\n"
     ]
    },
    {
     "name": "stderr",
     "output_type": "stream",
     "text": [
      "/home/ngo/anaconda3/lib/python3.12/site-packages/whisper/transcribe.py:126: UserWarning: FP16 is not supported on CPU; using FP32 instead\n",
      "  warnings.warn(\"FP16 is not supported on CPU; using FP32 instead\")\n"
     ]
    },
    {
     "name": "stdout",
     "output_type": "stream",
     "text": [
      "reference_text: kịch sến nhiều tập làm tôi oải quá tôi sẽ tắt tv\n",
      "predicted_text: kịch sến nhiều tập, làm tôi oãi quá. tôi sẽ tắt tv.\n",
      "Processing: FPTOpenSpeechData_Set001_V0.1_000033.mp3\n"
     ]
    },
    {
     "name": "stderr",
     "output_type": "stream",
     "text": [
      "/home/ngo/anaconda3/lib/python3.12/site-packages/whisper/transcribe.py:126: UserWarning: FP16 is not supported on CPU; using FP32 instead\n",
      "  warnings.warn(\"FP16 is not supported on CPU; using FP32 instead\")\n"
     ]
    },
    {
     "ename": "KeyboardInterrupt",
     "evalue": "",
     "output_type": "error",
     "traceback": [
      "\u001b[0;31m---------------------------------------------------------------------------\u001b[0m",
      "\u001b[0;31mKeyboardInterrupt\u001b[0m                         Traceback (most recent call last)",
      "Cell \u001b[0;32mIn[16], line 16\u001b[0m\n\u001b[1;32m     13\u001b[0m \u001b[38;5;28mprint\u001b[39m(\u001b[38;5;124mf\u001b[39m\u001b[38;5;124m\"\u001b[39m\u001b[38;5;124mProcessing: \u001b[39m\u001b[38;5;132;01m{\u001b[39;00maudio_file\u001b[38;5;132;01m}\u001b[39;00m\u001b[38;5;124m\"\u001b[39m)\n\u001b[1;32m     15\u001b[0m \u001b[38;5;66;03m# Nhận diện giọng nói\u001b[39;00m\n\u001b[0;32m---> 16\u001b[0m result \u001b[38;5;241m=\u001b[39m model\u001b[38;5;241m.\u001b[39mtranscribe(file_path, language\u001b[38;5;241m=\u001b[39m\u001b[38;5;124m\"\u001b[39m\u001b[38;5;124mvi\u001b[39m\u001b[38;5;124m\"\u001b[39m)\n\u001b[1;32m     17\u001b[0m predicted_text \u001b[38;5;241m=\u001b[39m result[\u001b[38;5;124m\"\u001b[39m\u001b[38;5;124mtext\u001b[39m\u001b[38;5;124m\"\u001b[39m]\u001b[38;5;241m.\u001b[39mstrip()\u001b[38;5;241m.\u001b[39mlower()\n\u001b[1;32m     19\u001b[0m \u001b[38;5;66;03m# Lưu kết quả nếu có transcript chuẩn\u001b[39;00m\n",
      "File \u001b[0;32m~/anaconda3/lib/python3.12/site-packages/whisper/transcribe.py:279\u001b[0m, in \u001b[0;36mtranscribe\u001b[0;34m(model, audio, verbose, temperature, compression_ratio_threshold, logprob_threshold, no_speech_threshold, condition_on_previous_text, initial_prompt, word_timestamps, prepend_punctuations, append_punctuations, clip_timestamps, hallucination_silence_threshold, **decode_options)\u001b[0m\n\u001b[1;32m    276\u001b[0m mel_segment \u001b[38;5;241m=\u001b[39m pad_or_trim(mel_segment, N_FRAMES)\u001b[38;5;241m.\u001b[39mto(model\u001b[38;5;241m.\u001b[39mdevice)\u001b[38;5;241m.\u001b[39mto(dtype)\n\u001b[1;32m    278\u001b[0m decode_options[\u001b[38;5;124m\"\u001b[39m\u001b[38;5;124mprompt\u001b[39m\u001b[38;5;124m\"\u001b[39m] \u001b[38;5;241m=\u001b[39m all_tokens[prompt_reset_since:]\n\u001b[0;32m--> 279\u001b[0m result: DecodingResult \u001b[38;5;241m=\u001b[39m decode_with_fallback(mel_segment)\n\u001b[1;32m    280\u001b[0m tokens \u001b[38;5;241m=\u001b[39m torch\u001b[38;5;241m.\u001b[39mtensor(result\u001b[38;5;241m.\u001b[39mtokens)\n\u001b[1;32m    282\u001b[0m \u001b[38;5;28;01mif\u001b[39;00m no_speech_threshold \u001b[38;5;129;01mis\u001b[39;00m \u001b[38;5;129;01mnot\u001b[39;00m \u001b[38;5;28;01mNone\u001b[39;00m:\n\u001b[1;32m    283\u001b[0m     \u001b[38;5;66;03m# no voice activity check\u001b[39;00m\n",
      "File \u001b[0;32m~/anaconda3/lib/python3.12/site-packages/whisper/transcribe.py:195\u001b[0m, in \u001b[0;36mtranscribe.<locals>.decode_with_fallback\u001b[0;34m(segment)\u001b[0m\n\u001b[1;32m    192\u001b[0m     kwargs\u001b[38;5;241m.\u001b[39mpop(\u001b[38;5;124m\"\u001b[39m\u001b[38;5;124mbest_of\u001b[39m\u001b[38;5;124m\"\u001b[39m, \u001b[38;5;28;01mNone\u001b[39;00m)\n\u001b[1;32m    194\u001b[0m options \u001b[38;5;241m=\u001b[39m DecodingOptions(\u001b[38;5;241m*\u001b[39m\u001b[38;5;241m*\u001b[39mkwargs, temperature\u001b[38;5;241m=\u001b[39mt)\n\u001b[0;32m--> 195\u001b[0m decode_result \u001b[38;5;241m=\u001b[39m model\u001b[38;5;241m.\u001b[39mdecode(segment, options)\n\u001b[1;32m    197\u001b[0m needs_fallback \u001b[38;5;241m=\u001b[39m \u001b[38;5;28;01mFalse\u001b[39;00m\n\u001b[1;32m    198\u001b[0m \u001b[38;5;28;01mif\u001b[39;00m (\n\u001b[1;32m    199\u001b[0m     compression_ratio_threshold \u001b[38;5;129;01mis\u001b[39;00m \u001b[38;5;129;01mnot\u001b[39;00m \u001b[38;5;28;01mNone\u001b[39;00m\n\u001b[1;32m    200\u001b[0m     \u001b[38;5;129;01mand\u001b[39;00m decode_result\u001b[38;5;241m.\u001b[39mcompression_ratio \u001b[38;5;241m>\u001b[39m compression_ratio_threshold\n\u001b[1;32m    201\u001b[0m ):\n",
      "File \u001b[0;32m~/anaconda3/lib/python3.12/site-packages/torch/utils/_contextlib.py:116\u001b[0m, in \u001b[0;36mcontext_decorator.<locals>.decorate_context\u001b[0;34m(*args, **kwargs)\u001b[0m\n\u001b[1;32m    113\u001b[0m \u001b[38;5;129m@functools\u001b[39m\u001b[38;5;241m.\u001b[39mwraps(func)\n\u001b[1;32m    114\u001b[0m \u001b[38;5;28;01mdef\u001b[39;00m \u001b[38;5;21mdecorate_context\u001b[39m(\u001b[38;5;241m*\u001b[39margs, \u001b[38;5;241m*\u001b[39m\u001b[38;5;241m*\u001b[39mkwargs):\n\u001b[1;32m    115\u001b[0m     \u001b[38;5;28;01mwith\u001b[39;00m ctx_factory():\n\u001b[0;32m--> 116\u001b[0m         \u001b[38;5;28;01mreturn\u001b[39;00m func(\u001b[38;5;241m*\u001b[39margs, \u001b[38;5;241m*\u001b[39m\u001b[38;5;241m*\u001b[39mkwargs)\n",
      "File \u001b[0;32m~/anaconda3/lib/python3.12/site-packages/whisper/decoding.py:824\u001b[0m, in \u001b[0;36mdecode\u001b[0;34m(model, mel, options, **kwargs)\u001b[0m\n\u001b[1;32m    821\u001b[0m \u001b[38;5;28;01mif\u001b[39;00m kwargs:\n\u001b[1;32m    822\u001b[0m     options \u001b[38;5;241m=\u001b[39m replace(options, \u001b[38;5;241m*\u001b[39m\u001b[38;5;241m*\u001b[39mkwargs)\n\u001b[0;32m--> 824\u001b[0m result \u001b[38;5;241m=\u001b[39m DecodingTask(model, options)\u001b[38;5;241m.\u001b[39mrun(mel)\n\u001b[1;32m    826\u001b[0m \u001b[38;5;28;01mreturn\u001b[39;00m result[\u001b[38;5;241m0\u001b[39m] \u001b[38;5;28;01mif\u001b[39;00m single \u001b[38;5;28;01melse\u001b[39;00m result\n",
      "File \u001b[0;32m~/anaconda3/lib/python3.12/site-packages/torch/utils/_contextlib.py:116\u001b[0m, in \u001b[0;36mcontext_decorator.<locals>.decorate_context\u001b[0;34m(*args, **kwargs)\u001b[0m\n\u001b[1;32m    113\u001b[0m \u001b[38;5;129m@functools\u001b[39m\u001b[38;5;241m.\u001b[39mwraps(func)\n\u001b[1;32m    114\u001b[0m \u001b[38;5;28;01mdef\u001b[39;00m \u001b[38;5;21mdecorate_context\u001b[39m(\u001b[38;5;241m*\u001b[39margs, \u001b[38;5;241m*\u001b[39m\u001b[38;5;241m*\u001b[39mkwargs):\n\u001b[1;32m    115\u001b[0m     \u001b[38;5;28;01mwith\u001b[39;00m ctx_factory():\n\u001b[0;32m--> 116\u001b[0m         \u001b[38;5;28;01mreturn\u001b[39;00m func(\u001b[38;5;241m*\u001b[39margs, \u001b[38;5;241m*\u001b[39m\u001b[38;5;241m*\u001b[39mkwargs)\n",
      "File \u001b[0;32m~/anaconda3/lib/python3.12/site-packages/whisper/decoding.py:737\u001b[0m, in \u001b[0;36mDecodingTask.run\u001b[0;34m(self, mel)\u001b[0m\n\u001b[1;32m    734\u001b[0m tokens \u001b[38;5;241m=\u001b[39m tokens\u001b[38;5;241m.\u001b[39mrepeat_interleave(\u001b[38;5;28mself\u001b[39m\u001b[38;5;241m.\u001b[39mn_group, dim\u001b[38;5;241m=\u001b[39m\u001b[38;5;241m0\u001b[39m)\u001b[38;5;241m.\u001b[39mto(audio_features\u001b[38;5;241m.\u001b[39mdevice)\n\u001b[1;32m    736\u001b[0m \u001b[38;5;66;03m# call the main sampling loop\u001b[39;00m\n\u001b[0;32m--> 737\u001b[0m tokens, sum_logprobs, no_speech_probs \u001b[38;5;241m=\u001b[39m \u001b[38;5;28mself\u001b[39m\u001b[38;5;241m.\u001b[39m_main_loop(audio_features, tokens)\n\u001b[1;32m    739\u001b[0m \u001b[38;5;66;03m# reshape the tensors to have (n_audio, n_group) as the first two dimensions\u001b[39;00m\n\u001b[1;32m    740\u001b[0m audio_features \u001b[38;5;241m=\u001b[39m audio_features[:: \u001b[38;5;28mself\u001b[39m\u001b[38;5;241m.\u001b[39mn_group]\n",
      "File \u001b[0;32m~/anaconda3/lib/python3.12/site-packages/whisper/decoding.py:687\u001b[0m, in \u001b[0;36mDecodingTask._main_loop\u001b[0;34m(self, audio_features, tokens)\u001b[0m\n\u001b[1;32m    685\u001b[0m \u001b[38;5;28;01mtry\u001b[39;00m:\n\u001b[1;32m    686\u001b[0m     \u001b[38;5;28;01mfor\u001b[39;00m i \u001b[38;5;129;01min\u001b[39;00m \u001b[38;5;28mrange\u001b[39m(\u001b[38;5;28mself\u001b[39m\u001b[38;5;241m.\u001b[39msample_len):\n\u001b[0;32m--> 687\u001b[0m         logits \u001b[38;5;241m=\u001b[39m \u001b[38;5;28mself\u001b[39m\u001b[38;5;241m.\u001b[39minference\u001b[38;5;241m.\u001b[39mlogits(tokens, audio_features)\n\u001b[1;32m    689\u001b[0m         \u001b[38;5;28;01mif\u001b[39;00m (\n\u001b[1;32m    690\u001b[0m             i \u001b[38;5;241m==\u001b[39m \u001b[38;5;241m0\u001b[39m \u001b[38;5;129;01mand\u001b[39;00m \u001b[38;5;28mself\u001b[39m\u001b[38;5;241m.\u001b[39mtokenizer\u001b[38;5;241m.\u001b[39mno_speech \u001b[38;5;129;01mis\u001b[39;00m \u001b[38;5;129;01mnot\u001b[39;00m \u001b[38;5;28;01mNone\u001b[39;00m\n\u001b[1;32m    691\u001b[0m         ):  \u001b[38;5;66;03m# save no_speech_probs\u001b[39;00m\n\u001b[1;32m    692\u001b[0m             probs_at_sot \u001b[38;5;241m=\u001b[39m logits[:, \u001b[38;5;28mself\u001b[39m\u001b[38;5;241m.\u001b[39msot_index]\u001b[38;5;241m.\u001b[39mfloat()\u001b[38;5;241m.\u001b[39msoftmax(dim\u001b[38;5;241m=\u001b[39m\u001b[38;5;241m-\u001b[39m\u001b[38;5;241m1\u001b[39m)\n",
      "File \u001b[0;32m~/anaconda3/lib/python3.12/site-packages/whisper/decoding.py:163\u001b[0m, in \u001b[0;36mPyTorchInference.logits\u001b[0;34m(self, tokens, audio_features)\u001b[0m\n\u001b[1;32m    159\u001b[0m \u001b[38;5;28;01mif\u001b[39;00m tokens\u001b[38;5;241m.\u001b[39mshape[\u001b[38;5;241m-\u001b[39m\u001b[38;5;241m1\u001b[39m] \u001b[38;5;241m>\u001b[39m \u001b[38;5;28mself\u001b[39m\u001b[38;5;241m.\u001b[39minitial_token_length:\n\u001b[1;32m    160\u001b[0m     \u001b[38;5;66;03m# only need to use the last token except in the first forward pass\u001b[39;00m\n\u001b[1;32m    161\u001b[0m     tokens \u001b[38;5;241m=\u001b[39m tokens[:, \u001b[38;5;241m-\u001b[39m\u001b[38;5;241m1\u001b[39m:]\n\u001b[0;32m--> 163\u001b[0m \u001b[38;5;28;01mreturn\u001b[39;00m \u001b[38;5;28mself\u001b[39m\u001b[38;5;241m.\u001b[39mmodel\u001b[38;5;241m.\u001b[39mdecoder(tokens, audio_features, kv_cache\u001b[38;5;241m=\u001b[39m\u001b[38;5;28mself\u001b[39m\u001b[38;5;241m.\u001b[39mkv_cache)\n",
      "File \u001b[0;32m~/anaconda3/lib/python3.12/site-packages/torch/nn/modules/module.py:1739\u001b[0m, in \u001b[0;36mModule._wrapped_call_impl\u001b[0;34m(self, *args, **kwargs)\u001b[0m\n\u001b[1;32m   1737\u001b[0m     \u001b[38;5;28;01mreturn\u001b[39;00m \u001b[38;5;28mself\u001b[39m\u001b[38;5;241m.\u001b[39m_compiled_call_impl(\u001b[38;5;241m*\u001b[39margs, \u001b[38;5;241m*\u001b[39m\u001b[38;5;241m*\u001b[39mkwargs)  \u001b[38;5;66;03m# type: ignore[misc]\u001b[39;00m\n\u001b[1;32m   1738\u001b[0m \u001b[38;5;28;01melse\u001b[39;00m:\n\u001b[0;32m-> 1739\u001b[0m     \u001b[38;5;28;01mreturn\u001b[39;00m \u001b[38;5;28mself\u001b[39m\u001b[38;5;241m.\u001b[39m_call_impl(\u001b[38;5;241m*\u001b[39margs, \u001b[38;5;241m*\u001b[39m\u001b[38;5;241m*\u001b[39mkwargs)\n",
      "File \u001b[0;32m~/anaconda3/lib/python3.12/site-packages/torch/nn/modules/module.py:1750\u001b[0m, in \u001b[0;36mModule._call_impl\u001b[0;34m(self, *args, **kwargs)\u001b[0m\n\u001b[1;32m   1745\u001b[0m \u001b[38;5;66;03m# If we don't have any hooks, we want to skip the rest of the logic in\u001b[39;00m\n\u001b[1;32m   1746\u001b[0m \u001b[38;5;66;03m# this function, and just call forward.\u001b[39;00m\n\u001b[1;32m   1747\u001b[0m \u001b[38;5;28;01mif\u001b[39;00m \u001b[38;5;129;01mnot\u001b[39;00m (\u001b[38;5;28mself\u001b[39m\u001b[38;5;241m.\u001b[39m_backward_hooks \u001b[38;5;129;01mor\u001b[39;00m \u001b[38;5;28mself\u001b[39m\u001b[38;5;241m.\u001b[39m_backward_pre_hooks \u001b[38;5;129;01mor\u001b[39;00m \u001b[38;5;28mself\u001b[39m\u001b[38;5;241m.\u001b[39m_forward_hooks \u001b[38;5;129;01mor\u001b[39;00m \u001b[38;5;28mself\u001b[39m\u001b[38;5;241m.\u001b[39m_forward_pre_hooks\n\u001b[1;32m   1748\u001b[0m         \u001b[38;5;129;01mor\u001b[39;00m _global_backward_pre_hooks \u001b[38;5;129;01mor\u001b[39;00m _global_backward_hooks\n\u001b[1;32m   1749\u001b[0m         \u001b[38;5;129;01mor\u001b[39;00m _global_forward_hooks \u001b[38;5;129;01mor\u001b[39;00m _global_forward_pre_hooks):\n\u001b[0;32m-> 1750\u001b[0m     \u001b[38;5;28;01mreturn\u001b[39;00m forward_call(\u001b[38;5;241m*\u001b[39margs, \u001b[38;5;241m*\u001b[39m\u001b[38;5;241m*\u001b[39mkwargs)\n\u001b[1;32m   1752\u001b[0m result \u001b[38;5;241m=\u001b[39m \u001b[38;5;28;01mNone\u001b[39;00m\n\u001b[1;32m   1753\u001b[0m called_always_called_hooks \u001b[38;5;241m=\u001b[39m \u001b[38;5;28mset\u001b[39m()\n",
      "File \u001b[0;32m~/anaconda3/lib/python3.12/site-packages/whisper/model.py:242\u001b[0m, in \u001b[0;36mTextDecoder.forward\u001b[0;34m(self, x, xa, kv_cache)\u001b[0m\n\u001b[1;32m    239\u001b[0m x \u001b[38;5;241m=\u001b[39m x\u001b[38;5;241m.\u001b[39mto(xa\u001b[38;5;241m.\u001b[39mdtype)\n\u001b[1;32m    241\u001b[0m \u001b[38;5;28;01mfor\u001b[39;00m block \u001b[38;5;129;01min\u001b[39;00m \u001b[38;5;28mself\u001b[39m\u001b[38;5;241m.\u001b[39mblocks:\n\u001b[0;32m--> 242\u001b[0m     x \u001b[38;5;241m=\u001b[39m block(x, xa, mask\u001b[38;5;241m=\u001b[39m\u001b[38;5;28mself\u001b[39m\u001b[38;5;241m.\u001b[39mmask, kv_cache\u001b[38;5;241m=\u001b[39mkv_cache)\n\u001b[1;32m    244\u001b[0m x \u001b[38;5;241m=\u001b[39m \u001b[38;5;28mself\u001b[39m\u001b[38;5;241m.\u001b[39mln(x)\n\u001b[1;32m    245\u001b[0m logits \u001b[38;5;241m=\u001b[39m (\n\u001b[1;32m    246\u001b[0m     x \u001b[38;5;241m@\u001b[39m torch\u001b[38;5;241m.\u001b[39mtranspose(\u001b[38;5;28mself\u001b[39m\u001b[38;5;241m.\u001b[39mtoken_embedding\u001b[38;5;241m.\u001b[39mweight\u001b[38;5;241m.\u001b[39mto(x\u001b[38;5;241m.\u001b[39mdtype), \u001b[38;5;241m0\u001b[39m, \u001b[38;5;241m1\u001b[39m)\n\u001b[1;32m    247\u001b[0m )\u001b[38;5;241m.\u001b[39mfloat()\n",
      "File \u001b[0;32m~/anaconda3/lib/python3.12/site-packages/torch/nn/modules/module.py:1739\u001b[0m, in \u001b[0;36mModule._wrapped_call_impl\u001b[0;34m(self, *args, **kwargs)\u001b[0m\n\u001b[1;32m   1737\u001b[0m     \u001b[38;5;28;01mreturn\u001b[39;00m \u001b[38;5;28mself\u001b[39m\u001b[38;5;241m.\u001b[39m_compiled_call_impl(\u001b[38;5;241m*\u001b[39margs, \u001b[38;5;241m*\u001b[39m\u001b[38;5;241m*\u001b[39mkwargs)  \u001b[38;5;66;03m# type: ignore[misc]\u001b[39;00m\n\u001b[1;32m   1738\u001b[0m \u001b[38;5;28;01melse\u001b[39;00m:\n\u001b[0;32m-> 1739\u001b[0m     \u001b[38;5;28;01mreturn\u001b[39;00m \u001b[38;5;28mself\u001b[39m\u001b[38;5;241m.\u001b[39m_call_impl(\u001b[38;5;241m*\u001b[39margs, \u001b[38;5;241m*\u001b[39m\u001b[38;5;241m*\u001b[39mkwargs)\n",
      "File \u001b[0;32m~/anaconda3/lib/python3.12/site-packages/torch/nn/modules/module.py:1750\u001b[0m, in \u001b[0;36mModule._call_impl\u001b[0;34m(self, *args, **kwargs)\u001b[0m\n\u001b[1;32m   1745\u001b[0m \u001b[38;5;66;03m# If we don't have any hooks, we want to skip the rest of the logic in\u001b[39;00m\n\u001b[1;32m   1746\u001b[0m \u001b[38;5;66;03m# this function, and just call forward.\u001b[39;00m\n\u001b[1;32m   1747\u001b[0m \u001b[38;5;28;01mif\u001b[39;00m \u001b[38;5;129;01mnot\u001b[39;00m (\u001b[38;5;28mself\u001b[39m\u001b[38;5;241m.\u001b[39m_backward_hooks \u001b[38;5;129;01mor\u001b[39;00m \u001b[38;5;28mself\u001b[39m\u001b[38;5;241m.\u001b[39m_backward_pre_hooks \u001b[38;5;129;01mor\u001b[39;00m \u001b[38;5;28mself\u001b[39m\u001b[38;5;241m.\u001b[39m_forward_hooks \u001b[38;5;129;01mor\u001b[39;00m \u001b[38;5;28mself\u001b[39m\u001b[38;5;241m.\u001b[39m_forward_pre_hooks\n\u001b[1;32m   1748\u001b[0m         \u001b[38;5;129;01mor\u001b[39;00m _global_backward_pre_hooks \u001b[38;5;129;01mor\u001b[39;00m _global_backward_hooks\n\u001b[1;32m   1749\u001b[0m         \u001b[38;5;129;01mor\u001b[39;00m _global_forward_hooks \u001b[38;5;129;01mor\u001b[39;00m _global_forward_pre_hooks):\n\u001b[0;32m-> 1750\u001b[0m     \u001b[38;5;28;01mreturn\u001b[39;00m forward_call(\u001b[38;5;241m*\u001b[39margs, \u001b[38;5;241m*\u001b[39m\u001b[38;5;241m*\u001b[39mkwargs)\n\u001b[1;32m   1752\u001b[0m result \u001b[38;5;241m=\u001b[39m \u001b[38;5;28;01mNone\u001b[39;00m\n\u001b[1;32m   1753\u001b[0m called_always_called_hooks \u001b[38;5;241m=\u001b[39m \u001b[38;5;28mset\u001b[39m()\n",
      "File \u001b[0;32m~/anaconda3/lib/python3.12/site-packages/whisper/model.py:167\u001b[0m, in \u001b[0;36mResidualAttentionBlock.forward\u001b[0;34m(self, x, xa, mask, kv_cache)\u001b[0m\n\u001b[1;32m    160\u001b[0m \u001b[38;5;28;01mdef\u001b[39;00m \u001b[38;5;21mforward\u001b[39m(\n\u001b[1;32m    161\u001b[0m     \u001b[38;5;28mself\u001b[39m,\n\u001b[1;32m    162\u001b[0m     x: Tensor,\n\u001b[0;32m   (...)\u001b[0m\n\u001b[1;32m    165\u001b[0m     kv_cache: Optional[\u001b[38;5;28mdict\u001b[39m] \u001b[38;5;241m=\u001b[39m \u001b[38;5;28;01mNone\u001b[39;00m,\n\u001b[1;32m    166\u001b[0m ):\n\u001b[0;32m--> 167\u001b[0m     x \u001b[38;5;241m=\u001b[39m x \u001b[38;5;241m+\u001b[39m \u001b[38;5;28mself\u001b[39m\u001b[38;5;241m.\u001b[39mattn(\u001b[38;5;28mself\u001b[39m\u001b[38;5;241m.\u001b[39mattn_ln(x), mask\u001b[38;5;241m=\u001b[39mmask, kv_cache\u001b[38;5;241m=\u001b[39mkv_cache)[\u001b[38;5;241m0\u001b[39m]\n\u001b[1;32m    168\u001b[0m     \u001b[38;5;28;01mif\u001b[39;00m \u001b[38;5;28mself\u001b[39m\u001b[38;5;241m.\u001b[39mcross_attn:\n\u001b[1;32m    169\u001b[0m         x \u001b[38;5;241m=\u001b[39m x \u001b[38;5;241m+\u001b[39m \u001b[38;5;28mself\u001b[39m\u001b[38;5;241m.\u001b[39mcross_attn(\u001b[38;5;28mself\u001b[39m\u001b[38;5;241m.\u001b[39mcross_attn_ln(x), xa, kv_cache\u001b[38;5;241m=\u001b[39mkv_cache)[\u001b[38;5;241m0\u001b[39m]\n",
      "File \u001b[0;32m~/anaconda3/lib/python3.12/site-packages/torch/nn/modules/module.py:1739\u001b[0m, in \u001b[0;36mModule._wrapped_call_impl\u001b[0;34m(self, *args, **kwargs)\u001b[0m\n\u001b[1;32m   1737\u001b[0m     \u001b[38;5;28;01mreturn\u001b[39;00m \u001b[38;5;28mself\u001b[39m\u001b[38;5;241m.\u001b[39m_compiled_call_impl(\u001b[38;5;241m*\u001b[39margs, \u001b[38;5;241m*\u001b[39m\u001b[38;5;241m*\u001b[39mkwargs)  \u001b[38;5;66;03m# type: ignore[misc]\u001b[39;00m\n\u001b[1;32m   1738\u001b[0m \u001b[38;5;28;01melse\u001b[39;00m:\n\u001b[0;32m-> 1739\u001b[0m     \u001b[38;5;28;01mreturn\u001b[39;00m \u001b[38;5;28mself\u001b[39m\u001b[38;5;241m.\u001b[39m_call_impl(\u001b[38;5;241m*\u001b[39margs, \u001b[38;5;241m*\u001b[39m\u001b[38;5;241m*\u001b[39mkwargs)\n",
      "File \u001b[0;32m~/anaconda3/lib/python3.12/site-packages/torch/nn/modules/module.py:1750\u001b[0m, in \u001b[0;36mModule._call_impl\u001b[0;34m(self, *args, **kwargs)\u001b[0m\n\u001b[1;32m   1745\u001b[0m \u001b[38;5;66;03m# If we don't have any hooks, we want to skip the rest of the logic in\u001b[39;00m\n\u001b[1;32m   1746\u001b[0m \u001b[38;5;66;03m# this function, and just call forward.\u001b[39;00m\n\u001b[1;32m   1747\u001b[0m \u001b[38;5;28;01mif\u001b[39;00m \u001b[38;5;129;01mnot\u001b[39;00m (\u001b[38;5;28mself\u001b[39m\u001b[38;5;241m.\u001b[39m_backward_hooks \u001b[38;5;129;01mor\u001b[39;00m \u001b[38;5;28mself\u001b[39m\u001b[38;5;241m.\u001b[39m_backward_pre_hooks \u001b[38;5;129;01mor\u001b[39;00m \u001b[38;5;28mself\u001b[39m\u001b[38;5;241m.\u001b[39m_forward_hooks \u001b[38;5;129;01mor\u001b[39;00m \u001b[38;5;28mself\u001b[39m\u001b[38;5;241m.\u001b[39m_forward_pre_hooks\n\u001b[1;32m   1748\u001b[0m         \u001b[38;5;129;01mor\u001b[39;00m _global_backward_pre_hooks \u001b[38;5;129;01mor\u001b[39;00m _global_backward_hooks\n\u001b[1;32m   1749\u001b[0m         \u001b[38;5;129;01mor\u001b[39;00m _global_forward_hooks \u001b[38;5;129;01mor\u001b[39;00m _global_forward_pre_hooks):\n\u001b[0;32m-> 1750\u001b[0m     \u001b[38;5;28;01mreturn\u001b[39;00m forward_call(\u001b[38;5;241m*\u001b[39margs, \u001b[38;5;241m*\u001b[39m\u001b[38;5;241m*\u001b[39mkwargs)\n\u001b[1;32m   1752\u001b[0m result \u001b[38;5;241m=\u001b[39m \u001b[38;5;28;01mNone\u001b[39;00m\n\u001b[1;32m   1753\u001b[0m called_always_called_hooks \u001b[38;5;241m=\u001b[39m \u001b[38;5;28mset\u001b[39m()\n",
      "File \u001b[0;32m~/anaconda3/lib/python3.12/site-packages/whisper/model.py:104\u001b[0m, in \u001b[0;36mMultiHeadAttention.forward\u001b[0;34m(self, x, xa, mask, kv_cache)\u001b[0m\n\u001b[1;32m     99\u001b[0m q \u001b[38;5;241m=\u001b[39m \u001b[38;5;28mself\u001b[39m\u001b[38;5;241m.\u001b[39mquery(x)\n\u001b[1;32m    101\u001b[0m \u001b[38;5;28;01mif\u001b[39;00m kv_cache \u001b[38;5;129;01mis\u001b[39;00m \u001b[38;5;28;01mNone\u001b[39;00m \u001b[38;5;129;01mor\u001b[39;00m xa \u001b[38;5;129;01mis\u001b[39;00m \u001b[38;5;28;01mNone\u001b[39;00m \u001b[38;5;129;01mor\u001b[39;00m \u001b[38;5;28mself\u001b[39m\u001b[38;5;241m.\u001b[39mkey \u001b[38;5;129;01mnot\u001b[39;00m \u001b[38;5;129;01min\u001b[39;00m kv_cache:\n\u001b[1;32m    102\u001b[0m     \u001b[38;5;66;03m# hooks, if installed (i.e. kv_cache is not None), will prepend the cached kv tensors;\u001b[39;00m\n\u001b[1;32m    103\u001b[0m     \u001b[38;5;66;03m# otherwise, perform key/value projections for self- or cross-attention as usual.\u001b[39;00m\n\u001b[0;32m--> 104\u001b[0m     k \u001b[38;5;241m=\u001b[39m \u001b[38;5;28mself\u001b[39m\u001b[38;5;241m.\u001b[39mkey(x \u001b[38;5;28;01mif\u001b[39;00m xa \u001b[38;5;129;01mis\u001b[39;00m \u001b[38;5;28;01mNone\u001b[39;00m \u001b[38;5;28;01melse\u001b[39;00m xa)\n\u001b[1;32m    105\u001b[0m     v \u001b[38;5;241m=\u001b[39m \u001b[38;5;28mself\u001b[39m\u001b[38;5;241m.\u001b[39mvalue(x \u001b[38;5;28;01mif\u001b[39;00m xa \u001b[38;5;129;01mis\u001b[39;00m \u001b[38;5;28;01mNone\u001b[39;00m \u001b[38;5;28;01melse\u001b[39;00m xa)\n\u001b[1;32m    106\u001b[0m \u001b[38;5;28;01melse\u001b[39;00m:\n\u001b[1;32m    107\u001b[0m     \u001b[38;5;66;03m# for cross-attention, calculate keys and values once and reuse in subsequent calls.\u001b[39;00m\n",
      "File \u001b[0;32m~/anaconda3/lib/python3.12/site-packages/torch/nn/modules/module.py:1739\u001b[0m, in \u001b[0;36mModule._wrapped_call_impl\u001b[0;34m(self, *args, **kwargs)\u001b[0m\n\u001b[1;32m   1737\u001b[0m     \u001b[38;5;28;01mreturn\u001b[39;00m \u001b[38;5;28mself\u001b[39m\u001b[38;5;241m.\u001b[39m_compiled_call_impl(\u001b[38;5;241m*\u001b[39margs, \u001b[38;5;241m*\u001b[39m\u001b[38;5;241m*\u001b[39mkwargs)  \u001b[38;5;66;03m# type: ignore[misc]\u001b[39;00m\n\u001b[1;32m   1738\u001b[0m \u001b[38;5;28;01melse\u001b[39;00m:\n\u001b[0;32m-> 1739\u001b[0m     \u001b[38;5;28;01mreturn\u001b[39;00m \u001b[38;5;28mself\u001b[39m\u001b[38;5;241m.\u001b[39m_call_impl(\u001b[38;5;241m*\u001b[39margs, \u001b[38;5;241m*\u001b[39m\u001b[38;5;241m*\u001b[39mkwargs)\n",
      "File \u001b[0;32m~/anaconda3/lib/python3.12/site-packages/torch/nn/modules/module.py:1845\u001b[0m, in \u001b[0;36mModule._call_impl\u001b[0;34m(self, *args, **kwargs)\u001b[0m\n\u001b[1;32m   1842\u001b[0m     \u001b[38;5;28;01mreturn\u001b[39;00m inner()\n\u001b[1;32m   1844\u001b[0m \u001b[38;5;28;01mtry\u001b[39;00m:\n\u001b[0;32m-> 1845\u001b[0m     \u001b[38;5;28;01mreturn\u001b[39;00m inner()\n\u001b[1;32m   1846\u001b[0m \u001b[38;5;28;01mexcept\u001b[39;00m \u001b[38;5;167;01mException\u001b[39;00m:\n\u001b[1;32m   1847\u001b[0m     \u001b[38;5;66;03m# run always called hooks if they have not already been run\u001b[39;00m\n\u001b[1;32m   1848\u001b[0m     \u001b[38;5;66;03m# For now only forward hooks have the always_call option but perhaps\u001b[39;00m\n\u001b[1;32m   1849\u001b[0m     \u001b[38;5;66;03m# this functionality should be added to full backward hooks as well.\u001b[39;00m\n\u001b[1;32m   1850\u001b[0m     \u001b[38;5;28;01mfor\u001b[39;00m hook_id, hook \u001b[38;5;129;01min\u001b[39;00m _global_forward_hooks\u001b[38;5;241m.\u001b[39mitems():\n",
      "File \u001b[0;32m~/anaconda3/lib/python3.12/site-packages/torch/nn/modules/module.py:1793\u001b[0m, in \u001b[0;36mModule._call_impl.<locals>.inner\u001b[0;34m()\u001b[0m\n\u001b[1;32m   1790\u001b[0m     bw_hook \u001b[38;5;241m=\u001b[39m BackwardHook(\u001b[38;5;28mself\u001b[39m, full_backward_hooks, backward_pre_hooks)\n\u001b[1;32m   1791\u001b[0m     args \u001b[38;5;241m=\u001b[39m bw_hook\u001b[38;5;241m.\u001b[39msetup_input_hook(args)\n\u001b[0;32m-> 1793\u001b[0m result \u001b[38;5;241m=\u001b[39m forward_call(\u001b[38;5;241m*\u001b[39margs, \u001b[38;5;241m*\u001b[39m\u001b[38;5;241m*\u001b[39mkwargs)\n\u001b[1;32m   1794\u001b[0m \u001b[38;5;28;01mif\u001b[39;00m _global_forward_hooks \u001b[38;5;129;01mor\u001b[39;00m \u001b[38;5;28mself\u001b[39m\u001b[38;5;241m.\u001b[39m_forward_hooks:\n\u001b[1;32m   1795\u001b[0m     \u001b[38;5;28;01mfor\u001b[39;00m hook_id, hook \u001b[38;5;129;01min\u001b[39;00m (\n\u001b[1;32m   1796\u001b[0m         \u001b[38;5;241m*\u001b[39m_global_forward_hooks\u001b[38;5;241m.\u001b[39mitems(),\n\u001b[1;32m   1797\u001b[0m         \u001b[38;5;241m*\u001b[39m\u001b[38;5;28mself\u001b[39m\u001b[38;5;241m.\u001b[39m_forward_hooks\u001b[38;5;241m.\u001b[39mitems(),\n\u001b[1;32m   1798\u001b[0m     ):\n\u001b[1;32m   1799\u001b[0m         \u001b[38;5;66;03m# mark that always called hook is run\u001b[39;00m\n",
      "File \u001b[0;32m~/anaconda3/lib/python3.12/site-packages/whisper/model.py:46\u001b[0m, in \u001b[0;36mLinear.forward\u001b[0;34m(self, x)\u001b[0m\n\u001b[1;32m     45\u001b[0m \u001b[38;5;28;01mdef\u001b[39;00m \u001b[38;5;21mforward\u001b[39m(\u001b[38;5;28mself\u001b[39m, x: Tensor) \u001b[38;5;241m-\u001b[39m\u001b[38;5;241m>\u001b[39m Tensor:\n\u001b[0;32m---> 46\u001b[0m     \u001b[38;5;28;01mreturn\u001b[39;00m F\u001b[38;5;241m.\u001b[39mlinear(\n\u001b[1;32m     47\u001b[0m         x,\n\u001b[1;32m     48\u001b[0m         \u001b[38;5;28mself\u001b[39m\u001b[38;5;241m.\u001b[39mweight\u001b[38;5;241m.\u001b[39mto(x\u001b[38;5;241m.\u001b[39mdtype),\n\u001b[1;32m     49\u001b[0m         \u001b[38;5;28;01mNone\u001b[39;00m \u001b[38;5;28;01mif\u001b[39;00m \u001b[38;5;28mself\u001b[39m\u001b[38;5;241m.\u001b[39mbias \u001b[38;5;129;01mis\u001b[39;00m \u001b[38;5;28;01mNone\u001b[39;00m \u001b[38;5;28;01melse\u001b[39;00m \u001b[38;5;28mself\u001b[39m\u001b[38;5;241m.\u001b[39mbias\u001b[38;5;241m.\u001b[39mto(x\u001b[38;5;241m.\u001b[39mdtype),\n\u001b[1;32m     50\u001b[0m     )\n",
      "\u001b[0;31mKeyboardInterrupt\u001b[0m: "
     ]
    }
   ],
   "source": [
    "print(\"Xu ly tung file am thanh\")\n",
    "# Khởi tạo danh sách để lưu kết quả\n",
    "hypotheses = []\n",
    "references = []\n",
    "results = []\n",
    "\n",
    "# Sắp xếp danh sách file theo tên\n",
    "audio_files = sorted([f for f in os.listdir(AUDIO_FOLDER) if f.endswith(\".mp3\")])\n",
    "\n",
    "# Xử lý từng file âm thanh\n",
    "for audio_file in audio_files:\n",
    "    file_path = os.path.join(AUDIO_FOLDER, audio_file)\n",
    "    print(f\"Processing: {audio_file}\")\n",
    "    \n",
    "    # Nhận diện giọng nói\n",
    "    result = model.transcribe(file_path, language=\"vi\")\n",
    "    predicted_text = result[\"text\"].strip().lower()\n",
    "    \n",
    "    # Lưu kết quả nếu có transcript chuẩn\n",
    "    if audio_file in ground_truths:\n",
    "        reference_text = ground_truths[audio_file].strip().lower()\n",
    "        print(f'reference_text: {reference_text}')\n",
    "        print(f'predicted_text: {predicted_text}')\n",
    "        if reference_text and predicted_text:\n",
    "            references.append(reference_text)\n",
    "            hypotheses.append(predicted_text)\n",
    "    else:\n",
    "        print(f\"Warning: No reference found for {audio_file}\")\n",
    "    \n",
    "    # Ghi kết quả vào danh sách\n",
    "    results.append(f\"{audio_file}|{predicted_text}\")\n",
    "\n",
    "print(\"Xu ly tung file am thanh - end\")"
   ]
  },
  {
   "cell_type": "code",
   "execution_count": 15,
   "id": "53097727-224f-4ac1-8ae8-ed8b8a2b0003",
   "metadata": {},
   "outputs": [
    {
     "name": "stdout",
     "output_type": "stream",
     "text": [
      "reference_text: ['cách để đi', 'họ đã xét nghiệm máu cho cheng nhưng mọi thứ vẫn hoàn toàn bình thường', 'anh có thể gọi tôi không', 'có rất nhiều yếu tố may rủi ở đây', 'ai là chúa nói dối', 'có cửa hàng tiện lợi ở sân bay không', 'anh đổi ngoại tệ được không', 'cô ấy mua hai mươi trái chôm chôm và ba con cá', 'đứa bé có ói òng ọc ra sữa hoặc nước và bé chưa đến mười tuần tuổi hoặc có biểu hiện mất nước không', 'tôi có thể viết tên địa chỉ số điện thoại của công ty bảo hiểm của anh được không', 'đừng lo tôi vừa mới đến rồi', 'mười phút nữa vào giờ rưỡi', 'tôi có thể hẹn cho chiều mai không', 'anh rửa hình kỹ thuật số ra được không', 'tôi cố thu xếp thôi', 'tôi không dùng ma túy', 'quân đội mỹ muốn chế tạo những máy tự động hoàn toàn vì những chiếc mà họ đang có vẫn cần được điều khiển bởi con người', 'tôi quên túi đeo vai trong xe tắc xi', 'dư luận đã phản ánh lên cơ quan địa chính của thị trấn nhưng mãi chả thấy hồi âm', 'giả danh làm từ thiện lừa tiền người dân', 'sắm đồ siêu sang ở hội chợ triệu phú', 'nếu làm lộ thiên cơ âm binh sẽ đánh trả thầy', 'máy ném bom chiến lược của nga gặp nạn', 'anh có thích tôi giữ trước quyển sách này cho anh không', 'ở người bị hội chứng khi ăn ngủ phần não phải vẫn thức và sau đó là cả các dạng hoạt động thể chất', 'tỉ lệ là mười mm trên một km', 'tôi muốn thực hiện một cuộc gọi điện thoại quốc tế đi nhật bản cuộc gọi -n là đến tokyo số ba hai chín hai tám hai một một', 'nơi đây hiện khá yên tĩnh', 'nhưng cũng có những bạn nằm khèo ở nhà trùm mềm và khóc nhè', 'chúng ta không thể mua cái nào ở nhật bản', 'cho vừa với số kinh phí hạn hẹp của một bộ phim', 'kịch sến nhiều tập làm tôi oải quá tôi sẽ tắt tv', 'chính vì thế những người phải sống một thời gian dài trong không gian có thể gặp rủi ro', 'thực ra thà không đến nỗi mơ mộng đến mê muội để chẳng hiểu tấm lòng của những người thân thông qua lời khuyên nhủ', 'bán đấu giá mỹ nữ', 'địa chỉ email của tôi là s t e f a n dot m a r t e n s \\\\r\\\\n @ gmx dot de', 'hôm thứ năm ủy ban bầu cử thái lan cho rằng đảng của người thái yêu người thái đã phạm hai luật trong chiến dịch tranh cử vừa qua', 'không thể xem lần vấp ngã ấy là tai', 'cướp bóc trong khi hỏa hoạn', 'một dân tộc từng không có người từ á sang âu -n', 'tết đầu tiên xa việt nam của cháu quả là ý nghĩa', 'trong làng ai cũng quý mến gia đình anh phú', 'xin chào gia đình tanaka', 'anh đã làm rất tệ', 'cô ta nghi ngờ lúc mình say rượu đã bị toán cưỡng bức', 'ông muốn nhãn hiệu bia nào', 'anh có dừng tại khách sạn begin không', 'bật điều hòa nhiệt độ', 'nhiều chàng trai để ý và theo dõi bạn', 'chúng ta hãy tung một đồng tiền để quyết định', 'tôi nghe đĩa cd này được không', 'nguyễn văn vũ vừa tử nạn vì hỗ trợ đuổi bắt tội phạm ngày mười ba tháng một công an xã cẩm trạch huyện cần cẩu cho biết một người lái xe khách hai bảy tuổi đã tử nạn khi giúp một phụ nữ bị bảy tên khống chế cướp tài sản', 'hai con voi này rất hung dữ và phá nát nhiều hoa màu của người dân trong khu vực', 'anh có bị đau do mệt mỏi không', 'bạn có muốn tôi dịch cái này cho bạn không tôi nói tiếng nhật', 'vâng giá sẽ là ba trăm yên', 'và như thế những điều tốt đẹp', 'tăng nhiệt độ lên hai mươi mốt độ', '-n ở sheraton', 'tốt hơn là tôi nên đi bây giờ', 'kỳ tích có thể để lại quyền lực bởi một nhà độc tài dầu mỏ nhưng cũng có thể giúp thể chế hóa những phong trào chống mỹ diễn ra tại khu vực trung đông', 'lãnh đạo ngành ô tô mỹ nên từ chức', 'cô ấy biết', 'từng sợi thương li ti kết lại', 'mồ hôi là một trong những phương tiện để cơ thể thải cặn bã ra ngoài', 'ti vi k+ một', 'hiện nay mỗi khi chào hàng các lò rang hạt dưa như tứ hưng duy ký thiên hương', 'vì không biết nhìn xa trông rộng và vì niềm tin sắt đá rằng rồi mọi việc sẽ êm xuôi', 'nhờ có chúa', 'xe chú rể lăn xuống vực sau tiệc cưới', 'rồi anh đi một chuyến đến khu vực vỉa san hô và thăm viện bảo tàng úc anh có thể tìm hiểu nhiều về nước úc anh cũng có thể có một món quà đẹp tại cảng darling nếu anh muốn mua vài đồ lưu niệm có rất nhiều đồ vật và phụ kiện anh có thể muốn mua', 'đó là chưa kể các thủ đoạn chính trị xã hội khác', 'tôi có vẽ một chút', 'cho tôi mẫu thử được không', 'tôi có ba con gái', 'tôi sẽ ở lại đây', 'người ta cho rằng số khúc gỗ ở dưới đáy bị dính nước bẩn ít thì kỳ kinh sẽ ngắn', 'không một nơi nào lãng mạn và thơ mộng hơn những khu hồ hoang', 'bị hại kháng cáo vì cho rằng các cơ quan tố tụng ở huyện hương khê bỏ lọt người sót tội', 'cuối cùng họ sẽ phải gõ cửa nhờ ông ấy', 'cái giá của một anh hùng', 'bản sao tấm séc khoản tiền vợ chồng nguyễn nhận được', 'nhằm thu hút thêm nhiều nhà đầu tư', 'vui lòng cho ba vé khứ hồi hạng hai', 'anh cần một con tem một đô la ba mươi cent', 'xà lách trộn phó mát mốc xanh và cây óc chó', 'chúng tôi sẽ bồi thường cho anh', 'chỉ xét tuyển hồ sơ không phải thi', 'gần chín nghìn tỉ đồng xây đường sắt đô thị cát linh hà đông', 'bỏ quần vào trong máy giặt', 'trả lời tôi biết', 'đến thời điểm hiện tại ít nhất trong cả nước đã có năm mươi nghìn lao động thất nghiệp', 'anh sẵn sàng gọi món chưa', 'là tác động của nó đến hiệu suất chung của toàn bộ hệ thống điện', 'đã bán rồi', 'thời tiết ấm áp như thể là đầu hè', 'chúng tôi có bốn người', 'vẻ đẹp khuôn mặt và bản năng tình dục quan hệ tương hỗ chặt chẽ với nhau', 'hầu bàn của quý khách sẽ là alfredo', 'đầu gối có bị sưng đỏ hoặc cả hai', 'hút thuốc bị hạn chế trong khu vực công cộng', 'chẳng phải là bệnh hiểm nghèo nhưng trĩ vẫn là bệnh gây khó chịu cho bệnh nhân bởi làm cản trở công việc của họ lúc làm việc cũng như lúc ngủ họ vẫn phải lo nghĩ giáo sư nghĩa nói', 'chuyển máy cho ai', 'kết quả lao động của tôi đến đâu thì tác phẩm trả lời', 'khi những chiếc đĩa được dỡ bỏ lũ hà mã cũng chẳng thèm chú ý tới những chiếc nhãn đó nữa', 'không vậy không sao tôi sẽ gọi ông ấy sau cảm ơn', 'có giảm giá cho người cao niên không', 'hãy gọi cảnh sát ngay', 'bắt đầu đếm', 'anh có bị đau do mệt mỏi không', 'lãi suất cho vay cũng đã giảm mạnh theo lãi huy động vốn lãi nhiều vẫn chẳng có người nào gửi cả', 'các nhà khoa học đang tiến thêm một bước', 'cùng chuẩn và ngũ hai đối tượng khác chuyên làm nhiệm vụ đưa người sang trung quốc là nguyễn vũ hải và võ cảnh dũng cùng trú tại bắc giang cũng bị cảnh sát bắt', 'hệ thống phòng ngự tài năng và giàu kinh nghiệm', 'sẽ đủ sức cạnh tranh với nước ngoài', 'giơ tay lên để đồng ý', 'vui lòng trả mười đô la', 'đây là hồi chuông cảnh báo về sự mất an toàn lưới điện trên địa bàn', 'ban đêm bắng cây đa', 'kênh hai ti vi', 'này chúng tôi sắp nhổ neo', 'mở', 'độc giả của tôi muốn hướng tới là sinh viên và trí thức', 'không mở cửa ồ ạt', 'tôi muốn đổi cái này lấy cái màu xanh', 'sống với em anh nhé', 'vừa gọi điện vừa đi lại rất gây hại cho sức khỏe', 'tôi có thể tìm bảng tin ở đâu', 'anh chuẩn bị toa này cho tôi được không', 'đây là địa chỉ của anh', 'anh lắng nghe tôi một phút được không', 'lạm phát tăng là do dự báo yếu kém', 'thịt gà nhồi hỗn hợp băm nhỏ', 'trung tá nguyễn phả lại cán bộ quản giáo trực tiếp buồng số bảy chỗ ở của ông mẫu ông dũng nói kín kẽ cũng là tâm lý của người cải tạo loại án như trường hợp ông dũng', 'kí túc vắng tanh đèn thoát hiểm nhấp nháy chập chờn cứ như trên phim được xem ý', 'mở', 'tốt nhất anh không nên làm nó', 'tôi có thể mua vé ở đâu', 'vậy điều gì ủng hộ ý tưởng táo bạo trên', 'họ sẽ chơi nhiều ca khúc từ bộ phim âm thanh của âm nhạc', 'mã vùng của plymouth là không một bảy năm hai', 'không tôi luôn tỉ mỉ', 'một số trò chơi đòi hỏi các động tác chậm thận trọng hãy từ từ', 'có nên ưu tiên cho các hoạt động bí mật', 'nó là của anh', '-n lỗ mũi hẹp -n có tài kiếm tiền', 'đây là ghi chép cho phí nào', 'tôi bị các triệu chứng viêm phổi', 'còn bao nhiều giờ thì chúng ta sẽ đến new york', 'thị trường chính thức kém sôi động nên thị trường phi tập trung cũng ê ẩm', 'chúng tôi đã thuê căn hộ', 'mở lên', 'cuộc tình đó tồn tại cho tới ngày cô ta -n khối tài sản mà ông giao phó rồi biến mất tăm', 'xin vui lòng hãy sẵn sàng vào lúc chín giờ rưỡi', 'tôi không nghĩ như vậy', 'cách dễ nhất là tìm người khác để yêu', 'hãy tận dụng những gì có sẵn từ thiên nhiên để làm đẹp làn da', 'cô lấy cho tôi cái khăn nào', 'lối đánh tấn công quen thuộc của chị biến mất thay vào đó là những đường bóng yếu ớt', 'tôi có thể có bản đồ đường đi của đảo maui không', 'tôi bị suyễn', 'thành ra càng cổ phần hóa ồ ạt càng bán giá nội bộ ồ ạt trừ phi có sẵn một cơ chế kiểm soát', 'nền tài chính nhật bản phụ thuộc khá lớn vào các chính sách tiền tệ của mỹ', 'anh cất hành lý này cho tôi được không', 'obon nghĩa là gì', 'tăng nhiệt độ lên hai mươi chín độ', 'kênh sáu', 'phờ phạc sau hành trình dài', 'mười hai giờ mười lăm rồi', 'tiêu cực ương ngạnh', 'tuy nhiên hôm qua ông đã phá lệ', 'phát triển', 'cái xác cứ thế khô dần cho đến hôm nay', 'ti vi vtv hai', 'nhóm cho rằng điều đó chứng tỏ phụ nữ tập trung hơn vào ngôn ngữ của sự hài hước', 'phòng quá ồn và tôi không thể ngủ được', 'những lãnh đạo cấp cao đang phải đối mặt với việc giảm lương đến mức nào hiện vẫn chưa rõ', 'xe mỹ từng là biểu tượng giàu sang', 'bữa ăn sinh viên từ lâu đã đơn giản lắm rồi giờ càng đơn giản hơn bao giờ hết', 'bệnh này có thường xảy ra không', 'anh có đang thấy cầu vồng không', 'họ phải đảm bảo có đủ vắc xin và thực hiện các biện pháp cần thiết khác để đối phó với tình hình', 'anh gọi đánh thức tôi lúc bảy giờ sáng mai được không', 'tự đăng cáo phó cho mình', 'anh thích kiểu nào hơn', 'ánh đuốc hắt lên khoanh cổ cụt đỏ hỏn hụt hẫng', 'xin lỗi anh có thể -n lĩnh tiền mặt cái này không', 'cảnh sát biết rằng có một nhóm bí mật hoạt động bất hợp pháp', 'thiết bị còn gửi thông điệp cảnh báo tới người chủ khi pin sắp hết', 'xin vui lòng cứ mang giày', 'tôi không biết chắc là có tai nạn', 'tao nhanh đến mức nào', 'bữa tiệc sống động -n', 'vậy còn yếu tố tinh thần thì sao', 'cái này trên tầng ba', 'chuyến bay của anh khi nào', 'không không phải có bàn trống cho hai người không', 'tôi có thể có một tờ tạp chí khác không', 'bán cho tôi một vé hạng hai đến chermarn', 'jerry đây là jack làm ơn gọi cho edith', 'tất cả những gì nước mỹ làm chỉ đơn thuần là vì muốn sở hữu những nguồn tài nguyên quý giá của các quốc gia đó', 'chúng sở hữu tiếng thét chói tai và rất thích nhảy nhót', 'tưởng dễ đẻ trứng vàng nhiều đơn vị ùn ùn xin thành lập công ty chứng khoán ngay lúc thị trường đỉnh cao', 'ừ bạn đứng không đúng băng chuyền', 'ngân hàng phương nam cũng một phen hú vía khi thông tin rủi ro tín dụng bị rò rỉ ra ngoài', 'bà mẹ nghèo đông con', 'mẫu xe được trình làng ở triển lãm được giới truyền thông coi là hình mẫu của chiếc bốn cửa sẽ ra mắt vào tới', 'anh mặc cái này trông rất đẹp', 'chưa có thông tin về bệnh chết người ở nước này', 'cho tôi bản đồ thành phố được không', 'đều không quan trọng', 'có lúc họ đút hai tay trong túi hai vai rụt lại mà đi có lúc đánh tay thoải mái ưỡn ngực', 'tôi bị ung thư', 'tôi không thể hiểu bạn', 'tôi cảm thấy rất nặng nề tôi không thể di chuyển chân của tôi', 'tình yêu là mù quáng người đang yêu không thấy khuyết điểm của người khác', 'phát tờ rơi quảng cáo biến thành rác đô thị', 'cô ấy có thính giác ảo', 'đôi khi trong các khẩu súng các em mang trên người không hề có đạn -n chỉ là một thứ hù dọa những', 'đâu là nền tảng sinh học của ý thức', 'tôi có thể xin một khác không', 'tôi đã từng chứng kiến bão và giờ đây tôi đang cộng tác tại nước ngoài', 'có phí uống không', 'tôi đi hải phòng còn bạn đi đâu', 'ti vi giảm âm lượng về bốn', 'cũng đồng nghĩa với việc chúng ta có thể sẽ chuốc lấy khổ đau', 'gần đây lại có vụ công ty xe khách thuận thảo ở bình định bị các đối thủ hùa nhau ngăn cản không cho hoạt động', 'vâng tôi đã đến đây lần đầu tiên cách đây năm năm', 'chành bành chằng chịt chỗ nào cũng có', 'tôi có thể xem một bộ phim ở đâu', 'cô ấy cần một bóng đèn bốn mươi oắt cho đèn để bàn', 'góa vợ hai con', 'trẻ em ở các trường học được cung cấp nước sạch để uống', 'làm ơn nối máy tôi với cảnh sát', 'đầu tư cho dự án xây dựng nhà máy sản xuất điện thoại di động tại đà nẵng', 'vui lòng chuẩn bị cái này ở hải quan đằng kia chúc ở lại vui vẻ', 'một dãy các tủ lạnh xếp dọc theo căn phòng', 'ti vi giảm âm lượng về một', 'không phải mặt hàng đó', 'tảng đất thó hình lục lăng mát lạnh', 'đều tắc do ngập nước', 'có phải tàu từ sydney đến trễ không', 'tôi sẽ lấy phòng này', 'nghỉ ngơi vài ngày', 'họ có chiến thuật tốt hiệu quả và nhiều cầu thủ có kỹ thuật cá nhân điêu luyện', 'vui lòng vé b đi a', 'tôi muốn nhuộm màu', 'đồng xu bị kẹt ở đây', 'một trong ba người này làm giám đốc một công ty sản xuất hàng hóa', 'sếu đầu đỏ xuất hiện tại tây ninh', 'quý vị có thể cử động khuỷu tay được không', 'con đường dài lắm sao anh để em đi một mình', 'chỉ cần gọi bất cứ lúc nào anh muốn nói chuyện với tôi', 'trộm viếng thăm lấy hết đồ đạc trong nhà', 'nó đau ở đây', 'nó rất ngon', 'cho nên mặc dù có chất lượng tốt nhưng giá thành của nó lại rất cao và khó ứng dụng rộng', 'tiếng nổ ì ầm vang lên từ những âm thanh chứa thuốc nổ mà các thợ mỏ ném vào không khí', 'chính vì vậy mà không khí tết dường như đến chậm hơn', 'làm ơn cho tôi loại thứ hai', 'mưa sầm sập vừa ra ngoài trời quần áo chị lập tức ướt sũng', 'bị đuổi việc vác dao truy sát ông chủ', 'ngỗng cũng có khả năng ghi nhớ từ trước tới giờ giới khảo cổ vẫn tưởng rằng não của ngỗng chỉ có thể lưu giữ thông tin vài giây', 'chuyện sản xuất của lão chủ tịch họ nguyễn và họ đỗ mãi mãi vào sử sách', 'vậy còn yếu tố tinh thần thì sao', 'tôi muốn đăng ký một chuyến bay từ los angeles đi new york khởi hành vào ngày mười lăm và quay về vào ngày mười ba', 'xin lỗi tôi có thể tìm một đại lý lữ hành ở đâu', 'quí vị có phòng dành cho một đêm không', 'cô ấy đang rất mong anh', 'có tiếng rì rào từ xa đến gần', 'một số cổ động viên còn dùng những lời lẽ thô tục chửi bới lực lượng công an', 'anh đem cho tôi một ít nước được không', 'ti vi tăng tiếng đến sáu', 'chúng tôi sẽ trả phòng khoảng giữa trưa', 'honda đẩy mạnh sản xuất ở nước ngoài', 'ti vi giảm âm lượng về bẩy', 'con lợn rừng nhảy xuống sông và trốn thoát', 'tôi muốn một đôi giày thể thao', 'tôi cần nó trước thứ sáu', 'ta hãy nghỉ một chút', 'tôi muốn mua bơ', 'hàng nghìn người trung á rời quê hương đến nga kiếm việc', 'giá một dặm là bao nhiêu', 'tôi có thể thanh toán cho nó bằng đồng yên nhật không', 'quý vị có bị đau họng các triệu chứng cảm lạnh hay cúm không', 'một nghệ sĩ đích thực là phải lao động quần quật để mời gọi cảm hứng đến', 'được tôi sẽ làm nó ngay', 'thể dục chơi thể thao nơi không khí trong lành', 'ngoài vài sân bóng đá cầu lông mà chúng tôi mới làm lại thì hầu như chẳng có gì mới', 'mệt', 'tổng số tiền là hai trăm bốn mươi ba pound thưa mẹ', 'hầu hết rừng nằm ở ven sông , biển nên đã -n -n', 'nhìn nó vậy mà giỏi nhỉ', 'tôi có thể nói mấy câu được không', 'tuy nhiên các nhà khoa học châu âu vẫn chưa vừa ý với kết quả này', 'tám tổ chức công đoàn ở đức tạo thành liên đoàn lao động đức', 'nói chuyện trịnh trọng nghe ghê quá', 'tôi muốn nửa tá', 'tôi cần một cái gì đó cho táo bón', 'vâng dave mark sachiko và rumi sẽ có ở bữa tiệc', 'tình hình ở nước anh thì ngược lại phe nào phe nấy thi nhau đả kích thủ tướng của mình', 'phòng có máy lạnh không', 'họ thoải mái với việc người bạn đường phải núp trong', 'cô gái kia yêu cầu gia đình không được báo với công an nếu không còn nguy hiểm tới tính mạng', 'được thưa anh', 'nhà nước có thể hỗ trợ giá thuê bằng cách miễn giảm tiền sử dụng đất miễn giảm thuế', 'vui lòng mang cho tôi một ít giấy viết', 'công an huyện quảng ngãi đã triệu tập bố mẹ của cháu lĩnh là nguyễn văn vĩnh và võ thị thụy để lấy lời khai', 'bạn có những món hàng khác không', 'ti vi giảm tiếng về một', 'cha và dì cứ đổ riệt cho mẹ', 'tuy nhiên sự việc vừa đi qua đã chứng tỏ ông đã bắt đầu lo lắng cho an ninh của gia đình mình', 'một thành phố như thế xứng đáng được ca tụng', 'cả sân thiên trường ồ lên tiếc nuối', 'chúng ta có thể bắt đầu không', 'phía bên phải cơ thể tôi bị đau rất tệ', 'người dân ngán ngẩm với dịch vụ bệnh viện', 'có cái gì gây ra cơn đau này không', 'tôi cần phải về nhà bây giờ', 'không chỉ có mức lương trung bình thấp nhất ở đông bắc á mà công đoàn độc lập cũng không hiện hữu ở nơi này', 'gia đình bart cho biết bộ phim phỉ báng ông đồng thời dọa sẽ kiện để bộ phim này không được phép chiếu', 'số tiền này dự định sẽ được dùng để đỡ gánh chi phí an sinh xã hội cho các chủ doanh nghiệp và khuyến khích họ thuê thêm lao động', 'vui lòng cho tôi biết tàu sẽ khởi hành đúng giờ không', 'bạn có biết hẹn hò', 'miễn thuế đối với nhà đầu tư trong nước kém ưu đãi hơn so với đầu tư nước ngoài', 'đồng hồ tôi chậm ba phút', 'cô rê chí mén \\\\r\\\\n và giấc mơ toàn cầu', 'lên các cuộc hẹn phỏng vấn và thực hiện phỏng vấn', 'tôi sẽ kê toa thuốc cho anh', 'khách hàng chờ nhận hành lý thất lạc', 'ti vi tắt âm lượng', 'trường là người rất có kỷ luật nhưng làm việc hơi cẩu thả một chút', 'có lẽ bạn đang nghĩ rằng bạn vẫn luôn cư xử một cách đúng mực', 'buộc tháo dỡ phần vi phạm ngay như quận bình thạnh', 'bạn sẽ chỉ huy một hạm đội gồm các tàu chiến chiến hạm', 'bác tư re', 'tôi sẽ ở nhà một người bạn tại new york', 'cái này hoàn toàn tự động , vì vậy anh cần bấm nút mở ống kính', 'phân của quí vị có màu đen bao lâu rồi', 'khát mộng tủ', 'tôi đi bộ', 'con trai của họ ăn nhiều nhất', 'anh có mang tiền lẻ không', 'xin chào vui lòng nối máy cho tôi đến bàn đặt phòng', 'chúng tôi phải đi bây giờ tôi rất thích bài khiêu vũ', 'hôm nay su không ở đây', 'bữa sáng có gì', 'tôi muốn chỉ ra rằng', 'do vậy việc y án sơ thẩm là hoàn toàn có cơ sở', 'động cơ bị nóng quá', 'hầu như không ai chú ý đến những mệnh lệnh ông đưa ra nữa binh lính thì không chịu chiến đấu', 'tôi đến cùng bạn tôi được không', 'chừng nào thì khu bị đóng cửa sẽ mở cửa cho xe đi', 'đây là một áp lực nặng nề đối với các đơn vị sản xuất thép', 'sản phẩm đã được miễn giảm thuế chủ yếu phục vụ thị trường các tỉnh miền tây nam bộ đã biến khỏi mĩ khởi', 'tôi nói cậu có nghe không', 'tôi có thể ở lại ba đêm không', 'tuy nhiên giá bán vẫn giữ mức khá cao', 'tôi có một số câu hỏi về điều khoản số tám', 'tôi thường có nhưng tôi thích nghỉ hè', 'ngày mai chúng tôi phải dậy sớm', 'dòng sản phẩm thảm đỏ thôi miên mọi ánh nhìn bởi chi tiết xếp nếp mềm mại', 'với dầu và mụn mặt nạ táo và mật ong sẽ giúp bạn cải thiện làn da', 'và tăng khả năng sinh sản', 'tại bữa cơm nhấp xong chén rượu bảy đưa tuấn thấy anh bỉnh kêu đắng khó uống', 'mà điện sản xuất lãi như vậy có thấy evn đả động gì đâu', 'anh có thích gặp nói chuyện sau không', 'làm ơn cho một ly rượu vang đỏ được không', 'đi lên', 'tôi muốn một đôi ván trượt nước', 'con biết nịnh bố mỗi khi thích món đồ chơi nào đó', 'bạn muốn uống loại rượu nào', 'tại cuộc họp ông nguyễn quốc bảo khẳng định thời gian tới sẽ tập trung điều hành nhằm tháo gỡ khó khăn về vốn cũng như thủ tục hành chính phục vụ sản xuất nhập khẩu', 'dùng thuốc ngay khi thức dậy buổi sáng', 'ồ không vấn đề gì', 'nhiều lần chị góp ý ông xã đã hứa sẽ sửa lịch cho hợp lý song chỉ được dăm bữa nửa tháng mọi việc lại đâu vào đấy', 'bạn đừng để mắt to hơn bụng', 'còn gì ý nghĩa hơn với một tiền đạo khi ghi bàn quyết định thắng lợi cho đội nhà trong ngày sinh nhật của mình', 'bắt đầu lúc mấy giờ', 'con của quí vị bao nhiêu tuổi', 'vui lòng mang cho tôi món khai vị', 'lập trình viên đa số đều bị tâm thần', 'tôi muốn thời gian đó quan sát và tư duy nhờ đó mà có ý tưởng điều chỉnh nhịp đèn anh tuấn chia sẻ', 'mặc dù có vẻ ghê gớm bạn rất sợ bị tổn', 'nhà hát mở cửa lúc mấy giờ', 'tóm lược sức khỏe ban đầu', 'tôi muốn giữ nó dưới giá ba mươi đô la', 'chiếc này dành riêng tổng thống mới đắc cử của mỹ xác nhận đã chuyển tới mật vụ mỹ chiếc xe dành cho tổng thống mới để thay thế chiếc xe cũ', 'nhưng tôi không muốn bạn tin tưởng vào bất kỳ điều gì', 'không thể phớt lờ lạm phát', 'hoa nhận lời yêu thắng', 'bóng đá anh hấp dẫn nhiều tỷ phú', 'cách tốt nhất là bằng xe buýt', 'cô ấy bị mất thẻ ngân hàng', 'phòng thay đồ ở đằng kia', 'sản phẩm phụ của máy rút tiền đầu tiên là mã số bảo mật -n viết tắt là pin', 'tôi hy vọng thời tiết sẽ sớm sáng sủa', 'bạn đường khều cùi chỏ nhắc coi chừng ổng khùng', 'thuốc diệt cỏ làm ếch đực mất khả năng sinh sản', 'bạn có thể bật máy điều hòa lên được không', 'phê thuốc lắc', 'chỗ cho thuê ghế bãi biển đã mở cửa chưa', 'tôi muốn trau dồi tiếng tây ban nha của mình', 'kênh k+ một', 'làm gì để bảo vệ sự an toàn của ngân hàng', 'tôi đã bị lừa', 'vậy kế hoạch của anh cho ngày mai ra sao', 'tôi uống từ vòi nước được không', 'nó có hướng dẫn -n sử dụng không', 'có người còn không ngần ngại so sánh doanh thu phim việt với các phim nhập của nước ngoài', 'bạn có quan tâm đến đồ cổ không', 'bản báo cáo cũng chỉ rõ ở việt nam hiện nay những hủ tục hay những suy nghĩ cũ tồn tại ở nhiều vùng dân tộc thiểu số thậm chí cả ở các tỉnh thành lớn đã khiến cho sự bất bình đẳng giới cũng như tỷ lệ tử vong ở phụ nữ và trẻ nhỏ vẫn rất cao', 'cũng chẳng còn xúng xính quần áo mới', 'tôi đang tìm diêm', 'một chỗ bí mật à ý bạn là sao', 'chính sách quản lý cần cởi mở', 'bệnh này có thường xảy ra không', 'quẹo tay lái và đi vòng các góc', 'anh ấy đến từ flanders', 'nhiều bộ ong hang đá có dấu hiệu -n gấu ngựa gấu chó sinh sống -n', 'xin lỗi ông cho tôi lấy hóa đơn được không', 'các mảnh có rìa sắc được tha vào cán gỗ và gắn chặt bằng nhựa thông', 'vui lòng không bỏ đồ quý giá trên toa hành khách', 'người mẫu phải tập tành trình diễn quần quật -n đến tận khuya', 'được rồi chút nữa tôi sẽ massage cho ngài chỗ khác', 'không lẽ ước nguyện đó của tôi lại khó đến thế sao', 'thời gian đóng ma làng cả đoàn phim sống vài tháng trời trên vùng núi lương sơn hòa bình', 'nhiều trụ cột và các mạch vữa đều mục ruỗng', 'làm nơi nấu nướng giặt giũ', 'khách tham quan cũng tranh thủ ngồi vào ghế hành khách để thử độ êm nhún', 'tôi e rằng ở đây không chúng tôi không chấp nhận', 'dù chỉ có tính thẩm mỹ song giải pháp sửa chữa hoặc đổi mã hàng lạ lẫm vẫn tạo được sự hứng khởi ở những trẻ nhỏ', 'con nhỏ mở cái túi gút đeo trên cổ', 'họ không cho phép anh vào nhà', 'nguồn nước ở đây đã bị nhiễm mặn nhiễm phèn và nhiễm khuẩn bởi thói quen thải rác trực tiếp ra sông lượng thuốc trừ sâu dùng trong nông nghiệp và việc xây cầu cảng ở cuối dòng sông cũng là lý do', 'đây có thể là kẽ hở nảy sinh tiêu cực gây thất thoát lớn', 'đốt pháo sẽ bị tội gây rối trật tự công cộng bởi tác hại lớn mà việc đốt pháo đã bị cấm hẳn', 'phê thuốc lắc', 'điều này chọc tức tôi', 'trước đó tôi về mở hộp thư điện tử ra và nhận được rất nhiều lá thư của người hâm mộ yêu cầu tôi về quê hương đi và tôi biết đã đến lúc nói lời tạm biệt', 'các kết quả xét nghiệm có bí mật không', 'toàn là đồ dùng cá nhân', 'dừng lại', 'những lợi ích nào khác được cung cấp', 'chúng tôi không có cỡ khác', 'quý vị có cục u hay chỗ sưng nào ở cả hai bên cổ không', 'ti vi tăng tiếng đến chín', 'và cho tôi khoai tây chiên', 'các đầu bếp còn chế biến ra nhiều loại phở khác nhau bằng cách biến tấu những món ăn hàn quốc trung quốc như phở hải sản phở xào mực', 'anh có thể cho tôi biết số điện thoại của jerry hart hart anh ấy ở tại phố mười hai phố pinewood street', 'anh có thể cho tôi biết số điện thoại của jerry hart hart anh ấy ở tại bốn mười hai phố pinewood street seattle', 'hậu quả là cấu trúc sản xuất của việt nam cũng bị méo mó nghiêm trọng', 'chuyến đi hay quá', 'anh chắc là đói có gà nướng trong tủ lạnh', 'xin lỗi tôi đã không để ý', 'vui lòng cho tôi xem cái giống cái -n được trưng bày ở cửa sổ', 'mở ti vi', 'các hoa hậu xuất hiện trong màn mở đầu', 'cần phải bỏ những suy nghĩ cũ kỹ cổ hủ diện bộ cánh nhã nhặn vừa vặn sẽ giúp hà đẹp hơn ở lễ hỏi cưới', 'với vở kịch thị nở gặp chí phèo diệp anh đã diễn rất đạt và gây được cảm tình với ban giám khảo cũng như đông đảo khán giả', 'virus', 'thưa anh tên của anh là gì', 'còn thọ đang bị công an tạm giữ', 'tôi có thể lấy gì cho anh', 'đây là hai mươi đô la và anh có thể giữ tiền thối', 'ba hai bảy bảy anh có thể nói chuyện với cô ấy ở một số máy con một năm chín cô ấy nghĩ nó như', 'mọi thứ dường như vô nghĩa và vô dụng đối với tôi', 'cho dù ngôn ngữ của bạn có là gì đi nữa', 'tôi muốn gặp về một bác sĩ chuyên về tai', 'giá cao su bắt đầu hạ nhiệt', 'cách tốt nhất để đến khách sạn plaza là gì', 'gầy tọp', 'quán cà phê anh em mở làm phở ngon cực kỳ', 'vui lòng dùng máy xerox', 'từ bây giờ nó được gọi là thai nhi', 'tôi không có em trai', 'cú ngoạm của nó yếu hơn của linh cẩu', 'đạo chích người nước ngoài tái xuất', 'tôi tham gia vào câu lạc bộ quần vợt', 'rùa phải nuôi trong các bồn khô vì chúng không ngóc đầu lên được', 'ví cũ mèm tiền nhồi nhét vô tổ chức', 'quí vị khuyên tôi khi nào thì có thể thay các lốp xe này', 'tên tôi là suzuki , tôi đã đặt phòng cho đêm nay', 'ông tổng giám đốc doanh nghiệp bảo trợ xã hội là người đã hỗ trợ xây dựng ngôi nhà từ những chai nhựa lông ngỗng và cũng là chủ dự án này', 'thông minh có năng lực được giáo dục cẩn thận và có lòng tin', 'tôi muốn biết về sự giám giảm giá dành cho sinh viên', 'bạn có kiểu giống thế này màu nâu không', 'số phòng anh số mấy', 'chúc mừng về ngôi nhà mới của bạn', 'giá đậu xe một tiếng là bao nhiêu', 'xây dựng nhà máy ở nước ngoài', 'nhóm người ngủ trong phòng lạnh nhất phần lớn mơ những điều khó chịu kinh sợ còn ở phòng ấm nhất những giấc mơ êm ái nhẹ nhàng đã đến trong giấc ngủ của những người ở đó', 'do đó không thể nào nhầm lẫn được giữa một nụ cười ngượng ngựu', 'hãy đến gặp bác sỹ để khám', 'tôi có thể dùng thẻ này để được giảm giá không', 'thiếu nữ anh chết trong bồn tắm ở tokyo', 'hoài niệm về chuyện xếp hàng ở liên xô', 'xin nhiệt liệt hoan nghênh họ', 'toàn bộ quy trình điện toán hóa thư viện do công ty lạc việt giúp nghiên cứu thiết kế', 'điều quan trọng là anh đã cố gắng', 'bên cạnh đó cũng phải an toàn hơn', 'lẽ ra anh phải ở trường chứ', 'nhà nước không để những người nghèo đã được vào học mà lại không thể tiếp tục đi học', 'tôi muốn thay đổi chuyến bay của mình', 'cho tôi một cuộn phim phơi sáng ba mươi sáu', 'bạn có thể ở lại đây lâu như bạn muốn', 'gài số', 'anh gợi ý một nhà hàng pháp ngon được không', 'nên khâu tổ chức tuyển sinh của các trường', 'nước có ấm không', 'tốp này bị bắt tốp khác lại tới', 'anh ta có cá tính không thân thiện', 'hãy đưa vợ anh đi cùng', 'các dự án mở rộng cũng đã phải đình lại những tác động xấu đến quá nhanh trên diện rộng và nặng nề hơn so với những gì chúng tôi dự báo', 'xin lỗi cho tôi một cái đĩa để chia ra được không', 'tôi cho rằng không có vấn đề gì', 'vui lòng sắp xếp một chuyến bay khác để tôi có thể chuyển sang a một hai ba', 'đến lượt anh', 'anh có bao giờ đến tokyo chưa', 'áo mưa phát sáng theo nhịp mưa rơi', 'bạn có thể nói cho tôi bít về nhà hàng truyền thống không', 'trước đây có ai trong gia đình quí vị từng có vấn đề ở bụng không', 'từ vệt bồ hóng nâu trầm', 'nhà thi đấu đại học công nghệ bắc kinh', 'món canh nguội lạnh', 'ông cường nhận định lượng phôi thép sản xuất ở trong nước sẽ không tăng đáng kể ít nhất là cho đến cuối năm sau', 'nó xảy không có gì là ngạc nhiên', 'và lời cảnh báo đã sớm trở thành sự thật', 'với hai cổ tay treo lủng lẳng những túi xốp', 'trong cái nóng oi ả của mùa hè các loài vật cũng có cách tự làm mát cho riêng mình', 'nhưng rất tốn kém khi thay thế hoặc sửa chữa', 'bao nhiêu tiếng bằng xe buýt đến medan vậy bác ơi', 'còn đây là thế giới của giày dép', 'không hấp dẫn -n', 'cái giá của một anh hùng', 'tăng nhiệt độ lên ba mươi độ', 'điều đó là không thể hiểu được', 'hoa mãn lâu ngày ấy và bây giờ', 'ba tôi sẽ về hưu năm nay', 'vợ đánh chồng vì không kiếm được tiền', 'không nhà tài trợ không bán vé để phục vụ các bạn sinh viên', 'dệt bằng lúa mì nga', 'ba tháng cô ấy khá mới', 'vui lòng đưa tờ báo nhật', 'có tour đến tauron không', 'xin lỗi anh có thể bán theo đơn này không', 'phải chờ tới khi ối ra nhiều trở lại thì bọn rầy mới biến mất', 'sáu mươi sáu sáu mươi bảy', 'phù thủy cũng có ngân hàng à', 'chứng khoán châu âu trượt giảm phiên thứ bốn liên tiếp cổ phiếu khối khai thác mất điểm', 'độc đáo nhất thuộc về loài nhím', 'dự kiến phiên xử diễn ra trong hai ngày', 'chào rất vui được gặp anh', 'tái kiểm định chất lượng giáo dục theo chỉ đạo của bộ giáo dục và đào tạo', 'hóa ra vị khách bỉ đang công tác tại bảo tàng lịch sử và nghệ thuật hoàng gia bỉ', 'cám ơn anh cho số thẻ tín dụng để giữ phòng được không', 'mồ hôi trên cơ thể người cũng khó khô đi', 'thặng dư ngày càng nhỏ đi', 'thấy còn hai người đang chới với sắp chìm giữa ngã ba sông chỉ kịp đẩy em phượng lên bờ là anh thắng lại đạp nước bơi ngược ra', 'chúng bò lổm ngổm trên người anh', 'hãy sẵn sàng ở tiền sảnh khách sạn lúc tám giờ mười lăm sáng mai', 'sự thực đứa bé mồ côi được thánh nhập chữa bách bệnh bằng xoa và vuốt', 'vui lòng mang lại dĩa thức ăn', 'suzuki đây', 'điều tra một thẩm phán làm sai lệch hồ sơ', 'có nhiều tiết mục mới và hấp dẫn', 'tôi là hành khách quá cảnh', 'để đãi lấy thiếc bán cho các đầu nậu ảnh', 'chỗ phát ban trông như thế nào', 'hành khách nói đùa bom có thể bị xử lý hình sự', 'vâng thịt bò rất ngon gửi lời khen ngợi của tôi đến đầu bếp nhé', 'đến địa phận xã mỹ thuận mỹ lộc nam định có một người trẻ tuổi lái xe máy cùng chiều vượt trước bảo dừng lại để nhờ dẫn đường', 'có một ngày lễ cho các bé gái vào ngày ba tháng ba', 'lá chắn nhỏ nhất để không bị phá sản là sở đúc tiền của mỹ bằng khả năng của mình họ đã sản xuất những đồng đô la mỹ và độc quyền về giá trị của nó', '-n và bất thình lình lao vào -n hạ gục đối thủ', 'vui lòng đợi tại phòng chờ quá cảnh ở phi trường', 'tôi có thể mua sách ở đâu ở anh', 'nãy giờ sao toàn nghe chê không', 'triển lãm trưng bày bẩy mốt tác phẩm của họa sĩ trương hán minh', 'theo tôi ở đây bạn cần có ô tô để đi đây đó tôi không còn cách nào khác là thuê một chiếc ô tô', 'tên tôi là noriko tanaka', 'nhân viên giải thích lý do là máy fax hỏng không thể gửi lệnh chị đặt ra hà nội được', 'những ngày hè sôi động và các môn thể thao ngoài trời thật hấp dẫn', 'tàu từ saitama vào ở sân ga nào', 'tôi bị mất máy ảnh', 'tôi nóng lòng được ăn đồ ăn nhật bản', 'các cầu thủ mu ăn mừng bàn thắng', 'cô ấy bảo ngưng check in sau mười một giờ đêm', 'anh có bị chuyển động gì trong đầu không', 'tốn hai mươi phút', 'người đàn ông này kém cỏi', 'sẻ ngô xanh', 'phần nào khiến giải thưởng ngành múa khá xôm tụ', 'tôi vẫn không giấu được những nỗi bực dọc', 'vĩ bảo những người có tuổi tác ban đầu thường dằn vặt về quá khứ nghĩ về những ngày giữ địa vị ngoài xã hội', 'đầu gối tôi bị va', 'theo đại diện của hãng tất cả các loại hình mai táng truyền thống từ trước tới nay chỉ để lại trong lòng người thân những nỗi buồn thương nặng nề u ám', 'hoàng mai là tuyến đường chính và có nhiều phương tiện lưu thông', 'bật', 'khi hai người đến tên hôn bất ngờ từ trong nhà gần đó chạy ra tay cầm chiếc rựa lao thẳng vào chém anh lê văn sửu', 'có ánh chớp lóe hắt lên vách liếp -n cây gậy rễ si', 'chúng tôi đi chung', 'chín mươi hai chín mươi ba', 'cài đặt lại phần mềm tốn cả ngày', 'chỗ ngồi này không có trong khu này', 'anh có thể chỉ cho tôi cách ăn món này được không', 'có khá gần', 'cái nào gần nhất', 'tôi sẽ nói lại với chị sau cám ơn chị rất nhiều tạm biệt', 'bạn đã bỏ lỡ một cơ hội hay đã bỏ lỡ thứ gì đó', 'tôi muốn tham gia một tua thành phố', 'người dân cố thủ tại chung cư sắp sập', 'tốn thêm hai đô la mỗi cuộn bạn có muốn in hai lần không', 'lá chắn nhỏ nhất để không bị phá sản là sở đúc tiền của mỹ bằng khả năng của mình họ đã sản xuất những đồng dollar mỹ và độc quyền về giá trị của nó', 'theo tỉ giá hiện nay tôi sẽ nhận được bao nhiêu euro', 'cái này có bảo hành không', 'tôi đang dùng insulin', 'chẳng phải là bệnh hiểm nghèo nhưng trĩ vẫn là bệnh gây khó chịu cho bệnh nhân bởi làm cản trở công việc của họ lúc làm việc cũng như lúc ngủ họ vẫn phải lo nghĩ giáo sư nghĩa nói', 'xin lỗi anh có thể lĩnh tiền mặt cái này không', 'đó là điềm', 'cần phải bỏ những suy nghĩ cũ kỹ cổ hủ diện bộ cánh nhã nhặn vừa vặn sẽ giúp hà đẹp hơn ở lễ hỏi cưới', 'kiếm được tiền dễ dàng nên vượng rất hào phóng sẵn sàng chiêu đãi lũ bạn ở nhà sang trọng hay đàn đúm ở chốn ăn chơi', 'cửa trài còn gọi là mang cá nhỏ', 'họ khẩn trương gói ghém hành lý rồi ra sân bay', 'ti vi giảm âm lượng về không', 'xin lỗi chải tóc tôi giống như hình này', 'kinh tế mỹ tiếp tục lún sâu thêm vào khủng hoảng', 'vui lòng cho tôi xem cái đồng hồ thứ ba ở bên trái', 'bé thiêm nhiều đêm đang ngủ cứ giật mình mếu máo bố ơi mẹ ơi khiến thằng trường phải ngồi dậy dỗ em suốt đêm', 'giảm nhiệt độ xuống hai mươi lăm độ', 'hằng ngày làm mặt lạnh với nhau nhưng những dịp phải dự cưới hỏi cỗ bàn cô vẫn diện thật đẹp tháp tùng chồng cười nói rất vui vẻ', 'để luôn nhớ mình là sinh viên việt', 'tôi muốn anh khuyên tôi về', 'tên cuối là gì', 'rất hân hạnh khi nào tôi sẽ gặp lại', 'tên tôi là senko yamada chuyến bay jal không không hai đến tokyo', 'tổng số tiền là hai trăm bốn mươi ba pound thưa mẹ', 'tôi muốn mua cái này cỡ trung bình', 'giám đốc và có lẽ là chủ nhân của một trường đàm thoại anh ngữ', 'kênh một ti vi', 'có phải nó thực sự khó hiểu vậy không', 'tôi sẽ trở về vào một ngày trong tuần', 'có đủ thời gian để chuyển xe không', 'ồ tôi đã lỡ trạm dừng xe bít của mình tôi phải làm gì', 'tiếc quá tôi phải làm gì bây giờ', 'một mẩu lui về phía sau đầu còn mẩu kia hướng về phía trước mõm', 'tôi muốn mua một phong bì', 'đưa tôi về khách sạn', 'dự luật này được trông đợi sẽ thu hút được sự ủng hộ từ các đảng', 'rủ nhau kết lại với ông để hình thành ban từ thiện dân lập gồm đủ ngành nghề thợ mộc thợ hồ', 'vài ngày nữa sẽ có hàng', 'có được dùng điện thoại của anh không', 'cái đầu tôi làm tôi rất đau', 'cách tốt nhất để chăm sóc làn da là tránh cho da tiếp xúc với ánh nắng mặt trời', 'tôi thích các bộ phim hành động và ly kỳ', 'vui lòng cho thứ nào đó không ga', 'nhóm sinh viên tại trường cùng họp mặt ăn tết chung', 'thế nhưng đối với vượng thì khác chỉ vài tiếng huýt sáo hắn đã thu phục được cả hai chú chó rồi vào nhà khua', '-n bể nước tồn đọng đủ các chất bẩn đen ngòm dưới đáy nắp đậy đã bong tróc', 'tuy vậy shubert cũng cho rằng cần phải tính đến cả yếu tố cá nhân', 'chúng ta thật may mắn cửa hàng ala moana vẫn còn cỡ số bốn', 'tôi muốn mua những trái cam này bạn vui lòng gửi chúng tới nhật nhé', 'đừng thay đổi kiểu chỉ cắt một chút', 'cái này có bao gồm giá bữa ăn sáng không', 'xin lỗi có thể cho tôi một thẻ điện thoại không', 'tôi có vinh dự được khiêu vũ cùng cô không', 'phế quản bị chít hẹp khiến trẻ thở khò khè thậm chí rít lên', 'xin lỗi tôi bị lạc đường anh có thể chỉ cho tôi đường đến khu phố người hoa không', 'ai đó bị thương', 'những dự án này đã bị hoãn vô thời hạn không những vậy hãng xe nhật cũng dừng phát triển động cơ hiện chỉ có hệ thống động cầu trước cạnh tranh với xe mũi dài', 'xin lỗi anh có thể vẽ bản đồ sơ lược cho tôi không', 'tôi muốn thuê một đôi giày trượt', 'không đáng đề cập đến', 'kỳ tích có thể để lại quyền lợi bởi một nhà độc tài dầu mỏ nhưng cũng có thể giúp thể chế hóa những phong trào chống mỹ diễn ra tại khu vực trung đông', 'những bộ não chỉ giảm hoạt động về đêm sẽ suy nghĩ hiệu quả triển vọng và dẫn đầu cả đội', 'tắt điều hòa phòng ăn', 'anh có thể giảm giá không', 'xin lỗi tôi phải đi vệ sinh', 'những khi mùa khô kéo dài mỗi nhà vẫn phải dùng nước nhiễm phèn sau khi được lắng lọc bằng những biện pháp khác nhau khi thì dùng quần áo cũ lúc là phèn vẫn được dùng khử đục cát sỏi miễn là có nước để dùng', 'tôi có thể ở lại ba đêm không', 'cô có thể lệ lau chiếc bàn này được không', 'không cô ta ít khi ghé thư viện', 'hiện tượng này sẽ bắt đầu tại nam á rồi dần được thấy tại hầu hết các nước trong đó có việt nam', 'ba mươi lăm mm phim màu âm bản ba mươi tấm ạ', 'anh có thể giải thích tình huống này không', 'trưởng phòng hành chính tổ chức nhà trường', 'một quả lựu đạn được tung ra đúng lúc', 'trông anh nhợt nhạt quá', 'này hơn người ta chớ', 'có xe buýt máy lạnh không', 'ông toàn chơi phổng tay trên', 'khai báo điện tử nhanh chóng hơn', 'hai anh chị này cặp với nhau cuối tuần nào cũng mở tiệc họ gọi bạn bè về ăn uống nhảy nhót ồn ào quá mức', '-n cô ấy sắp bơm nó vào tĩnh mạch anh', 'có lẽ quý vị cần thải ra', 'xin lỗi nhưng hình như nó quá nhỏ', 'tôi sẽ xác nhận những gì đã nói với anh', 'vì cái oanh từ khi mở cửa hàng trên phố thái hà', 'chúng tôi có thể giải thích vấn đề như sau', 'bạn đi đâu mà vội thế', 'vẫn chưa rõ ông có đưa ra tuyên bố ủng hộ ứng viên nào trong thời gian tới hay không', 'nhiều hơn những trẻ khác', 'như đã đồng ý hàng sẽ được giao cho anh vào sáng thứ hai', 'chị bây giờ đã nhẹ người', 'lúc gặp ngọc nổ súng làm thắng chết tại chỗ', 'ôi khác nhiều chứ', 'đây có phải xe lửa đi chiang mai không', 'khoai tây đánh nhừ và cải chua đức', 'mồ hôi trên cơ thể người cũng khó khô đi', 'bé yêu và cún xinh', 'có siêu thị ở góc đường này', 'ngắt ti vi', 'món ăn của địa phương nào đặc biệt', 'công an hà nội đã cạo sửa hồ sơ', 'khi đối tác đầu tư tiền bạc thì mình phải đầu tư công sức', 'bạn không biết lái đúng không', 'nói khó là khó vậy thôi nước ngoài quản lý được thì mình cũng quản lý được', 'tối nay có đông không', 'nướu anh ta đau khi anh ta dùng ngón tay ấn vào', 'chức danh chính thức của quí vị là gì', 'anh muốn nó thế nào ý tôi là anh muốn bỏ gì vào trong hamburger của anh', 'tôi nói được một chút tiếng ý', 'chồng tôi bị đau tim', 'cùng chuẩn và ngũ hai đối tượng khác chuyên làm nhiệm vụ đưa người sang trung quốc là nguyễn vũ hải và võ cảnh dũng cùng trú tại bắc giang cũng bị cảnh sát bắt', 'ông lữ minh châu', 'tôi sẽ thử bánh pudding', 'cái này không vừa anh có thể đổi nó lấy cái khác không', 'bên chi bộ chưa có quyết định chính thức', 'hạn viện mỹ vừa ủng hộ một đạo luật trong đó kiểm soát chặt chẽ hơn nữa hoạt động chơi bạc trực tuyến', 'giấy phạt đây anh bị phạt hai mươi lăm ringgit', 'một số trường hợp góp vốn khác', 'các phòng có két sắt không', 'cái nào tiện lợi nhất để đi đến nơi này bằng xe buýt hay xe điện', 'thời gian từ đầu đến cuối là bao lâu', 'địa điểm trượt tuyết đâu', 'địa điểm các bức tranh ở maunet ở đâu', 'chỉ có thể mua vé qua điện thoại', 'vui lòng cho tôi cái gì trị phỏng tốt', 'tôi không thể ăn nó cái này quá dài', 'tỷ phú đức tự tử vì khủng hoảng kinh tế', 'năm qua họ đã cố gắng lèo lái một lúc hai hãng và để không bị khủng hoảng như các hãng khác của mỹ', 'tôi muốn nước cam trứng trộn một bánh xốp và một tách cà phê', 'tôi đặt một phòng hai giường', 'malan có chuyện gì với bạn vậy trông bạn buồn quá', 'chúng thường xảy ra trong những vùng biển sóng vỗ', 'tắt điều hòa phòng họp', 'khi nào thì tôi ra viện được', 'sẽ phải tốn hai ngày thì anh mới khỏe để xuất viện', 'hiện nay theo nhận thức của đa số người việt chúng ta nhà nước pháp quyền là nhà nước quản lý xã hội bằng pháp luật', 'bật', 'tôi xin tuyên bố kết thúc cuộc họp', 'não dẫu tổn hại nặng vẫn phải chữa mặc dù đã gần như biết rõ về cách gây bệnh cũng như những tác hại mà bệnh nhân sẽ phải chịu cả đời nhưng đến nay giới y sỹ vẫn chưa tìm được biện pháp hữu hiệu nào để điều trị căn bệnh hiểm nghèo này', 'kênh không', 'bạn có thể cho tôi thêm vài phút không', 'kết quả bốc thăm vòng loại cuối cùng', 'tôi đang tìm một công việc mới', 'sống độc thân bạn đã lãng phí tình cảm đẹp đẽ ấy', 'đại dương bắc cực ấm lên đột ngột', 'bạn có một nụ cười đẹp', 'hãy đứng tại chỗ đừng cử động', 'à tôi hiểu cái đó và cà phê nữa', 'một giờ thì giá bao nhiêu', 'vĩnh cũng hy vọng nhiều người dân việt sẽ được ăn những quả bưởi chất lượng thời gian tới bưởi bảo quản đã khó nhãn vải bảo quản còn khó hơn', 'dị tật thai nhi chủ yếu dựa vào chẩn đoán hình ảnh và xét nghiệm di truyền', 'cho tôi một ít thuốc nhỏ mắt được không', 'xin lỗi tôi kiểm tra hóa đơn được không', 'cái gì ở góc phố', 'chúng vẫn vào hai mắt của tôi', 'trước khi đến với điện ảnh tôi kinh doanh cho thuê xe du lịch', 'tàng trữ trái phép và vũ khí quân dụng nguyễn hữu cảnh chủ vũ trường bị phạt bảy năm sáu tháng tù cảnh đã tự hủy cuộc đời bởi sự liều lĩnh', 'anh ấy đi chưa chưa', 'tôi có thể gửi trước hành lý của tôi được không', 'hầu hết số mỡ động vật đều đang ở giai đoạn phân hủy bốc mùi hôi thối nồng nặc', 'khoảng bốn mươi lăm đô la mỗi người', 'thằng bé không đội mũ khi ra ngoài vào trời lạnh không', 'tôi không nghĩ đó là một phong tục nhật bản độc nhất vô nhị', 'chiếc này dành riêng tổng thống mới đắc cử của mỹ xác nhận đã chuyển tới mật vụ mỹ chiếc xe dành cho tổng thống mới để thay chiếc xe cũ', 'hôm nay ba em đi công tác anh qua đây nhé', 'xin lỗi tôi đang tắm', 'từ hôm nay bạn sẽ ở đâu', 'các tác phẩm ăn khách để ở đâu', 'anh ấy vừa mới đến từ anh quốc hôm qua', 'nếu bạn không bắt đầu chuẩn bị tôi không cần nữa', 'tôi muốn đặt chỗ cửa hàng da vào ngày mười hai tháng ba', 'đúng là quê một cục', 'bush phương tây và nga căng thẳng', 'não dẫu tổn hại nặng vẫn phải chữa mặc dù đã gần như biết rõ về cách gây bệnh cũng như những tác hại mà bệnh nhân sẽ phải chịu cả đời nhưng đến nay giới y sỹ vẫn chưa tìm ra được biện pháp hữu hiệu nào để điều trị căn bệnh hiểm nghèo này', 'ở thể chế này những cuộc bán đấu giá được xem là một sự kiện xã hội', 'tôi sẽ chở anh đến đó', 'bị bắt giam vì xúc phạm trên mạng xã hội ảo', 'khi nào quán trà đóng cửa', 'tôi đến ga chính xe lửa bằng cách nào', 'tôi muốn nói chuyện với', 'tôi đi hải phòng còn bạn đi đâu', 'lên tới lớp thu tiền học phí', 'ăn nói sờm sỡ', 'vâng được đào ở đây', 'mấy giờ xe buýt đó đến', 'nó sẽ dừng chảy máu', 'có đứa gọi hắn tên hải làm cái gì ở công ty nước ngoài', 'mấy giờ con thuyền đó mới khởi hành', 'chính là nó cảm ơn', 'đỗ đũa trồng trong mùa hè lớn nhanh và sớm có quả dẫu bị bỏ tưới đỗ đũa vẫn ra quả trĩu giàn', 'để nó cho tôi', '-n chìm nghỉm', 'tôi muốn hỏi anh về sendai', 'nghĩa là khoảng mười đô la một cuộn phim ba mươi sáu tấm', 'trẻ em đâu có chướng ngại vật', 'tác dụng phụ của thuốc là gì', 'đúng vậy sao', 'đang diễn ra hào hứng sôi nổi', 'có hai mùa ở miền nam việt nam', 'chúng tôi muốn đi', 'tôi không chắc nhưng tôi không chịu được mùi thịt tôi chỉ muốn ăn trái thơm', 'lúc viễn tìm được người giúp đỡ quay lại chỗ bị ngã thì nhóm cướp đã lấy xe của anh và tẩu thoát', 'liền chạy theo nắm lấy cửa sau xe buýt', 'tôi giao phó công việc này cho bạn', 'liệu ngân hàng có mở cửa ngày mai không', 'và nhện ta liền quăng ra chiếc thòng lọng bằng tơ của nó đầu kia sẽ là bữa ăn', 'việc bảo vệ những nguồn cung cấp dầu lửa trước đó đã là ưu tiên hàng đầu bỗng chốc lại trở thành nỗi ám ảnh của nước mỹ', 'tiền vệ người bồ đào nha mới đây khẳng định anh đã tìm lại được niềm hạnh phúc tại m.u. bất chấp những chỉ trích của người hâm mộ anh', 'anh có nước mía không', 'an ninh tại các thành phố ấn độ được thắt chặt', 'những lãnh đạo cấp cao cũng đang phải đối mặt với việc giảm lương đến mức nào hiện vẫn chưa rõ', 'đây có phải da thật không', 'bỏ tù nạn nhân cưỡng hiếp tập thể', 'lấy ngành thép làm ví dụ', 'ví của tôi bị móc túi ở trong tàu điện ngầm', 'tôi muốn ăn hơi tái', 'mấy giờ là chuyến bay tiếp theo tới narita', 'giấy phạt đây anh bị phạt hai mươi lăm ringgit', 'binh lính chính phủ gần thánh đường', 'vui lòng đến quầy của hàng không nhật bản', 'anh giỏi quá rồi nhỉ', 'tôi có thể cầm áo khoác của bạn không', 'chị có cỡ lớn không', 'từ mẫu phân tích của bà vũ thị khởi giám đốc tổng công ty tâm lý học ứng dụng nhiều phụ huynh đã hiểu rõ khoảng trống giữa cha mẹ và con cái không phải là khoảng cách về địa lý mà là khoảng cách tâm lý', 'thưa ông có đúng mười một giờ', 'làm ơn', 'tờ báo trên bàn vừa mới được đọc', 'giết người cướp của lấy tiền về quê', 'ti vi bóng đá ti vi', 'tôi có thể sử dụng mặt nạ trang điểm với số lần như thế nào', 'không có sổ điện thoại', 'không giống như sản phẩm nông nghiệp dễ hỏng dầu có thể chôn dưới đất', 'nhưng chính các nhà máy đường đang kích thích nông dân trồng mía khi đẩy giá mua mía lên cao', 'cám ơn xã hội đã cho chúng ta những con người có tấm lòng', 'xin lỗi có thể nào anh là anh không', 'tôi muốn đặt chỗ trước cho hai người vào bảy giờ tối nay', 'thượng tá công an này được phát hiện trong tư thế', 'nhưng đấy là cơ chế nào', 'chúng tôi đính kèm một bản miêu tả ngắn cách đến được khu liên hợp', 'ảnh tổng thống bush chơi nhạc nhảy', 'mời các anh ngồi xuống đây', 'anh có uống bất kỳ loại dược phẩm nào khác không', 'làm ơn cho tôi một chỗ ở khu không hút thuốc', 'tôi muốn một vé khứ hồi đến trạm s', 'mời các bạn tham vấn cho bạn bảo ngọc và chia sẻ về chuyện này', 'còn vé cho buổi diễn tối nay không', 'tôi nghĩ họ sẽ sớm kết hôn', 'đừng có tòm tem nhăng nhít vớ vẩn để xấu mặt mọi người', 'những dự án mở rộng ở nhật cũng bị hoãn hãng khẳng định sẽ chẳng sa thải nhân công chính thức nhưng bảy ngàn nhân công thời vụ đã được nghỉ việc ở mỹ', 'bật chế độ sưởi ấm', 'là người hay tò mò ưa khám phá sáng tạo tâm hồn cởi mở họ thích lắng nghe và cho mọi người lời khuyên', 'thức uống bánh mỳ và các món ăn chính sẽ được cung cấp', 'một số lượng lớn', 'nó thật vui', 'tăng nhiệt độ lên hai mươi chín độ', 'giá cước đến chiangmai là bao nhiêu', 'các bà vợ kể rằng', 'anh có muốn được giúp gì không', 'chúng tôi muốn đi trượt nước', 'tôi sẽ quay lại trong vòng một tiếng nữa', 'cho tôi một ít dấm', 'kha đây là noami mình đang ở thành phố', 'ngày mai trời sẽ có sương mù à', 'tôi có một thẻ ngân hàng', 'vui lòng cho tôi ghế phía trước dọc lối đi', 'lũ trẻ nít', 'tụ tập học đòi đàn đúm hư thân mất nết', 'tối nay bạn có muốn đến rạp chiếu phim không', 'gần đây nhiều sếp âm thầm bán cổ phiếu nhưng không báo cơ quan quản lý', 'ông ri nhấn mạnh bình nhưỡng sẽ không khoanh tay ngồi nhìn mà sẽ tấn công nếu cần', 'vâng chúng tôi có thể vui lòng cho tôi biết tên', 'nằm giữa trung tâm thành phố bắc giang quán phở nổi tiếng của nguyễn thị hảo và nguyễn tuấn vũ chẳng lúc nào đề biển mở cửa nhưng khách vẫn hối hả', 'đây là đường nút từ nút giao thông khu an nam sài gòn đến cầu phú mỹ và đường vành đai phía đông thành phố', 'chúng giúp làn da khô trở nên tươi mát mềm mại hơn', 'vì ngôn ngữ bây giờ không phải là tiếng anh nữa nên tốt nhất là bạn hủy cả dòng', 'cương ấp úng không trả lời', 'khách nước ngoài đón tết tại hà nội', 'tôi sẽ thảo phiếu tính tiền cho ông', 'phía công an cũng sẽ có những thông báo để có biện pháp ngăn chặn', 'phó bí thư tưởng phi chiến thăm tặng quà gia đình chính sách hộ nghèo ở huyện chương mỹ', 'anh đã làm thế này bao lâu rồi', 'tắt đèn phòng họp', 'vài tháng', 'ảnh bush lần đầu tới điểm nóng trung đông', 'anh ấy sống cạnh nhà', 'kẹo làm từ bột hòn đường quế hạt thông', 'cô ấy đang gọi từ canada', 'điều hòa làm lạnh', 'nhìn cây đào đẹp', 'hàng đống bưởi', 'cơn khát thèm du thuyền bùng nổ vượt xa khả năng đáp ứng của cơ sở hạ tầng', 'tôi chơi dương cầm giỏi', 'làm một chiếc túi đủ lớn để có thể đút vừa một cuốn sổ tay có kích thước tám nhân mười một', 'tôi muốn bạn gửi cái này', 'do còn lượng nước trong cồn nhiều hơn nên động cơ ít bị nóng hơn', 'đây có thể là trứng cá đỏ hoặc mụn trứng cá người lớn', 'tôi muốn có catalogue', 'các tiết mục múa tượng trưng cho mùa xuân', '-n hồ bắt nguồn từ dòng suối tía huyền thoại và nằm gọn gàng giữa rừng thông mênh mông', 'tôi đang tìm một món đồ lưu niệm nhỏ', 'chúng tôi sẽ báo cho anh ngay khi chúng tôi tìm được', 'còn dự án phát triển sản phẩm từ mây và gỗ đảm bảo bền vững do ủy ban xã quản lý tài trợ sẽ thiết lập hệ thống sản xuất bài bản cho các sản phẩm mây tre tại việt nam cũng như lào', 'hãy mang cho tôi một cục xà phòng', 'tôi bị táo bón nhiều', 'đó là quan niệm tình yêu ở phái đẹp', 'thấy cá ục sôi dưới đìa mắc nôn nao trong ruột', 'cho tới thứ hai', 'phó tổng thống đắc cử cũng khẳng định đội ngũ lãnh đạo kinh tế của ông đã lên kế hoạch thực hiện một gói kích thích kinh tế nữa với giá trị có thể lên tới một ngàn tỷ đô la mỹ', 'trong quá trình này một số người quen là việt kiều đã bày tỏ ý với phố muốn mua dâm các người mẫu diễn viên', 'vui lòng mang cho tôi một ít nước uống', 'thược dược', 'hãy cho tiền vào thùng vé khi anh xuống xe', 'sa pa bây giờ là một trong những địa danh du lịch hấp dẫn nhất miền bắc', 'mỗi con bò đều được đeo một chiếc vòng cổ gắn pin', 'cho cô ấy một phiếu tính tiền liệt kê từng khoản được không', 'tôi muốn chuyển sang phòng khác', 'có giảm giá cho trẻ em không', 'cho tôi biết tên cô ấy', 'tất cả cũng chỉ xuất phát từ thói cả nể cố hữu dính mác sinh viên này thôi', 'có nhưng một vài xe đã hoàn tất cuộc đua', 'cho tôi nửa gói thuốc lá salem', 'nó hơi ngọt', 'ngắt ti vi', 'khuyến cáo chọn ấm của tiến sĩ khải', 'các nhà đầu tư đã lỡ ôm quyền mua cổ phần đang rất hoang mang', 'chúng ta có vài phút nữa để làm', 'chúng ta có thể làm việc gì bù cho nó', 'nhìn lên phía trái từ khu chung cư sẽ thấy nhà thờ phú cam', 'đừng bao giờ tự mình đi vào rừng', 'khoang trời nằm ở tầng nào', 'để hoàn thiện hơn hoặc thay đổi khi cần thiết', 'vui dòng đưa tôi đến khu phố người hoa', 'và ông lucas phải báo cáo cho ai', 'từ bây giờ nó được gọi là thai nhi', 'đó là cuộc sống đó cũng là bóng đá', 'xin lỗi cắt ngắn thêm một ít ở phần', 'cô ấy sẽ muốn đậu xe đến năm giờ', 'đây là máy giặt phải không', 'anh trần công phô tàu nước ngoài đã được báo trước chính xác', 'sau đó thảo được nguyễn vũ bão chở đến ngã tư nguyễn trãi quốc lộ một để đặt pháo giữa đường thảo chuẩn bị cho nổ thì bị công an bắt quả tang', 'tôi muốn một ít cà phê uống liền', 'con búp bê bằng gỗ này bao nhiêu tiền', 'bật đèn phòng đọc', 'tuần này ông thầy có vô thường xuyên không', 'giảm', 'vui lòng cho tôi một nĩa nữa', 'ti vi tăng tiếng đến bốn', 'anh có thể đổi phòng tôi với một cái nhìn ra biển không', 'tỉ như với món thiền trên ghế đá', 'rồi một đêm khi chàng lên giường bằng trực giác', 'anh có bị dị ứng thực sự nặng không', 'nó không đúng', 'làm ơn cho tiền lẻ', 'đến washington giá vé bao nhiêu', 'vâng đó là vàng mười tám cara', 'kìa ai đang nghịch trái tim', 'khi đạp thắng tôi luôn nghe thấy một tiếng ồn lạ', 'cái nhỏ có hành tươi', 'trường tôi là một trường công lập', 'anh có thể gửi nó không', 'quí vị có uống thuốc của quí vị vào ban đêm không', 'xin lỗi bạn có thể chỉ giúp tôi ngân hàng gần nhất không', 'và vui lòng thắt dây an toàn của quý khách', 'do vậy tôi vẫn phải gồng mình', 'hãng xe hạng sang của đức sẽ giới thiệu mẫu ưu đãi đầu tiên thuộc danh mục sản phẩm của mình', 'roong cửa cũng phải kín thì tủ mới hoạt động tốt gió hở làm thất thoát điện rất lớn', 'tôi cảm thấy lạnh và buồn nôn có nơi nào để nằm không', 'tôi đang tìm một công việc mới', 'súng được du nhập vào nhật bản vào thời đó chúng đóng một vai trò quan trọng để thắng một trận đấu', 'tôi muốn trả phòng vậy vui lòng đến phòng tôi để mang hành lý của tôi', 'ông được nhiều người biết đến', 'vĩ bảo những người có tuổi tác ban đầu thường dằn vặt về quá khứ nghĩ về những ngày giữ địa vị ngoài xã hội', 'họ còn trang điểm nhảy múa giống như vậy', 'bạn có thể tìm một tờ ở một quầy mới gần đây', 'cái này mắc quá', 'va chạm với người chở ngỗng chiếc xe lật úp làm đổ rất nhiều biển báo lẫn cột đèn', 'những chiếc thuộc sở hữu của một tổng đại lý ở đức vững chắc nhiều năm liền nhưng hãng cũng không thoát khỏi cơn bão khủng hoảng', 'kết thúc trận đấu các cầu thủ thường có trao đổi áo đấu cho nhau', 'vui lòng đừng nói bây giờ chúng ta sẽ nói về nó trong cuộc họp báo', 'trời có đang quang đãng dần không', 'để nó cho tôi', 'mì vằn thắn và sủi cảo là hai món được ưa chuộng nhất tại đây', 'thủ tục lên máy bay vào lúc hai giờ ba mươi', 'một áp phích phim ấn độ']\n",
      "hypothesis: ['các địa đi', 'họ đã trải nghiệm mọi các giáo viên mọi người vừa trả comment cho.', 'anh có thể gọi tôi không?', 'có rất nhiều yếu tố main ở đây.', 'ai là trường đối dối?', 'cuốn tự hành kiệt lại ở sân máy không?', 'anh đổi ngoại tệ được không?', 'cô ấy mua 2 nguồn cải tôm tôm và 3 con cá.', 'đưa bè vào gói ông học gá sừa hoặc nước và bè chưa đến 10 tuần tuổi hoặc có biểu hiện mất nữa không?', 'tôi có thể viết tên, địa chỉ, số điện thoại của công ty bảo hiểm của anh được không?', 'đừng lo, tôi vừa mới đến rồi.', '10 phút nữa vào giờ rưỡi', 'tôi có thể hẹn cho trường má có.', 'anh vừa hình kỳ thật số ra được không?', 'cảm ơn các bạn đã theo dõi và hẹn gặp lại.', 'tôi không thường bắt tui', 'quân đội mỹ muốn chế tạo những máy tự động hoàn toàn vì những chiếc mà họ đang có vẫn cần được điều kiện với con người.', 'tôi quên quỷ đeo vai trong khe đặc trì.', 'dư luận đã phản ánh lên cơ quan địa chính của thị trấn nhưng mãi chả thấy hồi âm', 'giả danh làm từ thiện lùa tiền người dân', 'sắp đổ siêu sát ở chợ triệu u.', 'nếu làm lộn viên cơ âm binh sẽ đánh trả thầy', 'máy ném bom chiến lược của nga gặp lại', 'anh có thích tôi giữ trước quyển sách này cho anh không?', 'ở người bị hộ trứng, khi ăn ngủ, phần não phải dẫn thức và sau đó là cả các loại hoạt động thể chất.', 'tỷ lệ là 10mm trên 1km', 'cảm ơn các bạn đã xem video này. hẹn gặp lại các bạn trong những video tiếp theo.', 'lời đây hiện khả duyệt gì?', 'nhưng cũng có những bạn nằm kèo ở nhà trầm mền và cọc nhè.', 'chúng ta không thể mua cái nào ở nhật bản.', 'cho vừa với số tiến phí hạn hệ của một bộ phim.', 'kịch sến nhiều tập, làm tôi oãi quá. tôi sẽ tắt tv.', 'chính vì thế, những người phải sống một thời gian dài trong không gian có thể gặp tự do.', 'thực ra thà không đến nỗi mơ mộng đến mê mùi để chẳng hiểu tâm lòng của những người thân thân qua lời thương ngữ.', 'bạn đồng giả phí nữ', 'để ký email của tôi là stefan.martens a1', 'nhưng năm, quỹ ban bầu quỷ thái lan cho rằng đảng của người thái yêu người thái đã phọng hai luật trong chính trị trách cử vừa qua.', 'không thể xem rằng bậc nhà ấy là ai.', 'các bạn đừng kêu hòa hoạt.', 'mình dán cập tinh vốn bỏ ngay dưới a sau a sẽ được.', 'tết đầu tiên xa việt nam của cháu quả là ý nghĩa.', 'trong làn ai cũng quý ngến gia đình anh phú.', 'xin chào, chào tạm biệt.', 'anh ta làm rất tệ.', 'hãy subscribe cho kênh ghiền mì gõ để không bỏ lỡ những video hấp dẫn', 'còn mỗi đợt đợt điện nào', 'anh quên rừng tại khách sạn đi hình không?', 'mật liêu hoa nhiệt độ', 'nhưng chàng trai để ý và theo dõi bà.', 'chúng ta hãy chấp nhận một động tiền để quyết định.', 'cô nghe điểm chi tiết này được không?', 'nguyễn văn vũ vừa tử lạng vì hỗ trợ đuổi bắt tội phạm. ngày 13 tháng 1, công an xã cẩm trạch, nguyện cần cầu cho biết một người lái xe khách 27 tuổi đã tử lạng khi giúp một phụ nữ bị bệnh tên công chế cướp tài sản.', 'hai con voi này rất hung dữ và phá nát nhiều hoa màu của người dân trong khu vực.', 'anh có bị đau dô mịt mỏi không?', 'bạn gọi một tôi dịch chạy này cho bạn không? tôi đã trực nhập.', 'răng giá sẽ là 3 trần y.', 'và như thế những điều tốt đẹp.', 'tăng nhiệt độ lên 21 độ', 'giforn à à', 'đối thân hạt đôi nguyên lưu trung sổ.', 'quý thích có thể để lại tiền lực với một nhà đặc tài giàu mạo, nhưng cũng có thể giúp thể chế hóa những thông trào chứng minh chuyên gia tại khu vực trung đông.', 'lạch đạo ngặt ô tô mỹ nơi từ chức', 'cô ấy biết', 'từng sợi thương ly ti kết lại', 'bồ hôi là một trong những phương tiện để cơ thể thảy cặn bã ra ngoài.', 'tvk cộng 1', 'hiện nay mỗi khi chào hàng các lò ra hạt dưa như tứ, như thân, duy kính thiên hương', 'vì không biết nhìn ra trống rộng và vì niềm tin thất giả rằng tôi mọi việc lại êm cười', 'như có chúa.', 'chết để nắm bức sóc thiệt hướng', 'rồi anh đi một chuyến đến khu vực về san hô và thăm huyền vào càng úc, anh có thể tìm hiểu nhiều về nước úc. anh cũng có thể có một món quà đẹp tại càng sai linh nếu anh muốn mua vài đồ lưu niệm. có rất nhiều đồ vật và phù quyền anh có thể muốn mua.', 'đó là chưa kể các thủ đoạn chính trị xã hội khác.', 'tôi có vẻ một chút', 'cho tôi mẫu thử được không', 'tôi có 3 con gái', 'tôi sẽ ở lại đây.', 'người ta cho rằng số khu vụ ở dưới thế bị chính nước bẩn ít thì kỳ kinh chuyển đến.', 'không một nơi nào lãng mạn và thơ mộng hơn những khu hồ hoang.', 'bị hại khám cáo vì cho rằng các cơ quan phố tục ở thương khê bỏ lọc người sắp tội.', 'cuối cùng họ sẽ phải góp lời những người đồng hành.', 'cái giá của một anh hùng', 'mặt sao tấn sát quản tiền vợ chồng biến hiện được', 'nhằm thu hút thêm nhiều nhà đầu tư', 'như lòng cho bảo vệ của người hàng hàng.', 'anh cần một con tiêm, một đô la ba mươi kém.', 'cảnh trường format bốc thanh và kẹo chó', 'chúng tôi sẽ bôi thường cho anh', 'kỹ xét điển hồ sơ không phải thi.', 'gần 9.000 tỷ đồng xây đường sát vương hỷ, khách lên hà đông', 'bò quân vào trong mày giật.', 'trả lời tôi biết.', 'đến thời điểm hiện tại, ít nước trong cả nước đã có 50.000 lao động thất nghiệp.', 'anh chẳng sang gọi món trưa.', 'là tác động của nó đến hiệu suất chung của toàn bộ hệ thống điện.', 'mà bà nuôi', 'thời tiết mát mưa sẽ là lầu nhà', 'chúng tôi có 4 người', 'về đẹp khuôn mặt và bản linh tình dục quan hệ, tương hội, trách nhiệm với nhau.', \"thông bằng của ý khách sẽ là o'hare.\", 'đầu gối có bị tưng tò hoặc cả hai số.', 'hãy subscribe cho kênh ghiền mì gõ để không bỏ lỡ những video hấp dẫn', 'còn cả là bệnh hiện nào, nhưng chị vẫn làm bệnh gây khó chịu cho tận nhân về làm hạn trở công việc của họ. lúc làm việc cũng như lúc ngủ, họ vẫn phải nghe nghĩ, giáo dương đã nói.', 'cứ m', 'kết quả lao động của tôi đến đâu thì tác phẩm trả lời.', 'khi những chiếc đĩa được dỡ bỏ, lũ hà mã cũng chẳng thèm chú ý tới những chiếc nhãn đoán nữa.', 'không, vậy, không sao, tôi sẽ gọi ông ấy sau, cảm ơn.', 'có giảm giá cho người cao niên không?', 'hãy gọi cảnh sát nhanh', 'bắt đầu đếm', 'anh có bị đau do mệt ngoài không?', 'lãi chất cho vai cũng đã giảm mạnh theo lãi động vốn, lãi nhiều vẫn chẳng có người nào gửi cả.', 'các nhà khoa học đang tiến thêm một bước.', 'cùng chuẩn và ngũ, hai đối tượng khác chuyên làm nhiệm vụ đưa người sang trung quốc là nguyễn vũ hải và võ cảnh dũng cùng chú trại bắc giang xử lý cảnh sát bắc.', 'hệ thống phong bức tài năng và giàu kinh nghiệm', 'sẽ đủ sức cạnh tranh với nước ngoài.', 'giờ ta nên đề đồng ý.', 'ui, lòng trả 10$', 'đây là hồi chu cạch báo về sự mất an toàn lưới địa trên địa bàn.', 'ban đêm vắng cây đà', 'kim hai tv', 'này, chị tôi sắp vô nheo', 'mà', 'đọc giả của tôi muốn hướng tới là sinh viên và chỉ thích', 'không mở cửa ồ ạc', 'tôi muốn từ cái này lấy cái màu xanh.', 'sống với em anh nhé!', 'vừa gọi điện vừa đi lại hết gây hại cho sức khỏe', 'tôi còn thấy tin bằng tin ở đâu', 'anh chuẩn bị toàn này cho tôi được không?', 'đây là địa chỉ của anh.', 'anh lắng nghe tôi một phút được không?', 'đã tăng là do dụng đo dụng điều kiện', 'hiệp gai, nhồi hồn hợp bắt nhọc', 'chúng ta nhận tả lại cán bộ quản giáo trực tiếp bồn số 7, chỗ ở của ông mẫu, ông dũng nói, chính kẽ cũng là tâm lý của người cải tạo, loại án như trường hợp ông dũng.', 'khi túc xà vắng tanh, đêm thả thiện từ ngất ngại chật chơn trừ nước trên phim được xem y', 'mở', 'cô thích anh không nên làm nó', 'tôi không thể mua vẹ ở đâu', 'vậy đều gì có ý tưởng khó bạo chứ?', 'họ sẽ chơi nhiều ca khúc từ bộ phim âm thanh của âm nhạc.', 'mà vùng của flymouth là 01752', 'không, tôi luôn tin anh', 'một số trò chơi đòi hỏi bắt động tác chậm, thận trọng hay tư tư.', 'cảm ơn các bạn đã theo dõi và hẹn gặp lại.', 'nó là quân', 'cảm ơn các bạn đã theo dõi và hẹn gặp lại.', 'đây là ghi chép cho phí nào.', 'tôi bị cạp theo trực tiếp thôi.', 'còn bao nhiêu giờ thì chúng ta sẽ đến như đó?', 'thị trường chính thức kém sơ động nên thị trường phi tập trung cũng nghe lầm.', 'chúng tôi đã thuê căn hộ.', 'mở lên!', 'cuộc tình đó tồn tại cho tới ngày cô ta trưởng quản khối tài sản mà ông ra phó rồi biến mất tâm.', 'xin vui lòng hãy sẵn sàng vào lúc 9 giờ giờ ấy.', 'tôi không nghĩ như vậy.', 'cách dễ nhất là tìm người khác để yêu', 'hãy tận dụng những gì có sẵn từ thiên nhiên để làm đẹp làng cha', 'cô lấy cho tôi cái khăn nào?', 'đồ đánh tấn công quan trọng của chị biến mất thay vào đó là những đường bóng yếu ớt', 'tôi có thể có bản đồ được đi của tạo mai không?', 'đâu bị xuyên', 'thành ra các cổ phân hóa ô ạc căng bắn giá nổi bộ ô ạc tương trí có sẵn một cơ sở kiểm soát', 'nên tài chính nhật bản phụ thuộc khá lớn vào các chính sách truyền tệ của mỹ', 'anh cất hình dị ra cho tôi được không?', 'ô bôn nghĩa là gì?', 'tăng nhiệt độ lên 29 độ', 'cần sao?', 'hậu pháp của dân dài', '12h15 rồi', 'tiếp tục tương ảnh.', 'tuy nhiên, không bao giờ đạt phá lệ.', 'pháp tiến', 'cải sát cứ thế khô giật cho đến hôm nay', 'hãy subscribe cho kênh ghiền mì gõ để không bỏ lỡ những video hấp dẫn', 'nhóm chắc rằng điều đó chứng tỏ phụ nữ tập trung hơn vào nguồn lưỡi của sự hài hước', 'phòng quá ồn, tôi không thể ngủ được.', 'những lãnh đạo cấp cao đang phải đối mặt với việc giảm lương đến mức nào nhận vẫn chưa rõ.', 'xe mỹ từng là biểu tượng giàu sang.', 'bữa ăn sinh viên từ lâu đã đơn giản lắm rồi giờ càng đơn giản hơn bao giờ hết', 'bệnh này có thường xảy ra không?', 'anh có đang thấy cậu bồn không?', 'họ phải đặt vào một bức xin và thực hiện các việc sắp cần thiết giá trị đối so với tích dịch.', 'anh gọi đánh thức tôi lúc 7 giờ sáng mai được không?', 'được năng thảo phó cho mình', 'anh thích điều nào hơn?', 'ảnh được hắt lên khoánh cổ cụt, đỏ hòn hụt hởng.', 'xin lỗi, anh có thể bình tiên mặt cái này không?', 'cảnh sát biết rằng có một nhóm bí mật hoạt động bất hợp pháp.', 'thiết bị còn gửi thông điệp cảnh báo tới người chủ khi binh sắp hết.', 'xin vui lòng cửa mang giày', 'tôi không biết chắc là mỏ tai nào', 'tao lấy đến mức lọ', 'bớ việt sống động', 'vậy còn yếu tố tích thật thì sao?', 'cái này trên tầng 3', 'việc bay của anh khi nào?', 'không, cũng phải, có quan trọng cho 2 người không?', 'tôi có thể cuốn một tờ tạp chí khác không?', 'bạn cho tôi một vẽ hàng hai điểm, xem ai?', 'xin hãy để ý đây là sách mà vừa gọi cho để ý', 'tất cả những gì nước mỹ làm chỉ đơn thuần là muốn sở hữu những nguồn tài nguyên di giá của các quốc gia đó.', 'chúng sở hữu tiếng thích chói tai và lứt thích nhẹ nhót.', 'tưởng dễ đẹp, trứng đỏ, nhiều đơn vị ủng hộ trên thành lập công ty trứng quán ngay lúc thị trường đỉnh cao.', 'thì bạn đúng không đúng bằng quyền', 'nên là phương nam cũng là fan ủng viên khi thông tin dùng do tín dụng lý do gì được hoặc', 'bà mẹ nghèo đóng con', 'mẫu xe được trình nằm trong triển lãm được giới truyền thông coi là hình mẫu của chiếc bốn cửa đã ra mắt vào tới.', 'ánh mặt các em giống rất đẹp.', 'chưa có thông tin về bệnh trinh người ở nước này', 'cho tôi bản đồ thành phố được không?', 'đều không quan trọng.', 'có lúc họ đút hai tay vào trong túi, hai vai rực lại mà đi. có lúc đánh tay thoải mái, hưởng nhịp.', 'tôi bị ung thư', 'rồi công kỳ hiệu bản', 'tôi cảm thấy rất nàng nề, tôi không thể đi tuyển chân của tôi.', 'tình yêu là mù quảng, người đang yêu không thấy, tuyết điểm của người khác.', 'bác trời gây quảng cáo biến hạch rác đô thị', 'cô ấy có gì đi chạy cao', 'đôi khi trong các sổ chí các em thích người không hề có đạn chỉ là một thứ hình dạng nhẹ.', 'nếu là thiên mã phòng', 'tôi có thể chinh một bác công', 'tôi đã từng chứng kiến bão và giờ đây tôi đang công tác tại nước ngoài.', 'có quý uống không?', 'tôi đi hải phòng còn bạn đi đâu?', 'bb giảm âm lượng về 4.', 'cũng đồng nghĩa với việc chúng ta có thể trẻ chuốt lấy khổ đau', 'gần đây lại có vụ công ty xe khách thuận thảo ở bình tĩnh, các đối thủ hùa nhau ngăn cản không cho hoạt động.', 'vâng tôi đã đến đây lần đầu tiên cách đây 5 năm', 'chăn băng, chăn dịch chỗ nào cũng có.', 'tôi có thể xem mùi của kim ở đâu?', 'cô ấy cần một bóng đèn 40w cho đèn về bàn.', 'quả vợ hai con', 'chị em có cách thử hỏi thông tin của các bạn được không?', 'làm ơn đối mái tôi với cảnh sát.', 'đầu tư cho dự án xây dựng nhà máy sản xuất điện thoại di động tại đà nẵng.', 'vui lòng chuẩn bị cái này ở hải quan đằng kia. chúc và lại vui vẻ.', 'một dãy khắc lặn phép dầu theo tâm quan.', 'tv giảm âm lượng về 1', 'cô vệ mặt hàng đó', 'tảng đất khó, hình lục lăng mát lặng.', 'điều tắt do ngọc nước', 'có phải tao từ sydney đến kia không?', 'tôi sẽ lấy phong ngài', 'vị ngôi vàng này', 'họ có chiến thuật tốt, hiệu quả và nhiều cầu thủ có kỹ thuật đá nhân điêu luyện.', 'rồi lòng vẹp lên thì an.', 'tôi muốn dựng màu.', 'đông chú bị kẹt ở đây.', 'một trong ba người này làm giám đốc một công ty sản xuất hàng hóa', 'sếu đau đỏ hiện tại tên anh', 'nghĩ gì có thể dùng điều này được không?', 'con đường dài lắm, sao anh để em đi một mình?', 'chỉ cần gọi bác cứ lúc nào anh muốn nói chuyện với tôi.', 'rộng biến thăm lấy hết đồ đạc trong nhà', 'nó nào ở đây,', 'nó rất ngon', 'cho nên, mặc dù có chất lượng tốt nhưng giá thành của nó lại rất cao và có ứng dụng rộng.', 'nếu nụ y âm đang ứng tinh thì có thức nụ, có thức mộng thì có thức nụ.', 'chính vì vậy mà không khí tết dường như đến thật hơn.', 'làm ơn cho tôi loại thị hai.', 'mưa sầm sạch vừa ra ngồi trời, quần áo chịu lập tức ướt sống.', 'bị rủi việc, bác giao đi sát ông vũ', 'ngỗng cũng có khả năng ghi nhớ từ trước tới giờ, tôi khả cổ vẫn tưởng rằng, não của ngỗng chỉ có thể lưu giữ thông tin và dây.', 'chuyên sản xuất của lã chủ tịch phọng yến và họ đổ mãi mãi vào sự trách.', 'còn yếu tố tinh thần thì sao?', 'tôi muốn đăng ký một chuyện bay đưa được an-10s đi new york, rời hành vào ngày 15 và quay về vào ngày 13.', 'xin lỗi, tôi có thể tìm một đại lý lưu hành ở đâu?', 'quý vị có phòng dành cho một đêm không?', 'cô ấy đang rất mong anh.', 'có tiếng gì rào từ xa đến gần', 'một số cổ động viên còn dùng những lời lẽ thô tục chửi với lực lượng công an', 'anh nhanh cho tôi một kịp nhận được không?', 'tv tăng tiến ninh 6', 'chúng tôi sẽ trả phòng khoảng giữa trưa', 'honda đẩy mạnh sản xuất ở nước ngoài.', 'pv giảm âm lượng 17.', 'con nạn ruột hãy dính sốc và xuống thoát.', 'thì thôi, một mình tôi sẽ thể thao.', 'tôi cả nói trước thứ sáu.', 'ta hãy nghĩ một chút', 'anh vừa mong', 'hãy subscribe cho kênh la la school để không bỏ lỡ những video hấp dẫn', 'giá 100 là bao nhiêu?', 'tôi có thể thanh toán cho nó bằng đồng biên nhập không?', 'quý vị có bị đau hổng, các kiện chứng, cảm lạnh hay cũng không?', 'một nghệ sĩ đích thực là phải lao động quần quật để mời gọi cảm hứng đến', 'được, tôi sẽ làm ngón ngay', 'hãy subscribe cho kênh ghiền mì gõ để không bỏ lỡ những video hấp dẫn', 'ngoài vài chân bóng đá cầu lông mà chúng tôi mới làm lại thì hầu như chẳng có gì mới.', 'lê', 'tổng số tiền là 243 bao chứ nè', 'hầu hết dựng nằm ở bên sông, biển nên đã ăn hàng nên...', 'nhìn nó vậy mà giỏi gì?', 'tôi có thể nói mấy câu được không?', 'tuy nhiên các nhà khoa học châu âu vẫn chưa gửi ý với kết quả này.', '8 tổ chức công đoàn nội đức tạo thành binh đoàn lao động đức.', 'nói chuyện tỉnh trọng nghe ghê quá', 'với một nửa tá', 'tôi cần một cái gì đó cho tạo bói.', 'vâng, đây, max, sachiko và yumi sẽ có bữa tiệc.', 'tuy nhiên anh thì ngược lại, phe nào phe nấy tin nhau, đã kích cụ tướng của mình.', 'phòng có mấy lạnh không?', 'sau khởi ngã của việc nghe bàn đường của mức trống', 'cô gái kia yêu cầu gia đình không được báo với công an nếu không còn nguy hiểm phải tính mạng', 'được, được anh.', 'nhà nước có thể hỗ trợ giá thuê bằng cách miễn giảm tiền sử dụng đất, miễn giảm thuê.', 'vui lòng mang cho nó mùi ít cái liếc', 'công an hiện tại ngãi đã trợ tập bố mẹ của cháu lĩnh làm nghiễm dân lĩnh và gọi thị trị để lấy lời khai.', 'bạn có những món hàng khác không?', 'tv giảm tiếng về 1', 'cha bà dì cũng đổ việc cho mẹ', 'tuy nhiên sự việc vừa đi qua chứng tỏ ông đã bắt đầu lo lắng cho an ninh của gia đình mình.', 'một thành phố như thế xứng đáng được các...', 'cảm ơn các bạn đã theo dõi và hẹn gặp lại.', 'chúng ta có thể bắt đầu không?', 'phía bên phải cơ thể tôi bị lau rất rẻ', 'người dân kế cập với dịch vụ hoạt viện', 'có cái gì gây ra tên câu này không?', 'tôi cần phải về nhà bây giờ.', 'không chỉ có mức lương trung bình thấp nhất trong đồng bất áp, mà còn đặc lực của các hiện tượng an ninh.', 'gia đình park cho biết bộ phim tỷ bán ông, đồng thời dọa thể viện bộ phim này không được phép chiếu.', 'thông tin này dự định sẽ được dùng để đỡ gánh chi phí ăn sức xã hội cho các sủ doanh nghiệp và quyết thích họ thuê thêm lao động.', 'vui lòng cho tôi biết cầu sẽ khởi hành đúng giờ không?', 'mẹ có đi hết rồi', 'nguyễn thủy đối với nhà đầu tư trong nước kém yêu đáy hơn so với đầu tư nước ngoài.', 'đồng hồ tôi chậm 3 phút', 'cô ri chỉ mến và giấc mơ toàn cầu.', 'lên các cuộc hiện phóng vấn và thực hiện phóng vấn.', 'tôi sẽ che ta thuốc cho ăn', 'khách hàng chờ nhận hành ý thất lạc', 'tiếp theo các anh lượm', 'trường là người rất có kỹ thuật, nhưng làm việc hơi cẩu khả một chút.', 'có lẽ bạn đang nghĩ rằng bạn vẫn luôn tương tự một cách đúng mục.', 'bộ kháo dở phần vi phạm ngay như quận bình thạnh', 'bạn sẽ chỉ huy một hạng đội gồm các tàu chiến chiến hạng.', 'bác tư rê', 'tôi sẽ ở nhà một người bạn tại new york', 'cái này hoàn toàn tự động, vì vậy anh cần bấm nút mở ống chính.', 'vẫn của quý vị cậu mà đen bao lâu rồi?', 'khát mộng tủ', '4d go', 'con trai của họ ăn nhiều nhất.', 'anh có nên trình lễ không?', 'xin chào, vui lòng ngồi máy cho tôi đến bàn tập vào.', 'chúng tôi phải đi bây giờ, tôi rất thích bài du vụ.', 'hôm nay, chú không ở đây.', 'mưa sáng có gì', 'cứu bọn chị ra ra', 'do vậy, việc y áp sơ tẩm là hoàn toàn khó chứa sở.', 'độc cơ bị nóng quá', 'hầu như không ai tùy dù những cân nhẫn của mấy người là ai đó, thì mình chỉ có kiểu kiểu đồng.', 'tôi đến cùng bạn tôi được không?', 'chừng nào thị phố bị đóng cửa, thẻ nội vượng có xe đi.', 'đây là một áp lực nặng nề đối với các đơn vị sản xuất thép.', 'sản phẩm đã được miễn giảng thuế, chủ yếu phục vụ thị trường các tiền liền, nên lang bộ đã biến khỏi những khởi.', 'tôi nói, cậu có nghe không?', 'các bạn có thể lại mã điểm không?', 'tuy nhiên, gà bán vẫn giữ mức phá cao.', 'có một số câu hỏi về điều khoản số 8.', 'tôi thường có nhưng tôi thích thì hẹn.', 'ngày mai chúng tôi phải dậy sớm.', 'dòng sản phẩm thảm rỏ, thôi miến mọi ánh liên bởi chi tiết chụp nếp mềm mài', 'với dầu và bụng mặt nạ táo và mật ong để giúp bạn cải thiện làn da', 'và tăng khả năng sinh tạng.', 'tại bữa cơm, nhấp xăm chán rượu, bãi đưa, tưởng thấy anh bỉnh kêu đám khó uống.', 'mà điện sản xuất. lại như vậy, có thấy evn đã đọc gì đâu?', 'anh có thích gặp nói chuyện sao không?', 'làm ơn cho một ly rượu vắng đỏ được không?', 'chào tạm biệt.', 'với một nguồn đối vạn truyệt nước.', 'con biết nịnh bố mỗi khi thích món đồ chơi nào đó.', 'bạn muốn uống loài dược nào?', 'tại cuộc họp công nghiên quốc bảo đảm định thời gian tới sẽ tập trung điều hành nhằm tháo gỡ khó khăn kề vốn cũng như thủ tục hành chính, phục vụ sản xuất, nhập khẩu.', 'dùng thuốc ngay khi thức dậy, hình sáng.', 'ồ, mà đưa đi', 'nhiều lần chỉ góp ý, ông đã hứa sửa lịch cho hợp ý xong, chỉ được tâm ứng nửa tháng, còn việc giải đấu vào đấy.', 'bạn tính về mắt to hơn luôn', 'còn gì nữa hơn với một tình cảm suy nghĩ bằng quyết định tham dự cho đội nhà trong ngày sinh viên.', 'bắt đầu lướt ngấy dây', 'con của quý vị bao nhiêu tuổi?', 'vui lòng mang cho tôi món khai vị', 'lập trình viên đa số đều bị tâm thần.', 'tôi muốn thời gian đó quan sát và tư duy, nhờ đó mà có ý tưởng điều chỉnh nhịp đèn anh tốn chia sẻ.', 'mặc dù có vẻ gây đến giấu, bạn rất sợ bị bỏng.', 'nhà hạt mở cửa lúc mậy dơ', 'hãy subscribe cho kênh ghiền mì gõ để không bỏ lỡ những video hấp dẫn', 'mọi người nói là giá là 80$', 'chiếc này dành tiên tổng thống mới đắc cử của mỹ xác nhận đã chuyển tới mật vụ mỹ chiếc xe dành cho tổng thống mới để thay thế chiếc xe cũ.', 'nhưng tôi không muốn bạn tin tưởng vào bất kỳ điều gì.', 'không thể phất lờ nặng pháp', 'hoa nhận lời yêu thật', 'bọc ta anh thấp dẫn thiêu tỉ', 'các em nhớ là đăng xuống đi', 'cô ấy bị mất tiệm ngân hàng', 'còn thay đổi thằng kia?', 'kinated hạnh phúc tribunal', 'tôi hy vọng thời tiết sẽ sớm tránh rủa', 'bàn đường theo cua trọt nhắc có chân ổng khung', 'chú vị cỏ làm ếch được mất khả năng sinh sản.', 'bạn có thể bật máy điều hòa lên được không?', 'quý vị ngủ lắm', 'chủ yếu thuê dĩ lại biện tài mật vừa chưa?', 'tôi muốn trâu dồi chiếc xe đăng nha của mình.', 'trên ca cộng 1', 'làm gì để bảo vệ sự an toàn của dân hàng?', 'tôi đã bị lừa', 'vậy kế hoạch của anh cho ngày mai ra sao?', 'tôi uống từ ngoài nước được không?', 'nó có hướng dẫn sử dụng không?', 'có người còn không đừng ngại so sánh ánh mô tuyệt biệt với các tiêm nhập của nước ngoài.', 'bạn có quan tâm định vụ vụ không?', 'bản báo cáo cũng chỉ rõ, ở việt nam hiện nay, những hổ tục hay những suy nghĩ cũ tồn tại ở nhiều vùng dân tộc thiểu số, thậm chí cả ở các tỉnh thành lớn đã khiến cho sự bất bình đẳng giới cũng như tỷ lệ tử vong ở phụ nữ và trẻ nhỏ vẫn rất cao.', 'cũng chẳng còn trúng tính quần áo mới', 'cô đang tìm riêng', 'một chồ biến mật à, ý bà là có.', 'cách quản lý cần gửi mở', 'bệnh này có thường thải ra không?', 'quẹo tay lại và đi vòng ca khúc', 'anh ấy định đi qua đám cơ.', 'hãy subscribe cho kênh la la school để không bỏ lỡ những video hấp dẫn', 'xin lỗi ông, cho tôi lấy hóa đơn được không?', 'các mảnh có rìa thích được tha vào cán gỗ và ránh chặt bằng nhựa thông.', 'đuôi lòng không bỏ đôi kỳ dạng kết toán hay', 'người hỏng phải đặt tầng, trình diễn vùng hoặc vòng vọng đến tận phiên.', 'được rồi, chút nữa tôi sẽ massage cho ngài chỗ khác.', 'không lẽ ước mệnh đó của tôi lại phó đi thế sao?', 'thời gian đọng má lang, cả đoàn kim sống vai tháng tơi đến vùng nửa lượng sơn hoa binh.', 'nhiều trụ cột và các mạch bữa đều mục rổ.', 'làm nơi nấu nướng đặc lụi', 'cách tham quan cũng đánh phố môn quan về hành trách kể từ hội ế.', 'tôi e rằng ở đây không, tôi không chấp nhận.', 'tôi chỉ có tiếng thảnh nghĩ trong loại pháp giữa chữa hoặc từ má hoàng, lạ lắm vẫn tạo được sự dính khởi với những trẻ nhỏ.', 'con nhỏ mở cái túi quất đeo trên cổ.', 'họ không cho phép anh được nha', 'nguồn nước ở đây đã bị nhiễm mạng, nhiễm vèn và nhiễm quẩn bởi thói quen thái giác trực tiếp ra sông, lượng thuốc trùi sâu dùng trong nông nghiệp và việc xây cầu cạn ở cuối dòng sông cũng là lý do.', 'đây có thể là kế hợp nảy sinh tiêu cực rơi sắc thoát lớn.', 'bước 6 sẽ bị tội gây dựt trật tự công cộng và tác hại lớn mà việc bước 6 đã bị cấn hẳn.', 'cảm ơn các bạn đã theo dõi và hẹn gặp lại.', 'điều này đọc thức thôi.', 'trước đó, tôi về mở hộp thơ điện tử ra, nhận được rất nhiều lá thê của người hâm mộ, yêu cầu tôi về quê hương đi, và tôi biết đã đến lúc nói lời thành viên.', 'các kết quả thét nghiệm có bí mật không?', 'toàn là đồ dùng cá nhân.', 'đừng lại', 'nhưng với ít nào khả cực cung cấp,', 'chẳng tôi tham quan của tôi.', 'quý vị có cục u hay tổ chức nào ở cả hai bên cổ không?', 'tv đăng tiếng ninh chính', 'rồi, cho phô phát tây tiết này.', 'các đầu viên còn chỉ biến ra nhiều loại cửa khác nhau bằng cách chuyển dịch vụ, một trong hàn quốc, trung quốc, nhật quốc, hàn quốc, hàn quốc, hàn quốc.', 'anh có thể cho tôi biết số điện thoại của jerry hart? h-a-r-t anh ấy ở tại phố 12, phố pinwall street.', 'anh có thể cho tôi biết số điện thoại của jerry hart? hart a.r.t. anh ấy ở tại 412 phố kingwood, st. petersburg.', 'hậu quả là cấu trúc sản xuất của việt nam cũng bị méo mó nghiêm trọng', 'chuyện đi hay quá!', 'anh chắc là đói, có cả nướng trong cỗ lạnh.', 'xin lỗi tôi đã không để ý.', 'vui lòng cho tôi xem cái giống thái từ đồng chinh máy ở cửa sổ.', 'mở tv', 'các hoa hậu chúc mừng và bởi đầu', 'cần phải bỏ những suy nghĩ cũ kỹ, cổ hú, diện bộ ảnh nhã nhặn vừa vặn của bút hà đẹp hơn ở lẽ hỏi dưới.', 'với vỡ cực thị mở gặp trí tèo, dịp ăn đã diễn rất đạt và gây được cảm tình với ban giám khảo cũng như đông đảo khán giả.', 'video', 'thưa anh, tên của anh là gì?', 'còn họ đang bị công an tạm giữ.', 'tôi có thể lấy gì cho anh?', 'đây là 20 đô la và anh có thể giữ tiền thối.', 'bà 277, anh có thể nói chuyện với cô ấy, ở một chỗ mày có 1 năm ký, cô ấy nhìn nói như...', 'mọi sự tương nhiên vô nghĩa và vô dụng với tôi.', 'cho dù ngôn ngữ của bạn có là gì đi nữa', 'tôi muốn gặp về một bác sĩ trên vệ tài.', 'giá cao bắt đầu hạ nhiệt', 'cách tốt nhất để đến khách sạn plaza là gì?', 'nghe ý tóc', 'quán cà phê anh em mở, làm vừa ngón bức kì.', 'vui lòng dùng máy xe rốt', 'học tí đến giờ nó được gọi là thanh niên', 'tôi không có em trai', 'hãy subscribe cho kênh la la school để không bỏ lỡ những video hấp dẫn', 'đạo chích người nước ngoài phá xuất', 'cô tham gia vào cổ lạc bộ quân vượt', 'vừa phải nuôi trong các môn cố bị trình thông ngốc đâu lên được', 'hãy subscribe cho kênh ghiền mì gõ để không bỏ lỡ những video hấp dẫn', 'quý vị khuyên tôi khi nào thì có thể thay các lột xe này.', 'tên tôi là suzuki, tôi đã đặt phòng cho đêm nay.', 'ông tổng giám đốc doanh nghiệp bảo trợ xã hội làm người đã hỗ trợ xây dựng ngôi nhà từ những giai dựa, lòng ngỗng và cũng là chủ tự án này.', 'thông minh, có năng lực, chẳng hạn, cẩn thận và có lòng tin', 'tôi muốn biết về sự chám giảm giá dành cho sinh viên.', 'bạn có kiểu giống thế này màu nâu không?', 'trượng vong anh thua mấy?', 'chúc mừng về ngôi nhà quậy của bạn', 'giá đậu xe một tiếng là bao nhiêu?', 'xây dựng nhà máy ở nước ngoài.', 'giống như ngủ trong phòng lạnh nhất, mặt lớn với những điều phát diệu, tựa sợ. còn ở phòng ấp nhất, những cái môi êm ái nhẹ nhàng đã đến trong tiếng ngủ của những người ở đó.', 'do đó không thể nào nhầm lẫn được giữa một mục vụ người người.', 'hãy đến gặp bác sĩ để khám.', 'tôi có thể dùng thẻ này để được giảm giá không?', 'như anh chết trong buổi tắm hợp với yêu', 'cảm ơn các bạn đã theo dõi và hẹn gặp lại.', 'chuyên nghiệp diệt khoản ngân họ', 'toàn bộ quy trình điện toán hóa thư viên do công ty lạc việt giúp nghiên cứu thiết kế', 'đi với tầm lạnh cả phục hướng', 'bên cạnh đó cũng phải an toàn hơn.', 'lẽ ra anh phải ở chùa chứ', 'nhà nước không để những người nghèo đã được vào học mà lại không thể tiếp tục đi học.', 'tôi muốn thay đổi chứng may của mình.', 'cho tôi một cuộn phim khơi sáng ba lần sau.', 'bạn có thể ở lại đây lâu như bạn muốn', 'gai trốn', 'anh giải ý một nhà hàng pháp ngôn được không?', 'nên sau tổ chức tuyển sinh của các trường,', 'như tọn không?', 'tôm nay nhìn mắt, tôi kháng lại tưởng.', 'anh ta có cả tình không thân thiện', '2 đứa vừa anh đi cùng', 'các dự án mở rộng cũng đã phải định những tác động xấu đến quá nhanh trên diện rộng và lặng lẽ hơn so với những gì chúng tôi định nói.', 'xin lỗi cho tôi một cậy đĩa để chia ra được không?', 'tôi cho rằng không có vấn đề gì', 'vui lòng sắp xếp một chuyến bay khác để tôi có thể chuyển sang a123.', 'định lực anh', 'anh có bao giờ đến tokyo chưa?', 'cảm ơn các bạn đã theo dõi.', 'bạn có thể nói cho tôi biết về nhà hàng truyền tấm không?', 'trước đây có ai trong gia đình quý vị từng có vấn đề ở bụng không?', 'từ vệt bộ hóng nâu trầm', 'và thi đấu đại học quân diện bắc kinh.', 'quán canh người lạnh', 'ông cường nhận định, lượng khâu thép sản xuất ở trong nước sẽ không tăng đáng kể, ít nhất là cho đến cuối năm sau.', 'nó xảy ra không có gì là ngạc nhiên.', 'và lời cảnh báo đã xứng trở thành sự thật.', 'với hai cổ tay treo lủng lặng những túi sót.', 'trong cái nóng oi ảo của mùa hè, các loại vật cũng có cách tự và mát cho riêng mình.', 'nhưng rất tốn kém khi thay thế hoặc sửa chữa.', 'bao nhiêu tiếng bằng xe buýt đến lê đan vậy bác ơi?', 'còn đây là thế giới của dây dép.', 'không hấp dẫn', 'cái giá của một anh hùng', 'các bạn hãy đăng kí cho kênh lalaschool để không bỏ lỡ những video hấp dẫn', 'điều đó là không thể hiểu được.', 'ho mãn lâu ngày ấy và bây giờ', 'ba tôi sẽ về du năm nay', 'hãy đăng ký kênh để ủng hộ kênh của mình nhé.', 'không nhà tài trợ không bán vé để phục vụ các bạn sinh viên', 'rẹp phần mối miệng ra', '3 tháng cô ấy thả mới.', 'lý lâm đức tơ bảo nhật', 'có tui đến charon không?', 'xin lỗi, anh có thể bán theo đơn này không?', 'phải chờ tới khi ối ra nhiều trở lại thì họ gầy mới biến mất.', '6667', 'cô thủy cũng có linh hồn à', 'trừng khoản châu âu trượt giảm khiến thứ 4 lên tiệp, cổ phiếu cuối 2 tháng mất điểm', 'đầu góc nhất thu về loài nhím', 'chuyển tiến kiến xử diễn ra trong 2 ngày.', 'chào, rất vui được gặp anh', 'kiểm định chất lượng giáo dục theo chỉ đạo của bộ giáo dục và đào tạo.', 'hóa ra vị khách bỉ đang công tác tại bảo tàng lịch sử và nghệ thuật hoàng gia bỉ.', 'cảm ơn. anh cho số thiết dụng để giữ phòng được không?', 'mồ hôn trên cơ thể người mồ hôn đi', 'thằng dư ngày càng nhỏ đi', 'thấy còn hai người đang chơi với cắt chìm giữa mã ba sông chỉ kịp đẩy em phượng lên bờ là anh hắn phải đạp nước bơi ngự ra.', 'trứng bò lùm hủ thiết người anh', 'hãy sẵn sàng ở trên sành khách sạn lúc tạm tiên năm tháng mai.', 'sư thược đứa bé mô côi được hành nhập, kiểu bách mệnh băng chó và ruột.', 'vì vui lòng mang lại địa thức ăn.', 'sư dụng kỳ đại', 'chúng ta mở trầm tả các xe lệnh hồ sơ.', 'có nhiều tiết mục mới và hấp dẫn.', 'vừa là hành khách quá cảnh.', 'để nãy lấy thiết bán cho các đầu hậu ảnh', 'chù phật ban chung như thế nào?', 'thành cách nói đùa, buông có thể bị xử lý hình dân', 'vâng, thịt bò rất ngon, gửi lại tin lời của tôi đến đầu bếp nhé.', 'đến địa phận xã nghị thuận, mỹ lộc, nam định, có một người trẻ tuổi lái xe máy cùng chiều vượt trước, bảo dừng lại để nhờ dẫn đường.', 'có một ngày lễ cho các bé gái vào ngày 3 tháng 3.', 'lá trắng nhỏ nhất để không bị phá thảm hàm ở lúc tiền của mỹ bằng khả năng của mình, họ đã sản xuất những đồng đô la mỹ và độc quyền về giá trị của nó.', 'các bạn nhớ đăng ký kênh để ủng hộ kênh của mình nhé.', 'vui lòng để tại phòng chờ quát ảnh ở phi trường.', 'tôi có thể mua sách ở đâu? gỡ anh.', 'nãy giờ sao toàn nghe chê không?', 'truyền lãm trưng bay 7 mùa tạp phẩm của hoa sĩ trương hạnh minh', 'theo tôi, ở đây bạn cần một ô tô để đi đây đó. tôi không còn cách nào khác là thuê một chiếc ô tô.', 'chân tôi là noriko tanaka', 'nhân viên giải thích lý do là mấy khách hỏng không thể gửi lệnh chỉ đặt ra là được.', 'những ngày hè sôi động và các món thể tháo ngoài trời thật hấp dẫn', 'tàu từ saitama vào ở sân ga nào?', 'cậu bị mất mạng anh', 'tôi mong lòng được ăn đồ ăn nhật bản', 'sẽ còn một ít ngủ ăn bằng hàng.', 'cố lên bảo mình xếp in trong 11 giờ đến.', 'anh có bị chuyển động gì trong đầu không?', 'tốn 20 phút', 'người đàn ông này kém còi', 'sẻ hỗ sách', 'phần nào khiến giải thưởng ngành múa khá thơm tụ.', 'tôi vẫn không giấu được những nỗi bực lòng.', 'vĩ bảo, những người có tuổi tác ban đầu thường dằn vặt về quá khứ, nghĩ về những ngày dữ địa vị ngoài xã hội.', 'nấu gội cơm mì vác', 'ừ ừ ừ ừ', 'hàng mai là tuyến đường chính và có nhiều phương tiện luôn không?', 'bác', 'khi hai người đối tên hôn bất ngờ từ trong nhà gần đó chạy ra, tay cầm chiếc cửa, lao thẳng vào chém anh lê văn dũng.', 'cô anh chụp lệ hắt lên vách liệp một cây vầy rễ xiên.', 'chúng ta đi chung.', '912, 913', 'cài đặt lại phần mềm tốn cả ngày.', 'chỗ ngồi này không có trong khu này.', 'anh có thể chỉ cho tôi cách ăn món này được không?', 'có khá gần', 'cãi nào gần nhất?', 'cô sẽ đổi lại với chị châu. cảm ơn chị rất nhiều. tạm biệt.', 'bạn đã bỏ lỡ một cơ hội hay đã bỏ lỡ thứ gì đó?', 'tôi muốn tham gia một tour thành phố.', 'người dân cố thủ tại chung cư sắp sập', 'thêm 2 đô la mỗi buổi buồn bàn gọi 1925 không?', 'nhã chấm nhỏ nhất để không bị phá sản là thả rút tiền của mỹ. bằng khả năng của mình, họ đã sản xuất những đồng đô la mỹ và độc quyền về giá trị của nó.', 'theo tỷ giá hiện nay, tôi sẽ nhận được bao nhiêu euro?', 'đại này có bảo hành không?', 'tôi đang dùng insulin', 'chẳng phải là bệnh hiểm nghèo nhưng chỉ vẫn là bệnh tê khó chịu cho bệnh nhân, bởi làm cản trở công việc của họ, lúc làm việc cũng như lúc ngủ, họ vẫn phải lo nghĩ, giáo dư nghĩa loái.', 'xin lỗi, anh có thể bị chuyển mặt cái này không?', 'đó là điểm.', 'cần phải bỏ những suy nghĩ cũ, kỹ, cầu hủ, điện, bộ, cánh, nhã nhạc vừa vặn sẽ giúp hàm đẹp hơn ở lễ hồi cưới.', 'kính được tiền dễ dàng nên vương rất hào hóa, sẵn sàng chiêu đại lộ bạn ở nhà sáng trọng hay đàn đấm ở trong con chơi.', 'cựa chai còn gọi là mang cá nhỏ.', 'học phần trường sở dạng hình đi vơi ra bên bãi.', 'tv giảm âm lượng về 0', 'xin lỗi, trải tóc tôi giống như hình này.', 'kinh tế mỹ tiếp tục lúc sau thêm vào cuộc hoạt', 'đường thì tôi xem cái ảnh đồng hồ thự 3 ở bên trái', 'bé kim nhiều đêm đang ngủ cứ giật mình méo máu bố ơi mẹ ơi, khiến thằng trường phải ngồi dậy dỗ em suốt đêm.', 'giảm nhiệt độ xuống 25 độ.', 'hàng ngày nằm mặt nạnh với nhau nhưng những gì phải dựng dưới hỏi cổ bàn cô vẫn diện thật đẹp, phát tùng trồng, gời lói rất vui vẻ.', 'để luôn nhớ mình là sinh viên vị.', 'cùng 1 anh trên đời về', 'tình huynh là gì?', 'cứ thân hạnh, khi nào tôi sẽ gặp lại.', 'tên tôi là tenko yamada, chuyến bay gal 0024 tokyo.', 'trong phổ biến là 253 phao cơ mẹ.', 'tôi muốn mua cái này cờ chú bình.', 'giám đốc ba cọ lè là chủ nhân của một trường nam thoài, anh hữu.', 'kênh mọc tv', 'có phải nó thực sự có hiểu vậy không?', 'tối xe kèo v312 trong quần', 'có đủ thời gian để chuyển xe không?', 'ồ, tôi đã lỡ chạm đường xe buýt của mình, có phải làm gì?', 'kiếp quá, tôi phải làm gì bây giờ?', 'một mẫu rui về phía sau đầu, còn mẫu kia hướng về phía trước mọi.', 'tối mực 10b', 'đưa tôi về cái xã.', 'dự luật này được trông đạt sẽ thu hút được sự ủng hộ từ các đảng.', 'rủ nhau kết lại với ông để hùng hành ban tử hiện dân lập gồm đủ nành nghề thợ mộc, thợ hồ.', 'vài ngày lượt đẹp ố hào', 'có được dùng điện thoại của anh không?', 'các em hãy đăng ký kênh để ủng hộ kênh của mình nhé.', 'cách tốt nhất để chăm sóc làn da là tránh cho da tiếp xúc với ánh nắng mặt trời.', 'tôi thích các bộ phim hành động và lý kỳ.', 'vui lòng cho thứ nào đó phục gan', 'nhóm sinh viên tại trường cùng họp mặt ăn tết chung', 'thế nhưng đối với vượng thì khác chỉ vài tiếng thích tháo, nhưng đã thu phục được cả hai chú chó rồi vào nhà, hù hả?', 'về nước tôn đông đủ các chất bẩn bén ngon dưới đáy, nắp đầy đà bóng tróc', 'tuy vậy, stubas cũng cho rằng cần phải tính đến cả yếu tố cá nhân.', 'chính ta thật may mắn, cửa hàng alamoan vẫn còn đủ số 4.', 'tôi muốn mua nỉ tại cam này bạn vui lòng gửi chúng tới nhật nhé', 'đừng thay đổi kiểu, nhìn cắt một chút.', 'cái này có bao gồm dạng bữa ăn sáng không?', 'xin lỗi, có thể cho tôi một thẻ điện thoại không?', 'rồi cô bình trợ được sưu trú cùng cô khám.', 'tế quản biệt dịch hẹp, khiến tệ thờ kho khe thâm trị rực lên', 'xin lỗi tôi bị lạc đường, anh có thể chỉ cho tôi đường đến khu phố người hoa không?', 'ai đó bị thương', 'những dự án này đã bị hoãn vô thời hạn, không những vậy, hãng xe nhật cũng dừng phát triển động cơ, hiện chỉ có hệ thống động cầu trước cạnh tranh với xe mũi dài.', 'xin lỗi, ảnh của chị em chỉ là mạng đồ sưu dục cho tôi thôi không?', 'tôi muốn thuê một đôi chạy trượt.', 'không đáng đề cập đến', 'thủy tích có thể để lại quyền nợ bởi một nhà độc tài đầu mỏ nhưng cũng có thể giúp thể chế hóa những phong trào chủ nghĩa diễn ra tại khu vực trung đông.', 'những bộ nã chỉ giảm hoạt động về đêm sẽ suy nghĩ hiệu quả, triển vọng và dẫn đầu cả đội.', 'cắt điện thoại phòng an', 'anh có thể giảm giá không?', 'trinh người cơ hội đi địa chi', 'những khi mùa khô kéo dài, mỗi nhà vẫn phải dùng nước miễn phèn, sau khi được lắng lọc bằng dung sáp khác nhau, khi thì dùng quần áo cũ, lúc là phèn vẫn được dùng sử dụng các sỏi miễn là có nước để dùng.', 'tôi có thể ở lại ba đêm không?', 'cô gọi thầy này để nói chuyện qua ngay được không?', 'không, có tai thì sẽ tiêu biển.', 'hiện tượng này sẽ bắt đầu tại nam á, rồi dần được thấy tại hầu hết các nước, trong đó có việt nam.', '35mm tim màu âm bản 30 đấm ả', 'anh có thể giải thích tình hướng này không?', 'trưởng phòng hành chính tổ chức nhà trường', 'một quả lụ đạn được tung ra đúng lúc.', 'trông anh nhạt nhạt quá', 'này hơn người ta chớ', 'có xe tuyết máy lạnh không?', 'ông bò chơi bổng tay trên.', 'khai báo điện tử nhanh chóng thêm.', 'hai anh chị này gặp với nhau vui tân nào cũng có tiệc, hồi với bạn bè về ăn uống nhảy nhót đồ nào cũng thắng.', 'cô ấy sắp bơm nó vào tỉnh mặt anh.', 'có lẽ quý vị cần thể ra', 'xin lỗi, nhưng hình như nó quá nhỏ.', 'tôi sẽ xác nhận những gì là nội vệ.', 'vì cái oanh, từ khi mở cửa hàng trên phố thái hà,', 'chúng tôi có thể giải thích vấn đề như sau', 'bạn đi về đâu mà vội thế?', 'vẫn chứng nó hay, có vẻ là tình dụng vô ứng viên ra trong thời gian xưa.', 'nhiều hơn những trẻ khác', 'như đã đồng ý, hàng sẽ được giao cho anh vào sáng tháng 2.', 'chị bây giờ đã nhẹ ngồi', 'hãy subscribe cho kênh ghiền mì gõ để không bỏ lỡ những video hấp dẫn', 'ôi khát điều chứ', 'đây có phải xe lửa đi trang mai không?', 'hai tay đã như ra cải chúa đức.', 'mồ hôi trên cơ thể người cũng khó khô đi', 'hãy subscribe cho kênh la la school để không bỏ lỡ những video hấp dẫn', 'có chương trình ở góc đường này.', 'htv', 'món ăn của địa phương nào đặc biệt?', 'công an hà nội đã cạo sửa hồ sơ.', 'khi đối tác đầu tư tiền bạc thì mình phải đầu tư công sức', 'bạn không biết lại được không?', 'nói khó là khó vậy thôi, nước ngoài quản lý được thì mình cũng quản lý được', 'tối nay có đông không?', 'díu anh ta đâu khi anh ta dìu ở đây anh ta?', 'chức danh chính thức của quý vị là gì?', 'anh muốn họ thấy thế nào, icô là? anh muốn mò gì vào trong hai mắt dưa của anh?', 'cái đó là một việc tiện ý', 'chồng tôi bị đau tim.', 'cùng trận vào ngũ, hai đối tượng khác chuyên làm điện phủ dương người trao chương quốc là nguyễn vũ hằng và võ cảnh dũng cùng chú tại bắc giang cũng bị cảnh sát bắt.', 'hãy subscribe cho kênh ghiền mì gõ để không bỏ lỡ những video hấp dẫn', 'tôi sẽ thử bánh thức đinh', 'cái này không vừa, anh có thể đổi nó lấy cái khác không?', 'bên chi bộ chưa có quyết định chính thức.', 'hạ viện mỹ vừa ủng hộ một đạo luật trong đó kiểm soát chặt chẽ hơn nữa hoạt động xây pháp dịch việt.', 'giấy phạt đây, anh bị phạt 25 ringgit.', 'chúng ta sẽ trực hợp góc của khác.', 'các phân quốc cảnh sát không?', 'cạn nào tiền lời nhất để đi định nơi này bằng chơi bít hay xe điện?', 'thời gian từ đầu đến cuối là bao lâu?', 'vậy điểm thuật tuyết đâu?', 'địa điểm chạm đứng trên môn ép ở đâu?', 'chỉ có thể mua vé qua điện thoại', 'vui lòng cho tôi cải dì chị, học tốt', 'tôi không thể ăn ngọt cái này quá dài', 'trị phú đức tự tử vì phục hoạch chức tế', 'năm qua họ đã cố gắng ngào lái một lúc hai hãng và để không bị thủng hoảng như các hãng khác của mỹ.', 'tôi muốn nước cam trứng trộn một bánh xốp và một tách cà phê', 'tôi đặt một phóng hai dưới.', 'ma lan gọi truyền chi vậy bàn vầy, đông bàn buông quá.', 'chính thường thầy ra trong những vùng biển sóng vỗ.', 'cắt điện hòa phòng hợp', 'khi nào tôi sẽ giao diện được', 'sẽ phải tốn 2 ngày vì anh mới vừa ăn để xuất viện.', 'hiện nay theo nhận thức của đa số người việt chúng ta nhà nước pháp quyền là nhà nước quản lý xã hội bằng pháp luật.', 'bác', 'câu chính tuyên bố kết thúc cuộc học', 'não dẫu tổn hại nặng vật thải sữa, mặc dù đã gần, nghi tiết rõ về các gây bệnh cũng như tạm hạn mà đệnh nhân sẽ phải chịu cả đời, nhưng đến nay, giới y tí vẫn chưa tìm được biện pháp giới hiện nào điều trị tâm tận của nhau này.', 'trên thăm', 'bạn có thể cho tôi thêm vài phút không?', 'kết quả múc thăm vòng loại cuối cùng.', 'tôi đang tìm một công việc mới.', 'công hợp phân quan là làm gì thì cảm giác đẹp đấy ạ.', 'đại dương bắt cửa mình lên đường ngồi', 'bạn có một nhịp cười đẹp', 'hãy đứng tại chỗ đừng cử động.', 'à tôi hiểu, em đổ vào cà phê nữa.', 'một giờ thiên gia bao nhiêu', 'vịnh cũng hy vọng nhiều người dân việt sẽ được ăn những quả bưởi chất lượng thời gian tới, bởi bảo quản đã khó, nhà ăn phải, bảo quản còn khó hơn.', 'vi tật thay nghĩa chủ yếu dựa vào trần đoán hình ảnh và kết nối dưới cương', 'cho tôi một chút thôi và má tôi không', 'chị nói được được cháu ở đây là không?', 'tại vì... các phụ...', 'chụm vần vào hai mắt của tôi.', 'trước khi đến với điện ảnh, tôi kinh doanh cho thuê xe du lịch', 'đang chịu trái phép và phụ thí quanh dụng nguyễn hữu cảnh, chủ vụ trường bị phạt 7 năm 6 tháng tù, cảnh đã tự hủy cuộc đời với sự liều lĩnh.', 'anh ấy đi chưa? chưa', 'tôi có thể gửi trước hành lý của tôi được không?', 'hầu hết số mờ đông vật, têu đá hờ dãi đoan phấn hủy, bốc mùi hối thủi nông nặc', 'khoảng 45 đô la mỗi người', 'chẳng lẽ không đuổi ngủ khi ra ngoài vào trời lại không?', 'tôi không gì đòi làm một phong tích nhật bản được ghép vô nhị.', 'chiếc này dành riêng tổng thống mới đắc cử của mỹ xác nhận đã chuyển tới mật vụ mỹ chiếc xe dành cho tổng thống mới để thay chiếc xe cũ.', 'hôm nay bà em đi công tác, anh qua đây nhé!', 'xin lỗi tôi đang tắm', 'từ hôm nay bạn sẽ ở đâu?', 'các tác phẩm anh khách để ở đâu?', 'anh ấy vừa mời đến từ ánh cửa hôm qua.', 'nếu bạn không mất đâu thì mình không cần nữa.', 'tôi cũng đặt chỗ cửa hàng ra vào ngày 12 tháng 3.', 'đúng không? đúng không?', 'phước tây và nga cắt thẳng', 'lão giữa tổ hại lặng vẫn phải chữa, mặc dù đã gần như biết rõ về cách xây bệnh cũng như những tác hại mà bệnh nhân sẽ phải chịu cả đời, nhưng đến nay người y sĩ vẫn chưa tìm ra được biện pháp, dữ liệu nào để điều trị thân bệnh hiểm nghèo này.', 'ở thế chết này, những cuộc bắn đấu đá được xem là một sự kiện xã hội.', 'đối xe chơi anh nhìn đó', 'bị bắt giam vì xúc phạm trên mạng xã hội ảo.', 'khi nào quán trà đóng cửa?', 'cô đệm gái chị xe lừa băng cách nắng', 'tôi muốn nói chuyện với...', 'cố đi hải phòng, con mình đi đâu?', 'lên tới lớp thu tiền học quý', 'ăn nói sơm sở.', 'vâng, việt nam ở đây.', 'mấy giờ david đã đến?', 'nó sẽ dừng cạnh mấy', 'có đứa gọi hắn tên hải, làm cái gì ở công ty nước ngoài?', 'mấy giờ con thuyền nó mới tự hành?', 'kính là nó cảm ơn', 'đỗ đua trồng trong mùa hè lớn anh và thường có quả dẫu bị vỏ tưới, đỗ đua vẫn ra quả chiên hàng.', 'để nó cho tôi', 'các bạn có thể nhận thêm những thông tin về các bài học của mình trong phần bình luận.', 'tôi muốn hỏi anh về senpai.', 'nghĩa là khoảng 10 đô la một cuộn phim 36 tấm.', 'trẻ em đâu có chứa ngại vật.', 'tạm chứng của bộ thượng lãi dịch.', 'chú vậy sao?', 'đang diễn ra hào hứng trôi nổi.', 'của hai mùa ở miền nam việt nam.', 'chúng tôi muộn đi', 'tôi không chắc, nhưng tôi không chịu được mùi thịt, tôi chỉ muốn ăn trái thơm.', 'lúc viễn tìm được người giúp đỡ quay lại chỗ bị ngã thì nhóm cướp đã lấy xe của anh và tẩu thoát.', 'lì chạy theo nắm lấy cửa sau xe bích.', 'tôi giáo phận công việc này cho bạn.', 'liệu ngân hàng có mở cửa ngày mai không?', 'và nhận ra liền quanh ra chiếc thòng lặng bành tơ của nó đầu kia sẽ là bữa anh', 'việc bảo vệ những nguồn cung cấp dầu lửa trước đó đã là ưu tiên hàng đầu bỗng chốc lại trở thành nỗi ám ảnh của nước mỹ.', 'tiền vệ người bồ đào nha mới đây khẳng định anh đã tìm lại được niềm hạnh phúc tại m.u. bất chấp những chỉ trích của người hâm mộ anh', 'anh có nước nữa không?', 'ảnh minh tại các thành phố ảnh độ nước thấp chậm', 'những lãnh đạo cấp cao cũng đang phải đối mặt với riêng giảm lương đến mức nào hiện vẫn chưa rõ.', 'đây có phải ra thật không?', 'cỏ tu lạc nghe cựa hiếp tập thể', 'lấy cái thép làm ví dụ.', 'ví của chúng tôi bị móc ướt ở trong tàu điện ngầm.', 'tôi muốn ăn hơi tỏi.', 'mấy giờ là chuyến bay tiếp theo tới nijita?', 'giấy phạt đây, anh bị phạt 25 tuyên nghiệp.', 'điều gì cũng gần thế thôi', 'hãy subscribe cho kênh ghiền mì gõ để không bỏ lỡ những video hấp dẫn', 'anh giỏi quá rồi nhỉ?', 'chú có thể cân bạo khoảng vừa bằng không?', 'chị có cửa lớn không?', 'từ mẫu phân tích của bà vũ thị khởi, đám đốc tổng công ty tâm lý học ứng dụng nhờ phụ huynh đã hiểu rõ khoảng trống giữa cha mẹ và con cái không phải là khoảng cách về địa lý mà là khoảng cách tâm lý.', 'chưa ông có đúng 11 giờ.', 'làm ơn', 'giờ báo trên bàn vừa mới được đọc.', 'giết người cướp của lấy tiền về quê', 'tv bóng đá tv', 'tôi có thể sử dụng mặt nạ trang diễn với số rằn như thế nào?', 'không có số điện thoại', 'không giống như sản phẩm nông nghiệp dễ họng dầu có thể chôn dưới đất', 'nhưng chính các nhà máy đường đang kích thích nông dân cầm mía, vì đại giá mua mía lên cao.', 'cảm ơn xã hội đã cho chúng ta những con người có ấm lòng.', 'xin lỗi có thể nào, anh là anh không?', 'tôi muốn đặt chỗ trước cho hai người vào 7 giờ tối nay.', 'thượng tá công an này được phát hiện trong tư thế.', 'nhưng đấy là cơ chế nào?', 'chúng tôi đem chèm một miếng thịt ngắn cách đến được của liên hợp.', 'hãy đăng ký kênh để ủng hộ kênh của mình nhé.', 'mời các anh ngồi xuống đây', 'anh có uống bất kỳ loại dược phẩm nào khác không?', 'làm ơn cho tôi một chỗ ở khu không hút thuốc.', 'tôi muốn một vé thư hồi đến trạm ép', 'mời các bạn tham vấn cho bạn bảo ngọc và chia sẻ về chuyện này.', 'còn đến trong bụi diễn tuần này không?', 'vâng thì họ sẽ sẵn kết hôn', 'đừng có toan khen nhăn bịt vỡ vẩn để chấu mặt mọi người', 'những dự án mở rộng ở nhật cũng bị hoãn, hãng khẳng định sẽ chẳng xa thải nhân công chính thức nhưng 7.000 nhân công thời vụ đã được nghỉ dự ở mỹ.', 'bật chia đậu sữa ấm.', 'là người hay đòi mò tư khám phá, sáng tạo tâm hồn cự mở họ thích lắng nghe và cho một người lời duyên', 'thức uống, bánh mì và các món ăn chính sẽ được cung cấp.', 'một số lực lớn', 'mình qua thật buồn', 'căng nhiệt độ lên 29 độ', 'giá cược liền chiếc thang mai là bao nhiêu?', 'các ba vợ chảy răng.', 'anh có muốn được ít gì không?', 'hẳn tôi muốn đi trở nước.', 'cô sẽ quay lại trong vòng một tiếng lửa', 'cho tao một bát giấm', 'k, đây là noami, mình đang ở thành phố.', 'ngày mai thì trẻ con sẽ mua.', 'tôi có một thẻ ngân hàng.', 'vui lòng cho tôi kể phía trước và ngồi đi.', 'lũ trẻ nít', 'tụ tập học đòi đàn đấm thư thân mất nết', 'tối nay bạn muốn đến tập chức phim không?', 'hôm nay, nhiều sách âm thầm bán cổ phiếu nhưng không bảo cơ quan quản lý.', 'cũng như nhấn mạnh kinh nghiệm sẽ không phải tái ngôi nhìn mà sẽ dẫn đến những việc cần.', 'vâng, chính tôi có thể vui lòng cho tôi biết tên.', 'nằm giữa trung tâm thành phố bắc giang, quán phở lộ chiếm của nguyễn thiên hậu và nguyễn tuấn vũ chẳng lúc nào để viện mở cửa như khách vấn phối hạ.', 'đây là đường nút từ nút giao thông khu ăn nam sài gòn đến cầu phú mỹ và đường vần đai phía đông thành phố.', 'chúng giúp làn da khô trở nên tươi mát, mềm mại hơn', 'vì cô cử bây giờ không phải là tiếng hát rửa thế tốt nhất là bà thủy cả dòng', 'cường ấp không trả lời', 'hết ngày đấu tếp tại hà nội', 'tôi sẽ thảo phiếu tính tiền cho ông.', 'phía công an cũng sẽ có những thông báo để có biện pháp ngăn chặn.', 'họ bị thứ tưởng khi chiến thăm tăng gia đình kiến sách hôn heo ở huyền chiếc mỹ', 'anh đã làm thế này bao lâu rồi?', 'cắt đen phòng hợp', '3 tháng', 'anh bớt lần đầu tôi đi ngóng ngông', 'anh ơi, trong cạnh nhà', 'kẹo làm từ bột hoàn, đường, quế, hạt thống.', 'cô ấy đang ngồi tìm camera.', 'điều hoa làm lãng', 'nhìn cây đào đẹp', 'hãy subscribe cho kênh ghiền mì gõ để không bỏ lỡ những video hấp dẫn', 'cơn khát thêm dấu thiên, bùng nổ vượt ra khả năng đạt ứng của cơ sở hạ tâm.', 'tôi chơi dương cầm dòi', 'làm một kiểm soát lớn để có thể đụng vừa một cuộn thổ tay có kích thước tạm nhân 11.', 'tôi muốn bàn thí cạnh này.', 'do còn lượng nước trong cục cồn nhiều hơn nên động cơ ít bị nóng hơn.', 'đây có thể là trứng cá đũa hoặc mụn trứng cắn người lớn.', 'tôi muốn với cát tân lô', 'ta tiếp một mối tượng trưng cho mùa xuân.', 'hồ bạch nguồn tư long tử chí duyên thoài, ra năm gòm ra rửa đường thông minh mông.', 'tôi đang tìm một món đồ lưu niệm nhỏ.', 'chúng tôi sẽ báo cho anh ngay khi chúng tôi tìm được.', 'còn dự án phát triển sản phẩm từ mây và gỗ đảm bảo bền vững do ủy ban xã quản lý tài trợ để thiết lập hệ thống sản xuất bài bản cho các sản phẩm lây che tại việt nam cũng như nào.', 'hãy đăng ký kênh để ủng hộ kênh của mình nhé.', 'tôi bị táo bọn nhiều.', 'đó là quan điện tình yêu ở phái đẹp.', 'thấy cá ột soi dưới đè, mắt nôn nao trong ruột.', 'chào tớ xin hãy', 'phó tổng thống nga tử cũng hoảng định đội mô lãnh đạo kinh tế của ông đã lên kế hoạch thực hiện một gói xích xích kinh tế lửa với giá trị có thể lên tới 1.000 tỷ usd.', 'trong quá trình này, một số người quen là việt kiều đã bày tỏ ý với phố muốn mua dâm người bảo diễn viên.', 'ngươi vào mang cho tôi một ít nước uống.', 'thuộc dục', 'hãy cho tiền vào cùng vé khi anh xuống xe.', 'sapa bây giờ là một trong những địa danh du lịch hấp dẫn nhất miền bắc.', 'mỗi con bò đều được đeo một chữ vòng cổ gắn pin.', 'cháu có vậy một tiền đề kê tư khoản được không?', 'tôi muốn chuyển trạng phòng khác.', 'có làm đá cho chị ăn không?', 'do tôi biết tên cô ấy', 'tất cả cũng chỉ xuất phát từ thói cả nể, cố hữu dính mát sinh viên này thôi.', 'có nhưng một vài xe đại hoàn thất kiệt đua.', 'chào tụi em!', 'gói hơi ngoặt', 'nhắc tv', 'tuyết khám phạm ập của tiến sĩ phải', 'các nhà đầu tư đã lỡ ôm quyền mua, cổ phần đang rất hoang mang.', 'chúng ta gọi vai thịt người để làm', 'chúng ta có thể làm việc gì bù cho nó?', 'nhìn lên phía trái, từ khu xung cư sẽ thấy nhà thờ phú cam', 'đừng bao giờ tự mình đi vào giường', 'khoán chơi nào năm ưu tân nào', 'để hoàn thiện hơn hoặc thay đổi khi cần thiết.', 'vui lòng đưa tôi đến khu phố nguy hoa.', 'và ông nú cát phải báo cáo cho ai?', 'từ bây giờ nó được gọi là thai y', 'đó là cuộc sống, đó cũng là bóng đá', 'xin lỗi, các bạn thêm một ít hờ văn.', 'cô ấy sẽ ngứng đậu xe đến 5 giờ.', 'tại làm anh gặp bài không?', 'hạch vật góc phô tàu nước ngoài đã được báo chức chắc xác', 'sau đó thảo đồng nhiên vụ báo trở đến nhà tư nhiên trái, quốc lộ 1 để đặt tháo giữa đường. thảo chuẩn bị cho lộ thì bị công an bắt quả ta.', 'tôi muốn một ít cà phê uống liền.', 'một bức ghê bằng gỗ này đang nhiều tiền.', 'bắc đen không đọc.', 'tuần này ông thầy có vô thường suy không?', 'dạm!', 'vui lòng cho tôi một miền nữa.', 'tv tăng tiến ninh 4', 'anh có thể đối phòng tôi với một cái nhìn ra biển không?', 'tỉ như với món thiền trên ghế đá', 'tôi có thể sử dụng trang điểm cho bác sĩ giang.', 'anh có bị kỳ ứng thực sự nặng không?', 'nó không đúng', 'làm ơn cho thêm lẽ', 'để washington trả rẻ bao nhiêu', 'vân võ đạo vàng 18k', 'vì ai đang nghịch tách đi', 'khi đặt thắng, cô luôn nghe thị một tiếng ôn lạ.', 'cại nhỏ có anh tươi', 'trường tôi là một trường công lập.', 'anh có thể gửi nó không?', 'quý vị có uống thuốc của quý vị vào căn đêm không?', 'xin lỗi, bạn có thể chỉ giúp tôi ngân hàng gần nhất không?', 'và vui lòng khách đây an toàn của quý khách', 'cơ vật này không đi', 'hãng xe hạng xa của đức sẽ giới thiệu mẫu ưu đãi đầu tiên thuộc doanh mục sản phẩm của mình.', 'nó có vũ khí kinh tích của người hoạt động, nó hờ lạc thật hoàn thiện rất lớn.', 'tôi cảm thấy lành và buồn luôn. có nơi nào để nằm không?', 'tôi đang tìm một công việc mới.', 'trung được trung nhập vào nhật bản vào thời đó, trung tộc một vai cho quá trọng để thẳng một trận đấu.', 'tôi muốn trả phòng, vậy vui lòng đến phòng tôi để mang hành lý của tôi.', 'ông được nhiều người biết đến.', 'vĩ báo, những người có kể tóc ban đầu thành dòng vật về quá khứ, dữ về những ngày, dữ địa dự ngoài xã hội.', 'họ còn trang điệp, nhảy, nối rập như vậy', 'bạn có thể tìm một tờ ở một quầy mới gần đây', 'cảnh này mất quá', 'vài thạm với người chở hốc, chiếc xe lật út làm đối rất nhiều biểu báo lẫn cột đèn.', 'những chiếc thuyền sở hữu của một tộc đại lý ở đức vẫn chắc nhiều năm liền, nhưng hãi cũng không thoát khỏi cơ bá khủng hoảng.', 'kết thúc trận đấu các cầu thủ thường có trao đổi áo đấu cho nhau.', 'nguyên lòng đừng nói bây giờ, chúng ta sẽ nói về nữa trong cuộc họp báo.', 'trời có can quan đảng dân không?', 'để nó cho tôi', 'mi văn thánh và sửa cảo là hai món được ưa chuông nhất tại đây.', 'chúng tôi sẽ bay vào lúc 2h30', 'một áp thích thiên ứng']\n",
      "Tính toán WER\n",
      "Word Error Rate (WER): 36.57%\n"
     ]
    }
   ],
   "source": [
    "# Ghi kết quả dự đoán vào file transcript_result.txt\n",
    "with open(RESULT_FILE, \"w\", encoding=\"utf-8\") as f:\n",
    "    f.write(\"\\n\".join(results))\n",
    "\n",
    "print(f\"reference_text: {references}\")\n",
    "print(f\"hypothesis: {hypotheses}\")\n",
    "# Tính toán WER nếu có dữ liệu hợp lệ\n",
    "if references and hypotheses:\n",
    "    print(\"Tính toán WER\")\n",
    "    wer_score = jiwer.wer(references, hypotheses)\n",
    "    print(f\"Word Error Rate (WER): {wer_score:.2%}\")\n",
    "else:\n",
    "    print(\"Không có dữ liệu hợp lệ để tính WER.\")\n"
   ]
  },
  {
   "cell_type": "code",
   "execution_count": null,
   "id": "1ddcd313-c573-45bf-8ac0-1723dc78f059",
   "metadata": {},
   "outputs": [],
   "source": []
  }
 ],
 "metadata": {
  "kernelspec": {
   "display_name": "base",
   "language": "python",
   "name": "python3"
  },
  "language_info": {
   "codemirror_mode": {
    "name": "ipython",
    "version": 3
   },
   "file_extension": ".py",
   "mimetype": "text/x-python",
   "name": "python",
   "nbconvert_exporter": "python",
   "pygments_lexer": "ipython3",
   "version": "3.12.2"
  }
 },
 "nbformat": 4,
 "nbformat_minor": 5
}
