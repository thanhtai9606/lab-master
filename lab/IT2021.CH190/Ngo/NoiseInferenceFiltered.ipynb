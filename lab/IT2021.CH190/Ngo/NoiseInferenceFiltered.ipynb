{
 "cells": [
  {
   "cell_type": "code",
   "execution_count": 8,
   "id": "ccb4b4c8-145e-473b-91a7-100cdee417a1",
   "metadata": {},
   "outputs": [],
   "source": [
    "# pip install openai-whisper jiwer"
   ]
  },
  {
   "cell_type": "code",
   "execution_count": 9,
   "id": "8ff3c37b",
   "metadata": {},
   "outputs": [],
   "source": [
    "# pip install ffmpeg"
   ]
  },
  {
   "cell_type": "code",
   "execution_count": 10,
   "id": "ddead78c-bba4-4b7b-b17a-dc129d3b3c24",
   "metadata": {},
   "outputs": [
    {
     "name": "stdout",
     "output_type": "stream",
     "text": [
      "import\n"
     ]
    }
   ],
   "source": [
    "import os\n",
    "import whisper\n",
    "import jiwer\n",
    "\n",
    "print(\"import\")"
   ]
  },
  {
   "cell_type": "code",
   "execution_count": null,
   "id": "de38b478-d6ae-41ec-9559-90b2c867afab",
   "metadata": {},
   "outputs": [
    {
     "name": "stdout",
     "output_type": "stream",
     "text": [
      "Load model\n"
     ]
    }
   ],
   "source": [
    "# Định nghĩa đường dẫn thư mục\n",
    "AUDIO_FOLDER = \"./NoiseFilteredData/data\"\n",
    "TRANSCRIPT_FILE = \"./NoiseFilteredData/transcriptAll.txt\"\n",
    "RESULT_FILE = \"./NoiseFilteredData/transcript_result.txt\"\n",
    "\n",
    "# Load mô hình Whisper Large V3\n",
    "model = whisper.load_model(\"large-v3\")\n",
    "\n",
    "print(\"Load model\")"
   ]
  },
  {
   "cell_type": "code",
   "execution_count": 12,
   "id": "c5bdf0ba-b83f-4e34-be23-4ffcfa696016",
   "metadata": {},
   "outputs": [
    {
     "name": "stdout",
     "output_type": "stream",
     "text": [
      "Doc transcript\n",
      "Doc transcript - end\n"
     ]
    }
   ],
   "source": [
    "# Đọc transcript chuẩn\n",
    "print(\"Doc transcript\")\n",
    "ground_truths = {}\n",
    "with open(TRANSCRIPT_FILE, \"r\", encoding=\"utf-8\") as f:\n",
    "    for line in f:\n",
    "        parts = line.strip().split(\"|\")\n",
    "        if len(parts) >= 2:\n",
    "            filename, transcript, length = parts\n",
    "            ground_truths[filename] = transcript\n",
    "\n",
    "print(\"Doc transcript - end\")"
   ]
  },
  {
   "cell_type": "code",
   "execution_count": 13,
   "id": "c6605ce8-f0d2-41d0-9397-a6d49e7b1cf5",
   "metadata": {},
   "outputs": [
    {
     "name": "stdout",
     "output_type": "stream",
     "text": [
      "Xu ly tung file am thanh\n",
      "Processing: FPTOpenSpeechData_Set001_V0.1_000001.mp3\n"
     ]
    },
    {
     "name": "stderr",
     "output_type": "stream",
     "text": [
      "/home/ngo/anaconda3/lib/python3.12/site-packages/whisper/transcribe.py:126: UserWarning: FP16 is not supported on CPU; using FP32 instead\n",
      "  warnings.warn(\"FP16 is not supported on CPU; using FP32 instead\")\n"
     ]
    },
    {
     "name": "stdout",
     "output_type": "stream",
     "text": [
      "reference_text: cách để đi\n",
      "predicted_text: các bạn hãy đăng kí cho kênh lalaschool để không bỏ lỡ những video hấp dẫn\n",
      "Processing: FPTOpenSpeechData_Set001_V0.1_000002.mp3\n"
     ]
    },
    {
     "name": "stderr",
     "output_type": "stream",
     "text": [
      "/home/ngo/anaconda3/lib/python3.12/site-packages/whisper/transcribe.py:126: UserWarning: FP16 is not supported on CPU; using FP32 instead\n",
      "  warnings.warn(\"FP16 is not supported on CPU; using FP32 instead\")\n"
     ]
    },
    {
     "name": "stdout",
     "output_type": "stream",
     "text": [
      "reference_text: họ đã xét nghiệm máu cho cheng nhưng mọi thứ vẫn hoàn toàn bình thường\n",
      "predicted_text: họ đã xét nghiệm bọn các cháu khiến mọi cụ vừa hoàn toàn bình thường.\n",
      "Processing: FPTOpenSpeechData_Set001_V0.1_000003.mp3\n"
     ]
    },
    {
     "name": "stderr",
     "output_type": "stream",
     "text": [
      "/home/ngo/anaconda3/lib/python3.12/site-packages/whisper/transcribe.py:126: UserWarning: FP16 is not supported on CPU; using FP32 instead\n",
      "  warnings.warn(\"FP16 is not supported on CPU; using FP32 instead\")\n"
     ]
    },
    {
     "name": "stdout",
     "output_type": "stream",
     "text": [
      "reference_text: anh có thể gọi tôi không\n",
      "predicted_text: anh có thể gọi tôi không?\n",
      "Processing: FPTOpenSpeechData_Set001_V0.1_000004.mp3\n"
     ]
    },
    {
     "name": "stderr",
     "output_type": "stream",
     "text": [
      "/home/ngo/anaconda3/lib/python3.12/site-packages/whisper/transcribe.py:126: UserWarning: FP16 is not supported on CPU; using FP32 instead\n",
      "  warnings.warn(\"FP16 is not supported on CPU; using FP32 instead\")\n"
     ]
    },
    {
     "name": "stdout",
     "output_type": "stream",
     "text": [
      "reference_text: có rất nhiều yếu tố may rủi ở đây\n",
      "predicted_text: có rất nhiều yếu tố main ở đây\n",
      "Processing: FPTOpenSpeechData_Set001_V0.1_000005.mp3\n"
     ]
    },
    {
     "name": "stderr",
     "output_type": "stream",
     "text": [
      "/home/ngo/anaconda3/lib/python3.12/site-packages/whisper/transcribe.py:126: UserWarning: FP16 is not supported on CPU; using FP32 instead\n",
      "  warnings.warn(\"FP16 is not supported on CPU; using FP32 instead\")\n"
     ]
    },
    {
     "name": "stdout",
     "output_type": "stream",
     "text": [
      "reference_text: ai là chúa nói dối\n",
      "predicted_text: ai lại chừa lấy dối?\n",
      "Processing: FPTOpenSpeechData_Set001_V0.1_000006.mp3\n"
     ]
    },
    {
     "name": "stderr",
     "output_type": "stream",
     "text": [
      "/home/ngo/anaconda3/lib/python3.12/site-packages/whisper/transcribe.py:126: UserWarning: FP16 is not supported on CPU; using FP32 instead\n",
      "  warnings.warn(\"FP16 is not supported on CPU; using FP32 instead\")\n"
     ]
    },
    {
     "name": "stdout",
     "output_type": "stream",
     "text": [
      "reference_text: có cửa hàng tiện lợi ở sân bay không\n",
      "predicted_text: cuốn tựa hàng triển lợi ở sân bay phong\n",
      "Processing: FPTOpenSpeechData_Set001_V0.1_000007.mp3\n"
     ]
    },
    {
     "name": "stderr",
     "output_type": "stream",
     "text": [
      "/home/ngo/anaconda3/lib/python3.12/site-packages/whisper/transcribe.py:126: UserWarning: FP16 is not supported on CPU; using FP32 instead\n",
      "  warnings.warn(\"FP16 is not supported on CPU; using FP32 instead\")\n"
     ]
    },
    {
     "name": "stdout",
     "output_type": "stream",
     "text": [
      "reference_text: anh đổi ngoại tệ được không\n",
      "predicted_text: anh đổi ngoại tệ được không?\n",
      "Processing: FPTOpenSpeechData_Set001_V0.1_000008.mp3\n"
     ]
    },
    {
     "name": "stderr",
     "output_type": "stream",
     "text": [
      "/home/ngo/anaconda3/lib/python3.12/site-packages/whisper/transcribe.py:126: UserWarning: FP16 is not supported on CPU; using FP32 instead\n",
      "  warnings.warn(\"FP16 is not supported on CPU; using FP32 instead\")\n"
     ]
    },
    {
     "name": "stdout",
     "output_type": "stream",
     "text": [
      "reference_text: cô ấy mua hai mươi trái chôm chôm và ba con cá\n",
      "predicted_text: cô ấy mua 2 mua cái tôm tôm và 3 con cá.\n",
      "Processing: FPTOpenSpeechData_Set001_V0.1_000009.mp3\n"
     ]
    },
    {
     "name": "stderr",
     "output_type": "stream",
     "text": [
      "/home/ngo/anaconda3/lib/python3.12/site-packages/whisper/transcribe.py:126: UserWarning: FP16 is not supported on CPU; using FP32 instead\n",
      "  warnings.warn(\"FP16 is not supported on CPU; using FP32 instead\")\n"
     ]
    },
    {
     "name": "stdout",
     "output_type": "stream",
     "text": [
      "reference_text: đứa bé có ói òng ọc ra sữa hoặc nước và bé chưa đến mười tuần tuổi hoặc có biểu hiện mất nước không\n",
      "predicted_text: đưa bé có có ông học ra sửa hoặc nước và bé chưa đến 10 tuổi hoặc có biểu hiện mất nữa không?\n",
      "Processing: FPTOpenSpeechData_Set001_V0.1_000010.mp3\n"
     ]
    },
    {
     "name": "stderr",
     "output_type": "stream",
     "text": [
      "/home/ngo/anaconda3/lib/python3.12/site-packages/whisper/transcribe.py:126: UserWarning: FP16 is not supported on CPU; using FP32 instead\n",
      "  warnings.warn(\"FP16 is not supported on CPU; using FP32 instead\")\n"
     ]
    },
    {
     "name": "stdout",
     "output_type": "stream",
     "text": [
      "reference_text: tôi có thể viết tên địa chỉ số điện thoại của công ty bảo hiểm của anh được không\n",
      "predicted_text: tôi có thể viết tên, địa chỉ, số điện thoại của công ty bảo hiểm của anh được không?\n",
      "Processing: FPTOpenSpeechData_Set001_V0.1_000011.mp3\n"
     ]
    },
    {
     "name": "stderr",
     "output_type": "stream",
     "text": [
      "/home/ngo/anaconda3/lib/python3.12/site-packages/whisper/transcribe.py:126: UserWarning: FP16 is not supported on CPU; using FP32 instead\n",
      "  warnings.warn(\"FP16 is not supported on CPU; using FP32 instead\")\n"
     ]
    },
    {
     "name": "stdout",
     "output_type": "stream",
     "text": [
      "reference_text: đừng lo tôi vừa mới đến rồi\n",
      "predicted_text: đừng lo, tôi vừa mới đến rồi\n",
      "Processing: FPTOpenSpeechData_Set001_V0.1_000012.mp3\n"
     ]
    },
    {
     "name": "stderr",
     "output_type": "stream",
     "text": [
      "/home/ngo/anaconda3/lib/python3.12/site-packages/whisper/transcribe.py:126: UserWarning: FP16 is not supported on CPU; using FP32 instead\n",
      "  warnings.warn(\"FP16 is not supported on CPU; using FP32 instead\")\n"
     ]
    },
    {
     "name": "stdout",
     "output_type": "stream",
     "text": [
      "reference_text: mười phút nữa vào giờ rưỡi\n",
      "predicted_text: 10 phút nữa vào giờ rưỡi\n",
      "Processing: FPTOpenSpeechData_Set001_V0.1_000013.mp3\n"
     ]
    },
    {
     "name": "stderr",
     "output_type": "stream",
     "text": [
      "/home/ngo/anaconda3/lib/python3.12/site-packages/whisper/transcribe.py:126: UserWarning: FP16 is not supported on CPU; using FP32 instead\n",
      "  warnings.warn(\"FP16 is not supported on CPU; using FP32 instead\")\n"
     ]
    },
    {
     "name": "stdout",
     "output_type": "stream",
     "text": [
      "reference_text: tôi có thể hẹn cho chiều mai không\n",
      "predicted_text: tôi có thể dạy cho chồng má không?\n",
      "Processing: FPTOpenSpeechData_Set001_V0.1_000014.mp3\n"
     ]
    },
    {
     "name": "stderr",
     "output_type": "stream",
     "text": [
      "/home/ngo/anaconda3/lib/python3.12/site-packages/whisper/transcribe.py:126: UserWarning: FP16 is not supported on CPU; using FP32 instead\n",
      "  warnings.warn(\"FP16 is not supported on CPU; using FP32 instead\")\n"
     ]
    },
    {
     "name": "stdout",
     "output_type": "stream",
     "text": [
      "reference_text: anh rửa hình kỹ thuật số ra được không\n",
      "predicted_text: anh dựa hình kỹ thuật số ra được không?\n",
      "Processing: FPTOpenSpeechData_Set001_V0.1_000015.mp3\n"
     ]
    },
    {
     "name": "stderr",
     "output_type": "stream",
     "text": [
      "/home/ngo/anaconda3/lib/python3.12/site-packages/whisper/transcribe.py:126: UserWarning: FP16 is not supported on CPU; using FP32 instead\n",
      "  warnings.warn(\"FP16 is not supported on CPU; using FP32 instead\")\n"
     ]
    },
    {
     "name": "stdout",
     "output_type": "stream",
     "text": [
      "reference_text: tôi cố thu xếp thôi\n",
      "predicted_text: đợt cố thông xét thôi\n",
      "Processing: FPTOpenSpeechData_Set001_V0.1_000016.mp3\n"
     ]
    },
    {
     "name": "stderr",
     "output_type": "stream",
     "text": [
      "/home/ngo/anaconda3/lib/python3.12/site-packages/whisper/transcribe.py:126: UserWarning: FP16 is not supported on CPU; using FP32 instead\n",
      "  warnings.warn(\"FP16 is not supported on CPU; using FP32 instead\")\n"
     ]
    },
    {
     "name": "stdout",
     "output_type": "stream",
     "text": [
      "reference_text: tôi không dùng ma túy\n",
      "predicted_text: tôi không dùng lá tủy\n",
      "Processing: FPTOpenSpeechData_Set001_V0.1_000017.mp3\n"
     ]
    },
    {
     "name": "stderr",
     "output_type": "stream",
     "text": [
      "/home/ngo/anaconda3/lib/python3.12/site-packages/whisper/transcribe.py:126: UserWarning: FP16 is not supported on CPU; using FP32 instead\n",
      "  warnings.warn(\"FP16 is not supported on CPU; using FP32 instead\")\n"
     ]
    },
    {
     "name": "stdout",
     "output_type": "stream",
     "text": [
      "reference_text: quân đội mỹ muốn chế tạo những máy tự động hoàn toàn vì những chiếc mà họ đang có vẫn cần được điều khiển bởi con người\n",
      "predicted_text: quân đội mỹ muốn chế tạo những máy tự động hoàn toàn vì những chiếc mà họ đang có vẫn cần được điều khiển bởi con người.\n",
      "Processing: FPTOpenSpeechData_Set001_V0.1_000018.mp3\n"
     ]
    },
    {
     "name": "stderr",
     "output_type": "stream",
     "text": [
      "/home/ngo/anaconda3/lib/python3.12/site-packages/whisper/transcribe.py:126: UserWarning: FP16 is not supported on CPU; using FP32 instead\n",
      "  warnings.warn(\"FP16 is not supported on CPU; using FP32 instead\")\n"
     ]
    },
    {
     "name": "stdout",
     "output_type": "stream",
     "text": [
      "reference_text: tôi quên túi đeo vai trong xe tắc xi\n",
      "predicted_text: tôi quên tụi đeo vai trong xe taxi\n",
      "Processing: FPTOpenSpeechData_Set001_V0.1_000019.mp3\n"
     ]
    },
    {
     "name": "stderr",
     "output_type": "stream",
     "text": [
      "/home/ngo/anaconda3/lib/python3.12/site-packages/whisper/transcribe.py:126: UserWarning: FP16 is not supported on CPU; using FP32 instead\n",
      "  warnings.warn(\"FP16 is not supported on CPU; using FP32 instead\")\n"
     ]
    },
    {
     "name": "stdout",
     "output_type": "stream",
     "text": [
      "reference_text: dư luận đã phản ánh lên cơ quan địa chính của thị trấn nhưng mãi chả thấy hồi âm\n",
      "predicted_text: dư luận đã phản ánh lên cơ quan địa chính của thị trấn nhưng mãi chả thấy hồi âm\n",
      "Processing: FPTOpenSpeechData_Set001_V0.1_000020.mp3\n"
     ]
    },
    {
     "name": "stderr",
     "output_type": "stream",
     "text": [
      "/home/ngo/anaconda3/lib/python3.12/site-packages/whisper/transcribe.py:126: UserWarning: FP16 is not supported on CPU; using FP32 instead\n",
      "  warnings.warn(\"FP16 is not supported on CPU; using FP32 instead\")\n"
     ]
    },
    {
     "name": "stdout",
     "output_type": "stream",
     "text": [
      "reference_text: giả danh làm từ thiện lừa tiền người dân\n",
      "predicted_text: giả danh làm từ thiện lùa tiền người dân\n",
      "Processing: FPTOpenSpeechData_Set001_V0.1_000021.mp3\n"
     ]
    },
    {
     "name": "stderr",
     "output_type": "stream",
     "text": [
      "/home/ngo/anaconda3/lib/python3.12/site-packages/whisper/transcribe.py:126: UserWarning: FP16 is not supported on CPU; using FP32 instead\n",
      "  warnings.warn(\"FP16 is not supported on CPU; using FP32 instead\")\n"
     ]
    },
    {
     "name": "stdout",
     "output_type": "stream",
     "text": [
      "reference_text: sắm đồ siêu sang ở hội chợ triệu phú\n",
      "predicted_text: sắp đồ siêu sáng ở hộp trợ triệu phú\n",
      "Processing: FPTOpenSpeechData_Set001_V0.1_000022.mp3\n"
     ]
    },
    {
     "name": "stderr",
     "output_type": "stream",
     "text": [
      "/home/ngo/anaconda3/lib/python3.12/site-packages/whisper/transcribe.py:126: UserWarning: FP16 is not supported on CPU; using FP32 instead\n",
      "  warnings.warn(\"FP16 is not supported on CPU; using FP32 instead\")\n"
     ]
    },
    {
     "name": "stdout",
     "output_type": "stream",
     "text": [
      "reference_text: nếu làm lộ thiên cơ âm binh sẽ đánh trả thầy\n",
      "predicted_text: nếu làm lộn thiên cơ âm binh sẽ đánh trả thầy\n",
      "Processing: FPTOpenSpeechData_Set001_V0.1_000023.mp3\n"
     ]
    },
    {
     "name": "stderr",
     "output_type": "stream",
     "text": [
      "/home/ngo/anaconda3/lib/python3.12/site-packages/whisper/transcribe.py:126: UserWarning: FP16 is not supported on CPU; using FP32 instead\n",
      "  warnings.warn(\"FP16 is not supported on CPU; using FP32 instead\")\n"
     ]
    },
    {
     "name": "stdout",
     "output_type": "stream",
     "text": [
      "reference_text: máy ném bom chiến lược của nga gặp nạn\n",
      "predicted_text: máy ném bom chiến lược của nga gặp lại\n",
      "Processing: FPTOpenSpeechData_Set001_V0.1_000024.mp3\n"
     ]
    },
    {
     "name": "stderr",
     "output_type": "stream",
     "text": [
      "/home/ngo/anaconda3/lib/python3.12/site-packages/whisper/transcribe.py:126: UserWarning: FP16 is not supported on CPU; using FP32 instead\n",
      "  warnings.warn(\"FP16 is not supported on CPU; using FP32 instead\")\n"
     ]
    },
    {
     "name": "stdout",
     "output_type": "stream",
     "text": [
      "reference_text: anh có thích tôi giữ trước quyển sách này cho anh không\n",
      "predicted_text: anh có thích tôi giữ trước quyển sách này cho anh không?\n",
      "Processing: FPTOpenSpeechData_Set001_V0.1_000025.mp3\n"
     ]
    },
    {
     "name": "stderr",
     "output_type": "stream",
     "text": [
      "/home/ngo/anaconda3/lib/python3.12/site-packages/whisper/transcribe.py:126: UserWarning: FP16 is not supported on CPU; using FP32 instead\n",
      "  warnings.warn(\"FP16 is not supported on CPU; using FP32 instead\")\n"
     ]
    },
    {
     "name": "stdout",
     "output_type": "stream",
     "text": [
      "reference_text: ở người bị hội chứng khi ăn ngủ phần não phải vẫn thức và sau đó là cả các dạng hoạt động thể chất\n",
      "predicted_text: ở người bị hội chứng khi ăn ngủ phần não phải vẫn thức và sau đó là cả các dạng hoạt động thể chất\n",
      "Processing: FPTOpenSpeechData_Set001_V0.1_000026.mp3\n"
     ]
    },
    {
     "name": "stderr",
     "output_type": "stream",
     "text": [
      "/home/ngo/anaconda3/lib/python3.12/site-packages/whisper/transcribe.py:126: UserWarning: FP16 is not supported on CPU; using FP32 instead\n",
      "  warnings.warn(\"FP16 is not supported on CPU; using FP32 instead\")\n"
     ]
    },
    {
     "name": "stdout",
     "output_type": "stream",
     "text": [
      "reference_text: tỉ lệ là mười mm trên một km\n",
      "predicted_text: tỷ lệ là 10mm trên 1km\n",
      "Processing: FPTOpenSpeechData_Set001_V0.1_000027.mp3\n"
     ]
    },
    {
     "name": "stderr",
     "output_type": "stream",
     "text": [
      "/home/ngo/anaconda3/lib/python3.12/site-packages/whisper/transcribe.py:126: UserWarning: FP16 is not supported on CPU; using FP32 instead\n",
      "  warnings.warn(\"FP16 is not supported on CPU; using FP32 instead\")\n"
     ]
    },
    {
     "name": "stdout",
     "output_type": "stream",
     "text": [
      "reference_text: tôi muốn thực hiện một cuộc gọi điện thoại quốc tế đi nhật bản cuộc gọi -n là đến tokyo số ba hai chín hai tám hai một một\n",
      "predicted_text: với mục thực hiện một cuộc gọi điện thoại quốc tế đi nhật bản, cuộc gọi điện thoại điện tokyo, số 32928211.\n",
      "Processing: FPTOpenSpeechData_Set001_V0.1_000028.mp3\n"
     ]
    },
    {
     "name": "stderr",
     "output_type": "stream",
     "text": [
      "/home/ngo/anaconda3/lib/python3.12/site-packages/whisper/transcribe.py:126: UserWarning: FP16 is not supported on CPU; using FP32 instead\n",
      "  warnings.warn(\"FP16 is not supported on CPU; using FP32 instead\")\n"
     ]
    },
    {
     "name": "stdout",
     "output_type": "stream",
     "text": [
      "reference_text: nơi đây hiện khá yên tĩnh\n",
      "predicted_text: lời đây hiện khả nhiệt tình\n",
      "Processing: FPTOpenSpeechData_Set001_V0.1_000029.mp3\n"
     ]
    },
    {
     "name": "stderr",
     "output_type": "stream",
     "text": [
      "/home/ngo/anaconda3/lib/python3.12/site-packages/whisper/transcribe.py:126: UserWarning: FP16 is not supported on CPU; using FP32 instead\n",
      "  warnings.warn(\"FP16 is not supported on CPU; using FP32 instead\")\n"
     ]
    },
    {
     "name": "stdout",
     "output_type": "stream",
     "text": [
      "reference_text: nhưng cũng có những bạn nằm khèo ở nhà trùm mềm và khóc nhè\n",
      "predicted_text: nhưng cũng có những bạn nằm khèo ở nhà trùm mền và khóc nhè.\n",
      "Processing: FPTOpenSpeechData_Set001_V0.1_000030.mp3\n"
     ]
    },
    {
     "name": "stderr",
     "output_type": "stream",
     "text": [
      "/home/ngo/anaconda3/lib/python3.12/site-packages/whisper/transcribe.py:126: UserWarning: FP16 is not supported on CPU; using FP32 instead\n",
      "  warnings.warn(\"FP16 is not supported on CPU; using FP32 instead\")\n"
     ]
    },
    {
     "name": "stdout",
     "output_type": "stream",
     "text": [
      "reference_text: chúng ta không thể mua cái nào ở nhật bản\n",
      "predicted_text: chúng ta không thể mua cái nào ở nhật bản.\n",
      "Processing: FPTOpenSpeechData_Set001_V0.1_000031.mp3\n"
     ]
    },
    {
     "name": "stderr",
     "output_type": "stream",
     "text": [
      "/home/ngo/anaconda3/lib/python3.12/site-packages/whisper/transcribe.py:126: UserWarning: FP16 is not supported on CPU; using FP32 instead\n",
      "  warnings.warn(\"FP16 is not supported on CPU; using FP32 instead\")\n"
     ]
    },
    {
     "name": "stdout",
     "output_type": "stream",
     "text": [
      "reference_text: cho vừa với số kinh phí hạn hẹp của một bộ phim\n",
      "predicted_text: cho vừa với số kiên phí hạn hẹp của một bộ phim.\n",
      "Processing: FPTOpenSpeechData_Set001_V0.1_000032.mp3\n"
     ]
    },
    {
     "name": "stderr",
     "output_type": "stream",
     "text": [
      "/home/ngo/anaconda3/lib/python3.12/site-packages/whisper/transcribe.py:126: UserWarning: FP16 is not supported on CPU; using FP32 instead\n",
      "  warnings.warn(\"FP16 is not supported on CPU; using FP32 instead\")\n"
     ]
    },
    {
     "name": "stdout",
     "output_type": "stream",
     "text": [
      "reference_text: kịch sến nhiều tập làm tôi oải quá tôi sẽ tắt tv\n",
      "predicted_text: kịch xến nhiều tập, làm tôi oãi quá. tôi sẽ tắt tivi.\n",
      "Processing: FPTOpenSpeechData_Set001_V0.1_000033.mp3\n"
     ]
    },
    {
     "name": "stderr",
     "output_type": "stream",
     "text": [
      "/home/ngo/anaconda3/lib/python3.12/site-packages/whisper/transcribe.py:126: UserWarning: FP16 is not supported on CPU; using FP32 instead\n",
      "  warnings.warn(\"FP16 is not supported on CPU; using FP32 instead\")\n"
     ]
    },
    {
     "name": "stdout",
     "output_type": "stream",
     "text": [
      "reference_text: chính vì thế những người phải sống một thời gian dài trong không gian có thể gặp rủi ro\n",
      "predicted_text: chính vì thế, những người phải sống một thời gian dài trong không gian có thể gặp tự do.\n",
      "Processing: FPTOpenSpeechData_Set001_V0.1_000034.mp3\n"
     ]
    },
    {
     "name": "stderr",
     "output_type": "stream",
     "text": [
      "/home/ngo/anaconda3/lib/python3.12/site-packages/whisper/transcribe.py:126: UserWarning: FP16 is not supported on CPU; using FP32 instead\n",
      "  warnings.warn(\"FP16 is not supported on CPU; using FP32 instead\")\n"
     ]
    },
    {
     "name": "stdout",
     "output_type": "stream",
     "text": [
      "reference_text: thực ra thà không đến nỗi mơ mộng đến mê muội để chẳng hiểu tấm lòng của những người thân thông qua lời khuyên nhủ\n",
      "predicted_text: thật ra thà không đến nỗi mơ mộng đến mê mùi để chẳng hiểu tâm lòng của những người thân thông qua lời thương ngữ\n",
      "Processing: FPTOpenSpeechData_Set001_V0.1_000035.mp3\n"
     ]
    },
    {
     "name": "stderr",
     "output_type": "stream",
     "text": [
      "/home/ngo/anaconda3/lib/python3.12/site-packages/whisper/transcribe.py:126: UserWarning: FP16 is not supported on CPU; using FP32 instead\n",
      "  warnings.warn(\"FP16 is not supported on CPU; using FP32 instead\")\n"
     ]
    },
    {
     "name": "stdout",
     "output_type": "stream",
     "text": [
      "reference_text: bán đấu giá mỹ nữ\n",
      "predicted_text: bản động giảm mỹ nữ\n",
      "Processing: FPTOpenSpeechData_Set001_V0.1_000036.mp3\n"
     ]
    },
    {
     "name": "stderr",
     "output_type": "stream",
     "text": [
      "/home/ngo/anaconda3/lib/python3.12/site-packages/whisper/transcribe.py:126: UserWarning: FP16 is not supported on CPU; using FP32 instead\n",
      "  warnings.warn(\"FP16 is not supported on CPU; using FP32 instead\")\n"
     ]
    },
    {
     "name": "stdout",
     "output_type": "stream",
     "text": [
      "reference_text: địa chỉ email của tôi là s t e f a n dot m a r t e n s \\r\\n @ gmx dot de\n",
      "predicted_text: địa chỉ email của tôi là stefan.martens.amog.gmx.de\n",
      "Processing: FPTOpenSpeechData_Set001_V0.1_000037.mp3\n"
     ]
    },
    {
     "name": "stderr",
     "output_type": "stream",
     "text": [
      "/home/ngo/anaconda3/lib/python3.12/site-packages/whisper/transcribe.py:126: UserWarning: FP16 is not supported on CPU; using FP32 instead\n",
      "  warnings.warn(\"FP16 is not supported on CPU; using FP32 instead\")\n"
     ]
    },
    {
     "name": "stdout",
     "output_type": "stream",
     "text": [
      "reference_text: hôm thứ năm ủy ban bầu cử thái lan cho rằng đảng của người thái yêu người thái đã phạm hai luật trong chiến dịch tranh cử vừa qua\n",
      "predicted_text: thứ 5, ủy ban bầu cử thái lan cho rằng đảng của người thái yêu người thái đã phạm 2 luật trong chiến dịch tranh cử vừa qua.\n",
      "Processing: FPTOpenSpeechData_Set001_V0.1_000038.mp3\n"
     ]
    },
    {
     "name": "stderr",
     "output_type": "stream",
     "text": [
      "/home/ngo/anaconda3/lib/python3.12/site-packages/whisper/transcribe.py:126: UserWarning: FP16 is not supported on CPU; using FP32 instead\n",
      "  warnings.warn(\"FP16 is not supported on CPU; using FP32 instead\")\n"
     ]
    },
    {
     "name": "stdout",
     "output_type": "stream",
     "text": [
      "reference_text: không thể xem lần vấp ngã ấy là tai\n",
      "predicted_text: công thế xem lòng bắc nha anh lạc thành\n",
      "Processing: FPTOpenSpeechData_Set001_V0.1_000039.mp3\n"
     ]
    },
    {
     "name": "stderr",
     "output_type": "stream",
     "text": [
      "/home/ngo/anaconda3/lib/python3.12/site-packages/whisper/transcribe.py:126: UserWarning: FP16 is not supported on CPU; using FP32 instead\n",
      "  warnings.warn(\"FP16 is not supported on CPU; using FP32 instead\")\n"
     ]
    },
    {
     "name": "stdout",
     "output_type": "stream",
     "text": [
      "reference_text: cướp bóc trong khi hỏa hoạn\n",
      "predicted_text: trước 500kg hỏa hoạt\n",
      "Processing: FPTOpenSpeechData_Set001_V0.1_000040.mp3\n"
     ]
    },
    {
     "name": "stderr",
     "output_type": "stream",
     "text": [
      "/home/ngo/anaconda3/lib/python3.12/site-packages/whisper/transcribe.py:126: UserWarning: FP16 is not supported on CPU; using FP32 instead\n",
      "  warnings.warn(\"FP16 is not supported on CPU; using FP32 instead\")\n"
     ]
    },
    {
     "name": "stdout",
     "output_type": "stream",
     "text": [
      "reference_text: một dân tộc từng không có người từ á sang âu -n\n",
      "predicted_text: một dân tộc chung với bọn người dưới ả sân hội sẽ thích.\n",
      "Processing: FPTOpenSpeechData_Set001_V0.1_000041.mp3\n"
     ]
    },
    {
     "name": "stderr",
     "output_type": "stream",
     "text": [
      "/home/ngo/anaconda3/lib/python3.12/site-packages/whisper/transcribe.py:126: UserWarning: FP16 is not supported on CPU; using FP32 instead\n",
      "  warnings.warn(\"FP16 is not supported on CPU; using FP32 instead\")\n"
     ]
    },
    {
     "name": "stdout",
     "output_type": "stream",
     "text": [
      "reference_text: tết đầu tiên xa việt nam của cháu quả là ý nghĩa\n",
      "predicted_text: tết đầu tiên xa việt nam của cháu quả là ý nghĩa\n",
      "Processing: FPTOpenSpeechData_Set001_V0.1_000042.mp3\n"
     ]
    },
    {
     "name": "stderr",
     "output_type": "stream",
     "text": [
      "/home/ngo/anaconda3/lib/python3.12/site-packages/whisper/transcribe.py:126: UserWarning: FP16 is not supported on CPU; using FP32 instead\n",
      "  warnings.warn(\"FP16 is not supported on CPU; using FP32 instead\")\n"
     ]
    },
    {
     "name": "stdout",
     "output_type": "stream",
     "text": [
      "reference_text: trong làng ai cũng quý mến gia đình anh phú\n",
      "predicted_text: trong làng ai cũng quý mến gia đình anh phú\n",
      "Processing: FPTOpenSpeechData_Set001_V0.1_000043.mp3\n"
     ]
    },
    {
     "name": "stderr",
     "output_type": "stream",
     "text": [
      "/home/ngo/anaconda3/lib/python3.12/site-packages/whisper/transcribe.py:126: UserWarning: FP16 is not supported on CPU; using FP32 instead\n",
      "  warnings.warn(\"FP16 is not supported on CPU; using FP32 instead\")\n"
     ]
    },
    {
     "name": "stdout",
     "output_type": "stream",
     "text": [
      "reference_text: xin chào gia đình tanaka\n",
      "predicted_text: xin chào, chào tạm biệt\n",
      "Processing: FPTOpenSpeechData_Set001_V0.1_000044.mp3\n"
     ]
    },
    {
     "name": "stderr",
     "output_type": "stream",
     "text": [
      "/home/ngo/anaconda3/lib/python3.12/site-packages/whisper/transcribe.py:126: UserWarning: FP16 is not supported on CPU; using FP32 instead\n",
      "  warnings.warn(\"FP16 is not supported on CPU; using FP32 instead\")\n"
     ]
    },
    {
     "name": "stdout",
     "output_type": "stream",
     "text": [
      "reference_text: anh đã làm rất tệ\n",
      "predicted_text: anh đã làm rất tệ.\n",
      "Processing: FPTOpenSpeechData_Set001_V0.1_000045.mp3\n"
     ]
    },
    {
     "name": "stderr",
     "output_type": "stream",
     "text": [
      "/home/ngo/anaconda3/lib/python3.12/site-packages/whisper/transcribe.py:126: UserWarning: FP16 is not supported on CPU; using FP32 instead\n",
      "  warnings.warn(\"FP16 is not supported on CPU; using FP32 instead\")\n"
     ]
    },
    {
     "name": "stdout",
     "output_type": "stream",
     "text": [
      "reference_text: cô ta nghi ngờ lúc mình say rượu đã bị toán cưỡng bức\n",
      "predicted_text: cảm ơn các bạn đã theo dõi và hẹn gặp lại.\n",
      "Processing: FPTOpenSpeechData_Set001_V0.1_000046.mp3\n"
     ]
    },
    {
     "name": "stderr",
     "output_type": "stream",
     "text": [
      "/home/ngo/anaconda3/lib/python3.12/site-packages/whisper/transcribe.py:126: UserWarning: FP16 is not supported on CPU; using FP32 instead\n",
      "  warnings.warn(\"FP16 is not supported on CPU; using FP32 instead\")\n"
     ]
    },
    {
     "name": "stdout",
     "output_type": "stream",
     "text": [
      "reference_text: ông muốn nhãn hiệu bia nào\n",
      "predicted_text: không có nhãn hiệu bia nào\n",
      "Processing: FPTOpenSpeechData_Set001_V0.1_000047.mp3\n"
     ]
    },
    {
     "name": "stderr",
     "output_type": "stream",
     "text": [
      "/home/ngo/anaconda3/lib/python3.12/site-packages/whisper/transcribe.py:126: UserWarning: FP16 is not supported on CPU; using FP32 instead\n",
      "  warnings.warn(\"FP16 is not supported on CPU; using FP32 instead\")\n"
     ]
    },
    {
     "name": "stdout",
     "output_type": "stream",
     "text": [
      "reference_text: anh có dừng tại khách sạn begin không\n",
      "predicted_text: anh có dừng tại khách sạn bikin không?\n",
      "Processing: FPTOpenSpeechData_Set001_V0.1_000048.mp3\n"
     ]
    },
    {
     "name": "stderr",
     "output_type": "stream",
     "text": [
      "/home/ngo/anaconda3/lib/python3.12/site-packages/whisper/transcribe.py:126: UserWarning: FP16 is not supported on CPU; using FP32 instead\n",
      "  warnings.warn(\"FP16 is not supported on CPU; using FP32 instead\")\n"
     ]
    },
    {
     "name": "stdout",
     "output_type": "stream",
     "text": [
      "reference_text: bật điều hòa nhiệt độ\n",
      "predicted_text: bật điện hòa nhiệt độ\n",
      "Processing: FPTOpenSpeechData_Set001_V0.1_000049.mp3\n"
     ]
    },
    {
     "name": "stderr",
     "output_type": "stream",
     "text": [
      "/home/ngo/anaconda3/lib/python3.12/site-packages/whisper/transcribe.py:126: UserWarning: FP16 is not supported on CPU; using FP32 instead\n",
      "  warnings.warn(\"FP16 is not supported on CPU; using FP32 instead\")\n"
     ]
    },
    {
     "name": "stdout",
     "output_type": "stream",
     "text": [
      "reference_text: nhiều chàng trai để ý và theo dõi bạn\n",
      "predicted_text: nhiều chàng trai để ý và theo dõi bà.\n",
      "Processing: FPTOpenSpeechData_Set001_V0.1_000050.mp3\n"
     ]
    },
    {
     "name": "stderr",
     "output_type": "stream",
     "text": [
      "/home/ngo/anaconda3/lib/python3.12/site-packages/whisper/transcribe.py:126: UserWarning: FP16 is not supported on CPU; using FP32 instead\n",
      "  warnings.warn(\"FP16 is not supported on CPU; using FP32 instead\")\n"
     ]
    },
    {
     "name": "stdout",
     "output_type": "stream",
     "text": [
      "reference_text: chúng ta hãy tung một đồng tiền để quyết định\n",
      "predicted_text: chúng ta hãy giúp một ông tiên đề quyền tình\n",
      "Processing: FPTOpenSpeechData_Set001_V0.1_000051.mp3\n"
     ]
    },
    {
     "name": "stderr",
     "output_type": "stream",
     "text": [
      "/home/ngo/anaconda3/lib/python3.12/site-packages/whisper/transcribe.py:126: UserWarning: FP16 is not supported on CPU; using FP32 instead\n",
      "  warnings.warn(\"FP16 is not supported on CPU; using FP32 instead\")\n"
     ]
    },
    {
     "name": "stdout",
     "output_type": "stream",
     "text": [
      "reference_text: tôi nghe đĩa cd này được không\n",
      "predicted_text: tôi nghe địa chi này được không?\n",
      "Processing: FPTOpenSpeechData_Set001_V0.1_000052.mp3\n"
     ]
    },
    {
     "name": "stderr",
     "output_type": "stream",
     "text": [
      "/home/ngo/anaconda3/lib/python3.12/site-packages/whisper/transcribe.py:126: UserWarning: FP16 is not supported on CPU; using FP32 instead\n",
      "  warnings.warn(\"FP16 is not supported on CPU; using FP32 instead\")\n"
     ]
    },
    {
     "name": "stdout",
     "output_type": "stream",
     "text": [
      "reference_text: nguyễn văn vũ vừa tử nạn vì hỗ trợ đuổi bắt tội phạm ngày mười ba tháng một công an xã cẩm trạch huyện cần cẩu cho biết một người lái xe khách hai bảy tuổi đã tử nạn khi giúp một phụ nữ bị bảy tên khống chế cướp tài sản\n",
      "predicted_text: nguyễn văn vũ vừa tử lạng vì hỗ trợ đuổi bắt tội phạm. ngày 13 tháng 1, công an xã cẩm trạch, huyện cần cầu cho biết một người lái xe khách 27 tuổi đã tử lạng khi giúp một phụ nữ bị bệnh tên phong chế cướp tài sản.\n",
      "Processing: FPTOpenSpeechData_Set001_V0.1_000053.mp3\n"
     ]
    },
    {
     "name": "stderr",
     "output_type": "stream",
     "text": [
      "/home/ngo/anaconda3/lib/python3.12/site-packages/whisper/transcribe.py:126: UserWarning: FP16 is not supported on CPU; using FP32 instead\n",
      "  warnings.warn(\"FP16 is not supported on CPU; using FP32 instead\")\n"
     ]
    },
    {
     "name": "stdout",
     "output_type": "stream",
     "text": [
      "reference_text: hai con voi này rất hung dữ và phá nát nhiều hoa màu của người dân trong khu vực\n",
      "predicted_text: hai con voi này rất hung dữ và phá nát nhiều hoa màu của người dân trong khu vực.\n",
      "Processing: FPTOpenSpeechData_Set001_V0.1_000054.mp3\n"
     ]
    },
    {
     "name": "stderr",
     "output_type": "stream",
     "text": [
      "/home/ngo/anaconda3/lib/python3.12/site-packages/whisper/transcribe.py:126: UserWarning: FP16 is not supported on CPU; using FP32 instead\n",
      "  warnings.warn(\"FP16 is not supported on CPU; using FP32 instead\")\n"
     ]
    },
    {
     "name": "stdout",
     "output_type": "stream",
     "text": [
      "reference_text: anh có bị đau do mệt mỏi không\n",
      "predicted_text: anh có bị đau dâu mệt mỏi không?\n",
      "Processing: FPTOpenSpeechData_Set001_V0.1_000055.mp3\n"
     ]
    },
    {
     "name": "stderr",
     "output_type": "stream",
     "text": [
      "/home/ngo/anaconda3/lib/python3.12/site-packages/whisper/transcribe.py:126: UserWarning: FP16 is not supported on CPU; using FP32 instead\n",
      "  warnings.warn(\"FP16 is not supported on CPU; using FP32 instead\")\n"
     ]
    },
    {
     "name": "stdout",
     "output_type": "stream",
     "text": [
      "reference_text: bạn có muốn tôi dịch cái này cho bạn không tôi nói tiếng nhật\n",
      "predicted_text: bạn có muốn tôi dịch cạnh này cho bạn không? tôi đã tự nhật\n",
      "Processing: FPTOpenSpeechData_Set001_V0.1_000056.mp3\n"
     ]
    },
    {
     "name": "stderr",
     "output_type": "stream",
     "text": [
      "/home/ngo/anaconda3/lib/python3.12/site-packages/whisper/transcribe.py:126: UserWarning: FP16 is not supported on CPU; using FP32 instead\n",
      "  warnings.warn(\"FP16 is not supported on CPU; using FP32 instead\")\n"
     ]
    },
    {
     "name": "stdout",
     "output_type": "stream",
     "text": [
      "reference_text: vâng giá sẽ là ba trăm yên\n",
      "predicted_text: răng giá sẽ là 300 yên\n",
      "Processing: FPTOpenSpeechData_Set001_V0.1_000057.mp3\n"
     ]
    },
    {
     "name": "stderr",
     "output_type": "stream",
     "text": [
      "/home/ngo/anaconda3/lib/python3.12/site-packages/whisper/transcribe.py:126: UserWarning: FP16 is not supported on CPU; using FP32 instead\n",
      "  warnings.warn(\"FP16 is not supported on CPU; using FP32 instead\")\n"
     ]
    },
    {
     "name": "stdout",
     "output_type": "stream",
     "text": [
      "reference_text: và như thế những điều tốt đẹp\n",
      "predicted_text: và như thế những điều tốt đẹp\n",
      "Processing: FPTOpenSpeechData_Set001_V0.1_000058.mp3\n"
     ]
    },
    {
     "name": "stderr",
     "output_type": "stream",
     "text": [
      "/home/ngo/anaconda3/lib/python3.12/site-packages/whisper/transcribe.py:126: UserWarning: FP16 is not supported on CPU; using FP32 instead\n",
      "  warnings.warn(\"FP16 is not supported on CPU; using FP32 instead\")\n"
     ]
    },
    {
     "name": "stdout",
     "output_type": "stream",
     "text": [
      "reference_text: tăng nhiệt độ lên hai mươi mốt độ\n",
      "predicted_text: tăng nhiệt độ lên 21 độ\n",
      "Processing: FPTOpenSpeechData_Set001_V0.1_000059.mp3\n"
     ]
    },
    {
     "name": "stderr",
     "output_type": "stream",
     "text": [
      "/home/ngo/anaconda3/lib/python3.12/site-packages/whisper/transcribe.py:126: UserWarning: FP16 is not supported on CPU; using FP32 instead\n",
      "  warnings.warn(\"FP16 is not supported on CPU; using FP32 instead\")\n"
     ]
    },
    {
     "name": "stdout",
     "output_type": "stream",
     "text": [
      "reference_text: -n ở sheraton\n",
      "predicted_text: \n",
      "Processing: FPTOpenSpeechData_Set001_V0.1_000060.mp3\n"
     ]
    },
    {
     "name": "stderr",
     "output_type": "stream",
     "text": [
      "/home/ngo/anaconda3/lib/python3.12/site-packages/whisper/transcribe.py:126: UserWarning: FP16 is not supported on CPU; using FP32 instead\n",
      "  warnings.warn(\"FP16 is not supported on CPU; using FP32 instead\")\n"
     ]
    },
    {
     "name": "stdout",
     "output_type": "stream",
     "text": [
      "reference_text: tốt hơn là tôi nên đi bây giờ\n",
      "predicted_text: tốt hơn là tôi nên đi đi rồi\n",
      "Processing: FPTOpenSpeechData_Set001_V0.1_000061.mp3\n"
     ]
    },
    {
     "name": "stderr",
     "output_type": "stream",
     "text": [
      "/home/ngo/anaconda3/lib/python3.12/site-packages/whisper/transcribe.py:126: UserWarning: FP16 is not supported on CPU; using FP32 instead\n",
      "  warnings.warn(\"FP16 is not supported on CPU; using FP32 instead\")\n"
     ]
    },
    {
     "name": "stdout",
     "output_type": "stream",
     "text": [
      "reference_text: kỳ tích có thể để lại quyền lực bởi một nhà độc tài dầu mỏ nhưng cũng có thể giúp thể chế hóa những phong trào chống mỹ diễn ra tại khu vực trung đông\n",
      "predicted_text: kỳ tích có thể để lại quyền lực bởi một nhà độc tài giàu mọ, nhưng cũng có thể giúp thể chế hóa những thông trào chấn mỹ diễn ra tại khu vực trung đông.\n",
      "Processing: FPTOpenSpeechData_Set001_V0.1_000062.mp3\n"
     ]
    },
    {
     "name": "stderr",
     "output_type": "stream",
     "text": [
      "/home/ngo/anaconda3/lib/python3.12/site-packages/whisper/transcribe.py:126: UserWarning: FP16 is not supported on CPU; using FP32 instead\n",
      "  warnings.warn(\"FP16 is not supported on CPU; using FP32 instead\")\n"
     ]
    },
    {
     "name": "stdout",
     "output_type": "stream",
     "text": [
      "reference_text: lãnh đạo ngành ô tô mỹ nên từ chức\n",
      "predicted_text: lãnh đạo ngạch ô tô mỹ nên từ chức\n",
      "Processing: FPTOpenSpeechData_Set001_V0.1_000063.mp3\n"
     ]
    },
    {
     "name": "stderr",
     "output_type": "stream",
     "text": [
      "/home/ngo/anaconda3/lib/python3.12/site-packages/whisper/transcribe.py:126: UserWarning: FP16 is not supported on CPU; using FP32 instead\n",
      "  warnings.warn(\"FP16 is not supported on CPU; using FP32 instead\")\n"
     ]
    },
    {
     "name": "stdout",
     "output_type": "stream",
     "text": [
      "reference_text: cô ấy biết\n",
      "predicted_text: cô ấy biết\n",
      "Processing: FPTOpenSpeechData_Set001_V0.1_000064.mp3\n"
     ]
    },
    {
     "name": "stderr",
     "output_type": "stream",
     "text": [
      "/home/ngo/anaconda3/lib/python3.12/site-packages/whisper/transcribe.py:126: UserWarning: FP16 is not supported on CPU; using FP32 instead\n",
      "  warnings.warn(\"FP16 is not supported on CPU; using FP32 instead\")\n"
     ]
    },
    {
     "name": "stdout",
     "output_type": "stream",
     "text": [
      "reference_text: từng sợi thương li ti kết lại\n",
      "predicted_text: từng sợi thương ly ti kết lại\n",
      "Processing: FPTOpenSpeechData_Set001_V0.1_000065.mp3\n"
     ]
    },
    {
     "name": "stderr",
     "output_type": "stream",
     "text": [
      "/home/ngo/anaconda3/lib/python3.12/site-packages/whisper/transcribe.py:126: UserWarning: FP16 is not supported on CPU; using FP32 instead\n",
      "  warnings.warn(\"FP16 is not supported on CPU; using FP32 instead\")\n"
     ]
    },
    {
     "name": "stdout",
     "output_type": "stream",
     "text": [
      "reference_text: mồ hôi là một trong những phương tiện để cơ thể thải cặn bã ra ngoài\n",
      "predicted_text: mồ hôi là một trong những phương tiện để cơ thể thảy cặn bã ra ngoài.\n",
      "Processing: FPTOpenSpeechData_Set001_V0.1_000066.mp3\n"
     ]
    },
    {
     "name": "stderr",
     "output_type": "stream",
     "text": [
      "/home/ngo/anaconda3/lib/python3.12/site-packages/whisper/transcribe.py:126: UserWarning: FP16 is not supported on CPU; using FP32 instead\n",
      "  warnings.warn(\"FP16 is not supported on CPU; using FP32 instead\")\n"
     ]
    },
    {
     "name": "stdout",
     "output_type": "stream",
     "text": [
      "reference_text: ti vi k+ một\n",
      "predicted_text: tvk cộng 1\n",
      "Processing: FPTOpenSpeechData_Set001_V0.1_000067.mp3\n"
     ]
    },
    {
     "name": "stderr",
     "output_type": "stream",
     "text": [
      "/home/ngo/anaconda3/lib/python3.12/site-packages/whisper/transcribe.py:126: UserWarning: FP16 is not supported on CPU; using FP32 instead\n",
      "  warnings.warn(\"FP16 is not supported on CPU; using FP32 instead\")\n"
     ]
    },
    {
     "name": "stdout",
     "output_type": "stream",
     "text": [
      "reference_text: hiện nay mỗi khi chào hàng các lò rang hạt dưa như tứ hưng duy ký thiên hương\n",
      "predicted_text: hiện nay mỗi khi chào hàng các lò rang hạt dưa như tứ, như thân, duy ký thiên hương\n",
      "Processing: FPTOpenSpeechData_Set001_V0.1_000068.mp3\n"
     ]
    },
    {
     "name": "stderr",
     "output_type": "stream",
     "text": [
      "/home/ngo/anaconda3/lib/python3.12/site-packages/whisper/transcribe.py:126: UserWarning: FP16 is not supported on CPU; using FP32 instead\n",
      "  warnings.warn(\"FP16 is not supported on CPU; using FP32 instead\")\n"
     ]
    },
    {
     "name": "stdout",
     "output_type": "stream",
     "text": [
      "reference_text: vì không biết nhìn xa trông rộng và vì niềm tin sắt đá rằng rồi mọi việc sẽ êm xuôi\n",
      "predicted_text: vì không biết nhìn ra trống rộng và vì niềm tin rất là ràng tôi hoặc việc sẽ yên xuôi\n",
      "Processing: FPTOpenSpeechData_Set001_V0.1_000069.mp3\n"
     ]
    },
    {
     "name": "stderr",
     "output_type": "stream",
     "text": [
      "/home/ngo/anaconda3/lib/python3.12/site-packages/whisper/transcribe.py:126: UserWarning: FP16 is not supported on CPU; using FP32 instead\n",
      "  warnings.warn(\"FP16 is not supported on CPU; using FP32 instead\")\n"
     ]
    },
    {
     "name": "stdout",
     "output_type": "stream",
     "text": [
      "reference_text: nhờ có chúa\n",
      "predicted_text: nhờ cậu chúa\n",
      "Processing: FPTOpenSpeechData_Set001_V0.1_000070.mp3\n"
     ]
    },
    {
     "name": "stderr",
     "output_type": "stream",
     "text": [
      "/home/ngo/anaconda3/lib/python3.12/site-packages/whisper/transcribe.py:126: UserWarning: FP16 is not supported on CPU; using FP32 instead\n",
      "  warnings.warn(\"FP16 is not supported on CPU; using FP32 instead\")\n"
     ]
    },
    {
     "name": "stdout",
     "output_type": "stream",
     "text": [
      "reference_text: xe chú rể lăn xuống vực sau tiệc cưới\n",
      "predicted_text: xe dễ nắm bực trong tiệc cưới\n",
      "Processing: FPTOpenSpeechData_Set001_V0.1_000071.mp3\n"
     ]
    },
    {
     "name": "stderr",
     "output_type": "stream",
     "text": [
      "/home/ngo/anaconda3/lib/python3.12/site-packages/whisper/transcribe.py:126: UserWarning: FP16 is not supported on CPU; using FP32 instead\n",
      "  warnings.warn(\"FP16 is not supported on CPU; using FP32 instead\")\n"
     ]
    },
    {
     "name": "stdout",
     "output_type": "stream",
     "text": [
      "reference_text: rồi anh đi một chuyến đến khu vực vỉa san hô và thăm viện bảo tàng úc anh có thể tìm hiểu nhiều về nước úc anh cũng có thể có một món quà đẹp tại cảng darling nếu anh muốn mua vài đồ lưu niệm có rất nhiều đồ vật và phụ kiện anh có thể muốn mua\n",
      "predicted_text: rồi anh đi một chuyến đến khu vực vỉa san hô và thăm viện bảo tàng úc anh có thể tìm hiểu nhiều về nước úc anh cũng có thể có một món quà đẹp tài tàng tai linh nếu anh muốn mua vài đồ lưu niệm có rất nhiều đồ vật và phụ kiện anh có thể muốn mua\n",
      "Processing: FPTOpenSpeechData_Set001_V0.1_000072.mp3\n"
     ]
    },
    {
     "name": "stderr",
     "output_type": "stream",
     "text": [
      "/home/ngo/anaconda3/lib/python3.12/site-packages/whisper/transcribe.py:126: UserWarning: FP16 is not supported on CPU; using FP32 instead\n",
      "  warnings.warn(\"FP16 is not supported on CPU; using FP32 instead\")\n"
     ]
    },
    {
     "name": "stdout",
     "output_type": "stream",
     "text": [
      "reference_text: đó là chưa kể các thủ đoạn chính trị xã hội khác\n",
      "predicted_text: đó là chưa kể các thủ đoạn chính trị xã hội khác\n",
      "Processing: FPTOpenSpeechData_Set001_V0.1_000073.mp3\n"
     ]
    },
    {
     "name": "stderr",
     "output_type": "stream",
     "text": [
      "/home/ngo/anaconda3/lib/python3.12/site-packages/whisper/transcribe.py:126: UserWarning: FP16 is not supported on CPU; using FP32 instead\n",
      "  warnings.warn(\"FP16 is not supported on CPU; using FP32 instead\")\n"
     ]
    },
    {
     "name": "stdout",
     "output_type": "stream",
     "text": [
      "reference_text: tôi có vẽ một chút\n",
      "predicted_text: tôi có vẻ một chút\n",
      "Processing: FPTOpenSpeechData_Set001_V0.1_000074.mp3\n"
     ]
    },
    {
     "name": "stderr",
     "output_type": "stream",
     "text": [
      "/home/ngo/anaconda3/lib/python3.12/site-packages/whisper/transcribe.py:126: UserWarning: FP16 is not supported on CPU; using FP32 instead\n",
      "  warnings.warn(\"FP16 is not supported on CPU; using FP32 instead\")\n"
     ]
    },
    {
     "name": "stdout",
     "output_type": "stream",
     "text": [
      "reference_text: cho tôi mẫu thử được không\n",
      "predicted_text: cho tối màu thơ ưu đã khám.\n",
      "Processing: FPTOpenSpeechData_Set001_V0.1_000075.mp3\n"
     ]
    },
    {
     "name": "stderr",
     "output_type": "stream",
     "text": [
      "/home/ngo/anaconda3/lib/python3.12/site-packages/whisper/transcribe.py:126: UserWarning: FP16 is not supported on CPU; using FP32 instead\n",
      "  warnings.warn(\"FP16 is not supported on CPU; using FP32 instead\")\n"
     ]
    },
    {
     "name": "stdout",
     "output_type": "stream",
     "text": [
      "reference_text: tôi có ba con gái\n",
      "predicted_text: tôi có 3 con gái\n",
      "Processing: FPTOpenSpeechData_Set001_V0.1_000076.mp3\n"
     ]
    },
    {
     "name": "stderr",
     "output_type": "stream",
     "text": [
      "/home/ngo/anaconda3/lib/python3.12/site-packages/whisper/transcribe.py:126: UserWarning: FP16 is not supported on CPU; using FP32 instead\n",
      "  warnings.warn(\"FP16 is not supported on CPU; using FP32 instead\")\n"
     ]
    },
    {
     "name": "stdout",
     "output_type": "stream",
     "text": [
      "reference_text: tôi sẽ ở lại đây\n",
      "predicted_text: tôi sẽ ở lại đây\n",
      "Processing: FPTOpenSpeechData_Set001_V0.1_000077.mp3\n"
     ]
    },
    {
     "name": "stderr",
     "output_type": "stream",
     "text": [
      "/home/ngo/anaconda3/lib/python3.12/site-packages/whisper/transcribe.py:126: UserWarning: FP16 is not supported on CPU; using FP32 instead\n",
      "  warnings.warn(\"FP16 is not supported on CPU; using FP32 instead\")\n"
     ]
    },
    {
     "name": "stdout",
     "output_type": "stream",
     "text": [
      "reference_text: người ta cho rằng số khúc gỗ ở dưới đáy bị dính nước bẩn ít thì kỳ kinh sẽ ngắn\n",
      "predicted_text: người ta cho rằng số khu vụ ở dưới này bị chính nước bắn ít thì kỳ kinh chuyện ấy.\n",
      "Processing: FPTOpenSpeechData_Set001_V0.1_000078.mp3\n"
     ]
    },
    {
     "name": "stderr",
     "output_type": "stream",
     "text": [
      "/home/ngo/anaconda3/lib/python3.12/site-packages/whisper/transcribe.py:126: UserWarning: FP16 is not supported on CPU; using FP32 instead\n",
      "  warnings.warn(\"FP16 is not supported on CPU; using FP32 instead\")\n"
     ]
    },
    {
     "name": "stdout",
     "output_type": "stream",
     "text": [
      "reference_text: không một nơi nào lãng mạn và thơ mộng hơn những khu hồ hoang\n",
      "predicted_text: không một nơi nào lãng mạn và thơ mộng hơn những khu hồ hoang.\n",
      "Processing: FPTOpenSpeechData_Set001_V0.1_000079.mp3\n"
     ]
    },
    {
     "name": "stderr",
     "output_type": "stream",
     "text": [
      "/home/ngo/anaconda3/lib/python3.12/site-packages/whisper/transcribe.py:126: UserWarning: FP16 is not supported on CPU; using FP32 instead\n",
      "  warnings.warn(\"FP16 is not supported on CPU; using FP32 instead\")\n"
     ]
    },
    {
     "name": "stdout",
     "output_type": "stream",
     "text": [
      "reference_text: bị hại kháng cáo vì cho rằng các cơ quan tố tụng ở huyện hương khê bỏ lọt người sót tội\n",
      "predicted_text: bị hại kháng cáo vì cho rằng các cơ quan tố tục ở huyện thương khê bỏ lọt người sát tội.\n",
      "Processing: FPTOpenSpeechData_Set001_V0.1_000080.mp3\n"
     ]
    },
    {
     "name": "stderr",
     "output_type": "stream",
     "text": [
      "/home/ngo/anaconda3/lib/python3.12/site-packages/whisper/transcribe.py:126: UserWarning: FP16 is not supported on CPU; using FP32 instead\n",
      "  warnings.warn(\"FP16 is not supported on CPU; using FP32 instead\")\n"
     ]
    },
    {
     "name": "stdout",
     "output_type": "stream",
     "text": [
      "reference_text: cuối cùng họ sẽ phải gõ cửa nhờ ông ấy\n",
      "predicted_text: cuối cùng họ sẽ phải góp cường đi với nó mới.\n",
      "Processing: FPTOpenSpeechData_Set001_V0.1_000081.mp3\n"
     ]
    },
    {
     "name": "stderr",
     "output_type": "stream",
     "text": [
      "/home/ngo/anaconda3/lib/python3.12/site-packages/whisper/transcribe.py:126: UserWarning: FP16 is not supported on CPU; using FP32 instead\n",
      "  warnings.warn(\"FP16 is not supported on CPU; using FP32 instead\")\n"
     ]
    },
    {
     "name": "stdout",
     "output_type": "stream",
     "text": [
      "reference_text: cái giá của một anh hùng\n",
      "predicted_text: trái giá của một anh hùng\n",
      "Processing: FPTOpenSpeechData_Set001_V0.1_000082.mp3\n"
     ]
    },
    {
     "name": "stderr",
     "output_type": "stream",
     "text": [
      "/home/ngo/anaconda3/lib/python3.12/site-packages/whisper/transcribe.py:126: UserWarning: FP16 is not supported on CPU; using FP32 instead\n",
      "  warnings.warn(\"FP16 is not supported on CPU; using FP32 instead\")\n"
     ]
    },
    {
     "name": "stdout",
     "output_type": "stream",
     "text": [
      "reference_text: bản sao tấm séc khoản tiền vợ chồng nguyễn nhận được\n",
      "predicted_text: bạn sao tấn sát khoản tiền vợ chồng nguyễn nhận lượng?\n",
      "Processing: FPTOpenSpeechData_Set001_V0.1_000083.mp3\n"
     ]
    },
    {
     "name": "stderr",
     "output_type": "stream",
     "text": [
      "/home/ngo/anaconda3/lib/python3.12/site-packages/whisper/transcribe.py:126: UserWarning: FP16 is not supported on CPU; using FP32 instead\n",
      "  warnings.warn(\"FP16 is not supported on CPU; using FP32 instead\")\n"
     ]
    },
    {
     "name": "stdout",
     "output_type": "stream",
     "text": [
      "reference_text: nhằm thu hút thêm nhiều nhà đầu tư\n",
      "predicted_text: nhằm thu hút thêm nhiều nhà đầu tư.\n",
      "Processing: FPTOpenSpeechData_Set001_V0.1_000084.mp3\n"
     ]
    },
    {
     "name": "stderr",
     "output_type": "stream",
     "text": [
      "/home/ngo/anaconda3/lib/python3.12/site-packages/whisper/transcribe.py:126: UserWarning: FP16 is not supported on CPU; using FP32 instead\n",
      "  warnings.warn(\"FP16 is not supported on CPU; using FP32 instead\")\n"
     ]
    },
    {
     "name": "stdout",
     "output_type": "stream",
     "text": [
      "reference_text: vui lòng cho ba vé khứ hồi hạng hai\n",
      "predicted_text: vui lòng cho bảo vệ của ui hàng hàng\n",
      "Processing: FPTOpenSpeechData_Set001_V0.1_000085.mp3\n"
     ]
    },
    {
     "name": "stderr",
     "output_type": "stream",
     "text": [
      "/home/ngo/anaconda3/lib/python3.12/site-packages/whisper/transcribe.py:126: UserWarning: FP16 is not supported on CPU; using FP32 instead\n",
      "  warnings.warn(\"FP16 is not supported on CPU; using FP32 instead\")\n"
     ]
    },
    {
     "name": "stdout",
     "output_type": "stream",
     "text": [
      "reference_text: anh cần một con tem một đô la ba mươi cent\n",
      "predicted_text: anh cần một cuốn tiêm 1 đô la 30 kem.\n",
      "Processing: FPTOpenSpeechData_Set001_V0.1_000086.mp3\n"
     ]
    },
    {
     "name": "stderr",
     "output_type": "stream",
     "text": [
      "/home/ngo/anaconda3/lib/python3.12/site-packages/whisper/transcribe.py:126: UserWarning: FP16 is not supported on CPU; using FP32 instead\n",
      "  warnings.warn(\"FP16 is not supported on CPU; using FP32 instead\")\n"
     ]
    },
    {
     "name": "stdout",
     "output_type": "stream",
     "text": [
      "reference_text: xà lách trộn phó mát mốc xanh và cây óc chó\n",
      "predicted_text: trạch chuồn format bốc xanh và kẹo chó\n",
      "Processing: FPTOpenSpeechData_Set001_V0.1_000087.mp3\n"
     ]
    },
    {
     "name": "stderr",
     "output_type": "stream",
     "text": [
      "/home/ngo/anaconda3/lib/python3.12/site-packages/whisper/transcribe.py:126: UserWarning: FP16 is not supported on CPU; using FP32 instead\n",
      "  warnings.warn(\"FP16 is not supported on CPU; using FP32 instead\")\n"
     ]
    },
    {
     "name": "stdout",
     "output_type": "stream",
     "text": [
      "reference_text: chúng tôi sẽ bồi thường cho anh\n",
      "predicted_text: chúng tôi sẽ bôi thường cho anh\n",
      "Processing: FPTOpenSpeechData_Set001_V0.1_000088.mp3\n"
     ]
    },
    {
     "name": "stderr",
     "output_type": "stream",
     "text": [
      "/home/ngo/anaconda3/lib/python3.12/site-packages/whisper/transcribe.py:126: UserWarning: FP16 is not supported on CPU; using FP32 instead\n",
      "  warnings.warn(\"FP16 is not supported on CPU; using FP32 instead\")\n"
     ]
    },
    {
     "name": "stdout",
     "output_type": "stream",
     "text": [
      "reference_text: chỉ xét tuyển hồ sơ không phải thi\n",
      "predicted_text: chỉ xét tiễn hồ sơ không phải thi\n",
      "Processing: FPTOpenSpeechData_Set001_V0.1_000089.mp3\n"
     ]
    },
    {
     "name": "stderr",
     "output_type": "stream",
     "text": [
      "/home/ngo/anaconda3/lib/python3.12/site-packages/whisper/transcribe.py:126: UserWarning: FP16 is not supported on CPU; using FP32 instead\n",
      "  warnings.warn(\"FP16 is not supported on CPU; using FP32 instead\")\n"
     ]
    },
    {
     "name": "stdout",
     "output_type": "stream",
     "text": [
      "reference_text: gần chín nghìn tỉ đồng xây đường sắt đô thị cát linh hà đông\n",
      "predicted_text: gần 9.000 tỷ đồng xây đường sát đuôi hỷ, cách lên hà đông\n",
      "Processing: FPTOpenSpeechData_Set001_V0.1_000090.mp3\n"
     ]
    },
    {
     "name": "stderr",
     "output_type": "stream",
     "text": [
      "/home/ngo/anaconda3/lib/python3.12/site-packages/whisper/transcribe.py:126: UserWarning: FP16 is not supported on CPU; using FP32 instead\n",
      "  warnings.warn(\"FP16 is not supported on CPU; using FP32 instead\")\n"
     ]
    },
    {
     "name": "stdout",
     "output_type": "stream",
     "text": [
      "reference_text: bỏ quần vào trong máy giặt\n",
      "predicted_text: bò quăng vào trong mày dật\n",
      "Processing: FPTOpenSpeechData_Set001_V0.1_000091.mp3\n"
     ]
    },
    {
     "name": "stderr",
     "output_type": "stream",
     "text": [
      "/home/ngo/anaconda3/lib/python3.12/site-packages/whisper/transcribe.py:126: UserWarning: FP16 is not supported on CPU; using FP32 instead\n",
      "  warnings.warn(\"FP16 is not supported on CPU; using FP32 instead\")\n"
     ]
    },
    {
     "name": "stdout",
     "output_type": "stream",
     "text": [
      "reference_text: trả lời tôi biết\n",
      "predicted_text: trả lời tôi biết.\n",
      "Processing: FPTOpenSpeechData_Set001_V0.1_000092.mp3\n"
     ]
    },
    {
     "name": "stderr",
     "output_type": "stream",
     "text": [
      "/home/ngo/anaconda3/lib/python3.12/site-packages/whisper/transcribe.py:126: UserWarning: FP16 is not supported on CPU; using FP32 instead\n",
      "  warnings.warn(\"FP16 is not supported on CPU; using FP32 instead\")\n"
     ]
    },
    {
     "name": "stdout",
     "output_type": "stream",
     "text": [
      "reference_text: đến thời điểm hiện tại ít nhất trong cả nước đã có năm mươi nghìn lao động thất nghiệp\n",
      "predicted_text: đến thời điểm hiện tại ít nhất trong cả nước đã có 50.000 lao động thất nghiệp\n",
      "Processing: FPTOpenSpeechData_Set001_V0.1_000093.mp3\n"
     ]
    },
    {
     "name": "stderr",
     "output_type": "stream",
     "text": [
      "/home/ngo/anaconda3/lib/python3.12/site-packages/whisper/transcribe.py:126: UserWarning: FP16 is not supported on CPU; using FP32 instead\n",
      "  warnings.warn(\"FP16 is not supported on CPU; using FP32 instead\")\n"
     ]
    },
    {
     "name": "stdout",
     "output_type": "stream",
     "text": [
      "reference_text: anh sẵn sàng gọi món chưa\n",
      "predicted_text: anh chẳng sang gọi món trưa\n",
      "Processing: FPTOpenSpeechData_Set001_V0.1_000094.mp3\n"
     ]
    },
    {
     "name": "stderr",
     "output_type": "stream",
     "text": [
      "/home/ngo/anaconda3/lib/python3.12/site-packages/whisper/transcribe.py:126: UserWarning: FP16 is not supported on CPU; using FP32 instead\n",
      "  warnings.warn(\"FP16 is not supported on CPU; using FP32 instead\")\n"
     ]
    },
    {
     "name": "stdout",
     "output_type": "stream",
     "text": [
      "reference_text: là tác động của nó đến hiệu suất chung của toàn bộ hệ thống điện\n",
      "predicted_text: là tác động của nó đến hiệu suất chung của toàn bộ hệ thống điện.\n",
      "Processing: FPTOpenSpeechData_Set001_V0.1_000095.mp3\n"
     ]
    },
    {
     "name": "stderr",
     "output_type": "stream",
     "text": [
      "/home/ngo/anaconda3/lib/python3.12/site-packages/whisper/transcribe.py:126: UserWarning: FP16 is not supported on CPU; using FP32 instead\n",
      "  warnings.warn(\"FP16 is not supported on CPU; using FP32 instead\")\n"
     ]
    },
    {
     "name": "stdout",
     "output_type": "stream",
     "text": [
      "reference_text: đã bán rồi\n",
      "predicted_text: đây bạn ơi\n",
      "Processing: FPTOpenSpeechData_Set001_V0.1_000096.mp3\n"
     ]
    },
    {
     "name": "stderr",
     "output_type": "stream",
     "text": [
      "/home/ngo/anaconda3/lib/python3.12/site-packages/whisper/transcribe.py:126: UserWarning: FP16 is not supported on CPU; using FP32 instead\n",
      "  warnings.warn(\"FP16 is not supported on CPU; using FP32 instead\")\n"
     ]
    },
    {
     "name": "stdout",
     "output_type": "stream",
     "text": [
      "reference_text: thời tiết ấm áp như thể là đầu hè\n",
      "predicted_text: thời tiết ấm áp như thế nào đầu nè\n",
      "Processing: FPTOpenSpeechData_Set001_V0.1_000097.mp3\n"
     ]
    },
    {
     "name": "stderr",
     "output_type": "stream",
     "text": [
      "/home/ngo/anaconda3/lib/python3.12/site-packages/whisper/transcribe.py:126: UserWarning: FP16 is not supported on CPU; using FP32 instead\n",
      "  warnings.warn(\"FP16 is not supported on CPU; using FP32 instead\")\n"
     ]
    },
    {
     "name": "stdout",
     "output_type": "stream",
     "text": [
      "reference_text: chúng tôi có bốn người\n",
      "predicted_text: chúng tôi có 4 người\n",
      "Processing: FPTOpenSpeechData_Set001_V0.1_000098.mp3\n"
     ]
    },
    {
     "name": "stderr",
     "output_type": "stream",
     "text": [
      "/home/ngo/anaconda3/lib/python3.12/site-packages/whisper/transcribe.py:126: UserWarning: FP16 is not supported on CPU; using FP32 instead\n",
      "  warnings.warn(\"FP16 is not supported on CPU; using FP32 instead\")\n"
     ]
    },
    {
     "name": "stdout",
     "output_type": "stream",
     "text": [
      "reference_text: vẻ đẹp khuôn mặt và bản năng tình dục quan hệ tương hỗ chặt chẽ với nhau\n",
      "predicted_text: vị đẹp khuôn mặt và bản năng tình dục quan hệ tương hội chặt chẽ với nhau\n",
      "Processing: FPTOpenSpeechData_Set001_V0.1_000099.mp3\n"
     ]
    },
    {
     "name": "stderr",
     "output_type": "stream",
     "text": [
      "/home/ngo/anaconda3/lib/python3.12/site-packages/whisper/transcribe.py:126: UserWarning: FP16 is not supported on CPU; using FP32 instead\n",
      "  warnings.warn(\"FP16 is not supported on CPU; using FP32 instead\")\n"
     ]
    },
    {
     "name": "stdout",
     "output_type": "stream",
     "text": [
      "reference_text: hầu bàn của quý khách sẽ là alfredo\n",
      "predicted_text: thầu bàn của quý khách trẻ là otero\n",
      "Processing: FPTOpenSpeechData_Set001_V0.1_000100.mp3\n"
     ]
    },
    {
     "name": "stderr",
     "output_type": "stream",
     "text": [
      "/home/ngo/anaconda3/lib/python3.12/site-packages/whisper/transcribe.py:126: UserWarning: FP16 is not supported on CPU; using FP32 instead\n",
      "  warnings.warn(\"FP16 is not supported on CPU; using FP32 instead\")\n"
     ]
    },
    {
     "name": "stdout",
     "output_type": "stream",
     "text": [
      "reference_text: đầu gối có bị sưng đỏ hoặc cả hai\n",
      "predicted_text: đầu gối có bì xưng đỏ hoặc cả 2 xương\n",
      "Processing: FPTOpenSpeechData_Set001_V0.1_000101.mp3\n"
     ]
    },
    {
     "name": "stderr",
     "output_type": "stream",
     "text": [
      "/home/ngo/anaconda3/lib/python3.12/site-packages/whisper/transcribe.py:126: UserWarning: FP16 is not supported on CPU; using FP32 instead\n",
      "  warnings.warn(\"FP16 is not supported on CPU; using FP32 instead\")\n"
     ]
    },
    {
     "name": "stdout",
     "output_type": "stream",
     "text": [
      "reference_text: hút thuốc bị hạn chế trong khu vực công cộng\n",
      "predicted_text: cụ tượng bị hàn chạy đắng khu vực công cộng.\n",
      "Processing: FPTOpenSpeechData_Set001_V0.1_000102.mp3\n"
     ]
    },
    {
     "name": "stderr",
     "output_type": "stream",
     "text": [
      "/home/ngo/anaconda3/lib/python3.12/site-packages/whisper/transcribe.py:126: UserWarning: FP16 is not supported on CPU; using FP32 instead\n",
      "  warnings.warn(\"FP16 is not supported on CPU; using FP32 instead\")\n"
     ]
    },
    {
     "name": "stdout",
     "output_type": "stream",
     "text": [
      "reference_text: chẳng phải là bệnh hiểm nghèo nhưng trĩ vẫn là bệnh gây khó chịu cho bệnh nhân bởi làm cản trở công việc của họ lúc làm việc cũng như lúc ngủ họ vẫn phải lo nghĩ giáo sư nghĩa nói\n",
      "predicted_text: chẳng cả là bệnh hiểm nghèo, nhưng chỉ vẫn là bệnh gây khó chịu cho bệnh nhân để làm cản trở công việc của họ. lúc làm việc cũng như lúc ngủ, họ vẫn phải nghe nghĩ, giáo chương nghĩa nói.\n",
      "Processing: FPTOpenSpeechData_Set001_V0.1_000103.mp3\n"
     ]
    },
    {
     "name": "stderr",
     "output_type": "stream",
     "text": [
      "/home/ngo/anaconda3/lib/python3.12/site-packages/whisper/transcribe.py:126: UserWarning: FP16 is not supported on CPU; using FP32 instead\n",
      "  warnings.warn(\"FP16 is not supported on CPU; using FP32 instead\")\n"
     ]
    },
    {
     "name": "stdout",
     "output_type": "stream",
     "text": [
      "reference_text: chuyển máy cho ai\n",
      "predicted_text: chuyển máy cho ai\n",
      "Processing: FPTOpenSpeechData_Set001_V0.1_000104.mp3\n"
     ]
    },
    {
     "name": "stderr",
     "output_type": "stream",
     "text": [
      "/home/ngo/anaconda3/lib/python3.12/site-packages/whisper/transcribe.py:126: UserWarning: FP16 is not supported on CPU; using FP32 instead\n",
      "  warnings.warn(\"FP16 is not supported on CPU; using FP32 instead\")\n"
     ]
    },
    {
     "name": "stdout",
     "output_type": "stream",
     "text": [
      "reference_text: kết quả lao động của tôi đến đâu thì tác phẩm trả lời\n",
      "predicted_text: kết quả lao động của tôi đến đâu thì tác phẩm trả lời\n",
      "Processing: FPTOpenSpeechData_Set001_V0.1_000105.mp3\n"
     ]
    },
    {
     "name": "stderr",
     "output_type": "stream",
     "text": [
      "/home/ngo/anaconda3/lib/python3.12/site-packages/whisper/transcribe.py:126: UserWarning: FP16 is not supported on CPU; using FP32 instead\n",
      "  warnings.warn(\"FP16 is not supported on CPU; using FP32 instead\")\n"
     ]
    },
    {
     "name": "stdout",
     "output_type": "stream",
     "text": [
      "reference_text: khi những chiếc đĩa được dỡ bỏ lũ hà mã cũng chẳng thèm chú ý tới những chiếc nhãn đó nữa\n",
      "predicted_text: khi những chiếc đĩa được dỡ bỏ, lũ hà mã cũng chẳng thèm chú ý tới những chiếc nhãn đó nữa.\n",
      "Processing: FPTOpenSpeechData_Set001_V0.1_000106.mp3\n"
     ]
    },
    {
     "name": "stderr",
     "output_type": "stream",
     "text": [
      "/home/ngo/anaconda3/lib/python3.12/site-packages/whisper/transcribe.py:126: UserWarning: FP16 is not supported on CPU; using FP32 instead\n",
      "  warnings.warn(\"FP16 is not supported on CPU; using FP32 instead\")\n"
     ]
    },
    {
     "name": "stdout",
     "output_type": "stream",
     "text": [
      "reference_text: không vậy không sao tôi sẽ gọi ông ấy sau cảm ơn\n",
      "predicted_text: không, vậy không sao, tôi sẽ gọi ông ấy sau, cảm ơn.\n",
      "Processing: FPTOpenSpeechData_Set001_V0.1_000107.mp3\n"
     ]
    },
    {
     "name": "stderr",
     "output_type": "stream",
     "text": [
      "/home/ngo/anaconda3/lib/python3.12/site-packages/whisper/transcribe.py:126: UserWarning: FP16 is not supported on CPU; using FP32 instead\n",
      "  warnings.warn(\"FP16 is not supported on CPU; using FP32 instead\")\n"
     ]
    },
    {
     "name": "stdout",
     "output_type": "stream",
     "text": [
      "reference_text: có giảm giá cho người cao niên không\n",
      "predicted_text: có giảm giá cho người cao niên không?\n",
      "Processing: FPTOpenSpeechData_Set001_V0.1_000108.mp3\n"
     ]
    },
    {
     "name": "stderr",
     "output_type": "stream",
     "text": [
      "/home/ngo/anaconda3/lib/python3.12/site-packages/whisper/transcribe.py:126: UserWarning: FP16 is not supported on CPU; using FP32 instead\n",
      "  warnings.warn(\"FP16 is not supported on CPU; using FP32 instead\")\n"
     ]
    },
    {
     "name": "stdout",
     "output_type": "stream",
     "text": [
      "reference_text: hãy gọi cảnh sát ngay\n",
      "predicted_text: hãy gọi cảnh sát nhanh\n",
      "Processing: FPTOpenSpeechData_Set001_V0.1_000109.mp3\n"
     ]
    },
    {
     "name": "stderr",
     "output_type": "stream",
     "text": [
      "/home/ngo/anaconda3/lib/python3.12/site-packages/whisper/transcribe.py:126: UserWarning: FP16 is not supported on CPU; using FP32 instead\n",
      "  warnings.warn(\"FP16 is not supported on CPU; using FP32 instead\")\n"
     ]
    },
    {
     "name": "stdout",
     "output_type": "stream",
     "text": [
      "reference_text: bắt đầu đếm\n",
      "predicted_text: bắt đầu đếm\n",
      "Processing: FPTOpenSpeechData_Set001_V0.1_000110.mp3\n"
     ]
    },
    {
     "name": "stderr",
     "output_type": "stream",
     "text": [
      "/home/ngo/anaconda3/lib/python3.12/site-packages/whisper/transcribe.py:126: UserWarning: FP16 is not supported on CPU; using FP32 instead\n",
      "  warnings.warn(\"FP16 is not supported on CPU; using FP32 instead\")\n"
     ]
    },
    {
     "name": "stdout",
     "output_type": "stream",
     "text": [
      "reference_text: anh có bị đau do mệt mỏi không\n",
      "predicted_text: anh có bị đau do mệt mỏi không?\n",
      "Processing: FPTOpenSpeechData_Set001_V0.1_000111.mp3\n"
     ]
    },
    {
     "name": "stderr",
     "output_type": "stream",
     "text": [
      "/home/ngo/anaconda3/lib/python3.12/site-packages/whisper/transcribe.py:126: UserWarning: FP16 is not supported on CPU; using FP32 instead\n",
      "  warnings.warn(\"FP16 is not supported on CPU; using FP32 instead\")\n"
     ]
    },
    {
     "name": "stdout",
     "output_type": "stream",
     "text": [
      "reference_text: lãi suất cho vay cũng đã giảm mạnh theo lãi huy động vốn lãi nhiều vẫn chẳng có người nào gửi cả\n",
      "predicted_text: lãi sát cho vai cũng đã giảm mạnh theo lãi hị động vốn lãi nhiều vẫn chẳng có người nào gửi cả\n",
      "Processing: FPTOpenSpeechData_Set001_V0.1_000112.mp3\n"
     ]
    },
    {
     "name": "stderr",
     "output_type": "stream",
     "text": [
      "/home/ngo/anaconda3/lib/python3.12/site-packages/whisper/transcribe.py:126: UserWarning: FP16 is not supported on CPU; using FP32 instead\n",
      "  warnings.warn(\"FP16 is not supported on CPU; using FP32 instead\")\n"
     ]
    },
    {
     "name": "stdout",
     "output_type": "stream",
     "text": [
      "reference_text: các nhà khoa học đang tiến thêm một bước\n",
      "predicted_text: các nhà khoa học đang tiến thêm một bước.\n",
      "Processing: FPTOpenSpeechData_Set001_V0.1_000113.mp3\n"
     ]
    },
    {
     "name": "stderr",
     "output_type": "stream",
     "text": [
      "/home/ngo/anaconda3/lib/python3.12/site-packages/whisper/transcribe.py:126: UserWarning: FP16 is not supported on CPU; using FP32 instead\n",
      "  warnings.warn(\"FP16 is not supported on CPU; using FP32 instead\")\n"
     ]
    },
    {
     "name": "stdout",
     "output_type": "stream",
     "text": [
      "reference_text: cùng chuẩn và ngũ hai đối tượng khác chuyên làm nhiệm vụ đưa người sang trung quốc là nguyễn vũ hải và võ cảnh dũng cùng trú tại bắc giang cũng bị cảnh sát bắt\n",
      "predicted_text: cùng chuẩn và ngũ, hai đối tượng khác chuyên làm nhiệm vụ đưa người sang trung quốc là nguyễn vũ hải và võ cảnh dũng cùng chú tại bắc giang cũng bị cảnh sát bắt.\n",
      "Processing: FPTOpenSpeechData_Set001_V0.1_000114.mp3\n"
     ]
    },
    {
     "name": "stderr",
     "output_type": "stream",
     "text": [
      "/home/ngo/anaconda3/lib/python3.12/site-packages/whisper/transcribe.py:126: UserWarning: FP16 is not supported on CPU; using FP32 instead\n",
      "  warnings.warn(\"FP16 is not supported on CPU; using FP32 instead\")\n"
     ]
    },
    {
     "name": "stdout",
     "output_type": "stream",
     "text": [
      "reference_text: hệ thống phòng ngự tài năng và giàu kinh nghiệm\n",
      "predicted_text: hệ thống phòng ngự, tài năng và dòng kinh nghiệm\n",
      "Processing: FPTOpenSpeechData_Set001_V0.1_000115.mp3\n"
     ]
    },
    {
     "name": "stderr",
     "output_type": "stream",
     "text": [
      "/home/ngo/anaconda3/lib/python3.12/site-packages/whisper/transcribe.py:126: UserWarning: FP16 is not supported on CPU; using FP32 instead\n",
      "  warnings.warn(\"FP16 is not supported on CPU; using FP32 instead\")\n"
     ]
    },
    {
     "name": "stdout",
     "output_type": "stream",
     "text": [
      "reference_text: sẽ đủ sức cạnh tranh với nước ngoài\n",
      "predicted_text: sẽ đủ sức cạnh tranh với nước ngoài\n",
      "Processing: FPTOpenSpeechData_Set001_V0.1_000116.mp3\n"
     ]
    },
    {
     "name": "stderr",
     "output_type": "stream",
     "text": [
      "/home/ngo/anaconda3/lib/python3.12/site-packages/whisper/transcribe.py:126: UserWarning: FP16 is not supported on CPU; using FP32 instead\n",
      "  warnings.warn(\"FP16 is not supported on CPU; using FP32 instead\")\n"
     ]
    },
    {
     "name": "stdout",
     "output_type": "stream",
     "text": [
      "reference_text: giơ tay lên để đồng ý\n",
      "predicted_text: chở tay lên để đồng ý.\n",
      "Processing: FPTOpenSpeechData_Set001_V0.1_000117.mp3\n"
     ]
    },
    {
     "name": "stderr",
     "output_type": "stream",
     "text": [
      "/home/ngo/anaconda3/lib/python3.12/site-packages/whisper/transcribe.py:126: UserWarning: FP16 is not supported on CPU; using FP32 instead\n",
      "  warnings.warn(\"FP16 is not supported on CPU; using FP32 instead\")\n"
     ]
    },
    {
     "name": "stdout",
     "output_type": "stream",
     "text": [
      "reference_text: vui lòng trả mười đô la\n",
      "predicted_text: ui, lòng trả 10$\n",
      "Processing: FPTOpenSpeechData_Set001_V0.1_000118.mp3\n"
     ]
    },
    {
     "name": "stderr",
     "output_type": "stream",
     "text": [
      "/home/ngo/anaconda3/lib/python3.12/site-packages/whisper/transcribe.py:126: UserWarning: FP16 is not supported on CPU; using FP32 instead\n",
      "  warnings.warn(\"FP16 is not supported on CPU; using FP32 instead\")\n"
     ]
    },
    {
     "name": "stdout",
     "output_type": "stream",
     "text": [
      "reference_text: đây là hồi chuông cảnh báo về sự mất an toàn lưới điện trên địa bàn\n",
      "predicted_text: đây là hồ chu cạch báo về sự mất an toàn lưới địa trên địa bàn\n",
      "Processing: FPTOpenSpeechData_Set001_V0.1_000119.mp3\n"
     ]
    },
    {
     "name": "stderr",
     "output_type": "stream",
     "text": [
      "/home/ngo/anaconda3/lib/python3.12/site-packages/whisper/transcribe.py:126: UserWarning: FP16 is not supported on CPU; using FP32 instead\n",
      "  warnings.warn(\"FP16 is not supported on CPU; using FP32 instead\")\n"
     ]
    },
    {
     "name": "stdout",
     "output_type": "stream",
     "text": [
      "reference_text: ban đêm bắng cây đa\n",
      "predicted_text: ban đêm bắn cây đà\n",
      "Processing: FPTOpenSpeechData_Set001_V0.1_000120.mp3\n"
     ]
    },
    {
     "name": "stderr",
     "output_type": "stream",
     "text": [
      "/home/ngo/anaconda3/lib/python3.12/site-packages/whisper/transcribe.py:126: UserWarning: FP16 is not supported on CPU; using FP32 instead\n",
      "  warnings.warn(\"FP16 is not supported on CPU; using FP32 instead\")\n"
     ]
    },
    {
     "name": "stdout",
     "output_type": "stream",
     "text": [
      "reference_text: kênh hai ti vi\n",
      "predicted_text: kim hai tv\n",
      "Processing: FPTOpenSpeechData_Set001_V0.1_000121.mp3\n"
     ]
    },
    {
     "name": "stderr",
     "output_type": "stream",
     "text": [
      "/home/ngo/anaconda3/lib/python3.12/site-packages/whisper/transcribe.py:126: UserWarning: FP16 is not supported on CPU; using FP32 instead\n",
      "  warnings.warn(\"FP16 is not supported on CPU; using FP32 instead\")\n"
     ]
    },
    {
     "name": "stdout",
     "output_type": "stream",
     "text": [
      "reference_text: này chúng tôi sắp nhổ neo\n",
      "predicted_text: này, chúng tôi chấp nhận rồi nèo\n",
      "Processing: FPTOpenSpeechData_Set001_V0.1_000122.mp3\n"
     ]
    },
    {
     "name": "stderr",
     "output_type": "stream",
     "text": [
      "/home/ngo/anaconda3/lib/python3.12/site-packages/whisper/transcribe.py:126: UserWarning: FP16 is not supported on CPU; using FP32 instead\n",
      "  warnings.warn(\"FP16 is not supported on CPU; using FP32 instead\")\n"
     ]
    },
    {
     "name": "stdout",
     "output_type": "stream",
     "text": [
      "reference_text: mở\n",
      "predicted_text: mà\n",
      "Processing: FPTOpenSpeechData_Set001_V0.1_000123.mp3\n"
     ]
    },
    {
     "name": "stderr",
     "output_type": "stream",
     "text": [
      "/home/ngo/anaconda3/lib/python3.12/site-packages/whisper/transcribe.py:126: UserWarning: FP16 is not supported on CPU; using FP32 instead\n",
      "  warnings.warn(\"FP16 is not supported on CPU; using FP32 instead\")\n"
     ]
    },
    {
     "name": "stdout",
     "output_type": "stream",
     "text": [
      "reference_text: độc giả của tôi muốn hướng tới là sinh viên và trí thức\n",
      "predicted_text: đọc giả của tôi muốn hướng tới là sinh viên và chiến thức\n",
      "Processing: FPTOpenSpeechData_Set001_V0.1_000124.mp3\n"
     ]
    },
    {
     "name": "stderr",
     "output_type": "stream",
     "text": [
      "/home/ngo/anaconda3/lib/python3.12/site-packages/whisper/transcribe.py:126: UserWarning: FP16 is not supported on CPU; using FP32 instead\n",
      "  warnings.warn(\"FP16 is not supported on CPU; using FP32 instead\")\n"
     ]
    },
    {
     "name": "stdout",
     "output_type": "stream",
     "text": [
      "reference_text: không mở cửa ồ ạt\n",
      "predicted_text: không mở cửa ồ ạt\n",
      "Processing: FPTOpenSpeechData_Set001_V0.1_000125.mp3\n"
     ]
    },
    {
     "name": "stderr",
     "output_type": "stream",
     "text": [
      "/home/ngo/anaconda3/lib/python3.12/site-packages/whisper/transcribe.py:126: UserWarning: FP16 is not supported on CPU; using FP32 instead\n",
      "  warnings.warn(\"FP16 is not supported on CPU; using FP32 instead\")\n"
     ]
    },
    {
     "name": "stdout",
     "output_type": "stream",
     "text": [
      "reference_text: tôi muốn đổi cái này lấy cái màu xanh\n",
      "predicted_text: tôi muốn đổi cái này lấy cái màu xanh\n",
      "Processing: FPTOpenSpeechData_Set001_V0.1_000126.mp3\n"
     ]
    },
    {
     "name": "stderr",
     "output_type": "stream",
     "text": [
      "/home/ngo/anaconda3/lib/python3.12/site-packages/whisper/transcribe.py:126: UserWarning: FP16 is not supported on CPU; using FP32 instead\n",
      "  warnings.warn(\"FP16 is not supported on CPU; using FP32 instead\")\n"
     ]
    },
    {
     "name": "stdout",
     "output_type": "stream",
     "text": [
      "reference_text: sống với em anh nhé\n",
      "predicted_text: sống với em anh nhé\n",
      "Processing: FPTOpenSpeechData_Set001_V0.1_000127.mp3\n"
     ]
    },
    {
     "name": "stderr",
     "output_type": "stream",
     "text": [
      "/home/ngo/anaconda3/lib/python3.12/site-packages/whisper/transcribe.py:126: UserWarning: FP16 is not supported on CPU; using FP32 instead\n",
      "  warnings.warn(\"FP16 is not supported on CPU; using FP32 instead\")\n"
     ]
    },
    {
     "name": "stdout",
     "output_type": "stream",
     "text": [
      "reference_text: vừa gọi điện vừa đi lại rất gây hại cho sức khỏe\n",
      "predicted_text: vừa gọi điện vừa đi lại rất gây hại cho sức khỏe\n",
      "Processing: FPTOpenSpeechData_Set001_V0.1_000128.mp3\n"
     ]
    },
    {
     "name": "stderr",
     "output_type": "stream",
     "text": [
      "/home/ngo/anaconda3/lib/python3.12/site-packages/whisper/transcribe.py:126: UserWarning: FP16 is not supported on CPU; using FP32 instead\n",
      "  warnings.warn(\"FP16 is not supported on CPU; using FP32 instead\")\n"
     ]
    },
    {
     "name": "stdout",
     "output_type": "stream",
     "text": [
      "reference_text: tôi có thể tìm bảng tin ở đâu\n",
      "predicted_text: tôi có thể tìm bà tin ở đâu?\n",
      "Processing: FPTOpenSpeechData_Set001_V0.1_000129.mp3\n"
     ]
    },
    {
     "name": "stderr",
     "output_type": "stream",
     "text": [
      "/home/ngo/anaconda3/lib/python3.12/site-packages/whisper/transcribe.py:126: UserWarning: FP16 is not supported on CPU; using FP32 instead\n",
      "  warnings.warn(\"FP16 is not supported on CPU; using FP32 instead\")\n"
     ]
    },
    {
     "name": "stdout",
     "output_type": "stream",
     "text": [
      "reference_text: anh chuẩn bị toa này cho tôi được không\n",
      "predicted_text: anh chuẩn bị toàn này cho tôi được không?\n",
      "Processing: FPTOpenSpeechData_Set001_V0.1_000130.mp3\n"
     ]
    },
    {
     "name": "stderr",
     "output_type": "stream",
     "text": [
      "/home/ngo/anaconda3/lib/python3.12/site-packages/whisper/transcribe.py:126: UserWarning: FP16 is not supported on CPU; using FP32 instead\n",
      "  warnings.warn(\"FP16 is not supported on CPU; using FP32 instead\")\n"
     ]
    },
    {
     "name": "stdout",
     "output_type": "stream",
     "text": [
      "reference_text: đây là địa chỉ của anh\n",
      "predicted_text: đây là địa chỉ của anh.\n",
      "Processing: FPTOpenSpeechData_Set001_V0.1_000131.mp3\n"
     ]
    },
    {
     "name": "stderr",
     "output_type": "stream",
     "text": [
      "/home/ngo/anaconda3/lib/python3.12/site-packages/whisper/transcribe.py:126: UserWarning: FP16 is not supported on CPU; using FP32 instead\n",
      "  warnings.warn(\"FP16 is not supported on CPU; using FP32 instead\")\n"
     ]
    },
    {
     "name": "stdout",
     "output_type": "stream",
     "text": [
      "reference_text: anh lắng nghe tôi một phút được không\n",
      "predicted_text: anh lắng nghe tôi một phút được không?\n",
      "Processing: FPTOpenSpeechData_Set001_V0.1_000132.mp3\n"
     ]
    },
    {
     "name": "stderr",
     "output_type": "stream",
     "text": [
      "/home/ngo/anaconda3/lib/python3.12/site-packages/whisper/transcribe.py:126: UserWarning: FP16 is not supported on CPU; using FP32 instead\n",
      "  warnings.warn(\"FP16 is not supported on CPU; using FP32 instead\")\n"
     ]
    },
    {
     "name": "stdout",
     "output_type": "stream",
     "text": [
      "reference_text: lạm phát tăng là do dự báo yếu kém\n",
      "predicted_text: là nó tăng ở đâu dù bao nhiêu tiền\n",
      "Processing: FPTOpenSpeechData_Set001_V0.1_000133.mp3\n"
     ]
    },
    {
     "name": "stderr",
     "output_type": "stream",
     "text": [
      "/home/ngo/anaconda3/lib/python3.12/site-packages/whisper/transcribe.py:126: UserWarning: FP16 is not supported on CPU; using FP32 instead\n",
      "  warnings.warn(\"FP16 is not supported on CPU; using FP32 instead\")\n"
     ]
    },
    {
     "name": "stdout",
     "output_type": "stream",
     "text": [
      "reference_text: thịt gà nhồi hỗn hợp băm nhỏ\n",
      "predicted_text: hiệp gai, nhồi hồn hợp bắp nhỏ\n",
      "Processing: FPTOpenSpeechData_Set001_V0.1_000134.mp3\n"
     ]
    },
    {
     "name": "stderr",
     "output_type": "stream",
     "text": [
      "/home/ngo/anaconda3/lib/python3.12/site-packages/whisper/transcribe.py:126: UserWarning: FP16 is not supported on CPU; using FP32 instead\n",
      "  warnings.warn(\"FP16 is not supported on CPU; using FP32 instead\")\n"
     ]
    },
    {
     "name": "stdout",
     "output_type": "stream",
     "text": [
      "reference_text: trung tá nguyễn phả lại cán bộ quản giáo trực tiếp buồng số bảy chỗ ở của ông mẫu ông dũng nói kín kẽ cũng là tâm lý của người cải tạo loại án như trường hợp ông dũng\n",
      "predicted_text: trung tá nguyễn phả lại, cán bộ quản giáo trực tiếp buồng số 7, chỗ ở của ông mẫu, ông dũng nói, nhưng kẻ cũng là tâm lý của người cải tạo, loại án như trường hợp ông dũng.\n",
      "Processing: FPTOpenSpeechData_Set001_V0.1_000135.mp3\n"
     ]
    },
    {
     "name": "stderr",
     "output_type": "stream",
     "text": [
      "/home/ngo/anaconda3/lib/python3.12/site-packages/whisper/transcribe.py:126: UserWarning: FP16 is not supported on CPU; using FP32 instead\n",
      "  warnings.warn(\"FP16 is not supported on CPU; using FP32 instead\")\n"
     ]
    },
    {
     "name": "stdout",
     "output_type": "stream",
     "text": [
      "reference_text: kí túc vắng tanh đèn thoát hiểm nhấp nháy chập chờn cứ như trên phim được xem ý\n",
      "predicted_text: kỳ túc xa vắng tanh, đêm hỏa thiện cười nhấp nhảy chật chơn, cười như trên phim được xem ịt\n",
      "Processing: FPTOpenSpeechData_Set001_V0.1_000136.mp3\n"
     ]
    },
    {
     "name": "stderr",
     "output_type": "stream",
     "text": [
      "/home/ngo/anaconda3/lib/python3.12/site-packages/whisper/transcribe.py:126: UserWarning: FP16 is not supported on CPU; using FP32 instead\n",
      "  warnings.warn(\"FP16 is not supported on CPU; using FP32 instead\")\n"
     ]
    },
    {
     "name": "stdout",
     "output_type": "stream",
     "text": [
      "reference_text: mở\n",
      "predicted_text: mở\n",
      "Processing: FPTOpenSpeechData_Set001_V0.1_000137.mp3\n"
     ]
    },
    {
     "name": "stderr",
     "output_type": "stream",
     "text": [
      "/home/ngo/anaconda3/lib/python3.12/site-packages/whisper/transcribe.py:126: UserWarning: FP16 is not supported on CPU; using FP32 instead\n",
      "  warnings.warn(\"FP16 is not supported on CPU; using FP32 instead\")\n"
     ]
    },
    {
     "name": "stdout",
     "output_type": "stream",
     "text": [
      "reference_text: tốt nhất anh không nên làm nó\n",
      "predicted_text: cuộc nhập anh không nên làm nó\n",
      "Processing: FPTOpenSpeechData_Set001_V0.1_000138.mp3\n"
     ]
    },
    {
     "name": "stderr",
     "output_type": "stream",
     "text": [
      "/home/ngo/anaconda3/lib/python3.12/site-packages/whisper/transcribe.py:126: UserWarning: FP16 is not supported on CPU; using FP32 instead\n",
      "  warnings.warn(\"FP16 is not supported on CPU; using FP32 instead\")\n"
     ]
    },
    {
     "name": "stdout",
     "output_type": "stream",
     "text": [
      "reference_text: tôi có thể mua vé ở đâu\n",
      "predicted_text: tôi có thấy búa vẹ ở đâu?\n",
      "Processing: FPTOpenSpeechData_Set001_V0.1_000139.mp3\n"
     ]
    },
    {
     "name": "stderr",
     "output_type": "stream",
     "text": [
      "/home/ngo/anaconda3/lib/python3.12/site-packages/whisper/transcribe.py:126: UserWarning: FP16 is not supported on CPU; using FP32 instead\n",
      "  warnings.warn(\"FP16 is not supported on CPU; using FP32 instead\")\n"
     ]
    },
    {
     "name": "stdout",
     "output_type": "stream",
     "text": [
      "reference_text: vậy điều gì ủng hộ ý tưởng táo bạo trên\n",
      "predicted_text: vậy điều gì có ý tưởng thấu bảo chết\n",
      "Processing: FPTOpenSpeechData_Set001_V0.1_000140.mp3\n"
     ]
    },
    {
     "name": "stderr",
     "output_type": "stream",
     "text": [
      "/home/ngo/anaconda3/lib/python3.12/site-packages/whisper/transcribe.py:126: UserWarning: FP16 is not supported on CPU; using FP32 instead\n",
      "  warnings.warn(\"FP16 is not supported on CPU; using FP32 instead\")\n"
     ]
    },
    {
     "name": "stdout",
     "output_type": "stream",
     "text": [
      "reference_text: họ sẽ chơi nhiều ca khúc từ bộ phim âm thanh của âm nhạc\n",
      "predicted_text: họ sẽ chơi nhiều ca khúc từ bộ phim âm thanh của âm nhạc.\n",
      "Processing: FPTOpenSpeechData_Set001_V0.1_000141.mp3\n"
     ]
    },
    {
     "name": "stderr",
     "output_type": "stream",
     "text": [
      "/home/ngo/anaconda3/lib/python3.12/site-packages/whisper/transcribe.py:126: UserWarning: FP16 is not supported on CPU; using FP32 instead\n",
      "  warnings.warn(\"FP16 is not supported on CPU; using FP32 instead\")\n"
     ]
    },
    {
     "name": "stdout",
     "output_type": "stream",
     "text": [
      "reference_text: mã vùng của plymouth là không một bảy năm hai\n",
      "predicted_text: mà vùng của plymouth là 01752\n",
      "Processing: FPTOpenSpeechData_Set001_V0.1_000142.mp3\n"
     ]
    },
    {
     "name": "stderr",
     "output_type": "stream",
     "text": [
      "/home/ngo/anaconda3/lib/python3.12/site-packages/whisper/transcribe.py:126: UserWarning: FP16 is not supported on CPU; using FP32 instead\n",
      "  warnings.warn(\"FP16 is not supported on CPU; using FP32 instead\")\n"
     ]
    },
    {
     "name": "stdout",
     "output_type": "stream",
     "text": [
      "reference_text: không tôi luôn tỉ mỉ\n",
      "predicted_text: không, tôi luôn tỉnh bình\n",
      "Processing: FPTOpenSpeechData_Set001_V0.1_000143.mp3\n"
     ]
    },
    {
     "name": "stderr",
     "output_type": "stream",
     "text": [
      "/home/ngo/anaconda3/lib/python3.12/site-packages/whisper/transcribe.py:126: UserWarning: FP16 is not supported on CPU; using FP32 instead\n",
      "  warnings.warn(\"FP16 is not supported on CPU; using FP32 instead\")\n"
     ]
    },
    {
     "name": "stdout",
     "output_type": "stream",
     "text": [
      "reference_text: một số trò chơi đòi hỏi các động tác chậm thận trọng hãy từ từ\n",
      "predicted_text: một số trò chơi đòi hỏi các động tác chậm, thận trọng hay từ từ.\n",
      "Processing: FPTOpenSpeechData_Set001_V0.1_000144.mp3\n"
     ]
    },
    {
     "name": "stderr",
     "output_type": "stream",
     "text": [
      "/home/ngo/anaconda3/lib/python3.12/site-packages/whisper/transcribe.py:126: UserWarning: FP16 is not supported on CPU; using FP32 instead\n",
      "  warnings.warn(\"FP16 is not supported on CPU; using FP32 instead\")\n"
     ]
    },
    {
     "name": "stdout",
     "output_type": "stream",
     "text": [
      "reference_text: có nên ưu tiên cho các hoạt động bí mật\n",
      "predicted_text: \n",
      "Processing: FPTOpenSpeechData_Set001_V0.1_000145.mp3\n"
     ]
    },
    {
     "name": "stderr",
     "output_type": "stream",
     "text": [
      "/home/ngo/anaconda3/lib/python3.12/site-packages/whisper/transcribe.py:126: UserWarning: FP16 is not supported on CPU; using FP32 instead\n",
      "  warnings.warn(\"FP16 is not supported on CPU; using FP32 instead\")\n"
     ]
    },
    {
     "name": "stdout",
     "output_type": "stream",
     "text": [
      "reference_text: nó là của anh\n",
      "predicted_text: nó là của anh\n",
      "Processing: FPTOpenSpeechData_Set001_V0.1_000146.mp3\n"
     ]
    },
    {
     "name": "stderr",
     "output_type": "stream",
     "text": [
      "/home/ngo/anaconda3/lib/python3.12/site-packages/whisper/transcribe.py:126: UserWarning: FP16 is not supported on CPU; using FP32 instead\n",
      "  warnings.warn(\"FP16 is not supported on CPU; using FP32 instead\")\n"
     ]
    },
    {
     "name": "stdout",
     "output_type": "stream",
     "text": [
      "reference_text: -n lỗ mũi hẹp -n có tài kiếm tiền\n",
      "predicted_text: cảm ơn các bạn đã theo dõi và hẹn gặp lại.\n",
      "Processing: FPTOpenSpeechData_Set001_V0.1_000147.mp3\n"
     ]
    },
    {
     "name": "stderr",
     "output_type": "stream",
     "text": [
      "/home/ngo/anaconda3/lib/python3.12/site-packages/whisper/transcribe.py:126: UserWarning: FP16 is not supported on CPU; using FP32 instead\n",
      "  warnings.warn(\"FP16 is not supported on CPU; using FP32 instead\")\n"
     ]
    },
    {
     "name": "stdout",
     "output_type": "stream",
     "text": [
      "reference_text: đây là ghi chép cho phí nào\n",
      "predicted_text: đây là ghi chép cho phí nào.\n",
      "Processing: FPTOpenSpeechData_Set001_V0.1_000148.mp3\n"
     ]
    },
    {
     "name": "stderr",
     "output_type": "stream",
     "text": [
      "/home/ngo/anaconda3/lib/python3.12/site-packages/whisper/transcribe.py:126: UserWarning: FP16 is not supported on CPU; using FP32 instead\n",
      "  warnings.warn(\"FP16 is not supported on CPU; using FP32 instead\")\n"
     ]
    },
    {
     "name": "stdout",
     "output_type": "stream",
     "text": [
      "reference_text: tôi bị các triệu chứng viêm phổi\n",
      "predicted_text: tôi bị cạc thiểu trưng viếp hồi\n",
      "Processing: FPTOpenSpeechData_Set001_V0.1_000149.mp3\n"
     ]
    },
    {
     "name": "stderr",
     "output_type": "stream",
     "text": [
      "/home/ngo/anaconda3/lib/python3.12/site-packages/whisper/transcribe.py:126: UserWarning: FP16 is not supported on CPU; using FP32 instead\n",
      "  warnings.warn(\"FP16 is not supported on CPU; using FP32 instead\")\n"
     ]
    },
    {
     "name": "stdout",
     "output_type": "stream",
     "text": [
      "reference_text: còn bao nhiều giờ thì chúng ta sẽ đến new york\n",
      "predicted_text: còn bao nhiêu giờ thì chúng ta sẽ đến new york?\n",
      "Processing: FPTOpenSpeechData_Set001_V0.1_000150.mp3\n"
     ]
    },
    {
     "name": "stderr",
     "output_type": "stream",
     "text": [
      "/home/ngo/anaconda3/lib/python3.12/site-packages/whisper/transcribe.py:126: UserWarning: FP16 is not supported on CPU; using FP32 instead\n",
      "  warnings.warn(\"FP16 is not supported on CPU; using FP32 instead\")\n"
     ]
    },
    {
     "name": "stdout",
     "output_type": "stream",
     "text": [
      "reference_text: thị trường chính thức kém sôi động nên thị trường phi tập trung cũng ê ẩm\n",
      "predicted_text: thị trường chính thức kèm sơ động nên thị trường phi tập trung cũng y lầm.\n",
      "Processing: FPTOpenSpeechData_Set001_V0.1_000151.mp3\n"
     ]
    },
    {
     "name": "stderr",
     "output_type": "stream",
     "text": [
      "/home/ngo/anaconda3/lib/python3.12/site-packages/whisper/transcribe.py:126: UserWarning: FP16 is not supported on CPU; using FP32 instead\n",
      "  warnings.warn(\"FP16 is not supported on CPU; using FP32 instead\")\n"
     ]
    },
    {
     "name": "stdout",
     "output_type": "stream",
     "text": [
      "reference_text: chúng tôi đã thuê căn hộ\n",
      "predicted_text: chúng tôi đã thuế căn hộ.\n",
      "Processing: FPTOpenSpeechData_Set001_V0.1_000152.mp3\n"
     ]
    },
    {
     "name": "stderr",
     "output_type": "stream",
     "text": [
      "/home/ngo/anaconda3/lib/python3.12/site-packages/whisper/transcribe.py:126: UserWarning: FP16 is not supported on CPU; using FP32 instead\n",
      "  warnings.warn(\"FP16 is not supported on CPU; using FP32 instead\")\n"
     ]
    },
    {
     "name": "stdout",
     "output_type": "stream",
     "text": [
      "reference_text: mở lên\n",
      "predicted_text: mở lên\n",
      "Processing: FPTOpenSpeechData_Set001_V0.1_000153.mp3\n"
     ]
    },
    {
     "name": "stderr",
     "output_type": "stream",
     "text": [
      "/home/ngo/anaconda3/lib/python3.12/site-packages/whisper/transcribe.py:126: UserWarning: FP16 is not supported on CPU; using FP32 instead\n",
      "  warnings.warn(\"FP16 is not supported on CPU; using FP32 instead\")\n"
     ]
    },
    {
     "name": "stdout",
     "output_type": "stream",
     "text": [
      "reference_text: cuộc tình đó tồn tại cho tới ngày cô ta -n khối tài sản mà ông giao phó rồi biến mất tăm\n",
      "predicted_text: cuộc tình đó tồn tại cho tới ngày cô ta trụm còn khối tài sản mà ông ra phó rồi biến mất tâm\n",
      "Processing: FPTOpenSpeechData_Set001_V0.1_000154.mp3\n"
     ]
    },
    {
     "name": "stderr",
     "output_type": "stream",
     "text": [
      "/home/ngo/anaconda3/lib/python3.12/site-packages/whisper/transcribe.py:126: UserWarning: FP16 is not supported on CPU; using FP32 instead\n",
      "  warnings.warn(\"FP16 is not supported on CPU; using FP32 instead\")\n"
     ]
    },
    {
     "name": "stdout",
     "output_type": "stream",
     "text": [
      "reference_text: xin vui lòng hãy sẵn sàng vào lúc chín giờ rưỡi\n",
      "predicted_text: xin vui lòng hãy chạm sàng vào lúc 9h30\n",
      "Processing: FPTOpenSpeechData_Set001_V0.1_000155.mp3\n"
     ]
    },
    {
     "name": "stderr",
     "output_type": "stream",
     "text": [
      "/home/ngo/anaconda3/lib/python3.12/site-packages/whisper/transcribe.py:126: UserWarning: FP16 is not supported on CPU; using FP32 instead\n",
      "  warnings.warn(\"FP16 is not supported on CPU; using FP32 instead\")\n"
     ]
    },
    {
     "name": "stdout",
     "output_type": "stream",
     "text": [
      "reference_text: tôi không nghĩ như vậy\n",
      "predicted_text: tôi không nghĩ như vậy.\n",
      "Processing: FPTOpenSpeechData_Set001_V0.1_000156.mp3\n"
     ]
    },
    {
     "name": "stderr",
     "output_type": "stream",
     "text": [
      "/home/ngo/anaconda3/lib/python3.12/site-packages/whisper/transcribe.py:126: UserWarning: FP16 is not supported on CPU; using FP32 instead\n",
      "  warnings.warn(\"FP16 is not supported on CPU; using FP32 instead\")\n"
     ]
    },
    {
     "name": "stdout",
     "output_type": "stream",
     "text": [
      "reference_text: cách dễ nhất là tìm người khác để yêu\n",
      "predicted_text: cách dễ nhất là tìm người khác để yêu\n",
      "Processing: FPTOpenSpeechData_Set001_V0.1_000157.mp3\n"
     ]
    },
    {
     "name": "stderr",
     "output_type": "stream",
     "text": [
      "/home/ngo/anaconda3/lib/python3.12/site-packages/whisper/transcribe.py:126: UserWarning: FP16 is not supported on CPU; using FP32 instead\n",
      "  warnings.warn(\"FP16 is not supported on CPU; using FP32 instead\")\n"
     ]
    },
    {
     "name": "stdout",
     "output_type": "stream",
     "text": [
      "reference_text: hãy tận dụng những gì có sẵn từ thiên nhiên để làm đẹp làn da\n",
      "predicted_text: hãy tự dụng những gì có sẵn từ thiên nhiên để làm đẹp làng da\n",
      "Processing: FPTOpenSpeechData_Set001_V0.1_000158.mp3\n"
     ]
    },
    {
     "name": "stderr",
     "output_type": "stream",
     "text": [
      "/home/ngo/anaconda3/lib/python3.12/site-packages/whisper/transcribe.py:126: UserWarning: FP16 is not supported on CPU; using FP32 instead\n",
      "  warnings.warn(\"FP16 is not supported on CPU; using FP32 instead\")\n"
     ]
    },
    {
     "name": "stdout",
     "output_type": "stream",
     "text": [
      "reference_text: cô lấy cho tôi cái khăn nào\n",
      "predicted_text: cô lấy cho tôi cái khăn nào.\n",
      "Processing: FPTOpenSpeechData_Set001_V0.1_000159.mp3\n"
     ]
    },
    {
     "name": "stderr",
     "output_type": "stream",
     "text": [
      "/home/ngo/anaconda3/lib/python3.12/site-packages/whisper/transcribe.py:126: UserWarning: FP16 is not supported on CPU; using FP32 instead\n",
      "  warnings.warn(\"FP16 is not supported on CPU; using FP32 instead\")\n"
     ]
    },
    {
     "name": "stdout",
     "output_type": "stream",
     "text": [
      "reference_text: lối đánh tấn công quen thuộc của chị biến mất thay vào đó là những đường bóng yếu ớt\n",
      "predicted_text: đồ đánh tấn công quan thuộc của chị biến mất thay vào đó là những đường bóng yếu ớt\n",
      "Processing: FPTOpenSpeechData_Set001_V0.1_000160.mp3\n"
     ]
    },
    {
     "name": "stderr",
     "output_type": "stream",
     "text": [
      "/home/ngo/anaconda3/lib/python3.12/site-packages/whisper/transcribe.py:126: UserWarning: FP16 is not supported on CPU; using FP32 instead\n",
      "  warnings.warn(\"FP16 is not supported on CPU; using FP32 instead\")\n"
     ]
    },
    {
     "name": "stdout",
     "output_type": "stream",
     "text": [
      "reference_text: tôi có thể có bản đồ đường đi của đảo maui không\n",
      "predicted_text: tôi có thể có bản đồ đường đi của đảo maui không?\n",
      "Processing: FPTOpenSpeechData_Set001_V0.1_000161.mp3\n"
     ]
    },
    {
     "name": "stderr",
     "output_type": "stream",
     "text": [
      "/home/ngo/anaconda3/lib/python3.12/site-packages/whisper/transcribe.py:126: UserWarning: FP16 is not supported on CPU; using FP32 instead\n",
      "  warnings.warn(\"FP16 is not supported on CPU; using FP32 instead\")\n"
     ]
    },
    {
     "name": "stdout",
     "output_type": "stream",
     "text": [
      "reference_text: tôi bị suyễn\n",
      "predicted_text: tôi bị xuyên\n",
      "Processing: FPTOpenSpeechData_Set001_V0.1_000162.mp3\n"
     ]
    },
    {
     "name": "stderr",
     "output_type": "stream",
     "text": [
      "/home/ngo/anaconda3/lib/python3.12/site-packages/whisper/transcribe.py:126: UserWarning: FP16 is not supported on CPU; using FP32 instead\n",
      "  warnings.warn(\"FP16 is not supported on CPU; using FP32 instead\")\n"
     ]
    },
    {
     "name": "stdout",
     "output_type": "stream",
     "text": [
      "reference_text: thành ra càng cổ phần hóa ồ ạt càng bán giá nội bộ ồ ạt trừ phi có sẵn một cơ chế kiểm soát\n",
      "predicted_text: thành ra các cổ phân hóa oat càng bắn giá nổi bộ oat từ khi có sẵn một cơ sở kiểm soát\n",
      "Processing: FPTOpenSpeechData_Set001_V0.1_000163.mp3\n"
     ]
    },
    {
     "name": "stderr",
     "output_type": "stream",
     "text": [
      "/home/ngo/anaconda3/lib/python3.12/site-packages/whisper/transcribe.py:126: UserWarning: FP16 is not supported on CPU; using FP32 instead\n",
      "  warnings.warn(\"FP16 is not supported on CPU; using FP32 instead\")\n"
     ]
    },
    {
     "name": "stdout",
     "output_type": "stream",
     "text": [
      "reference_text: nền tài chính nhật bản phụ thuộc khá lớn vào các chính sách tiền tệ của mỹ\n",
      "predicted_text: nền tài chính nhật bản phụ thuộc khá lớn vào các chính sách tuyên tại của mỹ\n",
      "Processing: FPTOpenSpeechData_Set001_V0.1_000164.mp3\n"
     ]
    },
    {
     "name": "stderr",
     "output_type": "stream",
     "text": [
      "/home/ngo/anaconda3/lib/python3.12/site-packages/whisper/transcribe.py:126: UserWarning: FP16 is not supported on CPU; using FP32 instead\n",
      "  warnings.warn(\"FP16 is not supported on CPU; using FP32 instead\")\n"
     ]
    },
    {
     "name": "stdout",
     "output_type": "stream",
     "text": [
      "reference_text: anh cất hành lý này cho tôi được không\n",
      "predicted_text: anh có thể hãy nhìn ra cho tôi được không?\n",
      "Processing: FPTOpenSpeechData_Set001_V0.1_000165.mp3\n"
     ]
    },
    {
     "name": "stderr",
     "output_type": "stream",
     "text": [
      "/home/ngo/anaconda3/lib/python3.12/site-packages/whisper/transcribe.py:126: UserWarning: FP16 is not supported on CPU; using FP32 instead\n",
      "  warnings.warn(\"FP16 is not supported on CPU; using FP32 instead\")\n"
     ]
    },
    {
     "name": "stdout",
     "output_type": "stream",
     "text": [
      "reference_text: obon nghĩa là gì\n",
      "predicted_text: ô bốn nghĩa là gì?\n",
      "Processing: FPTOpenSpeechData_Set001_V0.1_000166.mp3\n"
     ]
    },
    {
     "name": "stderr",
     "output_type": "stream",
     "text": [
      "/home/ngo/anaconda3/lib/python3.12/site-packages/whisper/transcribe.py:126: UserWarning: FP16 is not supported on CPU; using FP32 instead\n",
      "  warnings.warn(\"FP16 is not supported on CPU; using FP32 instead\")\n"
     ]
    },
    {
     "name": "stdout",
     "output_type": "stream",
     "text": [
      "reference_text: tăng nhiệt độ lên hai mươi chín độ\n",
      "predicted_text: tăng nhiệt độ lên 29 độ\n",
      "Processing: FPTOpenSpeechData_Set001_V0.1_000167.mp3\n"
     ]
    },
    {
     "name": "stderr",
     "output_type": "stream",
     "text": [
      "/home/ngo/anaconda3/lib/python3.12/site-packages/whisper/transcribe.py:126: UserWarning: FP16 is not supported on CPU; using FP32 instead\n",
      "  warnings.warn(\"FP16 is not supported on CPU; using FP32 instead\")\n"
     ]
    },
    {
     "name": "stdout",
     "output_type": "stream",
     "text": [
      "reference_text: kênh sáu\n",
      "predicted_text: cần sáo\n",
      "Processing: FPTOpenSpeechData_Set001_V0.1_000168.mp3\n"
     ]
    },
    {
     "name": "stderr",
     "output_type": "stream",
     "text": [
      "/home/ngo/anaconda3/lib/python3.12/site-packages/whisper/transcribe.py:126: UserWarning: FP16 is not supported on CPU; using FP32 instead\n",
      "  warnings.warn(\"FP16 is not supported on CPU; using FP32 instead\")\n"
     ]
    },
    {
     "name": "stdout",
     "output_type": "stream",
     "text": [
      "reference_text: phờ phạc sau hành trình dài\n",
      "predicted_text: hợp tác không dừng dài\n",
      "Processing: FPTOpenSpeechData_Set001_V0.1_000169.mp3\n"
     ]
    },
    {
     "name": "stderr",
     "output_type": "stream",
     "text": [
      "/home/ngo/anaconda3/lib/python3.12/site-packages/whisper/transcribe.py:126: UserWarning: FP16 is not supported on CPU; using FP32 instead\n",
      "  warnings.warn(\"FP16 is not supported on CPU; using FP32 instead\")\n"
     ]
    },
    {
     "name": "stdout",
     "output_type": "stream",
     "text": [
      "reference_text: mười hai giờ mười lăm rồi\n",
      "predicted_text: 12h15 rồi\n",
      "Processing: FPTOpenSpeechData_Set001_V0.1_000170.mp3\n"
     ]
    },
    {
     "name": "stderr",
     "output_type": "stream",
     "text": [
      "/home/ngo/anaconda3/lib/python3.12/site-packages/whisper/transcribe.py:126: UserWarning: FP16 is not supported on CPU; using FP32 instead\n",
      "  warnings.warn(\"FP16 is not supported on CPU; using FP32 instead\")\n"
     ]
    },
    {
     "name": "stdout",
     "output_type": "stream",
     "text": [
      "reference_text: tiêu cực ương ngạnh\n",
      "predicted_text: tiêu cực ưng ảnh\n",
      "Processing: FPTOpenSpeechData_Set001_V0.1_000171.mp3\n"
     ]
    },
    {
     "name": "stderr",
     "output_type": "stream",
     "text": [
      "/home/ngo/anaconda3/lib/python3.12/site-packages/whisper/transcribe.py:126: UserWarning: FP16 is not supported on CPU; using FP32 instead\n",
      "  warnings.warn(\"FP16 is not supported on CPU; using FP32 instead\")\n"
     ]
    },
    {
     "name": "stdout",
     "output_type": "stream",
     "text": [
      "reference_text: tuy nhiên hôm qua ông đã phá lệ\n",
      "predicted_text: tuy nhiên hôm qua ông đã khả lệ\n",
      "Processing: FPTOpenSpeechData_Set001_V0.1_000172.mp3\n"
     ]
    },
    {
     "name": "stderr",
     "output_type": "stream",
     "text": [
      "/home/ngo/anaconda3/lib/python3.12/site-packages/whisper/transcribe.py:126: UserWarning: FP16 is not supported on CPU; using FP32 instead\n",
      "  warnings.warn(\"FP16 is not supported on CPU; using FP32 instead\")\n"
     ]
    },
    {
     "name": "stdout",
     "output_type": "stream",
     "text": [
      "reference_text: phát triển\n",
      "predicted_text: phát triển\n",
      "Processing: FPTOpenSpeechData_Set001_V0.1_000173.mp3\n"
     ]
    },
    {
     "name": "stderr",
     "output_type": "stream",
     "text": [
      "/home/ngo/anaconda3/lib/python3.12/site-packages/whisper/transcribe.py:126: UserWarning: FP16 is not supported on CPU; using FP32 instead\n",
      "  warnings.warn(\"FP16 is not supported on CPU; using FP32 instead\")\n"
     ]
    },
    {
     "name": "stdout",
     "output_type": "stream",
     "text": [
      "reference_text: cái xác cứ thế khô dần cho đến hôm nay\n",
      "predicted_text: cải sác cứ thế khô giật cho đến hôm nay\n",
      "Processing: FPTOpenSpeechData_Set001_V0.1_000174.mp3\n"
     ]
    },
    {
     "name": "stderr",
     "output_type": "stream",
     "text": [
      "/home/ngo/anaconda3/lib/python3.12/site-packages/whisper/transcribe.py:126: UserWarning: FP16 is not supported on CPU; using FP32 instead\n",
      "  warnings.warn(\"FP16 is not supported on CPU; using FP32 instead\")\n"
     ]
    },
    {
     "name": "stdout",
     "output_type": "stream",
     "text": [
      "reference_text: ti vi vtv hai\n",
      "predicted_text: hãy subscribe cho kênh ghiền mì gõ để không bỏ lỡ những video hấp dẫn\n",
      "Processing: FPTOpenSpeechData_Set001_V0.1_000175.mp3\n"
     ]
    },
    {
     "name": "stderr",
     "output_type": "stream",
     "text": [
      "/home/ngo/anaconda3/lib/python3.12/site-packages/whisper/transcribe.py:126: UserWarning: FP16 is not supported on CPU; using FP32 instead\n",
      "  warnings.warn(\"FP16 is not supported on CPU; using FP32 instead\")\n"
     ]
    },
    {
     "name": "stdout",
     "output_type": "stream",
     "text": [
      "reference_text: nhóm cho rằng điều đó chứng tỏ phụ nữ tập trung hơn vào ngôn ngữ của sự hài hước\n",
      "predicted_text: nhóm cho rằng điều đó chứng tỏ phụ nữ tập trung hơn vào nguồn mức của sự hài hước.\n",
      "Processing: FPTOpenSpeechData_Set001_V0.1_000176.mp3\n"
     ]
    },
    {
     "name": "stderr",
     "output_type": "stream",
     "text": [
      "/home/ngo/anaconda3/lib/python3.12/site-packages/whisper/transcribe.py:126: UserWarning: FP16 is not supported on CPU; using FP32 instead\n",
      "  warnings.warn(\"FP16 is not supported on CPU; using FP32 instead\")\n"
     ]
    },
    {
     "name": "stdout",
     "output_type": "stream",
     "text": [
      "reference_text: phòng quá ồn và tôi không thể ngủ được\n",
      "predicted_text: phòng quá ồn và tôi không thể ngủ được\n",
      "Processing: FPTOpenSpeechData_Set001_V0.1_000177.mp3\n"
     ]
    },
    {
     "name": "stderr",
     "output_type": "stream",
     "text": [
      "/home/ngo/anaconda3/lib/python3.12/site-packages/whisper/transcribe.py:126: UserWarning: FP16 is not supported on CPU; using FP32 instead\n",
      "  warnings.warn(\"FP16 is not supported on CPU; using FP32 instead\")\n"
     ]
    },
    {
     "name": "stdout",
     "output_type": "stream",
     "text": [
      "reference_text: những lãnh đạo cấp cao đang phải đối mặt với việc giảm lương đến mức nào hiện vẫn chưa rõ\n",
      "predicted_text: những lãnh đạo cấp cao đang phải đối mặt với việc giảm lương từ mức nào nhận vẫn chưa rõ.\n",
      "Processing: FPTOpenSpeechData_Set001_V0.1_000178.mp3\n"
     ]
    },
    {
     "name": "stderr",
     "output_type": "stream",
     "text": [
      "/home/ngo/anaconda3/lib/python3.12/site-packages/whisper/transcribe.py:126: UserWarning: FP16 is not supported on CPU; using FP32 instead\n",
      "  warnings.warn(\"FP16 is not supported on CPU; using FP32 instead\")\n"
     ]
    },
    {
     "name": "stdout",
     "output_type": "stream",
     "text": [
      "reference_text: xe mỹ từng là biểu tượng giàu sang\n",
      "predicted_text: xe mỹ từng là biểu tượng giàu sang.\n",
      "Processing: FPTOpenSpeechData_Set001_V0.1_000179.mp3\n"
     ]
    },
    {
     "name": "stderr",
     "output_type": "stream",
     "text": [
      "/home/ngo/anaconda3/lib/python3.12/site-packages/whisper/transcribe.py:126: UserWarning: FP16 is not supported on CPU; using FP32 instead\n",
      "  warnings.warn(\"FP16 is not supported on CPU; using FP32 instead\")\n"
     ]
    },
    {
     "name": "stdout",
     "output_type": "stream",
     "text": [
      "reference_text: bữa ăn sinh viên từ lâu đã đơn giản lắm rồi giờ càng đơn giản hơn bao giờ hết\n",
      "predicted_text: bữa ăn sinh viên từ lâu đã đơn giản lắm rồi giờ càng đơn giản hơn bao giờ hết\n",
      "Processing: FPTOpenSpeechData_Set001_V0.1_000180.mp3\n"
     ]
    },
    {
     "name": "stderr",
     "output_type": "stream",
     "text": [
      "/home/ngo/anaconda3/lib/python3.12/site-packages/whisper/transcribe.py:126: UserWarning: FP16 is not supported on CPU; using FP32 instead\n",
      "  warnings.warn(\"FP16 is not supported on CPU; using FP32 instead\")\n"
     ]
    },
    {
     "name": "stdout",
     "output_type": "stream",
     "text": [
      "reference_text: bệnh này có thường xảy ra không\n",
      "predicted_text: bệnh này có thường xảy ra không?\n",
      "Processing: FPTOpenSpeechData_Set001_V0.1_000181.mp3\n"
     ]
    },
    {
     "name": "stderr",
     "output_type": "stream",
     "text": [
      "/home/ngo/anaconda3/lib/python3.12/site-packages/whisper/transcribe.py:126: UserWarning: FP16 is not supported on CPU; using FP32 instead\n",
      "  warnings.warn(\"FP16 is not supported on CPU; using FP32 instead\")\n"
     ]
    },
    {
     "name": "stdout",
     "output_type": "stream",
     "text": [
      "reference_text: anh có đang thấy cầu vồng không\n",
      "predicted_text: anh có đang thấy cầu vồng không?\n",
      "Processing: FPTOpenSpeechData_Set001_V0.1_000182.mp3\n"
     ]
    },
    {
     "name": "stderr",
     "output_type": "stream",
     "text": [
      "/home/ngo/anaconda3/lib/python3.12/site-packages/whisper/transcribe.py:126: UserWarning: FP16 is not supported on CPU; using FP32 instead\n",
      "  warnings.warn(\"FP16 is not supported on CPU; using FP32 instead\")\n"
     ]
    },
    {
     "name": "stdout",
     "output_type": "stream",
     "text": [
      "reference_text: họ phải đảm bảo có đủ vắc xin và thực hiện các biện pháp cần thiết khác để đối phó với tình hình\n",
      "predicted_text: họ phải đảm bảo có đủ vaccine và thực hiện các biện pháp cần thiết khác để đối phó với tình hình.\n",
      "Processing: FPTOpenSpeechData_Set001_V0.1_000183.mp3\n"
     ]
    },
    {
     "name": "stderr",
     "output_type": "stream",
     "text": [
      "/home/ngo/anaconda3/lib/python3.12/site-packages/whisper/transcribe.py:126: UserWarning: FP16 is not supported on CPU; using FP32 instead\n",
      "  warnings.warn(\"FP16 is not supported on CPU; using FP32 instead\")\n"
     ]
    },
    {
     "name": "stdout",
     "output_type": "stream",
     "text": [
      "reference_text: anh gọi đánh thức tôi lúc bảy giờ sáng mai được không\n",
      "predicted_text: anh gọi đánh thức tôi lúc 7h sáng mai được không?\n",
      "Processing: FPTOpenSpeechData_Set001_V0.1_000184.mp3\n"
     ]
    },
    {
     "name": "stderr",
     "output_type": "stream",
     "text": [
      "/home/ngo/anaconda3/lib/python3.12/site-packages/whisper/transcribe.py:126: UserWarning: FP16 is not supported on CPU; using FP32 instead\n",
      "  warnings.warn(\"FP16 is not supported on CPU; using FP32 instead\")\n"
     ]
    },
    {
     "name": "stdout",
     "output_type": "stream",
     "text": [
      "reference_text: tự đăng cáo phó cho mình\n",
      "predicted_text: được đăng vào phỏ cho mình\n",
      "Processing: FPTOpenSpeechData_Set001_V0.1_000185.mp3\n"
     ]
    },
    {
     "name": "stderr",
     "output_type": "stream",
     "text": [
      "/home/ngo/anaconda3/lib/python3.12/site-packages/whisper/transcribe.py:126: UserWarning: FP16 is not supported on CPU; using FP32 instead\n",
      "  warnings.warn(\"FP16 is not supported on CPU; using FP32 instead\")\n"
     ]
    },
    {
     "name": "stdout",
     "output_type": "stream",
     "text": [
      "reference_text: anh thích kiểu nào hơn\n",
      "predicted_text: anh thích kiểu nào hơn?\n",
      "Processing: FPTOpenSpeechData_Set001_V0.1_000186.mp3\n"
     ]
    },
    {
     "name": "stderr",
     "output_type": "stream",
     "text": [
      "/home/ngo/anaconda3/lib/python3.12/site-packages/whisper/transcribe.py:126: UserWarning: FP16 is not supported on CPU; using FP32 instead\n",
      "  warnings.warn(\"FP16 is not supported on CPU; using FP32 instead\")\n"
     ]
    },
    {
     "name": "stdout",
     "output_type": "stream",
     "text": [
      "reference_text: ánh đuốc hắt lên khoanh cổ cụt đỏ hỏn hụt hẫng\n",
      "predicted_text: ánh đuốc hắt lên khoanh cổ cụt, đỏ hòn hụt hởng\n",
      "Processing: FPTOpenSpeechData_Set001_V0.1_000187.mp3\n"
     ]
    },
    {
     "name": "stderr",
     "output_type": "stream",
     "text": [
      "/home/ngo/anaconda3/lib/python3.12/site-packages/whisper/transcribe.py:126: UserWarning: FP16 is not supported on CPU; using FP32 instead\n",
      "  warnings.warn(\"FP16 is not supported on CPU; using FP32 instead\")\n"
     ]
    },
    {
     "name": "stdout",
     "output_type": "stream",
     "text": [
      "reference_text: xin lỗi anh có thể -n lĩnh tiền mặt cái này không\n",
      "predicted_text: xin lỗi, anh có thể đừng tiên mặt cái này không?\n",
      "Processing: FPTOpenSpeechData_Set001_V0.1_000188.mp3\n"
     ]
    },
    {
     "name": "stderr",
     "output_type": "stream",
     "text": [
      "/home/ngo/anaconda3/lib/python3.12/site-packages/whisper/transcribe.py:126: UserWarning: FP16 is not supported on CPU; using FP32 instead\n",
      "  warnings.warn(\"FP16 is not supported on CPU; using FP32 instead\")\n"
     ]
    },
    {
     "name": "stdout",
     "output_type": "stream",
     "text": [
      "reference_text: cảnh sát biết rằng có một nhóm bí mật hoạt động bất hợp pháp\n",
      "predicted_text: cảnh sát biết rằng có một nhóm bí mật hoạt động bất hợp pháp.\n",
      "Processing: FPTOpenSpeechData_Set001_V0.1_000189.mp3\n"
     ]
    },
    {
     "name": "stderr",
     "output_type": "stream",
     "text": [
      "/home/ngo/anaconda3/lib/python3.12/site-packages/whisper/transcribe.py:126: UserWarning: FP16 is not supported on CPU; using FP32 instead\n",
      "  warnings.warn(\"FP16 is not supported on CPU; using FP32 instead\")\n"
     ]
    },
    {
     "name": "stdout",
     "output_type": "stream",
     "text": [
      "reference_text: thiết bị còn gửi thông điệp cảnh báo tới người chủ khi pin sắp hết\n",
      "predicted_text: thiết bị còn gửi thông điệp cảnh báo tới người chủ khi binh sắp hết\n",
      "Processing: FPTOpenSpeechData_Set001_V0.1_000190.mp3\n"
     ]
    },
    {
     "name": "stderr",
     "output_type": "stream",
     "text": [
      "/home/ngo/anaconda3/lib/python3.12/site-packages/whisper/transcribe.py:126: UserWarning: FP16 is not supported on CPU; using FP32 instead\n",
      "  warnings.warn(\"FP16 is not supported on CPU; using FP32 instead\")\n"
     ]
    },
    {
     "name": "stdout",
     "output_type": "stream",
     "text": [
      "reference_text: xin vui lòng cứ mang giày\n",
      "predicted_text: xin vui lòng cứ mang dày\n",
      "Processing: FPTOpenSpeechData_Set001_V0.1_000191.mp3\n"
     ]
    },
    {
     "name": "stderr",
     "output_type": "stream",
     "text": [
      "/home/ngo/anaconda3/lib/python3.12/site-packages/whisper/transcribe.py:126: UserWarning: FP16 is not supported on CPU; using FP32 instead\n",
      "  warnings.warn(\"FP16 is not supported on CPU; using FP32 instead\")\n"
     ]
    },
    {
     "name": "stdout",
     "output_type": "stream",
     "text": [
      "reference_text: tôi không biết chắc là có tai nạn\n",
      "predicted_text: tôi không biết, chắc là có tai nạn.\n",
      "Processing: FPTOpenSpeechData_Set001_V0.1_000192.mp3\n"
     ]
    },
    {
     "name": "stderr",
     "output_type": "stream",
     "text": [
      "/home/ngo/anaconda3/lib/python3.12/site-packages/whisper/transcribe.py:126: UserWarning: FP16 is not supported on CPU; using FP32 instead\n",
      "  warnings.warn(\"FP16 is not supported on CPU; using FP32 instead\")\n"
     ]
    },
    {
     "name": "stdout",
     "output_type": "stream",
     "text": [
      "reference_text: tao nhanh đến mức nào\n",
      "predicted_text: tao đang đến mức nào\n",
      "Processing: FPTOpenSpeechData_Set001_V0.1_000193.mp3\n"
     ]
    },
    {
     "name": "stderr",
     "output_type": "stream",
     "text": [
      "/home/ngo/anaconda3/lib/python3.12/site-packages/whisper/transcribe.py:126: UserWarning: FP16 is not supported on CPU; using FP32 instead\n",
      "  warnings.warn(\"FP16 is not supported on CPU; using FP32 instead\")\n"
     ]
    },
    {
     "name": "stdout",
     "output_type": "stream",
     "text": [
      "reference_text: bữa tiệc sống động -n\n",
      "predicted_text: bữa tiệc sống động\n",
      "Processing: FPTOpenSpeechData_Set001_V0.1_000194.mp3\n"
     ]
    },
    {
     "name": "stderr",
     "output_type": "stream",
     "text": [
      "/home/ngo/anaconda3/lib/python3.12/site-packages/whisper/transcribe.py:126: UserWarning: FP16 is not supported on CPU; using FP32 instead\n",
      "  warnings.warn(\"FP16 is not supported on CPU; using FP32 instead\")\n"
     ]
    },
    {
     "name": "stdout",
     "output_type": "stream",
     "text": [
      "reference_text: vậy còn yếu tố tinh thần thì sao\n",
      "predicted_text: vậy còn yếu tố tích thật thì sao?\n",
      "Processing: FPTOpenSpeechData_Set001_V0.1_000195.mp3\n"
     ]
    },
    {
     "name": "stderr",
     "output_type": "stream",
     "text": [
      "/home/ngo/anaconda3/lib/python3.12/site-packages/whisper/transcribe.py:126: UserWarning: FP16 is not supported on CPU; using FP32 instead\n",
      "  warnings.warn(\"FP16 is not supported on CPU; using FP32 instead\")\n"
     ]
    },
    {
     "name": "stdout",
     "output_type": "stream",
     "text": [
      "reference_text: cái này trên tầng ba\n",
      "predicted_text: cái này trên tổng 3\n",
      "Processing: FPTOpenSpeechData_Set001_V0.1_000196.mp3\n"
     ]
    },
    {
     "name": "stderr",
     "output_type": "stream",
     "text": [
      "/home/ngo/anaconda3/lib/python3.12/site-packages/whisper/transcribe.py:126: UserWarning: FP16 is not supported on CPU; using FP32 instead\n",
      "  warnings.warn(\"FP16 is not supported on CPU; using FP32 instead\")\n"
     ]
    },
    {
     "name": "stdout",
     "output_type": "stream",
     "text": [
      "reference_text: chuyến bay của anh khi nào\n",
      "predicted_text: huyến bay của anh khi nào?\n",
      "Processing: FPTOpenSpeechData_Set001_V0.1_000197.mp3\n"
     ]
    },
    {
     "name": "stderr",
     "output_type": "stream",
     "text": [
      "/home/ngo/anaconda3/lib/python3.12/site-packages/whisper/transcribe.py:126: UserWarning: FP16 is not supported on CPU; using FP32 instead\n",
      "  warnings.warn(\"FP16 is not supported on CPU; using FP32 instead\")\n"
     ]
    },
    {
     "name": "stdout",
     "output_type": "stream",
     "text": [
      "reference_text: không không phải có bàn trống cho hai người không\n",
      "predicted_text: không, không phải, còn quan trọng cho hai người không?\n",
      "Processing: FPTOpenSpeechData_Set001_V0.1_000198.mp3\n"
     ]
    },
    {
     "name": "stderr",
     "output_type": "stream",
     "text": [
      "/home/ngo/anaconda3/lib/python3.12/site-packages/whisper/transcribe.py:126: UserWarning: FP16 is not supported on CPU; using FP32 instead\n",
      "  warnings.warn(\"FP16 is not supported on CPU; using FP32 instead\")\n"
     ]
    },
    {
     "name": "stdout",
     "output_type": "stream",
     "text": [
      "reference_text: tôi có thể có một tờ tạp chí khác không\n",
      "predicted_text: tôi có thể cuốn một tờ tạp chí khác không?\n",
      "Processing: FPTOpenSpeechData_Set001_V0.1_000199.mp3\n"
     ]
    },
    {
     "name": "stderr",
     "output_type": "stream",
     "text": [
      "/home/ngo/anaconda3/lib/python3.12/site-packages/whisper/transcribe.py:126: UserWarning: FP16 is not supported on CPU; using FP32 instead\n",
      "  warnings.warn(\"FP16 is not supported on CPU; using FP32 instead\")\n"
     ]
    },
    {
     "name": "stdout",
     "output_type": "stream",
     "text": [
      "reference_text: bán cho tôi một vé hạng hai đến chermarn\n",
      "predicted_text: bạn cho tôi một vẽ hàng 2 điểm che mai\n",
      "Processing: FPTOpenSpeechData_Set001_V0.1_000200.mp3\n"
     ]
    },
    {
     "name": "stderr",
     "output_type": "stream",
     "text": [
      "/home/ngo/anaconda3/lib/python3.12/site-packages/whisper/transcribe.py:126: UserWarning: FP16 is not supported on CPU; using FP32 instead\n",
      "  warnings.warn(\"FP16 is not supported on CPU; using FP32 instead\")\n"
     ]
    },
    {
     "name": "stdout",
     "output_type": "stream",
     "text": [
      "reference_text: jerry đây là jack làm ơn gọi cho edith\n",
      "predicted_text: xe lý đây là rách làm ơn gọi chua về đi\n",
      "Processing: FPTOpenSpeechData_Set001_V0.1_000201.mp3\n"
     ]
    },
    {
     "name": "stderr",
     "output_type": "stream",
     "text": [
      "/home/ngo/anaconda3/lib/python3.12/site-packages/whisper/transcribe.py:126: UserWarning: FP16 is not supported on CPU; using FP32 instead\n",
      "  warnings.warn(\"FP16 is not supported on CPU; using FP32 instead\")\n"
     ]
    },
    {
     "name": "stdout",
     "output_type": "stream",
     "text": [
      "reference_text: tất cả những gì nước mỹ làm chỉ đơn thuần là vì muốn sở hữu những nguồn tài nguyên quý giá của các quốc gia đó\n",
      "predicted_text: tất cả những gì nước mỹ làm chỉ đơn thuần là muốn sở hữu những nguồn tài nguyên tỷ giá của các quốc gia đó\n",
      "Processing: FPTOpenSpeechData_Set001_V0.1_000202.mp3\n"
     ]
    },
    {
     "name": "stderr",
     "output_type": "stream",
     "text": [
      "/home/ngo/anaconda3/lib/python3.12/site-packages/whisper/transcribe.py:126: UserWarning: FP16 is not supported on CPU; using FP32 instead\n",
      "  warnings.warn(\"FP16 is not supported on CPU; using FP32 instead\")\n"
     ]
    },
    {
     "name": "stdout",
     "output_type": "stream",
     "text": [
      "reference_text: chúng sở hữu tiếng thét chói tai và rất thích nhảy nhót\n",
      "predicted_text: chúng sở hữu tiếng thích chói tai và rất thích nhạc nhót.\n",
      "Processing: FPTOpenSpeechData_Set001_V0.1_000203.mp3\n"
     ]
    },
    {
     "name": "stderr",
     "output_type": "stream",
     "text": [
      "/home/ngo/anaconda3/lib/python3.12/site-packages/whisper/transcribe.py:126: UserWarning: FP16 is not supported on CPU; using FP32 instead\n",
      "  warnings.warn(\"FP16 is not supported on CPU; using FP32 instead\")\n"
     ]
    },
    {
     "name": "stdout",
     "output_type": "stream",
     "text": [
      "reference_text: tưởng dễ đẻ trứng vàng nhiều đơn vị ùn ùn xin thành lập công ty chứng khoán ngay lúc thị trường đỉnh cao\n",
      "predicted_text: tưởng dễ đẹp chứng bằng nhiều đơn vị ủi ngủn xin thành lập công ty chứng khoán hôm nay lúc thị trường đỉnh cao\n",
      "Processing: FPTOpenSpeechData_Set001_V0.1_000204.mp3\n"
     ]
    },
    {
     "name": "stderr",
     "output_type": "stream",
     "text": [
      "/home/ngo/anaconda3/lib/python3.12/site-packages/whisper/transcribe.py:126: UserWarning: FP16 is not supported on CPU; using FP32 instead\n",
      "  warnings.warn(\"FP16 is not supported on CPU; using FP32 instead\")\n"
     ]
    },
    {
     "name": "stdout",
     "output_type": "stream",
     "text": [
      "reference_text: ừ bạn đứng không đúng băng chuyền\n",
      "predicted_text: ừ, bạn đúng không đúng bằng quyền.\n",
      "Processing: FPTOpenSpeechData_Set001_V0.1_000205.mp3\n"
     ]
    },
    {
     "name": "stderr",
     "output_type": "stream",
     "text": [
      "/home/ngo/anaconda3/lib/python3.12/site-packages/whisper/transcribe.py:126: UserWarning: FP16 is not supported on CPU; using FP32 instead\n",
      "  warnings.warn(\"FP16 is not supported on CPU; using FP32 instead\")\n"
     ]
    },
    {
     "name": "stdout",
     "output_type": "stream",
     "text": [
      "reference_text: ngân hàng phương nam cũng một phen hú vía khi thông tin rủi ro tín dụng bị rò rỉ ra ngoài\n",
      "predicted_text: nhân hàng phương nam cũng một fan hú béo khi thông tin rủi ro tín dụng bị dò dỉ ra ngoài\n",
      "Processing: FPTOpenSpeechData_Set001_V0.1_000206.mp3\n"
     ]
    },
    {
     "name": "stderr",
     "output_type": "stream",
     "text": [
      "/home/ngo/anaconda3/lib/python3.12/site-packages/whisper/transcribe.py:126: UserWarning: FP16 is not supported on CPU; using FP32 instead\n",
      "  warnings.warn(\"FP16 is not supported on CPU; using FP32 instead\")\n"
     ]
    },
    {
     "name": "stdout",
     "output_type": "stream",
     "text": [
      "reference_text: bà mẹ nghèo đông con\n",
      "predicted_text: bà mẹ nghèo đông con\n",
      "Processing: FPTOpenSpeechData_Set001_V0.1_000207.mp3\n"
     ]
    },
    {
     "name": "stderr",
     "output_type": "stream",
     "text": [
      "/home/ngo/anaconda3/lib/python3.12/site-packages/whisper/transcribe.py:126: UserWarning: FP16 is not supported on CPU; using FP32 instead\n",
      "  warnings.warn(\"FP16 is not supported on CPU; using FP32 instead\")\n"
     ]
    },
    {
     "name": "stdout",
     "output_type": "stream",
     "text": [
      "reference_text: mẫu xe được trình làng ở triển lãm được giới truyền thông coi là hình mẫu của chiếc bốn cửa sẽ ra mắt vào tới\n",
      "predicted_text: mẫu xe được trình nàng trong triển lãm được giới truyền thông coi là hình mẫu của chiếc bốn cửa sẽ ra mắt vào tới.\n",
      "Processing: FPTOpenSpeechData_Set001_V0.1_000208.mp3\n"
     ]
    },
    {
     "name": "stderr",
     "output_type": "stream",
     "text": [
      "/home/ngo/anaconda3/lib/python3.12/site-packages/whisper/transcribe.py:126: UserWarning: FP16 is not supported on CPU; using FP32 instead\n",
      "  warnings.warn(\"FP16 is not supported on CPU; using FP32 instead\")\n"
     ]
    },
    {
     "name": "stdout",
     "output_type": "stream",
     "text": [
      "reference_text: anh mặc cái này trông rất đẹp\n",
      "predicted_text: ánh mặt cạnh em trông rất đẹp\n",
      "Processing: FPTOpenSpeechData_Set001_V0.1_000209.mp3\n"
     ]
    },
    {
     "name": "stderr",
     "output_type": "stream",
     "text": [
      "/home/ngo/anaconda3/lib/python3.12/site-packages/whisper/transcribe.py:126: UserWarning: FP16 is not supported on CPU; using FP32 instead\n",
      "  warnings.warn(\"FP16 is not supported on CPU; using FP32 instead\")\n"
     ]
    },
    {
     "name": "stdout",
     "output_type": "stream",
     "text": [
      "reference_text: chưa có thông tin về bệnh chết người ở nước này\n",
      "predicted_text: chưa có thông tin về bệnh trên người ở nước này\n",
      "Processing: FPTOpenSpeechData_Set001_V0.1_000210.mp3\n"
     ]
    },
    {
     "name": "stderr",
     "output_type": "stream",
     "text": [
      "/home/ngo/anaconda3/lib/python3.12/site-packages/whisper/transcribe.py:126: UserWarning: FP16 is not supported on CPU; using FP32 instead\n",
      "  warnings.warn(\"FP16 is not supported on CPU; using FP32 instead\")\n"
     ]
    },
    {
     "name": "stdout",
     "output_type": "stream",
     "text": [
      "reference_text: cho tôi bản đồ thành phố được không\n",
      "predicted_text: cho tôi bản đồ thành phố được không?\n",
      "Processing: FPTOpenSpeechData_Set001_V0.1_000211.mp3\n"
     ]
    },
    {
     "name": "stderr",
     "output_type": "stream",
     "text": [
      "/home/ngo/anaconda3/lib/python3.12/site-packages/whisper/transcribe.py:126: UserWarning: FP16 is not supported on CPU; using FP32 instead\n",
      "  warnings.warn(\"FP16 is not supported on CPU; using FP32 instead\")\n"
     ]
    },
    {
     "name": "stdout",
     "output_type": "stream",
     "text": [
      "reference_text: đều không quan trọng\n",
      "predicted_text: đều không quan trọng.\n",
      "Processing: FPTOpenSpeechData_Set001_V0.1_000212.mp3\n"
     ]
    },
    {
     "name": "stderr",
     "output_type": "stream",
     "text": [
      "/home/ngo/anaconda3/lib/python3.12/site-packages/whisper/transcribe.py:126: UserWarning: FP16 is not supported on CPU; using FP32 instead\n",
      "  warnings.warn(\"FP16 is not supported on CPU; using FP32 instead\")\n"
     ]
    },
    {
     "name": "stdout",
     "output_type": "stream",
     "text": [
      "reference_text: có lúc họ đút hai tay trong túi hai vai rụt lại mà đi có lúc đánh tay thoải mái ưỡn ngực\n",
      "predicted_text: có lúc họ đút hai tay vào trong túi, hai vai rụt lại mà đi. có lúc đánh tay thoải mái, hưởng nghịch.\n",
      "Processing: FPTOpenSpeechData_Set001_V0.1_000213.mp3\n"
     ]
    },
    {
     "name": "stderr",
     "output_type": "stream",
     "text": [
      "/home/ngo/anaconda3/lib/python3.12/site-packages/whisper/transcribe.py:126: UserWarning: FP16 is not supported on CPU; using FP32 instead\n",
      "  warnings.warn(\"FP16 is not supported on CPU; using FP32 instead\")\n"
     ]
    },
    {
     "name": "stdout",
     "output_type": "stream",
     "text": [
      "reference_text: tôi bị ung thư\n",
      "predicted_text: tôi bị ung thư\n",
      "Processing: FPTOpenSpeechData_Set001_V0.1_000214.mp3\n"
     ]
    },
    {
     "name": "stderr",
     "output_type": "stream",
     "text": [
      "/home/ngo/anaconda3/lib/python3.12/site-packages/whisper/transcribe.py:126: UserWarning: FP16 is not supported on CPU; using FP32 instead\n",
      "  warnings.warn(\"FP16 is not supported on CPU; using FP32 instead\")\n"
     ]
    },
    {
     "name": "stdout",
     "output_type": "stream",
     "text": [
      "reference_text: tôi không thể hiểu bạn\n",
      "predicted_text: rất thông tin hiệu quả\n",
      "Processing: FPTOpenSpeechData_Set001_V0.1_000215.mp3\n"
     ]
    },
    {
     "name": "stderr",
     "output_type": "stream",
     "text": [
      "/home/ngo/anaconda3/lib/python3.12/site-packages/whisper/transcribe.py:126: UserWarning: FP16 is not supported on CPU; using FP32 instead\n",
      "  warnings.warn(\"FP16 is not supported on CPU; using FP32 instead\")\n"
     ]
    },
    {
     "name": "stdout",
     "output_type": "stream",
     "text": [
      "reference_text: tôi cảm thấy rất nặng nề tôi không thể di chuyển chân của tôi\n",
      "predicted_text: tôi cảm thấy đất nàng nề, tôi không thể di chuyển chân của tôi.\n",
      "Processing: FPTOpenSpeechData_Set001_V0.1_000216.mp3\n"
     ]
    },
    {
     "name": "stderr",
     "output_type": "stream",
     "text": [
      "/home/ngo/anaconda3/lib/python3.12/site-packages/whisper/transcribe.py:126: UserWarning: FP16 is not supported on CPU; using FP32 instead\n",
      "  warnings.warn(\"FP16 is not supported on CPU; using FP32 instead\")\n"
     ]
    },
    {
     "name": "stdout",
     "output_type": "stream",
     "text": [
      "reference_text: tình yêu là mù quáng người đang yêu không thấy khuyết điểm của người khác\n",
      "predicted_text: tình yêu là mù quáng, người đang yêu không thấy khuyết điểm của người khác\n",
      "Processing: FPTOpenSpeechData_Set001_V0.1_000217.mp3\n"
     ]
    },
    {
     "name": "stderr",
     "output_type": "stream",
     "text": [
      "/home/ngo/anaconda3/lib/python3.12/site-packages/whisper/transcribe.py:126: UserWarning: FP16 is not supported on CPU; using FP32 instead\n",
      "  warnings.warn(\"FP16 is not supported on CPU; using FP32 instead\")\n"
     ]
    },
    {
     "name": "stdout",
     "output_type": "stream",
     "text": [
      "reference_text: phát tờ rơi quảng cáo biến thành rác đô thị\n",
      "predicted_text: master rơi quảng cáo biến hạch rác đô thị\n",
      "Processing: FPTOpenSpeechData_Set001_V0.1_000218.mp3\n"
     ]
    },
    {
     "name": "stderr",
     "output_type": "stream",
     "text": [
      "/home/ngo/anaconda3/lib/python3.12/site-packages/whisper/transcribe.py:126: UserWarning: FP16 is not supported on CPU; using FP32 instead\n",
      "  warnings.warn(\"FP16 is not supported on CPU; using FP32 instead\")\n"
     ]
    },
    {
     "name": "stdout",
     "output_type": "stream",
     "text": [
      "reference_text: cô ấy có thính giác ảo\n",
      "predicted_text: cố gắng đi tìm ra cao\n",
      "Processing: FPTOpenSpeechData_Set001_V0.1_000219.mp3\n"
     ]
    },
    {
     "name": "stderr",
     "output_type": "stream",
     "text": [
      "/home/ngo/anaconda3/lib/python3.12/site-packages/whisper/transcribe.py:126: UserWarning: FP16 is not supported on CPU; using FP32 instead\n",
      "  warnings.warn(\"FP16 is not supported on CPU; using FP32 instead\")\n"
     ]
    },
    {
     "name": "stdout",
     "output_type": "stream",
     "text": [
      "reference_text: đôi khi trong các khẩu súng các em mang trên người không hề có đạn -n chỉ là một thứ hù dọa những\n",
      "predicted_text: đôi khi trong các khẩu súng các em mang trên người không hề có đạn, chỉ là một thứ hình dạ như\n",
      "Processing: FPTOpenSpeechData_Set001_V0.1_000220.mp3\n"
     ]
    },
    {
     "name": "stderr",
     "output_type": "stream",
     "text": [
      "/home/ngo/anaconda3/lib/python3.12/site-packages/whisper/transcribe.py:126: UserWarning: FP16 is not supported on CPU; using FP32 instead\n",
      "  warnings.warn(\"FP16 is not supported on CPU; using FP32 instead\")\n"
     ]
    },
    {
     "name": "stdout",
     "output_type": "stream",
     "text": [
      "reference_text: đâu là nền tảng sinh học của ý thức\n",
      "predicted_text: đâu là nhanh chắn, xin cảm ơn quý vị\n",
      "Processing: FPTOpenSpeechData_Set001_V0.1_000221.mp3\n"
     ]
    },
    {
     "name": "stderr",
     "output_type": "stream",
     "text": [
      "/home/ngo/anaconda3/lib/python3.12/site-packages/whisper/transcribe.py:126: UserWarning: FP16 is not supported on CPU; using FP32 instead\n",
      "  warnings.warn(\"FP16 is not supported on CPU; using FP32 instead\")\n"
     ]
    },
    {
     "name": "stdout",
     "output_type": "stream",
     "text": [
      "reference_text: tôi có thể xin một khác không\n",
      "predicted_text: tôi có thể chinh một, phát không.\n",
      "Processing: FPTOpenSpeechData_Set001_V0.1_000222.mp3\n"
     ]
    },
    {
     "name": "stderr",
     "output_type": "stream",
     "text": [
      "/home/ngo/anaconda3/lib/python3.12/site-packages/whisper/transcribe.py:126: UserWarning: FP16 is not supported on CPU; using FP32 instead\n",
      "  warnings.warn(\"FP16 is not supported on CPU; using FP32 instead\")\n"
     ]
    },
    {
     "name": "stdout",
     "output_type": "stream",
     "text": [
      "reference_text: tôi đã từng chứng kiến bão và giờ đây tôi đang cộng tác tại nước ngoài\n",
      "predicted_text: tôi đã từng chứng kiến bão và giờ đây tôi đang công tác tại nước ngoài.\n",
      "Processing: FPTOpenSpeechData_Set001_V0.1_000223.mp3\n"
     ]
    },
    {
     "name": "stderr",
     "output_type": "stream",
     "text": [
      "/home/ngo/anaconda3/lib/python3.12/site-packages/whisper/transcribe.py:126: UserWarning: FP16 is not supported on CPU; using FP32 instead\n",
      "  warnings.warn(\"FP16 is not supported on CPU; using FP32 instead\")\n"
     ]
    },
    {
     "name": "stdout",
     "output_type": "stream",
     "text": [
      "reference_text: có phí uống không\n",
      "predicted_text: có phí uống không?\n",
      "Processing: FPTOpenSpeechData_Set001_V0.1_000224.mp3\n"
     ]
    },
    {
     "name": "stderr",
     "output_type": "stream",
     "text": [
      "/home/ngo/anaconda3/lib/python3.12/site-packages/whisper/transcribe.py:126: UserWarning: FP16 is not supported on CPU; using FP32 instead\n",
      "  warnings.warn(\"FP16 is not supported on CPU; using FP32 instead\")\n"
     ]
    },
    {
     "name": "stdout",
     "output_type": "stream",
     "text": [
      "reference_text: tôi đi hải phòng còn bạn đi đâu\n",
      "predicted_text: tôi đi hải phòng còn bạn đi đâu?\n",
      "Processing: FPTOpenSpeechData_Set001_V0.1_000225.mp3\n"
     ]
    },
    {
     "name": "stderr",
     "output_type": "stream",
     "text": [
      "/home/ngo/anaconda3/lib/python3.12/site-packages/whisper/transcribe.py:126: UserWarning: FP16 is not supported on CPU; using FP32 instead\n",
      "  warnings.warn(\"FP16 is not supported on CPU; using FP32 instead\")\n"
     ]
    },
    {
     "name": "stdout",
     "output_type": "stream",
     "text": [
      "reference_text: ti vi giảm âm lượng về bốn\n",
      "predicted_text: pv giảm âm lượng về 4\n",
      "Processing: FPTOpenSpeechData_Set001_V0.1_000226.mp3\n"
     ]
    },
    {
     "name": "stderr",
     "output_type": "stream",
     "text": [
      "/home/ngo/anaconda3/lib/python3.12/site-packages/whisper/transcribe.py:126: UserWarning: FP16 is not supported on CPU; using FP32 instead\n",
      "  warnings.warn(\"FP16 is not supported on CPU; using FP32 instead\")\n"
     ]
    },
    {
     "name": "stdout",
     "output_type": "stream",
     "text": [
      "reference_text: cũng đồng nghĩa với việc chúng ta có thể sẽ chuốc lấy khổ đau\n",
      "predicted_text: cũng đồng nghĩa với việc chúng ta có thể sẽ chút lấy khổ đau.\n",
      "Processing: FPTOpenSpeechData_Set001_V0.1_000227.mp3\n"
     ]
    },
    {
     "name": "stderr",
     "output_type": "stream",
     "text": [
      "/home/ngo/anaconda3/lib/python3.12/site-packages/whisper/transcribe.py:126: UserWarning: FP16 is not supported on CPU; using FP32 instead\n",
      "  warnings.warn(\"FP16 is not supported on CPU; using FP32 instead\")\n"
     ]
    },
    {
     "name": "stdout",
     "output_type": "stream",
     "text": [
      "reference_text: gần đây lại có vụ công ty xe khách thuận thảo ở bình định bị các đối thủ hùa nhau ngăn cản không cho hoạt động\n",
      "predicted_text: gần đây lại có vụ công ty xe khách thuận thảo ở bình tĩnh bị các đối thủ hùa nhau ngăn cản không cho hoạt động.\n",
      "Processing: FPTOpenSpeechData_Set001_V0.1_000228.mp3\n"
     ]
    },
    {
     "name": "stderr",
     "output_type": "stream",
     "text": [
      "/home/ngo/anaconda3/lib/python3.12/site-packages/whisper/transcribe.py:126: UserWarning: FP16 is not supported on CPU; using FP32 instead\n",
      "  warnings.warn(\"FP16 is not supported on CPU; using FP32 instead\")\n"
     ]
    },
    {
     "name": "stdout",
     "output_type": "stream",
     "text": [
      "reference_text: vâng tôi đã đến đây lần đầu tiên cách đây năm năm\n",
      "predicted_text: vâng tôi đã đến đây lần đầu tiên cách đây 5 năm\n",
      "Processing: FPTOpenSpeechData_Set001_V0.1_000229.mp3\n"
     ]
    },
    {
     "name": "stderr",
     "output_type": "stream",
     "text": [
      "/home/ngo/anaconda3/lib/python3.12/site-packages/whisper/transcribe.py:126: UserWarning: FP16 is not supported on CPU; using FP32 instead\n",
      "  warnings.warn(\"FP16 is not supported on CPU; using FP32 instead\")\n"
     ]
    },
    {
     "name": "stdout",
     "output_type": "stream",
     "text": [
      "reference_text: chành bành chằng chịt chỗ nào cũng có\n",
      "predicted_text: chanh bành, chăn, chệt chỗ nào cũng có\n",
      "Processing: FPTOpenSpeechData_Set001_V0.1_000230.mp3\n"
     ]
    },
    {
     "name": "stderr",
     "output_type": "stream",
     "text": [
      "/home/ngo/anaconda3/lib/python3.12/site-packages/whisper/transcribe.py:126: UserWarning: FP16 is not supported on CPU; using FP32 instead\n",
      "  warnings.warn(\"FP16 is not supported on CPU; using FP32 instead\")\n"
     ]
    },
    {
     "name": "stdout",
     "output_type": "stream",
     "text": [
      "reference_text: tôi có thể xem một bộ phim ở đâu\n",
      "predicted_text: tôi có thể xem mùa của phim ở đâu?\n",
      "Processing: FPTOpenSpeechData_Set001_V0.1_000231.mp3\n"
     ]
    },
    {
     "name": "stderr",
     "output_type": "stream",
     "text": [
      "/home/ngo/anaconda3/lib/python3.12/site-packages/whisper/transcribe.py:126: UserWarning: FP16 is not supported on CPU; using FP32 instead\n",
      "  warnings.warn(\"FP16 is not supported on CPU; using FP32 instead\")\n"
     ]
    },
    {
     "name": "stdout",
     "output_type": "stream",
     "text": [
      "reference_text: cô ấy cần một bóng đèn bốn mươi oắt cho đèn để bàn\n",
      "predicted_text: cô ấy cần một bóng đèn 40w cho đèn bề bàn.\n",
      "Processing: FPTOpenSpeechData_Set001_V0.1_000232.mp3\n"
     ]
    },
    {
     "name": "stderr",
     "output_type": "stream",
     "text": [
      "/home/ngo/anaconda3/lib/python3.12/site-packages/whisper/transcribe.py:126: UserWarning: FP16 is not supported on CPU; using FP32 instead\n",
      "  warnings.warn(\"FP16 is not supported on CPU; using FP32 instead\")\n"
     ]
    },
    {
     "name": "stdout",
     "output_type": "stream",
     "text": [
      "reference_text: góa vợ hai con\n",
      "predicted_text: quả vợ hai con\n",
      "Processing: FPTOpenSpeechData_Set001_V0.1_000233.mp3\n"
     ]
    },
    {
     "name": "stderr",
     "output_type": "stream",
     "text": [
      "/home/ngo/anaconda3/lib/python3.12/site-packages/whisper/transcribe.py:126: UserWarning: FP16 is not supported on CPU; using FP32 instead\n",
      "  warnings.warn(\"FP16 is not supported on CPU; using FP32 instead\")\n"
     ]
    },
    {
     "name": "stdout",
     "output_type": "stream",
     "text": [
      "reference_text: trẻ em ở các trường học được cung cấp nước sạch để uống\n",
      "predicted_text: chị em ở các thường hồn không có nước sẵn để uống\n",
      "Processing: FPTOpenSpeechData_Set001_V0.1_000234.mp3\n"
     ]
    },
    {
     "name": "stderr",
     "output_type": "stream",
     "text": [
      "/home/ngo/anaconda3/lib/python3.12/site-packages/whisper/transcribe.py:126: UserWarning: FP16 is not supported on CPU; using FP32 instead\n",
      "  warnings.warn(\"FP16 is not supported on CPU; using FP32 instead\")\n"
     ]
    },
    {
     "name": "stdout",
     "output_type": "stream",
     "text": [
      "reference_text: làm ơn nối máy tôi với cảnh sát\n",
      "predicted_text: làm ơn đối máy tôi với cảnh sát\n",
      "Processing: FPTOpenSpeechData_Set001_V0.1_000235.mp3\n"
     ]
    },
    {
     "name": "stderr",
     "output_type": "stream",
     "text": [
      "/home/ngo/anaconda3/lib/python3.12/site-packages/whisper/transcribe.py:126: UserWarning: FP16 is not supported on CPU; using FP32 instead\n",
      "  warnings.warn(\"FP16 is not supported on CPU; using FP32 instead\")\n"
     ]
    },
    {
     "name": "stdout",
     "output_type": "stream",
     "text": [
      "reference_text: đầu tư cho dự án xây dựng nhà máy sản xuất điện thoại di động tại đà nẵng\n",
      "predicted_text: đầu tư cho dự án xây dựng nhà máy sản xuất điện thoại di động tại đà nẵng.\n",
      "Processing: FPTOpenSpeechData_Set001_V0.1_000236.mp3\n"
     ]
    },
    {
     "name": "stderr",
     "output_type": "stream",
     "text": [
      "/home/ngo/anaconda3/lib/python3.12/site-packages/whisper/transcribe.py:126: UserWarning: FP16 is not supported on CPU; using FP32 instead\n",
      "  warnings.warn(\"FP16 is not supported on CPU; using FP32 instead\")\n"
     ]
    },
    {
     "name": "stdout",
     "output_type": "stream",
     "text": [
      "reference_text: vui lòng chuẩn bị cái này ở hải quan đằng kia chúc ở lại vui vẻ\n",
      "predicted_text: vui lòng chuẩn bị cái này ở hải quan đằng kia chúc các bạn vui vẻ\n",
      "Processing: FPTOpenSpeechData_Set001_V0.1_000237.mp3\n"
     ]
    },
    {
     "name": "stderr",
     "output_type": "stream",
     "text": [
      "/home/ngo/anaconda3/lib/python3.12/site-packages/whisper/transcribe.py:126: UserWarning: FP16 is not supported on CPU; using FP32 instead\n",
      "  warnings.warn(\"FP16 is not supported on CPU; using FP32 instead\")\n"
     ]
    },
    {
     "name": "stdout",
     "output_type": "stream",
     "text": [
      "reference_text: một dãy các tủ lạnh xếp dọc theo căn phòng\n",
      "predicted_text: một dãy khách sạn sẽ dọc theo tâm phòng\n",
      "Processing: FPTOpenSpeechData_Set001_V0.1_000238.mp3\n"
     ]
    },
    {
     "name": "stderr",
     "output_type": "stream",
     "text": [
      "/home/ngo/anaconda3/lib/python3.12/site-packages/whisper/transcribe.py:126: UserWarning: FP16 is not supported on CPU; using FP32 instead\n",
      "  warnings.warn(\"FP16 is not supported on CPU; using FP32 instead\")\n"
     ]
    },
    {
     "name": "stdout",
     "output_type": "stream",
     "text": [
      "reference_text: ti vi giảm âm lượng về một\n",
      "predicted_text: tv giảm âm lượng về 1\n",
      "Processing: FPTOpenSpeechData_Set001_V0.1_000239.mp3\n"
     ]
    },
    {
     "name": "stderr",
     "output_type": "stream",
     "text": [
      "/home/ngo/anaconda3/lib/python3.12/site-packages/whisper/transcribe.py:126: UserWarning: FP16 is not supported on CPU; using FP32 instead\n",
      "  warnings.warn(\"FP16 is not supported on CPU; using FP32 instead\")\n"
     ]
    },
    {
     "name": "stdout",
     "output_type": "stream",
     "text": [
      "reference_text: không phải mặt hàng đó\n",
      "predicted_text: không phải mặt hàng đó\n",
      "Processing: FPTOpenSpeechData_Set001_V0.1_000240.mp3\n"
     ]
    },
    {
     "name": "stderr",
     "output_type": "stream",
     "text": [
      "/home/ngo/anaconda3/lib/python3.12/site-packages/whisper/transcribe.py:126: UserWarning: FP16 is not supported on CPU; using FP32 instead\n",
      "  warnings.warn(\"FP16 is not supported on CPU; using FP32 instead\")\n"
     ]
    },
    {
     "name": "stdout",
     "output_type": "stream",
     "text": [
      "reference_text: tảng đất thó hình lục lăng mát lạnh\n",
      "predicted_text: sản đất thó hình lục lăng mát lạnh\n",
      "Processing: FPTOpenSpeechData_Set001_V0.1_000241.mp3\n"
     ]
    },
    {
     "name": "stderr",
     "output_type": "stream",
     "text": [
      "/home/ngo/anaconda3/lib/python3.12/site-packages/whisper/transcribe.py:126: UserWarning: FP16 is not supported on CPU; using FP32 instead\n",
      "  warnings.warn(\"FP16 is not supported on CPU; using FP32 instead\")\n"
     ]
    },
    {
     "name": "stdout",
     "output_type": "stream",
     "text": [
      "reference_text: đều tắc do ngập nước\n",
      "predicted_text: điều tắc do ngọc nước\n",
      "Processing: FPTOpenSpeechData_Set001_V0.1_000242.mp3\n"
     ]
    },
    {
     "name": "stderr",
     "output_type": "stream",
     "text": [
      "/home/ngo/anaconda3/lib/python3.12/site-packages/whisper/transcribe.py:126: UserWarning: FP16 is not supported on CPU; using FP32 instead\n",
      "  warnings.warn(\"FP16 is not supported on CPU; using FP32 instead\")\n"
     ]
    },
    {
     "name": "stdout",
     "output_type": "stream",
     "text": [
      "reference_text: có phải tàu từ sydney đến trễ không\n",
      "predicted_text: có phải tàu từ sydney đến trễ không?\n",
      "Processing: FPTOpenSpeechData_Set001_V0.1_000243.mp3\n"
     ]
    },
    {
     "name": "stderr",
     "output_type": "stream",
     "text": [
      "/home/ngo/anaconda3/lib/python3.12/site-packages/whisper/transcribe.py:126: UserWarning: FP16 is not supported on CPU; using FP32 instead\n",
      "  warnings.warn(\"FP16 is not supported on CPU; using FP32 instead\")\n"
     ]
    },
    {
     "name": "stdout",
     "output_type": "stream",
     "text": [
      "reference_text: tôi sẽ lấy phòng này\n",
      "predicted_text: tôi sẽ lấy phong này\n",
      "Processing: FPTOpenSpeechData_Set001_V0.1_000244.mp3\n"
     ]
    },
    {
     "name": "stderr",
     "output_type": "stream",
     "text": [
      "/home/ngo/anaconda3/lib/python3.12/site-packages/whisper/transcribe.py:126: UserWarning: FP16 is not supported on CPU; using FP32 instead\n",
      "  warnings.warn(\"FP16 is not supported on CPU; using FP32 instead\")\n"
     ]
    },
    {
     "name": "stdout",
     "output_type": "stream",
     "text": [
      "reference_text: nghỉ ngơi vài ngày\n",
      "predicted_text: vị ngôi vàng này\n",
      "Processing: FPTOpenSpeechData_Set001_V0.1_000245.mp3\n"
     ]
    },
    {
     "name": "stderr",
     "output_type": "stream",
     "text": [
      "/home/ngo/anaconda3/lib/python3.12/site-packages/whisper/transcribe.py:126: UserWarning: FP16 is not supported on CPU; using FP32 instead\n",
      "  warnings.warn(\"FP16 is not supported on CPU; using FP32 instead\")\n"
     ]
    },
    {
     "name": "stdout",
     "output_type": "stream",
     "text": [
      "reference_text: họ có chiến thuật tốt hiệu quả và nhiều cầu thủ có kỹ thuật cá nhân điêu luyện\n",
      "predicted_text: họ có chiến thuật tốt, hiệu quả và nhiều cầu thủ có kỹ thuật cá nhân điêu luyện.\n",
      "Processing: FPTOpenSpeechData_Set001_V0.1_000246.mp3\n"
     ]
    },
    {
     "name": "stderr",
     "output_type": "stream",
     "text": [
      "/home/ngo/anaconda3/lib/python3.12/site-packages/whisper/transcribe.py:126: UserWarning: FP16 is not supported on CPU; using FP32 instead\n",
      "  warnings.warn(\"FP16 is not supported on CPU; using FP32 instead\")\n"
     ]
    },
    {
     "name": "stdout",
     "output_type": "stream",
     "text": [
      "reference_text: vui lòng vé b đi a\n",
      "predicted_text: tôi nồng bẹp đê thúy an\n",
      "Processing: FPTOpenSpeechData_Set001_V0.1_000247.mp3\n"
     ]
    },
    {
     "name": "stderr",
     "output_type": "stream",
     "text": [
      "/home/ngo/anaconda3/lib/python3.12/site-packages/whisper/transcribe.py:126: UserWarning: FP16 is not supported on CPU; using FP32 instead\n",
      "  warnings.warn(\"FP16 is not supported on CPU; using FP32 instead\")\n"
     ]
    },
    {
     "name": "stdout",
     "output_type": "stream",
     "text": [
      "reference_text: tôi muốn nhuộm màu\n",
      "predicted_text: tôi muốn nhuộm màu\n",
      "Processing: FPTOpenSpeechData_Set001_V0.1_000248.mp3\n"
     ]
    },
    {
     "name": "stderr",
     "output_type": "stream",
     "text": [
      "/home/ngo/anaconda3/lib/python3.12/site-packages/whisper/transcribe.py:126: UserWarning: FP16 is not supported on CPU; using FP32 instead\n",
      "  warnings.warn(\"FP16 is not supported on CPU; using FP32 instead\")\n"
     ]
    },
    {
     "name": "stdout",
     "output_type": "stream",
     "text": [
      "reference_text: đồng xu bị kẹt ở đây\n",
      "predicted_text: đông phú bị kẹt ở đây\n",
      "Processing: FPTOpenSpeechData_Set001_V0.1_000249.mp3\n"
     ]
    },
    {
     "name": "stderr",
     "output_type": "stream",
     "text": [
      "/home/ngo/anaconda3/lib/python3.12/site-packages/whisper/transcribe.py:126: UserWarning: FP16 is not supported on CPU; using FP32 instead\n",
      "  warnings.warn(\"FP16 is not supported on CPU; using FP32 instead\")\n"
     ]
    },
    {
     "name": "stdout",
     "output_type": "stream",
     "text": [
      "reference_text: một trong ba người này làm giám đốc một công ty sản xuất hàng hóa\n",
      "predicted_text: một trong ba người này làm giám đốc một công ty sản xuất hàng hóa\n",
      "Processing: FPTOpenSpeechData_Set001_V0.1_000250.mp3\n"
     ]
    },
    {
     "name": "stderr",
     "output_type": "stream",
     "text": [
      "/home/ngo/anaconda3/lib/python3.12/site-packages/whisper/transcribe.py:126: UserWarning: FP16 is not supported on CPU; using FP32 instead\n",
      "  warnings.warn(\"FP16 is not supported on CPU; using FP32 instead\")\n"
     ]
    },
    {
     "name": "stdout",
     "output_type": "stream",
     "text": [
      "reference_text: sếu đầu đỏ xuất hiện tại tây ninh\n",
      "predicted_text: xấu đau đỏ xuất hiện tại tên x\n",
      "Processing: FPTOpenSpeechData_Set001_V0.1_000251.mp3\n"
     ]
    },
    {
     "name": "stderr",
     "output_type": "stream",
     "text": [
      "/home/ngo/anaconda3/lib/python3.12/site-packages/whisper/transcribe.py:126: UserWarning: FP16 is not supported on CPU; using FP32 instead\n",
      "  warnings.warn(\"FP16 is not supported on CPU; using FP32 instead\")\n"
     ]
    },
    {
     "name": "stdout",
     "output_type": "stream",
     "text": [
      "reference_text: quý vị có thể cử động khuỷu tay được không\n",
      "predicted_text: nghĩ gì có thể cử động như thế này được không?\n",
      "Processing: FPTOpenSpeechData_Set001_V0.1_000252.mp3\n"
     ]
    },
    {
     "name": "stderr",
     "output_type": "stream",
     "text": [
      "/home/ngo/anaconda3/lib/python3.12/site-packages/whisper/transcribe.py:126: UserWarning: FP16 is not supported on CPU; using FP32 instead\n",
      "  warnings.warn(\"FP16 is not supported on CPU; using FP32 instead\")\n"
     ]
    },
    {
     "name": "stdout",
     "output_type": "stream",
     "text": [
      "reference_text: con đường dài lắm sao anh để em đi một mình\n",
      "predicted_text: con đường dài lắm, sao anh để em đi một mình?\n",
      "Processing: FPTOpenSpeechData_Set001_V0.1_000253.mp3\n"
     ]
    },
    {
     "name": "stderr",
     "output_type": "stream",
     "text": [
      "/home/ngo/anaconda3/lib/python3.12/site-packages/whisper/transcribe.py:126: UserWarning: FP16 is not supported on CPU; using FP32 instead\n",
      "  warnings.warn(\"FP16 is not supported on CPU; using FP32 instead\")\n"
     ]
    },
    {
     "name": "stdout",
     "output_type": "stream",
     "text": [
      "reference_text: chỉ cần gọi bất cứ lúc nào anh muốn nói chuyện với tôi\n",
      "predicted_text: chỉ cần gọi bất cứ lúc nào anh muốn nói chuyện với tôi\n",
      "Processing: FPTOpenSpeechData_Set001_V0.1_000254.mp3\n"
     ]
    },
    {
     "name": "stderr",
     "output_type": "stream",
     "text": [
      "/home/ngo/anaconda3/lib/python3.12/site-packages/whisper/transcribe.py:126: UserWarning: FP16 is not supported on CPU; using FP32 instead\n",
      "  warnings.warn(\"FP16 is not supported on CPU; using FP32 instead\")\n"
     ]
    },
    {
     "name": "stdout",
     "output_type": "stream",
     "text": [
      "reference_text: trộm viếng thăm lấy hết đồ đạc trong nhà\n",
      "predicted_text: rộm biến thăm lấy hết đồ đạc trong nhà\n",
      "Processing: FPTOpenSpeechData_Set001_V0.1_000255.mp3\n"
     ]
    },
    {
     "name": "stderr",
     "output_type": "stream",
     "text": [
      "/home/ngo/anaconda3/lib/python3.12/site-packages/whisper/transcribe.py:126: UserWarning: FP16 is not supported on CPU; using FP32 instead\n",
      "  warnings.warn(\"FP16 is not supported on CPU; using FP32 instead\")\n"
     ]
    },
    {
     "name": "stdout",
     "output_type": "stream",
     "text": [
      "reference_text: nó đau ở đây\n",
      "predicted_text: nó đâu ở đây\n",
      "Processing: FPTOpenSpeechData_Set001_V0.1_000256.mp3\n"
     ]
    },
    {
     "name": "stderr",
     "output_type": "stream",
     "text": [
      "/home/ngo/anaconda3/lib/python3.12/site-packages/whisper/transcribe.py:126: UserWarning: FP16 is not supported on CPU; using FP32 instead\n",
      "  warnings.warn(\"FP16 is not supported on CPU; using FP32 instead\")\n"
     ]
    },
    {
     "name": "stdout",
     "output_type": "stream",
     "text": [
      "reference_text: nó rất ngon\n",
      "predicted_text: nó rất ngon\n",
      "Processing: FPTOpenSpeechData_Set001_V0.1_000257.mp3\n"
     ]
    },
    {
     "name": "stderr",
     "output_type": "stream",
     "text": [
      "/home/ngo/anaconda3/lib/python3.12/site-packages/whisper/transcribe.py:126: UserWarning: FP16 is not supported on CPU; using FP32 instead\n",
      "  warnings.warn(\"FP16 is not supported on CPU; using FP32 instead\")\n"
     ]
    },
    {
     "name": "stdout",
     "output_type": "stream",
     "text": [
      "reference_text: cho nên mặc dù có chất lượng tốt nhưng giá thành của nó lại rất cao và khó ứng dụng rộng\n",
      "predicted_text: cho nên, mặc dù có chất lượng tốt nhưng giá thành của nó lại rất cao và khó ứng dụng rộng.\n",
      "Processing: FPTOpenSpeechData_Set001_V0.1_000258.mp3\n"
     ]
    },
    {
     "name": "stderr",
     "output_type": "stream",
     "text": [
      "/home/ngo/anaconda3/lib/python3.12/site-packages/whisper/transcribe.py:126: UserWarning: FP16 is not supported on CPU; using FP32 instead\n",
      "  warnings.warn(\"FP16 is not supported on CPU; using FP32 instead\")\n"
     ]
    },
    {
     "name": "stdout",
     "output_type": "stream",
     "text": [
      "reference_text: tiếng nổ ì ầm vang lên từ những âm thanh chứa thuốc nổ mà các thợ mỏ ném vào không khí\n",
      "predicted_text: hãy subscribe cho kênh ghiền mì gõ để không bỏ lỡ những video hấp dẫn\n",
      "Processing: FPTOpenSpeechData_Set001_V0.1_000259.mp3\n"
     ]
    },
    {
     "name": "stderr",
     "output_type": "stream",
     "text": [
      "/home/ngo/anaconda3/lib/python3.12/site-packages/whisper/transcribe.py:126: UserWarning: FP16 is not supported on CPU; using FP32 instead\n",
      "  warnings.warn(\"FP16 is not supported on CPU; using FP32 instead\")\n"
     ]
    },
    {
     "name": "stdout",
     "output_type": "stream",
     "text": [
      "reference_text: chính vì vậy mà không khí tết dường như đến chậm hơn\n",
      "predicted_text: chính vì vậy mà không khí tết dường như đến chậm hơn.\n",
      "Processing: FPTOpenSpeechData_Set001_V0.1_000260.mp3\n"
     ]
    },
    {
     "name": "stderr",
     "output_type": "stream",
     "text": [
      "/home/ngo/anaconda3/lib/python3.12/site-packages/whisper/transcribe.py:126: UserWarning: FP16 is not supported on CPU; using FP32 instead\n",
      "  warnings.warn(\"FP16 is not supported on CPU; using FP32 instead\")\n"
     ]
    },
    {
     "name": "stdout",
     "output_type": "stream",
     "text": [
      "reference_text: làm ơn cho tôi loại thứ hai\n",
      "predicted_text: làm ơn cho tôi loại thứ hai\n",
      "Processing: FPTOpenSpeechData_Set001_V0.1_000261.mp3\n"
     ]
    },
    {
     "name": "stderr",
     "output_type": "stream",
     "text": [
      "/home/ngo/anaconda3/lib/python3.12/site-packages/whisper/transcribe.py:126: UserWarning: FP16 is not supported on CPU; using FP32 instead\n",
      "  warnings.warn(\"FP16 is not supported on CPU; using FP32 instead\")\n"
     ]
    },
    {
     "name": "stdout",
     "output_type": "stream",
     "text": [
      "reference_text: mưa sầm sập vừa ra ngoài trời quần áo chị lập tức ướt sũng\n",
      "predicted_text: mưa sầm sập vừa ra ngồi trời, quần áo chị lập tức ướt sống.\n",
      "Processing: FPTOpenSpeechData_Set001_V0.1_000262.mp3\n"
     ]
    },
    {
     "name": "stderr",
     "output_type": "stream",
     "text": [
      "/home/ngo/anaconda3/lib/python3.12/site-packages/whisper/transcribe.py:126: UserWarning: FP16 is not supported on CPU; using FP32 instead\n",
      "  warnings.warn(\"FP16 is not supported on CPU; using FP32 instead\")\n"
     ]
    },
    {
     "name": "stdout",
     "output_type": "stream",
     "text": [
      "reference_text: bị đuổi việc vác dao truy sát ông chủ\n",
      "predicted_text: bị đuổi việc vác dao phi sát ông thủ\n",
      "Processing: FPTOpenSpeechData_Set001_V0.1_000263.mp3\n"
     ]
    },
    {
     "name": "stderr",
     "output_type": "stream",
     "text": [
      "/home/ngo/anaconda3/lib/python3.12/site-packages/whisper/transcribe.py:126: UserWarning: FP16 is not supported on CPU; using FP32 instead\n",
      "  warnings.warn(\"FP16 is not supported on CPU; using FP32 instead\")\n"
     ]
    },
    {
     "name": "stdout",
     "output_type": "stream",
     "text": [
      "reference_text: ngỗng cũng có khả năng ghi nhớ từ trước tới giờ giới khảo cổ vẫn tưởng rằng não của ngỗng chỉ có thể lưu giữ thông tin vài giây\n",
      "predicted_text: ngỗng cũng có khả năng ghi nhớ từ trước tới giờ với khảo cổ vẫn tưởng rằng não của ngỗng chỉ có thể lưu giữ thông tin và dây.\n",
      "Processing: FPTOpenSpeechData_Set001_V0.1_000264.mp3\n"
     ]
    },
    {
     "name": "stderr",
     "output_type": "stream",
     "text": [
      "/home/ngo/anaconda3/lib/python3.12/site-packages/whisper/transcribe.py:126: UserWarning: FP16 is not supported on CPU; using FP32 instead\n",
      "  warnings.warn(\"FP16 is not supported on CPU; using FP32 instead\")\n"
     ]
    },
    {
     "name": "stdout",
     "output_type": "stream",
     "text": [
      "reference_text: chuyện sản xuất của lão chủ tịch họ nguyễn và họ đỗ mãi mãi vào sử sách\n",
      "predicted_text: chuyên sản xuất của anh lá chủ tịch phong yến và họ đỗ mãi mãi vào sửa sách.\n",
      "Processing: FPTOpenSpeechData_Set001_V0.1_000265.mp3\n"
     ]
    },
    {
     "name": "stderr",
     "output_type": "stream",
     "text": [
      "/home/ngo/anaconda3/lib/python3.12/site-packages/whisper/transcribe.py:126: UserWarning: FP16 is not supported on CPU; using FP32 instead\n",
      "  warnings.warn(\"FP16 is not supported on CPU; using FP32 instead\")\n"
     ]
    },
    {
     "name": "stdout",
     "output_type": "stream",
     "text": [
      "reference_text: vậy còn yếu tố tinh thần thì sao\n",
      "predicted_text: còn yếu tố tinh thần thì sao?\n",
      "Processing: FPTOpenSpeechData_Set001_V0.1_000266.mp3\n"
     ]
    },
    {
     "name": "stderr",
     "output_type": "stream",
     "text": [
      "/home/ngo/anaconda3/lib/python3.12/site-packages/whisper/transcribe.py:126: UserWarning: FP16 is not supported on CPU; using FP32 instead\n",
      "  warnings.warn(\"FP16 is not supported on CPU; using FP32 instead\")\n"
     ]
    },
    {
     "name": "stdout",
     "output_type": "stream",
     "text": [
      "reference_text: tôi muốn đăng ký một chuyến bay từ los angeles đi new york khởi hành vào ngày mười lăm và quay về vào ngày mười ba\n",
      "predicted_text: tối muộn đăng ký một chuyến bay từ los angeles đi new york khởi hành vào ngày 15 và quay về vào ngày 13.\n",
      "Processing: FPTOpenSpeechData_Set001_V0.1_000267.mp3\n"
     ]
    },
    {
     "name": "stderr",
     "output_type": "stream",
     "text": [
      "/home/ngo/anaconda3/lib/python3.12/site-packages/whisper/transcribe.py:126: UserWarning: FP16 is not supported on CPU; using FP32 instead\n",
      "  warnings.warn(\"FP16 is not supported on CPU; using FP32 instead\")\n"
     ]
    },
    {
     "name": "stdout",
     "output_type": "stream",
     "text": [
      "reference_text: xin lỗi tôi có thể tìm một đại lý lữ hành ở đâu\n",
      "predicted_text: xin lỗi, tôi có thể tìm một đại lý lựa hành ở đâu?\n",
      "Processing: FPTOpenSpeechData_Set001_V0.1_000268.mp3\n"
     ]
    },
    {
     "name": "stderr",
     "output_type": "stream",
     "text": [
      "/home/ngo/anaconda3/lib/python3.12/site-packages/whisper/transcribe.py:126: UserWarning: FP16 is not supported on CPU; using FP32 instead\n",
      "  warnings.warn(\"FP16 is not supported on CPU; using FP32 instead\")\n"
     ]
    },
    {
     "name": "stdout",
     "output_type": "stream",
     "text": [
      "reference_text: quí vị có phòng dành cho một đêm không\n",
      "predicted_text: quý vị có phòng dành cho một đêm không\n",
      "Processing: FPTOpenSpeechData_Set001_V0.1_000269.mp3\n"
     ]
    },
    {
     "name": "stderr",
     "output_type": "stream",
     "text": [
      "/home/ngo/anaconda3/lib/python3.12/site-packages/whisper/transcribe.py:126: UserWarning: FP16 is not supported on CPU; using FP32 instead\n",
      "  warnings.warn(\"FP16 is not supported on CPU; using FP32 instead\")\n"
     ]
    },
    {
     "name": "stdout",
     "output_type": "stream",
     "text": [
      "reference_text: cô ấy đang rất mong anh\n",
      "predicted_text: cô ấy đang rất mong anh\n",
      "Processing: FPTOpenSpeechData_Set001_V0.1_000270.mp3\n"
     ]
    },
    {
     "name": "stderr",
     "output_type": "stream",
     "text": [
      "/home/ngo/anaconda3/lib/python3.12/site-packages/whisper/transcribe.py:126: UserWarning: FP16 is not supported on CPU; using FP32 instead\n",
      "  warnings.warn(\"FP16 is not supported on CPU; using FP32 instead\")\n"
     ]
    },
    {
     "name": "stdout",
     "output_type": "stream",
     "text": [
      "reference_text: có tiếng rì rào từ xa đến gần\n",
      "predicted_text: có tiếng dì dào từ xa đến gần\n",
      "Processing: FPTOpenSpeechData_Set001_V0.1_000271.mp3\n"
     ]
    },
    {
     "name": "stderr",
     "output_type": "stream",
     "text": [
      "/home/ngo/anaconda3/lib/python3.12/site-packages/whisper/transcribe.py:126: UserWarning: FP16 is not supported on CPU; using FP32 instead\n",
      "  warnings.warn(\"FP16 is not supported on CPU; using FP32 instead\")\n"
     ]
    },
    {
     "name": "stdout",
     "output_type": "stream",
     "text": [
      "reference_text: một số cổ động viên còn dùng những lời lẽ thô tục chửi bới lực lượng công an\n",
      "predicted_text: một số cổ động viên còn dùng những lời lẽ thua tục chửi bới lực lượng công an\n",
      "Processing: FPTOpenSpeechData_Set001_V0.1_000272.mp3\n"
     ]
    },
    {
     "name": "stderr",
     "output_type": "stream",
     "text": [
      "/home/ngo/anaconda3/lib/python3.12/site-packages/whisper/transcribe.py:126: UserWarning: FP16 is not supported on CPU; using FP32 instead\n",
      "  warnings.warn(\"FP16 is not supported on CPU; using FP32 instead\")\n"
     ]
    },
    {
     "name": "stdout",
     "output_type": "stream",
     "text": [
      "reference_text: anh đem cho tôi một ít nước được không\n",
      "predicted_text: anh làm cho tôi một ý tưởng được không?\n",
      "Processing: FPTOpenSpeechData_Set001_V0.1_000273.mp3\n"
     ]
    },
    {
     "name": "stderr",
     "output_type": "stream",
     "text": [
      "/home/ngo/anaconda3/lib/python3.12/site-packages/whisper/transcribe.py:126: UserWarning: FP16 is not supported on CPU; using FP32 instead\n",
      "  warnings.warn(\"FP16 is not supported on CPU; using FP32 instead\")\n"
     ]
    },
    {
     "name": "stdout",
     "output_type": "stream",
     "text": [
      "reference_text: ti vi tăng tiếng đến sáu\n",
      "predicted_text: tv tăng tiếng đến 6\n",
      "Processing: FPTOpenSpeechData_Set001_V0.1_000274.mp3\n"
     ]
    },
    {
     "name": "stderr",
     "output_type": "stream",
     "text": [
      "/home/ngo/anaconda3/lib/python3.12/site-packages/whisper/transcribe.py:126: UserWarning: FP16 is not supported on CPU; using FP32 instead\n",
      "  warnings.warn(\"FP16 is not supported on CPU; using FP32 instead\")\n"
     ]
    },
    {
     "name": "stdout",
     "output_type": "stream",
     "text": [
      "reference_text: chúng tôi sẽ trả phòng khoảng giữa trưa\n",
      "predicted_text: chúng tôi sẽ trả phòng khoảng giữa trưa\n",
      "Processing: FPTOpenSpeechData_Set001_V0.1_000275.mp3\n"
     ]
    },
    {
     "name": "stderr",
     "output_type": "stream",
     "text": [
      "/home/ngo/anaconda3/lib/python3.12/site-packages/whisper/transcribe.py:126: UserWarning: FP16 is not supported on CPU; using FP32 instead\n",
      "  warnings.warn(\"FP16 is not supported on CPU; using FP32 instead\")\n"
     ]
    },
    {
     "name": "stdout",
     "output_type": "stream",
     "text": [
      "reference_text: honda đẩy mạnh sản xuất ở nước ngoài\n",
      "predicted_text: honda đẩy mạnh sản xuất ở nước ngoài\n",
      "Processing: FPTOpenSpeechData_Set001_V0.1_000276.mp3\n"
     ]
    },
    {
     "name": "stderr",
     "output_type": "stream",
     "text": [
      "/home/ngo/anaconda3/lib/python3.12/site-packages/whisper/transcribe.py:126: UserWarning: FP16 is not supported on CPU; using FP32 instead\n",
      "  warnings.warn(\"FP16 is not supported on CPU; using FP32 instead\")\n"
     ]
    },
    {
     "name": "stdout",
     "output_type": "stream",
     "text": [
      "reference_text: ti vi giảm âm lượng về bẩy\n",
      "predicted_text: pv giảm âm lượng về 7\n",
      "Processing: FPTOpenSpeechData_Set001_V0.1_000277.mp3\n"
     ]
    },
    {
     "name": "stderr",
     "output_type": "stream",
     "text": [
      "/home/ngo/anaconda3/lib/python3.12/site-packages/whisper/transcribe.py:126: UserWarning: FP16 is not supported on CPU; using FP32 instead\n",
      "  warnings.warn(\"FP16 is not supported on CPU; using FP32 instead\")\n"
     ]
    },
    {
     "name": "stdout",
     "output_type": "stream",
     "text": [
      "reference_text: con lợn rừng nhảy xuống sông và trốn thoát\n",
      "predicted_text: con nạn rực hãy sống sống và trốn thoát\n",
      "Processing: FPTOpenSpeechData_Set001_V0.1_000278.mp3\n"
     ]
    },
    {
     "name": "stderr",
     "output_type": "stream",
     "text": [
      "/home/ngo/anaconda3/lib/python3.12/site-packages/whisper/transcribe.py:126: UserWarning: FP16 is not supported on CPU; using FP32 instead\n",
      "  warnings.warn(\"FP16 is not supported on CPU; using FP32 instead\")\n"
     ]
    },
    {
     "name": "stdout",
     "output_type": "stream",
     "text": [
      "reference_text: tôi muốn một đôi giày thể thao\n",
      "predicted_text: cơ ơi, một người chạy thể thao\n",
      "Processing: FPTOpenSpeechData_Set001_V0.1_000279.mp3\n"
     ]
    },
    {
     "name": "stderr",
     "output_type": "stream",
     "text": [
      "/home/ngo/anaconda3/lib/python3.12/site-packages/whisper/transcribe.py:126: UserWarning: FP16 is not supported on CPU; using FP32 instead\n",
      "  warnings.warn(\"FP16 is not supported on CPU; using FP32 instead\")\n"
     ]
    },
    {
     "name": "stdout",
     "output_type": "stream",
     "text": [
      "reference_text: tôi cần nó trước thứ sáu\n",
      "predicted_text: tôi cần nói trước thứ 6.\n",
      "Processing: FPTOpenSpeechData_Set001_V0.1_000280.mp3\n"
     ]
    },
    {
     "name": "stderr",
     "output_type": "stream",
     "text": [
      "/home/ngo/anaconda3/lib/python3.12/site-packages/whisper/transcribe.py:126: UserWarning: FP16 is not supported on CPU; using FP32 instead\n",
      "  warnings.warn(\"FP16 is not supported on CPU; using FP32 instead\")\n"
     ]
    },
    {
     "name": "stdout",
     "output_type": "stream",
     "text": [
      "reference_text: ta hãy nghỉ một chút\n",
      "predicted_text: ta hãy nghỉ một chút\n",
      "Processing: FPTOpenSpeechData_Set001_V0.1_000281.mp3\n"
     ]
    },
    {
     "name": "stderr",
     "output_type": "stream",
     "text": [
      "/home/ngo/anaconda3/lib/python3.12/site-packages/whisper/transcribe.py:126: UserWarning: FP16 is not supported on CPU; using FP32 instead\n",
      "  warnings.warn(\"FP16 is not supported on CPU; using FP32 instead\")\n"
     ]
    },
    {
     "name": "stdout",
     "output_type": "stream",
     "text": [
      "reference_text: tôi muốn mua bơ\n",
      "predicted_text: các bạn muốn mua bơ?\n",
      "Processing: FPTOpenSpeechData_Set001_V0.1_000282.mp3\n"
     ]
    },
    {
     "name": "stderr",
     "output_type": "stream",
     "text": [
      "/home/ngo/anaconda3/lib/python3.12/site-packages/whisper/transcribe.py:126: UserWarning: FP16 is not supported on CPU; using FP32 instead\n",
      "  warnings.warn(\"FP16 is not supported on CPU; using FP32 instead\")\n"
     ]
    },
    {
     "name": "stdout",
     "output_type": "stream",
     "text": [
      "reference_text: hàng nghìn người trung á rời quê hương đến nga kiếm việc\n",
      "predicted_text: hãy subscribe cho kênh ghiền mì gõ để không bỏ lỡ những video hấp dẫn\n",
      "Processing: FPTOpenSpeechData_Set001_V0.1_000283.mp3\n"
     ]
    },
    {
     "name": "stderr",
     "output_type": "stream",
     "text": [
      "/home/ngo/anaconda3/lib/python3.12/site-packages/whisper/transcribe.py:126: UserWarning: FP16 is not supported on CPU; using FP32 instead\n",
      "  warnings.warn(\"FP16 is not supported on CPU; using FP32 instead\")\n"
     ]
    },
    {
     "name": "stdout",
     "output_type": "stream",
     "text": [
      "reference_text: giá một dặm là bao nhiêu\n",
      "predicted_text: giá một dầm là bao nhiêu?\n",
      "Processing: FPTOpenSpeechData_Set001_V0.1_000284.mp3\n"
     ]
    },
    {
     "name": "stderr",
     "output_type": "stream",
     "text": [
      "/home/ngo/anaconda3/lib/python3.12/site-packages/whisper/transcribe.py:126: UserWarning: FP16 is not supported on CPU; using FP32 instead\n",
      "  warnings.warn(\"FP16 is not supported on CPU; using FP32 instead\")\n"
     ]
    },
    {
     "name": "stdout",
     "output_type": "stream",
     "text": [
      "reference_text: tôi có thể thanh toán cho nó bằng đồng yên nhật không\n",
      "predicted_text: tôi có thể thanh toán cho nó bằng đồng yên nhật không?\n",
      "Processing: FPTOpenSpeechData_Set001_V0.1_000285.mp3\n"
     ]
    },
    {
     "name": "stderr",
     "output_type": "stream",
     "text": [
      "/home/ngo/anaconda3/lib/python3.12/site-packages/whisper/transcribe.py:126: UserWarning: FP16 is not supported on CPU; using FP32 instead\n",
      "  warnings.warn(\"FP16 is not supported on CPU; using FP32 instead\")\n"
     ]
    },
    {
     "name": "stdout",
     "output_type": "stream",
     "text": [
      "reference_text: quý vị có bị đau họng các triệu chứng cảm lạnh hay cúm không\n",
      "predicted_text: quý vị có bị đau hổng các triệu chứng cảm lạnh hay cũng không\n",
      "Processing: FPTOpenSpeechData_Set001_V0.1_000286.mp3\n"
     ]
    },
    {
     "name": "stderr",
     "output_type": "stream",
     "text": [
      "/home/ngo/anaconda3/lib/python3.12/site-packages/whisper/transcribe.py:126: UserWarning: FP16 is not supported on CPU; using FP32 instead\n",
      "  warnings.warn(\"FP16 is not supported on CPU; using FP32 instead\")\n"
     ]
    },
    {
     "name": "stdout",
     "output_type": "stream",
     "text": [
      "reference_text: một nghệ sĩ đích thực là phải lao động quần quật để mời gọi cảm hứng đến\n",
      "predicted_text: một nghệ sĩ đích thực là phải lao động, quần quật để mời gọi cảm hứng đến\n",
      "Processing: FPTOpenSpeechData_Set001_V0.1_000287.mp3\n"
     ]
    },
    {
     "name": "stderr",
     "output_type": "stream",
     "text": [
      "/home/ngo/anaconda3/lib/python3.12/site-packages/whisper/transcribe.py:126: UserWarning: FP16 is not supported on CPU; using FP32 instead\n",
      "  warnings.warn(\"FP16 is not supported on CPU; using FP32 instead\")\n"
     ]
    },
    {
     "name": "stdout",
     "output_type": "stream",
     "text": [
      "reference_text: được tôi sẽ làm nó ngay\n",
      "predicted_text: tôi sẽ làm món ăn\n",
      "Processing: FPTOpenSpeechData_Set001_V0.1_000288.mp3\n"
     ]
    },
    {
     "name": "stderr",
     "output_type": "stream",
     "text": [
      "/home/ngo/anaconda3/lib/python3.12/site-packages/whisper/transcribe.py:126: UserWarning: FP16 is not supported on CPU; using FP32 instead\n",
      "  warnings.warn(\"FP16 is not supported on CPU; using FP32 instead\")\n"
     ]
    },
    {
     "name": "stdout",
     "output_type": "stream",
     "text": [
      "reference_text: thể dục chơi thể thao nơi không khí trong lành\n",
      "predicted_text: chơi thể thao nơi không khí trong lành\n",
      "Processing: FPTOpenSpeechData_Set001_V0.1_000289.mp3\n"
     ]
    },
    {
     "name": "stderr",
     "output_type": "stream",
     "text": [
      "/home/ngo/anaconda3/lib/python3.12/site-packages/whisper/transcribe.py:126: UserWarning: FP16 is not supported on CPU; using FP32 instead\n",
      "  warnings.warn(\"FP16 is not supported on CPU; using FP32 instead\")\n"
     ]
    },
    {
     "name": "stdout",
     "output_type": "stream",
     "text": [
      "reference_text: ngoài vài sân bóng đá cầu lông mà chúng tôi mới làm lại thì hầu như chẳng có gì mới\n",
      "predicted_text: ngoài vài sân bóng đá cầu lông mà chúng tôi mới làm lại thì hầu như chẳng có gì mới.\n",
      "Processing: FPTOpenSpeechData_Set001_V0.1_000290.mp3\n"
     ]
    },
    {
     "name": "stderr",
     "output_type": "stream",
     "text": [
      "/home/ngo/anaconda3/lib/python3.12/site-packages/whisper/transcribe.py:126: UserWarning: FP16 is not supported on CPU; using FP32 instead\n",
      "  warnings.warn(\"FP16 is not supported on CPU; using FP32 instead\")\n"
     ]
    },
    {
     "name": "stdout",
     "output_type": "stream",
     "text": [
      "reference_text: mệt\n",
      "predicted_text: hẹn gặp lại các bạn trong những video tiếp theo.\n",
      "Processing: FPTOpenSpeechData_Set001_V0.1_000291.mp3\n"
     ]
    },
    {
     "name": "stderr",
     "output_type": "stream",
     "text": [
      "/home/ngo/anaconda3/lib/python3.12/site-packages/whisper/transcribe.py:126: UserWarning: FP16 is not supported on CPU; using FP32 instead\n",
      "  warnings.warn(\"FP16 is not supported on CPU; using FP32 instead\")\n"
     ]
    },
    {
     "name": "stdout",
     "output_type": "stream",
     "text": [
      "reference_text: tổng số tiền là hai trăm bốn mươi ba pound thưa mẹ\n",
      "predicted_text: tổng số tiền là 243 bao chứ mẹ\n",
      "Processing: FPTOpenSpeechData_Set001_V0.1_000292.mp3\n"
     ]
    },
    {
     "name": "stderr",
     "output_type": "stream",
     "text": [
      "/home/ngo/anaconda3/lib/python3.12/site-packages/whisper/transcribe.py:126: UserWarning: FP16 is not supported on CPU; using FP32 instead\n",
      "  warnings.warn(\"FP16 is not supported on CPU; using FP32 instead\")\n"
     ]
    },
    {
     "name": "stdout",
     "output_type": "stream",
     "text": [
      "reference_text: hầu hết rừng nằm ở ven sông , biển nên đã -n -n\n",
      "predicted_text: hầu hết rừng nằm ở bên sông, biển nên đã hàng ngày nên...\n",
      "Processing: FPTOpenSpeechData_Set001_V0.1_000293.mp3\n"
     ]
    },
    {
     "name": "stderr",
     "output_type": "stream",
     "text": [
      "/home/ngo/anaconda3/lib/python3.12/site-packages/whisper/transcribe.py:126: UserWarning: FP16 is not supported on CPU; using FP32 instead\n",
      "  warnings.warn(\"FP16 is not supported on CPU; using FP32 instead\")\n"
     ]
    },
    {
     "name": "stdout",
     "output_type": "stream",
     "text": [
      "reference_text: nhìn nó vậy mà giỏi nhỉ\n",
      "predicted_text: nhìn nó vẫy mè dõi nhịp.\n",
      "Processing: FPTOpenSpeechData_Set001_V0.1_000294.mp3\n"
     ]
    },
    {
     "name": "stderr",
     "output_type": "stream",
     "text": [
      "/home/ngo/anaconda3/lib/python3.12/site-packages/whisper/transcribe.py:126: UserWarning: FP16 is not supported on CPU; using FP32 instead\n",
      "  warnings.warn(\"FP16 is not supported on CPU; using FP32 instead\")\n"
     ]
    },
    {
     "name": "stdout",
     "output_type": "stream",
     "text": [
      "reference_text: tôi có thể nói mấy câu được không\n",
      "predicted_text: tôi có thể làm mẹ cô được không?\n",
      "Processing: FPTOpenSpeechData_Set001_V0.1_000295.mp3\n"
     ]
    },
    {
     "name": "stderr",
     "output_type": "stream",
     "text": [
      "/home/ngo/anaconda3/lib/python3.12/site-packages/whisper/transcribe.py:126: UserWarning: FP16 is not supported on CPU; using FP32 instead\n",
      "  warnings.warn(\"FP16 is not supported on CPU; using FP32 instead\")\n"
     ]
    },
    {
     "name": "stdout",
     "output_type": "stream",
     "text": [
      "reference_text: tuy nhiên các nhà khoa học châu âu vẫn chưa vừa ý với kết quả này\n",
      "predicted_text: tuy nhiên các nhà khoa học châu âu vẫn chưa vừa ý với kết quả này\n",
      "Processing: FPTOpenSpeechData_Set001_V0.1_000296.mp3\n"
     ]
    },
    {
     "name": "stderr",
     "output_type": "stream",
     "text": [
      "/home/ngo/anaconda3/lib/python3.12/site-packages/whisper/transcribe.py:126: UserWarning: FP16 is not supported on CPU; using FP32 instead\n",
      "  warnings.warn(\"FP16 is not supported on CPU; using FP32 instead\")\n"
     ]
    },
    {
     "name": "stdout",
     "output_type": "stream",
     "text": [
      "reference_text: tám tổ chức công đoàn ở đức tạo thành liên đoàn lao động đức\n",
      "predicted_text: 8 tổ chức công đoàn ở đức tạo thành liên đoàn lao động đức.\n",
      "Processing: FPTOpenSpeechData_Set001_V0.1_000297.mp3\n"
     ]
    },
    {
     "name": "stderr",
     "output_type": "stream",
     "text": [
      "/home/ngo/anaconda3/lib/python3.12/site-packages/whisper/transcribe.py:126: UserWarning: FP16 is not supported on CPU; using FP32 instead\n",
      "  warnings.warn(\"FP16 is not supported on CPU; using FP32 instead\")\n"
     ]
    },
    {
     "name": "stdout",
     "output_type": "stream",
     "text": [
      "reference_text: nói chuyện trịnh trọng nghe ghê quá\n",
      "predicted_text: nói chuyện trịnh trọng nghe ghê quá\n",
      "Processing: FPTOpenSpeechData_Set001_V0.1_000298.mp3\n"
     ]
    },
    {
     "name": "stderr",
     "output_type": "stream",
     "text": [
      "/home/ngo/anaconda3/lib/python3.12/site-packages/whisper/transcribe.py:126: UserWarning: FP16 is not supported on CPU; using FP32 instead\n",
      "  warnings.warn(\"FP16 is not supported on CPU; using FP32 instead\")\n"
     ]
    },
    {
     "name": "stdout",
     "output_type": "stream",
     "text": [
      "reference_text: tôi muốn nửa tá\n",
      "predicted_text: với muộn nửa tá\n",
      "Processing: FPTOpenSpeechData_Set001_V0.1_000299.mp3\n"
     ]
    },
    {
     "name": "stderr",
     "output_type": "stream",
     "text": [
      "/home/ngo/anaconda3/lib/python3.12/site-packages/whisper/transcribe.py:126: UserWarning: FP16 is not supported on CPU; using FP32 instead\n",
      "  warnings.warn(\"FP16 is not supported on CPU; using FP32 instead\")\n"
     ]
    },
    {
     "name": "stdout",
     "output_type": "stream",
     "text": [
      "reference_text: tôi cần một cái gì đó cho táo bón\n",
      "predicted_text: tôi cần một cái gì đó cho tạo bóng\n",
      "Processing: FPTOpenSpeechData_Set001_V0.1_000300.mp3\n"
     ]
    },
    {
     "name": "stderr",
     "output_type": "stream",
     "text": [
      "/home/ngo/anaconda3/lib/python3.12/site-packages/whisper/transcribe.py:126: UserWarning: FP16 is not supported on CPU; using FP32 instead\n",
      "  warnings.warn(\"FP16 is not supported on CPU; using FP32 instead\")\n"
     ]
    },
    {
     "name": "stdout",
     "output_type": "stream",
     "text": [
      "reference_text: vâng dave mark sachiko và rumi sẽ có ở bữa tiệc\n",
      "predicted_text: vâng đây max, sachiko và yumi sẽ có bữa tiệc\n",
      "Processing: FPTOpenSpeechData_Set001_V0.1_000301.mp3\n"
     ]
    },
    {
     "name": "stderr",
     "output_type": "stream",
     "text": [
      "/home/ngo/anaconda3/lib/python3.12/site-packages/whisper/transcribe.py:126: UserWarning: FP16 is not supported on CPU; using FP32 instead\n",
      "  warnings.warn(\"FP16 is not supported on CPU; using FP32 instead\")\n"
     ]
    },
    {
     "name": "stdout",
     "output_type": "stream",
     "text": [
      "reference_text: tình hình ở nước anh thì ngược lại phe nào phe nấy thi nhau đả kích thủ tướng của mình\n",
      "predicted_text: tuy hình ở nước anh thì ngược lại phe nào phe nấy thi nhau đã kích thủ tướng của mình\n",
      "Processing: FPTOpenSpeechData_Set001_V0.1_000302.mp3\n"
     ]
    },
    {
     "name": "stderr",
     "output_type": "stream",
     "text": [
      "/home/ngo/anaconda3/lib/python3.12/site-packages/whisper/transcribe.py:126: UserWarning: FP16 is not supported on CPU; using FP32 instead\n",
      "  warnings.warn(\"FP16 is not supported on CPU; using FP32 instead\")\n"
     ]
    },
    {
     "name": "stdout",
     "output_type": "stream",
     "text": [
      "reference_text: phòng có máy lạnh không\n",
      "predicted_text: phòng có máy lạnh không?\n",
      "Processing: FPTOpenSpeechData_Set001_V0.1_000303.mp3\n"
     ]
    },
    {
     "name": "stderr",
     "output_type": "stream",
     "text": [
      "/home/ngo/anaconda3/lib/python3.12/site-packages/whisper/transcribe.py:126: UserWarning: FP16 is not supported on CPU; using FP32 instead\n",
      "  warnings.warn(\"FP16 is not supported on CPU; using FP32 instead\")\n"
     ]
    },
    {
     "name": "stdout",
     "output_type": "stream",
     "text": [
      "reference_text: họ thoải mái với việc người bạn đường phải núp trong\n",
      "predicted_text: con gọi ngài tùy tiệt ngươi làm đường phải biết chống\n",
      "Processing: FPTOpenSpeechData_Set001_V0.1_000304.mp3\n"
     ]
    },
    {
     "name": "stderr",
     "output_type": "stream",
     "text": [
      "/home/ngo/anaconda3/lib/python3.12/site-packages/whisper/transcribe.py:126: UserWarning: FP16 is not supported on CPU; using FP32 instead\n",
      "  warnings.warn(\"FP16 is not supported on CPU; using FP32 instead\")\n"
     ]
    },
    {
     "name": "stdout",
     "output_type": "stream",
     "text": [
      "reference_text: cô gái kia yêu cầu gia đình không được báo với công an nếu không còn nguy hiểm tới tính mạng\n",
      "predicted_text: cô gái kia yêu cầu gia đình không được báo với công an, nếu không còn nguy hiểm tới tính mạng\n",
      "Processing: FPTOpenSpeechData_Set001_V0.1_000305.mp3\n"
     ]
    },
    {
     "name": "stderr",
     "output_type": "stream",
     "text": [
      "/home/ngo/anaconda3/lib/python3.12/site-packages/whisper/transcribe.py:126: UserWarning: FP16 is not supported on CPU; using FP32 instead\n",
      "  warnings.warn(\"FP16 is not supported on CPU; using FP32 instead\")\n"
     ]
    },
    {
     "name": "stdout",
     "output_type": "stream",
     "text": [
      "reference_text: được thưa anh\n",
      "predicted_text: được, được anh\n",
      "Processing: FPTOpenSpeechData_Set001_V0.1_000306.mp3\n"
     ]
    },
    {
     "name": "stderr",
     "output_type": "stream",
     "text": [
      "/home/ngo/anaconda3/lib/python3.12/site-packages/whisper/transcribe.py:126: UserWarning: FP16 is not supported on CPU; using FP32 instead\n",
      "  warnings.warn(\"FP16 is not supported on CPU; using FP32 instead\")\n"
     ]
    },
    {
     "name": "stdout",
     "output_type": "stream",
     "text": [
      "reference_text: nhà nước có thể hỗ trợ giá thuê bằng cách miễn giảm tiền sử dụng đất miễn giảm thuế\n",
      "predicted_text: nhà nước có thể hỗ trợ giá thuê bằng cách miễn giảm tiền sử dụng đất, miễn giảm thuê.\n",
      "Processing: FPTOpenSpeechData_Set001_V0.1_000307.mp3\n"
     ]
    },
    {
     "name": "stderr",
     "output_type": "stream",
     "text": [
      "/home/ngo/anaconda3/lib/python3.12/site-packages/whisper/transcribe.py:126: UserWarning: FP16 is not supported on CPU; using FP32 instead\n",
      "  warnings.warn(\"FP16 is not supported on CPU; using FP32 instead\")\n"
     ]
    },
    {
     "name": "stdout",
     "output_type": "stream",
     "text": [
      "reference_text: vui lòng mang cho tôi một ít giấy viết\n",
      "predicted_text: vui lòng mang cho tôi một ít chai huyết\n",
      "Processing: FPTOpenSpeechData_Set001_V0.1_000308.mp3\n"
     ]
    },
    {
     "name": "stderr",
     "output_type": "stream",
     "text": [
      "/home/ngo/anaconda3/lib/python3.12/site-packages/whisper/transcribe.py:126: UserWarning: FP16 is not supported on CPU; using FP32 instead\n",
      "  warnings.warn(\"FP16 is not supported on CPU; using FP32 instead\")\n"
     ]
    },
    {
     "name": "stdout",
     "output_type": "stream",
     "text": [
      "reference_text: công an huyện quảng ngãi đã triệu tập bố mẹ của cháu lĩnh là nguyễn văn vĩnh và võ thị thụy để lấy lời khai\n",
      "predicted_text: công an huyện quảng hải đã trợ tập bố mẹ của cháu lĩnh là nguyễn văn vĩ và võ thị thị để lấy lời khai.\n",
      "Processing: FPTOpenSpeechData_Set001_V0.1_000309.mp3\n"
     ]
    },
    {
     "name": "stderr",
     "output_type": "stream",
     "text": [
      "/home/ngo/anaconda3/lib/python3.12/site-packages/whisper/transcribe.py:126: UserWarning: FP16 is not supported on CPU; using FP32 instead\n",
      "  warnings.warn(\"FP16 is not supported on CPU; using FP32 instead\")\n"
     ]
    },
    {
     "name": "stdout",
     "output_type": "stream",
     "text": [
      "reference_text: bạn có những món hàng khác không\n",
      "predicted_text: bạn có những món hàng khác không\n",
      "Processing: FPTOpenSpeechData_Set001_V0.1_000310.mp3\n"
     ]
    },
    {
     "name": "stderr",
     "output_type": "stream",
     "text": [
      "/home/ngo/anaconda3/lib/python3.12/site-packages/whisper/transcribe.py:126: UserWarning: FP16 is not supported on CPU; using FP32 instead\n",
      "  warnings.warn(\"FP16 is not supported on CPU; using FP32 instead\")\n"
     ]
    },
    {
     "name": "stdout",
     "output_type": "stream",
     "text": [
      "reference_text: ti vi giảm tiếng về một\n",
      "predicted_text: tv giảm tiếng về 1\n",
      "Processing: FPTOpenSpeechData_Set001_V0.1_000311.mp3\n"
     ]
    },
    {
     "name": "stderr",
     "output_type": "stream",
     "text": [
      "/home/ngo/anaconda3/lib/python3.12/site-packages/whisper/transcribe.py:126: UserWarning: FP16 is not supported on CPU; using FP32 instead\n",
      "  warnings.warn(\"FP16 is not supported on CPU; using FP32 instead\")\n"
     ]
    },
    {
     "name": "stdout",
     "output_type": "stream",
     "text": [
      "reference_text: thu hoạch và bảo quản lúa là khâu cuối cùng trong một mùa vụ\n",
      "predicted_text: cứu mặt là bảo quản lý mới làm thật ít phương tiện được.\n",
      "Processing: FPTOpenSpeechData_Set001_V0.1_000312.mp3\n"
     ]
    },
    {
     "name": "stderr",
     "output_type": "stream",
     "text": [
      "/home/ngo/anaconda3/lib/python3.12/site-packages/whisper/transcribe.py:126: UserWarning: FP16 is not supported on CPU; using FP32 instead\n",
      "  warnings.warn(\"FP16 is not supported on CPU; using FP32 instead\")\n"
     ]
    },
    {
     "name": "stdout",
     "output_type": "stream",
     "text": [
      "reference_text: cha và dì cứ đổ riệt cho mẹ\n",
      "predicted_text: cha và dì cứ đổ riệt cho mẹ\n",
      "Processing: FPTOpenSpeechData_Set001_V0.1_000313.mp3\n"
     ]
    },
    {
     "name": "stderr",
     "output_type": "stream",
     "text": [
      "/home/ngo/anaconda3/lib/python3.12/site-packages/whisper/transcribe.py:126: UserWarning: FP16 is not supported on CPU; using FP32 instead\n",
      "  warnings.warn(\"FP16 is not supported on CPU; using FP32 instead\")\n"
     ]
    },
    {
     "name": "stdout",
     "output_type": "stream",
     "text": [
      "reference_text: tuy nhiên sự việc vừa đi qua đã chứng tỏ ông đã bắt đầu lo lắng cho an ninh của gia đình mình\n",
      "predicted_text: tuy nhiên sự việc vừa đi qua chứng tỏ ông đã bắt đầu lo lắng cho an ninh của gia đình mình.\n",
      "Processing: FPTOpenSpeechData_Set001_V0.1_000314.mp3\n"
     ]
    },
    {
     "name": "stderr",
     "output_type": "stream",
     "text": [
      "/home/ngo/anaconda3/lib/python3.12/site-packages/whisper/transcribe.py:126: UserWarning: FP16 is not supported on CPU; using FP32 instead\n",
      "  warnings.warn(\"FP16 is not supported on CPU; using FP32 instead\")\n"
     ]
    },
    {
     "name": "stdout",
     "output_type": "stream",
     "text": [
      "reference_text: một thành phố như thế xứng đáng được ca tụng\n",
      "predicted_text: như thế xứng đáng được cả tụi mình\n",
      "Processing: FPTOpenSpeechData_Set001_V0.1_000315.mp3\n"
     ]
    },
    {
     "name": "stderr",
     "output_type": "stream",
     "text": [
      "/home/ngo/anaconda3/lib/python3.12/site-packages/whisper/transcribe.py:126: UserWarning: FP16 is not supported on CPU; using FP32 instead\n",
      "  warnings.warn(\"FP16 is not supported on CPU; using FP32 instead\")\n"
     ]
    },
    {
     "name": "stdout",
     "output_type": "stream",
     "text": [
      "reference_text: cả sân thiên trường ồ lên tiếc nuối\n",
      "predicted_text: cảm ơn các chị hội đơn tính nguyện\n",
      "Processing: FPTOpenSpeechData_Set001_V0.1_000316.mp3\n"
     ]
    },
    {
     "name": "stderr",
     "output_type": "stream",
     "text": [
      "/home/ngo/anaconda3/lib/python3.12/site-packages/whisper/transcribe.py:126: UserWarning: FP16 is not supported on CPU; using FP32 instead\n",
      "  warnings.warn(\"FP16 is not supported on CPU; using FP32 instead\")\n"
     ]
    },
    {
     "name": "stdout",
     "output_type": "stream",
     "text": [
      "reference_text: chúng ta có thể bắt đầu không\n",
      "predicted_text: chúng ta có thể bắt đầu không?\n",
      "Processing: FPTOpenSpeechData_Set001_V0.1_000317.mp3\n"
     ]
    },
    {
     "name": "stderr",
     "output_type": "stream",
     "text": [
      "/home/ngo/anaconda3/lib/python3.12/site-packages/whisper/transcribe.py:126: UserWarning: FP16 is not supported on CPU; using FP32 instead\n",
      "  warnings.warn(\"FP16 is not supported on CPU; using FP32 instead\")\n"
     ]
    },
    {
     "name": "stdout",
     "output_type": "stream",
     "text": [
      "reference_text: phía bên phải cơ thể tôi bị đau rất tệ\n",
      "predicted_text: phía bên phải cơ thể tôi bị đau rất tệ\n",
      "Processing: FPTOpenSpeechData_Set001_V0.1_000318.mp3\n"
     ]
    },
    {
     "name": "stderr",
     "output_type": "stream",
     "text": [
      "/home/ngo/anaconda3/lib/python3.12/site-packages/whisper/transcribe.py:126: UserWarning: FP16 is not supported on CPU; using FP32 instead\n",
      "  warnings.warn(\"FP16 is not supported on CPU; using FP32 instead\")\n"
     ]
    },
    {
     "name": "stdout",
     "output_type": "stream",
     "text": [
      "reference_text: người dân ngán ngẩm với dịch vụ bệnh viện\n",
      "predicted_text: người dân nghe ngầm với dịch vụ bạch biệt\n",
      "Processing: FPTOpenSpeechData_Set001_V0.1_000319.mp3\n"
     ]
    },
    {
     "name": "stderr",
     "output_type": "stream",
     "text": [
      "/home/ngo/anaconda3/lib/python3.12/site-packages/whisper/transcribe.py:126: UserWarning: FP16 is not supported on CPU; using FP32 instead\n",
      "  warnings.warn(\"FP16 is not supported on CPU; using FP32 instead\")\n"
     ]
    },
    {
     "name": "stdout",
     "output_type": "stream",
     "text": [
      "reference_text: có cái gì gây ra cơn đau này không\n",
      "predicted_text: có cái gì gây ra cơn đau này không?\n",
      "Processing: FPTOpenSpeechData_Set001_V0.1_000320.mp3\n"
     ]
    },
    {
     "name": "stderr",
     "output_type": "stream",
     "text": [
      "/home/ngo/anaconda3/lib/python3.12/site-packages/whisper/transcribe.py:126: UserWarning: FP16 is not supported on CPU; using FP32 instead\n",
      "  warnings.warn(\"FP16 is not supported on CPU; using FP32 instead\")\n"
     ]
    },
    {
     "name": "stdout",
     "output_type": "stream",
     "text": [
      "reference_text: tôi cần phải về nhà bây giờ\n",
      "predicted_text: tôi cần phải về nhà bây giờ\n",
      "Processing: FPTOpenSpeechData_Set001_V0.1_000321.mp3\n"
     ]
    },
    {
     "name": "stderr",
     "output_type": "stream",
     "text": [
      "/home/ngo/anaconda3/lib/python3.12/site-packages/whisper/transcribe.py:126: UserWarning: FP16 is not supported on CPU; using FP32 instead\n",
      "  warnings.warn(\"FP16 is not supported on CPU; using FP32 instead\")\n"
     ]
    },
    {
     "name": "stdout",
     "output_type": "stream",
     "text": [
      "reference_text: không chỉ có mức lương trung bình thấp nhất ở đông bắc á mà công đoàn độc lập cũng không hiện hữu ở nơi này\n",
      "predicted_text: không chỉ có mức lương trung bình thấp nhất ở đông bắc pháp, mà còn đồng độc lực của các con hiện tựu ở đây nữa.\n",
      "Processing: FPTOpenSpeechData_Set001_V0.1_000322.mp3\n"
     ]
    },
    {
     "name": "stderr",
     "output_type": "stream",
     "text": [
      "/home/ngo/anaconda3/lib/python3.12/site-packages/whisper/transcribe.py:126: UserWarning: FP16 is not supported on CPU; using FP32 instead\n",
      "  warnings.warn(\"FP16 is not supported on CPU; using FP32 instead\")\n"
     ]
    },
    {
     "name": "stdout",
     "output_type": "stream",
     "text": [
      "reference_text: gia đình bart cho biết bộ phim phỉ báng ông đồng thời dọa sẽ kiện để bộ phim này không được phép chiếu\n",
      "predicted_text: gia đình park cho biết bộ phim bị bán ông, đồng thời dọa sẽ kiện bộ phim này không được phép chiếu.\n",
      "Processing: FPTOpenSpeechData_Set001_V0.1_000323.mp3\n"
     ]
    },
    {
     "name": "stderr",
     "output_type": "stream",
     "text": [
      "/home/ngo/anaconda3/lib/python3.12/site-packages/whisper/transcribe.py:126: UserWarning: FP16 is not supported on CPU; using FP32 instead\n",
      "  warnings.warn(\"FP16 is not supported on CPU; using FP32 instead\")\n"
     ]
    },
    {
     "name": "stdout",
     "output_type": "stream",
     "text": [
      "reference_text: số tiền này dự định sẽ được dùng để đỡ gánh chi phí an sinh xã hội cho các chủ doanh nghiệp và khuyến khích họ thuê thêm lao động\n",
      "predicted_text: số tiền này dự định sẽ được dùng để đỡ gánh chi phí ăn sinh xã hội cho các sủ doanh nghiệp và khuyến khích họ thuê thêm lao động.\n",
      "Processing: FPTOpenSpeechData_Set001_V0.1_000324.mp3\n"
     ]
    },
    {
     "name": "stderr",
     "output_type": "stream",
     "text": [
      "/home/ngo/anaconda3/lib/python3.12/site-packages/whisper/transcribe.py:126: UserWarning: FP16 is not supported on CPU; using FP32 instead\n",
      "  warnings.warn(\"FP16 is not supported on CPU; using FP32 instead\")\n"
     ]
    },
    {
     "name": "stdout",
     "output_type": "stream",
     "text": [
      "reference_text: vui lòng cho tôi biết tàu sẽ khởi hành đúng giờ không\n",
      "predicted_text: vui lòng cho tôi biết tàu sẽ khởi hành đúng giờ không?\n",
      "Processing: FPTOpenSpeechData_Set001_V0.1_000325.mp3\n"
     ]
    },
    {
     "name": "stderr",
     "output_type": "stream",
     "text": [
      "/home/ngo/anaconda3/lib/python3.12/site-packages/whisper/transcribe.py:126: UserWarning: FP16 is not supported on CPU; using FP32 instead\n",
      "  warnings.warn(\"FP16 is not supported on CPU; using FP32 instead\")\n"
     ]
    },
    {
     "name": "stdout",
     "output_type": "stream",
     "text": [
      "reference_text: bạn có biết hẹn hò\n",
      "predicted_text: mẹ con đi hết rồi\n",
      "Processing: FPTOpenSpeechData_Set001_V0.1_000326.mp3\n"
     ]
    },
    {
     "name": "stderr",
     "output_type": "stream",
     "text": [
      "/home/ngo/anaconda3/lib/python3.12/site-packages/whisper/transcribe.py:126: UserWarning: FP16 is not supported on CPU; using FP32 instead\n",
      "  warnings.warn(\"FP16 is not supported on CPU; using FP32 instead\")\n"
     ]
    },
    {
     "name": "stdout",
     "output_type": "stream",
     "text": [
      "reference_text: miễn thuế đối với nhà đầu tư trong nước kém ưu đãi hơn so với đầu tư nước ngoài\n",
      "predicted_text: miễn thuế đối với nhà đầu tư trong nước kém yêu đáy hơn so với đầu tư nước ngoài\n",
      "Processing: FPTOpenSpeechData_Set001_V0.1_000327.mp3\n"
     ]
    },
    {
     "name": "stderr",
     "output_type": "stream",
     "text": [
      "/home/ngo/anaconda3/lib/python3.12/site-packages/whisper/transcribe.py:126: UserWarning: FP16 is not supported on CPU; using FP32 instead\n",
      "  warnings.warn(\"FP16 is not supported on CPU; using FP32 instead\")\n"
     ]
    },
    {
     "name": "stdout",
     "output_type": "stream",
     "text": [
      "reference_text: đồng hồ tôi chậm ba phút\n",
      "predicted_text: đồng hồ tôi chậm 3 phút\n",
      "Processing: FPTOpenSpeechData_Set001_V0.1_000328.mp3\n"
     ]
    },
    {
     "name": "stderr",
     "output_type": "stream",
     "text": [
      "/home/ngo/anaconda3/lib/python3.12/site-packages/whisper/transcribe.py:126: UserWarning: FP16 is not supported on CPU; using FP32 instead\n",
      "  warnings.warn(\"FP16 is not supported on CPU; using FP32 instead\")\n"
     ]
    },
    {
     "name": "stdout",
     "output_type": "stream",
     "text": [
      "reference_text: cô rê chí mén \\r\\n và giấc mơ toàn cầu\n",
      "predicted_text: cury chí mến và giấc mơ toàn cầu.\n",
      "Processing: FPTOpenSpeechData_Set001_V0.1_000329.mp3\n"
     ]
    },
    {
     "name": "stderr",
     "output_type": "stream",
     "text": [
      "/home/ngo/anaconda3/lib/python3.12/site-packages/whisper/transcribe.py:126: UserWarning: FP16 is not supported on CPU; using FP32 instead\n",
      "  warnings.warn(\"FP16 is not supported on CPU; using FP32 instead\")\n"
     ]
    },
    {
     "name": "stdout",
     "output_type": "stream",
     "text": [
      "reference_text: lên các cuộc hẹn phỏng vấn và thực hiện phỏng vấn\n",
      "predicted_text: lên các cuộc hiện phong bón và thực hiện phong bón\n",
      "Processing: FPTOpenSpeechData_Set001_V0.1_000330.mp3\n"
     ]
    },
    {
     "name": "stderr",
     "output_type": "stream",
     "text": [
      "/home/ngo/anaconda3/lib/python3.12/site-packages/whisper/transcribe.py:126: UserWarning: FP16 is not supported on CPU; using FP32 instead\n",
      "  warnings.warn(\"FP16 is not supported on CPU; using FP32 instead\")\n"
     ]
    },
    {
     "name": "stdout",
     "output_type": "stream",
     "text": [
      "reference_text: tôi sẽ kê toa thuốc cho anh\n",
      "predicted_text: tôi sẽ kê ta thuốc cho anh\n",
      "Processing: FPTOpenSpeechData_Set001_V0.1_000331.mp3\n"
     ]
    },
    {
     "name": "stderr",
     "output_type": "stream",
     "text": [
      "/home/ngo/anaconda3/lib/python3.12/site-packages/whisper/transcribe.py:126: UserWarning: FP16 is not supported on CPU; using FP32 instead\n",
      "  warnings.warn(\"FP16 is not supported on CPU; using FP32 instead\")\n"
     ]
    },
    {
     "name": "stdout",
     "output_type": "stream",
     "text": [
      "reference_text: khách hàng chờ nhận hành lý thất lạc\n",
      "predicted_text: khách hàng chờ nhận hành ý thích làm\n",
      "Processing: FPTOpenSpeechData_Set001_V0.1_000332.mp3\n"
     ]
    },
    {
     "name": "stderr",
     "output_type": "stream",
     "text": [
      "/home/ngo/anaconda3/lib/python3.12/site-packages/whisper/transcribe.py:126: UserWarning: FP16 is not supported on CPU; using FP32 instead\n",
      "  warnings.warn(\"FP16 is not supported on CPU; using FP32 instead\")\n"
     ]
    },
    {
     "name": "stdout",
     "output_type": "stream",
     "text": [
      "reference_text: ti vi tắt âm lượng\n",
      "predicted_text: tv tắt âm lượng\n",
      "Processing: FPTOpenSpeechData_Set001_V0.1_000333.mp3\n"
     ]
    },
    {
     "name": "stderr",
     "output_type": "stream",
     "text": [
      "/home/ngo/anaconda3/lib/python3.12/site-packages/whisper/transcribe.py:126: UserWarning: FP16 is not supported on CPU; using FP32 instead\n",
      "  warnings.warn(\"FP16 is not supported on CPU; using FP32 instead\")\n"
     ]
    },
    {
     "name": "stdout",
     "output_type": "stream",
     "text": [
      "reference_text: trường là người rất có kỷ luật nhưng làm việc hơi cẩu thả một chút\n",
      "predicted_text: trường là người rất có kỷ lục, nhưng làm việc hơi cậu thả một chút.\n",
      "Processing: FPTOpenSpeechData_Set001_V0.1_000334.mp3\n"
     ]
    },
    {
     "name": "stderr",
     "output_type": "stream",
     "text": [
      "/home/ngo/anaconda3/lib/python3.12/site-packages/whisper/transcribe.py:126: UserWarning: FP16 is not supported on CPU; using FP32 instead\n",
      "  warnings.warn(\"FP16 is not supported on CPU; using FP32 instead\")\n"
     ]
    },
    {
     "name": "stdout",
     "output_type": "stream",
     "text": [
      "reference_text: có lẽ bạn đang nghĩ rằng bạn vẫn luôn cư xử một cách đúng mực\n",
      "predicted_text: có lẽ bạn đang nghĩ rằng bạn vẫn luôn cư xử một cách đúng mật.\n",
      "Processing: FPTOpenSpeechData_Set001_V0.1_000335.mp3\n"
     ]
    },
    {
     "name": "stderr",
     "output_type": "stream",
     "text": [
      "/home/ngo/anaconda3/lib/python3.12/site-packages/whisper/transcribe.py:126: UserWarning: FP16 is not supported on CPU; using FP32 instead\n",
      "  warnings.warn(\"FP16 is not supported on CPU; using FP32 instead\")\n"
     ]
    },
    {
     "name": "stdout",
     "output_type": "stream",
     "text": [
      "reference_text: buộc tháo dỡ phần vi phạm ngay như quận bình thạnh\n",
      "predicted_text: buộc tháo dỡ phần vi phạm ngay như quận bình thạnh.\n",
      "Processing: FPTOpenSpeechData_Set001_V0.1_000336.mp3\n"
     ]
    },
    {
     "name": "stderr",
     "output_type": "stream",
     "text": [
      "/home/ngo/anaconda3/lib/python3.12/site-packages/whisper/transcribe.py:126: UserWarning: FP16 is not supported on CPU; using FP32 instead\n",
      "  warnings.warn(\"FP16 is not supported on CPU; using FP32 instead\")\n"
     ]
    },
    {
     "name": "stdout",
     "output_type": "stream",
     "text": [
      "reference_text: bạn sẽ chỉ huy một hạm đội gồm các tàu chiến chiến hạm\n",
      "predicted_text: bạn sẽ chỉ huy một hạm đội gồm các tàu chiến chiến hạm.\n",
      "Processing: FPTOpenSpeechData_Set001_V0.1_000337.mp3\n"
     ]
    },
    {
     "name": "stderr",
     "output_type": "stream",
     "text": [
      "/home/ngo/anaconda3/lib/python3.12/site-packages/whisper/transcribe.py:126: UserWarning: FP16 is not supported on CPU; using FP32 instead\n",
      "  warnings.warn(\"FP16 is not supported on CPU; using FP32 instead\")\n"
     ]
    },
    {
     "name": "stdout",
     "output_type": "stream",
     "text": [
      "reference_text: bác tư re\n",
      "predicted_text: bác tư re\n",
      "Processing: FPTOpenSpeechData_Set001_V0.1_000338.mp3\n"
     ]
    },
    {
     "name": "stderr",
     "output_type": "stream",
     "text": [
      "/home/ngo/anaconda3/lib/python3.12/site-packages/whisper/transcribe.py:126: UserWarning: FP16 is not supported on CPU; using FP32 instead\n",
      "  warnings.warn(\"FP16 is not supported on CPU; using FP32 instead\")\n"
     ]
    },
    {
     "name": "stdout",
     "output_type": "stream",
     "text": [
      "reference_text: tôi sẽ ở nhà một người bạn tại new york\n",
      "predicted_text: tôi sẽ ở nhà một người bạn tại new york\n",
      "Processing: FPTOpenSpeechData_Set001_V0.1_000339.mp3\n"
     ]
    },
    {
     "name": "stderr",
     "output_type": "stream",
     "text": [
      "/home/ngo/anaconda3/lib/python3.12/site-packages/whisper/transcribe.py:126: UserWarning: FP16 is not supported on CPU; using FP32 instead\n",
      "  warnings.warn(\"FP16 is not supported on CPU; using FP32 instead\")\n"
     ]
    },
    {
     "name": "stdout",
     "output_type": "stream",
     "text": [
      "reference_text: cái này hoàn toàn tự động , vì vậy anh cần bấm nút mở ống kính\n",
      "predicted_text: cái này hoàn toàn tự động, vì vậy anh cần bấm nút mở ống kính\n",
      "Processing: FPTOpenSpeechData_Set001_V0.1_000340.mp3\n"
     ]
    },
    {
     "name": "stderr",
     "output_type": "stream",
     "text": [
      "/home/ngo/anaconda3/lib/python3.12/site-packages/whisper/transcribe.py:126: UserWarning: FP16 is not supported on CPU; using FP32 instead\n",
      "  warnings.warn(\"FP16 is not supported on CPU; using FP32 instead\")\n"
     ]
    },
    {
     "name": "stdout",
     "output_type": "stream",
     "text": [
      "reference_text: phân của quí vị có màu đen bao lâu rồi\n",
      "predicted_text: vẫn của quý vị cậu bao đêm bao lâu rồi\n",
      "Processing: FPTOpenSpeechData_Set001_V0.1_000341.mp3\n"
     ]
    },
    {
     "name": "stderr",
     "output_type": "stream",
     "text": [
      "/home/ngo/anaconda3/lib/python3.12/site-packages/whisper/transcribe.py:126: UserWarning: FP16 is not supported on CPU; using FP32 instead\n",
      "  warnings.warn(\"FP16 is not supported on CPU; using FP32 instead\")\n"
     ]
    },
    {
     "name": "stdout",
     "output_type": "stream",
     "text": [
      "reference_text: khát mộng tủ\n",
      "predicted_text: khép mộng tủ\n",
      "Processing: FPTOpenSpeechData_Set001_V0.1_000342.mp3\n"
     ]
    },
    {
     "name": "stderr",
     "output_type": "stream",
     "text": [
      "/home/ngo/anaconda3/lib/python3.12/site-packages/whisper/transcribe.py:126: UserWarning: FP16 is not supported on CPU; using FP32 instead\n",
      "  warnings.warn(\"FP16 is not supported on CPU; using FP32 instead\")\n"
     ]
    },
    {
     "name": "stdout",
     "output_type": "stream",
     "text": [
      "reference_text: tôi đi bộ\n",
      "predicted_text: tôi đi bộ\n",
      "Processing: FPTOpenSpeechData_Set001_V0.1_000343.mp3\n"
     ]
    },
    {
     "name": "stderr",
     "output_type": "stream",
     "text": [
      "/home/ngo/anaconda3/lib/python3.12/site-packages/whisper/transcribe.py:126: UserWarning: FP16 is not supported on CPU; using FP32 instead\n",
      "  warnings.warn(\"FP16 is not supported on CPU; using FP32 instead\")\n"
     ]
    },
    {
     "name": "stdout",
     "output_type": "stream",
     "text": [
      "reference_text: con trai của họ ăn nhiều nhất\n",
      "predicted_text: con trai của họ ăn nhiều nhất\n",
      "Processing: FPTOpenSpeechData_Set001_V0.1_000344.mp3\n"
     ]
    },
    {
     "name": "stderr",
     "output_type": "stream",
     "text": [
      "/home/ngo/anaconda3/lib/python3.12/site-packages/whisper/transcribe.py:126: UserWarning: FP16 is not supported on CPU; using FP32 instead\n",
      "  warnings.warn(\"FP16 is not supported on CPU; using FP32 instead\")\n"
     ]
    },
    {
     "name": "stdout",
     "output_type": "stream",
     "text": [
      "reference_text: anh có mang tiền lẻ không\n",
      "predicted_text: anh có mang tiền lẻ không?\n",
      "Processing: FPTOpenSpeechData_Set001_V0.1_000345.mp3\n"
     ]
    },
    {
     "name": "stderr",
     "output_type": "stream",
     "text": [
      "/home/ngo/anaconda3/lib/python3.12/site-packages/whisper/transcribe.py:126: UserWarning: FP16 is not supported on CPU; using FP32 instead\n",
      "  warnings.warn(\"FP16 is not supported on CPU; using FP32 instead\")\n"
     ]
    },
    {
     "name": "stdout",
     "output_type": "stream",
     "text": [
      "reference_text: xin chào vui lòng nối máy cho tôi đến bàn đặt phòng\n",
      "predicted_text: xin chào, vui lòng mỗi máy cho tôi đến bàn tập phòng.\n",
      "Processing: FPTOpenSpeechData_Set001_V0.1_000346.mp3\n"
     ]
    },
    {
     "name": "stderr",
     "output_type": "stream",
     "text": [
      "/home/ngo/anaconda3/lib/python3.12/site-packages/whisper/transcribe.py:126: UserWarning: FP16 is not supported on CPU; using FP32 instead\n",
      "  warnings.warn(\"FP16 is not supported on CPU; using FP32 instead\")\n"
     ]
    },
    {
     "name": "stdout",
     "output_type": "stream",
     "text": [
      "reference_text: chúng tôi phải đi bây giờ tôi rất thích bài khiêu vũ\n",
      "predicted_text: chúng tôi phải đi bây giờ. tôi rất thích bài cơ vụ.\n",
      "Processing: FPTOpenSpeechData_Set001_V0.1_000347.mp3\n"
     ]
    },
    {
     "name": "stderr",
     "output_type": "stream",
     "text": [
      "/home/ngo/anaconda3/lib/python3.12/site-packages/whisper/transcribe.py:126: UserWarning: FP16 is not supported on CPU; using FP32 instead\n",
      "  warnings.warn(\"FP16 is not supported on CPU; using FP32 instead\")\n"
     ]
    },
    {
     "name": "stdout",
     "output_type": "stream",
     "text": [
      "reference_text: hôm nay su không ở đây\n",
      "predicted_text: hôm nay su không ở đây\n",
      "Processing: FPTOpenSpeechData_Set001_V0.1_000348.mp3\n"
     ]
    },
    {
     "name": "stderr",
     "output_type": "stream",
     "text": [
      "/home/ngo/anaconda3/lib/python3.12/site-packages/whisper/transcribe.py:126: UserWarning: FP16 is not supported on CPU; using FP32 instead\n",
      "  warnings.warn(\"FP16 is not supported on CPU; using FP32 instead\")\n"
     ]
    },
    {
     "name": "stdout",
     "output_type": "stream",
     "text": [
      "reference_text: bữa sáng có gì\n",
      "predicted_text: bữa sáng có gì?\n",
      "Processing: FPTOpenSpeechData_Set001_V0.1_000349.mp3\n"
     ]
    },
    {
     "name": "stderr",
     "output_type": "stream",
     "text": [
      "/home/ngo/anaconda3/lib/python3.12/site-packages/whisper/transcribe.py:126: UserWarning: FP16 is not supported on CPU; using FP32 instead\n",
      "  warnings.warn(\"FP16 is not supported on CPU; using FP32 instead\")\n"
     ]
    },
    {
     "name": "stdout",
     "output_type": "stream",
     "text": [
      "reference_text: tôi muốn chỉ ra rằng\n",
      "predicted_text: của mọi người đã răng\n",
      "Processing: FPTOpenSpeechData_Set001_V0.1_000350.mp3\n"
     ]
    },
    {
     "name": "stderr",
     "output_type": "stream",
     "text": [
      "/home/ngo/anaconda3/lib/python3.12/site-packages/whisper/transcribe.py:126: UserWarning: FP16 is not supported on CPU; using FP32 instead\n",
      "  warnings.warn(\"FP16 is not supported on CPU; using FP32 instead\")\n"
     ]
    },
    {
     "name": "stdout",
     "output_type": "stream",
     "text": [
      "reference_text: do vậy việc y án sơ thẩm là hoàn toàn có cơ sở\n",
      "predicted_text: do vậy, việc y án sơ thẩm là hoàn toàn khó cơ sở.\n",
      "Processing: FPTOpenSpeechData_Set001_V0.1_000351.mp3\n"
     ]
    },
    {
     "name": "stderr",
     "output_type": "stream",
     "text": [
      "/home/ngo/anaconda3/lib/python3.12/site-packages/whisper/transcribe.py:126: UserWarning: FP16 is not supported on CPU; using FP32 instead\n",
      "  warnings.warn(\"FP16 is not supported on CPU; using FP32 instead\")\n"
     ]
    },
    {
     "name": "stdout",
     "output_type": "stream",
     "text": [
      "reference_text: động cơ bị nóng quá\n",
      "predicted_text: động cơ bị nóng quá\n",
      "Processing: FPTOpenSpeechData_Set001_V0.1_000352.mp3\n"
     ]
    },
    {
     "name": "stderr",
     "output_type": "stream",
     "text": [
      "/home/ngo/anaconda3/lib/python3.12/site-packages/whisper/transcribe.py:126: UserWarning: FP16 is not supported on CPU; using FP32 instead\n",
      "  warnings.warn(\"FP16 is not supported on CPU; using FP32 instead\")\n"
     ]
    },
    {
     "name": "stdout",
     "output_type": "stream",
     "text": [
      "reference_text: hầu như không ai chú ý đến những mệnh lệnh ông đưa ra nữa binh lính thì không chịu chiến đấu\n",
      "predicted_text: hãy subscribe cho kênh ghiền mì gõ để không bỏ lỡ những video hấp dẫn\n",
      "Processing: FPTOpenSpeechData_Set001_V0.1_000353.mp3\n"
     ]
    },
    {
     "name": "stderr",
     "output_type": "stream",
     "text": [
      "/home/ngo/anaconda3/lib/python3.12/site-packages/whisper/transcribe.py:126: UserWarning: FP16 is not supported on CPU; using FP32 instead\n",
      "  warnings.warn(\"FP16 is not supported on CPU; using FP32 instead\")\n"
     ]
    },
    {
     "name": "stdout",
     "output_type": "stream",
     "text": [
      "reference_text: tôi đến cùng bạn tôi được không\n",
      "predicted_text: tôi đến cùng bạn tôi được không?\n",
      "Processing: FPTOpenSpeechData_Set001_V0.1_000354.mp3\n"
     ]
    },
    {
     "name": "stderr",
     "output_type": "stream",
     "text": [
      "/home/ngo/anaconda3/lib/python3.12/site-packages/whisper/transcribe.py:126: UserWarning: FP16 is not supported on CPU; using FP32 instead\n",
      "  warnings.warn(\"FP16 is not supported on CPU; using FP32 instead\")\n"
     ]
    },
    {
     "name": "stdout",
     "output_type": "stream",
     "text": [
      "reference_text: chừng nào thì khu bị đóng cửa sẽ mở cửa cho xe đi\n",
      "predicted_text: chừng nào thầy cô bị đóng cửa, sẽ mở cửa cho xe đi.\n",
      "Processing: FPTOpenSpeechData_Set001_V0.1_000355.mp3\n"
     ]
    },
    {
     "name": "stderr",
     "output_type": "stream",
     "text": [
      "/home/ngo/anaconda3/lib/python3.12/site-packages/whisper/transcribe.py:126: UserWarning: FP16 is not supported on CPU; using FP32 instead\n",
      "  warnings.warn(\"FP16 is not supported on CPU; using FP32 instead\")\n"
     ]
    },
    {
     "name": "stdout",
     "output_type": "stream",
     "text": [
      "reference_text: đây là một áp lực nặng nề đối với các đơn vị sản xuất thép\n",
      "predicted_text: đây là một áp lực nặng nề đối với các đơn vị sản xuất thép\n",
      "Processing: FPTOpenSpeechData_Set001_V0.1_000356.mp3\n"
     ]
    },
    {
     "name": "stderr",
     "output_type": "stream",
     "text": [
      "/home/ngo/anaconda3/lib/python3.12/site-packages/whisper/transcribe.py:126: UserWarning: FP16 is not supported on CPU; using FP32 instead\n",
      "  warnings.warn(\"FP16 is not supported on CPU; using FP32 instead\")\n"
     ]
    },
    {
     "name": "stdout",
     "output_type": "stream",
     "text": [
      "reference_text: sản phẩm đã được miễn giảm thuế chủ yếu phục vụ thị trường các tỉnh miền tây nam bộ đã biến khỏi mĩ khởi\n",
      "predicted_text: sản phẩm đã được miễn giảm thuế, chủ yếu phục vụ thị trường các tỉnh miền tây nam bộ đã biến khỏi mỹ khởi.\n",
      "Processing: FPTOpenSpeechData_Set001_V0.1_000357.mp3\n"
     ]
    },
    {
     "name": "stderr",
     "output_type": "stream",
     "text": [
      "/home/ngo/anaconda3/lib/python3.12/site-packages/whisper/transcribe.py:126: UserWarning: FP16 is not supported on CPU; using FP32 instead\n",
      "  warnings.warn(\"FP16 is not supported on CPU; using FP32 instead\")\n"
     ]
    },
    {
     "name": "stdout",
     "output_type": "stream",
     "text": [
      "reference_text: tôi nói cậu có nghe không\n",
      "predicted_text: tôi nói, cậu có nghe không?\n",
      "Processing: FPTOpenSpeechData_Set001_V0.1_000358.mp3\n"
     ]
    },
    {
     "name": "stderr",
     "output_type": "stream",
     "text": [
      "/home/ngo/anaconda3/lib/python3.12/site-packages/whisper/transcribe.py:126: UserWarning: FP16 is not supported on CPU; using FP32 instead\n",
      "  warnings.warn(\"FP16 is not supported on CPU; using FP32 instead\")\n"
     ]
    },
    {
     "name": "stdout",
     "output_type": "stream",
     "text": [
      "reference_text: tôi có thể ở lại ba đêm không\n",
      "predicted_text: tôi có thể là 3 đêm công\n",
      "Processing: FPTOpenSpeechData_Set001_V0.1_000359.mp3\n"
     ]
    },
    {
     "name": "stderr",
     "output_type": "stream",
     "text": [
      "/home/ngo/anaconda3/lib/python3.12/site-packages/whisper/transcribe.py:126: UserWarning: FP16 is not supported on CPU; using FP32 instead\n",
      "  warnings.warn(\"FP16 is not supported on CPU; using FP32 instead\")\n"
     ]
    },
    {
     "name": "stdout",
     "output_type": "stream",
     "text": [
      "reference_text: tuy nhiên giá bán vẫn giữ mức khá cao\n",
      "predicted_text: tuy nhiên, giả bán vẫn giữ mức khá cao\n",
      "Processing: FPTOpenSpeechData_Set001_V0.1_000360.mp3\n"
     ]
    },
    {
     "name": "stderr",
     "output_type": "stream",
     "text": [
      "/home/ngo/anaconda3/lib/python3.12/site-packages/whisper/transcribe.py:126: UserWarning: FP16 is not supported on CPU; using FP32 instead\n",
      "  warnings.warn(\"FP16 is not supported on CPU; using FP32 instead\")\n"
     ]
    },
    {
     "name": "stdout",
     "output_type": "stream",
     "text": [
      "reference_text: tôi có một số câu hỏi về điều khoản số tám\n",
      "predicted_text: các bạn có một số câu hỏi về điều khoản số 8?\n",
      "Processing: FPTOpenSpeechData_Set001_V0.1_000361.mp3\n"
     ]
    },
    {
     "name": "stderr",
     "output_type": "stream",
     "text": [
      "/home/ngo/anaconda3/lib/python3.12/site-packages/whisper/transcribe.py:126: UserWarning: FP16 is not supported on CPU; using FP32 instead\n",
      "  warnings.warn(\"FP16 is not supported on CPU; using FP32 instead\")\n"
     ]
    },
    {
     "name": "stdout",
     "output_type": "stream",
     "text": [
      "reference_text: tôi thường có nhưng tôi thích nghỉ hè\n",
      "predicted_text: tôi thường có nhưng tôi thích mì hè\n",
      "Processing: FPTOpenSpeechData_Set001_V0.1_000362.mp3\n"
     ]
    },
    {
     "name": "stderr",
     "output_type": "stream",
     "text": [
      "/home/ngo/anaconda3/lib/python3.12/site-packages/whisper/transcribe.py:126: UserWarning: FP16 is not supported on CPU; using FP32 instead\n",
      "  warnings.warn(\"FP16 is not supported on CPU; using FP32 instead\")\n"
     ]
    },
    {
     "name": "stdout",
     "output_type": "stream",
     "text": [
      "reference_text: ngày mai chúng tôi phải dậy sớm\n",
      "predicted_text: ngày mai chúng tôi phải dậy sớm\n",
      "Processing: FPTOpenSpeechData_Set001_V0.1_000363.mp3\n"
     ]
    },
    {
     "name": "stderr",
     "output_type": "stream",
     "text": [
      "/home/ngo/anaconda3/lib/python3.12/site-packages/whisper/transcribe.py:126: UserWarning: FP16 is not supported on CPU; using FP32 instead\n",
      "  warnings.warn(\"FP16 is not supported on CPU; using FP32 instead\")\n"
     ]
    },
    {
     "name": "stdout",
     "output_type": "stream",
     "text": [
      "reference_text: dòng sản phẩm thảm đỏ thôi miên mọi ánh nhìn bởi chi tiết xếp nếp mềm mại\n",
      "predicted_text: dòng sản phẩm thảm đỏ thôi miễn mọi ánh nhìn bởi chi tiết xịp nếp mềm mài\n",
      "Processing: FPTOpenSpeechData_Set001_V0.1_000364.mp3\n"
     ]
    },
    {
     "name": "stderr",
     "output_type": "stream",
     "text": [
      "/home/ngo/anaconda3/lib/python3.12/site-packages/whisper/transcribe.py:126: UserWarning: FP16 is not supported on CPU; using FP32 instead\n",
      "  warnings.warn(\"FP16 is not supported on CPU; using FP32 instead\")\n"
     ]
    },
    {
     "name": "stdout",
     "output_type": "stream",
     "text": [
      "reference_text: với dầu và mụn mặt nạ táo và mật ong sẽ giúp bạn cải thiện làn da\n",
      "predicted_text: với dầu và mụn mặt nạ táo và mật ong sẽ giúp bạn cải thiện làn da\n",
      "Processing: FPTOpenSpeechData_Set001_V0.1_000365.mp3\n"
     ]
    },
    {
     "name": "stderr",
     "output_type": "stream",
     "text": [
      "/home/ngo/anaconda3/lib/python3.12/site-packages/whisper/transcribe.py:126: UserWarning: FP16 is not supported on CPU; using FP32 instead\n",
      "  warnings.warn(\"FP16 is not supported on CPU; using FP32 instead\")\n"
     ]
    },
    {
     "name": "stdout",
     "output_type": "stream",
     "text": [
      "reference_text: và tăng khả năng sinh sản\n",
      "predicted_text: và tăng khả năng sinh sản.\n",
      "Processing: FPTOpenSpeechData_Set001_V0.1_000366.mp3\n"
     ]
    },
    {
     "name": "stderr",
     "output_type": "stream",
     "text": [
      "/home/ngo/anaconda3/lib/python3.12/site-packages/whisper/transcribe.py:126: UserWarning: FP16 is not supported on CPU; using FP32 instead\n",
      "  warnings.warn(\"FP16 is not supported on CPU; using FP32 instead\")\n"
     ]
    },
    {
     "name": "stdout",
     "output_type": "stream",
     "text": [
      "reference_text: tại bữa cơm nhấp xong chén rượu bảy đưa tuấn thấy anh bỉnh kêu đắng khó uống\n",
      "predicted_text: tại bữa cơm, nhấp xăm chán rượu, bãi đưa, tuấn thấy anh bỉnh kêu đáng khó uống.\n",
      "Processing: FPTOpenSpeechData_Set001_V0.1_000367.mp3\n"
     ]
    },
    {
     "name": "stderr",
     "output_type": "stream",
     "text": [
      "/home/ngo/anaconda3/lib/python3.12/site-packages/whisper/transcribe.py:126: UserWarning: FP16 is not supported on CPU; using FP32 instead\n",
      "  warnings.warn(\"FP16 is not supported on CPU; using FP32 instead\")\n"
     ]
    },
    {
     "name": "stdout",
     "output_type": "stream",
     "text": [
      "reference_text: mà điện sản xuất lãi như vậy có thấy evn đả động gì đâu\n",
      "predicted_text: mà điện sản xuất lại như vậy có thấy evn đã động gì đâu\n",
      "Processing: FPTOpenSpeechData_Set001_V0.1_000368.mp3\n"
     ]
    },
    {
     "name": "stderr",
     "output_type": "stream",
     "text": [
      "/home/ngo/anaconda3/lib/python3.12/site-packages/whisper/transcribe.py:126: UserWarning: FP16 is not supported on CPU; using FP32 instead\n",
      "  warnings.warn(\"FP16 is not supported on CPU; using FP32 instead\")\n"
     ]
    },
    {
     "name": "stdout",
     "output_type": "stream",
     "text": [
      "reference_text: anh có thích gặp nói chuyện sau không\n",
      "predicted_text: anh có thích gặp nói chuyện sao không?\n",
      "Processing: FPTOpenSpeechData_Set001_V0.1_000369.mp3\n"
     ]
    },
    {
     "name": "stderr",
     "output_type": "stream",
     "text": [
      "/home/ngo/anaconda3/lib/python3.12/site-packages/whisper/transcribe.py:126: UserWarning: FP16 is not supported on CPU; using FP32 instead\n",
      "  warnings.warn(\"FP16 is not supported on CPU; using FP32 instead\")\n"
     ]
    },
    {
     "name": "stdout",
     "output_type": "stream",
     "text": [
      "reference_text: làm ơn cho một ly rượu vang đỏ được không\n",
      "predicted_text: làm ơn cho một ly rượu vang đỏ được không?\n",
      "Processing: FPTOpenSpeechData_Set001_V0.1_000370.mp3\n"
     ]
    },
    {
     "name": "stderr",
     "output_type": "stream",
     "text": [
      "/home/ngo/anaconda3/lib/python3.12/site-packages/whisper/transcribe.py:126: UserWarning: FP16 is not supported on CPU; using FP32 instead\n",
      "  warnings.warn(\"FP16 is not supported on CPU; using FP32 instead\")\n"
     ]
    },
    {
     "name": "stdout",
     "output_type": "stream",
     "text": [
      "reference_text: đi lên\n",
      "predicted_text: \n",
      "Processing: FPTOpenSpeechData_Set001_V0.1_000371.mp3\n"
     ]
    },
    {
     "name": "stderr",
     "output_type": "stream",
     "text": [
      "/home/ngo/anaconda3/lib/python3.12/site-packages/whisper/transcribe.py:126: UserWarning: FP16 is not supported on CPU; using FP32 instead\n",
      "  warnings.warn(\"FP16 is not supported on CPU; using FP32 instead\")\n"
     ]
    },
    {
     "name": "stdout",
     "output_type": "stream",
     "text": [
      "reference_text: tôi muốn một đôi ván trượt nước\n",
      "predicted_text: tới một nội bản trực lượng.\n",
      "Processing: FPTOpenSpeechData_Set001_V0.1_000372.mp3\n"
     ]
    },
    {
     "name": "stderr",
     "output_type": "stream",
     "text": [
      "/home/ngo/anaconda3/lib/python3.12/site-packages/whisper/transcribe.py:126: UserWarning: FP16 is not supported on CPU; using FP32 instead\n",
      "  warnings.warn(\"FP16 is not supported on CPU; using FP32 instead\")\n"
     ]
    },
    {
     "name": "stdout",
     "output_type": "stream",
     "text": [
      "reference_text: con biết nịnh bố mỗi khi thích món đồ chơi nào đó\n",
      "predicted_text: con biết nịnh bố mỗi khi thích món đồ chơi nào đó.\n",
      "Processing: FPTOpenSpeechData_Set001_V0.1_000373.mp3\n"
     ]
    },
    {
     "name": "stderr",
     "output_type": "stream",
     "text": [
      "/home/ngo/anaconda3/lib/python3.12/site-packages/whisper/transcribe.py:126: UserWarning: FP16 is not supported on CPU; using FP32 instead\n",
      "  warnings.warn(\"FP16 is not supported on CPU; using FP32 instead\")\n"
     ]
    },
    {
     "name": "stdout",
     "output_type": "stream",
     "text": [
      "reference_text: bạn muốn uống loại rượu nào\n",
      "predicted_text: bạn muốn uống loại dưa nào\n",
      "Processing: FPTOpenSpeechData_Set001_V0.1_000374.mp3\n"
     ]
    },
    {
     "name": "stderr",
     "output_type": "stream",
     "text": [
      "/home/ngo/anaconda3/lib/python3.12/site-packages/whisper/transcribe.py:126: UserWarning: FP16 is not supported on CPU; using FP32 instead\n",
      "  warnings.warn(\"FP16 is not supported on CPU; using FP32 instead\")\n"
     ]
    },
    {
     "name": "stdout",
     "output_type": "stream",
     "text": [
      "reference_text: tại cuộc họp ông nguyễn quốc bảo khẳng định thời gian tới sẽ tập trung điều hành nhằm tháo gỡ khó khăn về vốn cũng như thủ tục hành chính phục vụ sản xuất nhập khẩu\n",
      "predicted_text: tại cuộc họp, ông nguyễn quốc bảo khẳng định thời gian tới sẽ tập trung điều hành nhằm tháo gỡ khó khăn bè vốn cũng như thủ tục hành chính, phục vụ sản xuất, nhập khẩu.\n",
      "Processing: FPTOpenSpeechData_Set001_V0.1_000375.mp3\n"
     ]
    },
    {
     "name": "stderr",
     "output_type": "stream",
     "text": [
      "/home/ngo/anaconda3/lib/python3.12/site-packages/whisper/transcribe.py:126: UserWarning: FP16 is not supported on CPU; using FP32 instead\n",
      "  warnings.warn(\"FP16 is not supported on CPU; using FP32 instead\")\n"
     ]
    },
    {
     "name": "stdout",
     "output_type": "stream",
     "text": [
      "reference_text: dùng thuốc ngay khi thức dậy buổi sáng\n",
      "predicted_text: dùng thuốc này khi thức dậy, buổi sáng.\n",
      "Processing: FPTOpenSpeechData_Set001_V0.1_000376.mp3\n"
     ]
    },
    {
     "name": "stderr",
     "output_type": "stream",
     "text": [
      "/home/ngo/anaconda3/lib/python3.12/site-packages/whisper/transcribe.py:126: UserWarning: FP16 is not supported on CPU; using FP32 instead\n",
      "  warnings.warn(\"FP16 is not supported on CPU; using FP32 instead\")\n"
     ]
    },
    {
     "name": "stdout",
     "output_type": "stream",
     "text": [
      "reference_text: ồ không vấn đề gì\n",
      "predicted_text: cô, mà lưu ý\n",
      "Processing: FPTOpenSpeechData_Set001_V0.1_000377.mp3\n"
     ]
    },
    {
     "name": "stderr",
     "output_type": "stream",
     "text": [
      "/home/ngo/anaconda3/lib/python3.12/site-packages/whisper/transcribe.py:126: UserWarning: FP16 is not supported on CPU; using FP32 instead\n",
      "  warnings.warn(\"FP16 is not supported on CPU; using FP32 instead\")\n"
     ]
    },
    {
     "name": "stdout",
     "output_type": "stream",
     "text": [
      "reference_text: nhiều lần chị góp ý ông xã đã hứa sẽ sửa lịch cho hợp lý song chỉ được dăm bữa nửa tháng mọi việc lại đâu vào đấy\n",
      "predicted_text: nhiều lần chỉ góp ý, ông xã đã hứa sửa lịch cho hợp ý xong chỉ được dăm bữa nửa tháng, mọi việc lại đâu vào đấy.\n",
      "Processing: FPTOpenSpeechData_Set001_V0.1_000378.mp3\n"
     ]
    },
    {
     "name": "stderr",
     "output_type": "stream",
     "text": [
      "/home/ngo/anaconda3/lib/python3.12/site-packages/whisper/transcribe.py:126: UserWarning: FP16 is not supported on CPU; using FP32 instead\n",
      "  warnings.warn(\"FP16 is not supported on CPU; using FP32 instead\")\n"
     ]
    },
    {
     "name": "stdout",
     "output_type": "stream",
     "text": [
      "reference_text: bạn đừng để mắt to hơn bụng\n",
      "predicted_text: bạn tính để mắt to hơn bụng\n",
      "Processing: FPTOpenSpeechData_Set001_V0.1_000379.mp3\n"
     ]
    },
    {
     "name": "stderr",
     "output_type": "stream",
     "text": [
      "/home/ngo/anaconda3/lib/python3.12/site-packages/whisper/transcribe.py:126: UserWarning: FP16 is not supported on CPU; using FP32 instead\n",
      "  warnings.warn(\"FP16 is not supported on CPU; using FP32 instead\")\n"
     ]
    },
    {
     "name": "stdout",
     "output_type": "stream",
     "text": [
      "reference_text: còn gì ý nghĩa hơn với một tiền đạo khi ghi bàn quyết định thắng lợi cho đội nhà trong ngày sinh nhật của mình\n",
      "predicted_text: còn gì nữa hơn với một tiền đạo khi nghi bản quyết định thắng lợi cho đội nhà trong ngày sinh nhật tuyển dịch\n",
      "Processing: FPTOpenSpeechData_Set001_V0.1_000380.mp3\n"
     ]
    },
    {
     "name": "stderr",
     "output_type": "stream",
     "text": [
      "/home/ngo/anaconda3/lib/python3.12/site-packages/whisper/transcribe.py:126: UserWarning: FP16 is not supported on CPU; using FP32 instead\n",
      "  warnings.warn(\"FP16 is not supported on CPU; using FP32 instead\")\n"
     ]
    },
    {
     "name": "stdout",
     "output_type": "stream",
     "text": [
      "reference_text: bắt đầu lúc mấy giờ\n",
      "predicted_text: bắt đầu lúc nãy giờ\n",
      "Processing: FPTOpenSpeechData_Set001_V0.1_000381.mp3\n"
     ]
    },
    {
     "name": "stderr",
     "output_type": "stream",
     "text": [
      "/home/ngo/anaconda3/lib/python3.12/site-packages/whisper/transcribe.py:126: UserWarning: FP16 is not supported on CPU; using FP32 instead\n",
      "  warnings.warn(\"FP16 is not supported on CPU; using FP32 instead\")\n"
     ]
    },
    {
     "name": "stdout",
     "output_type": "stream",
     "text": [
      "reference_text: con của quí vị bao nhiêu tuổi\n",
      "predicted_text: con của quý vị bao nhiêu tuổi?\n",
      "Processing: FPTOpenSpeechData_Set001_V0.1_000382.mp3\n"
     ]
    },
    {
     "name": "stderr",
     "output_type": "stream",
     "text": [
      "/home/ngo/anaconda3/lib/python3.12/site-packages/whisper/transcribe.py:126: UserWarning: FP16 is not supported on CPU; using FP32 instead\n",
      "  warnings.warn(\"FP16 is not supported on CPU; using FP32 instead\")\n"
     ]
    },
    {
     "name": "stdout",
     "output_type": "stream",
     "text": [
      "reference_text: vui lòng mang cho tôi món khai vị\n",
      "predicted_text: vui lòng mang cho tôi món khai vị\n",
      "Processing: FPTOpenSpeechData_Set001_V0.1_000383.mp3\n"
     ]
    },
    {
     "name": "stderr",
     "output_type": "stream",
     "text": [
      "/home/ngo/anaconda3/lib/python3.12/site-packages/whisper/transcribe.py:126: UserWarning: FP16 is not supported on CPU; using FP32 instead\n",
      "  warnings.warn(\"FP16 is not supported on CPU; using FP32 instead\")\n"
     ]
    },
    {
     "name": "stdout",
     "output_type": "stream",
     "text": [
      "reference_text: lập trình viên đa số đều bị tâm thần\n",
      "predicted_text: lập trình viên đa số đều bị tâm thần\n",
      "Processing: FPTOpenSpeechData_Set001_V0.1_000384.mp3\n"
     ]
    },
    {
     "name": "stderr",
     "output_type": "stream",
     "text": [
      "/home/ngo/anaconda3/lib/python3.12/site-packages/whisper/transcribe.py:126: UserWarning: FP16 is not supported on CPU; using FP32 instead\n",
      "  warnings.warn(\"FP16 is not supported on CPU; using FP32 instead\")\n"
     ]
    },
    {
     "name": "stdout",
     "output_type": "stream",
     "text": [
      "reference_text: tôi muốn thời gian đó quan sát và tư duy nhờ đó mà có ý tưởng điều chỉnh nhịp đèn anh tuấn chia sẻ\n",
      "predicted_text: tôi muốn thời gian đó quan sát và tư duy, nhờ đó mà có ý tưởng điều chỉnh nhịp đèn anh tuấn chia sẻ.\n",
      "Processing: FPTOpenSpeechData_Set001_V0.1_000385.mp3\n"
     ]
    },
    {
     "name": "stderr",
     "output_type": "stream",
     "text": [
      "/home/ngo/anaconda3/lib/python3.12/site-packages/whisper/transcribe.py:126: UserWarning: FP16 is not supported on CPU; using FP32 instead\n",
      "  warnings.warn(\"FP16 is not supported on CPU; using FP32 instead\")\n"
     ]
    },
    {
     "name": "stdout",
     "output_type": "stream",
     "text": [
      "reference_text: mặc dù có vẻ ghê gớm bạn rất sợ bị tổn\n",
      "predicted_text: mặc dù có vẻ ghê hớm, bạn rất sợ bị tùn\n",
      "Processing: FPTOpenSpeechData_Set001_V0.1_000386.mp3\n"
     ]
    },
    {
     "name": "stderr",
     "output_type": "stream",
     "text": [
      "/home/ngo/anaconda3/lib/python3.12/site-packages/whisper/transcribe.py:126: UserWarning: FP16 is not supported on CPU; using FP32 instead\n",
      "  warnings.warn(\"FP16 is not supported on CPU; using FP32 instead\")\n"
     ]
    },
    {
     "name": "stdout",
     "output_type": "stream",
     "text": [
      "reference_text: nhà hát mở cửa lúc mấy giờ\n",
      "predicted_text: nhà hạt mở cửa lúc mậy dơ\n",
      "Processing: FPTOpenSpeechData_Set001_V0.1_000387.mp3\n"
     ]
    },
    {
     "name": "stderr",
     "output_type": "stream",
     "text": [
      "/home/ngo/anaconda3/lib/python3.12/site-packages/whisper/transcribe.py:126: UserWarning: FP16 is not supported on CPU; using FP32 instead\n",
      "  warnings.warn(\"FP16 is not supported on CPU; using FP32 instead\")\n"
     ]
    },
    {
     "name": "stdout",
     "output_type": "stream",
     "text": [
      "reference_text: tóm lược sức khỏe ban đầu\n",
      "predicted_text: tóm lược sức khỏe ban đầu\n",
      "Processing: FPTOpenSpeechData_Set001_V0.1_000388.mp3\n"
     ]
    },
    {
     "name": "stderr",
     "output_type": "stream",
     "text": [
      "/home/ngo/anaconda3/lib/python3.12/site-packages/whisper/transcribe.py:126: UserWarning: FP16 is not supported on CPU; using FP32 instead\n",
      "  warnings.warn(\"FP16 is not supported on CPU; using FP32 instead\")\n"
     ]
    },
    {
     "name": "stdout",
     "output_type": "stream",
     "text": [
      "reference_text: tôi muốn giữ nó dưới giá ba mươi đô la\n",
      "predicted_text: với một người nó dạy 30 đô la\n",
      "Processing: FPTOpenSpeechData_Set001_V0.1_000389.mp3\n"
     ]
    },
    {
     "name": "stderr",
     "output_type": "stream",
     "text": [
      "/home/ngo/anaconda3/lib/python3.12/site-packages/whisper/transcribe.py:126: UserWarning: FP16 is not supported on CPU; using FP32 instead\n",
      "  warnings.warn(\"FP16 is not supported on CPU; using FP32 instead\")\n"
     ]
    },
    {
     "name": "stdout",
     "output_type": "stream",
     "text": [
      "reference_text: chiếc này dành riêng tổng thống mới đắc cử của mỹ xác nhận đã chuyển tới mật vụ mỹ chiếc xe dành cho tổng thống mới để thay thế chiếc xe cũ\n",
      "predicted_text: chiếc này dành riêng tổng thống mới đắc cử của mỹ xác nhận đã chuyển tới mật vụ mỹ chiếc xe dành cho tổng thống mới để thay thế chiếc xe cũ.\n",
      "Processing: FPTOpenSpeechData_Set001_V0.1_000390.mp3\n"
     ]
    },
    {
     "name": "stderr",
     "output_type": "stream",
     "text": [
      "/home/ngo/anaconda3/lib/python3.12/site-packages/whisper/transcribe.py:126: UserWarning: FP16 is not supported on CPU; using FP32 instead\n",
      "  warnings.warn(\"FP16 is not supported on CPU; using FP32 instead\")\n"
     ]
    },
    {
     "name": "stdout",
     "output_type": "stream",
     "text": [
      "reference_text: nhưng tôi không muốn bạn tin tưởng vào bất kỳ điều gì\n",
      "predicted_text: nhưng tôi không muốn bạn tin tưởng vào bất kỳ điều gì.\n",
      "Processing: FPTOpenSpeechData_Set001_V0.1_000391.mp3\n"
     ]
    },
    {
     "name": "stderr",
     "output_type": "stream",
     "text": [
      "/home/ngo/anaconda3/lib/python3.12/site-packages/whisper/transcribe.py:126: UserWarning: FP16 is not supported on CPU; using FP32 instead\n",
      "  warnings.warn(\"FP16 is not supported on CPU; using FP32 instead\")\n"
     ]
    },
    {
     "name": "stdout",
     "output_type": "stream",
     "text": [
      "reference_text: không thể phớt lờ lạm phát\n",
      "predicted_text: không thể bất ngờ nặng pháp\n",
      "Processing: FPTOpenSpeechData_Set001_V0.1_000392.mp3\n"
     ]
    },
    {
     "name": "stderr",
     "output_type": "stream",
     "text": [
      "/home/ngo/anaconda3/lib/python3.12/site-packages/whisper/transcribe.py:126: UserWarning: FP16 is not supported on CPU; using FP32 instead\n",
      "  warnings.warn(\"FP16 is not supported on CPU; using FP32 instead\")\n"
     ]
    },
    {
     "name": "stdout",
     "output_type": "stream",
     "text": [
      "reference_text: hoa nhận lời yêu thắng\n",
      "predicted_text: hoa nhận nơi yêu thật\n",
      "Processing: FPTOpenSpeechData_Set001_V0.1_000393.mp3\n"
     ]
    },
    {
     "name": "stderr",
     "output_type": "stream",
     "text": [
      "/home/ngo/anaconda3/lib/python3.12/site-packages/whisper/transcribe.py:126: UserWarning: FP16 is not supported on CPU; using FP32 instead\n",
      "  warnings.warn(\"FP16 is not supported on CPU; using FP32 instead\")\n"
     ]
    },
    {
     "name": "stdout",
     "output_type": "stream",
     "text": [
      "reference_text: bóng đá anh hấp dẫn nhiều tỷ phú\n",
      "predicted_text: bọc đá anh thấp dẫn thiều tỉnh\n",
      "Processing: FPTOpenSpeechData_Set001_V0.1_000394.mp3\n"
     ]
    },
    {
     "name": "stderr",
     "output_type": "stream",
     "text": [
      "/home/ngo/anaconda3/lib/python3.12/site-packages/whisper/transcribe.py:126: UserWarning: FP16 is not supported on CPU; using FP32 instead\n",
      "  warnings.warn(\"FP16 is not supported on CPU; using FP32 instead\")\n"
     ]
    },
    {
     "name": "stdout",
     "output_type": "stream",
     "text": [
      "reference_text: cách tốt nhất là bằng xe buýt\n",
      "predicted_text: cái lợi nhất là bằng xe buýt\n",
      "Processing: FPTOpenSpeechData_Set001_V0.1_000395.mp3\n"
     ]
    },
    {
     "name": "stderr",
     "output_type": "stream",
     "text": [
      "/home/ngo/anaconda3/lib/python3.12/site-packages/whisper/transcribe.py:126: UserWarning: FP16 is not supported on CPU; using FP32 instead\n",
      "  warnings.warn(\"FP16 is not supported on CPU; using FP32 instead\")\n"
     ]
    },
    {
     "name": "stdout",
     "output_type": "stream",
     "text": [
      "reference_text: cô ấy bị mất thẻ ngân hàng\n",
      "predicted_text: cô ấy bị mất tiễn ngân hàng\n",
      "Processing: FPTOpenSpeechData_Set001_V0.1_000396.mp3\n"
     ]
    },
    {
     "name": "stderr",
     "output_type": "stream",
     "text": [
      "/home/ngo/anaconda3/lib/python3.12/site-packages/whisper/transcribe.py:126: UserWarning: FP16 is not supported on CPU; using FP32 instead\n",
      "  warnings.warn(\"FP16 is not supported on CPU; using FP32 instead\")\n"
     ]
    },
    {
     "name": "stdout",
     "output_type": "stream",
     "text": [
      "reference_text: phòng thay đồ ở đằng kia\n",
      "predicted_text: còn thay đổi thằng kia\n",
      "Processing: FPTOpenSpeechData_Set001_V0.1_000397.mp3\n"
     ]
    },
    {
     "name": "stderr",
     "output_type": "stream",
     "text": [
      "/home/ngo/anaconda3/lib/python3.12/site-packages/whisper/transcribe.py:126: UserWarning: FP16 is not supported on CPU; using FP32 instead\n",
      "  warnings.warn(\"FP16 is not supported on CPU; using FP32 instead\")\n"
     ]
    },
    {
     "name": "stdout",
     "output_type": "stream",
     "text": [
      "reference_text: sản phẩm phụ của máy rút tiền đầu tiên là mã số bảo mật -n viết tắt là pin\n",
      "predicted_text: và sử dụng tiền đầu tiên của chúng ta. việc mất là tin.\n",
      "Processing: FPTOpenSpeechData_Set001_V0.1_000398.mp3\n"
     ]
    },
    {
     "name": "stderr",
     "output_type": "stream",
     "text": [
      "/home/ngo/anaconda3/lib/python3.12/site-packages/whisper/transcribe.py:126: UserWarning: FP16 is not supported on CPU; using FP32 instead\n",
      "  warnings.warn(\"FP16 is not supported on CPU; using FP32 instead\")\n"
     ]
    },
    {
     "name": "stdout",
     "output_type": "stream",
     "text": [
      "reference_text: tôi hy vọng thời tiết sẽ sớm sáng sủa\n",
      "predicted_text: tôi hy vọng thời tiết sẽ sớm sáng sủa\n",
      "Processing: FPTOpenSpeechData_Set001_V0.1_000399.mp3\n"
     ]
    },
    {
     "name": "stderr",
     "output_type": "stream",
     "text": [
      "/home/ngo/anaconda3/lib/python3.12/site-packages/whisper/transcribe.py:126: UserWarning: FP16 is not supported on CPU; using FP32 instead\n",
      "  warnings.warn(\"FP16 is not supported on CPU; using FP32 instead\")\n"
     ]
    },
    {
     "name": "stdout",
     "output_type": "stream",
     "text": [
      "reference_text: bạn đường khều cùi chỏ nhắc coi chừng ổng khùng\n",
      "predicted_text: bàn đường kheo cua trọt nhắc có chân ổng khung\n",
      "Processing: FPTOpenSpeechData_Set001_V0.1_000400.mp3\n"
     ]
    },
    {
     "name": "stderr",
     "output_type": "stream",
     "text": [
      "/home/ngo/anaconda3/lib/python3.12/site-packages/whisper/transcribe.py:126: UserWarning: FP16 is not supported on CPU; using FP32 instead\n",
      "  warnings.warn(\"FP16 is not supported on CPU; using FP32 instead\")\n"
     ]
    },
    {
     "name": "stdout",
     "output_type": "stream",
     "text": [
      "reference_text: thuốc diệt cỏ làm ếch đực mất khả năng sinh sản\n",
      "predicted_text: thứ dị cỏ làm ếch được mất khả năng sinh sản.\n",
      "Processing: FPTOpenSpeechData_Set001_V0.1_000401.mp3\n"
     ]
    },
    {
     "name": "stderr",
     "output_type": "stream",
     "text": [
      "/home/ngo/anaconda3/lib/python3.12/site-packages/whisper/transcribe.py:126: UserWarning: FP16 is not supported on CPU; using FP32 instead\n",
      "  warnings.warn(\"FP16 is not supported on CPU; using FP32 instead\")\n"
     ]
    },
    {
     "name": "stdout",
     "output_type": "stream",
     "text": [
      "reference_text: bạn có thể bật máy điều hòa lên được không\n",
      "predicted_text: bạn có thể bật máy điều hòa lên được không\n",
      "Processing: FPTOpenSpeechData_Set001_V0.1_000402.mp3\n"
     ]
    },
    {
     "name": "stderr",
     "output_type": "stream",
     "text": [
      "/home/ngo/anaconda3/lib/python3.12/site-packages/whisper/transcribe.py:126: UserWarning: FP16 is not supported on CPU; using FP32 instead\n",
      "  warnings.warn(\"FP16 is not supported on CPU; using FP32 instead\")\n"
     ]
    },
    {
     "name": "stdout",
     "output_type": "stream",
     "text": [
      "reference_text: phê thuốc lắc\n",
      "predicted_text: về thuốc lắc\n",
      "Processing: FPTOpenSpeechData_Set001_V0.1_000403.mp3\n"
     ]
    },
    {
     "name": "stderr",
     "output_type": "stream",
     "text": [
      "/home/ngo/anaconda3/lib/python3.12/site-packages/whisper/transcribe.py:126: UserWarning: FP16 is not supported on CPU; using FP32 instead\n",
      "  warnings.warn(\"FP16 is not supported on CPU; using FP32 instead\")\n"
     ]
    },
    {
     "name": "stdout",
     "output_type": "stream",
     "text": [
      "reference_text: chỗ cho thuê ghế bãi biển đã mở cửa chưa\n",
      "predicted_text: chủ yếu thuê ghế tại biển đã mở cửa chưa?\n",
      "Processing: FPTOpenSpeechData_Set001_V0.1_000404.mp3\n"
     ]
    },
    {
     "name": "stderr",
     "output_type": "stream",
     "text": [
      "/home/ngo/anaconda3/lib/python3.12/site-packages/whisper/transcribe.py:126: UserWarning: FP16 is not supported on CPU; using FP32 instead\n",
      "  warnings.warn(\"FP16 is not supported on CPU; using FP32 instead\")\n"
     ]
    },
    {
     "name": "stdout",
     "output_type": "stream",
     "text": [
      "reference_text: tôi muốn trau dồi tiếng tây ban nha của mình\n",
      "predicted_text: tôi muốn trâu dồi tiếng tây ban nha của mình.\n",
      "Processing: FPTOpenSpeechData_Set001_V0.1_000405.mp3\n"
     ]
    },
    {
     "name": "stderr",
     "output_type": "stream",
     "text": [
      "/home/ngo/anaconda3/lib/python3.12/site-packages/whisper/transcribe.py:126: UserWarning: FP16 is not supported on CPU; using FP32 instead\n",
      "  warnings.warn(\"FP16 is not supported on CPU; using FP32 instead\")\n"
     ]
    },
    {
     "name": "stdout",
     "output_type": "stream",
     "text": [
      "reference_text: kênh k+ một\n",
      "predicted_text: trên ca cộng 1\n",
      "Processing: FPTOpenSpeechData_Set001_V0.1_000406.mp3\n"
     ]
    },
    {
     "name": "stderr",
     "output_type": "stream",
     "text": [
      "/home/ngo/anaconda3/lib/python3.12/site-packages/whisper/transcribe.py:126: UserWarning: FP16 is not supported on CPU; using FP32 instead\n",
      "  warnings.warn(\"FP16 is not supported on CPU; using FP32 instead\")\n"
     ]
    },
    {
     "name": "stdout",
     "output_type": "stream",
     "text": [
      "reference_text: làm gì để bảo vệ sự an toàn của ngân hàng\n",
      "predicted_text: làm gì để bảo vệ sự an toàn của ngân hàng.\n",
      "Processing: FPTOpenSpeechData_Set001_V0.1_000407.mp3\n"
     ]
    },
    {
     "name": "stderr",
     "output_type": "stream",
     "text": [
      "/home/ngo/anaconda3/lib/python3.12/site-packages/whisper/transcribe.py:126: UserWarning: FP16 is not supported on CPU; using FP32 instead\n",
      "  warnings.warn(\"FP16 is not supported on CPU; using FP32 instead\")\n"
     ]
    },
    {
     "name": "stdout",
     "output_type": "stream",
     "text": [
      "reference_text: tôi đã bị lừa\n",
      "predicted_text: tôi đã bị lừa\n",
      "Processing: FPTOpenSpeechData_Set001_V0.1_000408.mp3\n"
     ]
    },
    {
     "name": "stderr",
     "output_type": "stream",
     "text": [
      "/home/ngo/anaconda3/lib/python3.12/site-packages/whisper/transcribe.py:126: UserWarning: FP16 is not supported on CPU; using FP32 instead\n",
      "  warnings.warn(\"FP16 is not supported on CPU; using FP32 instead\")\n"
     ]
    },
    {
     "name": "stdout",
     "output_type": "stream",
     "text": [
      "reference_text: vậy kế hoạch của anh cho ngày mai ra sao\n",
      "predicted_text: vậy kế hoạch của anh cho ngày mai ra sao?\n",
      "Processing: FPTOpenSpeechData_Set001_V0.1_000409.mp3\n"
     ]
    },
    {
     "name": "stderr",
     "output_type": "stream",
     "text": [
      "/home/ngo/anaconda3/lib/python3.12/site-packages/whisper/transcribe.py:126: UserWarning: FP16 is not supported on CPU; using FP32 instead\n",
      "  warnings.warn(\"FP16 is not supported on CPU; using FP32 instead\")\n"
     ]
    },
    {
     "name": "stdout",
     "output_type": "stream",
     "text": [
      "reference_text: tôi uống từ vòi nước được không\n",
      "predicted_text: tôi uống từ ngoài nước được không?\n",
      "Processing: FPTOpenSpeechData_Set001_V0.1_000410.mp3\n"
     ]
    },
    {
     "name": "stderr",
     "output_type": "stream",
     "text": [
      "/home/ngo/anaconda3/lib/python3.12/site-packages/whisper/transcribe.py:126: UserWarning: FP16 is not supported on CPU; using FP32 instead\n",
      "  warnings.warn(\"FP16 is not supported on CPU; using FP32 instead\")\n"
     ]
    },
    {
     "name": "stdout",
     "output_type": "stream",
     "text": [
      "reference_text: nó có hướng dẫn -n sử dụng không\n",
      "predicted_text: nó có hướng dẫn sử dụng không?\n",
      "Processing: FPTOpenSpeechData_Set001_V0.1_000411.mp3\n"
     ]
    },
    {
     "name": "stderr",
     "output_type": "stream",
     "text": [
      "/home/ngo/anaconda3/lib/python3.12/site-packages/whisper/transcribe.py:126: UserWarning: FP16 is not supported on CPU; using FP32 instead\n",
      "  warnings.warn(\"FP16 is not supported on CPU; using FP32 instead\")\n"
     ]
    },
    {
     "name": "stdout",
     "output_type": "stream",
     "text": [
      "reference_text: có người còn không ngần ngại so sánh doanh thu phim việt với các phim nhập của nước ngoài\n",
      "predicted_text: có người còn không đừng ngại so sánh danh hô phim việt với các phim nhập của nước ngoài.\n",
      "Processing: FPTOpenSpeechData_Set001_V0.1_000412.mp3\n"
     ]
    },
    {
     "name": "stderr",
     "output_type": "stream",
     "text": [
      "/home/ngo/anaconda3/lib/python3.12/site-packages/whisper/transcribe.py:126: UserWarning: FP16 is not supported on CPU; using FP32 instead\n",
      "  warnings.warn(\"FP16 is not supported on CPU; using FP32 instead\")\n"
     ]
    },
    {
     "name": "stdout",
     "output_type": "stream",
     "text": [
      "reference_text: bạn có quan tâm đến đồ cổ không\n",
      "predicted_text: bạn có quan tâm đến đồ củ không?\n",
      "Processing: FPTOpenSpeechData_Set001_V0.1_000413.mp3\n"
     ]
    },
    {
     "name": "stderr",
     "output_type": "stream",
     "text": [
      "/home/ngo/anaconda3/lib/python3.12/site-packages/whisper/transcribe.py:126: UserWarning: FP16 is not supported on CPU; using FP32 instead\n",
      "  warnings.warn(\"FP16 is not supported on CPU; using FP32 instead\")\n"
     ]
    },
    {
     "name": "stdout",
     "output_type": "stream",
     "text": [
      "reference_text: bản báo cáo cũng chỉ rõ ở việt nam hiện nay những hủ tục hay những suy nghĩ cũ tồn tại ở nhiều vùng dân tộc thiểu số thậm chí cả ở các tỉnh thành lớn đã khiến cho sự bất bình đẳng giới cũng như tỷ lệ tử vong ở phụ nữ và trẻ nhỏ vẫn rất cao\n",
      "predicted_text: bản báo cáo cũng chỉ rõ ở việt nam hiện nay, những hổ tục hay những suy nghĩ cũ tồn tại ở nhiều vùng dân tộc thiểu số, thậm chí cả ở các tỉnh thành lớn đã khiến cho sự bất bình đẳng giới cũng như tỷ lệ tử vong ở phụ nữ và trẻ nhỏ vẫn rất cao.\n",
      "Processing: FPTOpenSpeechData_Set001_V0.1_000414.mp3\n"
     ]
    },
    {
     "name": "stderr",
     "output_type": "stream",
     "text": [
      "/home/ngo/anaconda3/lib/python3.12/site-packages/whisper/transcribe.py:126: UserWarning: FP16 is not supported on CPU; using FP32 instead\n",
      "  warnings.warn(\"FP16 is not supported on CPU; using FP32 instead\")\n"
     ]
    },
    {
     "name": "stdout",
     "output_type": "stream",
     "text": [
      "reference_text: cũng chẳng còn xúng xính quần áo mới\n",
      "predicted_text: cũng chẳng còn súng xín quần áo mới.\n",
      "Processing: FPTOpenSpeechData_Set001_V0.1_000415.mp3\n"
     ]
    },
    {
     "name": "stderr",
     "output_type": "stream",
     "text": [
      "/home/ngo/anaconda3/lib/python3.12/site-packages/whisper/transcribe.py:126: UserWarning: FP16 is not supported on CPU; using FP32 instead\n",
      "  warnings.warn(\"FP16 is not supported on CPU; using FP32 instead\")\n"
     ]
    },
    {
     "name": "stdout",
     "output_type": "stream",
     "text": [
      "reference_text: tôi đang tìm diêm\n",
      "predicted_text: tôi đang tìm riêng\n",
      "Processing: FPTOpenSpeechData_Set001_V0.1_000416.mp3\n"
     ]
    },
    {
     "name": "stderr",
     "output_type": "stream",
     "text": [
      "/home/ngo/anaconda3/lib/python3.12/site-packages/whisper/transcribe.py:126: UserWarning: FP16 is not supported on CPU; using FP32 instead\n",
      "  warnings.warn(\"FP16 is not supported on CPU; using FP32 instead\")\n"
     ]
    },
    {
     "name": "stdout",
     "output_type": "stream",
     "text": [
      "reference_text: một chỗ bí mật à ý bạn là sao\n",
      "predicted_text: một chổ bí mật à, ý bà là sao?\n",
      "Processing: FPTOpenSpeechData_Set001_V0.1_000417.mp3\n"
     ]
    },
    {
     "name": "stderr",
     "output_type": "stream",
     "text": [
      "/home/ngo/anaconda3/lib/python3.12/site-packages/whisper/transcribe.py:126: UserWarning: FP16 is not supported on CPU; using FP32 instead\n",
      "  warnings.warn(\"FP16 is not supported on CPU; using FP32 instead\")\n"
     ]
    },
    {
     "name": "stdout",
     "output_type": "stream",
     "text": [
      "reference_text: chính sách quản lý cần cởi mở\n",
      "predicted_text: chính sách quản lý cần cởi mở\n",
      "Processing: FPTOpenSpeechData_Set001_V0.1_000418.mp3\n"
     ]
    },
    {
     "name": "stderr",
     "output_type": "stream",
     "text": [
      "/home/ngo/anaconda3/lib/python3.12/site-packages/whisper/transcribe.py:126: UserWarning: FP16 is not supported on CPU; using FP32 instead\n",
      "  warnings.warn(\"FP16 is not supported on CPU; using FP32 instead\")\n"
     ]
    },
    {
     "name": "stdout",
     "output_type": "stream",
     "text": [
      "reference_text: bệnh này có thường xảy ra không\n",
      "predicted_text: bệnh này có thường xảy ra không?\n",
      "Processing: FPTOpenSpeechData_Set001_V0.1_000419.mp3\n"
     ]
    },
    {
     "name": "stderr",
     "output_type": "stream",
     "text": [
      "/home/ngo/anaconda3/lib/python3.12/site-packages/whisper/transcribe.py:126: UserWarning: FP16 is not supported on CPU; using FP32 instead\n",
      "  warnings.warn(\"FP16 is not supported on CPU; using FP32 instead\")\n"
     ]
    },
    {
     "name": "stdout",
     "output_type": "stream",
     "text": [
      "reference_text: quẹo tay lái và đi vòng các góc\n",
      "predicted_text: quẹo tay lái và đi vòng qua cốc\n",
      "Processing: FPTOpenSpeechData_Set001_V0.1_000420.mp3\n"
     ]
    },
    {
     "name": "stderr",
     "output_type": "stream",
     "text": [
      "/home/ngo/anaconda3/lib/python3.12/site-packages/whisper/transcribe.py:126: UserWarning: FP16 is not supported on CPU; using FP32 instead\n",
      "  warnings.warn(\"FP16 is not supported on CPU; using FP32 instead\")\n"
     ]
    },
    {
     "name": "stdout",
     "output_type": "stream",
     "text": [
      "reference_text: anh ấy đến từ flanders\n",
      "predicted_text: anh ấy đến biểu phận ăn rồi.\n",
      "Processing: FPTOpenSpeechData_Set001_V0.1_000421.mp3\n"
     ]
    },
    {
     "name": "stderr",
     "output_type": "stream",
     "text": [
      "/home/ngo/anaconda3/lib/python3.12/site-packages/whisper/transcribe.py:126: UserWarning: FP16 is not supported on CPU; using FP32 instead\n",
      "  warnings.warn(\"FP16 is not supported on CPU; using FP32 instead\")\n"
     ]
    },
    {
     "name": "stdout",
     "output_type": "stream",
     "text": [
      "reference_text: nhiều bộ ong hang đá có dấu hiệu -n gấu ngựa gấu chó sinh sống -n\n",
      "predicted_text: hãy đăng ký kênh để ủng hộ kênh của mình nhé.\n",
      "Processing: FPTOpenSpeechData_Set001_V0.1_000422.mp3\n"
     ]
    },
    {
     "name": "stderr",
     "output_type": "stream",
     "text": [
      "/home/ngo/anaconda3/lib/python3.12/site-packages/whisper/transcribe.py:126: UserWarning: FP16 is not supported on CPU; using FP32 instead\n",
      "  warnings.warn(\"FP16 is not supported on CPU; using FP32 instead\")\n"
     ]
    },
    {
     "name": "stdout",
     "output_type": "stream",
     "text": [
      "reference_text: xin lỗi ông cho tôi lấy hóa đơn được không\n",
      "predicted_text: xin lỗi ông, cho tôi lấy hóa đơn được không?\n",
      "Processing: FPTOpenSpeechData_Set001_V0.1_000423.mp3\n"
     ]
    },
    {
     "name": "stderr",
     "output_type": "stream",
     "text": [
      "/home/ngo/anaconda3/lib/python3.12/site-packages/whisper/transcribe.py:126: UserWarning: FP16 is not supported on CPU; using FP32 instead\n",
      "  warnings.warn(\"FP16 is not supported on CPU; using FP32 instead\")\n"
     ]
    },
    {
     "name": "stdout",
     "output_type": "stream",
     "text": [
      "reference_text: các mảnh có rìa sắc được tha vào cán gỗ và gắn chặt bằng nhựa thông\n",
      "predicted_text: các mảnh có rìa sách được tha vào cán gỗ và gánh chặt bằng nhựa thông.\n",
      "Processing: FPTOpenSpeechData_Set001_V0.1_000424.mp3\n"
     ]
    },
    {
     "name": "stderr",
     "output_type": "stream",
     "text": [
      "/home/ngo/anaconda3/lib/python3.12/site-packages/whisper/transcribe.py:126: UserWarning: FP16 is not supported on CPU; using FP32 instead\n",
      "  warnings.warn(\"FP16 is not supported on CPU; using FP32 instead\")\n"
     ]
    },
    {
     "name": "stdout",
     "output_type": "stream",
     "text": [
      "reference_text: vui lòng không bỏ đồ quý giá trên toa hành khách\n",
      "predicted_text: vui lòng không bỏ đôi quỳ dạ trên toa hành khách\n",
      "Processing: FPTOpenSpeechData_Set001_V0.1_000425.mp3\n"
     ]
    },
    {
     "name": "stderr",
     "output_type": "stream",
     "text": [
      "/home/ngo/anaconda3/lib/python3.12/site-packages/whisper/transcribe.py:126: UserWarning: FP16 is not supported on CPU; using FP32 instead\n",
      "  warnings.warn(\"FP16 is not supported on CPU; using FP32 instead\")\n"
     ]
    },
    {
     "name": "stdout",
     "output_type": "stream",
     "text": [
      "reference_text: người mẫu phải tập tành trình diễn quần quật -n đến tận khuya\n",
      "predicted_text: người mẫu phải ấp tầng, trừng diễn vùng hoặc hoàng vọng đến cận phiên.\n",
      "Processing: FPTOpenSpeechData_Set001_V0.1_000426.mp3\n"
     ]
    },
    {
     "name": "stderr",
     "output_type": "stream",
     "text": [
      "/home/ngo/anaconda3/lib/python3.12/site-packages/whisper/transcribe.py:126: UserWarning: FP16 is not supported on CPU; using FP32 instead\n",
      "  warnings.warn(\"FP16 is not supported on CPU; using FP32 instead\")\n"
     ]
    },
    {
     "name": "stdout",
     "output_type": "stream",
     "text": [
      "reference_text: được rồi chút nữa tôi sẽ massage cho ngài chỗ khác\n",
      "predicted_text: được rồi, chút nữa tôi sẽ massage cho ngài chủ khác.\n",
      "Processing: FPTOpenSpeechData_Set001_V0.1_000427.mp3\n"
     ]
    },
    {
     "name": "stderr",
     "output_type": "stream",
     "text": [
      "/home/ngo/anaconda3/lib/python3.12/site-packages/whisper/transcribe.py:126: UserWarning: FP16 is not supported on CPU; using FP32 instead\n",
      "  warnings.warn(\"FP16 is not supported on CPU; using FP32 instead\")\n"
     ]
    },
    {
     "name": "stdout",
     "output_type": "stream",
     "text": [
      "reference_text: không lẽ ước nguyện đó của tôi lại khó đến thế sao\n",
      "predicted_text: không lẽ ước mệnh đó của tôi lại khó đến thế sao?\n",
      "Processing: FPTOpenSpeechData_Set001_V0.1_000428.mp3\n"
     ]
    },
    {
     "name": "stderr",
     "output_type": "stream",
     "text": [
      "/home/ngo/anaconda3/lib/python3.12/site-packages/whisper/transcribe.py:126: UserWarning: FP16 is not supported on CPU; using FP32 instead\n",
      "  warnings.warn(\"FP16 is not supported on CPU; using FP32 instead\")\n"
     ]
    },
    {
     "name": "stdout",
     "output_type": "stream",
     "text": [
      "reference_text: thời gian đóng ma làng cả đoàn phim sống vài tháng trời trên vùng núi lương sơn hòa bình\n",
      "predicted_text: thời gian đỏng má lang, cả đoàn kính sống vai tháng tơi đến vùng nửa lượng sơn hoa bình.\n",
      "Processing: FPTOpenSpeechData_Set001_V0.1_000429.mp3\n"
     ]
    },
    {
     "name": "stderr",
     "output_type": "stream",
     "text": [
      "/home/ngo/anaconda3/lib/python3.12/site-packages/whisper/transcribe.py:126: UserWarning: FP16 is not supported on CPU; using FP32 instead\n",
      "  warnings.warn(\"FP16 is not supported on CPU; using FP32 instead\")\n"
     ]
    },
    {
     "name": "stdout",
     "output_type": "stream",
     "text": [
      "reference_text: nhiều trụ cột và các mạch vữa đều mục ruỗng\n",
      "predicted_text: nhiều trụ cột và các mạch bữa đều mục ruộng\n",
      "Processing: FPTOpenSpeechData_Set001_V0.1_000430.mp3\n"
     ]
    },
    {
     "name": "stderr",
     "output_type": "stream",
     "text": [
      "/home/ngo/anaconda3/lib/python3.12/site-packages/whisper/transcribe.py:126: UserWarning: FP16 is not supported on CPU; using FP32 instead\n",
      "  warnings.warn(\"FP16 is not supported on CPU; using FP32 instead\")\n"
     ]
    },
    {
     "name": "stdout",
     "output_type": "stream",
     "text": [
      "reference_text: làm nơi nấu nướng giặt giũ\n",
      "predicted_text: làm nơi nấu nướng, giặt rủ\n",
      "Processing: FPTOpenSpeechData_Set001_V0.1_000431.mp3\n"
     ]
    },
    {
     "name": "stderr",
     "output_type": "stream",
     "text": [
      "/home/ngo/anaconda3/lib/python3.12/site-packages/whisper/transcribe.py:126: UserWarning: FP16 is not supported on CPU; using FP32 instead\n",
      "  warnings.warn(\"FP16 is not supported on CPU; using FP32 instead\")\n"
     ]
    },
    {
     "name": "stdout",
     "output_type": "stream",
     "text": [
      "reference_text: khách tham quan cũng tranh thủ ngồi vào ghế hành khách để thử độ êm nhún\n",
      "predicted_text: khách tham quan, đánh thủ luôn bao vẻ hành sách để tùy tội em.\n",
      "Processing: FPTOpenSpeechData_Set001_V0.1_000432.mp3\n"
     ]
    },
    {
     "name": "stderr",
     "output_type": "stream",
     "text": [
      "/home/ngo/anaconda3/lib/python3.12/site-packages/whisper/transcribe.py:126: UserWarning: FP16 is not supported on CPU; using FP32 instead\n",
      "  warnings.warn(\"FP16 is not supported on CPU; using FP32 instead\")\n"
     ]
    },
    {
     "name": "stdout",
     "output_type": "stream",
     "text": [
      "reference_text: tôi e rằng ở đây không chúng tôi không chấp nhận\n",
      "predicted_text: tôi e rằng ở đây không chúng tôi không chấp nhận\n",
      "Processing: FPTOpenSpeechData_Set001_V0.1_000433.mp3\n"
     ]
    },
    {
     "name": "stderr",
     "output_type": "stream",
     "text": [
      "/home/ngo/anaconda3/lib/python3.12/site-packages/whisper/transcribe.py:126: UserWarning: FP16 is not supported on CPU; using FP32 instead\n",
      "  warnings.warn(\"FP16 is not supported on CPU; using FP32 instead\")\n"
     ]
    },
    {
     "name": "stdout",
     "output_type": "stream",
     "text": [
      "reference_text: dù chỉ có tính thẩm mỹ song giải pháp sửa chữa hoặc đổi mã hàng lạ lẫm vẫn tạo được sự hứng khởi ở những trẻ nhỏ\n",
      "predicted_text: từ chỉ có tính thẩm mỹ trong giải pháp chữa chữa hoặc đồ mã hàng lạ lắm vẫn tạo được sự tính khởi những trẻ nhỏ.\n",
      "Processing: FPTOpenSpeechData_Set001_V0.1_000434.mp3\n"
     ]
    },
    {
     "name": "stderr",
     "output_type": "stream",
     "text": [
      "/home/ngo/anaconda3/lib/python3.12/site-packages/whisper/transcribe.py:126: UserWarning: FP16 is not supported on CPU; using FP32 instead\n",
      "  warnings.warn(\"FP16 is not supported on CPU; using FP32 instead\")\n"
     ]
    },
    {
     "name": "stdout",
     "output_type": "stream",
     "text": [
      "reference_text: con nhỏ mở cái túi gút đeo trên cổ\n",
      "predicted_text: con nhỏ mở cái túi wooddale trên cổ.\n",
      "Processing: FPTOpenSpeechData_Set001_V0.1_000435.mp3\n"
     ]
    },
    {
     "name": "stderr",
     "output_type": "stream",
     "text": [
      "/home/ngo/anaconda3/lib/python3.12/site-packages/whisper/transcribe.py:126: UserWarning: FP16 is not supported on CPU; using FP32 instead\n",
      "  warnings.warn(\"FP16 is not supported on CPU; using FP32 instead\")\n"
     ]
    },
    {
     "name": "stdout",
     "output_type": "stream",
     "text": [
      "reference_text: họ không cho phép anh vào nhà\n",
      "predicted_text: họ không cho phép anh được nha\n",
      "Processing: FPTOpenSpeechData_Set001_V0.1_000436.mp3\n"
     ]
    },
    {
     "name": "stderr",
     "output_type": "stream",
     "text": [
      "/home/ngo/anaconda3/lib/python3.12/site-packages/whisper/transcribe.py:126: UserWarning: FP16 is not supported on CPU; using FP32 instead\n",
      "  warnings.warn(\"FP16 is not supported on CPU; using FP32 instead\")\n"
     ]
    },
    {
     "name": "stdout",
     "output_type": "stream",
     "text": [
      "reference_text: nguồn nước ở đây đã bị nhiễm mặn nhiễm phèn và nhiễm khuẩn bởi thói quen thải rác trực tiếp ra sông lượng thuốc trừ sâu dùng trong nông nghiệp và việc xây cầu cảng ở cuối dòng sông cũng là lý do\n",
      "predicted_text: nguồn nước ở đây đã bị nhiễm mạn, nhiễm phèn và nhiễm khuẩn bởi thói quen thái rác trực tiếp ra sông. lượng thuốc trừ sâu dùng trong nông nghiệp và việc xây cầu cạn ở cuối dòng sông cũng là lý do.\n",
      "Processing: FPTOpenSpeechData_Set001_V0.1_000437.mp3\n"
     ]
    },
    {
     "name": "stderr",
     "output_type": "stream",
     "text": [
      "/home/ngo/anaconda3/lib/python3.12/site-packages/whisper/transcribe.py:126: UserWarning: FP16 is not supported on CPU; using FP32 instead\n",
      "  warnings.warn(\"FP16 is not supported on CPU; using FP32 instead\")\n"
     ]
    },
    {
     "name": "stdout",
     "output_type": "stream",
     "text": [
      "reference_text: đây có thể là kẽ hở nảy sinh tiêu cực gây thất thoát lớn\n",
      "predicted_text: đây có thể là kẻ hỡ nảy sinh tiêu cực rời thất thoát lớn.\n",
      "Processing: FPTOpenSpeechData_Set001_V0.1_000438.mp3\n"
     ]
    },
    {
     "name": "stderr",
     "output_type": "stream",
     "text": [
      "/home/ngo/anaconda3/lib/python3.12/site-packages/whisper/transcribe.py:126: UserWarning: FP16 is not supported on CPU; using FP32 instead\n",
      "  warnings.warn(\"FP16 is not supported on CPU; using FP32 instead\")\n"
     ]
    },
    {
     "name": "stdout",
     "output_type": "stream",
     "text": [
      "reference_text: đốt pháo sẽ bị tội gây rối trật tự công cộng bởi tác hại lớn mà việc đốt pháo đã bị cấm hẳn\n",
      "predicted_text: bước 6 sẽ bị tội gây rượt trật tự công cộng bởi tác hại lớn mà việc bước 6 đã bị cấm hẳn.\n",
      "Processing: FPTOpenSpeechData_Set001_V0.1_000439.mp3\n"
     ]
    },
    {
     "name": "stderr",
     "output_type": "stream",
     "text": [
      "/home/ngo/anaconda3/lib/python3.12/site-packages/whisper/transcribe.py:126: UserWarning: FP16 is not supported on CPU; using FP32 instead\n",
      "  warnings.warn(\"FP16 is not supported on CPU; using FP32 instead\")\n"
     ]
    },
    {
     "name": "stdout",
     "output_type": "stream",
     "text": [
      "reference_text: phê thuốc lắc\n",
      "predicted_text: phê đồ lắm\n",
      "Processing: FPTOpenSpeechData_Set001_V0.1_000440.mp3\n"
     ]
    },
    {
     "name": "stderr",
     "output_type": "stream",
     "text": [
      "/home/ngo/anaconda3/lib/python3.12/site-packages/whisper/transcribe.py:126: UserWarning: FP16 is not supported on CPU; using FP32 instead\n",
      "  warnings.warn(\"FP16 is not supported on CPU; using FP32 instead\")\n"
     ]
    },
    {
     "name": "stdout",
     "output_type": "stream",
     "text": [
      "reference_text: điều này chọc tức tôi\n",
      "predicted_text: điều này đọc thức tôi\n",
      "Processing: FPTOpenSpeechData_Set001_V0.1_000441.mp3\n"
     ]
    },
    {
     "name": "stderr",
     "output_type": "stream",
     "text": [
      "/home/ngo/anaconda3/lib/python3.12/site-packages/whisper/transcribe.py:126: UserWarning: FP16 is not supported on CPU; using FP32 instead\n",
      "  warnings.warn(\"FP16 is not supported on CPU; using FP32 instead\")\n"
     ]
    },
    {
     "name": "stdout",
     "output_type": "stream",
     "text": [
      "reference_text: trước đó tôi về mở hộp thư điện tử ra và nhận được rất nhiều lá thư của người hâm mộ yêu cầu tôi về quê hương đi và tôi biết đã đến lúc nói lời tạm biệt\n",
      "predicted_text: trước đó, tôi bị mở hộp thuê điện tử ra và nhận được rất nhiều lá thư của người hâm mộ yêu cầu tôi về quê hương đi và tôi biết đã đến lúc nói lời tạm biệt.\n",
      "Processing: FPTOpenSpeechData_Set001_V0.1_000442.mp3\n"
     ]
    },
    {
     "name": "stderr",
     "output_type": "stream",
     "text": [
      "/home/ngo/anaconda3/lib/python3.12/site-packages/whisper/transcribe.py:126: UserWarning: FP16 is not supported on CPU; using FP32 instead\n",
      "  warnings.warn(\"FP16 is not supported on CPU; using FP32 instead\")\n"
     ]
    },
    {
     "name": "stdout",
     "output_type": "stream",
     "text": [
      "reference_text: các kết quả xét nghiệm có bí mật không\n",
      "predicted_text: các kết quả xét nghiệm có bí mật không?\n",
      "Processing: FPTOpenSpeechData_Set001_V0.1_000443.mp3\n"
     ]
    },
    {
     "name": "stderr",
     "output_type": "stream",
     "text": [
      "/home/ngo/anaconda3/lib/python3.12/site-packages/whisper/transcribe.py:126: UserWarning: FP16 is not supported on CPU; using FP32 instead\n",
      "  warnings.warn(\"FP16 is not supported on CPU; using FP32 instead\")\n"
     ]
    },
    {
     "name": "stdout",
     "output_type": "stream",
     "text": [
      "reference_text: toàn là đồ dùng cá nhân\n",
      "predicted_text: toàn là đồ dùng cá nhân\n",
      "Processing: FPTOpenSpeechData_Set001_V0.1_000444.mp3\n"
     ]
    },
    {
     "name": "stderr",
     "output_type": "stream",
     "text": [
      "/home/ngo/anaconda3/lib/python3.12/site-packages/whisper/transcribe.py:126: UserWarning: FP16 is not supported on CPU; using FP32 instead\n",
      "  warnings.warn(\"FP16 is not supported on CPU; using FP32 instead\")\n"
     ]
    },
    {
     "name": "stdout",
     "output_type": "stream",
     "text": [
      "reference_text: dừng lại\n",
      "predicted_text: dừng lại\n",
      "Processing: FPTOpenSpeechData_Set001_V0.1_000445.mp3\n"
     ]
    },
    {
     "name": "stderr",
     "output_type": "stream",
     "text": [
      "/home/ngo/anaconda3/lib/python3.12/site-packages/whisper/transcribe.py:126: UserWarning: FP16 is not supported on CPU; using FP32 instead\n",
      "  warnings.warn(\"FP16 is not supported on CPU; using FP32 instead\")\n"
     ]
    },
    {
     "name": "stdout",
     "output_type": "stream",
     "text": [
      "reference_text: những lợi ích nào khác được cung cấp\n",
      "predicted_text: nhưng lấy ít nào khác được cung cấp.\n",
      "Processing: FPTOpenSpeechData_Set001_V0.1_000446.mp3\n"
     ]
    },
    {
     "name": "stderr",
     "output_type": "stream",
     "text": [
      "/home/ngo/anaconda3/lib/python3.12/site-packages/whisper/transcribe.py:126: UserWarning: FP16 is not supported on CPU; using FP32 instead\n",
      "  warnings.warn(\"FP16 is not supported on CPU; using FP32 instead\")\n"
     ]
    },
    {
     "name": "stdout",
     "output_type": "stream",
     "text": [
      "reference_text: chúng tôi không có cỡ khác\n",
      "predicted_text: chúng tôi không có cậu thầy.\n",
      "Processing: FPTOpenSpeechData_Set001_V0.1_000447.mp3\n"
     ]
    },
    {
     "name": "stderr",
     "output_type": "stream",
     "text": [
      "/home/ngo/anaconda3/lib/python3.12/site-packages/whisper/transcribe.py:126: UserWarning: FP16 is not supported on CPU; using FP32 instead\n",
      "  warnings.warn(\"FP16 is not supported on CPU; using FP32 instead\")\n"
     ]
    },
    {
     "name": "stdout",
     "output_type": "stream",
     "text": [
      "reference_text: quý vị có cục u hay chỗ sưng nào ở cả hai bên cổ không\n",
      "predicted_text: quý vị có cục u hay trổ sức nào ở cả hai bên cổ gốc?\n",
      "Processing: FPTOpenSpeechData_Set001_V0.1_000448.mp3\n"
     ]
    },
    {
     "name": "stderr",
     "output_type": "stream",
     "text": [
      "/home/ngo/anaconda3/lib/python3.12/site-packages/whisper/transcribe.py:126: UserWarning: FP16 is not supported on CPU; using FP32 instead\n",
      "  warnings.warn(\"FP16 is not supported on CPU; using FP32 instead\")\n"
     ]
    },
    {
     "name": "stdout",
     "output_type": "stream",
     "text": [
      "reference_text: ti vi tăng tiếng đến chín\n",
      "predicted_text: tivi tăng tiếng đến 9\n",
      "Processing: FPTOpenSpeechData_Set001_V0.1_000449.mp3\n"
     ]
    },
    {
     "name": "stderr",
     "output_type": "stream",
     "text": [
      "/home/ngo/anaconda3/lib/python3.12/site-packages/whisper/transcribe.py:126: UserWarning: FP16 is not supported on CPU; using FP32 instead\n",
      "  warnings.warn(\"FP16 is not supported on CPU; using FP32 instead\")\n"
     ]
    },
    {
     "name": "stdout",
     "output_type": "stream",
     "text": [
      "reference_text: và cho tôi khoai tây chiên\n",
      "predicted_text: và cho tôi khoai tây tiên này\n",
      "Processing: FPTOpenSpeechData_Set001_V0.1_000450.mp3\n"
     ]
    },
    {
     "name": "stderr",
     "output_type": "stream",
     "text": [
      "/home/ngo/anaconda3/lib/python3.12/site-packages/whisper/transcribe.py:126: UserWarning: FP16 is not supported on CPU; using FP32 instead\n",
      "  warnings.warn(\"FP16 is not supported on CPU; using FP32 instead\")\n"
     ]
    },
    {
     "name": "stdout",
     "output_type": "stream",
     "text": [
      "reference_text: các đầu bếp còn chế biến ra nhiều loại phở khác nhau bằng cách biến tấu những món ăn hàn quốc trung quốc như phở hải sản phở xào mực\n",
      "predicted_text: các đồ bếp còn chỉ biến ra nhiều loại phở khác nhau bằng cách biến hướng những món ăn hàn quốc, trung quốc, những phở hải sản, phở xo mực.\n",
      "Processing: FPTOpenSpeechData_Set001_V0.1_000451.mp3\n"
     ]
    },
    {
     "name": "stderr",
     "output_type": "stream",
     "text": [
      "/home/ngo/anaconda3/lib/python3.12/site-packages/whisper/transcribe.py:126: UserWarning: FP16 is not supported on CPU; using FP32 instead\n",
      "  warnings.warn(\"FP16 is not supported on CPU; using FP32 instead\")\n"
     ]
    },
    {
     "name": "stdout",
     "output_type": "stream",
     "text": [
      "reference_text: anh có thể cho tôi biết số điện thoại của jerry hart hart anh ấy ở tại phố mười hai phố pinewood street\n",
      "predicted_text: anh có thể cho tôi biết số điện thoại của jerry hart? h-a-r-t anh ấy ở tại phố 12, phố pinwood street\n",
      "Processing: FPTOpenSpeechData_Set001_V0.1_000452.mp3\n"
     ]
    },
    {
     "name": "stderr",
     "output_type": "stream",
     "text": [
      "/home/ngo/anaconda3/lib/python3.12/site-packages/whisper/transcribe.py:126: UserWarning: FP16 is not supported on CPU; using FP32 instead\n",
      "  warnings.warn(\"FP16 is not supported on CPU; using FP32 instead\")\n"
     ]
    },
    {
     "name": "stdout",
     "output_type": "stream",
     "text": [
      "reference_text: anh có thể cho tôi biết số điện thoại của jerry hart hart anh ấy ở tại bốn mười hai phố pinewood street seattle\n",
      "predicted_text: anh có thể cho tôi biết số điện thoại của jerry hart? hart a.r.t. anh ấy ở tại 412 phố pinwood street, sittow.\n",
      "Processing: FPTOpenSpeechData_Set001_V0.1_000453.mp3\n"
     ]
    },
    {
     "name": "stderr",
     "output_type": "stream",
     "text": [
      "/home/ngo/anaconda3/lib/python3.12/site-packages/whisper/transcribe.py:126: UserWarning: FP16 is not supported on CPU; using FP32 instead\n",
      "  warnings.warn(\"FP16 is not supported on CPU; using FP32 instead\")\n"
     ]
    },
    {
     "name": "stdout",
     "output_type": "stream",
     "text": [
      "reference_text: hậu quả là cấu trúc sản xuất của việt nam cũng bị méo mó nghiêm trọng\n",
      "predicted_text: hậu quả là cấu trúc sản xuất của việt nam cũng bị méo mó nghiêm trọng\n",
      "Processing: FPTOpenSpeechData_Set001_V0.1_000454.mp3\n"
     ]
    },
    {
     "name": "stderr",
     "output_type": "stream",
     "text": [
      "/home/ngo/anaconda3/lib/python3.12/site-packages/whisper/transcribe.py:126: UserWarning: FP16 is not supported on CPU; using FP32 instead\n",
      "  warnings.warn(\"FP16 is not supported on CPU; using FP32 instead\")\n"
     ]
    },
    {
     "name": "stdout",
     "output_type": "stream",
     "text": [
      "reference_text: chuyến đi hay quá\n",
      "predicted_text: chuyện đi hay quá\n",
      "Processing: FPTOpenSpeechData_Set001_V0.1_000455.mp3\n"
     ]
    },
    {
     "name": "stderr",
     "output_type": "stream",
     "text": [
      "/home/ngo/anaconda3/lib/python3.12/site-packages/whisper/transcribe.py:126: UserWarning: FP16 is not supported on CPU; using FP32 instead\n",
      "  warnings.warn(\"FP16 is not supported on CPU; using FP32 instead\")\n"
     ]
    },
    {
     "name": "stdout",
     "output_type": "stream",
     "text": [
      "reference_text: anh chắc là đói có gà nướng trong tủ lạnh\n",
      "predicted_text: anh chắc là đói, có gà nướng trong tủ lạnh\n",
      "Processing: FPTOpenSpeechData_Set001_V0.1_000456.mp3\n"
     ]
    },
    {
     "name": "stderr",
     "output_type": "stream",
     "text": [
      "/home/ngo/anaconda3/lib/python3.12/site-packages/whisper/transcribe.py:126: UserWarning: FP16 is not supported on CPU; using FP32 instead\n",
      "  warnings.warn(\"FP16 is not supported on CPU; using FP32 instead\")\n"
     ]
    },
    {
     "name": "stdout",
     "output_type": "stream",
     "text": [
      "reference_text: xin lỗi tôi đã không để ý\n",
      "predicted_text: xin lỗi tôi đã không để ý.\n",
      "Processing: FPTOpenSpeechData_Set001_V0.1_000457.mp3\n"
     ]
    },
    {
     "name": "stderr",
     "output_type": "stream",
     "text": [
      "/home/ngo/anaconda3/lib/python3.12/site-packages/whisper/transcribe.py:126: UserWarning: FP16 is not supported on CPU; using FP32 instead\n",
      "  warnings.warn(\"FP16 is not supported on CPU; using FP32 instead\")\n"
     ]
    },
    {
     "name": "stdout",
     "output_type": "stream",
     "text": [
      "reference_text: vui lòng cho tôi xem cái giống cái -n được trưng bày ở cửa sổ\n",
      "predicted_text: vui lòng cho tôi xem cái giống cái để đọc trưng bài ở cửa sổ.\n",
      "Processing: FPTOpenSpeechData_Set001_V0.1_000458.mp3\n"
     ]
    },
    {
     "name": "stderr",
     "output_type": "stream",
     "text": [
      "/home/ngo/anaconda3/lib/python3.12/site-packages/whisper/transcribe.py:126: UserWarning: FP16 is not supported on CPU; using FP32 instead\n",
      "  warnings.warn(\"FP16 is not supported on CPU; using FP32 instead\")\n"
     ]
    },
    {
     "name": "stdout",
     "output_type": "stream",
     "text": [
      "reference_text: mở ti vi\n",
      "predicted_text: mở tv\n",
      "Processing: FPTOpenSpeechData_Set001_V0.1_000459.mp3\n"
     ]
    },
    {
     "name": "stderr",
     "output_type": "stream",
     "text": [
      "/home/ngo/anaconda3/lib/python3.12/site-packages/whisper/transcribe.py:126: UserWarning: FP16 is not supported on CPU; using FP32 instead\n",
      "  warnings.warn(\"FP16 is not supported on CPU; using FP32 instead\")\n"
     ]
    },
    {
     "name": "stdout",
     "output_type": "stream",
     "text": [
      "reference_text: các hoa hậu xuất hiện trong màn mở đầu\n",
      "predicted_text: các hoa hậu xuất hiện chốc hoạt bở đầu\n",
      "Processing: FPTOpenSpeechData_Set001_V0.1_000460.mp3\n"
     ]
    },
    {
     "name": "stderr",
     "output_type": "stream",
     "text": [
      "/home/ngo/anaconda3/lib/python3.12/site-packages/whisper/transcribe.py:126: UserWarning: FP16 is not supported on CPU; using FP32 instead\n",
      "  warnings.warn(\"FP16 is not supported on CPU; using FP32 instead\")\n"
     ]
    },
    {
     "name": "stdout",
     "output_type": "stream",
     "text": [
      "reference_text: cần phải bỏ những suy nghĩ cũ kỹ cổ hủ diện bộ cánh nhã nhặn vừa vặn sẽ giúp hà đẹp hơn ở lễ hỏi cưới\n",
      "predicted_text: cần phải bỏ những suy nghĩ cũ kĩ, cổ hú, diệm bộ cảnh nhã nhặt vừa vặn sẽ giúp hà đẹp hơn ở lễ hỏi cưới.\n",
      "Processing: FPTOpenSpeechData_Set001_V0.1_000461.mp3\n"
     ]
    },
    {
     "name": "stderr",
     "output_type": "stream",
     "text": [
      "/home/ngo/anaconda3/lib/python3.12/site-packages/whisper/transcribe.py:126: UserWarning: FP16 is not supported on CPU; using FP32 instead\n",
      "  warnings.warn(\"FP16 is not supported on CPU; using FP32 instead\")\n"
     ]
    },
    {
     "name": "stdout",
     "output_type": "stream",
     "text": [
      "reference_text: với vở kịch thị nở gặp chí phèo diệp anh đã diễn rất đạt và gây được cảm tình với ban giám khảo cũng như đông đảo khán giả\n",
      "predicted_text: với vỡ kịch thị nở gặp trí phèo, diệp anh đã diễn rất đạt và gây được cảm tình với ban giám khảo cũng như đông đảo khán giả.\n",
      "Processing: FPTOpenSpeechData_Set001_V0.1_000462.mp3\n"
     ]
    },
    {
     "name": "stderr",
     "output_type": "stream",
     "text": [
      "/home/ngo/anaconda3/lib/python3.12/site-packages/whisper/transcribe.py:126: UserWarning: FP16 is not supported on CPU; using FP32 instead\n",
      "  warnings.warn(\"FP16 is not supported on CPU; using FP32 instead\")\n"
     ]
    },
    {
     "name": "stdout",
     "output_type": "stream",
     "text": [
      "reference_text: virus\n",
      "predicted_text: ví dụ\n",
      "Processing: FPTOpenSpeechData_Set001_V0.1_000463.mp3\n"
     ]
    },
    {
     "name": "stderr",
     "output_type": "stream",
     "text": [
      "/home/ngo/anaconda3/lib/python3.12/site-packages/whisper/transcribe.py:126: UserWarning: FP16 is not supported on CPU; using FP32 instead\n",
      "  warnings.warn(\"FP16 is not supported on CPU; using FP32 instead\")\n"
     ]
    },
    {
     "name": "stdout",
     "output_type": "stream",
     "text": [
      "reference_text: thưa anh tên của anh là gì\n",
      "predicted_text: thưa anh, tên của anh là gì?\n",
      "Processing: FPTOpenSpeechData_Set001_V0.1_000464.mp3\n"
     ]
    },
    {
     "name": "stderr",
     "output_type": "stream",
     "text": [
      "/home/ngo/anaconda3/lib/python3.12/site-packages/whisper/transcribe.py:126: UserWarning: FP16 is not supported on CPU; using FP32 instead\n",
      "  warnings.warn(\"FP16 is not supported on CPU; using FP32 instead\")\n"
     ]
    },
    {
     "name": "stdout",
     "output_type": "stream",
     "text": [
      "reference_text: còn thọ đang bị công an tạm giữ\n",
      "predicted_text: còn thọ đang bị công an tạm giữ\n",
      "Processing: FPTOpenSpeechData_Set001_V0.1_000465.mp3\n"
     ]
    },
    {
     "name": "stderr",
     "output_type": "stream",
     "text": [
      "/home/ngo/anaconda3/lib/python3.12/site-packages/whisper/transcribe.py:126: UserWarning: FP16 is not supported on CPU; using FP32 instead\n",
      "  warnings.warn(\"FP16 is not supported on CPU; using FP32 instead\")\n"
     ]
    },
    {
     "name": "stdout",
     "output_type": "stream",
     "text": [
      "reference_text: tôi có thể lấy gì cho anh\n",
      "predicted_text: tôi có thể lấy gì cho anh?\n",
      "Processing: FPTOpenSpeechData_Set001_V0.1_000466.mp3\n"
     ]
    },
    {
     "name": "stderr",
     "output_type": "stream",
     "text": [
      "/home/ngo/anaconda3/lib/python3.12/site-packages/whisper/transcribe.py:126: UserWarning: FP16 is not supported on CPU; using FP32 instead\n",
      "  warnings.warn(\"FP16 is not supported on CPU; using FP32 instead\")\n"
     ]
    },
    {
     "name": "stdout",
     "output_type": "stream",
     "text": [
      "reference_text: đây là hai mươi đô la và anh có thể giữ tiền thối\n",
      "predicted_text: đây là 20 đô la và anh có thể giữ tiền thối.\n",
      "Processing: FPTOpenSpeechData_Set001_V0.1_000467.mp3\n"
     ]
    },
    {
     "name": "stderr",
     "output_type": "stream",
     "text": [
      "/home/ngo/anaconda3/lib/python3.12/site-packages/whisper/transcribe.py:126: UserWarning: FP16 is not supported on CPU; using FP32 instead\n",
      "  warnings.warn(\"FP16 is not supported on CPU; using FP32 instead\")\n"
     ]
    },
    {
     "name": "stdout",
     "output_type": "stream",
     "text": [
      "reference_text: ba hai bảy bảy anh có thể nói chuyện với cô ấy ở một số máy con một năm chín cô ấy nghĩ nó như\n",
      "predicted_text: 3277 anh có thể nói chuyện với cô ấy ở một sổ mạy con 159 cô ấy ghi nói như\n",
      "Processing: FPTOpenSpeechData_Set001_V0.1_000468.mp3\n"
     ]
    },
    {
     "name": "stderr",
     "output_type": "stream",
     "text": [
      "/home/ngo/anaconda3/lib/python3.12/site-packages/whisper/transcribe.py:126: UserWarning: FP16 is not supported on CPU; using FP32 instead\n",
      "  warnings.warn(\"FP16 is not supported on CPU; using FP32 instead\")\n"
     ]
    },
    {
     "name": "stdout",
     "output_type": "stream",
     "text": [
      "reference_text: mọi thứ dường như vô nghĩa và vô dụng đối với tôi\n",
      "predicted_text: mời thượng chúa như vô nghĩa và vô chủng đội với tôi\n",
      "Processing: FPTOpenSpeechData_Set001_V0.1_000469.mp3\n"
     ]
    },
    {
     "name": "stderr",
     "output_type": "stream",
     "text": [
      "/home/ngo/anaconda3/lib/python3.12/site-packages/whisper/transcribe.py:126: UserWarning: FP16 is not supported on CPU; using FP32 instead\n",
      "  warnings.warn(\"FP16 is not supported on CPU; using FP32 instead\")\n"
     ]
    },
    {
     "name": "stdout",
     "output_type": "stream",
     "text": [
      "reference_text: cho dù ngôn ngữ của bạn có là gì đi nữa\n",
      "predicted_text: cho dù ngôn ngữ của bạn có là gì đi nữa\n",
      "Processing: FPTOpenSpeechData_Set001_V0.1_000470.mp3\n"
     ]
    },
    {
     "name": "stderr",
     "output_type": "stream",
     "text": [
      "/home/ngo/anaconda3/lib/python3.12/site-packages/whisper/transcribe.py:126: UserWarning: FP16 is not supported on CPU; using FP32 instead\n",
      "  warnings.warn(\"FP16 is not supported on CPU; using FP32 instead\")\n"
     ]
    },
    {
     "name": "stdout",
     "output_type": "stream",
     "text": [
      "reference_text: tôi muốn gặp về một bác sĩ chuyên về tai\n",
      "predicted_text: tôi muốn gặp về một bác sĩ chuyên về tai.\n",
      "Processing: FPTOpenSpeechData_Set001_V0.1_000471.mp3\n"
     ]
    },
    {
     "name": "stderr",
     "output_type": "stream",
     "text": [
      "/home/ngo/anaconda3/lib/python3.12/site-packages/whisper/transcribe.py:126: UserWarning: FP16 is not supported on CPU; using FP32 instead\n",
      "  warnings.warn(\"FP16 is not supported on CPU; using FP32 instead\")\n"
     ]
    },
    {
     "name": "stdout",
     "output_type": "stream",
     "text": [
      "reference_text: giá cao su bắt đầu hạ nhiệt\n",
      "predicted_text: giá cao suy bắt đầu hạ nhiệt\n",
      "Processing: FPTOpenSpeechData_Set001_V0.1_000472.mp3\n"
     ]
    },
    {
     "name": "stderr",
     "output_type": "stream",
     "text": [
      "/home/ngo/anaconda3/lib/python3.12/site-packages/whisper/transcribe.py:126: UserWarning: FP16 is not supported on CPU; using FP32 instead\n",
      "  warnings.warn(\"FP16 is not supported on CPU; using FP32 instead\")\n"
     ]
    },
    {
     "name": "stdout",
     "output_type": "stream",
     "text": [
      "reference_text: cách tốt nhất để đến khách sạn plaza là gì\n",
      "predicted_text: khách tốt nhất để đến khách sạn plaza là gì?\n",
      "Processing: FPTOpenSpeechData_Set001_V0.1_000473.mp3\n"
     ]
    },
    {
     "name": "stderr",
     "output_type": "stream",
     "text": [
      "/home/ngo/anaconda3/lib/python3.12/site-packages/whisper/transcribe.py:126: UserWarning: FP16 is not supported on CPU; using FP32 instead\n",
      "  warnings.warn(\"FP16 is not supported on CPU; using FP32 instead\")\n"
     ]
    },
    {
     "name": "stdout",
     "output_type": "stream",
     "text": [
      "reference_text: gầy tọp\n",
      "predicted_text: ngày tập\n",
      "Processing: FPTOpenSpeechData_Set001_V0.1_000474.mp3\n"
     ]
    },
    {
     "name": "stderr",
     "output_type": "stream",
     "text": [
      "/home/ngo/anaconda3/lib/python3.12/site-packages/whisper/transcribe.py:126: UserWarning: FP16 is not supported on CPU; using FP32 instead\n",
      "  warnings.warn(\"FP16 is not supported on CPU; using FP32 instead\")\n"
     ]
    },
    {
     "name": "stdout",
     "output_type": "stream",
     "text": [
      "reference_text: quán cà phê anh em mở làm phở ngon cực kỳ\n",
      "predicted_text: quán cà phê anh em mở làm phở ngon rất kì\n",
      "Processing: FPTOpenSpeechData_Set001_V0.1_000475.mp3\n"
     ]
    },
    {
     "name": "stderr",
     "output_type": "stream",
     "text": [
      "/home/ngo/anaconda3/lib/python3.12/site-packages/whisper/transcribe.py:126: UserWarning: FP16 is not supported on CPU; using FP32 instead\n",
      "  warnings.warn(\"FP16 is not supported on CPU; using FP32 instead\")\n"
     ]
    },
    {
     "name": "stdout",
     "output_type": "stream",
     "text": [
      "reference_text: vui lòng dùng máy xerox\n",
      "predicted_text: vui lòng dùng máy xe rốt\n",
      "Processing: FPTOpenSpeechData_Set001_V0.1_000476.mp3\n"
     ]
    },
    {
     "name": "stderr",
     "output_type": "stream",
     "text": [
      "/home/ngo/anaconda3/lib/python3.12/site-packages/whisper/transcribe.py:126: UserWarning: FP16 is not supported on CPU; using FP32 instead\n",
      "  warnings.warn(\"FP16 is not supported on CPU; using FP32 instead\")\n"
     ]
    },
    {
     "name": "stdout",
     "output_type": "stream",
     "text": [
      "reference_text: từ bây giờ nó được gọi là thai nhi\n",
      "predicted_text: từ bây giờ nó được gọi là thanh nhi\n",
      "Processing: FPTOpenSpeechData_Set001_V0.1_000477.mp3\n"
     ]
    },
    {
     "name": "stderr",
     "output_type": "stream",
     "text": [
      "/home/ngo/anaconda3/lib/python3.12/site-packages/whisper/transcribe.py:126: UserWarning: FP16 is not supported on CPU; using FP32 instead\n",
      "  warnings.warn(\"FP16 is not supported on CPU; using FP32 instead\")\n"
     ]
    },
    {
     "name": "stdout",
     "output_type": "stream",
     "text": [
      "reference_text: tôi không có em trai\n",
      "predicted_text: tôi không có em trai\n",
      "Processing: FPTOpenSpeechData_Set001_V0.1_000478.mp3\n"
     ]
    },
    {
     "name": "stderr",
     "output_type": "stream",
     "text": [
      "/home/ngo/anaconda3/lib/python3.12/site-packages/whisper/transcribe.py:126: UserWarning: FP16 is not supported on CPU; using FP32 instead\n",
      "  warnings.warn(\"FP16 is not supported on CPU; using FP32 instead\")\n"
     ]
    },
    {
     "name": "stdout",
     "output_type": "stream",
     "text": [
      "reference_text: cú ngoạm của nó yếu hơn của linh cẩu\n",
      "predicted_text: \n",
      "Processing: FPTOpenSpeechData_Set001_V0.1_000479.mp3\n"
     ]
    },
    {
     "name": "stderr",
     "output_type": "stream",
     "text": [
      "/home/ngo/anaconda3/lib/python3.12/site-packages/whisper/transcribe.py:126: UserWarning: FP16 is not supported on CPU; using FP32 instead\n",
      "  warnings.warn(\"FP16 is not supported on CPU; using FP32 instead\")\n"
     ]
    },
    {
     "name": "stdout",
     "output_type": "stream",
     "text": [
      "reference_text: đạo chích người nước ngoài tái xuất\n",
      "predicted_text: đạo chích người nước ngoài tái xuất\n",
      "Processing: FPTOpenSpeechData_Set001_V0.1_000480.mp3\n"
     ]
    },
    {
     "name": "stderr",
     "output_type": "stream",
     "text": [
      "/home/ngo/anaconda3/lib/python3.12/site-packages/whisper/transcribe.py:126: UserWarning: FP16 is not supported on CPU; using FP32 instead\n",
      "  warnings.warn(\"FP16 is not supported on CPU; using FP32 instead\")\n"
     ]
    },
    {
     "name": "stdout",
     "output_type": "stream",
     "text": [
      "reference_text: tôi tham gia vào câu lạc bộ quần vợt\n",
      "predicted_text: rồi tham gia vào phẫu lạc bộ quân vượt.\n",
      "Processing: FPTOpenSpeechData_Set001_V0.1_000481.mp3\n"
     ]
    },
    {
     "name": "stderr",
     "output_type": "stream",
     "text": [
      "/home/ngo/anaconda3/lib/python3.12/site-packages/whisper/transcribe.py:126: UserWarning: FP16 is not supported on CPU; using FP32 instead\n",
      "  warnings.warn(\"FP16 is not supported on CPU; using FP32 instead\")\n"
     ]
    },
    {
     "name": "stdout",
     "output_type": "stream",
     "text": [
      "reference_text: rùa phải nuôi trong các bồn khô vì chúng không ngóc đầu lên được\n",
      "predicted_text: rùa phải nuôi trong các môn phố vì chẳng không ngóc đâu lên được\n",
      "Processing: FPTOpenSpeechData_Set001_V0.1_000482.mp3\n"
     ]
    },
    {
     "name": "stderr",
     "output_type": "stream",
     "text": [
      "/home/ngo/anaconda3/lib/python3.12/site-packages/whisper/transcribe.py:126: UserWarning: FP16 is not supported on CPU; using FP32 instead\n",
      "  warnings.warn(\"FP16 is not supported on CPU; using FP32 instead\")\n"
     ]
    },
    {
     "name": "stdout",
     "output_type": "stream",
     "text": [
      "reference_text: ví cũ mèm tiền nhồi nhét vô tổ chức\n",
      "predicted_text: cũng quý vị có thể kết thúc chung với những bài hay vẻ không vô t grâce\n",
      "Processing: FPTOpenSpeechData_Set001_V0.1_000483.mp3\n"
     ]
    },
    {
     "name": "stderr",
     "output_type": "stream",
     "text": [
      "/home/ngo/anaconda3/lib/python3.12/site-packages/whisper/transcribe.py:126: UserWarning: FP16 is not supported on CPU; using FP32 instead\n",
      "  warnings.warn(\"FP16 is not supported on CPU; using FP32 instead\")\n"
     ]
    },
    {
     "name": "stdout",
     "output_type": "stream",
     "text": [
      "reference_text: quí vị khuyên tôi khi nào thì có thể thay các lốp xe này\n",
      "predicted_text: quý vị khuyên tôi khi nào thì có thể thay các lột xe này.\n",
      "Processing: FPTOpenSpeechData_Set001_V0.1_000484.mp3\n"
     ]
    },
    {
     "name": "stderr",
     "output_type": "stream",
     "text": [
      "/home/ngo/anaconda3/lib/python3.12/site-packages/whisper/transcribe.py:126: UserWarning: FP16 is not supported on CPU; using FP32 instead\n",
      "  warnings.warn(\"FP16 is not supported on CPU; using FP32 instead\")\n"
     ]
    },
    {
     "name": "stdout",
     "output_type": "stream",
     "text": [
      "reference_text: tên tôi là suzuki , tôi đã đặt phòng cho đêm nay\n",
      "predicted_text: tên tôi là suzuki, tôi đã đặt phòng cho đêm nay.\n",
      "Processing: FPTOpenSpeechData_Set001_V0.1_000485.mp3\n"
     ]
    },
    {
     "name": "stderr",
     "output_type": "stream",
     "text": [
      "/home/ngo/anaconda3/lib/python3.12/site-packages/whisper/transcribe.py:126: UserWarning: FP16 is not supported on CPU; using FP32 instead\n",
      "  warnings.warn(\"FP16 is not supported on CPU; using FP32 instead\")\n"
     ]
    },
    {
     "name": "stdout",
     "output_type": "stream",
     "text": [
      "reference_text: ông tổng giám đốc doanh nghiệp bảo trợ xã hội là người đã hỗ trợ xây dựng ngôi nhà từ những chai nhựa lông ngỗng và cũng là chủ dự án này\n",
      "predicted_text: ông tổng giám đốc doanh nghiệp bảo trợ xã hội là người đã hỗ trợ xây dựng ngôi nhà từ những chai nhựa, lồng ngỗng và cũng là chủ dự án này.\n",
      "Processing: FPTOpenSpeechData_Set001_V0.1_000486.mp3\n"
     ]
    },
    {
     "name": "stderr",
     "output_type": "stream",
     "text": [
      "/home/ngo/anaconda3/lib/python3.12/site-packages/whisper/transcribe.py:126: UserWarning: FP16 is not supported on CPU; using FP32 instead\n",
      "  warnings.warn(\"FP16 is not supported on CPU; using FP32 instead\")\n"
     ]
    },
    {
     "name": "stdout",
     "output_type": "stream",
     "text": [
      "reference_text: thông minh có năng lực được giáo dục cẩn thận và có lòng tin\n",
      "predicted_text: thông minh, có năng lực, yếu đuộc, cẩn thận và có lòng tin\n",
      "Processing: FPTOpenSpeechData_Set001_V0.1_000487.mp3\n"
     ]
    },
    {
     "name": "stderr",
     "output_type": "stream",
     "text": [
      "/home/ngo/anaconda3/lib/python3.12/site-packages/whisper/transcribe.py:126: UserWarning: FP16 is not supported on CPU; using FP32 instead\n",
      "  warnings.warn(\"FP16 is not supported on CPU; using FP32 instead\")\n"
     ]
    },
    {
     "name": "stdout",
     "output_type": "stream",
     "text": [
      "reference_text: tôi muốn biết về sự giám giảm giá dành cho sinh viên\n",
      "predicted_text: tôi muốn biết về trực giám giảm giá dành cho sinh viên.\n",
      "Processing: FPTOpenSpeechData_Set001_V0.1_000488.mp3\n"
     ]
    },
    {
     "name": "stderr",
     "output_type": "stream",
     "text": [
      "/home/ngo/anaconda3/lib/python3.12/site-packages/whisper/transcribe.py:126: UserWarning: FP16 is not supported on CPU; using FP32 instead\n",
      "  warnings.warn(\"FP16 is not supported on CPU; using FP32 instead\")\n"
     ]
    },
    {
     "name": "stdout",
     "output_type": "stream",
     "text": [
      "reference_text: bạn có kiểu giống thế này màu nâu không\n",
      "predicted_text: bạn có kiểu giống thế này màu nâu không?\n",
      "Processing: FPTOpenSpeechData_Set001_V0.1_000489.mp3\n"
     ]
    },
    {
     "name": "stderr",
     "output_type": "stream",
     "text": [
      "/home/ngo/anaconda3/lib/python3.12/site-packages/whisper/transcribe.py:126: UserWarning: FP16 is not supported on CPU; using FP32 instead\n",
      "  warnings.warn(\"FP16 is not supported on CPU; using FP32 instead\")\n"
     ]
    },
    {
     "name": "stdout",
     "output_type": "stream",
     "text": [
      "reference_text: số phòng anh số mấy\n",
      "predicted_text: trộn vòng ánh sô mấy\n",
      "Processing: FPTOpenSpeechData_Set001_V0.1_000490.mp3\n"
     ]
    },
    {
     "name": "stderr",
     "output_type": "stream",
     "text": [
      "/home/ngo/anaconda3/lib/python3.12/site-packages/whisper/transcribe.py:126: UserWarning: FP16 is not supported on CPU; using FP32 instead\n",
      "  warnings.warn(\"FP16 is not supported on CPU; using FP32 instead\")\n"
     ]
    },
    {
     "name": "stdout",
     "output_type": "stream",
     "text": [
      "reference_text: chúc mừng về ngôi nhà mới của bạn\n",
      "predicted_text: chúc mừng về ngôi nhà mọi người của bạn\n",
      "Processing: FPTOpenSpeechData_Set001_V0.1_000491.mp3\n"
     ]
    },
    {
     "name": "stderr",
     "output_type": "stream",
     "text": [
      "/home/ngo/anaconda3/lib/python3.12/site-packages/whisper/transcribe.py:126: UserWarning: FP16 is not supported on CPU; using FP32 instead\n",
      "  warnings.warn(\"FP16 is not supported on CPU; using FP32 instead\")\n"
     ]
    },
    {
     "name": "stdout",
     "output_type": "stream",
     "text": [
      "reference_text: giá đậu xe một tiếng là bao nhiêu\n",
      "predicted_text: giá đậu xe 1 tiếng là bao nhiêu?\n",
      "Processing: FPTOpenSpeechData_Set001_V0.1_000492.mp3\n"
     ]
    },
    {
     "name": "stderr",
     "output_type": "stream",
     "text": [
      "/home/ngo/anaconda3/lib/python3.12/site-packages/whisper/transcribe.py:126: UserWarning: FP16 is not supported on CPU; using FP32 instead\n",
      "  warnings.warn(\"FP16 is not supported on CPU; using FP32 instead\")\n"
     ]
    },
    {
     "name": "stdout",
     "output_type": "stream",
     "text": [
      "reference_text: xây dựng nhà máy ở nước ngoài\n",
      "predicted_text: xây dựng nhà máy ở nước ngoài\n",
      "Processing: FPTOpenSpeechData_Set001_V0.1_000493.mp3\n"
     ]
    },
    {
     "name": "stderr",
     "output_type": "stream",
     "text": [
      "/home/ngo/anaconda3/lib/python3.12/site-packages/whisper/transcribe.py:126: UserWarning: FP16 is not supported on CPU; using FP32 instead\n",
      "  warnings.warn(\"FP16 is not supported on CPU; using FP32 instead\")\n"
     ]
    },
    {
     "name": "stdout",
     "output_type": "stream",
     "text": [
      "reference_text: nhóm người ngủ trong phòng lạnh nhất phần lớn mơ những điều khó chịu kinh sợ còn ở phòng ấm nhất những giấc mơ êm ái nhẹ nhàng đã đến trong giấc ngủ của những người ở đó\n",
      "predicted_text: nhóm người ngủ trong phòng lạnh nhất phần lớn mơ những điều khó chịu, kinh sợ. còn ở phòng ấm nhất, những giấc mơ êm ái nhẹ nhàng đã đến trong giấc ngủ của những người ở đó.\n",
      "Processing: FPTOpenSpeechData_Set001_V0.1_000494.mp3\n"
     ]
    },
    {
     "name": "stderr",
     "output_type": "stream",
     "text": [
      "/home/ngo/anaconda3/lib/python3.12/site-packages/whisper/transcribe.py:126: UserWarning: FP16 is not supported on CPU; using FP32 instead\n",
      "  warnings.warn(\"FP16 is not supported on CPU; using FP32 instead\")\n"
     ]
    },
    {
     "name": "stdout",
     "output_type": "stream",
     "text": [
      "reference_text: do đó không thể nào nhầm lẫn được giữa một nụ cười ngượng ngựu\n",
      "predicted_text: do đó không thể nào nhầm lẫn được giữa một mụn quyền nghị nụ\n",
      "Processing: FPTOpenSpeechData_Set001_V0.1_000495.mp3\n"
     ]
    },
    {
     "name": "stderr",
     "output_type": "stream",
     "text": [
      "/home/ngo/anaconda3/lib/python3.12/site-packages/whisper/transcribe.py:126: UserWarning: FP16 is not supported on CPU; using FP32 instead\n",
      "  warnings.warn(\"FP16 is not supported on CPU; using FP32 instead\")\n"
     ]
    },
    {
     "name": "stdout",
     "output_type": "stream",
     "text": [
      "reference_text: hãy đến gặp bác sỹ để khám\n",
      "predicted_text: hãy đến gặp bác sĩ để khám\n",
      "Processing: FPTOpenSpeechData_Set001_V0.1_000496.mp3\n"
     ]
    },
    {
     "name": "stderr",
     "output_type": "stream",
     "text": [
      "/home/ngo/anaconda3/lib/python3.12/site-packages/whisper/transcribe.py:126: UserWarning: FP16 is not supported on CPU; using FP32 instead\n",
      "  warnings.warn(\"FP16 is not supported on CPU; using FP32 instead\")\n"
     ]
    },
    {
     "name": "stdout",
     "output_type": "stream",
     "text": [
      "reference_text: tôi có thể dùng thẻ này để được giảm giá không\n",
      "predicted_text: tôi có thể dùng thẻ này để được giảm giá không?\n",
      "Processing: FPTOpenSpeechData_Set001_V0.1_000497.mp3\n"
     ]
    },
    {
     "name": "stderr",
     "output_type": "stream",
     "text": [
      "/home/ngo/anaconda3/lib/python3.12/site-packages/whisper/transcribe.py:126: UserWarning: FP16 is not supported on CPU; using FP32 instead\n",
      "  warnings.warn(\"FP16 is not supported on CPU; using FP32 instead\")\n"
     ]
    },
    {
     "name": "stdout",
     "output_type": "stream",
     "text": [
      "reference_text: thiếu nữ anh chết trong bồn tắm ở tokyo\n",
      "predicted_text: như anh chơi trong buồn tầm ẩm đâu yêu\n",
      "Processing: FPTOpenSpeechData_Set001_V0.1_000498.mp3\n"
     ]
    },
    {
     "name": "stderr",
     "output_type": "stream",
     "text": [
      "/home/ngo/anaconda3/lib/python3.12/site-packages/whisper/transcribe.py:126: UserWarning: FP16 is not supported on CPU; using FP32 instead\n",
      "  warnings.warn(\"FP16 is not supported on CPU; using FP32 instead\")\n"
     ]
    },
    {
     "name": "stdout",
     "output_type": "stream",
     "text": [
      "reference_text: hoài niệm về chuyện xếp hàng ở liên xô\n",
      "predicted_text: hoàn nhiệm về chuyện sơ ảo ở liên xô\n",
      "Processing: FPTOpenSpeechData_Set001_V0.1_000499.mp3\n"
     ]
    },
    {
     "name": "stderr",
     "output_type": "stream",
     "text": [
      "/home/ngo/anaconda3/lib/python3.12/site-packages/whisper/transcribe.py:126: UserWarning: FP16 is not supported on CPU; using FP32 instead\n",
      "  warnings.warn(\"FP16 is not supported on CPU; using FP32 instead\")\n"
     ]
    },
    {
     "name": "stdout",
     "output_type": "stream",
     "text": [
      "reference_text: xin nhiệt liệt hoan nghênh họ\n",
      "predicted_text: chuyên nghiệp việt phán nguyên họ\n",
      "Processing: FPTOpenSpeechData_Set001_V0.1_000500.mp3\n"
     ]
    },
    {
     "name": "stderr",
     "output_type": "stream",
     "text": [
      "/home/ngo/anaconda3/lib/python3.12/site-packages/whisper/transcribe.py:126: UserWarning: FP16 is not supported on CPU; using FP32 instead\n",
      "  warnings.warn(\"FP16 is not supported on CPU; using FP32 instead\")\n"
     ]
    },
    {
     "name": "stdout",
     "output_type": "stream",
     "text": [
      "reference_text: toàn bộ quy trình điện toán hóa thư viện do công ty lạc việt giúp nghiên cứu thiết kế\n",
      "predicted_text: toàn bộ quy trình điện toán hóa thư viện do công ty lạc việt giúp nghiên cứu thiết kế\n",
      "Processing: FPTOpenSpeechData_Set001_V0.1_000501.mp3\n"
     ]
    },
    {
     "name": "stderr",
     "output_type": "stream",
     "text": [
      "/home/ngo/anaconda3/lib/python3.12/site-packages/whisper/transcribe.py:126: UserWarning: FP16 is not supported on CPU; using FP32 instead\n",
      "  warnings.warn(\"FP16 is not supported on CPU; using FP32 instead\")\n"
     ]
    },
    {
     "name": "stdout",
     "output_type": "stream",
     "text": [
      "reference_text: điều quan trọng là anh đã cố gắng\n",
      "predicted_text: thứ quan trọng là anh ta cố gắng\n",
      "Processing: FPTOpenSpeechData_Set001_V0.1_000502.mp3\n"
     ]
    },
    {
     "name": "stderr",
     "output_type": "stream",
     "text": [
      "/home/ngo/anaconda3/lib/python3.12/site-packages/whisper/transcribe.py:126: UserWarning: FP16 is not supported on CPU; using FP32 instead\n",
      "  warnings.warn(\"FP16 is not supported on CPU; using FP32 instead\")\n"
     ]
    },
    {
     "name": "stdout",
     "output_type": "stream",
     "text": [
      "reference_text: bên cạnh đó cũng phải an toàn hơn\n",
      "predicted_text: bên cạnh đó cũng phải an toàn hơn\n",
      "Processing: FPTOpenSpeechData_Set001_V0.1_000503.mp3\n"
     ]
    },
    {
     "name": "stderr",
     "output_type": "stream",
     "text": [
      "/home/ngo/anaconda3/lib/python3.12/site-packages/whisper/transcribe.py:126: UserWarning: FP16 is not supported on CPU; using FP32 instead\n",
      "  warnings.warn(\"FP16 is not supported on CPU; using FP32 instead\")\n"
     ]
    },
    {
     "name": "stdout",
     "output_type": "stream",
     "text": [
      "reference_text: lẽ ra anh phải ở trường chứ\n",
      "predicted_text: lẽ ra anh phải ở trường chứ\n",
      "Processing: FPTOpenSpeechData_Set001_V0.1_000504.mp3\n"
     ]
    },
    {
     "name": "stderr",
     "output_type": "stream",
     "text": [
      "/home/ngo/anaconda3/lib/python3.12/site-packages/whisper/transcribe.py:126: UserWarning: FP16 is not supported on CPU; using FP32 instead\n",
      "  warnings.warn(\"FP16 is not supported on CPU; using FP32 instead\")\n"
     ]
    },
    {
     "name": "stdout",
     "output_type": "stream",
     "text": [
      "reference_text: nhà nước không để những người nghèo đã được vào học mà lại không thể tiếp tục đi học\n",
      "predicted_text: nhà nước không để những người nghèo đã được vào học mà lại không thể tiếp tục đi học\n",
      "Processing: FPTOpenSpeechData_Set001_V0.1_000505.mp3\n"
     ]
    },
    {
     "name": "stderr",
     "output_type": "stream",
     "text": [
      "/home/ngo/anaconda3/lib/python3.12/site-packages/whisper/transcribe.py:126: UserWarning: FP16 is not supported on CPU; using FP32 instead\n",
      "  warnings.warn(\"FP16 is not supported on CPU; using FP32 instead\")\n"
     ]
    },
    {
     "name": "stdout",
     "output_type": "stream",
     "text": [
      "reference_text: tôi muốn thay đổi chuyến bay của mình\n",
      "predicted_text: tôi muốn thay đổi chuyến bay bộ nguyên.\n",
      "Processing: FPTOpenSpeechData_Set001_V0.1_000506.mp3\n"
     ]
    },
    {
     "name": "stderr",
     "output_type": "stream",
     "text": [
      "/home/ngo/anaconda3/lib/python3.12/site-packages/whisper/transcribe.py:126: UserWarning: FP16 is not supported on CPU; using FP32 instead\n",
      "  warnings.warn(\"FP16 is not supported on CPU; using FP32 instead\")\n"
     ]
    },
    {
     "name": "stdout",
     "output_type": "stream",
     "text": [
      "reference_text: cho tôi một cuộn phim phơi sáng ba mươi sáu\n",
      "predicted_text: cho tôi một cuộn thêm khơi sáng ba mấy cháu.\n",
      "Processing: FPTOpenSpeechData_Set001_V0.1_000507.mp3\n"
     ]
    },
    {
     "name": "stderr",
     "output_type": "stream",
     "text": [
      "/home/ngo/anaconda3/lib/python3.12/site-packages/whisper/transcribe.py:126: UserWarning: FP16 is not supported on CPU; using FP32 instead\n",
      "  warnings.warn(\"FP16 is not supported on CPU; using FP32 instead\")\n"
     ]
    },
    {
     "name": "stdout",
     "output_type": "stream",
     "text": [
      "reference_text: bạn có thể ở lại đây lâu như bạn muốn\n",
      "predicted_text: bạn có thể ở lại đây lâu như bạn muốn\n",
      "Processing: FPTOpenSpeechData_Set001_V0.1_000508.mp3\n"
     ]
    },
    {
     "name": "stderr",
     "output_type": "stream",
     "text": [
      "/home/ngo/anaconda3/lib/python3.12/site-packages/whisper/transcribe.py:126: UserWarning: FP16 is not supported on CPU; using FP32 instead\n",
      "  warnings.warn(\"FP16 is not supported on CPU; using FP32 instead\")\n"
     ]
    },
    {
     "name": "stdout",
     "output_type": "stream",
     "text": [
      "reference_text: gài số\n",
      "predicted_text: gai chố\n",
      "Processing: FPTOpenSpeechData_Set001_V0.1_000509.mp3\n"
     ]
    },
    {
     "name": "stderr",
     "output_type": "stream",
     "text": [
      "/home/ngo/anaconda3/lib/python3.12/site-packages/whisper/transcribe.py:126: UserWarning: FP16 is not supported on CPU; using FP32 instead\n",
      "  warnings.warn(\"FP16 is not supported on CPU; using FP32 instead\")\n"
     ]
    },
    {
     "name": "stdout",
     "output_type": "stream",
     "text": [
      "reference_text: anh gợi ý một nhà hàng pháp ngon được không\n",
      "predicted_text: anh gợi ý một nhà hàng pháp ngôn được không?\n",
      "Processing: FPTOpenSpeechData_Set001_V0.1_000510.mp3\n"
     ]
    },
    {
     "name": "stderr",
     "output_type": "stream",
     "text": [
      "/home/ngo/anaconda3/lib/python3.12/site-packages/whisper/transcribe.py:126: UserWarning: FP16 is not supported on CPU; using FP32 instead\n",
      "  warnings.warn(\"FP16 is not supported on CPU; using FP32 instead\")\n"
     ]
    },
    {
     "name": "stdout",
     "output_type": "stream",
     "text": [
      "reference_text: nên khâu tổ chức tuyển sinh của các trường\n",
      "predicted_text: nên khâu tổ chức tuyển sinh của các trường.\n",
      "Processing: FPTOpenSpeechData_Set001_V0.1_000511.mp3\n"
     ]
    },
    {
     "name": "stderr",
     "output_type": "stream",
     "text": [
      "/home/ngo/anaconda3/lib/python3.12/site-packages/whisper/transcribe.py:126: UserWarning: FP16 is not supported on CPU; using FP32 instead\n",
      "  warnings.warn(\"FP16 is not supported on CPU; using FP32 instead\")\n"
     ]
    },
    {
     "name": "stdout",
     "output_type": "stream",
     "text": [
      "reference_text: nước có ấm không\n",
      "predicted_text: nước cộng không?\n",
      "Processing: FPTOpenSpeechData_Set001_V0.1_000512.mp3\n"
     ]
    },
    {
     "name": "stderr",
     "output_type": "stream",
     "text": [
      "/home/ngo/anaconda3/lib/python3.12/site-packages/whisper/transcribe.py:126: UserWarning: FP16 is not supported on CPU; using FP32 instead\n",
      "  warnings.warn(\"FP16 is not supported on CPU; using FP32 instead\")\n"
     ]
    },
    {
     "name": "stdout",
     "output_type": "stream",
     "text": [
      "reference_text: tốp này bị bắt tốp khác lại tới\n",
      "predicted_text: tốt này bị bắt, tốt khác lại tử\n",
      "Processing: FPTOpenSpeechData_Set001_V0.1_000513.mp3\n"
     ]
    },
    {
     "name": "stderr",
     "output_type": "stream",
     "text": [
      "/home/ngo/anaconda3/lib/python3.12/site-packages/whisper/transcribe.py:126: UserWarning: FP16 is not supported on CPU; using FP32 instead\n",
      "  warnings.warn(\"FP16 is not supported on CPU; using FP32 instead\")\n"
     ]
    },
    {
     "name": "stdout",
     "output_type": "stream",
     "text": [
      "reference_text: anh ta có cá tính không thân thiện\n",
      "predicted_text: anh ta có cá tính không thân thiện\n",
      "Processing: FPTOpenSpeechData_Set001_V0.1_000514.mp3\n"
     ]
    },
    {
     "name": "stderr",
     "output_type": "stream",
     "text": [
      "/home/ngo/anaconda3/lib/python3.12/site-packages/whisper/transcribe.py:126: UserWarning: FP16 is not supported on CPU; using FP32 instead\n",
      "  warnings.warn(\"FP16 is not supported on CPU; using FP32 instead\")\n"
     ]
    },
    {
     "name": "stdout",
     "output_type": "stream",
     "text": [
      "reference_text: hãy đưa vợ anh đi cùng\n",
      "predicted_text: hai đứa vừa anh đi cùng...\n",
      "Processing: FPTOpenSpeechData_Set001_V0.1_000515.mp3\n"
     ]
    },
    {
     "name": "stderr",
     "output_type": "stream",
     "text": [
      "/home/ngo/anaconda3/lib/python3.12/site-packages/whisper/transcribe.py:126: UserWarning: FP16 is not supported on CPU; using FP32 instead\n",
      "  warnings.warn(\"FP16 is not supported on CPU; using FP32 instead\")\n"
     ]
    },
    {
     "name": "stdout",
     "output_type": "stream",
     "text": [
      "reference_text: các dự án mở rộng cũng đã phải đình lại những tác động xấu đến quá nhanh trên diện rộng và nặng nề hơn so với những gì chúng tôi dự báo\n",
      "predicted_text: các dự án mở rộng cũng đã phải định mạnh những tác động xấu đến quá nhanh trên diện rộng và lặng lẽ hơn so với những gì chúng tôi dự báo.\n",
      "Processing: FPTOpenSpeechData_Set001_V0.1_000516.mp3\n"
     ]
    },
    {
     "name": "stderr",
     "output_type": "stream",
     "text": [
      "/home/ngo/anaconda3/lib/python3.12/site-packages/whisper/transcribe.py:126: UserWarning: FP16 is not supported on CPU; using FP32 instead\n",
      "  warnings.warn(\"FP16 is not supported on CPU; using FP32 instead\")\n"
     ]
    },
    {
     "name": "stdout",
     "output_type": "stream",
     "text": [
      "reference_text: xin lỗi cho tôi một cái đĩa để chia ra được không\n",
      "predicted_text: xin lỗi cho tôi một cậy đĩa để chia ra được không?\n",
      "Processing: FPTOpenSpeechData_Set001_V0.1_000517.mp3\n"
     ]
    },
    {
     "name": "stderr",
     "output_type": "stream",
     "text": [
      "/home/ngo/anaconda3/lib/python3.12/site-packages/whisper/transcribe.py:126: UserWarning: FP16 is not supported on CPU; using FP32 instead\n",
      "  warnings.warn(\"FP16 is not supported on CPU; using FP32 instead\")\n"
     ]
    },
    {
     "name": "stdout",
     "output_type": "stream",
     "text": [
      "reference_text: tôi cho rằng không có vấn đề gì\n",
      "predicted_text: tôi cho rằng không có vấn đề gì\n",
      "Processing: FPTOpenSpeechData_Set001_V0.1_000518.mp3\n"
     ]
    },
    {
     "name": "stderr",
     "output_type": "stream",
     "text": [
      "/home/ngo/anaconda3/lib/python3.12/site-packages/whisper/transcribe.py:126: UserWarning: FP16 is not supported on CPU; using FP32 instead\n",
      "  warnings.warn(\"FP16 is not supported on CPU; using FP32 instead\")\n"
     ]
    },
    {
     "name": "stdout",
     "output_type": "stream",
     "text": [
      "reference_text: vui lòng sắp xếp một chuyến bay khác để tôi có thể chuyển sang a một hai ba\n",
      "predicted_text: vui lòng sắp xếp một chuyến bay khác để tôi có thể chuyển sang a123.\n",
      "Processing: FPTOpenSpeechData_Set001_V0.1_000519.mp3\n"
     ]
    },
    {
     "name": "stderr",
     "output_type": "stream",
     "text": [
      "/home/ngo/anaconda3/lib/python3.12/site-packages/whisper/transcribe.py:126: UserWarning: FP16 is not supported on CPU; using FP32 instead\n",
      "  warnings.warn(\"FP16 is not supported on CPU; using FP32 instead\")\n"
     ]
    },
    {
     "name": "stdout",
     "output_type": "stream",
     "text": [
      "reference_text: đến lượt anh\n",
      "predicted_text: định lượt anh\n",
      "Processing: FPTOpenSpeechData_Set001_V0.1_000520.mp3\n"
     ]
    },
    {
     "name": "stderr",
     "output_type": "stream",
     "text": [
      "/home/ngo/anaconda3/lib/python3.12/site-packages/whisper/transcribe.py:126: UserWarning: FP16 is not supported on CPU; using FP32 instead\n",
      "  warnings.warn(\"FP16 is not supported on CPU; using FP32 instead\")\n"
     ]
    },
    {
     "name": "stdout",
     "output_type": "stream",
     "text": [
      "reference_text: anh có bao giờ đến tokyo chưa\n",
      "predicted_text: anh có bao giờ đến tokyo chưa?\n",
      "Processing: FPTOpenSpeechData_Set001_V0.1_000521.mp3\n"
     ]
    },
    {
     "name": "stderr",
     "output_type": "stream",
     "text": [
      "/home/ngo/anaconda3/lib/python3.12/site-packages/whisper/transcribe.py:126: UserWarning: FP16 is not supported on CPU; using FP32 instead\n",
      "  warnings.warn(\"FP16 is not supported on CPU; using FP32 instead\")\n"
     ]
    },
    {
     "name": "stdout",
     "output_type": "stream",
     "text": [
      "reference_text: áo mưa phát sáng theo nhịp mưa rơi\n",
      "predicted_text: hãy subscribe cho kênh ghiền mì gõ để không bỏ lỡ những video hấp dẫn\n",
      "Processing: FPTOpenSpeechData_Set001_V0.1_000522.mp3\n"
     ]
    },
    {
     "name": "stderr",
     "output_type": "stream",
     "text": [
      "/home/ngo/anaconda3/lib/python3.12/site-packages/whisper/transcribe.py:126: UserWarning: FP16 is not supported on CPU; using FP32 instead\n",
      "  warnings.warn(\"FP16 is not supported on CPU; using FP32 instead\")\n"
     ]
    },
    {
     "name": "stdout",
     "output_type": "stream",
     "text": [
      "reference_text: bạn có thể nói cho tôi bít về nhà hàng truyền thống không\n",
      "predicted_text: bạn có thể nói cho tôi biết về nhà hàng truyền thống không?\n",
      "Processing: FPTOpenSpeechData_Set001_V0.1_000523.mp3\n"
     ]
    },
    {
     "name": "stderr",
     "output_type": "stream",
     "text": [
      "/home/ngo/anaconda3/lib/python3.12/site-packages/whisper/transcribe.py:126: UserWarning: FP16 is not supported on CPU; using FP32 instead\n",
      "  warnings.warn(\"FP16 is not supported on CPU; using FP32 instead\")\n"
     ]
    },
    {
     "name": "stdout",
     "output_type": "stream",
     "text": [
      "reference_text: trước đây có ai trong gia đình quí vị từng có vấn đề ở bụng không\n",
      "predicted_text: trước đây có ai trong gia đình quý vị từng có vấn đề ở bụng không?\n",
      "Processing: FPTOpenSpeechData_Set001_V0.1_000524.mp3\n"
     ]
    },
    {
     "name": "stderr",
     "output_type": "stream",
     "text": [
      "/home/ngo/anaconda3/lib/python3.12/site-packages/whisper/transcribe.py:126: UserWarning: FP16 is not supported on CPU; using FP32 instead\n",
      "  warnings.warn(\"FP16 is not supported on CPU; using FP32 instead\")\n"
     ]
    },
    {
     "name": "stdout",
     "output_type": "stream",
     "text": [
      "reference_text: từ vệt bồ hóng nâu trầm\n",
      "predicted_text: từ vệt bồ hóng nâu trầm\n",
      "Processing: FPTOpenSpeechData_Set001_V0.1_000525.mp3\n"
     ]
    },
    {
     "name": "stderr",
     "output_type": "stream",
     "text": [
      "/home/ngo/anaconda3/lib/python3.12/site-packages/whisper/transcribe.py:126: UserWarning: FP16 is not supported on CPU; using FP32 instead\n",
      "  warnings.warn(\"FP16 is not supported on CPU; using FP32 instead\")\n"
     ]
    },
    {
     "name": "stdout",
     "output_type": "stream",
     "text": [
      "reference_text: nhà thi đấu đại học công nghệ bắc kinh\n",
      "predicted_text: và thi tới đại học công nghiệp bắc kinh.\n",
      "Processing: FPTOpenSpeechData_Set001_V0.1_000526.mp3\n"
     ]
    },
    {
     "name": "stderr",
     "output_type": "stream",
     "text": [
      "/home/ngo/anaconda3/lib/python3.12/site-packages/whisper/transcribe.py:126: UserWarning: FP16 is not supported on CPU; using FP32 instead\n",
      "  warnings.warn(\"FP16 is not supported on CPU; using FP32 instead\")\n"
     ]
    },
    {
     "name": "stdout",
     "output_type": "stream",
     "text": [
      "reference_text: món canh nguội lạnh\n",
      "predicted_text: 1 thanh 15\n",
      "Processing: FPTOpenSpeechData_Set001_V0.1_000527.mp3\n"
     ]
    },
    {
     "name": "stderr",
     "output_type": "stream",
     "text": [
      "/home/ngo/anaconda3/lib/python3.12/site-packages/whisper/transcribe.py:126: UserWarning: FP16 is not supported on CPU; using FP32 instead\n",
      "  warnings.warn(\"FP16 is not supported on CPU; using FP32 instead\")\n"
     ]
    },
    {
     "name": "stdout",
     "output_type": "stream",
     "text": [
      "reference_text: ông cường nhận định lượng phôi thép sản xuất ở trong nước sẽ không tăng đáng kể ít nhất là cho đến cuối năm sau\n",
      "predicted_text: ông cường nhận định lượng phâu thép sản xuất ở trong nước sẽ không tăng đáng kể, ít nhất là cho đến cuối năm sau.\n",
      "Processing: FPTOpenSpeechData_Set001_V0.1_000528.mp3\n"
     ]
    },
    {
     "name": "stderr",
     "output_type": "stream",
     "text": [
      "/home/ngo/anaconda3/lib/python3.12/site-packages/whisper/transcribe.py:126: UserWarning: FP16 is not supported on CPU; using FP32 instead\n",
      "  warnings.warn(\"FP16 is not supported on CPU; using FP32 instead\")\n"
     ]
    },
    {
     "name": "stdout",
     "output_type": "stream",
     "text": [
      "reference_text: nó xảy không có gì là ngạc nhiên\n",
      "predicted_text: nó xảy ra không có gì là nặng niên.\n",
      "Processing: FPTOpenSpeechData_Set001_V0.1_000529.mp3\n"
     ]
    },
    {
     "name": "stderr",
     "output_type": "stream",
     "text": [
      "/home/ngo/anaconda3/lib/python3.12/site-packages/whisper/transcribe.py:126: UserWarning: FP16 is not supported on CPU; using FP32 instead\n",
      "  warnings.warn(\"FP16 is not supported on CPU; using FP32 instead\")\n"
     ]
    },
    {
     "name": "stdout",
     "output_type": "stream",
     "text": [
      "reference_text: và lời cảnh báo đã sớm trở thành sự thật\n",
      "predicted_text: và lời cảnh báo đã xứng trở thành sự thật\n",
      "Processing: FPTOpenSpeechData_Set001_V0.1_000530.mp3\n"
     ]
    },
    {
     "name": "stderr",
     "output_type": "stream",
     "text": [
      "/home/ngo/anaconda3/lib/python3.12/site-packages/whisper/transcribe.py:126: UserWarning: FP16 is not supported on CPU; using FP32 instead\n",
      "  warnings.warn(\"FP16 is not supported on CPU; using FP32 instead\")\n"
     ]
    },
    {
     "name": "stdout",
     "output_type": "stream",
     "text": [
      "reference_text: với hai cổ tay treo lủng lẳng những túi xốp\n",
      "predicted_text: với hai cổ tay treo lủng lẳng những túi xót\n",
      "Processing: FPTOpenSpeechData_Set001_V0.1_000531.mp3\n"
     ]
    },
    {
     "name": "stderr",
     "output_type": "stream",
     "text": [
      "/home/ngo/anaconda3/lib/python3.12/site-packages/whisper/transcribe.py:126: UserWarning: FP16 is not supported on CPU; using FP32 instead\n",
      "  warnings.warn(\"FP16 is not supported on CPU; using FP32 instead\")\n"
     ]
    },
    {
     "name": "stdout",
     "output_type": "stream",
     "text": [
      "reference_text: trong cái nóng oi ả của mùa hè các loài vật cũng có cách tự làm mát cho riêng mình\n",
      "predicted_text: trong cái nóng oi ảo của mùa hè, các loại vật cũng có cách tự ra mắt cho riêng mình\n",
      "Processing: FPTOpenSpeechData_Set001_V0.1_000532.mp3\n"
     ]
    },
    {
     "name": "stderr",
     "output_type": "stream",
     "text": [
      "/home/ngo/anaconda3/lib/python3.12/site-packages/whisper/transcribe.py:126: UserWarning: FP16 is not supported on CPU; using FP32 instead\n",
      "  warnings.warn(\"FP16 is not supported on CPU; using FP32 instead\")\n"
     ]
    },
    {
     "name": "stdout",
     "output_type": "stream",
     "text": [
      "reference_text: nhưng rất tốn kém khi thay thế hoặc sửa chữa\n",
      "predicted_text: nhưng rất tốn kém khi thay thế hoặc sửa chữa.\n",
      "Processing: FPTOpenSpeechData_Set001_V0.1_000533.mp3\n"
     ]
    },
    {
     "name": "stderr",
     "output_type": "stream",
     "text": [
      "/home/ngo/anaconda3/lib/python3.12/site-packages/whisper/transcribe.py:126: UserWarning: FP16 is not supported on CPU; using FP32 instead\n",
      "  warnings.warn(\"FP16 is not supported on CPU; using FP32 instead\")\n"
     ]
    },
    {
     "name": "stdout",
     "output_type": "stream",
     "text": [
      "reference_text: bao nhiêu tiếng bằng xe buýt đến medan vậy bác ơi\n",
      "predicted_text: bao nhiêu tiếng bằng xe buýt đến lê đan vậy bác ơi?\n",
      "Processing: FPTOpenSpeechData_Set001_V0.1_000534.mp3\n"
     ]
    },
    {
     "name": "stderr",
     "output_type": "stream",
     "text": [
      "/home/ngo/anaconda3/lib/python3.12/site-packages/whisper/transcribe.py:126: UserWarning: FP16 is not supported on CPU; using FP32 instead\n",
      "  warnings.warn(\"FP16 is not supported on CPU; using FP32 instead\")\n"
     ]
    },
    {
     "name": "stdout",
     "output_type": "stream",
     "text": [
      "reference_text: còn đây là thế giới của giày dép\n",
      "predicted_text: còn đây là thế giới của dây dép\n",
      "Processing: FPTOpenSpeechData_Set001_V0.1_000535.mp3\n"
     ]
    },
    {
     "name": "stderr",
     "output_type": "stream",
     "text": [
      "/home/ngo/anaconda3/lib/python3.12/site-packages/whisper/transcribe.py:126: UserWarning: FP16 is not supported on CPU; using FP32 instead\n",
      "  warnings.warn(\"FP16 is not supported on CPU; using FP32 instead\")\n"
     ]
    },
    {
     "name": "stdout",
     "output_type": "stream",
     "text": [
      "reference_text: không hấp dẫn -n\n",
      "predicted_text: không hấp dẫn\n",
      "Processing: FPTOpenSpeechData_Set001_V0.1_000536.mp3\n"
     ]
    },
    {
     "name": "stderr",
     "output_type": "stream",
     "text": [
      "/home/ngo/anaconda3/lib/python3.12/site-packages/whisper/transcribe.py:126: UserWarning: FP16 is not supported on CPU; using FP32 instead\n",
      "  warnings.warn(\"FP16 is not supported on CPU; using FP32 instead\")\n"
     ]
    },
    {
     "name": "stdout",
     "output_type": "stream",
     "text": [
      "reference_text: cái giá của một anh hùng\n",
      "predicted_text: cái giá của một anh hùng\n",
      "Processing: FPTOpenSpeechData_Set001_V0.1_000537.mp3\n"
     ]
    },
    {
     "name": "stderr",
     "output_type": "stream",
     "text": [
      "/home/ngo/anaconda3/lib/python3.12/site-packages/whisper/transcribe.py:126: UserWarning: FP16 is not supported on CPU; using FP32 instead\n",
      "  warnings.warn(\"FP16 is not supported on CPU; using FP32 instead\")\n"
     ]
    },
    {
     "name": "stdout",
     "output_type": "stream",
     "text": [
      "reference_text: tăng nhiệt độ lên ba mươi độ\n",
      "predicted_text: tăng nhiệt độ lên 30 độ\n",
      "Processing: FPTOpenSpeechData_Set001_V0.1_000538.mp3\n"
     ]
    },
    {
     "name": "stderr",
     "output_type": "stream",
     "text": [
      "/home/ngo/anaconda3/lib/python3.12/site-packages/whisper/transcribe.py:126: UserWarning: FP16 is not supported on CPU; using FP32 instead\n",
      "  warnings.warn(\"FP16 is not supported on CPU; using FP32 instead\")\n"
     ]
    },
    {
     "name": "stdout",
     "output_type": "stream",
     "text": [
      "reference_text: điều đó là không thể hiểu được\n",
      "predicted_text: điều đó là không thể hiểu được\n",
      "Processing: FPTOpenSpeechData_Set001_V0.1_000539.mp3\n"
     ]
    },
    {
     "name": "stderr",
     "output_type": "stream",
     "text": [
      "/home/ngo/anaconda3/lib/python3.12/site-packages/whisper/transcribe.py:126: UserWarning: FP16 is not supported on CPU; using FP32 instead\n",
      "  warnings.warn(\"FP16 is not supported on CPU; using FP32 instead\")\n"
     ]
    },
    {
     "name": "stdout",
     "output_type": "stream",
     "text": [
      "reference_text: hoa mãn lâu ngày ấy và bây giờ\n",
      "predicted_text: ho mãn lâu ngày ấy và bây giờ\n",
      "Processing: FPTOpenSpeechData_Set001_V0.1_000540.mp3\n"
     ]
    },
    {
     "name": "stderr",
     "output_type": "stream",
     "text": [
      "/home/ngo/anaconda3/lib/python3.12/site-packages/whisper/transcribe.py:126: UserWarning: FP16 is not supported on CPU; using FP32 instead\n",
      "  warnings.warn(\"FP16 is not supported on CPU; using FP32 instead\")\n"
     ]
    },
    {
     "name": "stdout",
     "output_type": "stream",
     "text": [
      "reference_text: ba tôi sẽ về hưu năm nay\n",
      "predicted_text: ba tôi sẽ về hưu năm nay\n",
      "Processing: FPTOpenSpeechData_Set001_V0.1_000541.mp3\n"
     ]
    },
    {
     "name": "stderr",
     "output_type": "stream",
     "text": [
      "/home/ngo/anaconda3/lib/python3.12/site-packages/whisper/transcribe.py:126: UserWarning: FP16 is not supported on CPU; using FP32 instead\n",
      "  warnings.warn(\"FP16 is not supported on CPU; using FP32 instead\")\n"
     ]
    },
    {
     "name": "stdout",
     "output_type": "stream",
     "text": [
      "reference_text: vợ đánh chồng vì không kiếm được tiền\n",
      "predicted_text: gọi đến chồng vì không kiếm được tiền\n",
      "Processing: FPTOpenSpeechData_Set001_V0.1_000542.mp3\n"
     ]
    },
    {
     "name": "stderr",
     "output_type": "stream",
     "text": [
      "/home/ngo/anaconda3/lib/python3.12/site-packages/whisper/transcribe.py:126: UserWarning: FP16 is not supported on CPU; using FP32 instead\n",
      "  warnings.warn(\"FP16 is not supported on CPU; using FP32 instead\")\n"
     ]
    },
    {
     "name": "stdout",
     "output_type": "stream",
     "text": [
      "reference_text: không nhà tài trợ không bán vé để phục vụ các bạn sinh viên\n",
      "predicted_text: không nhà tài trợ, không bán vé để phục vụ các bạn sinh viên\n",
      "Processing: FPTOpenSpeechData_Set001_V0.1_000543.mp3\n"
     ]
    },
    {
     "name": "stderr",
     "output_type": "stream",
     "text": [
      "/home/ngo/anaconda3/lib/python3.12/site-packages/whisper/transcribe.py:126: UserWarning: FP16 is not supported on CPU; using FP32 instead\n",
      "  warnings.warn(\"FP16 is not supported on CPU; using FP32 instead\")\n"
     ]
    },
    {
     "name": "stdout",
     "output_type": "stream",
     "text": [
      "reference_text: dệt bằng lúa mì nga\n",
      "predicted_text: rẹp vờ ngố miền nga\n",
      "Processing: FPTOpenSpeechData_Set001_V0.1_000544.mp3\n"
     ]
    },
    {
     "name": "stderr",
     "output_type": "stream",
     "text": [
      "/home/ngo/anaconda3/lib/python3.12/site-packages/whisper/transcribe.py:126: UserWarning: FP16 is not supported on CPU; using FP32 instead\n",
      "  warnings.warn(\"FP16 is not supported on CPU; using FP32 instead\")\n"
     ]
    },
    {
     "name": "stdout",
     "output_type": "stream",
     "text": [
      "reference_text: ba tháng cô ấy khá mới\n",
      "predicted_text: ba tháng cô ấy khá mới\n",
      "Processing: FPTOpenSpeechData_Set001_V0.1_000545.mp3\n"
     ]
    },
    {
     "name": "stderr",
     "output_type": "stream",
     "text": [
      "/home/ngo/anaconda3/lib/python3.12/site-packages/whisper/transcribe.py:126: UserWarning: FP16 is not supported on CPU; using FP32 instead\n",
      "  warnings.warn(\"FP16 is not supported on CPU; using FP32 instead\")\n"
     ]
    },
    {
     "name": "stdout",
     "output_type": "stream",
     "text": [
      "reference_text: vui lòng đưa tờ báo nhật\n",
      "predicted_text: 15 đứa tơ bạo nhật\n",
      "Processing: FPTOpenSpeechData_Set001_V0.1_000546.mp3\n"
     ]
    },
    {
     "name": "stderr",
     "output_type": "stream",
     "text": [
      "/home/ngo/anaconda3/lib/python3.12/site-packages/whisper/transcribe.py:126: UserWarning: FP16 is not supported on CPU; using FP32 instead\n",
      "  warnings.warn(\"FP16 is not supported on CPU; using FP32 instead\")\n"
     ]
    },
    {
     "name": "stdout",
     "output_type": "stream",
     "text": [
      "reference_text: có tour đến tauron không\n",
      "predicted_text: có tui đến trà rôn không?\n",
      "Processing: FPTOpenSpeechData_Set001_V0.1_000547.mp3\n"
     ]
    },
    {
     "name": "stderr",
     "output_type": "stream",
     "text": [
      "/home/ngo/anaconda3/lib/python3.12/site-packages/whisper/transcribe.py:126: UserWarning: FP16 is not supported on CPU; using FP32 instead\n",
      "  warnings.warn(\"FP16 is not supported on CPU; using FP32 instead\")\n"
     ]
    },
    {
     "name": "stdout",
     "output_type": "stream",
     "text": [
      "reference_text: xin lỗi anh có thể bán theo đơn này không\n",
      "predicted_text: xin lỗi, anh có thể bán theo đơn này không?\n",
      "Processing: FPTOpenSpeechData_Set001_V0.1_000548.mp3\n"
     ]
    },
    {
     "name": "stderr",
     "output_type": "stream",
     "text": [
      "/home/ngo/anaconda3/lib/python3.12/site-packages/whisper/transcribe.py:126: UserWarning: FP16 is not supported on CPU; using FP32 instead\n",
      "  warnings.warn(\"FP16 is not supported on CPU; using FP32 instead\")\n"
     ]
    },
    {
     "name": "stdout",
     "output_type": "stream",
     "text": [
      "reference_text: phải chờ tới khi ối ra nhiều trở lại thì bọn rầy mới biến mất\n",
      "predicted_text: phải chờ tới khi ối ra nhiều trở lại thì bọn gầy mới biến mất\n",
      "Processing: FPTOpenSpeechData_Set001_V0.1_000549.mp3\n"
     ]
    },
    {
     "name": "stderr",
     "output_type": "stream",
     "text": [
      "/home/ngo/anaconda3/lib/python3.12/site-packages/whisper/transcribe.py:126: UserWarning: FP16 is not supported on CPU; using FP32 instead\n",
      "  warnings.warn(\"FP16 is not supported on CPU; using FP32 instead\")\n"
     ]
    },
    {
     "name": "stdout",
     "output_type": "stream",
     "text": [
      "reference_text: sáu mươi sáu sáu mươi bảy\n",
      "predicted_text: 6, 16, 6, 17\n",
      "Processing: FPTOpenSpeechData_Set001_V0.1_000550.mp3\n"
     ]
    },
    {
     "name": "stderr",
     "output_type": "stream",
     "text": [
      "/home/ngo/anaconda3/lib/python3.12/site-packages/whisper/transcribe.py:126: UserWarning: FP16 is not supported on CPU; using FP32 instead\n",
      "  warnings.warn(\"FP16 is not supported on CPU; using FP32 instead\")\n"
     ]
    },
    {
     "name": "stdout",
     "output_type": "stream",
     "text": [
      "reference_text: phù thủy cũng có ngân hàng à\n",
      "predicted_text: bồ thủy cũng có nên hẹn gặp lại\n",
      "Processing: FPTOpenSpeechData_Set001_V0.1_000551.mp3\n"
     ]
    },
    {
     "name": "stderr",
     "output_type": "stream",
     "text": [
      "/home/ngo/anaconda3/lib/python3.12/site-packages/whisper/transcribe.py:126: UserWarning: FP16 is not supported on CPU; using FP32 instead\n",
      "  warnings.warn(\"FP16 is not supported on CPU; using FP32 instead\")\n"
     ]
    },
    {
     "name": "stdout",
     "output_type": "stream",
     "text": [
      "reference_text: chứng khoán châu âu trượt giảm phiên thứ bốn liên tiếp cổ phiếu khối khai thác mất điểm\n",
      "predicted_text: chứng khoán châu âu trượt giảm khiến thứ 4 lên tiệp, cổ biểu cối phai thác mất điểm\n",
      "Processing: FPTOpenSpeechData_Set001_V0.1_000552.mp3\n"
     ]
    },
    {
     "name": "stderr",
     "output_type": "stream",
     "text": [
      "/home/ngo/anaconda3/lib/python3.12/site-packages/whisper/transcribe.py:126: UserWarning: FP16 is not supported on CPU; using FP32 instead\n",
      "  warnings.warn(\"FP16 is not supported on CPU; using FP32 instead\")\n"
     ]
    },
    {
     "name": "stdout",
     "output_type": "stream",
     "text": [
      "reference_text: độc đáo nhất thuộc về loài nhím\n",
      "predicted_text: đầu đoán nhất thuộc về loài nhím\n",
      "Processing: FPTOpenSpeechData_Set001_V0.1_000553.mp3\n"
     ]
    },
    {
     "name": "stderr",
     "output_type": "stream",
     "text": [
      "/home/ngo/anaconda3/lib/python3.12/site-packages/whisper/transcribe.py:126: UserWarning: FP16 is not supported on CPU; using FP32 instead\n",
      "  warnings.warn(\"FP16 is not supported on CPU; using FP32 instead\")\n"
     ]
    },
    {
     "name": "stdout",
     "output_type": "stream",
     "text": [
      "reference_text: dự kiến phiên xử diễn ra trong hai ngày\n",
      "predicted_text: sự kiến chuyển xử diễn ra trong 2 ngày.\n",
      "Processing: FPTOpenSpeechData_Set001_V0.1_000554.mp3\n"
     ]
    },
    {
     "name": "stderr",
     "output_type": "stream",
     "text": [
      "/home/ngo/anaconda3/lib/python3.12/site-packages/whisper/transcribe.py:126: UserWarning: FP16 is not supported on CPU; using FP32 instead\n",
      "  warnings.warn(\"FP16 is not supported on CPU; using FP32 instead\")\n"
     ]
    },
    {
     "name": "stdout",
     "output_type": "stream",
     "text": [
      "reference_text: chào rất vui được gặp anh\n",
      "predicted_text: chào, rất vui được gặp anh\n",
      "Processing: FPTOpenSpeechData_Set001_V0.1_000555.mp3\n"
     ]
    },
    {
     "name": "stderr",
     "output_type": "stream",
     "text": [
      "/home/ngo/anaconda3/lib/python3.12/site-packages/whisper/transcribe.py:126: UserWarning: FP16 is not supported on CPU; using FP32 instead\n",
      "  warnings.warn(\"FP16 is not supported on CPU; using FP32 instead\")\n"
     ]
    },
    {
     "name": "stdout",
     "output_type": "stream",
     "text": [
      "reference_text: tái kiểm định chất lượng giáo dục theo chỉ đạo của bộ giáo dục và đào tạo\n",
      "predicted_text: các bộ phòng khám phá kiểm định chất lượng giáo dục theo chỉ đạo của bộ giáo dục và đào tạo.\n",
      "Processing: FPTOpenSpeechData_Set001_V0.1_000556.mp3\n"
     ]
    },
    {
     "name": "stderr",
     "output_type": "stream",
     "text": [
      "/home/ngo/anaconda3/lib/python3.12/site-packages/whisper/transcribe.py:126: UserWarning: FP16 is not supported on CPU; using FP32 instead\n",
      "  warnings.warn(\"FP16 is not supported on CPU; using FP32 instead\")\n"
     ]
    },
    {
     "name": "stdout",
     "output_type": "stream",
     "text": [
      "reference_text: hóa ra vị khách bỉ đang công tác tại bảo tàng lịch sử và nghệ thuật hoàng gia bỉ\n",
      "predicted_text: hóa ra vì khách bỉ đang công tác tại bảo tàng lịch sử và nghệ thuật hoàng gia bỉ\n",
      "Processing: FPTOpenSpeechData_Set001_V0.1_000557.mp3\n"
     ]
    },
    {
     "name": "stderr",
     "output_type": "stream",
     "text": [
      "/home/ngo/anaconda3/lib/python3.12/site-packages/whisper/transcribe.py:126: UserWarning: FP16 is not supported on CPU; using FP32 instead\n",
      "  warnings.warn(\"FP16 is not supported on CPU; using FP32 instead\")\n"
     ]
    },
    {
     "name": "stdout",
     "output_type": "stream",
     "text": [
      "reference_text: cám ơn anh cho số thẻ tín dụng để giữ phòng được không\n",
      "predicted_text: cảm ơn anh cho số tiễu tiến dụng để giữ phòng được không?\n",
      "Processing: FPTOpenSpeechData_Set001_V0.1_000558.mp3\n"
     ]
    },
    {
     "name": "stderr",
     "output_type": "stream",
     "text": [
      "/home/ngo/anaconda3/lib/python3.12/site-packages/whisper/transcribe.py:126: UserWarning: FP16 is not supported on CPU; using FP32 instead\n",
      "  warnings.warn(\"FP16 is not supported on CPU; using FP32 instead\")\n"
     ]
    },
    {
     "name": "stdout",
     "output_type": "stream",
     "text": [
      "reference_text: mồ hôi trên cơ thể người cũng khó khô đi\n",
      "predicted_text: một hôm trước cơ thể người bỏ không đi\n",
      "Processing: FPTOpenSpeechData_Set001_V0.1_000559.mp3\n"
     ]
    },
    {
     "name": "stderr",
     "output_type": "stream",
     "text": [
      "/home/ngo/anaconda3/lib/python3.12/site-packages/whisper/transcribe.py:126: UserWarning: FP16 is not supported on CPU; using FP32 instead\n",
      "  warnings.warn(\"FP16 is not supported on CPU; using FP32 instead\")\n"
     ]
    },
    {
     "name": "stdout",
     "output_type": "stream",
     "text": [
      "reference_text: thặng dư ngày càng nhỏ đi\n",
      "predicted_text: thằng dư ngày càng nhỏ đi\n",
      "Processing: FPTOpenSpeechData_Set001_V0.1_000560.mp3\n"
     ]
    },
    {
     "name": "stderr",
     "output_type": "stream",
     "text": [
      "/home/ngo/anaconda3/lib/python3.12/site-packages/whisper/transcribe.py:126: UserWarning: FP16 is not supported on CPU; using FP32 instead\n",
      "  warnings.warn(\"FP16 is not supported on CPU; using FP32 instead\")\n"
     ]
    },
    {
     "name": "stdout",
     "output_type": "stream",
     "text": [
      "reference_text: thấy còn hai người đang chới với sắp chìm giữa ngã ba sông chỉ kịp đẩy em phượng lên bờ là anh thắng lại đạp nước bơi ngược ra\n",
      "predicted_text: thấy còn hai người đang chơi với sắp chìm giữa mã ba sông chỉ kịp đẩy em phượng lên bờ là anh hắn lại đạp nước bơi ngự ra.\n",
      "Processing: FPTOpenSpeechData_Set001_V0.1_000561.mp3\n"
     ]
    },
    {
     "name": "stderr",
     "output_type": "stream",
     "text": [
      "/home/ngo/anaconda3/lib/python3.12/site-packages/whisper/transcribe.py:126: UserWarning: FP16 is not supported on CPU; using FP32 instead\n",
      "  warnings.warn(\"FP16 is not supported on CPU; using FP32 instead\")\n"
     ]
    },
    {
     "name": "stdout",
     "output_type": "stream",
     "text": [
      "reference_text: chúng bò lổm ngổm trên người anh\n",
      "predicted_text: trứng bò lồ ngủ chết người anh\n",
      "Processing: FPTOpenSpeechData_Set001_V0.1_000562.mp3\n"
     ]
    },
    {
     "name": "stderr",
     "output_type": "stream",
     "text": [
      "/home/ngo/anaconda3/lib/python3.12/site-packages/whisper/transcribe.py:126: UserWarning: FP16 is not supported on CPU; using FP32 instead\n",
      "  warnings.warn(\"FP16 is not supported on CPU; using FP32 instead\")\n"
     ]
    },
    {
     "name": "stdout",
     "output_type": "stream",
     "text": [
      "reference_text: hãy sẵn sàng ở tiền sảnh khách sạn lúc tám giờ mười lăm sáng mai\n",
      "predicted_text: hãy chẳng trang ở tiêm sành khách sạn lúc tạm giữa 15 trạng mai.\n",
      "Processing: FPTOpenSpeechData_Set001_V0.1_000563.mp3\n"
     ]
    },
    {
     "name": "stderr",
     "output_type": "stream",
     "text": [
      "/home/ngo/anaconda3/lib/python3.12/site-packages/whisper/transcribe.py:126: UserWarning: FP16 is not supported on CPU; using FP32 instead\n",
      "  warnings.warn(\"FP16 is not supported on CPU; using FP32 instead\")\n"
     ]
    },
    {
     "name": "stdout",
     "output_type": "stream",
     "text": [
      "reference_text: sự thực đứa bé mồ côi được thánh nhập chữa bách bệnh bằng xoa và vuốt\n",
      "predicted_text: sư thược đứa bé mô côi được thành nhập, chữa bách bệnh băng xóa và vụt\n",
      "Processing: FPTOpenSpeechData_Set001_V0.1_000564.mp3\n"
     ]
    },
    {
     "name": "stderr",
     "output_type": "stream",
     "text": [
      "/home/ngo/anaconda3/lib/python3.12/site-packages/whisper/transcribe.py:126: UserWarning: FP16 is not supported on CPU; using FP32 instead\n",
      "  warnings.warn(\"FP16 is not supported on CPU; using FP32 instead\")\n"
     ]
    },
    {
     "name": "stdout",
     "output_type": "stream",
     "text": [
      "reference_text: vui lòng mang lại dĩa thức ăn\n",
      "predicted_text: vui lòng mang lại về thức ăn\n",
      "Processing: FPTOpenSpeechData_Set001_V0.1_000565.mp3\n"
     ]
    },
    {
     "name": "stderr",
     "output_type": "stream",
     "text": [
      "/home/ngo/anaconda3/lib/python3.12/site-packages/whisper/transcribe.py:126: UserWarning: FP16 is not supported on CPU; using FP32 instead\n",
      "  warnings.warn(\"FP16 is not supported on CPU; using FP32 instead\")\n"
     ]
    },
    {
     "name": "stdout",
     "output_type": "stream",
     "text": [
      "reference_text: suzuki đây\n",
      "predicted_text: suzuki day\n",
      "Processing: FPTOpenSpeechData_Set001_V0.1_000566.mp3\n"
     ]
    },
    {
     "name": "stderr",
     "output_type": "stream",
     "text": [
      "/home/ngo/anaconda3/lib/python3.12/site-packages/whisper/transcribe.py:126: UserWarning: FP16 is not supported on CPU; using FP32 instead\n",
      "  warnings.warn(\"FP16 is not supported on CPU; using FP32 instead\")\n"
     ]
    },
    {
     "name": "stdout",
     "output_type": "stream",
     "text": [
      "reference_text: điều tra một thẩm phán làm sai lệch hồ sơ\n",
      "predicted_text: điều tra một thẩm phán làm xét lệnh của sơ\n",
      "Processing: FPTOpenSpeechData_Set001_V0.1_000567.mp3\n"
     ]
    },
    {
     "name": "stderr",
     "output_type": "stream",
     "text": [
      "/home/ngo/anaconda3/lib/python3.12/site-packages/whisper/transcribe.py:126: UserWarning: FP16 is not supported on CPU; using FP32 instead\n",
      "  warnings.warn(\"FP16 is not supported on CPU; using FP32 instead\")\n"
     ]
    },
    {
     "name": "stdout",
     "output_type": "stream",
     "text": [
      "reference_text: có nhiều tiết mục mới và hấp dẫn\n",
      "predicted_text: có nhiều tiết mục mới và hấp dẫn\n",
      "Processing: FPTOpenSpeechData_Set001_V0.1_000568.mp3\n"
     ]
    },
    {
     "name": "stderr",
     "output_type": "stream",
     "text": [
      "/home/ngo/anaconda3/lib/python3.12/site-packages/whisper/transcribe.py:126: UserWarning: FP16 is not supported on CPU; using FP32 instead\n",
      "  warnings.warn(\"FP16 is not supported on CPU; using FP32 instead\")\n"
     ]
    },
    {
     "name": "stdout",
     "output_type": "stream",
     "text": [
      "reference_text: tôi là hành khách quá cảnh\n",
      "predicted_text: tuần hành thay quá cảnh\n",
      "Processing: FPTOpenSpeechData_Set001_V0.1_000569.mp3\n"
     ]
    },
    {
     "name": "stderr",
     "output_type": "stream",
     "text": [
      "/home/ngo/anaconda3/lib/python3.12/site-packages/whisper/transcribe.py:126: UserWarning: FP16 is not supported on CPU; using FP32 instead\n",
      "  warnings.warn(\"FP16 is not supported on CPU; using FP32 instead\")\n"
     ]
    },
    {
     "name": "stdout",
     "output_type": "stream",
     "text": [
      "reference_text: để đãi lấy thiếc bán cho các đầu nậu ảnh\n",
      "predicted_text: để đã lấy thiết bán cho các đầu nậu ảnh.\n",
      "Processing: FPTOpenSpeechData_Set001_V0.1_000570.mp3\n"
     ]
    },
    {
     "name": "stderr",
     "output_type": "stream",
     "text": [
      "/home/ngo/anaconda3/lib/python3.12/site-packages/whisper/transcribe.py:126: UserWarning: FP16 is not supported on CPU; using FP32 instead\n",
      "  warnings.warn(\"FP16 is not supported on CPU; using FP32 instead\")\n"
     ]
    },
    {
     "name": "stdout",
     "output_type": "stream",
     "text": [
      "reference_text: chỗ phát ban trông như thế nào\n",
      "predicted_text: chầu phạt ban trông như thế nào\n",
      "Processing: FPTOpenSpeechData_Set001_V0.1_000571.mp3\n"
     ]
    },
    {
     "name": "stderr",
     "output_type": "stream",
     "text": [
      "/home/ngo/anaconda3/lib/python3.12/site-packages/whisper/transcribe.py:126: UserWarning: FP16 is not supported on CPU; using FP32 instead\n",
      "  warnings.warn(\"FP16 is not supported on CPU; using FP32 instead\")\n"
     ]
    },
    {
     "name": "stdout",
     "output_type": "stream",
     "text": [
      "reference_text: hành khách nói đùa bom có thể bị xử lý hình sự\n",
      "predicted_text: hành khách nói đùa, buông có thể bị xử lý thành trường\n",
      "Processing: FPTOpenSpeechData_Set001_V0.1_000572.mp3\n"
     ]
    },
    {
     "name": "stderr",
     "output_type": "stream",
     "text": [
      "/home/ngo/anaconda3/lib/python3.12/site-packages/whisper/transcribe.py:126: UserWarning: FP16 is not supported on CPU; using FP32 instead\n",
      "  warnings.warn(\"FP16 is not supported on CPU; using FP32 instead\")\n"
     ]
    },
    {
     "name": "stdout",
     "output_type": "stream",
     "text": [
      "reference_text: vâng thịt bò rất ngon gửi lời khen ngợi của tôi đến đầu bếp nhé\n",
      "predicted_text: vâng, thịt bò rất ngon. gửi lại khen ngợi của tôi đến đầu bếp nhé.\n",
      "Processing: FPTOpenSpeechData_Set001_V0.1_000573.mp3\n"
     ]
    },
    {
     "name": "stderr",
     "output_type": "stream",
     "text": [
      "/home/ngo/anaconda3/lib/python3.12/site-packages/whisper/transcribe.py:126: UserWarning: FP16 is not supported on CPU; using FP32 instead\n",
      "  warnings.warn(\"FP16 is not supported on CPU; using FP32 instead\")\n"
     ]
    },
    {
     "name": "stdout",
     "output_type": "stream",
     "text": [
      "reference_text: đến địa phận xã mỹ thuận mỹ lộc nam định có một người trẻ tuổi lái xe máy cùng chiều vượt trước bảo dừng lại để nhờ dẫn đường\n",
      "predicted_text: đến địa phận xã mỹ thuận, mỹ lộc, nam định, có một người trẻ tuổi lái xe máy cùng chiều vừa trước, bảo dừng lại để nhớ dẫn đường.\n",
      "Processing: FPTOpenSpeechData_Set001_V0.1_000574.mp3\n"
     ]
    },
    {
     "name": "stderr",
     "output_type": "stream",
     "text": [
      "/home/ngo/anaconda3/lib/python3.12/site-packages/whisper/transcribe.py:126: UserWarning: FP16 is not supported on CPU; using FP32 instead\n",
      "  warnings.warn(\"FP16 is not supported on CPU; using FP32 instead\")\n"
     ]
    },
    {
     "name": "stdout",
     "output_type": "stream",
     "text": [
      "reference_text: có một ngày lễ cho các bé gái vào ngày ba tháng ba\n",
      "predicted_text: có một ngày lễ cho các bé gái vào ngày 3 tháng 3\n",
      "Processing: FPTOpenSpeechData_Set001_V0.1_000575.mp3\n"
     ]
    },
    {
     "name": "stderr",
     "output_type": "stream",
     "text": [
      "/home/ngo/anaconda3/lib/python3.12/site-packages/whisper/transcribe.py:126: UserWarning: FP16 is not supported on CPU; using FP32 instead\n",
      "  warnings.warn(\"FP16 is not supported on CPU; using FP32 instead\")\n"
     ]
    },
    {
     "name": "stdout",
     "output_type": "stream",
     "text": [
      "reference_text: lá chắn nhỏ nhất để không bị phá sản là sở đúc tiền của mỹ bằng khả năng của mình họ đã sản xuất những đồng đô la mỹ và độc quyền về giá trị của nó\n",
      "predicted_text: lá trắng nhỏ nhất để không bị phá thảm thảm thở đục tiền của mỹ bằng khả năng của mình họ đã sản xuất những đồng đô la mỹ và độc quyền về giá trị của nó.\n",
      "Processing: FPTOpenSpeechData_Set001_V0.1_000576.mp3\n"
     ]
    },
    {
     "name": "stderr",
     "output_type": "stream",
     "text": [
      "/home/ngo/anaconda3/lib/python3.12/site-packages/whisper/transcribe.py:126: UserWarning: FP16 is not supported on CPU; using FP32 instead\n",
      "  warnings.warn(\"FP16 is not supported on CPU; using FP32 instead\")\n"
     ]
    },
    {
     "name": "stdout",
     "output_type": "stream",
     "text": [
      "reference_text: -n và bất thình lình lao vào -n hạ gục đối thủ\n",
      "predicted_text: xin đối cảnh một vui vương lắm và rất hùm lùng lòng vào tình hình tham vũ của bạn\n",
      "Processing: FPTOpenSpeechData_Set001_V0.1_000577.mp3\n"
     ]
    },
    {
     "name": "stderr",
     "output_type": "stream",
     "text": [
      "/home/ngo/anaconda3/lib/python3.12/site-packages/whisper/transcribe.py:126: UserWarning: FP16 is not supported on CPU; using FP32 instead\n",
      "  warnings.warn(\"FP16 is not supported on CPU; using FP32 instead\")\n"
     ]
    },
    {
     "name": "stdout",
     "output_type": "stream",
     "text": [
      "reference_text: vui lòng đợi tại phòng chờ quá cảnh ở phi trường\n",
      "predicted_text: vui lòng đợi tại phòng chờ quá cảnh ở phi trường.\n",
      "Processing: FPTOpenSpeechData_Set001_V0.1_000578.mp3\n"
     ]
    },
    {
     "name": "stderr",
     "output_type": "stream",
     "text": [
      "/home/ngo/anaconda3/lib/python3.12/site-packages/whisper/transcribe.py:126: UserWarning: FP16 is not supported on CPU; using FP32 instead\n",
      "  warnings.warn(\"FP16 is not supported on CPU; using FP32 instead\")\n"
     ]
    },
    {
     "name": "stdout",
     "output_type": "stream",
     "text": [
      "reference_text: tôi có thể mua sách ở đâu ở anh\n",
      "predicted_text: tôi có thể mua sách ở đâu? ở anh.\n",
      "Processing: FPTOpenSpeechData_Set001_V0.1_000579.mp3\n"
     ]
    },
    {
     "name": "stderr",
     "output_type": "stream",
     "text": [
      "/home/ngo/anaconda3/lib/python3.12/site-packages/whisper/transcribe.py:126: UserWarning: FP16 is not supported on CPU; using FP32 instead\n",
      "  warnings.warn(\"FP16 is not supported on CPU; using FP32 instead\")\n"
     ]
    },
    {
     "name": "stdout",
     "output_type": "stream",
     "text": [
      "reference_text: nãy giờ sao toàn nghe chê không\n",
      "predicted_text: nãy giờ sao toàn nghe chê không\n",
      "Processing: FPTOpenSpeechData_Set001_V0.1_000580.mp3\n"
     ]
    },
    {
     "name": "stderr",
     "output_type": "stream",
     "text": [
      "/home/ngo/anaconda3/lib/python3.12/site-packages/whisper/transcribe.py:126: UserWarning: FP16 is not supported on CPU; using FP32 instead\n",
      "  warnings.warn(\"FP16 is not supported on CPU; using FP32 instead\")\n"
     ]
    },
    {
     "name": "stdout",
     "output_type": "stream",
     "text": [
      "reference_text: triển lãm trưng bày bẩy mốt tác phẩm của họa sĩ trương hán minh\n",
      "predicted_text: triển lãm trưng bay 7 mùa tác phẩm của hoa sĩ trương hải minh\n",
      "Processing: FPTOpenSpeechData_Set001_V0.1_000581.mp3\n"
     ]
    },
    {
     "name": "stderr",
     "output_type": "stream",
     "text": [
      "/home/ngo/anaconda3/lib/python3.12/site-packages/whisper/transcribe.py:126: UserWarning: FP16 is not supported on CPU; using FP32 instead\n",
      "  warnings.warn(\"FP16 is not supported on CPU; using FP32 instead\")\n"
     ]
    },
    {
     "name": "stdout",
     "output_type": "stream",
     "text": [
      "reference_text: theo tôi ở đây bạn cần có ô tô để đi đây đó tôi không còn cách nào khác là thuê một chiếc ô tô\n",
      "predicted_text: theo tôi, ở đây bạn cần có ô tô để đi đây đó. tôi không còn cách nào khác là thuê một chiếc ô tô.\n",
      "Processing: FPTOpenSpeechData_Set001_V0.1_000582.mp3\n"
     ]
    },
    {
     "name": "stderr",
     "output_type": "stream",
     "text": [
      "/home/ngo/anaconda3/lib/python3.12/site-packages/whisper/transcribe.py:126: UserWarning: FP16 is not supported on CPU; using FP32 instead\n",
      "  warnings.warn(\"FP16 is not supported on CPU; using FP32 instead\")\n"
     ]
    },
    {
     "name": "stdout",
     "output_type": "stream",
     "text": [
      "reference_text: tên tôi là noriko tanaka\n",
      "predicted_text: tên tôi là noriko tanaka.\n",
      "Processing: FPTOpenSpeechData_Set001_V0.1_000583.mp3\n"
     ]
    },
    {
     "name": "stderr",
     "output_type": "stream",
     "text": [
      "/home/ngo/anaconda3/lib/python3.12/site-packages/whisper/transcribe.py:126: UserWarning: FP16 is not supported on CPU; using FP32 instead\n",
      "  warnings.warn(\"FP16 is not supported on CPU; using FP32 instead\")\n"
     ]
    },
    {
     "name": "stdout",
     "output_type": "stream",
     "text": [
      "reference_text: nhân viên giải thích lý do là máy fax hỏng không thể gửi lệnh chị đặt ra hà nội được\n",
      "predicted_text: nhân viên giải thích lý do là máy phát hỏng không thể gửi lệnh chỉ đặt ra hà nội được.\n",
      "Processing: FPTOpenSpeechData_Set001_V0.1_000584.mp3\n"
     ]
    },
    {
     "name": "stderr",
     "output_type": "stream",
     "text": [
      "/home/ngo/anaconda3/lib/python3.12/site-packages/whisper/transcribe.py:126: UserWarning: FP16 is not supported on CPU; using FP32 instead\n",
      "  warnings.warn(\"FP16 is not supported on CPU; using FP32 instead\")\n"
     ]
    },
    {
     "name": "stdout",
     "output_type": "stream",
     "text": [
      "reference_text: những ngày hè sôi động và các môn thể thao ngoài trời thật hấp dẫn\n",
      "predicted_text: những ngày hè xôi động và các món thể tháo ngoài trời thật hấp dẫn\n",
      "Processing: FPTOpenSpeechData_Set001_V0.1_000585.mp3\n"
     ]
    },
    {
     "name": "stderr",
     "output_type": "stream",
     "text": [
      "/home/ngo/anaconda3/lib/python3.12/site-packages/whisper/transcribe.py:126: UserWarning: FP16 is not supported on CPU; using FP32 instead\n",
      "  warnings.warn(\"FP16 is not supported on CPU; using FP32 instead\")\n"
     ]
    },
    {
     "name": "stdout",
     "output_type": "stream",
     "text": [
      "reference_text: tàu từ saitama vào ở sân ga nào\n",
      "predicted_text: tàu từ saitama vào ở sân ga nào?\n",
      "Processing: FPTOpenSpeechData_Set001_V0.1_000586.mp3\n"
     ]
    },
    {
     "name": "stderr",
     "output_type": "stream",
     "text": [
      "/home/ngo/anaconda3/lib/python3.12/site-packages/whisper/transcribe.py:126: UserWarning: FP16 is not supported on CPU; using FP32 instead\n",
      "  warnings.warn(\"FP16 is not supported on CPU; using FP32 instead\")\n"
     ]
    },
    {
     "name": "stdout",
     "output_type": "stream",
     "text": [
      "reference_text: tôi bị mất máy ảnh\n",
      "predicted_text: tội bị mất mày anh\n",
      "Processing: FPTOpenSpeechData_Set001_V0.1_000587.mp3\n"
     ]
    },
    {
     "name": "stderr",
     "output_type": "stream",
     "text": [
      "/home/ngo/anaconda3/lib/python3.12/site-packages/whisper/transcribe.py:126: UserWarning: FP16 is not supported on CPU; using FP32 instead\n",
      "  warnings.warn(\"FP16 is not supported on CPU; using FP32 instead\")\n"
     ]
    },
    {
     "name": "stdout",
     "output_type": "stream",
     "text": [
      "reference_text: tôi nóng lòng được ăn đồ ăn nhật bản\n",
      "predicted_text: tôi mong lòng được ăn đồ ăn nhật bản.\n",
      "Processing: FPTOpenSpeechData_Set001_V0.1_000588.mp3\n"
     ]
    },
    {
     "name": "stderr",
     "output_type": "stream",
     "text": [
      "/home/ngo/anaconda3/lib/python3.12/site-packages/whisper/transcribe.py:126: UserWarning: FP16 is not supported on CPU; using FP32 instead\n",
      "  warnings.warn(\"FP16 is not supported on CPU; using FP32 instead\")\n"
     ]
    },
    {
     "name": "stdout",
     "output_type": "stream",
     "text": [
      "reference_text: các cầu thủ mu ăn mừng bàn thắng\n",
      "predicted_text: các học hội ước ngôn, anh mình bằng thảm.\n",
      "Processing: FPTOpenSpeechData_Set001_V0.1_000589.mp3\n"
     ]
    },
    {
     "name": "stderr",
     "output_type": "stream",
     "text": [
      "/home/ngo/anaconda3/lib/python3.12/site-packages/whisper/transcribe.py:126: UserWarning: FP16 is not supported on CPU; using FP32 instead\n",
      "  warnings.warn(\"FP16 is not supported on CPU; using FP32 instead\")\n"
     ]
    },
    {
     "name": "stdout",
     "output_type": "stream",
     "text": [
      "reference_text: cô ấy bảo ngưng check in sau mười một giờ đêm\n",
      "predicted_text: cô ấy bảo mình check in sau 11h30\n",
      "Processing: FPTOpenSpeechData_Set001_V0.1_000590.mp3\n"
     ]
    },
    {
     "name": "stderr",
     "output_type": "stream",
     "text": [
      "/home/ngo/anaconda3/lib/python3.12/site-packages/whisper/transcribe.py:126: UserWarning: FP16 is not supported on CPU; using FP32 instead\n",
      "  warnings.warn(\"FP16 is not supported on CPU; using FP32 instead\")\n"
     ]
    },
    {
     "name": "stdout",
     "output_type": "stream",
     "text": [
      "reference_text: anh có bị chuyển động gì trong đầu không\n",
      "predicted_text: anh có bị chuyển động gì trong đầu không?\n",
      "Processing: FPTOpenSpeechData_Set001_V0.1_000591.mp3\n"
     ]
    },
    {
     "name": "stderr",
     "output_type": "stream",
     "text": [
      "/home/ngo/anaconda3/lib/python3.12/site-packages/whisper/transcribe.py:126: UserWarning: FP16 is not supported on CPU; using FP32 instead\n",
      "  warnings.warn(\"FP16 is not supported on CPU; using FP32 instead\")\n"
     ]
    },
    {
     "name": "stdout",
     "output_type": "stream",
     "text": [
      "reference_text: tốn hai mươi phút\n",
      "predicted_text: tốn hàm y phút\n",
      "Processing: FPTOpenSpeechData_Set001_V0.1_000592.mp3\n"
     ]
    },
    {
     "name": "stderr",
     "output_type": "stream",
     "text": [
      "/home/ngo/anaconda3/lib/python3.12/site-packages/whisper/transcribe.py:126: UserWarning: FP16 is not supported on CPU; using FP32 instead\n",
      "  warnings.warn(\"FP16 is not supported on CPU; using FP32 instead\")\n"
     ]
    },
    {
     "name": "stdout",
     "output_type": "stream",
     "text": [
      "reference_text: người đàn ông này kém cỏi\n",
      "predicted_text: người đàn ông này kém còi\n",
      "Processing: FPTOpenSpeechData_Set001_V0.1_000593.mp3\n"
     ]
    },
    {
     "name": "stderr",
     "output_type": "stream",
     "text": [
      "/home/ngo/anaconda3/lib/python3.12/site-packages/whisper/transcribe.py:126: UserWarning: FP16 is not supported on CPU; using FP32 instead\n",
      "  warnings.warn(\"FP16 is not supported on CPU; using FP32 instead\")\n"
     ]
    },
    {
     "name": "stdout",
     "output_type": "stream",
     "text": [
      "reference_text: sẻ ngô xanh\n",
      "predicted_text: xe ô xách\n",
      "Processing: FPTOpenSpeechData_Set001_V0.1_000594.mp3\n"
     ]
    },
    {
     "name": "stderr",
     "output_type": "stream",
     "text": [
      "/home/ngo/anaconda3/lib/python3.12/site-packages/whisper/transcribe.py:126: UserWarning: FP16 is not supported on CPU; using FP32 instead\n",
      "  warnings.warn(\"FP16 is not supported on CPU; using FP32 instead\")\n"
     ]
    },
    {
     "name": "stdout",
     "output_type": "stream",
     "text": [
      "reference_text: phần nào khiến giải thưởng ngành múa khá xôm tụ\n",
      "predicted_text: phần nào khiến giải thưởng ngành múa khá sơn tụ.\n",
      "Processing: FPTOpenSpeechData_Set001_V0.1_000595.mp3\n"
     ]
    },
    {
     "name": "stderr",
     "output_type": "stream",
     "text": [
      "/home/ngo/anaconda3/lib/python3.12/site-packages/whisper/transcribe.py:126: UserWarning: FP16 is not supported on CPU; using FP32 instead\n",
      "  warnings.warn(\"FP16 is not supported on CPU; using FP32 instead\")\n"
     ]
    },
    {
     "name": "stdout",
     "output_type": "stream",
     "text": [
      "reference_text: tôi vẫn không giấu được những nỗi bực dọc\n",
      "predicted_text: tôi vẫn không giấu được những nỗi bực vọng\n",
      "Processing: FPTOpenSpeechData_Set001_V0.1_000596.mp3\n"
     ]
    },
    {
     "name": "stderr",
     "output_type": "stream",
     "text": [
      "/home/ngo/anaconda3/lib/python3.12/site-packages/whisper/transcribe.py:126: UserWarning: FP16 is not supported on CPU; using FP32 instead\n",
      "  warnings.warn(\"FP16 is not supported on CPU; using FP32 instead\")\n"
     ]
    },
    {
     "name": "stdout",
     "output_type": "stream",
     "text": [
      "reference_text: vĩ bảo những người có tuổi tác ban đầu thường dằn vặt về quá khứ nghĩ về những ngày giữ địa vị ngoài xã hội\n",
      "predicted_text: vĩ bảo, những người có tuổi tác ban đầu thường dằn vặt về quá khứ, nghĩ về những ngày đữ địa vị ngoài xã hội.\n",
      "Processing: FPTOpenSpeechData_Set001_V0.1_000597.mp3\n"
     ]
    },
    {
     "name": "stderr",
     "output_type": "stream",
     "text": [
      "/home/ngo/anaconda3/lib/python3.12/site-packages/whisper/transcribe.py:126: UserWarning: FP16 is not supported on CPU; using FP32 instead\n",
      "  warnings.warn(\"FP16 is not supported on CPU; using FP32 instead\")\n"
     ]
    },
    {
     "name": "stdout",
     "output_type": "stream",
     "text": [
      "reference_text: đầu gối tôi bị va\n",
      "predicted_text: đâu có bị vang\n",
      "Processing: FPTOpenSpeechData_Set001_V0.1_000598.mp3\n"
     ]
    },
    {
     "name": "stderr",
     "output_type": "stream",
     "text": [
      "/home/ngo/anaconda3/lib/python3.12/site-packages/whisper/transcribe.py:126: UserWarning: FP16 is not supported on CPU; using FP32 instead\n",
      "  warnings.warn(\"FP16 is not supported on CPU; using FP32 instead\")\n"
     ]
    },
    {
     "name": "stdout",
     "output_type": "stream",
     "text": [
      "reference_text: theo đại diện của hãng tất cả các loại hình mai táng truyền thống từ trước tới nay chỉ để lại trong lòng người thân những nỗi buồn thương nặng nề u ám\n",
      "predicted_text: theo đại diện của hãng, tất cả các loại hình mai tạo truyền thống từ trước tới nay chỉ để lại trong các loại rất khóa, dơ mặn nghề của ảo.\n",
      "Processing: FPTOpenSpeechData_Set001_V0.1_000599.mp3\n"
     ]
    },
    {
     "name": "stderr",
     "output_type": "stream",
     "text": [
      "/home/ngo/anaconda3/lib/python3.12/site-packages/whisper/transcribe.py:126: UserWarning: FP16 is not supported on CPU; using FP32 instead\n",
      "  warnings.warn(\"FP16 is not supported on CPU; using FP32 instead\")\n"
     ]
    },
    {
     "name": "stdout",
     "output_type": "stream",
     "text": [
      "reference_text: hoàng mai là tuyến đường chính và có nhiều phương tiện lưu thông\n",
      "predicted_text: hoàng mai là tuyến đường chính và có nhiều phương tiện luôn không?\n",
      "Processing: FPTOpenSpeechData_Set001_V0.1_000600.mp3\n"
     ]
    },
    {
     "name": "stderr",
     "output_type": "stream",
     "text": [
      "/home/ngo/anaconda3/lib/python3.12/site-packages/whisper/transcribe.py:126: UserWarning: FP16 is not supported on CPU; using FP32 instead\n",
      "  warnings.warn(\"FP16 is not supported on CPU; using FP32 instead\")\n"
     ]
    },
    {
     "name": "stdout",
     "output_type": "stream",
     "text": [
      "reference_text: bật\n",
      "predicted_text: bắc\n",
      "Processing: FPTOpenSpeechData_Set001_V0.1_000601.mp3\n"
     ]
    },
    {
     "name": "stderr",
     "output_type": "stream",
     "text": [
      "/home/ngo/anaconda3/lib/python3.12/site-packages/whisper/transcribe.py:126: UserWarning: FP16 is not supported on CPU; using FP32 instead\n",
      "  warnings.warn(\"FP16 is not supported on CPU; using FP32 instead\")\n"
     ]
    },
    {
     "name": "stdout",
     "output_type": "stream",
     "text": [
      "reference_text: khi hai người đến tên hôn bất ngờ từ trong nhà gần đó chạy ra tay cầm chiếc rựa lao thẳng vào chém anh lê văn sửu\n",
      "predicted_text: khi hai người đến tên hôn bất ngờ từ trong nhà gần đó chạy ra, tay cầm chiếc rửa lao thẳng vào chém anh lê văn xỉu.\n",
      "Processing: FPTOpenSpeechData_Set001_V0.1_000602.mp3\n"
     ]
    },
    {
     "name": "stderr",
     "output_type": "stream",
     "text": [
      "/home/ngo/anaconda3/lib/python3.12/site-packages/whisper/transcribe.py:126: UserWarning: FP16 is not supported on CPU; using FP32 instead\n",
      "  warnings.warn(\"FP16 is not supported on CPU; using FP32 instead\")\n"
     ]
    },
    {
     "name": "stdout",
     "output_type": "stream",
     "text": [
      "reference_text: có ánh chớp lóe hắt lên vách liếp -n cây gậy rễ si\n",
      "predicted_text: cô anh chụp lệ hắt lên vách liệp bọt cây vầy rệ xi\n",
      "Processing: FPTOpenSpeechData_Set001_V0.1_000603.mp3\n"
     ]
    },
    {
     "name": "stderr",
     "output_type": "stream",
     "text": [
      "/home/ngo/anaconda3/lib/python3.12/site-packages/whisper/transcribe.py:126: UserWarning: FP16 is not supported on CPU; using FP32 instead\n",
      "  warnings.warn(\"FP16 is not supported on CPU; using FP32 instead\")\n"
     ]
    },
    {
     "name": "stdout",
     "output_type": "stream",
     "text": [
      "reference_text: chúng tôi đi chung\n",
      "predicted_text: chúng tôi đi chung\n",
      "Processing: FPTOpenSpeechData_Set001_V0.1_000604.mp3\n"
     ]
    },
    {
     "name": "stderr",
     "output_type": "stream",
     "text": [
      "/home/ngo/anaconda3/lib/python3.12/site-packages/whisper/transcribe.py:126: UserWarning: FP16 is not supported on CPU; using FP32 instead\n",
      "  warnings.warn(\"FP16 is not supported on CPU; using FP32 instead\")\n"
     ]
    },
    {
     "name": "stdout",
     "output_type": "stream",
     "text": [
      "reference_text: chín mươi hai chín mươi ba\n",
      "predicted_text: 912, 913\n",
      "Processing: FPTOpenSpeechData_Set001_V0.1_000605.mp3\n"
     ]
    },
    {
     "name": "stderr",
     "output_type": "stream",
     "text": [
      "/home/ngo/anaconda3/lib/python3.12/site-packages/whisper/transcribe.py:126: UserWarning: FP16 is not supported on CPU; using FP32 instead\n",
      "  warnings.warn(\"FP16 is not supported on CPU; using FP32 instead\")\n"
     ]
    },
    {
     "name": "stdout",
     "output_type": "stream",
     "text": [
      "reference_text: cài đặt lại phần mềm tốn cả ngày\n",
      "predicted_text: cài đặt lại phần mềm tốn cả ngày\n",
      "Processing: FPTOpenSpeechData_Set001_V0.1_000606.mp3\n"
     ]
    },
    {
     "name": "stderr",
     "output_type": "stream",
     "text": [
      "/home/ngo/anaconda3/lib/python3.12/site-packages/whisper/transcribe.py:126: UserWarning: FP16 is not supported on CPU; using FP32 instead\n",
      "  warnings.warn(\"FP16 is not supported on CPU; using FP32 instead\")\n"
     ]
    },
    {
     "name": "stdout",
     "output_type": "stream",
     "text": [
      "reference_text: chỗ ngồi này không có trong khu này\n",
      "predicted_text: chỗ ngồi này không có trong khu này\n",
      "Processing: FPTOpenSpeechData_Set001_V0.1_000607.mp3\n"
     ]
    },
    {
     "name": "stderr",
     "output_type": "stream",
     "text": [
      "/home/ngo/anaconda3/lib/python3.12/site-packages/whisper/transcribe.py:126: UserWarning: FP16 is not supported on CPU; using FP32 instead\n",
      "  warnings.warn(\"FP16 is not supported on CPU; using FP32 instead\")\n"
     ]
    },
    {
     "name": "stdout",
     "output_type": "stream",
     "text": [
      "reference_text: anh có thể chỉ cho tôi cách ăn món này được không\n",
      "predicted_text: anh có thể chỉ cho tôi cách ăn món này được không?\n",
      "Processing: FPTOpenSpeechData_Set001_V0.1_000608.mp3\n"
     ]
    },
    {
     "name": "stderr",
     "output_type": "stream",
     "text": [
      "/home/ngo/anaconda3/lib/python3.12/site-packages/whisper/transcribe.py:126: UserWarning: FP16 is not supported on CPU; using FP32 instead\n",
      "  warnings.warn(\"FP16 is not supported on CPU; using FP32 instead\")\n"
     ]
    },
    {
     "name": "stdout",
     "output_type": "stream",
     "text": [
      "reference_text: có khá gần\n",
      "predicted_text: có khá gần\n",
      "Processing: FPTOpenSpeechData_Set001_V0.1_000609.mp3\n"
     ]
    },
    {
     "name": "stderr",
     "output_type": "stream",
     "text": [
      "/home/ngo/anaconda3/lib/python3.12/site-packages/whisper/transcribe.py:126: UserWarning: FP16 is not supported on CPU; using FP32 instead\n",
      "  warnings.warn(\"FP16 is not supported on CPU; using FP32 instead\")\n"
     ]
    },
    {
     "name": "stdout",
     "output_type": "stream",
     "text": [
      "reference_text: cái nào gần nhất\n",
      "predicted_text: cái nào gần nhất\n",
      "Processing: FPTOpenSpeechData_Set001_V0.1_000610.mp3\n"
     ]
    },
    {
     "name": "stderr",
     "output_type": "stream",
     "text": [
      "/home/ngo/anaconda3/lib/python3.12/site-packages/whisper/transcribe.py:126: UserWarning: FP16 is not supported on CPU; using FP32 instead\n",
      "  warnings.warn(\"FP16 is not supported on CPU; using FP32 instead\")\n"
     ]
    },
    {
     "name": "stdout",
     "output_type": "stream",
     "text": [
      "reference_text: tôi sẽ nói lại với chị sau cám ơn chị rất nhiều tạm biệt\n",
      "predicted_text: tôi sẽ đón lại với chị sau cảm ơn chị rất nhiều, tạm biệt\n",
      "Processing: FPTOpenSpeechData_Set001_V0.1_000611.mp3\n"
     ]
    },
    {
     "name": "stderr",
     "output_type": "stream",
     "text": [
      "/home/ngo/anaconda3/lib/python3.12/site-packages/whisper/transcribe.py:126: UserWarning: FP16 is not supported on CPU; using FP32 instead\n",
      "  warnings.warn(\"FP16 is not supported on CPU; using FP32 instead\")\n"
     ]
    },
    {
     "name": "stdout",
     "output_type": "stream",
     "text": [
      "reference_text: bạn đã bỏ lỡ một cơ hội hay đã bỏ lỡ thứ gì đó\n",
      "predicted_text: bạn đã bỏ lỡ một cơ hội hay đã bỏ lỡ thứ gì đó?\n",
      "Processing: FPTOpenSpeechData_Set001_V0.1_000612.mp3\n"
     ]
    },
    {
     "name": "stderr",
     "output_type": "stream",
     "text": [
      "/home/ngo/anaconda3/lib/python3.12/site-packages/whisper/transcribe.py:126: UserWarning: FP16 is not supported on CPU; using FP32 instead\n",
      "  warnings.warn(\"FP16 is not supported on CPU; using FP32 instead\")\n"
     ]
    },
    {
     "name": "stdout",
     "output_type": "stream",
     "text": [
      "reference_text: tôi muốn tham gia một tua thành phố\n",
      "predicted_text: tôi muốn tham gia một tour thành phố.\n",
      "Processing: FPTOpenSpeechData_Set001_V0.1_000613.mp3\n"
     ]
    },
    {
     "name": "stderr",
     "output_type": "stream",
     "text": [
      "/home/ngo/anaconda3/lib/python3.12/site-packages/whisper/transcribe.py:126: UserWarning: FP16 is not supported on CPU; using FP32 instead\n",
      "  warnings.warn(\"FP16 is not supported on CPU; using FP32 instead\")\n"
     ]
    },
    {
     "name": "stdout",
     "output_type": "stream",
     "text": [
      "reference_text: người dân cố thủ tại chung cư sắp sập\n",
      "predicted_text: người dân cố thủ tại chung cư sắp sập\n",
      "Processing: FPTOpenSpeechData_Set001_V0.1_000614.mp3\n"
     ]
    },
    {
     "name": "stderr",
     "output_type": "stream",
     "text": [
      "/home/ngo/anaconda3/lib/python3.12/site-packages/whisper/transcribe.py:126: UserWarning: FP16 is not supported on CPU; using FP32 instead\n",
      "  warnings.warn(\"FP16 is not supported on CPU; using FP32 instead\")\n"
     ]
    },
    {
     "name": "stdout",
     "output_type": "stream",
     "text": [
      "reference_text: tốn thêm hai đô la mỗi cuộn bạn có muốn in hai lần không\n",
      "predicted_text: thêm 2$ mỗi quần, bạn có 1 in hay không?\n",
      "Processing: FPTOpenSpeechData_Set001_V0.1_000615.mp3\n"
     ]
    },
    {
     "name": "stderr",
     "output_type": "stream",
     "text": [
      "/home/ngo/anaconda3/lib/python3.12/site-packages/whisper/transcribe.py:126: UserWarning: FP16 is not supported on CPU; using FP32 instead\n",
      "  warnings.warn(\"FP16 is not supported on CPU; using FP32 instead\")\n"
     ]
    },
    {
     "name": "stdout",
     "output_type": "stream",
     "text": [
      "reference_text: lá chắn nhỏ nhất để không bị phá sản là sở đúc tiền của mỹ bằng khả năng của mình họ đã sản xuất những đồng dollar mỹ và độc quyền về giá trị của nó\n",
      "predicted_text: lá chấm nhỏ nhất để không bị phá sản là sở đốt tiền của mỹ. bằng khả năng của mình, họ đã sản xuất những đồng đô la mỹ và độc quyền về giá trị của nó.\n",
      "Processing: FPTOpenSpeechData_Set001_V0.1_000616.mp3\n"
     ]
    },
    {
     "name": "stderr",
     "output_type": "stream",
     "text": [
      "/home/ngo/anaconda3/lib/python3.12/site-packages/whisper/transcribe.py:126: UserWarning: FP16 is not supported on CPU; using FP32 instead\n",
      "  warnings.warn(\"FP16 is not supported on CPU; using FP32 instead\")\n"
     ]
    },
    {
     "name": "stdout",
     "output_type": "stream",
     "text": [
      "reference_text: theo tỉ giá hiện nay tôi sẽ nhận được bao nhiêu euro\n",
      "predicted_text: theo tỷ giá hiện nay tôi sẽ nhận được bao nhiêu euro?\n",
      "Processing: FPTOpenSpeechData_Set001_V0.1_000617.mp3\n"
     ]
    },
    {
     "name": "stderr",
     "output_type": "stream",
     "text": [
      "/home/ngo/anaconda3/lib/python3.12/site-packages/whisper/transcribe.py:126: UserWarning: FP16 is not supported on CPU; using FP32 instead\n",
      "  warnings.warn(\"FP16 is not supported on CPU; using FP32 instead\")\n"
     ]
    },
    {
     "name": "stdout",
     "output_type": "stream",
     "text": [
      "reference_text: cái này có bảo hành không\n",
      "predicted_text: đại này có bảo hành không?\n",
      "Processing: FPTOpenSpeechData_Set001_V0.1_000618.mp3\n"
     ]
    },
    {
     "name": "stderr",
     "output_type": "stream",
     "text": [
      "/home/ngo/anaconda3/lib/python3.12/site-packages/whisper/transcribe.py:126: UserWarning: FP16 is not supported on CPU; using FP32 instead\n",
      "  warnings.warn(\"FP16 is not supported on CPU; using FP32 instead\")\n"
     ]
    },
    {
     "name": "stdout",
     "output_type": "stream",
     "text": [
      "reference_text: tôi đang dùng insulin\n",
      "predicted_text: tôi đang dùng insulin\n",
      "Processing: FPTOpenSpeechData_Set001_V0.1_000619.mp3\n"
     ]
    },
    {
     "name": "stderr",
     "output_type": "stream",
     "text": [
      "/home/ngo/anaconda3/lib/python3.12/site-packages/whisper/transcribe.py:126: UserWarning: FP16 is not supported on CPU; using FP32 instead\n",
      "  warnings.warn(\"FP16 is not supported on CPU; using FP32 instead\")\n"
     ]
    },
    {
     "name": "stdout",
     "output_type": "stream",
     "text": [
      "reference_text: chẳng phải là bệnh hiểm nghèo nhưng trĩ vẫn là bệnh gây khó chịu cho bệnh nhân bởi làm cản trở công việc của họ lúc làm việc cũng như lúc ngủ họ vẫn phải lo nghĩ giáo sư nghĩa nói\n",
      "predicted_text: chẳng phải là bệnh hiểm nghèo nhưng chỉ vẫn là bệnh gây phó chịu cho bệnh nhân bởi làm cản trở công việc của họ, lúc làm việc cũng như lúc ngủ họ vẫn phải lo nghĩ, giáo dư nghĩa lo ái\n",
      "Processing: FPTOpenSpeechData_Set001_V0.1_000620.mp3\n"
     ]
    },
    {
     "name": "stderr",
     "output_type": "stream",
     "text": [
      "/home/ngo/anaconda3/lib/python3.12/site-packages/whisper/transcribe.py:126: UserWarning: FP16 is not supported on CPU; using FP32 instead\n",
      "  warnings.warn(\"FP16 is not supported on CPU; using FP32 instead\")\n"
     ]
    },
    {
     "name": "stdout",
     "output_type": "stream",
     "text": [
      "reference_text: xin lỗi anh có thể lĩnh tiền mặt cái này không\n",
      "predicted_text: xin lỗi, anh có thể lị truyền mặt cái này không?\n",
      "Processing: FPTOpenSpeechData_Set001_V0.1_000621.mp3\n"
     ]
    },
    {
     "name": "stderr",
     "output_type": "stream",
     "text": [
      "/home/ngo/anaconda3/lib/python3.12/site-packages/whisper/transcribe.py:126: UserWarning: FP16 is not supported on CPU; using FP32 instead\n",
      "  warnings.warn(\"FP16 is not supported on CPU; using FP32 instead\")\n"
     ]
    },
    {
     "name": "stdout",
     "output_type": "stream",
     "text": [
      "reference_text: đó là điềm\n",
      "predicted_text: đó là điểm\n",
      "Processing: FPTOpenSpeechData_Set001_V0.1_000622.mp3\n"
     ]
    },
    {
     "name": "stderr",
     "output_type": "stream",
     "text": [
      "/home/ngo/anaconda3/lib/python3.12/site-packages/whisper/transcribe.py:126: UserWarning: FP16 is not supported on CPU; using FP32 instead\n",
      "  warnings.warn(\"FP16 is not supported on CPU; using FP32 instead\")\n"
     ]
    },
    {
     "name": "stdout",
     "output_type": "stream",
     "text": [
      "reference_text: cần phải bỏ những suy nghĩ cũ kỹ cổ hủ diện bộ cánh nhã nhặn vừa vặn sẽ giúp hà đẹp hơn ở lễ hỏi cưới\n",
      "predicted_text: còn phải bỏ những suy nghĩ cũ, kỹ, cầu hủ, điện, bộ, cánh, nhã nhạm vừa vẫn sẽ giúp nhà đẹp hơn ở lễ hồi tuổi.\n",
      "Processing: FPTOpenSpeechData_Set001_V0.1_000623.mp3\n"
     ]
    },
    {
     "name": "stderr",
     "output_type": "stream",
     "text": [
      "/home/ngo/anaconda3/lib/python3.12/site-packages/whisper/transcribe.py:126: UserWarning: FP16 is not supported on CPU; using FP32 instead\n",
      "  warnings.warn(\"FP16 is not supported on CPU; using FP32 instead\")\n"
     ]
    },
    {
     "name": "stdout",
     "output_type": "stream",
     "text": [
      "reference_text: kiếm được tiền dễ dàng nên vượng rất hào phóng sẵn sàng chiêu đãi lũ bạn ở nhà sang trọng hay đàn đúm ở chốn ăn chơi\n",
      "predicted_text: kiếm được tiền dễ dàng nên vương rất hào hoán, sẵn sàng chiêu đại lộ bạn ở nhà sáng trọng hay đàn đấm ở trong quán chơi.\n",
      "Processing: FPTOpenSpeechData_Set001_V0.1_000624.mp3\n"
     ]
    },
    {
     "name": "stderr",
     "output_type": "stream",
     "text": [
      "/home/ngo/anaconda3/lib/python3.12/site-packages/whisper/transcribe.py:126: UserWarning: FP16 is not supported on CPU; using FP32 instead\n",
      "  warnings.warn(\"FP16 is not supported on CPU; using FP32 instead\")\n"
     ]
    },
    {
     "name": "stdout",
     "output_type": "stream",
     "text": [
      "reference_text: cửa trài còn gọi là mang cá nhỏ\n",
      "predicted_text: cựa chai còn gọi là mang cá nhỏ\n",
      "Processing: FPTOpenSpeechData_Set001_V0.1_000625.mp3\n"
     ]
    },
    {
     "name": "stderr",
     "output_type": "stream",
     "text": [
      "/home/ngo/anaconda3/lib/python3.12/site-packages/whisper/transcribe.py:126: UserWarning: FP16 is not supported on CPU; using FP32 instead\n",
      "  warnings.warn(\"FP16 is not supported on CPU; using FP32 instead\")\n"
     ]
    },
    {
     "name": "stdout",
     "output_type": "stream",
     "text": [
      "reference_text: họ khẩn trương gói ghém hành lý rồi ra sân bay\n",
      "predicted_text: học bằng chữ gọi gần như như đôi lá sân bay.\n",
      "Processing: FPTOpenSpeechData_Set001_V0.1_000626.mp3\n"
     ]
    },
    {
     "name": "stderr",
     "output_type": "stream",
     "text": [
      "/home/ngo/anaconda3/lib/python3.12/site-packages/whisper/transcribe.py:126: UserWarning: FP16 is not supported on CPU; using FP32 instead\n",
      "  warnings.warn(\"FP16 is not supported on CPU; using FP32 instead\")\n"
     ]
    },
    {
     "name": "stdout",
     "output_type": "stream",
     "text": [
      "reference_text: ti vi giảm âm lượng về không\n",
      "predicted_text: tv giảm âm lượng về 0\n",
      "Processing: FPTOpenSpeechData_Set001_V0.1_000627.mp3\n"
     ]
    },
    {
     "name": "stderr",
     "output_type": "stream",
     "text": [
      "/home/ngo/anaconda3/lib/python3.12/site-packages/whisper/transcribe.py:126: UserWarning: FP16 is not supported on CPU; using FP32 instead\n",
      "  warnings.warn(\"FP16 is not supported on CPU; using FP32 instead\")\n"
     ]
    },
    {
     "name": "stdout",
     "output_type": "stream",
     "text": [
      "reference_text: xin lỗi chải tóc tôi giống như hình này\n",
      "predicted_text: xin lỗi, chải tóc tôi giống như hình này.\n",
      "Processing: FPTOpenSpeechData_Set001_V0.1_000628.mp3\n"
     ]
    },
    {
     "name": "stderr",
     "output_type": "stream",
     "text": [
      "/home/ngo/anaconda3/lib/python3.12/site-packages/whisper/transcribe.py:126: UserWarning: FP16 is not supported on CPU; using FP32 instead\n",
      "  warnings.warn(\"FP16 is not supported on CPU; using FP32 instead\")\n"
     ]
    },
    {
     "name": "stdout",
     "output_type": "stream",
     "text": [
      "reference_text: kinh tế mỹ tiếp tục lún sâu thêm vào khủng hoảng\n",
      "predicted_text: kinh tế mỹ tiếp tục luân sâu thêm vào khủng hoảng\n",
      "Processing: FPTOpenSpeechData_Set001_V0.1_000629.mp3\n"
     ]
    },
    {
     "name": "stderr",
     "output_type": "stream",
     "text": [
      "/home/ngo/anaconda3/lib/python3.12/site-packages/whisper/transcribe.py:126: UserWarning: FP16 is not supported on CPU; using FP32 instead\n",
      "  warnings.warn(\"FP16 is not supported on CPU; using FP32 instead\")\n"
     ]
    },
    {
     "name": "stdout",
     "output_type": "stream",
     "text": [
      "reference_text: vui lòng cho tôi xem cái đồng hồ thứ ba ở bên trái\n",
      "predicted_text: điều này thì tôi xem cả đồng hồ thử ba ở bên trái\n",
      "Processing: FPTOpenSpeechData_Set001_V0.1_000630.mp3\n"
     ]
    },
    {
     "name": "stderr",
     "output_type": "stream",
     "text": [
      "/home/ngo/anaconda3/lib/python3.12/site-packages/whisper/transcribe.py:126: UserWarning: FP16 is not supported on CPU; using FP32 instead\n",
      "  warnings.warn(\"FP16 is not supported on CPU; using FP32 instead\")\n"
     ]
    },
    {
     "name": "stdout",
     "output_type": "stream",
     "text": [
      "reference_text: bé thiêm nhiều đêm đang ngủ cứ giật mình mếu máo bố ơi mẹ ơi khiến thằng trường phải ngồi dậy dỗ em suốt đêm\n",
      "predicted_text: bé thiên nhiều đêm đang ngủ cứ giật mình méo máu bố ơi mẹ ơi khiến thằng trường phải ngồi dậy dỗ em suốt đêm\n",
      "Processing: FPTOpenSpeechData_Set001_V0.1_000631.mp3\n"
     ]
    },
    {
     "name": "stderr",
     "output_type": "stream",
     "text": [
      "/home/ngo/anaconda3/lib/python3.12/site-packages/whisper/transcribe.py:126: UserWarning: FP16 is not supported on CPU; using FP32 instead\n",
      "  warnings.warn(\"FP16 is not supported on CPU; using FP32 instead\")\n"
     ]
    },
    {
     "name": "stdout",
     "output_type": "stream",
     "text": [
      "reference_text: giảm nhiệt độ xuống hai mươi lăm độ\n",
      "predicted_text: giảm nhiệt độ xuống 25 độ\n",
      "Processing: FPTOpenSpeechData_Set001_V0.1_000632.mp3\n"
     ]
    },
    {
     "name": "stderr",
     "output_type": "stream",
     "text": [
      "/home/ngo/anaconda3/lib/python3.12/site-packages/whisper/transcribe.py:126: UserWarning: FP16 is not supported on CPU; using FP32 instead\n",
      "  warnings.warn(\"FP16 is not supported on CPU; using FP32 instead\")\n"
     ]
    },
    {
     "name": "stdout",
     "output_type": "stream",
     "text": [
      "reference_text: hằng ngày làm mặt lạnh với nhau nhưng những dịp phải dự cưới hỏi cỗ bàn cô vẫn diện thật đẹp tháp tùng chồng cười nói rất vui vẻ\n",
      "predicted_text: hàng ngày nằm mặt nạnh với nhau nhưng những gì phải dự cuối hỏi cổ bàn cô vẫn diện thật đẹp khắp tùng trồng, cười lói rất vui vẻ\n",
      "Processing: FPTOpenSpeechData_Set001_V0.1_000633.mp3\n"
     ]
    },
    {
     "name": "stderr",
     "output_type": "stream",
     "text": [
      "/home/ngo/anaconda3/lib/python3.12/site-packages/whisper/transcribe.py:126: UserWarning: FP16 is not supported on CPU; using FP32 instead\n",
      "  warnings.warn(\"FP16 is not supported on CPU; using FP32 instead\")\n"
     ]
    },
    {
     "name": "stdout",
     "output_type": "stream",
     "text": [
      "reference_text: để luôn nhớ mình là sinh viên việt\n",
      "predicted_text: để luôn nhớ mình là sinh viên việt.\n",
      "Processing: FPTOpenSpeechData_Set001_V0.1_000634.mp3\n"
     ]
    },
    {
     "name": "stderr",
     "output_type": "stream",
     "text": [
      "/home/ngo/anaconda3/lib/python3.12/site-packages/whisper/transcribe.py:126: UserWarning: FP16 is not supported on CPU; using FP32 instead\n",
      "  warnings.warn(\"FP16 is not supported on CPU; using FP32 instead\")\n"
     ]
    },
    {
     "name": "stdout",
     "output_type": "stream",
     "text": [
      "reference_text: tôi muốn anh khuyên tôi về\n",
      "predicted_text: tôi muốn anh khuyên tôi về.\n",
      "Processing: FPTOpenSpeechData_Set001_V0.1_000635.mp3\n"
     ]
    },
    {
     "name": "stderr",
     "output_type": "stream",
     "text": [
      "/home/ngo/anaconda3/lib/python3.12/site-packages/whisper/transcribe.py:126: UserWarning: FP16 is not supported on CPU; using FP32 instead\n",
      "  warnings.warn(\"FP16 is not supported on CPU; using FP32 instead\")\n"
     ]
    },
    {
     "name": "stdout",
     "output_type": "stream",
     "text": [
      "reference_text: tên cuối là gì\n",
      "predicted_text: vinh quay lại đi\n",
      "Processing: FPTOpenSpeechData_Set001_V0.1_000636.mp3\n"
     ]
    },
    {
     "name": "stderr",
     "output_type": "stream",
     "text": [
      "/home/ngo/anaconda3/lib/python3.12/site-packages/whisper/transcribe.py:126: UserWarning: FP16 is not supported on CPU; using FP32 instead\n",
      "  warnings.warn(\"FP16 is not supported on CPU; using FP32 instead\")\n"
     ]
    },
    {
     "name": "stdout",
     "output_type": "stream",
     "text": [
      "reference_text: rất hân hạnh khi nào tôi sẽ gặp lại\n",
      "predicted_text: rất hân hạnh, chim nào tôi sẽ gặp lại\n",
      "Processing: FPTOpenSpeechData_Set001_V0.1_000637.mp3\n"
     ]
    },
    {
     "name": "stderr",
     "output_type": "stream",
     "text": [
      "/home/ngo/anaconda3/lib/python3.12/site-packages/whisper/transcribe.py:126: UserWarning: FP16 is not supported on CPU; using FP32 instead\n",
      "  warnings.warn(\"FP16 is not supported on CPU; using FP32 instead\")\n"
     ]
    },
    {
     "name": "stdout",
     "output_type": "stream",
     "text": [
      "reference_text: tên tôi là senko yamada chuyến bay jal không không hai đến tokyo\n",
      "predicted_text: tên tôi là tenko yamada, chuyến bay gal002 đến tokyo.\n",
      "Processing: FPTOpenSpeechData_Set001_V0.1_000638.mp3\n"
     ]
    },
    {
     "name": "stderr",
     "output_type": "stream",
     "text": [
      "/home/ngo/anaconda3/lib/python3.12/site-packages/whisper/transcribe.py:126: UserWarning: FP16 is not supported on CPU; using FP32 instead\n",
      "  warnings.warn(\"FP16 is not supported on CPU; using FP32 instead\")\n"
     ]
    },
    {
     "name": "stdout",
     "output_type": "stream",
     "text": [
      "reference_text: tổng số tiền là hai trăm bốn mươi ba pound thưa mẹ\n",
      "predicted_text: tổng đội tiên là 243 phao thưa mẹ\n",
      "Processing: FPTOpenSpeechData_Set001_V0.1_000639.mp3\n"
     ]
    },
    {
     "name": "stderr",
     "output_type": "stream",
     "text": [
      "/home/ngo/anaconda3/lib/python3.12/site-packages/whisper/transcribe.py:126: UserWarning: FP16 is not supported on CPU; using FP32 instead\n",
      "  warnings.warn(\"FP16 is not supported on CPU; using FP32 instead\")\n"
     ]
    },
    {
     "name": "stdout",
     "output_type": "stream",
     "text": [
      "reference_text: tôi muốn mua cái này cỡ trung bình\n",
      "predicted_text: tôi muốn mua cái này cờ trung bình\n",
      "Processing: FPTOpenSpeechData_Set001_V0.1_000640.mp3\n"
     ]
    },
    {
     "name": "stderr",
     "output_type": "stream",
     "text": [
      "/home/ngo/anaconda3/lib/python3.12/site-packages/whisper/transcribe.py:126: UserWarning: FP16 is not supported on CPU; using FP32 instead\n",
      "  warnings.warn(\"FP16 is not supported on CPU; using FP32 instead\")\n"
     ]
    },
    {
     "name": "stdout",
     "output_type": "stream",
     "text": [
      "reference_text: giám đốc và có lẽ là chủ nhân của một trường đàm thoại anh ngữ\n",
      "predicted_text: giám đốc ba cọ lè là chủ nhân của một trường đam thoại anh hữu.\n",
      "Processing: FPTOpenSpeechData_Set001_V0.1_000641.mp3\n"
     ]
    },
    {
     "name": "stderr",
     "output_type": "stream",
     "text": [
      "/home/ngo/anaconda3/lib/python3.12/site-packages/whisper/transcribe.py:126: UserWarning: FP16 is not supported on CPU; using FP32 instead\n",
      "  warnings.warn(\"FP16 is not supported on CPU; using FP32 instead\")\n"
     ]
    },
    {
     "name": "stdout",
     "output_type": "stream",
     "text": [
      "reference_text: kênh một ti vi\n",
      "predicted_text: kênh mọt tv\n",
      "Processing: FPTOpenSpeechData_Set001_V0.1_000642.mp3\n"
     ]
    },
    {
     "name": "stderr",
     "output_type": "stream",
     "text": [
      "/home/ngo/anaconda3/lib/python3.12/site-packages/whisper/transcribe.py:126: UserWarning: FP16 is not supported on CPU; using FP32 instead\n",
      "  warnings.warn(\"FP16 is not supported on CPU; using FP32 instead\")\n"
     ]
    },
    {
     "name": "stdout",
     "output_type": "stream",
     "text": [
      "reference_text: có phải nó thực sự khó hiểu vậy không\n",
      "predicted_text: có phải nó thực sự có hiểu vậy không?\n",
      "Processing: FPTOpenSpeechData_Set001_V0.1_000643.mp3\n"
     ]
    },
    {
     "name": "stderr",
     "output_type": "stream",
     "text": [
      "/home/ngo/anaconda3/lib/python3.12/site-packages/whisper/transcribe.py:126: UserWarning: FP16 is not supported on CPU; using FP32 instead\n",
      "  warnings.warn(\"FP16 is not supported on CPU; using FP32 instead\")\n"
     ]
    },
    {
     "name": "stdout",
     "output_type": "stream",
     "text": [
      "reference_text: tôi sẽ trở về vào một ngày trong tuần\n",
      "predicted_text: tối sẽ trở về vào một ngày trong tuần.\n",
      "Processing: FPTOpenSpeechData_Set001_V0.1_000644.mp3\n"
     ]
    },
    {
     "name": "stderr",
     "output_type": "stream",
     "text": [
      "/home/ngo/anaconda3/lib/python3.12/site-packages/whisper/transcribe.py:126: UserWarning: FP16 is not supported on CPU; using FP32 instead\n",
      "  warnings.warn(\"FP16 is not supported on CPU; using FP32 instead\")\n"
     ]
    },
    {
     "name": "stdout",
     "output_type": "stream",
     "text": [
      "reference_text: có đủ thời gian để chuyển xe không\n",
      "predicted_text: có đủ thời gian để chuyển xe không?\n",
      "Processing: FPTOpenSpeechData_Set001_V0.1_000645.mp3\n"
     ]
    },
    {
     "name": "stderr",
     "output_type": "stream",
     "text": [
      "/home/ngo/anaconda3/lib/python3.12/site-packages/whisper/transcribe.py:126: UserWarning: FP16 is not supported on CPU; using FP32 instead\n",
      "  warnings.warn(\"FP16 is not supported on CPU; using FP32 instead\")\n"
     ]
    },
    {
     "name": "stdout",
     "output_type": "stream",
     "text": [
      "reference_text: ồ tôi đã lỡ trạm dừng xe bít của mình tôi phải làm gì\n",
      "predicted_text: ồ, tôi đã lỡ chạm vườn xe buýt của mình, tôi phải làm gì?\n",
      "Processing: FPTOpenSpeechData_Set001_V0.1_000646.mp3\n"
     ]
    },
    {
     "name": "stderr",
     "output_type": "stream",
     "text": [
      "/home/ngo/anaconda3/lib/python3.12/site-packages/whisper/transcribe.py:126: UserWarning: FP16 is not supported on CPU; using FP32 instead\n",
      "  warnings.warn(\"FP16 is not supported on CPU; using FP32 instead\")\n"
     ]
    },
    {
     "name": "stdout",
     "output_type": "stream",
     "text": [
      "reference_text: tiếc quá tôi phải làm gì bây giờ\n",
      "predicted_text: thiệt quá, tôi phải làm gì bây giờ?\n",
      "Processing: FPTOpenSpeechData_Set001_V0.1_000647.mp3\n"
     ]
    },
    {
     "name": "stderr",
     "output_type": "stream",
     "text": [
      "/home/ngo/anaconda3/lib/python3.12/site-packages/whisper/transcribe.py:126: UserWarning: FP16 is not supported on CPU; using FP32 instead\n",
      "  warnings.warn(\"FP16 is not supported on CPU; using FP32 instead\")\n"
     ]
    },
    {
     "name": "stdout",
     "output_type": "stream",
     "text": [
      "reference_text: một mẩu lui về phía sau đầu còn mẩu kia hướng về phía trước mõm\n",
      "predicted_text: một mẫu lui về phía sau đầu còn mẫu kia hướng về phía trước mỏng.\n",
      "Processing: FPTOpenSpeechData_Set001_V0.1_000648.mp3\n"
     ]
    },
    {
     "name": "stderr",
     "output_type": "stream",
     "text": [
      "/home/ngo/anaconda3/lib/python3.12/site-packages/whisper/transcribe.py:126: UserWarning: FP16 is not supported on CPU; using FP32 instead\n",
      "  warnings.warn(\"FP16 is not supported on CPU; using FP32 instead\")\n"
     ]
    },
    {
     "name": "stdout",
     "output_type": "stream",
     "text": [
      "reference_text: tôi muốn mua một phong bì\n",
      "predicted_text: tối mượn vô một song bi\n",
      "Processing: FPTOpenSpeechData_Set001_V0.1_000649.mp3\n"
     ]
    },
    {
     "name": "stderr",
     "output_type": "stream",
     "text": [
      "/home/ngo/anaconda3/lib/python3.12/site-packages/whisper/transcribe.py:126: UserWarning: FP16 is not supported on CPU; using FP32 instead\n",
      "  warnings.warn(\"FP16 is not supported on CPU; using FP32 instead\")\n"
     ]
    },
    {
     "name": "stdout",
     "output_type": "stream",
     "text": [
      "reference_text: đưa tôi về khách sạn\n",
      "predicted_text: đưa tôi về khách sạn\n",
      "Processing: FPTOpenSpeechData_Set001_V0.1_000650.mp3\n"
     ]
    },
    {
     "name": "stderr",
     "output_type": "stream",
     "text": [
      "/home/ngo/anaconda3/lib/python3.12/site-packages/whisper/transcribe.py:126: UserWarning: FP16 is not supported on CPU; using FP32 instead\n",
      "  warnings.warn(\"FP16 is not supported on CPU; using FP32 instead\")\n"
     ]
    },
    {
     "name": "stdout",
     "output_type": "stream",
     "text": [
      "reference_text: dự luật này được trông đợi sẽ thu hút được sự ủng hộ từ các đảng\n",
      "predicted_text: dự luật này được trông đại sẽ thu hút được sự ủng hộ từ các đảng\n",
      "Processing: FPTOpenSpeechData_Set001_V0.1_000651.mp3\n"
     ]
    },
    {
     "name": "stderr",
     "output_type": "stream",
     "text": [
      "/home/ngo/anaconda3/lib/python3.12/site-packages/whisper/transcribe.py:126: UserWarning: FP16 is not supported on CPU; using FP32 instead\n",
      "  warnings.warn(\"FP16 is not supported on CPU; using FP32 instead\")\n"
     ]
    },
    {
     "name": "stdout",
     "output_type": "stream",
     "text": [
      "reference_text: rủ nhau kết lại với ông để hình thành ban từ thiện dân lập gồm đủ ngành nghề thợ mộc thợ hồ\n",
      "predicted_text: rủ nhau kết lại với ông để hình thành bang từ hiện dân lập gồm đủ ngành nghề thợ mộc, thợ hồ.\n",
      "Processing: FPTOpenSpeechData_Set001_V0.1_000652.mp3\n"
     ]
    },
    {
     "name": "stderr",
     "output_type": "stream",
     "text": [
      "/home/ngo/anaconda3/lib/python3.12/site-packages/whisper/transcribe.py:126: UserWarning: FP16 is not supported on CPU; using FP32 instead\n",
      "  warnings.warn(\"FP16 is not supported on CPU; using FP32 instead\")\n"
     ]
    },
    {
     "name": "stdout",
     "output_type": "stream",
     "text": [
      "reference_text: vài ngày nữa sẽ có hàng\n",
      "predicted_text: vài ngày lừa sẽ có hàng\n",
      "Processing: FPTOpenSpeechData_Set001_V0.1_000653.mp3\n"
     ]
    },
    {
     "name": "stderr",
     "output_type": "stream",
     "text": [
      "/home/ngo/anaconda3/lib/python3.12/site-packages/whisper/transcribe.py:126: UserWarning: FP16 is not supported on CPU; using FP32 instead\n",
      "  warnings.warn(\"FP16 is not supported on CPU; using FP32 instead\")\n"
     ]
    },
    {
     "name": "stdout",
     "output_type": "stream",
     "text": [
      "reference_text: có được dùng điện thoại của anh không\n",
      "predicted_text: có được dùng điện thoại của anh không?\n",
      "Processing: FPTOpenSpeechData_Set001_V0.1_000654.mp3\n"
     ]
    },
    {
     "name": "stderr",
     "output_type": "stream",
     "text": [
      "/home/ngo/anaconda3/lib/python3.12/site-packages/whisper/transcribe.py:126: UserWarning: FP16 is not supported on CPU; using FP32 instead\n",
      "  warnings.warn(\"FP16 is not supported on CPU; using FP32 instead\")\n"
     ]
    },
    {
     "name": "stdout",
     "output_type": "stream",
     "text": [
      "reference_text: cái đầu tôi làm tôi rất đau\n",
      "predicted_text: cại đầu tố đăng tố đất đau\n",
      "Processing: FPTOpenSpeechData_Set001_V0.1_000655.mp3\n"
     ]
    },
    {
     "name": "stderr",
     "output_type": "stream",
     "text": [
      "/home/ngo/anaconda3/lib/python3.12/site-packages/whisper/transcribe.py:126: UserWarning: FP16 is not supported on CPU; using FP32 instead\n",
      "  warnings.warn(\"FP16 is not supported on CPU; using FP32 instead\")\n"
     ]
    },
    {
     "name": "stdout",
     "output_type": "stream",
     "text": [
      "reference_text: cách tốt nhất để chăm sóc làn da là tránh cho da tiếp xúc với ánh nắng mặt trời\n",
      "predicted_text: cách tốt nhất để chăm sóc làn da là tránh cho da tiếp xúc với ánh nắng mặt trời\n",
      "Processing: FPTOpenSpeechData_Set001_V0.1_000656.mp3\n"
     ]
    },
    {
     "name": "stderr",
     "output_type": "stream",
     "text": [
      "/home/ngo/anaconda3/lib/python3.12/site-packages/whisper/transcribe.py:126: UserWarning: FP16 is not supported on CPU; using FP32 instead\n",
      "  warnings.warn(\"FP16 is not supported on CPU; using FP32 instead\")\n"
     ]
    },
    {
     "name": "stdout",
     "output_type": "stream",
     "text": [
      "reference_text: tôi thích các bộ phim hành động và ly kỳ\n",
      "predicted_text: tôi thích các bộ phim hành đồng và ly kỳ\n",
      "Processing: FPTOpenSpeechData_Set001_V0.1_000657.mp3\n"
     ]
    },
    {
     "name": "stderr",
     "output_type": "stream",
     "text": [
      "/home/ngo/anaconda3/lib/python3.12/site-packages/whisper/transcribe.py:126: UserWarning: FP16 is not supported on CPU; using FP32 instead\n",
      "  warnings.warn(\"FP16 is not supported on CPU; using FP32 instead\")\n"
     ]
    },
    {
     "name": "stdout",
     "output_type": "stream",
     "text": [
      "reference_text: vui lòng cho thứ nào đó không ga\n",
      "predicted_text: vui lòng cho thứ nào đó không ga\n",
      "Processing: FPTOpenSpeechData_Set001_V0.1_000658.mp3\n"
     ]
    },
    {
     "name": "stderr",
     "output_type": "stream",
     "text": [
      "/home/ngo/anaconda3/lib/python3.12/site-packages/whisper/transcribe.py:126: UserWarning: FP16 is not supported on CPU; using FP32 instead\n",
      "  warnings.warn(\"FP16 is not supported on CPU; using FP32 instead\")\n"
     ]
    },
    {
     "name": "stdout",
     "output_type": "stream",
     "text": [
      "reference_text: nhung tìm về nhà một người bạn ở -n hòa cầu giấy rồi bị ngất tại đó\n",
      "predicted_text: các bạn hãy đăng ký kênh để ủng hộ kênh của mình nhé.\n",
      "Processing: FPTOpenSpeechData_Set001_V0.1_000659.mp3\n"
     ]
    },
    {
     "name": "stderr",
     "output_type": "stream",
     "text": [
      "/home/ngo/anaconda3/lib/python3.12/site-packages/whisper/transcribe.py:126: UserWarning: FP16 is not supported on CPU; using FP32 instead\n",
      "  warnings.warn(\"FP16 is not supported on CPU; using FP32 instead\")\n"
     ]
    },
    {
     "name": "stdout",
     "output_type": "stream",
     "text": [
      "reference_text: nhóm sinh viên tại trường cùng họp mặt ăn tết chung\n",
      "predicted_text: nhóm sinh viên tại trường cùng họp mặt ăn tết chung.\n",
      "Processing: FPTOpenSpeechData_Set001_V0.1_000660.mp3\n"
     ]
    },
    {
     "name": "stderr",
     "output_type": "stream",
     "text": [
      "/home/ngo/anaconda3/lib/python3.12/site-packages/whisper/transcribe.py:126: UserWarning: FP16 is not supported on CPU; using FP32 instead\n",
      "  warnings.warn(\"FP16 is not supported on CPU; using FP32 instead\")\n"
     ]
    },
    {
     "name": "stdout",
     "output_type": "stream",
     "text": [
      "reference_text: thế nhưng đối với vượng thì khác chỉ vài tiếng huýt sáo hắn đã thu phục được cả hai chú chó rồi vào nhà khua\n",
      "predicted_text: thế nhưng đối với vượng thì khác chỉ vài tiếng khích tháo hắn đã thu phục được cả hai chú chó rồi vào nhà\n",
      "Processing: FPTOpenSpeechData_Set001_V0.1_000661.mp3\n"
     ]
    },
    {
     "name": "stderr",
     "output_type": "stream",
     "text": [
      "/home/ngo/anaconda3/lib/python3.12/site-packages/whisper/transcribe.py:126: UserWarning: FP16 is not supported on CPU; using FP32 instead\n",
      "  warnings.warn(\"FP16 is not supported on CPU; using FP32 instead\")\n"
     ]
    },
    {
     "name": "stdout",
     "output_type": "stream",
     "text": [
      "reference_text: -n bể nước tồn đọng đủ các chất bẩn đen ngòm dưới đáy nắp đậy đã bong tróc\n",
      "predicted_text: bể nước tôn đông đủ các chất bẩn đen ngon dưới đáy, nắp đầy đà bóng tróc\n",
      "Processing: FPTOpenSpeechData_Set001_V0.1_000662.mp3\n"
     ]
    },
    {
     "name": "stderr",
     "output_type": "stream",
     "text": [
      "/home/ngo/anaconda3/lib/python3.12/site-packages/whisper/transcribe.py:126: UserWarning: FP16 is not supported on CPU; using FP32 instead\n",
      "  warnings.warn(\"FP16 is not supported on CPU; using FP32 instead\")\n"
     ]
    },
    {
     "name": "stdout",
     "output_type": "stream",
     "text": [
      "reference_text: tuy vậy shubert cũng cho rằng cần phải tính đến cả yếu tố cá nhân\n",
      "predicted_text: tuy vậy, stubart cũng cho rằng cần phải tính đến cả yếu tố cá nhân\n",
      "Processing: FPTOpenSpeechData_Set001_V0.1_000663.mp3\n"
     ]
    },
    {
     "name": "stderr",
     "output_type": "stream",
     "text": [
      "/home/ngo/anaconda3/lib/python3.12/site-packages/whisper/transcribe.py:126: UserWarning: FP16 is not supported on CPU; using FP32 instead\n",
      "  warnings.warn(\"FP16 is not supported on CPU; using FP32 instead\")\n"
     ]
    },
    {
     "name": "stdout",
     "output_type": "stream",
     "text": [
      "reference_text: chúng ta thật may mắn cửa hàng ala moana vẫn còn cỡ số bốn\n",
      "predicted_text: chúng ta thật may mắn, cửa hàng alamoan vẫn còn cửa số 4.\n",
      "Processing: FPTOpenSpeechData_Set001_V0.1_000664.mp3\n"
     ]
    },
    {
     "name": "stderr",
     "output_type": "stream",
     "text": [
      "/home/ngo/anaconda3/lib/python3.12/site-packages/whisper/transcribe.py:126: UserWarning: FP16 is not supported on CPU; using FP32 instead\n",
      "  warnings.warn(\"FP16 is not supported on CPU; using FP32 instead\")\n"
     ]
    },
    {
     "name": "stdout",
     "output_type": "stream",
     "text": [
      "reference_text: tôi muốn mua những trái cam này bạn vui lòng gửi chúng tới nhật nhé\n",
      "predicted_text: tôi muốn mua nền tải cam này bạn vui lòng gửi chúng tới nhật nhé\n",
      "Processing: FPTOpenSpeechData_Set001_V0.1_000665.mp3\n"
     ]
    },
    {
     "name": "stderr",
     "output_type": "stream",
     "text": [
      "/home/ngo/anaconda3/lib/python3.12/site-packages/whisper/transcribe.py:126: UserWarning: FP16 is not supported on CPU; using FP32 instead\n",
      "  warnings.warn(\"FP16 is not supported on CPU; using FP32 instead\")\n"
     ]
    },
    {
     "name": "stdout",
     "output_type": "stream",
     "text": [
      "reference_text: đừng thay đổi kiểu chỉ cắt một chút\n",
      "predicted_text: đừng thay đổi kiểu tình cách một chút\n",
      "Processing: FPTOpenSpeechData_Set001_V0.1_000666.mp3\n"
     ]
    },
    {
     "name": "stderr",
     "output_type": "stream",
     "text": [
      "/home/ngo/anaconda3/lib/python3.12/site-packages/whisper/transcribe.py:126: UserWarning: FP16 is not supported on CPU; using FP32 instead\n",
      "  warnings.warn(\"FP16 is not supported on CPU; using FP32 instead\")\n"
     ]
    },
    {
     "name": "stdout",
     "output_type": "stream",
     "text": [
      "reference_text: cái này có bao gồm giá bữa ăn sáng không\n",
      "predicted_text: cái này có bao gồm dạng bữa ăn sáng không?\n",
      "Processing: FPTOpenSpeechData_Set001_V0.1_000667.mp3\n"
     ]
    },
    {
     "name": "stderr",
     "output_type": "stream",
     "text": [
      "/home/ngo/anaconda3/lib/python3.12/site-packages/whisper/transcribe.py:126: UserWarning: FP16 is not supported on CPU; using FP32 instead\n",
      "  warnings.warn(\"FP16 is not supported on CPU; using FP32 instead\")\n"
     ]
    },
    {
     "name": "stdout",
     "output_type": "stream",
     "text": [
      "reference_text: xin lỗi có thể cho tôi một thẻ điện thoại không\n",
      "predicted_text: xin lỗi, có thể cho tôi một thẻ điện thoại không?\n",
      "Processing: FPTOpenSpeechData_Set001_V0.1_000668.mp3\n"
     ]
    },
    {
     "name": "stderr",
     "output_type": "stream",
     "text": [
      "/home/ngo/anaconda3/lib/python3.12/site-packages/whisper/transcribe.py:126: UserWarning: FP16 is not supported on CPU; using FP32 instead\n",
      "  warnings.warn(\"FP16 is not supported on CPU; using FP32 instead\")\n"
     ]
    },
    {
     "name": "stdout",
     "output_type": "stream",
     "text": [
      "reference_text: tôi có vinh dự được khiêu vũ cùng cô không\n",
      "predicted_text: tôi vô vinh dự được khiến cụ vô cùng cố gắng.\n",
      "Processing: FPTOpenSpeechData_Set001_V0.1_000669.mp3\n"
     ]
    },
    {
     "name": "stderr",
     "output_type": "stream",
     "text": [
      "/home/ngo/anaconda3/lib/python3.12/site-packages/whisper/transcribe.py:126: UserWarning: FP16 is not supported on CPU; using FP32 instead\n",
      "  warnings.warn(\"FP16 is not supported on CPU; using FP32 instead\")\n"
     ]
    },
    {
     "name": "stdout",
     "output_type": "stream",
     "text": [
      "reference_text: phế quản bị chít hẹp khiến trẻ thở khò khè thậm chí rít lên\n",
      "predicted_text: thế quản biệt dịch hẹp, kiến tệ thừa kho khe thâm trị rịch lên\n",
      "Processing: FPTOpenSpeechData_Set001_V0.1_000670.mp3\n"
     ]
    },
    {
     "name": "stderr",
     "output_type": "stream",
     "text": [
      "/home/ngo/anaconda3/lib/python3.12/site-packages/whisper/transcribe.py:126: UserWarning: FP16 is not supported on CPU; using FP32 instead\n",
      "  warnings.warn(\"FP16 is not supported on CPU; using FP32 instead\")\n"
     ]
    },
    {
     "name": "stdout",
     "output_type": "stream",
     "text": [
      "reference_text: xin lỗi tôi bị lạc đường anh có thể chỉ cho tôi đường đến khu phố người hoa không\n",
      "predicted_text: xin lỗi tôi bị lạc đường, anh có thể chỉ cho tôi đường đến phu phổ người hoa không?\n",
      "Processing: FPTOpenSpeechData_Set001_V0.1_000671.mp3\n"
     ]
    },
    {
     "name": "stderr",
     "output_type": "stream",
     "text": [
      "/home/ngo/anaconda3/lib/python3.12/site-packages/whisper/transcribe.py:126: UserWarning: FP16 is not supported on CPU; using FP32 instead\n",
      "  warnings.warn(\"FP16 is not supported on CPU; using FP32 instead\")\n"
     ]
    },
    {
     "name": "stdout",
     "output_type": "stream",
     "text": [
      "reference_text: ai đó bị thương\n",
      "predicted_text: ai đó bị thương\n",
      "Processing: FPTOpenSpeechData_Set001_V0.1_000672.mp3\n"
     ]
    },
    {
     "name": "stderr",
     "output_type": "stream",
     "text": [
      "/home/ngo/anaconda3/lib/python3.12/site-packages/whisper/transcribe.py:126: UserWarning: FP16 is not supported on CPU; using FP32 instead\n",
      "  warnings.warn(\"FP16 is not supported on CPU; using FP32 instead\")\n"
     ]
    },
    {
     "name": "stdout",
     "output_type": "stream",
     "text": [
      "reference_text: những dự án này đã bị hoãn vô thời hạn không những vậy hãng xe nhật cũng dừng phát triển động cơ hiện chỉ có hệ thống động cầu trước cạnh tranh với xe mũi dài\n",
      "predicted_text: những dự án này đã bị hoãn vô thời hạn, không những vậy, hãng xe nhật cũng dừng phát triển động cơ, hiện chỉ có hệ thống động cầu trước cạnh tranh với xe mũi dài.\n",
      "Processing: FPTOpenSpeechData_Set001_V0.1_000673.mp3\n"
     ]
    },
    {
     "name": "stderr",
     "output_type": "stream",
     "text": [
      "/home/ngo/anaconda3/lib/python3.12/site-packages/whisper/transcribe.py:126: UserWarning: FP16 is not supported on CPU; using FP32 instead\n",
      "  warnings.warn(\"FP16 is not supported on CPU; using FP32 instead\")\n"
     ]
    },
    {
     "name": "stdout",
     "output_type": "stream",
     "text": [
      "reference_text: xin lỗi anh có thể vẽ bản đồ sơ lược cho tôi không\n",
      "predicted_text: xin lỗi, anh có thể vẽ bản đồ sưu được cho tôi không?\n",
      "Processing: FPTOpenSpeechData_Set001_V0.1_000674.mp3\n"
     ]
    },
    {
     "name": "stderr",
     "output_type": "stream",
     "text": [
      "/home/ngo/anaconda3/lib/python3.12/site-packages/whisper/transcribe.py:126: UserWarning: FP16 is not supported on CPU; using FP32 instead\n",
      "  warnings.warn(\"FP16 is not supported on CPU; using FP32 instead\")\n"
     ]
    },
    {
     "name": "stdout",
     "output_type": "stream",
     "text": [
      "reference_text: tôi muốn thuê một đôi giày trượt\n",
      "predicted_text: tôi muốn thuê một đôi giày trượt\n",
      "Processing: FPTOpenSpeechData_Set001_V0.1_000675.mp3\n"
     ]
    },
    {
     "name": "stderr",
     "output_type": "stream",
     "text": [
      "/home/ngo/anaconda3/lib/python3.12/site-packages/whisper/transcribe.py:126: UserWarning: FP16 is not supported on CPU; using FP32 instead\n",
      "  warnings.warn(\"FP16 is not supported on CPU; using FP32 instead\")\n"
     ]
    },
    {
     "name": "stdout",
     "output_type": "stream",
     "text": [
      "reference_text: không đáng đề cập đến\n",
      "predicted_text: không đáng đề cập đến\n",
      "Processing: FPTOpenSpeechData_Set001_V0.1_000676.mp3\n"
     ]
    },
    {
     "name": "stderr",
     "output_type": "stream",
     "text": [
      "/home/ngo/anaconda3/lib/python3.12/site-packages/whisper/transcribe.py:126: UserWarning: FP16 is not supported on CPU; using FP32 instead\n",
      "  warnings.warn(\"FP16 is not supported on CPU; using FP32 instead\")\n"
     ]
    },
    {
     "name": "stdout",
     "output_type": "stream",
     "text": [
      "reference_text: kỳ tích có thể để lại quyền lợi bởi một nhà độc tài dầu mỏ nhưng cũng có thể giúp thể chế hóa những phong trào chống mỹ diễn ra tại khu vực trung đông\n",
      "predicted_text: chí tích có thể để lại quyền nợ bởi một nhà độc tài giàu mỏ nhưng cũng có thể giúp thể chế hóa những phong trào chống mỹ diễn ra tại khu vực trung đông.\n",
      "Processing: FPTOpenSpeechData_Set001_V0.1_000677.mp3\n"
     ]
    },
    {
     "name": "stderr",
     "output_type": "stream",
     "text": [
      "/home/ngo/anaconda3/lib/python3.12/site-packages/whisper/transcribe.py:126: UserWarning: FP16 is not supported on CPU; using FP32 instead\n",
      "  warnings.warn(\"FP16 is not supported on CPU; using FP32 instead\")\n"
     ]
    },
    {
     "name": "stdout",
     "output_type": "stream",
     "text": [
      "reference_text: những bộ não chỉ giảm hoạt động về đêm sẽ suy nghĩ hiệu quả triển vọng và dẫn đầu cả đội\n",
      "predicted_text: những bộ não chỉ giảm hoạt động về đêm sẽ suy nghĩ hiệu quả, truyền vọng và dẫn đầu cả đội\n",
      "Processing: FPTOpenSpeechData_Set001_V0.1_000678.mp3\n"
     ]
    },
    {
     "name": "stderr",
     "output_type": "stream",
     "text": [
      "/home/ngo/anaconda3/lib/python3.12/site-packages/whisper/transcribe.py:126: UserWarning: FP16 is not supported on CPU; using FP32 instead\n",
      "  warnings.warn(\"FP16 is not supported on CPU; using FP32 instead\")\n"
     ]
    },
    {
     "name": "stdout",
     "output_type": "stream",
     "text": [
      "reference_text: tắt điều hòa phòng ăn\n",
      "predicted_text: tắt điều hòa phòng an\n",
      "Processing: FPTOpenSpeechData_Set001_V0.1_000679.mp3\n"
     ]
    },
    {
     "name": "stderr",
     "output_type": "stream",
     "text": [
      "/home/ngo/anaconda3/lib/python3.12/site-packages/whisper/transcribe.py:126: UserWarning: FP16 is not supported on CPU; using FP32 instead\n",
      "  warnings.warn(\"FP16 is not supported on CPU; using FP32 instead\")\n"
     ]
    },
    {
     "name": "stdout",
     "output_type": "stream",
     "text": [
      "reference_text: anh có thể giảm giá không\n",
      "predicted_text: anh có thể giảm giá không?\n",
      "Processing: FPTOpenSpeechData_Set001_V0.1_000680.mp3\n"
     ]
    },
    {
     "name": "stderr",
     "output_type": "stream",
     "text": [
      "/home/ngo/anaconda3/lib/python3.12/site-packages/whisper/transcribe.py:126: UserWarning: FP16 is not supported on CPU; using FP32 instead\n",
      "  warnings.warn(\"FP16 is not supported on CPU; using FP32 instead\")\n"
     ]
    },
    {
     "name": "stdout",
     "output_type": "stream",
     "text": [
      "reference_text: xin lỗi tôi phải đi vệ sinh\n",
      "predicted_text: trên lời tôi khải đi địa chinh\n",
      "Processing: FPTOpenSpeechData_Set001_V0.1_000681.mp3\n"
     ]
    },
    {
     "name": "stderr",
     "output_type": "stream",
     "text": [
      "/home/ngo/anaconda3/lib/python3.12/site-packages/whisper/transcribe.py:126: UserWarning: FP16 is not supported on CPU; using FP32 instead\n",
      "  warnings.warn(\"FP16 is not supported on CPU; using FP32 instead\")\n"
     ]
    },
    {
     "name": "stdout",
     "output_type": "stream",
     "text": [
      "reference_text: những khi mùa khô kéo dài mỗi nhà vẫn phải dùng nước nhiễm phèn sau khi được lắng lọc bằng những biện pháp khác nhau khi thì dùng quần áo cũ lúc là phèn vẫn được dùng khử đục cát sỏi miễn là có nước để dùng\n",
      "predicted_text: những khi mùa khô kéo dài, mỗi nhà vẫn phải dùng nước nhiễm phèn. sau khi được lắng lọc bằng dung sáp khác nhau, khi thì dùng quần áo cũ, lúc là phèn vẫn được dùng sửa đục khắp sỏi, miễn là có nước để dùng.\n",
      "Processing: FPTOpenSpeechData_Set001_V0.1_000682.mp3\n"
     ]
    },
    {
     "name": "stderr",
     "output_type": "stream",
     "text": [
      "/home/ngo/anaconda3/lib/python3.12/site-packages/whisper/transcribe.py:126: UserWarning: FP16 is not supported on CPU; using FP32 instead\n",
      "  warnings.warn(\"FP16 is not supported on CPU; using FP32 instead\")\n"
     ]
    },
    {
     "name": "stdout",
     "output_type": "stream",
     "text": [
      "reference_text: tôi có thể ở lại ba đêm không\n",
      "predicted_text: tôi có thể ở lại 3 đêm không?\n",
      "Processing: FPTOpenSpeechData_Set001_V0.1_000683.mp3\n"
     ]
    },
    {
     "name": "stderr",
     "output_type": "stream",
     "text": [
      "/home/ngo/anaconda3/lib/python3.12/site-packages/whisper/transcribe.py:126: UserWarning: FP16 is not supported on CPU; using FP32 instead\n",
      "  warnings.warn(\"FP16 is not supported on CPU; using FP32 instead\")\n"
     ]
    },
    {
     "name": "stdout",
     "output_type": "stream",
     "text": [
      "reference_text: cô có thể lệ lau chiếc bàn này được không\n",
      "predicted_text: cô có thể để nói chuyện ba này được không?\n",
      "Processing: FPTOpenSpeechData_Set001_V0.1_000684.mp3\n"
     ]
    },
    {
     "name": "stderr",
     "output_type": "stream",
     "text": [
      "/home/ngo/anaconda3/lib/python3.12/site-packages/whisper/transcribe.py:126: UserWarning: FP16 is not supported on CPU; using FP32 instead\n",
      "  warnings.warn(\"FP16 is not supported on CPU; using FP32 instead\")\n"
     ]
    },
    {
     "name": "stdout",
     "output_type": "stream",
     "text": [
      "reference_text: không cô ta ít khi ghé thư viện\n",
      "predicted_text: không, cố tay thi ghẹ thi huyền\n",
      "Processing: FPTOpenSpeechData_Set001_V0.1_000685.mp3\n"
     ]
    },
    {
     "name": "stderr",
     "output_type": "stream",
     "text": [
      "/home/ngo/anaconda3/lib/python3.12/site-packages/whisper/transcribe.py:126: UserWarning: FP16 is not supported on CPU; using FP32 instead\n",
      "  warnings.warn(\"FP16 is not supported on CPU; using FP32 instead\")\n"
     ]
    },
    {
     "name": "stdout",
     "output_type": "stream",
     "text": [
      "reference_text: hiện tượng này sẽ bắt đầu tại nam á rồi dần được thấy tại hầu hết các nước trong đó có việt nam\n",
      "predicted_text: hiện tượng này sẽ bắt đầu tại nam á, rồi dần được thấy tại hầu hết các nước, trong đó có việt nam.\n",
      "Processing: FPTOpenSpeechData_Set001_V0.1_000686.mp3\n"
     ]
    },
    {
     "name": "stderr",
     "output_type": "stream",
     "text": [
      "/home/ngo/anaconda3/lib/python3.12/site-packages/whisper/transcribe.py:126: UserWarning: FP16 is not supported on CPU; using FP32 instead\n",
      "  warnings.warn(\"FP16 is not supported on CPU; using FP32 instead\")\n"
     ]
    },
    {
     "name": "stdout",
     "output_type": "stream",
     "text": [
      "reference_text: ba mươi lăm mm phim màu âm bản ba mươi tấm ạ\n",
      "predicted_text: 35mm thêm màu âm bản 30 đó mà\n",
      "Processing: FPTOpenSpeechData_Set001_V0.1_000687.mp3\n"
     ]
    },
    {
     "name": "stderr",
     "output_type": "stream",
     "text": [
      "/home/ngo/anaconda3/lib/python3.12/site-packages/whisper/transcribe.py:126: UserWarning: FP16 is not supported on CPU; using FP32 instead\n",
      "  warnings.warn(\"FP16 is not supported on CPU; using FP32 instead\")\n"
     ]
    },
    {
     "name": "stdout",
     "output_type": "stream",
     "text": [
      "reference_text: anh có thể giải thích tình huống này không\n",
      "predicted_text: anh có thể giải thích tình huống này không?\n",
      "Processing: FPTOpenSpeechData_Set001_V0.1_000688.mp3\n"
     ]
    },
    {
     "name": "stderr",
     "output_type": "stream",
     "text": [
      "/home/ngo/anaconda3/lib/python3.12/site-packages/whisper/transcribe.py:126: UserWarning: FP16 is not supported on CPU; using FP32 instead\n",
      "  warnings.warn(\"FP16 is not supported on CPU; using FP32 instead\")\n"
     ]
    },
    {
     "name": "stdout",
     "output_type": "stream",
     "text": [
      "reference_text: trưởng phòng hành chính tổ chức nhà trường\n",
      "predicted_text: trưởng phòng hành chính tổ chức nhà trường.\n",
      "Processing: FPTOpenSpeechData_Set001_V0.1_000689.mp3\n"
     ]
    },
    {
     "name": "stderr",
     "output_type": "stream",
     "text": [
      "/home/ngo/anaconda3/lib/python3.12/site-packages/whisper/transcribe.py:126: UserWarning: FP16 is not supported on CPU; using FP32 instead\n",
      "  warnings.warn(\"FP16 is not supported on CPU; using FP32 instead\")\n"
     ]
    },
    {
     "name": "stdout",
     "output_type": "stream",
     "text": [
      "reference_text: một quả lựu đạn được tung ra đúng lúc\n",
      "predicted_text: một quả lụ đạn được tung ra đúng lúc.\n",
      "Processing: FPTOpenSpeechData_Set001_V0.1_000690.mp3\n"
     ]
    },
    {
     "name": "stderr",
     "output_type": "stream",
     "text": [
      "/home/ngo/anaconda3/lib/python3.12/site-packages/whisper/transcribe.py:126: UserWarning: FP16 is not supported on CPU; using FP32 instead\n",
      "  warnings.warn(\"FP16 is not supported on CPU; using FP32 instead\")\n"
     ]
    },
    {
     "name": "stdout",
     "output_type": "stream",
     "text": [
      "reference_text: trông anh nhợt nhạt quá\n",
      "predicted_text: trông anh nhạt nhạt quá\n",
      "Processing: FPTOpenSpeechData_Set001_V0.1_000691.mp3\n"
     ]
    },
    {
     "name": "stderr",
     "output_type": "stream",
     "text": [
      "/home/ngo/anaconda3/lib/python3.12/site-packages/whisper/transcribe.py:126: UserWarning: FP16 is not supported on CPU; using FP32 instead\n",
      "  warnings.warn(\"FP16 is not supported on CPU; using FP32 instead\")\n"
     ]
    },
    {
     "name": "stdout",
     "output_type": "stream",
     "text": [
      "reference_text: này hơn người ta chớ\n",
      "predicted_text: này hơn người ta chớ\n",
      "Processing: FPTOpenSpeechData_Set001_V0.1_000692.mp3\n"
     ]
    },
    {
     "name": "stderr",
     "output_type": "stream",
     "text": [
      "/home/ngo/anaconda3/lib/python3.12/site-packages/whisper/transcribe.py:126: UserWarning: FP16 is not supported on CPU; using FP32 instead\n",
      "  warnings.warn(\"FP16 is not supported on CPU; using FP32 instead\")\n"
     ]
    },
    {
     "name": "stdout",
     "output_type": "stream",
     "text": [
      "reference_text: có xe buýt máy lạnh không\n",
      "predicted_text: có xe tuyết máy lạnh không?\n",
      "Processing: FPTOpenSpeechData_Set001_V0.1_000693.mp3\n"
     ]
    },
    {
     "name": "stderr",
     "output_type": "stream",
     "text": [
      "/home/ngo/anaconda3/lib/python3.12/site-packages/whisper/transcribe.py:126: UserWarning: FP16 is not supported on CPU; using FP32 instead\n",
      "  warnings.warn(\"FP16 is not supported on CPU; using FP32 instead\")\n"
     ]
    },
    {
     "name": "stdout",
     "output_type": "stream",
     "text": [
      "reference_text: ông toàn chơi phổng tay trên\n",
      "predicted_text: ông toàn chơi phỏng tay trên\n",
      "Processing: FPTOpenSpeechData_Set001_V0.1_000694.mp3\n"
     ]
    },
    {
     "name": "stderr",
     "output_type": "stream",
     "text": [
      "/home/ngo/anaconda3/lib/python3.12/site-packages/whisper/transcribe.py:126: UserWarning: FP16 is not supported on CPU; using FP32 instead\n",
      "  warnings.warn(\"FP16 is not supported on CPU; using FP32 instead\")\n"
     ]
    },
    {
     "name": "stdout",
     "output_type": "stream",
     "text": [
      "reference_text: khai báo điện tử nhanh chóng hơn\n",
      "predicted_text: khai báo điện tử nhanh chóng hơn\n",
      "Processing: FPTOpenSpeechData_Set001_V0.1_000695.mp3\n"
     ]
    },
    {
     "name": "stderr",
     "output_type": "stream",
     "text": [
      "/home/ngo/anaconda3/lib/python3.12/site-packages/whisper/transcribe.py:126: UserWarning: FP16 is not supported on CPU; using FP32 instead\n",
      "  warnings.warn(\"FP16 is not supported on CPU; using FP32 instead\")\n"
     ]
    },
    {
     "name": "stdout",
     "output_type": "stream",
     "text": [
      "reference_text: hai anh chị này cặp với nhau cuối tuần nào cũng mở tiệc họ gọi bạn bè về ăn uống nhảy nhót ồn ào quá mức\n",
      "predicted_text: hai anh chị này cặp với nhau cuối tuần nào cũng mượn tiệc. họ gọi bạn bè về ăn uống nhảy nhót, đồ nào khá mức.\n",
      "Processing: FPTOpenSpeechData_Set001_V0.1_000696.mp3\n"
     ]
    },
    {
     "name": "stderr",
     "output_type": "stream",
     "text": [
      "/home/ngo/anaconda3/lib/python3.12/site-packages/whisper/transcribe.py:126: UserWarning: FP16 is not supported on CPU; using FP32 instead\n",
      "  warnings.warn(\"FP16 is not supported on CPU; using FP32 instead\")\n"
     ]
    },
    {
     "name": "stdout",
     "output_type": "stream",
     "text": [
      "reference_text: -n cô ấy sắp bơm nó vào tĩnh mạch anh\n",
      "predicted_text: cô ấy sắp bơm nó vào tỉnh mặt anh\n",
      "Processing: FPTOpenSpeechData_Set001_V0.1_000697.mp3\n"
     ]
    },
    {
     "name": "stderr",
     "output_type": "stream",
     "text": [
      "/home/ngo/anaconda3/lib/python3.12/site-packages/whisper/transcribe.py:126: UserWarning: FP16 is not supported on CPU; using FP32 instead\n",
      "  warnings.warn(\"FP16 is not supported on CPU; using FP32 instead\")\n"
     ]
    },
    {
     "name": "stdout",
     "output_type": "stream",
     "text": [
      "reference_text: có lẽ quý vị cần thải ra\n",
      "predicted_text: có lẽ quý vị cần thẻ da\n",
      "Processing: FPTOpenSpeechData_Set001_V0.1_000698.mp3\n"
     ]
    },
    {
     "name": "stderr",
     "output_type": "stream",
     "text": [
      "/home/ngo/anaconda3/lib/python3.12/site-packages/whisper/transcribe.py:126: UserWarning: FP16 is not supported on CPU; using FP32 instead\n",
      "  warnings.warn(\"FP16 is not supported on CPU; using FP32 instead\")\n"
     ]
    },
    {
     "name": "stdout",
     "output_type": "stream",
     "text": [
      "reference_text: xin lỗi nhưng hình như nó quá nhỏ\n",
      "predicted_text: xin lỗi, nhưng hình như nó quá nhỏ\n",
      "Processing: FPTOpenSpeechData_Set001_V0.1_000699.mp3\n"
     ]
    },
    {
     "name": "stderr",
     "output_type": "stream",
     "text": [
      "/home/ngo/anaconda3/lib/python3.12/site-packages/whisper/transcribe.py:126: UserWarning: FP16 is not supported on CPU; using FP32 instead\n",
      "  warnings.warn(\"FP16 is not supported on CPU; using FP32 instead\")\n"
     ]
    },
    {
     "name": "stdout",
     "output_type": "stream",
     "text": [
      "reference_text: tôi sẽ xác nhận những gì đã nói với anh\n",
      "predicted_text: tôi sẽ xác nhận những gì đã nói về anh\n",
      "Processing: FPTOpenSpeechData_Set001_V0.1_000700.mp3\n"
     ]
    },
    {
     "name": "stderr",
     "output_type": "stream",
     "text": [
      "/home/ngo/anaconda3/lib/python3.12/site-packages/whisper/transcribe.py:126: UserWarning: FP16 is not supported on CPU; using FP32 instead\n",
      "  warnings.warn(\"FP16 is not supported on CPU; using FP32 instead\")\n"
     ]
    },
    {
     "name": "stdout",
     "output_type": "stream",
     "text": [
      "reference_text: vì cái oanh từ khi mở cửa hàng trên phố thái hà\n",
      "predicted_text: vì cái oanh, từ khi mở cửa hàng trên phố thái hà\n",
      "Processing: FPTOpenSpeechData_Set001_V0.1_000701.mp3\n"
     ]
    },
    {
     "name": "stderr",
     "output_type": "stream",
     "text": [
      "/home/ngo/anaconda3/lib/python3.12/site-packages/whisper/transcribe.py:126: UserWarning: FP16 is not supported on CPU; using FP32 instead\n",
      "  warnings.warn(\"FP16 is not supported on CPU; using FP32 instead\")\n"
     ]
    },
    {
     "name": "stdout",
     "output_type": "stream",
     "text": [
      "reference_text: chúng tôi có thể giải thích vấn đề như sau\n",
      "predicted_text: chúng tôi có thể giải thích vấn đề như sau\n",
      "Processing: FPTOpenSpeechData_Set001_V0.1_000702.mp3\n"
     ]
    },
    {
     "name": "stderr",
     "output_type": "stream",
     "text": [
      "/home/ngo/anaconda3/lib/python3.12/site-packages/whisper/transcribe.py:126: UserWarning: FP16 is not supported on CPU; using FP32 instead\n",
      "  warnings.warn(\"FP16 is not supported on CPU; using FP32 instead\")\n"
     ]
    },
    {
     "name": "stdout",
     "output_type": "stream",
     "text": [
      "reference_text: bạn đi đâu mà vội thế\n",
      "predicted_text: bạn đi về đâu mà vội thế?\n",
      "Processing: FPTOpenSpeechData_Set001_V0.1_000703.mp3\n"
     ]
    },
    {
     "name": "stderr",
     "output_type": "stream",
     "text": [
      "/home/ngo/anaconda3/lib/python3.12/site-packages/whisper/transcribe.py:126: UserWarning: FP16 is not supported on CPU; using FP32 instead\n",
      "  warnings.warn(\"FP16 is not supported on CPU; using FP32 instead\")\n"
     ]
    },
    {
     "name": "stdout",
     "output_type": "stream",
     "text": [
      "reference_text: vẫn chưa rõ ông có đưa ra tuyên bố ủng hộ ứng viên nào trong thời gian tới hay không\n",
      "predicted_text: vẫn như do ông có đưa ra tiêu cử ủng hộ ủng viên ra trong tình hành tiền không?\n",
      "Processing: FPTOpenSpeechData_Set001_V0.1_000704.mp3\n"
     ]
    },
    {
     "name": "stderr",
     "output_type": "stream",
     "text": [
      "/home/ngo/anaconda3/lib/python3.12/site-packages/whisper/transcribe.py:126: UserWarning: FP16 is not supported on CPU; using FP32 instead\n",
      "  warnings.warn(\"FP16 is not supported on CPU; using FP32 instead\")\n"
     ]
    },
    {
     "name": "stdout",
     "output_type": "stream",
     "text": [
      "reference_text: nhiều hơn những trẻ khác\n",
      "predicted_text: nhiều hơn những trẻ khác.\n",
      "Processing: FPTOpenSpeechData_Set001_V0.1_000705.mp3\n"
     ]
    },
    {
     "name": "stderr",
     "output_type": "stream",
     "text": [
      "/home/ngo/anaconda3/lib/python3.12/site-packages/whisper/transcribe.py:126: UserWarning: FP16 is not supported on CPU; using FP32 instead\n",
      "  warnings.warn(\"FP16 is not supported on CPU; using FP32 instead\")\n"
     ]
    },
    {
     "name": "stdout",
     "output_type": "stream",
     "text": [
      "reference_text: như đã đồng ý hàng sẽ được giao cho anh vào sáng thứ hai\n",
      "predicted_text: như đã đồng ý, hàng sẽ được giao cho anh vào sáng thứ hai.\n",
      "Processing: FPTOpenSpeechData_Set001_V0.1_000706.mp3\n"
     ]
    },
    {
     "name": "stderr",
     "output_type": "stream",
     "text": [
      "/home/ngo/anaconda3/lib/python3.12/site-packages/whisper/transcribe.py:126: UserWarning: FP16 is not supported on CPU; using FP32 instead\n",
      "  warnings.warn(\"FP16 is not supported on CPU; using FP32 instead\")\n"
     ]
    },
    {
     "name": "stdout",
     "output_type": "stream",
     "text": [
      "reference_text: chị bây giờ đã nhẹ người\n",
      "predicted_text: chị bây giờ đã nhẹ người\n",
      "Processing: FPTOpenSpeechData_Set001_V0.1_000707.mp3\n"
     ]
    },
    {
     "name": "stderr",
     "output_type": "stream",
     "text": [
      "/home/ngo/anaconda3/lib/python3.12/site-packages/whisper/transcribe.py:126: UserWarning: FP16 is not supported on CPU; using FP32 instead\n",
      "  warnings.warn(\"FP16 is not supported on CPU; using FP32 instead\")\n"
     ]
    },
    {
     "name": "stdout",
     "output_type": "stream",
     "text": [
      "reference_text: lúc gặp ngọc nổ súng làm thắng chết tại chỗ\n",
      "predicted_text: nhưng mà ngọc ngủ xuống lần thằng chết tại chỗ\n",
      "Processing: FPTOpenSpeechData_Set001_V0.1_000708.mp3\n"
     ]
    },
    {
     "name": "stderr",
     "output_type": "stream",
     "text": [
      "/home/ngo/anaconda3/lib/python3.12/site-packages/whisper/transcribe.py:126: UserWarning: FP16 is not supported on CPU; using FP32 instead\n",
      "  warnings.warn(\"FP16 is not supported on CPU; using FP32 instead\")\n"
     ]
    },
    {
     "name": "stdout",
     "output_type": "stream",
     "text": [
      "reference_text: ôi khác nhiều chứ\n",
      "predicted_text: ôi khát dấu chứ\n",
      "Processing: FPTOpenSpeechData_Set001_V0.1_000709.mp3\n"
     ]
    },
    {
     "name": "stderr",
     "output_type": "stream",
     "text": [
      "/home/ngo/anaconda3/lib/python3.12/site-packages/whisper/transcribe.py:126: UserWarning: FP16 is not supported on CPU; using FP32 instead\n",
      "  warnings.warn(\"FP16 is not supported on CPU; using FP32 instead\")\n"
     ]
    },
    {
     "name": "stdout",
     "output_type": "stream",
     "text": [
      "reference_text: đây có phải xe lửa đi chiang mai không\n",
      "predicted_text: đây có phải xe lửa đi trang mai không?\n",
      "Processing: FPTOpenSpeechData_Set001_V0.1_000710.mp3\n"
     ]
    },
    {
     "name": "stderr",
     "output_type": "stream",
     "text": [
      "/home/ngo/anaconda3/lib/python3.12/site-packages/whisper/transcribe.py:126: UserWarning: FP16 is not supported on CPU; using FP32 instead\n",
      "  warnings.warn(\"FP16 is not supported on CPU; using FP32 instead\")\n"
     ]
    },
    {
     "name": "stdout",
     "output_type": "stream",
     "text": [
      "reference_text: khoai tây đánh nhừ và cải chua đức\n",
      "predicted_text: khoai tây đã nhừ và cải chua đứt\n",
      "Processing: FPTOpenSpeechData_Set001_V0.1_000711.mp3\n"
     ]
    },
    {
     "name": "stderr",
     "output_type": "stream",
     "text": [
      "/home/ngo/anaconda3/lib/python3.12/site-packages/whisper/transcribe.py:126: UserWarning: FP16 is not supported on CPU; using FP32 instead\n",
      "  warnings.warn(\"FP16 is not supported on CPU; using FP32 instead\")\n"
     ]
    },
    {
     "name": "stdout",
     "output_type": "stream",
     "text": [
      "reference_text: mồ hôi trên cơ thể người cũng khó khô đi\n",
      "predicted_text: mồ hôi trên cơ thể người cũng khó khô đi\n",
      "Processing: FPTOpenSpeechData_Set001_V0.1_000712.mp3\n"
     ]
    },
    {
     "name": "stderr",
     "output_type": "stream",
     "text": [
      "/home/ngo/anaconda3/lib/python3.12/site-packages/whisper/transcribe.py:126: UserWarning: FP16 is not supported on CPU; using FP32 instead\n",
      "  warnings.warn(\"FP16 is not supported on CPU; using FP32 instead\")\n"
     ]
    },
    {
     "name": "stdout",
     "output_type": "stream",
     "text": [
      "reference_text: bé yêu và cún xinh\n",
      "predicted_text: hãy subscribe cho kênh ghiền mì gõ để không bỏ lỡ những video hấp dẫn\n",
      "Processing: FPTOpenSpeechData_Set001_V0.1_000713.mp3\n"
     ]
    },
    {
     "name": "stderr",
     "output_type": "stream",
     "text": [
      "/home/ngo/anaconda3/lib/python3.12/site-packages/whisper/transcribe.py:126: UserWarning: FP16 is not supported on CPU; using FP32 instead\n",
      "  warnings.warn(\"FP16 is not supported on CPU; using FP32 instead\")\n"
     ]
    },
    {
     "name": "stdout",
     "output_type": "stream",
     "text": [
      "reference_text: có siêu thị ở góc đường này\n",
      "predicted_text: có triêu thị ở góc đường này\n",
      "Processing: FPTOpenSpeechData_Set001_V0.1_000714.mp3\n"
     ]
    },
    {
     "name": "stderr",
     "output_type": "stream",
     "text": [
      "/home/ngo/anaconda3/lib/python3.12/site-packages/whisper/transcribe.py:126: UserWarning: FP16 is not supported on CPU; using FP32 instead\n",
      "  warnings.warn(\"FP16 is not supported on CPU; using FP32 instead\")\n"
     ]
    },
    {
     "name": "stdout",
     "output_type": "stream",
     "text": [
      "reference_text: ngắt ti vi\n",
      "predicted_text: nhắc tv\n",
      "Processing: FPTOpenSpeechData_Set001_V0.1_000715.mp3\n"
     ]
    },
    {
     "name": "stderr",
     "output_type": "stream",
     "text": [
      "/home/ngo/anaconda3/lib/python3.12/site-packages/whisper/transcribe.py:126: UserWarning: FP16 is not supported on CPU; using FP32 instead\n",
      "  warnings.warn(\"FP16 is not supported on CPU; using FP32 instead\")\n"
     ]
    },
    {
     "name": "stdout",
     "output_type": "stream",
     "text": [
      "reference_text: món ăn của địa phương nào đặc biệt\n",
      "predicted_text: món ăn của địa phương nào đặc biệt?\n",
      "Processing: FPTOpenSpeechData_Set001_V0.1_000716.mp3\n"
     ]
    },
    {
     "name": "stderr",
     "output_type": "stream",
     "text": [
      "/home/ngo/anaconda3/lib/python3.12/site-packages/whisper/transcribe.py:126: UserWarning: FP16 is not supported on CPU; using FP32 instead\n",
      "  warnings.warn(\"FP16 is not supported on CPU; using FP32 instead\")\n"
     ]
    },
    {
     "name": "stdout",
     "output_type": "stream",
     "text": [
      "reference_text: công an hà nội đã cạo sửa hồ sơ\n",
      "predicted_text: công an hà nội đã cạo sửa hồ sơ\n",
      "Processing: FPTOpenSpeechData_Set001_V0.1_000717.mp3\n"
     ]
    },
    {
     "name": "stderr",
     "output_type": "stream",
     "text": [
      "/home/ngo/anaconda3/lib/python3.12/site-packages/whisper/transcribe.py:126: UserWarning: FP16 is not supported on CPU; using FP32 instead\n",
      "  warnings.warn(\"FP16 is not supported on CPU; using FP32 instead\")\n"
     ]
    },
    {
     "name": "stdout",
     "output_type": "stream",
     "text": [
      "reference_text: khi đối tác đầu tư tiền bạc thì mình phải đầu tư công sức\n",
      "predicted_text: khi đối tác đầu tư tiền bạc thì mình phải đầu tư công sức\n",
      "Processing: FPTOpenSpeechData_Set001_V0.1_000718.mp3\n"
     ]
    },
    {
     "name": "stderr",
     "output_type": "stream",
     "text": [
      "/home/ngo/anaconda3/lib/python3.12/site-packages/whisper/transcribe.py:126: UserWarning: FP16 is not supported on CPU; using FP32 instead\n",
      "  warnings.warn(\"FP16 is not supported on CPU; using FP32 instead\")\n"
     ]
    },
    {
     "name": "stdout",
     "output_type": "stream",
     "text": [
      "reference_text: bạn không biết lái đúng không\n",
      "predicted_text: bạn không biết lại đúng không?\n",
      "Processing: FPTOpenSpeechData_Set001_V0.1_000719.mp3\n"
     ]
    },
    {
     "name": "stderr",
     "output_type": "stream",
     "text": [
      "/home/ngo/anaconda3/lib/python3.12/site-packages/whisper/transcribe.py:126: UserWarning: FP16 is not supported on CPU; using FP32 instead\n",
      "  warnings.warn(\"FP16 is not supported on CPU; using FP32 instead\")\n"
     ]
    },
    {
     "name": "stdout",
     "output_type": "stream",
     "text": [
      "reference_text: nói khó là khó vậy thôi nước ngoài quản lý được thì mình cũng quản lý được\n",
      "predicted_text: nói khó là khó vậy thôi, nước ngoài quản lý được thì mình cũng quản lý được\n",
      "Processing: FPTOpenSpeechData_Set001_V0.1_000720.mp3\n"
     ]
    },
    {
     "name": "stderr",
     "output_type": "stream",
     "text": [
      "/home/ngo/anaconda3/lib/python3.12/site-packages/whisper/transcribe.py:126: UserWarning: FP16 is not supported on CPU; using FP32 instead\n",
      "  warnings.warn(\"FP16 is not supported on CPU; using FP32 instead\")\n"
     ]
    },
    {
     "name": "stdout",
     "output_type": "stream",
     "text": [
      "reference_text: tối nay có đông không\n",
      "predicted_text: tối nay có đông không?\n",
      "Processing: FPTOpenSpeechData_Set001_V0.1_000721.mp3\n"
     ]
    },
    {
     "name": "stderr",
     "output_type": "stream",
     "text": [
      "/home/ngo/anaconda3/lib/python3.12/site-packages/whisper/transcribe.py:126: UserWarning: FP16 is not supported on CPU; using FP32 instead\n",
      "  warnings.warn(\"FP16 is not supported on CPU; using FP32 instead\")\n"
     ]
    },
    {
     "name": "stdout",
     "output_type": "stream",
     "text": [
      "reference_text: nướu anh ta đau khi anh ta dùng ngón tay ấn vào\n",
      "predicted_text: nhớ anh ta đau khi anh ta dùng ngón tay ấn đờ\n",
      "Processing: FPTOpenSpeechData_Set001_V0.1_000722.mp3\n"
     ]
    },
    {
     "name": "stderr",
     "output_type": "stream",
     "text": [
      "/home/ngo/anaconda3/lib/python3.12/site-packages/whisper/transcribe.py:126: UserWarning: FP16 is not supported on CPU; using FP32 instead\n",
      "  warnings.warn(\"FP16 is not supported on CPU; using FP32 instead\")\n"
     ]
    },
    {
     "name": "stdout",
     "output_type": "stream",
     "text": [
      "reference_text: chức danh chính thức của quí vị là gì\n",
      "predicted_text: chức danh chính thức của quý vị là gì?\n",
      "Processing: FPTOpenSpeechData_Set001_V0.1_000723.mp3\n"
     ]
    },
    {
     "name": "stderr",
     "output_type": "stream",
     "text": [
      "/home/ngo/anaconda3/lib/python3.12/site-packages/whisper/transcribe.py:126: UserWarning: FP16 is not supported on CPU; using FP32 instead\n",
      "  warnings.warn(\"FP16 is not supported on CPU; using FP32 instead\")\n"
     ]
    },
    {
     "name": "stdout",
     "output_type": "stream",
     "text": [
      "reference_text: anh muốn nó thế nào ý tôi là anh muốn bỏ gì vào trong hamburger của anh\n",
      "predicted_text: anh muốn nó thế nào? ý tôi là anh muốn bò gì vào trong hamburger của anh?\n",
      "Processing: FPTOpenSpeechData_Set001_V0.1_000724.mp3\n"
     ]
    },
    {
     "name": "stderr",
     "output_type": "stream",
     "text": [
      "/home/ngo/anaconda3/lib/python3.12/site-packages/whisper/transcribe.py:126: UserWarning: FP16 is not supported on CPU; using FP32 instead\n",
      "  warnings.warn(\"FP16 is not supported on CPU; using FP32 instead\")\n"
     ]
    },
    {
     "name": "stdout",
     "output_type": "stream",
     "text": [
      "reference_text: tôi nói được một chút tiếng ý\n",
      "predicted_text: tôi nói là có một chút tiền gây\n",
      "Processing: FPTOpenSpeechData_Set001_V0.1_000725.mp3\n"
     ]
    },
    {
     "name": "stderr",
     "output_type": "stream",
     "text": [
      "/home/ngo/anaconda3/lib/python3.12/site-packages/whisper/transcribe.py:126: UserWarning: FP16 is not supported on CPU; using FP32 instead\n",
      "  warnings.warn(\"FP16 is not supported on CPU; using FP32 instead\")\n"
     ]
    },
    {
     "name": "stdout",
     "output_type": "stream",
     "text": [
      "reference_text: chồng tôi bị đau tim\n",
      "predicted_text: chồng tôi bị đau tim\n",
      "Processing: FPTOpenSpeechData_Set001_V0.1_000726.mp3\n"
     ]
    },
    {
     "name": "stderr",
     "output_type": "stream",
     "text": [
      "/home/ngo/anaconda3/lib/python3.12/site-packages/whisper/transcribe.py:126: UserWarning: FP16 is not supported on CPU; using FP32 instead\n",
      "  warnings.warn(\"FP16 is not supported on CPU; using FP32 instead\")\n"
     ]
    },
    {
     "name": "stdout",
     "output_type": "stream",
     "text": [
      "reference_text: cùng chuẩn và ngũ hai đối tượng khác chuyên làm nhiệm vụ đưa người sang trung quốc là nguyễn vũ hải và võ cảnh dũng cùng trú tại bắc giang cũng bị cảnh sát bắt\n",
      "predicted_text: cùng chuẩn và ngũ hai đối tượng khác chuyên làm nhiệm vụ đưa người sang trung quốc là nguyễn vũ hải và võ cảnh dũng cùng chú tại bắc giang cũng bị cảnh sát bắt.\n",
      "Processing: FPTOpenSpeechData_Set001_V0.1_000727.mp3\n"
     ]
    },
    {
     "name": "stderr",
     "output_type": "stream",
     "text": [
      "/home/ngo/anaconda3/lib/python3.12/site-packages/whisper/transcribe.py:126: UserWarning: FP16 is not supported on CPU; using FP32 instead\n",
      "  warnings.warn(\"FP16 is not supported on CPU; using FP32 instead\")\n"
     ]
    },
    {
     "name": "stdout",
     "output_type": "stream",
     "text": [
      "reference_text: ông lữ minh châu\n",
      "predicted_text: hãy subscribe cho kênh ghiền mì gõ để không bỏ lỡ những video hấp dẫn\n",
      "Processing: FPTOpenSpeechData_Set001_V0.1_000728.mp3\n"
     ]
    },
    {
     "name": "stderr",
     "output_type": "stream",
     "text": [
      "/home/ngo/anaconda3/lib/python3.12/site-packages/whisper/transcribe.py:126: UserWarning: FP16 is not supported on CPU; using FP32 instead\n",
      "  warnings.warn(\"FP16 is not supported on CPU; using FP32 instead\")\n"
     ]
    },
    {
     "name": "stdout",
     "output_type": "stream",
     "text": [
      "reference_text: tôi sẽ thử bánh pudding\n",
      "predicted_text: tôi sẽ thử bánh pudding\n",
      "Processing: FPTOpenSpeechData_Set001_V0.1_000729.mp3\n"
     ]
    },
    {
     "name": "stderr",
     "output_type": "stream",
     "text": [
      "/home/ngo/anaconda3/lib/python3.12/site-packages/whisper/transcribe.py:126: UserWarning: FP16 is not supported on CPU; using FP32 instead\n",
      "  warnings.warn(\"FP16 is not supported on CPU; using FP32 instead\")\n"
     ]
    },
    {
     "name": "stdout",
     "output_type": "stream",
     "text": [
      "reference_text: cái này không vừa anh có thể đổi nó lấy cái khác không\n",
      "predicted_text: cái này không vừa, anh có thể đổi nó lấy cái khác không?\n",
      "Processing: FPTOpenSpeechData_Set001_V0.1_000730.mp3\n"
     ]
    },
    {
     "name": "stderr",
     "output_type": "stream",
     "text": [
      "/home/ngo/anaconda3/lib/python3.12/site-packages/whisper/transcribe.py:126: UserWarning: FP16 is not supported on CPU; using FP32 instead\n",
      "  warnings.warn(\"FP16 is not supported on CPU; using FP32 instead\")\n"
     ]
    },
    {
     "name": "stdout",
     "output_type": "stream",
     "text": [
      "reference_text: bên chi bộ chưa có quyết định chính thức\n",
      "predicted_text: bên chi bộ chưa có quyết định chính thức.\n",
      "Processing: FPTOpenSpeechData_Set001_V0.1_000731.mp3\n"
     ]
    },
    {
     "name": "stderr",
     "output_type": "stream",
     "text": [
      "/home/ngo/anaconda3/lib/python3.12/site-packages/whisper/transcribe.py:126: UserWarning: FP16 is not supported on CPU; using FP32 instead\n",
      "  warnings.warn(\"FP16 is not supported on CPU; using FP32 instead\")\n"
     ]
    },
    {
     "name": "stdout",
     "output_type": "stream",
     "text": [
      "reference_text: hạn viện mỹ vừa ủng hộ một đạo luật trong đó kiểm soát chặt chẽ hơn nữa hoạt động chơi bạc trực tuyến\n",
      "predicted_text: hạ viện mỹ vừa ủng hộ một đạo luật trong đó kiểm soát chặt chẽ hơn nữa hoạt động cây bạc trực tuyến.\n",
      "Processing: FPTOpenSpeechData_Set001_V0.1_000732.mp3\n"
     ]
    },
    {
     "name": "stderr",
     "output_type": "stream",
     "text": [
      "/home/ngo/anaconda3/lib/python3.12/site-packages/whisper/transcribe.py:126: UserWarning: FP16 is not supported on CPU; using FP32 instead\n",
      "  warnings.warn(\"FP16 is not supported on CPU; using FP32 instead\")\n"
     ]
    },
    {
     "name": "stdout",
     "output_type": "stream",
     "text": [
      "reference_text: giấy phạt đây anh bị phạt hai mươi lăm ringgit\n",
      "predicted_text: giấy phạt đây, anh bị phạt 25 ringgit.\n",
      "Processing: FPTOpenSpeechData_Set001_V0.1_000733.mp3\n"
     ]
    },
    {
     "name": "stderr",
     "output_type": "stream",
     "text": [
      "/home/ngo/anaconda3/lib/python3.12/site-packages/whisper/transcribe.py:126: UserWarning: FP16 is not supported on CPU; using FP32 instead\n",
      "  warnings.warn(\"FP16 is not supported on CPU; using FP32 instead\")\n"
     ]
    },
    {
     "name": "stdout",
     "output_type": "stream",
     "text": [
      "reference_text: một số trường hợp góp vốn khác\n",
      "predicted_text: trường hợp góc bụng khác\n",
      "Processing: FPTOpenSpeechData_Set001_V0.1_000734.mp3\n"
     ]
    },
    {
     "name": "stderr",
     "output_type": "stream",
     "text": [
      "/home/ngo/anaconda3/lib/python3.12/site-packages/whisper/transcribe.py:126: UserWarning: FP16 is not supported on CPU; using FP32 instead\n",
      "  warnings.warn(\"FP16 is not supported on CPU; using FP32 instead\")\n"
     ]
    },
    {
     "name": "stdout",
     "output_type": "stream",
     "text": [
      "reference_text: các phòng có két sắt không\n",
      "predicted_text: cạn phong có cạn sát không?\n",
      "Processing: FPTOpenSpeechData_Set001_V0.1_000735.mp3\n"
     ]
    },
    {
     "name": "stderr",
     "output_type": "stream",
     "text": [
      "/home/ngo/anaconda3/lib/python3.12/site-packages/whisper/transcribe.py:126: UserWarning: FP16 is not supported on CPU; using FP32 instead\n",
      "  warnings.warn(\"FP16 is not supported on CPU; using FP32 instead\")\n"
     ]
    },
    {
     "name": "stdout",
     "output_type": "stream",
     "text": [
      "reference_text: cái nào tiện lợi nhất để đi đến nơi này bằng xe buýt hay xe điện\n",
      "predicted_text: cạn nào tiền lợi nhất để đi đến nơi này bằng chơi beat hay trà điểm?\n",
      "Processing: FPTOpenSpeechData_Set001_V0.1_000736.mp3\n"
     ]
    },
    {
     "name": "stderr",
     "output_type": "stream",
     "text": [
      "/home/ngo/anaconda3/lib/python3.12/site-packages/whisper/transcribe.py:126: UserWarning: FP16 is not supported on CPU; using FP32 instead\n",
      "  warnings.warn(\"FP16 is not supported on CPU; using FP32 instead\")\n"
     ]
    },
    {
     "name": "stdout",
     "output_type": "stream",
     "text": [
      "reference_text: thời gian từ đầu đến cuối là bao lâu\n",
      "predicted_text: thời gian từ đầu đến cuối là bao lâu?\n",
      "Processing: FPTOpenSpeechData_Set001_V0.1_000737.mp3\n"
     ]
    },
    {
     "name": "stderr",
     "output_type": "stream",
     "text": [
      "/home/ngo/anaconda3/lib/python3.12/site-packages/whisper/transcribe.py:126: UserWarning: FP16 is not supported on CPU; using FP32 instead\n",
      "  warnings.warn(\"FP16 is not supported on CPU; using FP32 instead\")\n"
     ]
    },
    {
     "name": "stdout",
     "output_type": "stream",
     "text": [
      "reference_text: địa điểm trượt tuyết đâu\n",
      "predicted_text: địa điểm trực tuyết đâu\n",
      "Processing: FPTOpenSpeechData_Set001_V0.1_000738.mp3\n"
     ]
    },
    {
     "name": "stderr",
     "output_type": "stream",
     "text": [
      "/home/ngo/anaconda3/lib/python3.12/site-packages/whisper/transcribe.py:126: UserWarning: FP16 is not supported on CPU; using FP32 instead\n",
      "  warnings.warn(\"FP16 is not supported on CPU; using FP32 instead\")\n"
     ]
    },
    {
     "name": "stdout",
     "output_type": "stream",
     "text": [
      "reference_text: địa điểm các bức tranh ở maunet ở đâu\n",
      "predicted_text: địa điểm các bức tranh ở monnet ở đâu?\n",
      "Processing: FPTOpenSpeechData_Set001_V0.1_000739.mp3\n"
     ]
    },
    {
     "name": "stderr",
     "output_type": "stream",
     "text": [
      "/home/ngo/anaconda3/lib/python3.12/site-packages/whisper/transcribe.py:126: UserWarning: FP16 is not supported on CPU; using FP32 instead\n",
      "  warnings.warn(\"FP16 is not supported on CPU; using FP32 instead\")\n"
     ]
    },
    {
     "name": "stdout",
     "output_type": "stream",
     "text": [
      "reference_text: chỉ có thể mua vé qua điện thoại\n",
      "predicted_text: thì có thể mua vé qua điện thoại\n",
      "Processing: FPTOpenSpeechData_Set001_V0.1_000740.mp3\n"
     ]
    },
    {
     "name": "stderr",
     "output_type": "stream",
     "text": [
      "/home/ngo/anaconda3/lib/python3.12/site-packages/whisper/transcribe.py:126: UserWarning: FP16 is not supported on CPU; using FP32 instead\n",
      "  warnings.warn(\"FP16 is not supported on CPU; using FP32 instead\")\n"
     ]
    },
    {
     "name": "stdout",
     "output_type": "stream",
     "text": [
      "reference_text: vui lòng cho tôi cái gì trị phỏng tốt\n",
      "predicted_text: vui lòng cho tôi cãi gì chị, khẩu tốt\n",
      "Processing: FPTOpenSpeechData_Set001_V0.1_000741.mp3\n"
     ]
    },
    {
     "name": "stderr",
     "output_type": "stream",
     "text": [
      "/home/ngo/anaconda3/lib/python3.12/site-packages/whisper/transcribe.py:126: UserWarning: FP16 is not supported on CPU; using FP32 instead\n",
      "  warnings.warn(\"FP16 is not supported on CPU; using FP32 instead\")\n"
     ]
    },
    {
     "name": "stdout",
     "output_type": "stream",
     "text": [
      "reference_text: tôi không thể ăn nó cái này quá dài\n",
      "predicted_text: tôi không thể ăn ngọt cái này quá dài.\n",
      "Processing: FPTOpenSpeechData_Set001_V0.1_000742.mp3\n"
     ]
    },
    {
     "name": "stderr",
     "output_type": "stream",
     "text": [
      "/home/ngo/anaconda3/lib/python3.12/site-packages/whisper/transcribe.py:126: UserWarning: FP16 is not supported on CPU; using FP32 instead\n",
      "  warnings.warn(\"FP16 is not supported on CPU; using FP32 instead\")\n"
     ]
    },
    {
     "name": "stdout",
     "output_type": "stream",
     "text": [
      "reference_text: tỷ phú đức tự tử vì khủng hoảng kinh tế\n",
      "predicted_text: tỷ phú đức tự tử vì phục hoạch chức tế\n",
      "Processing: FPTOpenSpeechData_Set001_V0.1_000743.mp3\n"
     ]
    },
    {
     "name": "stderr",
     "output_type": "stream",
     "text": [
      "/home/ngo/anaconda3/lib/python3.12/site-packages/whisper/transcribe.py:126: UserWarning: FP16 is not supported on CPU; using FP32 instead\n",
      "  warnings.warn(\"FP16 is not supported on CPU; using FP32 instead\")\n"
     ]
    },
    {
     "name": "stdout",
     "output_type": "stream",
     "text": [
      "reference_text: năm qua họ đã cố gắng lèo lái một lúc hai hãng và để không bị khủng hoảng như các hãng khác của mỹ\n",
      "predicted_text: năm qua họ đã cố gắng ngào lái một lúc hai hãng và để không bị phủng hoảng như các hãng khác của mỹ.\n",
      "Processing: FPTOpenSpeechData_Set001_V0.1_000744.mp3\n"
     ]
    },
    {
     "name": "stderr",
     "output_type": "stream",
     "text": [
      "/home/ngo/anaconda3/lib/python3.12/site-packages/whisper/transcribe.py:126: UserWarning: FP16 is not supported on CPU; using FP32 instead\n",
      "  warnings.warn(\"FP16 is not supported on CPU; using FP32 instead\")\n"
     ]
    },
    {
     "name": "stdout",
     "output_type": "stream",
     "text": [
      "reference_text: tôi muốn nước cam trứng trộn một bánh xốp và một tách cà phê\n",
      "predicted_text: tôi muốn nước cam tưởng trộn một bánh xốp và một tách cà phê\n",
      "Processing: FPTOpenSpeechData_Set001_V0.1_000745.mp3\n"
     ]
    },
    {
     "name": "stderr",
     "output_type": "stream",
     "text": [
      "/home/ngo/anaconda3/lib/python3.12/site-packages/whisper/transcribe.py:126: UserWarning: FP16 is not supported on CPU; using FP32 instead\n",
      "  warnings.warn(\"FP16 is not supported on CPU; using FP32 instead\")\n"
     ]
    },
    {
     "name": "stdout",
     "output_type": "stream",
     "text": [
      "reference_text: tôi đặt một phòng hai giường\n",
      "predicted_text: tôi đặt 1 phóng 2 dưới\n",
      "Processing: FPTOpenSpeechData_Set001_V0.1_000746.mp3\n"
     ]
    },
    {
     "name": "stderr",
     "output_type": "stream",
     "text": [
      "/home/ngo/anaconda3/lib/python3.12/site-packages/whisper/transcribe.py:126: UserWarning: FP16 is not supported on CPU; using FP32 instead\n",
      "  warnings.warn(\"FP16 is not supported on CPU; using FP32 instead\")\n"
     ]
    },
    {
     "name": "stdout",
     "output_type": "stream",
     "text": [
      "reference_text: malan có chuyện gì với bạn vậy trông bạn buồn quá\n",
      "predicted_text: ma lan, họ truyền chi vậy bàn vầy? trông bàn buôn quá.\n",
      "Processing: FPTOpenSpeechData_Set001_V0.1_000747.mp3\n"
     ]
    },
    {
     "name": "stderr",
     "output_type": "stream",
     "text": [
      "/home/ngo/anaconda3/lib/python3.12/site-packages/whisper/transcribe.py:126: UserWarning: FP16 is not supported on CPU; using FP32 instead\n",
      "  warnings.warn(\"FP16 is not supported on CPU; using FP32 instead\")\n"
     ]
    },
    {
     "name": "stdout",
     "output_type": "stream",
     "text": [
      "reference_text: chúng thường xảy ra trong những vùng biển sóng vỗ\n",
      "predicted_text: chúng thường thảy ra trong những vùng biển sóng vỗ\n",
      "Processing: FPTOpenSpeechData_Set001_V0.1_000748.mp3\n"
     ]
    },
    {
     "name": "stderr",
     "output_type": "stream",
     "text": [
      "/home/ngo/anaconda3/lib/python3.12/site-packages/whisper/transcribe.py:126: UserWarning: FP16 is not supported on CPU; using FP32 instead\n",
      "  warnings.warn(\"FP16 is not supported on CPU; using FP32 instead\")\n"
     ]
    },
    {
     "name": "stdout",
     "output_type": "stream",
     "text": [
      "reference_text: tắt điều hòa phòng họp\n",
      "predicted_text: cắt điện hòa phòng hợp\n",
      "Processing: FPTOpenSpeechData_Set001_V0.1_000749.mp3\n"
     ]
    },
    {
     "name": "stderr",
     "output_type": "stream",
     "text": [
      "/home/ngo/anaconda3/lib/python3.12/site-packages/whisper/transcribe.py:126: UserWarning: FP16 is not supported on CPU; using FP32 instead\n",
      "  warnings.warn(\"FP16 is not supported on CPU; using FP32 instead\")\n"
     ]
    },
    {
     "name": "stdout",
     "output_type": "stream",
     "text": [
      "reference_text: khi nào thì tôi ra viện được\n",
      "predicted_text: khi nào tôi ra viện đường\n",
      "Processing: FPTOpenSpeechData_Set001_V0.1_000750.mp3\n"
     ]
    },
    {
     "name": "stderr",
     "output_type": "stream",
     "text": [
      "/home/ngo/anaconda3/lib/python3.12/site-packages/whisper/transcribe.py:126: UserWarning: FP16 is not supported on CPU; using FP32 instead\n",
      "  warnings.warn(\"FP16 is not supported on CPU; using FP32 instead\")\n"
     ]
    },
    {
     "name": "stdout",
     "output_type": "stream",
     "text": [
      "reference_text: sẽ phải tốn hai ngày thì anh mới khỏe để xuất viện\n",
      "predicted_text: sẽ phải tốn 2 ngày thì anh mới khỏe để xuất viện\n",
      "Processing: FPTOpenSpeechData_Set001_V0.1_000751.mp3\n"
     ]
    },
    {
     "name": "stderr",
     "output_type": "stream",
     "text": [
      "/home/ngo/anaconda3/lib/python3.12/site-packages/whisper/transcribe.py:126: UserWarning: FP16 is not supported on CPU; using FP32 instead\n",
      "  warnings.warn(\"FP16 is not supported on CPU; using FP32 instead\")\n"
     ]
    },
    {
     "name": "stdout",
     "output_type": "stream",
     "text": [
      "reference_text: hiện nay theo nhận thức của đa số người việt chúng ta nhà nước pháp quyền là nhà nước quản lý xã hội bằng pháp luật\n",
      "predicted_text: hiện nay theo nhận thức của đa số người việt chúng ta, nhà nước pháp quyền là nhà nước quản lý xã hội bằng pháp luật.\n",
      "Processing: FPTOpenSpeechData_Set001_V0.1_000752.mp3\n"
     ]
    },
    {
     "name": "stderr",
     "output_type": "stream",
     "text": [
      "/home/ngo/anaconda3/lib/python3.12/site-packages/whisper/transcribe.py:126: UserWarning: FP16 is not supported on CPU; using FP32 instead\n",
      "  warnings.warn(\"FP16 is not supported on CPU; using FP32 instead\")\n"
     ]
    },
    {
     "name": "stdout",
     "output_type": "stream",
     "text": [
      "reference_text: bật\n",
      "predicted_text: bác\n",
      "Processing: FPTOpenSpeechData_Set001_V0.1_000753.mp3\n"
     ]
    },
    {
     "name": "stderr",
     "output_type": "stream",
     "text": [
      "/home/ngo/anaconda3/lib/python3.12/site-packages/whisper/transcribe.py:126: UserWarning: FP16 is not supported on CPU; using FP32 instead\n",
      "  warnings.warn(\"FP16 is not supported on CPU; using FP32 instead\")\n"
     ]
    },
    {
     "name": "stdout",
     "output_type": "stream",
     "text": [
      "reference_text: tôi xin tuyên bố kết thúc cuộc họp\n",
      "predicted_text: tôi xin tuyên bố kết thúc cuộc họp.\n",
      "Processing: FPTOpenSpeechData_Set001_V0.1_000754.mp3\n"
     ]
    },
    {
     "name": "stderr",
     "output_type": "stream",
     "text": [
      "/home/ngo/anaconda3/lib/python3.12/site-packages/whisper/transcribe.py:126: UserWarning: FP16 is not supported on CPU; using FP32 instead\n",
      "  warnings.warn(\"FP16 is not supported on CPU; using FP32 instead\")\n"
     ]
    },
    {
     "name": "stdout",
     "output_type": "stream",
     "text": [
      "reference_text: não dẫu tổn hại nặng vẫn phải chữa mặc dù đã gần như biết rõ về cách gây bệnh cũng như những tác hại mà bệnh nhân sẽ phải chịu cả đời nhưng đến nay giới y sỹ vẫn chưa tìm được biện pháp hữu hiệu nào để điều trị căn bệnh hiểm nghèo này\n",
      "predicted_text: não dẫu tổn hại nặng vẫn phải chữa, mặc dù đã gần như biết rõ về cách gây bệnh cũng như tác hại mà bệnh nhân sẽ phải chịu cả đời, nhưng đến nay, giới y sĩ vẫn chưa tìm được biện pháp hữu hiệu nào điều trị căn bệnh hiểm nghèo này.\n",
      "Processing: FPTOpenSpeechData_Set001_V0.1_000755.mp3\n"
     ]
    },
    {
     "name": "stderr",
     "output_type": "stream",
     "text": [
      "/home/ngo/anaconda3/lib/python3.12/site-packages/whisper/transcribe.py:126: UserWarning: FP16 is not supported on CPU; using FP32 instead\n",
      "  warnings.warn(\"FP16 is not supported on CPU; using FP32 instead\")\n"
     ]
    },
    {
     "name": "stdout",
     "output_type": "stream",
     "text": [
      "reference_text: kênh không\n",
      "predicted_text: chân không\n",
      "Processing: FPTOpenSpeechData_Set001_V0.1_000756.mp3\n"
     ]
    },
    {
     "name": "stderr",
     "output_type": "stream",
     "text": [
      "/home/ngo/anaconda3/lib/python3.12/site-packages/whisper/transcribe.py:126: UserWarning: FP16 is not supported on CPU; using FP32 instead\n",
      "  warnings.warn(\"FP16 is not supported on CPU; using FP32 instead\")\n"
     ]
    },
    {
     "name": "stdout",
     "output_type": "stream",
     "text": [
      "reference_text: bạn có thể cho tôi thêm vài phút không\n",
      "predicted_text: bạn có thể cho tôi thêm vài phút không?\n",
      "Processing: FPTOpenSpeechData_Set001_V0.1_000757.mp3\n"
     ]
    },
    {
     "name": "stderr",
     "output_type": "stream",
     "text": [
      "/home/ngo/anaconda3/lib/python3.12/site-packages/whisper/transcribe.py:126: UserWarning: FP16 is not supported on CPU; using FP32 instead\n",
      "  warnings.warn(\"FP16 is not supported on CPU; using FP32 instead\")\n"
     ]
    },
    {
     "name": "stdout",
     "output_type": "stream",
     "text": [
      "reference_text: kết quả bốc thăm vòng loại cuối cùng\n",
      "predicted_text: kết quả mốc thăm vòng loại cuối cùng\n",
      "Processing: FPTOpenSpeechData_Set001_V0.1_000758.mp3\n"
     ]
    },
    {
     "name": "stderr",
     "output_type": "stream",
     "text": [
      "/home/ngo/anaconda3/lib/python3.12/site-packages/whisper/transcribe.py:126: UserWarning: FP16 is not supported on CPU; using FP32 instead\n",
      "  warnings.warn(\"FP16 is not supported on CPU; using FP32 instead\")\n"
     ]
    },
    {
     "name": "stdout",
     "output_type": "stream",
     "text": [
      "reference_text: tôi đang tìm một công việc mới\n",
      "predicted_text: tôi đang tìm một công việc mới.\n",
      "Processing: FPTOpenSpeechData_Set001_V0.1_000759.mp3\n"
     ]
    },
    {
     "name": "stderr",
     "output_type": "stream",
     "text": [
      "/home/ngo/anaconda3/lib/python3.12/site-packages/whisper/transcribe.py:126: UserWarning: FP16 is not supported on CPU; using FP32 instead\n",
      "  warnings.warn(\"FP16 is not supported on CPU; using FP32 instead\")\n"
     ]
    },
    {
     "name": "stdout",
     "output_type": "stream",
     "text": [
      "reference_text: sống độc thân bạn đã lãng phí tình cảm đẹp đẽ ấy\n",
      "predicted_text: không hâm phấn và đã làm phim tình cảm đẹp đẹp\n",
      "Processing: FPTOpenSpeechData_Set001_V0.1_000760.mp3\n"
     ]
    },
    {
     "name": "stderr",
     "output_type": "stream",
     "text": [
      "/home/ngo/anaconda3/lib/python3.12/site-packages/whisper/transcribe.py:126: UserWarning: FP16 is not supported on CPU; using FP32 instead\n",
      "  warnings.warn(\"FP16 is not supported on CPU; using FP32 instead\")\n"
     ]
    },
    {
     "name": "stdout",
     "output_type": "stream",
     "text": [
      "reference_text: đại dương bắc cực ấm lên đột ngột\n",
      "predicted_text: đại dương bắc cực ấm lên đồi ngột\n",
      "Processing: FPTOpenSpeechData_Set001_V0.1_000761.mp3\n"
     ]
    },
    {
     "name": "stderr",
     "output_type": "stream",
     "text": [
      "/home/ngo/anaconda3/lib/python3.12/site-packages/whisper/transcribe.py:126: UserWarning: FP16 is not supported on CPU; using FP32 instead\n",
      "  warnings.warn(\"FP16 is not supported on CPU; using FP32 instead\")\n"
     ]
    },
    {
     "name": "stdout",
     "output_type": "stream",
     "text": [
      "reference_text: bạn có một nụ cười đẹp\n",
      "predicted_text: bạn có một nụ cười đẹp\n",
      "Processing: FPTOpenSpeechData_Set001_V0.1_000762.mp3\n"
     ]
    },
    {
     "name": "stderr",
     "output_type": "stream",
     "text": [
      "/home/ngo/anaconda3/lib/python3.12/site-packages/whisper/transcribe.py:126: UserWarning: FP16 is not supported on CPU; using FP32 instead\n",
      "  warnings.warn(\"FP16 is not supported on CPU; using FP32 instead\")\n"
     ]
    },
    {
     "name": "stdout",
     "output_type": "stream",
     "text": [
      "reference_text: hãy đứng tại chỗ đừng cử động\n",
      "predicted_text: hãy đứng tại chỗ đừng cử động.\n",
      "Processing: FPTOpenSpeechData_Set001_V0.1_000763.mp3\n"
     ]
    },
    {
     "name": "stderr",
     "output_type": "stream",
     "text": [
      "/home/ngo/anaconda3/lib/python3.12/site-packages/whisper/transcribe.py:126: UserWarning: FP16 is not supported on CPU; using FP32 instead\n",
      "  warnings.warn(\"FP16 is not supported on CPU; using FP32 instead\")\n"
     ]
    },
    {
     "name": "stdout",
     "output_type": "stream",
     "text": [
      "reference_text: à tôi hiểu cái đó và cà phê nữa\n",
      "predicted_text: tôi hiểu, cây đỗ và cà phê nữa\n",
      "Processing: FPTOpenSpeechData_Set001_V0.1_000764.mp3\n"
     ]
    },
    {
     "name": "stderr",
     "output_type": "stream",
     "text": [
      "/home/ngo/anaconda3/lib/python3.12/site-packages/whisper/transcribe.py:126: UserWarning: FP16 is not supported on CPU; using FP32 instead\n",
      "  warnings.warn(\"FP16 is not supported on CPU; using FP32 instead\")\n"
     ]
    },
    {
     "name": "stdout",
     "output_type": "stream",
     "text": [
      "reference_text: một giờ thì giá bao nhiêu\n",
      "predicted_text: 1 giờ thì em trả bao nhiêu?\n",
      "Processing: FPTOpenSpeechData_Set001_V0.1_000765.mp3\n"
     ]
    },
    {
     "name": "stderr",
     "output_type": "stream",
     "text": [
      "/home/ngo/anaconda3/lib/python3.12/site-packages/whisper/transcribe.py:126: UserWarning: FP16 is not supported on CPU; using FP32 instead\n",
      "  warnings.warn(\"FP16 is not supported on CPU; using FP32 instead\")\n"
     ]
    },
    {
     "name": "stdout",
     "output_type": "stream",
     "text": [
      "reference_text: vĩnh cũng hy vọng nhiều người dân việt sẽ được ăn những quả bưởi chất lượng thời gian tới bưởi bảo quản đã khó nhãn vải bảo quản còn khó hơn\n",
      "predicted_text: vĩnh cũng hy vọng nhiều người dân việt sẽ được ăn những quả bưởi chất lượng thời gian tới, bởi bảo quản đã khó, nhà ăn phải, bảo quản còn khó hơn.\n",
      "Processing: FPTOpenSpeechData_Set001_V0.1_000766.mp3\n"
     ]
    },
    {
     "name": "stderr",
     "output_type": "stream",
     "text": [
      "/home/ngo/anaconda3/lib/python3.12/site-packages/whisper/transcribe.py:126: UserWarning: FP16 is not supported on CPU; using FP32 instead\n",
      "  warnings.warn(\"FP16 is not supported on CPU; using FP32 instead\")\n"
     ]
    },
    {
     "name": "stdout",
     "output_type": "stream",
     "text": [
      "reference_text: dị tật thai nhi chủ yếu dựa vào chẩn đoán hình ảnh và xét nghiệm di truyền\n",
      "predicted_text: di tật thay nghĩa chủ yếu dựa vào trần đoán hình ảnh ra sạch nguyên dưới tương\n",
      "Processing: FPTOpenSpeechData_Set001_V0.1_000767.mp3\n"
     ]
    },
    {
     "name": "stderr",
     "output_type": "stream",
     "text": [
      "/home/ngo/anaconda3/lib/python3.12/site-packages/whisper/transcribe.py:126: UserWarning: FP16 is not supported on CPU; using FP32 instead\n",
      "  warnings.warn(\"FP16 is not supported on CPU; using FP32 instead\")\n"
     ]
    },
    {
     "name": "stdout",
     "output_type": "stream",
     "text": [
      "reference_text: cho tôi một ít thuốc nhỏ mắt được không\n",
      "predicted_text: cho tôi một ít thuốc vào má tư không\n",
      "Processing: FPTOpenSpeechData_Set001_V0.1_000768.mp3\n"
     ]
    },
    {
     "name": "stderr",
     "output_type": "stream",
     "text": [
      "/home/ngo/anaconda3/lib/python3.12/site-packages/whisper/transcribe.py:126: UserWarning: FP16 is not supported on CPU; using FP32 instead\n",
      "  warnings.warn(\"FP16 is not supported on CPU; using FP32 instead\")\n"
     ]
    },
    {
     "name": "stdout",
     "output_type": "stream",
     "text": [
      "reference_text: xin lỗi tôi kiểm tra hóa đơn được không\n",
      "predicted_text: xin nổi tôi kiểm tra họ ăn được không\n",
      "Processing: FPTOpenSpeechData_Set001_V0.1_000769.mp3\n"
     ]
    },
    {
     "name": "stderr",
     "output_type": "stream",
     "text": [
      "/home/ngo/anaconda3/lib/python3.12/site-packages/whisper/transcribe.py:126: UserWarning: FP16 is not supported on CPU; using FP32 instead\n",
      "  warnings.warn(\"FP16 is not supported on CPU; using FP32 instead\")\n"
     ]
    },
    {
     "name": "stdout",
     "output_type": "stream",
     "text": [
      "reference_text: cái gì ở góc phố\n",
      "predicted_text: cái gì ở... góc phố\n",
      "Processing: FPTOpenSpeechData_Set001_V0.1_000770.mp3\n"
     ]
    },
    {
     "name": "stderr",
     "output_type": "stream",
     "text": [
      "/home/ngo/anaconda3/lib/python3.12/site-packages/whisper/transcribe.py:126: UserWarning: FP16 is not supported on CPU; using FP32 instead\n",
      "  warnings.warn(\"FP16 is not supported on CPU; using FP32 instead\")\n"
     ]
    },
    {
     "name": "stdout",
     "output_type": "stream",
     "text": [
      "reference_text: chúng vẫn vào hai mắt của tôi\n",
      "predicted_text: chụm gần vào 2 mắt của tôi\n",
      "Processing: FPTOpenSpeechData_Set001_V0.1_000771.mp3\n"
     ]
    },
    {
     "name": "stderr",
     "output_type": "stream",
     "text": [
      "/home/ngo/anaconda3/lib/python3.12/site-packages/whisper/transcribe.py:126: UserWarning: FP16 is not supported on CPU; using FP32 instead\n",
      "  warnings.warn(\"FP16 is not supported on CPU; using FP32 instead\")\n"
     ]
    },
    {
     "name": "stdout",
     "output_type": "stream",
     "text": [
      "reference_text: trước khi đến với điện ảnh tôi kinh doanh cho thuê xe du lịch\n",
      "predicted_text: trước khi đến với điện ảnh, tôi kinh doanh cho thuê xe du lịch\n",
      "Processing: FPTOpenSpeechData_Set001_V0.1_000772.mp3\n"
     ]
    },
    {
     "name": "stderr",
     "output_type": "stream",
     "text": [
      "/home/ngo/anaconda3/lib/python3.12/site-packages/whisper/transcribe.py:126: UserWarning: FP16 is not supported on CPU; using FP32 instead\n",
      "  warnings.warn(\"FP16 is not supported on CPU; using FP32 instead\")\n"
     ]
    },
    {
     "name": "stdout",
     "output_type": "stream",
     "text": [
      "reference_text: tàng trữ trái phép và vũ khí quân dụng nguyễn hữu cảnh chủ vũ trường bị phạt bảy năm sáu tháng tù cảnh đã tự hủy cuộc đời bởi sự liều lĩnh\n",
      "predicted_text: tàng trữ trái phép và vụ thí quen dụng nguyễn hiễu cảnh chủ vụ trường bị phạt 7 năm 6 tháng tù cảnh đã tự hủy cuộc đời bởi sự liều lĩnh\n",
      "Processing: FPTOpenSpeechData_Set001_V0.1_000773.mp3\n"
     ]
    },
    {
     "name": "stderr",
     "output_type": "stream",
     "text": [
      "/home/ngo/anaconda3/lib/python3.12/site-packages/whisper/transcribe.py:126: UserWarning: FP16 is not supported on CPU; using FP32 instead\n",
      "  warnings.warn(\"FP16 is not supported on CPU; using FP32 instead\")\n"
     ]
    },
    {
     "name": "stdout",
     "output_type": "stream",
     "text": [
      "reference_text: anh ấy đi chưa chưa\n",
      "predicted_text: anh ấy đi chưa? chưa\n",
      "Processing: FPTOpenSpeechData_Set001_V0.1_000774.mp3\n"
     ]
    },
    {
     "name": "stderr",
     "output_type": "stream",
     "text": [
      "/home/ngo/anaconda3/lib/python3.12/site-packages/whisper/transcribe.py:126: UserWarning: FP16 is not supported on CPU; using FP32 instead\n",
      "  warnings.warn(\"FP16 is not supported on CPU; using FP32 instead\")\n"
     ]
    },
    {
     "name": "stdout",
     "output_type": "stream",
     "text": [
      "reference_text: tôi có thể gửi trước hành lý của tôi được không\n",
      "predicted_text: tôi có thể gửi trước hành lý của tôi được không\n",
      "Processing: FPTOpenSpeechData_Set001_V0.1_000775.mp3\n"
     ]
    },
    {
     "name": "stderr",
     "output_type": "stream",
     "text": [
      "/home/ngo/anaconda3/lib/python3.12/site-packages/whisper/transcribe.py:126: UserWarning: FP16 is not supported on CPU; using FP32 instead\n",
      "  warnings.warn(\"FP16 is not supported on CPU; using FP32 instead\")\n"
     ]
    },
    {
     "name": "stdout",
     "output_type": "stream",
     "text": [
      "reference_text: hầu hết số mỡ động vật đều đang ở giai đoạn phân hủy bốc mùi hôi thối nồng nặc\n",
      "predicted_text: hầu hết số mờ động vật đều đang ở giai đoạn phấn hủy bốc mùi hối thủy nông nặt\n",
      "Processing: FPTOpenSpeechData_Set001_V0.1_000776.mp3\n"
     ]
    },
    {
     "name": "stderr",
     "output_type": "stream",
     "text": [
      "/home/ngo/anaconda3/lib/python3.12/site-packages/whisper/transcribe.py:126: UserWarning: FP16 is not supported on CPU; using FP32 instead\n",
      "  warnings.warn(\"FP16 is not supported on CPU; using FP32 instead\")\n"
     ]
    },
    {
     "name": "stdout",
     "output_type": "stream",
     "text": [
      "reference_text: khoảng bốn mươi lăm đô la mỗi người\n",
      "predicted_text: khoảng 45 đô la mỗi người\n",
      "Processing: FPTOpenSpeechData_Set001_V0.1_000777.mp3\n"
     ]
    },
    {
     "name": "stderr",
     "output_type": "stream",
     "text": [
      "/home/ngo/anaconda3/lib/python3.12/site-packages/whisper/transcribe.py:126: UserWarning: FP16 is not supported on CPU; using FP32 instead\n",
      "  warnings.warn(\"FP16 is not supported on CPU; using FP32 instead\")\n"
     ]
    },
    {
     "name": "stdout",
     "output_type": "stream",
     "text": [
      "reference_text: thằng bé không đội mũ khi ra ngoài vào trời lạnh không\n",
      "predicted_text: cảm giác không đuổi ngủ khi ra ngoài vào trời lạnh không?\n",
      "Processing: FPTOpenSpeechData_Set001_V0.1_000778.mp3\n"
     ]
    },
    {
     "name": "stderr",
     "output_type": "stream",
     "text": [
      "/home/ngo/anaconda3/lib/python3.12/site-packages/whisper/transcribe.py:126: UserWarning: FP16 is not supported on CPU; using FP32 instead\n",
      "  warnings.warn(\"FP16 is not supported on CPU; using FP32 instead\")\n"
     ]
    },
    {
     "name": "stdout",
     "output_type": "stream",
     "text": [
      "reference_text: tôi không nghĩ đó là một phong tục nhật bản độc nhất vô nhị\n",
      "predicted_text: tôi không nghĩ đó là một phong tích nhật bản độc nhất vô nhị.\n",
      "Processing: FPTOpenSpeechData_Set001_V0.1_000779.mp3\n"
     ]
    },
    {
     "name": "stderr",
     "output_type": "stream",
     "text": [
      "/home/ngo/anaconda3/lib/python3.12/site-packages/whisper/transcribe.py:126: UserWarning: FP16 is not supported on CPU; using FP32 instead\n",
      "  warnings.warn(\"FP16 is not supported on CPU; using FP32 instead\")\n"
     ]
    },
    {
     "name": "stdout",
     "output_type": "stream",
     "text": [
      "reference_text: chiếc này dành riêng tổng thống mới đắc cử của mỹ xác nhận đã chuyển tới mật vụ mỹ chiếc xe dành cho tổng thống mới để thay chiếc xe cũ\n",
      "predicted_text: chiếc này dành riêng tổng thống mới đắc cử của mỹ xác nhận đã chuyển tới mật vụ mỹ chiếc xe dành cho tổng thống mới để thay chiếc xe cũ\n",
      "Processing: FPTOpenSpeechData_Set001_V0.1_000780.mp3\n"
     ]
    },
    {
     "name": "stderr",
     "output_type": "stream",
     "text": [
      "/home/ngo/anaconda3/lib/python3.12/site-packages/whisper/transcribe.py:126: UserWarning: FP16 is not supported on CPU; using FP32 instead\n",
      "  warnings.warn(\"FP16 is not supported on CPU; using FP32 instead\")\n"
     ]
    },
    {
     "name": "stdout",
     "output_type": "stream",
     "text": [
      "reference_text: hôm nay ba em đi công tác anh qua đây nhé\n",
      "predicted_text: hôm nay bà em đi công tác, anh qua đây nhé.\n",
      "Processing: FPTOpenSpeechData_Set001_V0.1_000781.mp3\n"
     ]
    },
    {
     "name": "stderr",
     "output_type": "stream",
     "text": [
      "/home/ngo/anaconda3/lib/python3.12/site-packages/whisper/transcribe.py:126: UserWarning: FP16 is not supported on CPU; using FP32 instead\n",
      "  warnings.warn(\"FP16 is not supported on CPU; using FP32 instead\")\n"
     ]
    },
    {
     "name": "stdout",
     "output_type": "stream",
     "text": [
      "reference_text: xin lỗi tôi đang tắm\n",
      "predicted_text: xin lỗi tôi đang tắm\n",
      "Processing: FPTOpenSpeechData_Set001_V0.1_000782.mp3\n"
     ]
    },
    {
     "name": "stderr",
     "output_type": "stream",
     "text": [
      "/home/ngo/anaconda3/lib/python3.12/site-packages/whisper/transcribe.py:126: UserWarning: FP16 is not supported on CPU; using FP32 instead\n",
      "  warnings.warn(\"FP16 is not supported on CPU; using FP32 instead\")\n"
     ]
    },
    {
     "name": "stdout",
     "output_type": "stream",
     "text": [
      "reference_text: từ hôm nay bạn sẽ ở đâu\n",
      "predicted_text: từ hôm nay bạn sẽ ở đâu?\n",
      "Processing: FPTOpenSpeechData_Set001_V0.1_000783.mp3\n"
     ]
    },
    {
     "name": "stderr",
     "output_type": "stream",
     "text": [
      "/home/ngo/anaconda3/lib/python3.12/site-packages/whisper/transcribe.py:126: UserWarning: FP16 is not supported on CPU; using FP32 instead\n",
      "  warnings.warn(\"FP16 is not supported on CPU; using FP32 instead\")\n"
     ]
    },
    {
     "name": "stdout",
     "output_type": "stream",
     "text": [
      "reference_text: các tác phẩm ăn khách để ở đâu\n",
      "predicted_text: các tác phẩm ăn khách để ở đâu\n",
      "Processing: FPTOpenSpeechData_Set001_V0.1_000784.mp3\n"
     ]
    },
    {
     "name": "stderr",
     "output_type": "stream",
     "text": [
      "/home/ngo/anaconda3/lib/python3.12/site-packages/whisper/transcribe.py:126: UserWarning: FP16 is not supported on CPU; using FP32 instead\n",
      "  warnings.warn(\"FP16 is not supported on CPU; using FP32 instead\")\n"
     ]
    },
    {
     "name": "stdout",
     "output_type": "stream",
     "text": [
      "reference_text: anh ấy vừa mới đến từ anh quốc hôm qua\n",
      "predicted_text: anh ấy vừa mời đến từ anh cục hôm qua.\n",
      "Processing: FPTOpenSpeechData_Set001_V0.1_000785.mp3\n"
     ]
    },
    {
     "name": "stderr",
     "output_type": "stream",
     "text": [
      "/home/ngo/anaconda3/lib/python3.12/site-packages/whisper/transcribe.py:126: UserWarning: FP16 is not supported on CPU; using FP32 instead\n",
      "  warnings.warn(\"FP16 is not supported on CPU; using FP32 instead\")\n"
     ]
    },
    {
     "name": "stdout",
     "output_type": "stream",
     "text": [
      "reference_text: nếu bạn không bắt đầu chuẩn bị tôi không cần nữa\n",
      "predicted_text: nếu bạn không bắt đầu chuẩn bị, tôi không cần nữa.\n",
      "Processing: FPTOpenSpeechData_Set001_V0.1_000786.mp3\n"
     ]
    },
    {
     "name": "stderr",
     "output_type": "stream",
     "text": [
      "/home/ngo/anaconda3/lib/python3.12/site-packages/whisper/transcribe.py:126: UserWarning: FP16 is not supported on CPU; using FP32 instead\n",
      "  warnings.warn(\"FP16 is not supported on CPU; using FP32 instead\")\n"
     ]
    },
    {
     "name": "stdout",
     "output_type": "stream",
     "text": [
      "reference_text: tôi muốn đặt chỗ cửa hàng da vào ngày mười hai tháng ba\n",
      "predicted_text: tôi muốn đặt chỗ cửa hàng ra vào ngày 12 tháng 3\n",
      "Processing: FPTOpenSpeechData_Set001_V0.1_000787.mp3\n"
     ]
    },
    {
     "name": "stderr",
     "output_type": "stream",
     "text": [
      "/home/ngo/anaconda3/lib/python3.12/site-packages/whisper/transcribe.py:126: UserWarning: FP16 is not supported on CPU; using FP32 instead\n",
      "  warnings.warn(\"FP16 is not supported on CPU; using FP32 instead\")\n"
     ]
    },
    {
     "name": "stdout",
     "output_type": "stream",
     "text": [
      "reference_text: đúng là quê một cục\n",
      "predicted_text: đúng là quên 1 cục\n",
      "Processing: FPTOpenSpeechData_Set001_V0.1_000788.mp3\n"
     ]
    },
    {
     "name": "stderr",
     "output_type": "stream",
     "text": [
      "/home/ngo/anaconda3/lib/python3.12/site-packages/whisper/transcribe.py:126: UserWarning: FP16 is not supported on CPU; using FP32 instead\n",
      "  warnings.warn(\"FP16 is not supported on CPU; using FP32 instead\")\n"
     ]
    },
    {
     "name": "stdout",
     "output_type": "stream",
     "text": [
      "reference_text: bush phương tây và nga căng thẳng\n",
      "predicted_text: phước tây và nga căng thẳng\n",
      "Processing: FPTOpenSpeechData_Set001_V0.1_000789.mp3\n"
     ]
    },
    {
     "name": "stderr",
     "output_type": "stream",
     "text": [
      "/home/ngo/anaconda3/lib/python3.12/site-packages/whisper/transcribe.py:126: UserWarning: FP16 is not supported on CPU; using FP32 instead\n",
      "  warnings.warn(\"FP16 is not supported on CPU; using FP32 instead\")\n"
     ]
    },
    {
     "name": "stdout",
     "output_type": "stream",
     "text": [
      "reference_text: não dẫu tổn hại nặng vẫn phải chữa mặc dù đã gần như biết rõ về cách gây bệnh cũng như những tác hại mà bệnh nhân sẽ phải chịu cả đời nhưng đến nay giới y sỹ vẫn chưa tìm ra được biện pháp hữu hiệu nào để điều trị căn bệnh hiểm nghèo này\n",
      "predicted_text: lão dỗ tổm hại lặng vẫn phải chữa, mặc dù đã gần như biết rõ về cách xây bệnh cũng như những tác hại mà bệnh nhân sẽ phải chịu cả đời, nhưng đến nay giới y sĩ vẫn chưa tìm ra được biện pháp, thủy hiệu nào để điều trị căn bệnh nghiệp nghèo này.\n",
      "Processing: FPTOpenSpeechData_Set001_V0.1_000790.mp3\n"
     ]
    },
    {
     "name": "stderr",
     "output_type": "stream",
     "text": [
      "/home/ngo/anaconda3/lib/python3.12/site-packages/whisper/transcribe.py:126: UserWarning: FP16 is not supported on CPU; using FP32 instead\n",
      "  warnings.warn(\"FP16 is not supported on CPU; using FP32 instead\")\n"
     ]
    },
    {
     "name": "stdout",
     "output_type": "stream",
     "text": [
      "reference_text: ở thể chế này những cuộc bán đấu giá được xem là một sự kiện xã hội\n",
      "predicted_text: ở thế chết này, những cuộc bán đấu đá được xem là một sự kiện xã hội.\n",
      "Processing: FPTOpenSpeechData_Set001_V0.1_000791.mp3\n"
     ]
    },
    {
     "name": "stderr",
     "output_type": "stream",
     "text": [
      "/home/ngo/anaconda3/lib/python3.12/site-packages/whisper/transcribe.py:126: UserWarning: FP16 is not supported on CPU; using FP32 instead\n",
      "  warnings.warn(\"FP16 is not supported on CPU; using FP32 instead\")\n"
     ]
    },
    {
     "name": "stdout",
     "output_type": "stream",
     "text": [
      "reference_text: tôi sẽ chở anh đến đó\n",
      "predicted_text: túi xe chờ anh nhìn đó\n",
      "Processing: FPTOpenSpeechData_Set001_V0.1_000792.mp3\n"
     ]
    },
    {
     "name": "stderr",
     "output_type": "stream",
     "text": [
      "/home/ngo/anaconda3/lib/python3.12/site-packages/whisper/transcribe.py:126: UserWarning: FP16 is not supported on CPU; using FP32 instead\n",
      "  warnings.warn(\"FP16 is not supported on CPU; using FP32 instead\")\n"
     ]
    },
    {
     "name": "stdout",
     "output_type": "stream",
     "text": [
      "reference_text: bị bắt giam vì xúc phạm trên mạng xã hội ảo\n",
      "predicted_text: bị bắt giam vì xúc phạm trên mạng xã hội ảo\n",
      "Processing: FPTOpenSpeechData_Set001_V0.1_000793.mp3\n"
     ]
    },
    {
     "name": "stderr",
     "output_type": "stream",
     "text": [
      "/home/ngo/anaconda3/lib/python3.12/site-packages/whisper/transcribe.py:126: UserWarning: FP16 is not supported on CPU; using FP32 instead\n",
      "  warnings.warn(\"FP16 is not supported on CPU; using FP32 instead\")\n"
     ]
    },
    {
     "name": "stdout",
     "output_type": "stream",
     "text": [
      "reference_text: khi nào quán trà đóng cửa\n",
      "predicted_text: khi nào quán trà đóng cửa\n",
      "Processing: FPTOpenSpeechData_Set001_V0.1_000794.mp3\n"
     ]
    },
    {
     "name": "stderr",
     "output_type": "stream",
     "text": [
      "/home/ngo/anaconda3/lib/python3.12/site-packages/whisper/transcribe.py:126: UserWarning: FP16 is not supported on CPU; using FP32 instead\n",
      "  warnings.warn(\"FP16 is not supported on CPU; using FP32 instead\")\n"
     ]
    },
    {
     "name": "stdout",
     "output_type": "stream",
     "text": [
      "reference_text: tôi đến ga chính xe lửa bằng cách nào\n",
      "predicted_text: tôi đem ra chị sẽ lừa băng cách nào\n",
      "Processing: FPTOpenSpeechData_Set001_V0.1_000795.mp3\n"
     ]
    },
    {
     "name": "stderr",
     "output_type": "stream",
     "text": [
      "/home/ngo/anaconda3/lib/python3.12/site-packages/whisper/transcribe.py:126: UserWarning: FP16 is not supported on CPU; using FP32 instead\n",
      "  warnings.warn(\"FP16 is not supported on CPU; using FP32 instead\")\n"
     ]
    },
    {
     "name": "stdout",
     "output_type": "stream",
     "text": [
      "reference_text: tôi muốn nói chuyện với\n",
      "predicted_text: tôi muốn nói chuyện với\n",
      "Processing: FPTOpenSpeechData_Set001_V0.1_000796.mp3\n"
     ]
    },
    {
     "name": "stderr",
     "output_type": "stream",
     "text": [
      "/home/ngo/anaconda3/lib/python3.12/site-packages/whisper/transcribe.py:126: UserWarning: FP16 is not supported on CPU; using FP32 instead\n",
      "  warnings.warn(\"FP16 is not supported on CPU; using FP32 instead\")\n"
     ]
    },
    {
     "name": "stdout",
     "output_type": "stream",
     "text": [
      "reference_text: tôi đi hải phòng còn bạn đi đâu\n",
      "predicted_text: tối đi hải phòng còn mình đi đâu\n",
      "Processing: FPTOpenSpeechData_Set001_V0.1_000797.mp3\n"
     ]
    },
    {
     "name": "stderr",
     "output_type": "stream",
     "text": [
      "/home/ngo/anaconda3/lib/python3.12/site-packages/whisper/transcribe.py:126: UserWarning: FP16 is not supported on CPU; using FP32 instead\n",
      "  warnings.warn(\"FP16 is not supported on CPU; using FP32 instead\")\n"
     ]
    },
    {
     "name": "stdout",
     "output_type": "stream",
     "text": [
      "reference_text: lên tới lớp thu tiền học phí\n",
      "predicted_text: lên tới lớp thu tiền học quý.\n",
      "Processing: FPTOpenSpeechData_Set001_V0.1_000798.mp3\n"
     ]
    },
    {
     "name": "stderr",
     "output_type": "stream",
     "text": [
      "/home/ngo/anaconda3/lib/python3.12/site-packages/whisper/transcribe.py:126: UserWarning: FP16 is not supported on CPU; using FP32 instead\n",
      "  warnings.warn(\"FP16 is not supported on CPU; using FP32 instead\")\n"
     ]
    },
    {
     "name": "stdout",
     "output_type": "stream",
     "text": [
      "reference_text: ăn nói sờm sỡ\n",
      "predicted_text: ăn nói sơm sở\n",
      "Processing: FPTOpenSpeechData_Set001_V0.1_000799.mp3\n"
     ]
    },
    {
     "name": "stderr",
     "output_type": "stream",
     "text": [
      "/home/ngo/anaconda3/lib/python3.12/site-packages/whisper/transcribe.py:126: UserWarning: FP16 is not supported on CPU; using FP32 instead\n",
      "  warnings.warn(\"FP16 is not supported on CPU; using FP32 instead\")\n"
     ]
    },
    {
     "name": "stdout",
     "output_type": "stream",
     "text": [
      "reference_text: vâng được đào ở đây\n",
      "predicted_text: vâng, biệt bào ở đây.\n",
      "Processing: FPTOpenSpeechData_Set001_V0.1_000800.mp3\n"
     ]
    },
    {
     "name": "stderr",
     "output_type": "stream",
     "text": [
      "/home/ngo/anaconda3/lib/python3.12/site-packages/whisper/transcribe.py:126: UserWarning: FP16 is not supported on CPU; using FP32 instead\n",
      "  warnings.warn(\"FP16 is not supported on CPU; using FP32 instead\")\n"
     ]
    },
    {
     "name": "stdout",
     "output_type": "stream",
     "text": [
      "reference_text: mấy giờ xe buýt đó đến\n",
      "predicted_text: mấy giờ xe buýt đã đến\n",
      "Processing: FPTOpenSpeechData_Set001_V0.1_000801.mp3\n"
     ]
    },
    {
     "name": "stderr",
     "output_type": "stream",
     "text": [
      "/home/ngo/anaconda3/lib/python3.12/site-packages/whisper/transcribe.py:126: UserWarning: FP16 is not supported on CPU; using FP32 instead\n",
      "  warnings.warn(\"FP16 is not supported on CPU; using FP32 instead\")\n"
     ]
    },
    {
     "name": "stdout",
     "output_type": "stream",
     "text": [
      "reference_text: nó sẽ dừng chảy máu\n",
      "predicted_text: nó sẽ dừng chạy máu\n",
      "Processing: FPTOpenSpeechData_Set001_V0.1_000802.mp3\n"
     ]
    },
    {
     "name": "stderr",
     "output_type": "stream",
     "text": [
      "/home/ngo/anaconda3/lib/python3.12/site-packages/whisper/transcribe.py:126: UserWarning: FP16 is not supported on CPU; using FP32 instead\n",
      "  warnings.warn(\"FP16 is not supported on CPU; using FP32 instead\")\n"
     ]
    },
    {
     "name": "stdout",
     "output_type": "stream",
     "text": [
      "reference_text: có đứa gọi hắn tên hải làm cái gì ở công ty nước ngoài\n",
      "predicted_text: có đứa gọi hắn tên hải làm cái gì ở công ty nước ngoài?\n",
      "Processing: FPTOpenSpeechData_Set001_V0.1_000803.mp3\n"
     ]
    },
    {
     "name": "stderr",
     "output_type": "stream",
     "text": [
      "/home/ngo/anaconda3/lib/python3.12/site-packages/whisper/transcribe.py:126: UserWarning: FP16 is not supported on CPU; using FP32 instead\n",
      "  warnings.warn(\"FP16 is not supported on CPU; using FP32 instead\")\n"
     ]
    },
    {
     "name": "stdout",
     "output_type": "stream",
     "text": [
      "reference_text: mấy giờ con thuyền đó mới khởi hành\n",
      "predicted_text: mấy giờ con thuyền đó mới khởi hành?\n",
      "Processing: FPTOpenSpeechData_Set001_V0.1_000804.mp3\n"
     ]
    },
    {
     "name": "stderr",
     "output_type": "stream",
     "text": [
      "/home/ngo/anaconda3/lib/python3.12/site-packages/whisper/transcribe.py:126: UserWarning: FP16 is not supported on CPU; using FP32 instead\n",
      "  warnings.warn(\"FP16 is not supported on CPU; using FP32 instead\")\n"
     ]
    },
    {
     "name": "stdout",
     "output_type": "stream",
     "text": [
      "reference_text: chính là nó cảm ơn\n",
      "predicted_text: chính là nó cảm ơn\n",
      "Processing: FPTOpenSpeechData_Set001_V0.1_000805.mp3\n"
     ]
    },
    {
     "name": "stderr",
     "output_type": "stream",
     "text": [
      "/home/ngo/anaconda3/lib/python3.12/site-packages/whisper/transcribe.py:126: UserWarning: FP16 is not supported on CPU; using FP32 instead\n",
      "  warnings.warn(\"FP16 is not supported on CPU; using FP32 instead\")\n"
     ]
    },
    {
     "name": "stdout",
     "output_type": "stream",
     "text": [
      "reference_text: đỗ đũa trồng trong mùa hè lớn nhanh và sớm có quả dẫu bị bỏ tưới đỗ đũa vẫn ra quả trĩu giàn\n",
      "predicted_text: đỗ đua trồng trong mùa hè lớn nhanh và sớm có quả dẫu bị bỏ tưới, đỗ đua vẫn ra quả chịu hào\n",
      "Processing: FPTOpenSpeechData_Set001_V0.1_000806.mp3\n"
     ]
    },
    {
     "name": "stderr",
     "output_type": "stream",
     "text": [
      "/home/ngo/anaconda3/lib/python3.12/site-packages/whisper/transcribe.py:126: UserWarning: FP16 is not supported on CPU; using FP32 instead\n",
      "  warnings.warn(\"FP16 is not supported on CPU; using FP32 instead\")\n"
     ]
    },
    {
     "name": "stdout",
     "output_type": "stream",
     "text": [
      "reference_text: để nó cho tôi\n",
      "predicted_text: để nó cho tôi\n",
      "Processing: FPTOpenSpeechData_Set001_V0.1_000807.mp3\n"
     ]
    },
    {
     "name": "stderr",
     "output_type": "stream",
     "text": [
      "/home/ngo/anaconda3/lib/python3.12/site-packages/whisper/transcribe.py:126: UserWarning: FP16 is not supported on CPU; using FP32 instead\n",
      "  warnings.warn(\"FP16 is not supported on CPU; using FP32 instead\")\n"
     ]
    },
    {
     "name": "stdout",
     "output_type": "stream",
     "text": [
      "reference_text: -n chìm nghỉm\n",
      "predicted_text: hãy subscribe cho kênh ghiền mì gõ để không bỏ lỡ những video hấp dẫn\n",
      "Processing: FPTOpenSpeechData_Set001_V0.1_000808.mp3\n"
     ]
    },
    {
     "name": "stderr",
     "output_type": "stream",
     "text": [
      "/home/ngo/anaconda3/lib/python3.12/site-packages/whisper/transcribe.py:126: UserWarning: FP16 is not supported on CPU; using FP32 instead\n",
      "  warnings.warn(\"FP16 is not supported on CPU; using FP32 instead\")\n"
     ]
    },
    {
     "name": "stdout",
     "output_type": "stream",
     "text": [
      "reference_text: tôi muốn hỏi anh về sendai\n",
      "predicted_text: tôi muốn hỏi anh về sendai\n",
      "Processing: FPTOpenSpeechData_Set001_V0.1_000809.mp3\n"
     ]
    },
    {
     "name": "stderr",
     "output_type": "stream",
     "text": [
      "/home/ngo/anaconda3/lib/python3.12/site-packages/whisper/transcribe.py:126: UserWarning: FP16 is not supported on CPU; using FP32 instead\n",
      "  warnings.warn(\"FP16 is not supported on CPU; using FP32 instead\")\n"
     ]
    },
    {
     "name": "stdout",
     "output_type": "stream",
     "text": [
      "reference_text: nghĩa là khoảng mười đô la một cuộn phim ba mươi sáu tấm\n",
      "predicted_text: nghĩa là khoảng 10 đô la một cuộn phim 36 tóc\n",
      "Processing: FPTOpenSpeechData_Set001_V0.1_000810.mp3\n"
     ]
    },
    {
     "name": "stderr",
     "output_type": "stream",
     "text": [
      "/home/ngo/anaconda3/lib/python3.12/site-packages/whisper/transcribe.py:126: UserWarning: FP16 is not supported on CPU; using FP32 instead\n",
      "  warnings.warn(\"FP16 is not supported on CPU; using FP32 instead\")\n"
     ]
    },
    {
     "name": "stdout",
     "output_type": "stream",
     "text": [
      "reference_text: trẻ em đâu có chướng ngại vật\n",
      "predicted_text: trẻ em đâu có chứa ngại bật\n",
      "Processing: FPTOpenSpeechData_Set001_V0.1_000811.mp3\n"
     ]
    },
    {
     "name": "stderr",
     "output_type": "stream",
     "text": [
      "/home/ngo/anaconda3/lib/python3.12/site-packages/whisper/transcribe.py:126: UserWarning: FP16 is not supported on CPU; using FP32 instead\n",
      "  warnings.warn(\"FP16 is not supported on CPU; using FP32 instead\")\n"
     ]
    },
    {
     "name": "stdout",
     "output_type": "stream",
     "text": [
      "reference_text: tác dụng phụ của thuốc là gì\n",
      "predicted_text: tạc chứng phủ của tổ chức lãnh dịch.\n",
      "Processing: FPTOpenSpeechData_Set001_V0.1_000812.mp3\n"
     ]
    },
    {
     "name": "stderr",
     "output_type": "stream",
     "text": [
      "/home/ngo/anaconda3/lib/python3.12/site-packages/whisper/transcribe.py:126: UserWarning: FP16 is not supported on CPU; using FP32 instead\n",
      "  warnings.warn(\"FP16 is not supported on CPU; using FP32 instead\")\n"
     ]
    },
    {
     "name": "stdout",
     "output_type": "stream",
     "text": [
      "reference_text: đúng vậy sao\n",
      "predicted_text: bữa quầy sao?\n",
      "Processing: FPTOpenSpeechData_Set001_V0.1_000813.mp3\n"
     ]
    },
    {
     "name": "stderr",
     "output_type": "stream",
     "text": [
      "/home/ngo/anaconda3/lib/python3.12/site-packages/whisper/transcribe.py:126: UserWarning: FP16 is not supported on CPU; using FP32 instead\n",
      "  warnings.warn(\"FP16 is not supported on CPU; using FP32 instead\")\n"
     ]
    },
    {
     "name": "stdout",
     "output_type": "stream",
     "text": [
      "reference_text: đang diễn ra hào hứng sôi nổi\n",
      "predicted_text: đang diễn ra hào hứng sôi nổi\n",
      "Processing: FPTOpenSpeechData_Set001_V0.1_000814.mp3\n"
     ]
    },
    {
     "name": "stderr",
     "output_type": "stream",
     "text": [
      "/home/ngo/anaconda3/lib/python3.12/site-packages/whisper/transcribe.py:126: UserWarning: FP16 is not supported on CPU; using FP32 instead\n",
      "  warnings.warn(\"FP16 is not supported on CPU; using FP32 instead\")\n"
     ]
    },
    {
     "name": "stdout",
     "output_type": "stream",
     "text": [
      "reference_text: có hai mùa ở miền nam việt nam\n",
      "predicted_text: của hai mùa ở miền nam việt nam.\n",
      "Processing: FPTOpenSpeechData_Set001_V0.1_000815.mp3\n"
     ]
    },
    {
     "name": "stderr",
     "output_type": "stream",
     "text": [
      "/home/ngo/anaconda3/lib/python3.12/site-packages/whisper/transcribe.py:126: UserWarning: FP16 is not supported on CPU; using FP32 instead\n",
      "  warnings.warn(\"FP16 is not supported on CPU; using FP32 instead\")\n"
     ]
    },
    {
     "name": "stdout",
     "output_type": "stream",
     "text": [
      "reference_text: chúng tôi muốn đi\n",
      "predicted_text: chúng tôi muốn đi\n",
      "Processing: FPTOpenSpeechData_Set001_V0.1_000816.mp3\n"
     ]
    },
    {
     "name": "stderr",
     "output_type": "stream",
     "text": [
      "/home/ngo/anaconda3/lib/python3.12/site-packages/whisper/transcribe.py:126: UserWarning: FP16 is not supported on CPU; using FP32 instead\n",
      "  warnings.warn(\"FP16 is not supported on CPU; using FP32 instead\")\n"
     ]
    },
    {
     "name": "stdout",
     "output_type": "stream",
     "text": [
      "reference_text: tôi không chắc nhưng tôi không chịu được mùi thịt tôi chỉ muốn ăn trái thơm\n",
      "predicted_text: tôi không chắc, nhưng tôi không chịu được mùi thịt tôi chỉ muốn ăn trái thơm\n",
      "Processing: FPTOpenSpeechData_Set001_V0.1_000817.mp3\n"
     ]
    },
    {
     "name": "stderr",
     "output_type": "stream",
     "text": [
      "/home/ngo/anaconda3/lib/python3.12/site-packages/whisper/transcribe.py:126: UserWarning: FP16 is not supported on CPU; using FP32 instead\n",
      "  warnings.warn(\"FP16 is not supported on CPU; using FP32 instead\")\n"
     ]
    },
    {
     "name": "stdout",
     "output_type": "stream",
     "text": [
      "reference_text: lúc viễn tìm được người giúp đỡ quay lại chỗ bị ngã thì nhóm cướp đã lấy xe của anh và tẩu thoát\n",
      "predicted_text: lúc viễn tìm được người giúp đỡ quay lại chỗ bị ngã thì nhóm cướp đã lấy che của anh và đẩu thoát.\n",
      "Processing: FPTOpenSpeechData_Set001_V0.1_000818.mp3\n"
     ]
    },
    {
     "name": "stderr",
     "output_type": "stream",
     "text": [
      "/home/ngo/anaconda3/lib/python3.12/site-packages/whisper/transcribe.py:126: UserWarning: FP16 is not supported on CPU; using FP32 instead\n",
      "  warnings.warn(\"FP16 is not supported on CPU; using FP32 instead\")\n"
     ]
    },
    {
     "name": "stdout",
     "output_type": "stream",
     "text": [
      "reference_text: liền chạy theo nắm lấy cửa sau xe buýt\n",
      "predicted_text: liên chạy theo nắm lấy cửa sau xe bích.\n",
      "Processing: FPTOpenSpeechData_Set001_V0.1_000819.mp3\n"
     ]
    },
    {
     "name": "stderr",
     "output_type": "stream",
     "text": [
      "/home/ngo/anaconda3/lib/python3.12/site-packages/whisper/transcribe.py:126: UserWarning: FP16 is not supported on CPU; using FP32 instead\n",
      "  warnings.warn(\"FP16 is not supported on CPU; using FP32 instead\")\n"
     ]
    },
    {
     "name": "stdout",
     "output_type": "stream",
     "text": [
      "reference_text: tôi giao phó công việc này cho bạn\n",
      "predicted_text: tôi giao phỏ công việc này cho bạn.\n",
      "Processing: FPTOpenSpeechData_Set001_V0.1_000820.mp3\n"
     ]
    },
    {
     "name": "stderr",
     "output_type": "stream",
     "text": [
      "/home/ngo/anaconda3/lib/python3.12/site-packages/whisper/transcribe.py:126: UserWarning: FP16 is not supported on CPU; using FP32 instead\n",
      "  warnings.warn(\"FP16 is not supported on CPU; using FP32 instead\")\n"
     ]
    },
    {
     "name": "stdout",
     "output_type": "stream",
     "text": [
      "reference_text: liệu ngân hàng có mở cửa ngày mai không\n",
      "predicted_text: liệu ngân hàng có mở cửa ngày mai không?\n",
      "Processing: FPTOpenSpeechData_Set001_V0.1_000821.mp3\n"
     ]
    },
    {
     "name": "stderr",
     "output_type": "stream",
     "text": [
      "/home/ngo/anaconda3/lib/python3.12/site-packages/whisper/transcribe.py:126: UserWarning: FP16 is not supported on CPU; using FP32 instead\n",
      "  warnings.warn(\"FP16 is not supported on CPU; using FP32 instead\")\n"
     ]
    },
    {
     "name": "stdout",
     "output_type": "stream",
     "text": [
      "reference_text: và nhện ta liền quăng ra chiếc thòng lọng bằng tơ của nó đầu kia sẽ là bữa ăn\n",
      "predicted_text: và nhận ra liền quanh chiếc thòng lọng bành cơ của nó đầu kia sẽ là bữa ăn\n",
      "Processing: FPTOpenSpeechData_Set001_V0.1_000822.mp3\n"
     ]
    },
    {
     "name": "stderr",
     "output_type": "stream",
     "text": [
      "/home/ngo/anaconda3/lib/python3.12/site-packages/whisper/transcribe.py:126: UserWarning: FP16 is not supported on CPU; using FP32 instead\n",
      "  warnings.warn(\"FP16 is not supported on CPU; using FP32 instead\")\n"
     ]
    },
    {
     "name": "stdout",
     "output_type": "stream",
     "text": [
      "reference_text: việc bảo vệ những nguồn cung cấp dầu lửa trước đó đã là ưu tiên hàng đầu bỗng chốc lại trở thành nỗi ám ảnh của nước mỹ\n",
      "predicted_text: việc bảo vệ những nguồn cung cấp dầu lửa trước đó đã là ưu tiên hàng đầu, bỗng chốc lại trở thành nỗi ám ảnh của nước mỹ.\n",
      "Processing: FPTOpenSpeechData_Set001_V0.1_000823.mp3\n"
     ]
    },
    {
     "name": "stderr",
     "output_type": "stream",
     "text": [
      "/home/ngo/anaconda3/lib/python3.12/site-packages/whisper/transcribe.py:126: UserWarning: FP16 is not supported on CPU; using FP32 instead\n",
      "  warnings.warn(\"FP16 is not supported on CPU; using FP32 instead\")\n"
     ]
    },
    {
     "name": "stdout",
     "output_type": "stream",
     "text": [
      "reference_text: tiền vệ người bồ đào nha mới đây khẳng định anh đã tìm lại được niềm hạnh phúc tại m.u. bất chấp những chỉ trích của người hâm mộ anh\n",
      "predicted_text: tiềm vệ người bồ đào nha mới đây khẳng định anh đã tìm lại được niềm hạnh phúc tại m.u. bất chấp những chỉ trích của người hâm mộ anh\n",
      "Processing: FPTOpenSpeechData_Set001_V0.1_000824.mp3\n"
     ]
    },
    {
     "name": "stderr",
     "output_type": "stream",
     "text": [
      "/home/ngo/anaconda3/lib/python3.12/site-packages/whisper/transcribe.py:126: UserWarning: FP16 is not supported on CPU; using FP32 instead\n",
      "  warnings.warn(\"FP16 is not supported on CPU; using FP32 instead\")\n"
     ]
    },
    {
     "name": "stdout",
     "output_type": "stream",
     "text": [
      "reference_text: anh có nước mía không\n",
      "predicted_text: anh có nước mía không?\n",
      "Processing: FPTOpenSpeechData_Set001_V0.1_000825.mp3\n"
     ]
    },
    {
     "name": "stderr",
     "output_type": "stream",
     "text": [
      "/home/ngo/anaconda3/lib/python3.12/site-packages/whisper/transcribe.py:126: UserWarning: FP16 is not supported on CPU; using FP32 instead\n",
      "  warnings.warn(\"FP16 is not supported on CPU; using FP32 instead\")\n"
     ]
    },
    {
     "name": "stdout",
     "output_type": "stream",
     "text": [
      "reference_text: an ninh tại các thành phố ấn độ được thắt chặt\n",
      "predicted_text: anh đứng tại các thành phố ấn đủ nước thắt chặt\n",
      "Processing: FPTOpenSpeechData_Set001_V0.1_000826.mp3\n"
     ]
    },
    {
     "name": "stderr",
     "output_type": "stream",
     "text": [
      "/home/ngo/anaconda3/lib/python3.12/site-packages/whisper/transcribe.py:126: UserWarning: FP16 is not supported on CPU; using FP32 instead\n",
      "  warnings.warn(\"FP16 is not supported on CPU; using FP32 instead\")\n"
     ]
    },
    {
     "name": "stdout",
     "output_type": "stream",
     "text": [
      "reference_text: những lãnh đạo cấp cao cũng đang phải đối mặt với việc giảm lương đến mức nào hiện vẫn chưa rõ\n",
      "predicted_text: những lãnh đạo cấp cao cũng đang phải đối mặt với riêng giảm lương đến mức nào hiện dẫn chưa rõ.\n",
      "Processing: FPTOpenSpeechData_Set001_V0.1_000827.mp3\n"
     ]
    },
    {
     "name": "stderr",
     "output_type": "stream",
     "text": [
      "/home/ngo/anaconda3/lib/python3.12/site-packages/whisper/transcribe.py:126: UserWarning: FP16 is not supported on CPU; using FP32 instead\n",
      "  warnings.warn(\"FP16 is not supported on CPU; using FP32 instead\")\n"
     ]
    },
    {
     "name": "stdout",
     "output_type": "stream",
     "text": [
      "reference_text: đây có phải da thật không\n",
      "predicted_text: đây có phải ra thật không?\n",
      "Processing: FPTOpenSpeechData_Set001_V0.1_000828.mp3\n"
     ]
    },
    {
     "name": "stderr",
     "output_type": "stream",
     "text": [
      "/home/ngo/anaconda3/lib/python3.12/site-packages/whisper/transcribe.py:126: UserWarning: FP16 is not supported on CPU; using FP32 instead\n",
      "  warnings.warn(\"FP16 is not supported on CPU; using FP32 instead\")\n"
     ]
    },
    {
     "name": "stdout",
     "output_type": "stream",
     "text": [
      "reference_text: bỏ tù nạn nhân cưỡng hiếp tập thể\n",
      "predicted_text: bỏ tù lạ nhất cưỡng hiếp tập thể\n",
      "Processing: FPTOpenSpeechData_Set001_V0.1_000829.mp3\n"
     ]
    },
    {
     "name": "stderr",
     "output_type": "stream",
     "text": [
      "/home/ngo/anaconda3/lib/python3.12/site-packages/whisper/transcribe.py:126: UserWarning: FP16 is not supported on CPU; using FP32 instead\n",
      "  warnings.warn(\"FP16 is not supported on CPU; using FP32 instead\")\n"
     ]
    },
    {
     "name": "stdout",
     "output_type": "stream",
     "text": [
      "reference_text: lấy ngành thép làm ví dụ\n",
      "predicted_text: lấy ngành thép làm ví dụ\n",
      "Processing: FPTOpenSpeechData_Set001_V0.1_000830.mp3\n"
     ]
    },
    {
     "name": "stderr",
     "output_type": "stream",
     "text": [
      "/home/ngo/anaconda3/lib/python3.12/site-packages/whisper/transcribe.py:126: UserWarning: FP16 is not supported on CPU; using FP32 instead\n",
      "  warnings.warn(\"FP16 is not supported on CPU; using FP32 instead\")\n"
     ]
    },
    {
     "name": "stdout",
     "output_type": "stream",
     "text": [
      "reference_text: ví của tôi bị móc túi ở trong tàu điện ngầm\n",
      "predicted_text: ví của chúng tôi bị móc túi ở trong tàu điện ngầm\n",
      "Processing: FPTOpenSpeechData_Set001_V0.1_000831.mp3\n"
     ]
    },
    {
     "name": "stderr",
     "output_type": "stream",
     "text": [
      "/home/ngo/anaconda3/lib/python3.12/site-packages/whisper/transcribe.py:126: UserWarning: FP16 is not supported on CPU; using FP32 instead\n",
      "  warnings.warn(\"FP16 is not supported on CPU; using FP32 instead\")\n"
     ]
    },
    {
     "name": "stdout",
     "output_type": "stream",
     "text": [
      "reference_text: tôi muốn ăn hơi tái\n",
      "predicted_text: tôi muốn ăn hơi tải\n",
      "Processing: FPTOpenSpeechData_Set001_V0.1_000832.mp3\n"
     ]
    },
    {
     "name": "stderr",
     "output_type": "stream",
     "text": [
      "/home/ngo/anaconda3/lib/python3.12/site-packages/whisper/transcribe.py:126: UserWarning: FP16 is not supported on CPU; using FP32 instead\n",
      "  warnings.warn(\"FP16 is not supported on CPU; using FP32 instead\")\n"
     ]
    },
    {
     "name": "stdout",
     "output_type": "stream",
     "text": [
      "reference_text: mấy giờ là chuyến bay tiếp theo tới narita\n",
      "predicted_text: mấy giờ là chuyến bay tiếp theo tới nijita?\n",
      "Processing: FPTOpenSpeechData_Set001_V0.1_000833.mp3\n"
     ]
    },
    {
     "name": "stderr",
     "output_type": "stream",
     "text": [
      "/home/ngo/anaconda3/lib/python3.12/site-packages/whisper/transcribe.py:126: UserWarning: FP16 is not supported on CPU; using FP32 instead\n",
      "  warnings.warn(\"FP16 is not supported on CPU; using FP32 instead\")\n"
     ]
    },
    {
     "name": "stdout",
     "output_type": "stream",
     "text": [
      "reference_text: giấy phạt đây anh bị phạt hai mươi lăm ringgit\n",
      "predicted_text: giấy phạt đây, anh bị phạt 25 ringgit.\n",
      "Processing: FPTOpenSpeechData_Set001_V0.1_000834.mp3\n"
     ]
    },
    {
     "name": "stderr",
     "output_type": "stream",
     "text": [
      "/home/ngo/anaconda3/lib/python3.12/site-packages/whisper/transcribe.py:126: UserWarning: FP16 is not supported on CPU; using FP32 instead\n",
      "  warnings.warn(\"FP16 is not supported on CPU; using FP32 instead\")\n"
     ]
    },
    {
     "name": "stdout",
     "output_type": "stream",
     "text": [
      "reference_text: binh lính chính phủ gần thánh đường\n",
      "predicted_text: đi linh chính phủ gần thái đường\n",
      "Processing: FPTOpenSpeechData_Set001_V0.1_000835.mp3\n"
     ]
    },
    {
     "name": "stderr",
     "output_type": "stream",
     "text": [
      "/home/ngo/anaconda3/lib/python3.12/site-packages/whisper/transcribe.py:126: UserWarning: FP16 is not supported on CPU; using FP32 instead\n",
      "  warnings.warn(\"FP16 is not supported on CPU; using FP32 instead\")\n"
     ]
    },
    {
     "name": "stdout",
     "output_type": "stream",
     "text": [
      "reference_text: vui lòng đến quầy của hàng không nhật bản\n",
      "predicted_text: vui lòng đến quầy của hàng không nhật bản\n",
      "Processing: FPTOpenSpeechData_Set001_V0.1_000836.mp3\n"
     ]
    },
    {
     "name": "stderr",
     "output_type": "stream",
     "text": [
      "/home/ngo/anaconda3/lib/python3.12/site-packages/whisper/transcribe.py:126: UserWarning: FP16 is not supported on CPU; using FP32 instead\n",
      "  warnings.warn(\"FP16 is not supported on CPU; using FP32 instead\")\n"
     ]
    },
    {
     "name": "stdout",
     "output_type": "stream",
     "text": [
      "reference_text: anh giỏi quá rồi nhỉ\n",
      "predicted_text: anh giỡn quá rồi nhỉ?\n",
      "Processing: FPTOpenSpeechData_Set001_V0.1_000837.mp3\n"
     ]
    },
    {
     "name": "stderr",
     "output_type": "stream",
     "text": [
      "/home/ngo/anaconda3/lib/python3.12/site-packages/whisper/transcribe.py:126: UserWarning: FP16 is not supported on CPU; using FP32 instead\n",
      "  warnings.warn(\"FP16 is not supported on CPU; using FP32 instead\")\n"
     ]
    },
    {
     "name": "stdout",
     "output_type": "stream",
     "text": [
      "reference_text: tôi có thể cầm áo khoác của bạn không\n",
      "predicted_text: tôi có thể cân bạo khoảng của bà bạn không?\n",
      "Processing: FPTOpenSpeechData_Set001_V0.1_000838.mp3\n"
     ]
    },
    {
     "name": "stderr",
     "output_type": "stream",
     "text": [
      "/home/ngo/anaconda3/lib/python3.12/site-packages/whisper/transcribe.py:126: UserWarning: FP16 is not supported on CPU; using FP32 instead\n",
      "  warnings.warn(\"FP16 is not supported on CPU; using FP32 instead\")\n"
     ]
    },
    {
     "name": "stdout",
     "output_type": "stream",
     "text": [
      "reference_text: chị có cỡ lớn không\n",
      "predicted_text: chị có cửa lớn không?\n",
      "Processing: FPTOpenSpeechData_Set001_V0.1_000839.mp3\n"
     ]
    },
    {
     "name": "stderr",
     "output_type": "stream",
     "text": [
      "/home/ngo/anaconda3/lib/python3.12/site-packages/whisper/transcribe.py:126: UserWarning: FP16 is not supported on CPU; using FP32 instead\n",
      "  warnings.warn(\"FP16 is not supported on CPU; using FP32 instead\")\n"
     ]
    },
    {
     "name": "stdout",
     "output_type": "stream",
     "text": [
      "reference_text: từ mẫu phân tích của bà vũ thị khởi giám đốc tổng công ty tâm lý học ứng dụng nhiều phụ huynh đã hiểu rõ khoảng trống giữa cha mẹ và con cái không phải là khoảng cách về địa lý mà là khoảng cách tâm lý\n",
      "predicted_text: từ mẫu phân tích của bà, vũ thị khởi, giám đốc tổng công ty tâm lý học ứng dụng nhiều phụ huynh đã hiểu rõ khoảng trống giữa cha mẹ và con cái không phải là khoảng cách về địa lý mà là khoảng cách tâm lý.\n",
      "Processing: FPTOpenSpeechData_Set001_V0.1_000840.mp3\n"
     ]
    },
    {
     "name": "stderr",
     "output_type": "stream",
     "text": [
      "/home/ngo/anaconda3/lib/python3.12/site-packages/whisper/transcribe.py:126: UserWarning: FP16 is not supported on CPU; using FP32 instead\n",
      "  warnings.warn(\"FP16 is not supported on CPU; using FP32 instead\")\n"
     ]
    },
    {
     "name": "stdout",
     "output_type": "stream",
     "text": [
      "reference_text: thưa ông có đúng mười một giờ\n",
      "predicted_text: thưa ông có, đúng 11h\n",
      "Processing: FPTOpenSpeechData_Set001_V0.1_000841.mp3\n"
     ]
    },
    {
     "name": "stderr",
     "output_type": "stream",
     "text": [
      "/home/ngo/anaconda3/lib/python3.12/site-packages/whisper/transcribe.py:126: UserWarning: FP16 is not supported on CPU; using FP32 instead\n",
      "  warnings.warn(\"FP16 is not supported on CPU; using FP32 instead\")\n"
     ]
    },
    {
     "name": "stdout",
     "output_type": "stream",
     "text": [
      "reference_text: làm ơn\n",
      "predicted_text: làm ơn\n",
      "Processing: FPTOpenSpeechData_Set001_V0.1_000842.mp3\n"
     ]
    },
    {
     "name": "stderr",
     "output_type": "stream",
     "text": [
      "/home/ngo/anaconda3/lib/python3.12/site-packages/whisper/transcribe.py:126: UserWarning: FP16 is not supported on CPU; using FP32 instead\n",
      "  warnings.warn(\"FP16 is not supported on CPU; using FP32 instead\")\n"
     ]
    },
    {
     "name": "stdout",
     "output_type": "stream",
     "text": [
      "reference_text: tờ báo trên bàn vừa mới được đọc\n",
      "predicted_text: và báo trên bàn vừa mới được đọc\n",
      "Processing: FPTOpenSpeechData_Set001_V0.1_000843.mp3\n"
     ]
    },
    {
     "name": "stderr",
     "output_type": "stream",
     "text": [
      "/home/ngo/anaconda3/lib/python3.12/site-packages/whisper/transcribe.py:126: UserWarning: FP16 is not supported on CPU; using FP32 instead\n",
      "  warnings.warn(\"FP16 is not supported on CPU; using FP32 instead\")\n"
     ]
    },
    {
     "name": "stdout",
     "output_type": "stream",
     "text": [
      "reference_text: giết người cướp của lấy tiền về quê\n",
      "predicted_text: giết người cướp của lấy tiền về quê\n",
      "Processing: FPTOpenSpeechData_Set001_V0.1_000844.mp3\n"
     ]
    },
    {
     "name": "stderr",
     "output_type": "stream",
     "text": [
      "/home/ngo/anaconda3/lib/python3.12/site-packages/whisper/transcribe.py:126: UserWarning: FP16 is not supported on CPU; using FP32 instead\n",
      "  warnings.warn(\"FP16 is not supported on CPU; using FP32 instead\")\n"
     ]
    },
    {
     "name": "stdout",
     "output_type": "stream",
     "text": [
      "reference_text: ti vi bóng đá ti vi\n",
      "predicted_text: bóng đá tv\n",
      "Processing: FPTOpenSpeechData_Set001_V0.1_000845.mp3\n"
     ]
    },
    {
     "name": "stderr",
     "output_type": "stream",
     "text": [
      "/home/ngo/anaconda3/lib/python3.12/site-packages/whisper/transcribe.py:126: UserWarning: FP16 is not supported on CPU; using FP32 instead\n",
      "  warnings.warn(\"FP16 is not supported on CPU; using FP32 instead\")\n"
     ]
    },
    {
     "name": "stdout",
     "output_type": "stream",
     "text": [
      "reference_text: tôi có thể sử dụng mặt nạ trang điểm với số lần như thế nào\n",
      "predicted_text: tôi có thể sử dụng mặt nạ trang điểm với số rành như thế nào?\n",
      "Processing: FPTOpenSpeechData_Set001_V0.1_000846.mp3\n"
     ]
    },
    {
     "name": "stderr",
     "output_type": "stream",
     "text": [
      "/home/ngo/anaconda3/lib/python3.12/site-packages/whisper/transcribe.py:126: UserWarning: FP16 is not supported on CPU; using FP32 instead\n",
      "  warnings.warn(\"FP16 is not supported on CPU; using FP32 instead\")\n"
     ]
    },
    {
     "name": "stdout",
     "output_type": "stream",
     "text": [
      "reference_text: không có sổ điện thoại\n",
      "predicted_text: không có số điện thoại\n",
      "Processing: FPTOpenSpeechData_Set001_V0.1_000847.mp3\n"
     ]
    },
    {
     "name": "stderr",
     "output_type": "stream",
     "text": [
      "/home/ngo/anaconda3/lib/python3.12/site-packages/whisper/transcribe.py:126: UserWarning: FP16 is not supported on CPU; using FP32 instead\n",
      "  warnings.warn(\"FP16 is not supported on CPU; using FP32 instead\")\n"
     ]
    },
    {
     "name": "stdout",
     "output_type": "stream",
     "text": [
      "reference_text: không giống như sản phẩm nông nghiệp dễ hỏng dầu có thể chôn dưới đất\n",
      "predicted_text: không giống như sản phẩm nông nghiệp, dễ, hỏng, dầu có thể chôn dưới đất\n",
      "Processing: FPTOpenSpeechData_Set001_V0.1_000848.mp3\n"
     ]
    },
    {
     "name": "stderr",
     "output_type": "stream",
     "text": [
      "/home/ngo/anaconda3/lib/python3.12/site-packages/whisper/transcribe.py:126: UserWarning: FP16 is not supported on CPU; using FP32 instead\n",
      "  warnings.warn(\"FP16 is not supported on CPU; using FP32 instead\")\n"
     ]
    },
    {
     "name": "stdout",
     "output_type": "stream",
     "text": [
      "reference_text: nhưng chính các nhà máy đường đang kích thích nông dân trồng mía khi đẩy giá mua mía lên cao\n",
      "predicted_text: nhưng chính các nhà máy đường đang kích thích nông dân trồng mía, vì đại giá mua mía lên cao\n",
      "Processing: FPTOpenSpeechData_Set001_V0.1_000849.mp3\n"
     ]
    },
    {
     "name": "stderr",
     "output_type": "stream",
     "text": [
      "/home/ngo/anaconda3/lib/python3.12/site-packages/whisper/transcribe.py:126: UserWarning: FP16 is not supported on CPU; using FP32 instead\n",
      "  warnings.warn(\"FP16 is not supported on CPU; using FP32 instead\")\n"
     ]
    },
    {
     "name": "stdout",
     "output_type": "stream",
     "text": [
      "reference_text: cám ơn xã hội đã cho chúng ta những con người có tấm lòng\n",
      "predicted_text: cảm ơn xã hội đã cho chúng ta những con người có tấm lòng.\n",
      "Processing: FPTOpenSpeechData_Set001_V0.1_000850.mp3\n"
     ]
    },
    {
     "name": "stderr",
     "output_type": "stream",
     "text": [
      "/home/ngo/anaconda3/lib/python3.12/site-packages/whisper/transcribe.py:126: UserWarning: FP16 is not supported on CPU; using FP32 instead\n",
      "  warnings.warn(\"FP16 is not supported on CPU; using FP32 instead\")\n"
     ]
    },
    {
     "name": "stdout",
     "output_type": "stream",
     "text": [
      "reference_text: xin lỗi có thể nào anh là anh không\n",
      "predicted_text: xin lỗi có thể nào anh là anh không?\n",
      "Processing: FPTOpenSpeechData_Set001_V0.1_000851.mp3\n"
     ]
    },
    {
     "name": "stderr",
     "output_type": "stream",
     "text": [
      "/home/ngo/anaconda3/lib/python3.12/site-packages/whisper/transcribe.py:126: UserWarning: FP16 is not supported on CPU; using FP32 instead\n",
      "  warnings.warn(\"FP16 is not supported on CPU; using FP32 instead\")\n"
     ]
    },
    {
     "name": "stdout",
     "output_type": "stream",
     "text": [
      "reference_text: tôi muốn đặt chỗ trước cho hai người vào bảy giờ tối nay\n",
      "predicted_text: tôi muốn đặt chỗ trước cho 2 người vào 7 giờ tối nay\n",
      "Processing: FPTOpenSpeechData_Set001_V0.1_000852.mp3\n"
     ]
    },
    {
     "name": "stderr",
     "output_type": "stream",
     "text": [
      "/home/ngo/anaconda3/lib/python3.12/site-packages/whisper/transcribe.py:126: UserWarning: FP16 is not supported on CPU; using FP32 instead\n",
      "  warnings.warn(\"FP16 is not supported on CPU; using FP32 instead\")\n"
     ]
    },
    {
     "name": "stdout",
     "output_type": "stream",
     "text": [
      "reference_text: thượng tá công an này được phát hiện trong tư thế\n",
      "predicted_text: tưởng tá công an này được phát hiện trong tư thế\n",
      "Processing: FPTOpenSpeechData_Set001_V0.1_000853.mp3\n"
     ]
    },
    {
     "name": "stderr",
     "output_type": "stream",
     "text": [
      "/home/ngo/anaconda3/lib/python3.12/site-packages/whisper/transcribe.py:126: UserWarning: FP16 is not supported on CPU; using FP32 instead\n",
      "  warnings.warn(\"FP16 is not supported on CPU; using FP32 instead\")\n"
     ]
    },
    {
     "name": "stdout",
     "output_type": "stream",
     "text": [
      "reference_text: nhưng đấy là cơ chế nào\n",
      "predicted_text: nhưng đấy là cơ chế nào?\n",
      "Processing: FPTOpenSpeechData_Set001_V0.1_000854.mp3\n"
     ]
    },
    {
     "name": "stderr",
     "output_type": "stream",
     "text": [
      "/home/ngo/anaconda3/lib/python3.12/site-packages/whisper/transcribe.py:126: UserWarning: FP16 is not supported on CPU; using FP32 instead\n",
      "  warnings.warn(\"FP16 is not supported on CPU; using FP32 instead\")\n"
     ]
    },
    {
     "name": "stdout",
     "output_type": "stream",
     "text": [
      "reference_text: chúng tôi đính kèm một bản miêu tả ngắn cách đến được khu liên hợp\n",
      "predicted_text: chúng tôi đính kèm một miếng tắc ngắn cách đến được khu liên hợp.\n",
      "Processing: FPTOpenSpeechData_Set001_V0.1_000855.mp3\n"
     ]
    },
    {
     "name": "stderr",
     "output_type": "stream",
     "text": [
      "/home/ngo/anaconda3/lib/python3.12/site-packages/whisper/transcribe.py:126: UserWarning: FP16 is not supported on CPU; using FP32 instead\n",
      "  warnings.warn(\"FP16 is not supported on CPU; using FP32 instead\")\n"
     ]
    },
    {
     "name": "stdout",
     "output_type": "stream",
     "text": [
      "reference_text: ảnh tổng thống bush chơi nhạc nhảy\n",
      "predicted_text: các bạn có thể nhìn thấy những bức ảnh của tôi trong phần bình luận.\n",
      "Processing: FPTOpenSpeechData_Set001_V0.1_000856.mp3\n"
     ]
    },
    {
     "name": "stderr",
     "output_type": "stream",
     "text": [
      "/home/ngo/anaconda3/lib/python3.12/site-packages/whisper/transcribe.py:126: UserWarning: FP16 is not supported on CPU; using FP32 instead\n",
      "  warnings.warn(\"FP16 is not supported on CPU; using FP32 instead\")\n"
     ]
    },
    {
     "name": "stdout",
     "output_type": "stream",
     "text": [
      "reference_text: mời các anh ngồi xuống đây\n",
      "predicted_text: mời các anh ngồi xuống đây\n",
      "Processing: FPTOpenSpeechData_Set001_V0.1_000857.mp3\n"
     ]
    },
    {
     "name": "stderr",
     "output_type": "stream",
     "text": [
      "/home/ngo/anaconda3/lib/python3.12/site-packages/whisper/transcribe.py:126: UserWarning: FP16 is not supported on CPU; using FP32 instead\n",
      "  warnings.warn(\"FP16 is not supported on CPU; using FP32 instead\")\n"
     ]
    },
    {
     "name": "stdout",
     "output_type": "stream",
     "text": [
      "reference_text: anh có uống bất kỳ loại dược phẩm nào khác không\n",
      "predicted_text: anh có uống bất kỳ loại dược phẩm nào khác không?\n",
      "Processing: FPTOpenSpeechData_Set001_V0.1_000858.mp3\n"
     ]
    },
    {
     "name": "stderr",
     "output_type": "stream",
     "text": [
      "/home/ngo/anaconda3/lib/python3.12/site-packages/whisper/transcribe.py:126: UserWarning: FP16 is not supported on CPU; using FP32 instead\n",
      "  warnings.warn(\"FP16 is not supported on CPU; using FP32 instead\")\n"
     ]
    },
    {
     "name": "stdout",
     "output_type": "stream",
     "text": [
      "reference_text: làm ơn cho tôi một chỗ ở khu không hút thuốc\n",
      "predicted_text: làm ơn cho tôi một chỗ ở khu không hút thuốc\n",
      "Processing: FPTOpenSpeechData_Set001_V0.1_000859.mp3\n"
     ]
    },
    {
     "name": "stderr",
     "output_type": "stream",
     "text": [
      "/home/ngo/anaconda3/lib/python3.12/site-packages/whisper/transcribe.py:126: UserWarning: FP16 is not supported on CPU; using FP32 instead\n",
      "  warnings.warn(\"FP16 is not supported on CPU; using FP32 instead\")\n"
     ]
    },
    {
     "name": "stdout",
     "output_type": "stream",
     "text": [
      "reference_text: tôi muốn một vé khứ hồi đến trạm s\n",
      "predicted_text: tôi muốn một vé cứu hồi đến trạm s.\n",
      "Processing: FPTOpenSpeechData_Set001_V0.1_000860.mp3\n"
     ]
    },
    {
     "name": "stderr",
     "output_type": "stream",
     "text": [
      "/home/ngo/anaconda3/lib/python3.12/site-packages/whisper/transcribe.py:126: UserWarning: FP16 is not supported on CPU; using FP32 instead\n",
      "  warnings.warn(\"FP16 is not supported on CPU; using FP32 instead\")\n"
     ]
    },
    {
     "name": "stdout",
     "output_type": "stream",
     "text": [
      "reference_text: mời các bạn tham vấn cho bạn bảo ngọc và chia sẻ về chuyện này\n",
      "predicted_text: mời các bạn tham vấn cho bạn bảo ngọc và chia sẻ về chuyện này\n",
      "Processing: FPTOpenSpeechData_Set001_V0.1_000861.mp3\n"
     ]
    },
    {
     "name": "stderr",
     "output_type": "stream",
     "text": [
      "/home/ngo/anaconda3/lib/python3.12/site-packages/whisper/transcribe.py:126: UserWarning: FP16 is not supported on CPU; using FP32 instead\n",
      "  warnings.warn(\"FP16 is not supported on CPU; using FP32 instead\")\n"
     ]
    },
    {
     "name": "stdout",
     "output_type": "stream",
     "text": [
      "reference_text: từ đây đến viện bảo tàng mất bao lâu\n",
      "predicted_text: cụ đầy đầy mũi tiền bảo cảm và tài lỗi\n",
      "Processing: FPTOpenSpeechData_Set001_V0.1_000862.mp3\n"
     ]
    },
    {
     "name": "stderr",
     "output_type": "stream",
     "text": [
      "/home/ngo/anaconda3/lib/python3.12/site-packages/whisper/transcribe.py:126: UserWarning: FP16 is not supported on CPU; using FP32 instead\n",
      "  warnings.warn(\"FP16 is not supported on CPU; using FP32 instead\")\n"
     ]
    },
    {
     "name": "stdout",
     "output_type": "stream",
     "text": [
      "reference_text: còn vé cho buổi diễn tối nay không\n",
      "predicted_text: còn vé cho buổi diễn tối nay không?\n",
      "Processing: FPTOpenSpeechData_Set001_V0.1_000863.mp3\n"
     ]
    },
    {
     "name": "stderr",
     "output_type": "stream",
     "text": [
      "/home/ngo/anaconda3/lib/python3.12/site-packages/whisper/transcribe.py:126: UserWarning: FP16 is not supported on CPU; using FP32 instead\n",
      "  warnings.warn(\"FP16 is not supported on CPU; using FP32 instead\")\n"
     ]
    },
    {
     "name": "stdout",
     "output_type": "stream",
     "text": [
      "reference_text: tôi nghĩ họ sẽ sớm kết hôn\n",
      "predicted_text: tôi nghĩ họ sẽ sẵn tiệt hơn\n",
      "Processing: FPTOpenSpeechData_Set001_V0.1_000864.mp3\n"
     ]
    },
    {
     "name": "stderr",
     "output_type": "stream",
     "text": [
      "/home/ngo/anaconda3/lib/python3.12/site-packages/whisper/transcribe.py:126: UserWarning: FP16 is not supported on CPU; using FP32 instead\n",
      "  warnings.warn(\"FP16 is not supported on CPU; using FP32 instead\")\n"
     ]
    },
    {
     "name": "stdout",
     "output_type": "stream",
     "text": [
      "reference_text: đừng có tòm tem nhăng nhít vớ vẩn để xấu mặt mọi người\n",
      "predicted_text: đừng có toàn tem nhắn dịch vỡ vẩn để xấu mặt mọi người\n",
      "Processing: FPTOpenSpeechData_Set001_V0.1_000865.mp3\n"
     ]
    },
    {
     "name": "stderr",
     "output_type": "stream",
     "text": [
      "/home/ngo/anaconda3/lib/python3.12/site-packages/whisper/transcribe.py:126: UserWarning: FP16 is not supported on CPU; using FP32 instead\n",
      "  warnings.warn(\"FP16 is not supported on CPU; using FP32 instead\")\n"
     ]
    },
    {
     "name": "stdout",
     "output_type": "stream",
     "text": [
      "reference_text: những dự án mở rộng ở nhật cũng bị hoãn hãng khẳng định sẽ chẳng sa thải nhân công chính thức nhưng bảy ngàn nhân công thời vụ đã được nghỉ việc ở mỹ\n",
      "predicted_text: những dự án mở rộng ở nhật cũng bị hoãn, hãng khẳng định sẽ chẳng xa thải nhân công chính thức nhưng 7.000 nhân công thời vụ đã được nghỉ việc ở mỹ.\n",
      "Processing: FPTOpenSpeechData_Set001_V0.1_000866.mp3\n"
     ]
    },
    {
     "name": "stderr",
     "output_type": "stream",
     "text": [
      "/home/ngo/anaconda3/lib/python3.12/site-packages/whisper/transcribe.py:126: UserWarning: FP16 is not supported on CPU; using FP32 instead\n",
      "  warnings.warn(\"FP16 is not supported on CPU; using FP32 instead\")\n"
     ]
    },
    {
     "name": "stdout",
     "output_type": "stream",
     "text": [
      "reference_text: bật chế độ sưởi ấm\n",
      "predicted_text: bật chế độ sửa ấm\n",
      "Processing: FPTOpenSpeechData_Set001_V0.1_000867.mp3\n"
     ]
    },
    {
     "name": "stderr",
     "output_type": "stream",
     "text": [
      "/home/ngo/anaconda3/lib/python3.12/site-packages/whisper/transcribe.py:126: UserWarning: FP16 is not supported on CPU; using FP32 instead\n",
      "  warnings.warn(\"FP16 is not supported on CPU; using FP32 instead\")\n"
     ]
    },
    {
     "name": "stdout",
     "output_type": "stream",
     "text": [
      "reference_text: là người hay tò mò ưa khám phá sáng tạo tâm hồn cởi mở họ thích lắng nghe và cho mọi người lời khuyên\n",
      "predicted_text: là người hay tò mò, thích khám phá, sáng tạo, tâm hồn cỡ mở, họ thích lắng nghe và cho một người lời khuyên\n",
      "Processing: FPTOpenSpeechData_Set001_V0.1_000868.mp3\n"
     ]
    },
    {
     "name": "stderr",
     "output_type": "stream",
     "text": [
      "/home/ngo/anaconda3/lib/python3.12/site-packages/whisper/transcribe.py:126: UserWarning: FP16 is not supported on CPU; using FP32 instead\n",
      "  warnings.warn(\"FP16 is not supported on CPU; using FP32 instead\")\n"
     ]
    },
    {
     "name": "stdout",
     "output_type": "stream",
     "text": [
      "reference_text: thức uống bánh mỳ và các món ăn chính sẽ được cung cấp\n",
      "predicted_text: thức uống, bánh mì và các món ăn chính sẽ được cung cấp\n",
      "Processing: FPTOpenSpeechData_Set001_V0.1_000869.mp3\n"
     ]
    },
    {
     "name": "stderr",
     "output_type": "stream",
     "text": [
      "/home/ngo/anaconda3/lib/python3.12/site-packages/whisper/transcribe.py:126: UserWarning: FP16 is not supported on CPU; using FP32 instead\n",
      "  warnings.warn(\"FP16 is not supported on CPU; using FP32 instead\")\n"
     ]
    },
    {
     "name": "stdout",
     "output_type": "stream",
     "text": [
      "reference_text: một số lượng lớn\n",
      "predicted_text: 1 số lượng lớn\n",
      "Processing: FPTOpenSpeechData_Set001_V0.1_000870.mp3\n"
     ]
    },
    {
     "name": "stderr",
     "output_type": "stream",
     "text": [
      "/home/ngo/anaconda3/lib/python3.12/site-packages/whisper/transcribe.py:126: UserWarning: FP16 is not supported on CPU; using FP32 instead\n",
      "  warnings.warn(\"FP16 is not supported on CPU; using FP32 instead\")\n"
     ]
    },
    {
     "name": "stdout",
     "output_type": "stream",
     "text": [
      "reference_text: nó thật vui\n",
      "predicted_text: nó thật vui\n",
      "Processing: FPTOpenSpeechData_Set001_V0.1_000871.mp3\n"
     ]
    },
    {
     "name": "stderr",
     "output_type": "stream",
     "text": [
      "/home/ngo/anaconda3/lib/python3.12/site-packages/whisper/transcribe.py:126: UserWarning: FP16 is not supported on CPU; using FP32 instead\n",
      "  warnings.warn(\"FP16 is not supported on CPU; using FP32 instead\")\n"
     ]
    },
    {
     "name": "stdout",
     "output_type": "stream",
     "text": [
      "reference_text: tăng nhiệt độ lên hai mươi chín độ\n",
      "predicted_text: tăng nhiệt độ lên 29 độ\n",
      "Processing: FPTOpenSpeechData_Set001_V0.1_000872.mp3\n"
     ]
    },
    {
     "name": "stderr",
     "output_type": "stream",
     "text": [
      "/home/ngo/anaconda3/lib/python3.12/site-packages/whisper/transcribe.py:126: UserWarning: FP16 is not supported on CPU; using FP32 instead\n",
      "  warnings.warn(\"FP16 is not supported on CPU; using FP32 instead\")\n"
     ]
    },
    {
     "name": "stdout",
     "output_type": "stream",
     "text": [
      "reference_text: giá cước đến chiangmai là bao nhiêu\n",
      "predicted_text: trả cược đến chị anh mai là bao nhiêu?\n",
      "Processing: FPTOpenSpeechData_Set001_V0.1_000873.mp3\n"
     ]
    },
    {
     "name": "stderr",
     "output_type": "stream",
     "text": [
      "/home/ngo/anaconda3/lib/python3.12/site-packages/whisper/transcribe.py:126: UserWarning: FP16 is not supported on CPU; using FP32 instead\n",
      "  warnings.warn(\"FP16 is not supported on CPU; using FP32 instead\")\n"
     ]
    },
    {
     "name": "stdout",
     "output_type": "stream",
     "text": [
      "reference_text: các bà vợ kể rằng\n",
      "predicted_text: các ba vợ kể rằng\n",
      "Processing: FPTOpenSpeechData_Set001_V0.1_000874.mp3\n"
     ]
    },
    {
     "name": "stderr",
     "output_type": "stream",
     "text": [
      "/home/ngo/anaconda3/lib/python3.12/site-packages/whisper/transcribe.py:126: UserWarning: FP16 is not supported on CPU; using FP32 instead\n",
      "  warnings.warn(\"FP16 is not supported on CPU; using FP32 instead\")\n"
     ]
    },
    {
     "name": "stdout",
     "output_type": "stream",
     "text": [
      "reference_text: anh có muốn được giúp gì không\n",
      "predicted_text: anh có muốn được giúp gì không?\n",
      "Processing: FPTOpenSpeechData_Set001_V0.1_000875.mp3\n"
     ]
    },
    {
     "name": "stderr",
     "output_type": "stream",
     "text": [
      "/home/ngo/anaconda3/lib/python3.12/site-packages/whisper/transcribe.py:126: UserWarning: FP16 is not supported on CPU; using FP32 instead\n",
      "  warnings.warn(\"FP16 is not supported on CPU; using FP32 instead\")\n"
     ]
    },
    {
     "name": "stdout",
     "output_type": "stream",
     "text": [
      "reference_text: chúng tôi muốn đi trượt nước\n",
      "predicted_text: chúng tôi muốn đi trượt nước\n",
      "Processing: FPTOpenSpeechData_Set001_V0.1_000876.mp3\n"
     ]
    },
    {
     "name": "stderr",
     "output_type": "stream",
     "text": [
      "/home/ngo/anaconda3/lib/python3.12/site-packages/whisper/transcribe.py:126: UserWarning: FP16 is not supported on CPU; using FP32 instead\n",
      "  warnings.warn(\"FP16 is not supported on CPU; using FP32 instead\")\n"
     ]
    },
    {
     "name": "stdout",
     "output_type": "stream",
     "text": [
      "reference_text: tôi sẽ quay lại trong vòng một tiếng nữa\n",
      "predicted_text: tôi sẽ quay lại trong vòng 1 tiếng lửa\n",
      "Processing: FPTOpenSpeechData_Set001_V0.1_000877.mp3\n"
     ]
    },
    {
     "name": "stderr",
     "output_type": "stream",
     "text": [
      "/home/ngo/anaconda3/lib/python3.12/site-packages/whisper/transcribe.py:126: UserWarning: FP16 is not supported on CPU; using FP32 instead\n",
      "  warnings.warn(\"FP16 is not supported on CPU; using FP32 instead\")\n"
     ]
    },
    {
     "name": "stdout",
     "output_type": "stream",
     "text": [
      "reference_text: cho tôi một ít dấm\n",
      "predicted_text: cho tôi một ít giấm\n",
      "Processing: FPTOpenSpeechData_Set001_V0.1_000878.mp3\n"
     ]
    },
    {
     "name": "stderr",
     "output_type": "stream",
     "text": [
      "/home/ngo/anaconda3/lib/python3.12/site-packages/whisper/transcribe.py:126: UserWarning: FP16 is not supported on CPU; using FP32 instead\n",
      "  warnings.warn(\"FP16 is not supported on CPU; using FP32 instead\")\n"
     ]
    },
    {
     "name": "stdout",
     "output_type": "stream",
     "text": [
      "reference_text: kha đây là noami mình đang ở thành phố\n",
      "predicted_text: kha, đây là noami, mình đang ở thành phố.\n",
      "Processing: FPTOpenSpeechData_Set001_V0.1_000879.mp3\n"
     ]
    },
    {
     "name": "stderr",
     "output_type": "stream",
     "text": [
      "/home/ngo/anaconda3/lib/python3.12/site-packages/whisper/transcribe.py:126: UserWarning: FP16 is not supported on CPU; using FP32 instead\n",
      "  warnings.warn(\"FP16 is not supported on CPU; using FP32 instead\")\n"
     ]
    },
    {
     "name": "stdout",
     "output_type": "stream",
     "text": [
      "reference_text: ngày mai trời sẽ có sương mù à\n",
      "predicted_text: ngày mai thì sẽ có chiếc mua\n",
      "Processing: FPTOpenSpeechData_Set001_V0.1_000880.mp3\n"
     ]
    },
    {
     "name": "stderr",
     "output_type": "stream",
     "text": [
      "/home/ngo/anaconda3/lib/python3.12/site-packages/whisper/transcribe.py:126: UserWarning: FP16 is not supported on CPU; using FP32 instead\n",
      "  warnings.warn(\"FP16 is not supported on CPU; using FP32 instead\")\n"
     ]
    },
    {
     "name": "stdout",
     "output_type": "stream",
     "text": [
      "reference_text: tôi có một thẻ ngân hàng\n",
      "predicted_text: tôi có một thẻ ngân hàng\n",
      "Processing: FPTOpenSpeechData_Set001_V0.1_000881.mp3\n"
     ]
    },
    {
     "name": "stderr",
     "output_type": "stream",
     "text": [
      "/home/ngo/anaconda3/lib/python3.12/site-packages/whisper/transcribe.py:126: UserWarning: FP16 is not supported on CPU; using FP32 instead\n",
      "  warnings.warn(\"FP16 is not supported on CPU; using FP32 instead\")\n"
     ]
    },
    {
     "name": "stdout",
     "output_type": "stream",
     "text": [
      "reference_text: vui lòng cho tôi ghế phía trước dọc lối đi\n",
      "predicted_text: vui lòng cho tôi ghé phía trước dòng hồi đi\n",
      "Processing: FPTOpenSpeechData_Set001_V0.1_000882.mp3\n"
     ]
    },
    {
     "name": "stderr",
     "output_type": "stream",
     "text": [
      "/home/ngo/anaconda3/lib/python3.12/site-packages/whisper/transcribe.py:126: UserWarning: FP16 is not supported on CPU; using FP32 instead\n",
      "  warnings.warn(\"FP16 is not supported on CPU; using FP32 instead\")\n"
     ]
    },
    {
     "name": "stdout",
     "output_type": "stream",
     "text": [
      "reference_text: lũ trẻ nít\n",
      "predicted_text: lỗ trẻ nít\n",
      "Processing: FPTOpenSpeechData_Set001_V0.1_000883.mp3\n"
     ]
    },
    {
     "name": "stderr",
     "output_type": "stream",
     "text": [
      "/home/ngo/anaconda3/lib/python3.12/site-packages/whisper/transcribe.py:126: UserWarning: FP16 is not supported on CPU; using FP32 instead\n",
      "  warnings.warn(\"FP16 is not supported on CPU; using FP32 instead\")\n"
     ]
    },
    {
     "name": "stdout",
     "output_type": "stream",
     "text": [
      "reference_text: tụ tập học đòi đàn đúm hư thân mất nết\n",
      "predicted_text: tụ tập học đòi đàn đấm thư thân mất nết\n",
      "Processing: FPTOpenSpeechData_Set001_V0.1_000884.mp3\n"
     ]
    },
    {
     "name": "stderr",
     "output_type": "stream",
     "text": [
      "/home/ngo/anaconda3/lib/python3.12/site-packages/whisper/transcribe.py:126: UserWarning: FP16 is not supported on CPU; using FP32 instead\n",
      "  warnings.warn(\"FP16 is not supported on CPU; using FP32 instead\")\n"
     ]
    },
    {
     "name": "stdout",
     "output_type": "stream",
     "text": [
      "reference_text: tối nay bạn có muốn đến rạp chiếu phim không\n",
      "predicted_text: tối nay bạn có muốn đến đọc chữ phim không?\n",
      "Processing: FPTOpenSpeechData_Set001_V0.1_000885.mp3\n"
     ]
    },
    {
     "name": "stderr",
     "output_type": "stream",
     "text": [
      "/home/ngo/anaconda3/lib/python3.12/site-packages/whisper/transcribe.py:126: UserWarning: FP16 is not supported on CPU; using FP32 instead\n",
      "  warnings.warn(\"FP16 is not supported on CPU; using FP32 instead\")\n"
     ]
    },
    {
     "name": "stdout",
     "output_type": "stream",
     "text": [
      "reference_text: gần đây nhiều sếp âm thầm bán cổ phiếu nhưng không báo cơ quan quản lý\n",
      "predicted_text: gần đây, nhiều xếp âm thầm bán cổ phiếu nhưng không bảo cơ quan hoạt động.\n",
      "Processing: FPTOpenSpeechData_Set001_V0.1_000886.mp3\n"
     ]
    },
    {
     "name": "stderr",
     "output_type": "stream",
     "text": [
      "/home/ngo/anaconda3/lib/python3.12/site-packages/whisper/transcribe.py:126: UserWarning: FP16 is not supported on CPU; using FP32 instead\n",
      "  warnings.warn(\"FP16 is not supported on CPU; using FP32 instead\")\n"
     ]
    },
    {
     "name": "stdout",
     "output_type": "stream",
     "text": [
      "reference_text: ông ri nhấn mạnh bình nhưỡng sẽ không khoanh tay ngồi nhìn mà sẽ tấn công nếu cần\n",
      "predicted_text: ông ri nhấn mạnh bình nhưỡng sẽ không quay tay ngồi nhìn mà sẽ tỉnh không biến cân.\n",
      "Processing: FPTOpenSpeechData_Set001_V0.1_000887.mp3\n"
     ]
    },
    {
     "name": "stderr",
     "output_type": "stream",
     "text": [
      "/home/ngo/anaconda3/lib/python3.12/site-packages/whisper/transcribe.py:126: UserWarning: FP16 is not supported on CPU; using FP32 instead\n",
      "  warnings.warn(\"FP16 is not supported on CPU; using FP32 instead\")\n"
     ]
    },
    {
     "name": "stdout",
     "output_type": "stream",
     "text": [
      "reference_text: vâng chúng tôi có thể vui lòng cho tôi biết tên\n",
      "predicted_text: vâng, chúng tôi có thể vui lòng cho tôi biết tên.\n",
      "Processing: FPTOpenSpeechData_Set001_V0.1_000888.mp3\n"
     ]
    },
    {
     "name": "stderr",
     "output_type": "stream",
     "text": [
      "/home/ngo/anaconda3/lib/python3.12/site-packages/whisper/transcribe.py:126: UserWarning: FP16 is not supported on CPU; using FP32 instead\n",
      "  warnings.warn(\"FP16 is not supported on CPU; using FP32 instead\")\n"
     ]
    },
    {
     "name": "stdout",
     "output_type": "stream",
     "text": [
      "reference_text: nằm giữa trung tâm thành phố bắc giang quán phở nổi tiếng của nguyễn thị hảo và nguyễn tuấn vũ chẳng lúc nào đề biển mở cửa nhưng khách vẫn hối hả\n",
      "predicted_text: nằm giữa trung tâm thành phố bắc giang, quán phở nổi tiếng của nguyễn thị hậu và khu vực vũ, chẳng lúc nào để biển mở cửa nhưng khách vẫn hối hả.\n",
      "Processing: FPTOpenSpeechData_Set001_V0.1_000889.mp3\n"
     ]
    },
    {
     "name": "stderr",
     "output_type": "stream",
     "text": [
      "/home/ngo/anaconda3/lib/python3.12/site-packages/whisper/transcribe.py:126: UserWarning: FP16 is not supported on CPU; using FP32 instead\n",
      "  warnings.warn(\"FP16 is not supported on CPU; using FP32 instead\")\n"
     ]
    },
    {
     "name": "stdout",
     "output_type": "stream",
     "text": [
      "reference_text: đây là đường nút từ nút giao thông khu an nam sài gòn đến cầu phú mỹ và đường vành đai phía đông thành phố\n",
      "predicted_text: đây là đường nút từ nút giao thông khu ăn nam sài gòn đến cầu phú mỹ và đường vành đai phía đông thành phố.\n",
      "Processing: FPTOpenSpeechData_Set001_V0.1_000890.mp3\n"
     ]
    },
    {
     "name": "stderr",
     "output_type": "stream",
     "text": [
      "/home/ngo/anaconda3/lib/python3.12/site-packages/whisper/transcribe.py:126: UserWarning: FP16 is not supported on CPU; using FP32 instead\n",
      "  warnings.warn(\"FP16 is not supported on CPU; using FP32 instead\")\n"
     ]
    },
    {
     "name": "stdout",
     "output_type": "stream",
     "text": [
      "reference_text: chúng giúp làn da khô trở nên tươi mát mềm mại hơn\n",
      "predicted_text: chúng giúp làn da khô trở nên tươi mát, mềm mại hơn\n",
      "Processing: FPTOpenSpeechData_Set001_V0.1_000891.mp3\n"
     ]
    },
    {
     "name": "stderr",
     "output_type": "stream",
     "text": [
      "/home/ngo/anaconda3/lib/python3.12/site-packages/whisper/transcribe.py:126: UserWarning: FP16 is not supported on CPU; using FP32 instead\n",
      "  warnings.warn(\"FP16 is not supported on CPU; using FP32 instead\")\n"
     ]
    },
    {
     "name": "stdout",
     "output_type": "stream",
     "text": [
      "reference_text: vì ngôn ngữ bây giờ không phải là tiếng anh nữa nên tốt nhất là bạn hủy cả dòng\n",
      "predicted_text: vì ngô cử bây giờ không phải là tiếng anh nữa nên tốt nhất là bạn thủy cả dòng\n",
      "Processing: FPTOpenSpeechData_Set001_V0.1_000892.mp3\n"
     ]
    },
    {
     "name": "stderr",
     "output_type": "stream",
     "text": [
      "/home/ngo/anaconda3/lib/python3.12/site-packages/whisper/transcribe.py:126: UserWarning: FP16 is not supported on CPU; using FP32 instead\n",
      "  warnings.warn(\"FP16 is not supported on CPU; using FP32 instead\")\n"
     ]
    },
    {
     "name": "stdout",
     "output_type": "stream",
     "text": [
      "reference_text: cương ấp úng không trả lời\n",
      "predicted_text: cường ấp không trả lời\n",
      "Processing: FPTOpenSpeechData_Set001_V0.1_000893.mp3\n"
     ]
    },
    {
     "name": "stderr",
     "output_type": "stream",
     "text": [
      "/home/ngo/anaconda3/lib/python3.12/site-packages/whisper/transcribe.py:126: UserWarning: FP16 is not supported on CPU; using FP32 instead\n",
      "  warnings.warn(\"FP16 is not supported on CPU; using FP32 instead\")\n"
     ]
    },
    {
     "name": "stdout",
     "output_type": "stream",
     "text": [
      "reference_text: khách nước ngoài đón tết tại hà nội\n",
      "predicted_text: khách ngoài đón tết tại hà nội\n",
      "Processing: FPTOpenSpeechData_Set001_V0.1_000894.mp3\n"
     ]
    },
    {
     "name": "stderr",
     "output_type": "stream",
     "text": [
      "/home/ngo/anaconda3/lib/python3.12/site-packages/whisper/transcribe.py:126: UserWarning: FP16 is not supported on CPU; using FP32 instead\n",
      "  warnings.warn(\"FP16 is not supported on CPU; using FP32 instead\")\n"
     ]
    },
    {
     "name": "stdout",
     "output_type": "stream",
     "text": [
      "reference_text: tôi sẽ thảo phiếu tính tiền cho ông\n",
      "predicted_text: tôi sẽ thảo phiếu tính tiền cho ông\n",
      "Processing: FPTOpenSpeechData_Set001_V0.1_000895.mp3\n"
     ]
    },
    {
     "name": "stderr",
     "output_type": "stream",
     "text": [
      "/home/ngo/anaconda3/lib/python3.12/site-packages/whisper/transcribe.py:126: UserWarning: FP16 is not supported on CPU; using FP32 instead\n",
      "  warnings.warn(\"FP16 is not supported on CPU; using FP32 instead\")\n"
     ]
    },
    {
     "name": "stdout",
     "output_type": "stream",
     "text": [
      "reference_text: phía công an cũng sẽ có những thông báo để có biện pháp ngăn chặn\n",
      "predicted_text: phía công an cũng sẽ có những thông báo để có biện pháp ngăn chặn\n",
      "Processing: FPTOpenSpeechData_Set001_V0.1_000896.mp3\n"
     ]
    },
    {
     "name": "stderr",
     "output_type": "stream",
     "text": [
      "/home/ngo/anaconda3/lib/python3.12/site-packages/whisper/transcribe.py:126: UserWarning: FP16 is not supported on CPU; using FP32 instead\n",
      "  warnings.warn(\"FP16 is not supported on CPU; using FP32 instead\")\n"
     ]
    },
    {
     "name": "stdout",
     "output_type": "stream",
     "text": [
      "reference_text: phó bí thư tưởng phi chiến thăm tặng quà gia đình chính sách hộ nghèo ở huyện chương mỹ\n",
      "predicted_text: họ bị thứ tưởng khi chiến thăm tăng gia đình chính sách hôn heo ở huyền chiến mỹ\n",
      "Processing: FPTOpenSpeechData_Set001_V0.1_000897.mp3\n"
     ]
    },
    {
     "name": "stderr",
     "output_type": "stream",
     "text": [
      "/home/ngo/anaconda3/lib/python3.12/site-packages/whisper/transcribe.py:126: UserWarning: FP16 is not supported on CPU; using FP32 instead\n",
      "  warnings.warn(\"FP16 is not supported on CPU; using FP32 instead\")\n"
     ]
    },
    {
     "name": "stdout",
     "output_type": "stream",
     "text": [
      "reference_text: anh đã làm thế này bao lâu rồi\n",
      "predicted_text: anh đã làm thế này bao lâu rồi?\n",
      "Processing: FPTOpenSpeechData_Set001_V0.1_000898.mp3\n"
     ]
    },
    {
     "name": "stderr",
     "output_type": "stream",
     "text": [
      "/home/ngo/anaconda3/lib/python3.12/site-packages/whisper/transcribe.py:126: UserWarning: FP16 is not supported on CPU; using FP32 instead\n",
      "  warnings.warn(\"FP16 is not supported on CPU; using FP32 instead\")\n"
     ]
    },
    {
     "name": "stdout",
     "output_type": "stream",
     "text": [
      "reference_text: tắt đèn phòng họp\n",
      "predicted_text: cắt đèn phòng hợp\n",
      "Processing: FPTOpenSpeechData_Set001_V0.1_000899.mp3\n"
     ]
    },
    {
     "name": "stderr",
     "output_type": "stream",
     "text": [
      "/home/ngo/anaconda3/lib/python3.12/site-packages/whisper/transcribe.py:126: UserWarning: FP16 is not supported on CPU; using FP32 instead\n",
      "  warnings.warn(\"FP16 is not supported on CPU; using FP32 instead\")\n"
     ]
    },
    {
     "name": "stdout",
     "output_type": "stream",
     "text": [
      "reference_text: vài tháng\n",
      "predicted_text: vài tháng\n",
      "Processing: FPTOpenSpeechData_Set001_V0.1_000900.mp3\n"
     ]
    },
    {
     "name": "stderr",
     "output_type": "stream",
     "text": [
      "/home/ngo/anaconda3/lib/python3.12/site-packages/whisper/transcribe.py:126: UserWarning: FP16 is not supported on CPU; using FP32 instead\n",
      "  warnings.warn(\"FP16 is not supported on CPU; using FP32 instead\")\n"
     ]
    },
    {
     "name": "stdout",
     "output_type": "stream",
     "text": [
      "reference_text: ảnh bush lần đầu tới điểm nóng trung đông\n",
      "predicted_text: anh buzz là người đầu thời điểm nóng trong rong.\n",
      "Processing: FPTOpenSpeechData_Set001_V0.1_000901.mp3\n"
     ]
    },
    {
     "name": "stderr",
     "output_type": "stream",
     "text": [
      "/home/ngo/anaconda3/lib/python3.12/site-packages/whisper/transcribe.py:126: UserWarning: FP16 is not supported on CPU; using FP32 instead\n",
      "  warnings.warn(\"FP16 is not supported on CPU; using FP32 instead\")\n"
     ]
    },
    {
     "name": "stdout",
     "output_type": "stream",
     "text": [
      "reference_text: anh ấy sống cạnh nhà\n",
      "predicted_text: anh ơi sống cạnh nhà\n",
      "Processing: FPTOpenSpeechData_Set001_V0.1_000902.mp3\n"
     ]
    },
    {
     "name": "stderr",
     "output_type": "stream",
     "text": [
      "/home/ngo/anaconda3/lib/python3.12/site-packages/whisper/transcribe.py:126: UserWarning: FP16 is not supported on CPU; using FP32 instead\n",
      "  warnings.warn(\"FP16 is not supported on CPU; using FP32 instead\")\n"
     ]
    },
    {
     "name": "stdout",
     "output_type": "stream",
     "text": [
      "reference_text: kẹo làm từ bột hòn đường quế hạt thông\n",
      "predicted_text: kẹo làm từ bột hoàn, hương, quế, hạt hống.\n",
      "Processing: FPTOpenSpeechData_Set001_V0.1_000903.mp3\n"
     ]
    },
    {
     "name": "stderr",
     "output_type": "stream",
     "text": [
      "/home/ngo/anaconda3/lib/python3.12/site-packages/whisper/transcribe.py:126: UserWarning: FP16 is not supported on CPU; using FP32 instead\n",
      "  warnings.warn(\"FP16 is not supported on CPU; using FP32 instead\")\n"
     ]
    },
    {
     "name": "stdout",
     "output_type": "stream",
     "text": [
      "reference_text: cô ấy đang gọi từ canada\n",
      "predicted_text: cô ấy đang gọi từ canada\n",
      "Processing: FPTOpenSpeechData_Set001_V0.1_000904.mp3\n"
     ]
    },
    {
     "name": "stderr",
     "output_type": "stream",
     "text": [
      "/home/ngo/anaconda3/lib/python3.12/site-packages/whisper/transcribe.py:126: UserWarning: FP16 is not supported on CPU; using FP32 instead\n",
      "  warnings.warn(\"FP16 is not supported on CPU; using FP32 instead\")\n"
     ]
    },
    {
     "name": "stdout",
     "output_type": "stream",
     "text": [
      "reference_text: điều hòa làm lạnh\n",
      "predicted_text: điều hòa làm lãnh\n",
      "Processing: FPTOpenSpeechData_Set001_V0.1_000905.mp3\n"
     ]
    },
    {
     "name": "stderr",
     "output_type": "stream",
     "text": [
      "/home/ngo/anaconda3/lib/python3.12/site-packages/whisper/transcribe.py:126: UserWarning: FP16 is not supported on CPU; using FP32 instead\n",
      "  warnings.warn(\"FP16 is not supported on CPU; using FP32 instead\")\n"
     ]
    },
    {
     "name": "stdout",
     "output_type": "stream",
     "text": [
      "reference_text: nhìn cây đào đẹp\n",
      "predicted_text: nhìn cây đào đẹp.\n",
      "Processing: FPTOpenSpeechData_Set001_V0.1_000906.mp3\n"
     ]
    },
    {
     "name": "stderr",
     "output_type": "stream",
     "text": [
      "/home/ngo/anaconda3/lib/python3.12/site-packages/whisper/transcribe.py:126: UserWarning: FP16 is not supported on CPU; using FP32 instead\n",
      "  warnings.warn(\"FP16 is not supported on CPU; using FP32 instead\")\n"
     ]
    },
    {
     "name": "stdout",
     "output_type": "stream",
     "text": [
      "reference_text: hàng đống bưởi\n",
      "predicted_text: hãy subscribe cho kênh ghiền mì gõ để không bỏ lỡ những video hấp dẫn\n",
      "Processing: FPTOpenSpeechData_Set001_V0.1_000907.mp3\n"
     ]
    },
    {
     "name": "stderr",
     "output_type": "stream",
     "text": [
      "/home/ngo/anaconda3/lib/python3.12/site-packages/whisper/transcribe.py:126: UserWarning: FP16 is not supported on CPU; using FP32 instead\n",
      "  warnings.warn(\"FP16 is not supported on CPU; using FP32 instead\")\n"
     ]
    },
    {
     "name": "stdout",
     "output_type": "stream",
     "text": [
      "reference_text: cơn khát thèm du thuyền bùng nổ vượt xa khả năng đáp ứng của cơ sở hạ tầng\n",
      "predicted_text: cơn khát thêm dấu thuyền, bùng nổ vượt xa khả năng đạt ứng của cơ sở hạ tầng\n",
      "Processing: FPTOpenSpeechData_Set001_V0.1_000908.mp3\n"
     ]
    },
    {
     "name": "stderr",
     "output_type": "stream",
     "text": [
      "/home/ngo/anaconda3/lib/python3.12/site-packages/whisper/transcribe.py:126: UserWarning: FP16 is not supported on CPU; using FP32 instead\n",
      "  warnings.warn(\"FP16 is not supported on CPU; using FP32 instead\")\n"
     ]
    },
    {
     "name": "stdout",
     "output_type": "stream",
     "text": [
      "reference_text: tôi chơi dương cầm giỏi\n",
      "predicted_text: tôi chơi dương cầm dòi\n",
      "Processing: FPTOpenSpeechData_Set001_V0.1_000909.mp3\n"
     ]
    },
    {
     "name": "stderr",
     "output_type": "stream",
     "text": [
      "/home/ngo/anaconda3/lib/python3.12/site-packages/whisper/transcribe.py:126: UserWarning: FP16 is not supported on CPU; using FP32 instead\n",
      "  warnings.warn(\"FP16 is not supported on CPU; using FP32 instead\")\n"
     ]
    },
    {
     "name": "stdout",
     "output_type": "stream",
     "text": [
      "reference_text: làm một chiếc túi đủ lớn để có thể đút vừa một cuốn sổ tay có kích thước tám nhân mười một\n",
      "predicted_text: làm một trận cụ đủ lớn để có thể đụng vơ một cuộn phổ tay có kích thước tạm nhân 11\n",
      "Processing: FPTOpenSpeechData_Set001_V0.1_000910.mp3\n"
     ]
    },
    {
     "name": "stderr",
     "output_type": "stream",
     "text": [
      "/home/ngo/anaconda3/lib/python3.12/site-packages/whisper/transcribe.py:126: UserWarning: FP16 is not supported on CPU; using FP32 instead\n",
      "  warnings.warn(\"FP16 is not supported on CPU; using FP32 instead\")\n"
     ]
    },
    {
     "name": "stdout",
     "output_type": "stream",
     "text": [
      "reference_text: tôi muốn bạn gửi cái này\n",
      "predicted_text: tôi muốn bàn thí cậy này\n",
      "Processing: FPTOpenSpeechData_Set001_V0.1_000911.mp3\n"
     ]
    },
    {
     "name": "stderr",
     "output_type": "stream",
     "text": [
      "/home/ngo/anaconda3/lib/python3.12/site-packages/whisper/transcribe.py:126: UserWarning: FP16 is not supported on CPU; using FP32 instead\n",
      "  warnings.warn(\"FP16 is not supported on CPU; using FP32 instead\")\n"
     ]
    },
    {
     "name": "stdout",
     "output_type": "stream",
     "text": [
      "reference_text: do còn lượng nước trong cồn nhiều hơn nên động cơ ít bị nóng hơn\n",
      "predicted_text: do còn lượng nước trong cục cồn nhiều hơn nên động cơ ít bị nóng hơn.\n",
      "Processing: FPTOpenSpeechData_Set001_V0.1_000912.mp3\n"
     ]
    },
    {
     "name": "stderr",
     "output_type": "stream",
     "text": [
      "/home/ngo/anaconda3/lib/python3.12/site-packages/whisper/transcribe.py:126: UserWarning: FP16 is not supported on CPU; using FP32 instead\n",
      "  warnings.warn(\"FP16 is not supported on CPU; using FP32 instead\")\n"
     ]
    },
    {
     "name": "stdout",
     "output_type": "stream",
     "text": [
      "reference_text: đây có thể là trứng cá đỏ hoặc mụn trứng cá người lớn\n",
      "predicted_text: đây có thể là trứng cá đũa hoặc mụn trứng cá người lớn\n",
      "Processing: FPTOpenSpeechData_Set001_V0.1_000913.mp3\n"
     ]
    },
    {
     "name": "stderr",
     "output_type": "stream",
     "text": [
      "/home/ngo/anaconda3/lib/python3.12/site-packages/whisper/transcribe.py:126: UserWarning: FP16 is not supported on CPU; using FP32 instead\n",
      "  warnings.warn(\"FP16 is not supported on CPU; using FP32 instead\")\n"
     ]
    },
    {
     "name": "stdout",
     "output_type": "stream",
     "text": [
      "reference_text: tôi muốn có catalogue\n",
      "predicted_text: tôi muốn có catalog\n",
      "Processing: FPTOpenSpeechData_Set001_V0.1_000914.mp3\n"
     ]
    },
    {
     "name": "stderr",
     "output_type": "stream",
     "text": [
      "/home/ngo/anaconda3/lib/python3.12/site-packages/whisper/transcribe.py:126: UserWarning: FP16 is not supported on CPU; using FP32 instead\n",
      "  warnings.warn(\"FP16 is not supported on CPU; using FP32 instead\")\n"
     ]
    },
    {
     "name": "stdout",
     "output_type": "stream",
     "text": [
      "reference_text: các tiết mục múa tượng trưng cho mùa xuân\n",
      "predicted_text: các tiếp mục múa tựa chưng cho mùa xuân\n",
      "Processing: FPTOpenSpeechData_Set001_V0.1_000915.mp3\n"
     ]
    },
    {
     "name": "stderr",
     "output_type": "stream",
     "text": [
      "/home/ngo/anaconda3/lib/python3.12/site-packages/whisper/transcribe.py:126: UserWarning: FP16 is not supported on CPU; using FP32 instead\n",
      "  warnings.warn(\"FP16 is not supported on CPU; using FP32 instead\")\n"
     ]
    },
    {
     "name": "stdout",
     "output_type": "stream",
     "text": [
      "reference_text: -n hồ bắt nguồn từ dòng suối tía huyền thoại và nằm gọn gàng giữa rừng thông mênh mông\n",
      "predicted_text: hồ bạch ngôn tư giam cửa tía huyền thoại và 5 gòm găng rửa rưng thông minh mông\n",
      "Processing: FPTOpenSpeechData_Set001_V0.1_000916.mp3\n"
     ]
    },
    {
     "name": "stderr",
     "output_type": "stream",
     "text": [
      "/home/ngo/anaconda3/lib/python3.12/site-packages/whisper/transcribe.py:126: UserWarning: FP16 is not supported on CPU; using FP32 instead\n",
      "  warnings.warn(\"FP16 is not supported on CPU; using FP32 instead\")\n"
     ]
    },
    {
     "name": "stdout",
     "output_type": "stream",
     "text": [
      "reference_text: tôi đang tìm một món đồ lưu niệm nhỏ\n",
      "predicted_text: tôi đang tìm một món đồ lưu nghiệp nhỏ\n",
      "Processing: FPTOpenSpeechData_Set001_V0.1_000917.mp3\n"
     ]
    },
    {
     "name": "stderr",
     "output_type": "stream",
     "text": [
      "/home/ngo/anaconda3/lib/python3.12/site-packages/whisper/transcribe.py:126: UserWarning: FP16 is not supported on CPU; using FP32 instead\n",
      "  warnings.warn(\"FP16 is not supported on CPU; using FP32 instead\")\n"
     ]
    },
    {
     "name": "stdout",
     "output_type": "stream",
     "text": [
      "reference_text: chúng tôi sẽ báo cho anh ngay khi chúng tôi tìm được\n",
      "predicted_text: chúng tôi sẽ báo cho anh ngay khi chúng tôi tìm được.\n",
      "Processing: FPTOpenSpeechData_Set001_V0.1_000918.mp3\n"
     ]
    },
    {
     "name": "stderr",
     "output_type": "stream",
     "text": [
      "/home/ngo/anaconda3/lib/python3.12/site-packages/whisper/transcribe.py:126: UserWarning: FP16 is not supported on CPU; using FP32 instead\n",
      "  warnings.warn(\"FP16 is not supported on CPU; using FP32 instead\")\n"
     ]
    },
    {
     "name": "stdout",
     "output_type": "stream",
     "text": [
      "reference_text: còn dự án phát triển sản phẩm từ mây và gỗ đảm bảo bền vững do ủy ban xã quản lý tài trợ sẽ thiết lập hệ thống sản xuất bài bản cho các sản phẩm mây tre tại việt nam cũng như lào\n",
      "predicted_text: còn dự án phát triển sản phẩm từ mây và gỗ đảm bảo bền vững do ủy ban xã quản lý tài trợ sẽ thiết lập hệ thống sản xuất bài bản cho các sản phẩm mây tre tại việt nam cũng như nào.\n",
      "Processing: FPTOpenSpeechData_Set001_V0.1_000919.mp3\n"
     ]
    },
    {
     "name": "stderr",
     "output_type": "stream",
     "text": [
      "/home/ngo/anaconda3/lib/python3.12/site-packages/whisper/transcribe.py:126: UserWarning: FP16 is not supported on CPU; using FP32 instead\n",
      "  warnings.warn(\"FP16 is not supported on CPU; using FP32 instead\")\n"
     ]
    },
    {
     "name": "stdout",
     "output_type": "stream",
     "text": [
      "reference_text: hãy mang cho tôi một cục xà phòng\n",
      "predicted_text: hãy mang cho tôi một cục xe phòng.\n",
      "Processing: FPTOpenSpeechData_Set001_V0.1_000920.mp3\n"
     ]
    },
    {
     "name": "stderr",
     "output_type": "stream",
     "text": [
      "/home/ngo/anaconda3/lib/python3.12/site-packages/whisper/transcribe.py:126: UserWarning: FP16 is not supported on CPU; using FP32 instead\n",
      "  warnings.warn(\"FP16 is not supported on CPU; using FP32 instead\")\n"
     ]
    },
    {
     "name": "stdout",
     "output_type": "stream",
     "text": [
      "reference_text: tôi bị táo bón nhiều\n",
      "predicted_text: tôi bị táo bọn hiệu\n",
      "Processing: FPTOpenSpeechData_Set001_V0.1_000921.mp3\n"
     ]
    },
    {
     "name": "stderr",
     "output_type": "stream",
     "text": [
      "/home/ngo/anaconda3/lib/python3.12/site-packages/whisper/transcribe.py:126: UserWarning: FP16 is not supported on CPU; using FP32 instead\n",
      "  warnings.warn(\"FP16 is not supported on CPU; using FP32 instead\")\n"
     ]
    },
    {
     "name": "stdout",
     "output_type": "stream",
     "text": [
      "reference_text: đó là quan niệm tình yêu ở phái đẹp\n",
      "predicted_text: đó là quan điện tình yêu ở phái đẹp\n",
      "Processing: FPTOpenSpeechData_Set001_V0.1_000922.mp3\n"
     ]
    },
    {
     "name": "stderr",
     "output_type": "stream",
     "text": [
      "/home/ngo/anaconda3/lib/python3.12/site-packages/whisper/transcribe.py:126: UserWarning: FP16 is not supported on CPU; using FP32 instead\n",
      "  warnings.warn(\"FP16 is not supported on CPU; using FP32 instead\")\n"
     ]
    },
    {
     "name": "stdout",
     "output_type": "stream",
     "text": [
      "reference_text: thấy cá ục sôi dưới đìa mắc nôn nao trong ruột\n",
      "predicted_text: thấy cá ột soi dưới đè, mắt nôn nao trong ruột.\n",
      "Processing: FPTOpenSpeechData_Set001_V0.1_000923.mp3\n"
     ]
    },
    {
     "name": "stderr",
     "output_type": "stream",
     "text": [
      "/home/ngo/anaconda3/lib/python3.12/site-packages/whisper/transcribe.py:126: UserWarning: FP16 is not supported on CPU; using FP32 instead\n",
      "  warnings.warn(\"FP16 is not supported on CPU; using FP32 instead\")\n"
     ]
    },
    {
     "name": "stdout",
     "output_type": "stream",
     "text": [
      "reference_text: cho tới thứ hai\n",
      "predicted_text: xe giơ tớ đi ngay\n",
      "Processing: FPTOpenSpeechData_Set001_V0.1_000924.mp3\n"
     ]
    },
    {
     "name": "stderr",
     "output_type": "stream",
     "text": [
      "/home/ngo/anaconda3/lib/python3.12/site-packages/whisper/transcribe.py:126: UserWarning: FP16 is not supported on CPU; using FP32 instead\n",
      "  warnings.warn(\"FP16 is not supported on CPU; using FP32 instead\")\n"
     ]
    },
    {
     "name": "stdout",
     "output_type": "stream",
     "text": [
      "reference_text: phó tổng thống đắc cử cũng khẳng định đội ngũ lãnh đạo kinh tế của ông đã lên kế hoạch thực hiện một gói kích thích kinh tế nữa với giá trị có thể lên tới một ngàn tỷ đô la mỹ\n",
      "predicted_text: phó tổng thống bắc cử cũng khẳng định đội ngũ lãnh đạo kinh tế của ông đã lên kế hoạch thực hiện một gói trích thức kinh tế lửa với giá trị có thể lên tới 1.000 tỷ usd.\n",
      "Processing: FPTOpenSpeechData_Set001_V0.1_000925.mp3\n"
     ]
    },
    {
     "name": "stderr",
     "output_type": "stream",
     "text": [
      "/home/ngo/anaconda3/lib/python3.12/site-packages/whisper/transcribe.py:126: UserWarning: FP16 is not supported on CPU; using FP32 instead\n",
      "  warnings.warn(\"FP16 is not supported on CPU; using FP32 instead\")\n"
     ]
    },
    {
     "name": "stdout",
     "output_type": "stream",
     "text": [
      "reference_text: trong quá trình này một số người quen là việt kiều đã bày tỏ ý với phố muốn mua dâm các người mẫu diễn viên\n",
      "predicted_text: trong quá trình này, một số người quen là việt kiều đã bày tỏ ý với phố muốn mua dâm các người mẫu diễn viên.\n",
      "Processing: FPTOpenSpeechData_Set001_V0.1_000926.mp3\n"
     ]
    },
    {
     "name": "stderr",
     "output_type": "stream",
     "text": [
      "/home/ngo/anaconda3/lib/python3.12/site-packages/whisper/transcribe.py:126: UserWarning: FP16 is not supported on CPU; using FP32 instead\n",
      "  warnings.warn(\"FP16 is not supported on CPU; using FP32 instead\")\n"
     ]
    },
    {
     "name": "stdout",
     "output_type": "stream",
     "text": [
      "reference_text: vui lòng mang cho tôi một ít nước uống\n",
      "predicted_text: rồi bây giờ mang cho tôi một ít nước uống\n",
      "Processing: FPTOpenSpeechData_Set001_V0.1_000927.mp3\n"
     ]
    },
    {
     "name": "stderr",
     "output_type": "stream",
     "text": [
      "/home/ngo/anaconda3/lib/python3.12/site-packages/whisper/transcribe.py:126: UserWarning: FP16 is not supported on CPU; using FP32 instead\n",
      "  warnings.warn(\"FP16 is not supported on CPU; using FP32 instead\")\n"
     ]
    },
    {
     "name": "stdout",
     "output_type": "stream",
     "text": [
      "reference_text: thược dược\n",
      "predicted_text: thuộc dục\n",
      "Processing: FPTOpenSpeechData_Set001_V0.1_000928.mp3\n"
     ]
    },
    {
     "name": "stderr",
     "output_type": "stream",
     "text": [
      "/home/ngo/anaconda3/lib/python3.12/site-packages/whisper/transcribe.py:126: UserWarning: FP16 is not supported on CPU; using FP32 instead\n",
      "  warnings.warn(\"FP16 is not supported on CPU; using FP32 instead\")\n"
     ]
    },
    {
     "name": "stdout",
     "output_type": "stream",
     "text": [
      "reference_text: hãy cho tiền vào thùng vé khi anh xuống xe\n",
      "predicted_text: hãy cho tiền vào thùng vé khi anh xuống xe.\n",
      "Processing: FPTOpenSpeechData_Set001_V0.1_000929.mp3\n"
     ]
    },
    {
     "name": "stderr",
     "output_type": "stream",
     "text": [
      "/home/ngo/anaconda3/lib/python3.12/site-packages/whisper/transcribe.py:126: UserWarning: FP16 is not supported on CPU; using FP32 instead\n",
      "  warnings.warn(\"FP16 is not supported on CPU; using FP32 instead\")\n"
     ]
    },
    {
     "name": "stdout",
     "output_type": "stream",
     "text": [
      "reference_text: sa pa bây giờ là một trong những địa danh du lịch hấp dẫn nhất miền bắc\n",
      "predicted_text: sapa bây giờ là một trong những địa danh du lịch hấp dẫn nhất miền bắc.\n",
      "Processing: FPTOpenSpeechData_Set001_V0.1_000930.mp3\n"
     ]
    },
    {
     "name": "stderr",
     "output_type": "stream",
     "text": [
      "/home/ngo/anaconda3/lib/python3.12/site-packages/whisper/transcribe.py:126: UserWarning: FP16 is not supported on CPU; using FP32 instead\n",
      "  warnings.warn(\"FP16 is not supported on CPU; using FP32 instead\")\n"
     ]
    },
    {
     "name": "stdout",
     "output_type": "stream",
     "text": [
      "reference_text: mỗi con bò đều được đeo một chiếc vòng cổ gắn pin\n",
      "predicted_text: mỗi con bò đều được đeo một chữ vòng cổ gắn pin\n",
      "Processing: FPTOpenSpeechData_Set001_V0.1_000931.mp3\n"
     ]
    },
    {
     "name": "stderr",
     "output_type": "stream",
     "text": [
      "/home/ngo/anaconda3/lib/python3.12/site-packages/whisper/transcribe.py:126: UserWarning: FP16 is not supported on CPU; using FP32 instead\n",
      "  warnings.warn(\"FP16 is not supported on CPU; using FP32 instead\")\n"
     ]
    },
    {
     "name": "stdout",
     "output_type": "stream",
     "text": [
      "reference_text: cho cô ấy một phiếu tính tiền liệt kê từng khoản được không\n",
      "predicted_text: cho cô ấy một triệu tiền liệt kê từ khoản được không?\n",
      "Processing: FPTOpenSpeechData_Set001_V0.1_000932.mp3\n"
     ]
    },
    {
     "name": "stderr",
     "output_type": "stream",
     "text": [
      "/home/ngo/anaconda3/lib/python3.12/site-packages/whisper/transcribe.py:126: UserWarning: FP16 is not supported on CPU; using FP32 instead\n",
      "  warnings.warn(\"FP16 is not supported on CPU; using FP32 instead\")\n"
     ]
    },
    {
     "name": "stdout",
     "output_type": "stream",
     "text": [
      "reference_text: tôi muốn chuyển sang phòng khác\n",
      "predicted_text: tôi muốn chuyển sang phòng khác.\n",
      "Processing: FPTOpenSpeechData_Set001_V0.1_000933.mp3\n"
     ]
    },
    {
     "name": "stderr",
     "output_type": "stream",
     "text": [
      "/home/ngo/anaconda3/lib/python3.12/site-packages/whisper/transcribe.py:126: UserWarning: FP16 is not supported on CPU; using FP32 instead\n",
      "  warnings.warn(\"FP16 is not supported on CPU; using FP32 instead\")\n"
     ]
    },
    {
     "name": "stdout",
     "output_type": "stream",
     "text": [
      "reference_text: có giảm giá cho trẻ em không\n",
      "predicted_text: có giảm giá cho chị ăn không?\n",
      "Processing: FPTOpenSpeechData_Set001_V0.1_000934.mp3\n"
     ]
    },
    {
     "name": "stderr",
     "output_type": "stream",
     "text": [
      "/home/ngo/anaconda3/lib/python3.12/site-packages/whisper/transcribe.py:126: UserWarning: FP16 is not supported on CPU; using FP32 instead\n",
      "  warnings.warn(\"FP16 is not supported on CPU; using FP32 instead\")\n"
     ]
    },
    {
     "name": "stdout",
     "output_type": "stream",
     "text": [
      "reference_text: cho tôi biết tên cô ấy\n",
      "predicted_text: cho tôi biết tên cô ấy\n",
      "Processing: FPTOpenSpeechData_Set001_V0.1_000935.mp3\n"
     ]
    },
    {
     "name": "stderr",
     "output_type": "stream",
     "text": [
      "/home/ngo/anaconda3/lib/python3.12/site-packages/whisper/transcribe.py:126: UserWarning: FP16 is not supported on CPU; using FP32 instead\n",
      "  warnings.warn(\"FP16 is not supported on CPU; using FP32 instead\")\n"
     ]
    },
    {
     "name": "stdout",
     "output_type": "stream",
     "text": [
      "reference_text: tất cả cũng chỉ xuất phát từ thói cả nể cố hữu dính mác sinh viên này thôi\n",
      "predicted_text: tất cả cũng chỉ xuất phát từ thói cả nể cố hữu dính mát sinh viên này thôi\n",
      "Processing: FPTOpenSpeechData_Set001_V0.1_000936.mp3\n"
     ]
    },
    {
     "name": "stderr",
     "output_type": "stream",
     "text": [
      "/home/ngo/anaconda3/lib/python3.12/site-packages/whisper/transcribe.py:126: UserWarning: FP16 is not supported on CPU; using FP32 instead\n",
      "  warnings.warn(\"FP16 is not supported on CPU; using FP32 instead\")\n"
     ]
    },
    {
     "name": "stdout",
     "output_type": "stream",
     "text": [
      "reference_text: có nhưng một vài xe đã hoàn tất cuộc đua\n",
      "predicted_text: có nhưng một vài xe đã hoàn tất cuộc đua\n",
      "Processing: FPTOpenSpeechData_Set001_V0.1_000937.mp3\n"
     ]
    },
    {
     "name": "stderr",
     "output_type": "stream",
     "text": [
      "/home/ngo/anaconda3/lib/python3.12/site-packages/whisper/transcribe.py:126: UserWarning: FP16 is not supported on CPU; using FP32 instead\n",
      "  warnings.warn(\"FP16 is not supported on CPU; using FP32 instead\")\n"
     ]
    },
    {
     "name": "stdout",
     "output_type": "stream",
     "text": [
      "reference_text: cho tôi nửa gói thuốc lá salem\n",
      "predicted_text: chào tôi nửa của tụi salem\n",
      "Processing: FPTOpenSpeechData_Set001_V0.1_000938.mp3\n"
     ]
    },
    {
     "name": "stderr",
     "output_type": "stream",
     "text": [
      "/home/ngo/anaconda3/lib/python3.12/site-packages/whisper/transcribe.py:126: UserWarning: FP16 is not supported on CPU; using FP32 instead\n",
      "  warnings.warn(\"FP16 is not supported on CPU; using FP32 instead\")\n"
     ]
    },
    {
     "name": "stdout",
     "output_type": "stream",
     "text": [
      "reference_text: nó hơi ngọt\n",
      "predicted_text: nó hơi ngoặt\n",
      "Processing: FPTOpenSpeechData_Set001_V0.1_000939.mp3\n"
     ]
    },
    {
     "name": "stderr",
     "output_type": "stream",
     "text": [
      "/home/ngo/anaconda3/lib/python3.12/site-packages/whisper/transcribe.py:126: UserWarning: FP16 is not supported on CPU; using FP32 instead\n",
      "  warnings.warn(\"FP16 is not supported on CPU; using FP32 instead\")\n"
     ]
    },
    {
     "name": "stdout",
     "output_type": "stream",
     "text": [
      "reference_text: ngắt ti vi\n",
      "predicted_text: nhắc tivi\n",
      "Processing: FPTOpenSpeechData_Set001_V0.1_000940.mp3\n"
     ]
    },
    {
     "name": "stderr",
     "output_type": "stream",
     "text": [
      "/home/ngo/anaconda3/lib/python3.12/site-packages/whisper/transcribe.py:126: UserWarning: FP16 is not supported on CPU; using FP32 instead\n",
      "  warnings.warn(\"FP16 is not supported on CPU; using FP32 instead\")\n"
     ]
    },
    {
     "name": "stdout",
     "output_type": "stream",
     "text": [
      "reference_text: khuyến cáo chọn ấm của tiến sĩ khải\n",
      "predicted_text: quyết kháo trọng ập của tiến sĩ hải\n",
      "Processing: FPTOpenSpeechData_Set001_V0.1_000941.mp3\n"
     ]
    },
    {
     "name": "stderr",
     "output_type": "stream",
     "text": [
      "/home/ngo/anaconda3/lib/python3.12/site-packages/whisper/transcribe.py:126: UserWarning: FP16 is not supported on CPU; using FP32 instead\n",
      "  warnings.warn(\"FP16 is not supported on CPU; using FP32 instead\")\n"
     ]
    },
    {
     "name": "stdout",
     "output_type": "stream",
     "text": [
      "reference_text: các nhà đầu tư đã lỡ ôm quyền mua cổ phần đang rất hoang mang\n",
      "predicted_text: các nhà đầu tư đã lỡ ôm quyền mua, cổ phần đang rất phong man.\n",
      "Processing: FPTOpenSpeechData_Set001_V0.1_000942.mp3\n"
     ]
    },
    {
     "name": "stderr",
     "output_type": "stream",
     "text": [
      "/home/ngo/anaconda3/lib/python3.12/site-packages/whisper/transcribe.py:126: UserWarning: FP16 is not supported on CPU; using FP32 instead\n",
      "  warnings.warn(\"FP16 is not supported on CPU; using FP32 instead\")\n"
     ]
    },
    {
     "name": "stdout",
     "output_type": "stream",
     "text": [
      "reference_text: chúng ta có vài phút nữa để làm\n",
      "predicted_text: chúng ta có vài thịt nữa để làm\n",
      "Processing: FPTOpenSpeechData_Set001_V0.1_000943.mp3\n"
     ]
    },
    {
     "name": "stderr",
     "output_type": "stream",
     "text": [
      "/home/ngo/anaconda3/lib/python3.12/site-packages/whisper/transcribe.py:126: UserWarning: FP16 is not supported on CPU; using FP32 instead\n",
      "  warnings.warn(\"FP16 is not supported on CPU; using FP32 instead\")\n"
     ]
    },
    {
     "name": "stdout",
     "output_type": "stream",
     "text": [
      "reference_text: chúng ta có thể làm việc gì bù cho nó\n",
      "predicted_text: chúng ta có thể làm việc gì bù cho nó\n",
      "Processing: FPTOpenSpeechData_Set001_V0.1_000944.mp3\n"
     ]
    },
    {
     "name": "stderr",
     "output_type": "stream",
     "text": [
      "/home/ngo/anaconda3/lib/python3.12/site-packages/whisper/transcribe.py:126: UserWarning: FP16 is not supported on CPU; using FP32 instead\n",
      "  warnings.warn(\"FP16 is not supported on CPU; using FP32 instead\")\n"
     ]
    },
    {
     "name": "stdout",
     "output_type": "stream",
     "text": [
      "reference_text: nhìn lên phía trái từ khu chung cư sẽ thấy nhà thờ phú cam\n",
      "predicted_text: nhìn lên phía trái, từ khu chung cư sẽ thấy nhà thờ phú cam\n",
      "Processing: FPTOpenSpeechData_Set001_V0.1_000945.mp3\n"
     ]
    },
    {
     "name": "stderr",
     "output_type": "stream",
     "text": [
      "/home/ngo/anaconda3/lib/python3.12/site-packages/whisper/transcribe.py:126: UserWarning: FP16 is not supported on CPU; using FP32 instead\n",
      "  warnings.warn(\"FP16 is not supported on CPU; using FP32 instead\")\n"
     ]
    },
    {
     "name": "stdout",
     "output_type": "stream",
     "text": [
      "reference_text: đừng bao giờ tự mình đi vào rừng\n",
      "predicted_text: đừng bao giờ tự mình đi vào giường.\n",
      "Processing: FPTOpenSpeechData_Set001_V0.1_000946.mp3\n"
     ]
    },
    {
     "name": "stderr",
     "output_type": "stream",
     "text": [
      "/home/ngo/anaconda3/lib/python3.12/site-packages/whisper/transcribe.py:126: UserWarning: FP16 is not supported on CPU; using FP32 instead\n",
      "  warnings.warn(\"FP16 is not supported on CPU; using FP32 instead\")\n"
     ]
    },
    {
     "name": "stdout",
     "output_type": "stream",
     "text": [
      "reference_text: khoang trời nằm ở tầng nào\n",
      "predicted_text: khoán chơi nào nằm ở tầng nào?\n",
      "Processing: FPTOpenSpeechData_Set001_V0.1_000947.mp3\n"
     ]
    },
    {
     "name": "stderr",
     "output_type": "stream",
     "text": [
      "/home/ngo/anaconda3/lib/python3.12/site-packages/whisper/transcribe.py:126: UserWarning: FP16 is not supported on CPU; using FP32 instead\n",
      "  warnings.warn(\"FP16 is not supported on CPU; using FP32 instead\")\n"
     ]
    },
    {
     "name": "stdout",
     "output_type": "stream",
     "text": [
      "reference_text: để hoàn thiện hơn hoặc thay đổi khi cần thiết\n",
      "predicted_text: để hoàn thiện hơn hoặc thay đổi khi cần thiết.\n",
      "Processing: FPTOpenSpeechData_Set001_V0.1_000948.mp3\n"
     ]
    },
    {
     "name": "stderr",
     "output_type": "stream",
     "text": [
      "/home/ngo/anaconda3/lib/python3.12/site-packages/whisper/transcribe.py:126: UserWarning: FP16 is not supported on CPU; using FP32 instead\n",
      "  warnings.warn(\"FP16 is not supported on CPU; using FP32 instead\")\n"
     ]
    },
    {
     "name": "stdout",
     "output_type": "stream",
     "text": [
      "reference_text: vui dòng đưa tôi đến khu phố người hoa\n",
      "predicted_text: vui lòng đưa tôi đến khu phố nguy hoa.\n",
      "Processing: FPTOpenSpeechData_Set001_V0.1_000949.mp3\n"
     ]
    },
    {
     "name": "stderr",
     "output_type": "stream",
     "text": [
      "/home/ngo/anaconda3/lib/python3.12/site-packages/whisper/transcribe.py:126: UserWarning: FP16 is not supported on CPU; using FP32 instead\n",
      "  warnings.warn(\"FP16 is not supported on CPU; using FP32 instead\")\n"
     ]
    },
    {
     "name": "stdout",
     "output_type": "stream",
     "text": [
      "reference_text: và ông lucas phải báo cáo cho ai\n",
      "predicted_text: và ông lucas phải báo cáo cho ai?\n",
      "Processing: FPTOpenSpeechData_Set001_V0.1_000950.mp3\n"
     ]
    },
    {
     "name": "stderr",
     "output_type": "stream",
     "text": [
      "/home/ngo/anaconda3/lib/python3.12/site-packages/whisper/transcribe.py:126: UserWarning: FP16 is not supported on CPU; using FP32 instead\n",
      "  warnings.warn(\"FP16 is not supported on CPU; using FP32 instead\")\n"
     ]
    },
    {
     "name": "stdout",
     "output_type": "stream",
     "text": [
      "reference_text: từ bây giờ nó được gọi là thai nhi\n",
      "predicted_text: từ bây giờ nó được gọi là thai y\n",
      "Processing: FPTOpenSpeechData_Set001_V0.1_000951.mp3\n"
     ]
    },
    {
     "name": "stderr",
     "output_type": "stream",
     "text": [
      "/home/ngo/anaconda3/lib/python3.12/site-packages/whisper/transcribe.py:126: UserWarning: FP16 is not supported on CPU; using FP32 instead\n",
      "  warnings.warn(\"FP16 is not supported on CPU; using FP32 instead\")\n"
     ]
    },
    {
     "name": "stdout",
     "output_type": "stream",
     "text": [
      "reference_text: đó là cuộc sống đó cũng là bóng đá\n",
      "predicted_text: đó là cuộc sống, đó cũng là bóng đá\n",
      "Processing: FPTOpenSpeechData_Set001_V0.1_000952.mp3\n"
     ]
    },
    {
     "name": "stderr",
     "output_type": "stream",
     "text": [
      "/home/ngo/anaconda3/lib/python3.12/site-packages/whisper/transcribe.py:126: UserWarning: FP16 is not supported on CPU; using FP32 instead\n",
      "  warnings.warn(\"FP16 is not supported on CPU; using FP32 instead\")\n"
     ]
    },
    {
     "name": "stdout",
     "output_type": "stream",
     "text": [
      "reference_text: xin lỗi cắt ngắn thêm một ít ở phần\n",
      "predicted_text: chỉ lùi cắt nhặt thêm một ít ở phần lưới.\n",
      "Processing: FPTOpenSpeechData_Set001_V0.1_000953.mp3\n"
     ]
    },
    {
     "name": "stderr",
     "output_type": "stream",
     "text": [
      "/home/ngo/anaconda3/lib/python3.12/site-packages/whisper/transcribe.py:126: UserWarning: FP16 is not supported on CPU; using FP32 instead\n",
      "  warnings.warn(\"FP16 is not supported on CPU; using FP32 instead\")\n"
     ]
    },
    {
     "name": "stdout",
     "output_type": "stream",
     "text": [
      "reference_text: cô ấy sẽ muốn đậu xe đến năm giờ\n",
      "predicted_text: cô ấy sẽ muốn đậu xe đến 5 giờ\n",
      "Processing: FPTOpenSpeechData_Set001_V0.1_000954.mp3\n"
     ]
    },
    {
     "name": "stderr",
     "output_type": "stream",
     "text": [
      "/home/ngo/anaconda3/lib/python3.12/site-packages/whisper/transcribe.py:126: UserWarning: FP16 is not supported on CPU; using FP32 instead\n",
      "  warnings.warn(\"FP16 is not supported on CPU; using FP32 instead\")\n"
     ]
    },
    {
     "name": "stdout",
     "output_type": "stream",
     "text": [
      "reference_text: đây là máy giặt phải không\n",
      "predicted_text: đây là mạng nhật phải không?\n",
      "Processing: FPTOpenSpeechData_Set001_V0.1_000955.mp3\n"
     ]
    },
    {
     "name": "stderr",
     "output_type": "stream",
     "text": [
      "/home/ngo/anaconda3/lib/python3.12/site-packages/whisper/transcribe.py:126: UserWarning: FP16 is not supported on CPU; using FP32 instead\n",
      "  warnings.warn(\"FP16 is not supported on CPU; using FP32 instead\")\n"
     ]
    },
    {
     "name": "stdout",
     "output_type": "stream",
     "text": [
      "reference_text: anh trần công phô tàu nước ngoài đã được báo trước chính xác\n",
      "predicted_text: ách chật công phô tàu nước ngoài đã được báo chức chính xác\n",
      "Processing: FPTOpenSpeechData_Set001_V0.1_000956.mp3\n"
     ]
    },
    {
     "name": "stderr",
     "output_type": "stream",
     "text": [
      "/home/ngo/anaconda3/lib/python3.12/site-packages/whisper/transcribe.py:126: UserWarning: FP16 is not supported on CPU; using FP32 instead\n",
      "  warnings.warn(\"FP16 is not supported on CPU; using FP32 instead\")\n"
     ]
    },
    {
     "name": "stdout",
     "output_type": "stream",
     "text": [
      "reference_text: sau đó thảo được nguyễn vũ bão chở đến ngã tư nguyễn trãi quốc lộ một để đặt pháo giữa đường thảo chuẩn bị cho nổ thì bị công an bắt quả tang\n",
      "predicted_text: sau đó thảo đều nghiên cứu báo trở đến nhà cư nguyễn trãi, quốc lộ 1 để đặt báo giữa đường. thảo chuẩn bị cho lộ thì bị công an bắt quả ta.\n",
      "Processing: FPTOpenSpeechData_Set001_V0.1_000957.mp3\n"
     ]
    },
    {
     "name": "stderr",
     "output_type": "stream",
     "text": [
      "/home/ngo/anaconda3/lib/python3.12/site-packages/whisper/transcribe.py:126: UserWarning: FP16 is not supported on CPU; using FP32 instead\n",
      "  warnings.warn(\"FP16 is not supported on CPU; using FP32 instead\")\n"
     ]
    },
    {
     "name": "stdout",
     "output_type": "stream",
     "text": [
      "reference_text: tôi muốn một ít cà phê uống liền\n",
      "predicted_text: tôi muốn một ít cà phê uống liền.\n",
      "Processing: FPTOpenSpeechData_Set001_V0.1_000958.mp3\n"
     ]
    },
    {
     "name": "stderr",
     "output_type": "stream",
     "text": [
      "/home/ngo/anaconda3/lib/python3.12/site-packages/whisper/transcribe.py:126: UserWarning: FP16 is not supported on CPU; using FP32 instead\n",
      "  warnings.warn(\"FP16 is not supported on CPU; using FP32 instead\")\n"
     ]
    },
    {
     "name": "stdout",
     "output_type": "stream",
     "text": [
      "reference_text: con búp bê bằng gỗ này bao nhiêu tiền\n",
      "predicted_text: còn búp đê bằng gỗ này là nhiều tiền.\n",
      "Processing: FPTOpenSpeechData_Set001_V0.1_000959.mp3\n"
     ]
    },
    {
     "name": "stderr",
     "output_type": "stream",
     "text": [
      "/home/ngo/anaconda3/lib/python3.12/site-packages/whisper/transcribe.py:126: UserWarning: FP16 is not supported on CPU; using FP32 instead\n",
      "  warnings.warn(\"FP16 is not supported on CPU; using FP32 instead\")\n"
     ]
    },
    {
     "name": "stdout",
     "output_type": "stream",
     "text": [
      "reference_text: bật đèn phòng đọc\n",
      "predicted_text: bật đèn phòng đọc\n",
      "Processing: FPTOpenSpeechData_Set001_V0.1_000960.mp3\n"
     ]
    },
    {
     "name": "stderr",
     "output_type": "stream",
     "text": [
      "/home/ngo/anaconda3/lib/python3.12/site-packages/whisper/transcribe.py:126: UserWarning: FP16 is not supported on CPU; using FP32 instead\n",
      "  warnings.warn(\"FP16 is not supported on CPU; using FP32 instead\")\n"
     ]
    },
    {
     "name": "stdout",
     "output_type": "stream",
     "text": [
      "reference_text: tuần này ông thầy có vô thường xuyên không\n",
      "predicted_text: tuần này ông thầy có vô thường suy không?\n",
      "Processing: FPTOpenSpeechData_Set001_V0.1_000961.mp3\n"
     ]
    },
    {
     "name": "stderr",
     "output_type": "stream",
     "text": [
      "/home/ngo/anaconda3/lib/python3.12/site-packages/whisper/transcribe.py:126: UserWarning: FP16 is not supported on CPU; using FP32 instead\n",
      "  warnings.warn(\"FP16 is not supported on CPU; using FP32 instead\")\n"
     ]
    },
    {
     "name": "stdout",
     "output_type": "stream",
     "text": [
      "reference_text: giảm\n",
      "predicted_text: dạ\n",
      "Processing: FPTOpenSpeechData_Set001_V0.1_000962.mp3\n"
     ]
    },
    {
     "name": "stderr",
     "output_type": "stream",
     "text": [
      "/home/ngo/anaconda3/lib/python3.12/site-packages/whisper/transcribe.py:126: UserWarning: FP16 is not supported on CPU; using FP32 instead\n",
      "  warnings.warn(\"FP16 is not supported on CPU; using FP32 instead\")\n"
     ]
    },
    {
     "name": "stdout",
     "output_type": "stream",
     "text": [
      "reference_text: vui lòng cho tôi một nĩa nữa\n",
      "predicted_text: vui lòng cho tôi một miền nữa\n",
      "Processing: FPTOpenSpeechData_Set001_V0.1_000963.mp3\n"
     ]
    },
    {
     "name": "stderr",
     "output_type": "stream",
     "text": [
      "/home/ngo/anaconda3/lib/python3.12/site-packages/whisper/transcribe.py:126: UserWarning: FP16 is not supported on CPU; using FP32 instead\n",
      "  warnings.warn(\"FP16 is not supported on CPU; using FP32 instead\")\n"
     ]
    },
    {
     "name": "stdout",
     "output_type": "stream",
     "text": [
      "reference_text: ti vi tăng tiếng đến bốn\n",
      "predicted_text: tivi tăng tiếng đến 4\n",
      "Processing: FPTOpenSpeechData_Set001_V0.1_000964.mp3\n"
     ]
    },
    {
     "name": "stderr",
     "output_type": "stream",
     "text": [
      "/home/ngo/anaconda3/lib/python3.12/site-packages/whisper/transcribe.py:126: UserWarning: FP16 is not supported on CPU; using FP32 instead\n",
      "  warnings.warn(\"FP16 is not supported on CPU; using FP32 instead\")\n"
     ]
    },
    {
     "name": "stdout",
     "output_type": "stream",
     "text": [
      "reference_text: anh có thể đổi phòng tôi với một cái nhìn ra biển không\n",
      "predicted_text: anh có thể đối phòng tôi với một cái nhìn ra biển không?\n",
      "Processing: FPTOpenSpeechData_Set001_V0.1_000965.mp3\n"
     ]
    },
    {
     "name": "stderr",
     "output_type": "stream",
     "text": [
      "/home/ngo/anaconda3/lib/python3.12/site-packages/whisper/transcribe.py:126: UserWarning: FP16 is not supported on CPU; using FP32 instead\n",
      "  warnings.warn(\"FP16 is not supported on CPU; using FP32 instead\")\n"
     ]
    },
    {
     "name": "stdout",
     "output_type": "stream",
     "text": [
      "reference_text: tỉ như với món thiền trên ghế đá\n",
      "predicted_text: tỉ như với món thiền trên ghế đá\n",
      "Processing: FPTOpenSpeechData_Set001_V0.1_000966.mp3\n"
     ]
    },
    {
     "name": "stderr",
     "output_type": "stream",
     "text": [
      "/home/ngo/anaconda3/lib/python3.12/site-packages/whisper/transcribe.py:126: UserWarning: FP16 is not supported on CPU; using FP32 instead\n",
      "  warnings.warn(\"FP16 is not supported on CPU; using FP32 instead\")\n"
     ]
    },
    {
     "name": "stdout",
     "output_type": "stream",
     "text": [
      "reference_text: rồi một đêm khi chàng lên giường bằng trực giác\n",
      "predicted_text: rồi 1 đêm 4 trang, như vậy nó 30 trang\n",
      "Processing: FPTOpenSpeechData_Set001_V0.1_000967.mp3\n"
     ]
    },
    {
     "name": "stderr",
     "output_type": "stream",
     "text": [
      "/home/ngo/anaconda3/lib/python3.12/site-packages/whisper/transcribe.py:126: UserWarning: FP16 is not supported on CPU; using FP32 instead\n",
      "  warnings.warn(\"FP16 is not supported on CPU; using FP32 instead\")\n"
     ]
    },
    {
     "name": "stdout",
     "output_type": "stream",
     "text": [
      "reference_text: anh có bị dị ứng thực sự nặng không\n",
      "predicted_text: anh có bị trị ứng thực sự nặng không?\n",
      "Processing: FPTOpenSpeechData_Set001_V0.1_000968.mp3\n"
     ]
    },
    {
     "name": "stderr",
     "output_type": "stream",
     "text": [
      "/home/ngo/anaconda3/lib/python3.12/site-packages/whisper/transcribe.py:126: UserWarning: FP16 is not supported on CPU; using FP32 instead\n",
      "  warnings.warn(\"FP16 is not supported on CPU; using FP32 instead\")\n"
     ]
    },
    {
     "name": "stdout",
     "output_type": "stream",
     "text": [
      "reference_text: nó không đúng\n",
      "predicted_text: nó không đúng\n",
      "Processing: FPTOpenSpeechData_Set001_V0.1_000969.mp3\n"
     ]
    },
    {
     "name": "stderr",
     "output_type": "stream",
     "text": [
      "/home/ngo/anaconda3/lib/python3.12/site-packages/whisper/transcribe.py:126: UserWarning: FP16 is not supported on CPU; using FP32 instead\n",
      "  warnings.warn(\"FP16 is not supported on CPU; using FP32 instead\")\n"
     ]
    },
    {
     "name": "stdout",
     "output_type": "stream",
     "text": [
      "reference_text: làm ơn cho tiền lẻ\n",
      "predicted_text: làm ơn cho tiền lẻ\n",
      "Processing: FPTOpenSpeechData_Set001_V0.1_000970.mp3\n"
     ]
    },
    {
     "name": "stderr",
     "output_type": "stream",
     "text": [
      "/home/ngo/anaconda3/lib/python3.12/site-packages/whisper/transcribe.py:126: UserWarning: FP16 is not supported on CPU; using FP32 instead\n",
      "  warnings.warn(\"FP16 is not supported on CPU; using FP32 instead\")\n"
     ]
    },
    {
     "name": "stdout",
     "output_type": "stream",
     "text": [
      "reference_text: đến washington giá vé bao nhiêu\n",
      "predicted_text: đến washington trả vẻ bao nhiêu\n",
      "Processing: FPTOpenSpeechData_Set001_V0.1_000971.mp3\n"
     ]
    },
    {
     "name": "stderr",
     "output_type": "stream",
     "text": [
      "/home/ngo/anaconda3/lib/python3.12/site-packages/whisper/transcribe.py:126: UserWarning: FP16 is not supported on CPU; using FP32 instead\n",
      "  warnings.warn(\"FP16 is not supported on CPU; using FP32 instead\")\n"
     ]
    },
    {
     "name": "stdout",
     "output_type": "stream",
     "text": [
      "reference_text: vâng đó là vàng mười tám cara\n",
      "predicted_text: vâng, đó là vàng 18k\n",
      "Processing: FPTOpenSpeechData_Set001_V0.1_000972.mp3\n"
     ]
    },
    {
     "name": "stderr",
     "output_type": "stream",
     "text": [
      "/home/ngo/anaconda3/lib/python3.12/site-packages/whisper/transcribe.py:126: UserWarning: FP16 is not supported on CPU; using FP32 instead\n",
      "  warnings.warn(\"FP16 is not supported on CPU; using FP32 instead\")\n"
     ]
    },
    {
     "name": "stdout",
     "output_type": "stream",
     "text": [
      "reference_text: kìa ai đang nghịch trái tim\n",
      "predicted_text: kì ai đang nghịch trái tim\n",
      "Processing: FPTOpenSpeechData_Set001_V0.1_000973.mp3\n"
     ]
    },
    {
     "name": "stderr",
     "output_type": "stream",
     "text": [
      "/home/ngo/anaconda3/lib/python3.12/site-packages/whisper/transcribe.py:126: UserWarning: FP16 is not supported on CPU; using FP32 instead\n",
      "  warnings.warn(\"FP16 is not supported on CPU; using FP32 instead\")\n"
     ]
    },
    {
     "name": "stdout",
     "output_type": "stream",
     "text": [
      "reference_text: khi đạp thắng tôi luôn nghe thấy một tiếng ồn lạ\n",
      "predicted_text: khi đặt thang, tôi luôn nghe thấy một tiếng ôn lạ.\n",
      "Processing: FPTOpenSpeechData_Set001_V0.1_000974.mp3\n"
     ]
    },
    {
     "name": "stderr",
     "output_type": "stream",
     "text": [
      "/home/ngo/anaconda3/lib/python3.12/site-packages/whisper/transcribe.py:126: UserWarning: FP16 is not supported on CPU; using FP32 instead\n",
      "  warnings.warn(\"FP16 is not supported on CPU; using FP32 instead\")\n"
     ]
    },
    {
     "name": "stdout",
     "output_type": "stream",
     "text": [
      "reference_text: cái nhỏ có hành tươi\n",
      "predicted_text: cại nhỏ có hanh tươi\n",
      "Processing: FPTOpenSpeechData_Set001_V0.1_000975.mp3\n"
     ]
    },
    {
     "name": "stderr",
     "output_type": "stream",
     "text": [
      "/home/ngo/anaconda3/lib/python3.12/site-packages/whisper/transcribe.py:126: UserWarning: FP16 is not supported on CPU; using FP32 instead\n",
      "  warnings.warn(\"FP16 is not supported on CPU; using FP32 instead\")\n"
     ]
    },
    {
     "name": "stdout",
     "output_type": "stream",
     "text": [
      "reference_text: trường tôi là một trường công lập\n",
      "predicted_text: trường tôi là một trường công lập.\n",
      "Processing: FPTOpenSpeechData_Set001_V0.1_000976.mp3\n"
     ]
    },
    {
     "name": "stderr",
     "output_type": "stream",
     "text": [
      "/home/ngo/anaconda3/lib/python3.12/site-packages/whisper/transcribe.py:126: UserWarning: FP16 is not supported on CPU; using FP32 instead\n",
      "  warnings.warn(\"FP16 is not supported on CPU; using FP32 instead\")\n"
     ]
    },
    {
     "name": "stdout",
     "output_type": "stream",
     "text": [
      "reference_text: anh có thể gửi nó không\n",
      "predicted_text: anh có thể gửi nó không?\n",
      "Processing: FPTOpenSpeechData_Set001_V0.1_000977.mp3\n"
     ]
    },
    {
     "name": "stderr",
     "output_type": "stream",
     "text": [
      "/home/ngo/anaconda3/lib/python3.12/site-packages/whisper/transcribe.py:126: UserWarning: FP16 is not supported on CPU; using FP32 instead\n",
      "  warnings.warn(\"FP16 is not supported on CPU; using FP32 instead\")\n"
     ]
    },
    {
     "name": "stdout",
     "output_type": "stream",
     "text": [
      "reference_text: quí vị có uống thuốc của quí vị vào ban đêm không\n",
      "predicted_text: quý vị có uống thuốc của quý vị vào ban đêm không?\n",
      "Processing: FPTOpenSpeechData_Set001_V0.1_000978.mp3\n"
     ]
    },
    {
     "name": "stderr",
     "output_type": "stream",
     "text": [
      "/home/ngo/anaconda3/lib/python3.12/site-packages/whisper/transcribe.py:126: UserWarning: FP16 is not supported on CPU; using FP32 instead\n",
      "  warnings.warn(\"FP16 is not supported on CPU; using FP32 instead\")\n"
     ]
    },
    {
     "name": "stdout",
     "output_type": "stream",
     "text": [
      "reference_text: xin lỗi bạn có thể chỉ giúp tôi ngân hàng gần nhất không\n",
      "predicted_text: xin lỗi, bạn có thể chỉ giúp tôi ngân hàng gần nhất không?\n",
      "Processing: FPTOpenSpeechData_Set001_V0.1_000979.mp3\n"
     ]
    },
    {
     "name": "stderr",
     "output_type": "stream",
     "text": [
      "/home/ngo/anaconda3/lib/python3.12/site-packages/whisper/transcribe.py:126: UserWarning: FP16 is not supported on CPU; using FP32 instead\n",
      "  warnings.warn(\"FP16 is not supported on CPU; using FP32 instead\")\n"
     ]
    },
    {
     "name": "stdout",
     "output_type": "stream",
     "text": [
      "reference_text: và vui lòng thắt dây an toàn của quý khách\n",
      "predicted_text: và vui lòng thắt dây an toàn của khí khách.\n",
      "Processing: FPTOpenSpeechData_Set001_V0.1_000980.mp3\n"
     ]
    },
    {
     "name": "stderr",
     "output_type": "stream",
     "text": [
      "/home/ngo/anaconda3/lib/python3.12/site-packages/whisper/transcribe.py:126: UserWarning: FP16 is not supported on CPU; using FP32 instead\n",
      "  warnings.warn(\"FP16 is not supported on CPU; using FP32 instead\")\n"
     ]
    },
    {
     "name": "stdout",
     "output_type": "stream",
     "text": [
      "reference_text: do vậy tôi vẫn phải gồng mình\n",
      "predicted_text: cơ vấn thầy vô nghỉ\n",
      "Processing: FPTOpenSpeechData_Set001_V0.1_000981.mp3\n"
     ]
    },
    {
     "name": "stderr",
     "output_type": "stream",
     "text": [
      "/home/ngo/anaconda3/lib/python3.12/site-packages/whisper/transcribe.py:126: UserWarning: FP16 is not supported on CPU; using FP32 instead\n",
      "  warnings.warn(\"FP16 is not supported on CPU; using FP32 instead\")\n"
     ]
    },
    {
     "name": "stdout",
     "output_type": "stream",
     "text": [
      "reference_text: hãng xe hạng sang của đức sẽ giới thiệu mẫu ưu đãi đầu tiên thuộc danh mục sản phẩm của mình\n",
      "predicted_text: hãng xe hãng sang của đức sẽ giới thiệu mẫu ưu đãi đầu tiên thuộc danh môn sản phẩm của mình.\n",
      "Processing: FPTOpenSpeechData_Set001_V0.1_000982.mp3\n"
     ]
    },
    {
     "name": "stderr",
     "output_type": "stream",
     "text": [
      "/home/ngo/anaconda3/lib/python3.12/site-packages/whisper/transcribe.py:126: UserWarning: FP16 is not supported on CPU; using FP32 instead\n",
      "  warnings.warn(\"FP16 is not supported on CPU; using FP32 instead\")\n"
     ]
    },
    {
     "name": "stdout",
     "output_type": "stream",
     "text": [
      "reference_text: roong cửa cũng phải kín thì tủ mới hoạt động tốt gió hở làm thất thoát điện rất lớn\n",
      "predicted_text: nó cũng phải kỹ thuật đi tù với hoạt động tốt, nó hờ làm thất phạt riêng rất lớn.\n",
      "Processing: FPTOpenSpeechData_Set001_V0.1_000983.mp3\n"
     ]
    },
    {
     "name": "stderr",
     "output_type": "stream",
     "text": [
      "/home/ngo/anaconda3/lib/python3.12/site-packages/whisper/transcribe.py:126: UserWarning: FP16 is not supported on CPU; using FP32 instead\n",
      "  warnings.warn(\"FP16 is not supported on CPU; using FP32 instead\")\n"
     ]
    },
    {
     "name": "stdout",
     "output_type": "stream",
     "text": [
      "reference_text: tôi cảm thấy lạnh và buồn nôn có nơi nào để nằm không\n",
      "predicted_text: ừ tôi cảm thấy lành và buồn luôn có nơi nào để nằm không\n",
      "Processing: FPTOpenSpeechData_Set001_V0.1_000984.mp3\n"
     ]
    },
    {
     "name": "stderr",
     "output_type": "stream",
     "text": [
      "/home/ngo/anaconda3/lib/python3.12/site-packages/whisper/transcribe.py:126: UserWarning: FP16 is not supported on CPU; using FP32 instead\n",
      "  warnings.warn(\"FP16 is not supported on CPU; using FP32 instead\")\n"
     ]
    },
    {
     "name": "stdout",
     "output_type": "stream",
     "text": [
      "reference_text: tôi đang tìm một công việc mới\n",
      "predicted_text: tôi đang tìm một công việc mới.\n",
      "Processing: FPTOpenSpeechData_Set001_V0.1_000985.mp3\n"
     ]
    },
    {
     "name": "stderr",
     "output_type": "stream",
     "text": [
      "/home/ngo/anaconda3/lib/python3.12/site-packages/whisper/transcribe.py:126: UserWarning: FP16 is not supported on CPU; using FP32 instead\n",
      "  warnings.warn(\"FP16 is not supported on CPU; using FP32 instead\")\n"
     ]
    },
    {
     "name": "stdout",
     "output_type": "stream",
     "text": [
      "reference_text: súng được du nhập vào nhật bản vào thời đó chúng đóng một vai trò quan trọng để thắng một trận đấu\n",
      "predicted_text: trung được trúc nhập vào nhật bản vào thời đó trung tạo một vai cho quan trọng để thẳng một trận đấu\n",
      "Processing: FPTOpenSpeechData_Set001_V0.1_000986.mp3\n"
     ]
    },
    {
     "name": "stderr",
     "output_type": "stream",
     "text": [
      "/home/ngo/anaconda3/lib/python3.12/site-packages/whisper/transcribe.py:126: UserWarning: FP16 is not supported on CPU; using FP32 instead\n",
      "  warnings.warn(\"FP16 is not supported on CPU; using FP32 instead\")\n"
     ]
    },
    {
     "name": "stdout",
     "output_type": "stream",
     "text": [
      "reference_text: tôi muốn trả phòng vậy vui lòng đến phòng tôi để mang hành lý của tôi\n",
      "predicted_text: tôi muốn trả phòng, vậy vui lòng đến phòng tôi để mang hành lý của tôi.\n",
      "Processing: FPTOpenSpeechData_Set001_V0.1_000987.mp3\n"
     ]
    },
    {
     "name": "stderr",
     "output_type": "stream",
     "text": [
      "/home/ngo/anaconda3/lib/python3.12/site-packages/whisper/transcribe.py:126: UserWarning: FP16 is not supported on CPU; using FP32 instead\n",
      "  warnings.warn(\"FP16 is not supported on CPU; using FP32 instead\")\n"
     ]
    },
    {
     "name": "stdout",
     "output_type": "stream",
     "text": [
      "reference_text: ông được nhiều người biết đến\n",
      "predicted_text: ông được nhiều người biết đến\n",
      "Processing: FPTOpenSpeechData_Set001_V0.1_000988.mp3\n"
     ]
    },
    {
     "name": "stderr",
     "output_type": "stream",
     "text": [
      "/home/ngo/anaconda3/lib/python3.12/site-packages/whisper/transcribe.py:126: UserWarning: FP16 is not supported on CPU; using FP32 instead\n",
      "  warnings.warn(\"FP16 is not supported on CPU; using FP32 instead\")\n"
     ]
    },
    {
     "name": "stdout",
     "output_type": "stream",
     "text": [
      "reference_text: vĩ bảo những người có tuổi tác ban đầu thường dằn vặt về quá khứ nghĩ về những ngày giữ địa vị ngoài xã hội\n",
      "predicted_text: dĩ báo những người có tuổi tác ban đầu thường dành đặt về quá khứ, dĩ về những ngày dữ địa dự ngoài xã hội.\n",
      "Processing: FPTOpenSpeechData_Set001_V0.1_000989.mp3\n"
     ]
    },
    {
     "name": "stderr",
     "output_type": "stream",
     "text": [
      "/home/ngo/anaconda3/lib/python3.12/site-packages/whisper/transcribe.py:126: UserWarning: FP16 is not supported on CPU; using FP32 instead\n",
      "  warnings.warn(\"FP16 is not supported on CPU; using FP32 instead\")\n"
     ]
    },
    {
     "name": "stdout",
     "output_type": "stream",
     "text": [
      "reference_text: họ còn trang điểm nhảy múa giống như vậy\n",
      "predicted_text: họ còn trang điểm nhảy môi giống như vậy\n",
      "Processing: FPTOpenSpeechData_Set001_V0.1_000990.mp3\n"
     ]
    },
    {
     "name": "stderr",
     "output_type": "stream",
     "text": [
      "/home/ngo/anaconda3/lib/python3.12/site-packages/whisper/transcribe.py:126: UserWarning: FP16 is not supported on CPU; using FP32 instead\n",
      "  warnings.warn(\"FP16 is not supported on CPU; using FP32 instead\")\n"
     ]
    },
    {
     "name": "stdout",
     "output_type": "stream",
     "text": [
      "reference_text: bạn có thể tìm một tờ ở một quầy mới gần đây\n",
      "predicted_text: bạn có thể tìm được tờ ở một quầy mới gần đây\n",
      "Processing: FPTOpenSpeechData_Set001_V0.1_000991.mp3\n"
     ]
    },
    {
     "name": "stderr",
     "output_type": "stream",
     "text": [
      "/home/ngo/anaconda3/lib/python3.12/site-packages/whisper/transcribe.py:126: UserWarning: FP16 is not supported on CPU; using FP32 instead\n",
      "  warnings.warn(\"FP16 is not supported on CPU; using FP32 instead\")\n"
     ]
    },
    {
     "name": "stdout",
     "output_type": "stream",
     "text": [
      "reference_text: cái này mắc quá\n",
      "predicted_text: cại này mắc quá\n",
      "Processing: FPTOpenSpeechData_Set001_V0.1_000992.mp3\n"
     ]
    },
    {
     "name": "stderr",
     "output_type": "stream",
     "text": [
      "/home/ngo/anaconda3/lib/python3.12/site-packages/whisper/transcribe.py:126: UserWarning: FP16 is not supported on CPU; using FP32 instead\n",
      "  warnings.warn(\"FP16 is not supported on CPU; using FP32 instead\")\n"
     ]
    },
    {
     "name": "stdout",
     "output_type": "stream",
     "text": [
      "reference_text: va chạm với người chở ngỗng chiếc xe lật úp làm đổ rất nhiều biển báo lẫn cột đèn\n",
      "predicted_text: va chạm với người chở ngốc, chiếc xe lật túp làm đối rất nhiều biển báo lẫn cột đẹp.\n",
      "Processing: FPTOpenSpeechData_Set001_V0.1_000993.mp3\n"
     ]
    },
    {
     "name": "stderr",
     "output_type": "stream",
     "text": [
      "/home/ngo/anaconda3/lib/python3.12/site-packages/whisper/transcribe.py:126: UserWarning: FP16 is not supported on CPU; using FP32 instead\n",
      "  warnings.warn(\"FP16 is not supported on CPU; using FP32 instead\")\n"
     ]
    },
    {
     "name": "stdout",
     "output_type": "stream",
     "text": [
      "reference_text: những chiếc thuộc sở hữu của một tổng đại lý ở đức vững chắc nhiều năm liền nhưng hãng cũng không thoát khỏi cơn bão khủng hoảng\n",
      "predicted_text: những chiếc thuộc sở hữu của một tổng đại lý ở đức vẫn chắc nhiều năm liền, nhưng hãng cũng không thoát khỏi cơ báo khủng hoảng.\n",
      "Processing: FPTOpenSpeechData_Set001_V0.1_000994.mp3\n"
     ]
    },
    {
     "name": "stderr",
     "output_type": "stream",
     "text": [
      "/home/ngo/anaconda3/lib/python3.12/site-packages/whisper/transcribe.py:126: UserWarning: FP16 is not supported on CPU; using FP32 instead\n",
      "  warnings.warn(\"FP16 is not supported on CPU; using FP32 instead\")\n"
     ]
    },
    {
     "name": "stdout",
     "output_type": "stream",
     "text": [
      "reference_text: kết thúc trận đấu các cầu thủ thường có trao đổi áo đấu cho nhau\n",
      "predicted_text: kết thúc trận đấu các cầu thủ thường có trao đổi áo đấu cho nhau\n",
      "Processing: FPTOpenSpeechData_Set001_V0.1_000995.mp3\n"
     ]
    },
    {
     "name": "stderr",
     "output_type": "stream",
     "text": [
      "/home/ngo/anaconda3/lib/python3.12/site-packages/whisper/transcribe.py:126: UserWarning: FP16 is not supported on CPU; using FP32 instead\n",
      "  warnings.warn(\"FP16 is not supported on CPU; using FP32 instead\")\n"
     ]
    },
    {
     "name": "stdout",
     "output_type": "stream",
     "text": [
      "reference_text: vui lòng đừng nói bây giờ chúng ta sẽ nói về nó trong cuộc họp báo\n",
      "predicted_text: nguyên lòng, đừng nói về giờ, chúng ta sẽ nói về nó trong cuộc họp báo.\n",
      "Processing: FPTOpenSpeechData_Set001_V0.1_000996.mp3\n"
     ]
    },
    {
     "name": "stderr",
     "output_type": "stream",
     "text": [
      "/home/ngo/anaconda3/lib/python3.12/site-packages/whisper/transcribe.py:126: UserWarning: FP16 is not supported on CPU; using FP32 instead\n",
      "  warnings.warn(\"FP16 is not supported on CPU; using FP32 instead\")\n"
     ]
    },
    {
     "name": "stdout",
     "output_type": "stream",
     "text": [
      "reference_text: trời có đang quang đãng dần không\n",
      "predicted_text: trời có đem quan đảng dần không?\n",
      "Processing: FPTOpenSpeechData_Set001_V0.1_000997.mp3\n"
     ]
    },
    {
     "name": "stderr",
     "output_type": "stream",
     "text": [
      "/home/ngo/anaconda3/lib/python3.12/site-packages/whisper/transcribe.py:126: UserWarning: FP16 is not supported on CPU; using FP32 instead\n",
      "  warnings.warn(\"FP16 is not supported on CPU; using FP32 instead\")\n"
     ]
    },
    {
     "name": "stdout",
     "output_type": "stream",
     "text": [
      "reference_text: để nó cho tôi\n",
      "predicted_text: để nó cho tôi\n",
      "Processing: FPTOpenSpeechData_Set001_V0.1_000998.mp3\n"
     ]
    },
    {
     "name": "stderr",
     "output_type": "stream",
     "text": [
      "/home/ngo/anaconda3/lib/python3.12/site-packages/whisper/transcribe.py:126: UserWarning: FP16 is not supported on CPU; using FP32 instead\n",
      "  warnings.warn(\"FP16 is not supported on CPU; using FP32 instead\")\n"
     ]
    },
    {
     "name": "stdout",
     "output_type": "stream",
     "text": [
      "reference_text: mì vằn thắn và sủi cảo là hai món được ưa chuộng nhất tại đây\n",
      "predicted_text: mì văn thẳng và sữa cạo là 2 món được ưa chuông nhất tại đây\n",
      "Processing: FPTOpenSpeechData_Set001_V0.1_000999.mp3\n"
     ]
    },
    {
     "name": "stderr",
     "output_type": "stream",
     "text": [
      "/home/ngo/anaconda3/lib/python3.12/site-packages/whisper/transcribe.py:126: UserWarning: FP16 is not supported on CPU; using FP32 instead\n",
      "  warnings.warn(\"FP16 is not supported on CPU; using FP32 instead\")\n"
     ]
    },
    {
     "name": "stdout",
     "output_type": "stream",
     "text": [
      "reference_text: thủ tục lên máy bay vào lúc hai giờ ba mươi\n",
      "predicted_text: chúng tôi phải bay lúc 2h30\n",
      "Processing: FPTOpenSpeechData_Set001_V0.1_001000.mp3\n"
     ]
    },
    {
     "name": "stderr",
     "output_type": "stream",
     "text": [
      "/home/ngo/anaconda3/lib/python3.12/site-packages/whisper/transcribe.py:126: UserWarning: FP16 is not supported on CPU; using FP32 instead\n",
      "  warnings.warn(\"FP16 is not supported on CPU; using FP32 instead\")\n"
     ]
    },
    {
     "name": "stdout",
     "output_type": "stream",
     "text": [
      "reference_text: một áp phích phim ấn độ\n",
      "predicted_text: một áp thích thiên ấn độ\n",
      "Xu ly tung file am thanh - end\n"
     ]
    }
   ],
   "source": [
    "print(\"Xu ly tung file am thanh\")\n",
    "# Khởi tạo danh sách để lưu kết quả\n",
    "hypotheses = []\n",
    "references = []\n",
    "results = []\n",
    "\n",
    "# Sắp xếp danh sách file theo tên\n",
    "audio_files = sorted([f for f in os.listdir(AUDIO_FOLDER) if f.endswith(\".mp3\")])\n",
    "\n",
    "# Xử lý từng file âm thanh\n",
    "for audio_file in audio_files:\n",
    "    file_path = os.path.join(AUDIO_FOLDER, audio_file)\n",
    "    print(f\"Processing: {audio_file}\")\n",
    "    \n",
    "    # Nhận diện giọng nói\n",
    "    result = model.transcribe(file_path, language=\"vi\")\n",
    "    predicted_text = result[\"text\"].strip().lower()\n",
    "    \n",
    "    # Lưu kết quả nếu có transcript chuẩn\n",
    "    if audio_file in ground_truths:\n",
    "        reference_text = ground_truths[audio_file].strip().lower()\n",
    "        print(f'reference_text: {reference_text}')\n",
    "        print(f'predicted_text: {predicted_text}')\n",
    "        if reference_text and predicted_text:\n",
    "            references.append(reference_text)\n",
    "            hypotheses.append(predicted_text)\n",
    "    else:\n",
    "        print(f\"Warning: No reference found for {audio_file}\")\n",
    "    \n",
    "    # Ghi kết quả vào danh sách\n",
    "    results.append(f\"{audio_file}|{predicted_text}\")\n",
    "\n",
    "print(\"Xu ly tung file am thanh - end\")"
   ]
  },
  {
   "cell_type": "code",
   "execution_count": 14,
   "id": "53097727-224f-4ac1-8ae8-ed8b8a2b0003",
   "metadata": {},
   "outputs": [
    {
     "name": "stdout",
     "output_type": "stream",
     "text": [
      "reference_text: ['cách để đi', 'họ đã xét nghiệm máu cho cheng nhưng mọi thứ vẫn hoàn toàn bình thường', 'anh có thể gọi tôi không', 'có rất nhiều yếu tố may rủi ở đây', 'ai là chúa nói dối', 'có cửa hàng tiện lợi ở sân bay không', 'anh đổi ngoại tệ được không', 'cô ấy mua hai mươi trái chôm chôm và ba con cá', 'đứa bé có ói òng ọc ra sữa hoặc nước và bé chưa đến mười tuần tuổi hoặc có biểu hiện mất nước không', 'tôi có thể viết tên địa chỉ số điện thoại của công ty bảo hiểm của anh được không', 'đừng lo tôi vừa mới đến rồi', 'mười phút nữa vào giờ rưỡi', 'tôi có thể hẹn cho chiều mai không', 'anh rửa hình kỹ thuật số ra được không', 'tôi cố thu xếp thôi', 'tôi không dùng ma túy', 'quân đội mỹ muốn chế tạo những máy tự động hoàn toàn vì những chiếc mà họ đang có vẫn cần được điều khiển bởi con người', 'tôi quên túi đeo vai trong xe tắc xi', 'dư luận đã phản ánh lên cơ quan địa chính của thị trấn nhưng mãi chả thấy hồi âm', 'giả danh làm từ thiện lừa tiền người dân', 'sắm đồ siêu sang ở hội chợ triệu phú', 'nếu làm lộ thiên cơ âm binh sẽ đánh trả thầy', 'máy ném bom chiến lược của nga gặp nạn', 'anh có thích tôi giữ trước quyển sách này cho anh không', 'ở người bị hội chứng khi ăn ngủ phần não phải vẫn thức và sau đó là cả các dạng hoạt động thể chất', 'tỉ lệ là mười mm trên một km', 'tôi muốn thực hiện một cuộc gọi điện thoại quốc tế đi nhật bản cuộc gọi -n là đến tokyo số ba hai chín hai tám hai một một', 'nơi đây hiện khá yên tĩnh', 'nhưng cũng có những bạn nằm khèo ở nhà trùm mềm và khóc nhè', 'chúng ta không thể mua cái nào ở nhật bản', 'cho vừa với số kinh phí hạn hẹp của một bộ phim', 'kịch sến nhiều tập làm tôi oải quá tôi sẽ tắt tv', 'chính vì thế những người phải sống một thời gian dài trong không gian có thể gặp rủi ro', 'thực ra thà không đến nỗi mơ mộng đến mê muội để chẳng hiểu tấm lòng của những người thân thông qua lời khuyên nhủ', 'bán đấu giá mỹ nữ', 'địa chỉ email của tôi là s t e f a n dot m a r t e n s \\\\r\\\\n @ gmx dot de', 'hôm thứ năm ủy ban bầu cử thái lan cho rằng đảng của người thái yêu người thái đã phạm hai luật trong chiến dịch tranh cử vừa qua', 'không thể xem lần vấp ngã ấy là tai', 'cướp bóc trong khi hỏa hoạn', 'một dân tộc từng không có người từ á sang âu -n', 'tết đầu tiên xa việt nam của cháu quả là ý nghĩa', 'trong làng ai cũng quý mến gia đình anh phú', 'xin chào gia đình tanaka', 'anh đã làm rất tệ', 'cô ta nghi ngờ lúc mình say rượu đã bị toán cưỡng bức', 'ông muốn nhãn hiệu bia nào', 'anh có dừng tại khách sạn begin không', 'bật điều hòa nhiệt độ', 'nhiều chàng trai để ý và theo dõi bạn', 'chúng ta hãy tung một đồng tiền để quyết định', 'tôi nghe đĩa cd này được không', 'nguyễn văn vũ vừa tử nạn vì hỗ trợ đuổi bắt tội phạm ngày mười ba tháng một công an xã cẩm trạch huyện cần cẩu cho biết một người lái xe khách hai bảy tuổi đã tử nạn khi giúp một phụ nữ bị bảy tên khống chế cướp tài sản', 'hai con voi này rất hung dữ và phá nát nhiều hoa màu của người dân trong khu vực', 'anh có bị đau do mệt mỏi không', 'bạn có muốn tôi dịch cái này cho bạn không tôi nói tiếng nhật', 'vâng giá sẽ là ba trăm yên', 'và như thế những điều tốt đẹp', 'tăng nhiệt độ lên hai mươi mốt độ', 'tốt hơn là tôi nên đi bây giờ', 'kỳ tích có thể để lại quyền lực bởi một nhà độc tài dầu mỏ nhưng cũng có thể giúp thể chế hóa những phong trào chống mỹ diễn ra tại khu vực trung đông', 'lãnh đạo ngành ô tô mỹ nên từ chức', 'cô ấy biết', 'từng sợi thương li ti kết lại', 'mồ hôi là một trong những phương tiện để cơ thể thải cặn bã ra ngoài', 'ti vi k+ một', 'hiện nay mỗi khi chào hàng các lò rang hạt dưa như tứ hưng duy ký thiên hương', 'vì không biết nhìn xa trông rộng và vì niềm tin sắt đá rằng rồi mọi việc sẽ êm xuôi', 'nhờ có chúa', 'xe chú rể lăn xuống vực sau tiệc cưới', 'rồi anh đi một chuyến đến khu vực vỉa san hô và thăm viện bảo tàng úc anh có thể tìm hiểu nhiều về nước úc anh cũng có thể có một món quà đẹp tại cảng darling nếu anh muốn mua vài đồ lưu niệm có rất nhiều đồ vật và phụ kiện anh có thể muốn mua', 'đó là chưa kể các thủ đoạn chính trị xã hội khác', 'tôi có vẽ một chút', 'cho tôi mẫu thử được không', 'tôi có ba con gái', 'tôi sẽ ở lại đây', 'người ta cho rằng số khúc gỗ ở dưới đáy bị dính nước bẩn ít thì kỳ kinh sẽ ngắn', 'không một nơi nào lãng mạn và thơ mộng hơn những khu hồ hoang', 'bị hại kháng cáo vì cho rằng các cơ quan tố tụng ở huyện hương khê bỏ lọt người sót tội', 'cuối cùng họ sẽ phải gõ cửa nhờ ông ấy', 'cái giá của một anh hùng', 'bản sao tấm séc khoản tiền vợ chồng nguyễn nhận được', 'nhằm thu hút thêm nhiều nhà đầu tư', 'vui lòng cho ba vé khứ hồi hạng hai', 'anh cần một con tem một đô la ba mươi cent', 'xà lách trộn phó mát mốc xanh và cây óc chó', 'chúng tôi sẽ bồi thường cho anh', 'chỉ xét tuyển hồ sơ không phải thi', 'gần chín nghìn tỉ đồng xây đường sắt đô thị cát linh hà đông', 'bỏ quần vào trong máy giặt', 'trả lời tôi biết', 'đến thời điểm hiện tại ít nhất trong cả nước đã có năm mươi nghìn lao động thất nghiệp', 'anh sẵn sàng gọi món chưa', 'là tác động của nó đến hiệu suất chung của toàn bộ hệ thống điện', 'đã bán rồi', 'thời tiết ấm áp như thể là đầu hè', 'chúng tôi có bốn người', 'vẻ đẹp khuôn mặt và bản năng tình dục quan hệ tương hỗ chặt chẽ với nhau', 'hầu bàn của quý khách sẽ là alfredo', 'đầu gối có bị sưng đỏ hoặc cả hai', 'hút thuốc bị hạn chế trong khu vực công cộng', 'chẳng phải là bệnh hiểm nghèo nhưng trĩ vẫn là bệnh gây khó chịu cho bệnh nhân bởi làm cản trở công việc của họ lúc làm việc cũng như lúc ngủ họ vẫn phải lo nghĩ giáo sư nghĩa nói', 'chuyển máy cho ai', 'kết quả lao động của tôi đến đâu thì tác phẩm trả lời', 'khi những chiếc đĩa được dỡ bỏ lũ hà mã cũng chẳng thèm chú ý tới những chiếc nhãn đó nữa', 'không vậy không sao tôi sẽ gọi ông ấy sau cảm ơn', 'có giảm giá cho người cao niên không', 'hãy gọi cảnh sát ngay', 'bắt đầu đếm', 'anh có bị đau do mệt mỏi không', 'lãi suất cho vay cũng đã giảm mạnh theo lãi huy động vốn lãi nhiều vẫn chẳng có người nào gửi cả', 'các nhà khoa học đang tiến thêm một bước', 'cùng chuẩn và ngũ hai đối tượng khác chuyên làm nhiệm vụ đưa người sang trung quốc là nguyễn vũ hải và võ cảnh dũng cùng trú tại bắc giang cũng bị cảnh sát bắt', 'hệ thống phòng ngự tài năng và giàu kinh nghiệm', 'sẽ đủ sức cạnh tranh với nước ngoài', 'giơ tay lên để đồng ý', 'vui lòng trả mười đô la', 'đây là hồi chuông cảnh báo về sự mất an toàn lưới điện trên địa bàn', 'ban đêm bắng cây đa', 'kênh hai ti vi', 'này chúng tôi sắp nhổ neo', 'mở', 'độc giả của tôi muốn hướng tới là sinh viên và trí thức', 'không mở cửa ồ ạt', 'tôi muốn đổi cái này lấy cái màu xanh', 'sống với em anh nhé', 'vừa gọi điện vừa đi lại rất gây hại cho sức khỏe', 'tôi có thể tìm bảng tin ở đâu', 'anh chuẩn bị toa này cho tôi được không', 'đây là địa chỉ của anh', 'anh lắng nghe tôi một phút được không', 'lạm phát tăng là do dự báo yếu kém', 'thịt gà nhồi hỗn hợp băm nhỏ', 'trung tá nguyễn phả lại cán bộ quản giáo trực tiếp buồng số bảy chỗ ở của ông mẫu ông dũng nói kín kẽ cũng là tâm lý của người cải tạo loại án như trường hợp ông dũng', 'kí túc vắng tanh đèn thoát hiểm nhấp nháy chập chờn cứ như trên phim được xem ý', 'mở', 'tốt nhất anh không nên làm nó', 'tôi có thể mua vé ở đâu', 'vậy điều gì ủng hộ ý tưởng táo bạo trên', 'họ sẽ chơi nhiều ca khúc từ bộ phim âm thanh của âm nhạc', 'mã vùng của plymouth là không một bảy năm hai', 'không tôi luôn tỉ mỉ', 'một số trò chơi đòi hỏi các động tác chậm thận trọng hãy từ từ', 'nó là của anh', '-n lỗ mũi hẹp -n có tài kiếm tiền', 'đây là ghi chép cho phí nào', 'tôi bị các triệu chứng viêm phổi', 'còn bao nhiều giờ thì chúng ta sẽ đến new york', 'thị trường chính thức kém sôi động nên thị trường phi tập trung cũng ê ẩm', 'chúng tôi đã thuê căn hộ', 'mở lên', 'cuộc tình đó tồn tại cho tới ngày cô ta -n khối tài sản mà ông giao phó rồi biến mất tăm', 'xin vui lòng hãy sẵn sàng vào lúc chín giờ rưỡi', 'tôi không nghĩ như vậy', 'cách dễ nhất là tìm người khác để yêu', 'hãy tận dụng những gì có sẵn từ thiên nhiên để làm đẹp làn da', 'cô lấy cho tôi cái khăn nào', 'lối đánh tấn công quen thuộc của chị biến mất thay vào đó là những đường bóng yếu ớt', 'tôi có thể có bản đồ đường đi của đảo maui không', 'tôi bị suyễn', 'thành ra càng cổ phần hóa ồ ạt càng bán giá nội bộ ồ ạt trừ phi có sẵn một cơ chế kiểm soát', 'nền tài chính nhật bản phụ thuộc khá lớn vào các chính sách tiền tệ của mỹ', 'anh cất hành lý này cho tôi được không', 'obon nghĩa là gì', 'tăng nhiệt độ lên hai mươi chín độ', 'kênh sáu', 'phờ phạc sau hành trình dài', 'mười hai giờ mười lăm rồi', 'tiêu cực ương ngạnh', 'tuy nhiên hôm qua ông đã phá lệ', 'phát triển', 'cái xác cứ thế khô dần cho đến hôm nay', 'ti vi vtv hai', 'nhóm cho rằng điều đó chứng tỏ phụ nữ tập trung hơn vào ngôn ngữ của sự hài hước', 'phòng quá ồn và tôi không thể ngủ được', 'những lãnh đạo cấp cao đang phải đối mặt với việc giảm lương đến mức nào hiện vẫn chưa rõ', 'xe mỹ từng là biểu tượng giàu sang', 'bữa ăn sinh viên từ lâu đã đơn giản lắm rồi giờ càng đơn giản hơn bao giờ hết', 'bệnh này có thường xảy ra không', 'anh có đang thấy cầu vồng không', 'họ phải đảm bảo có đủ vắc xin và thực hiện các biện pháp cần thiết khác để đối phó với tình hình', 'anh gọi đánh thức tôi lúc bảy giờ sáng mai được không', 'tự đăng cáo phó cho mình', 'anh thích kiểu nào hơn', 'ánh đuốc hắt lên khoanh cổ cụt đỏ hỏn hụt hẫng', 'xin lỗi anh có thể -n lĩnh tiền mặt cái này không', 'cảnh sát biết rằng có một nhóm bí mật hoạt động bất hợp pháp', 'thiết bị còn gửi thông điệp cảnh báo tới người chủ khi pin sắp hết', 'xin vui lòng cứ mang giày', 'tôi không biết chắc là có tai nạn', 'tao nhanh đến mức nào', 'bữa tiệc sống động -n', 'vậy còn yếu tố tinh thần thì sao', 'cái này trên tầng ba', 'chuyến bay của anh khi nào', 'không không phải có bàn trống cho hai người không', 'tôi có thể có một tờ tạp chí khác không', 'bán cho tôi một vé hạng hai đến chermarn', 'jerry đây là jack làm ơn gọi cho edith', 'tất cả những gì nước mỹ làm chỉ đơn thuần là vì muốn sở hữu những nguồn tài nguyên quý giá của các quốc gia đó', 'chúng sở hữu tiếng thét chói tai và rất thích nhảy nhót', 'tưởng dễ đẻ trứng vàng nhiều đơn vị ùn ùn xin thành lập công ty chứng khoán ngay lúc thị trường đỉnh cao', 'ừ bạn đứng không đúng băng chuyền', 'ngân hàng phương nam cũng một phen hú vía khi thông tin rủi ro tín dụng bị rò rỉ ra ngoài', 'bà mẹ nghèo đông con', 'mẫu xe được trình làng ở triển lãm được giới truyền thông coi là hình mẫu của chiếc bốn cửa sẽ ra mắt vào tới', 'anh mặc cái này trông rất đẹp', 'chưa có thông tin về bệnh chết người ở nước này', 'cho tôi bản đồ thành phố được không', 'đều không quan trọng', 'có lúc họ đút hai tay trong túi hai vai rụt lại mà đi có lúc đánh tay thoải mái ưỡn ngực', 'tôi bị ung thư', 'tôi không thể hiểu bạn', 'tôi cảm thấy rất nặng nề tôi không thể di chuyển chân của tôi', 'tình yêu là mù quáng người đang yêu không thấy khuyết điểm của người khác', 'phát tờ rơi quảng cáo biến thành rác đô thị', 'cô ấy có thính giác ảo', 'đôi khi trong các khẩu súng các em mang trên người không hề có đạn -n chỉ là một thứ hù dọa những', 'đâu là nền tảng sinh học của ý thức', 'tôi có thể xin một khác không', 'tôi đã từng chứng kiến bão và giờ đây tôi đang cộng tác tại nước ngoài', 'có phí uống không', 'tôi đi hải phòng còn bạn đi đâu', 'ti vi giảm âm lượng về bốn', 'cũng đồng nghĩa với việc chúng ta có thể sẽ chuốc lấy khổ đau', 'gần đây lại có vụ công ty xe khách thuận thảo ở bình định bị các đối thủ hùa nhau ngăn cản không cho hoạt động', 'vâng tôi đã đến đây lần đầu tiên cách đây năm năm', 'chành bành chằng chịt chỗ nào cũng có', 'tôi có thể xem một bộ phim ở đâu', 'cô ấy cần một bóng đèn bốn mươi oắt cho đèn để bàn', 'góa vợ hai con', 'trẻ em ở các trường học được cung cấp nước sạch để uống', 'làm ơn nối máy tôi với cảnh sát', 'đầu tư cho dự án xây dựng nhà máy sản xuất điện thoại di động tại đà nẵng', 'vui lòng chuẩn bị cái này ở hải quan đằng kia chúc ở lại vui vẻ', 'một dãy các tủ lạnh xếp dọc theo căn phòng', 'ti vi giảm âm lượng về một', 'không phải mặt hàng đó', 'tảng đất thó hình lục lăng mát lạnh', 'đều tắc do ngập nước', 'có phải tàu từ sydney đến trễ không', 'tôi sẽ lấy phòng này', 'nghỉ ngơi vài ngày', 'họ có chiến thuật tốt hiệu quả và nhiều cầu thủ có kỹ thuật cá nhân điêu luyện', 'vui lòng vé b đi a', 'tôi muốn nhuộm màu', 'đồng xu bị kẹt ở đây', 'một trong ba người này làm giám đốc một công ty sản xuất hàng hóa', 'sếu đầu đỏ xuất hiện tại tây ninh', 'quý vị có thể cử động khuỷu tay được không', 'con đường dài lắm sao anh để em đi một mình', 'chỉ cần gọi bất cứ lúc nào anh muốn nói chuyện với tôi', 'trộm viếng thăm lấy hết đồ đạc trong nhà', 'nó đau ở đây', 'nó rất ngon', 'cho nên mặc dù có chất lượng tốt nhưng giá thành của nó lại rất cao và khó ứng dụng rộng', 'tiếng nổ ì ầm vang lên từ những âm thanh chứa thuốc nổ mà các thợ mỏ ném vào không khí', 'chính vì vậy mà không khí tết dường như đến chậm hơn', 'làm ơn cho tôi loại thứ hai', 'mưa sầm sập vừa ra ngoài trời quần áo chị lập tức ướt sũng', 'bị đuổi việc vác dao truy sát ông chủ', 'ngỗng cũng có khả năng ghi nhớ từ trước tới giờ giới khảo cổ vẫn tưởng rằng não của ngỗng chỉ có thể lưu giữ thông tin vài giây', 'chuyện sản xuất của lão chủ tịch họ nguyễn và họ đỗ mãi mãi vào sử sách', 'vậy còn yếu tố tinh thần thì sao', 'tôi muốn đăng ký một chuyến bay từ los angeles đi new york khởi hành vào ngày mười lăm và quay về vào ngày mười ba', 'xin lỗi tôi có thể tìm một đại lý lữ hành ở đâu', 'quí vị có phòng dành cho một đêm không', 'cô ấy đang rất mong anh', 'có tiếng rì rào từ xa đến gần', 'một số cổ động viên còn dùng những lời lẽ thô tục chửi bới lực lượng công an', 'anh đem cho tôi một ít nước được không', 'ti vi tăng tiếng đến sáu', 'chúng tôi sẽ trả phòng khoảng giữa trưa', 'honda đẩy mạnh sản xuất ở nước ngoài', 'ti vi giảm âm lượng về bẩy', 'con lợn rừng nhảy xuống sông và trốn thoát', 'tôi muốn một đôi giày thể thao', 'tôi cần nó trước thứ sáu', 'ta hãy nghỉ một chút', 'tôi muốn mua bơ', 'hàng nghìn người trung á rời quê hương đến nga kiếm việc', 'giá một dặm là bao nhiêu', 'tôi có thể thanh toán cho nó bằng đồng yên nhật không', 'quý vị có bị đau họng các triệu chứng cảm lạnh hay cúm không', 'một nghệ sĩ đích thực là phải lao động quần quật để mời gọi cảm hứng đến', 'được tôi sẽ làm nó ngay', 'thể dục chơi thể thao nơi không khí trong lành', 'ngoài vài sân bóng đá cầu lông mà chúng tôi mới làm lại thì hầu như chẳng có gì mới', 'mệt', 'tổng số tiền là hai trăm bốn mươi ba pound thưa mẹ', 'hầu hết rừng nằm ở ven sông , biển nên đã -n -n', 'nhìn nó vậy mà giỏi nhỉ', 'tôi có thể nói mấy câu được không', 'tuy nhiên các nhà khoa học châu âu vẫn chưa vừa ý với kết quả này', 'tám tổ chức công đoàn ở đức tạo thành liên đoàn lao động đức', 'nói chuyện trịnh trọng nghe ghê quá', 'tôi muốn nửa tá', 'tôi cần một cái gì đó cho táo bón', 'vâng dave mark sachiko và rumi sẽ có ở bữa tiệc', 'tình hình ở nước anh thì ngược lại phe nào phe nấy thi nhau đả kích thủ tướng của mình', 'phòng có máy lạnh không', 'họ thoải mái với việc người bạn đường phải núp trong', 'cô gái kia yêu cầu gia đình không được báo với công an nếu không còn nguy hiểm tới tính mạng', 'được thưa anh', 'nhà nước có thể hỗ trợ giá thuê bằng cách miễn giảm tiền sử dụng đất miễn giảm thuế', 'vui lòng mang cho tôi một ít giấy viết', 'công an huyện quảng ngãi đã triệu tập bố mẹ của cháu lĩnh là nguyễn văn vĩnh và võ thị thụy để lấy lời khai', 'bạn có những món hàng khác không', 'ti vi giảm tiếng về một', 'thu hoạch và bảo quản lúa là khâu cuối cùng trong một mùa vụ', 'cha và dì cứ đổ riệt cho mẹ', 'tuy nhiên sự việc vừa đi qua đã chứng tỏ ông đã bắt đầu lo lắng cho an ninh của gia đình mình', 'một thành phố như thế xứng đáng được ca tụng', 'cả sân thiên trường ồ lên tiếc nuối', 'chúng ta có thể bắt đầu không', 'phía bên phải cơ thể tôi bị đau rất tệ', 'người dân ngán ngẩm với dịch vụ bệnh viện', 'có cái gì gây ra cơn đau này không', 'tôi cần phải về nhà bây giờ', 'không chỉ có mức lương trung bình thấp nhất ở đông bắc á mà công đoàn độc lập cũng không hiện hữu ở nơi này', 'gia đình bart cho biết bộ phim phỉ báng ông đồng thời dọa sẽ kiện để bộ phim này không được phép chiếu', 'số tiền này dự định sẽ được dùng để đỡ gánh chi phí an sinh xã hội cho các chủ doanh nghiệp và khuyến khích họ thuê thêm lao động', 'vui lòng cho tôi biết tàu sẽ khởi hành đúng giờ không', 'bạn có biết hẹn hò', 'miễn thuế đối với nhà đầu tư trong nước kém ưu đãi hơn so với đầu tư nước ngoài', 'đồng hồ tôi chậm ba phút', 'cô rê chí mén \\\\r\\\\n và giấc mơ toàn cầu', 'lên các cuộc hẹn phỏng vấn và thực hiện phỏng vấn', 'tôi sẽ kê toa thuốc cho anh', 'khách hàng chờ nhận hành lý thất lạc', 'ti vi tắt âm lượng', 'trường là người rất có kỷ luật nhưng làm việc hơi cẩu thả một chút', 'có lẽ bạn đang nghĩ rằng bạn vẫn luôn cư xử một cách đúng mực', 'buộc tháo dỡ phần vi phạm ngay như quận bình thạnh', 'bạn sẽ chỉ huy một hạm đội gồm các tàu chiến chiến hạm', 'bác tư re', 'tôi sẽ ở nhà một người bạn tại new york', 'cái này hoàn toàn tự động , vì vậy anh cần bấm nút mở ống kính', 'phân của quí vị có màu đen bao lâu rồi', 'khát mộng tủ', 'tôi đi bộ', 'con trai của họ ăn nhiều nhất', 'anh có mang tiền lẻ không', 'xin chào vui lòng nối máy cho tôi đến bàn đặt phòng', 'chúng tôi phải đi bây giờ tôi rất thích bài khiêu vũ', 'hôm nay su không ở đây', 'bữa sáng có gì', 'tôi muốn chỉ ra rằng', 'do vậy việc y án sơ thẩm là hoàn toàn có cơ sở', 'động cơ bị nóng quá', 'hầu như không ai chú ý đến những mệnh lệnh ông đưa ra nữa binh lính thì không chịu chiến đấu', 'tôi đến cùng bạn tôi được không', 'chừng nào thì khu bị đóng cửa sẽ mở cửa cho xe đi', 'đây là một áp lực nặng nề đối với các đơn vị sản xuất thép', 'sản phẩm đã được miễn giảm thuế chủ yếu phục vụ thị trường các tỉnh miền tây nam bộ đã biến khỏi mĩ khởi', 'tôi nói cậu có nghe không', 'tôi có thể ở lại ba đêm không', 'tuy nhiên giá bán vẫn giữ mức khá cao', 'tôi có một số câu hỏi về điều khoản số tám', 'tôi thường có nhưng tôi thích nghỉ hè', 'ngày mai chúng tôi phải dậy sớm', 'dòng sản phẩm thảm đỏ thôi miên mọi ánh nhìn bởi chi tiết xếp nếp mềm mại', 'với dầu và mụn mặt nạ táo và mật ong sẽ giúp bạn cải thiện làn da', 'và tăng khả năng sinh sản', 'tại bữa cơm nhấp xong chén rượu bảy đưa tuấn thấy anh bỉnh kêu đắng khó uống', 'mà điện sản xuất lãi như vậy có thấy evn đả động gì đâu', 'anh có thích gặp nói chuyện sau không', 'làm ơn cho một ly rượu vang đỏ được không', 'tôi muốn một đôi ván trượt nước', 'con biết nịnh bố mỗi khi thích món đồ chơi nào đó', 'bạn muốn uống loại rượu nào', 'tại cuộc họp ông nguyễn quốc bảo khẳng định thời gian tới sẽ tập trung điều hành nhằm tháo gỡ khó khăn về vốn cũng như thủ tục hành chính phục vụ sản xuất nhập khẩu', 'dùng thuốc ngay khi thức dậy buổi sáng', 'ồ không vấn đề gì', 'nhiều lần chị góp ý ông xã đã hứa sẽ sửa lịch cho hợp lý song chỉ được dăm bữa nửa tháng mọi việc lại đâu vào đấy', 'bạn đừng để mắt to hơn bụng', 'còn gì ý nghĩa hơn với một tiền đạo khi ghi bàn quyết định thắng lợi cho đội nhà trong ngày sinh nhật của mình', 'bắt đầu lúc mấy giờ', 'con của quí vị bao nhiêu tuổi', 'vui lòng mang cho tôi món khai vị', 'lập trình viên đa số đều bị tâm thần', 'tôi muốn thời gian đó quan sát và tư duy nhờ đó mà có ý tưởng điều chỉnh nhịp đèn anh tuấn chia sẻ', 'mặc dù có vẻ ghê gớm bạn rất sợ bị tổn', 'nhà hát mở cửa lúc mấy giờ', 'tóm lược sức khỏe ban đầu', 'tôi muốn giữ nó dưới giá ba mươi đô la', 'chiếc này dành riêng tổng thống mới đắc cử của mỹ xác nhận đã chuyển tới mật vụ mỹ chiếc xe dành cho tổng thống mới để thay thế chiếc xe cũ', 'nhưng tôi không muốn bạn tin tưởng vào bất kỳ điều gì', 'không thể phớt lờ lạm phát', 'hoa nhận lời yêu thắng', 'bóng đá anh hấp dẫn nhiều tỷ phú', 'cách tốt nhất là bằng xe buýt', 'cô ấy bị mất thẻ ngân hàng', 'phòng thay đồ ở đằng kia', 'sản phẩm phụ của máy rút tiền đầu tiên là mã số bảo mật -n viết tắt là pin', 'tôi hy vọng thời tiết sẽ sớm sáng sủa', 'bạn đường khều cùi chỏ nhắc coi chừng ổng khùng', 'thuốc diệt cỏ làm ếch đực mất khả năng sinh sản', 'bạn có thể bật máy điều hòa lên được không', 'phê thuốc lắc', 'chỗ cho thuê ghế bãi biển đã mở cửa chưa', 'tôi muốn trau dồi tiếng tây ban nha của mình', 'kênh k+ một', 'làm gì để bảo vệ sự an toàn của ngân hàng', 'tôi đã bị lừa', 'vậy kế hoạch của anh cho ngày mai ra sao', 'tôi uống từ vòi nước được không', 'nó có hướng dẫn -n sử dụng không', 'có người còn không ngần ngại so sánh doanh thu phim việt với các phim nhập của nước ngoài', 'bạn có quan tâm đến đồ cổ không', 'bản báo cáo cũng chỉ rõ ở việt nam hiện nay những hủ tục hay những suy nghĩ cũ tồn tại ở nhiều vùng dân tộc thiểu số thậm chí cả ở các tỉnh thành lớn đã khiến cho sự bất bình đẳng giới cũng như tỷ lệ tử vong ở phụ nữ và trẻ nhỏ vẫn rất cao', 'cũng chẳng còn xúng xính quần áo mới', 'tôi đang tìm diêm', 'một chỗ bí mật à ý bạn là sao', 'chính sách quản lý cần cởi mở', 'bệnh này có thường xảy ra không', 'quẹo tay lái và đi vòng các góc', 'anh ấy đến từ flanders', 'nhiều bộ ong hang đá có dấu hiệu -n gấu ngựa gấu chó sinh sống -n', 'xin lỗi ông cho tôi lấy hóa đơn được không', 'các mảnh có rìa sắc được tha vào cán gỗ và gắn chặt bằng nhựa thông', 'vui lòng không bỏ đồ quý giá trên toa hành khách', 'người mẫu phải tập tành trình diễn quần quật -n đến tận khuya', 'được rồi chút nữa tôi sẽ massage cho ngài chỗ khác', 'không lẽ ước nguyện đó của tôi lại khó đến thế sao', 'thời gian đóng ma làng cả đoàn phim sống vài tháng trời trên vùng núi lương sơn hòa bình', 'nhiều trụ cột và các mạch vữa đều mục ruỗng', 'làm nơi nấu nướng giặt giũ', 'khách tham quan cũng tranh thủ ngồi vào ghế hành khách để thử độ êm nhún', 'tôi e rằng ở đây không chúng tôi không chấp nhận', 'dù chỉ có tính thẩm mỹ song giải pháp sửa chữa hoặc đổi mã hàng lạ lẫm vẫn tạo được sự hứng khởi ở những trẻ nhỏ', 'con nhỏ mở cái túi gút đeo trên cổ', 'họ không cho phép anh vào nhà', 'nguồn nước ở đây đã bị nhiễm mặn nhiễm phèn và nhiễm khuẩn bởi thói quen thải rác trực tiếp ra sông lượng thuốc trừ sâu dùng trong nông nghiệp và việc xây cầu cảng ở cuối dòng sông cũng là lý do', 'đây có thể là kẽ hở nảy sinh tiêu cực gây thất thoát lớn', 'đốt pháo sẽ bị tội gây rối trật tự công cộng bởi tác hại lớn mà việc đốt pháo đã bị cấm hẳn', 'phê thuốc lắc', 'điều này chọc tức tôi', 'trước đó tôi về mở hộp thư điện tử ra và nhận được rất nhiều lá thư của người hâm mộ yêu cầu tôi về quê hương đi và tôi biết đã đến lúc nói lời tạm biệt', 'các kết quả xét nghiệm có bí mật không', 'toàn là đồ dùng cá nhân', 'dừng lại', 'những lợi ích nào khác được cung cấp', 'chúng tôi không có cỡ khác', 'quý vị có cục u hay chỗ sưng nào ở cả hai bên cổ không', 'ti vi tăng tiếng đến chín', 'và cho tôi khoai tây chiên', 'các đầu bếp còn chế biến ra nhiều loại phở khác nhau bằng cách biến tấu những món ăn hàn quốc trung quốc như phở hải sản phở xào mực', 'anh có thể cho tôi biết số điện thoại của jerry hart hart anh ấy ở tại phố mười hai phố pinewood street', 'anh có thể cho tôi biết số điện thoại của jerry hart hart anh ấy ở tại bốn mười hai phố pinewood street seattle', 'hậu quả là cấu trúc sản xuất của việt nam cũng bị méo mó nghiêm trọng', 'chuyến đi hay quá', 'anh chắc là đói có gà nướng trong tủ lạnh', 'xin lỗi tôi đã không để ý', 'vui lòng cho tôi xem cái giống cái -n được trưng bày ở cửa sổ', 'mở ti vi', 'các hoa hậu xuất hiện trong màn mở đầu', 'cần phải bỏ những suy nghĩ cũ kỹ cổ hủ diện bộ cánh nhã nhặn vừa vặn sẽ giúp hà đẹp hơn ở lễ hỏi cưới', 'với vở kịch thị nở gặp chí phèo diệp anh đã diễn rất đạt và gây được cảm tình với ban giám khảo cũng như đông đảo khán giả', 'virus', 'thưa anh tên của anh là gì', 'còn thọ đang bị công an tạm giữ', 'tôi có thể lấy gì cho anh', 'đây là hai mươi đô la và anh có thể giữ tiền thối', 'ba hai bảy bảy anh có thể nói chuyện với cô ấy ở một số máy con một năm chín cô ấy nghĩ nó như', 'mọi thứ dường như vô nghĩa và vô dụng đối với tôi', 'cho dù ngôn ngữ của bạn có là gì đi nữa', 'tôi muốn gặp về một bác sĩ chuyên về tai', 'giá cao su bắt đầu hạ nhiệt', 'cách tốt nhất để đến khách sạn plaza là gì', 'gầy tọp', 'quán cà phê anh em mở làm phở ngon cực kỳ', 'vui lòng dùng máy xerox', 'từ bây giờ nó được gọi là thai nhi', 'tôi không có em trai', 'đạo chích người nước ngoài tái xuất', 'tôi tham gia vào câu lạc bộ quần vợt', 'rùa phải nuôi trong các bồn khô vì chúng không ngóc đầu lên được', 'ví cũ mèm tiền nhồi nhét vô tổ chức', 'quí vị khuyên tôi khi nào thì có thể thay các lốp xe này', 'tên tôi là suzuki , tôi đã đặt phòng cho đêm nay', 'ông tổng giám đốc doanh nghiệp bảo trợ xã hội là người đã hỗ trợ xây dựng ngôi nhà từ những chai nhựa lông ngỗng và cũng là chủ dự án này', 'thông minh có năng lực được giáo dục cẩn thận và có lòng tin', 'tôi muốn biết về sự giám giảm giá dành cho sinh viên', 'bạn có kiểu giống thế này màu nâu không', 'số phòng anh số mấy', 'chúc mừng về ngôi nhà mới của bạn', 'giá đậu xe một tiếng là bao nhiêu', 'xây dựng nhà máy ở nước ngoài', 'nhóm người ngủ trong phòng lạnh nhất phần lớn mơ những điều khó chịu kinh sợ còn ở phòng ấm nhất những giấc mơ êm ái nhẹ nhàng đã đến trong giấc ngủ của những người ở đó', 'do đó không thể nào nhầm lẫn được giữa một nụ cười ngượng ngựu', 'hãy đến gặp bác sỹ để khám', 'tôi có thể dùng thẻ này để được giảm giá không', 'thiếu nữ anh chết trong bồn tắm ở tokyo', 'hoài niệm về chuyện xếp hàng ở liên xô', 'xin nhiệt liệt hoan nghênh họ', 'toàn bộ quy trình điện toán hóa thư viện do công ty lạc việt giúp nghiên cứu thiết kế', 'điều quan trọng là anh đã cố gắng', 'bên cạnh đó cũng phải an toàn hơn', 'lẽ ra anh phải ở trường chứ', 'nhà nước không để những người nghèo đã được vào học mà lại không thể tiếp tục đi học', 'tôi muốn thay đổi chuyến bay của mình', 'cho tôi một cuộn phim phơi sáng ba mươi sáu', 'bạn có thể ở lại đây lâu như bạn muốn', 'gài số', 'anh gợi ý một nhà hàng pháp ngon được không', 'nên khâu tổ chức tuyển sinh của các trường', 'nước có ấm không', 'tốp này bị bắt tốp khác lại tới', 'anh ta có cá tính không thân thiện', 'hãy đưa vợ anh đi cùng', 'các dự án mở rộng cũng đã phải đình lại những tác động xấu đến quá nhanh trên diện rộng và nặng nề hơn so với những gì chúng tôi dự báo', 'xin lỗi cho tôi một cái đĩa để chia ra được không', 'tôi cho rằng không có vấn đề gì', 'vui lòng sắp xếp một chuyến bay khác để tôi có thể chuyển sang a một hai ba', 'đến lượt anh', 'anh có bao giờ đến tokyo chưa', 'áo mưa phát sáng theo nhịp mưa rơi', 'bạn có thể nói cho tôi bít về nhà hàng truyền thống không', 'trước đây có ai trong gia đình quí vị từng có vấn đề ở bụng không', 'từ vệt bồ hóng nâu trầm', 'nhà thi đấu đại học công nghệ bắc kinh', 'món canh nguội lạnh', 'ông cường nhận định lượng phôi thép sản xuất ở trong nước sẽ không tăng đáng kể ít nhất là cho đến cuối năm sau', 'nó xảy không có gì là ngạc nhiên', 'và lời cảnh báo đã sớm trở thành sự thật', 'với hai cổ tay treo lủng lẳng những túi xốp', 'trong cái nóng oi ả của mùa hè các loài vật cũng có cách tự làm mát cho riêng mình', 'nhưng rất tốn kém khi thay thế hoặc sửa chữa', 'bao nhiêu tiếng bằng xe buýt đến medan vậy bác ơi', 'còn đây là thế giới của giày dép', 'không hấp dẫn -n', 'cái giá của một anh hùng', 'tăng nhiệt độ lên ba mươi độ', 'điều đó là không thể hiểu được', 'hoa mãn lâu ngày ấy và bây giờ', 'ba tôi sẽ về hưu năm nay', 'vợ đánh chồng vì không kiếm được tiền', 'không nhà tài trợ không bán vé để phục vụ các bạn sinh viên', 'dệt bằng lúa mì nga', 'ba tháng cô ấy khá mới', 'vui lòng đưa tờ báo nhật', 'có tour đến tauron không', 'xin lỗi anh có thể bán theo đơn này không', 'phải chờ tới khi ối ra nhiều trở lại thì bọn rầy mới biến mất', 'sáu mươi sáu sáu mươi bảy', 'phù thủy cũng có ngân hàng à', 'chứng khoán châu âu trượt giảm phiên thứ bốn liên tiếp cổ phiếu khối khai thác mất điểm', 'độc đáo nhất thuộc về loài nhím', 'dự kiến phiên xử diễn ra trong hai ngày', 'chào rất vui được gặp anh', 'tái kiểm định chất lượng giáo dục theo chỉ đạo của bộ giáo dục và đào tạo', 'hóa ra vị khách bỉ đang công tác tại bảo tàng lịch sử và nghệ thuật hoàng gia bỉ', 'cám ơn anh cho số thẻ tín dụng để giữ phòng được không', 'mồ hôi trên cơ thể người cũng khó khô đi', 'thặng dư ngày càng nhỏ đi', 'thấy còn hai người đang chới với sắp chìm giữa ngã ba sông chỉ kịp đẩy em phượng lên bờ là anh thắng lại đạp nước bơi ngược ra', 'chúng bò lổm ngổm trên người anh', 'hãy sẵn sàng ở tiền sảnh khách sạn lúc tám giờ mười lăm sáng mai', 'sự thực đứa bé mồ côi được thánh nhập chữa bách bệnh bằng xoa và vuốt', 'vui lòng mang lại dĩa thức ăn', 'suzuki đây', 'điều tra một thẩm phán làm sai lệch hồ sơ', 'có nhiều tiết mục mới và hấp dẫn', 'tôi là hành khách quá cảnh', 'để đãi lấy thiếc bán cho các đầu nậu ảnh', 'chỗ phát ban trông như thế nào', 'hành khách nói đùa bom có thể bị xử lý hình sự', 'vâng thịt bò rất ngon gửi lời khen ngợi của tôi đến đầu bếp nhé', 'đến địa phận xã mỹ thuận mỹ lộc nam định có một người trẻ tuổi lái xe máy cùng chiều vượt trước bảo dừng lại để nhờ dẫn đường', 'có một ngày lễ cho các bé gái vào ngày ba tháng ba', 'lá chắn nhỏ nhất để không bị phá sản là sở đúc tiền của mỹ bằng khả năng của mình họ đã sản xuất những đồng đô la mỹ và độc quyền về giá trị của nó', '-n và bất thình lình lao vào -n hạ gục đối thủ', 'vui lòng đợi tại phòng chờ quá cảnh ở phi trường', 'tôi có thể mua sách ở đâu ở anh', 'nãy giờ sao toàn nghe chê không', 'triển lãm trưng bày bẩy mốt tác phẩm của họa sĩ trương hán minh', 'theo tôi ở đây bạn cần có ô tô để đi đây đó tôi không còn cách nào khác là thuê một chiếc ô tô', 'tên tôi là noriko tanaka', 'nhân viên giải thích lý do là máy fax hỏng không thể gửi lệnh chị đặt ra hà nội được', 'những ngày hè sôi động và các môn thể thao ngoài trời thật hấp dẫn', 'tàu từ saitama vào ở sân ga nào', 'tôi bị mất máy ảnh', 'tôi nóng lòng được ăn đồ ăn nhật bản', 'các cầu thủ mu ăn mừng bàn thắng', 'cô ấy bảo ngưng check in sau mười một giờ đêm', 'anh có bị chuyển động gì trong đầu không', 'tốn hai mươi phút', 'người đàn ông này kém cỏi', 'sẻ ngô xanh', 'phần nào khiến giải thưởng ngành múa khá xôm tụ', 'tôi vẫn không giấu được những nỗi bực dọc', 'vĩ bảo những người có tuổi tác ban đầu thường dằn vặt về quá khứ nghĩ về những ngày giữ địa vị ngoài xã hội', 'đầu gối tôi bị va', 'theo đại diện của hãng tất cả các loại hình mai táng truyền thống từ trước tới nay chỉ để lại trong lòng người thân những nỗi buồn thương nặng nề u ám', 'hoàng mai là tuyến đường chính và có nhiều phương tiện lưu thông', 'bật', 'khi hai người đến tên hôn bất ngờ từ trong nhà gần đó chạy ra tay cầm chiếc rựa lao thẳng vào chém anh lê văn sửu', 'có ánh chớp lóe hắt lên vách liếp -n cây gậy rễ si', 'chúng tôi đi chung', 'chín mươi hai chín mươi ba', 'cài đặt lại phần mềm tốn cả ngày', 'chỗ ngồi này không có trong khu này', 'anh có thể chỉ cho tôi cách ăn món này được không', 'có khá gần', 'cái nào gần nhất', 'tôi sẽ nói lại với chị sau cám ơn chị rất nhiều tạm biệt', 'bạn đã bỏ lỡ một cơ hội hay đã bỏ lỡ thứ gì đó', 'tôi muốn tham gia một tua thành phố', 'người dân cố thủ tại chung cư sắp sập', 'tốn thêm hai đô la mỗi cuộn bạn có muốn in hai lần không', 'lá chắn nhỏ nhất để không bị phá sản là sở đúc tiền của mỹ bằng khả năng của mình họ đã sản xuất những đồng dollar mỹ và độc quyền về giá trị của nó', 'theo tỉ giá hiện nay tôi sẽ nhận được bao nhiêu euro', 'cái này có bảo hành không', 'tôi đang dùng insulin', 'chẳng phải là bệnh hiểm nghèo nhưng trĩ vẫn là bệnh gây khó chịu cho bệnh nhân bởi làm cản trở công việc của họ lúc làm việc cũng như lúc ngủ họ vẫn phải lo nghĩ giáo sư nghĩa nói', 'xin lỗi anh có thể lĩnh tiền mặt cái này không', 'đó là điềm', 'cần phải bỏ những suy nghĩ cũ kỹ cổ hủ diện bộ cánh nhã nhặn vừa vặn sẽ giúp hà đẹp hơn ở lễ hỏi cưới', 'kiếm được tiền dễ dàng nên vượng rất hào phóng sẵn sàng chiêu đãi lũ bạn ở nhà sang trọng hay đàn đúm ở chốn ăn chơi', 'cửa trài còn gọi là mang cá nhỏ', 'họ khẩn trương gói ghém hành lý rồi ra sân bay', 'ti vi giảm âm lượng về không', 'xin lỗi chải tóc tôi giống như hình này', 'kinh tế mỹ tiếp tục lún sâu thêm vào khủng hoảng', 'vui lòng cho tôi xem cái đồng hồ thứ ba ở bên trái', 'bé thiêm nhiều đêm đang ngủ cứ giật mình mếu máo bố ơi mẹ ơi khiến thằng trường phải ngồi dậy dỗ em suốt đêm', 'giảm nhiệt độ xuống hai mươi lăm độ', 'hằng ngày làm mặt lạnh với nhau nhưng những dịp phải dự cưới hỏi cỗ bàn cô vẫn diện thật đẹp tháp tùng chồng cười nói rất vui vẻ', 'để luôn nhớ mình là sinh viên việt', 'tôi muốn anh khuyên tôi về', 'tên cuối là gì', 'rất hân hạnh khi nào tôi sẽ gặp lại', 'tên tôi là senko yamada chuyến bay jal không không hai đến tokyo', 'tổng số tiền là hai trăm bốn mươi ba pound thưa mẹ', 'tôi muốn mua cái này cỡ trung bình', 'giám đốc và có lẽ là chủ nhân của một trường đàm thoại anh ngữ', 'kênh một ti vi', 'có phải nó thực sự khó hiểu vậy không', 'tôi sẽ trở về vào một ngày trong tuần', 'có đủ thời gian để chuyển xe không', 'ồ tôi đã lỡ trạm dừng xe bít của mình tôi phải làm gì', 'tiếc quá tôi phải làm gì bây giờ', 'một mẩu lui về phía sau đầu còn mẩu kia hướng về phía trước mõm', 'tôi muốn mua một phong bì', 'đưa tôi về khách sạn', 'dự luật này được trông đợi sẽ thu hút được sự ủng hộ từ các đảng', 'rủ nhau kết lại với ông để hình thành ban từ thiện dân lập gồm đủ ngành nghề thợ mộc thợ hồ', 'vài ngày nữa sẽ có hàng', 'có được dùng điện thoại của anh không', 'cái đầu tôi làm tôi rất đau', 'cách tốt nhất để chăm sóc làn da là tránh cho da tiếp xúc với ánh nắng mặt trời', 'tôi thích các bộ phim hành động và ly kỳ', 'vui lòng cho thứ nào đó không ga', 'nhung tìm về nhà một người bạn ở -n hòa cầu giấy rồi bị ngất tại đó', 'nhóm sinh viên tại trường cùng họp mặt ăn tết chung', 'thế nhưng đối với vượng thì khác chỉ vài tiếng huýt sáo hắn đã thu phục được cả hai chú chó rồi vào nhà khua', '-n bể nước tồn đọng đủ các chất bẩn đen ngòm dưới đáy nắp đậy đã bong tróc', 'tuy vậy shubert cũng cho rằng cần phải tính đến cả yếu tố cá nhân', 'chúng ta thật may mắn cửa hàng ala moana vẫn còn cỡ số bốn', 'tôi muốn mua những trái cam này bạn vui lòng gửi chúng tới nhật nhé', 'đừng thay đổi kiểu chỉ cắt một chút', 'cái này có bao gồm giá bữa ăn sáng không', 'xin lỗi có thể cho tôi một thẻ điện thoại không', 'tôi có vinh dự được khiêu vũ cùng cô không', 'phế quản bị chít hẹp khiến trẻ thở khò khè thậm chí rít lên', 'xin lỗi tôi bị lạc đường anh có thể chỉ cho tôi đường đến khu phố người hoa không', 'ai đó bị thương', 'những dự án này đã bị hoãn vô thời hạn không những vậy hãng xe nhật cũng dừng phát triển động cơ hiện chỉ có hệ thống động cầu trước cạnh tranh với xe mũi dài', 'xin lỗi anh có thể vẽ bản đồ sơ lược cho tôi không', 'tôi muốn thuê một đôi giày trượt', 'không đáng đề cập đến', 'kỳ tích có thể để lại quyền lợi bởi một nhà độc tài dầu mỏ nhưng cũng có thể giúp thể chế hóa những phong trào chống mỹ diễn ra tại khu vực trung đông', 'những bộ não chỉ giảm hoạt động về đêm sẽ suy nghĩ hiệu quả triển vọng và dẫn đầu cả đội', 'tắt điều hòa phòng ăn', 'anh có thể giảm giá không', 'xin lỗi tôi phải đi vệ sinh', 'những khi mùa khô kéo dài mỗi nhà vẫn phải dùng nước nhiễm phèn sau khi được lắng lọc bằng những biện pháp khác nhau khi thì dùng quần áo cũ lúc là phèn vẫn được dùng khử đục cát sỏi miễn là có nước để dùng', 'tôi có thể ở lại ba đêm không', 'cô có thể lệ lau chiếc bàn này được không', 'không cô ta ít khi ghé thư viện', 'hiện tượng này sẽ bắt đầu tại nam á rồi dần được thấy tại hầu hết các nước trong đó có việt nam', 'ba mươi lăm mm phim màu âm bản ba mươi tấm ạ', 'anh có thể giải thích tình huống này không', 'trưởng phòng hành chính tổ chức nhà trường', 'một quả lựu đạn được tung ra đúng lúc', 'trông anh nhợt nhạt quá', 'này hơn người ta chớ', 'có xe buýt máy lạnh không', 'ông toàn chơi phổng tay trên', 'khai báo điện tử nhanh chóng hơn', 'hai anh chị này cặp với nhau cuối tuần nào cũng mở tiệc họ gọi bạn bè về ăn uống nhảy nhót ồn ào quá mức', '-n cô ấy sắp bơm nó vào tĩnh mạch anh', 'có lẽ quý vị cần thải ra', 'xin lỗi nhưng hình như nó quá nhỏ', 'tôi sẽ xác nhận những gì đã nói với anh', 'vì cái oanh từ khi mở cửa hàng trên phố thái hà', 'chúng tôi có thể giải thích vấn đề như sau', 'bạn đi đâu mà vội thế', 'vẫn chưa rõ ông có đưa ra tuyên bố ủng hộ ứng viên nào trong thời gian tới hay không', 'nhiều hơn những trẻ khác', 'như đã đồng ý hàng sẽ được giao cho anh vào sáng thứ hai', 'chị bây giờ đã nhẹ người', 'lúc gặp ngọc nổ súng làm thắng chết tại chỗ', 'ôi khác nhiều chứ', 'đây có phải xe lửa đi chiang mai không', 'khoai tây đánh nhừ và cải chua đức', 'mồ hôi trên cơ thể người cũng khó khô đi', 'bé yêu và cún xinh', 'có siêu thị ở góc đường này', 'ngắt ti vi', 'món ăn của địa phương nào đặc biệt', 'công an hà nội đã cạo sửa hồ sơ', 'khi đối tác đầu tư tiền bạc thì mình phải đầu tư công sức', 'bạn không biết lái đúng không', 'nói khó là khó vậy thôi nước ngoài quản lý được thì mình cũng quản lý được', 'tối nay có đông không', 'nướu anh ta đau khi anh ta dùng ngón tay ấn vào', 'chức danh chính thức của quí vị là gì', 'anh muốn nó thế nào ý tôi là anh muốn bỏ gì vào trong hamburger của anh', 'tôi nói được một chút tiếng ý', 'chồng tôi bị đau tim', 'cùng chuẩn và ngũ hai đối tượng khác chuyên làm nhiệm vụ đưa người sang trung quốc là nguyễn vũ hải và võ cảnh dũng cùng trú tại bắc giang cũng bị cảnh sát bắt', 'ông lữ minh châu', 'tôi sẽ thử bánh pudding', 'cái này không vừa anh có thể đổi nó lấy cái khác không', 'bên chi bộ chưa có quyết định chính thức', 'hạn viện mỹ vừa ủng hộ một đạo luật trong đó kiểm soát chặt chẽ hơn nữa hoạt động chơi bạc trực tuyến', 'giấy phạt đây anh bị phạt hai mươi lăm ringgit', 'một số trường hợp góp vốn khác', 'các phòng có két sắt không', 'cái nào tiện lợi nhất để đi đến nơi này bằng xe buýt hay xe điện', 'thời gian từ đầu đến cuối là bao lâu', 'địa điểm trượt tuyết đâu', 'địa điểm các bức tranh ở maunet ở đâu', 'chỉ có thể mua vé qua điện thoại', 'vui lòng cho tôi cái gì trị phỏng tốt', 'tôi không thể ăn nó cái này quá dài', 'tỷ phú đức tự tử vì khủng hoảng kinh tế', 'năm qua họ đã cố gắng lèo lái một lúc hai hãng và để không bị khủng hoảng như các hãng khác của mỹ', 'tôi muốn nước cam trứng trộn một bánh xốp và một tách cà phê', 'tôi đặt một phòng hai giường', 'malan có chuyện gì với bạn vậy trông bạn buồn quá', 'chúng thường xảy ra trong những vùng biển sóng vỗ', 'tắt điều hòa phòng họp', 'khi nào thì tôi ra viện được', 'sẽ phải tốn hai ngày thì anh mới khỏe để xuất viện', 'hiện nay theo nhận thức của đa số người việt chúng ta nhà nước pháp quyền là nhà nước quản lý xã hội bằng pháp luật', 'bật', 'tôi xin tuyên bố kết thúc cuộc họp', 'não dẫu tổn hại nặng vẫn phải chữa mặc dù đã gần như biết rõ về cách gây bệnh cũng như những tác hại mà bệnh nhân sẽ phải chịu cả đời nhưng đến nay giới y sỹ vẫn chưa tìm được biện pháp hữu hiệu nào để điều trị căn bệnh hiểm nghèo này', 'kênh không', 'bạn có thể cho tôi thêm vài phút không', 'kết quả bốc thăm vòng loại cuối cùng', 'tôi đang tìm một công việc mới', 'sống độc thân bạn đã lãng phí tình cảm đẹp đẽ ấy', 'đại dương bắc cực ấm lên đột ngột', 'bạn có một nụ cười đẹp', 'hãy đứng tại chỗ đừng cử động', 'à tôi hiểu cái đó và cà phê nữa', 'một giờ thì giá bao nhiêu', 'vĩnh cũng hy vọng nhiều người dân việt sẽ được ăn những quả bưởi chất lượng thời gian tới bưởi bảo quản đã khó nhãn vải bảo quản còn khó hơn', 'dị tật thai nhi chủ yếu dựa vào chẩn đoán hình ảnh và xét nghiệm di truyền', 'cho tôi một ít thuốc nhỏ mắt được không', 'xin lỗi tôi kiểm tra hóa đơn được không', 'cái gì ở góc phố', 'chúng vẫn vào hai mắt của tôi', 'trước khi đến với điện ảnh tôi kinh doanh cho thuê xe du lịch', 'tàng trữ trái phép và vũ khí quân dụng nguyễn hữu cảnh chủ vũ trường bị phạt bảy năm sáu tháng tù cảnh đã tự hủy cuộc đời bởi sự liều lĩnh', 'anh ấy đi chưa chưa', 'tôi có thể gửi trước hành lý của tôi được không', 'hầu hết số mỡ động vật đều đang ở giai đoạn phân hủy bốc mùi hôi thối nồng nặc', 'khoảng bốn mươi lăm đô la mỗi người', 'thằng bé không đội mũ khi ra ngoài vào trời lạnh không', 'tôi không nghĩ đó là một phong tục nhật bản độc nhất vô nhị', 'chiếc này dành riêng tổng thống mới đắc cử của mỹ xác nhận đã chuyển tới mật vụ mỹ chiếc xe dành cho tổng thống mới để thay chiếc xe cũ', 'hôm nay ba em đi công tác anh qua đây nhé', 'xin lỗi tôi đang tắm', 'từ hôm nay bạn sẽ ở đâu', 'các tác phẩm ăn khách để ở đâu', 'anh ấy vừa mới đến từ anh quốc hôm qua', 'nếu bạn không bắt đầu chuẩn bị tôi không cần nữa', 'tôi muốn đặt chỗ cửa hàng da vào ngày mười hai tháng ba', 'đúng là quê một cục', 'bush phương tây và nga căng thẳng', 'não dẫu tổn hại nặng vẫn phải chữa mặc dù đã gần như biết rõ về cách gây bệnh cũng như những tác hại mà bệnh nhân sẽ phải chịu cả đời nhưng đến nay giới y sỹ vẫn chưa tìm ra được biện pháp hữu hiệu nào để điều trị căn bệnh hiểm nghèo này', 'ở thể chế này những cuộc bán đấu giá được xem là một sự kiện xã hội', 'tôi sẽ chở anh đến đó', 'bị bắt giam vì xúc phạm trên mạng xã hội ảo', 'khi nào quán trà đóng cửa', 'tôi đến ga chính xe lửa bằng cách nào', 'tôi muốn nói chuyện với', 'tôi đi hải phòng còn bạn đi đâu', 'lên tới lớp thu tiền học phí', 'ăn nói sờm sỡ', 'vâng được đào ở đây', 'mấy giờ xe buýt đó đến', 'nó sẽ dừng chảy máu', 'có đứa gọi hắn tên hải làm cái gì ở công ty nước ngoài', 'mấy giờ con thuyền đó mới khởi hành', 'chính là nó cảm ơn', 'đỗ đũa trồng trong mùa hè lớn nhanh và sớm có quả dẫu bị bỏ tưới đỗ đũa vẫn ra quả trĩu giàn', 'để nó cho tôi', '-n chìm nghỉm', 'tôi muốn hỏi anh về sendai', 'nghĩa là khoảng mười đô la một cuộn phim ba mươi sáu tấm', 'trẻ em đâu có chướng ngại vật', 'tác dụng phụ của thuốc là gì', 'đúng vậy sao', 'đang diễn ra hào hứng sôi nổi', 'có hai mùa ở miền nam việt nam', 'chúng tôi muốn đi', 'tôi không chắc nhưng tôi không chịu được mùi thịt tôi chỉ muốn ăn trái thơm', 'lúc viễn tìm được người giúp đỡ quay lại chỗ bị ngã thì nhóm cướp đã lấy xe của anh và tẩu thoát', 'liền chạy theo nắm lấy cửa sau xe buýt', 'tôi giao phó công việc này cho bạn', 'liệu ngân hàng có mở cửa ngày mai không', 'và nhện ta liền quăng ra chiếc thòng lọng bằng tơ của nó đầu kia sẽ là bữa ăn', 'việc bảo vệ những nguồn cung cấp dầu lửa trước đó đã là ưu tiên hàng đầu bỗng chốc lại trở thành nỗi ám ảnh của nước mỹ', 'tiền vệ người bồ đào nha mới đây khẳng định anh đã tìm lại được niềm hạnh phúc tại m.u. bất chấp những chỉ trích của người hâm mộ anh', 'anh có nước mía không', 'an ninh tại các thành phố ấn độ được thắt chặt', 'những lãnh đạo cấp cao cũng đang phải đối mặt với việc giảm lương đến mức nào hiện vẫn chưa rõ', 'đây có phải da thật không', 'bỏ tù nạn nhân cưỡng hiếp tập thể', 'lấy ngành thép làm ví dụ', 'ví của tôi bị móc túi ở trong tàu điện ngầm', 'tôi muốn ăn hơi tái', 'mấy giờ là chuyến bay tiếp theo tới narita', 'giấy phạt đây anh bị phạt hai mươi lăm ringgit', 'binh lính chính phủ gần thánh đường', 'vui lòng đến quầy của hàng không nhật bản', 'anh giỏi quá rồi nhỉ', 'tôi có thể cầm áo khoác của bạn không', 'chị có cỡ lớn không', 'từ mẫu phân tích của bà vũ thị khởi giám đốc tổng công ty tâm lý học ứng dụng nhiều phụ huynh đã hiểu rõ khoảng trống giữa cha mẹ và con cái không phải là khoảng cách về địa lý mà là khoảng cách tâm lý', 'thưa ông có đúng mười một giờ', 'làm ơn', 'tờ báo trên bàn vừa mới được đọc', 'giết người cướp của lấy tiền về quê', 'ti vi bóng đá ti vi', 'tôi có thể sử dụng mặt nạ trang điểm với số lần như thế nào', 'không có sổ điện thoại', 'không giống như sản phẩm nông nghiệp dễ hỏng dầu có thể chôn dưới đất', 'nhưng chính các nhà máy đường đang kích thích nông dân trồng mía khi đẩy giá mua mía lên cao', 'cám ơn xã hội đã cho chúng ta những con người có tấm lòng', 'xin lỗi có thể nào anh là anh không', 'tôi muốn đặt chỗ trước cho hai người vào bảy giờ tối nay', 'thượng tá công an này được phát hiện trong tư thế', 'nhưng đấy là cơ chế nào', 'chúng tôi đính kèm một bản miêu tả ngắn cách đến được khu liên hợp', 'ảnh tổng thống bush chơi nhạc nhảy', 'mời các anh ngồi xuống đây', 'anh có uống bất kỳ loại dược phẩm nào khác không', 'làm ơn cho tôi một chỗ ở khu không hút thuốc', 'tôi muốn một vé khứ hồi đến trạm s', 'mời các bạn tham vấn cho bạn bảo ngọc và chia sẻ về chuyện này', 'từ đây đến viện bảo tàng mất bao lâu', 'còn vé cho buổi diễn tối nay không', 'tôi nghĩ họ sẽ sớm kết hôn', 'đừng có tòm tem nhăng nhít vớ vẩn để xấu mặt mọi người', 'những dự án mở rộng ở nhật cũng bị hoãn hãng khẳng định sẽ chẳng sa thải nhân công chính thức nhưng bảy ngàn nhân công thời vụ đã được nghỉ việc ở mỹ', 'bật chế độ sưởi ấm', 'là người hay tò mò ưa khám phá sáng tạo tâm hồn cởi mở họ thích lắng nghe và cho mọi người lời khuyên', 'thức uống bánh mỳ và các món ăn chính sẽ được cung cấp', 'một số lượng lớn', 'nó thật vui', 'tăng nhiệt độ lên hai mươi chín độ', 'giá cước đến chiangmai là bao nhiêu', 'các bà vợ kể rằng', 'anh có muốn được giúp gì không', 'chúng tôi muốn đi trượt nước', 'tôi sẽ quay lại trong vòng một tiếng nữa', 'cho tôi một ít dấm', 'kha đây là noami mình đang ở thành phố', 'ngày mai trời sẽ có sương mù à', 'tôi có một thẻ ngân hàng', 'vui lòng cho tôi ghế phía trước dọc lối đi', 'lũ trẻ nít', 'tụ tập học đòi đàn đúm hư thân mất nết', 'tối nay bạn có muốn đến rạp chiếu phim không', 'gần đây nhiều sếp âm thầm bán cổ phiếu nhưng không báo cơ quan quản lý', 'ông ri nhấn mạnh bình nhưỡng sẽ không khoanh tay ngồi nhìn mà sẽ tấn công nếu cần', 'vâng chúng tôi có thể vui lòng cho tôi biết tên', 'nằm giữa trung tâm thành phố bắc giang quán phở nổi tiếng của nguyễn thị hảo và nguyễn tuấn vũ chẳng lúc nào đề biển mở cửa nhưng khách vẫn hối hả', 'đây là đường nút từ nút giao thông khu an nam sài gòn đến cầu phú mỹ và đường vành đai phía đông thành phố', 'chúng giúp làn da khô trở nên tươi mát mềm mại hơn', 'vì ngôn ngữ bây giờ không phải là tiếng anh nữa nên tốt nhất là bạn hủy cả dòng', 'cương ấp úng không trả lời', 'khách nước ngoài đón tết tại hà nội', 'tôi sẽ thảo phiếu tính tiền cho ông', 'phía công an cũng sẽ có những thông báo để có biện pháp ngăn chặn', 'phó bí thư tưởng phi chiến thăm tặng quà gia đình chính sách hộ nghèo ở huyện chương mỹ', 'anh đã làm thế này bao lâu rồi', 'tắt đèn phòng họp', 'vài tháng', 'ảnh bush lần đầu tới điểm nóng trung đông', 'anh ấy sống cạnh nhà', 'kẹo làm từ bột hòn đường quế hạt thông', 'cô ấy đang gọi từ canada', 'điều hòa làm lạnh', 'nhìn cây đào đẹp', 'hàng đống bưởi', 'cơn khát thèm du thuyền bùng nổ vượt xa khả năng đáp ứng của cơ sở hạ tầng', 'tôi chơi dương cầm giỏi', 'làm một chiếc túi đủ lớn để có thể đút vừa một cuốn sổ tay có kích thước tám nhân mười một', 'tôi muốn bạn gửi cái này', 'do còn lượng nước trong cồn nhiều hơn nên động cơ ít bị nóng hơn', 'đây có thể là trứng cá đỏ hoặc mụn trứng cá người lớn', 'tôi muốn có catalogue', 'các tiết mục múa tượng trưng cho mùa xuân', '-n hồ bắt nguồn từ dòng suối tía huyền thoại và nằm gọn gàng giữa rừng thông mênh mông', 'tôi đang tìm một món đồ lưu niệm nhỏ', 'chúng tôi sẽ báo cho anh ngay khi chúng tôi tìm được', 'còn dự án phát triển sản phẩm từ mây và gỗ đảm bảo bền vững do ủy ban xã quản lý tài trợ sẽ thiết lập hệ thống sản xuất bài bản cho các sản phẩm mây tre tại việt nam cũng như lào', 'hãy mang cho tôi một cục xà phòng', 'tôi bị táo bón nhiều', 'đó là quan niệm tình yêu ở phái đẹp', 'thấy cá ục sôi dưới đìa mắc nôn nao trong ruột', 'cho tới thứ hai', 'phó tổng thống đắc cử cũng khẳng định đội ngũ lãnh đạo kinh tế của ông đã lên kế hoạch thực hiện một gói kích thích kinh tế nữa với giá trị có thể lên tới một ngàn tỷ đô la mỹ', 'trong quá trình này một số người quen là việt kiều đã bày tỏ ý với phố muốn mua dâm các người mẫu diễn viên', 'vui lòng mang cho tôi một ít nước uống', 'thược dược', 'hãy cho tiền vào thùng vé khi anh xuống xe', 'sa pa bây giờ là một trong những địa danh du lịch hấp dẫn nhất miền bắc', 'mỗi con bò đều được đeo một chiếc vòng cổ gắn pin', 'cho cô ấy một phiếu tính tiền liệt kê từng khoản được không', 'tôi muốn chuyển sang phòng khác', 'có giảm giá cho trẻ em không', 'cho tôi biết tên cô ấy', 'tất cả cũng chỉ xuất phát từ thói cả nể cố hữu dính mác sinh viên này thôi', 'có nhưng một vài xe đã hoàn tất cuộc đua', 'cho tôi nửa gói thuốc lá salem', 'nó hơi ngọt', 'ngắt ti vi', 'khuyến cáo chọn ấm của tiến sĩ khải', 'các nhà đầu tư đã lỡ ôm quyền mua cổ phần đang rất hoang mang', 'chúng ta có vài phút nữa để làm', 'chúng ta có thể làm việc gì bù cho nó', 'nhìn lên phía trái từ khu chung cư sẽ thấy nhà thờ phú cam', 'đừng bao giờ tự mình đi vào rừng', 'khoang trời nằm ở tầng nào', 'để hoàn thiện hơn hoặc thay đổi khi cần thiết', 'vui dòng đưa tôi đến khu phố người hoa', 'và ông lucas phải báo cáo cho ai', 'từ bây giờ nó được gọi là thai nhi', 'đó là cuộc sống đó cũng là bóng đá', 'xin lỗi cắt ngắn thêm một ít ở phần', 'cô ấy sẽ muốn đậu xe đến năm giờ', 'đây là máy giặt phải không', 'anh trần công phô tàu nước ngoài đã được báo trước chính xác', 'sau đó thảo được nguyễn vũ bão chở đến ngã tư nguyễn trãi quốc lộ một để đặt pháo giữa đường thảo chuẩn bị cho nổ thì bị công an bắt quả tang', 'tôi muốn một ít cà phê uống liền', 'con búp bê bằng gỗ này bao nhiêu tiền', 'bật đèn phòng đọc', 'tuần này ông thầy có vô thường xuyên không', 'giảm', 'vui lòng cho tôi một nĩa nữa', 'ti vi tăng tiếng đến bốn', 'anh có thể đổi phòng tôi với một cái nhìn ra biển không', 'tỉ như với món thiền trên ghế đá', 'rồi một đêm khi chàng lên giường bằng trực giác', 'anh có bị dị ứng thực sự nặng không', 'nó không đúng', 'làm ơn cho tiền lẻ', 'đến washington giá vé bao nhiêu', 'vâng đó là vàng mười tám cara', 'kìa ai đang nghịch trái tim', 'khi đạp thắng tôi luôn nghe thấy một tiếng ồn lạ', 'cái nhỏ có hành tươi', 'trường tôi là một trường công lập', 'anh có thể gửi nó không', 'quí vị có uống thuốc của quí vị vào ban đêm không', 'xin lỗi bạn có thể chỉ giúp tôi ngân hàng gần nhất không', 'và vui lòng thắt dây an toàn của quý khách', 'do vậy tôi vẫn phải gồng mình', 'hãng xe hạng sang của đức sẽ giới thiệu mẫu ưu đãi đầu tiên thuộc danh mục sản phẩm của mình', 'roong cửa cũng phải kín thì tủ mới hoạt động tốt gió hở làm thất thoát điện rất lớn', 'tôi cảm thấy lạnh và buồn nôn có nơi nào để nằm không', 'tôi đang tìm một công việc mới', 'súng được du nhập vào nhật bản vào thời đó chúng đóng một vai trò quan trọng để thắng một trận đấu', 'tôi muốn trả phòng vậy vui lòng đến phòng tôi để mang hành lý của tôi', 'ông được nhiều người biết đến', 'vĩ bảo những người có tuổi tác ban đầu thường dằn vặt về quá khứ nghĩ về những ngày giữ địa vị ngoài xã hội', 'họ còn trang điểm nhảy múa giống như vậy', 'bạn có thể tìm một tờ ở một quầy mới gần đây', 'cái này mắc quá', 'va chạm với người chở ngỗng chiếc xe lật úp làm đổ rất nhiều biển báo lẫn cột đèn', 'những chiếc thuộc sở hữu của một tổng đại lý ở đức vững chắc nhiều năm liền nhưng hãng cũng không thoát khỏi cơn bão khủng hoảng', 'kết thúc trận đấu các cầu thủ thường có trao đổi áo đấu cho nhau', 'vui lòng đừng nói bây giờ chúng ta sẽ nói về nó trong cuộc họp báo', 'trời có đang quang đãng dần không', 'để nó cho tôi', 'mì vằn thắn và sủi cảo là hai món được ưa chuộng nhất tại đây', 'thủ tục lên máy bay vào lúc hai giờ ba mươi', 'một áp phích phim ấn độ']\n",
      "hypothesis: ['các bạn hãy đăng kí cho kênh lalaschool để không bỏ lỡ những video hấp dẫn', 'họ đã xét nghiệm bọn các cháu khiến mọi cụ vừa hoàn toàn bình thường.', 'anh có thể gọi tôi không?', 'có rất nhiều yếu tố main ở đây', 'ai lại chừa lấy dối?', 'cuốn tựa hàng triển lợi ở sân bay phong', 'anh đổi ngoại tệ được không?', 'cô ấy mua 2 mua cái tôm tôm và 3 con cá.', 'đưa bé có có ông học ra sửa hoặc nước và bé chưa đến 10 tuổi hoặc có biểu hiện mất nữa không?', 'tôi có thể viết tên, địa chỉ, số điện thoại của công ty bảo hiểm của anh được không?', 'đừng lo, tôi vừa mới đến rồi', '10 phút nữa vào giờ rưỡi', 'tôi có thể dạy cho chồng má không?', 'anh dựa hình kỹ thuật số ra được không?', 'đợt cố thông xét thôi', 'tôi không dùng lá tủy', 'quân đội mỹ muốn chế tạo những máy tự động hoàn toàn vì những chiếc mà họ đang có vẫn cần được điều khiển bởi con người.', 'tôi quên tụi đeo vai trong xe taxi', 'dư luận đã phản ánh lên cơ quan địa chính của thị trấn nhưng mãi chả thấy hồi âm', 'giả danh làm từ thiện lùa tiền người dân', 'sắp đồ siêu sáng ở hộp trợ triệu phú', 'nếu làm lộn thiên cơ âm binh sẽ đánh trả thầy', 'máy ném bom chiến lược của nga gặp lại', 'anh có thích tôi giữ trước quyển sách này cho anh không?', 'ở người bị hội chứng khi ăn ngủ phần não phải vẫn thức và sau đó là cả các dạng hoạt động thể chất', 'tỷ lệ là 10mm trên 1km', 'với mục thực hiện một cuộc gọi điện thoại quốc tế đi nhật bản, cuộc gọi điện thoại điện tokyo, số 32928211.', 'lời đây hiện khả nhiệt tình', 'nhưng cũng có những bạn nằm khèo ở nhà trùm mền và khóc nhè.', 'chúng ta không thể mua cái nào ở nhật bản.', 'cho vừa với số kiên phí hạn hẹp của một bộ phim.', 'kịch xến nhiều tập, làm tôi oãi quá. tôi sẽ tắt tivi.', 'chính vì thế, những người phải sống một thời gian dài trong không gian có thể gặp tự do.', 'thật ra thà không đến nỗi mơ mộng đến mê mùi để chẳng hiểu tâm lòng của những người thân thông qua lời thương ngữ', 'bản động giảm mỹ nữ', 'địa chỉ email của tôi là stefan.martens.amog.gmx.de', 'thứ 5, ủy ban bầu cử thái lan cho rằng đảng của người thái yêu người thái đã phạm 2 luật trong chiến dịch tranh cử vừa qua.', 'công thế xem lòng bắc nha anh lạc thành', 'trước 500kg hỏa hoạt', 'một dân tộc chung với bọn người dưới ả sân hội sẽ thích.', 'tết đầu tiên xa việt nam của cháu quả là ý nghĩa', 'trong làng ai cũng quý mến gia đình anh phú', 'xin chào, chào tạm biệt', 'anh đã làm rất tệ.', 'cảm ơn các bạn đã theo dõi và hẹn gặp lại.', 'không có nhãn hiệu bia nào', 'anh có dừng tại khách sạn bikin không?', 'bật điện hòa nhiệt độ', 'nhiều chàng trai để ý và theo dõi bà.', 'chúng ta hãy giúp một ông tiên đề quyền tình', 'tôi nghe địa chi này được không?', 'nguyễn văn vũ vừa tử lạng vì hỗ trợ đuổi bắt tội phạm. ngày 13 tháng 1, công an xã cẩm trạch, huyện cần cầu cho biết một người lái xe khách 27 tuổi đã tử lạng khi giúp một phụ nữ bị bệnh tên phong chế cướp tài sản.', 'hai con voi này rất hung dữ và phá nát nhiều hoa màu của người dân trong khu vực.', 'anh có bị đau dâu mệt mỏi không?', 'bạn có muốn tôi dịch cạnh này cho bạn không? tôi đã tự nhật', 'răng giá sẽ là 300 yên', 'và như thế những điều tốt đẹp', 'tăng nhiệt độ lên 21 độ', 'tốt hơn là tôi nên đi đi rồi', 'kỳ tích có thể để lại quyền lực bởi một nhà độc tài giàu mọ, nhưng cũng có thể giúp thể chế hóa những thông trào chấn mỹ diễn ra tại khu vực trung đông.', 'lãnh đạo ngạch ô tô mỹ nên từ chức', 'cô ấy biết', 'từng sợi thương ly ti kết lại', 'mồ hôi là một trong những phương tiện để cơ thể thảy cặn bã ra ngoài.', 'tvk cộng 1', 'hiện nay mỗi khi chào hàng các lò rang hạt dưa như tứ, như thân, duy ký thiên hương', 'vì không biết nhìn ra trống rộng và vì niềm tin rất là ràng tôi hoặc việc sẽ yên xuôi', 'nhờ cậu chúa', 'xe dễ nắm bực trong tiệc cưới', 'rồi anh đi một chuyến đến khu vực vỉa san hô và thăm viện bảo tàng úc anh có thể tìm hiểu nhiều về nước úc anh cũng có thể có một món quà đẹp tài tàng tai linh nếu anh muốn mua vài đồ lưu niệm có rất nhiều đồ vật và phụ kiện anh có thể muốn mua', 'đó là chưa kể các thủ đoạn chính trị xã hội khác', 'tôi có vẻ một chút', 'cho tối màu thơ ưu đã khám.', 'tôi có 3 con gái', 'tôi sẽ ở lại đây', 'người ta cho rằng số khu vụ ở dưới này bị chính nước bắn ít thì kỳ kinh chuyện ấy.', 'không một nơi nào lãng mạn và thơ mộng hơn những khu hồ hoang.', 'bị hại kháng cáo vì cho rằng các cơ quan tố tục ở huyện thương khê bỏ lọt người sát tội.', 'cuối cùng họ sẽ phải góp cường đi với nó mới.', 'trái giá của một anh hùng', 'bạn sao tấn sát khoản tiền vợ chồng nguyễn nhận lượng?', 'nhằm thu hút thêm nhiều nhà đầu tư.', 'vui lòng cho bảo vệ của ui hàng hàng', 'anh cần một cuốn tiêm 1 đô la 30 kem.', 'trạch chuồn format bốc xanh và kẹo chó', 'chúng tôi sẽ bôi thường cho anh', 'chỉ xét tiễn hồ sơ không phải thi', 'gần 9.000 tỷ đồng xây đường sát đuôi hỷ, cách lên hà đông', 'bò quăng vào trong mày dật', 'trả lời tôi biết.', 'đến thời điểm hiện tại ít nhất trong cả nước đã có 50.000 lao động thất nghiệp', 'anh chẳng sang gọi món trưa', 'là tác động của nó đến hiệu suất chung của toàn bộ hệ thống điện.', 'đây bạn ơi', 'thời tiết ấm áp như thế nào đầu nè', 'chúng tôi có 4 người', 'vị đẹp khuôn mặt và bản năng tình dục quan hệ tương hội chặt chẽ với nhau', 'thầu bàn của quý khách trẻ là otero', 'đầu gối có bì xưng đỏ hoặc cả 2 xương', 'cụ tượng bị hàn chạy đắng khu vực công cộng.', 'chẳng cả là bệnh hiểm nghèo, nhưng chỉ vẫn là bệnh gây khó chịu cho bệnh nhân để làm cản trở công việc của họ. lúc làm việc cũng như lúc ngủ, họ vẫn phải nghe nghĩ, giáo chương nghĩa nói.', 'chuyển máy cho ai', 'kết quả lao động của tôi đến đâu thì tác phẩm trả lời', 'khi những chiếc đĩa được dỡ bỏ, lũ hà mã cũng chẳng thèm chú ý tới những chiếc nhãn đó nữa.', 'không, vậy không sao, tôi sẽ gọi ông ấy sau, cảm ơn.', 'có giảm giá cho người cao niên không?', 'hãy gọi cảnh sát nhanh', 'bắt đầu đếm', 'anh có bị đau do mệt mỏi không?', 'lãi sát cho vai cũng đã giảm mạnh theo lãi hị động vốn lãi nhiều vẫn chẳng có người nào gửi cả', 'các nhà khoa học đang tiến thêm một bước.', 'cùng chuẩn và ngũ, hai đối tượng khác chuyên làm nhiệm vụ đưa người sang trung quốc là nguyễn vũ hải và võ cảnh dũng cùng chú tại bắc giang cũng bị cảnh sát bắt.', 'hệ thống phòng ngự, tài năng và dòng kinh nghiệm', 'sẽ đủ sức cạnh tranh với nước ngoài', 'chở tay lên để đồng ý.', 'ui, lòng trả 10$', 'đây là hồ chu cạch báo về sự mất an toàn lưới địa trên địa bàn', 'ban đêm bắn cây đà', 'kim hai tv', 'này, chúng tôi chấp nhận rồi nèo', 'mà', 'đọc giả của tôi muốn hướng tới là sinh viên và chiến thức', 'không mở cửa ồ ạt', 'tôi muốn đổi cái này lấy cái màu xanh', 'sống với em anh nhé', 'vừa gọi điện vừa đi lại rất gây hại cho sức khỏe', 'tôi có thể tìm bà tin ở đâu?', 'anh chuẩn bị toàn này cho tôi được không?', 'đây là địa chỉ của anh.', 'anh lắng nghe tôi một phút được không?', 'là nó tăng ở đâu dù bao nhiêu tiền', 'hiệp gai, nhồi hồn hợp bắp nhỏ', 'trung tá nguyễn phả lại, cán bộ quản giáo trực tiếp buồng số 7, chỗ ở của ông mẫu, ông dũng nói, nhưng kẻ cũng là tâm lý của người cải tạo, loại án như trường hợp ông dũng.', 'kỳ túc xa vắng tanh, đêm hỏa thiện cười nhấp nhảy chật chơn, cười như trên phim được xem ịt', 'mở', 'cuộc nhập anh không nên làm nó', 'tôi có thấy búa vẹ ở đâu?', 'vậy điều gì có ý tưởng thấu bảo chết', 'họ sẽ chơi nhiều ca khúc từ bộ phim âm thanh của âm nhạc.', 'mà vùng của plymouth là 01752', 'không, tôi luôn tỉnh bình', 'một số trò chơi đòi hỏi các động tác chậm, thận trọng hay từ từ.', 'nó là của anh', 'cảm ơn các bạn đã theo dõi và hẹn gặp lại.', 'đây là ghi chép cho phí nào.', 'tôi bị cạc thiểu trưng viếp hồi', 'còn bao nhiêu giờ thì chúng ta sẽ đến new york?', 'thị trường chính thức kèm sơ động nên thị trường phi tập trung cũng y lầm.', 'chúng tôi đã thuế căn hộ.', 'mở lên', 'cuộc tình đó tồn tại cho tới ngày cô ta trụm còn khối tài sản mà ông ra phó rồi biến mất tâm', 'xin vui lòng hãy chạm sàng vào lúc 9h30', 'tôi không nghĩ như vậy.', 'cách dễ nhất là tìm người khác để yêu', 'hãy tự dụng những gì có sẵn từ thiên nhiên để làm đẹp làng da', 'cô lấy cho tôi cái khăn nào.', 'đồ đánh tấn công quan thuộc của chị biến mất thay vào đó là những đường bóng yếu ớt', 'tôi có thể có bản đồ đường đi của đảo maui không?', 'tôi bị xuyên', 'thành ra các cổ phân hóa oat càng bắn giá nổi bộ oat từ khi có sẵn một cơ sở kiểm soát', 'nền tài chính nhật bản phụ thuộc khá lớn vào các chính sách tuyên tại của mỹ', 'anh có thể hãy nhìn ra cho tôi được không?', 'ô bốn nghĩa là gì?', 'tăng nhiệt độ lên 29 độ', 'cần sáo', 'hợp tác không dừng dài', '12h15 rồi', 'tiêu cực ưng ảnh', 'tuy nhiên hôm qua ông đã khả lệ', 'phát triển', 'cải sác cứ thế khô giật cho đến hôm nay', 'hãy subscribe cho kênh ghiền mì gõ để không bỏ lỡ những video hấp dẫn', 'nhóm cho rằng điều đó chứng tỏ phụ nữ tập trung hơn vào nguồn mức của sự hài hước.', 'phòng quá ồn và tôi không thể ngủ được', 'những lãnh đạo cấp cao đang phải đối mặt với việc giảm lương từ mức nào nhận vẫn chưa rõ.', 'xe mỹ từng là biểu tượng giàu sang.', 'bữa ăn sinh viên từ lâu đã đơn giản lắm rồi giờ càng đơn giản hơn bao giờ hết', 'bệnh này có thường xảy ra không?', 'anh có đang thấy cầu vồng không?', 'họ phải đảm bảo có đủ vaccine và thực hiện các biện pháp cần thiết khác để đối phó với tình hình.', 'anh gọi đánh thức tôi lúc 7h sáng mai được không?', 'được đăng vào phỏ cho mình', 'anh thích kiểu nào hơn?', 'ánh đuốc hắt lên khoanh cổ cụt, đỏ hòn hụt hởng', 'xin lỗi, anh có thể đừng tiên mặt cái này không?', 'cảnh sát biết rằng có một nhóm bí mật hoạt động bất hợp pháp.', 'thiết bị còn gửi thông điệp cảnh báo tới người chủ khi binh sắp hết', 'xin vui lòng cứ mang dày', 'tôi không biết, chắc là có tai nạn.', 'tao đang đến mức nào', 'bữa tiệc sống động', 'vậy còn yếu tố tích thật thì sao?', 'cái này trên tổng 3', 'huyến bay của anh khi nào?', 'không, không phải, còn quan trọng cho hai người không?', 'tôi có thể cuốn một tờ tạp chí khác không?', 'bạn cho tôi một vẽ hàng 2 điểm che mai', 'xe lý đây là rách làm ơn gọi chua về đi', 'tất cả những gì nước mỹ làm chỉ đơn thuần là muốn sở hữu những nguồn tài nguyên tỷ giá của các quốc gia đó', 'chúng sở hữu tiếng thích chói tai và rất thích nhạc nhót.', 'tưởng dễ đẹp chứng bằng nhiều đơn vị ủi ngủn xin thành lập công ty chứng khoán hôm nay lúc thị trường đỉnh cao', 'ừ, bạn đúng không đúng bằng quyền.', 'nhân hàng phương nam cũng một fan hú béo khi thông tin rủi ro tín dụng bị dò dỉ ra ngoài', 'bà mẹ nghèo đông con', 'mẫu xe được trình nàng trong triển lãm được giới truyền thông coi là hình mẫu của chiếc bốn cửa sẽ ra mắt vào tới.', 'ánh mặt cạnh em trông rất đẹp', 'chưa có thông tin về bệnh trên người ở nước này', 'cho tôi bản đồ thành phố được không?', 'đều không quan trọng.', 'có lúc họ đút hai tay vào trong túi, hai vai rụt lại mà đi. có lúc đánh tay thoải mái, hưởng nghịch.', 'tôi bị ung thư', 'rất thông tin hiệu quả', 'tôi cảm thấy đất nàng nề, tôi không thể di chuyển chân của tôi.', 'tình yêu là mù quáng, người đang yêu không thấy khuyết điểm của người khác', 'master rơi quảng cáo biến hạch rác đô thị', 'cố gắng đi tìm ra cao', 'đôi khi trong các khẩu súng các em mang trên người không hề có đạn, chỉ là một thứ hình dạ như', 'đâu là nhanh chắn, xin cảm ơn quý vị', 'tôi có thể chinh một, phát không.', 'tôi đã từng chứng kiến bão và giờ đây tôi đang công tác tại nước ngoài.', 'có phí uống không?', 'tôi đi hải phòng còn bạn đi đâu?', 'pv giảm âm lượng về 4', 'cũng đồng nghĩa với việc chúng ta có thể sẽ chút lấy khổ đau.', 'gần đây lại có vụ công ty xe khách thuận thảo ở bình tĩnh bị các đối thủ hùa nhau ngăn cản không cho hoạt động.', 'vâng tôi đã đến đây lần đầu tiên cách đây 5 năm', 'chanh bành, chăn, chệt chỗ nào cũng có', 'tôi có thể xem mùa của phim ở đâu?', 'cô ấy cần một bóng đèn 40w cho đèn bề bàn.', 'quả vợ hai con', 'chị em ở các thường hồn không có nước sẵn để uống', 'làm ơn đối máy tôi với cảnh sát', 'đầu tư cho dự án xây dựng nhà máy sản xuất điện thoại di động tại đà nẵng.', 'vui lòng chuẩn bị cái này ở hải quan đằng kia chúc các bạn vui vẻ', 'một dãy khách sạn sẽ dọc theo tâm phòng', 'tv giảm âm lượng về 1', 'không phải mặt hàng đó', 'sản đất thó hình lục lăng mát lạnh', 'điều tắc do ngọc nước', 'có phải tàu từ sydney đến trễ không?', 'tôi sẽ lấy phong này', 'vị ngôi vàng này', 'họ có chiến thuật tốt, hiệu quả và nhiều cầu thủ có kỹ thuật cá nhân điêu luyện.', 'tôi nồng bẹp đê thúy an', 'tôi muốn nhuộm màu', 'đông phú bị kẹt ở đây', 'một trong ba người này làm giám đốc một công ty sản xuất hàng hóa', 'xấu đau đỏ xuất hiện tại tên x', 'nghĩ gì có thể cử động như thế này được không?', 'con đường dài lắm, sao anh để em đi một mình?', 'chỉ cần gọi bất cứ lúc nào anh muốn nói chuyện với tôi', 'rộm biến thăm lấy hết đồ đạc trong nhà', 'nó đâu ở đây', 'nó rất ngon', 'cho nên, mặc dù có chất lượng tốt nhưng giá thành của nó lại rất cao và khó ứng dụng rộng.', 'hãy subscribe cho kênh ghiền mì gõ để không bỏ lỡ những video hấp dẫn', 'chính vì vậy mà không khí tết dường như đến chậm hơn.', 'làm ơn cho tôi loại thứ hai', 'mưa sầm sập vừa ra ngồi trời, quần áo chị lập tức ướt sống.', 'bị đuổi việc vác dao phi sát ông thủ', 'ngỗng cũng có khả năng ghi nhớ từ trước tới giờ với khảo cổ vẫn tưởng rằng não của ngỗng chỉ có thể lưu giữ thông tin và dây.', 'chuyên sản xuất của anh lá chủ tịch phong yến và họ đỗ mãi mãi vào sửa sách.', 'còn yếu tố tinh thần thì sao?', 'tối muộn đăng ký một chuyến bay từ los angeles đi new york khởi hành vào ngày 15 và quay về vào ngày 13.', 'xin lỗi, tôi có thể tìm một đại lý lựa hành ở đâu?', 'quý vị có phòng dành cho một đêm không', 'cô ấy đang rất mong anh', 'có tiếng dì dào từ xa đến gần', 'một số cổ động viên còn dùng những lời lẽ thua tục chửi bới lực lượng công an', 'anh làm cho tôi một ý tưởng được không?', 'tv tăng tiếng đến 6', 'chúng tôi sẽ trả phòng khoảng giữa trưa', 'honda đẩy mạnh sản xuất ở nước ngoài', 'pv giảm âm lượng về 7', 'con nạn rực hãy sống sống và trốn thoát', 'cơ ơi, một người chạy thể thao', 'tôi cần nói trước thứ 6.', 'ta hãy nghỉ một chút', 'các bạn muốn mua bơ?', 'hãy subscribe cho kênh ghiền mì gõ để không bỏ lỡ những video hấp dẫn', 'giá một dầm là bao nhiêu?', 'tôi có thể thanh toán cho nó bằng đồng yên nhật không?', 'quý vị có bị đau hổng các triệu chứng cảm lạnh hay cũng không', 'một nghệ sĩ đích thực là phải lao động, quần quật để mời gọi cảm hứng đến', 'tôi sẽ làm món ăn', 'chơi thể thao nơi không khí trong lành', 'ngoài vài sân bóng đá cầu lông mà chúng tôi mới làm lại thì hầu như chẳng có gì mới.', 'hẹn gặp lại các bạn trong những video tiếp theo.', 'tổng số tiền là 243 bao chứ mẹ', 'hầu hết rừng nằm ở bên sông, biển nên đã hàng ngày nên...', 'nhìn nó vẫy mè dõi nhịp.', 'tôi có thể làm mẹ cô được không?', 'tuy nhiên các nhà khoa học châu âu vẫn chưa vừa ý với kết quả này', '8 tổ chức công đoàn ở đức tạo thành liên đoàn lao động đức.', 'nói chuyện trịnh trọng nghe ghê quá', 'với muộn nửa tá', 'tôi cần một cái gì đó cho tạo bóng', 'vâng đây max, sachiko và yumi sẽ có bữa tiệc', 'tuy hình ở nước anh thì ngược lại phe nào phe nấy thi nhau đã kích thủ tướng của mình', 'phòng có máy lạnh không?', 'con gọi ngài tùy tiệt ngươi làm đường phải biết chống', 'cô gái kia yêu cầu gia đình không được báo với công an, nếu không còn nguy hiểm tới tính mạng', 'được, được anh', 'nhà nước có thể hỗ trợ giá thuê bằng cách miễn giảm tiền sử dụng đất, miễn giảm thuê.', 'vui lòng mang cho tôi một ít chai huyết', 'công an huyện quảng hải đã trợ tập bố mẹ của cháu lĩnh là nguyễn văn vĩ và võ thị thị để lấy lời khai.', 'bạn có những món hàng khác không', 'tv giảm tiếng về 1', 'cứu mặt là bảo quản lý mới làm thật ít phương tiện được.', 'cha và dì cứ đổ riệt cho mẹ', 'tuy nhiên sự việc vừa đi qua chứng tỏ ông đã bắt đầu lo lắng cho an ninh của gia đình mình.', 'như thế xứng đáng được cả tụi mình', 'cảm ơn các chị hội đơn tính nguyện', 'chúng ta có thể bắt đầu không?', 'phía bên phải cơ thể tôi bị đau rất tệ', 'người dân nghe ngầm với dịch vụ bạch biệt', 'có cái gì gây ra cơn đau này không?', 'tôi cần phải về nhà bây giờ', 'không chỉ có mức lương trung bình thấp nhất ở đông bắc pháp, mà còn đồng độc lực của các con hiện tựu ở đây nữa.', 'gia đình park cho biết bộ phim bị bán ông, đồng thời dọa sẽ kiện bộ phim này không được phép chiếu.', 'số tiền này dự định sẽ được dùng để đỡ gánh chi phí ăn sinh xã hội cho các sủ doanh nghiệp và khuyến khích họ thuê thêm lao động.', 'vui lòng cho tôi biết tàu sẽ khởi hành đúng giờ không?', 'mẹ con đi hết rồi', 'miễn thuế đối với nhà đầu tư trong nước kém yêu đáy hơn so với đầu tư nước ngoài', 'đồng hồ tôi chậm 3 phút', 'cury chí mến và giấc mơ toàn cầu.', 'lên các cuộc hiện phong bón và thực hiện phong bón', 'tôi sẽ kê ta thuốc cho anh', 'khách hàng chờ nhận hành ý thích làm', 'tv tắt âm lượng', 'trường là người rất có kỷ lục, nhưng làm việc hơi cậu thả một chút.', 'có lẽ bạn đang nghĩ rằng bạn vẫn luôn cư xử một cách đúng mật.', 'buộc tháo dỡ phần vi phạm ngay như quận bình thạnh.', 'bạn sẽ chỉ huy một hạm đội gồm các tàu chiến chiến hạm.', 'bác tư re', 'tôi sẽ ở nhà một người bạn tại new york', 'cái này hoàn toàn tự động, vì vậy anh cần bấm nút mở ống kính', 'vẫn của quý vị cậu bao đêm bao lâu rồi', 'khép mộng tủ', 'tôi đi bộ', 'con trai của họ ăn nhiều nhất', 'anh có mang tiền lẻ không?', 'xin chào, vui lòng mỗi máy cho tôi đến bàn tập phòng.', 'chúng tôi phải đi bây giờ. tôi rất thích bài cơ vụ.', 'hôm nay su không ở đây', 'bữa sáng có gì?', 'của mọi người đã răng', 'do vậy, việc y án sơ thẩm là hoàn toàn khó cơ sở.', 'động cơ bị nóng quá', 'hãy subscribe cho kênh ghiền mì gõ để không bỏ lỡ những video hấp dẫn', 'tôi đến cùng bạn tôi được không?', 'chừng nào thầy cô bị đóng cửa, sẽ mở cửa cho xe đi.', 'đây là một áp lực nặng nề đối với các đơn vị sản xuất thép', 'sản phẩm đã được miễn giảm thuế, chủ yếu phục vụ thị trường các tỉnh miền tây nam bộ đã biến khỏi mỹ khởi.', 'tôi nói, cậu có nghe không?', 'tôi có thể là 3 đêm công', 'tuy nhiên, giả bán vẫn giữ mức khá cao', 'các bạn có một số câu hỏi về điều khoản số 8?', 'tôi thường có nhưng tôi thích mì hè', 'ngày mai chúng tôi phải dậy sớm', 'dòng sản phẩm thảm đỏ thôi miễn mọi ánh nhìn bởi chi tiết xịp nếp mềm mài', 'với dầu và mụn mặt nạ táo và mật ong sẽ giúp bạn cải thiện làn da', 'và tăng khả năng sinh sản.', 'tại bữa cơm, nhấp xăm chán rượu, bãi đưa, tuấn thấy anh bỉnh kêu đáng khó uống.', 'mà điện sản xuất lại như vậy có thấy evn đã động gì đâu', 'anh có thích gặp nói chuyện sao không?', 'làm ơn cho một ly rượu vang đỏ được không?', 'tới một nội bản trực lượng.', 'con biết nịnh bố mỗi khi thích món đồ chơi nào đó.', 'bạn muốn uống loại dưa nào', 'tại cuộc họp, ông nguyễn quốc bảo khẳng định thời gian tới sẽ tập trung điều hành nhằm tháo gỡ khó khăn bè vốn cũng như thủ tục hành chính, phục vụ sản xuất, nhập khẩu.', 'dùng thuốc này khi thức dậy, buổi sáng.', 'cô, mà lưu ý', 'nhiều lần chỉ góp ý, ông xã đã hứa sửa lịch cho hợp ý xong chỉ được dăm bữa nửa tháng, mọi việc lại đâu vào đấy.', 'bạn tính để mắt to hơn bụng', 'còn gì nữa hơn với một tiền đạo khi nghi bản quyết định thắng lợi cho đội nhà trong ngày sinh nhật tuyển dịch', 'bắt đầu lúc nãy giờ', 'con của quý vị bao nhiêu tuổi?', 'vui lòng mang cho tôi món khai vị', 'lập trình viên đa số đều bị tâm thần', 'tôi muốn thời gian đó quan sát và tư duy, nhờ đó mà có ý tưởng điều chỉnh nhịp đèn anh tuấn chia sẻ.', 'mặc dù có vẻ ghê hớm, bạn rất sợ bị tùn', 'nhà hạt mở cửa lúc mậy dơ', 'tóm lược sức khỏe ban đầu', 'với một người nó dạy 30 đô la', 'chiếc này dành riêng tổng thống mới đắc cử của mỹ xác nhận đã chuyển tới mật vụ mỹ chiếc xe dành cho tổng thống mới để thay thế chiếc xe cũ.', 'nhưng tôi không muốn bạn tin tưởng vào bất kỳ điều gì.', 'không thể bất ngờ nặng pháp', 'hoa nhận nơi yêu thật', 'bọc đá anh thấp dẫn thiều tỉnh', 'cái lợi nhất là bằng xe buýt', 'cô ấy bị mất tiễn ngân hàng', 'còn thay đổi thằng kia', 'và sử dụng tiền đầu tiên của chúng ta. việc mất là tin.', 'tôi hy vọng thời tiết sẽ sớm sáng sủa', 'bàn đường kheo cua trọt nhắc có chân ổng khung', 'thứ dị cỏ làm ếch được mất khả năng sinh sản.', 'bạn có thể bật máy điều hòa lên được không', 'về thuốc lắc', 'chủ yếu thuê ghế tại biển đã mở cửa chưa?', 'tôi muốn trâu dồi tiếng tây ban nha của mình.', 'trên ca cộng 1', 'làm gì để bảo vệ sự an toàn của ngân hàng.', 'tôi đã bị lừa', 'vậy kế hoạch của anh cho ngày mai ra sao?', 'tôi uống từ ngoài nước được không?', 'nó có hướng dẫn sử dụng không?', 'có người còn không đừng ngại so sánh danh hô phim việt với các phim nhập của nước ngoài.', 'bạn có quan tâm đến đồ củ không?', 'bản báo cáo cũng chỉ rõ ở việt nam hiện nay, những hổ tục hay những suy nghĩ cũ tồn tại ở nhiều vùng dân tộc thiểu số, thậm chí cả ở các tỉnh thành lớn đã khiến cho sự bất bình đẳng giới cũng như tỷ lệ tử vong ở phụ nữ và trẻ nhỏ vẫn rất cao.', 'cũng chẳng còn súng xín quần áo mới.', 'tôi đang tìm riêng', 'một chổ bí mật à, ý bà là sao?', 'chính sách quản lý cần cởi mở', 'bệnh này có thường xảy ra không?', 'quẹo tay lái và đi vòng qua cốc', 'anh ấy đến biểu phận ăn rồi.', 'hãy đăng ký kênh để ủng hộ kênh của mình nhé.', 'xin lỗi ông, cho tôi lấy hóa đơn được không?', 'các mảnh có rìa sách được tha vào cán gỗ và gánh chặt bằng nhựa thông.', 'vui lòng không bỏ đôi quỳ dạ trên toa hành khách', 'người mẫu phải ấp tầng, trừng diễn vùng hoặc hoàng vọng đến cận phiên.', 'được rồi, chút nữa tôi sẽ massage cho ngài chủ khác.', 'không lẽ ước mệnh đó của tôi lại khó đến thế sao?', 'thời gian đỏng má lang, cả đoàn kính sống vai tháng tơi đến vùng nửa lượng sơn hoa bình.', 'nhiều trụ cột và các mạch bữa đều mục ruộng', 'làm nơi nấu nướng, giặt rủ', 'khách tham quan, đánh thủ luôn bao vẻ hành sách để tùy tội em.', 'tôi e rằng ở đây không chúng tôi không chấp nhận', 'từ chỉ có tính thẩm mỹ trong giải pháp chữa chữa hoặc đồ mã hàng lạ lắm vẫn tạo được sự tính khởi những trẻ nhỏ.', 'con nhỏ mở cái túi wooddale trên cổ.', 'họ không cho phép anh được nha', 'nguồn nước ở đây đã bị nhiễm mạn, nhiễm phèn và nhiễm khuẩn bởi thói quen thái rác trực tiếp ra sông. lượng thuốc trừ sâu dùng trong nông nghiệp và việc xây cầu cạn ở cuối dòng sông cũng là lý do.', 'đây có thể là kẻ hỡ nảy sinh tiêu cực rời thất thoát lớn.', 'bước 6 sẽ bị tội gây rượt trật tự công cộng bởi tác hại lớn mà việc bước 6 đã bị cấm hẳn.', 'phê đồ lắm', 'điều này đọc thức tôi', 'trước đó, tôi bị mở hộp thuê điện tử ra và nhận được rất nhiều lá thư của người hâm mộ yêu cầu tôi về quê hương đi và tôi biết đã đến lúc nói lời tạm biệt.', 'các kết quả xét nghiệm có bí mật không?', 'toàn là đồ dùng cá nhân', 'dừng lại', 'nhưng lấy ít nào khác được cung cấp.', 'chúng tôi không có cậu thầy.', 'quý vị có cục u hay trổ sức nào ở cả hai bên cổ gốc?', 'tivi tăng tiếng đến 9', 'và cho tôi khoai tây tiên này', 'các đồ bếp còn chỉ biến ra nhiều loại phở khác nhau bằng cách biến hướng những món ăn hàn quốc, trung quốc, những phở hải sản, phở xo mực.', 'anh có thể cho tôi biết số điện thoại của jerry hart? h-a-r-t anh ấy ở tại phố 12, phố pinwood street', 'anh có thể cho tôi biết số điện thoại của jerry hart? hart a.r.t. anh ấy ở tại 412 phố pinwood street, sittow.', 'hậu quả là cấu trúc sản xuất của việt nam cũng bị méo mó nghiêm trọng', 'chuyện đi hay quá', 'anh chắc là đói, có gà nướng trong tủ lạnh', 'xin lỗi tôi đã không để ý.', 'vui lòng cho tôi xem cái giống cái để đọc trưng bài ở cửa sổ.', 'mở tv', 'các hoa hậu xuất hiện chốc hoạt bở đầu', 'cần phải bỏ những suy nghĩ cũ kĩ, cổ hú, diệm bộ cảnh nhã nhặt vừa vặn sẽ giúp hà đẹp hơn ở lễ hỏi cưới.', 'với vỡ kịch thị nở gặp trí phèo, diệp anh đã diễn rất đạt và gây được cảm tình với ban giám khảo cũng như đông đảo khán giả.', 'ví dụ', 'thưa anh, tên của anh là gì?', 'còn thọ đang bị công an tạm giữ', 'tôi có thể lấy gì cho anh?', 'đây là 20 đô la và anh có thể giữ tiền thối.', '3277 anh có thể nói chuyện với cô ấy ở một sổ mạy con 159 cô ấy ghi nói như', 'mời thượng chúa như vô nghĩa và vô chủng đội với tôi', 'cho dù ngôn ngữ của bạn có là gì đi nữa', 'tôi muốn gặp về một bác sĩ chuyên về tai.', 'giá cao suy bắt đầu hạ nhiệt', 'khách tốt nhất để đến khách sạn plaza là gì?', 'ngày tập', 'quán cà phê anh em mở làm phở ngon rất kì', 'vui lòng dùng máy xe rốt', 'từ bây giờ nó được gọi là thanh nhi', 'tôi không có em trai', 'đạo chích người nước ngoài tái xuất', 'rồi tham gia vào phẫu lạc bộ quân vượt.', 'rùa phải nuôi trong các môn phố vì chẳng không ngóc đâu lên được', 'cũng quý vị có thể kết thúc chung với những bài hay vẻ không vô t grâce', 'quý vị khuyên tôi khi nào thì có thể thay các lột xe này.', 'tên tôi là suzuki, tôi đã đặt phòng cho đêm nay.', 'ông tổng giám đốc doanh nghiệp bảo trợ xã hội là người đã hỗ trợ xây dựng ngôi nhà từ những chai nhựa, lồng ngỗng và cũng là chủ dự án này.', 'thông minh, có năng lực, yếu đuộc, cẩn thận và có lòng tin', 'tôi muốn biết về trực giám giảm giá dành cho sinh viên.', 'bạn có kiểu giống thế này màu nâu không?', 'trộn vòng ánh sô mấy', 'chúc mừng về ngôi nhà mọi người của bạn', 'giá đậu xe 1 tiếng là bao nhiêu?', 'xây dựng nhà máy ở nước ngoài', 'nhóm người ngủ trong phòng lạnh nhất phần lớn mơ những điều khó chịu, kinh sợ. còn ở phòng ấm nhất, những giấc mơ êm ái nhẹ nhàng đã đến trong giấc ngủ của những người ở đó.', 'do đó không thể nào nhầm lẫn được giữa một mụn quyền nghị nụ', 'hãy đến gặp bác sĩ để khám', 'tôi có thể dùng thẻ này để được giảm giá không?', 'như anh chơi trong buồn tầm ẩm đâu yêu', 'hoàn nhiệm về chuyện sơ ảo ở liên xô', 'chuyên nghiệp việt phán nguyên họ', 'toàn bộ quy trình điện toán hóa thư viện do công ty lạc việt giúp nghiên cứu thiết kế', 'thứ quan trọng là anh ta cố gắng', 'bên cạnh đó cũng phải an toàn hơn', 'lẽ ra anh phải ở trường chứ', 'nhà nước không để những người nghèo đã được vào học mà lại không thể tiếp tục đi học', 'tôi muốn thay đổi chuyến bay bộ nguyên.', 'cho tôi một cuộn thêm khơi sáng ba mấy cháu.', 'bạn có thể ở lại đây lâu như bạn muốn', 'gai chố', 'anh gợi ý một nhà hàng pháp ngôn được không?', 'nên khâu tổ chức tuyển sinh của các trường.', 'nước cộng không?', 'tốt này bị bắt, tốt khác lại tử', 'anh ta có cá tính không thân thiện', 'hai đứa vừa anh đi cùng...', 'các dự án mở rộng cũng đã phải định mạnh những tác động xấu đến quá nhanh trên diện rộng và lặng lẽ hơn so với những gì chúng tôi dự báo.', 'xin lỗi cho tôi một cậy đĩa để chia ra được không?', 'tôi cho rằng không có vấn đề gì', 'vui lòng sắp xếp một chuyến bay khác để tôi có thể chuyển sang a123.', 'định lượt anh', 'anh có bao giờ đến tokyo chưa?', 'hãy subscribe cho kênh ghiền mì gõ để không bỏ lỡ những video hấp dẫn', 'bạn có thể nói cho tôi biết về nhà hàng truyền thống không?', 'trước đây có ai trong gia đình quý vị từng có vấn đề ở bụng không?', 'từ vệt bồ hóng nâu trầm', 'và thi tới đại học công nghiệp bắc kinh.', '1 thanh 15', 'ông cường nhận định lượng phâu thép sản xuất ở trong nước sẽ không tăng đáng kể, ít nhất là cho đến cuối năm sau.', 'nó xảy ra không có gì là nặng niên.', 'và lời cảnh báo đã xứng trở thành sự thật', 'với hai cổ tay treo lủng lẳng những túi xót', 'trong cái nóng oi ảo của mùa hè, các loại vật cũng có cách tự ra mắt cho riêng mình', 'nhưng rất tốn kém khi thay thế hoặc sửa chữa.', 'bao nhiêu tiếng bằng xe buýt đến lê đan vậy bác ơi?', 'còn đây là thế giới của dây dép', 'không hấp dẫn', 'cái giá của một anh hùng', 'tăng nhiệt độ lên 30 độ', 'điều đó là không thể hiểu được', 'ho mãn lâu ngày ấy và bây giờ', 'ba tôi sẽ về hưu năm nay', 'gọi đến chồng vì không kiếm được tiền', 'không nhà tài trợ, không bán vé để phục vụ các bạn sinh viên', 'rẹp vờ ngố miền nga', 'ba tháng cô ấy khá mới', '15 đứa tơ bạo nhật', 'có tui đến trà rôn không?', 'xin lỗi, anh có thể bán theo đơn này không?', 'phải chờ tới khi ối ra nhiều trở lại thì bọn gầy mới biến mất', '6, 16, 6, 17', 'bồ thủy cũng có nên hẹn gặp lại', 'chứng khoán châu âu trượt giảm khiến thứ 4 lên tiệp, cổ biểu cối phai thác mất điểm', 'đầu đoán nhất thuộc về loài nhím', 'sự kiến chuyển xử diễn ra trong 2 ngày.', 'chào, rất vui được gặp anh', 'các bộ phòng khám phá kiểm định chất lượng giáo dục theo chỉ đạo của bộ giáo dục và đào tạo.', 'hóa ra vì khách bỉ đang công tác tại bảo tàng lịch sử và nghệ thuật hoàng gia bỉ', 'cảm ơn anh cho số tiễu tiến dụng để giữ phòng được không?', 'một hôm trước cơ thể người bỏ không đi', 'thằng dư ngày càng nhỏ đi', 'thấy còn hai người đang chơi với sắp chìm giữa mã ba sông chỉ kịp đẩy em phượng lên bờ là anh hắn lại đạp nước bơi ngự ra.', 'trứng bò lồ ngủ chết người anh', 'hãy chẳng trang ở tiêm sành khách sạn lúc tạm giữa 15 trạng mai.', 'sư thược đứa bé mô côi được thành nhập, chữa bách bệnh băng xóa và vụt', 'vui lòng mang lại về thức ăn', 'suzuki day', 'điều tra một thẩm phán làm xét lệnh của sơ', 'có nhiều tiết mục mới và hấp dẫn', 'tuần hành thay quá cảnh', 'để đã lấy thiết bán cho các đầu nậu ảnh.', 'chầu phạt ban trông như thế nào', 'hành khách nói đùa, buông có thể bị xử lý thành trường', 'vâng, thịt bò rất ngon. gửi lại khen ngợi của tôi đến đầu bếp nhé.', 'đến địa phận xã mỹ thuận, mỹ lộc, nam định, có một người trẻ tuổi lái xe máy cùng chiều vừa trước, bảo dừng lại để nhớ dẫn đường.', 'có một ngày lễ cho các bé gái vào ngày 3 tháng 3', 'lá trắng nhỏ nhất để không bị phá thảm thảm thở đục tiền của mỹ bằng khả năng của mình họ đã sản xuất những đồng đô la mỹ và độc quyền về giá trị của nó.', 'xin đối cảnh một vui vương lắm và rất hùm lùng lòng vào tình hình tham vũ của bạn', 'vui lòng đợi tại phòng chờ quá cảnh ở phi trường.', 'tôi có thể mua sách ở đâu? ở anh.', 'nãy giờ sao toàn nghe chê không', 'triển lãm trưng bay 7 mùa tác phẩm của hoa sĩ trương hải minh', 'theo tôi, ở đây bạn cần có ô tô để đi đây đó. tôi không còn cách nào khác là thuê một chiếc ô tô.', 'tên tôi là noriko tanaka.', 'nhân viên giải thích lý do là máy phát hỏng không thể gửi lệnh chỉ đặt ra hà nội được.', 'những ngày hè xôi động và các món thể tháo ngoài trời thật hấp dẫn', 'tàu từ saitama vào ở sân ga nào?', 'tội bị mất mày anh', 'tôi mong lòng được ăn đồ ăn nhật bản.', 'các học hội ước ngôn, anh mình bằng thảm.', 'cô ấy bảo mình check in sau 11h30', 'anh có bị chuyển động gì trong đầu không?', 'tốn hàm y phút', 'người đàn ông này kém còi', 'xe ô xách', 'phần nào khiến giải thưởng ngành múa khá sơn tụ.', 'tôi vẫn không giấu được những nỗi bực vọng', 'vĩ bảo, những người có tuổi tác ban đầu thường dằn vặt về quá khứ, nghĩ về những ngày đữ địa vị ngoài xã hội.', 'đâu có bị vang', 'theo đại diện của hãng, tất cả các loại hình mai tạo truyền thống từ trước tới nay chỉ để lại trong các loại rất khóa, dơ mặn nghề của ảo.', 'hoàng mai là tuyến đường chính và có nhiều phương tiện luôn không?', 'bắc', 'khi hai người đến tên hôn bất ngờ từ trong nhà gần đó chạy ra, tay cầm chiếc rửa lao thẳng vào chém anh lê văn xỉu.', 'cô anh chụp lệ hắt lên vách liệp bọt cây vầy rệ xi', 'chúng tôi đi chung', '912, 913', 'cài đặt lại phần mềm tốn cả ngày', 'chỗ ngồi này không có trong khu này', 'anh có thể chỉ cho tôi cách ăn món này được không?', 'có khá gần', 'cái nào gần nhất', 'tôi sẽ đón lại với chị sau cảm ơn chị rất nhiều, tạm biệt', 'bạn đã bỏ lỡ một cơ hội hay đã bỏ lỡ thứ gì đó?', 'tôi muốn tham gia một tour thành phố.', 'người dân cố thủ tại chung cư sắp sập', 'thêm 2$ mỗi quần, bạn có 1 in hay không?', 'lá chấm nhỏ nhất để không bị phá sản là sở đốt tiền của mỹ. bằng khả năng của mình, họ đã sản xuất những đồng đô la mỹ và độc quyền về giá trị của nó.', 'theo tỷ giá hiện nay tôi sẽ nhận được bao nhiêu euro?', 'đại này có bảo hành không?', 'tôi đang dùng insulin', 'chẳng phải là bệnh hiểm nghèo nhưng chỉ vẫn là bệnh gây phó chịu cho bệnh nhân bởi làm cản trở công việc của họ, lúc làm việc cũng như lúc ngủ họ vẫn phải lo nghĩ, giáo dư nghĩa lo ái', 'xin lỗi, anh có thể lị truyền mặt cái này không?', 'đó là điểm', 'còn phải bỏ những suy nghĩ cũ, kỹ, cầu hủ, điện, bộ, cánh, nhã nhạm vừa vẫn sẽ giúp nhà đẹp hơn ở lễ hồi tuổi.', 'kiếm được tiền dễ dàng nên vương rất hào hoán, sẵn sàng chiêu đại lộ bạn ở nhà sáng trọng hay đàn đấm ở trong quán chơi.', 'cựa chai còn gọi là mang cá nhỏ', 'học bằng chữ gọi gần như như đôi lá sân bay.', 'tv giảm âm lượng về 0', 'xin lỗi, chải tóc tôi giống như hình này.', 'kinh tế mỹ tiếp tục luân sâu thêm vào khủng hoảng', 'điều này thì tôi xem cả đồng hồ thử ba ở bên trái', 'bé thiên nhiều đêm đang ngủ cứ giật mình méo máu bố ơi mẹ ơi khiến thằng trường phải ngồi dậy dỗ em suốt đêm', 'giảm nhiệt độ xuống 25 độ', 'hàng ngày nằm mặt nạnh với nhau nhưng những gì phải dự cuối hỏi cổ bàn cô vẫn diện thật đẹp khắp tùng trồng, cười lói rất vui vẻ', 'để luôn nhớ mình là sinh viên việt.', 'tôi muốn anh khuyên tôi về.', 'vinh quay lại đi', 'rất hân hạnh, chim nào tôi sẽ gặp lại', 'tên tôi là tenko yamada, chuyến bay gal002 đến tokyo.', 'tổng đội tiên là 243 phao thưa mẹ', 'tôi muốn mua cái này cờ trung bình', 'giám đốc ba cọ lè là chủ nhân của một trường đam thoại anh hữu.', 'kênh mọt tv', 'có phải nó thực sự có hiểu vậy không?', 'tối sẽ trở về vào một ngày trong tuần.', 'có đủ thời gian để chuyển xe không?', 'ồ, tôi đã lỡ chạm vườn xe buýt của mình, tôi phải làm gì?', 'thiệt quá, tôi phải làm gì bây giờ?', 'một mẫu lui về phía sau đầu còn mẫu kia hướng về phía trước mỏng.', 'tối mượn vô một song bi', 'đưa tôi về khách sạn', 'dự luật này được trông đại sẽ thu hút được sự ủng hộ từ các đảng', 'rủ nhau kết lại với ông để hình thành bang từ hiện dân lập gồm đủ ngành nghề thợ mộc, thợ hồ.', 'vài ngày lừa sẽ có hàng', 'có được dùng điện thoại của anh không?', 'cại đầu tố đăng tố đất đau', 'cách tốt nhất để chăm sóc làn da là tránh cho da tiếp xúc với ánh nắng mặt trời', 'tôi thích các bộ phim hành đồng và ly kỳ', 'vui lòng cho thứ nào đó không ga', 'các bạn hãy đăng ký kênh để ủng hộ kênh của mình nhé.', 'nhóm sinh viên tại trường cùng họp mặt ăn tết chung.', 'thế nhưng đối với vượng thì khác chỉ vài tiếng khích tháo hắn đã thu phục được cả hai chú chó rồi vào nhà', 'bể nước tôn đông đủ các chất bẩn đen ngon dưới đáy, nắp đầy đà bóng tróc', 'tuy vậy, stubart cũng cho rằng cần phải tính đến cả yếu tố cá nhân', 'chúng ta thật may mắn, cửa hàng alamoan vẫn còn cửa số 4.', 'tôi muốn mua nền tải cam này bạn vui lòng gửi chúng tới nhật nhé', 'đừng thay đổi kiểu tình cách một chút', 'cái này có bao gồm dạng bữa ăn sáng không?', 'xin lỗi, có thể cho tôi một thẻ điện thoại không?', 'tôi vô vinh dự được khiến cụ vô cùng cố gắng.', 'thế quản biệt dịch hẹp, kiến tệ thừa kho khe thâm trị rịch lên', 'xin lỗi tôi bị lạc đường, anh có thể chỉ cho tôi đường đến phu phổ người hoa không?', 'ai đó bị thương', 'những dự án này đã bị hoãn vô thời hạn, không những vậy, hãng xe nhật cũng dừng phát triển động cơ, hiện chỉ có hệ thống động cầu trước cạnh tranh với xe mũi dài.', 'xin lỗi, anh có thể vẽ bản đồ sưu được cho tôi không?', 'tôi muốn thuê một đôi giày trượt', 'không đáng đề cập đến', 'chí tích có thể để lại quyền nợ bởi một nhà độc tài giàu mỏ nhưng cũng có thể giúp thể chế hóa những phong trào chống mỹ diễn ra tại khu vực trung đông.', 'những bộ não chỉ giảm hoạt động về đêm sẽ suy nghĩ hiệu quả, truyền vọng và dẫn đầu cả đội', 'tắt điều hòa phòng an', 'anh có thể giảm giá không?', 'trên lời tôi khải đi địa chinh', 'những khi mùa khô kéo dài, mỗi nhà vẫn phải dùng nước nhiễm phèn. sau khi được lắng lọc bằng dung sáp khác nhau, khi thì dùng quần áo cũ, lúc là phèn vẫn được dùng sửa đục khắp sỏi, miễn là có nước để dùng.', 'tôi có thể ở lại 3 đêm không?', 'cô có thể để nói chuyện ba này được không?', 'không, cố tay thi ghẹ thi huyền', 'hiện tượng này sẽ bắt đầu tại nam á, rồi dần được thấy tại hầu hết các nước, trong đó có việt nam.', '35mm thêm màu âm bản 30 đó mà', 'anh có thể giải thích tình huống này không?', 'trưởng phòng hành chính tổ chức nhà trường.', 'một quả lụ đạn được tung ra đúng lúc.', 'trông anh nhạt nhạt quá', 'này hơn người ta chớ', 'có xe tuyết máy lạnh không?', 'ông toàn chơi phỏng tay trên', 'khai báo điện tử nhanh chóng hơn', 'hai anh chị này cặp với nhau cuối tuần nào cũng mượn tiệc. họ gọi bạn bè về ăn uống nhảy nhót, đồ nào khá mức.', 'cô ấy sắp bơm nó vào tỉnh mặt anh', 'có lẽ quý vị cần thẻ da', 'xin lỗi, nhưng hình như nó quá nhỏ', 'tôi sẽ xác nhận những gì đã nói về anh', 'vì cái oanh, từ khi mở cửa hàng trên phố thái hà', 'chúng tôi có thể giải thích vấn đề như sau', 'bạn đi về đâu mà vội thế?', 'vẫn như do ông có đưa ra tiêu cử ủng hộ ủng viên ra trong tình hành tiền không?', 'nhiều hơn những trẻ khác.', 'như đã đồng ý, hàng sẽ được giao cho anh vào sáng thứ hai.', 'chị bây giờ đã nhẹ người', 'nhưng mà ngọc ngủ xuống lần thằng chết tại chỗ', 'ôi khát dấu chứ', 'đây có phải xe lửa đi trang mai không?', 'khoai tây đã nhừ và cải chua đứt', 'mồ hôi trên cơ thể người cũng khó khô đi', 'hãy subscribe cho kênh ghiền mì gõ để không bỏ lỡ những video hấp dẫn', 'có triêu thị ở góc đường này', 'nhắc tv', 'món ăn của địa phương nào đặc biệt?', 'công an hà nội đã cạo sửa hồ sơ', 'khi đối tác đầu tư tiền bạc thì mình phải đầu tư công sức', 'bạn không biết lại đúng không?', 'nói khó là khó vậy thôi, nước ngoài quản lý được thì mình cũng quản lý được', 'tối nay có đông không?', 'nhớ anh ta đau khi anh ta dùng ngón tay ấn đờ', 'chức danh chính thức của quý vị là gì?', 'anh muốn nó thế nào? ý tôi là anh muốn bò gì vào trong hamburger của anh?', 'tôi nói là có một chút tiền gây', 'chồng tôi bị đau tim', 'cùng chuẩn và ngũ hai đối tượng khác chuyên làm nhiệm vụ đưa người sang trung quốc là nguyễn vũ hải và võ cảnh dũng cùng chú tại bắc giang cũng bị cảnh sát bắt.', 'hãy subscribe cho kênh ghiền mì gõ để không bỏ lỡ những video hấp dẫn', 'tôi sẽ thử bánh pudding', 'cái này không vừa, anh có thể đổi nó lấy cái khác không?', 'bên chi bộ chưa có quyết định chính thức.', 'hạ viện mỹ vừa ủng hộ một đạo luật trong đó kiểm soát chặt chẽ hơn nữa hoạt động cây bạc trực tuyến.', 'giấy phạt đây, anh bị phạt 25 ringgit.', 'trường hợp góc bụng khác', 'cạn phong có cạn sát không?', 'cạn nào tiền lợi nhất để đi đến nơi này bằng chơi beat hay trà điểm?', 'thời gian từ đầu đến cuối là bao lâu?', 'địa điểm trực tuyết đâu', 'địa điểm các bức tranh ở monnet ở đâu?', 'thì có thể mua vé qua điện thoại', 'vui lòng cho tôi cãi gì chị, khẩu tốt', 'tôi không thể ăn ngọt cái này quá dài.', 'tỷ phú đức tự tử vì phục hoạch chức tế', 'năm qua họ đã cố gắng ngào lái một lúc hai hãng và để không bị phủng hoảng như các hãng khác của mỹ.', 'tôi muốn nước cam tưởng trộn một bánh xốp và một tách cà phê', 'tôi đặt 1 phóng 2 dưới', 'ma lan, họ truyền chi vậy bàn vầy? trông bàn buôn quá.', 'chúng thường thảy ra trong những vùng biển sóng vỗ', 'cắt điện hòa phòng hợp', 'khi nào tôi ra viện đường', 'sẽ phải tốn 2 ngày thì anh mới khỏe để xuất viện', 'hiện nay theo nhận thức của đa số người việt chúng ta, nhà nước pháp quyền là nhà nước quản lý xã hội bằng pháp luật.', 'bác', 'tôi xin tuyên bố kết thúc cuộc họp.', 'não dẫu tổn hại nặng vẫn phải chữa, mặc dù đã gần như biết rõ về cách gây bệnh cũng như tác hại mà bệnh nhân sẽ phải chịu cả đời, nhưng đến nay, giới y sĩ vẫn chưa tìm được biện pháp hữu hiệu nào điều trị căn bệnh hiểm nghèo này.', 'chân không', 'bạn có thể cho tôi thêm vài phút không?', 'kết quả mốc thăm vòng loại cuối cùng', 'tôi đang tìm một công việc mới.', 'không hâm phấn và đã làm phim tình cảm đẹp đẹp', 'đại dương bắc cực ấm lên đồi ngột', 'bạn có một nụ cười đẹp', 'hãy đứng tại chỗ đừng cử động.', 'tôi hiểu, cây đỗ và cà phê nữa', '1 giờ thì em trả bao nhiêu?', 'vĩnh cũng hy vọng nhiều người dân việt sẽ được ăn những quả bưởi chất lượng thời gian tới, bởi bảo quản đã khó, nhà ăn phải, bảo quản còn khó hơn.', 'di tật thay nghĩa chủ yếu dựa vào trần đoán hình ảnh ra sạch nguyên dưới tương', 'cho tôi một ít thuốc vào má tư không', 'xin nổi tôi kiểm tra họ ăn được không', 'cái gì ở... góc phố', 'chụm gần vào 2 mắt của tôi', 'trước khi đến với điện ảnh, tôi kinh doanh cho thuê xe du lịch', 'tàng trữ trái phép và vụ thí quen dụng nguyễn hiễu cảnh chủ vụ trường bị phạt 7 năm 6 tháng tù cảnh đã tự hủy cuộc đời bởi sự liều lĩnh', 'anh ấy đi chưa? chưa', 'tôi có thể gửi trước hành lý của tôi được không', 'hầu hết số mờ động vật đều đang ở giai đoạn phấn hủy bốc mùi hối thủy nông nặt', 'khoảng 45 đô la mỗi người', 'cảm giác không đuổi ngủ khi ra ngoài vào trời lạnh không?', 'tôi không nghĩ đó là một phong tích nhật bản độc nhất vô nhị.', 'chiếc này dành riêng tổng thống mới đắc cử của mỹ xác nhận đã chuyển tới mật vụ mỹ chiếc xe dành cho tổng thống mới để thay chiếc xe cũ', 'hôm nay bà em đi công tác, anh qua đây nhé.', 'xin lỗi tôi đang tắm', 'từ hôm nay bạn sẽ ở đâu?', 'các tác phẩm ăn khách để ở đâu', 'anh ấy vừa mời đến từ anh cục hôm qua.', 'nếu bạn không bắt đầu chuẩn bị, tôi không cần nữa.', 'tôi muốn đặt chỗ cửa hàng ra vào ngày 12 tháng 3', 'đúng là quên 1 cục', 'phước tây và nga căng thẳng', 'lão dỗ tổm hại lặng vẫn phải chữa, mặc dù đã gần như biết rõ về cách xây bệnh cũng như những tác hại mà bệnh nhân sẽ phải chịu cả đời, nhưng đến nay giới y sĩ vẫn chưa tìm ra được biện pháp, thủy hiệu nào để điều trị căn bệnh nghiệp nghèo này.', 'ở thế chết này, những cuộc bán đấu đá được xem là một sự kiện xã hội.', 'túi xe chờ anh nhìn đó', 'bị bắt giam vì xúc phạm trên mạng xã hội ảo', 'khi nào quán trà đóng cửa', 'tôi đem ra chị sẽ lừa băng cách nào', 'tôi muốn nói chuyện với', 'tối đi hải phòng còn mình đi đâu', 'lên tới lớp thu tiền học quý.', 'ăn nói sơm sở', 'vâng, biệt bào ở đây.', 'mấy giờ xe buýt đã đến', 'nó sẽ dừng chạy máu', 'có đứa gọi hắn tên hải làm cái gì ở công ty nước ngoài?', 'mấy giờ con thuyền đó mới khởi hành?', 'chính là nó cảm ơn', 'đỗ đua trồng trong mùa hè lớn nhanh và sớm có quả dẫu bị bỏ tưới, đỗ đua vẫn ra quả chịu hào', 'để nó cho tôi', 'hãy subscribe cho kênh ghiền mì gõ để không bỏ lỡ những video hấp dẫn', 'tôi muốn hỏi anh về sendai', 'nghĩa là khoảng 10 đô la một cuộn phim 36 tóc', 'trẻ em đâu có chứa ngại bật', 'tạc chứng phủ của tổ chức lãnh dịch.', 'bữa quầy sao?', 'đang diễn ra hào hứng sôi nổi', 'của hai mùa ở miền nam việt nam.', 'chúng tôi muốn đi', 'tôi không chắc, nhưng tôi không chịu được mùi thịt tôi chỉ muốn ăn trái thơm', 'lúc viễn tìm được người giúp đỡ quay lại chỗ bị ngã thì nhóm cướp đã lấy che của anh và đẩu thoát.', 'liên chạy theo nắm lấy cửa sau xe bích.', 'tôi giao phỏ công việc này cho bạn.', 'liệu ngân hàng có mở cửa ngày mai không?', 'và nhận ra liền quanh chiếc thòng lọng bành cơ của nó đầu kia sẽ là bữa ăn', 'việc bảo vệ những nguồn cung cấp dầu lửa trước đó đã là ưu tiên hàng đầu, bỗng chốc lại trở thành nỗi ám ảnh của nước mỹ.', 'tiềm vệ người bồ đào nha mới đây khẳng định anh đã tìm lại được niềm hạnh phúc tại m.u. bất chấp những chỉ trích của người hâm mộ anh', 'anh có nước mía không?', 'anh đứng tại các thành phố ấn đủ nước thắt chặt', 'những lãnh đạo cấp cao cũng đang phải đối mặt với riêng giảm lương đến mức nào hiện dẫn chưa rõ.', 'đây có phải ra thật không?', 'bỏ tù lạ nhất cưỡng hiếp tập thể', 'lấy ngành thép làm ví dụ', 'ví của chúng tôi bị móc túi ở trong tàu điện ngầm', 'tôi muốn ăn hơi tải', 'mấy giờ là chuyến bay tiếp theo tới nijita?', 'giấy phạt đây, anh bị phạt 25 ringgit.', 'đi linh chính phủ gần thái đường', 'vui lòng đến quầy của hàng không nhật bản', 'anh giỡn quá rồi nhỉ?', 'tôi có thể cân bạo khoảng của bà bạn không?', 'chị có cửa lớn không?', 'từ mẫu phân tích của bà, vũ thị khởi, giám đốc tổng công ty tâm lý học ứng dụng nhiều phụ huynh đã hiểu rõ khoảng trống giữa cha mẹ và con cái không phải là khoảng cách về địa lý mà là khoảng cách tâm lý.', 'thưa ông có, đúng 11h', 'làm ơn', 'và báo trên bàn vừa mới được đọc', 'giết người cướp của lấy tiền về quê', 'bóng đá tv', 'tôi có thể sử dụng mặt nạ trang điểm với số rành như thế nào?', 'không có số điện thoại', 'không giống như sản phẩm nông nghiệp, dễ, hỏng, dầu có thể chôn dưới đất', 'nhưng chính các nhà máy đường đang kích thích nông dân trồng mía, vì đại giá mua mía lên cao', 'cảm ơn xã hội đã cho chúng ta những con người có tấm lòng.', 'xin lỗi có thể nào anh là anh không?', 'tôi muốn đặt chỗ trước cho 2 người vào 7 giờ tối nay', 'tưởng tá công an này được phát hiện trong tư thế', 'nhưng đấy là cơ chế nào?', 'chúng tôi đính kèm một miếng tắc ngắn cách đến được khu liên hợp.', 'các bạn có thể nhìn thấy những bức ảnh của tôi trong phần bình luận.', 'mời các anh ngồi xuống đây', 'anh có uống bất kỳ loại dược phẩm nào khác không?', 'làm ơn cho tôi một chỗ ở khu không hút thuốc', 'tôi muốn một vé cứu hồi đến trạm s.', 'mời các bạn tham vấn cho bạn bảo ngọc và chia sẻ về chuyện này', 'cụ đầy đầy mũi tiền bảo cảm và tài lỗi', 'còn vé cho buổi diễn tối nay không?', 'tôi nghĩ họ sẽ sẵn tiệt hơn', 'đừng có toàn tem nhắn dịch vỡ vẩn để xấu mặt mọi người', 'những dự án mở rộng ở nhật cũng bị hoãn, hãng khẳng định sẽ chẳng xa thải nhân công chính thức nhưng 7.000 nhân công thời vụ đã được nghỉ việc ở mỹ.', 'bật chế độ sửa ấm', 'là người hay tò mò, thích khám phá, sáng tạo, tâm hồn cỡ mở, họ thích lắng nghe và cho một người lời khuyên', 'thức uống, bánh mì và các món ăn chính sẽ được cung cấp', '1 số lượng lớn', 'nó thật vui', 'tăng nhiệt độ lên 29 độ', 'trả cược đến chị anh mai là bao nhiêu?', 'các ba vợ kể rằng', 'anh có muốn được giúp gì không?', 'chúng tôi muốn đi trượt nước', 'tôi sẽ quay lại trong vòng 1 tiếng lửa', 'cho tôi một ít giấm', 'kha, đây là noami, mình đang ở thành phố.', 'ngày mai thì sẽ có chiếc mua', 'tôi có một thẻ ngân hàng', 'vui lòng cho tôi ghé phía trước dòng hồi đi', 'lỗ trẻ nít', 'tụ tập học đòi đàn đấm thư thân mất nết', 'tối nay bạn có muốn đến đọc chữ phim không?', 'gần đây, nhiều xếp âm thầm bán cổ phiếu nhưng không bảo cơ quan hoạt động.', 'ông ri nhấn mạnh bình nhưỡng sẽ không quay tay ngồi nhìn mà sẽ tỉnh không biến cân.', 'vâng, chúng tôi có thể vui lòng cho tôi biết tên.', 'nằm giữa trung tâm thành phố bắc giang, quán phở nổi tiếng của nguyễn thị hậu và khu vực vũ, chẳng lúc nào để biển mở cửa nhưng khách vẫn hối hả.', 'đây là đường nút từ nút giao thông khu ăn nam sài gòn đến cầu phú mỹ và đường vành đai phía đông thành phố.', 'chúng giúp làn da khô trở nên tươi mát, mềm mại hơn', 'vì ngô cử bây giờ không phải là tiếng anh nữa nên tốt nhất là bạn thủy cả dòng', 'cường ấp không trả lời', 'khách ngoài đón tết tại hà nội', 'tôi sẽ thảo phiếu tính tiền cho ông', 'phía công an cũng sẽ có những thông báo để có biện pháp ngăn chặn', 'họ bị thứ tưởng khi chiến thăm tăng gia đình chính sách hôn heo ở huyền chiến mỹ', 'anh đã làm thế này bao lâu rồi?', 'cắt đèn phòng hợp', 'vài tháng', 'anh buzz là người đầu thời điểm nóng trong rong.', 'anh ơi sống cạnh nhà', 'kẹo làm từ bột hoàn, hương, quế, hạt hống.', 'cô ấy đang gọi từ canada', 'điều hòa làm lãnh', 'nhìn cây đào đẹp.', 'hãy subscribe cho kênh ghiền mì gõ để không bỏ lỡ những video hấp dẫn', 'cơn khát thêm dấu thuyền, bùng nổ vượt xa khả năng đạt ứng của cơ sở hạ tầng', 'tôi chơi dương cầm dòi', 'làm một trận cụ đủ lớn để có thể đụng vơ một cuộn phổ tay có kích thước tạm nhân 11', 'tôi muốn bàn thí cậy này', 'do còn lượng nước trong cục cồn nhiều hơn nên động cơ ít bị nóng hơn.', 'đây có thể là trứng cá đũa hoặc mụn trứng cá người lớn', 'tôi muốn có catalog', 'các tiếp mục múa tựa chưng cho mùa xuân', 'hồ bạch ngôn tư giam cửa tía huyền thoại và 5 gòm găng rửa rưng thông minh mông', 'tôi đang tìm một món đồ lưu nghiệp nhỏ', 'chúng tôi sẽ báo cho anh ngay khi chúng tôi tìm được.', 'còn dự án phát triển sản phẩm từ mây và gỗ đảm bảo bền vững do ủy ban xã quản lý tài trợ sẽ thiết lập hệ thống sản xuất bài bản cho các sản phẩm mây tre tại việt nam cũng như nào.', 'hãy mang cho tôi một cục xe phòng.', 'tôi bị táo bọn hiệu', 'đó là quan điện tình yêu ở phái đẹp', 'thấy cá ột soi dưới đè, mắt nôn nao trong ruột.', 'xe giơ tớ đi ngay', 'phó tổng thống bắc cử cũng khẳng định đội ngũ lãnh đạo kinh tế của ông đã lên kế hoạch thực hiện một gói trích thức kinh tế lửa với giá trị có thể lên tới 1.000 tỷ usd.', 'trong quá trình này, một số người quen là việt kiều đã bày tỏ ý với phố muốn mua dâm các người mẫu diễn viên.', 'rồi bây giờ mang cho tôi một ít nước uống', 'thuộc dục', 'hãy cho tiền vào thùng vé khi anh xuống xe.', 'sapa bây giờ là một trong những địa danh du lịch hấp dẫn nhất miền bắc.', 'mỗi con bò đều được đeo một chữ vòng cổ gắn pin', 'cho cô ấy một triệu tiền liệt kê từ khoản được không?', 'tôi muốn chuyển sang phòng khác.', 'có giảm giá cho chị ăn không?', 'cho tôi biết tên cô ấy', 'tất cả cũng chỉ xuất phát từ thói cả nể cố hữu dính mát sinh viên này thôi', 'có nhưng một vài xe đã hoàn tất cuộc đua', 'chào tôi nửa của tụi salem', 'nó hơi ngoặt', 'nhắc tivi', 'quyết kháo trọng ập của tiến sĩ hải', 'các nhà đầu tư đã lỡ ôm quyền mua, cổ phần đang rất phong man.', 'chúng ta có vài thịt nữa để làm', 'chúng ta có thể làm việc gì bù cho nó', 'nhìn lên phía trái, từ khu chung cư sẽ thấy nhà thờ phú cam', 'đừng bao giờ tự mình đi vào giường.', 'khoán chơi nào nằm ở tầng nào?', 'để hoàn thiện hơn hoặc thay đổi khi cần thiết.', 'vui lòng đưa tôi đến khu phố nguy hoa.', 'và ông lucas phải báo cáo cho ai?', 'từ bây giờ nó được gọi là thai y', 'đó là cuộc sống, đó cũng là bóng đá', 'chỉ lùi cắt nhặt thêm một ít ở phần lưới.', 'cô ấy sẽ muốn đậu xe đến 5 giờ', 'đây là mạng nhật phải không?', 'ách chật công phô tàu nước ngoài đã được báo chức chính xác', 'sau đó thảo đều nghiên cứu báo trở đến nhà cư nguyễn trãi, quốc lộ 1 để đặt báo giữa đường. thảo chuẩn bị cho lộ thì bị công an bắt quả ta.', 'tôi muốn một ít cà phê uống liền.', 'còn búp đê bằng gỗ này là nhiều tiền.', 'bật đèn phòng đọc', 'tuần này ông thầy có vô thường suy không?', 'dạ', 'vui lòng cho tôi một miền nữa', 'tivi tăng tiếng đến 4', 'anh có thể đối phòng tôi với một cái nhìn ra biển không?', 'tỉ như với món thiền trên ghế đá', 'rồi 1 đêm 4 trang, như vậy nó 30 trang', 'anh có bị trị ứng thực sự nặng không?', 'nó không đúng', 'làm ơn cho tiền lẻ', 'đến washington trả vẻ bao nhiêu', 'vâng, đó là vàng 18k', 'kì ai đang nghịch trái tim', 'khi đặt thang, tôi luôn nghe thấy một tiếng ôn lạ.', 'cại nhỏ có hanh tươi', 'trường tôi là một trường công lập.', 'anh có thể gửi nó không?', 'quý vị có uống thuốc của quý vị vào ban đêm không?', 'xin lỗi, bạn có thể chỉ giúp tôi ngân hàng gần nhất không?', 'và vui lòng thắt dây an toàn của khí khách.', 'cơ vấn thầy vô nghỉ', 'hãng xe hãng sang của đức sẽ giới thiệu mẫu ưu đãi đầu tiên thuộc danh môn sản phẩm của mình.', 'nó cũng phải kỹ thuật đi tù với hoạt động tốt, nó hờ làm thất phạt riêng rất lớn.', 'ừ tôi cảm thấy lành và buồn luôn có nơi nào để nằm không', 'tôi đang tìm một công việc mới.', 'trung được trúc nhập vào nhật bản vào thời đó trung tạo một vai cho quan trọng để thẳng một trận đấu', 'tôi muốn trả phòng, vậy vui lòng đến phòng tôi để mang hành lý của tôi.', 'ông được nhiều người biết đến', 'dĩ báo những người có tuổi tác ban đầu thường dành đặt về quá khứ, dĩ về những ngày dữ địa dự ngoài xã hội.', 'họ còn trang điểm nhảy môi giống như vậy', 'bạn có thể tìm được tờ ở một quầy mới gần đây', 'cại này mắc quá', 'va chạm với người chở ngốc, chiếc xe lật túp làm đối rất nhiều biển báo lẫn cột đẹp.', 'những chiếc thuộc sở hữu của một tổng đại lý ở đức vẫn chắc nhiều năm liền, nhưng hãng cũng không thoát khỏi cơ báo khủng hoảng.', 'kết thúc trận đấu các cầu thủ thường có trao đổi áo đấu cho nhau', 'nguyên lòng, đừng nói về giờ, chúng ta sẽ nói về nó trong cuộc họp báo.', 'trời có đem quan đảng dần không?', 'để nó cho tôi', 'mì văn thẳng và sữa cạo là 2 món được ưa chuông nhất tại đây', 'chúng tôi phải bay lúc 2h30', 'một áp thích thiên ấn độ']\n",
      "Tính toán WER\n",
      "Word Error Rate (WER): 26.72%\n"
     ]
    }
   ],
   "source": [
    "# Ghi kết quả dự đoán vào file transcript_result.txt\n",
    "with open(RESULT_FILE, \"w\", encoding=\"utf-8\") as f:\n",
    "    f.write(\"\\n\".join(results))\n",
    "\n",
    "print(f\"reference_text: {references}\")\n",
    "print(f\"hypothesis: {hypotheses}\")\n",
    "# Tính toán WER nếu có dữ liệu hợp lệ\n",
    "if references and hypotheses:\n",
    "    print(\"Tính toán WER\")\n",
    "    wer_score = jiwer.wer(references, hypotheses)\n",
    "    print(f\"Word Error Rate (WER): {wer_score:.2%}\")\n",
    "else:\n",
    "    print(\"Không có dữ liệu hợp lệ để tính WER.\")\n"
   ]
  },
  {
   "cell_type": "code",
   "execution_count": null,
   "id": "1ddcd313-c573-45bf-8ac0-1723dc78f059",
   "metadata": {},
   "outputs": [],
   "source": []
  }
 ],
 "metadata": {
  "kernelspec": {
   "display_name": "base",
   "language": "python",
   "name": "python3"
  },
  "language_info": {
   "codemirror_mode": {
    "name": "ipython",
    "version": 3
   },
   "file_extension": ".py",
   "mimetype": "text/x-python",
   "name": "python",
   "nbconvert_exporter": "python",
   "pygments_lexer": "ipython3",
   "version": "3.12.2"
  }
 },
 "nbformat": 4,
 "nbformat_minor": 5
}
