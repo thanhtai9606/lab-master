{
 "cells": [
  {
   "cell_type": "code",
   "execution_count": 1,
   "id": "ccb4b4c8-145e-473b-91a7-100cdee417a1",
   "metadata": {},
   "outputs": [],
   "source": [
    "# pip install openai-whisper jiwer"
   ]
  },
  {
   "cell_type": "code",
   "execution_count": 2,
   "id": "8ff3c37b",
   "metadata": {},
   "outputs": [],
   "source": [
    "# pip install ffmpeg"
   ]
  },
  {
   "cell_type": "code",
   "execution_count": 3,
   "id": "ddead78c-bba4-4b7b-b17a-dc129d3b3c24",
   "metadata": {},
   "outputs": [
    {
     "name": "stdout",
     "output_type": "stream",
     "text": [
      "import\n"
     ]
    }
   ],
   "source": [
    "import os\n",
    "import whisper\n",
    "import jiwer\n",
    "\n",
    "print(\"import\")"
   ]
  },
  {
   "cell_type": "code",
   "execution_count": 4,
   "id": "de38b478-d6ae-41ec-9559-90b2c867afab",
   "metadata": {},
   "outputs": [
    {
     "name": "stdout",
     "output_type": "stream",
     "text": [
      "Load model\n"
     ]
    }
   ],
   "source": [
    "# Định nghĩa đường dẫn thư mục\n",
    "AUDIO_FOLDER = \"./NoiseFilteredData/data\"\n",
    "TRANSCRIPT_FILE = \"./NoiseFilteredData/transcriptAll.txt\"\n",
    "RESULT_FILE = \"./NoiseFilteredData/transcript_result.txt\"\n",
    "\n",
    "# Load mô hình Whisper Large V3\n",
    "model = whisper.load_model(\"large-v3\")\n",
    "\n",
    "print(\"Load model\")"
   ]
  },
  {
   "cell_type": "code",
   "execution_count": 5,
   "id": "c5bdf0ba-b83f-4e34-be23-4ffcfa696016",
   "metadata": {},
   "outputs": [
    {
     "name": "stdout",
     "output_type": "stream",
     "text": [
      "Doc transcript\n",
      "Doc transcript - end\n"
     ]
    }
   ],
   "source": [
    "# Đọc transcript chuẩn\n",
    "print(\"Doc transcript\")\n",
    "ground_truths = {}\n",
    "with open(TRANSCRIPT_FILE, \"r\", encoding=\"utf-8\") as f:\n",
    "    for line in f:\n",
    "        parts = line.strip().split(\"|\")\n",
    "        if len(parts) >= 2:\n",
    "            filename, transcript, length = parts\n",
    "            ground_truths[filename] = transcript\n",
    "\n",
    "print(\"Doc transcript - end\")"
   ]
  },
  {
   "cell_type": "code",
   "execution_count": 6,
   "id": "c6605ce8-f0d2-41d0-9397-a6d49e7b1cf5",
   "metadata": {},
   "outputs": [
    {
     "name": "stdout",
     "output_type": "stream",
     "text": [
      "Xu ly tung file am thanh\n",
      "Processing: FPTOpenSpeechData_Set001_V0.1_000001.mp3\n"
     ]
    },
    {
     "name": "stderr",
     "output_type": "stream",
     "text": [
      "/home/ngo/anaconda3/lib/python3.12/site-packages/whisper/transcribe.py:126: UserWarning: FP16 is not supported on CPU; using FP32 instead\n",
      "  warnings.warn(\"FP16 is not supported on CPU; using FP32 instead\")\n"
     ]
    },
    {
     "name": "stdout",
     "output_type": "stream",
     "text": [
      "reference_text: cách để đi\n",
      "predicted_text: các địa đi\n",
      "Processing: FPTOpenSpeechData_Set001_V0.1_000002.mp3\n"
     ]
    },
    {
     "name": "stderr",
     "output_type": "stream",
     "text": [
      "/home/ngo/anaconda3/lib/python3.12/site-packages/whisper/transcribe.py:126: UserWarning: FP16 is not supported on CPU; using FP32 instead\n",
      "  warnings.warn(\"FP16 is not supported on CPU; using FP32 instead\")\n"
     ]
    },
    {
     "name": "stdout",
     "output_type": "stream",
     "text": [
      "reference_text: họ đã xét nghiệm máu cho cheng nhưng mọi thứ vẫn hoàn toàn bình thường\n",
      "predicted_text: họ đã trải nghiệm mọi các giáo viên mọi người vừa trả comment cho.\n",
      "Processing: FPTOpenSpeechData_Set001_V0.1_000003.mp3\n"
     ]
    },
    {
     "name": "stderr",
     "output_type": "stream",
     "text": [
      "/home/ngo/anaconda3/lib/python3.12/site-packages/whisper/transcribe.py:126: UserWarning: FP16 is not supported on CPU; using FP32 instead\n",
      "  warnings.warn(\"FP16 is not supported on CPU; using FP32 instead\")\n"
     ]
    },
    {
     "name": "stdout",
     "output_type": "stream",
     "text": [
      "reference_text: anh có thể gọi tôi không\n",
      "predicted_text: anh có thể gọi tôi không?\n",
      "Processing: FPTOpenSpeechData_Set001_V0.1_000004.mp3\n"
     ]
    },
    {
     "name": "stderr",
     "output_type": "stream",
     "text": [
      "/home/ngo/anaconda3/lib/python3.12/site-packages/whisper/transcribe.py:126: UserWarning: FP16 is not supported on CPU; using FP32 instead\n",
      "  warnings.warn(\"FP16 is not supported on CPU; using FP32 instead\")\n"
     ]
    },
    {
     "name": "stdout",
     "output_type": "stream",
     "text": [
      "reference_text: có rất nhiều yếu tố may rủi ở đây\n",
      "predicted_text: có rất nhiều yếu tố main ở đây.\n",
      "Processing: FPTOpenSpeechData_Set001_V0.1_000005.mp3\n"
     ]
    },
    {
     "name": "stderr",
     "output_type": "stream",
     "text": [
      "/home/ngo/anaconda3/lib/python3.12/site-packages/whisper/transcribe.py:126: UserWarning: FP16 is not supported on CPU; using FP32 instead\n",
      "  warnings.warn(\"FP16 is not supported on CPU; using FP32 instead\")\n"
     ]
    },
    {
     "name": "stdout",
     "output_type": "stream",
     "text": [
      "reference_text: ai là chúa nói dối\n",
      "predicted_text: ai là trường đối dối?\n",
      "Processing: FPTOpenSpeechData_Set001_V0.1_000006.mp3\n"
     ]
    },
    {
     "name": "stderr",
     "output_type": "stream",
     "text": [
      "/home/ngo/anaconda3/lib/python3.12/site-packages/whisper/transcribe.py:126: UserWarning: FP16 is not supported on CPU; using FP32 instead\n",
      "  warnings.warn(\"FP16 is not supported on CPU; using FP32 instead\")\n"
     ]
    },
    {
     "name": "stdout",
     "output_type": "stream",
     "text": [
      "reference_text: có cửa hàng tiện lợi ở sân bay không\n",
      "predicted_text: cuốn tự hành kiệt lại ở sân máy không?\n",
      "Processing: FPTOpenSpeechData_Set001_V0.1_000007.mp3\n"
     ]
    },
    {
     "name": "stderr",
     "output_type": "stream",
     "text": [
      "/home/ngo/anaconda3/lib/python3.12/site-packages/whisper/transcribe.py:126: UserWarning: FP16 is not supported on CPU; using FP32 instead\n",
      "  warnings.warn(\"FP16 is not supported on CPU; using FP32 instead\")\n"
     ]
    },
    {
     "name": "stdout",
     "output_type": "stream",
     "text": [
      "reference_text: anh đổi ngoại tệ được không\n",
      "predicted_text: anh đổi ngoại tệ được không?\n",
      "Processing: FPTOpenSpeechData_Set001_V0.1_000008.mp3\n"
     ]
    },
    {
     "name": "stderr",
     "output_type": "stream",
     "text": [
      "/home/ngo/anaconda3/lib/python3.12/site-packages/whisper/transcribe.py:126: UserWarning: FP16 is not supported on CPU; using FP32 instead\n",
      "  warnings.warn(\"FP16 is not supported on CPU; using FP32 instead\")\n"
     ]
    },
    {
     "name": "stdout",
     "output_type": "stream",
     "text": [
      "reference_text: cô ấy mua hai mươi trái chôm chôm và ba con cá\n",
      "predicted_text: cô ấy mua 2 nguồn cải tôm tôm và 3 con cá.\n",
      "Processing: FPTOpenSpeechData_Set001_V0.1_000009.mp3\n"
     ]
    },
    {
     "name": "stderr",
     "output_type": "stream",
     "text": [
      "/home/ngo/anaconda3/lib/python3.12/site-packages/whisper/transcribe.py:126: UserWarning: FP16 is not supported on CPU; using FP32 instead\n",
      "  warnings.warn(\"FP16 is not supported on CPU; using FP32 instead\")\n"
     ]
    },
    {
     "name": "stdout",
     "output_type": "stream",
     "text": [
      "reference_text: đứa bé có ói òng ọc ra sữa hoặc nước và bé chưa đến mười tuần tuổi hoặc có biểu hiện mất nước không\n",
      "predicted_text: đưa bè vào gói ông học gá sừa hoặc nước và bè chưa đến 10 tuần tuổi hoặc có biểu hiện mất nữa không?\n",
      "Processing: FPTOpenSpeechData_Set001_V0.1_000010.mp3\n"
     ]
    },
    {
     "name": "stderr",
     "output_type": "stream",
     "text": [
      "/home/ngo/anaconda3/lib/python3.12/site-packages/whisper/transcribe.py:126: UserWarning: FP16 is not supported on CPU; using FP32 instead\n",
      "  warnings.warn(\"FP16 is not supported on CPU; using FP32 instead\")\n"
     ]
    },
    {
     "name": "stdout",
     "output_type": "stream",
     "text": [
      "reference_text: tôi có thể viết tên địa chỉ số điện thoại của công ty bảo hiểm của anh được không\n",
      "predicted_text: tôi có thể viết tên, địa chỉ, số điện thoại của công ty bảo hiểm của anh được không?\n",
      "Processing: FPTOpenSpeechData_Set001_V0.1_000011.mp3\n"
     ]
    },
    {
     "name": "stderr",
     "output_type": "stream",
     "text": [
      "/home/ngo/anaconda3/lib/python3.12/site-packages/whisper/transcribe.py:126: UserWarning: FP16 is not supported on CPU; using FP32 instead\n",
      "  warnings.warn(\"FP16 is not supported on CPU; using FP32 instead\")\n"
     ]
    },
    {
     "name": "stdout",
     "output_type": "stream",
     "text": [
      "reference_text: đừng lo tôi vừa mới đến rồi\n",
      "predicted_text: đừng lo, tôi vừa mới đến rồi.\n",
      "Processing: FPTOpenSpeechData_Set001_V0.1_000012.mp3\n"
     ]
    },
    {
     "name": "stderr",
     "output_type": "stream",
     "text": [
      "/home/ngo/anaconda3/lib/python3.12/site-packages/whisper/transcribe.py:126: UserWarning: FP16 is not supported on CPU; using FP32 instead\n",
      "  warnings.warn(\"FP16 is not supported on CPU; using FP32 instead\")\n"
     ]
    },
    {
     "name": "stdout",
     "output_type": "stream",
     "text": [
      "reference_text: mười phút nữa vào giờ rưỡi\n",
      "predicted_text: 10 phút nữa vào giờ rưỡi\n",
      "Processing: FPTOpenSpeechData_Set001_V0.1_000013.mp3\n"
     ]
    },
    {
     "name": "stderr",
     "output_type": "stream",
     "text": [
      "/home/ngo/anaconda3/lib/python3.12/site-packages/whisper/transcribe.py:126: UserWarning: FP16 is not supported on CPU; using FP32 instead\n",
      "  warnings.warn(\"FP16 is not supported on CPU; using FP32 instead\")\n"
     ]
    },
    {
     "name": "stdout",
     "output_type": "stream",
     "text": [
      "reference_text: tôi có thể hẹn cho chiều mai không\n",
      "predicted_text: tôi có thể hẹn cho trường má có.\n",
      "Processing: FPTOpenSpeechData_Set001_V0.1_000014.mp3\n"
     ]
    },
    {
     "name": "stderr",
     "output_type": "stream",
     "text": [
      "/home/ngo/anaconda3/lib/python3.12/site-packages/whisper/transcribe.py:126: UserWarning: FP16 is not supported on CPU; using FP32 instead\n",
      "  warnings.warn(\"FP16 is not supported on CPU; using FP32 instead\")\n"
     ]
    },
    {
     "name": "stdout",
     "output_type": "stream",
     "text": [
      "reference_text: anh rửa hình kỹ thuật số ra được không\n",
      "predicted_text: anh vừa hình kỳ thật số ra được không?\n",
      "Processing: FPTOpenSpeechData_Set001_V0.1_000015.mp3\n"
     ]
    },
    {
     "name": "stderr",
     "output_type": "stream",
     "text": [
      "/home/ngo/anaconda3/lib/python3.12/site-packages/whisper/transcribe.py:126: UserWarning: FP16 is not supported on CPU; using FP32 instead\n",
      "  warnings.warn(\"FP16 is not supported on CPU; using FP32 instead\")\n"
     ]
    },
    {
     "name": "stdout",
     "output_type": "stream",
     "text": [
      "reference_text: tôi cố thu xếp thôi\n",
      "predicted_text: cảm ơn các bạn đã theo dõi và hẹn gặp lại.\n",
      "Processing: FPTOpenSpeechData_Set001_V0.1_000016.mp3\n"
     ]
    },
    {
     "name": "stderr",
     "output_type": "stream",
     "text": [
      "/home/ngo/anaconda3/lib/python3.12/site-packages/whisper/transcribe.py:126: UserWarning: FP16 is not supported on CPU; using FP32 instead\n",
      "  warnings.warn(\"FP16 is not supported on CPU; using FP32 instead\")\n"
     ]
    },
    {
     "name": "stdout",
     "output_type": "stream",
     "text": [
      "reference_text: tôi không dùng ma túy\n",
      "predicted_text: tôi không thường bắt tui\n",
      "Processing: FPTOpenSpeechData_Set001_V0.1_000017.mp3\n"
     ]
    },
    {
     "name": "stderr",
     "output_type": "stream",
     "text": [
      "/home/ngo/anaconda3/lib/python3.12/site-packages/whisper/transcribe.py:126: UserWarning: FP16 is not supported on CPU; using FP32 instead\n",
      "  warnings.warn(\"FP16 is not supported on CPU; using FP32 instead\")\n"
     ]
    },
    {
     "name": "stdout",
     "output_type": "stream",
     "text": [
      "reference_text: quân đội mỹ muốn chế tạo những máy tự động hoàn toàn vì những chiếc mà họ đang có vẫn cần được điều khiển bởi con người\n",
      "predicted_text: quân đội mỹ muốn chế tạo những máy tự động hoàn toàn vì những chiếc mà họ đang có vẫn cần được điều kiện với con người.\n",
      "Processing: FPTOpenSpeechData_Set001_V0.1_000018.mp3\n"
     ]
    },
    {
     "name": "stderr",
     "output_type": "stream",
     "text": [
      "/home/ngo/anaconda3/lib/python3.12/site-packages/whisper/transcribe.py:126: UserWarning: FP16 is not supported on CPU; using FP32 instead\n",
      "  warnings.warn(\"FP16 is not supported on CPU; using FP32 instead\")\n"
     ]
    },
    {
     "name": "stdout",
     "output_type": "stream",
     "text": [
      "reference_text: tôi quên túi đeo vai trong xe tắc xi\n",
      "predicted_text: tôi quên quỷ đeo vai trong khe đặc trì.\n",
      "Processing: FPTOpenSpeechData_Set001_V0.1_000019.mp3\n"
     ]
    },
    {
     "name": "stderr",
     "output_type": "stream",
     "text": [
      "/home/ngo/anaconda3/lib/python3.12/site-packages/whisper/transcribe.py:126: UserWarning: FP16 is not supported on CPU; using FP32 instead\n",
      "  warnings.warn(\"FP16 is not supported on CPU; using FP32 instead\")\n"
     ]
    },
    {
     "name": "stdout",
     "output_type": "stream",
     "text": [
      "reference_text: dư luận đã phản ánh lên cơ quan địa chính của thị trấn nhưng mãi chả thấy hồi âm\n",
      "predicted_text: dư luận đã phản ánh lên cơ quan địa chính của thị trấn nhưng mãi chả thấy hồi âm\n",
      "Processing: FPTOpenSpeechData_Set001_V0.1_000020.mp3\n"
     ]
    },
    {
     "name": "stderr",
     "output_type": "stream",
     "text": [
      "/home/ngo/anaconda3/lib/python3.12/site-packages/whisper/transcribe.py:126: UserWarning: FP16 is not supported on CPU; using FP32 instead\n",
      "  warnings.warn(\"FP16 is not supported on CPU; using FP32 instead\")\n"
     ]
    },
    {
     "name": "stdout",
     "output_type": "stream",
     "text": [
      "reference_text: giả danh làm từ thiện lừa tiền người dân\n",
      "predicted_text: giả danh làm từ thiện lùa tiền người dân\n",
      "Processing: FPTOpenSpeechData_Set001_V0.1_000021.mp3\n"
     ]
    },
    {
     "name": "stderr",
     "output_type": "stream",
     "text": [
      "/home/ngo/anaconda3/lib/python3.12/site-packages/whisper/transcribe.py:126: UserWarning: FP16 is not supported on CPU; using FP32 instead\n",
      "  warnings.warn(\"FP16 is not supported on CPU; using FP32 instead\")\n"
     ]
    },
    {
     "name": "stdout",
     "output_type": "stream",
     "text": [
      "reference_text: sắm đồ siêu sang ở hội chợ triệu phú\n",
      "predicted_text: sắp đổ siêu sát ở chợ triệu u.\n",
      "Processing: FPTOpenSpeechData_Set001_V0.1_000022.mp3\n"
     ]
    },
    {
     "name": "stderr",
     "output_type": "stream",
     "text": [
      "/home/ngo/anaconda3/lib/python3.12/site-packages/whisper/transcribe.py:126: UserWarning: FP16 is not supported on CPU; using FP32 instead\n",
      "  warnings.warn(\"FP16 is not supported on CPU; using FP32 instead\")\n"
     ]
    },
    {
     "name": "stdout",
     "output_type": "stream",
     "text": [
      "reference_text: nếu làm lộ thiên cơ âm binh sẽ đánh trả thầy\n",
      "predicted_text: nếu làm lộn viên cơ âm binh sẽ đánh trả thầy\n",
      "Processing: FPTOpenSpeechData_Set001_V0.1_000023.mp3\n"
     ]
    },
    {
     "name": "stderr",
     "output_type": "stream",
     "text": [
      "/home/ngo/anaconda3/lib/python3.12/site-packages/whisper/transcribe.py:126: UserWarning: FP16 is not supported on CPU; using FP32 instead\n",
      "  warnings.warn(\"FP16 is not supported on CPU; using FP32 instead\")\n"
     ]
    },
    {
     "name": "stdout",
     "output_type": "stream",
     "text": [
      "reference_text: máy ném bom chiến lược của nga gặp nạn\n",
      "predicted_text: máy ném bom chiến lược của nga gặp lại\n",
      "Processing: FPTOpenSpeechData_Set001_V0.1_000024.mp3\n"
     ]
    },
    {
     "name": "stderr",
     "output_type": "stream",
     "text": [
      "/home/ngo/anaconda3/lib/python3.12/site-packages/whisper/transcribe.py:126: UserWarning: FP16 is not supported on CPU; using FP32 instead\n",
      "  warnings.warn(\"FP16 is not supported on CPU; using FP32 instead\")\n"
     ]
    },
    {
     "name": "stdout",
     "output_type": "stream",
     "text": [
      "reference_text: anh có thích tôi giữ trước quyển sách này cho anh không\n",
      "predicted_text: anh có thích tôi giữ trước quyển sách này cho anh không?\n",
      "Processing: FPTOpenSpeechData_Set001_V0.1_000025.mp3\n"
     ]
    },
    {
     "name": "stderr",
     "output_type": "stream",
     "text": [
      "/home/ngo/anaconda3/lib/python3.12/site-packages/whisper/transcribe.py:126: UserWarning: FP16 is not supported on CPU; using FP32 instead\n",
      "  warnings.warn(\"FP16 is not supported on CPU; using FP32 instead\")\n"
     ]
    },
    {
     "name": "stdout",
     "output_type": "stream",
     "text": [
      "reference_text: ở người bị hội chứng khi ăn ngủ phần não phải vẫn thức và sau đó là cả các dạng hoạt động thể chất\n",
      "predicted_text: ở người bị hộ trứng, khi ăn ngủ, phần não phải dẫn thức và sau đó là cả các loại hoạt động thể chất.\n",
      "Processing: FPTOpenSpeechData_Set001_V0.1_000026.mp3\n"
     ]
    },
    {
     "name": "stderr",
     "output_type": "stream",
     "text": [
      "/home/ngo/anaconda3/lib/python3.12/site-packages/whisper/transcribe.py:126: UserWarning: FP16 is not supported on CPU; using FP32 instead\n",
      "  warnings.warn(\"FP16 is not supported on CPU; using FP32 instead\")\n"
     ]
    },
    {
     "name": "stdout",
     "output_type": "stream",
     "text": [
      "reference_text: tỉ lệ là mười mm trên một km\n",
      "predicted_text: tỷ lệ là 10mm trên 1km\n",
      "Processing: FPTOpenSpeechData_Set001_V0.1_000027.mp3\n"
     ]
    },
    {
     "name": "stderr",
     "output_type": "stream",
     "text": [
      "/home/ngo/anaconda3/lib/python3.12/site-packages/whisper/transcribe.py:126: UserWarning: FP16 is not supported on CPU; using FP32 instead\n",
      "  warnings.warn(\"FP16 is not supported on CPU; using FP32 instead\")\n"
     ]
    },
    {
     "name": "stdout",
     "output_type": "stream",
     "text": [
      "reference_text: tôi muốn thực hiện một cuộc gọi điện thoại quốc tế đi nhật bản cuộc gọi -n là đến tokyo số ba hai chín hai tám hai một một\n",
      "predicted_text: cảm ơn các bạn đã xem video này. hẹn gặp lại các bạn trong những video tiếp theo.\n",
      "Processing: FPTOpenSpeechData_Set001_V0.1_000028.mp3\n"
     ]
    },
    {
     "name": "stderr",
     "output_type": "stream",
     "text": [
      "/home/ngo/anaconda3/lib/python3.12/site-packages/whisper/transcribe.py:126: UserWarning: FP16 is not supported on CPU; using FP32 instead\n",
      "  warnings.warn(\"FP16 is not supported on CPU; using FP32 instead\")\n"
     ]
    },
    {
     "name": "stdout",
     "output_type": "stream",
     "text": [
      "reference_text: nơi đây hiện khá yên tĩnh\n",
      "predicted_text: lời đây hiện khả duyệt gì?\n",
      "Processing: FPTOpenSpeechData_Set001_V0.1_000029.mp3\n"
     ]
    },
    {
     "name": "stderr",
     "output_type": "stream",
     "text": [
      "/home/ngo/anaconda3/lib/python3.12/site-packages/whisper/transcribe.py:126: UserWarning: FP16 is not supported on CPU; using FP32 instead\n",
      "  warnings.warn(\"FP16 is not supported on CPU; using FP32 instead\")\n"
     ]
    },
    {
     "name": "stdout",
     "output_type": "stream",
     "text": [
      "reference_text: nhưng cũng có những bạn nằm khèo ở nhà trùm mềm và khóc nhè\n",
      "predicted_text: nhưng cũng có những bạn nằm kèo ở nhà trầm mền và cọc nhè.\n",
      "Processing: FPTOpenSpeechData_Set001_V0.1_000030.mp3\n"
     ]
    },
    {
     "name": "stderr",
     "output_type": "stream",
     "text": [
      "/home/ngo/anaconda3/lib/python3.12/site-packages/whisper/transcribe.py:126: UserWarning: FP16 is not supported on CPU; using FP32 instead\n",
      "  warnings.warn(\"FP16 is not supported on CPU; using FP32 instead\")\n"
     ]
    },
    {
     "name": "stdout",
     "output_type": "stream",
     "text": [
      "reference_text: chúng ta không thể mua cái nào ở nhật bản\n",
      "predicted_text: chúng ta không thể mua cái nào ở nhật bản.\n",
      "Processing: FPTOpenSpeechData_Set001_V0.1_000031.mp3\n"
     ]
    },
    {
     "name": "stderr",
     "output_type": "stream",
     "text": [
      "/home/ngo/anaconda3/lib/python3.12/site-packages/whisper/transcribe.py:126: UserWarning: FP16 is not supported on CPU; using FP32 instead\n",
      "  warnings.warn(\"FP16 is not supported on CPU; using FP32 instead\")\n"
     ]
    },
    {
     "name": "stdout",
     "output_type": "stream",
     "text": [
      "reference_text: cho vừa với số kinh phí hạn hẹp của một bộ phim\n",
      "predicted_text: cho vừa với số tiến phí hạn hệ của một bộ phim.\n",
      "Processing: FPTOpenSpeechData_Set001_V0.1_000032.mp3\n"
     ]
    },
    {
     "name": "stderr",
     "output_type": "stream",
     "text": [
      "/home/ngo/anaconda3/lib/python3.12/site-packages/whisper/transcribe.py:126: UserWarning: FP16 is not supported on CPU; using FP32 instead\n",
      "  warnings.warn(\"FP16 is not supported on CPU; using FP32 instead\")\n"
     ]
    },
    {
     "name": "stdout",
     "output_type": "stream",
     "text": [
      "reference_text: kịch sến nhiều tập làm tôi oải quá tôi sẽ tắt tv\n",
      "predicted_text: kịch sến nhiều tập, làm tôi oãi quá. tôi sẽ tắt tv.\n",
      "Processing: FPTOpenSpeechData_Set001_V0.1_000033.mp3\n"
     ]
    },
    {
     "name": "stderr",
     "output_type": "stream",
     "text": [
      "/home/ngo/anaconda3/lib/python3.12/site-packages/whisper/transcribe.py:126: UserWarning: FP16 is not supported on CPU; using FP32 instead\n",
      "  warnings.warn(\"FP16 is not supported on CPU; using FP32 instead\")\n"
     ]
    },
    {
     "name": "stdout",
     "output_type": "stream",
     "text": [
      "reference_text: chính vì thế những người phải sống một thời gian dài trong không gian có thể gặp rủi ro\n",
      "predicted_text: chính vì thế, những người phải sống một thời gian dài trong không gian có thể gặp tự do.\n",
      "Processing: FPTOpenSpeechData_Set001_V0.1_000034.mp3\n"
     ]
    },
    {
     "name": "stderr",
     "output_type": "stream",
     "text": [
      "/home/ngo/anaconda3/lib/python3.12/site-packages/whisper/transcribe.py:126: UserWarning: FP16 is not supported on CPU; using FP32 instead\n",
      "  warnings.warn(\"FP16 is not supported on CPU; using FP32 instead\")\n"
     ]
    },
    {
     "name": "stdout",
     "output_type": "stream",
     "text": [
      "reference_text: thực ra thà không đến nỗi mơ mộng đến mê muội để chẳng hiểu tấm lòng của những người thân thông qua lời khuyên nhủ\n",
      "predicted_text: thực ra thà không đến nỗi mơ mộng đến mê mùi để chẳng hiểu tâm lòng của những người thân thân qua lời thương ngữ.\n",
      "Processing: FPTOpenSpeechData_Set001_V0.1_000035.mp3\n"
     ]
    },
    {
     "name": "stderr",
     "output_type": "stream",
     "text": [
      "/home/ngo/anaconda3/lib/python3.12/site-packages/whisper/transcribe.py:126: UserWarning: FP16 is not supported on CPU; using FP32 instead\n",
      "  warnings.warn(\"FP16 is not supported on CPU; using FP32 instead\")\n"
     ]
    },
    {
     "name": "stdout",
     "output_type": "stream",
     "text": [
      "reference_text: bán đấu giá mỹ nữ\n",
      "predicted_text: bạn đồng giả phí nữ\n",
      "Processing: FPTOpenSpeechData_Set001_V0.1_000036.mp3\n"
     ]
    },
    {
     "name": "stderr",
     "output_type": "stream",
     "text": [
      "/home/ngo/anaconda3/lib/python3.12/site-packages/whisper/transcribe.py:126: UserWarning: FP16 is not supported on CPU; using FP32 instead\n",
      "  warnings.warn(\"FP16 is not supported on CPU; using FP32 instead\")\n"
     ]
    },
    {
     "name": "stdout",
     "output_type": "stream",
     "text": [
      "reference_text: địa chỉ email của tôi là s t e f a n dot m a r t e n s \\r\\n @ gmx dot de\n",
      "predicted_text: để ký email của tôi là stefan.martens a1\n",
      "Processing: FPTOpenSpeechData_Set001_V0.1_000037.mp3\n"
     ]
    },
    {
     "name": "stderr",
     "output_type": "stream",
     "text": [
      "/home/ngo/anaconda3/lib/python3.12/site-packages/whisper/transcribe.py:126: UserWarning: FP16 is not supported on CPU; using FP32 instead\n",
      "  warnings.warn(\"FP16 is not supported on CPU; using FP32 instead\")\n"
     ]
    },
    {
     "name": "stdout",
     "output_type": "stream",
     "text": [
      "reference_text: hôm thứ năm ủy ban bầu cử thái lan cho rằng đảng của người thái yêu người thái đã phạm hai luật trong chiến dịch tranh cử vừa qua\n",
      "predicted_text: nhưng năm, quỹ ban bầu quỷ thái lan cho rằng đảng của người thái yêu người thái đã phọng hai luật trong chính trị trách cử vừa qua.\n",
      "Processing: FPTOpenSpeechData_Set001_V0.1_000038.mp3\n"
     ]
    },
    {
     "name": "stderr",
     "output_type": "stream",
     "text": [
      "/home/ngo/anaconda3/lib/python3.12/site-packages/whisper/transcribe.py:126: UserWarning: FP16 is not supported on CPU; using FP32 instead\n",
      "  warnings.warn(\"FP16 is not supported on CPU; using FP32 instead\")\n"
     ]
    },
    {
     "name": "stdout",
     "output_type": "stream",
     "text": [
      "reference_text: không thể xem lần vấp ngã ấy là tai\n",
      "predicted_text: không thể xem rằng bậc nhà ấy là ai.\n",
      "Processing: FPTOpenSpeechData_Set001_V0.1_000039.mp3\n"
     ]
    },
    {
     "name": "stderr",
     "output_type": "stream",
     "text": [
      "/home/ngo/anaconda3/lib/python3.12/site-packages/whisper/transcribe.py:126: UserWarning: FP16 is not supported on CPU; using FP32 instead\n",
      "  warnings.warn(\"FP16 is not supported on CPU; using FP32 instead\")\n"
     ]
    },
    {
     "name": "stdout",
     "output_type": "stream",
     "text": [
      "reference_text: cướp bóc trong khi hỏa hoạn\n",
      "predicted_text: các bạn đừng kêu hòa hoạt.\n",
      "Processing: FPTOpenSpeechData_Set001_V0.1_000040.mp3\n"
     ]
    },
    {
     "name": "stderr",
     "output_type": "stream",
     "text": [
      "/home/ngo/anaconda3/lib/python3.12/site-packages/whisper/transcribe.py:126: UserWarning: FP16 is not supported on CPU; using FP32 instead\n",
      "  warnings.warn(\"FP16 is not supported on CPU; using FP32 instead\")\n"
     ]
    },
    {
     "name": "stdout",
     "output_type": "stream",
     "text": [
      "reference_text: một dân tộc từng không có người từ á sang âu -n\n",
      "predicted_text: mình dán cập tinh vốn bỏ ngay dưới a sau a sẽ được.\n",
      "Processing: FPTOpenSpeechData_Set001_V0.1_000041.mp3\n"
     ]
    },
    {
     "name": "stderr",
     "output_type": "stream",
     "text": [
      "/home/ngo/anaconda3/lib/python3.12/site-packages/whisper/transcribe.py:126: UserWarning: FP16 is not supported on CPU; using FP32 instead\n",
      "  warnings.warn(\"FP16 is not supported on CPU; using FP32 instead\")\n"
     ]
    },
    {
     "name": "stdout",
     "output_type": "stream",
     "text": [
      "reference_text: tết đầu tiên xa việt nam của cháu quả là ý nghĩa\n",
      "predicted_text: tết đầu tiên xa việt nam của cháu quả là ý nghĩa.\n",
      "Processing: FPTOpenSpeechData_Set001_V0.1_000042.mp3\n"
     ]
    },
    {
     "name": "stderr",
     "output_type": "stream",
     "text": [
      "/home/ngo/anaconda3/lib/python3.12/site-packages/whisper/transcribe.py:126: UserWarning: FP16 is not supported on CPU; using FP32 instead\n",
      "  warnings.warn(\"FP16 is not supported on CPU; using FP32 instead\")\n"
     ]
    },
    {
     "name": "stdout",
     "output_type": "stream",
     "text": [
      "reference_text: trong làng ai cũng quý mến gia đình anh phú\n",
      "predicted_text: trong làn ai cũng quý ngến gia đình anh phú.\n",
      "Processing: FPTOpenSpeechData_Set001_V0.1_000043.mp3\n"
     ]
    },
    {
     "name": "stderr",
     "output_type": "stream",
     "text": [
      "/home/ngo/anaconda3/lib/python3.12/site-packages/whisper/transcribe.py:126: UserWarning: FP16 is not supported on CPU; using FP32 instead\n",
      "  warnings.warn(\"FP16 is not supported on CPU; using FP32 instead\")\n"
     ]
    },
    {
     "name": "stdout",
     "output_type": "stream",
     "text": [
      "reference_text: xin chào gia đình tanaka\n",
      "predicted_text: xin chào, chào tạm biệt.\n",
      "Processing: FPTOpenSpeechData_Set001_V0.1_000044.mp3\n"
     ]
    },
    {
     "name": "stderr",
     "output_type": "stream",
     "text": [
      "/home/ngo/anaconda3/lib/python3.12/site-packages/whisper/transcribe.py:126: UserWarning: FP16 is not supported on CPU; using FP32 instead\n",
      "  warnings.warn(\"FP16 is not supported on CPU; using FP32 instead\")\n"
     ]
    },
    {
     "name": "stdout",
     "output_type": "stream",
     "text": [
      "reference_text: anh đã làm rất tệ\n",
      "predicted_text: anh ta làm rất tệ.\n",
      "Processing: FPTOpenSpeechData_Set001_V0.1_000045.mp3\n"
     ]
    },
    {
     "name": "stderr",
     "output_type": "stream",
     "text": [
      "/home/ngo/anaconda3/lib/python3.12/site-packages/whisper/transcribe.py:126: UserWarning: FP16 is not supported on CPU; using FP32 instead\n",
      "  warnings.warn(\"FP16 is not supported on CPU; using FP32 instead\")\n"
     ]
    },
    {
     "name": "stdout",
     "output_type": "stream",
     "text": [
      "reference_text: cô ta nghi ngờ lúc mình say rượu đã bị toán cưỡng bức\n",
      "predicted_text: hãy subscribe cho kênh ghiền mì gõ để không bỏ lỡ những video hấp dẫn\n",
      "Processing: FPTOpenSpeechData_Set001_V0.1_000046.mp3\n"
     ]
    },
    {
     "name": "stderr",
     "output_type": "stream",
     "text": [
      "/home/ngo/anaconda3/lib/python3.12/site-packages/whisper/transcribe.py:126: UserWarning: FP16 is not supported on CPU; using FP32 instead\n",
      "  warnings.warn(\"FP16 is not supported on CPU; using FP32 instead\")\n"
     ]
    },
    {
     "name": "stdout",
     "output_type": "stream",
     "text": [
      "reference_text: ông muốn nhãn hiệu bia nào\n",
      "predicted_text: còn mỗi đợt đợt điện nào\n",
      "Processing: FPTOpenSpeechData_Set001_V0.1_000047.mp3\n"
     ]
    },
    {
     "name": "stderr",
     "output_type": "stream",
     "text": [
      "/home/ngo/anaconda3/lib/python3.12/site-packages/whisper/transcribe.py:126: UserWarning: FP16 is not supported on CPU; using FP32 instead\n",
      "  warnings.warn(\"FP16 is not supported on CPU; using FP32 instead\")\n"
     ]
    },
    {
     "name": "stdout",
     "output_type": "stream",
     "text": [
      "reference_text: anh có dừng tại khách sạn begin không\n",
      "predicted_text: anh quên rừng tại khách sạn đi hình không?\n",
      "Processing: FPTOpenSpeechData_Set001_V0.1_000048.mp3\n"
     ]
    },
    {
     "name": "stderr",
     "output_type": "stream",
     "text": [
      "/home/ngo/anaconda3/lib/python3.12/site-packages/whisper/transcribe.py:126: UserWarning: FP16 is not supported on CPU; using FP32 instead\n",
      "  warnings.warn(\"FP16 is not supported on CPU; using FP32 instead\")\n"
     ]
    },
    {
     "name": "stdout",
     "output_type": "stream",
     "text": [
      "reference_text: bật điều hòa nhiệt độ\n",
      "predicted_text: mật liêu hoa nhiệt độ\n",
      "Processing: FPTOpenSpeechData_Set001_V0.1_000049.mp3\n"
     ]
    },
    {
     "name": "stderr",
     "output_type": "stream",
     "text": [
      "/home/ngo/anaconda3/lib/python3.12/site-packages/whisper/transcribe.py:126: UserWarning: FP16 is not supported on CPU; using FP32 instead\n",
      "  warnings.warn(\"FP16 is not supported on CPU; using FP32 instead\")\n"
     ]
    },
    {
     "name": "stdout",
     "output_type": "stream",
     "text": [
      "reference_text: nhiều chàng trai để ý và theo dõi bạn\n",
      "predicted_text: nhưng chàng trai để ý và theo dõi bà.\n",
      "Processing: FPTOpenSpeechData_Set001_V0.1_000050.mp3\n"
     ]
    },
    {
     "name": "stderr",
     "output_type": "stream",
     "text": [
      "/home/ngo/anaconda3/lib/python3.12/site-packages/whisper/transcribe.py:126: UserWarning: FP16 is not supported on CPU; using FP32 instead\n",
      "  warnings.warn(\"FP16 is not supported on CPU; using FP32 instead\")\n"
     ]
    },
    {
     "name": "stdout",
     "output_type": "stream",
     "text": [
      "reference_text: chúng ta hãy tung một đồng tiền để quyết định\n",
      "predicted_text: chúng ta hãy chấp nhận một động tiền để quyết định.\n",
      "Processing: FPTOpenSpeechData_Set001_V0.1_000051.mp3\n"
     ]
    },
    {
     "name": "stderr",
     "output_type": "stream",
     "text": [
      "/home/ngo/anaconda3/lib/python3.12/site-packages/whisper/transcribe.py:126: UserWarning: FP16 is not supported on CPU; using FP32 instead\n",
      "  warnings.warn(\"FP16 is not supported on CPU; using FP32 instead\")\n"
     ]
    },
    {
     "name": "stdout",
     "output_type": "stream",
     "text": [
      "reference_text: tôi nghe đĩa cd này được không\n",
      "predicted_text: cô nghe điểm chi tiết này được không?\n",
      "Processing: FPTOpenSpeechData_Set001_V0.1_000052.mp3\n"
     ]
    },
    {
     "name": "stderr",
     "output_type": "stream",
     "text": [
      "/home/ngo/anaconda3/lib/python3.12/site-packages/whisper/transcribe.py:126: UserWarning: FP16 is not supported on CPU; using FP32 instead\n",
      "  warnings.warn(\"FP16 is not supported on CPU; using FP32 instead\")\n"
     ]
    },
    {
     "name": "stdout",
     "output_type": "stream",
     "text": [
      "reference_text: nguyễn văn vũ vừa tử nạn vì hỗ trợ đuổi bắt tội phạm ngày mười ba tháng một công an xã cẩm trạch huyện cần cẩu cho biết một người lái xe khách hai bảy tuổi đã tử nạn khi giúp một phụ nữ bị bảy tên khống chế cướp tài sản\n",
      "predicted_text: nguyễn văn vũ vừa tử lạng vì hỗ trợ đuổi bắt tội phạm. ngày 13 tháng 1, công an xã cẩm trạch, nguyện cần cầu cho biết một người lái xe khách 27 tuổi đã tử lạng khi giúp một phụ nữ bị bệnh tên công chế cướp tài sản.\n",
      "Processing: FPTOpenSpeechData_Set001_V0.1_000053.mp3\n"
     ]
    },
    {
     "name": "stderr",
     "output_type": "stream",
     "text": [
      "/home/ngo/anaconda3/lib/python3.12/site-packages/whisper/transcribe.py:126: UserWarning: FP16 is not supported on CPU; using FP32 instead\n",
      "  warnings.warn(\"FP16 is not supported on CPU; using FP32 instead\")\n"
     ]
    },
    {
     "name": "stdout",
     "output_type": "stream",
     "text": [
      "reference_text: hai con voi này rất hung dữ và phá nát nhiều hoa màu của người dân trong khu vực\n",
      "predicted_text: hai con voi này rất hung dữ và phá nát nhiều hoa màu của người dân trong khu vực.\n",
      "Processing: FPTOpenSpeechData_Set001_V0.1_000054.mp3\n"
     ]
    },
    {
     "name": "stderr",
     "output_type": "stream",
     "text": [
      "/home/ngo/anaconda3/lib/python3.12/site-packages/whisper/transcribe.py:126: UserWarning: FP16 is not supported on CPU; using FP32 instead\n",
      "  warnings.warn(\"FP16 is not supported on CPU; using FP32 instead\")\n"
     ]
    },
    {
     "name": "stdout",
     "output_type": "stream",
     "text": [
      "reference_text: anh có bị đau do mệt mỏi không\n",
      "predicted_text: anh có bị đau dô mịt mỏi không?\n",
      "Processing: FPTOpenSpeechData_Set001_V0.1_000055.mp3\n"
     ]
    },
    {
     "name": "stderr",
     "output_type": "stream",
     "text": [
      "/home/ngo/anaconda3/lib/python3.12/site-packages/whisper/transcribe.py:126: UserWarning: FP16 is not supported on CPU; using FP32 instead\n",
      "  warnings.warn(\"FP16 is not supported on CPU; using FP32 instead\")\n"
     ]
    },
    {
     "name": "stdout",
     "output_type": "stream",
     "text": [
      "reference_text: bạn có muốn tôi dịch cái này cho bạn không tôi nói tiếng nhật\n",
      "predicted_text: bạn gọi một tôi dịch chạy này cho bạn không? tôi đã trực nhập.\n",
      "Processing: FPTOpenSpeechData_Set001_V0.1_000056.mp3\n"
     ]
    },
    {
     "name": "stderr",
     "output_type": "stream",
     "text": [
      "/home/ngo/anaconda3/lib/python3.12/site-packages/whisper/transcribe.py:126: UserWarning: FP16 is not supported on CPU; using FP32 instead\n",
      "  warnings.warn(\"FP16 is not supported on CPU; using FP32 instead\")\n"
     ]
    },
    {
     "name": "stdout",
     "output_type": "stream",
     "text": [
      "reference_text: vâng giá sẽ là ba trăm yên\n",
      "predicted_text: răng giá sẽ là 3 trần y.\n",
      "Processing: FPTOpenSpeechData_Set001_V0.1_000057.mp3\n"
     ]
    },
    {
     "name": "stderr",
     "output_type": "stream",
     "text": [
      "/home/ngo/anaconda3/lib/python3.12/site-packages/whisper/transcribe.py:126: UserWarning: FP16 is not supported on CPU; using FP32 instead\n",
      "  warnings.warn(\"FP16 is not supported on CPU; using FP32 instead\")\n"
     ]
    },
    {
     "name": "stdout",
     "output_type": "stream",
     "text": [
      "reference_text: và như thế những điều tốt đẹp\n",
      "predicted_text: và như thế những điều tốt đẹp.\n",
      "Processing: FPTOpenSpeechData_Set001_V0.1_000058.mp3\n"
     ]
    },
    {
     "name": "stderr",
     "output_type": "stream",
     "text": [
      "/home/ngo/anaconda3/lib/python3.12/site-packages/whisper/transcribe.py:126: UserWarning: FP16 is not supported on CPU; using FP32 instead\n",
      "  warnings.warn(\"FP16 is not supported on CPU; using FP32 instead\")\n"
     ]
    },
    {
     "name": "stdout",
     "output_type": "stream",
     "text": [
      "reference_text: tăng nhiệt độ lên hai mươi mốt độ\n",
      "predicted_text: tăng nhiệt độ lên 21 độ\n",
      "Processing: FPTOpenSpeechData_Set001_V0.1_000059.mp3\n"
     ]
    },
    {
     "name": "stderr",
     "output_type": "stream",
     "text": [
      "/home/ngo/anaconda3/lib/python3.12/site-packages/whisper/transcribe.py:126: UserWarning: FP16 is not supported on CPU; using FP32 instead\n",
      "  warnings.warn(\"FP16 is not supported on CPU; using FP32 instead\")\n"
     ]
    },
    {
     "name": "stdout",
     "output_type": "stream",
     "text": [
      "reference_text: -n ở sheraton\n",
      "predicted_text: thương sinh người ta\n",
      "Processing: FPTOpenSpeechData_Set001_V0.1_000060.mp3\n"
     ]
    },
    {
     "name": "stderr",
     "output_type": "stream",
     "text": [
      "/home/ngo/anaconda3/lib/python3.12/site-packages/whisper/transcribe.py:126: UserWarning: FP16 is not supported on CPU; using FP32 instead\n",
      "  warnings.warn(\"FP16 is not supported on CPU; using FP32 instead\")\n"
     ]
    },
    {
     "name": "stdout",
     "output_type": "stream",
     "text": [
      "reference_text: tốt hơn là tôi nên đi bây giờ\n",
      "predicted_text: đối thân hạt đôi nguyên lưu trung sổ.\n",
      "Processing: FPTOpenSpeechData_Set001_V0.1_000061.mp3\n"
     ]
    },
    {
     "name": "stderr",
     "output_type": "stream",
     "text": [
      "/home/ngo/anaconda3/lib/python3.12/site-packages/whisper/transcribe.py:126: UserWarning: FP16 is not supported on CPU; using FP32 instead\n",
      "  warnings.warn(\"FP16 is not supported on CPU; using FP32 instead\")\n"
     ]
    },
    {
     "name": "stdout",
     "output_type": "stream",
     "text": [
      "reference_text: kỳ tích có thể để lại quyền lực bởi một nhà độc tài dầu mỏ nhưng cũng có thể giúp thể chế hóa những phong trào chống mỹ diễn ra tại khu vực trung đông\n",
      "predicted_text: quý thích có thể để lại tiền lực với một nhà đặc tài giàu mạo, nhưng cũng có thể giúp thể chế hóa những thông trào chứng minh chuyên gia tại khu vực trung đông.\n",
      "Processing: FPTOpenSpeechData_Set001_V0.1_000062.mp3\n"
     ]
    },
    {
     "name": "stderr",
     "output_type": "stream",
     "text": [
      "/home/ngo/anaconda3/lib/python3.12/site-packages/whisper/transcribe.py:126: UserWarning: FP16 is not supported on CPU; using FP32 instead\n",
      "  warnings.warn(\"FP16 is not supported on CPU; using FP32 instead\")\n"
     ]
    },
    {
     "name": "stdout",
     "output_type": "stream",
     "text": [
      "reference_text: lãnh đạo ngành ô tô mỹ nên từ chức\n",
      "predicted_text: lạch đạo ngặt ô tô mỹ nơi từ chức\n",
      "Processing: FPTOpenSpeechData_Set001_V0.1_000063.mp3\n"
     ]
    },
    {
     "name": "stderr",
     "output_type": "stream",
     "text": [
      "/home/ngo/anaconda3/lib/python3.12/site-packages/whisper/transcribe.py:126: UserWarning: FP16 is not supported on CPU; using FP32 instead\n",
      "  warnings.warn(\"FP16 is not supported on CPU; using FP32 instead\")\n"
     ]
    },
    {
     "name": "stdout",
     "output_type": "stream",
     "text": [
      "reference_text: cô ấy biết\n",
      "predicted_text: cô ấy biết\n",
      "Processing: FPTOpenSpeechData_Set001_V0.1_000064.mp3\n"
     ]
    },
    {
     "name": "stderr",
     "output_type": "stream",
     "text": [
      "/home/ngo/anaconda3/lib/python3.12/site-packages/whisper/transcribe.py:126: UserWarning: FP16 is not supported on CPU; using FP32 instead\n",
      "  warnings.warn(\"FP16 is not supported on CPU; using FP32 instead\")\n"
     ]
    },
    {
     "name": "stdout",
     "output_type": "stream",
     "text": [
      "reference_text: từng sợi thương li ti kết lại\n",
      "predicted_text: từng sợi thương ly ti kết lại\n",
      "Processing: FPTOpenSpeechData_Set001_V0.1_000065.mp3\n"
     ]
    },
    {
     "name": "stderr",
     "output_type": "stream",
     "text": [
      "/home/ngo/anaconda3/lib/python3.12/site-packages/whisper/transcribe.py:126: UserWarning: FP16 is not supported on CPU; using FP32 instead\n",
      "  warnings.warn(\"FP16 is not supported on CPU; using FP32 instead\")\n"
     ]
    },
    {
     "name": "stdout",
     "output_type": "stream",
     "text": [
      "reference_text: mồ hôi là một trong những phương tiện để cơ thể thải cặn bã ra ngoài\n",
      "predicted_text: bồ hôi là một trong những phương tiện để cơ thể thảy cặn bã ra ngoài.\n",
      "Processing: FPTOpenSpeechData_Set001_V0.1_000066.mp3\n"
     ]
    },
    {
     "name": "stderr",
     "output_type": "stream",
     "text": [
      "/home/ngo/anaconda3/lib/python3.12/site-packages/whisper/transcribe.py:126: UserWarning: FP16 is not supported on CPU; using FP32 instead\n",
      "  warnings.warn(\"FP16 is not supported on CPU; using FP32 instead\")\n"
     ]
    },
    {
     "name": "stdout",
     "output_type": "stream",
     "text": [
      "reference_text: ti vi k+ một\n",
      "predicted_text: tvk cộng 1\n",
      "Processing: FPTOpenSpeechData_Set001_V0.1_000067.mp3\n"
     ]
    },
    {
     "name": "stderr",
     "output_type": "stream",
     "text": [
      "/home/ngo/anaconda3/lib/python3.12/site-packages/whisper/transcribe.py:126: UserWarning: FP16 is not supported on CPU; using FP32 instead\n",
      "  warnings.warn(\"FP16 is not supported on CPU; using FP32 instead\")\n"
     ]
    },
    {
     "name": "stdout",
     "output_type": "stream",
     "text": [
      "reference_text: hiện nay mỗi khi chào hàng các lò rang hạt dưa như tứ hưng duy ký thiên hương\n",
      "predicted_text: hiện nay mỗi khi chào hàng các lò ra hạt dưa như tứ, như thân, duy kính thiên hương\n",
      "Processing: FPTOpenSpeechData_Set001_V0.1_000068.mp3\n"
     ]
    },
    {
     "name": "stderr",
     "output_type": "stream",
     "text": [
      "/home/ngo/anaconda3/lib/python3.12/site-packages/whisper/transcribe.py:126: UserWarning: FP16 is not supported on CPU; using FP32 instead\n",
      "  warnings.warn(\"FP16 is not supported on CPU; using FP32 instead\")\n"
     ]
    },
    {
     "name": "stdout",
     "output_type": "stream",
     "text": [
      "reference_text: vì không biết nhìn xa trông rộng và vì niềm tin sắt đá rằng rồi mọi việc sẽ êm xuôi\n",
      "predicted_text: vì không biết nhìn ra trống rộng và vì niềm tin thất giả rằng tôi mọi việc lại êm cười\n",
      "Processing: FPTOpenSpeechData_Set001_V0.1_000069.mp3\n"
     ]
    },
    {
     "name": "stderr",
     "output_type": "stream",
     "text": [
      "/home/ngo/anaconda3/lib/python3.12/site-packages/whisper/transcribe.py:126: UserWarning: FP16 is not supported on CPU; using FP32 instead\n",
      "  warnings.warn(\"FP16 is not supported on CPU; using FP32 instead\")\n"
     ]
    },
    {
     "name": "stdout",
     "output_type": "stream",
     "text": [
      "reference_text: nhờ có chúa\n",
      "predicted_text: như có chúa.\n",
      "Processing: FPTOpenSpeechData_Set001_V0.1_000070.mp3\n"
     ]
    },
    {
     "name": "stderr",
     "output_type": "stream",
     "text": [
      "/home/ngo/anaconda3/lib/python3.12/site-packages/whisper/transcribe.py:126: UserWarning: FP16 is not supported on CPU; using FP32 instead\n",
      "  warnings.warn(\"FP16 is not supported on CPU; using FP32 instead\")\n"
     ]
    },
    {
     "name": "stdout",
     "output_type": "stream",
     "text": [
      "reference_text: xe chú rể lăn xuống vực sau tiệc cưới\n",
      "predicted_text: chết để nắm bức sóc thiệt hướng\n",
      "Processing: FPTOpenSpeechData_Set001_V0.1_000071.mp3\n"
     ]
    },
    {
     "name": "stderr",
     "output_type": "stream",
     "text": [
      "/home/ngo/anaconda3/lib/python3.12/site-packages/whisper/transcribe.py:126: UserWarning: FP16 is not supported on CPU; using FP32 instead\n",
      "  warnings.warn(\"FP16 is not supported on CPU; using FP32 instead\")\n"
     ]
    },
    {
     "name": "stdout",
     "output_type": "stream",
     "text": [
      "reference_text: rồi anh đi một chuyến đến khu vực vỉa san hô và thăm viện bảo tàng úc anh có thể tìm hiểu nhiều về nước úc anh cũng có thể có một món quà đẹp tại cảng darling nếu anh muốn mua vài đồ lưu niệm có rất nhiều đồ vật và phụ kiện anh có thể muốn mua\n",
      "predicted_text: rồi anh đi một chuyến đến khu vực về san hô và thăm huyền vào càng úc, anh có thể tìm hiểu nhiều về nước úc. anh cũng có thể có một món quà đẹp tại càng sai linh nếu anh muốn mua vài đồ lưu niệm. có rất nhiều đồ vật và phù quyền anh có thể muốn mua.\n",
      "Processing: FPTOpenSpeechData_Set001_V0.1_000072.mp3\n"
     ]
    },
    {
     "name": "stderr",
     "output_type": "stream",
     "text": [
      "/home/ngo/anaconda3/lib/python3.12/site-packages/whisper/transcribe.py:126: UserWarning: FP16 is not supported on CPU; using FP32 instead\n",
      "  warnings.warn(\"FP16 is not supported on CPU; using FP32 instead\")\n"
     ]
    },
    {
     "name": "stdout",
     "output_type": "stream",
     "text": [
      "reference_text: đó là chưa kể các thủ đoạn chính trị xã hội khác\n",
      "predicted_text: đó là chưa kể các thủ đoạn chính trị xã hội khác.\n",
      "Processing: FPTOpenSpeechData_Set001_V0.1_000073.mp3\n"
     ]
    },
    {
     "name": "stderr",
     "output_type": "stream",
     "text": [
      "/home/ngo/anaconda3/lib/python3.12/site-packages/whisper/transcribe.py:126: UserWarning: FP16 is not supported on CPU; using FP32 instead\n",
      "  warnings.warn(\"FP16 is not supported on CPU; using FP32 instead\")\n"
     ]
    },
    {
     "name": "stdout",
     "output_type": "stream",
     "text": [
      "reference_text: tôi có vẽ một chút\n",
      "predicted_text: tôi có vẻ một chút\n",
      "Processing: FPTOpenSpeechData_Set001_V0.1_000074.mp3\n"
     ]
    },
    {
     "name": "stderr",
     "output_type": "stream",
     "text": [
      "/home/ngo/anaconda3/lib/python3.12/site-packages/whisper/transcribe.py:126: UserWarning: FP16 is not supported on CPU; using FP32 instead\n",
      "  warnings.warn(\"FP16 is not supported on CPU; using FP32 instead\")\n"
     ]
    },
    {
     "name": "stdout",
     "output_type": "stream",
     "text": [
      "reference_text: cho tôi mẫu thử được không\n",
      "predicted_text: cho tôi mẫu thử được không\n",
      "Processing: FPTOpenSpeechData_Set001_V0.1_000075.mp3\n"
     ]
    },
    {
     "name": "stderr",
     "output_type": "stream",
     "text": [
      "/home/ngo/anaconda3/lib/python3.12/site-packages/whisper/transcribe.py:126: UserWarning: FP16 is not supported on CPU; using FP32 instead\n",
      "  warnings.warn(\"FP16 is not supported on CPU; using FP32 instead\")\n"
     ]
    },
    {
     "name": "stdout",
     "output_type": "stream",
     "text": [
      "reference_text: tôi có ba con gái\n",
      "predicted_text: tôi có 3 con gái\n",
      "Processing: FPTOpenSpeechData_Set001_V0.1_000076.mp3\n"
     ]
    },
    {
     "name": "stderr",
     "output_type": "stream",
     "text": [
      "/home/ngo/anaconda3/lib/python3.12/site-packages/whisper/transcribe.py:126: UserWarning: FP16 is not supported on CPU; using FP32 instead\n",
      "  warnings.warn(\"FP16 is not supported on CPU; using FP32 instead\")\n"
     ]
    },
    {
     "name": "stdout",
     "output_type": "stream",
     "text": [
      "reference_text: tôi sẽ ở lại đây\n",
      "predicted_text: tôi sẽ ở lại đây.\n",
      "Processing: FPTOpenSpeechData_Set001_V0.1_000077.mp3\n"
     ]
    },
    {
     "name": "stderr",
     "output_type": "stream",
     "text": [
      "/home/ngo/anaconda3/lib/python3.12/site-packages/whisper/transcribe.py:126: UserWarning: FP16 is not supported on CPU; using FP32 instead\n",
      "  warnings.warn(\"FP16 is not supported on CPU; using FP32 instead\")\n"
     ]
    },
    {
     "name": "stdout",
     "output_type": "stream",
     "text": [
      "reference_text: người ta cho rằng số khúc gỗ ở dưới đáy bị dính nước bẩn ít thì kỳ kinh sẽ ngắn\n",
      "predicted_text: người ta cho rằng số khu vụ ở dưới thế bị chính nước bẩn ít thì kỳ kinh chuyển đến.\n",
      "Processing: FPTOpenSpeechData_Set001_V0.1_000078.mp3\n"
     ]
    },
    {
     "name": "stderr",
     "output_type": "stream",
     "text": [
      "/home/ngo/anaconda3/lib/python3.12/site-packages/whisper/transcribe.py:126: UserWarning: FP16 is not supported on CPU; using FP32 instead\n",
      "  warnings.warn(\"FP16 is not supported on CPU; using FP32 instead\")\n"
     ]
    },
    {
     "name": "stdout",
     "output_type": "stream",
     "text": [
      "reference_text: không một nơi nào lãng mạn và thơ mộng hơn những khu hồ hoang\n",
      "predicted_text: không một nơi nào lãng mạn và thơ mộng hơn những khu hồ hoang.\n",
      "Processing: FPTOpenSpeechData_Set001_V0.1_000079.mp3\n"
     ]
    },
    {
     "name": "stderr",
     "output_type": "stream",
     "text": [
      "/home/ngo/anaconda3/lib/python3.12/site-packages/whisper/transcribe.py:126: UserWarning: FP16 is not supported on CPU; using FP32 instead\n",
      "  warnings.warn(\"FP16 is not supported on CPU; using FP32 instead\")\n"
     ]
    },
    {
     "name": "stdout",
     "output_type": "stream",
     "text": [
      "reference_text: bị hại kháng cáo vì cho rằng các cơ quan tố tụng ở huyện hương khê bỏ lọt người sót tội\n",
      "predicted_text: bị hại khám cáo vì cho rằng các cơ quan phố tục ở thương khê bỏ lọc người sắp tội.\n",
      "Processing: FPTOpenSpeechData_Set001_V0.1_000080.mp3\n"
     ]
    },
    {
     "name": "stderr",
     "output_type": "stream",
     "text": [
      "/home/ngo/anaconda3/lib/python3.12/site-packages/whisper/transcribe.py:126: UserWarning: FP16 is not supported on CPU; using FP32 instead\n",
      "  warnings.warn(\"FP16 is not supported on CPU; using FP32 instead\")\n"
     ]
    },
    {
     "name": "stdout",
     "output_type": "stream",
     "text": [
      "reference_text: cuối cùng họ sẽ phải gõ cửa nhờ ông ấy\n",
      "predicted_text: cuối cùng họ sẽ phải góp lời những người đồng hành.\n",
      "Processing: FPTOpenSpeechData_Set001_V0.1_000081.mp3\n"
     ]
    },
    {
     "name": "stderr",
     "output_type": "stream",
     "text": [
      "/home/ngo/anaconda3/lib/python3.12/site-packages/whisper/transcribe.py:126: UserWarning: FP16 is not supported on CPU; using FP32 instead\n",
      "  warnings.warn(\"FP16 is not supported on CPU; using FP32 instead\")\n"
     ]
    },
    {
     "name": "stdout",
     "output_type": "stream",
     "text": [
      "reference_text: cái giá của một anh hùng\n",
      "predicted_text: cái giá của một anh hùng\n",
      "Processing: FPTOpenSpeechData_Set001_V0.1_000082.mp3\n"
     ]
    },
    {
     "name": "stderr",
     "output_type": "stream",
     "text": [
      "/home/ngo/anaconda3/lib/python3.12/site-packages/whisper/transcribe.py:126: UserWarning: FP16 is not supported on CPU; using FP32 instead\n",
      "  warnings.warn(\"FP16 is not supported on CPU; using FP32 instead\")\n"
     ]
    },
    {
     "name": "stdout",
     "output_type": "stream",
     "text": [
      "reference_text: bản sao tấm séc khoản tiền vợ chồng nguyễn nhận được\n",
      "predicted_text: mặt sao tấn sát quản tiền vợ chồng biến hiện được\n",
      "Processing: FPTOpenSpeechData_Set001_V0.1_000083.mp3\n"
     ]
    },
    {
     "name": "stderr",
     "output_type": "stream",
     "text": [
      "/home/ngo/anaconda3/lib/python3.12/site-packages/whisper/transcribe.py:126: UserWarning: FP16 is not supported on CPU; using FP32 instead\n",
      "  warnings.warn(\"FP16 is not supported on CPU; using FP32 instead\")\n"
     ]
    },
    {
     "name": "stdout",
     "output_type": "stream",
     "text": [
      "reference_text: nhằm thu hút thêm nhiều nhà đầu tư\n",
      "predicted_text: nhằm thu hút thêm nhiều nhà đầu tư\n",
      "Processing: FPTOpenSpeechData_Set001_V0.1_000084.mp3\n"
     ]
    },
    {
     "name": "stderr",
     "output_type": "stream",
     "text": [
      "/home/ngo/anaconda3/lib/python3.12/site-packages/whisper/transcribe.py:126: UserWarning: FP16 is not supported on CPU; using FP32 instead\n",
      "  warnings.warn(\"FP16 is not supported on CPU; using FP32 instead\")\n"
     ]
    },
    {
     "name": "stdout",
     "output_type": "stream",
     "text": [
      "reference_text: vui lòng cho ba vé khứ hồi hạng hai\n",
      "predicted_text: như lòng cho bảo vệ của người hàng hàng.\n",
      "Processing: FPTOpenSpeechData_Set001_V0.1_000085.mp3\n"
     ]
    },
    {
     "name": "stderr",
     "output_type": "stream",
     "text": [
      "/home/ngo/anaconda3/lib/python3.12/site-packages/whisper/transcribe.py:126: UserWarning: FP16 is not supported on CPU; using FP32 instead\n",
      "  warnings.warn(\"FP16 is not supported on CPU; using FP32 instead\")\n"
     ]
    },
    {
     "name": "stdout",
     "output_type": "stream",
     "text": [
      "reference_text: anh cần một con tem một đô la ba mươi cent\n",
      "predicted_text: anh cần một con tiêm, một đô la ba mươi kém.\n",
      "Processing: FPTOpenSpeechData_Set001_V0.1_000086.mp3\n"
     ]
    },
    {
     "name": "stderr",
     "output_type": "stream",
     "text": [
      "/home/ngo/anaconda3/lib/python3.12/site-packages/whisper/transcribe.py:126: UserWarning: FP16 is not supported on CPU; using FP32 instead\n",
      "  warnings.warn(\"FP16 is not supported on CPU; using FP32 instead\")\n"
     ]
    },
    {
     "name": "stdout",
     "output_type": "stream",
     "text": [
      "reference_text: xà lách trộn phó mát mốc xanh và cây óc chó\n",
      "predicted_text: cảnh trường format bốc thanh và kẹo chó\n",
      "Processing: FPTOpenSpeechData_Set001_V0.1_000087.mp3\n"
     ]
    },
    {
     "name": "stderr",
     "output_type": "stream",
     "text": [
      "/home/ngo/anaconda3/lib/python3.12/site-packages/whisper/transcribe.py:126: UserWarning: FP16 is not supported on CPU; using FP32 instead\n",
      "  warnings.warn(\"FP16 is not supported on CPU; using FP32 instead\")\n"
     ]
    },
    {
     "name": "stdout",
     "output_type": "stream",
     "text": [
      "reference_text: chúng tôi sẽ bồi thường cho anh\n",
      "predicted_text: chúng tôi sẽ bôi thường cho anh\n",
      "Processing: FPTOpenSpeechData_Set001_V0.1_000088.mp3\n"
     ]
    },
    {
     "name": "stderr",
     "output_type": "stream",
     "text": [
      "/home/ngo/anaconda3/lib/python3.12/site-packages/whisper/transcribe.py:126: UserWarning: FP16 is not supported on CPU; using FP32 instead\n",
      "  warnings.warn(\"FP16 is not supported on CPU; using FP32 instead\")\n"
     ]
    },
    {
     "name": "stdout",
     "output_type": "stream",
     "text": [
      "reference_text: chỉ xét tuyển hồ sơ không phải thi\n",
      "predicted_text: kỹ xét điển hồ sơ không phải thi.\n",
      "Processing: FPTOpenSpeechData_Set001_V0.1_000089.mp3\n"
     ]
    },
    {
     "name": "stderr",
     "output_type": "stream",
     "text": [
      "/home/ngo/anaconda3/lib/python3.12/site-packages/whisper/transcribe.py:126: UserWarning: FP16 is not supported on CPU; using FP32 instead\n",
      "  warnings.warn(\"FP16 is not supported on CPU; using FP32 instead\")\n"
     ]
    },
    {
     "name": "stdout",
     "output_type": "stream",
     "text": [
      "reference_text: gần chín nghìn tỉ đồng xây đường sắt đô thị cát linh hà đông\n",
      "predicted_text: gần 9.000 tỷ đồng xây đường sát vương hỷ, khách lên hà đông\n",
      "Processing: FPTOpenSpeechData_Set001_V0.1_000090.mp3\n"
     ]
    },
    {
     "name": "stderr",
     "output_type": "stream",
     "text": [
      "/home/ngo/anaconda3/lib/python3.12/site-packages/whisper/transcribe.py:126: UserWarning: FP16 is not supported on CPU; using FP32 instead\n",
      "  warnings.warn(\"FP16 is not supported on CPU; using FP32 instead\")\n"
     ]
    },
    {
     "name": "stdout",
     "output_type": "stream",
     "text": [
      "reference_text: bỏ quần vào trong máy giặt\n",
      "predicted_text: bò quân vào trong mày giật.\n",
      "Processing: FPTOpenSpeechData_Set001_V0.1_000091.mp3\n"
     ]
    },
    {
     "name": "stderr",
     "output_type": "stream",
     "text": [
      "/home/ngo/anaconda3/lib/python3.12/site-packages/whisper/transcribe.py:126: UserWarning: FP16 is not supported on CPU; using FP32 instead\n",
      "  warnings.warn(\"FP16 is not supported on CPU; using FP32 instead\")\n"
     ]
    },
    {
     "name": "stdout",
     "output_type": "stream",
     "text": [
      "reference_text: trả lời tôi biết\n",
      "predicted_text: trả lời tôi biết.\n",
      "Processing: FPTOpenSpeechData_Set001_V0.1_000092.mp3\n"
     ]
    },
    {
     "name": "stderr",
     "output_type": "stream",
     "text": [
      "/home/ngo/anaconda3/lib/python3.12/site-packages/whisper/transcribe.py:126: UserWarning: FP16 is not supported on CPU; using FP32 instead\n",
      "  warnings.warn(\"FP16 is not supported on CPU; using FP32 instead\")\n"
     ]
    },
    {
     "name": "stdout",
     "output_type": "stream",
     "text": [
      "reference_text: đến thời điểm hiện tại ít nhất trong cả nước đã có năm mươi nghìn lao động thất nghiệp\n",
      "predicted_text: đến thời điểm hiện tại, ít nước trong cả nước đã có 50.000 lao động thất nghiệp.\n",
      "Processing: FPTOpenSpeechData_Set001_V0.1_000093.mp3\n"
     ]
    },
    {
     "name": "stderr",
     "output_type": "stream",
     "text": [
      "/home/ngo/anaconda3/lib/python3.12/site-packages/whisper/transcribe.py:126: UserWarning: FP16 is not supported on CPU; using FP32 instead\n",
      "  warnings.warn(\"FP16 is not supported on CPU; using FP32 instead\")\n"
     ]
    },
    {
     "name": "stdout",
     "output_type": "stream",
     "text": [
      "reference_text: anh sẵn sàng gọi món chưa\n",
      "predicted_text: anh chẳng sang gọi món trưa.\n",
      "Processing: FPTOpenSpeechData_Set001_V0.1_000094.mp3\n"
     ]
    },
    {
     "name": "stderr",
     "output_type": "stream",
     "text": [
      "/home/ngo/anaconda3/lib/python3.12/site-packages/whisper/transcribe.py:126: UserWarning: FP16 is not supported on CPU; using FP32 instead\n",
      "  warnings.warn(\"FP16 is not supported on CPU; using FP32 instead\")\n"
     ]
    },
    {
     "name": "stdout",
     "output_type": "stream",
     "text": [
      "reference_text: là tác động của nó đến hiệu suất chung của toàn bộ hệ thống điện\n",
      "predicted_text: là tác động của nó đến hiệu suất chung của toàn bộ hệ thống điện.\n",
      "Processing: FPTOpenSpeechData_Set001_V0.1_000095.mp3\n"
     ]
    },
    {
     "name": "stderr",
     "output_type": "stream",
     "text": [
      "/home/ngo/anaconda3/lib/python3.12/site-packages/whisper/transcribe.py:126: UserWarning: FP16 is not supported on CPU; using FP32 instead\n",
      "  warnings.warn(\"FP16 is not supported on CPU; using FP32 instead\")\n"
     ]
    },
    {
     "name": "stdout",
     "output_type": "stream",
     "text": [
      "reference_text: đã bán rồi\n",
      "predicted_text: mà bà nuôi\n",
      "Processing: FPTOpenSpeechData_Set001_V0.1_000096.mp3\n"
     ]
    },
    {
     "name": "stderr",
     "output_type": "stream",
     "text": [
      "/home/ngo/anaconda3/lib/python3.12/site-packages/whisper/transcribe.py:126: UserWarning: FP16 is not supported on CPU; using FP32 instead\n",
      "  warnings.warn(\"FP16 is not supported on CPU; using FP32 instead\")\n"
     ]
    },
    {
     "name": "stdout",
     "output_type": "stream",
     "text": [
      "reference_text: thời tiết ấm áp như thể là đầu hè\n",
      "predicted_text: thời tiết mát mưa sẽ là lầu nhà\n",
      "Processing: FPTOpenSpeechData_Set001_V0.1_000097.mp3\n"
     ]
    },
    {
     "name": "stderr",
     "output_type": "stream",
     "text": [
      "/home/ngo/anaconda3/lib/python3.12/site-packages/whisper/transcribe.py:126: UserWarning: FP16 is not supported on CPU; using FP32 instead\n",
      "  warnings.warn(\"FP16 is not supported on CPU; using FP32 instead\")\n"
     ]
    },
    {
     "name": "stdout",
     "output_type": "stream",
     "text": [
      "reference_text: chúng tôi có bốn người\n",
      "predicted_text: chúng tôi có 4 người\n",
      "Processing: FPTOpenSpeechData_Set001_V0.1_000098.mp3\n"
     ]
    },
    {
     "name": "stderr",
     "output_type": "stream",
     "text": [
      "/home/ngo/anaconda3/lib/python3.12/site-packages/whisper/transcribe.py:126: UserWarning: FP16 is not supported on CPU; using FP32 instead\n",
      "  warnings.warn(\"FP16 is not supported on CPU; using FP32 instead\")\n"
     ]
    },
    {
     "name": "stdout",
     "output_type": "stream",
     "text": [
      "reference_text: vẻ đẹp khuôn mặt và bản năng tình dục quan hệ tương hỗ chặt chẽ với nhau\n",
      "predicted_text: về đẹp khuôn mặt và bản linh tình dục quan hệ, tương hội, trách nhiệm với nhau.\n",
      "Processing: FPTOpenSpeechData_Set001_V0.1_000099.mp3\n"
     ]
    },
    {
     "name": "stderr",
     "output_type": "stream",
     "text": [
      "/home/ngo/anaconda3/lib/python3.12/site-packages/whisper/transcribe.py:126: UserWarning: FP16 is not supported on CPU; using FP32 instead\n",
      "  warnings.warn(\"FP16 is not supported on CPU; using FP32 instead\")\n"
     ]
    },
    {
     "name": "stdout",
     "output_type": "stream",
     "text": [
      "reference_text: hầu bàn của quý khách sẽ là alfredo\n",
      "predicted_text: thông bằng của ý khách sẽ là o'hare.\n",
      "Processing: FPTOpenSpeechData_Set001_V0.1_000100.mp3\n"
     ]
    },
    {
     "name": "stderr",
     "output_type": "stream",
     "text": [
      "/home/ngo/anaconda3/lib/python3.12/site-packages/whisper/transcribe.py:126: UserWarning: FP16 is not supported on CPU; using FP32 instead\n",
      "  warnings.warn(\"FP16 is not supported on CPU; using FP32 instead\")\n"
     ]
    },
    {
     "name": "stdout",
     "output_type": "stream",
     "text": [
      "reference_text: đầu gối có bị sưng đỏ hoặc cả hai\n",
      "predicted_text: đầu gối có bị tưng tò hoặc cả hai số.\n",
      "Processing: FPTOpenSpeechData_Set001_V0.1_000101.mp3\n"
     ]
    },
    {
     "name": "stderr",
     "output_type": "stream",
     "text": [
      "/home/ngo/anaconda3/lib/python3.12/site-packages/whisper/transcribe.py:126: UserWarning: FP16 is not supported on CPU; using FP32 instead\n",
      "  warnings.warn(\"FP16 is not supported on CPU; using FP32 instead\")\n"
     ]
    },
    {
     "name": "stdout",
     "output_type": "stream",
     "text": [
      "reference_text: hút thuốc bị hạn chế trong khu vực công cộng\n",
      "predicted_text: hãy subscribe cho kênh ghiền mì gõ để không bỏ lỡ những video hấp dẫn\n",
      "Processing: FPTOpenSpeechData_Set001_V0.1_000102.mp3\n"
     ]
    },
    {
     "name": "stderr",
     "output_type": "stream",
     "text": [
      "/home/ngo/anaconda3/lib/python3.12/site-packages/whisper/transcribe.py:126: UserWarning: FP16 is not supported on CPU; using FP32 instead\n",
      "  warnings.warn(\"FP16 is not supported on CPU; using FP32 instead\")\n"
     ]
    },
    {
     "name": "stdout",
     "output_type": "stream",
     "text": [
      "reference_text: chẳng phải là bệnh hiểm nghèo nhưng trĩ vẫn là bệnh gây khó chịu cho bệnh nhân bởi làm cản trở công việc của họ lúc làm việc cũng như lúc ngủ họ vẫn phải lo nghĩ giáo sư nghĩa nói\n",
      "predicted_text: còn cả là bệnh hiện nào, nhưng chị vẫn làm bệnh gây khó chịu cho tận nhân về làm hạn trở công việc của họ. lúc làm việc cũng như lúc ngủ, họ vẫn phải nghe nghĩ, giáo dương đã nói.\n",
      "Processing: FPTOpenSpeechData_Set001_V0.1_000103.mp3\n"
     ]
    },
    {
     "name": "stderr",
     "output_type": "stream",
     "text": [
      "/home/ngo/anaconda3/lib/python3.12/site-packages/whisper/transcribe.py:126: UserWarning: FP16 is not supported on CPU; using FP32 instead\n",
      "  warnings.warn(\"FP16 is not supported on CPU; using FP32 instead\")\n"
     ]
    },
    {
     "name": "stdout",
     "output_type": "stream",
     "text": [
      "reference_text: chuyển máy cho ai\n",
      "predicted_text: cup mình lên chúa\n",
      "Processing: FPTOpenSpeechData_Set001_V0.1_000104.mp3\n"
     ]
    },
    {
     "name": "stderr",
     "output_type": "stream",
     "text": [
      "/home/ngo/anaconda3/lib/python3.12/site-packages/whisper/transcribe.py:126: UserWarning: FP16 is not supported on CPU; using FP32 instead\n",
      "  warnings.warn(\"FP16 is not supported on CPU; using FP32 instead\")\n"
     ]
    },
    {
     "name": "stdout",
     "output_type": "stream",
     "text": [
      "reference_text: kết quả lao động của tôi đến đâu thì tác phẩm trả lời\n",
      "predicted_text: kết quả lao động của tôi đến đâu thì tác phẩm trả lời.\n",
      "Processing: FPTOpenSpeechData_Set001_V0.1_000105.mp3\n"
     ]
    },
    {
     "name": "stderr",
     "output_type": "stream",
     "text": [
      "/home/ngo/anaconda3/lib/python3.12/site-packages/whisper/transcribe.py:126: UserWarning: FP16 is not supported on CPU; using FP32 instead\n",
      "  warnings.warn(\"FP16 is not supported on CPU; using FP32 instead\")\n"
     ]
    },
    {
     "name": "stdout",
     "output_type": "stream",
     "text": [
      "reference_text: khi những chiếc đĩa được dỡ bỏ lũ hà mã cũng chẳng thèm chú ý tới những chiếc nhãn đó nữa\n",
      "predicted_text: khi những chiếc đĩa được dỡ bỏ, lũ hà mã cũng chẳng thèm chú ý tới những chiếc nhãn đoán nữa.\n",
      "Processing: FPTOpenSpeechData_Set001_V0.1_000106.mp3\n"
     ]
    },
    {
     "name": "stderr",
     "output_type": "stream",
     "text": [
      "/home/ngo/anaconda3/lib/python3.12/site-packages/whisper/transcribe.py:126: UserWarning: FP16 is not supported on CPU; using FP32 instead\n",
      "  warnings.warn(\"FP16 is not supported on CPU; using FP32 instead\")\n"
     ]
    },
    {
     "name": "stdout",
     "output_type": "stream",
     "text": [
      "reference_text: không vậy không sao tôi sẽ gọi ông ấy sau cảm ơn\n",
      "predicted_text: không, vậy, không sao, tôi sẽ gọi ông ấy sau, cảm ơn.\n",
      "Processing: FPTOpenSpeechData_Set001_V0.1_000107.mp3\n"
     ]
    },
    {
     "name": "stderr",
     "output_type": "stream",
     "text": [
      "/home/ngo/anaconda3/lib/python3.12/site-packages/whisper/transcribe.py:126: UserWarning: FP16 is not supported on CPU; using FP32 instead\n",
      "  warnings.warn(\"FP16 is not supported on CPU; using FP32 instead\")\n"
     ]
    },
    {
     "name": "stdout",
     "output_type": "stream",
     "text": [
      "reference_text: có giảm giá cho người cao niên không\n",
      "predicted_text: có giảm giá cho người cao niên không?\n",
      "Processing: FPTOpenSpeechData_Set001_V0.1_000108.mp3\n"
     ]
    },
    {
     "name": "stderr",
     "output_type": "stream",
     "text": [
      "/home/ngo/anaconda3/lib/python3.12/site-packages/whisper/transcribe.py:126: UserWarning: FP16 is not supported on CPU; using FP32 instead\n",
      "  warnings.warn(\"FP16 is not supported on CPU; using FP32 instead\")\n"
     ]
    },
    {
     "name": "stdout",
     "output_type": "stream",
     "text": [
      "reference_text: hãy gọi cảnh sát ngay\n",
      "predicted_text: hãy gọi cảnh sát nhanh\n",
      "Processing: FPTOpenSpeechData_Set001_V0.1_000109.mp3\n"
     ]
    },
    {
     "name": "stderr",
     "output_type": "stream",
     "text": [
      "/home/ngo/anaconda3/lib/python3.12/site-packages/whisper/transcribe.py:126: UserWarning: FP16 is not supported on CPU; using FP32 instead\n",
      "  warnings.warn(\"FP16 is not supported on CPU; using FP32 instead\")\n"
     ]
    },
    {
     "name": "stdout",
     "output_type": "stream",
     "text": [
      "reference_text: bắt đầu đếm\n",
      "predicted_text: bắt đầu đếm\n",
      "Processing: FPTOpenSpeechData_Set001_V0.1_000110.mp3\n"
     ]
    },
    {
     "name": "stderr",
     "output_type": "stream",
     "text": [
      "/home/ngo/anaconda3/lib/python3.12/site-packages/whisper/transcribe.py:126: UserWarning: FP16 is not supported on CPU; using FP32 instead\n",
      "  warnings.warn(\"FP16 is not supported on CPU; using FP32 instead\")\n"
     ]
    },
    {
     "name": "stdout",
     "output_type": "stream",
     "text": [
      "reference_text: anh có bị đau do mệt mỏi không\n",
      "predicted_text: anh có bị đau do mệt ngoài không?\n",
      "Processing: FPTOpenSpeechData_Set001_V0.1_000111.mp3\n"
     ]
    },
    {
     "name": "stderr",
     "output_type": "stream",
     "text": [
      "/home/ngo/anaconda3/lib/python3.12/site-packages/whisper/transcribe.py:126: UserWarning: FP16 is not supported on CPU; using FP32 instead\n",
      "  warnings.warn(\"FP16 is not supported on CPU; using FP32 instead\")\n"
     ]
    },
    {
     "name": "stdout",
     "output_type": "stream",
     "text": [
      "reference_text: lãi suất cho vay cũng đã giảm mạnh theo lãi huy động vốn lãi nhiều vẫn chẳng có người nào gửi cả\n",
      "predicted_text: lãi chất cho vai cũng đã giảm mạnh theo lãi động vốn, lãi nhiều vẫn chẳng có người nào gửi cả.\n",
      "Processing: FPTOpenSpeechData_Set001_V0.1_000112.mp3\n"
     ]
    },
    {
     "name": "stderr",
     "output_type": "stream",
     "text": [
      "/home/ngo/anaconda3/lib/python3.12/site-packages/whisper/transcribe.py:126: UserWarning: FP16 is not supported on CPU; using FP32 instead\n",
      "  warnings.warn(\"FP16 is not supported on CPU; using FP32 instead\")\n"
     ]
    },
    {
     "name": "stdout",
     "output_type": "stream",
     "text": [
      "reference_text: các nhà khoa học đang tiến thêm một bước\n",
      "predicted_text: các nhà khoa học đang tiến thêm một bước.\n",
      "Processing: FPTOpenSpeechData_Set001_V0.1_000113.mp3\n"
     ]
    },
    {
     "name": "stderr",
     "output_type": "stream",
     "text": [
      "/home/ngo/anaconda3/lib/python3.12/site-packages/whisper/transcribe.py:126: UserWarning: FP16 is not supported on CPU; using FP32 instead\n",
      "  warnings.warn(\"FP16 is not supported on CPU; using FP32 instead\")\n"
     ]
    },
    {
     "name": "stdout",
     "output_type": "stream",
     "text": [
      "reference_text: cùng chuẩn và ngũ hai đối tượng khác chuyên làm nhiệm vụ đưa người sang trung quốc là nguyễn vũ hải và võ cảnh dũng cùng trú tại bắc giang cũng bị cảnh sát bắt\n",
      "predicted_text: cùng chuẩn và ngũ, hai đối tượng khác chuyên làm nhiệm vụ đưa người sang trung quốc là nguyễn vũ hải và võ cảnh dũng cùng chú trại bắc giang xử lý cảnh sát bắc.\n",
      "Processing: FPTOpenSpeechData_Set001_V0.1_000114.mp3\n"
     ]
    },
    {
     "name": "stderr",
     "output_type": "stream",
     "text": [
      "/home/ngo/anaconda3/lib/python3.12/site-packages/whisper/transcribe.py:126: UserWarning: FP16 is not supported on CPU; using FP32 instead\n",
      "  warnings.warn(\"FP16 is not supported on CPU; using FP32 instead\")\n"
     ]
    },
    {
     "name": "stdout",
     "output_type": "stream",
     "text": [
      "reference_text: hệ thống phòng ngự tài năng và giàu kinh nghiệm\n",
      "predicted_text: hệ thống phong bức tài năng và giàu kinh nghiệm\n",
      "Processing: FPTOpenSpeechData_Set001_V0.1_000115.mp3\n"
     ]
    },
    {
     "name": "stderr",
     "output_type": "stream",
     "text": [
      "/home/ngo/anaconda3/lib/python3.12/site-packages/whisper/transcribe.py:126: UserWarning: FP16 is not supported on CPU; using FP32 instead\n",
      "  warnings.warn(\"FP16 is not supported on CPU; using FP32 instead\")\n"
     ]
    },
    {
     "name": "stdout",
     "output_type": "stream",
     "text": [
      "reference_text: sẽ đủ sức cạnh tranh với nước ngoài\n",
      "predicted_text: sẽ đủ sức cạnh tranh với nước ngoài.\n",
      "Processing: FPTOpenSpeechData_Set001_V0.1_000116.mp3\n"
     ]
    },
    {
     "name": "stderr",
     "output_type": "stream",
     "text": [
      "/home/ngo/anaconda3/lib/python3.12/site-packages/whisper/transcribe.py:126: UserWarning: FP16 is not supported on CPU; using FP32 instead\n",
      "  warnings.warn(\"FP16 is not supported on CPU; using FP32 instead\")\n"
     ]
    },
    {
     "name": "stdout",
     "output_type": "stream",
     "text": [
      "reference_text: giơ tay lên để đồng ý\n",
      "predicted_text: giờ ta nên đề đồng ý.\n",
      "Processing: FPTOpenSpeechData_Set001_V0.1_000117.mp3\n"
     ]
    },
    {
     "name": "stderr",
     "output_type": "stream",
     "text": [
      "/home/ngo/anaconda3/lib/python3.12/site-packages/whisper/transcribe.py:126: UserWarning: FP16 is not supported on CPU; using FP32 instead\n",
      "  warnings.warn(\"FP16 is not supported on CPU; using FP32 instead\")\n"
     ]
    },
    {
     "name": "stdout",
     "output_type": "stream",
     "text": [
      "reference_text: vui lòng trả mười đô la\n",
      "predicted_text: ui, lòng trả 10$\n",
      "Processing: FPTOpenSpeechData_Set001_V0.1_000118.mp3\n"
     ]
    },
    {
     "name": "stderr",
     "output_type": "stream",
     "text": [
      "/home/ngo/anaconda3/lib/python3.12/site-packages/whisper/transcribe.py:126: UserWarning: FP16 is not supported on CPU; using FP32 instead\n",
      "  warnings.warn(\"FP16 is not supported on CPU; using FP32 instead\")\n"
     ]
    },
    {
     "name": "stdout",
     "output_type": "stream",
     "text": [
      "reference_text: đây là hồi chuông cảnh báo về sự mất an toàn lưới điện trên địa bàn\n",
      "predicted_text: đây là hồi chu cạch báo về sự mất an toàn lưới địa trên địa bàn.\n",
      "Processing: FPTOpenSpeechData_Set001_V0.1_000119.mp3\n"
     ]
    },
    {
     "name": "stderr",
     "output_type": "stream",
     "text": [
      "/home/ngo/anaconda3/lib/python3.12/site-packages/whisper/transcribe.py:126: UserWarning: FP16 is not supported on CPU; using FP32 instead\n",
      "  warnings.warn(\"FP16 is not supported on CPU; using FP32 instead\")\n"
     ]
    },
    {
     "name": "stdout",
     "output_type": "stream",
     "text": [
      "reference_text: ban đêm bắng cây đa\n",
      "predicted_text: ban đêm vắng cây đà\n",
      "Processing: FPTOpenSpeechData_Set001_V0.1_000120.mp3\n"
     ]
    },
    {
     "name": "stderr",
     "output_type": "stream",
     "text": [
      "/home/ngo/anaconda3/lib/python3.12/site-packages/whisper/transcribe.py:126: UserWarning: FP16 is not supported on CPU; using FP32 instead\n",
      "  warnings.warn(\"FP16 is not supported on CPU; using FP32 instead\")\n"
     ]
    },
    {
     "name": "stdout",
     "output_type": "stream",
     "text": [
      "reference_text: kênh hai ti vi\n",
      "predicted_text: kim hai tv\n",
      "Processing: FPTOpenSpeechData_Set001_V0.1_000121.mp3\n"
     ]
    },
    {
     "name": "stderr",
     "output_type": "stream",
     "text": [
      "/home/ngo/anaconda3/lib/python3.12/site-packages/whisper/transcribe.py:126: UserWarning: FP16 is not supported on CPU; using FP32 instead\n",
      "  warnings.warn(\"FP16 is not supported on CPU; using FP32 instead\")\n"
     ]
    },
    {
     "name": "stdout",
     "output_type": "stream",
     "text": [
      "reference_text: này chúng tôi sắp nhổ neo\n",
      "predicted_text: này, chị tôi sắp vô nheo\n",
      "Processing: FPTOpenSpeechData_Set001_V0.1_000122.mp3\n"
     ]
    },
    {
     "name": "stderr",
     "output_type": "stream",
     "text": [
      "/home/ngo/anaconda3/lib/python3.12/site-packages/whisper/transcribe.py:126: UserWarning: FP16 is not supported on CPU; using FP32 instead\n",
      "  warnings.warn(\"FP16 is not supported on CPU; using FP32 instead\")\n"
     ]
    },
    {
     "name": "stdout",
     "output_type": "stream",
     "text": [
      "reference_text: mở\n",
      "predicted_text: mà\n",
      "Processing: FPTOpenSpeechData_Set001_V0.1_000123.mp3\n"
     ]
    },
    {
     "name": "stderr",
     "output_type": "stream",
     "text": [
      "/home/ngo/anaconda3/lib/python3.12/site-packages/whisper/transcribe.py:126: UserWarning: FP16 is not supported on CPU; using FP32 instead\n",
      "  warnings.warn(\"FP16 is not supported on CPU; using FP32 instead\")\n"
     ]
    },
    {
     "name": "stdout",
     "output_type": "stream",
     "text": [
      "reference_text: độc giả của tôi muốn hướng tới là sinh viên và trí thức\n",
      "predicted_text: đọc giả của tôi muốn hướng tới là sinh viên và chỉ thích\n",
      "Processing: FPTOpenSpeechData_Set001_V0.1_000124.mp3\n"
     ]
    },
    {
     "name": "stderr",
     "output_type": "stream",
     "text": [
      "/home/ngo/anaconda3/lib/python3.12/site-packages/whisper/transcribe.py:126: UserWarning: FP16 is not supported on CPU; using FP32 instead\n",
      "  warnings.warn(\"FP16 is not supported on CPU; using FP32 instead\")\n"
     ]
    },
    {
     "name": "stdout",
     "output_type": "stream",
     "text": [
      "reference_text: không mở cửa ồ ạt\n",
      "predicted_text: không mở cửa ồ ạc\n",
      "Processing: FPTOpenSpeechData_Set001_V0.1_000125.mp3\n"
     ]
    },
    {
     "name": "stderr",
     "output_type": "stream",
     "text": [
      "/home/ngo/anaconda3/lib/python3.12/site-packages/whisper/transcribe.py:126: UserWarning: FP16 is not supported on CPU; using FP32 instead\n",
      "  warnings.warn(\"FP16 is not supported on CPU; using FP32 instead\")\n"
     ]
    },
    {
     "name": "stdout",
     "output_type": "stream",
     "text": [
      "reference_text: tôi muốn đổi cái này lấy cái màu xanh\n",
      "predicted_text: tôi muốn từ cái này lấy cái màu xanh.\n",
      "Processing: FPTOpenSpeechData_Set001_V0.1_000126.mp3\n"
     ]
    },
    {
     "name": "stderr",
     "output_type": "stream",
     "text": [
      "/home/ngo/anaconda3/lib/python3.12/site-packages/whisper/transcribe.py:126: UserWarning: FP16 is not supported on CPU; using FP32 instead\n",
      "  warnings.warn(\"FP16 is not supported on CPU; using FP32 instead\")\n"
     ]
    },
    {
     "name": "stdout",
     "output_type": "stream",
     "text": [
      "reference_text: sống với em anh nhé\n",
      "predicted_text: sống với em anh nhé!\n",
      "Processing: FPTOpenSpeechData_Set001_V0.1_000127.mp3\n"
     ]
    },
    {
     "name": "stderr",
     "output_type": "stream",
     "text": [
      "/home/ngo/anaconda3/lib/python3.12/site-packages/whisper/transcribe.py:126: UserWarning: FP16 is not supported on CPU; using FP32 instead\n",
      "  warnings.warn(\"FP16 is not supported on CPU; using FP32 instead\")\n"
     ]
    },
    {
     "name": "stdout",
     "output_type": "stream",
     "text": [
      "reference_text: vừa gọi điện vừa đi lại rất gây hại cho sức khỏe\n",
      "predicted_text: vừa gọi điện vừa đi lại hết gây hại cho sức khỏe\n",
      "Processing: FPTOpenSpeechData_Set001_V0.1_000128.mp3\n"
     ]
    },
    {
     "name": "stderr",
     "output_type": "stream",
     "text": [
      "/home/ngo/anaconda3/lib/python3.12/site-packages/whisper/transcribe.py:126: UserWarning: FP16 is not supported on CPU; using FP32 instead\n",
      "  warnings.warn(\"FP16 is not supported on CPU; using FP32 instead\")\n"
     ]
    },
    {
     "name": "stdout",
     "output_type": "stream",
     "text": [
      "reference_text: tôi có thể tìm bảng tin ở đâu\n",
      "predicted_text: tôi còn thấy tin bằng tin ở đâu\n",
      "Processing: FPTOpenSpeechData_Set001_V0.1_000129.mp3\n"
     ]
    },
    {
     "name": "stderr",
     "output_type": "stream",
     "text": [
      "/home/ngo/anaconda3/lib/python3.12/site-packages/whisper/transcribe.py:126: UserWarning: FP16 is not supported on CPU; using FP32 instead\n",
      "  warnings.warn(\"FP16 is not supported on CPU; using FP32 instead\")\n"
     ]
    },
    {
     "name": "stdout",
     "output_type": "stream",
     "text": [
      "reference_text: anh chuẩn bị toa này cho tôi được không\n",
      "predicted_text: anh chuẩn bị toàn này cho tôi được không?\n",
      "Processing: FPTOpenSpeechData_Set001_V0.1_000130.mp3\n"
     ]
    },
    {
     "name": "stderr",
     "output_type": "stream",
     "text": [
      "/home/ngo/anaconda3/lib/python3.12/site-packages/whisper/transcribe.py:126: UserWarning: FP16 is not supported on CPU; using FP32 instead\n",
      "  warnings.warn(\"FP16 is not supported on CPU; using FP32 instead\")\n"
     ]
    },
    {
     "name": "stdout",
     "output_type": "stream",
     "text": [
      "reference_text: đây là địa chỉ của anh\n",
      "predicted_text: đây là địa chỉ của anh.\n",
      "Processing: FPTOpenSpeechData_Set001_V0.1_000131.mp3\n"
     ]
    },
    {
     "name": "stderr",
     "output_type": "stream",
     "text": [
      "/home/ngo/anaconda3/lib/python3.12/site-packages/whisper/transcribe.py:126: UserWarning: FP16 is not supported on CPU; using FP32 instead\n",
      "  warnings.warn(\"FP16 is not supported on CPU; using FP32 instead\")\n"
     ]
    },
    {
     "name": "stdout",
     "output_type": "stream",
     "text": [
      "reference_text: anh lắng nghe tôi một phút được không\n",
      "predicted_text: anh lắng nghe tôi một phút được không?\n",
      "Processing: FPTOpenSpeechData_Set001_V0.1_000132.mp3\n"
     ]
    },
    {
     "name": "stderr",
     "output_type": "stream",
     "text": [
      "/home/ngo/anaconda3/lib/python3.12/site-packages/whisper/transcribe.py:126: UserWarning: FP16 is not supported on CPU; using FP32 instead\n",
      "  warnings.warn(\"FP16 is not supported on CPU; using FP32 instead\")\n"
     ]
    },
    {
     "name": "stdout",
     "output_type": "stream",
     "text": [
      "reference_text: lạm phát tăng là do dự báo yếu kém\n",
      "predicted_text: đã tăng là do dụng đo dụng điều kiện\n",
      "Processing: FPTOpenSpeechData_Set001_V0.1_000133.mp3\n"
     ]
    },
    {
     "name": "stderr",
     "output_type": "stream",
     "text": [
      "/home/ngo/anaconda3/lib/python3.12/site-packages/whisper/transcribe.py:126: UserWarning: FP16 is not supported on CPU; using FP32 instead\n",
      "  warnings.warn(\"FP16 is not supported on CPU; using FP32 instead\")\n"
     ]
    },
    {
     "name": "stdout",
     "output_type": "stream",
     "text": [
      "reference_text: thịt gà nhồi hỗn hợp băm nhỏ\n",
      "predicted_text: hiệp gai, nhồi hồn hợp bắt nhọc\n",
      "Processing: FPTOpenSpeechData_Set001_V0.1_000134.mp3\n"
     ]
    },
    {
     "name": "stderr",
     "output_type": "stream",
     "text": [
      "/home/ngo/anaconda3/lib/python3.12/site-packages/whisper/transcribe.py:126: UserWarning: FP16 is not supported on CPU; using FP32 instead\n",
      "  warnings.warn(\"FP16 is not supported on CPU; using FP32 instead\")\n"
     ]
    },
    {
     "name": "stdout",
     "output_type": "stream",
     "text": [
      "reference_text: trung tá nguyễn phả lại cán bộ quản giáo trực tiếp buồng số bảy chỗ ở của ông mẫu ông dũng nói kín kẽ cũng là tâm lý của người cải tạo loại án như trường hợp ông dũng\n",
      "predicted_text: chúng ta nhận tả lại cán bộ quản giáo trực tiếp bồn số 7, chỗ ở của ông mẫu, ông dũng nói, chính kẽ cũng là tâm lý của người cải tạo, loại án như trường hợp ông dũng.\n",
      "Processing: FPTOpenSpeechData_Set001_V0.1_000135.mp3\n"
     ]
    },
    {
     "name": "stderr",
     "output_type": "stream",
     "text": [
      "/home/ngo/anaconda3/lib/python3.12/site-packages/whisper/transcribe.py:126: UserWarning: FP16 is not supported on CPU; using FP32 instead\n",
      "  warnings.warn(\"FP16 is not supported on CPU; using FP32 instead\")\n"
     ]
    },
    {
     "name": "stdout",
     "output_type": "stream",
     "text": [
      "reference_text: kí túc vắng tanh đèn thoát hiểm nhấp nháy chập chờn cứ như trên phim được xem ý\n",
      "predicted_text: khi túc xà vắng tanh, đêm thả thiện từ ngất ngại chật chơn trừ nước trên phim được xem y\n",
      "Processing: FPTOpenSpeechData_Set001_V0.1_000136.mp3\n"
     ]
    },
    {
     "name": "stderr",
     "output_type": "stream",
     "text": [
      "/home/ngo/anaconda3/lib/python3.12/site-packages/whisper/transcribe.py:126: UserWarning: FP16 is not supported on CPU; using FP32 instead\n",
      "  warnings.warn(\"FP16 is not supported on CPU; using FP32 instead\")\n"
     ]
    },
    {
     "name": "stdout",
     "output_type": "stream",
     "text": [
      "reference_text: mở\n",
      "predicted_text: mở\n",
      "Processing: FPTOpenSpeechData_Set001_V0.1_000137.mp3\n"
     ]
    },
    {
     "name": "stderr",
     "output_type": "stream",
     "text": [
      "/home/ngo/anaconda3/lib/python3.12/site-packages/whisper/transcribe.py:126: UserWarning: FP16 is not supported on CPU; using FP32 instead\n",
      "  warnings.warn(\"FP16 is not supported on CPU; using FP32 instead\")\n"
     ]
    },
    {
     "name": "stdout",
     "output_type": "stream",
     "text": [
      "reference_text: tốt nhất anh không nên làm nó\n",
      "predicted_text: cô thích anh không nên làm nó\n",
      "Processing: FPTOpenSpeechData_Set001_V0.1_000138.mp3\n"
     ]
    },
    {
     "name": "stderr",
     "output_type": "stream",
     "text": [
      "/home/ngo/anaconda3/lib/python3.12/site-packages/whisper/transcribe.py:126: UserWarning: FP16 is not supported on CPU; using FP32 instead\n",
      "  warnings.warn(\"FP16 is not supported on CPU; using FP32 instead\")\n"
     ]
    },
    {
     "name": "stdout",
     "output_type": "stream",
     "text": [
      "reference_text: tôi có thể mua vé ở đâu\n",
      "predicted_text: tôi không thể mua vẹ ở đâu\n",
      "Processing: FPTOpenSpeechData_Set001_V0.1_000139.mp3\n"
     ]
    },
    {
     "name": "stderr",
     "output_type": "stream",
     "text": [
      "/home/ngo/anaconda3/lib/python3.12/site-packages/whisper/transcribe.py:126: UserWarning: FP16 is not supported on CPU; using FP32 instead\n",
      "  warnings.warn(\"FP16 is not supported on CPU; using FP32 instead\")\n"
     ]
    },
    {
     "name": "stdout",
     "output_type": "stream",
     "text": [
      "reference_text: vậy điều gì ủng hộ ý tưởng táo bạo trên\n",
      "predicted_text: vậy đều gì có ý tưởng khó bạo chứ?\n",
      "Processing: FPTOpenSpeechData_Set001_V0.1_000140.mp3\n"
     ]
    },
    {
     "name": "stderr",
     "output_type": "stream",
     "text": [
      "/home/ngo/anaconda3/lib/python3.12/site-packages/whisper/transcribe.py:126: UserWarning: FP16 is not supported on CPU; using FP32 instead\n",
      "  warnings.warn(\"FP16 is not supported on CPU; using FP32 instead\")\n"
     ]
    },
    {
     "name": "stdout",
     "output_type": "stream",
     "text": [
      "reference_text: họ sẽ chơi nhiều ca khúc từ bộ phim âm thanh của âm nhạc\n",
      "predicted_text: họ sẽ chơi nhiều ca khúc từ bộ phim âm thanh của âm nhạc.\n",
      "Processing: FPTOpenSpeechData_Set001_V0.1_000141.mp3\n"
     ]
    },
    {
     "name": "stderr",
     "output_type": "stream",
     "text": [
      "/home/ngo/anaconda3/lib/python3.12/site-packages/whisper/transcribe.py:126: UserWarning: FP16 is not supported on CPU; using FP32 instead\n",
      "  warnings.warn(\"FP16 is not supported on CPU; using FP32 instead\")\n"
     ]
    },
    {
     "name": "stdout",
     "output_type": "stream",
     "text": [
      "reference_text: mã vùng của plymouth là không một bảy năm hai\n",
      "predicted_text: mà vùng của flymouth là 01752\n",
      "Processing: FPTOpenSpeechData_Set001_V0.1_000142.mp3\n"
     ]
    },
    {
     "name": "stderr",
     "output_type": "stream",
     "text": [
      "/home/ngo/anaconda3/lib/python3.12/site-packages/whisper/transcribe.py:126: UserWarning: FP16 is not supported on CPU; using FP32 instead\n",
      "  warnings.warn(\"FP16 is not supported on CPU; using FP32 instead\")\n"
     ]
    },
    {
     "name": "stdout",
     "output_type": "stream",
     "text": [
      "reference_text: không tôi luôn tỉ mỉ\n",
      "predicted_text: không, tôi luôn tin anh\n",
      "Processing: FPTOpenSpeechData_Set001_V0.1_000143.mp3\n"
     ]
    },
    {
     "name": "stderr",
     "output_type": "stream",
     "text": [
      "/home/ngo/anaconda3/lib/python3.12/site-packages/whisper/transcribe.py:126: UserWarning: FP16 is not supported on CPU; using FP32 instead\n",
      "  warnings.warn(\"FP16 is not supported on CPU; using FP32 instead\")\n"
     ]
    },
    {
     "name": "stdout",
     "output_type": "stream",
     "text": [
      "reference_text: một số trò chơi đòi hỏi các động tác chậm thận trọng hãy từ từ\n",
      "predicted_text: một số trò chơi đòi hỏi bắt động tác chậm, thận trọng hay tư tư.\n",
      "Processing: FPTOpenSpeechData_Set001_V0.1_000144.mp3\n"
     ]
    },
    {
     "name": "stderr",
     "output_type": "stream",
     "text": [
      "/home/ngo/anaconda3/lib/python3.12/site-packages/whisper/transcribe.py:126: UserWarning: FP16 is not supported on CPU; using FP32 instead\n",
      "  warnings.warn(\"FP16 is not supported on CPU; using FP32 instead\")\n"
     ]
    },
    {
     "name": "stdout",
     "output_type": "stream",
     "text": [
      "reference_text: có nên ưu tiên cho các hoạt động bí mật\n",
      "predicted_text: cảm ơn các bạn đã theo dõi và hẹn gặp lại.\n",
      "Processing: FPTOpenSpeechData_Set001_V0.1_000145.mp3\n"
     ]
    },
    {
     "name": "stderr",
     "output_type": "stream",
     "text": [
      "/home/ngo/anaconda3/lib/python3.12/site-packages/whisper/transcribe.py:126: UserWarning: FP16 is not supported on CPU; using FP32 instead\n",
      "  warnings.warn(\"FP16 is not supported on CPU; using FP32 instead\")\n"
     ]
    },
    {
     "name": "stdout",
     "output_type": "stream",
     "text": [
      "reference_text: nó là của anh\n",
      "predicted_text: nó là quân\n",
      "Processing: FPTOpenSpeechData_Set001_V0.1_000146.mp3\n"
     ]
    },
    {
     "name": "stderr",
     "output_type": "stream",
     "text": [
      "/home/ngo/anaconda3/lib/python3.12/site-packages/whisper/transcribe.py:126: UserWarning: FP16 is not supported on CPU; using FP32 instead\n",
      "  warnings.warn(\"FP16 is not supported on CPU; using FP32 instead\")\n"
     ]
    },
    {
     "name": "stdout",
     "output_type": "stream",
     "text": [
      "reference_text: -n lỗ mũi hẹp -n có tài kiếm tiền\n",
      "predicted_text: cảm ơn các bạn đã theo dõi và hẹn gặp lại.\n",
      "Processing: FPTOpenSpeechData_Set001_V0.1_000147.mp3\n"
     ]
    },
    {
     "name": "stderr",
     "output_type": "stream",
     "text": [
      "/home/ngo/anaconda3/lib/python3.12/site-packages/whisper/transcribe.py:126: UserWarning: FP16 is not supported on CPU; using FP32 instead\n",
      "  warnings.warn(\"FP16 is not supported on CPU; using FP32 instead\")\n"
     ]
    },
    {
     "name": "stdout",
     "output_type": "stream",
     "text": [
      "reference_text: đây là ghi chép cho phí nào\n",
      "predicted_text: đây là ghi chép cho phí nào.\n",
      "Processing: FPTOpenSpeechData_Set001_V0.1_000148.mp3\n"
     ]
    },
    {
     "name": "stderr",
     "output_type": "stream",
     "text": [
      "/home/ngo/anaconda3/lib/python3.12/site-packages/whisper/transcribe.py:126: UserWarning: FP16 is not supported on CPU; using FP32 instead\n",
      "  warnings.warn(\"FP16 is not supported on CPU; using FP32 instead\")\n"
     ]
    },
    {
     "name": "stdout",
     "output_type": "stream",
     "text": [
      "reference_text: tôi bị các triệu chứng viêm phổi\n",
      "predicted_text: tôi bị cạp theo trực tiếp thôi.\n",
      "Processing: FPTOpenSpeechData_Set001_V0.1_000149.mp3\n"
     ]
    },
    {
     "name": "stderr",
     "output_type": "stream",
     "text": [
      "/home/ngo/anaconda3/lib/python3.12/site-packages/whisper/transcribe.py:126: UserWarning: FP16 is not supported on CPU; using FP32 instead\n",
      "  warnings.warn(\"FP16 is not supported on CPU; using FP32 instead\")\n"
     ]
    },
    {
     "name": "stdout",
     "output_type": "stream",
     "text": [
      "reference_text: còn bao nhiều giờ thì chúng ta sẽ đến new york\n",
      "predicted_text: còn bao nhiêu giờ thì chúng ta sẽ đến như đó?\n",
      "Processing: FPTOpenSpeechData_Set001_V0.1_000150.mp3\n"
     ]
    },
    {
     "name": "stderr",
     "output_type": "stream",
     "text": [
      "/home/ngo/anaconda3/lib/python3.12/site-packages/whisper/transcribe.py:126: UserWarning: FP16 is not supported on CPU; using FP32 instead\n",
      "  warnings.warn(\"FP16 is not supported on CPU; using FP32 instead\")\n"
     ]
    },
    {
     "name": "stdout",
     "output_type": "stream",
     "text": [
      "reference_text: thị trường chính thức kém sôi động nên thị trường phi tập trung cũng ê ẩm\n",
      "predicted_text: thị trường chính thức kém sơ động nên thị trường phi tập trung cũng nghe lầm.\n",
      "Processing: FPTOpenSpeechData_Set001_V0.1_000151.mp3\n"
     ]
    },
    {
     "name": "stderr",
     "output_type": "stream",
     "text": [
      "/home/ngo/anaconda3/lib/python3.12/site-packages/whisper/transcribe.py:126: UserWarning: FP16 is not supported on CPU; using FP32 instead\n",
      "  warnings.warn(\"FP16 is not supported on CPU; using FP32 instead\")\n"
     ]
    },
    {
     "name": "stdout",
     "output_type": "stream",
     "text": [
      "reference_text: chúng tôi đã thuê căn hộ\n",
      "predicted_text: chúng tôi đã thuê căn hộ.\n",
      "Processing: FPTOpenSpeechData_Set001_V0.1_000152.mp3\n"
     ]
    },
    {
     "name": "stderr",
     "output_type": "stream",
     "text": [
      "/home/ngo/anaconda3/lib/python3.12/site-packages/whisper/transcribe.py:126: UserWarning: FP16 is not supported on CPU; using FP32 instead\n",
      "  warnings.warn(\"FP16 is not supported on CPU; using FP32 instead\")\n"
     ]
    },
    {
     "name": "stdout",
     "output_type": "stream",
     "text": [
      "reference_text: mở lên\n",
      "predicted_text: mở lên!\n",
      "Processing: FPTOpenSpeechData_Set001_V0.1_000153.mp3\n"
     ]
    },
    {
     "name": "stderr",
     "output_type": "stream",
     "text": [
      "/home/ngo/anaconda3/lib/python3.12/site-packages/whisper/transcribe.py:126: UserWarning: FP16 is not supported on CPU; using FP32 instead\n",
      "  warnings.warn(\"FP16 is not supported on CPU; using FP32 instead\")\n"
     ]
    },
    {
     "name": "stdout",
     "output_type": "stream",
     "text": [
      "reference_text: cuộc tình đó tồn tại cho tới ngày cô ta -n khối tài sản mà ông giao phó rồi biến mất tăm\n",
      "predicted_text: cuộc tình đó tồn tại cho tới ngày cô ta trưởng quản khối tài sản mà ông ra phó rồi biến mất tâm.\n",
      "Processing: FPTOpenSpeechData_Set001_V0.1_000154.mp3\n"
     ]
    },
    {
     "name": "stderr",
     "output_type": "stream",
     "text": [
      "/home/ngo/anaconda3/lib/python3.12/site-packages/whisper/transcribe.py:126: UserWarning: FP16 is not supported on CPU; using FP32 instead\n",
      "  warnings.warn(\"FP16 is not supported on CPU; using FP32 instead\")\n"
     ]
    },
    {
     "name": "stdout",
     "output_type": "stream",
     "text": [
      "reference_text: xin vui lòng hãy sẵn sàng vào lúc chín giờ rưỡi\n",
      "predicted_text: xin vui lòng hãy sẵn sàng vào lúc 9 giờ giờ ấy.\n",
      "Processing: FPTOpenSpeechData_Set001_V0.1_000155.mp3\n"
     ]
    },
    {
     "name": "stderr",
     "output_type": "stream",
     "text": [
      "/home/ngo/anaconda3/lib/python3.12/site-packages/whisper/transcribe.py:126: UserWarning: FP16 is not supported on CPU; using FP32 instead\n",
      "  warnings.warn(\"FP16 is not supported on CPU; using FP32 instead\")\n"
     ]
    },
    {
     "name": "stdout",
     "output_type": "stream",
     "text": [
      "reference_text: tôi không nghĩ như vậy\n",
      "predicted_text: tôi không nghĩ như vậy.\n",
      "Processing: FPTOpenSpeechData_Set001_V0.1_000156.mp3\n"
     ]
    },
    {
     "name": "stderr",
     "output_type": "stream",
     "text": [
      "/home/ngo/anaconda3/lib/python3.12/site-packages/whisper/transcribe.py:126: UserWarning: FP16 is not supported on CPU; using FP32 instead\n",
      "  warnings.warn(\"FP16 is not supported on CPU; using FP32 instead\")\n"
     ]
    },
    {
     "name": "stdout",
     "output_type": "stream",
     "text": [
      "reference_text: cách dễ nhất là tìm người khác để yêu\n",
      "predicted_text: cách dễ nhất là tìm người khác để yêu\n",
      "Processing: FPTOpenSpeechData_Set001_V0.1_000157.mp3\n"
     ]
    },
    {
     "name": "stderr",
     "output_type": "stream",
     "text": [
      "/home/ngo/anaconda3/lib/python3.12/site-packages/whisper/transcribe.py:126: UserWarning: FP16 is not supported on CPU; using FP32 instead\n",
      "  warnings.warn(\"FP16 is not supported on CPU; using FP32 instead\")\n"
     ]
    },
    {
     "name": "stdout",
     "output_type": "stream",
     "text": [
      "reference_text: hãy tận dụng những gì có sẵn từ thiên nhiên để làm đẹp làn da\n",
      "predicted_text: hãy tận dụng những gì có sẵn từ thiên nhiên để làm đẹp làng cha\n",
      "Processing: FPTOpenSpeechData_Set001_V0.1_000158.mp3\n"
     ]
    },
    {
     "name": "stderr",
     "output_type": "stream",
     "text": [
      "/home/ngo/anaconda3/lib/python3.12/site-packages/whisper/transcribe.py:126: UserWarning: FP16 is not supported on CPU; using FP32 instead\n",
      "  warnings.warn(\"FP16 is not supported on CPU; using FP32 instead\")\n"
     ]
    },
    {
     "name": "stdout",
     "output_type": "stream",
     "text": [
      "reference_text: cô lấy cho tôi cái khăn nào\n",
      "predicted_text: cô lấy cho tôi cái khăn nào?\n",
      "Processing: FPTOpenSpeechData_Set001_V0.1_000159.mp3\n"
     ]
    },
    {
     "name": "stderr",
     "output_type": "stream",
     "text": [
      "/home/ngo/anaconda3/lib/python3.12/site-packages/whisper/transcribe.py:126: UserWarning: FP16 is not supported on CPU; using FP32 instead\n",
      "  warnings.warn(\"FP16 is not supported on CPU; using FP32 instead\")\n"
     ]
    },
    {
     "name": "stdout",
     "output_type": "stream",
     "text": [
      "reference_text: lối đánh tấn công quen thuộc của chị biến mất thay vào đó là những đường bóng yếu ớt\n",
      "predicted_text: đồ đánh tấn công quan trọng của chị biến mất thay vào đó là những đường bóng yếu ớt\n",
      "Processing: FPTOpenSpeechData_Set001_V0.1_000160.mp3\n"
     ]
    },
    {
     "name": "stderr",
     "output_type": "stream",
     "text": [
      "/home/ngo/anaconda3/lib/python3.12/site-packages/whisper/transcribe.py:126: UserWarning: FP16 is not supported on CPU; using FP32 instead\n",
      "  warnings.warn(\"FP16 is not supported on CPU; using FP32 instead\")\n"
     ]
    },
    {
     "name": "stdout",
     "output_type": "stream",
     "text": [
      "reference_text: tôi có thể có bản đồ đường đi của đảo maui không\n",
      "predicted_text: tôi có thể có bản đồ được đi của tạo mai không?\n",
      "Processing: FPTOpenSpeechData_Set001_V0.1_000161.mp3\n"
     ]
    },
    {
     "name": "stderr",
     "output_type": "stream",
     "text": [
      "/home/ngo/anaconda3/lib/python3.12/site-packages/whisper/transcribe.py:126: UserWarning: FP16 is not supported on CPU; using FP32 instead\n",
      "  warnings.warn(\"FP16 is not supported on CPU; using FP32 instead\")\n"
     ]
    },
    {
     "name": "stdout",
     "output_type": "stream",
     "text": [
      "reference_text: tôi bị suyễn\n",
      "predicted_text: đâu bị xuyên\n",
      "Processing: FPTOpenSpeechData_Set001_V0.1_000162.mp3\n"
     ]
    },
    {
     "name": "stderr",
     "output_type": "stream",
     "text": [
      "/home/ngo/anaconda3/lib/python3.12/site-packages/whisper/transcribe.py:126: UserWarning: FP16 is not supported on CPU; using FP32 instead\n",
      "  warnings.warn(\"FP16 is not supported on CPU; using FP32 instead\")\n"
     ]
    },
    {
     "name": "stdout",
     "output_type": "stream",
     "text": [
      "reference_text: thành ra càng cổ phần hóa ồ ạt càng bán giá nội bộ ồ ạt trừ phi có sẵn một cơ chế kiểm soát\n",
      "predicted_text: thành ra các cổ phân hóa ô ạc căng bắn giá nổi bộ ô ạc tương trí có sẵn một cơ sở kiểm soát\n",
      "Processing: FPTOpenSpeechData_Set001_V0.1_000163.mp3\n"
     ]
    },
    {
     "name": "stderr",
     "output_type": "stream",
     "text": [
      "/home/ngo/anaconda3/lib/python3.12/site-packages/whisper/transcribe.py:126: UserWarning: FP16 is not supported on CPU; using FP32 instead\n",
      "  warnings.warn(\"FP16 is not supported on CPU; using FP32 instead\")\n"
     ]
    },
    {
     "name": "stdout",
     "output_type": "stream",
     "text": [
      "reference_text: nền tài chính nhật bản phụ thuộc khá lớn vào các chính sách tiền tệ của mỹ\n",
      "predicted_text: nên tài chính nhật bản phụ thuộc khá lớn vào các chính sách truyền tệ của mỹ\n",
      "Processing: FPTOpenSpeechData_Set001_V0.1_000164.mp3\n"
     ]
    },
    {
     "name": "stderr",
     "output_type": "stream",
     "text": [
      "/home/ngo/anaconda3/lib/python3.12/site-packages/whisper/transcribe.py:126: UserWarning: FP16 is not supported on CPU; using FP32 instead\n",
      "  warnings.warn(\"FP16 is not supported on CPU; using FP32 instead\")\n"
     ]
    },
    {
     "name": "stdout",
     "output_type": "stream",
     "text": [
      "reference_text: anh cất hành lý này cho tôi được không\n",
      "predicted_text: anh cất hình dị ra cho tôi được không?\n",
      "Processing: FPTOpenSpeechData_Set001_V0.1_000165.mp3\n"
     ]
    },
    {
     "name": "stderr",
     "output_type": "stream",
     "text": [
      "/home/ngo/anaconda3/lib/python3.12/site-packages/whisper/transcribe.py:126: UserWarning: FP16 is not supported on CPU; using FP32 instead\n",
      "  warnings.warn(\"FP16 is not supported on CPU; using FP32 instead\")\n"
     ]
    },
    {
     "name": "stdout",
     "output_type": "stream",
     "text": [
      "reference_text: obon nghĩa là gì\n",
      "predicted_text: ô bôn nghĩa là gì?\n",
      "Processing: FPTOpenSpeechData_Set001_V0.1_000166.mp3\n"
     ]
    },
    {
     "name": "stderr",
     "output_type": "stream",
     "text": [
      "/home/ngo/anaconda3/lib/python3.12/site-packages/whisper/transcribe.py:126: UserWarning: FP16 is not supported on CPU; using FP32 instead\n",
      "  warnings.warn(\"FP16 is not supported on CPU; using FP32 instead\")\n"
     ]
    },
    {
     "name": "stdout",
     "output_type": "stream",
     "text": [
      "reference_text: tăng nhiệt độ lên hai mươi chín độ\n",
      "predicted_text: tăng nhiệt độ lên 29 độ\n",
      "Processing: FPTOpenSpeechData_Set001_V0.1_000167.mp3\n"
     ]
    },
    {
     "name": "stderr",
     "output_type": "stream",
     "text": [
      "/home/ngo/anaconda3/lib/python3.12/site-packages/whisper/transcribe.py:126: UserWarning: FP16 is not supported on CPU; using FP32 instead\n",
      "  warnings.warn(\"FP16 is not supported on CPU; using FP32 instead\")\n"
     ]
    },
    {
     "name": "stdout",
     "output_type": "stream",
     "text": [
      "reference_text: kênh sáu\n",
      "predicted_text: cần sao?\n",
      "Processing: FPTOpenSpeechData_Set001_V0.1_000168.mp3\n"
     ]
    },
    {
     "name": "stderr",
     "output_type": "stream",
     "text": [
      "/home/ngo/anaconda3/lib/python3.12/site-packages/whisper/transcribe.py:126: UserWarning: FP16 is not supported on CPU; using FP32 instead\n",
      "  warnings.warn(\"FP16 is not supported on CPU; using FP32 instead\")\n"
     ]
    },
    {
     "name": "stdout",
     "output_type": "stream",
     "text": [
      "reference_text: phờ phạc sau hành trình dài\n",
      "predicted_text: hậu pháp của dân dài\n",
      "Processing: FPTOpenSpeechData_Set001_V0.1_000169.mp3\n"
     ]
    },
    {
     "name": "stderr",
     "output_type": "stream",
     "text": [
      "/home/ngo/anaconda3/lib/python3.12/site-packages/whisper/transcribe.py:126: UserWarning: FP16 is not supported on CPU; using FP32 instead\n",
      "  warnings.warn(\"FP16 is not supported on CPU; using FP32 instead\")\n"
     ]
    },
    {
     "name": "stdout",
     "output_type": "stream",
     "text": [
      "reference_text: mười hai giờ mười lăm rồi\n",
      "predicted_text: 12h15 rồi\n",
      "Processing: FPTOpenSpeechData_Set001_V0.1_000170.mp3\n"
     ]
    },
    {
     "name": "stderr",
     "output_type": "stream",
     "text": [
      "/home/ngo/anaconda3/lib/python3.12/site-packages/whisper/transcribe.py:126: UserWarning: FP16 is not supported on CPU; using FP32 instead\n",
      "  warnings.warn(\"FP16 is not supported on CPU; using FP32 instead\")\n"
     ]
    },
    {
     "name": "stdout",
     "output_type": "stream",
     "text": [
      "reference_text: tiêu cực ương ngạnh\n",
      "predicted_text: tiếp tục tương ảnh.\n",
      "Processing: FPTOpenSpeechData_Set001_V0.1_000171.mp3\n"
     ]
    },
    {
     "name": "stderr",
     "output_type": "stream",
     "text": [
      "/home/ngo/anaconda3/lib/python3.12/site-packages/whisper/transcribe.py:126: UserWarning: FP16 is not supported on CPU; using FP32 instead\n",
      "  warnings.warn(\"FP16 is not supported on CPU; using FP32 instead\")\n"
     ]
    },
    {
     "name": "stdout",
     "output_type": "stream",
     "text": [
      "reference_text: tuy nhiên hôm qua ông đã phá lệ\n",
      "predicted_text: tuy nhiên, không bao giờ đạt phá lệ.\n",
      "Processing: FPTOpenSpeechData_Set001_V0.1_000172.mp3\n"
     ]
    },
    {
     "name": "stderr",
     "output_type": "stream",
     "text": [
      "/home/ngo/anaconda3/lib/python3.12/site-packages/whisper/transcribe.py:126: UserWarning: FP16 is not supported on CPU; using FP32 instead\n",
      "  warnings.warn(\"FP16 is not supported on CPU; using FP32 instead\")\n"
     ]
    },
    {
     "name": "stdout",
     "output_type": "stream",
     "text": [
      "reference_text: phát triển\n",
      "predicted_text: pháp tiến\n",
      "Processing: FPTOpenSpeechData_Set001_V0.1_000173.mp3\n"
     ]
    },
    {
     "name": "stderr",
     "output_type": "stream",
     "text": [
      "/home/ngo/anaconda3/lib/python3.12/site-packages/whisper/transcribe.py:126: UserWarning: FP16 is not supported on CPU; using FP32 instead\n",
      "  warnings.warn(\"FP16 is not supported on CPU; using FP32 instead\")\n"
     ]
    },
    {
     "name": "stdout",
     "output_type": "stream",
     "text": [
      "reference_text: cái xác cứ thế khô dần cho đến hôm nay\n",
      "predicted_text: cải sát cứ thế khô giật cho đến hôm nay\n",
      "Processing: FPTOpenSpeechData_Set001_V0.1_000174.mp3\n"
     ]
    },
    {
     "name": "stderr",
     "output_type": "stream",
     "text": [
      "/home/ngo/anaconda3/lib/python3.12/site-packages/whisper/transcribe.py:126: UserWarning: FP16 is not supported on CPU; using FP32 instead\n",
      "  warnings.warn(\"FP16 is not supported on CPU; using FP32 instead\")\n"
     ]
    },
    {
     "name": "stdout",
     "output_type": "stream",
     "text": [
      "reference_text: ti vi vtv hai\n",
      "predicted_text: hãy subscribe cho kênh ghiền mì gõ để không bỏ lỡ những video hấp dẫn\n",
      "Processing: FPTOpenSpeechData_Set001_V0.1_000175.mp3\n"
     ]
    },
    {
     "name": "stderr",
     "output_type": "stream",
     "text": [
      "/home/ngo/anaconda3/lib/python3.12/site-packages/whisper/transcribe.py:126: UserWarning: FP16 is not supported on CPU; using FP32 instead\n",
      "  warnings.warn(\"FP16 is not supported on CPU; using FP32 instead\")\n"
     ]
    },
    {
     "name": "stdout",
     "output_type": "stream",
     "text": [
      "reference_text: nhóm cho rằng điều đó chứng tỏ phụ nữ tập trung hơn vào ngôn ngữ của sự hài hước\n",
      "predicted_text: nhóm chắc rằng điều đó chứng tỏ phụ nữ tập trung hơn vào nguồn lưỡi của sự hài hước\n",
      "Processing: FPTOpenSpeechData_Set001_V0.1_000176.mp3\n"
     ]
    },
    {
     "name": "stderr",
     "output_type": "stream",
     "text": [
      "/home/ngo/anaconda3/lib/python3.12/site-packages/whisper/transcribe.py:126: UserWarning: FP16 is not supported on CPU; using FP32 instead\n",
      "  warnings.warn(\"FP16 is not supported on CPU; using FP32 instead\")\n"
     ]
    },
    {
     "name": "stdout",
     "output_type": "stream",
     "text": [
      "reference_text: phòng quá ồn và tôi không thể ngủ được\n",
      "predicted_text: phòng quá ồn, tôi không thể ngủ được.\n",
      "Processing: FPTOpenSpeechData_Set001_V0.1_000177.mp3\n"
     ]
    },
    {
     "name": "stderr",
     "output_type": "stream",
     "text": [
      "/home/ngo/anaconda3/lib/python3.12/site-packages/whisper/transcribe.py:126: UserWarning: FP16 is not supported on CPU; using FP32 instead\n",
      "  warnings.warn(\"FP16 is not supported on CPU; using FP32 instead\")\n"
     ]
    },
    {
     "name": "stdout",
     "output_type": "stream",
     "text": [
      "reference_text: những lãnh đạo cấp cao đang phải đối mặt với việc giảm lương đến mức nào hiện vẫn chưa rõ\n",
      "predicted_text: những lãnh đạo cấp cao đang phải đối mặt với việc giảm lương đến mức nào nhận vẫn chưa rõ.\n",
      "Processing: FPTOpenSpeechData_Set001_V0.1_000178.mp3\n"
     ]
    },
    {
     "name": "stderr",
     "output_type": "stream",
     "text": [
      "/home/ngo/anaconda3/lib/python3.12/site-packages/whisper/transcribe.py:126: UserWarning: FP16 is not supported on CPU; using FP32 instead\n",
      "  warnings.warn(\"FP16 is not supported on CPU; using FP32 instead\")\n"
     ]
    },
    {
     "name": "stdout",
     "output_type": "stream",
     "text": [
      "reference_text: xe mỹ từng là biểu tượng giàu sang\n",
      "predicted_text: xe mỹ từng là biểu tượng giàu sang.\n",
      "Processing: FPTOpenSpeechData_Set001_V0.1_000179.mp3\n"
     ]
    },
    {
     "name": "stderr",
     "output_type": "stream",
     "text": [
      "/home/ngo/anaconda3/lib/python3.12/site-packages/whisper/transcribe.py:126: UserWarning: FP16 is not supported on CPU; using FP32 instead\n",
      "  warnings.warn(\"FP16 is not supported on CPU; using FP32 instead\")\n"
     ]
    },
    {
     "name": "stdout",
     "output_type": "stream",
     "text": [
      "reference_text: bữa ăn sinh viên từ lâu đã đơn giản lắm rồi giờ càng đơn giản hơn bao giờ hết\n",
      "predicted_text: bữa ăn sinh viên từ lâu đã đơn giản lắm rồi giờ càng đơn giản hơn bao giờ hết\n",
      "Processing: FPTOpenSpeechData_Set001_V0.1_000180.mp3\n"
     ]
    },
    {
     "name": "stderr",
     "output_type": "stream",
     "text": [
      "/home/ngo/anaconda3/lib/python3.12/site-packages/whisper/transcribe.py:126: UserWarning: FP16 is not supported on CPU; using FP32 instead\n",
      "  warnings.warn(\"FP16 is not supported on CPU; using FP32 instead\")\n"
     ]
    },
    {
     "name": "stdout",
     "output_type": "stream",
     "text": [
      "reference_text: bệnh này có thường xảy ra không\n",
      "predicted_text: bệnh này có thường xảy ra không?\n",
      "Processing: FPTOpenSpeechData_Set001_V0.1_000181.mp3\n"
     ]
    },
    {
     "name": "stderr",
     "output_type": "stream",
     "text": [
      "/home/ngo/anaconda3/lib/python3.12/site-packages/whisper/transcribe.py:126: UserWarning: FP16 is not supported on CPU; using FP32 instead\n",
      "  warnings.warn(\"FP16 is not supported on CPU; using FP32 instead\")\n"
     ]
    },
    {
     "name": "stdout",
     "output_type": "stream",
     "text": [
      "reference_text: anh có đang thấy cầu vồng không\n",
      "predicted_text: anh có đang thấy cậu bồn không?\n",
      "Processing: FPTOpenSpeechData_Set001_V0.1_000182.mp3\n"
     ]
    },
    {
     "name": "stderr",
     "output_type": "stream",
     "text": [
      "/home/ngo/anaconda3/lib/python3.12/site-packages/whisper/transcribe.py:126: UserWarning: FP16 is not supported on CPU; using FP32 instead\n",
      "  warnings.warn(\"FP16 is not supported on CPU; using FP32 instead\")\n"
     ]
    },
    {
     "name": "stdout",
     "output_type": "stream",
     "text": [
      "reference_text: họ phải đảm bảo có đủ vắc xin và thực hiện các biện pháp cần thiết khác để đối phó với tình hình\n",
      "predicted_text: họ phải đặt vào một bức xin và thực hiện các việc sắp cần thiết giá trị đối so với tích dịch.\n",
      "Processing: FPTOpenSpeechData_Set001_V0.1_000183.mp3\n"
     ]
    },
    {
     "name": "stderr",
     "output_type": "stream",
     "text": [
      "/home/ngo/anaconda3/lib/python3.12/site-packages/whisper/transcribe.py:126: UserWarning: FP16 is not supported on CPU; using FP32 instead\n",
      "  warnings.warn(\"FP16 is not supported on CPU; using FP32 instead\")\n"
     ]
    },
    {
     "name": "stdout",
     "output_type": "stream",
     "text": [
      "reference_text: anh gọi đánh thức tôi lúc bảy giờ sáng mai được không\n",
      "predicted_text: anh gọi đánh thức tôi lúc 7 giờ sáng mai được không?\n",
      "Processing: FPTOpenSpeechData_Set001_V0.1_000184.mp3\n"
     ]
    },
    {
     "name": "stderr",
     "output_type": "stream",
     "text": [
      "/home/ngo/anaconda3/lib/python3.12/site-packages/whisper/transcribe.py:126: UserWarning: FP16 is not supported on CPU; using FP32 instead\n",
      "  warnings.warn(\"FP16 is not supported on CPU; using FP32 instead\")\n"
     ]
    },
    {
     "name": "stdout",
     "output_type": "stream",
     "text": [
      "reference_text: tự đăng cáo phó cho mình\n",
      "predicted_text: được năng thảo phó cho mình\n",
      "Processing: FPTOpenSpeechData_Set001_V0.1_000185.mp3\n"
     ]
    },
    {
     "name": "stderr",
     "output_type": "stream",
     "text": [
      "/home/ngo/anaconda3/lib/python3.12/site-packages/whisper/transcribe.py:126: UserWarning: FP16 is not supported on CPU; using FP32 instead\n",
      "  warnings.warn(\"FP16 is not supported on CPU; using FP32 instead\")\n"
     ]
    },
    {
     "name": "stdout",
     "output_type": "stream",
     "text": [
      "reference_text: anh thích kiểu nào hơn\n",
      "predicted_text: anh thích điều nào hơn?\n",
      "Processing: FPTOpenSpeechData_Set001_V0.1_000186.mp3\n"
     ]
    },
    {
     "name": "stderr",
     "output_type": "stream",
     "text": [
      "/home/ngo/anaconda3/lib/python3.12/site-packages/whisper/transcribe.py:126: UserWarning: FP16 is not supported on CPU; using FP32 instead\n",
      "  warnings.warn(\"FP16 is not supported on CPU; using FP32 instead\")\n"
     ]
    },
    {
     "name": "stdout",
     "output_type": "stream",
     "text": [
      "reference_text: ánh đuốc hắt lên khoanh cổ cụt đỏ hỏn hụt hẫng\n",
      "predicted_text: ảnh được hắt lên khoánh cổ cụt, đỏ hòn hụt hởng.\n",
      "Processing: FPTOpenSpeechData_Set001_V0.1_000187.mp3\n"
     ]
    },
    {
     "name": "stderr",
     "output_type": "stream",
     "text": [
      "/home/ngo/anaconda3/lib/python3.12/site-packages/whisper/transcribe.py:126: UserWarning: FP16 is not supported on CPU; using FP32 instead\n",
      "  warnings.warn(\"FP16 is not supported on CPU; using FP32 instead\")\n"
     ]
    },
    {
     "name": "stdout",
     "output_type": "stream",
     "text": [
      "reference_text: xin lỗi anh có thể -n lĩnh tiền mặt cái này không\n",
      "predicted_text: xin lỗi, anh có thể bình tiên mặt cái này không?\n",
      "Processing: FPTOpenSpeechData_Set001_V0.1_000188.mp3\n"
     ]
    },
    {
     "name": "stderr",
     "output_type": "stream",
     "text": [
      "/home/ngo/anaconda3/lib/python3.12/site-packages/whisper/transcribe.py:126: UserWarning: FP16 is not supported on CPU; using FP32 instead\n",
      "  warnings.warn(\"FP16 is not supported on CPU; using FP32 instead\")\n"
     ]
    },
    {
     "name": "stdout",
     "output_type": "stream",
     "text": [
      "reference_text: cảnh sát biết rằng có một nhóm bí mật hoạt động bất hợp pháp\n",
      "predicted_text: cảnh sát biết rằng có một nhóm bí mật hoạt động bất hợp pháp.\n",
      "Processing: FPTOpenSpeechData_Set001_V0.1_000189.mp3\n"
     ]
    },
    {
     "name": "stderr",
     "output_type": "stream",
     "text": [
      "/home/ngo/anaconda3/lib/python3.12/site-packages/whisper/transcribe.py:126: UserWarning: FP16 is not supported on CPU; using FP32 instead\n",
      "  warnings.warn(\"FP16 is not supported on CPU; using FP32 instead\")\n"
     ]
    },
    {
     "name": "stdout",
     "output_type": "stream",
     "text": [
      "reference_text: thiết bị còn gửi thông điệp cảnh báo tới người chủ khi pin sắp hết\n",
      "predicted_text: thiết bị còn gửi thông điệp cảnh báo tới người chủ khi binh sắp hết.\n",
      "Processing: FPTOpenSpeechData_Set001_V0.1_000190.mp3\n"
     ]
    },
    {
     "name": "stderr",
     "output_type": "stream",
     "text": [
      "/home/ngo/anaconda3/lib/python3.12/site-packages/whisper/transcribe.py:126: UserWarning: FP16 is not supported on CPU; using FP32 instead\n",
      "  warnings.warn(\"FP16 is not supported on CPU; using FP32 instead\")\n"
     ]
    },
    {
     "name": "stdout",
     "output_type": "stream",
     "text": [
      "reference_text: xin vui lòng cứ mang giày\n",
      "predicted_text: xin vui lòng cửa mang giày\n",
      "Processing: FPTOpenSpeechData_Set001_V0.1_000191.mp3\n"
     ]
    },
    {
     "name": "stderr",
     "output_type": "stream",
     "text": [
      "/home/ngo/anaconda3/lib/python3.12/site-packages/whisper/transcribe.py:126: UserWarning: FP16 is not supported on CPU; using FP32 instead\n",
      "  warnings.warn(\"FP16 is not supported on CPU; using FP32 instead\")\n"
     ]
    },
    {
     "name": "stdout",
     "output_type": "stream",
     "text": [
      "reference_text: tôi không biết chắc là có tai nạn\n",
      "predicted_text: tôi không biết chắc là mỏ tai nào\n",
      "Processing: FPTOpenSpeechData_Set001_V0.1_000192.mp3\n"
     ]
    },
    {
     "name": "stderr",
     "output_type": "stream",
     "text": [
      "/home/ngo/anaconda3/lib/python3.12/site-packages/whisper/transcribe.py:126: UserWarning: FP16 is not supported on CPU; using FP32 instead\n",
      "  warnings.warn(\"FP16 is not supported on CPU; using FP32 instead\")\n"
     ]
    },
    {
     "name": "stdout",
     "output_type": "stream",
     "text": [
      "reference_text: tao nhanh đến mức nào\n",
      "predicted_text: tao lấy đến mức lọ\n",
      "Processing: FPTOpenSpeechData_Set001_V0.1_000193.mp3\n"
     ]
    },
    {
     "name": "stderr",
     "output_type": "stream",
     "text": [
      "/home/ngo/anaconda3/lib/python3.12/site-packages/whisper/transcribe.py:126: UserWarning: FP16 is not supported on CPU; using FP32 instead\n",
      "  warnings.warn(\"FP16 is not supported on CPU; using FP32 instead\")\n"
     ]
    },
    {
     "name": "stdout",
     "output_type": "stream",
     "text": [
      "reference_text: bữa tiệc sống động -n\n",
      "predicted_text: bớ việt sống động\n",
      "Processing: FPTOpenSpeechData_Set001_V0.1_000194.mp3\n"
     ]
    },
    {
     "name": "stderr",
     "output_type": "stream",
     "text": [
      "/home/ngo/anaconda3/lib/python3.12/site-packages/whisper/transcribe.py:126: UserWarning: FP16 is not supported on CPU; using FP32 instead\n",
      "  warnings.warn(\"FP16 is not supported on CPU; using FP32 instead\")\n"
     ]
    },
    {
     "name": "stdout",
     "output_type": "stream",
     "text": [
      "reference_text: vậy còn yếu tố tinh thần thì sao\n",
      "predicted_text: vậy còn yếu tố tích thật thì sao?\n",
      "Processing: FPTOpenSpeechData_Set001_V0.1_000195.mp3\n"
     ]
    },
    {
     "name": "stderr",
     "output_type": "stream",
     "text": [
      "/home/ngo/anaconda3/lib/python3.12/site-packages/whisper/transcribe.py:126: UserWarning: FP16 is not supported on CPU; using FP32 instead\n",
      "  warnings.warn(\"FP16 is not supported on CPU; using FP32 instead\")\n"
     ]
    },
    {
     "name": "stdout",
     "output_type": "stream",
     "text": [
      "reference_text: cái này trên tầng ba\n",
      "predicted_text: cái này trên tầng 3\n",
      "Processing: FPTOpenSpeechData_Set001_V0.1_000196.mp3\n"
     ]
    },
    {
     "name": "stderr",
     "output_type": "stream",
     "text": [
      "/home/ngo/anaconda3/lib/python3.12/site-packages/whisper/transcribe.py:126: UserWarning: FP16 is not supported on CPU; using FP32 instead\n",
      "  warnings.warn(\"FP16 is not supported on CPU; using FP32 instead\")\n"
     ]
    },
    {
     "name": "stdout",
     "output_type": "stream",
     "text": [
      "reference_text: chuyến bay của anh khi nào\n",
      "predicted_text: việc bay của anh khi nào?\n",
      "Processing: FPTOpenSpeechData_Set001_V0.1_000197.mp3\n"
     ]
    },
    {
     "name": "stderr",
     "output_type": "stream",
     "text": [
      "/home/ngo/anaconda3/lib/python3.12/site-packages/whisper/transcribe.py:126: UserWarning: FP16 is not supported on CPU; using FP32 instead\n",
      "  warnings.warn(\"FP16 is not supported on CPU; using FP32 instead\")\n"
     ]
    },
    {
     "name": "stdout",
     "output_type": "stream",
     "text": [
      "reference_text: không không phải có bàn trống cho hai người không\n",
      "predicted_text: không, cũng phải, có quan trọng cho 2 người không?\n",
      "Processing: FPTOpenSpeechData_Set001_V0.1_000198.mp3\n"
     ]
    },
    {
     "name": "stderr",
     "output_type": "stream",
     "text": [
      "/home/ngo/anaconda3/lib/python3.12/site-packages/whisper/transcribe.py:126: UserWarning: FP16 is not supported on CPU; using FP32 instead\n",
      "  warnings.warn(\"FP16 is not supported on CPU; using FP32 instead\")\n"
     ]
    },
    {
     "name": "stdout",
     "output_type": "stream",
     "text": [
      "reference_text: tôi có thể có một tờ tạp chí khác không\n",
      "predicted_text: tôi có thể cuốn một tờ tạp chí khác không?\n",
      "Processing: FPTOpenSpeechData_Set001_V0.1_000199.mp3\n"
     ]
    },
    {
     "name": "stderr",
     "output_type": "stream",
     "text": [
      "/home/ngo/anaconda3/lib/python3.12/site-packages/whisper/transcribe.py:126: UserWarning: FP16 is not supported on CPU; using FP32 instead\n",
      "  warnings.warn(\"FP16 is not supported on CPU; using FP32 instead\")\n"
     ]
    },
    {
     "name": "stdout",
     "output_type": "stream",
     "text": [
      "reference_text: bán cho tôi một vé hạng hai đến chermarn\n",
      "predicted_text: bạn cho tôi một vẽ hàng hai điểm, xem ai?\n",
      "Processing: FPTOpenSpeechData_Set001_V0.1_000200.mp3\n"
     ]
    },
    {
     "name": "stderr",
     "output_type": "stream",
     "text": [
      "/home/ngo/anaconda3/lib/python3.12/site-packages/whisper/transcribe.py:126: UserWarning: FP16 is not supported on CPU; using FP32 instead\n",
      "  warnings.warn(\"FP16 is not supported on CPU; using FP32 instead\")\n"
     ]
    },
    {
     "name": "stdout",
     "output_type": "stream",
     "text": [
      "reference_text: jerry đây là jack làm ơn gọi cho edith\n",
      "predicted_text: xin hãy để ý đây là sách mà vừa gọi cho để ý\n",
      "Processing: FPTOpenSpeechData_Set001_V0.1_000201.mp3\n"
     ]
    },
    {
     "name": "stderr",
     "output_type": "stream",
     "text": [
      "/home/ngo/anaconda3/lib/python3.12/site-packages/whisper/transcribe.py:126: UserWarning: FP16 is not supported on CPU; using FP32 instead\n",
      "  warnings.warn(\"FP16 is not supported on CPU; using FP32 instead\")\n"
     ]
    },
    {
     "name": "stdout",
     "output_type": "stream",
     "text": [
      "reference_text: tất cả những gì nước mỹ làm chỉ đơn thuần là vì muốn sở hữu những nguồn tài nguyên quý giá của các quốc gia đó\n",
      "predicted_text: tất cả những gì nước mỹ làm chỉ đơn thuần là muốn sở hữu những nguồn tài nguyên di giá của các quốc gia đó.\n",
      "Processing: FPTOpenSpeechData_Set001_V0.1_000202.mp3\n"
     ]
    },
    {
     "name": "stderr",
     "output_type": "stream",
     "text": [
      "/home/ngo/anaconda3/lib/python3.12/site-packages/whisper/transcribe.py:126: UserWarning: FP16 is not supported on CPU; using FP32 instead\n",
      "  warnings.warn(\"FP16 is not supported on CPU; using FP32 instead\")\n"
     ]
    },
    {
     "name": "stdout",
     "output_type": "stream",
     "text": [
      "reference_text: chúng sở hữu tiếng thét chói tai và rất thích nhảy nhót\n",
      "predicted_text: chúng sở hữu tiếng thích chói tai và lứt thích nhẹ nhót.\n",
      "Processing: FPTOpenSpeechData_Set001_V0.1_000203.mp3\n"
     ]
    },
    {
     "name": "stderr",
     "output_type": "stream",
     "text": [
      "/home/ngo/anaconda3/lib/python3.12/site-packages/whisper/transcribe.py:126: UserWarning: FP16 is not supported on CPU; using FP32 instead\n",
      "  warnings.warn(\"FP16 is not supported on CPU; using FP32 instead\")\n"
     ]
    },
    {
     "name": "stdout",
     "output_type": "stream",
     "text": [
      "reference_text: tưởng dễ đẻ trứng vàng nhiều đơn vị ùn ùn xin thành lập công ty chứng khoán ngay lúc thị trường đỉnh cao\n",
      "predicted_text: tưởng dễ đẹp, trứng đỏ, nhiều đơn vị ủng hộ trên thành lập công ty trứng quán ngay lúc thị trường đỉnh cao.\n",
      "Processing: FPTOpenSpeechData_Set001_V0.1_000204.mp3\n"
     ]
    },
    {
     "name": "stderr",
     "output_type": "stream",
     "text": [
      "/home/ngo/anaconda3/lib/python3.12/site-packages/whisper/transcribe.py:126: UserWarning: FP16 is not supported on CPU; using FP32 instead\n",
      "  warnings.warn(\"FP16 is not supported on CPU; using FP32 instead\")\n"
     ]
    },
    {
     "name": "stdout",
     "output_type": "stream",
     "text": [
      "reference_text: ừ bạn đứng không đúng băng chuyền\n",
      "predicted_text: thì bạn đúng không đúng bằng quyền\n",
      "Processing: FPTOpenSpeechData_Set001_V0.1_000205.mp3\n"
     ]
    },
    {
     "name": "stderr",
     "output_type": "stream",
     "text": [
      "/home/ngo/anaconda3/lib/python3.12/site-packages/whisper/transcribe.py:126: UserWarning: FP16 is not supported on CPU; using FP32 instead\n",
      "  warnings.warn(\"FP16 is not supported on CPU; using FP32 instead\")\n"
     ]
    },
    {
     "name": "stdout",
     "output_type": "stream",
     "text": [
      "reference_text: ngân hàng phương nam cũng một phen hú vía khi thông tin rủi ro tín dụng bị rò rỉ ra ngoài\n",
      "predicted_text: nên là phương nam cũng là fan ủng viên khi thông tin dùng do tín dụng lý do gì được hoặc\n",
      "Processing: FPTOpenSpeechData_Set001_V0.1_000206.mp3\n"
     ]
    },
    {
     "name": "stderr",
     "output_type": "stream",
     "text": [
      "/home/ngo/anaconda3/lib/python3.12/site-packages/whisper/transcribe.py:126: UserWarning: FP16 is not supported on CPU; using FP32 instead\n",
      "  warnings.warn(\"FP16 is not supported on CPU; using FP32 instead\")\n"
     ]
    },
    {
     "name": "stdout",
     "output_type": "stream",
     "text": [
      "reference_text: bà mẹ nghèo đông con\n",
      "predicted_text: bà mẹ nghèo đóng con\n",
      "Processing: FPTOpenSpeechData_Set001_V0.1_000207.mp3\n"
     ]
    },
    {
     "name": "stderr",
     "output_type": "stream",
     "text": [
      "/home/ngo/anaconda3/lib/python3.12/site-packages/whisper/transcribe.py:126: UserWarning: FP16 is not supported on CPU; using FP32 instead\n",
      "  warnings.warn(\"FP16 is not supported on CPU; using FP32 instead\")\n"
     ]
    },
    {
     "name": "stdout",
     "output_type": "stream",
     "text": [
      "reference_text: mẫu xe được trình làng ở triển lãm được giới truyền thông coi là hình mẫu của chiếc bốn cửa sẽ ra mắt vào tới\n",
      "predicted_text: mẫu xe được trình nằm trong triển lãm được giới truyền thông coi là hình mẫu của chiếc bốn cửa đã ra mắt vào tới.\n",
      "Processing: FPTOpenSpeechData_Set001_V0.1_000208.mp3\n"
     ]
    },
    {
     "name": "stderr",
     "output_type": "stream",
     "text": [
      "/home/ngo/anaconda3/lib/python3.12/site-packages/whisper/transcribe.py:126: UserWarning: FP16 is not supported on CPU; using FP32 instead\n",
      "  warnings.warn(\"FP16 is not supported on CPU; using FP32 instead\")\n"
     ]
    },
    {
     "name": "stdout",
     "output_type": "stream",
     "text": [
      "reference_text: anh mặc cái này trông rất đẹp\n",
      "predicted_text: ánh mặt các em giống rất đẹp.\n",
      "Processing: FPTOpenSpeechData_Set001_V0.1_000209.mp3\n"
     ]
    },
    {
     "name": "stderr",
     "output_type": "stream",
     "text": [
      "/home/ngo/anaconda3/lib/python3.12/site-packages/whisper/transcribe.py:126: UserWarning: FP16 is not supported on CPU; using FP32 instead\n",
      "  warnings.warn(\"FP16 is not supported on CPU; using FP32 instead\")\n"
     ]
    },
    {
     "name": "stdout",
     "output_type": "stream",
     "text": [
      "reference_text: chưa có thông tin về bệnh chết người ở nước này\n",
      "predicted_text: chưa có thông tin về bệnh trinh người ở nước này\n",
      "Processing: FPTOpenSpeechData_Set001_V0.1_000210.mp3\n"
     ]
    },
    {
     "name": "stderr",
     "output_type": "stream",
     "text": [
      "/home/ngo/anaconda3/lib/python3.12/site-packages/whisper/transcribe.py:126: UserWarning: FP16 is not supported on CPU; using FP32 instead\n",
      "  warnings.warn(\"FP16 is not supported on CPU; using FP32 instead\")\n"
     ]
    },
    {
     "name": "stdout",
     "output_type": "stream",
     "text": [
      "reference_text: cho tôi bản đồ thành phố được không\n",
      "predicted_text: cho tôi bản đồ thành phố được không?\n",
      "Processing: FPTOpenSpeechData_Set001_V0.1_000211.mp3\n"
     ]
    },
    {
     "name": "stderr",
     "output_type": "stream",
     "text": [
      "/home/ngo/anaconda3/lib/python3.12/site-packages/whisper/transcribe.py:126: UserWarning: FP16 is not supported on CPU; using FP32 instead\n",
      "  warnings.warn(\"FP16 is not supported on CPU; using FP32 instead\")\n"
     ]
    },
    {
     "name": "stdout",
     "output_type": "stream",
     "text": [
      "reference_text: đều không quan trọng\n",
      "predicted_text: đều không quan trọng.\n",
      "Processing: FPTOpenSpeechData_Set001_V0.1_000212.mp3\n"
     ]
    },
    {
     "name": "stderr",
     "output_type": "stream",
     "text": [
      "/home/ngo/anaconda3/lib/python3.12/site-packages/whisper/transcribe.py:126: UserWarning: FP16 is not supported on CPU; using FP32 instead\n",
      "  warnings.warn(\"FP16 is not supported on CPU; using FP32 instead\")\n"
     ]
    },
    {
     "name": "stdout",
     "output_type": "stream",
     "text": [
      "reference_text: có lúc họ đút hai tay trong túi hai vai rụt lại mà đi có lúc đánh tay thoải mái ưỡn ngực\n",
      "predicted_text: có lúc họ đút hai tay vào trong túi, hai vai rực lại mà đi. có lúc đánh tay thoải mái, hưởng nhịp.\n",
      "Processing: FPTOpenSpeechData_Set001_V0.1_000213.mp3\n"
     ]
    },
    {
     "name": "stderr",
     "output_type": "stream",
     "text": [
      "/home/ngo/anaconda3/lib/python3.12/site-packages/whisper/transcribe.py:126: UserWarning: FP16 is not supported on CPU; using FP32 instead\n",
      "  warnings.warn(\"FP16 is not supported on CPU; using FP32 instead\")\n"
     ]
    },
    {
     "name": "stdout",
     "output_type": "stream",
     "text": [
      "reference_text: tôi bị ung thư\n",
      "predicted_text: tôi bị ung thư\n",
      "Processing: FPTOpenSpeechData_Set001_V0.1_000214.mp3\n"
     ]
    },
    {
     "name": "stderr",
     "output_type": "stream",
     "text": [
      "/home/ngo/anaconda3/lib/python3.12/site-packages/whisper/transcribe.py:126: UserWarning: FP16 is not supported on CPU; using FP32 instead\n",
      "  warnings.warn(\"FP16 is not supported on CPU; using FP32 instead\")\n"
     ]
    },
    {
     "name": "stdout",
     "output_type": "stream",
     "text": [
      "reference_text: tôi không thể hiểu bạn\n",
      "predicted_text: rồi công kỳ hiệu bản\n",
      "Processing: FPTOpenSpeechData_Set001_V0.1_000215.mp3\n"
     ]
    },
    {
     "name": "stderr",
     "output_type": "stream",
     "text": [
      "/home/ngo/anaconda3/lib/python3.12/site-packages/whisper/transcribe.py:126: UserWarning: FP16 is not supported on CPU; using FP32 instead\n",
      "  warnings.warn(\"FP16 is not supported on CPU; using FP32 instead\")\n"
     ]
    },
    {
     "name": "stdout",
     "output_type": "stream",
     "text": [
      "reference_text: tôi cảm thấy rất nặng nề tôi không thể di chuyển chân của tôi\n",
      "predicted_text: tôi cảm thấy rất nàng nề, tôi không thể đi tuyển chân của tôi.\n",
      "Processing: FPTOpenSpeechData_Set001_V0.1_000216.mp3\n"
     ]
    },
    {
     "name": "stderr",
     "output_type": "stream",
     "text": [
      "/home/ngo/anaconda3/lib/python3.12/site-packages/whisper/transcribe.py:126: UserWarning: FP16 is not supported on CPU; using FP32 instead\n",
      "  warnings.warn(\"FP16 is not supported on CPU; using FP32 instead\")\n"
     ]
    },
    {
     "name": "stdout",
     "output_type": "stream",
     "text": [
      "reference_text: tình yêu là mù quáng người đang yêu không thấy khuyết điểm của người khác\n",
      "predicted_text: tình yêu là mù quảng, người đang yêu không thấy, tuyết điểm của người khác.\n",
      "Processing: FPTOpenSpeechData_Set001_V0.1_000217.mp3\n"
     ]
    },
    {
     "name": "stderr",
     "output_type": "stream",
     "text": [
      "/home/ngo/anaconda3/lib/python3.12/site-packages/whisper/transcribe.py:126: UserWarning: FP16 is not supported on CPU; using FP32 instead\n",
      "  warnings.warn(\"FP16 is not supported on CPU; using FP32 instead\")\n"
     ]
    },
    {
     "name": "stdout",
     "output_type": "stream",
     "text": [
      "reference_text: phát tờ rơi quảng cáo biến thành rác đô thị\n",
      "predicted_text: bác trời gây quảng cáo biến hạch rác đô thị\n",
      "Processing: FPTOpenSpeechData_Set001_V0.1_000218.mp3\n"
     ]
    },
    {
     "name": "stderr",
     "output_type": "stream",
     "text": [
      "/home/ngo/anaconda3/lib/python3.12/site-packages/whisper/transcribe.py:126: UserWarning: FP16 is not supported on CPU; using FP32 instead\n",
      "  warnings.warn(\"FP16 is not supported on CPU; using FP32 instead\")\n"
     ]
    },
    {
     "name": "stdout",
     "output_type": "stream",
     "text": [
      "reference_text: cô ấy có thính giác ảo\n",
      "predicted_text: cô ấy có gì đi chạy cao\n",
      "Processing: FPTOpenSpeechData_Set001_V0.1_000219.mp3\n"
     ]
    },
    {
     "name": "stderr",
     "output_type": "stream",
     "text": [
      "/home/ngo/anaconda3/lib/python3.12/site-packages/whisper/transcribe.py:126: UserWarning: FP16 is not supported on CPU; using FP32 instead\n",
      "  warnings.warn(\"FP16 is not supported on CPU; using FP32 instead\")\n"
     ]
    },
    {
     "name": "stdout",
     "output_type": "stream",
     "text": [
      "reference_text: đôi khi trong các khẩu súng các em mang trên người không hề có đạn -n chỉ là một thứ hù dọa những\n",
      "predicted_text: đôi khi trong các sổ chí các em thích người không hề có đạn chỉ là một thứ hình dạng nhẹ.\n",
      "Processing: FPTOpenSpeechData_Set001_V0.1_000220.mp3\n"
     ]
    },
    {
     "name": "stderr",
     "output_type": "stream",
     "text": [
      "/home/ngo/anaconda3/lib/python3.12/site-packages/whisper/transcribe.py:126: UserWarning: FP16 is not supported on CPU; using FP32 instead\n",
      "  warnings.warn(\"FP16 is not supported on CPU; using FP32 instead\")\n"
     ]
    },
    {
     "name": "stdout",
     "output_type": "stream",
     "text": [
      "reference_text: đâu là nền tảng sinh học của ý thức\n",
      "predicted_text: hẹn gặp lại các bạn trong những video tiếp theo.\n",
      "Processing: FPTOpenSpeechData_Set001_V0.1_000221.mp3\n"
     ]
    },
    {
     "name": "stderr",
     "output_type": "stream",
     "text": [
      "/home/ngo/anaconda3/lib/python3.12/site-packages/whisper/transcribe.py:126: UserWarning: FP16 is not supported on CPU; using FP32 instead\n",
      "  warnings.warn(\"FP16 is not supported on CPU; using FP32 instead\")\n"
     ]
    },
    {
     "name": "stdout",
     "output_type": "stream",
     "text": [
      "reference_text: tôi có thể xin một khác không\n",
      "predicted_text: tôi có thể chinh một bác công\n",
      "Processing: FPTOpenSpeechData_Set001_V0.1_000222.mp3\n"
     ]
    },
    {
     "name": "stderr",
     "output_type": "stream",
     "text": [
      "/home/ngo/anaconda3/lib/python3.12/site-packages/whisper/transcribe.py:126: UserWarning: FP16 is not supported on CPU; using FP32 instead\n",
      "  warnings.warn(\"FP16 is not supported on CPU; using FP32 instead\")\n"
     ]
    },
    {
     "name": "stdout",
     "output_type": "stream",
     "text": [
      "reference_text: tôi đã từng chứng kiến bão và giờ đây tôi đang cộng tác tại nước ngoài\n",
      "predicted_text: tôi đã từng chứng kiến bão và giờ đây tôi đang công tác tại nước ngoài.\n",
      "Processing: FPTOpenSpeechData_Set001_V0.1_000223.mp3\n"
     ]
    },
    {
     "name": "stderr",
     "output_type": "stream",
     "text": [
      "/home/ngo/anaconda3/lib/python3.12/site-packages/whisper/transcribe.py:126: UserWarning: FP16 is not supported on CPU; using FP32 instead\n",
      "  warnings.warn(\"FP16 is not supported on CPU; using FP32 instead\")\n"
     ]
    },
    {
     "name": "stdout",
     "output_type": "stream",
     "text": [
      "reference_text: có phí uống không\n",
      "predicted_text: có quý uống không?\n",
      "Processing: FPTOpenSpeechData_Set001_V0.1_000224.mp3\n"
     ]
    },
    {
     "name": "stderr",
     "output_type": "stream",
     "text": [
      "/home/ngo/anaconda3/lib/python3.12/site-packages/whisper/transcribe.py:126: UserWarning: FP16 is not supported on CPU; using FP32 instead\n",
      "  warnings.warn(\"FP16 is not supported on CPU; using FP32 instead\")\n"
     ]
    },
    {
     "name": "stdout",
     "output_type": "stream",
     "text": [
      "reference_text: tôi đi hải phòng còn bạn đi đâu\n",
      "predicted_text: tôi đi hải phòng còn bạn đi đâu?\n",
      "Processing: FPTOpenSpeechData_Set001_V0.1_000225.mp3\n"
     ]
    },
    {
     "name": "stderr",
     "output_type": "stream",
     "text": [
      "/home/ngo/anaconda3/lib/python3.12/site-packages/whisper/transcribe.py:126: UserWarning: FP16 is not supported on CPU; using FP32 instead\n",
      "  warnings.warn(\"FP16 is not supported on CPU; using FP32 instead\")\n"
     ]
    },
    {
     "name": "stdout",
     "output_type": "stream",
     "text": [
      "reference_text: ti vi giảm âm lượng về bốn\n",
      "predicted_text: bb giảm âm lượng về 4.\n",
      "Processing: FPTOpenSpeechData_Set001_V0.1_000226.mp3\n"
     ]
    },
    {
     "name": "stderr",
     "output_type": "stream",
     "text": [
      "/home/ngo/anaconda3/lib/python3.12/site-packages/whisper/transcribe.py:126: UserWarning: FP16 is not supported on CPU; using FP32 instead\n",
      "  warnings.warn(\"FP16 is not supported on CPU; using FP32 instead\")\n"
     ]
    },
    {
     "name": "stdout",
     "output_type": "stream",
     "text": [
      "reference_text: cũng đồng nghĩa với việc chúng ta có thể sẽ chuốc lấy khổ đau\n",
      "predicted_text: cũng đồng nghĩa với việc chúng ta có thể trẻ chuốt lấy khổ đau\n",
      "Processing: FPTOpenSpeechData_Set001_V0.1_000227.mp3\n"
     ]
    },
    {
     "name": "stderr",
     "output_type": "stream",
     "text": [
      "/home/ngo/anaconda3/lib/python3.12/site-packages/whisper/transcribe.py:126: UserWarning: FP16 is not supported on CPU; using FP32 instead\n",
      "  warnings.warn(\"FP16 is not supported on CPU; using FP32 instead\")\n"
     ]
    },
    {
     "name": "stdout",
     "output_type": "stream",
     "text": [
      "reference_text: gần đây lại có vụ công ty xe khách thuận thảo ở bình định bị các đối thủ hùa nhau ngăn cản không cho hoạt động\n",
      "predicted_text: gần đây lại có vụ công ty xe khách thuận thảo ở bình tĩnh, các đối thủ hùa nhau ngăn cản không cho hoạt động.\n",
      "Processing: FPTOpenSpeechData_Set001_V0.1_000228.mp3\n"
     ]
    },
    {
     "name": "stderr",
     "output_type": "stream",
     "text": [
      "/home/ngo/anaconda3/lib/python3.12/site-packages/whisper/transcribe.py:126: UserWarning: FP16 is not supported on CPU; using FP32 instead\n",
      "  warnings.warn(\"FP16 is not supported on CPU; using FP32 instead\")\n"
     ]
    },
    {
     "name": "stdout",
     "output_type": "stream",
     "text": [
      "reference_text: vâng tôi đã đến đây lần đầu tiên cách đây năm năm\n",
      "predicted_text: vâng tôi đã đến đây lần đầu tiên cách đây 5 năm\n",
      "Processing: FPTOpenSpeechData_Set001_V0.1_000229.mp3\n"
     ]
    },
    {
     "name": "stderr",
     "output_type": "stream",
     "text": [
      "/home/ngo/anaconda3/lib/python3.12/site-packages/whisper/transcribe.py:126: UserWarning: FP16 is not supported on CPU; using FP32 instead\n",
      "  warnings.warn(\"FP16 is not supported on CPU; using FP32 instead\")\n"
     ]
    },
    {
     "name": "stdout",
     "output_type": "stream",
     "text": [
      "reference_text: chành bành chằng chịt chỗ nào cũng có\n",
      "predicted_text: chăn băng, chăn dịch chỗ nào cũng có.\n",
      "Processing: FPTOpenSpeechData_Set001_V0.1_000230.mp3\n"
     ]
    },
    {
     "name": "stderr",
     "output_type": "stream",
     "text": [
      "/home/ngo/anaconda3/lib/python3.12/site-packages/whisper/transcribe.py:126: UserWarning: FP16 is not supported on CPU; using FP32 instead\n",
      "  warnings.warn(\"FP16 is not supported on CPU; using FP32 instead\")\n"
     ]
    },
    {
     "name": "stdout",
     "output_type": "stream",
     "text": [
      "reference_text: tôi có thể xem một bộ phim ở đâu\n",
      "predicted_text: tôi có thể xem mùi của kim ở đâu?\n",
      "Processing: FPTOpenSpeechData_Set001_V0.1_000231.mp3\n"
     ]
    },
    {
     "name": "stderr",
     "output_type": "stream",
     "text": [
      "/home/ngo/anaconda3/lib/python3.12/site-packages/whisper/transcribe.py:126: UserWarning: FP16 is not supported on CPU; using FP32 instead\n",
      "  warnings.warn(\"FP16 is not supported on CPU; using FP32 instead\")\n"
     ]
    },
    {
     "name": "stdout",
     "output_type": "stream",
     "text": [
      "reference_text: cô ấy cần một bóng đèn bốn mươi oắt cho đèn để bàn\n",
      "predicted_text: cô ấy cần một bóng đèn 40w cho đèn về bàn.\n",
      "Processing: FPTOpenSpeechData_Set001_V0.1_000232.mp3\n"
     ]
    },
    {
     "name": "stderr",
     "output_type": "stream",
     "text": [
      "/home/ngo/anaconda3/lib/python3.12/site-packages/whisper/transcribe.py:126: UserWarning: FP16 is not supported on CPU; using FP32 instead\n",
      "  warnings.warn(\"FP16 is not supported on CPU; using FP32 instead\")\n"
     ]
    },
    {
     "name": "stdout",
     "output_type": "stream",
     "text": [
      "reference_text: góa vợ hai con\n",
      "predicted_text: quả vợ hai con\n",
      "Processing: FPTOpenSpeechData_Set001_V0.1_000233.mp3\n"
     ]
    },
    {
     "name": "stderr",
     "output_type": "stream",
     "text": [
      "/home/ngo/anaconda3/lib/python3.12/site-packages/whisper/transcribe.py:126: UserWarning: FP16 is not supported on CPU; using FP32 instead\n",
      "  warnings.warn(\"FP16 is not supported on CPU; using FP32 instead\")\n"
     ]
    },
    {
     "name": "stdout",
     "output_type": "stream",
     "text": [
      "reference_text: trẻ em ở các trường học được cung cấp nước sạch để uống\n",
      "predicted_text: chị em có cách thử hỏi thông tin của các bạn được không?\n",
      "Processing: FPTOpenSpeechData_Set001_V0.1_000234.mp3\n"
     ]
    },
    {
     "name": "stderr",
     "output_type": "stream",
     "text": [
      "/home/ngo/anaconda3/lib/python3.12/site-packages/whisper/transcribe.py:126: UserWarning: FP16 is not supported on CPU; using FP32 instead\n",
      "  warnings.warn(\"FP16 is not supported on CPU; using FP32 instead\")\n"
     ]
    },
    {
     "name": "stdout",
     "output_type": "stream",
     "text": [
      "reference_text: làm ơn nối máy tôi với cảnh sát\n",
      "predicted_text: làm ơn đối mái tôi với cảnh sát.\n",
      "Processing: FPTOpenSpeechData_Set001_V0.1_000235.mp3\n"
     ]
    },
    {
     "name": "stderr",
     "output_type": "stream",
     "text": [
      "/home/ngo/anaconda3/lib/python3.12/site-packages/whisper/transcribe.py:126: UserWarning: FP16 is not supported on CPU; using FP32 instead\n",
      "  warnings.warn(\"FP16 is not supported on CPU; using FP32 instead\")\n"
     ]
    },
    {
     "name": "stdout",
     "output_type": "stream",
     "text": [
      "reference_text: đầu tư cho dự án xây dựng nhà máy sản xuất điện thoại di động tại đà nẵng\n",
      "predicted_text: đầu tư cho dự án xây dựng nhà máy sản xuất điện thoại di động tại đà nẵng.\n",
      "Processing: FPTOpenSpeechData_Set001_V0.1_000236.mp3\n"
     ]
    },
    {
     "name": "stderr",
     "output_type": "stream",
     "text": [
      "/home/ngo/anaconda3/lib/python3.12/site-packages/whisper/transcribe.py:126: UserWarning: FP16 is not supported on CPU; using FP32 instead\n",
      "  warnings.warn(\"FP16 is not supported on CPU; using FP32 instead\")\n"
     ]
    },
    {
     "name": "stdout",
     "output_type": "stream",
     "text": [
      "reference_text: vui lòng chuẩn bị cái này ở hải quan đằng kia chúc ở lại vui vẻ\n",
      "predicted_text: vui lòng chuẩn bị cái này ở hải quan đằng kia. chúc và lại vui vẻ.\n",
      "Processing: FPTOpenSpeechData_Set001_V0.1_000237.mp3\n"
     ]
    },
    {
     "name": "stderr",
     "output_type": "stream",
     "text": [
      "/home/ngo/anaconda3/lib/python3.12/site-packages/whisper/transcribe.py:126: UserWarning: FP16 is not supported on CPU; using FP32 instead\n",
      "  warnings.warn(\"FP16 is not supported on CPU; using FP32 instead\")\n"
     ]
    },
    {
     "name": "stdout",
     "output_type": "stream",
     "text": [
      "reference_text: một dãy các tủ lạnh xếp dọc theo căn phòng\n",
      "predicted_text: một dãy khắc lặn phép dầu theo tâm quan.\n",
      "Processing: FPTOpenSpeechData_Set001_V0.1_000238.mp3\n"
     ]
    },
    {
     "name": "stderr",
     "output_type": "stream",
     "text": [
      "/home/ngo/anaconda3/lib/python3.12/site-packages/whisper/transcribe.py:126: UserWarning: FP16 is not supported on CPU; using FP32 instead\n",
      "  warnings.warn(\"FP16 is not supported on CPU; using FP32 instead\")\n"
     ]
    },
    {
     "name": "stdout",
     "output_type": "stream",
     "text": [
      "reference_text: ti vi giảm âm lượng về một\n",
      "predicted_text: tv giảm âm lượng về 1\n",
      "Processing: FPTOpenSpeechData_Set001_V0.1_000239.mp3\n"
     ]
    },
    {
     "name": "stderr",
     "output_type": "stream",
     "text": [
      "/home/ngo/anaconda3/lib/python3.12/site-packages/whisper/transcribe.py:126: UserWarning: FP16 is not supported on CPU; using FP32 instead\n",
      "  warnings.warn(\"FP16 is not supported on CPU; using FP32 instead\")\n"
     ]
    },
    {
     "name": "stdout",
     "output_type": "stream",
     "text": [
      "reference_text: không phải mặt hàng đó\n",
      "predicted_text: cô vệ mặt hàng đó\n",
      "Processing: FPTOpenSpeechData_Set001_V0.1_000240.mp3\n"
     ]
    },
    {
     "name": "stderr",
     "output_type": "stream",
     "text": [
      "/home/ngo/anaconda3/lib/python3.12/site-packages/whisper/transcribe.py:126: UserWarning: FP16 is not supported on CPU; using FP32 instead\n",
      "  warnings.warn(\"FP16 is not supported on CPU; using FP32 instead\")\n"
     ]
    },
    {
     "name": "stdout",
     "output_type": "stream",
     "text": [
      "reference_text: tảng đất thó hình lục lăng mát lạnh\n",
      "predicted_text: tảng đất khó, hình lục lăng mát lặng.\n",
      "Processing: FPTOpenSpeechData_Set001_V0.1_000241.mp3\n"
     ]
    },
    {
     "name": "stderr",
     "output_type": "stream",
     "text": [
      "/home/ngo/anaconda3/lib/python3.12/site-packages/whisper/transcribe.py:126: UserWarning: FP16 is not supported on CPU; using FP32 instead\n",
      "  warnings.warn(\"FP16 is not supported on CPU; using FP32 instead\")\n"
     ]
    },
    {
     "name": "stdout",
     "output_type": "stream",
     "text": [
      "reference_text: đều tắc do ngập nước\n",
      "predicted_text: điều tắt do ngọc nước\n",
      "Processing: FPTOpenSpeechData_Set001_V0.1_000242.mp3\n"
     ]
    },
    {
     "name": "stderr",
     "output_type": "stream",
     "text": [
      "/home/ngo/anaconda3/lib/python3.12/site-packages/whisper/transcribe.py:126: UserWarning: FP16 is not supported on CPU; using FP32 instead\n",
      "  warnings.warn(\"FP16 is not supported on CPU; using FP32 instead\")\n"
     ]
    },
    {
     "name": "stdout",
     "output_type": "stream",
     "text": [
      "reference_text: có phải tàu từ sydney đến trễ không\n",
      "predicted_text: có phải tao từ sydney đến kia không?\n",
      "Processing: FPTOpenSpeechData_Set001_V0.1_000243.mp3\n"
     ]
    },
    {
     "name": "stderr",
     "output_type": "stream",
     "text": [
      "/home/ngo/anaconda3/lib/python3.12/site-packages/whisper/transcribe.py:126: UserWarning: FP16 is not supported on CPU; using FP32 instead\n",
      "  warnings.warn(\"FP16 is not supported on CPU; using FP32 instead\")\n"
     ]
    },
    {
     "name": "stdout",
     "output_type": "stream",
     "text": [
      "reference_text: tôi sẽ lấy phòng này\n",
      "predicted_text: tôi sẽ lấy phong ngài\n",
      "Processing: FPTOpenSpeechData_Set001_V0.1_000244.mp3\n"
     ]
    },
    {
     "name": "stderr",
     "output_type": "stream",
     "text": [
      "/home/ngo/anaconda3/lib/python3.12/site-packages/whisper/transcribe.py:126: UserWarning: FP16 is not supported on CPU; using FP32 instead\n",
      "  warnings.warn(\"FP16 is not supported on CPU; using FP32 instead\")\n"
     ]
    },
    {
     "name": "stdout",
     "output_type": "stream",
     "text": [
      "reference_text: nghỉ ngơi vài ngày\n",
      "predicted_text: vị ngôi vàng này\n",
      "Processing: FPTOpenSpeechData_Set001_V0.1_000245.mp3\n"
     ]
    },
    {
     "name": "stderr",
     "output_type": "stream",
     "text": [
      "/home/ngo/anaconda3/lib/python3.12/site-packages/whisper/transcribe.py:126: UserWarning: FP16 is not supported on CPU; using FP32 instead\n",
      "  warnings.warn(\"FP16 is not supported on CPU; using FP32 instead\")\n"
     ]
    },
    {
     "name": "stdout",
     "output_type": "stream",
     "text": [
      "reference_text: họ có chiến thuật tốt hiệu quả và nhiều cầu thủ có kỹ thuật cá nhân điêu luyện\n",
      "predicted_text: họ có chiến thuật tốt, hiệu quả và nhiều cầu thủ có kỹ thuật đá nhân điêu luyện.\n",
      "Processing: FPTOpenSpeechData_Set001_V0.1_000246.mp3\n"
     ]
    },
    {
     "name": "stderr",
     "output_type": "stream",
     "text": [
      "/home/ngo/anaconda3/lib/python3.12/site-packages/whisper/transcribe.py:126: UserWarning: FP16 is not supported on CPU; using FP32 instead\n",
      "  warnings.warn(\"FP16 is not supported on CPU; using FP32 instead\")\n"
     ]
    },
    {
     "name": "stdout",
     "output_type": "stream",
     "text": [
      "reference_text: vui lòng vé b đi a\n",
      "predicted_text: rồi lòng vẹp lên thì an.\n",
      "Processing: FPTOpenSpeechData_Set001_V0.1_000247.mp3\n"
     ]
    },
    {
     "name": "stderr",
     "output_type": "stream",
     "text": [
      "/home/ngo/anaconda3/lib/python3.12/site-packages/whisper/transcribe.py:126: UserWarning: FP16 is not supported on CPU; using FP32 instead\n",
      "  warnings.warn(\"FP16 is not supported on CPU; using FP32 instead\")\n"
     ]
    },
    {
     "name": "stdout",
     "output_type": "stream",
     "text": [
      "reference_text: tôi muốn nhuộm màu\n",
      "predicted_text: tôi muốn dựng màu.\n",
      "Processing: FPTOpenSpeechData_Set001_V0.1_000248.mp3\n"
     ]
    },
    {
     "name": "stderr",
     "output_type": "stream",
     "text": [
      "/home/ngo/anaconda3/lib/python3.12/site-packages/whisper/transcribe.py:126: UserWarning: FP16 is not supported on CPU; using FP32 instead\n",
      "  warnings.warn(\"FP16 is not supported on CPU; using FP32 instead\")\n"
     ]
    },
    {
     "name": "stdout",
     "output_type": "stream",
     "text": [
      "reference_text: đồng xu bị kẹt ở đây\n",
      "predicted_text: đông chú bị kẹt ở đây.\n",
      "Processing: FPTOpenSpeechData_Set001_V0.1_000249.mp3\n"
     ]
    },
    {
     "name": "stderr",
     "output_type": "stream",
     "text": [
      "/home/ngo/anaconda3/lib/python3.12/site-packages/whisper/transcribe.py:126: UserWarning: FP16 is not supported on CPU; using FP32 instead\n",
      "  warnings.warn(\"FP16 is not supported on CPU; using FP32 instead\")\n"
     ]
    },
    {
     "name": "stdout",
     "output_type": "stream",
     "text": [
      "reference_text: một trong ba người này làm giám đốc một công ty sản xuất hàng hóa\n",
      "predicted_text: một trong ba người này làm giám đốc một công ty sản xuất hàng hóa\n",
      "Processing: FPTOpenSpeechData_Set001_V0.1_000250.mp3\n"
     ]
    },
    {
     "name": "stderr",
     "output_type": "stream",
     "text": [
      "/home/ngo/anaconda3/lib/python3.12/site-packages/whisper/transcribe.py:126: UserWarning: FP16 is not supported on CPU; using FP32 instead\n",
      "  warnings.warn(\"FP16 is not supported on CPU; using FP32 instead\")\n"
     ]
    },
    {
     "name": "stdout",
     "output_type": "stream",
     "text": [
      "reference_text: sếu đầu đỏ xuất hiện tại tây ninh\n",
      "predicted_text: sếu đau đỏ hiện tại tên anh\n",
      "Processing: FPTOpenSpeechData_Set001_V0.1_000251.mp3\n"
     ]
    },
    {
     "name": "stderr",
     "output_type": "stream",
     "text": [
      "/home/ngo/anaconda3/lib/python3.12/site-packages/whisper/transcribe.py:126: UserWarning: FP16 is not supported on CPU; using FP32 instead\n",
      "  warnings.warn(\"FP16 is not supported on CPU; using FP32 instead\")\n"
     ]
    },
    {
     "name": "stdout",
     "output_type": "stream",
     "text": [
      "reference_text: quý vị có thể cử động khuỷu tay được không\n",
      "predicted_text: nghĩ gì có thể dùng điều này được không?\n",
      "Processing: FPTOpenSpeechData_Set001_V0.1_000252.mp3\n"
     ]
    },
    {
     "name": "stderr",
     "output_type": "stream",
     "text": [
      "/home/ngo/anaconda3/lib/python3.12/site-packages/whisper/transcribe.py:126: UserWarning: FP16 is not supported on CPU; using FP32 instead\n",
      "  warnings.warn(\"FP16 is not supported on CPU; using FP32 instead\")\n"
     ]
    },
    {
     "name": "stdout",
     "output_type": "stream",
     "text": [
      "reference_text: con đường dài lắm sao anh để em đi một mình\n",
      "predicted_text: con đường dài lắm, sao anh để em đi một mình?\n",
      "Processing: FPTOpenSpeechData_Set001_V0.1_000253.mp3\n"
     ]
    },
    {
     "name": "stderr",
     "output_type": "stream",
     "text": [
      "/home/ngo/anaconda3/lib/python3.12/site-packages/whisper/transcribe.py:126: UserWarning: FP16 is not supported on CPU; using FP32 instead\n",
      "  warnings.warn(\"FP16 is not supported on CPU; using FP32 instead\")\n"
     ]
    },
    {
     "name": "stdout",
     "output_type": "stream",
     "text": [
      "reference_text: chỉ cần gọi bất cứ lúc nào anh muốn nói chuyện với tôi\n",
      "predicted_text: chỉ cần gọi bác cứ lúc nào anh muốn nói chuyện với tôi.\n",
      "Processing: FPTOpenSpeechData_Set001_V0.1_000254.mp3\n"
     ]
    },
    {
     "name": "stderr",
     "output_type": "stream",
     "text": [
      "/home/ngo/anaconda3/lib/python3.12/site-packages/whisper/transcribe.py:126: UserWarning: FP16 is not supported on CPU; using FP32 instead\n",
      "  warnings.warn(\"FP16 is not supported on CPU; using FP32 instead\")\n"
     ]
    },
    {
     "name": "stdout",
     "output_type": "stream",
     "text": [
      "reference_text: trộm viếng thăm lấy hết đồ đạc trong nhà\n",
      "predicted_text: rộng biến thăm lấy hết đồ đạc trong nhà\n",
      "Processing: FPTOpenSpeechData_Set001_V0.1_000255.mp3\n"
     ]
    },
    {
     "name": "stderr",
     "output_type": "stream",
     "text": [
      "/home/ngo/anaconda3/lib/python3.12/site-packages/whisper/transcribe.py:126: UserWarning: FP16 is not supported on CPU; using FP32 instead\n",
      "  warnings.warn(\"FP16 is not supported on CPU; using FP32 instead\")\n"
     ]
    },
    {
     "name": "stdout",
     "output_type": "stream",
     "text": [
      "reference_text: nó đau ở đây\n",
      "predicted_text: nó nào ở đây,\n",
      "Processing: FPTOpenSpeechData_Set001_V0.1_000256.mp3\n"
     ]
    },
    {
     "name": "stderr",
     "output_type": "stream",
     "text": [
      "/home/ngo/anaconda3/lib/python3.12/site-packages/whisper/transcribe.py:126: UserWarning: FP16 is not supported on CPU; using FP32 instead\n",
      "  warnings.warn(\"FP16 is not supported on CPU; using FP32 instead\")\n"
     ]
    },
    {
     "name": "stdout",
     "output_type": "stream",
     "text": [
      "reference_text: nó rất ngon\n",
      "predicted_text: nó rất ngon\n",
      "Processing: FPTOpenSpeechData_Set001_V0.1_000257.mp3\n"
     ]
    },
    {
     "name": "stderr",
     "output_type": "stream",
     "text": [
      "/home/ngo/anaconda3/lib/python3.12/site-packages/whisper/transcribe.py:126: UserWarning: FP16 is not supported on CPU; using FP32 instead\n",
      "  warnings.warn(\"FP16 is not supported on CPU; using FP32 instead\")\n"
     ]
    },
    {
     "name": "stdout",
     "output_type": "stream",
     "text": [
      "reference_text: cho nên mặc dù có chất lượng tốt nhưng giá thành của nó lại rất cao và khó ứng dụng rộng\n",
      "predicted_text: cho nên, mặc dù có chất lượng tốt nhưng giá thành của nó lại rất cao và có ứng dụng rộng.\n",
      "Processing: FPTOpenSpeechData_Set001_V0.1_000258.mp3\n"
     ]
    },
    {
     "name": "stderr",
     "output_type": "stream",
     "text": [
      "/home/ngo/anaconda3/lib/python3.12/site-packages/whisper/transcribe.py:126: UserWarning: FP16 is not supported on CPU; using FP32 instead\n",
      "  warnings.warn(\"FP16 is not supported on CPU; using FP32 instead\")\n"
     ]
    },
    {
     "name": "stdout",
     "output_type": "stream",
     "text": [
      "reference_text: tiếng nổ ì ầm vang lên từ những âm thanh chứa thuốc nổ mà các thợ mỏ ném vào không khí\n",
      "predicted_text: nếu nụ y âm đang ứng tinh thì có thức nụ, có thức mộng thì có thức nụ.\n",
      "Processing: FPTOpenSpeechData_Set001_V0.1_000259.mp3\n"
     ]
    },
    {
     "name": "stderr",
     "output_type": "stream",
     "text": [
      "/home/ngo/anaconda3/lib/python3.12/site-packages/whisper/transcribe.py:126: UserWarning: FP16 is not supported on CPU; using FP32 instead\n",
      "  warnings.warn(\"FP16 is not supported on CPU; using FP32 instead\")\n"
     ]
    },
    {
     "name": "stdout",
     "output_type": "stream",
     "text": [
      "reference_text: chính vì vậy mà không khí tết dường như đến chậm hơn\n",
      "predicted_text: chính vì vậy mà không khí tết dường như đến thật hơn.\n",
      "Processing: FPTOpenSpeechData_Set001_V0.1_000260.mp3\n"
     ]
    },
    {
     "name": "stderr",
     "output_type": "stream",
     "text": [
      "/home/ngo/anaconda3/lib/python3.12/site-packages/whisper/transcribe.py:126: UserWarning: FP16 is not supported on CPU; using FP32 instead\n",
      "  warnings.warn(\"FP16 is not supported on CPU; using FP32 instead\")\n"
     ]
    },
    {
     "name": "stdout",
     "output_type": "stream",
     "text": [
      "reference_text: làm ơn cho tôi loại thứ hai\n",
      "predicted_text: làm ơn cho tôi loại thị hai.\n",
      "Processing: FPTOpenSpeechData_Set001_V0.1_000261.mp3\n"
     ]
    },
    {
     "name": "stderr",
     "output_type": "stream",
     "text": [
      "/home/ngo/anaconda3/lib/python3.12/site-packages/whisper/transcribe.py:126: UserWarning: FP16 is not supported on CPU; using FP32 instead\n",
      "  warnings.warn(\"FP16 is not supported on CPU; using FP32 instead\")\n"
     ]
    },
    {
     "name": "stdout",
     "output_type": "stream",
     "text": [
      "reference_text: mưa sầm sập vừa ra ngoài trời quần áo chị lập tức ướt sũng\n",
      "predicted_text: mưa sầm sạch vừa ra ngồi trời, quần áo chịu lập tức ướt sống.\n",
      "Processing: FPTOpenSpeechData_Set001_V0.1_000262.mp3\n"
     ]
    },
    {
     "name": "stderr",
     "output_type": "stream",
     "text": [
      "/home/ngo/anaconda3/lib/python3.12/site-packages/whisper/transcribe.py:126: UserWarning: FP16 is not supported on CPU; using FP32 instead\n",
      "  warnings.warn(\"FP16 is not supported on CPU; using FP32 instead\")\n"
     ]
    },
    {
     "name": "stdout",
     "output_type": "stream",
     "text": [
      "reference_text: bị đuổi việc vác dao truy sát ông chủ\n",
      "predicted_text: bị rủi việc, bác giao đi sát ông vũ\n",
      "Processing: FPTOpenSpeechData_Set001_V0.1_000263.mp3\n"
     ]
    },
    {
     "name": "stderr",
     "output_type": "stream",
     "text": [
      "/home/ngo/anaconda3/lib/python3.12/site-packages/whisper/transcribe.py:126: UserWarning: FP16 is not supported on CPU; using FP32 instead\n",
      "  warnings.warn(\"FP16 is not supported on CPU; using FP32 instead\")\n"
     ]
    },
    {
     "name": "stdout",
     "output_type": "stream",
     "text": [
      "reference_text: ngỗng cũng có khả năng ghi nhớ từ trước tới giờ giới khảo cổ vẫn tưởng rằng não của ngỗng chỉ có thể lưu giữ thông tin vài giây\n",
      "predicted_text: ngỗng cũng có khả năng ghi nhớ từ trước tới giờ, tôi khả cổ vẫn tưởng rằng, não của ngỗng chỉ có thể lưu giữ thông tin và dây.\n",
      "Processing: FPTOpenSpeechData_Set001_V0.1_000264.mp3\n"
     ]
    },
    {
     "name": "stderr",
     "output_type": "stream",
     "text": [
      "/home/ngo/anaconda3/lib/python3.12/site-packages/whisper/transcribe.py:126: UserWarning: FP16 is not supported on CPU; using FP32 instead\n",
      "  warnings.warn(\"FP16 is not supported on CPU; using FP32 instead\")\n"
     ]
    },
    {
     "name": "stdout",
     "output_type": "stream",
     "text": [
      "reference_text: chuyện sản xuất của lão chủ tịch họ nguyễn và họ đỗ mãi mãi vào sử sách\n",
      "predicted_text: chuyên sản xuất của lã chủ tịch phọng yến và họ đổ mãi mãi vào sự trách.\n",
      "Processing: FPTOpenSpeechData_Set001_V0.1_000265.mp3\n"
     ]
    },
    {
     "name": "stderr",
     "output_type": "stream",
     "text": [
      "/home/ngo/anaconda3/lib/python3.12/site-packages/whisper/transcribe.py:126: UserWarning: FP16 is not supported on CPU; using FP32 instead\n",
      "  warnings.warn(\"FP16 is not supported on CPU; using FP32 instead\")\n"
     ]
    },
    {
     "name": "stdout",
     "output_type": "stream",
     "text": [
      "reference_text: vậy còn yếu tố tinh thần thì sao\n",
      "predicted_text: còn yếu tố tinh thần thì sao?\n",
      "Processing: FPTOpenSpeechData_Set001_V0.1_000266.mp3\n"
     ]
    },
    {
     "name": "stderr",
     "output_type": "stream",
     "text": [
      "/home/ngo/anaconda3/lib/python3.12/site-packages/whisper/transcribe.py:126: UserWarning: FP16 is not supported on CPU; using FP32 instead\n",
      "  warnings.warn(\"FP16 is not supported on CPU; using FP32 instead\")\n"
     ]
    },
    {
     "name": "stdout",
     "output_type": "stream",
     "text": [
      "reference_text: tôi muốn đăng ký một chuyến bay từ los angeles đi new york khởi hành vào ngày mười lăm và quay về vào ngày mười ba\n",
      "predicted_text: tôi muốn đăng ký một chuyện bay đưa được an-10s đi new york, rời hành vào ngày 15 và quay về vào ngày 13.\n",
      "Processing: FPTOpenSpeechData_Set001_V0.1_000267.mp3\n"
     ]
    },
    {
     "name": "stderr",
     "output_type": "stream",
     "text": [
      "/home/ngo/anaconda3/lib/python3.12/site-packages/whisper/transcribe.py:126: UserWarning: FP16 is not supported on CPU; using FP32 instead\n",
      "  warnings.warn(\"FP16 is not supported on CPU; using FP32 instead\")\n"
     ]
    },
    {
     "name": "stdout",
     "output_type": "stream",
     "text": [
      "reference_text: xin lỗi tôi có thể tìm một đại lý lữ hành ở đâu\n",
      "predicted_text: xin lỗi, tôi có thể tìm một đại lý lưu hành ở đâu?\n",
      "Processing: FPTOpenSpeechData_Set001_V0.1_000268.mp3\n"
     ]
    },
    {
     "name": "stderr",
     "output_type": "stream",
     "text": [
      "/home/ngo/anaconda3/lib/python3.12/site-packages/whisper/transcribe.py:126: UserWarning: FP16 is not supported on CPU; using FP32 instead\n",
      "  warnings.warn(\"FP16 is not supported on CPU; using FP32 instead\")\n"
     ]
    },
    {
     "name": "stdout",
     "output_type": "stream",
     "text": [
      "reference_text: quí vị có phòng dành cho một đêm không\n",
      "predicted_text: quý vị có phòng dành cho một đêm không?\n",
      "Processing: FPTOpenSpeechData_Set001_V0.1_000269.mp3\n"
     ]
    },
    {
     "name": "stderr",
     "output_type": "stream",
     "text": [
      "/home/ngo/anaconda3/lib/python3.12/site-packages/whisper/transcribe.py:126: UserWarning: FP16 is not supported on CPU; using FP32 instead\n",
      "  warnings.warn(\"FP16 is not supported on CPU; using FP32 instead\")\n"
     ]
    },
    {
     "name": "stdout",
     "output_type": "stream",
     "text": [
      "reference_text: cô ấy đang rất mong anh\n",
      "predicted_text: cô ấy đang rất mong anh.\n",
      "Processing: FPTOpenSpeechData_Set001_V0.1_000270.mp3\n"
     ]
    },
    {
     "name": "stderr",
     "output_type": "stream",
     "text": [
      "/home/ngo/anaconda3/lib/python3.12/site-packages/whisper/transcribe.py:126: UserWarning: FP16 is not supported on CPU; using FP32 instead\n",
      "  warnings.warn(\"FP16 is not supported on CPU; using FP32 instead\")\n"
     ]
    },
    {
     "name": "stdout",
     "output_type": "stream",
     "text": [
      "reference_text: có tiếng rì rào từ xa đến gần\n",
      "predicted_text: có tiếng gì rào từ xa đến gần\n",
      "Processing: FPTOpenSpeechData_Set001_V0.1_000271.mp3\n"
     ]
    },
    {
     "name": "stderr",
     "output_type": "stream",
     "text": [
      "/home/ngo/anaconda3/lib/python3.12/site-packages/whisper/transcribe.py:126: UserWarning: FP16 is not supported on CPU; using FP32 instead\n",
      "  warnings.warn(\"FP16 is not supported on CPU; using FP32 instead\")\n"
     ]
    },
    {
     "name": "stdout",
     "output_type": "stream",
     "text": [
      "reference_text: một số cổ động viên còn dùng những lời lẽ thô tục chửi bới lực lượng công an\n",
      "predicted_text: một số cổ động viên còn dùng những lời lẽ thô tục chửi với lực lượng công an\n",
      "Processing: FPTOpenSpeechData_Set001_V0.1_000272.mp3\n"
     ]
    },
    {
     "name": "stderr",
     "output_type": "stream",
     "text": [
      "/home/ngo/anaconda3/lib/python3.12/site-packages/whisper/transcribe.py:126: UserWarning: FP16 is not supported on CPU; using FP32 instead\n",
      "  warnings.warn(\"FP16 is not supported on CPU; using FP32 instead\")\n"
     ]
    },
    {
     "name": "stdout",
     "output_type": "stream",
     "text": [
      "reference_text: anh đem cho tôi một ít nước được không\n",
      "predicted_text: anh nhanh cho tôi một kịp nhận được không?\n",
      "Processing: FPTOpenSpeechData_Set001_V0.1_000273.mp3\n"
     ]
    },
    {
     "name": "stderr",
     "output_type": "stream",
     "text": [
      "/home/ngo/anaconda3/lib/python3.12/site-packages/whisper/transcribe.py:126: UserWarning: FP16 is not supported on CPU; using FP32 instead\n",
      "  warnings.warn(\"FP16 is not supported on CPU; using FP32 instead\")\n"
     ]
    },
    {
     "name": "stdout",
     "output_type": "stream",
     "text": [
      "reference_text: ti vi tăng tiếng đến sáu\n",
      "predicted_text: tv tăng tiến ninh 6\n",
      "Processing: FPTOpenSpeechData_Set001_V0.1_000274.mp3\n"
     ]
    },
    {
     "name": "stderr",
     "output_type": "stream",
     "text": [
      "/home/ngo/anaconda3/lib/python3.12/site-packages/whisper/transcribe.py:126: UserWarning: FP16 is not supported on CPU; using FP32 instead\n",
      "  warnings.warn(\"FP16 is not supported on CPU; using FP32 instead\")\n"
     ]
    },
    {
     "name": "stdout",
     "output_type": "stream",
     "text": [
      "reference_text: chúng tôi sẽ trả phòng khoảng giữa trưa\n",
      "predicted_text: chúng tôi sẽ trả phòng khoảng giữa trưa\n",
      "Processing: FPTOpenSpeechData_Set001_V0.1_000275.mp3\n"
     ]
    },
    {
     "name": "stderr",
     "output_type": "stream",
     "text": [
      "/home/ngo/anaconda3/lib/python3.12/site-packages/whisper/transcribe.py:126: UserWarning: FP16 is not supported on CPU; using FP32 instead\n",
      "  warnings.warn(\"FP16 is not supported on CPU; using FP32 instead\")\n"
     ]
    },
    {
     "name": "stdout",
     "output_type": "stream",
     "text": [
      "reference_text: honda đẩy mạnh sản xuất ở nước ngoài\n",
      "predicted_text: honda đẩy mạnh sản xuất ở nước ngoài.\n",
      "Processing: FPTOpenSpeechData_Set001_V0.1_000276.mp3\n"
     ]
    },
    {
     "name": "stderr",
     "output_type": "stream",
     "text": [
      "/home/ngo/anaconda3/lib/python3.12/site-packages/whisper/transcribe.py:126: UserWarning: FP16 is not supported on CPU; using FP32 instead\n",
      "  warnings.warn(\"FP16 is not supported on CPU; using FP32 instead\")\n"
     ]
    },
    {
     "name": "stdout",
     "output_type": "stream",
     "text": [
      "reference_text: ti vi giảm âm lượng về bẩy\n",
      "predicted_text: pv giảm âm lượng 17.\n",
      "Processing: FPTOpenSpeechData_Set001_V0.1_000277.mp3\n"
     ]
    },
    {
     "name": "stderr",
     "output_type": "stream",
     "text": [
      "/home/ngo/anaconda3/lib/python3.12/site-packages/whisper/transcribe.py:126: UserWarning: FP16 is not supported on CPU; using FP32 instead\n",
      "  warnings.warn(\"FP16 is not supported on CPU; using FP32 instead\")\n"
     ]
    },
    {
     "name": "stdout",
     "output_type": "stream",
     "text": [
      "reference_text: con lợn rừng nhảy xuống sông và trốn thoát\n",
      "predicted_text: con nạn ruột hãy dính sốc và xuống thoát.\n",
      "Processing: FPTOpenSpeechData_Set001_V0.1_000278.mp3\n"
     ]
    },
    {
     "name": "stderr",
     "output_type": "stream",
     "text": [
      "/home/ngo/anaconda3/lib/python3.12/site-packages/whisper/transcribe.py:126: UserWarning: FP16 is not supported on CPU; using FP32 instead\n",
      "  warnings.warn(\"FP16 is not supported on CPU; using FP32 instead\")\n"
     ]
    },
    {
     "name": "stdout",
     "output_type": "stream",
     "text": [
      "reference_text: tôi muốn một đôi giày thể thao\n",
      "predicted_text: thì thôi, một mình tôi sẽ thể thao.\n",
      "Processing: FPTOpenSpeechData_Set001_V0.1_000279.mp3\n"
     ]
    },
    {
     "name": "stderr",
     "output_type": "stream",
     "text": [
      "/home/ngo/anaconda3/lib/python3.12/site-packages/whisper/transcribe.py:126: UserWarning: FP16 is not supported on CPU; using FP32 instead\n",
      "  warnings.warn(\"FP16 is not supported on CPU; using FP32 instead\")\n"
     ]
    },
    {
     "name": "stdout",
     "output_type": "stream",
     "text": [
      "reference_text: tôi cần nó trước thứ sáu\n",
      "predicted_text: tôi cả nói trước thứ sáu.\n",
      "Processing: FPTOpenSpeechData_Set001_V0.1_000280.mp3\n"
     ]
    },
    {
     "name": "stderr",
     "output_type": "stream",
     "text": [
      "/home/ngo/anaconda3/lib/python3.12/site-packages/whisper/transcribe.py:126: UserWarning: FP16 is not supported on CPU; using FP32 instead\n",
      "  warnings.warn(\"FP16 is not supported on CPU; using FP32 instead\")\n"
     ]
    },
    {
     "name": "stdout",
     "output_type": "stream",
     "text": [
      "reference_text: ta hãy nghỉ một chút\n",
      "predicted_text: ta hãy nghĩ một chút\n",
      "Processing: FPTOpenSpeechData_Set001_V0.1_000281.mp3\n"
     ]
    },
    {
     "name": "stderr",
     "output_type": "stream",
     "text": [
      "/home/ngo/anaconda3/lib/python3.12/site-packages/whisper/transcribe.py:126: UserWarning: FP16 is not supported on CPU; using FP32 instead\n",
      "  warnings.warn(\"FP16 is not supported on CPU; using FP32 instead\")\n"
     ]
    },
    {
     "name": "stdout",
     "output_type": "stream",
     "text": [
      "reference_text: tôi muốn mua bơ\n",
      "predicted_text: trả lời cá ehkä�� εί�\n",
      "Processing: FPTOpenSpeechData_Set001_V0.1_000282.mp3\n"
     ]
    },
    {
     "name": "stderr",
     "output_type": "stream",
     "text": [
      "/home/ngo/anaconda3/lib/python3.12/site-packages/whisper/transcribe.py:126: UserWarning: FP16 is not supported on CPU; using FP32 instead\n",
      "  warnings.warn(\"FP16 is not supported on CPU; using FP32 instead\")\n"
     ]
    },
    {
     "name": "stdout",
     "output_type": "stream",
     "text": [
      "reference_text: hàng nghìn người trung á rời quê hương đến nga kiếm việc\n",
      "predicted_text: hãy subscribe cho kênh la la school để không bỏ lỡ những video hấp dẫn\n",
      "Processing: FPTOpenSpeechData_Set001_V0.1_000283.mp3\n"
     ]
    },
    {
     "name": "stderr",
     "output_type": "stream",
     "text": [
      "/home/ngo/anaconda3/lib/python3.12/site-packages/whisper/transcribe.py:126: UserWarning: FP16 is not supported on CPU; using FP32 instead\n",
      "  warnings.warn(\"FP16 is not supported on CPU; using FP32 instead\")\n"
     ]
    },
    {
     "name": "stdout",
     "output_type": "stream",
     "text": [
      "reference_text: giá một dặm là bao nhiêu\n",
      "predicted_text: giá 100 là bao nhiêu?\n",
      "Processing: FPTOpenSpeechData_Set001_V0.1_000284.mp3\n"
     ]
    },
    {
     "name": "stderr",
     "output_type": "stream",
     "text": [
      "/home/ngo/anaconda3/lib/python3.12/site-packages/whisper/transcribe.py:126: UserWarning: FP16 is not supported on CPU; using FP32 instead\n",
      "  warnings.warn(\"FP16 is not supported on CPU; using FP32 instead\")\n"
     ]
    },
    {
     "name": "stdout",
     "output_type": "stream",
     "text": [
      "reference_text: tôi có thể thanh toán cho nó bằng đồng yên nhật không\n",
      "predicted_text: tôi có thể thanh toán cho nó bằng đồng biên nhập không?\n",
      "Processing: FPTOpenSpeechData_Set001_V0.1_000285.mp3\n"
     ]
    },
    {
     "name": "stderr",
     "output_type": "stream",
     "text": [
      "/home/ngo/anaconda3/lib/python3.12/site-packages/whisper/transcribe.py:126: UserWarning: FP16 is not supported on CPU; using FP32 instead\n",
      "  warnings.warn(\"FP16 is not supported on CPU; using FP32 instead\")\n"
     ]
    },
    {
     "name": "stdout",
     "output_type": "stream",
     "text": [
      "reference_text: quý vị có bị đau họng các triệu chứng cảm lạnh hay cúm không\n",
      "predicted_text: quý vị có bị đau hổng, các kiện chứng, cảm lạnh hay cũng không?\n",
      "Processing: FPTOpenSpeechData_Set001_V0.1_000286.mp3\n"
     ]
    },
    {
     "name": "stderr",
     "output_type": "stream",
     "text": [
      "/home/ngo/anaconda3/lib/python3.12/site-packages/whisper/transcribe.py:126: UserWarning: FP16 is not supported on CPU; using FP32 instead\n",
      "  warnings.warn(\"FP16 is not supported on CPU; using FP32 instead\")\n"
     ]
    },
    {
     "name": "stdout",
     "output_type": "stream",
     "text": [
      "reference_text: một nghệ sĩ đích thực là phải lao động quần quật để mời gọi cảm hứng đến\n",
      "predicted_text: một nghệ sĩ đích thực là phải lao động quần quật để mời gọi cảm hứng đến\n",
      "Processing: FPTOpenSpeechData_Set001_V0.1_000287.mp3\n"
     ]
    },
    {
     "name": "stderr",
     "output_type": "stream",
     "text": [
      "/home/ngo/anaconda3/lib/python3.12/site-packages/whisper/transcribe.py:126: UserWarning: FP16 is not supported on CPU; using FP32 instead\n",
      "  warnings.warn(\"FP16 is not supported on CPU; using FP32 instead\")\n"
     ]
    },
    {
     "name": "stdout",
     "output_type": "stream",
     "text": [
      "reference_text: được tôi sẽ làm nó ngay\n",
      "predicted_text: được, tôi sẽ làm ngón ngay\n",
      "Processing: FPTOpenSpeechData_Set001_V0.1_000288.mp3\n"
     ]
    },
    {
     "name": "stderr",
     "output_type": "stream",
     "text": [
      "/home/ngo/anaconda3/lib/python3.12/site-packages/whisper/transcribe.py:126: UserWarning: FP16 is not supported on CPU; using FP32 instead\n",
      "  warnings.warn(\"FP16 is not supported on CPU; using FP32 instead\")\n"
     ]
    },
    {
     "name": "stdout",
     "output_type": "stream",
     "text": [
      "reference_text: thể dục chơi thể thao nơi không khí trong lành\n",
      "predicted_text: hãy subscribe cho kênh ghiền mì gõ để không bỏ lỡ những video hấp dẫn\n",
      "Processing: FPTOpenSpeechData_Set001_V0.1_000289.mp3\n"
     ]
    },
    {
     "name": "stderr",
     "output_type": "stream",
     "text": [
      "/home/ngo/anaconda3/lib/python3.12/site-packages/whisper/transcribe.py:126: UserWarning: FP16 is not supported on CPU; using FP32 instead\n",
      "  warnings.warn(\"FP16 is not supported on CPU; using FP32 instead\")\n"
     ]
    },
    {
     "name": "stdout",
     "output_type": "stream",
     "text": [
      "reference_text: ngoài vài sân bóng đá cầu lông mà chúng tôi mới làm lại thì hầu như chẳng có gì mới\n",
      "predicted_text: ngoài vài chân bóng đá cầu lông mà chúng tôi mới làm lại thì hầu như chẳng có gì mới.\n",
      "Processing: FPTOpenSpeechData_Set001_V0.1_000290.mp3\n"
     ]
    },
    {
     "name": "stderr",
     "output_type": "stream",
     "text": [
      "/home/ngo/anaconda3/lib/python3.12/site-packages/whisper/transcribe.py:126: UserWarning: FP16 is not supported on CPU; using FP32 instead\n",
      "  warnings.warn(\"FP16 is not supported on CPU; using FP32 instead\")\n"
     ]
    },
    {
     "name": "stdout",
     "output_type": "stream",
     "text": [
      "reference_text: mệt\n",
      "predicted_text: lê\n",
      "Processing: FPTOpenSpeechData_Set001_V0.1_000291.mp3\n"
     ]
    },
    {
     "name": "stderr",
     "output_type": "stream",
     "text": [
      "/home/ngo/anaconda3/lib/python3.12/site-packages/whisper/transcribe.py:126: UserWarning: FP16 is not supported on CPU; using FP32 instead\n",
      "  warnings.warn(\"FP16 is not supported on CPU; using FP32 instead\")\n"
     ]
    },
    {
     "name": "stdout",
     "output_type": "stream",
     "text": [
      "reference_text: tổng số tiền là hai trăm bốn mươi ba pound thưa mẹ\n",
      "predicted_text: tổng số tiền là 243 bao chứ nè\n",
      "Processing: FPTOpenSpeechData_Set001_V0.1_000292.mp3\n"
     ]
    },
    {
     "name": "stderr",
     "output_type": "stream",
     "text": [
      "/home/ngo/anaconda3/lib/python3.12/site-packages/whisper/transcribe.py:126: UserWarning: FP16 is not supported on CPU; using FP32 instead\n",
      "  warnings.warn(\"FP16 is not supported on CPU; using FP32 instead\")\n"
     ]
    },
    {
     "name": "stdout",
     "output_type": "stream",
     "text": [
      "reference_text: hầu hết rừng nằm ở ven sông , biển nên đã -n -n\n",
      "predicted_text: hầu hết dựng nằm ở bên sông, biển nên đã ăn hàng nên...\n",
      "Processing: FPTOpenSpeechData_Set001_V0.1_000293.mp3\n"
     ]
    },
    {
     "name": "stderr",
     "output_type": "stream",
     "text": [
      "/home/ngo/anaconda3/lib/python3.12/site-packages/whisper/transcribe.py:126: UserWarning: FP16 is not supported on CPU; using FP32 instead\n",
      "  warnings.warn(\"FP16 is not supported on CPU; using FP32 instead\")\n"
     ]
    },
    {
     "name": "stdout",
     "output_type": "stream",
     "text": [
      "reference_text: nhìn nó vậy mà giỏi nhỉ\n",
      "predicted_text: nhìn nó vậy mà giỏi gì?\n",
      "Processing: FPTOpenSpeechData_Set001_V0.1_000294.mp3\n"
     ]
    },
    {
     "name": "stderr",
     "output_type": "stream",
     "text": [
      "/home/ngo/anaconda3/lib/python3.12/site-packages/whisper/transcribe.py:126: UserWarning: FP16 is not supported on CPU; using FP32 instead\n",
      "  warnings.warn(\"FP16 is not supported on CPU; using FP32 instead\")\n"
     ]
    },
    {
     "name": "stdout",
     "output_type": "stream",
     "text": [
      "reference_text: tôi có thể nói mấy câu được không\n",
      "predicted_text: tôi có thể nói mấy câu được không?\n",
      "Processing: FPTOpenSpeechData_Set001_V0.1_000295.mp3\n"
     ]
    },
    {
     "name": "stderr",
     "output_type": "stream",
     "text": [
      "/home/ngo/anaconda3/lib/python3.12/site-packages/whisper/transcribe.py:126: UserWarning: FP16 is not supported on CPU; using FP32 instead\n",
      "  warnings.warn(\"FP16 is not supported on CPU; using FP32 instead\")\n"
     ]
    },
    {
     "name": "stdout",
     "output_type": "stream",
     "text": [
      "reference_text: tuy nhiên các nhà khoa học châu âu vẫn chưa vừa ý với kết quả này\n",
      "predicted_text: tuy nhiên các nhà khoa học châu âu vẫn chưa gửi ý với kết quả này.\n",
      "Processing: FPTOpenSpeechData_Set001_V0.1_000296.mp3\n"
     ]
    },
    {
     "name": "stderr",
     "output_type": "stream",
     "text": [
      "/home/ngo/anaconda3/lib/python3.12/site-packages/whisper/transcribe.py:126: UserWarning: FP16 is not supported on CPU; using FP32 instead\n",
      "  warnings.warn(\"FP16 is not supported on CPU; using FP32 instead\")\n"
     ]
    },
    {
     "name": "stdout",
     "output_type": "stream",
     "text": [
      "reference_text: tám tổ chức công đoàn ở đức tạo thành liên đoàn lao động đức\n",
      "predicted_text: 8 tổ chức công đoàn nội đức tạo thành binh đoàn lao động đức.\n",
      "Processing: FPTOpenSpeechData_Set001_V0.1_000297.mp3\n"
     ]
    },
    {
     "name": "stderr",
     "output_type": "stream",
     "text": [
      "/home/ngo/anaconda3/lib/python3.12/site-packages/whisper/transcribe.py:126: UserWarning: FP16 is not supported on CPU; using FP32 instead\n",
      "  warnings.warn(\"FP16 is not supported on CPU; using FP32 instead\")\n"
     ]
    },
    {
     "name": "stdout",
     "output_type": "stream",
     "text": [
      "reference_text: nói chuyện trịnh trọng nghe ghê quá\n",
      "predicted_text: nói chuyện tỉnh trọng nghe ghê quá\n",
      "Processing: FPTOpenSpeechData_Set001_V0.1_000298.mp3\n"
     ]
    },
    {
     "name": "stderr",
     "output_type": "stream",
     "text": [
      "/home/ngo/anaconda3/lib/python3.12/site-packages/whisper/transcribe.py:126: UserWarning: FP16 is not supported on CPU; using FP32 instead\n",
      "  warnings.warn(\"FP16 is not supported on CPU; using FP32 instead\")\n"
     ]
    },
    {
     "name": "stdout",
     "output_type": "stream",
     "text": [
      "reference_text: tôi muốn nửa tá\n",
      "predicted_text: với một nửa tá\n",
      "Processing: FPTOpenSpeechData_Set001_V0.1_000299.mp3\n"
     ]
    },
    {
     "name": "stderr",
     "output_type": "stream",
     "text": [
      "/home/ngo/anaconda3/lib/python3.12/site-packages/whisper/transcribe.py:126: UserWarning: FP16 is not supported on CPU; using FP32 instead\n",
      "  warnings.warn(\"FP16 is not supported on CPU; using FP32 instead\")\n"
     ]
    },
    {
     "name": "stdout",
     "output_type": "stream",
     "text": [
      "reference_text: tôi cần một cái gì đó cho táo bón\n",
      "predicted_text: tôi cần một cái gì đó cho tạo bói.\n",
      "Processing: FPTOpenSpeechData_Set001_V0.1_000300.mp3\n"
     ]
    },
    {
     "name": "stderr",
     "output_type": "stream",
     "text": [
      "/home/ngo/anaconda3/lib/python3.12/site-packages/whisper/transcribe.py:126: UserWarning: FP16 is not supported on CPU; using FP32 instead\n",
      "  warnings.warn(\"FP16 is not supported on CPU; using FP32 instead\")\n"
     ]
    },
    {
     "name": "stdout",
     "output_type": "stream",
     "text": [
      "reference_text: vâng dave mark sachiko và rumi sẽ có ở bữa tiệc\n",
      "predicted_text: vâng, đây, max, sachiko và yumi sẽ có bữa tiệc.\n",
      "Processing: FPTOpenSpeechData_Set001_V0.1_000301.mp3\n"
     ]
    },
    {
     "name": "stderr",
     "output_type": "stream",
     "text": [
      "/home/ngo/anaconda3/lib/python3.12/site-packages/whisper/transcribe.py:126: UserWarning: FP16 is not supported on CPU; using FP32 instead\n",
      "  warnings.warn(\"FP16 is not supported on CPU; using FP32 instead\")\n"
     ]
    },
    {
     "name": "stdout",
     "output_type": "stream",
     "text": [
      "reference_text: tình hình ở nước anh thì ngược lại phe nào phe nấy thi nhau đả kích thủ tướng của mình\n",
      "predicted_text: tuy nhiên anh thì ngược lại, phe nào phe nấy tin nhau, đã kích cụ tướng của mình.\n",
      "Processing: FPTOpenSpeechData_Set001_V0.1_000302.mp3\n"
     ]
    },
    {
     "name": "stderr",
     "output_type": "stream",
     "text": [
      "/home/ngo/anaconda3/lib/python3.12/site-packages/whisper/transcribe.py:126: UserWarning: FP16 is not supported on CPU; using FP32 instead\n",
      "  warnings.warn(\"FP16 is not supported on CPU; using FP32 instead\")\n"
     ]
    },
    {
     "name": "stdout",
     "output_type": "stream",
     "text": [
      "reference_text: phòng có máy lạnh không\n",
      "predicted_text: phòng có mấy lạnh không?\n",
      "Processing: FPTOpenSpeechData_Set001_V0.1_000303.mp3\n"
     ]
    },
    {
     "name": "stderr",
     "output_type": "stream",
     "text": [
      "/home/ngo/anaconda3/lib/python3.12/site-packages/whisper/transcribe.py:126: UserWarning: FP16 is not supported on CPU; using FP32 instead\n",
      "  warnings.warn(\"FP16 is not supported on CPU; using FP32 instead\")\n"
     ]
    },
    {
     "name": "stdout",
     "output_type": "stream",
     "text": [
      "reference_text: họ thoải mái với việc người bạn đường phải núp trong\n",
      "predicted_text: sau khởi ngã của việc nghe bàn đường của mức trống\n",
      "Processing: FPTOpenSpeechData_Set001_V0.1_000304.mp3\n"
     ]
    },
    {
     "name": "stderr",
     "output_type": "stream",
     "text": [
      "/home/ngo/anaconda3/lib/python3.12/site-packages/whisper/transcribe.py:126: UserWarning: FP16 is not supported on CPU; using FP32 instead\n",
      "  warnings.warn(\"FP16 is not supported on CPU; using FP32 instead\")\n"
     ]
    },
    {
     "name": "stdout",
     "output_type": "stream",
     "text": [
      "reference_text: cô gái kia yêu cầu gia đình không được báo với công an nếu không còn nguy hiểm tới tính mạng\n",
      "predicted_text: cô gái kia yêu cầu gia đình không được báo với công an nếu không còn nguy hiểm phải tính mạng\n",
      "Processing: FPTOpenSpeechData_Set001_V0.1_000305.mp3\n"
     ]
    },
    {
     "name": "stderr",
     "output_type": "stream",
     "text": [
      "/home/ngo/anaconda3/lib/python3.12/site-packages/whisper/transcribe.py:126: UserWarning: FP16 is not supported on CPU; using FP32 instead\n",
      "  warnings.warn(\"FP16 is not supported on CPU; using FP32 instead\")\n"
     ]
    },
    {
     "name": "stdout",
     "output_type": "stream",
     "text": [
      "reference_text: được thưa anh\n",
      "predicted_text: được, được anh.\n",
      "Processing: FPTOpenSpeechData_Set001_V0.1_000306.mp3\n"
     ]
    },
    {
     "name": "stderr",
     "output_type": "stream",
     "text": [
      "/home/ngo/anaconda3/lib/python3.12/site-packages/whisper/transcribe.py:126: UserWarning: FP16 is not supported on CPU; using FP32 instead\n",
      "  warnings.warn(\"FP16 is not supported on CPU; using FP32 instead\")\n"
     ]
    },
    {
     "name": "stdout",
     "output_type": "stream",
     "text": [
      "reference_text: nhà nước có thể hỗ trợ giá thuê bằng cách miễn giảm tiền sử dụng đất miễn giảm thuế\n",
      "predicted_text: nhà nước có thể hỗ trợ giá thuê bằng cách miễn giảm tiền sử dụng đất, miễn giảm thuê.\n",
      "Processing: FPTOpenSpeechData_Set001_V0.1_000307.mp3\n"
     ]
    },
    {
     "name": "stderr",
     "output_type": "stream",
     "text": [
      "/home/ngo/anaconda3/lib/python3.12/site-packages/whisper/transcribe.py:126: UserWarning: FP16 is not supported on CPU; using FP32 instead\n",
      "  warnings.warn(\"FP16 is not supported on CPU; using FP32 instead\")\n"
     ]
    },
    {
     "name": "stdout",
     "output_type": "stream",
     "text": [
      "reference_text: vui lòng mang cho tôi một ít giấy viết\n",
      "predicted_text: vui lòng mang cho nó mùi ít cái liếc\n",
      "Processing: FPTOpenSpeechData_Set001_V0.1_000308.mp3\n"
     ]
    },
    {
     "name": "stderr",
     "output_type": "stream",
     "text": [
      "/home/ngo/anaconda3/lib/python3.12/site-packages/whisper/transcribe.py:126: UserWarning: FP16 is not supported on CPU; using FP32 instead\n",
      "  warnings.warn(\"FP16 is not supported on CPU; using FP32 instead\")\n"
     ]
    },
    {
     "name": "stdout",
     "output_type": "stream",
     "text": [
      "reference_text: công an huyện quảng ngãi đã triệu tập bố mẹ của cháu lĩnh là nguyễn văn vĩnh và võ thị thụy để lấy lời khai\n",
      "predicted_text: công an hiện tại ngãi đã trợ tập bố mẹ của cháu lĩnh làm nghiễm dân lĩnh và gọi thị trị để lấy lời khai.\n",
      "Processing: FPTOpenSpeechData_Set001_V0.1_000309.mp3\n"
     ]
    },
    {
     "name": "stderr",
     "output_type": "stream",
     "text": [
      "/home/ngo/anaconda3/lib/python3.12/site-packages/whisper/transcribe.py:126: UserWarning: FP16 is not supported on CPU; using FP32 instead\n",
      "  warnings.warn(\"FP16 is not supported on CPU; using FP32 instead\")\n"
     ]
    },
    {
     "name": "stdout",
     "output_type": "stream",
     "text": [
      "reference_text: bạn có những món hàng khác không\n",
      "predicted_text: bạn có những món hàng khác không?\n",
      "Processing: FPTOpenSpeechData_Set001_V0.1_000310.mp3\n"
     ]
    },
    {
     "name": "stderr",
     "output_type": "stream",
     "text": [
      "/home/ngo/anaconda3/lib/python3.12/site-packages/whisper/transcribe.py:126: UserWarning: FP16 is not supported on CPU; using FP32 instead\n",
      "  warnings.warn(\"FP16 is not supported on CPU; using FP32 instead\")\n"
     ]
    },
    {
     "name": "stdout",
     "output_type": "stream",
     "text": [
      "reference_text: ti vi giảm tiếng về một\n",
      "predicted_text: tv giảm tiếng về 1\n",
      "Processing: FPTOpenSpeechData_Set001_V0.1_000311.mp3\n"
     ]
    },
    {
     "name": "stderr",
     "output_type": "stream",
     "text": [
      "/home/ngo/anaconda3/lib/python3.12/site-packages/whisper/transcribe.py:126: UserWarning: FP16 is not supported on CPU; using FP32 instead\n",
      "  warnings.warn(\"FP16 is not supported on CPU; using FP32 instead\")\n"
     ]
    },
    {
     "name": "stdout",
     "output_type": "stream",
     "text": [
      "reference_text: thu hoạch và bảo quản lúa là khâu cuối cùng trong một mùa vụ\n",
      "predicted_text: \n",
      "Processing: FPTOpenSpeechData_Set001_V0.1_000312.mp3\n"
     ]
    },
    {
     "name": "stderr",
     "output_type": "stream",
     "text": [
      "/home/ngo/anaconda3/lib/python3.12/site-packages/whisper/transcribe.py:126: UserWarning: FP16 is not supported on CPU; using FP32 instead\n",
      "  warnings.warn(\"FP16 is not supported on CPU; using FP32 instead\")\n"
     ]
    },
    {
     "name": "stdout",
     "output_type": "stream",
     "text": [
      "reference_text: cha và dì cứ đổ riệt cho mẹ\n",
      "predicted_text: cha bà dì cũng đổ việc cho mẹ\n",
      "Processing: FPTOpenSpeechData_Set001_V0.1_000313.mp3\n"
     ]
    },
    {
     "name": "stderr",
     "output_type": "stream",
     "text": [
      "/home/ngo/anaconda3/lib/python3.12/site-packages/whisper/transcribe.py:126: UserWarning: FP16 is not supported on CPU; using FP32 instead\n",
      "  warnings.warn(\"FP16 is not supported on CPU; using FP32 instead\")\n"
     ]
    },
    {
     "name": "stdout",
     "output_type": "stream",
     "text": [
      "reference_text: tuy nhiên sự việc vừa đi qua đã chứng tỏ ông đã bắt đầu lo lắng cho an ninh của gia đình mình\n",
      "predicted_text: tuy nhiên sự việc vừa đi qua chứng tỏ ông đã bắt đầu lo lắng cho an ninh của gia đình mình.\n",
      "Processing: FPTOpenSpeechData_Set001_V0.1_000314.mp3\n"
     ]
    },
    {
     "name": "stderr",
     "output_type": "stream",
     "text": [
      "/home/ngo/anaconda3/lib/python3.12/site-packages/whisper/transcribe.py:126: UserWarning: FP16 is not supported on CPU; using FP32 instead\n",
      "  warnings.warn(\"FP16 is not supported on CPU; using FP32 instead\")\n"
     ]
    },
    {
     "name": "stdout",
     "output_type": "stream",
     "text": [
      "reference_text: một thành phố như thế xứng đáng được ca tụng\n",
      "predicted_text: một thành phố như thế xứng đáng được các...\n",
      "Processing: FPTOpenSpeechData_Set001_V0.1_000315.mp3\n"
     ]
    },
    {
     "name": "stderr",
     "output_type": "stream",
     "text": [
      "/home/ngo/anaconda3/lib/python3.12/site-packages/whisper/transcribe.py:126: UserWarning: FP16 is not supported on CPU; using FP32 instead\n",
      "  warnings.warn(\"FP16 is not supported on CPU; using FP32 instead\")\n"
     ]
    },
    {
     "name": "stdout",
     "output_type": "stream",
     "text": [
      "reference_text: cả sân thiên trường ồ lên tiếc nuối\n",
      "predicted_text: cảm ơn các bạn đã theo dõi và hẹn gặp lại.\n",
      "Processing: FPTOpenSpeechData_Set001_V0.1_000316.mp3\n"
     ]
    },
    {
     "name": "stderr",
     "output_type": "stream",
     "text": [
      "/home/ngo/anaconda3/lib/python3.12/site-packages/whisper/transcribe.py:126: UserWarning: FP16 is not supported on CPU; using FP32 instead\n",
      "  warnings.warn(\"FP16 is not supported on CPU; using FP32 instead\")\n"
     ]
    },
    {
     "name": "stdout",
     "output_type": "stream",
     "text": [
      "reference_text: chúng ta có thể bắt đầu không\n",
      "predicted_text: chúng ta có thể bắt đầu không?\n",
      "Processing: FPTOpenSpeechData_Set001_V0.1_000317.mp3\n"
     ]
    },
    {
     "name": "stderr",
     "output_type": "stream",
     "text": [
      "/home/ngo/anaconda3/lib/python3.12/site-packages/whisper/transcribe.py:126: UserWarning: FP16 is not supported on CPU; using FP32 instead\n",
      "  warnings.warn(\"FP16 is not supported on CPU; using FP32 instead\")\n"
     ]
    },
    {
     "name": "stdout",
     "output_type": "stream",
     "text": [
      "reference_text: phía bên phải cơ thể tôi bị đau rất tệ\n",
      "predicted_text: phía bên phải cơ thể tôi bị lau rất rẻ\n",
      "Processing: FPTOpenSpeechData_Set001_V0.1_000318.mp3\n"
     ]
    },
    {
     "name": "stderr",
     "output_type": "stream",
     "text": [
      "/home/ngo/anaconda3/lib/python3.12/site-packages/whisper/transcribe.py:126: UserWarning: FP16 is not supported on CPU; using FP32 instead\n",
      "  warnings.warn(\"FP16 is not supported on CPU; using FP32 instead\")\n"
     ]
    },
    {
     "name": "stdout",
     "output_type": "stream",
     "text": [
      "reference_text: người dân ngán ngẩm với dịch vụ bệnh viện\n",
      "predicted_text: người dân kế cập với dịch vụ hoạt viện\n",
      "Processing: FPTOpenSpeechData_Set001_V0.1_000319.mp3\n"
     ]
    },
    {
     "name": "stderr",
     "output_type": "stream",
     "text": [
      "/home/ngo/anaconda3/lib/python3.12/site-packages/whisper/transcribe.py:126: UserWarning: FP16 is not supported on CPU; using FP32 instead\n",
      "  warnings.warn(\"FP16 is not supported on CPU; using FP32 instead\")\n"
     ]
    },
    {
     "name": "stdout",
     "output_type": "stream",
     "text": [
      "reference_text: có cái gì gây ra cơn đau này không\n",
      "predicted_text: có cái gì gây ra tên câu này không?\n",
      "Processing: FPTOpenSpeechData_Set001_V0.1_000320.mp3\n"
     ]
    },
    {
     "name": "stderr",
     "output_type": "stream",
     "text": [
      "/home/ngo/anaconda3/lib/python3.12/site-packages/whisper/transcribe.py:126: UserWarning: FP16 is not supported on CPU; using FP32 instead\n",
      "  warnings.warn(\"FP16 is not supported on CPU; using FP32 instead\")\n"
     ]
    },
    {
     "name": "stdout",
     "output_type": "stream",
     "text": [
      "reference_text: tôi cần phải về nhà bây giờ\n",
      "predicted_text: tôi cần phải về nhà bây giờ.\n",
      "Processing: FPTOpenSpeechData_Set001_V0.1_000321.mp3\n"
     ]
    },
    {
     "name": "stderr",
     "output_type": "stream",
     "text": [
      "/home/ngo/anaconda3/lib/python3.12/site-packages/whisper/transcribe.py:126: UserWarning: FP16 is not supported on CPU; using FP32 instead\n",
      "  warnings.warn(\"FP16 is not supported on CPU; using FP32 instead\")\n"
     ]
    },
    {
     "name": "stdout",
     "output_type": "stream",
     "text": [
      "reference_text: không chỉ có mức lương trung bình thấp nhất ở đông bắc á mà công đoàn độc lập cũng không hiện hữu ở nơi này\n",
      "predicted_text: không chỉ có mức lương trung bình thấp nhất trong đồng bất áp, mà còn đặc lực của các hiện tượng an ninh.\n",
      "Processing: FPTOpenSpeechData_Set001_V0.1_000322.mp3\n"
     ]
    },
    {
     "name": "stderr",
     "output_type": "stream",
     "text": [
      "/home/ngo/anaconda3/lib/python3.12/site-packages/whisper/transcribe.py:126: UserWarning: FP16 is not supported on CPU; using FP32 instead\n",
      "  warnings.warn(\"FP16 is not supported on CPU; using FP32 instead\")\n"
     ]
    },
    {
     "name": "stdout",
     "output_type": "stream",
     "text": [
      "reference_text: gia đình bart cho biết bộ phim phỉ báng ông đồng thời dọa sẽ kiện để bộ phim này không được phép chiếu\n",
      "predicted_text: gia đình park cho biết bộ phim tỷ bán ông, đồng thời dọa thể viện bộ phim này không được phép chiếu.\n",
      "Processing: FPTOpenSpeechData_Set001_V0.1_000323.mp3\n"
     ]
    },
    {
     "name": "stderr",
     "output_type": "stream",
     "text": [
      "/home/ngo/anaconda3/lib/python3.12/site-packages/whisper/transcribe.py:126: UserWarning: FP16 is not supported on CPU; using FP32 instead\n",
      "  warnings.warn(\"FP16 is not supported on CPU; using FP32 instead\")\n"
     ]
    },
    {
     "name": "stdout",
     "output_type": "stream",
     "text": [
      "reference_text: số tiền này dự định sẽ được dùng để đỡ gánh chi phí an sinh xã hội cho các chủ doanh nghiệp và khuyến khích họ thuê thêm lao động\n",
      "predicted_text: thông tin này dự định sẽ được dùng để đỡ gánh chi phí ăn sức xã hội cho các sủ doanh nghiệp và quyết thích họ thuê thêm lao động.\n",
      "Processing: FPTOpenSpeechData_Set001_V0.1_000324.mp3\n"
     ]
    },
    {
     "name": "stderr",
     "output_type": "stream",
     "text": [
      "/home/ngo/anaconda3/lib/python3.12/site-packages/whisper/transcribe.py:126: UserWarning: FP16 is not supported on CPU; using FP32 instead\n",
      "  warnings.warn(\"FP16 is not supported on CPU; using FP32 instead\")\n"
     ]
    },
    {
     "name": "stdout",
     "output_type": "stream",
     "text": [
      "reference_text: vui lòng cho tôi biết tàu sẽ khởi hành đúng giờ không\n",
      "predicted_text: vui lòng cho tôi biết cầu sẽ khởi hành đúng giờ không?\n",
      "Processing: FPTOpenSpeechData_Set001_V0.1_000325.mp3\n"
     ]
    },
    {
     "name": "stderr",
     "output_type": "stream",
     "text": [
      "/home/ngo/anaconda3/lib/python3.12/site-packages/whisper/transcribe.py:126: UserWarning: FP16 is not supported on CPU; using FP32 instead\n",
      "  warnings.warn(\"FP16 is not supported on CPU; using FP32 instead\")\n"
     ]
    },
    {
     "name": "stdout",
     "output_type": "stream",
     "text": [
      "reference_text: bạn có biết hẹn hò\n",
      "predicted_text: mẹ có đi hết rồi\n",
      "Processing: FPTOpenSpeechData_Set001_V0.1_000326.mp3\n"
     ]
    },
    {
     "name": "stderr",
     "output_type": "stream",
     "text": [
      "/home/ngo/anaconda3/lib/python3.12/site-packages/whisper/transcribe.py:126: UserWarning: FP16 is not supported on CPU; using FP32 instead\n",
      "  warnings.warn(\"FP16 is not supported on CPU; using FP32 instead\")\n"
     ]
    },
    {
     "name": "stdout",
     "output_type": "stream",
     "text": [
      "reference_text: miễn thuế đối với nhà đầu tư trong nước kém ưu đãi hơn so với đầu tư nước ngoài\n",
      "predicted_text: nguyễn thủy đối với nhà đầu tư trong nước kém yêu đáy hơn so với đầu tư nước ngoài.\n",
      "Processing: FPTOpenSpeechData_Set001_V0.1_000327.mp3\n"
     ]
    },
    {
     "name": "stderr",
     "output_type": "stream",
     "text": [
      "/home/ngo/anaconda3/lib/python3.12/site-packages/whisper/transcribe.py:126: UserWarning: FP16 is not supported on CPU; using FP32 instead\n",
      "  warnings.warn(\"FP16 is not supported on CPU; using FP32 instead\")\n"
     ]
    },
    {
     "name": "stdout",
     "output_type": "stream",
     "text": [
      "reference_text: đồng hồ tôi chậm ba phút\n",
      "predicted_text: đồng hồ tôi chậm 3 phút\n",
      "Processing: FPTOpenSpeechData_Set001_V0.1_000328.mp3\n"
     ]
    },
    {
     "name": "stderr",
     "output_type": "stream",
     "text": [
      "/home/ngo/anaconda3/lib/python3.12/site-packages/whisper/transcribe.py:126: UserWarning: FP16 is not supported on CPU; using FP32 instead\n",
      "  warnings.warn(\"FP16 is not supported on CPU; using FP32 instead\")\n"
     ]
    },
    {
     "name": "stdout",
     "output_type": "stream",
     "text": [
      "reference_text: cô rê chí mén \\r\\n và giấc mơ toàn cầu\n",
      "predicted_text: cô ri chỉ mến và giấc mơ toàn cầu.\n",
      "Processing: FPTOpenSpeechData_Set001_V0.1_000329.mp3\n"
     ]
    },
    {
     "name": "stderr",
     "output_type": "stream",
     "text": [
      "/home/ngo/anaconda3/lib/python3.12/site-packages/whisper/transcribe.py:126: UserWarning: FP16 is not supported on CPU; using FP32 instead\n",
      "  warnings.warn(\"FP16 is not supported on CPU; using FP32 instead\")\n"
     ]
    },
    {
     "name": "stdout",
     "output_type": "stream",
     "text": [
      "reference_text: lên các cuộc hẹn phỏng vấn và thực hiện phỏng vấn\n",
      "predicted_text: lên các cuộc hiện phóng vấn và thực hiện phóng vấn.\n",
      "Processing: FPTOpenSpeechData_Set001_V0.1_000330.mp3\n"
     ]
    },
    {
     "name": "stderr",
     "output_type": "stream",
     "text": [
      "/home/ngo/anaconda3/lib/python3.12/site-packages/whisper/transcribe.py:126: UserWarning: FP16 is not supported on CPU; using FP32 instead\n",
      "  warnings.warn(\"FP16 is not supported on CPU; using FP32 instead\")\n"
     ]
    },
    {
     "name": "stdout",
     "output_type": "stream",
     "text": [
      "reference_text: tôi sẽ kê toa thuốc cho anh\n",
      "predicted_text: tôi sẽ che ta thuốc cho ăn\n",
      "Processing: FPTOpenSpeechData_Set001_V0.1_000331.mp3\n"
     ]
    },
    {
     "name": "stderr",
     "output_type": "stream",
     "text": [
      "/home/ngo/anaconda3/lib/python3.12/site-packages/whisper/transcribe.py:126: UserWarning: FP16 is not supported on CPU; using FP32 instead\n",
      "  warnings.warn(\"FP16 is not supported on CPU; using FP32 instead\")\n"
     ]
    },
    {
     "name": "stdout",
     "output_type": "stream",
     "text": [
      "reference_text: khách hàng chờ nhận hành lý thất lạc\n",
      "predicted_text: khách hàng chờ nhận hành ý thất lạc\n",
      "Processing: FPTOpenSpeechData_Set001_V0.1_000332.mp3\n"
     ]
    },
    {
     "name": "stderr",
     "output_type": "stream",
     "text": [
      "/home/ngo/anaconda3/lib/python3.12/site-packages/whisper/transcribe.py:126: UserWarning: FP16 is not supported on CPU; using FP32 instead\n",
      "  warnings.warn(\"FP16 is not supported on CPU; using FP32 instead\")\n"
     ]
    },
    {
     "name": "stdout",
     "output_type": "stream",
     "text": [
      "reference_text: ti vi tắt âm lượng\n",
      "predicted_text: tiếp theo các anh lượm\n",
      "Processing: FPTOpenSpeechData_Set001_V0.1_000333.mp3\n"
     ]
    },
    {
     "name": "stderr",
     "output_type": "stream",
     "text": [
      "/home/ngo/anaconda3/lib/python3.12/site-packages/whisper/transcribe.py:126: UserWarning: FP16 is not supported on CPU; using FP32 instead\n",
      "  warnings.warn(\"FP16 is not supported on CPU; using FP32 instead\")\n"
     ]
    },
    {
     "name": "stdout",
     "output_type": "stream",
     "text": [
      "reference_text: trường là người rất có kỷ luật nhưng làm việc hơi cẩu thả một chút\n",
      "predicted_text: trường là người rất có kỹ thuật, nhưng làm việc hơi cẩu khả một chút.\n",
      "Processing: FPTOpenSpeechData_Set001_V0.1_000334.mp3\n"
     ]
    },
    {
     "name": "stderr",
     "output_type": "stream",
     "text": [
      "/home/ngo/anaconda3/lib/python3.12/site-packages/whisper/transcribe.py:126: UserWarning: FP16 is not supported on CPU; using FP32 instead\n",
      "  warnings.warn(\"FP16 is not supported on CPU; using FP32 instead\")\n"
     ]
    },
    {
     "name": "stdout",
     "output_type": "stream",
     "text": [
      "reference_text: có lẽ bạn đang nghĩ rằng bạn vẫn luôn cư xử một cách đúng mực\n",
      "predicted_text: có lẽ bạn đang nghĩ rằng bạn vẫn luôn tương tự một cách đúng mục.\n",
      "Processing: FPTOpenSpeechData_Set001_V0.1_000335.mp3\n"
     ]
    },
    {
     "name": "stderr",
     "output_type": "stream",
     "text": [
      "/home/ngo/anaconda3/lib/python3.12/site-packages/whisper/transcribe.py:126: UserWarning: FP16 is not supported on CPU; using FP32 instead\n",
      "  warnings.warn(\"FP16 is not supported on CPU; using FP32 instead\")\n"
     ]
    },
    {
     "name": "stdout",
     "output_type": "stream",
     "text": [
      "reference_text: buộc tháo dỡ phần vi phạm ngay như quận bình thạnh\n",
      "predicted_text: bộ kháo dở phần vi phạm ngay như quận bình thạnh\n",
      "Processing: FPTOpenSpeechData_Set001_V0.1_000336.mp3\n"
     ]
    },
    {
     "name": "stderr",
     "output_type": "stream",
     "text": [
      "/home/ngo/anaconda3/lib/python3.12/site-packages/whisper/transcribe.py:126: UserWarning: FP16 is not supported on CPU; using FP32 instead\n",
      "  warnings.warn(\"FP16 is not supported on CPU; using FP32 instead\")\n"
     ]
    },
    {
     "name": "stdout",
     "output_type": "stream",
     "text": [
      "reference_text: bạn sẽ chỉ huy một hạm đội gồm các tàu chiến chiến hạm\n",
      "predicted_text: bạn sẽ chỉ huy một hạng đội gồm các tàu chiến chiến hạng.\n",
      "Processing: FPTOpenSpeechData_Set001_V0.1_000337.mp3\n"
     ]
    },
    {
     "name": "stderr",
     "output_type": "stream",
     "text": [
      "/home/ngo/anaconda3/lib/python3.12/site-packages/whisper/transcribe.py:126: UserWarning: FP16 is not supported on CPU; using FP32 instead\n",
      "  warnings.warn(\"FP16 is not supported on CPU; using FP32 instead\")\n"
     ]
    },
    {
     "name": "stdout",
     "output_type": "stream",
     "text": [
      "reference_text: bác tư re\n",
      "predicted_text: bác tư rê\n",
      "Processing: FPTOpenSpeechData_Set001_V0.1_000338.mp3\n"
     ]
    },
    {
     "name": "stderr",
     "output_type": "stream",
     "text": [
      "/home/ngo/anaconda3/lib/python3.12/site-packages/whisper/transcribe.py:126: UserWarning: FP16 is not supported on CPU; using FP32 instead\n",
      "  warnings.warn(\"FP16 is not supported on CPU; using FP32 instead\")\n"
     ]
    },
    {
     "name": "stdout",
     "output_type": "stream",
     "text": [
      "reference_text: tôi sẽ ở nhà một người bạn tại new york\n",
      "predicted_text: tôi sẽ ở nhà một người bạn tại new york\n",
      "Processing: FPTOpenSpeechData_Set001_V0.1_000339.mp3\n"
     ]
    },
    {
     "name": "stderr",
     "output_type": "stream",
     "text": [
      "/home/ngo/anaconda3/lib/python3.12/site-packages/whisper/transcribe.py:126: UserWarning: FP16 is not supported on CPU; using FP32 instead\n",
      "  warnings.warn(\"FP16 is not supported on CPU; using FP32 instead\")\n"
     ]
    },
    {
     "name": "stdout",
     "output_type": "stream",
     "text": [
      "reference_text: cái này hoàn toàn tự động , vì vậy anh cần bấm nút mở ống kính\n",
      "predicted_text: cái này hoàn toàn tự động, vì vậy anh cần bấm nút mở ống chính.\n",
      "Processing: FPTOpenSpeechData_Set001_V0.1_000340.mp3\n"
     ]
    },
    {
     "name": "stderr",
     "output_type": "stream",
     "text": [
      "/home/ngo/anaconda3/lib/python3.12/site-packages/whisper/transcribe.py:126: UserWarning: FP16 is not supported on CPU; using FP32 instead\n",
      "  warnings.warn(\"FP16 is not supported on CPU; using FP32 instead\")\n"
     ]
    },
    {
     "name": "stdout",
     "output_type": "stream",
     "text": [
      "reference_text: phân của quí vị có màu đen bao lâu rồi\n",
      "predicted_text: vẫn của quý vị cậu mà đen bao lâu rồi?\n",
      "Processing: FPTOpenSpeechData_Set001_V0.1_000341.mp3\n"
     ]
    },
    {
     "name": "stderr",
     "output_type": "stream",
     "text": [
      "/home/ngo/anaconda3/lib/python3.12/site-packages/whisper/transcribe.py:126: UserWarning: FP16 is not supported on CPU; using FP32 instead\n",
      "  warnings.warn(\"FP16 is not supported on CPU; using FP32 instead\")\n"
     ]
    },
    {
     "name": "stdout",
     "output_type": "stream",
     "text": [
      "reference_text: khát mộng tủ\n",
      "predicted_text: khát mộng tủ\n",
      "Processing: FPTOpenSpeechData_Set001_V0.1_000342.mp3\n"
     ]
    },
    {
     "name": "stderr",
     "output_type": "stream",
     "text": [
      "/home/ngo/anaconda3/lib/python3.12/site-packages/whisper/transcribe.py:126: UserWarning: FP16 is not supported on CPU; using FP32 instead\n",
      "  warnings.warn(\"FP16 is not supported on CPU; using FP32 instead\")\n"
     ]
    },
    {
     "name": "stdout",
     "output_type": "stream",
     "text": [
      "reference_text: tôi đi bộ\n",
      "predicted_text: 4d go\n",
      "Processing: FPTOpenSpeechData_Set001_V0.1_000343.mp3\n"
     ]
    },
    {
     "name": "stderr",
     "output_type": "stream",
     "text": [
      "/home/ngo/anaconda3/lib/python3.12/site-packages/whisper/transcribe.py:126: UserWarning: FP16 is not supported on CPU; using FP32 instead\n",
      "  warnings.warn(\"FP16 is not supported on CPU; using FP32 instead\")\n"
     ]
    },
    {
     "name": "stdout",
     "output_type": "stream",
     "text": [
      "reference_text: con trai của họ ăn nhiều nhất\n",
      "predicted_text: con trai của họ ăn nhiều nhất.\n",
      "Processing: FPTOpenSpeechData_Set001_V0.1_000344.mp3\n"
     ]
    },
    {
     "name": "stderr",
     "output_type": "stream",
     "text": [
      "/home/ngo/anaconda3/lib/python3.12/site-packages/whisper/transcribe.py:126: UserWarning: FP16 is not supported on CPU; using FP32 instead\n",
      "  warnings.warn(\"FP16 is not supported on CPU; using FP32 instead\")\n"
     ]
    },
    {
     "name": "stdout",
     "output_type": "stream",
     "text": [
      "reference_text: anh có mang tiền lẻ không\n",
      "predicted_text: anh có nên trình lễ không?\n",
      "Processing: FPTOpenSpeechData_Set001_V0.1_000345.mp3\n"
     ]
    },
    {
     "name": "stderr",
     "output_type": "stream",
     "text": [
      "/home/ngo/anaconda3/lib/python3.12/site-packages/whisper/transcribe.py:126: UserWarning: FP16 is not supported on CPU; using FP32 instead\n",
      "  warnings.warn(\"FP16 is not supported on CPU; using FP32 instead\")\n"
     ]
    },
    {
     "name": "stdout",
     "output_type": "stream",
     "text": [
      "reference_text: xin chào vui lòng nối máy cho tôi đến bàn đặt phòng\n",
      "predicted_text: xin chào, vui lòng ngồi máy cho tôi đến bàn tập vào.\n",
      "Processing: FPTOpenSpeechData_Set001_V0.1_000346.mp3\n"
     ]
    },
    {
     "name": "stderr",
     "output_type": "stream",
     "text": [
      "/home/ngo/anaconda3/lib/python3.12/site-packages/whisper/transcribe.py:126: UserWarning: FP16 is not supported on CPU; using FP32 instead\n",
      "  warnings.warn(\"FP16 is not supported on CPU; using FP32 instead\")\n"
     ]
    },
    {
     "name": "stdout",
     "output_type": "stream",
     "text": [
      "reference_text: chúng tôi phải đi bây giờ tôi rất thích bài khiêu vũ\n",
      "predicted_text: chúng tôi phải đi bây giờ, tôi rất thích bài du vụ.\n",
      "Processing: FPTOpenSpeechData_Set001_V0.1_000347.mp3\n"
     ]
    },
    {
     "name": "stderr",
     "output_type": "stream",
     "text": [
      "/home/ngo/anaconda3/lib/python3.12/site-packages/whisper/transcribe.py:126: UserWarning: FP16 is not supported on CPU; using FP32 instead\n",
      "  warnings.warn(\"FP16 is not supported on CPU; using FP32 instead\")\n"
     ]
    },
    {
     "name": "stdout",
     "output_type": "stream",
     "text": [
      "reference_text: hôm nay su không ở đây\n",
      "predicted_text: hôm nay, chú không ở đây.\n",
      "Processing: FPTOpenSpeechData_Set001_V0.1_000348.mp3\n"
     ]
    },
    {
     "name": "stderr",
     "output_type": "stream",
     "text": [
      "/home/ngo/anaconda3/lib/python3.12/site-packages/whisper/transcribe.py:126: UserWarning: FP16 is not supported on CPU; using FP32 instead\n",
      "  warnings.warn(\"FP16 is not supported on CPU; using FP32 instead\")\n"
     ]
    },
    {
     "name": "stdout",
     "output_type": "stream",
     "text": [
      "reference_text: bữa sáng có gì\n",
      "predicted_text: mưa sáng có gì\n",
      "Processing: FPTOpenSpeechData_Set001_V0.1_000349.mp3\n"
     ]
    },
    {
     "name": "stderr",
     "output_type": "stream",
     "text": [
      "/home/ngo/anaconda3/lib/python3.12/site-packages/whisper/transcribe.py:126: UserWarning: FP16 is not supported on CPU; using FP32 instead\n",
      "  warnings.warn(\"FP16 is not supported on CPU; using FP32 instead\")\n"
     ]
    },
    {
     "name": "stdout",
     "output_type": "stream",
     "text": [
      "reference_text: tôi muốn chỉ ra rằng\n",
      "predicted_text: cứu bọn chị ra ra\n",
      "Processing: FPTOpenSpeechData_Set001_V0.1_000350.mp3\n"
     ]
    },
    {
     "name": "stderr",
     "output_type": "stream",
     "text": [
      "/home/ngo/anaconda3/lib/python3.12/site-packages/whisper/transcribe.py:126: UserWarning: FP16 is not supported on CPU; using FP32 instead\n",
      "  warnings.warn(\"FP16 is not supported on CPU; using FP32 instead\")\n"
     ]
    },
    {
     "name": "stdout",
     "output_type": "stream",
     "text": [
      "reference_text: do vậy việc y án sơ thẩm là hoàn toàn có cơ sở\n",
      "predicted_text: do vậy, việc y áp sơ tẩm là hoàn toàn khó chứa sở.\n",
      "Processing: FPTOpenSpeechData_Set001_V0.1_000351.mp3\n"
     ]
    },
    {
     "name": "stderr",
     "output_type": "stream",
     "text": [
      "/home/ngo/anaconda3/lib/python3.12/site-packages/whisper/transcribe.py:126: UserWarning: FP16 is not supported on CPU; using FP32 instead\n",
      "  warnings.warn(\"FP16 is not supported on CPU; using FP32 instead\")\n"
     ]
    },
    {
     "name": "stdout",
     "output_type": "stream",
     "text": [
      "reference_text: động cơ bị nóng quá\n",
      "predicted_text: độc cơ bị nóng quá\n",
      "Processing: FPTOpenSpeechData_Set001_V0.1_000352.mp3\n"
     ]
    },
    {
     "name": "stderr",
     "output_type": "stream",
     "text": [
      "/home/ngo/anaconda3/lib/python3.12/site-packages/whisper/transcribe.py:126: UserWarning: FP16 is not supported on CPU; using FP32 instead\n",
      "  warnings.warn(\"FP16 is not supported on CPU; using FP32 instead\")\n"
     ]
    },
    {
     "name": "stdout",
     "output_type": "stream",
     "text": [
      "reference_text: hầu như không ai chú ý đến những mệnh lệnh ông đưa ra nữa binh lính thì không chịu chiến đấu\n",
      "predicted_text: hầu như không ai tùy dù những cân nhẫn của mấy người là ai đó, thì mình chỉ có kiểu kiểu đồng.\n",
      "Processing: FPTOpenSpeechData_Set001_V0.1_000353.mp3\n"
     ]
    },
    {
     "name": "stderr",
     "output_type": "stream",
     "text": [
      "/home/ngo/anaconda3/lib/python3.12/site-packages/whisper/transcribe.py:126: UserWarning: FP16 is not supported on CPU; using FP32 instead\n",
      "  warnings.warn(\"FP16 is not supported on CPU; using FP32 instead\")\n"
     ]
    },
    {
     "name": "stdout",
     "output_type": "stream",
     "text": [
      "reference_text: tôi đến cùng bạn tôi được không\n",
      "predicted_text: tôi đến cùng bạn tôi được không?\n",
      "Processing: FPTOpenSpeechData_Set001_V0.1_000354.mp3\n"
     ]
    },
    {
     "name": "stderr",
     "output_type": "stream",
     "text": [
      "/home/ngo/anaconda3/lib/python3.12/site-packages/whisper/transcribe.py:126: UserWarning: FP16 is not supported on CPU; using FP32 instead\n",
      "  warnings.warn(\"FP16 is not supported on CPU; using FP32 instead\")\n"
     ]
    },
    {
     "name": "stdout",
     "output_type": "stream",
     "text": [
      "reference_text: chừng nào thì khu bị đóng cửa sẽ mở cửa cho xe đi\n",
      "predicted_text: chừng nào thị phố bị đóng cửa, thẻ nội vượng có xe đi.\n",
      "Processing: FPTOpenSpeechData_Set001_V0.1_000355.mp3\n"
     ]
    },
    {
     "name": "stderr",
     "output_type": "stream",
     "text": [
      "/home/ngo/anaconda3/lib/python3.12/site-packages/whisper/transcribe.py:126: UserWarning: FP16 is not supported on CPU; using FP32 instead\n",
      "  warnings.warn(\"FP16 is not supported on CPU; using FP32 instead\")\n"
     ]
    },
    {
     "name": "stdout",
     "output_type": "stream",
     "text": [
      "reference_text: đây là một áp lực nặng nề đối với các đơn vị sản xuất thép\n",
      "predicted_text: đây là một áp lực nặng nề đối với các đơn vị sản xuất thép.\n",
      "Processing: FPTOpenSpeechData_Set001_V0.1_000356.mp3\n"
     ]
    },
    {
     "name": "stderr",
     "output_type": "stream",
     "text": [
      "/home/ngo/anaconda3/lib/python3.12/site-packages/whisper/transcribe.py:126: UserWarning: FP16 is not supported on CPU; using FP32 instead\n",
      "  warnings.warn(\"FP16 is not supported on CPU; using FP32 instead\")\n"
     ]
    },
    {
     "name": "stdout",
     "output_type": "stream",
     "text": [
      "reference_text: sản phẩm đã được miễn giảm thuế chủ yếu phục vụ thị trường các tỉnh miền tây nam bộ đã biến khỏi mĩ khởi\n",
      "predicted_text: sản phẩm đã được miễn giảng thuế, chủ yếu phục vụ thị trường các tiền liền, nên lang bộ đã biến khỏi những khởi.\n",
      "Processing: FPTOpenSpeechData_Set001_V0.1_000357.mp3\n"
     ]
    },
    {
     "name": "stderr",
     "output_type": "stream",
     "text": [
      "/home/ngo/anaconda3/lib/python3.12/site-packages/whisper/transcribe.py:126: UserWarning: FP16 is not supported on CPU; using FP32 instead\n",
      "  warnings.warn(\"FP16 is not supported on CPU; using FP32 instead\")\n"
     ]
    },
    {
     "name": "stdout",
     "output_type": "stream",
     "text": [
      "reference_text: tôi nói cậu có nghe không\n",
      "predicted_text: tôi nói, cậu có nghe không?\n",
      "Processing: FPTOpenSpeechData_Set001_V0.1_000358.mp3\n"
     ]
    },
    {
     "name": "stderr",
     "output_type": "stream",
     "text": [
      "/home/ngo/anaconda3/lib/python3.12/site-packages/whisper/transcribe.py:126: UserWarning: FP16 is not supported on CPU; using FP32 instead\n",
      "  warnings.warn(\"FP16 is not supported on CPU; using FP32 instead\")\n"
     ]
    },
    {
     "name": "stdout",
     "output_type": "stream",
     "text": [
      "reference_text: tôi có thể ở lại ba đêm không\n",
      "predicted_text: các bạn có thể lại mã điểm không?\n",
      "Processing: FPTOpenSpeechData_Set001_V0.1_000359.mp3\n"
     ]
    },
    {
     "name": "stderr",
     "output_type": "stream",
     "text": [
      "/home/ngo/anaconda3/lib/python3.12/site-packages/whisper/transcribe.py:126: UserWarning: FP16 is not supported on CPU; using FP32 instead\n",
      "  warnings.warn(\"FP16 is not supported on CPU; using FP32 instead\")\n"
     ]
    },
    {
     "name": "stdout",
     "output_type": "stream",
     "text": [
      "reference_text: tuy nhiên giá bán vẫn giữ mức khá cao\n",
      "predicted_text: tuy nhiên, gà bán vẫn giữ mức phá cao.\n",
      "Processing: FPTOpenSpeechData_Set001_V0.1_000360.mp3\n"
     ]
    },
    {
     "name": "stderr",
     "output_type": "stream",
     "text": [
      "/home/ngo/anaconda3/lib/python3.12/site-packages/whisper/transcribe.py:126: UserWarning: FP16 is not supported on CPU; using FP32 instead\n",
      "  warnings.warn(\"FP16 is not supported on CPU; using FP32 instead\")\n"
     ]
    },
    {
     "name": "stdout",
     "output_type": "stream",
     "text": [
      "reference_text: tôi có một số câu hỏi về điều khoản số tám\n",
      "predicted_text: có một số câu hỏi về điều khoản số 8.\n",
      "Processing: FPTOpenSpeechData_Set001_V0.1_000361.mp3\n"
     ]
    },
    {
     "name": "stderr",
     "output_type": "stream",
     "text": [
      "/home/ngo/anaconda3/lib/python3.12/site-packages/whisper/transcribe.py:126: UserWarning: FP16 is not supported on CPU; using FP32 instead\n",
      "  warnings.warn(\"FP16 is not supported on CPU; using FP32 instead\")\n"
     ]
    },
    {
     "name": "stdout",
     "output_type": "stream",
     "text": [
      "reference_text: tôi thường có nhưng tôi thích nghỉ hè\n",
      "predicted_text: tôi thường có nhưng tôi thích thì hẹn.\n",
      "Processing: FPTOpenSpeechData_Set001_V0.1_000362.mp3\n"
     ]
    },
    {
     "name": "stderr",
     "output_type": "stream",
     "text": [
      "/home/ngo/anaconda3/lib/python3.12/site-packages/whisper/transcribe.py:126: UserWarning: FP16 is not supported on CPU; using FP32 instead\n",
      "  warnings.warn(\"FP16 is not supported on CPU; using FP32 instead\")\n"
     ]
    },
    {
     "name": "stdout",
     "output_type": "stream",
     "text": [
      "reference_text: ngày mai chúng tôi phải dậy sớm\n",
      "predicted_text: ngày mai chúng tôi phải dậy sớm.\n",
      "Processing: FPTOpenSpeechData_Set001_V0.1_000363.mp3\n"
     ]
    },
    {
     "name": "stderr",
     "output_type": "stream",
     "text": [
      "/home/ngo/anaconda3/lib/python3.12/site-packages/whisper/transcribe.py:126: UserWarning: FP16 is not supported on CPU; using FP32 instead\n",
      "  warnings.warn(\"FP16 is not supported on CPU; using FP32 instead\")\n"
     ]
    },
    {
     "name": "stdout",
     "output_type": "stream",
     "text": [
      "reference_text: dòng sản phẩm thảm đỏ thôi miên mọi ánh nhìn bởi chi tiết xếp nếp mềm mại\n",
      "predicted_text: dòng sản phẩm thảm rỏ, thôi miến mọi ánh liên bởi chi tiết chụp nếp mềm mài\n",
      "Processing: FPTOpenSpeechData_Set001_V0.1_000364.mp3\n"
     ]
    },
    {
     "name": "stderr",
     "output_type": "stream",
     "text": [
      "/home/ngo/anaconda3/lib/python3.12/site-packages/whisper/transcribe.py:126: UserWarning: FP16 is not supported on CPU; using FP32 instead\n",
      "  warnings.warn(\"FP16 is not supported on CPU; using FP32 instead\")\n"
     ]
    },
    {
     "name": "stdout",
     "output_type": "stream",
     "text": [
      "reference_text: với dầu và mụn mặt nạ táo và mật ong sẽ giúp bạn cải thiện làn da\n",
      "predicted_text: với dầu và bụng mặt nạ táo và mật ong để giúp bạn cải thiện làn da\n",
      "Processing: FPTOpenSpeechData_Set001_V0.1_000365.mp3\n"
     ]
    },
    {
     "name": "stderr",
     "output_type": "stream",
     "text": [
      "/home/ngo/anaconda3/lib/python3.12/site-packages/whisper/transcribe.py:126: UserWarning: FP16 is not supported on CPU; using FP32 instead\n",
      "  warnings.warn(\"FP16 is not supported on CPU; using FP32 instead\")\n"
     ]
    },
    {
     "name": "stdout",
     "output_type": "stream",
     "text": [
      "reference_text: và tăng khả năng sinh sản\n",
      "predicted_text: và tăng khả năng sinh tạng.\n",
      "Processing: FPTOpenSpeechData_Set001_V0.1_000366.mp3\n"
     ]
    },
    {
     "name": "stderr",
     "output_type": "stream",
     "text": [
      "/home/ngo/anaconda3/lib/python3.12/site-packages/whisper/transcribe.py:126: UserWarning: FP16 is not supported on CPU; using FP32 instead\n",
      "  warnings.warn(\"FP16 is not supported on CPU; using FP32 instead\")\n"
     ]
    },
    {
     "name": "stdout",
     "output_type": "stream",
     "text": [
      "reference_text: tại bữa cơm nhấp xong chén rượu bảy đưa tuấn thấy anh bỉnh kêu đắng khó uống\n",
      "predicted_text: tại bữa cơm, nhấp xăm chán rượu, bãi đưa, tưởng thấy anh bỉnh kêu đám khó uống.\n",
      "Processing: FPTOpenSpeechData_Set001_V0.1_000367.mp3\n"
     ]
    },
    {
     "name": "stderr",
     "output_type": "stream",
     "text": [
      "/home/ngo/anaconda3/lib/python3.12/site-packages/whisper/transcribe.py:126: UserWarning: FP16 is not supported on CPU; using FP32 instead\n",
      "  warnings.warn(\"FP16 is not supported on CPU; using FP32 instead\")\n"
     ]
    },
    {
     "name": "stdout",
     "output_type": "stream",
     "text": [
      "reference_text: mà điện sản xuất lãi như vậy có thấy evn đả động gì đâu\n",
      "predicted_text: mà điện sản xuất. lại như vậy, có thấy evn đã đọc gì đâu?\n",
      "Processing: FPTOpenSpeechData_Set001_V0.1_000368.mp3\n"
     ]
    },
    {
     "name": "stderr",
     "output_type": "stream",
     "text": [
      "/home/ngo/anaconda3/lib/python3.12/site-packages/whisper/transcribe.py:126: UserWarning: FP16 is not supported on CPU; using FP32 instead\n",
      "  warnings.warn(\"FP16 is not supported on CPU; using FP32 instead\")\n"
     ]
    },
    {
     "name": "stdout",
     "output_type": "stream",
     "text": [
      "reference_text: anh có thích gặp nói chuyện sau không\n",
      "predicted_text: anh có thích gặp nói chuyện sao không?\n",
      "Processing: FPTOpenSpeechData_Set001_V0.1_000369.mp3\n"
     ]
    },
    {
     "name": "stderr",
     "output_type": "stream",
     "text": [
      "/home/ngo/anaconda3/lib/python3.12/site-packages/whisper/transcribe.py:126: UserWarning: FP16 is not supported on CPU; using FP32 instead\n",
      "  warnings.warn(\"FP16 is not supported on CPU; using FP32 instead\")\n"
     ]
    },
    {
     "name": "stdout",
     "output_type": "stream",
     "text": [
      "reference_text: làm ơn cho một ly rượu vang đỏ được không\n",
      "predicted_text: làm ơn cho một ly rượu vắng đỏ được không?\n",
      "Processing: FPTOpenSpeechData_Set001_V0.1_000370.mp3\n"
     ]
    },
    {
     "name": "stderr",
     "output_type": "stream",
     "text": [
      "/home/ngo/anaconda3/lib/python3.12/site-packages/whisper/transcribe.py:126: UserWarning: FP16 is not supported on CPU; using FP32 instead\n",
      "  warnings.warn(\"FP16 is not supported on CPU; using FP32 instead\")\n"
     ]
    },
    {
     "name": "stdout",
     "output_type": "stream",
     "text": [
      "reference_text: đi lên\n",
      "predicted_text: chào tạm biệt.\n",
      "Processing: FPTOpenSpeechData_Set001_V0.1_000371.mp3\n"
     ]
    },
    {
     "name": "stderr",
     "output_type": "stream",
     "text": [
      "/home/ngo/anaconda3/lib/python3.12/site-packages/whisper/transcribe.py:126: UserWarning: FP16 is not supported on CPU; using FP32 instead\n",
      "  warnings.warn(\"FP16 is not supported on CPU; using FP32 instead\")\n"
     ]
    },
    {
     "name": "stdout",
     "output_type": "stream",
     "text": [
      "reference_text: tôi muốn một đôi ván trượt nước\n",
      "predicted_text: với một nguồn đối vạn truyệt nước.\n",
      "Processing: FPTOpenSpeechData_Set001_V0.1_000372.mp3\n"
     ]
    },
    {
     "name": "stderr",
     "output_type": "stream",
     "text": [
      "/home/ngo/anaconda3/lib/python3.12/site-packages/whisper/transcribe.py:126: UserWarning: FP16 is not supported on CPU; using FP32 instead\n",
      "  warnings.warn(\"FP16 is not supported on CPU; using FP32 instead\")\n"
     ]
    },
    {
     "name": "stdout",
     "output_type": "stream",
     "text": [
      "reference_text: con biết nịnh bố mỗi khi thích món đồ chơi nào đó\n",
      "predicted_text: con biết nịnh bố mỗi khi thích món đồ chơi nào đó.\n",
      "Processing: FPTOpenSpeechData_Set001_V0.1_000373.mp3\n"
     ]
    },
    {
     "name": "stderr",
     "output_type": "stream",
     "text": [
      "/home/ngo/anaconda3/lib/python3.12/site-packages/whisper/transcribe.py:126: UserWarning: FP16 is not supported on CPU; using FP32 instead\n",
      "  warnings.warn(\"FP16 is not supported on CPU; using FP32 instead\")\n"
     ]
    },
    {
     "name": "stdout",
     "output_type": "stream",
     "text": [
      "reference_text: bạn muốn uống loại rượu nào\n",
      "predicted_text: bạn muốn uống loài dược nào?\n",
      "Processing: FPTOpenSpeechData_Set001_V0.1_000374.mp3\n"
     ]
    },
    {
     "name": "stderr",
     "output_type": "stream",
     "text": [
      "/home/ngo/anaconda3/lib/python3.12/site-packages/whisper/transcribe.py:126: UserWarning: FP16 is not supported on CPU; using FP32 instead\n",
      "  warnings.warn(\"FP16 is not supported on CPU; using FP32 instead\")\n"
     ]
    },
    {
     "name": "stdout",
     "output_type": "stream",
     "text": [
      "reference_text: tại cuộc họp ông nguyễn quốc bảo khẳng định thời gian tới sẽ tập trung điều hành nhằm tháo gỡ khó khăn về vốn cũng như thủ tục hành chính phục vụ sản xuất nhập khẩu\n",
      "predicted_text: tại cuộc họp công nghiên quốc bảo đảm định thời gian tới sẽ tập trung điều hành nhằm tháo gỡ khó khăn kề vốn cũng như thủ tục hành chính, phục vụ sản xuất, nhập khẩu.\n",
      "Processing: FPTOpenSpeechData_Set001_V0.1_000375.mp3\n"
     ]
    },
    {
     "name": "stderr",
     "output_type": "stream",
     "text": [
      "/home/ngo/anaconda3/lib/python3.12/site-packages/whisper/transcribe.py:126: UserWarning: FP16 is not supported on CPU; using FP32 instead\n",
      "  warnings.warn(\"FP16 is not supported on CPU; using FP32 instead\")\n"
     ]
    },
    {
     "name": "stdout",
     "output_type": "stream",
     "text": [
      "reference_text: dùng thuốc ngay khi thức dậy buổi sáng\n",
      "predicted_text: dùng thuốc ngay khi thức dậy, hình sáng.\n",
      "Processing: FPTOpenSpeechData_Set001_V0.1_000376.mp3\n"
     ]
    },
    {
     "name": "stderr",
     "output_type": "stream",
     "text": [
      "/home/ngo/anaconda3/lib/python3.12/site-packages/whisper/transcribe.py:126: UserWarning: FP16 is not supported on CPU; using FP32 instead\n",
      "  warnings.warn(\"FP16 is not supported on CPU; using FP32 instead\")\n"
     ]
    },
    {
     "name": "stdout",
     "output_type": "stream",
     "text": [
      "reference_text: ồ không vấn đề gì\n",
      "predicted_text: ồ, mà đưa đi\n",
      "Processing: FPTOpenSpeechData_Set001_V0.1_000377.mp3\n"
     ]
    },
    {
     "name": "stderr",
     "output_type": "stream",
     "text": [
      "/home/ngo/anaconda3/lib/python3.12/site-packages/whisper/transcribe.py:126: UserWarning: FP16 is not supported on CPU; using FP32 instead\n",
      "  warnings.warn(\"FP16 is not supported on CPU; using FP32 instead\")\n"
     ]
    },
    {
     "name": "stdout",
     "output_type": "stream",
     "text": [
      "reference_text: nhiều lần chị góp ý ông xã đã hứa sẽ sửa lịch cho hợp lý song chỉ được dăm bữa nửa tháng mọi việc lại đâu vào đấy\n",
      "predicted_text: nhiều lần chỉ góp ý, ông đã hứa sửa lịch cho hợp ý xong, chỉ được tâm ứng nửa tháng, còn việc giải đấu vào đấy.\n",
      "Processing: FPTOpenSpeechData_Set001_V0.1_000378.mp3\n"
     ]
    },
    {
     "name": "stderr",
     "output_type": "stream",
     "text": [
      "/home/ngo/anaconda3/lib/python3.12/site-packages/whisper/transcribe.py:126: UserWarning: FP16 is not supported on CPU; using FP32 instead\n",
      "  warnings.warn(\"FP16 is not supported on CPU; using FP32 instead\")\n"
     ]
    },
    {
     "name": "stdout",
     "output_type": "stream",
     "text": [
      "reference_text: bạn đừng để mắt to hơn bụng\n",
      "predicted_text: bạn tính về mắt to hơn luôn\n",
      "Processing: FPTOpenSpeechData_Set001_V0.1_000379.mp3\n"
     ]
    },
    {
     "name": "stderr",
     "output_type": "stream",
     "text": [
      "/home/ngo/anaconda3/lib/python3.12/site-packages/whisper/transcribe.py:126: UserWarning: FP16 is not supported on CPU; using FP32 instead\n",
      "  warnings.warn(\"FP16 is not supported on CPU; using FP32 instead\")\n"
     ]
    },
    {
     "name": "stdout",
     "output_type": "stream",
     "text": [
      "reference_text: còn gì ý nghĩa hơn với một tiền đạo khi ghi bàn quyết định thắng lợi cho đội nhà trong ngày sinh nhật của mình\n",
      "predicted_text: còn gì nữa hơn với một tình cảm suy nghĩ bằng quyết định tham dự cho đội nhà trong ngày sinh viên.\n",
      "Processing: FPTOpenSpeechData_Set001_V0.1_000380.mp3\n"
     ]
    },
    {
     "name": "stderr",
     "output_type": "stream",
     "text": [
      "/home/ngo/anaconda3/lib/python3.12/site-packages/whisper/transcribe.py:126: UserWarning: FP16 is not supported on CPU; using FP32 instead\n",
      "  warnings.warn(\"FP16 is not supported on CPU; using FP32 instead\")\n"
     ]
    },
    {
     "name": "stdout",
     "output_type": "stream",
     "text": [
      "reference_text: bắt đầu lúc mấy giờ\n",
      "predicted_text: bắt đầu lướt ngấy dây\n",
      "Processing: FPTOpenSpeechData_Set001_V0.1_000381.mp3\n"
     ]
    },
    {
     "name": "stderr",
     "output_type": "stream",
     "text": [
      "/home/ngo/anaconda3/lib/python3.12/site-packages/whisper/transcribe.py:126: UserWarning: FP16 is not supported on CPU; using FP32 instead\n",
      "  warnings.warn(\"FP16 is not supported on CPU; using FP32 instead\")\n"
     ]
    },
    {
     "name": "stdout",
     "output_type": "stream",
     "text": [
      "reference_text: con của quí vị bao nhiêu tuổi\n",
      "predicted_text: con của quý vị bao nhiêu tuổi?\n",
      "Processing: FPTOpenSpeechData_Set001_V0.1_000382.mp3\n"
     ]
    },
    {
     "name": "stderr",
     "output_type": "stream",
     "text": [
      "/home/ngo/anaconda3/lib/python3.12/site-packages/whisper/transcribe.py:126: UserWarning: FP16 is not supported on CPU; using FP32 instead\n",
      "  warnings.warn(\"FP16 is not supported on CPU; using FP32 instead\")\n"
     ]
    },
    {
     "name": "stdout",
     "output_type": "stream",
     "text": [
      "reference_text: vui lòng mang cho tôi món khai vị\n",
      "predicted_text: vui lòng mang cho tôi món khai vị\n",
      "Processing: FPTOpenSpeechData_Set001_V0.1_000383.mp3\n"
     ]
    },
    {
     "name": "stderr",
     "output_type": "stream",
     "text": [
      "/home/ngo/anaconda3/lib/python3.12/site-packages/whisper/transcribe.py:126: UserWarning: FP16 is not supported on CPU; using FP32 instead\n",
      "  warnings.warn(\"FP16 is not supported on CPU; using FP32 instead\")\n"
     ]
    },
    {
     "name": "stdout",
     "output_type": "stream",
     "text": [
      "reference_text: lập trình viên đa số đều bị tâm thần\n",
      "predicted_text: lập trình viên đa số đều bị tâm thần.\n",
      "Processing: FPTOpenSpeechData_Set001_V0.1_000384.mp3\n"
     ]
    },
    {
     "name": "stderr",
     "output_type": "stream",
     "text": [
      "/home/ngo/anaconda3/lib/python3.12/site-packages/whisper/transcribe.py:126: UserWarning: FP16 is not supported on CPU; using FP32 instead\n",
      "  warnings.warn(\"FP16 is not supported on CPU; using FP32 instead\")\n"
     ]
    },
    {
     "name": "stdout",
     "output_type": "stream",
     "text": [
      "reference_text: tôi muốn thời gian đó quan sát và tư duy nhờ đó mà có ý tưởng điều chỉnh nhịp đèn anh tuấn chia sẻ\n",
      "predicted_text: tôi muốn thời gian đó quan sát và tư duy, nhờ đó mà có ý tưởng điều chỉnh nhịp đèn anh tốn chia sẻ.\n",
      "Processing: FPTOpenSpeechData_Set001_V0.1_000385.mp3\n"
     ]
    },
    {
     "name": "stderr",
     "output_type": "stream",
     "text": [
      "/home/ngo/anaconda3/lib/python3.12/site-packages/whisper/transcribe.py:126: UserWarning: FP16 is not supported on CPU; using FP32 instead\n",
      "  warnings.warn(\"FP16 is not supported on CPU; using FP32 instead\")\n"
     ]
    },
    {
     "name": "stdout",
     "output_type": "stream",
     "text": [
      "reference_text: mặc dù có vẻ ghê gớm bạn rất sợ bị tổn\n",
      "predicted_text: mặc dù có vẻ gây đến giấu, bạn rất sợ bị bỏng.\n",
      "Processing: FPTOpenSpeechData_Set001_V0.1_000386.mp3\n"
     ]
    },
    {
     "name": "stderr",
     "output_type": "stream",
     "text": [
      "/home/ngo/anaconda3/lib/python3.12/site-packages/whisper/transcribe.py:126: UserWarning: FP16 is not supported on CPU; using FP32 instead\n",
      "  warnings.warn(\"FP16 is not supported on CPU; using FP32 instead\")\n"
     ]
    },
    {
     "name": "stdout",
     "output_type": "stream",
     "text": [
      "reference_text: nhà hát mở cửa lúc mấy giờ\n",
      "predicted_text: nhà hạt mở cửa lúc mậy dơ\n",
      "Processing: FPTOpenSpeechData_Set001_V0.1_000387.mp3\n"
     ]
    },
    {
     "name": "stderr",
     "output_type": "stream",
     "text": [
      "/home/ngo/anaconda3/lib/python3.12/site-packages/whisper/transcribe.py:126: UserWarning: FP16 is not supported on CPU; using FP32 instead\n",
      "  warnings.warn(\"FP16 is not supported on CPU; using FP32 instead\")\n"
     ]
    },
    {
     "name": "stdout",
     "output_type": "stream",
     "text": [
      "reference_text: tóm lược sức khỏe ban đầu\n",
      "predicted_text: hãy subscribe cho kênh ghiền mì gõ để không bỏ lỡ những video hấp dẫn\n",
      "Processing: FPTOpenSpeechData_Set001_V0.1_000388.mp3\n"
     ]
    },
    {
     "name": "stderr",
     "output_type": "stream",
     "text": [
      "/home/ngo/anaconda3/lib/python3.12/site-packages/whisper/transcribe.py:126: UserWarning: FP16 is not supported on CPU; using FP32 instead\n",
      "  warnings.warn(\"FP16 is not supported on CPU; using FP32 instead\")\n"
     ]
    },
    {
     "name": "stdout",
     "output_type": "stream",
     "text": [
      "reference_text: tôi muốn giữ nó dưới giá ba mươi đô la\n",
      "predicted_text: mọi người nói là giá là 80$\n",
      "Processing: FPTOpenSpeechData_Set001_V0.1_000389.mp3\n"
     ]
    },
    {
     "name": "stderr",
     "output_type": "stream",
     "text": [
      "/home/ngo/anaconda3/lib/python3.12/site-packages/whisper/transcribe.py:126: UserWarning: FP16 is not supported on CPU; using FP32 instead\n",
      "  warnings.warn(\"FP16 is not supported on CPU; using FP32 instead\")\n"
     ]
    },
    {
     "name": "stdout",
     "output_type": "stream",
     "text": [
      "reference_text: chiếc này dành riêng tổng thống mới đắc cử của mỹ xác nhận đã chuyển tới mật vụ mỹ chiếc xe dành cho tổng thống mới để thay thế chiếc xe cũ\n",
      "predicted_text: chiếc này dành tiên tổng thống mới đắc cử của mỹ xác nhận đã chuyển tới mật vụ mỹ chiếc xe dành cho tổng thống mới để thay thế chiếc xe cũ.\n",
      "Processing: FPTOpenSpeechData_Set001_V0.1_000390.mp3\n"
     ]
    },
    {
     "name": "stderr",
     "output_type": "stream",
     "text": [
      "/home/ngo/anaconda3/lib/python3.12/site-packages/whisper/transcribe.py:126: UserWarning: FP16 is not supported on CPU; using FP32 instead\n",
      "  warnings.warn(\"FP16 is not supported on CPU; using FP32 instead\")\n"
     ]
    },
    {
     "name": "stdout",
     "output_type": "stream",
     "text": [
      "reference_text: nhưng tôi không muốn bạn tin tưởng vào bất kỳ điều gì\n",
      "predicted_text: nhưng tôi không muốn bạn tin tưởng vào bất kỳ điều gì.\n",
      "Processing: FPTOpenSpeechData_Set001_V0.1_000391.mp3\n"
     ]
    },
    {
     "name": "stderr",
     "output_type": "stream",
     "text": [
      "/home/ngo/anaconda3/lib/python3.12/site-packages/whisper/transcribe.py:126: UserWarning: FP16 is not supported on CPU; using FP32 instead\n",
      "  warnings.warn(\"FP16 is not supported on CPU; using FP32 instead\")\n"
     ]
    },
    {
     "name": "stdout",
     "output_type": "stream",
     "text": [
      "reference_text: không thể phớt lờ lạm phát\n",
      "predicted_text: không thể phất lờ nặng pháp\n",
      "Processing: FPTOpenSpeechData_Set001_V0.1_000392.mp3\n"
     ]
    },
    {
     "name": "stderr",
     "output_type": "stream",
     "text": [
      "/home/ngo/anaconda3/lib/python3.12/site-packages/whisper/transcribe.py:126: UserWarning: FP16 is not supported on CPU; using FP32 instead\n",
      "  warnings.warn(\"FP16 is not supported on CPU; using FP32 instead\")\n"
     ]
    },
    {
     "name": "stdout",
     "output_type": "stream",
     "text": [
      "reference_text: hoa nhận lời yêu thắng\n",
      "predicted_text: hoa nhận lời yêu thật\n",
      "Processing: FPTOpenSpeechData_Set001_V0.1_000393.mp3\n"
     ]
    },
    {
     "name": "stderr",
     "output_type": "stream",
     "text": [
      "/home/ngo/anaconda3/lib/python3.12/site-packages/whisper/transcribe.py:126: UserWarning: FP16 is not supported on CPU; using FP32 instead\n",
      "  warnings.warn(\"FP16 is not supported on CPU; using FP32 instead\")\n"
     ]
    },
    {
     "name": "stdout",
     "output_type": "stream",
     "text": [
      "reference_text: bóng đá anh hấp dẫn nhiều tỷ phú\n",
      "predicted_text: bọc ta anh thấp dẫn thiêu tỉ\n",
      "Processing: FPTOpenSpeechData_Set001_V0.1_000394.mp3\n"
     ]
    },
    {
     "name": "stderr",
     "output_type": "stream",
     "text": [
      "/home/ngo/anaconda3/lib/python3.12/site-packages/whisper/transcribe.py:126: UserWarning: FP16 is not supported on CPU; using FP32 instead\n",
      "  warnings.warn(\"FP16 is not supported on CPU; using FP32 instead\")\n"
     ]
    },
    {
     "name": "stdout",
     "output_type": "stream",
     "text": [
      "reference_text: cách tốt nhất là bằng xe buýt\n",
      "predicted_text: các em nhớ là đăng xuống đi\n",
      "Processing: FPTOpenSpeechData_Set001_V0.1_000395.mp3\n"
     ]
    },
    {
     "name": "stderr",
     "output_type": "stream",
     "text": [
      "/home/ngo/anaconda3/lib/python3.12/site-packages/whisper/transcribe.py:126: UserWarning: FP16 is not supported on CPU; using FP32 instead\n",
      "  warnings.warn(\"FP16 is not supported on CPU; using FP32 instead\")\n"
     ]
    },
    {
     "name": "stdout",
     "output_type": "stream",
     "text": [
      "reference_text: cô ấy bị mất thẻ ngân hàng\n",
      "predicted_text: cô ấy bị mất tiệm ngân hàng\n",
      "Processing: FPTOpenSpeechData_Set001_V0.1_000396.mp3\n"
     ]
    },
    {
     "name": "stderr",
     "output_type": "stream",
     "text": [
      "/home/ngo/anaconda3/lib/python3.12/site-packages/whisper/transcribe.py:126: UserWarning: FP16 is not supported on CPU; using FP32 instead\n",
      "  warnings.warn(\"FP16 is not supported on CPU; using FP32 instead\")\n"
     ]
    },
    {
     "name": "stdout",
     "output_type": "stream",
     "text": [
      "reference_text: phòng thay đồ ở đằng kia\n",
      "predicted_text: còn thay đổi thằng kia?\n",
      "Processing: FPTOpenSpeechData_Set001_V0.1_000397.mp3\n"
     ]
    },
    {
     "name": "stderr",
     "output_type": "stream",
     "text": [
      "/home/ngo/anaconda3/lib/python3.12/site-packages/whisper/transcribe.py:126: UserWarning: FP16 is not supported on CPU; using FP32 instead\n",
      "  warnings.warn(\"FP16 is not supported on CPU; using FP32 instead\")\n"
     ]
    },
    {
     "name": "stdout",
     "output_type": "stream",
     "text": [
      "reference_text: sản phẩm phụ của máy rút tiền đầu tiên là mã số bảo mật -n viết tắt là pin\n",
      "predicted_text: cái cáiiko .\n",
      "Processing: FPTOpenSpeechData_Set001_V0.1_000398.mp3\n"
     ]
    },
    {
     "name": "stderr",
     "output_type": "stream",
     "text": [
      "/home/ngo/anaconda3/lib/python3.12/site-packages/whisper/transcribe.py:126: UserWarning: FP16 is not supported on CPU; using FP32 instead\n",
      "  warnings.warn(\"FP16 is not supported on CPU; using FP32 instead\")\n"
     ]
    },
    {
     "name": "stdout",
     "output_type": "stream",
     "text": [
      "reference_text: tôi hy vọng thời tiết sẽ sớm sáng sủa\n",
      "predicted_text: tôi hy vọng thời tiết sẽ sớm tránh rủa\n",
      "Processing: FPTOpenSpeechData_Set001_V0.1_000399.mp3\n"
     ]
    },
    {
     "name": "stderr",
     "output_type": "stream",
     "text": [
      "/home/ngo/anaconda3/lib/python3.12/site-packages/whisper/transcribe.py:126: UserWarning: FP16 is not supported on CPU; using FP32 instead\n",
      "  warnings.warn(\"FP16 is not supported on CPU; using FP32 instead\")\n"
     ]
    },
    {
     "name": "stdout",
     "output_type": "stream",
     "text": [
      "reference_text: bạn đường khều cùi chỏ nhắc coi chừng ổng khùng\n",
      "predicted_text: bàn đường theo cua trọt nhắc có chân ổng khung\n",
      "Processing: FPTOpenSpeechData_Set001_V0.1_000400.mp3\n"
     ]
    },
    {
     "name": "stderr",
     "output_type": "stream",
     "text": [
      "/home/ngo/anaconda3/lib/python3.12/site-packages/whisper/transcribe.py:126: UserWarning: FP16 is not supported on CPU; using FP32 instead\n",
      "  warnings.warn(\"FP16 is not supported on CPU; using FP32 instead\")\n"
     ]
    },
    {
     "name": "stdout",
     "output_type": "stream",
     "text": [
      "reference_text: thuốc diệt cỏ làm ếch đực mất khả năng sinh sản\n",
      "predicted_text: chú vị cỏ làm ếch được mất khả năng sinh sản.\n",
      "Processing: FPTOpenSpeechData_Set001_V0.1_000401.mp3\n"
     ]
    },
    {
     "name": "stderr",
     "output_type": "stream",
     "text": [
      "/home/ngo/anaconda3/lib/python3.12/site-packages/whisper/transcribe.py:126: UserWarning: FP16 is not supported on CPU; using FP32 instead\n",
      "  warnings.warn(\"FP16 is not supported on CPU; using FP32 instead\")\n"
     ]
    },
    {
     "name": "stdout",
     "output_type": "stream",
     "text": [
      "reference_text: bạn có thể bật máy điều hòa lên được không\n",
      "predicted_text: bạn có thể bật máy điều hòa lên được không?\n",
      "Processing: FPTOpenSpeechData_Set001_V0.1_000402.mp3\n"
     ]
    },
    {
     "name": "stderr",
     "output_type": "stream",
     "text": [
      "/home/ngo/anaconda3/lib/python3.12/site-packages/whisper/transcribe.py:126: UserWarning: FP16 is not supported on CPU; using FP32 instead\n",
      "  warnings.warn(\"FP16 is not supported on CPU; using FP32 instead\")\n"
     ]
    },
    {
     "name": "stdout",
     "output_type": "stream",
     "text": [
      "reference_text: phê thuốc lắc\n",
      "predicted_text: quý vị ngủ lắm\n",
      "Processing: FPTOpenSpeechData_Set001_V0.1_000403.mp3\n"
     ]
    },
    {
     "name": "stderr",
     "output_type": "stream",
     "text": [
      "/home/ngo/anaconda3/lib/python3.12/site-packages/whisper/transcribe.py:126: UserWarning: FP16 is not supported on CPU; using FP32 instead\n",
      "  warnings.warn(\"FP16 is not supported on CPU; using FP32 instead\")\n"
     ]
    },
    {
     "name": "stdout",
     "output_type": "stream",
     "text": [
      "reference_text: chỗ cho thuê ghế bãi biển đã mở cửa chưa\n",
      "predicted_text: chủ yếu thuê dĩ lại biện tài mật vừa chưa?\n",
      "Processing: FPTOpenSpeechData_Set001_V0.1_000404.mp3\n"
     ]
    },
    {
     "name": "stderr",
     "output_type": "stream",
     "text": [
      "/home/ngo/anaconda3/lib/python3.12/site-packages/whisper/transcribe.py:126: UserWarning: FP16 is not supported on CPU; using FP32 instead\n",
      "  warnings.warn(\"FP16 is not supported on CPU; using FP32 instead\")\n"
     ]
    },
    {
     "name": "stdout",
     "output_type": "stream",
     "text": [
      "reference_text: tôi muốn trau dồi tiếng tây ban nha của mình\n",
      "predicted_text: tôi muốn trâu dồi chiếc xe đăng nha của mình.\n",
      "Processing: FPTOpenSpeechData_Set001_V0.1_000405.mp3\n"
     ]
    },
    {
     "name": "stderr",
     "output_type": "stream",
     "text": [
      "/home/ngo/anaconda3/lib/python3.12/site-packages/whisper/transcribe.py:126: UserWarning: FP16 is not supported on CPU; using FP32 instead\n",
      "  warnings.warn(\"FP16 is not supported on CPU; using FP32 instead\")\n"
     ]
    },
    {
     "name": "stdout",
     "output_type": "stream",
     "text": [
      "reference_text: kênh k+ một\n",
      "predicted_text: trên ca cộng 1\n",
      "Processing: FPTOpenSpeechData_Set001_V0.1_000406.mp3\n"
     ]
    },
    {
     "name": "stderr",
     "output_type": "stream",
     "text": [
      "/home/ngo/anaconda3/lib/python3.12/site-packages/whisper/transcribe.py:126: UserWarning: FP16 is not supported on CPU; using FP32 instead\n",
      "  warnings.warn(\"FP16 is not supported on CPU; using FP32 instead\")\n"
     ]
    },
    {
     "name": "stdout",
     "output_type": "stream",
     "text": [
      "reference_text: làm gì để bảo vệ sự an toàn của ngân hàng\n",
      "predicted_text: làm gì để bảo vệ sự an toàn của dân hàng?\n",
      "Processing: FPTOpenSpeechData_Set001_V0.1_000407.mp3\n"
     ]
    },
    {
     "name": "stderr",
     "output_type": "stream",
     "text": [
      "/home/ngo/anaconda3/lib/python3.12/site-packages/whisper/transcribe.py:126: UserWarning: FP16 is not supported on CPU; using FP32 instead\n",
      "  warnings.warn(\"FP16 is not supported on CPU; using FP32 instead\")\n"
     ]
    },
    {
     "name": "stdout",
     "output_type": "stream",
     "text": [
      "reference_text: tôi đã bị lừa\n",
      "predicted_text: tôi đã bị lừa\n",
      "Processing: FPTOpenSpeechData_Set001_V0.1_000408.mp3\n"
     ]
    },
    {
     "name": "stderr",
     "output_type": "stream",
     "text": [
      "/home/ngo/anaconda3/lib/python3.12/site-packages/whisper/transcribe.py:126: UserWarning: FP16 is not supported on CPU; using FP32 instead\n",
      "  warnings.warn(\"FP16 is not supported on CPU; using FP32 instead\")\n"
     ]
    },
    {
     "name": "stdout",
     "output_type": "stream",
     "text": [
      "reference_text: vậy kế hoạch của anh cho ngày mai ra sao\n",
      "predicted_text: vậy kế hoạch của anh cho ngày mai ra sao?\n",
      "Processing: FPTOpenSpeechData_Set001_V0.1_000409.mp3\n"
     ]
    },
    {
     "name": "stderr",
     "output_type": "stream",
     "text": [
      "/home/ngo/anaconda3/lib/python3.12/site-packages/whisper/transcribe.py:126: UserWarning: FP16 is not supported on CPU; using FP32 instead\n",
      "  warnings.warn(\"FP16 is not supported on CPU; using FP32 instead\")\n"
     ]
    },
    {
     "name": "stdout",
     "output_type": "stream",
     "text": [
      "reference_text: tôi uống từ vòi nước được không\n",
      "predicted_text: tôi uống từ ngoài nước được không?\n",
      "Processing: FPTOpenSpeechData_Set001_V0.1_000410.mp3\n"
     ]
    },
    {
     "name": "stderr",
     "output_type": "stream",
     "text": [
      "/home/ngo/anaconda3/lib/python3.12/site-packages/whisper/transcribe.py:126: UserWarning: FP16 is not supported on CPU; using FP32 instead\n",
      "  warnings.warn(\"FP16 is not supported on CPU; using FP32 instead\")\n"
     ]
    },
    {
     "name": "stdout",
     "output_type": "stream",
     "text": [
      "reference_text: nó có hướng dẫn -n sử dụng không\n",
      "predicted_text: nó có hướng dẫn sử dụng không?\n",
      "Processing: FPTOpenSpeechData_Set001_V0.1_000411.mp3\n"
     ]
    },
    {
     "name": "stderr",
     "output_type": "stream",
     "text": [
      "/home/ngo/anaconda3/lib/python3.12/site-packages/whisper/transcribe.py:126: UserWarning: FP16 is not supported on CPU; using FP32 instead\n",
      "  warnings.warn(\"FP16 is not supported on CPU; using FP32 instead\")\n"
     ]
    },
    {
     "name": "stdout",
     "output_type": "stream",
     "text": [
      "reference_text: có người còn không ngần ngại so sánh doanh thu phim việt với các phim nhập của nước ngoài\n",
      "predicted_text: có người còn không đừng ngại so sánh ánh mô tuyệt biệt với các tiêm nhập của nước ngoài.\n",
      "Processing: FPTOpenSpeechData_Set001_V0.1_000412.mp3\n"
     ]
    },
    {
     "name": "stderr",
     "output_type": "stream",
     "text": [
      "/home/ngo/anaconda3/lib/python3.12/site-packages/whisper/transcribe.py:126: UserWarning: FP16 is not supported on CPU; using FP32 instead\n",
      "  warnings.warn(\"FP16 is not supported on CPU; using FP32 instead\")\n"
     ]
    },
    {
     "name": "stdout",
     "output_type": "stream",
     "text": [
      "reference_text: bạn có quan tâm đến đồ cổ không\n",
      "predicted_text: bạn có quan tâm định vụ vụ không?\n",
      "Processing: FPTOpenSpeechData_Set001_V0.1_000413.mp3\n"
     ]
    },
    {
     "name": "stderr",
     "output_type": "stream",
     "text": [
      "/home/ngo/anaconda3/lib/python3.12/site-packages/whisper/transcribe.py:126: UserWarning: FP16 is not supported on CPU; using FP32 instead\n",
      "  warnings.warn(\"FP16 is not supported on CPU; using FP32 instead\")\n"
     ]
    },
    {
     "name": "stdout",
     "output_type": "stream",
     "text": [
      "reference_text: bản báo cáo cũng chỉ rõ ở việt nam hiện nay những hủ tục hay những suy nghĩ cũ tồn tại ở nhiều vùng dân tộc thiểu số thậm chí cả ở các tỉnh thành lớn đã khiến cho sự bất bình đẳng giới cũng như tỷ lệ tử vong ở phụ nữ và trẻ nhỏ vẫn rất cao\n",
      "predicted_text: bản báo cáo cũng chỉ rõ, ở việt nam hiện nay, những hổ tục hay những suy nghĩ cũ tồn tại ở nhiều vùng dân tộc thiểu số, thậm chí cả ở các tỉnh thành lớn đã khiến cho sự bất bình đẳng giới cũng như tỷ lệ tử vong ở phụ nữ và trẻ nhỏ vẫn rất cao.\n",
      "Processing: FPTOpenSpeechData_Set001_V0.1_000414.mp3\n"
     ]
    },
    {
     "name": "stderr",
     "output_type": "stream",
     "text": [
      "/home/ngo/anaconda3/lib/python3.12/site-packages/whisper/transcribe.py:126: UserWarning: FP16 is not supported on CPU; using FP32 instead\n",
      "  warnings.warn(\"FP16 is not supported on CPU; using FP32 instead\")\n"
     ]
    },
    {
     "name": "stdout",
     "output_type": "stream",
     "text": [
      "reference_text: cũng chẳng còn xúng xính quần áo mới\n",
      "predicted_text: cũng chẳng còn trúng tính quần áo mới\n",
      "Processing: FPTOpenSpeechData_Set001_V0.1_000415.mp3\n"
     ]
    },
    {
     "name": "stderr",
     "output_type": "stream",
     "text": [
      "/home/ngo/anaconda3/lib/python3.12/site-packages/whisper/transcribe.py:126: UserWarning: FP16 is not supported on CPU; using FP32 instead\n",
      "  warnings.warn(\"FP16 is not supported on CPU; using FP32 instead\")\n"
     ]
    },
    {
     "name": "stdout",
     "output_type": "stream",
     "text": [
      "reference_text: tôi đang tìm diêm\n",
      "predicted_text: cô đang tìm riêng\n",
      "Processing: FPTOpenSpeechData_Set001_V0.1_000416.mp3\n"
     ]
    },
    {
     "name": "stderr",
     "output_type": "stream",
     "text": [
      "/home/ngo/anaconda3/lib/python3.12/site-packages/whisper/transcribe.py:126: UserWarning: FP16 is not supported on CPU; using FP32 instead\n",
      "  warnings.warn(\"FP16 is not supported on CPU; using FP32 instead\")\n"
     ]
    },
    {
     "name": "stdout",
     "output_type": "stream",
     "text": [
      "reference_text: một chỗ bí mật à ý bạn là sao\n",
      "predicted_text: một chồ biến mật à, ý bà là có.\n",
      "Processing: FPTOpenSpeechData_Set001_V0.1_000417.mp3\n"
     ]
    },
    {
     "name": "stderr",
     "output_type": "stream",
     "text": [
      "/home/ngo/anaconda3/lib/python3.12/site-packages/whisper/transcribe.py:126: UserWarning: FP16 is not supported on CPU; using FP32 instead\n",
      "  warnings.warn(\"FP16 is not supported on CPU; using FP32 instead\")\n"
     ]
    },
    {
     "name": "stdout",
     "output_type": "stream",
     "text": [
      "reference_text: chính sách quản lý cần cởi mở\n",
      "predicted_text: cách quản lý cần gửi mở\n",
      "Processing: FPTOpenSpeechData_Set001_V0.1_000418.mp3\n"
     ]
    },
    {
     "name": "stderr",
     "output_type": "stream",
     "text": [
      "/home/ngo/anaconda3/lib/python3.12/site-packages/whisper/transcribe.py:126: UserWarning: FP16 is not supported on CPU; using FP32 instead\n",
      "  warnings.warn(\"FP16 is not supported on CPU; using FP32 instead\")\n"
     ]
    },
    {
     "name": "stdout",
     "output_type": "stream",
     "text": [
      "reference_text: bệnh này có thường xảy ra không\n",
      "predicted_text: bệnh này có thường thải ra không?\n",
      "Processing: FPTOpenSpeechData_Set001_V0.1_000419.mp3\n"
     ]
    },
    {
     "name": "stderr",
     "output_type": "stream",
     "text": [
      "/home/ngo/anaconda3/lib/python3.12/site-packages/whisper/transcribe.py:126: UserWarning: FP16 is not supported on CPU; using FP32 instead\n",
      "  warnings.warn(\"FP16 is not supported on CPU; using FP32 instead\")\n"
     ]
    },
    {
     "name": "stdout",
     "output_type": "stream",
     "text": [
      "reference_text: quẹo tay lái và đi vòng các góc\n",
      "predicted_text: quẹo tay lại và đi vòng ca khúc\n",
      "Processing: FPTOpenSpeechData_Set001_V0.1_000420.mp3\n"
     ]
    },
    {
     "name": "stderr",
     "output_type": "stream",
     "text": [
      "/home/ngo/anaconda3/lib/python3.12/site-packages/whisper/transcribe.py:126: UserWarning: FP16 is not supported on CPU; using FP32 instead\n",
      "  warnings.warn(\"FP16 is not supported on CPU; using FP32 instead\")\n"
     ]
    },
    {
     "name": "stdout",
     "output_type": "stream",
     "text": [
      "reference_text: anh ấy đến từ flanders\n",
      "predicted_text: anh ấy định đi qua đám cơ.\n",
      "Processing: FPTOpenSpeechData_Set001_V0.1_000421.mp3\n"
     ]
    },
    {
     "name": "stderr",
     "output_type": "stream",
     "text": [
      "/home/ngo/anaconda3/lib/python3.12/site-packages/whisper/transcribe.py:126: UserWarning: FP16 is not supported on CPU; using FP32 instead\n",
      "  warnings.warn(\"FP16 is not supported on CPU; using FP32 instead\")\n"
     ]
    },
    {
     "name": "stdout",
     "output_type": "stream",
     "text": [
      "reference_text: nhiều bộ ong hang đá có dấu hiệu -n gấu ngựa gấu chó sinh sống -n\n",
      "predicted_text: hãy subscribe cho kênh la la school để không bỏ lỡ những video hấp dẫn\n",
      "Processing: FPTOpenSpeechData_Set001_V0.1_000422.mp3\n"
     ]
    },
    {
     "name": "stderr",
     "output_type": "stream",
     "text": [
      "/home/ngo/anaconda3/lib/python3.12/site-packages/whisper/transcribe.py:126: UserWarning: FP16 is not supported on CPU; using FP32 instead\n",
      "  warnings.warn(\"FP16 is not supported on CPU; using FP32 instead\")\n"
     ]
    },
    {
     "name": "stdout",
     "output_type": "stream",
     "text": [
      "reference_text: xin lỗi ông cho tôi lấy hóa đơn được không\n",
      "predicted_text: xin lỗi ông, cho tôi lấy hóa đơn được không?\n",
      "Processing: FPTOpenSpeechData_Set001_V0.1_000423.mp3\n"
     ]
    },
    {
     "name": "stderr",
     "output_type": "stream",
     "text": [
      "/home/ngo/anaconda3/lib/python3.12/site-packages/whisper/transcribe.py:126: UserWarning: FP16 is not supported on CPU; using FP32 instead\n",
      "  warnings.warn(\"FP16 is not supported on CPU; using FP32 instead\")\n"
     ]
    },
    {
     "name": "stdout",
     "output_type": "stream",
     "text": [
      "reference_text: các mảnh có rìa sắc được tha vào cán gỗ và gắn chặt bằng nhựa thông\n",
      "predicted_text: các mảnh có rìa thích được tha vào cán gỗ và ránh chặt bằng nhựa thông.\n",
      "Processing: FPTOpenSpeechData_Set001_V0.1_000424.mp3\n"
     ]
    },
    {
     "name": "stderr",
     "output_type": "stream",
     "text": [
      "/home/ngo/anaconda3/lib/python3.12/site-packages/whisper/transcribe.py:126: UserWarning: FP16 is not supported on CPU; using FP32 instead\n",
      "  warnings.warn(\"FP16 is not supported on CPU; using FP32 instead\")\n"
     ]
    },
    {
     "name": "stdout",
     "output_type": "stream",
     "text": [
      "reference_text: vui lòng không bỏ đồ quý giá trên toa hành khách\n",
      "predicted_text: đuôi lòng không bỏ đôi kỳ dạng kết toán hay\n",
      "Processing: FPTOpenSpeechData_Set001_V0.1_000425.mp3\n"
     ]
    },
    {
     "name": "stderr",
     "output_type": "stream",
     "text": [
      "/home/ngo/anaconda3/lib/python3.12/site-packages/whisper/transcribe.py:126: UserWarning: FP16 is not supported on CPU; using FP32 instead\n",
      "  warnings.warn(\"FP16 is not supported on CPU; using FP32 instead\")\n"
     ]
    },
    {
     "name": "stdout",
     "output_type": "stream",
     "text": [
      "reference_text: người mẫu phải tập tành trình diễn quần quật -n đến tận khuya\n",
      "predicted_text: người hỏng phải đặt tầng, trình diễn vùng hoặc vòng vọng đến tận phiên.\n",
      "Processing: FPTOpenSpeechData_Set001_V0.1_000426.mp3\n"
     ]
    },
    {
     "name": "stderr",
     "output_type": "stream",
     "text": [
      "/home/ngo/anaconda3/lib/python3.12/site-packages/whisper/transcribe.py:126: UserWarning: FP16 is not supported on CPU; using FP32 instead\n",
      "  warnings.warn(\"FP16 is not supported on CPU; using FP32 instead\")\n"
     ]
    },
    {
     "name": "stdout",
     "output_type": "stream",
     "text": [
      "reference_text: được rồi chút nữa tôi sẽ massage cho ngài chỗ khác\n",
      "predicted_text: được rồi, chút nữa tôi sẽ massage cho ngài chỗ khác.\n",
      "Processing: FPTOpenSpeechData_Set001_V0.1_000427.mp3\n"
     ]
    },
    {
     "name": "stderr",
     "output_type": "stream",
     "text": [
      "/home/ngo/anaconda3/lib/python3.12/site-packages/whisper/transcribe.py:126: UserWarning: FP16 is not supported on CPU; using FP32 instead\n",
      "  warnings.warn(\"FP16 is not supported on CPU; using FP32 instead\")\n"
     ]
    },
    {
     "name": "stdout",
     "output_type": "stream",
     "text": [
      "reference_text: không lẽ ước nguyện đó của tôi lại khó đến thế sao\n",
      "predicted_text: không lẽ ước mệnh đó của tôi lại phó đi thế sao?\n",
      "Processing: FPTOpenSpeechData_Set001_V0.1_000428.mp3\n"
     ]
    },
    {
     "name": "stderr",
     "output_type": "stream",
     "text": [
      "/home/ngo/anaconda3/lib/python3.12/site-packages/whisper/transcribe.py:126: UserWarning: FP16 is not supported on CPU; using FP32 instead\n",
      "  warnings.warn(\"FP16 is not supported on CPU; using FP32 instead\")\n"
     ]
    },
    {
     "name": "stdout",
     "output_type": "stream",
     "text": [
      "reference_text: thời gian đóng ma làng cả đoàn phim sống vài tháng trời trên vùng núi lương sơn hòa bình\n",
      "predicted_text: thời gian đọng má lang, cả đoàn kim sống vai tháng tơi đến vùng nửa lượng sơn hoa binh.\n",
      "Processing: FPTOpenSpeechData_Set001_V0.1_000429.mp3\n"
     ]
    },
    {
     "name": "stderr",
     "output_type": "stream",
     "text": [
      "/home/ngo/anaconda3/lib/python3.12/site-packages/whisper/transcribe.py:126: UserWarning: FP16 is not supported on CPU; using FP32 instead\n",
      "  warnings.warn(\"FP16 is not supported on CPU; using FP32 instead\")\n"
     ]
    },
    {
     "name": "stdout",
     "output_type": "stream",
     "text": [
      "reference_text: nhiều trụ cột và các mạch vữa đều mục ruỗng\n",
      "predicted_text: nhiều trụ cột và các mạch bữa đều mục rổ.\n",
      "Processing: FPTOpenSpeechData_Set001_V0.1_000430.mp3\n"
     ]
    },
    {
     "name": "stderr",
     "output_type": "stream",
     "text": [
      "/home/ngo/anaconda3/lib/python3.12/site-packages/whisper/transcribe.py:126: UserWarning: FP16 is not supported on CPU; using FP32 instead\n",
      "  warnings.warn(\"FP16 is not supported on CPU; using FP32 instead\")\n"
     ]
    },
    {
     "name": "stdout",
     "output_type": "stream",
     "text": [
      "reference_text: làm nơi nấu nướng giặt giũ\n",
      "predicted_text: làm nơi nấu nướng đặc lụi\n",
      "Processing: FPTOpenSpeechData_Set001_V0.1_000431.mp3\n"
     ]
    },
    {
     "name": "stderr",
     "output_type": "stream",
     "text": [
      "/home/ngo/anaconda3/lib/python3.12/site-packages/whisper/transcribe.py:126: UserWarning: FP16 is not supported on CPU; using FP32 instead\n",
      "  warnings.warn(\"FP16 is not supported on CPU; using FP32 instead\")\n"
     ]
    },
    {
     "name": "stdout",
     "output_type": "stream",
     "text": [
      "reference_text: khách tham quan cũng tranh thủ ngồi vào ghế hành khách để thử độ êm nhún\n",
      "predicted_text: cách tham quan cũng đánh phố môn quan về hành trách kể từ hội ế.\n",
      "Processing: FPTOpenSpeechData_Set001_V0.1_000432.mp3\n"
     ]
    },
    {
     "name": "stderr",
     "output_type": "stream",
     "text": [
      "/home/ngo/anaconda3/lib/python3.12/site-packages/whisper/transcribe.py:126: UserWarning: FP16 is not supported on CPU; using FP32 instead\n",
      "  warnings.warn(\"FP16 is not supported on CPU; using FP32 instead\")\n"
     ]
    },
    {
     "name": "stdout",
     "output_type": "stream",
     "text": [
      "reference_text: tôi e rằng ở đây không chúng tôi không chấp nhận\n",
      "predicted_text: tôi e rằng ở đây không, tôi không chấp nhận.\n",
      "Processing: FPTOpenSpeechData_Set001_V0.1_000433.mp3\n"
     ]
    },
    {
     "name": "stderr",
     "output_type": "stream",
     "text": [
      "/home/ngo/anaconda3/lib/python3.12/site-packages/whisper/transcribe.py:126: UserWarning: FP16 is not supported on CPU; using FP32 instead\n",
      "  warnings.warn(\"FP16 is not supported on CPU; using FP32 instead\")\n"
     ]
    },
    {
     "name": "stdout",
     "output_type": "stream",
     "text": [
      "reference_text: dù chỉ có tính thẩm mỹ song giải pháp sửa chữa hoặc đổi mã hàng lạ lẫm vẫn tạo được sự hứng khởi ở những trẻ nhỏ\n",
      "predicted_text: tôi chỉ có tiếng thảnh nghĩ trong loại pháp giữa chữa hoặc từ má hoàng, lạ lắm vẫn tạo được sự dính khởi với những trẻ nhỏ.\n",
      "Processing: FPTOpenSpeechData_Set001_V0.1_000434.mp3\n"
     ]
    },
    {
     "name": "stderr",
     "output_type": "stream",
     "text": [
      "/home/ngo/anaconda3/lib/python3.12/site-packages/whisper/transcribe.py:126: UserWarning: FP16 is not supported on CPU; using FP32 instead\n",
      "  warnings.warn(\"FP16 is not supported on CPU; using FP32 instead\")\n"
     ]
    },
    {
     "name": "stdout",
     "output_type": "stream",
     "text": [
      "reference_text: con nhỏ mở cái túi gút đeo trên cổ\n",
      "predicted_text: con nhỏ mở cái túi quất đeo trên cổ.\n",
      "Processing: FPTOpenSpeechData_Set001_V0.1_000435.mp3\n"
     ]
    },
    {
     "name": "stderr",
     "output_type": "stream",
     "text": [
      "/home/ngo/anaconda3/lib/python3.12/site-packages/whisper/transcribe.py:126: UserWarning: FP16 is not supported on CPU; using FP32 instead\n",
      "  warnings.warn(\"FP16 is not supported on CPU; using FP32 instead\")\n"
     ]
    },
    {
     "name": "stdout",
     "output_type": "stream",
     "text": [
      "reference_text: họ không cho phép anh vào nhà\n",
      "predicted_text: họ không cho phép anh được nha\n",
      "Processing: FPTOpenSpeechData_Set001_V0.1_000436.mp3\n"
     ]
    },
    {
     "name": "stderr",
     "output_type": "stream",
     "text": [
      "/home/ngo/anaconda3/lib/python3.12/site-packages/whisper/transcribe.py:126: UserWarning: FP16 is not supported on CPU; using FP32 instead\n",
      "  warnings.warn(\"FP16 is not supported on CPU; using FP32 instead\")\n"
     ]
    },
    {
     "name": "stdout",
     "output_type": "stream",
     "text": [
      "reference_text: nguồn nước ở đây đã bị nhiễm mặn nhiễm phèn và nhiễm khuẩn bởi thói quen thải rác trực tiếp ra sông lượng thuốc trừ sâu dùng trong nông nghiệp và việc xây cầu cảng ở cuối dòng sông cũng là lý do\n",
      "predicted_text: nguồn nước ở đây đã bị nhiễm mạng, nhiễm vèn và nhiễm quẩn bởi thói quen thái giác trực tiếp ra sông, lượng thuốc trùi sâu dùng trong nông nghiệp và việc xây cầu cạn ở cuối dòng sông cũng là lý do.\n",
      "Processing: FPTOpenSpeechData_Set001_V0.1_000437.mp3\n"
     ]
    },
    {
     "name": "stderr",
     "output_type": "stream",
     "text": [
      "/home/ngo/anaconda3/lib/python3.12/site-packages/whisper/transcribe.py:126: UserWarning: FP16 is not supported on CPU; using FP32 instead\n",
      "  warnings.warn(\"FP16 is not supported on CPU; using FP32 instead\")\n"
     ]
    },
    {
     "name": "stdout",
     "output_type": "stream",
     "text": [
      "reference_text: đây có thể là kẽ hở nảy sinh tiêu cực gây thất thoát lớn\n",
      "predicted_text: đây có thể là kế hợp nảy sinh tiêu cực rơi sắc thoát lớn.\n",
      "Processing: FPTOpenSpeechData_Set001_V0.1_000438.mp3\n"
     ]
    },
    {
     "name": "stderr",
     "output_type": "stream",
     "text": [
      "/home/ngo/anaconda3/lib/python3.12/site-packages/whisper/transcribe.py:126: UserWarning: FP16 is not supported on CPU; using FP32 instead\n",
      "  warnings.warn(\"FP16 is not supported on CPU; using FP32 instead\")\n"
     ]
    },
    {
     "name": "stdout",
     "output_type": "stream",
     "text": [
      "reference_text: đốt pháo sẽ bị tội gây rối trật tự công cộng bởi tác hại lớn mà việc đốt pháo đã bị cấm hẳn\n",
      "predicted_text: bước 6 sẽ bị tội gây dựt trật tự công cộng và tác hại lớn mà việc bước 6 đã bị cấn hẳn.\n",
      "Processing: FPTOpenSpeechData_Set001_V0.1_000439.mp3\n"
     ]
    },
    {
     "name": "stderr",
     "output_type": "stream",
     "text": [
      "/home/ngo/anaconda3/lib/python3.12/site-packages/whisper/transcribe.py:126: UserWarning: FP16 is not supported on CPU; using FP32 instead\n",
      "  warnings.warn(\"FP16 is not supported on CPU; using FP32 instead\")\n"
     ]
    },
    {
     "name": "stdout",
     "output_type": "stream",
     "text": [
      "reference_text: phê thuốc lắc\n",
      "predicted_text: cảm ơn các bạn đã theo dõi và hẹn gặp lại.\n",
      "Processing: FPTOpenSpeechData_Set001_V0.1_000440.mp3\n"
     ]
    },
    {
     "name": "stderr",
     "output_type": "stream",
     "text": [
      "/home/ngo/anaconda3/lib/python3.12/site-packages/whisper/transcribe.py:126: UserWarning: FP16 is not supported on CPU; using FP32 instead\n",
      "  warnings.warn(\"FP16 is not supported on CPU; using FP32 instead\")\n"
     ]
    },
    {
     "name": "stdout",
     "output_type": "stream",
     "text": [
      "reference_text: điều này chọc tức tôi\n",
      "predicted_text: điều này đọc thức thôi.\n",
      "Processing: FPTOpenSpeechData_Set001_V0.1_000441.mp3\n"
     ]
    },
    {
     "name": "stderr",
     "output_type": "stream",
     "text": [
      "/home/ngo/anaconda3/lib/python3.12/site-packages/whisper/transcribe.py:126: UserWarning: FP16 is not supported on CPU; using FP32 instead\n",
      "  warnings.warn(\"FP16 is not supported on CPU; using FP32 instead\")\n"
     ]
    },
    {
     "name": "stdout",
     "output_type": "stream",
     "text": [
      "reference_text: trước đó tôi về mở hộp thư điện tử ra và nhận được rất nhiều lá thư của người hâm mộ yêu cầu tôi về quê hương đi và tôi biết đã đến lúc nói lời tạm biệt\n",
      "predicted_text: trước đó, tôi về mở hộp thơ điện tử ra, nhận được rất nhiều lá thê của người hâm mộ, yêu cầu tôi về quê hương đi, và tôi biết đã đến lúc nói lời thành viên.\n",
      "Processing: FPTOpenSpeechData_Set001_V0.1_000442.mp3\n"
     ]
    },
    {
     "name": "stderr",
     "output_type": "stream",
     "text": [
      "/home/ngo/anaconda3/lib/python3.12/site-packages/whisper/transcribe.py:126: UserWarning: FP16 is not supported on CPU; using FP32 instead\n",
      "  warnings.warn(\"FP16 is not supported on CPU; using FP32 instead\")\n"
     ]
    },
    {
     "name": "stdout",
     "output_type": "stream",
     "text": [
      "reference_text: các kết quả xét nghiệm có bí mật không\n",
      "predicted_text: các kết quả thét nghiệm có bí mật không?\n",
      "Processing: FPTOpenSpeechData_Set001_V0.1_000443.mp3\n"
     ]
    },
    {
     "name": "stderr",
     "output_type": "stream",
     "text": [
      "/home/ngo/anaconda3/lib/python3.12/site-packages/whisper/transcribe.py:126: UserWarning: FP16 is not supported on CPU; using FP32 instead\n",
      "  warnings.warn(\"FP16 is not supported on CPU; using FP32 instead\")\n"
     ]
    },
    {
     "name": "stdout",
     "output_type": "stream",
     "text": [
      "reference_text: toàn là đồ dùng cá nhân\n",
      "predicted_text: toàn là đồ dùng cá nhân.\n",
      "Processing: FPTOpenSpeechData_Set001_V0.1_000444.mp3\n"
     ]
    },
    {
     "name": "stderr",
     "output_type": "stream",
     "text": [
      "/home/ngo/anaconda3/lib/python3.12/site-packages/whisper/transcribe.py:126: UserWarning: FP16 is not supported on CPU; using FP32 instead\n",
      "  warnings.warn(\"FP16 is not supported on CPU; using FP32 instead\")\n"
     ]
    },
    {
     "name": "stdout",
     "output_type": "stream",
     "text": [
      "reference_text: dừng lại\n",
      "predicted_text: đừng lại\n",
      "Processing: FPTOpenSpeechData_Set001_V0.1_000445.mp3\n"
     ]
    },
    {
     "name": "stderr",
     "output_type": "stream",
     "text": [
      "/home/ngo/anaconda3/lib/python3.12/site-packages/whisper/transcribe.py:126: UserWarning: FP16 is not supported on CPU; using FP32 instead\n",
      "  warnings.warn(\"FP16 is not supported on CPU; using FP32 instead\")\n"
     ]
    },
    {
     "name": "stdout",
     "output_type": "stream",
     "text": [
      "reference_text: những lợi ích nào khác được cung cấp\n",
      "predicted_text: nhưng với ít nào khả cực cung cấp,\n",
      "Processing: FPTOpenSpeechData_Set001_V0.1_000446.mp3\n"
     ]
    },
    {
     "name": "stderr",
     "output_type": "stream",
     "text": [
      "/home/ngo/anaconda3/lib/python3.12/site-packages/whisper/transcribe.py:126: UserWarning: FP16 is not supported on CPU; using FP32 instead\n",
      "  warnings.warn(\"FP16 is not supported on CPU; using FP32 instead\")\n"
     ]
    },
    {
     "name": "stdout",
     "output_type": "stream",
     "text": [
      "reference_text: chúng tôi không có cỡ khác\n",
      "predicted_text: chẳng tôi tham quan của tôi.\n",
      "Processing: FPTOpenSpeechData_Set001_V0.1_000447.mp3\n"
     ]
    },
    {
     "name": "stderr",
     "output_type": "stream",
     "text": [
      "/home/ngo/anaconda3/lib/python3.12/site-packages/whisper/transcribe.py:126: UserWarning: FP16 is not supported on CPU; using FP32 instead\n",
      "  warnings.warn(\"FP16 is not supported on CPU; using FP32 instead\")\n"
     ]
    },
    {
     "name": "stdout",
     "output_type": "stream",
     "text": [
      "reference_text: quý vị có cục u hay chỗ sưng nào ở cả hai bên cổ không\n",
      "predicted_text: quý vị có cục u hay tổ chức nào ở cả hai bên cổ không?\n",
      "Processing: FPTOpenSpeechData_Set001_V0.1_000448.mp3\n"
     ]
    },
    {
     "name": "stderr",
     "output_type": "stream",
     "text": [
      "/home/ngo/anaconda3/lib/python3.12/site-packages/whisper/transcribe.py:126: UserWarning: FP16 is not supported on CPU; using FP32 instead\n",
      "  warnings.warn(\"FP16 is not supported on CPU; using FP32 instead\")\n"
     ]
    },
    {
     "name": "stdout",
     "output_type": "stream",
     "text": [
      "reference_text: ti vi tăng tiếng đến chín\n",
      "predicted_text: tv đăng tiếng ninh chính\n",
      "Processing: FPTOpenSpeechData_Set001_V0.1_000449.mp3\n"
     ]
    },
    {
     "name": "stderr",
     "output_type": "stream",
     "text": [
      "/home/ngo/anaconda3/lib/python3.12/site-packages/whisper/transcribe.py:126: UserWarning: FP16 is not supported on CPU; using FP32 instead\n",
      "  warnings.warn(\"FP16 is not supported on CPU; using FP32 instead\")\n"
     ]
    },
    {
     "name": "stdout",
     "output_type": "stream",
     "text": [
      "reference_text: và cho tôi khoai tây chiên\n",
      "predicted_text: rồi, cho phô phát tây tiết này.\n",
      "Processing: FPTOpenSpeechData_Set001_V0.1_000450.mp3\n"
     ]
    },
    {
     "name": "stderr",
     "output_type": "stream",
     "text": [
      "/home/ngo/anaconda3/lib/python3.12/site-packages/whisper/transcribe.py:126: UserWarning: FP16 is not supported on CPU; using FP32 instead\n",
      "  warnings.warn(\"FP16 is not supported on CPU; using FP32 instead\")\n"
     ]
    },
    {
     "name": "stdout",
     "output_type": "stream",
     "text": [
      "reference_text: các đầu bếp còn chế biến ra nhiều loại phở khác nhau bằng cách biến tấu những món ăn hàn quốc trung quốc như phở hải sản phở xào mực\n",
      "predicted_text: các đầu viên còn chỉ biến ra nhiều loại cửa khác nhau bằng cách chuyển dịch vụ, một trong hàn quốc, trung quốc, nhật quốc, hàn quốc, hàn quốc, hàn quốc.\n",
      "Processing: FPTOpenSpeechData_Set001_V0.1_000451.mp3\n"
     ]
    },
    {
     "name": "stderr",
     "output_type": "stream",
     "text": [
      "/home/ngo/anaconda3/lib/python3.12/site-packages/whisper/transcribe.py:126: UserWarning: FP16 is not supported on CPU; using FP32 instead\n",
      "  warnings.warn(\"FP16 is not supported on CPU; using FP32 instead\")\n"
     ]
    },
    {
     "name": "stdout",
     "output_type": "stream",
     "text": [
      "reference_text: anh có thể cho tôi biết số điện thoại của jerry hart hart anh ấy ở tại phố mười hai phố pinewood street\n",
      "predicted_text: anh có thể cho tôi biết số điện thoại của jerry hart? h-a-r-t anh ấy ở tại phố 12, phố pinwall street.\n",
      "Processing: FPTOpenSpeechData_Set001_V0.1_000452.mp3\n"
     ]
    },
    {
     "name": "stderr",
     "output_type": "stream",
     "text": [
      "/home/ngo/anaconda3/lib/python3.12/site-packages/whisper/transcribe.py:126: UserWarning: FP16 is not supported on CPU; using FP32 instead\n",
      "  warnings.warn(\"FP16 is not supported on CPU; using FP32 instead\")\n"
     ]
    },
    {
     "name": "stdout",
     "output_type": "stream",
     "text": [
      "reference_text: anh có thể cho tôi biết số điện thoại của jerry hart hart anh ấy ở tại bốn mười hai phố pinewood street seattle\n",
      "predicted_text: anh có thể cho tôi biết số điện thoại của jerry hart? hart a.r.t. anh ấy ở tại 412 phố kingwood, st. petersburg.\n",
      "Processing: FPTOpenSpeechData_Set001_V0.1_000453.mp3\n"
     ]
    },
    {
     "name": "stderr",
     "output_type": "stream",
     "text": [
      "/home/ngo/anaconda3/lib/python3.12/site-packages/whisper/transcribe.py:126: UserWarning: FP16 is not supported on CPU; using FP32 instead\n",
      "  warnings.warn(\"FP16 is not supported on CPU; using FP32 instead\")\n"
     ]
    },
    {
     "name": "stdout",
     "output_type": "stream",
     "text": [
      "reference_text: hậu quả là cấu trúc sản xuất của việt nam cũng bị méo mó nghiêm trọng\n",
      "predicted_text: hậu quả là cấu trúc sản xuất của việt nam cũng bị méo mó nghiêm trọng\n",
      "Processing: FPTOpenSpeechData_Set001_V0.1_000454.mp3\n"
     ]
    },
    {
     "name": "stderr",
     "output_type": "stream",
     "text": [
      "/home/ngo/anaconda3/lib/python3.12/site-packages/whisper/transcribe.py:126: UserWarning: FP16 is not supported on CPU; using FP32 instead\n",
      "  warnings.warn(\"FP16 is not supported on CPU; using FP32 instead\")\n"
     ]
    },
    {
     "name": "stdout",
     "output_type": "stream",
     "text": [
      "reference_text: chuyến đi hay quá\n",
      "predicted_text: chuyện đi hay quá!\n",
      "Processing: FPTOpenSpeechData_Set001_V0.1_000455.mp3\n"
     ]
    },
    {
     "name": "stderr",
     "output_type": "stream",
     "text": [
      "/home/ngo/anaconda3/lib/python3.12/site-packages/whisper/transcribe.py:126: UserWarning: FP16 is not supported on CPU; using FP32 instead\n",
      "  warnings.warn(\"FP16 is not supported on CPU; using FP32 instead\")\n"
     ]
    },
    {
     "name": "stdout",
     "output_type": "stream",
     "text": [
      "reference_text: anh chắc là đói có gà nướng trong tủ lạnh\n",
      "predicted_text: anh chắc là đói, có cả nướng trong cỗ lạnh.\n",
      "Processing: FPTOpenSpeechData_Set001_V0.1_000456.mp3\n"
     ]
    },
    {
     "name": "stderr",
     "output_type": "stream",
     "text": [
      "/home/ngo/anaconda3/lib/python3.12/site-packages/whisper/transcribe.py:126: UserWarning: FP16 is not supported on CPU; using FP32 instead\n",
      "  warnings.warn(\"FP16 is not supported on CPU; using FP32 instead\")\n"
     ]
    },
    {
     "name": "stdout",
     "output_type": "stream",
     "text": [
      "reference_text: xin lỗi tôi đã không để ý\n",
      "predicted_text: xin lỗi tôi đã không để ý.\n",
      "Processing: FPTOpenSpeechData_Set001_V0.1_000457.mp3\n"
     ]
    },
    {
     "name": "stderr",
     "output_type": "stream",
     "text": [
      "/home/ngo/anaconda3/lib/python3.12/site-packages/whisper/transcribe.py:126: UserWarning: FP16 is not supported on CPU; using FP32 instead\n",
      "  warnings.warn(\"FP16 is not supported on CPU; using FP32 instead\")\n"
     ]
    },
    {
     "name": "stdout",
     "output_type": "stream",
     "text": [
      "reference_text: vui lòng cho tôi xem cái giống cái -n được trưng bày ở cửa sổ\n",
      "predicted_text: vui lòng cho tôi xem cái giống thái từ đồng chinh máy ở cửa sổ.\n",
      "Processing: FPTOpenSpeechData_Set001_V0.1_000458.mp3\n"
     ]
    },
    {
     "name": "stderr",
     "output_type": "stream",
     "text": [
      "/home/ngo/anaconda3/lib/python3.12/site-packages/whisper/transcribe.py:126: UserWarning: FP16 is not supported on CPU; using FP32 instead\n",
      "  warnings.warn(\"FP16 is not supported on CPU; using FP32 instead\")\n"
     ]
    },
    {
     "name": "stdout",
     "output_type": "stream",
     "text": [
      "reference_text: mở ti vi\n",
      "predicted_text: mở tv\n",
      "Processing: FPTOpenSpeechData_Set001_V0.1_000459.mp3\n"
     ]
    },
    {
     "name": "stderr",
     "output_type": "stream",
     "text": [
      "/home/ngo/anaconda3/lib/python3.12/site-packages/whisper/transcribe.py:126: UserWarning: FP16 is not supported on CPU; using FP32 instead\n",
      "  warnings.warn(\"FP16 is not supported on CPU; using FP32 instead\")\n"
     ]
    },
    {
     "name": "stdout",
     "output_type": "stream",
     "text": [
      "reference_text: các hoa hậu xuất hiện trong màn mở đầu\n",
      "predicted_text: các hoa hậu chúc mừng và bởi đầu\n",
      "Processing: FPTOpenSpeechData_Set001_V0.1_000460.mp3\n"
     ]
    },
    {
     "name": "stderr",
     "output_type": "stream",
     "text": [
      "/home/ngo/anaconda3/lib/python3.12/site-packages/whisper/transcribe.py:126: UserWarning: FP16 is not supported on CPU; using FP32 instead\n",
      "  warnings.warn(\"FP16 is not supported on CPU; using FP32 instead\")\n"
     ]
    },
    {
     "name": "stdout",
     "output_type": "stream",
     "text": [
      "reference_text: cần phải bỏ những suy nghĩ cũ kỹ cổ hủ diện bộ cánh nhã nhặn vừa vặn sẽ giúp hà đẹp hơn ở lễ hỏi cưới\n",
      "predicted_text: cần phải bỏ những suy nghĩ cũ kỹ, cổ hú, diện bộ ảnh nhã nhặn vừa vặn của bút hà đẹp hơn ở lẽ hỏi dưới.\n",
      "Processing: FPTOpenSpeechData_Set001_V0.1_000461.mp3\n"
     ]
    },
    {
     "name": "stderr",
     "output_type": "stream",
     "text": [
      "/home/ngo/anaconda3/lib/python3.12/site-packages/whisper/transcribe.py:126: UserWarning: FP16 is not supported on CPU; using FP32 instead\n",
      "  warnings.warn(\"FP16 is not supported on CPU; using FP32 instead\")\n"
     ]
    },
    {
     "name": "stdout",
     "output_type": "stream",
     "text": [
      "reference_text: với vở kịch thị nở gặp chí phèo diệp anh đã diễn rất đạt và gây được cảm tình với ban giám khảo cũng như đông đảo khán giả\n",
      "predicted_text: với vỡ cực thị mở gặp trí tèo, dịp ăn đã diễn rất đạt và gây được cảm tình với ban giám khảo cũng như đông đảo khán giả.\n",
      "Processing: FPTOpenSpeechData_Set001_V0.1_000462.mp3\n"
     ]
    },
    {
     "name": "stderr",
     "output_type": "stream",
     "text": [
      "/home/ngo/anaconda3/lib/python3.12/site-packages/whisper/transcribe.py:126: UserWarning: FP16 is not supported on CPU; using FP32 instead\n",
      "  warnings.warn(\"FP16 is not supported on CPU; using FP32 instead\")\n"
     ]
    },
    {
     "name": "stdout",
     "output_type": "stream",
     "text": [
      "reference_text: virus\n",
      "predicted_text: video\n",
      "Processing: FPTOpenSpeechData_Set001_V0.1_000463.mp3\n"
     ]
    },
    {
     "name": "stderr",
     "output_type": "stream",
     "text": [
      "/home/ngo/anaconda3/lib/python3.12/site-packages/whisper/transcribe.py:126: UserWarning: FP16 is not supported on CPU; using FP32 instead\n",
      "  warnings.warn(\"FP16 is not supported on CPU; using FP32 instead\")\n"
     ]
    },
    {
     "name": "stdout",
     "output_type": "stream",
     "text": [
      "reference_text: thưa anh tên của anh là gì\n",
      "predicted_text: thưa anh, tên của anh là gì?\n",
      "Processing: FPTOpenSpeechData_Set001_V0.1_000464.mp3\n"
     ]
    },
    {
     "name": "stderr",
     "output_type": "stream",
     "text": [
      "/home/ngo/anaconda3/lib/python3.12/site-packages/whisper/transcribe.py:126: UserWarning: FP16 is not supported on CPU; using FP32 instead\n",
      "  warnings.warn(\"FP16 is not supported on CPU; using FP32 instead\")\n"
     ]
    },
    {
     "name": "stdout",
     "output_type": "stream",
     "text": [
      "reference_text: còn thọ đang bị công an tạm giữ\n",
      "predicted_text: còn họ đang bị công an tạm giữ.\n",
      "Processing: FPTOpenSpeechData_Set001_V0.1_000465.mp3\n"
     ]
    },
    {
     "name": "stderr",
     "output_type": "stream",
     "text": [
      "/home/ngo/anaconda3/lib/python3.12/site-packages/whisper/transcribe.py:126: UserWarning: FP16 is not supported on CPU; using FP32 instead\n",
      "  warnings.warn(\"FP16 is not supported on CPU; using FP32 instead\")\n"
     ]
    },
    {
     "name": "stdout",
     "output_type": "stream",
     "text": [
      "reference_text: tôi có thể lấy gì cho anh\n",
      "predicted_text: tôi có thể lấy gì cho anh?\n",
      "Processing: FPTOpenSpeechData_Set001_V0.1_000466.mp3\n"
     ]
    },
    {
     "name": "stderr",
     "output_type": "stream",
     "text": [
      "/home/ngo/anaconda3/lib/python3.12/site-packages/whisper/transcribe.py:126: UserWarning: FP16 is not supported on CPU; using FP32 instead\n",
      "  warnings.warn(\"FP16 is not supported on CPU; using FP32 instead\")\n"
     ]
    },
    {
     "name": "stdout",
     "output_type": "stream",
     "text": [
      "reference_text: đây là hai mươi đô la và anh có thể giữ tiền thối\n",
      "predicted_text: đây là 20 đô la và anh có thể giữ tiền thối.\n",
      "Processing: FPTOpenSpeechData_Set001_V0.1_000467.mp3\n"
     ]
    },
    {
     "name": "stderr",
     "output_type": "stream",
     "text": [
      "/home/ngo/anaconda3/lib/python3.12/site-packages/whisper/transcribe.py:126: UserWarning: FP16 is not supported on CPU; using FP32 instead\n",
      "  warnings.warn(\"FP16 is not supported on CPU; using FP32 instead\")\n"
     ]
    },
    {
     "name": "stdout",
     "output_type": "stream",
     "text": [
      "reference_text: ba hai bảy bảy anh có thể nói chuyện với cô ấy ở một số máy con một năm chín cô ấy nghĩ nó như\n",
      "predicted_text: bà 277, anh có thể nói chuyện với cô ấy, ở một chỗ mày có 1 năm ký, cô ấy nhìn nói như...\n",
      "Processing: FPTOpenSpeechData_Set001_V0.1_000468.mp3\n"
     ]
    },
    {
     "name": "stderr",
     "output_type": "stream",
     "text": [
      "/home/ngo/anaconda3/lib/python3.12/site-packages/whisper/transcribe.py:126: UserWarning: FP16 is not supported on CPU; using FP32 instead\n",
      "  warnings.warn(\"FP16 is not supported on CPU; using FP32 instead\")\n"
     ]
    },
    {
     "name": "stdout",
     "output_type": "stream",
     "text": [
      "reference_text: mọi thứ dường như vô nghĩa và vô dụng đối với tôi\n",
      "predicted_text: mọi sự tương nhiên vô nghĩa và vô dụng với tôi.\n",
      "Processing: FPTOpenSpeechData_Set001_V0.1_000469.mp3\n"
     ]
    },
    {
     "name": "stderr",
     "output_type": "stream",
     "text": [
      "/home/ngo/anaconda3/lib/python3.12/site-packages/whisper/transcribe.py:126: UserWarning: FP16 is not supported on CPU; using FP32 instead\n",
      "  warnings.warn(\"FP16 is not supported on CPU; using FP32 instead\")\n"
     ]
    },
    {
     "name": "stdout",
     "output_type": "stream",
     "text": [
      "reference_text: cho dù ngôn ngữ của bạn có là gì đi nữa\n",
      "predicted_text: cho dù ngôn ngữ của bạn có là gì đi nữa\n",
      "Processing: FPTOpenSpeechData_Set001_V0.1_000470.mp3\n"
     ]
    },
    {
     "name": "stderr",
     "output_type": "stream",
     "text": [
      "/home/ngo/anaconda3/lib/python3.12/site-packages/whisper/transcribe.py:126: UserWarning: FP16 is not supported on CPU; using FP32 instead\n",
      "  warnings.warn(\"FP16 is not supported on CPU; using FP32 instead\")\n"
     ]
    },
    {
     "name": "stdout",
     "output_type": "stream",
     "text": [
      "reference_text: tôi muốn gặp về một bác sĩ chuyên về tai\n",
      "predicted_text: tôi muốn gặp về một bác sĩ trên vệ tài.\n",
      "Processing: FPTOpenSpeechData_Set001_V0.1_000471.mp3\n"
     ]
    },
    {
     "name": "stderr",
     "output_type": "stream",
     "text": [
      "/home/ngo/anaconda3/lib/python3.12/site-packages/whisper/transcribe.py:126: UserWarning: FP16 is not supported on CPU; using FP32 instead\n",
      "  warnings.warn(\"FP16 is not supported on CPU; using FP32 instead\")\n"
     ]
    },
    {
     "name": "stdout",
     "output_type": "stream",
     "text": [
      "reference_text: giá cao su bắt đầu hạ nhiệt\n",
      "predicted_text: giá cao bắt đầu hạ nhiệt\n",
      "Processing: FPTOpenSpeechData_Set001_V0.1_000472.mp3\n"
     ]
    },
    {
     "name": "stderr",
     "output_type": "stream",
     "text": [
      "/home/ngo/anaconda3/lib/python3.12/site-packages/whisper/transcribe.py:126: UserWarning: FP16 is not supported on CPU; using FP32 instead\n",
      "  warnings.warn(\"FP16 is not supported on CPU; using FP32 instead\")\n"
     ]
    },
    {
     "name": "stdout",
     "output_type": "stream",
     "text": [
      "reference_text: cách tốt nhất để đến khách sạn plaza là gì\n",
      "predicted_text: cách tốt nhất để đến khách sạn plaza là gì?\n",
      "Processing: FPTOpenSpeechData_Set001_V0.1_000473.mp3\n"
     ]
    },
    {
     "name": "stderr",
     "output_type": "stream",
     "text": [
      "/home/ngo/anaconda3/lib/python3.12/site-packages/whisper/transcribe.py:126: UserWarning: FP16 is not supported on CPU; using FP32 instead\n",
      "  warnings.warn(\"FP16 is not supported on CPU; using FP32 instead\")\n"
     ]
    },
    {
     "name": "stdout",
     "output_type": "stream",
     "text": [
      "reference_text: gầy tọp\n",
      "predicted_text: nghe ý tóc\n",
      "Processing: FPTOpenSpeechData_Set001_V0.1_000474.mp3\n"
     ]
    },
    {
     "name": "stderr",
     "output_type": "stream",
     "text": [
      "/home/ngo/anaconda3/lib/python3.12/site-packages/whisper/transcribe.py:126: UserWarning: FP16 is not supported on CPU; using FP32 instead\n",
      "  warnings.warn(\"FP16 is not supported on CPU; using FP32 instead\")\n"
     ]
    },
    {
     "name": "stdout",
     "output_type": "stream",
     "text": [
      "reference_text: quán cà phê anh em mở làm phở ngon cực kỳ\n",
      "predicted_text: quán cà phê anh em mở, làm vừa ngón bức kì.\n",
      "Processing: FPTOpenSpeechData_Set001_V0.1_000475.mp3\n"
     ]
    },
    {
     "name": "stderr",
     "output_type": "stream",
     "text": [
      "/home/ngo/anaconda3/lib/python3.12/site-packages/whisper/transcribe.py:126: UserWarning: FP16 is not supported on CPU; using FP32 instead\n",
      "  warnings.warn(\"FP16 is not supported on CPU; using FP32 instead\")\n"
     ]
    },
    {
     "name": "stdout",
     "output_type": "stream",
     "text": [
      "reference_text: vui lòng dùng máy xerox\n",
      "predicted_text: vui lòng dùng máy xe rốt\n",
      "Processing: FPTOpenSpeechData_Set001_V0.1_000476.mp3\n"
     ]
    },
    {
     "name": "stderr",
     "output_type": "stream",
     "text": [
      "/home/ngo/anaconda3/lib/python3.12/site-packages/whisper/transcribe.py:126: UserWarning: FP16 is not supported on CPU; using FP32 instead\n",
      "  warnings.warn(\"FP16 is not supported on CPU; using FP32 instead\")\n"
     ]
    },
    {
     "name": "stdout",
     "output_type": "stream",
     "text": [
      "reference_text: từ bây giờ nó được gọi là thai nhi\n",
      "predicted_text: học tí đến giờ nó được gọi là thanh niên\n",
      "Processing: FPTOpenSpeechData_Set001_V0.1_000477.mp3\n"
     ]
    },
    {
     "name": "stderr",
     "output_type": "stream",
     "text": [
      "/home/ngo/anaconda3/lib/python3.12/site-packages/whisper/transcribe.py:126: UserWarning: FP16 is not supported on CPU; using FP32 instead\n",
      "  warnings.warn(\"FP16 is not supported on CPU; using FP32 instead\")\n"
     ]
    },
    {
     "name": "stdout",
     "output_type": "stream",
     "text": [
      "reference_text: tôi không có em trai\n",
      "predicted_text: tôi không có em trai\n",
      "Processing: FPTOpenSpeechData_Set001_V0.1_000478.mp3\n"
     ]
    },
    {
     "name": "stderr",
     "output_type": "stream",
     "text": [
      "/home/ngo/anaconda3/lib/python3.12/site-packages/whisper/transcribe.py:126: UserWarning: FP16 is not supported on CPU; using FP32 instead\n",
      "  warnings.warn(\"FP16 is not supported on CPU; using FP32 instead\")\n"
     ]
    },
    {
     "name": "stdout",
     "output_type": "stream",
     "text": [
      "reference_text: cú ngoạm của nó yếu hơn của linh cẩu\n",
      "predicted_text: bộ mặt của mình vừa không được v cortex\n",
      "Processing: FPTOpenSpeechData_Set001_V0.1_000479.mp3\n"
     ]
    },
    {
     "name": "stderr",
     "output_type": "stream",
     "text": [
      "/home/ngo/anaconda3/lib/python3.12/site-packages/whisper/transcribe.py:126: UserWarning: FP16 is not supported on CPU; using FP32 instead\n",
      "  warnings.warn(\"FP16 is not supported on CPU; using FP32 instead\")\n"
     ]
    },
    {
     "name": "stdout",
     "output_type": "stream",
     "text": [
      "reference_text: đạo chích người nước ngoài tái xuất\n",
      "predicted_text: đạo chích người nước ngoài phá xuất\n",
      "Processing: FPTOpenSpeechData_Set001_V0.1_000480.mp3\n"
     ]
    },
    {
     "name": "stderr",
     "output_type": "stream",
     "text": [
      "/home/ngo/anaconda3/lib/python3.12/site-packages/whisper/transcribe.py:126: UserWarning: FP16 is not supported on CPU; using FP32 instead\n",
      "  warnings.warn(\"FP16 is not supported on CPU; using FP32 instead\")\n"
     ]
    },
    {
     "name": "stdout",
     "output_type": "stream",
     "text": [
      "reference_text: tôi tham gia vào câu lạc bộ quần vợt\n",
      "predicted_text: cô tham gia vào cổ lạc bộ quân vượt\n",
      "Processing: FPTOpenSpeechData_Set001_V0.1_000481.mp3\n"
     ]
    },
    {
     "name": "stderr",
     "output_type": "stream",
     "text": [
      "/home/ngo/anaconda3/lib/python3.12/site-packages/whisper/transcribe.py:126: UserWarning: FP16 is not supported on CPU; using FP32 instead\n",
      "  warnings.warn(\"FP16 is not supported on CPU; using FP32 instead\")\n"
     ]
    },
    {
     "name": "stdout",
     "output_type": "stream",
     "text": [
      "reference_text: rùa phải nuôi trong các bồn khô vì chúng không ngóc đầu lên được\n",
      "predicted_text: vừa phải nuôi trong các môn cố bị trình thông ngốc đâu lên được\n",
      "Processing: FPTOpenSpeechData_Set001_V0.1_000482.mp3\n"
     ]
    },
    {
     "name": "stderr",
     "output_type": "stream",
     "text": [
      "/home/ngo/anaconda3/lib/python3.12/site-packages/whisper/transcribe.py:126: UserWarning: FP16 is not supported on CPU; using FP32 instead\n",
      "  warnings.warn(\"FP16 is not supported on CPU; using FP32 instead\")\n"
     ]
    },
    {
     "name": "stdout",
     "output_type": "stream",
     "text": [
      "reference_text: ví cũ mèm tiền nhồi nhét vô tổ chức\n",
      "predicted_text: hãy subscribe cho kênh ghiền mì gõ để không bỏ lỡ những video hấp dẫn\n",
      "Processing: FPTOpenSpeechData_Set001_V0.1_000483.mp3\n"
     ]
    },
    {
     "name": "stderr",
     "output_type": "stream",
     "text": [
      "/home/ngo/anaconda3/lib/python3.12/site-packages/whisper/transcribe.py:126: UserWarning: FP16 is not supported on CPU; using FP32 instead\n",
      "  warnings.warn(\"FP16 is not supported on CPU; using FP32 instead\")\n"
     ]
    },
    {
     "name": "stdout",
     "output_type": "stream",
     "text": [
      "reference_text: quí vị khuyên tôi khi nào thì có thể thay các lốp xe này\n",
      "predicted_text: quý vị khuyên tôi khi nào thì có thể thay các lột xe này.\n",
      "Processing: FPTOpenSpeechData_Set001_V0.1_000484.mp3\n"
     ]
    },
    {
     "name": "stderr",
     "output_type": "stream",
     "text": [
      "/home/ngo/anaconda3/lib/python3.12/site-packages/whisper/transcribe.py:126: UserWarning: FP16 is not supported on CPU; using FP32 instead\n",
      "  warnings.warn(\"FP16 is not supported on CPU; using FP32 instead\")\n"
     ]
    },
    {
     "name": "stdout",
     "output_type": "stream",
     "text": [
      "reference_text: tên tôi là suzuki , tôi đã đặt phòng cho đêm nay\n",
      "predicted_text: tên tôi là suzuki, tôi đã đặt phòng cho đêm nay.\n",
      "Processing: FPTOpenSpeechData_Set001_V0.1_000485.mp3\n"
     ]
    },
    {
     "name": "stderr",
     "output_type": "stream",
     "text": [
      "/home/ngo/anaconda3/lib/python3.12/site-packages/whisper/transcribe.py:126: UserWarning: FP16 is not supported on CPU; using FP32 instead\n",
      "  warnings.warn(\"FP16 is not supported on CPU; using FP32 instead\")\n"
     ]
    },
    {
     "name": "stdout",
     "output_type": "stream",
     "text": [
      "reference_text: ông tổng giám đốc doanh nghiệp bảo trợ xã hội là người đã hỗ trợ xây dựng ngôi nhà từ những chai nhựa lông ngỗng và cũng là chủ dự án này\n",
      "predicted_text: ông tổng giám đốc doanh nghiệp bảo trợ xã hội làm người đã hỗ trợ xây dựng ngôi nhà từ những giai dựa, lòng ngỗng và cũng là chủ tự án này.\n",
      "Processing: FPTOpenSpeechData_Set001_V0.1_000486.mp3\n"
     ]
    },
    {
     "name": "stderr",
     "output_type": "stream",
     "text": [
      "/home/ngo/anaconda3/lib/python3.12/site-packages/whisper/transcribe.py:126: UserWarning: FP16 is not supported on CPU; using FP32 instead\n",
      "  warnings.warn(\"FP16 is not supported on CPU; using FP32 instead\")\n"
     ]
    },
    {
     "name": "stdout",
     "output_type": "stream",
     "text": [
      "reference_text: thông minh có năng lực được giáo dục cẩn thận và có lòng tin\n",
      "predicted_text: thông minh, có năng lực, chẳng hạn, cẩn thận và có lòng tin\n",
      "Processing: FPTOpenSpeechData_Set001_V0.1_000487.mp3\n"
     ]
    },
    {
     "name": "stderr",
     "output_type": "stream",
     "text": [
      "/home/ngo/anaconda3/lib/python3.12/site-packages/whisper/transcribe.py:126: UserWarning: FP16 is not supported on CPU; using FP32 instead\n",
      "  warnings.warn(\"FP16 is not supported on CPU; using FP32 instead\")\n"
     ]
    },
    {
     "name": "stdout",
     "output_type": "stream",
     "text": [
      "reference_text: tôi muốn biết về sự giám giảm giá dành cho sinh viên\n",
      "predicted_text: tôi muốn biết về sự chám giảm giá dành cho sinh viên.\n",
      "Processing: FPTOpenSpeechData_Set001_V0.1_000488.mp3\n"
     ]
    },
    {
     "name": "stderr",
     "output_type": "stream",
     "text": [
      "/home/ngo/anaconda3/lib/python3.12/site-packages/whisper/transcribe.py:126: UserWarning: FP16 is not supported on CPU; using FP32 instead\n",
      "  warnings.warn(\"FP16 is not supported on CPU; using FP32 instead\")\n"
     ]
    },
    {
     "name": "stdout",
     "output_type": "stream",
     "text": [
      "reference_text: bạn có kiểu giống thế này màu nâu không\n",
      "predicted_text: bạn có kiểu giống thế này màu nâu không?\n",
      "Processing: FPTOpenSpeechData_Set001_V0.1_000489.mp3\n"
     ]
    },
    {
     "name": "stderr",
     "output_type": "stream",
     "text": [
      "/home/ngo/anaconda3/lib/python3.12/site-packages/whisper/transcribe.py:126: UserWarning: FP16 is not supported on CPU; using FP32 instead\n",
      "  warnings.warn(\"FP16 is not supported on CPU; using FP32 instead\")\n"
     ]
    },
    {
     "name": "stdout",
     "output_type": "stream",
     "text": [
      "reference_text: số phòng anh số mấy\n",
      "predicted_text: trượng vong anh thua mấy?\n",
      "Processing: FPTOpenSpeechData_Set001_V0.1_000490.mp3\n"
     ]
    },
    {
     "name": "stderr",
     "output_type": "stream",
     "text": [
      "/home/ngo/anaconda3/lib/python3.12/site-packages/whisper/transcribe.py:126: UserWarning: FP16 is not supported on CPU; using FP32 instead\n",
      "  warnings.warn(\"FP16 is not supported on CPU; using FP32 instead\")\n"
     ]
    },
    {
     "name": "stdout",
     "output_type": "stream",
     "text": [
      "reference_text: chúc mừng về ngôi nhà mới của bạn\n",
      "predicted_text: chúc mừng về ngôi nhà quậy của bạn\n",
      "Processing: FPTOpenSpeechData_Set001_V0.1_000491.mp3\n"
     ]
    },
    {
     "name": "stderr",
     "output_type": "stream",
     "text": [
      "/home/ngo/anaconda3/lib/python3.12/site-packages/whisper/transcribe.py:126: UserWarning: FP16 is not supported on CPU; using FP32 instead\n",
      "  warnings.warn(\"FP16 is not supported on CPU; using FP32 instead\")\n"
     ]
    },
    {
     "name": "stdout",
     "output_type": "stream",
     "text": [
      "reference_text: giá đậu xe một tiếng là bao nhiêu\n",
      "predicted_text: giá đậu xe một tiếng là bao nhiêu?\n",
      "Processing: FPTOpenSpeechData_Set001_V0.1_000492.mp3\n"
     ]
    },
    {
     "name": "stderr",
     "output_type": "stream",
     "text": [
      "/home/ngo/anaconda3/lib/python3.12/site-packages/whisper/transcribe.py:126: UserWarning: FP16 is not supported on CPU; using FP32 instead\n",
      "  warnings.warn(\"FP16 is not supported on CPU; using FP32 instead\")\n"
     ]
    },
    {
     "name": "stdout",
     "output_type": "stream",
     "text": [
      "reference_text: xây dựng nhà máy ở nước ngoài\n",
      "predicted_text: xây dựng nhà máy ở nước ngoài.\n",
      "Processing: FPTOpenSpeechData_Set001_V0.1_000493.mp3\n"
     ]
    },
    {
     "name": "stderr",
     "output_type": "stream",
     "text": [
      "/home/ngo/anaconda3/lib/python3.12/site-packages/whisper/transcribe.py:126: UserWarning: FP16 is not supported on CPU; using FP32 instead\n",
      "  warnings.warn(\"FP16 is not supported on CPU; using FP32 instead\")\n"
     ]
    },
    {
     "name": "stdout",
     "output_type": "stream",
     "text": [
      "reference_text: nhóm người ngủ trong phòng lạnh nhất phần lớn mơ những điều khó chịu kinh sợ còn ở phòng ấm nhất những giấc mơ êm ái nhẹ nhàng đã đến trong giấc ngủ của những người ở đó\n",
      "predicted_text: giống như ngủ trong phòng lạnh nhất, mặt lớn với những điều phát diệu, tựa sợ. còn ở phòng ấp nhất, những cái môi êm ái nhẹ nhàng đã đến trong tiếng ngủ của những người ở đó.\n",
      "Processing: FPTOpenSpeechData_Set001_V0.1_000494.mp3\n"
     ]
    },
    {
     "name": "stderr",
     "output_type": "stream",
     "text": [
      "/home/ngo/anaconda3/lib/python3.12/site-packages/whisper/transcribe.py:126: UserWarning: FP16 is not supported on CPU; using FP32 instead\n",
      "  warnings.warn(\"FP16 is not supported on CPU; using FP32 instead\")\n"
     ]
    },
    {
     "name": "stdout",
     "output_type": "stream",
     "text": [
      "reference_text: do đó không thể nào nhầm lẫn được giữa một nụ cười ngượng ngựu\n",
      "predicted_text: do đó không thể nào nhầm lẫn được giữa một mục vụ người người.\n",
      "Processing: FPTOpenSpeechData_Set001_V0.1_000495.mp3\n"
     ]
    },
    {
     "name": "stderr",
     "output_type": "stream",
     "text": [
      "/home/ngo/anaconda3/lib/python3.12/site-packages/whisper/transcribe.py:126: UserWarning: FP16 is not supported on CPU; using FP32 instead\n",
      "  warnings.warn(\"FP16 is not supported on CPU; using FP32 instead\")\n"
     ]
    },
    {
     "name": "stdout",
     "output_type": "stream",
     "text": [
      "reference_text: hãy đến gặp bác sỹ để khám\n",
      "predicted_text: hãy đến gặp bác sĩ để khám.\n",
      "Processing: FPTOpenSpeechData_Set001_V0.1_000496.mp3\n"
     ]
    },
    {
     "name": "stderr",
     "output_type": "stream",
     "text": [
      "/home/ngo/anaconda3/lib/python3.12/site-packages/whisper/transcribe.py:126: UserWarning: FP16 is not supported on CPU; using FP32 instead\n",
      "  warnings.warn(\"FP16 is not supported on CPU; using FP32 instead\")\n"
     ]
    },
    {
     "name": "stdout",
     "output_type": "stream",
     "text": [
      "reference_text: tôi có thể dùng thẻ này để được giảm giá không\n",
      "predicted_text: tôi có thể dùng thẻ này để được giảm giá không?\n",
      "Processing: FPTOpenSpeechData_Set001_V0.1_000497.mp3\n"
     ]
    },
    {
     "name": "stderr",
     "output_type": "stream",
     "text": [
      "/home/ngo/anaconda3/lib/python3.12/site-packages/whisper/transcribe.py:126: UserWarning: FP16 is not supported on CPU; using FP32 instead\n",
      "  warnings.warn(\"FP16 is not supported on CPU; using FP32 instead\")\n"
     ]
    },
    {
     "name": "stdout",
     "output_type": "stream",
     "text": [
      "reference_text: thiếu nữ anh chết trong bồn tắm ở tokyo\n",
      "predicted_text: như anh chết trong buổi tắm hợp với yêu\n",
      "Processing: FPTOpenSpeechData_Set001_V0.1_000498.mp3\n"
     ]
    },
    {
     "name": "stderr",
     "output_type": "stream",
     "text": [
      "/home/ngo/anaconda3/lib/python3.12/site-packages/whisper/transcribe.py:126: UserWarning: FP16 is not supported on CPU; using FP32 instead\n",
      "  warnings.warn(\"FP16 is not supported on CPU; using FP32 instead\")\n"
     ]
    },
    {
     "name": "stdout",
     "output_type": "stream",
     "text": [
      "reference_text: hoài niệm về chuyện xếp hàng ở liên xô\n",
      "predicted_text: cảm ơn các bạn đã theo dõi và hẹn gặp lại.\n",
      "Processing: FPTOpenSpeechData_Set001_V0.1_000499.mp3\n"
     ]
    },
    {
     "name": "stderr",
     "output_type": "stream",
     "text": [
      "/home/ngo/anaconda3/lib/python3.12/site-packages/whisper/transcribe.py:126: UserWarning: FP16 is not supported on CPU; using FP32 instead\n",
      "  warnings.warn(\"FP16 is not supported on CPU; using FP32 instead\")\n"
     ]
    },
    {
     "name": "stdout",
     "output_type": "stream",
     "text": [
      "reference_text: xin nhiệt liệt hoan nghênh họ\n",
      "predicted_text: chuyên nghiệp diệt khoản ngân họ\n",
      "Processing: FPTOpenSpeechData_Set001_V0.1_000500.mp3\n"
     ]
    },
    {
     "name": "stderr",
     "output_type": "stream",
     "text": [
      "/home/ngo/anaconda3/lib/python3.12/site-packages/whisper/transcribe.py:126: UserWarning: FP16 is not supported on CPU; using FP32 instead\n",
      "  warnings.warn(\"FP16 is not supported on CPU; using FP32 instead\")\n"
     ]
    },
    {
     "name": "stdout",
     "output_type": "stream",
     "text": [
      "reference_text: toàn bộ quy trình điện toán hóa thư viện do công ty lạc việt giúp nghiên cứu thiết kế\n",
      "predicted_text: toàn bộ quy trình điện toán hóa thư viên do công ty lạc việt giúp nghiên cứu thiết kế\n",
      "Processing: FPTOpenSpeechData_Set001_V0.1_000501.mp3\n"
     ]
    },
    {
     "name": "stderr",
     "output_type": "stream",
     "text": [
      "/home/ngo/anaconda3/lib/python3.12/site-packages/whisper/transcribe.py:126: UserWarning: FP16 is not supported on CPU; using FP32 instead\n",
      "  warnings.warn(\"FP16 is not supported on CPU; using FP32 instead\")\n"
     ]
    },
    {
     "name": "stdout",
     "output_type": "stream",
     "text": [
      "reference_text: điều quan trọng là anh đã cố gắng\n",
      "predicted_text: đi với tầm lạnh cả phục hướng\n",
      "Processing: FPTOpenSpeechData_Set001_V0.1_000502.mp3\n"
     ]
    },
    {
     "name": "stderr",
     "output_type": "stream",
     "text": [
      "/home/ngo/anaconda3/lib/python3.12/site-packages/whisper/transcribe.py:126: UserWarning: FP16 is not supported on CPU; using FP32 instead\n",
      "  warnings.warn(\"FP16 is not supported on CPU; using FP32 instead\")\n"
     ]
    },
    {
     "name": "stdout",
     "output_type": "stream",
     "text": [
      "reference_text: bên cạnh đó cũng phải an toàn hơn\n",
      "predicted_text: bên cạnh đó cũng phải an toàn hơn.\n",
      "Processing: FPTOpenSpeechData_Set001_V0.1_000503.mp3\n"
     ]
    },
    {
     "name": "stderr",
     "output_type": "stream",
     "text": [
      "/home/ngo/anaconda3/lib/python3.12/site-packages/whisper/transcribe.py:126: UserWarning: FP16 is not supported on CPU; using FP32 instead\n",
      "  warnings.warn(\"FP16 is not supported on CPU; using FP32 instead\")\n"
     ]
    },
    {
     "name": "stdout",
     "output_type": "stream",
     "text": [
      "reference_text: lẽ ra anh phải ở trường chứ\n",
      "predicted_text: lẽ ra anh phải ở chùa chứ\n",
      "Processing: FPTOpenSpeechData_Set001_V0.1_000504.mp3\n"
     ]
    },
    {
     "name": "stderr",
     "output_type": "stream",
     "text": [
      "/home/ngo/anaconda3/lib/python3.12/site-packages/whisper/transcribe.py:126: UserWarning: FP16 is not supported on CPU; using FP32 instead\n",
      "  warnings.warn(\"FP16 is not supported on CPU; using FP32 instead\")\n"
     ]
    },
    {
     "name": "stdout",
     "output_type": "stream",
     "text": [
      "reference_text: nhà nước không để những người nghèo đã được vào học mà lại không thể tiếp tục đi học\n",
      "predicted_text: nhà nước không để những người nghèo đã được vào học mà lại không thể tiếp tục đi học.\n",
      "Processing: FPTOpenSpeechData_Set001_V0.1_000505.mp3\n"
     ]
    },
    {
     "name": "stderr",
     "output_type": "stream",
     "text": [
      "/home/ngo/anaconda3/lib/python3.12/site-packages/whisper/transcribe.py:126: UserWarning: FP16 is not supported on CPU; using FP32 instead\n",
      "  warnings.warn(\"FP16 is not supported on CPU; using FP32 instead\")\n"
     ]
    },
    {
     "name": "stdout",
     "output_type": "stream",
     "text": [
      "reference_text: tôi muốn thay đổi chuyến bay của mình\n",
      "predicted_text: tôi muốn thay đổi chứng may của mình.\n",
      "Processing: FPTOpenSpeechData_Set001_V0.1_000506.mp3\n"
     ]
    },
    {
     "name": "stderr",
     "output_type": "stream",
     "text": [
      "/home/ngo/anaconda3/lib/python3.12/site-packages/whisper/transcribe.py:126: UserWarning: FP16 is not supported on CPU; using FP32 instead\n",
      "  warnings.warn(\"FP16 is not supported on CPU; using FP32 instead\")\n"
     ]
    },
    {
     "name": "stdout",
     "output_type": "stream",
     "text": [
      "reference_text: cho tôi một cuộn phim phơi sáng ba mươi sáu\n",
      "predicted_text: cho tôi một cuộn phim khơi sáng ba lần sau.\n",
      "Processing: FPTOpenSpeechData_Set001_V0.1_000507.mp3\n"
     ]
    },
    {
     "name": "stderr",
     "output_type": "stream",
     "text": [
      "/home/ngo/anaconda3/lib/python3.12/site-packages/whisper/transcribe.py:126: UserWarning: FP16 is not supported on CPU; using FP32 instead\n",
      "  warnings.warn(\"FP16 is not supported on CPU; using FP32 instead\")\n"
     ]
    },
    {
     "name": "stdout",
     "output_type": "stream",
     "text": [
      "reference_text: bạn có thể ở lại đây lâu như bạn muốn\n",
      "predicted_text: bạn có thể ở lại đây lâu như bạn muốn\n",
      "Processing: FPTOpenSpeechData_Set001_V0.1_000508.mp3\n"
     ]
    },
    {
     "name": "stderr",
     "output_type": "stream",
     "text": [
      "/home/ngo/anaconda3/lib/python3.12/site-packages/whisper/transcribe.py:126: UserWarning: FP16 is not supported on CPU; using FP32 instead\n",
      "  warnings.warn(\"FP16 is not supported on CPU; using FP32 instead\")\n"
     ]
    },
    {
     "name": "stdout",
     "output_type": "stream",
     "text": [
      "reference_text: gài số\n",
      "predicted_text: gai trốn\n",
      "Processing: FPTOpenSpeechData_Set001_V0.1_000509.mp3\n"
     ]
    },
    {
     "name": "stderr",
     "output_type": "stream",
     "text": [
      "/home/ngo/anaconda3/lib/python3.12/site-packages/whisper/transcribe.py:126: UserWarning: FP16 is not supported on CPU; using FP32 instead\n",
      "  warnings.warn(\"FP16 is not supported on CPU; using FP32 instead\")\n"
     ]
    },
    {
     "name": "stdout",
     "output_type": "stream",
     "text": [
      "reference_text: anh gợi ý một nhà hàng pháp ngon được không\n",
      "predicted_text: anh giải ý một nhà hàng pháp ngôn được không?\n",
      "Processing: FPTOpenSpeechData_Set001_V0.1_000510.mp3\n"
     ]
    },
    {
     "name": "stderr",
     "output_type": "stream",
     "text": [
      "/home/ngo/anaconda3/lib/python3.12/site-packages/whisper/transcribe.py:126: UserWarning: FP16 is not supported on CPU; using FP32 instead\n",
      "  warnings.warn(\"FP16 is not supported on CPU; using FP32 instead\")\n"
     ]
    },
    {
     "name": "stdout",
     "output_type": "stream",
     "text": [
      "reference_text: nên khâu tổ chức tuyển sinh của các trường\n",
      "predicted_text: nên sau tổ chức tuyển sinh của các trường,\n",
      "Processing: FPTOpenSpeechData_Set001_V0.1_000511.mp3\n"
     ]
    },
    {
     "name": "stderr",
     "output_type": "stream",
     "text": [
      "/home/ngo/anaconda3/lib/python3.12/site-packages/whisper/transcribe.py:126: UserWarning: FP16 is not supported on CPU; using FP32 instead\n",
      "  warnings.warn(\"FP16 is not supported on CPU; using FP32 instead\")\n"
     ]
    },
    {
     "name": "stdout",
     "output_type": "stream",
     "text": [
      "reference_text: nước có ấm không\n",
      "predicted_text: như tọn không?\n",
      "Processing: FPTOpenSpeechData_Set001_V0.1_000512.mp3\n"
     ]
    },
    {
     "name": "stderr",
     "output_type": "stream",
     "text": [
      "/home/ngo/anaconda3/lib/python3.12/site-packages/whisper/transcribe.py:126: UserWarning: FP16 is not supported on CPU; using FP32 instead\n",
      "  warnings.warn(\"FP16 is not supported on CPU; using FP32 instead\")\n"
     ]
    },
    {
     "name": "stdout",
     "output_type": "stream",
     "text": [
      "reference_text: tốp này bị bắt tốp khác lại tới\n",
      "predicted_text: tôm nay nhìn mắt, tôi kháng lại tưởng.\n",
      "Processing: FPTOpenSpeechData_Set001_V0.1_000513.mp3\n"
     ]
    },
    {
     "name": "stderr",
     "output_type": "stream",
     "text": [
      "/home/ngo/anaconda3/lib/python3.12/site-packages/whisper/transcribe.py:126: UserWarning: FP16 is not supported on CPU; using FP32 instead\n",
      "  warnings.warn(\"FP16 is not supported on CPU; using FP32 instead\")\n"
     ]
    },
    {
     "name": "stdout",
     "output_type": "stream",
     "text": [
      "reference_text: anh ta có cá tính không thân thiện\n",
      "predicted_text: anh ta có cả tình không thân thiện\n",
      "Processing: FPTOpenSpeechData_Set001_V0.1_000514.mp3\n"
     ]
    },
    {
     "name": "stderr",
     "output_type": "stream",
     "text": [
      "/home/ngo/anaconda3/lib/python3.12/site-packages/whisper/transcribe.py:126: UserWarning: FP16 is not supported on CPU; using FP32 instead\n",
      "  warnings.warn(\"FP16 is not supported on CPU; using FP32 instead\")\n"
     ]
    },
    {
     "name": "stdout",
     "output_type": "stream",
     "text": [
      "reference_text: hãy đưa vợ anh đi cùng\n",
      "predicted_text: 2 đứa vừa anh đi cùng\n",
      "Processing: FPTOpenSpeechData_Set001_V0.1_000515.mp3\n"
     ]
    },
    {
     "name": "stderr",
     "output_type": "stream",
     "text": [
      "/home/ngo/anaconda3/lib/python3.12/site-packages/whisper/transcribe.py:126: UserWarning: FP16 is not supported on CPU; using FP32 instead\n",
      "  warnings.warn(\"FP16 is not supported on CPU; using FP32 instead\")\n"
     ]
    },
    {
     "name": "stdout",
     "output_type": "stream",
     "text": [
      "reference_text: các dự án mở rộng cũng đã phải đình lại những tác động xấu đến quá nhanh trên diện rộng và nặng nề hơn so với những gì chúng tôi dự báo\n",
      "predicted_text: các dự án mở rộng cũng đã phải định những tác động xấu đến quá nhanh trên diện rộng và lặng lẽ hơn so với những gì chúng tôi định nói.\n",
      "Processing: FPTOpenSpeechData_Set001_V0.1_000516.mp3\n"
     ]
    },
    {
     "name": "stderr",
     "output_type": "stream",
     "text": [
      "/home/ngo/anaconda3/lib/python3.12/site-packages/whisper/transcribe.py:126: UserWarning: FP16 is not supported on CPU; using FP32 instead\n",
      "  warnings.warn(\"FP16 is not supported on CPU; using FP32 instead\")\n"
     ]
    },
    {
     "name": "stdout",
     "output_type": "stream",
     "text": [
      "reference_text: xin lỗi cho tôi một cái đĩa để chia ra được không\n",
      "predicted_text: xin lỗi cho tôi một cậy đĩa để chia ra được không?\n",
      "Processing: FPTOpenSpeechData_Set001_V0.1_000517.mp3\n"
     ]
    },
    {
     "name": "stderr",
     "output_type": "stream",
     "text": [
      "/home/ngo/anaconda3/lib/python3.12/site-packages/whisper/transcribe.py:126: UserWarning: FP16 is not supported on CPU; using FP32 instead\n",
      "  warnings.warn(\"FP16 is not supported on CPU; using FP32 instead\")\n"
     ]
    },
    {
     "name": "stdout",
     "output_type": "stream",
     "text": [
      "reference_text: tôi cho rằng không có vấn đề gì\n",
      "predicted_text: tôi cho rằng không có vấn đề gì\n",
      "Processing: FPTOpenSpeechData_Set001_V0.1_000518.mp3\n"
     ]
    },
    {
     "name": "stderr",
     "output_type": "stream",
     "text": [
      "/home/ngo/anaconda3/lib/python3.12/site-packages/whisper/transcribe.py:126: UserWarning: FP16 is not supported on CPU; using FP32 instead\n",
      "  warnings.warn(\"FP16 is not supported on CPU; using FP32 instead\")\n"
     ]
    },
    {
     "name": "stdout",
     "output_type": "stream",
     "text": [
      "reference_text: vui lòng sắp xếp một chuyến bay khác để tôi có thể chuyển sang a một hai ba\n",
      "predicted_text: vui lòng sắp xếp một chuyến bay khác để tôi có thể chuyển sang a123.\n",
      "Processing: FPTOpenSpeechData_Set001_V0.1_000519.mp3\n"
     ]
    },
    {
     "name": "stderr",
     "output_type": "stream",
     "text": [
      "/home/ngo/anaconda3/lib/python3.12/site-packages/whisper/transcribe.py:126: UserWarning: FP16 is not supported on CPU; using FP32 instead\n",
      "  warnings.warn(\"FP16 is not supported on CPU; using FP32 instead\")\n"
     ]
    },
    {
     "name": "stdout",
     "output_type": "stream",
     "text": [
      "reference_text: đến lượt anh\n",
      "predicted_text: định lực anh\n",
      "Processing: FPTOpenSpeechData_Set001_V0.1_000520.mp3\n"
     ]
    },
    {
     "name": "stderr",
     "output_type": "stream",
     "text": [
      "/home/ngo/anaconda3/lib/python3.12/site-packages/whisper/transcribe.py:126: UserWarning: FP16 is not supported on CPU; using FP32 instead\n",
      "  warnings.warn(\"FP16 is not supported on CPU; using FP32 instead\")\n"
     ]
    },
    {
     "name": "stdout",
     "output_type": "stream",
     "text": [
      "reference_text: anh có bao giờ đến tokyo chưa\n",
      "predicted_text: anh có bao giờ đến tokyo chưa?\n",
      "Processing: FPTOpenSpeechData_Set001_V0.1_000521.mp3\n"
     ]
    },
    {
     "name": "stderr",
     "output_type": "stream",
     "text": [
      "/home/ngo/anaconda3/lib/python3.12/site-packages/whisper/transcribe.py:126: UserWarning: FP16 is not supported on CPU; using FP32 instead\n",
      "  warnings.warn(\"FP16 is not supported on CPU; using FP32 instead\")\n"
     ]
    },
    {
     "name": "stdout",
     "output_type": "stream",
     "text": [
      "reference_text: áo mưa phát sáng theo nhịp mưa rơi\n",
      "predicted_text: cảm ơn các bạn đã theo dõi.\n",
      "Processing: FPTOpenSpeechData_Set001_V0.1_000522.mp3\n"
     ]
    },
    {
     "name": "stderr",
     "output_type": "stream",
     "text": [
      "/home/ngo/anaconda3/lib/python3.12/site-packages/whisper/transcribe.py:126: UserWarning: FP16 is not supported on CPU; using FP32 instead\n",
      "  warnings.warn(\"FP16 is not supported on CPU; using FP32 instead\")\n"
     ]
    },
    {
     "name": "stdout",
     "output_type": "stream",
     "text": [
      "reference_text: bạn có thể nói cho tôi bít về nhà hàng truyền thống không\n",
      "predicted_text: bạn có thể nói cho tôi biết về nhà hàng truyền tấm không?\n",
      "Processing: FPTOpenSpeechData_Set001_V0.1_000523.mp3\n"
     ]
    },
    {
     "name": "stderr",
     "output_type": "stream",
     "text": [
      "/home/ngo/anaconda3/lib/python3.12/site-packages/whisper/transcribe.py:126: UserWarning: FP16 is not supported on CPU; using FP32 instead\n",
      "  warnings.warn(\"FP16 is not supported on CPU; using FP32 instead\")\n"
     ]
    },
    {
     "name": "stdout",
     "output_type": "stream",
     "text": [
      "reference_text: trước đây có ai trong gia đình quí vị từng có vấn đề ở bụng không\n",
      "predicted_text: trước đây có ai trong gia đình quý vị từng có vấn đề ở bụng không?\n",
      "Processing: FPTOpenSpeechData_Set001_V0.1_000524.mp3\n"
     ]
    },
    {
     "name": "stderr",
     "output_type": "stream",
     "text": [
      "/home/ngo/anaconda3/lib/python3.12/site-packages/whisper/transcribe.py:126: UserWarning: FP16 is not supported on CPU; using FP32 instead\n",
      "  warnings.warn(\"FP16 is not supported on CPU; using FP32 instead\")\n"
     ]
    },
    {
     "name": "stdout",
     "output_type": "stream",
     "text": [
      "reference_text: từ vệt bồ hóng nâu trầm\n",
      "predicted_text: từ vệt bộ hóng nâu trầm\n",
      "Processing: FPTOpenSpeechData_Set001_V0.1_000525.mp3\n"
     ]
    },
    {
     "name": "stderr",
     "output_type": "stream",
     "text": [
      "/home/ngo/anaconda3/lib/python3.12/site-packages/whisper/transcribe.py:126: UserWarning: FP16 is not supported on CPU; using FP32 instead\n",
      "  warnings.warn(\"FP16 is not supported on CPU; using FP32 instead\")\n"
     ]
    },
    {
     "name": "stdout",
     "output_type": "stream",
     "text": [
      "reference_text: nhà thi đấu đại học công nghệ bắc kinh\n",
      "predicted_text: và thi đấu đại học quân diện bắc kinh.\n",
      "Processing: FPTOpenSpeechData_Set001_V0.1_000526.mp3\n"
     ]
    },
    {
     "name": "stderr",
     "output_type": "stream",
     "text": [
      "/home/ngo/anaconda3/lib/python3.12/site-packages/whisper/transcribe.py:126: UserWarning: FP16 is not supported on CPU; using FP32 instead\n",
      "  warnings.warn(\"FP16 is not supported on CPU; using FP32 instead\")\n"
     ]
    },
    {
     "name": "stdout",
     "output_type": "stream",
     "text": [
      "reference_text: món canh nguội lạnh\n",
      "predicted_text: quán canh người lạnh\n",
      "Processing: FPTOpenSpeechData_Set001_V0.1_000527.mp3\n"
     ]
    },
    {
     "name": "stderr",
     "output_type": "stream",
     "text": [
      "/home/ngo/anaconda3/lib/python3.12/site-packages/whisper/transcribe.py:126: UserWarning: FP16 is not supported on CPU; using FP32 instead\n",
      "  warnings.warn(\"FP16 is not supported on CPU; using FP32 instead\")\n"
     ]
    },
    {
     "name": "stdout",
     "output_type": "stream",
     "text": [
      "reference_text: ông cường nhận định lượng phôi thép sản xuất ở trong nước sẽ không tăng đáng kể ít nhất là cho đến cuối năm sau\n",
      "predicted_text: ông cường nhận định, lượng khâu thép sản xuất ở trong nước sẽ không tăng đáng kể, ít nhất là cho đến cuối năm sau.\n",
      "Processing: FPTOpenSpeechData_Set001_V0.1_000528.mp3\n"
     ]
    },
    {
     "name": "stderr",
     "output_type": "stream",
     "text": [
      "/home/ngo/anaconda3/lib/python3.12/site-packages/whisper/transcribe.py:126: UserWarning: FP16 is not supported on CPU; using FP32 instead\n",
      "  warnings.warn(\"FP16 is not supported on CPU; using FP32 instead\")\n"
     ]
    },
    {
     "name": "stdout",
     "output_type": "stream",
     "text": [
      "reference_text: nó xảy không có gì là ngạc nhiên\n",
      "predicted_text: nó xảy ra không có gì là ngạc nhiên.\n",
      "Processing: FPTOpenSpeechData_Set001_V0.1_000529.mp3\n"
     ]
    },
    {
     "name": "stderr",
     "output_type": "stream",
     "text": [
      "/home/ngo/anaconda3/lib/python3.12/site-packages/whisper/transcribe.py:126: UserWarning: FP16 is not supported on CPU; using FP32 instead\n",
      "  warnings.warn(\"FP16 is not supported on CPU; using FP32 instead\")\n"
     ]
    },
    {
     "name": "stdout",
     "output_type": "stream",
     "text": [
      "reference_text: và lời cảnh báo đã sớm trở thành sự thật\n",
      "predicted_text: và lời cảnh báo đã xứng trở thành sự thật.\n",
      "Processing: FPTOpenSpeechData_Set001_V0.1_000530.mp3\n"
     ]
    },
    {
     "name": "stderr",
     "output_type": "stream",
     "text": [
      "/home/ngo/anaconda3/lib/python3.12/site-packages/whisper/transcribe.py:126: UserWarning: FP16 is not supported on CPU; using FP32 instead\n",
      "  warnings.warn(\"FP16 is not supported on CPU; using FP32 instead\")\n"
     ]
    },
    {
     "name": "stdout",
     "output_type": "stream",
     "text": [
      "reference_text: với hai cổ tay treo lủng lẳng những túi xốp\n",
      "predicted_text: với hai cổ tay treo lủng lặng những túi sót.\n",
      "Processing: FPTOpenSpeechData_Set001_V0.1_000531.mp3\n"
     ]
    },
    {
     "name": "stderr",
     "output_type": "stream",
     "text": [
      "/home/ngo/anaconda3/lib/python3.12/site-packages/whisper/transcribe.py:126: UserWarning: FP16 is not supported on CPU; using FP32 instead\n",
      "  warnings.warn(\"FP16 is not supported on CPU; using FP32 instead\")\n"
     ]
    },
    {
     "name": "stdout",
     "output_type": "stream",
     "text": [
      "reference_text: trong cái nóng oi ả của mùa hè các loài vật cũng có cách tự làm mát cho riêng mình\n",
      "predicted_text: trong cái nóng oi ảo của mùa hè, các loại vật cũng có cách tự và mát cho riêng mình.\n",
      "Processing: FPTOpenSpeechData_Set001_V0.1_000532.mp3\n"
     ]
    },
    {
     "name": "stderr",
     "output_type": "stream",
     "text": [
      "/home/ngo/anaconda3/lib/python3.12/site-packages/whisper/transcribe.py:126: UserWarning: FP16 is not supported on CPU; using FP32 instead\n",
      "  warnings.warn(\"FP16 is not supported on CPU; using FP32 instead\")\n"
     ]
    },
    {
     "name": "stdout",
     "output_type": "stream",
     "text": [
      "reference_text: nhưng rất tốn kém khi thay thế hoặc sửa chữa\n",
      "predicted_text: nhưng rất tốn kém khi thay thế hoặc sửa chữa.\n",
      "Processing: FPTOpenSpeechData_Set001_V0.1_000533.mp3\n"
     ]
    },
    {
     "name": "stderr",
     "output_type": "stream",
     "text": [
      "/home/ngo/anaconda3/lib/python3.12/site-packages/whisper/transcribe.py:126: UserWarning: FP16 is not supported on CPU; using FP32 instead\n",
      "  warnings.warn(\"FP16 is not supported on CPU; using FP32 instead\")\n"
     ]
    },
    {
     "name": "stdout",
     "output_type": "stream",
     "text": [
      "reference_text: bao nhiêu tiếng bằng xe buýt đến medan vậy bác ơi\n",
      "predicted_text: bao nhiêu tiếng bằng xe buýt đến lê đan vậy bác ơi?\n",
      "Processing: FPTOpenSpeechData_Set001_V0.1_000534.mp3\n"
     ]
    },
    {
     "name": "stderr",
     "output_type": "stream",
     "text": [
      "/home/ngo/anaconda3/lib/python3.12/site-packages/whisper/transcribe.py:126: UserWarning: FP16 is not supported on CPU; using FP32 instead\n",
      "  warnings.warn(\"FP16 is not supported on CPU; using FP32 instead\")\n"
     ]
    },
    {
     "name": "stdout",
     "output_type": "stream",
     "text": [
      "reference_text: còn đây là thế giới của giày dép\n",
      "predicted_text: còn đây là thế giới của dây dép.\n",
      "Processing: FPTOpenSpeechData_Set001_V0.1_000535.mp3\n"
     ]
    },
    {
     "name": "stderr",
     "output_type": "stream",
     "text": [
      "/home/ngo/anaconda3/lib/python3.12/site-packages/whisper/transcribe.py:126: UserWarning: FP16 is not supported on CPU; using FP32 instead\n",
      "  warnings.warn(\"FP16 is not supported on CPU; using FP32 instead\")\n"
     ]
    },
    {
     "name": "stdout",
     "output_type": "stream",
     "text": [
      "reference_text: không hấp dẫn -n\n",
      "predicted_text: không hấp dẫn\n",
      "Processing: FPTOpenSpeechData_Set001_V0.1_000536.mp3\n"
     ]
    },
    {
     "name": "stderr",
     "output_type": "stream",
     "text": [
      "/home/ngo/anaconda3/lib/python3.12/site-packages/whisper/transcribe.py:126: UserWarning: FP16 is not supported on CPU; using FP32 instead\n",
      "  warnings.warn(\"FP16 is not supported on CPU; using FP32 instead\")\n"
     ]
    },
    {
     "name": "stdout",
     "output_type": "stream",
     "text": [
      "reference_text: cái giá của một anh hùng\n",
      "predicted_text: cái giá của một anh hùng\n",
      "Processing: FPTOpenSpeechData_Set001_V0.1_000537.mp3\n"
     ]
    },
    {
     "name": "stderr",
     "output_type": "stream",
     "text": [
      "/home/ngo/anaconda3/lib/python3.12/site-packages/whisper/transcribe.py:126: UserWarning: FP16 is not supported on CPU; using FP32 instead\n",
      "  warnings.warn(\"FP16 is not supported on CPU; using FP32 instead\")\n"
     ]
    },
    {
     "name": "stdout",
     "output_type": "stream",
     "text": [
      "reference_text: tăng nhiệt độ lên ba mươi độ\n",
      "predicted_text: các bạn hãy đăng kí cho kênh lalaschool để không bỏ lỡ những video hấp dẫn\n",
      "Processing: FPTOpenSpeechData_Set001_V0.1_000538.mp3\n"
     ]
    },
    {
     "name": "stderr",
     "output_type": "stream",
     "text": [
      "/home/ngo/anaconda3/lib/python3.12/site-packages/whisper/transcribe.py:126: UserWarning: FP16 is not supported on CPU; using FP32 instead\n",
      "  warnings.warn(\"FP16 is not supported on CPU; using FP32 instead\")\n"
     ]
    },
    {
     "name": "stdout",
     "output_type": "stream",
     "text": [
      "reference_text: điều đó là không thể hiểu được\n",
      "predicted_text: điều đó là không thể hiểu được.\n",
      "Processing: FPTOpenSpeechData_Set001_V0.1_000539.mp3\n"
     ]
    },
    {
     "name": "stderr",
     "output_type": "stream",
     "text": [
      "/home/ngo/anaconda3/lib/python3.12/site-packages/whisper/transcribe.py:126: UserWarning: FP16 is not supported on CPU; using FP32 instead\n",
      "  warnings.warn(\"FP16 is not supported on CPU; using FP32 instead\")\n"
     ]
    },
    {
     "name": "stdout",
     "output_type": "stream",
     "text": [
      "reference_text: hoa mãn lâu ngày ấy và bây giờ\n",
      "predicted_text: ho mãn lâu ngày ấy và bây giờ\n",
      "Processing: FPTOpenSpeechData_Set001_V0.1_000540.mp3\n"
     ]
    },
    {
     "name": "stderr",
     "output_type": "stream",
     "text": [
      "/home/ngo/anaconda3/lib/python3.12/site-packages/whisper/transcribe.py:126: UserWarning: FP16 is not supported on CPU; using FP32 instead\n",
      "  warnings.warn(\"FP16 is not supported on CPU; using FP32 instead\")\n"
     ]
    },
    {
     "name": "stdout",
     "output_type": "stream",
     "text": [
      "reference_text: ba tôi sẽ về hưu năm nay\n",
      "predicted_text: ba tôi sẽ về du năm nay\n",
      "Processing: FPTOpenSpeechData_Set001_V0.1_000541.mp3\n"
     ]
    },
    {
     "name": "stderr",
     "output_type": "stream",
     "text": [
      "/home/ngo/anaconda3/lib/python3.12/site-packages/whisper/transcribe.py:126: UserWarning: FP16 is not supported on CPU; using FP32 instead\n",
      "  warnings.warn(\"FP16 is not supported on CPU; using FP32 instead\")\n"
     ]
    },
    {
     "name": "stdout",
     "output_type": "stream",
     "text": [
      "reference_text: vợ đánh chồng vì không kiếm được tiền\n",
      "predicted_text: hãy đăng ký kênh để ủng hộ kênh của mình nhé.\n",
      "Processing: FPTOpenSpeechData_Set001_V0.1_000542.mp3\n"
     ]
    },
    {
     "name": "stderr",
     "output_type": "stream",
     "text": [
      "/home/ngo/anaconda3/lib/python3.12/site-packages/whisper/transcribe.py:126: UserWarning: FP16 is not supported on CPU; using FP32 instead\n",
      "  warnings.warn(\"FP16 is not supported on CPU; using FP32 instead\")\n"
     ]
    },
    {
     "name": "stdout",
     "output_type": "stream",
     "text": [
      "reference_text: không nhà tài trợ không bán vé để phục vụ các bạn sinh viên\n",
      "predicted_text: không nhà tài trợ không bán vé để phục vụ các bạn sinh viên\n",
      "Processing: FPTOpenSpeechData_Set001_V0.1_000543.mp3\n"
     ]
    },
    {
     "name": "stderr",
     "output_type": "stream",
     "text": [
      "/home/ngo/anaconda3/lib/python3.12/site-packages/whisper/transcribe.py:126: UserWarning: FP16 is not supported on CPU; using FP32 instead\n",
      "  warnings.warn(\"FP16 is not supported on CPU; using FP32 instead\")\n"
     ]
    },
    {
     "name": "stdout",
     "output_type": "stream",
     "text": [
      "reference_text: dệt bằng lúa mì nga\n",
      "predicted_text: rẹp phần mối miệng ra\n",
      "Processing: FPTOpenSpeechData_Set001_V0.1_000544.mp3\n"
     ]
    },
    {
     "name": "stderr",
     "output_type": "stream",
     "text": [
      "/home/ngo/anaconda3/lib/python3.12/site-packages/whisper/transcribe.py:126: UserWarning: FP16 is not supported on CPU; using FP32 instead\n",
      "  warnings.warn(\"FP16 is not supported on CPU; using FP32 instead\")\n"
     ]
    },
    {
     "name": "stdout",
     "output_type": "stream",
     "text": [
      "reference_text: ba tháng cô ấy khá mới\n",
      "predicted_text: 3 tháng cô ấy thả mới.\n",
      "Processing: FPTOpenSpeechData_Set001_V0.1_000545.mp3\n"
     ]
    },
    {
     "name": "stderr",
     "output_type": "stream",
     "text": [
      "/home/ngo/anaconda3/lib/python3.12/site-packages/whisper/transcribe.py:126: UserWarning: FP16 is not supported on CPU; using FP32 instead\n",
      "  warnings.warn(\"FP16 is not supported on CPU; using FP32 instead\")\n"
     ]
    },
    {
     "name": "stdout",
     "output_type": "stream",
     "text": [
      "reference_text: vui lòng đưa tờ báo nhật\n",
      "predicted_text: lý lâm đức tơ bảo nhật\n",
      "Processing: FPTOpenSpeechData_Set001_V0.1_000546.mp3\n"
     ]
    },
    {
     "name": "stderr",
     "output_type": "stream",
     "text": [
      "/home/ngo/anaconda3/lib/python3.12/site-packages/whisper/transcribe.py:126: UserWarning: FP16 is not supported on CPU; using FP32 instead\n",
      "  warnings.warn(\"FP16 is not supported on CPU; using FP32 instead\")\n"
     ]
    },
    {
     "name": "stdout",
     "output_type": "stream",
     "text": [
      "reference_text: có tour đến tauron không\n",
      "predicted_text: có tui đến charon không?\n",
      "Processing: FPTOpenSpeechData_Set001_V0.1_000547.mp3\n"
     ]
    },
    {
     "name": "stderr",
     "output_type": "stream",
     "text": [
      "/home/ngo/anaconda3/lib/python3.12/site-packages/whisper/transcribe.py:126: UserWarning: FP16 is not supported on CPU; using FP32 instead\n",
      "  warnings.warn(\"FP16 is not supported on CPU; using FP32 instead\")\n"
     ]
    },
    {
     "name": "stdout",
     "output_type": "stream",
     "text": [
      "reference_text: xin lỗi anh có thể bán theo đơn này không\n",
      "predicted_text: xin lỗi, anh có thể bán theo đơn này không?\n",
      "Processing: FPTOpenSpeechData_Set001_V0.1_000548.mp3\n"
     ]
    },
    {
     "name": "stderr",
     "output_type": "stream",
     "text": [
      "/home/ngo/anaconda3/lib/python3.12/site-packages/whisper/transcribe.py:126: UserWarning: FP16 is not supported on CPU; using FP32 instead\n",
      "  warnings.warn(\"FP16 is not supported on CPU; using FP32 instead\")\n"
     ]
    },
    {
     "name": "stdout",
     "output_type": "stream",
     "text": [
      "reference_text: phải chờ tới khi ối ra nhiều trở lại thì bọn rầy mới biến mất\n",
      "predicted_text: phải chờ tới khi ối ra nhiều trở lại thì họ gầy mới biến mất.\n",
      "Processing: FPTOpenSpeechData_Set001_V0.1_000549.mp3\n"
     ]
    },
    {
     "name": "stderr",
     "output_type": "stream",
     "text": [
      "/home/ngo/anaconda3/lib/python3.12/site-packages/whisper/transcribe.py:126: UserWarning: FP16 is not supported on CPU; using FP32 instead\n",
      "  warnings.warn(\"FP16 is not supported on CPU; using FP32 instead\")\n"
     ]
    },
    {
     "name": "stdout",
     "output_type": "stream",
     "text": [
      "reference_text: sáu mươi sáu sáu mươi bảy\n",
      "predicted_text: 6667\n",
      "Processing: FPTOpenSpeechData_Set001_V0.1_000550.mp3\n"
     ]
    },
    {
     "name": "stderr",
     "output_type": "stream",
     "text": [
      "/home/ngo/anaconda3/lib/python3.12/site-packages/whisper/transcribe.py:126: UserWarning: FP16 is not supported on CPU; using FP32 instead\n",
      "  warnings.warn(\"FP16 is not supported on CPU; using FP32 instead\")\n"
     ]
    },
    {
     "name": "stdout",
     "output_type": "stream",
     "text": [
      "reference_text: phù thủy cũng có ngân hàng à\n",
      "predicted_text: cô thủy cũng có linh hồn à\n",
      "Processing: FPTOpenSpeechData_Set001_V0.1_000551.mp3\n"
     ]
    },
    {
     "name": "stderr",
     "output_type": "stream",
     "text": [
      "/home/ngo/anaconda3/lib/python3.12/site-packages/whisper/transcribe.py:126: UserWarning: FP16 is not supported on CPU; using FP32 instead\n",
      "  warnings.warn(\"FP16 is not supported on CPU; using FP32 instead\")\n"
     ]
    },
    {
     "name": "stdout",
     "output_type": "stream",
     "text": [
      "reference_text: chứng khoán châu âu trượt giảm phiên thứ bốn liên tiếp cổ phiếu khối khai thác mất điểm\n",
      "predicted_text: trừng khoản châu âu trượt giảm khiến thứ 4 lên tiệp, cổ phiếu cuối 2 tháng mất điểm\n",
      "Processing: FPTOpenSpeechData_Set001_V0.1_000552.mp3\n"
     ]
    },
    {
     "name": "stderr",
     "output_type": "stream",
     "text": [
      "/home/ngo/anaconda3/lib/python3.12/site-packages/whisper/transcribe.py:126: UserWarning: FP16 is not supported on CPU; using FP32 instead\n",
      "  warnings.warn(\"FP16 is not supported on CPU; using FP32 instead\")\n"
     ]
    },
    {
     "name": "stdout",
     "output_type": "stream",
     "text": [
      "reference_text: độc đáo nhất thuộc về loài nhím\n",
      "predicted_text: đầu góc nhất thu về loài nhím\n",
      "Processing: FPTOpenSpeechData_Set001_V0.1_000553.mp3\n"
     ]
    },
    {
     "name": "stderr",
     "output_type": "stream",
     "text": [
      "/home/ngo/anaconda3/lib/python3.12/site-packages/whisper/transcribe.py:126: UserWarning: FP16 is not supported on CPU; using FP32 instead\n",
      "  warnings.warn(\"FP16 is not supported on CPU; using FP32 instead\")\n"
     ]
    },
    {
     "name": "stdout",
     "output_type": "stream",
     "text": [
      "reference_text: dự kiến phiên xử diễn ra trong hai ngày\n",
      "predicted_text: chuyển tiến kiến xử diễn ra trong 2 ngày.\n",
      "Processing: FPTOpenSpeechData_Set001_V0.1_000554.mp3\n"
     ]
    },
    {
     "name": "stderr",
     "output_type": "stream",
     "text": [
      "/home/ngo/anaconda3/lib/python3.12/site-packages/whisper/transcribe.py:126: UserWarning: FP16 is not supported on CPU; using FP32 instead\n",
      "  warnings.warn(\"FP16 is not supported on CPU; using FP32 instead\")\n"
     ]
    },
    {
     "name": "stdout",
     "output_type": "stream",
     "text": [
      "reference_text: chào rất vui được gặp anh\n",
      "predicted_text: chào, rất vui được gặp anh\n",
      "Processing: FPTOpenSpeechData_Set001_V0.1_000555.mp3\n"
     ]
    },
    {
     "name": "stderr",
     "output_type": "stream",
     "text": [
      "/home/ngo/anaconda3/lib/python3.12/site-packages/whisper/transcribe.py:126: UserWarning: FP16 is not supported on CPU; using FP32 instead\n",
      "  warnings.warn(\"FP16 is not supported on CPU; using FP32 instead\")\n"
     ]
    },
    {
     "name": "stdout",
     "output_type": "stream",
     "text": [
      "reference_text: tái kiểm định chất lượng giáo dục theo chỉ đạo của bộ giáo dục và đào tạo\n",
      "predicted_text: kiểm định chất lượng giáo dục theo chỉ đạo của bộ giáo dục và đào tạo.\n",
      "Processing: FPTOpenSpeechData_Set001_V0.1_000556.mp3\n"
     ]
    },
    {
     "name": "stderr",
     "output_type": "stream",
     "text": [
      "/home/ngo/anaconda3/lib/python3.12/site-packages/whisper/transcribe.py:126: UserWarning: FP16 is not supported on CPU; using FP32 instead\n",
      "  warnings.warn(\"FP16 is not supported on CPU; using FP32 instead\")\n"
     ]
    },
    {
     "name": "stdout",
     "output_type": "stream",
     "text": [
      "reference_text: hóa ra vị khách bỉ đang công tác tại bảo tàng lịch sử và nghệ thuật hoàng gia bỉ\n",
      "predicted_text: hóa ra vị khách bỉ đang công tác tại bảo tàng lịch sử và nghệ thuật hoàng gia bỉ.\n",
      "Processing: FPTOpenSpeechData_Set001_V0.1_000557.mp3\n"
     ]
    },
    {
     "name": "stderr",
     "output_type": "stream",
     "text": [
      "/home/ngo/anaconda3/lib/python3.12/site-packages/whisper/transcribe.py:126: UserWarning: FP16 is not supported on CPU; using FP32 instead\n",
      "  warnings.warn(\"FP16 is not supported on CPU; using FP32 instead\")\n"
     ]
    },
    {
     "name": "stdout",
     "output_type": "stream",
     "text": [
      "reference_text: cám ơn anh cho số thẻ tín dụng để giữ phòng được không\n",
      "predicted_text: cảm ơn. anh cho số thiết dụng để giữ phòng được không?\n",
      "Processing: FPTOpenSpeechData_Set001_V0.1_000558.mp3\n"
     ]
    },
    {
     "name": "stderr",
     "output_type": "stream",
     "text": [
      "/home/ngo/anaconda3/lib/python3.12/site-packages/whisper/transcribe.py:126: UserWarning: FP16 is not supported on CPU; using FP32 instead\n",
      "  warnings.warn(\"FP16 is not supported on CPU; using FP32 instead\")\n"
     ]
    },
    {
     "name": "stdout",
     "output_type": "stream",
     "text": [
      "reference_text: mồ hôi trên cơ thể người cũng khó khô đi\n",
      "predicted_text: mồ hôn trên cơ thể người mồ hôn đi\n",
      "Processing: FPTOpenSpeechData_Set001_V0.1_000559.mp3\n"
     ]
    },
    {
     "name": "stderr",
     "output_type": "stream",
     "text": [
      "/home/ngo/anaconda3/lib/python3.12/site-packages/whisper/transcribe.py:126: UserWarning: FP16 is not supported on CPU; using FP32 instead\n",
      "  warnings.warn(\"FP16 is not supported on CPU; using FP32 instead\")\n"
     ]
    },
    {
     "name": "stdout",
     "output_type": "stream",
     "text": [
      "reference_text: thặng dư ngày càng nhỏ đi\n",
      "predicted_text: thằng dư ngày càng nhỏ đi\n",
      "Processing: FPTOpenSpeechData_Set001_V0.1_000560.mp3\n"
     ]
    },
    {
     "name": "stderr",
     "output_type": "stream",
     "text": [
      "/home/ngo/anaconda3/lib/python3.12/site-packages/whisper/transcribe.py:126: UserWarning: FP16 is not supported on CPU; using FP32 instead\n",
      "  warnings.warn(\"FP16 is not supported on CPU; using FP32 instead\")\n"
     ]
    },
    {
     "name": "stdout",
     "output_type": "stream",
     "text": [
      "reference_text: thấy còn hai người đang chới với sắp chìm giữa ngã ba sông chỉ kịp đẩy em phượng lên bờ là anh thắng lại đạp nước bơi ngược ra\n",
      "predicted_text: thấy còn hai người đang chơi với cắt chìm giữa mã ba sông chỉ kịp đẩy em phượng lên bờ là anh hắn phải đạp nước bơi ngự ra.\n",
      "Processing: FPTOpenSpeechData_Set001_V0.1_000561.mp3\n"
     ]
    },
    {
     "name": "stderr",
     "output_type": "stream",
     "text": [
      "/home/ngo/anaconda3/lib/python3.12/site-packages/whisper/transcribe.py:126: UserWarning: FP16 is not supported on CPU; using FP32 instead\n",
      "  warnings.warn(\"FP16 is not supported on CPU; using FP32 instead\")\n"
     ]
    },
    {
     "name": "stdout",
     "output_type": "stream",
     "text": [
      "reference_text: chúng bò lổm ngổm trên người anh\n",
      "predicted_text: trứng bò lùm hủ thiết người anh\n",
      "Processing: FPTOpenSpeechData_Set001_V0.1_000562.mp3\n"
     ]
    },
    {
     "name": "stderr",
     "output_type": "stream",
     "text": [
      "/home/ngo/anaconda3/lib/python3.12/site-packages/whisper/transcribe.py:126: UserWarning: FP16 is not supported on CPU; using FP32 instead\n",
      "  warnings.warn(\"FP16 is not supported on CPU; using FP32 instead\")\n"
     ]
    },
    {
     "name": "stdout",
     "output_type": "stream",
     "text": [
      "reference_text: hãy sẵn sàng ở tiền sảnh khách sạn lúc tám giờ mười lăm sáng mai\n",
      "predicted_text: hãy sẵn sàng ở trên sành khách sạn lúc tạm tiên năm tháng mai.\n",
      "Processing: FPTOpenSpeechData_Set001_V0.1_000563.mp3\n"
     ]
    },
    {
     "name": "stderr",
     "output_type": "stream",
     "text": [
      "/home/ngo/anaconda3/lib/python3.12/site-packages/whisper/transcribe.py:126: UserWarning: FP16 is not supported on CPU; using FP32 instead\n",
      "  warnings.warn(\"FP16 is not supported on CPU; using FP32 instead\")\n"
     ]
    },
    {
     "name": "stdout",
     "output_type": "stream",
     "text": [
      "reference_text: sự thực đứa bé mồ côi được thánh nhập chữa bách bệnh bằng xoa và vuốt\n",
      "predicted_text: sư thược đứa bé mô côi được hành nhập, kiểu bách mệnh băng chó và ruột.\n",
      "Processing: FPTOpenSpeechData_Set001_V0.1_000564.mp3\n"
     ]
    },
    {
     "name": "stderr",
     "output_type": "stream",
     "text": [
      "/home/ngo/anaconda3/lib/python3.12/site-packages/whisper/transcribe.py:126: UserWarning: FP16 is not supported on CPU; using FP32 instead\n",
      "  warnings.warn(\"FP16 is not supported on CPU; using FP32 instead\")\n"
     ]
    },
    {
     "name": "stdout",
     "output_type": "stream",
     "text": [
      "reference_text: vui lòng mang lại dĩa thức ăn\n",
      "predicted_text: vì vui lòng mang lại địa thức ăn.\n",
      "Processing: FPTOpenSpeechData_Set001_V0.1_000565.mp3\n"
     ]
    },
    {
     "name": "stderr",
     "output_type": "stream",
     "text": [
      "/home/ngo/anaconda3/lib/python3.12/site-packages/whisper/transcribe.py:126: UserWarning: FP16 is not supported on CPU; using FP32 instead\n",
      "  warnings.warn(\"FP16 is not supported on CPU; using FP32 instead\")\n"
     ]
    },
    {
     "name": "stdout",
     "output_type": "stream",
     "text": [
      "reference_text: suzuki đây\n",
      "predicted_text: sư dụng kỳ đại\n",
      "Processing: FPTOpenSpeechData_Set001_V0.1_000566.mp3\n"
     ]
    },
    {
     "name": "stderr",
     "output_type": "stream",
     "text": [
      "/home/ngo/anaconda3/lib/python3.12/site-packages/whisper/transcribe.py:126: UserWarning: FP16 is not supported on CPU; using FP32 instead\n",
      "  warnings.warn(\"FP16 is not supported on CPU; using FP32 instead\")\n"
     ]
    },
    {
     "name": "stdout",
     "output_type": "stream",
     "text": [
      "reference_text: điều tra một thẩm phán làm sai lệch hồ sơ\n",
      "predicted_text: chúng ta mở trầm tả các xe lệnh hồ sơ.\n",
      "Processing: FPTOpenSpeechData_Set001_V0.1_000567.mp3\n"
     ]
    },
    {
     "name": "stderr",
     "output_type": "stream",
     "text": [
      "/home/ngo/anaconda3/lib/python3.12/site-packages/whisper/transcribe.py:126: UserWarning: FP16 is not supported on CPU; using FP32 instead\n",
      "  warnings.warn(\"FP16 is not supported on CPU; using FP32 instead\")\n"
     ]
    },
    {
     "name": "stdout",
     "output_type": "stream",
     "text": [
      "reference_text: có nhiều tiết mục mới và hấp dẫn\n",
      "predicted_text: có nhiều tiết mục mới và hấp dẫn.\n",
      "Processing: FPTOpenSpeechData_Set001_V0.1_000568.mp3\n"
     ]
    },
    {
     "name": "stderr",
     "output_type": "stream",
     "text": [
      "/home/ngo/anaconda3/lib/python3.12/site-packages/whisper/transcribe.py:126: UserWarning: FP16 is not supported on CPU; using FP32 instead\n",
      "  warnings.warn(\"FP16 is not supported on CPU; using FP32 instead\")\n"
     ]
    },
    {
     "name": "stdout",
     "output_type": "stream",
     "text": [
      "reference_text: tôi là hành khách quá cảnh\n",
      "predicted_text: vừa là hành khách quá cảnh.\n",
      "Processing: FPTOpenSpeechData_Set001_V0.1_000569.mp3\n"
     ]
    },
    {
     "name": "stderr",
     "output_type": "stream",
     "text": [
      "/home/ngo/anaconda3/lib/python3.12/site-packages/whisper/transcribe.py:126: UserWarning: FP16 is not supported on CPU; using FP32 instead\n",
      "  warnings.warn(\"FP16 is not supported on CPU; using FP32 instead\")\n"
     ]
    },
    {
     "name": "stdout",
     "output_type": "stream",
     "text": [
      "reference_text: để đãi lấy thiếc bán cho các đầu nậu ảnh\n",
      "predicted_text: để nãy lấy thiết bán cho các đầu hậu ảnh\n",
      "Processing: FPTOpenSpeechData_Set001_V0.1_000570.mp3\n"
     ]
    },
    {
     "name": "stderr",
     "output_type": "stream",
     "text": [
      "/home/ngo/anaconda3/lib/python3.12/site-packages/whisper/transcribe.py:126: UserWarning: FP16 is not supported on CPU; using FP32 instead\n",
      "  warnings.warn(\"FP16 is not supported on CPU; using FP32 instead\")\n"
     ]
    },
    {
     "name": "stdout",
     "output_type": "stream",
     "text": [
      "reference_text: chỗ phát ban trông như thế nào\n",
      "predicted_text: chù phật ban chung như thế nào?\n",
      "Processing: FPTOpenSpeechData_Set001_V0.1_000571.mp3\n"
     ]
    },
    {
     "name": "stderr",
     "output_type": "stream",
     "text": [
      "/home/ngo/anaconda3/lib/python3.12/site-packages/whisper/transcribe.py:126: UserWarning: FP16 is not supported on CPU; using FP32 instead\n",
      "  warnings.warn(\"FP16 is not supported on CPU; using FP32 instead\")\n"
     ]
    },
    {
     "name": "stdout",
     "output_type": "stream",
     "text": [
      "reference_text: hành khách nói đùa bom có thể bị xử lý hình sự\n",
      "predicted_text: thành cách nói đùa, buông có thể bị xử lý hình dân\n",
      "Processing: FPTOpenSpeechData_Set001_V0.1_000572.mp3\n"
     ]
    },
    {
     "name": "stderr",
     "output_type": "stream",
     "text": [
      "/home/ngo/anaconda3/lib/python3.12/site-packages/whisper/transcribe.py:126: UserWarning: FP16 is not supported on CPU; using FP32 instead\n",
      "  warnings.warn(\"FP16 is not supported on CPU; using FP32 instead\")\n"
     ]
    },
    {
     "name": "stdout",
     "output_type": "stream",
     "text": [
      "reference_text: vâng thịt bò rất ngon gửi lời khen ngợi của tôi đến đầu bếp nhé\n",
      "predicted_text: vâng, thịt bò rất ngon, gửi lại tin lời của tôi đến đầu bếp nhé.\n",
      "Processing: FPTOpenSpeechData_Set001_V0.1_000573.mp3\n"
     ]
    },
    {
     "name": "stderr",
     "output_type": "stream",
     "text": [
      "/home/ngo/anaconda3/lib/python3.12/site-packages/whisper/transcribe.py:126: UserWarning: FP16 is not supported on CPU; using FP32 instead\n",
      "  warnings.warn(\"FP16 is not supported on CPU; using FP32 instead\")\n"
     ]
    },
    {
     "name": "stdout",
     "output_type": "stream",
     "text": [
      "reference_text: đến địa phận xã mỹ thuận mỹ lộc nam định có một người trẻ tuổi lái xe máy cùng chiều vượt trước bảo dừng lại để nhờ dẫn đường\n",
      "predicted_text: đến địa phận xã nghị thuận, mỹ lộc, nam định, có một người trẻ tuổi lái xe máy cùng chiều vượt trước, bảo dừng lại để nhờ dẫn đường.\n",
      "Processing: FPTOpenSpeechData_Set001_V0.1_000574.mp3\n"
     ]
    },
    {
     "name": "stderr",
     "output_type": "stream",
     "text": [
      "/home/ngo/anaconda3/lib/python3.12/site-packages/whisper/transcribe.py:126: UserWarning: FP16 is not supported on CPU; using FP32 instead\n",
      "  warnings.warn(\"FP16 is not supported on CPU; using FP32 instead\")\n"
     ]
    },
    {
     "name": "stdout",
     "output_type": "stream",
     "text": [
      "reference_text: có một ngày lễ cho các bé gái vào ngày ba tháng ba\n",
      "predicted_text: có một ngày lễ cho các bé gái vào ngày 3 tháng 3.\n",
      "Processing: FPTOpenSpeechData_Set001_V0.1_000575.mp3\n"
     ]
    },
    {
     "name": "stderr",
     "output_type": "stream",
     "text": [
      "/home/ngo/anaconda3/lib/python3.12/site-packages/whisper/transcribe.py:126: UserWarning: FP16 is not supported on CPU; using FP32 instead\n",
      "  warnings.warn(\"FP16 is not supported on CPU; using FP32 instead\")\n"
     ]
    },
    {
     "name": "stdout",
     "output_type": "stream",
     "text": [
      "reference_text: lá chắn nhỏ nhất để không bị phá sản là sở đúc tiền của mỹ bằng khả năng của mình họ đã sản xuất những đồng đô la mỹ và độc quyền về giá trị của nó\n",
      "predicted_text: lá trắng nhỏ nhất để không bị phá thảm hàm ở lúc tiền của mỹ bằng khả năng của mình, họ đã sản xuất những đồng đô la mỹ và độc quyền về giá trị của nó.\n",
      "Processing: FPTOpenSpeechData_Set001_V0.1_000576.mp3\n"
     ]
    },
    {
     "name": "stderr",
     "output_type": "stream",
     "text": [
      "/home/ngo/anaconda3/lib/python3.12/site-packages/whisper/transcribe.py:126: UserWarning: FP16 is not supported on CPU; using FP32 instead\n",
      "  warnings.warn(\"FP16 is not supported on CPU; using FP32 instead\")\n"
     ]
    },
    {
     "name": "stdout",
     "output_type": "stream",
     "text": [
      "reference_text: -n và bất thình lình lao vào -n hạ gục đối thủ\n",
      "predicted_text: các bạn nhớ đăng ký kênh để ủng hộ kênh của mình nhé.\n",
      "Processing: FPTOpenSpeechData_Set001_V0.1_000577.mp3\n"
     ]
    },
    {
     "name": "stderr",
     "output_type": "stream",
     "text": [
      "/home/ngo/anaconda3/lib/python3.12/site-packages/whisper/transcribe.py:126: UserWarning: FP16 is not supported on CPU; using FP32 instead\n",
      "  warnings.warn(\"FP16 is not supported on CPU; using FP32 instead\")\n"
     ]
    },
    {
     "name": "stdout",
     "output_type": "stream",
     "text": [
      "reference_text: vui lòng đợi tại phòng chờ quá cảnh ở phi trường\n",
      "predicted_text: vui lòng để tại phòng chờ quát ảnh ở phi trường.\n",
      "Processing: FPTOpenSpeechData_Set001_V0.1_000578.mp3\n"
     ]
    },
    {
     "name": "stderr",
     "output_type": "stream",
     "text": [
      "/home/ngo/anaconda3/lib/python3.12/site-packages/whisper/transcribe.py:126: UserWarning: FP16 is not supported on CPU; using FP32 instead\n",
      "  warnings.warn(\"FP16 is not supported on CPU; using FP32 instead\")\n"
     ]
    },
    {
     "name": "stdout",
     "output_type": "stream",
     "text": [
      "reference_text: tôi có thể mua sách ở đâu ở anh\n",
      "predicted_text: tôi có thể mua sách ở đâu? gỡ anh.\n",
      "Processing: FPTOpenSpeechData_Set001_V0.1_000579.mp3\n"
     ]
    },
    {
     "name": "stderr",
     "output_type": "stream",
     "text": [
      "/home/ngo/anaconda3/lib/python3.12/site-packages/whisper/transcribe.py:126: UserWarning: FP16 is not supported on CPU; using FP32 instead\n",
      "  warnings.warn(\"FP16 is not supported on CPU; using FP32 instead\")\n"
     ]
    },
    {
     "name": "stdout",
     "output_type": "stream",
     "text": [
      "reference_text: nãy giờ sao toàn nghe chê không\n",
      "predicted_text: nãy giờ sao toàn nghe chê không?\n",
      "Processing: FPTOpenSpeechData_Set001_V0.1_000580.mp3\n"
     ]
    },
    {
     "name": "stderr",
     "output_type": "stream",
     "text": [
      "/home/ngo/anaconda3/lib/python3.12/site-packages/whisper/transcribe.py:126: UserWarning: FP16 is not supported on CPU; using FP32 instead\n",
      "  warnings.warn(\"FP16 is not supported on CPU; using FP32 instead\")\n"
     ]
    },
    {
     "name": "stdout",
     "output_type": "stream",
     "text": [
      "reference_text: triển lãm trưng bày bẩy mốt tác phẩm của họa sĩ trương hán minh\n",
      "predicted_text: truyền lãm trưng bay 7 mùa tạp phẩm của hoa sĩ trương hạnh minh\n",
      "Processing: FPTOpenSpeechData_Set001_V0.1_000581.mp3\n"
     ]
    },
    {
     "name": "stderr",
     "output_type": "stream",
     "text": [
      "/home/ngo/anaconda3/lib/python3.12/site-packages/whisper/transcribe.py:126: UserWarning: FP16 is not supported on CPU; using FP32 instead\n",
      "  warnings.warn(\"FP16 is not supported on CPU; using FP32 instead\")\n"
     ]
    },
    {
     "name": "stdout",
     "output_type": "stream",
     "text": [
      "reference_text: theo tôi ở đây bạn cần có ô tô để đi đây đó tôi không còn cách nào khác là thuê một chiếc ô tô\n",
      "predicted_text: theo tôi, ở đây bạn cần một ô tô để đi đây đó. tôi không còn cách nào khác là thuê một chiếc ô tô.\n",
      "Processing: FPTOpenSpeechData_Set001_V0.1_000582.mp3\n"
     ]
    },
    {
     "name": "stderr",
     "output_type": "stream",
     "text": [
      "/home/ngo/anaconda3/lib/python3.12/site-packages/whisper/transcribe.py:126: UserWarning: FP16 is not supported on CPU; using FP32 instead\n",
      "  warnings.warn(\"FP16 is not supported on CPU; using FP32 instead\")\n"
     ]
    },
    {
     "name": "stdout",
     "output_type": "stream",
     "text": [
      "reference_text: tên tôi là noriko tanaka\n",
      "predicted_text: chân tôi là noriko tanaka\n",
      "Processing: FPTOpenSpeechData_Set001_V0.1_000583.mp3\n"
     ]
    },
    {
     "name": "stderr",
     "output_type": "stream",
     "text": [
      "/home/ngo/anaconda3/lib/python3.12/site-packages/whisper/transcribe.py:126: UserWarning: FP16 is not supported on CPU; using FP32 instead\n",
      "  warnings.warn(\"FP16 is not supported on CPU; using FP32 instead\")\n"
     ]
    },
    {
     "name": "stdout",
     "output_type": "stream",
     "text": [
      "reference_text: nhân viên giải thích lý do là máy fax hỏng không thể gửi lệnh chị đặt ra hà nội được\n",
      "predicted_text: nhân viên giải thích lý do là mấy khách hỏng không thể gửi lệnh chỉ đặt ra là được.\n",
      "Processing: FPTOpenSpeechData_Set001_V0.1_000584.mp3\n"
     ]
    },
    {
     "name": "stderr",
     "output_type": "stream",
     "text": [
      "/home/ngo/anaconda3/lib/python3.12/site-packages/whisper/transcribe.py:126: UserWarning: FP16 is not supported on CPU; using FP32 instead\n",
      "  warnings.warn(\"FP16 is not supported on CPU; using FP32 instead\")\n"
     ]
    },
    {
     "name": "stdout",
     "output_type": "stream",
     "text": [
      "reference_text: những ngày hè sôi động và các môn thể thao ngoài trời thật hấp dẫn\n",
      "predicted_text: những ngày hè sôi động và các món thể tháo ngoài trời thật hấp dẫn\n",
      "Processing: FPTOpenSpeechData_Set001_V0.1_000585.mp3\n"
     ]
    },
    {
     "name": "stderr",
     "output_type": "stream",
     "text": [
      "/home/ngo/anaconda3/lib/python3.12/site-packages/whisper/transcribe.py:126: UserWarning: FP16 is not supported on CPU; using FP32 instead\n",
      "  warnings.warn(\"FP16 is not supported on CPU; using FP32 instead\")\n"
     ]
    },
    {
     "name": "stdout",
     "output_type": "stream",
     "text": [
      "reference_text: tàu từ saitama vào ở sân ga nào\n",
      "predicted_text: tàu từ saitama vào ở sân ga nào?\n",
      "Processing: FPTOpenSpeechData_Set001_V0.1_000586.mp3\n"
     ]
    },
    {
     "name": "stderr",
     "output_type": "stream",
     "text": [
      "/home/ngo/anaconda3/lib/python3.12/site-packages/whisper/transcribe.py:126: UserWarning: FP16 is not supported on CPU; using FP32 instead\n",
      "  warnings.warn(\"FP16 is not supported on CPU; using FP32 instead\")\n"
     ]
    },
    {
     "name": "stdout",
     "output_type": "stream",
     "text": [
      "reference_text: tôi bị mất máy ảnh\n",
      "predicted_text: cậu bị mất mạng anh\n",
      "Processing: FPTOpenSpeechData_Set001_V0.1_000587.mp3\n"
     ]
    },
    {
     "name": "stderr",
     "output_type": "stream",
     "text": [
      "/home/ngo/anaconda3/lib/python3.12/site-packages/whisper/transcribe.py:126: UserWarning: FP16 is not supported on CPU; using FP32 instead\n",
      "  warnings.warn(\"FP16 is not supported on CPU; using FP32 instead\")\n"
     ]
    },
    {
     "name": "stdout",
     "output_type": "stream",
     "text": [
      "reference_text: tôi nóng lòng được ăn đồ ăn nhật bản\n",
      "predicted_text: tôi mong lòng được ăn đồ ăn nhật bản\n",
      "Processing: FPTOpenSpeechData_Set001_V0.1_000588.mp3\n"
     ]
    },
    {
     "name": "stderr",
     "output_type": "stream",
     "text": [
      "/home/ngo/anaconda3/lib/python3.12/site-packages/whisper/transcribe.py:126: UserWarning: FP16 is not supported on CPU; using FP32 instead\n",
      "  warnings.warn(\"FP16 is not supported on CPU; using FP32 instead\")\n"
     ]
    },
    {
     "name": "stdout",
     "output_type": "stream",
     "text": [
      "reference_text: các cầu thủ mu ăn mừng bàn thắng\n",
      "predicted_text: sẽ còn một ít ngủ ăn bằng hàng.\n",
      "Processing: FPTOpenSpeechData_Set001_V0.1_000589.mp3\n"
     ]
    },
    {
     "name": "stderr",
     "output_type": "stream",
     "text": [
      "/home/ngo/anaconda3/lib/python3.12/site-packages/whisper/transcribe.py:126: UserWarning: FP16 is not supported on CPU; using FP32 instead\n",
      "  warnings.warn(\"FP16 is not supported on CPU; using FP32 instead\")\n"
     ]
    },
    {
     "name": "stdout",
     "output_type": "stream",
     "text": [
      "reference_text: cô ấy bảo ngưng check in sau mười một giờ đêm\n",
      "predicted_text: cố lên bảo mình xếp in trong 11 giờ đến.\n",
      "Processing: FPTOpenSpeechData_Set001_V0.1_000590.mp3\n"
     ]
    },
    {
     "name": "stderr",
     "output_type": "stream",
     "text": [
      "/home/ngo/anaconda3/lib/python3.12/site-packages/whisper/transcribe.py:126: UserWarning: FP16 is not supported on CPU; using FP32 instead\n",
      "  warnings.warn(\"FP16 is not supported on CPU; using FP32 instead\")\n"
     ]
    },
    {
     "name": "stdout",
     "output_type": "stream",
     "text": [
      "reference_text: anh có bị chuyển động gì trong đầu không\n",
      "predicted_text: anh có bị chuyển động gì trong đầu không?\n",
      "Processing: FPTOpenSpeechData_Set001_V0.1_000591.mp3\n"
     ]
    },
    {
     "name": "stderr",
     "output_type": "stream",
     "text": [
      "/home/ngo/anaconda3/lib/python3.12/site-packages/whisper/transcribe.py:126: UserWarning: FP16 is not supported on CPU; using FP32 instead\n",
      "  warnings.warn(\"FP16 is not supported on CPU; using FP32 instead\")\n"
     ]
    },
    {
     "name": "stdout",
     "output_type": "stream",
     "text": [
      "reference_text: tốn hai mươi phút\n",
      "predicted_text: tốn 20 phút\n",
      "Processing: FPTOpenSpeechData_Set001_V0.1_000592.mp3\n"
     ]
    },
    {
     "name": "stderr",
     "output_type": "stream",
     "text": [
      "/home/ngo/anaconda3/lib/python3.12/site-packages/whisper/transcribe.py:126: UserWarning: FP16 is not supported on CPU; using FP32 instead\n",
      "  warnings.warn(\"FP16 is not supported on CPU; using FP32 instead\")\n"
     ]
    },
    {
     "name": "stdout",
     "output_type": "stream",
     "text": [
      "reference_text: người đàn ông này kém cỏi\n",
      "predicted_text: người đàn ông này kém còi\n",
      "Processing: FPTOpenSpeechData_Set001_V0.1_000593.mp3\n"
     ]
    },
    {
     "name": "stderr",
     "output_type": "stream",
     "text": [
      "/home/ngo/anaconda3/lib/python3.12/site-packages/whisper/transcribe.py:126: UserWarning: FP16 is not supported on CPU; using FP32 instead\n",
      "  warnings.warn(\"FP16 is not supported on CPU; using FP32 instead\")\n"
     ]
    },
    {
     "name": "stdout",
     "output_type": "stream",
     "text": [
      "reference_text: sẻ ngô xanh\n",
      "predicted_text: sẻ hỗ sách\n",
      "Processing: FPTOpenSpeechData_Set001_V0.1_000594.mp3\n"
     ]
    },
    {
     "name": "stderr",
     "output_type": "stream",
     "text": [
      "/home/ngo/anaconda3/lib/python3.12/site-packages/whisper/transcribe.py:126: UserWarning: FP16 is not supported on CPU; using FP32 instead\n",
      "  warnings.warn(\"FP16 is not supported on CPU; using FP32 instead\")\n"
     ]
    },
    {
     "name": "stdout",
     "output_type": "stream",
     "text": [
      "reference_text: phần nào khiến giải thưởng ngành múa khá xôm tụ\n",
      "predicted_text: phần nào khiến giải thưởng ngành múa khá thơm tụ.\n",
      "Processing: FPTOpenSpeechData_Set001_V0.1_000595.mp3\n"
     ]
    },
    {
     "name": "stderr",
     "output_type": "stream",
     "text": [
      "/home/ngo/anaconda3/lib/python3.12/site-packages/whisper/transcribe.py:126: UserWarning: FP16 is not supported on CPU; using FP32 instead\n",
      "  warnings.warn(\"FP16 is not supported on CPU; using FP32 instead\")\n"
     ]
    },
    {
     "name": "stdout",
     "output_type": "stream",
     "text": [
      "reference_text: tôi vẫn không giấu được những nỗi bực dọc\n",
      "predicted_text: tôi vẫn không giấu được những nỗi bực lòng.\n",
      "Processing: FPTOpenSpeechData_Set001_V0.1_000596.mp3\n"
     ]
    },
    {
     "name": "stderr",
     "output_type": "stream",
     "text": [
      "/home/ngo/anaconda3/lib/python3.12/site-packages/whisper/transcribe.py:126: UserWarning: FP16 is not supported on CPU; using FP32 instead\n",
      "  warnings.warn(\"FP16 is not supported on CPU; using FP32 instead\")\n"
     ]
    },
    {
     "name": "stdout",
     "output_type": "stream",
     "text": [
      "reference_text: vĩ bảo những người có tuổi tác ban đầu thường dằn vặt về quá khứ nghĩ về những ngày giữ địa vị ngoài xã hội\n",
      "predicted_text: vĩ bảo, những người có tuổi tác ban đầu thường dằn vặt về quá khứ, nghĩ về những ngày dữ địa vị ngoài xã hội.\n",
      "Processing: FPTOpenSpeechData_Set001_V0.1_000597.mp3\n"
     ]
    },
    {
     "name": "stderr",
     "output_type": "stream",
     "text": [
      "/home/ngo/anaconda3/lib/python3.12/site-packages/whisper/transcribe.py:126: UserWarning: FP16 is not supported on CPU; using FP32 instead\n",
      "  warnings.warn(\"FP16 is not supported on CPU; using FP32 instead\")\n"
     ]
    },
    {
     "name": "stdout",
     "output_type": "stream",
     "text": [
      "reference_text: đầu gối tôi bị va\n",
      "predicted_text: nấu gội cơm mì vác\n",
      "Processing: FPTOpenSpeechData_Set001_V0.1_000598.mp3\n"
     ]
    },
    {
     "name": "stderr",
     "output_type": "stream",
     "text": [
      "/home/ngo/anaconda3/lib/python3.12/site-packages/whisper/transcribe.py:126: UserWarning: FP16 is not supported on CPU; using FP32 instead\n",
      "  warnings.warn(\"FP16 is not supported on CPU; using FP32 instead\")\n"
     ]
    },
    {
     "name": "stdout",
     "output_type": "stream",
     "text": [
      "reference_text: theo đại diện của hãng tất cả các loại hình mai táng truyền thống từ trước tới nay chỉ để lại trong lòng người thân những nỗi buồn thương nặng nề u ám\n",
      "predicted_text: ừ ừ ừ ừ\n",
      "Processing: FPTOpenSpeechData_Set001_V0.1_000599.mp3\n"
     ]
    },
    {
     "name": "stderr",
     "output_type": "stream",
     "text": [
      "/home/ngo/anaconda3/lib/python3.12/site-packages/whisper/transcribe.py:126: UserWarning: FP16 is not supported on CPU; using FP32 instead\n",
      "  warnings.warn(\"FP16 is not supported on CPU; using FP32 instead\")\n"
     ]
    },
    {
     "name": "stdout",
     "output_type": "stream",
     "text": [
      "reference_text: hoàng mai là tuyến đường chính và có nhiều phương tiện lưu thông\n",
      "predicted_text: hàng mai là tuyến đường chính và có nhiều phương tiện luôn không?\n",
      "Processing: FPTOpenSpeechData_Set001_V0.1_000600.mp3\n"
     ]
    },
    {
     "name": "stderr",
     "output_type": "stream",
     "text": [
      "/home/ngo/anaconda3/lib/python3.12/site-packages/whisper/transcribe.py:126: UserWarning: FP16 is not supported on CPU; using FP32 instead\n",
      "  warnings.warn(\"FP16 is not supported on CPU; using FP32 instead\")\n"
     ]
    },
    {
     "name": "stdout",
     "output_type": "stream",
     "text": [
      "reference_text: bật\n",
      "predicted_text: bác\n",
      "Processing: FPTOpenSpeechData_Set001_V0.1_000601.mp3\n"
     ]
    },
    {
     "name": "stderr",
     "output_type": "stream",
     "text": [
      "/home/ngo/anaconda3/lib/python3.12/site-packages/whisper/transcribe.py:126: UserWarning: FP16 is not supported on CPU; using FP32 instead\n",
      "  warnings.warn(\"FP16 is not supported on CPU; using FP32 instead\")\n"
     ]
    },
    {
     "name": "stdout",
     "output_type": "stream",
     "text": [
      "reference_text: khi hai người đến tên hôn bất ngờ từ trong nhà gần đó chạy ra tay cầm chiếc rựa lao thẳng vào chém anh lê văn sửu\n",
      "predicted_text: khi hai người đối tên hôn bất ngờ từ trong nhà gần đó chạy ra, tay cầm chiếc cửa, lao thẳng vào chém anh lê văn dũng.\n",
      "Processing: FPTOpenSpeechData_Set001_V0.1_000602.mp3\n"
     ]
    },
    {
     "name": "stderr",
     "output_type": "stream",
     "text": [
      "/home/ngo/anaconda3/lib/python3.12/site-packages/whisper/transcribe.py:126: UserWarning: FP16 is not supported on CPU; using FP32 instead\n",
      "  warnings.warn(\"FP16 is not supported on CPU; using FP32 instead\")\n"
     ]
    },
    {
     "name": "stdout",
     "output_type": "stream",
     "text": [
      "reference_text: có ánh chớp lóe hắt lên vách liếp -n cây gậy rễ si\n",
      "predicted_text: cô anh chụp lệ hắt lên vách liệp một cây vầy rễ xiên.\n",
      "Processing: FPTOpenSpeechData_Set001_V0.1_000603.mp3\n"
     ]
    },
    {
     "name": "stderr",
     "output_type": "stream",
     "text": [
      "/home/ngo/anaconda3/lib/python3.12/site-packages/whisper/transcribe.py:126: UserWarning: FP16 is not supported on CPU; using FP32 instead\n",
      "  warnings.warn(\"FP16 is not supported on CPU; using FP32 instead\")\n"
     ]
    },
    {
     "name": "stdout",
     "output_type": "stream",
     "text": [
      "reference_text: chúng tôi đi chung\n",
      "predicted_text: chúng ta đi chung.\n",
      "Processing: FPTOpenSpeechData_Set001_V0.1_000604.mp3\n"
     ]
    },
    {
     "name": "stderr",
     "output_type": "stream",
     "text": [
      "/home/ngo/anaconda3/lib/python3.12/site-packages/whisper/transcribe.py:126: UserWarning: FP16 is not supported on CPU; using FP32 instead\n",
      "  warnings.warn(\"FP16 is not supported on CPU; using FP32 instead\")\n"
     ]
    },
    {
     "name": "stdout",
     "output_type": "stream",
     "text": [
      "reference_text: chín mươi hai chín mươi ba\n",
      "predicted_text: 912, 913\n",
      "Processing: FPTOpenSpeechData_Set001_V0.1_000605.mp3\n"
     ]
    },
    {
     "name": "stderr",
     "output_type": "stream",
     "text": [
      "/home/ngo/anaconda3/lib/python3.12/site-packages/whisper/transcribe.py:126: UserWarning: FP16 is not supported on CPU; using FP32 instead\n",
      "  warnings.warn(\"FP16 is not supported on CPU; using FP32 instead\")\n"
     ]
    },
    {
     "name": "stdout",
     "output_type": "stream",
     "text": [
      "reference_text: cài đặt lại phần mềm tốn cả ngày\n",
      "predicted_text: cài đặt lại phần mềm tốn cả ngày.\n",
      "Processing: FPTOpenSpeechData_Set001_V0.1_000606.mp3\n"
     ]
    },
    {
     "name": "stderr",
     "output_type": "stream",
     "text": [
      "/home/ngo/anaconda3/lib/python3.12/site-packages/whisper/transcribe.py:126: UserWarning: FP16 is not supported on CPU; using FP32 instead\n",
      "  warnings.warn(\"FP16 is not supported on CPU; using FP32 instead\")\n"
     ]
    },
    {
     "name": "stdout",
     "output_type": "stream",
     "text": [
      "reference_text: chỗ ngồi này không có trong khu này\n",
      "predicted_text: chỗ ngồi này không có trong khu này.\n",
      "Processing: FPTOpenSpeechData_Set001_V0.1_000607.mp3\n"
     ]
    },
    {
     "name": "stderr",
     "output_type": "stream",
     "text": [
      "/home/ngo/anaconda3/lib/python3.12/site-packages/whisper/transcribe.py:126: UserWarning: FP16 is not supported on CPU; using FP32 instead\n",
      "  warnings.warn(\"FP16 is not supported on CPU; using FP32 instead\")\n"
     ]
    },
    {
     "name": "stdout",
     "output_type": "stream",
     "text": [
      "reference_text: anh có thể chỉ cho tôi cách ăn món này được không\n",
      "predicted_text: anh có thể chỉ cho tôi cách ăn món này được không?\n",
      "Processing: FPTOpenSpeechData_Set001_V0.1_000608.mp3\n"
     ]
    },
    {
     "name": "stderr",
     "output_type": "stream",
     "text": [
      "/home/ngo/anaconda3/lib/python3.12/site-packages/whisper/transcribe.py:126: UserWarning: FP16 is not supported on CPU; using FP32 instead\n",
      "  warnings.warn(\"FP16 is not supported on CPU; using FP32 instead\")\n"
     ]
    },
    {
     "name": "stdout",
     "output_type": "stream",
     "text": [
      "reference_text: có khá gần\n",
      "predicted_text: có khá gần\n",
      "Processing: FPTOpenSpeechData_Set001_V0.1_000609.mp3\n"
     ]
    },
    {
     "name": "stderr",
     "output_type": "stream",
     "text": [
      "/home/ngo/anaconda3/lib/python3.12/site-packages/whisper/transcribe.py:126: UserWarning: FP16 is not supported on CPU; using FP32 instead\n",
      "  warnings.warn(\"FP16 is not supported on CPU; using FP32 instead\")\n"
     ]
    },
    {
     "name": "stdout",
     "output_type": "stream",
     "text": [
      "reference_text: cái nào gần nhất\n",
      "predicted_text: cãi nào gần nhất?\n",
      "Processing: FPTOpenSpeechData_Set001_V0.1_000610.mp3\n"
     ]
    },
    {
     "name": "stderr",
     "output_type": "stream",
     "text": [
      "/home/ngo/anaconda3/lib/python3.12/site-packages/whisper/transcribe.py:126: UserWarning: FP16 is not supported on CPU; using FP32 instead\n",
      "  warnings.warn(\"FP16 is not supported on CPU; using FP32 instead\")\n"
     ]
    },
    {
     "name": "stdout",
     "output_type": "stream",
     "text": [
      "reference_text: tôi sẽ nói lại với chị sau cám ơn chị rất nhiều tạm biệt\n",
      "predicted_text: cô sẽ đổi lại với chị châu. cảm ơn chị rất nhiều. tạm biệt.\n",
      "Processing: FPTOpenSpeechData_Set001_V0.1_000611.mp3\n"
     ]
    },
    {
     "name": "stderr",
     "output_type": "stream",
     "text": [
      "/home/ngo/anaconda3/lib/python3.12/site-packages/whisper/transcribe.py:126: UserWarning: FP16 is not supported on CPU; using FP32 instead\n",
      "  warnings.warn(\"FP16 is not supported on CPU; using FP32 instead\")\n"
     ]
    },
    {
     "name": "stdout",
     "output_type": "stream",
     "text": [
      "reference_text: bạn đã bỏ lỡ một cơ hội hay đã bỏ lỡ thứ gì đó\n",
      "predicted_text: bạn đã bỏ lỡ một cơ hội hay đã bỏ lỡ thứ gì đó?\n",
      "Processing: FPTOpenSpeechData_Set001_V0.1_000612.mp3\n"
     ]
    },
    {
     "name": "stderr",
     "output_type": "stream",
     "text": [
      "/home/ngo/anaconda3/lib/python3.12/site-packages/whisper/transcribe.py:126: UserWarning: FP16 is not supported on CPU; using FP32 instead\n",
      "  warnings.warn(\"FP16 is not supported on CPU; using FP32 instead\")\n"
     ]
    },
    {
     "name": "stdout",
     "output_type": "stream",
     "text": [
      "reference_text: tôi muốn tham gia một tua thành phố\n",
      "predicted_text: tôi muốn tham gia một tour thành phố.\n",
      "Processing: FPTOpenSpeechData_Set001_V0.1_000613.mp3\n"
     ]
    },
    {
     "name": "stderr",
     "output_type": "stream",
     "text": [
      "/home/ngo/anaconda3/lib/python3.12/site-packages/whisper/transcribe.py:126: UserWarning: FP16 is not supported on CPU; using FP32 instead\n",
      "  warnings.warn(\"FP16 is not supported on CPU; using FP32 instead\")\n"
     ]
    },
    {
     "name": "stdout",
     "output_type": "stream",
     "text": [
      "reference_text: người dân cố thủ tại chung cư sắp sập\n",
      "predicted_text: người dân cố thủ tại chung cư sắp sập\n",
      "Processing: FPTOpenSpeechData_Set001_V0.1_000614.mp3\n"
     ]
    },
    {
     "name": "stderr",
     "output_type": "stream",
     "text": [
      "/home/ngo/anaconda3/lib/python3.12/site-packages/whisper/transcribe.py:126: UserWarning: FP16 is not supported on CPU; using FP32 instead\n",
      "  warnings.warn(\"FP16 is not supported on CPU; using FP32 instead\")\n"
     ]
    },
    {
     "name": "stdout",
     "output_type": "stream",
     "text": [
      "reference_text: tốn thêm hai đô la mỗi cuộn bạn có muốn in hai lần không\n",
      "predicted_text: thêm 2 đô la mỗi buổi buồn bàn gọi 1925 không?\n",
      "Processing: FPTOpenSpeechData_Set001_V0.1_000615.mp3\n"
     ]
    },
    {
     "name": "stderr",
     "output_type": "stream",
     "text": [
      "/home/ngo/anaconda3/lib/python3.12/site-packages/whisper/transcribe.py:126: UserWarning: FP16 is not supported on CPU; using FP32 instead\n",
      "  warnings.warn(\"FP16 is not supported on CPU; using FP32 instead\")\n"
     ]
    },
    {
     "name": "stdout",
     "output_type": "stream",
     "text": [
      "reference_text: lá chắn nhỏ nhất để không bị phá sản là sở đúc tiền của mỹ bằng khả năng của mình họ đã sản xuất những đồng dollar mỹ và độc quyền về giá trị của nó\n",
      "predicted_text: nhã chấm nhỏ nhất để không bị phá sản là thả rút tiền của mỹ. bằng khả năng của mình, họ đã sản xuất những đồng đô la mỹ và độc quyền về giá trị của nó.\n",
      "Processing: FPTOpenSpeechData_Set001_V0.1_000616.mp3\n"
     ]
    },
    {
     "name": "stderr",
     "output_type": "stream",
     "text": [
      "/home/ngo/anaconda3/lib/python3.12/site-packages/whisper/transcribe.py:126: UserWarning: FP16 is not supported on CPU; using FP32 instead\n",
      "  warnings.warn(\"FP16 is not supported on CPU; using FP32 instead\")\n"
     ]
    },
    {
     "name": "stdout",
     "output_type": "stream",
     "text": [
      "reference_text: theo tỉ giá hiện nay tôi sẽ nhận được bao nhiêu euro\n",
      "predicted_text: theo tỷ giá hiện nay, tôi sẽ nhận được bao nhiêu euro?\n",
      "Processing: FPTOpenSpeechData_Set001_V0.1_000617.mp3\n"
     ]
    },
    {
     "name": "stderr",
     "output_type": "stream",
     "text": [
      "/home/ngo/anaconda3/lib/python3.12/site-packages/whisper/transcribe.py:126: UserWarning: FP16 is not supported on CPU; using FP32 instead\n",
      "  warnings.warn(\"FP16 is not supported on CPU; using FP32 instead\")\n"
     ]
    },
    {
     "name": "stdout",
     "output_type": "stream",
     "text": [
      "reference_text: cái này có bảo hành không\n",
      "predicted_text: đại này có bảo hành không?\n",
      "Processing: FPTOpenSpeechData_Set001_V0.1_000618.mp3\n"
     ]
    },
    {
     "name": "stderr",
     "output_type": "stream",
     "text": [
      "/home/ngo/anaconda3/lib/python3.12/site-packages/whisper/transcribe.py:126: UserWarning: FP16 is not supported on CPU; using FP32 instead\n",
      "  warnings.warn(\"FP16 is not supported on CPU; using FP32 instead\")\n"
     ]
    },
    {
     "name": "stdout",
     "output_type": "stream",
     "text": [
      "reference_text: tôi đang dùng insulin\n",
      "predicted_text: tôi đang dùng insulin\n",
      "Processing: FPTOpenSpeechData_Set001_V0.1_000619.mp3\n"
     ]
    },
    {
     "name": "stderr",
     "output_type": "stream",
     "text": [
      "/home/ngo/anaconda3/lib/python3.12/site-packages/whisper/transcribe.py:126: UserWarning: FP16 is not supported on CPU; using FP32 instead\n",
      "  warnings.warn(\"FP16 is not supported on CPU; using FP32 instead\")\n"
     ]
    },
    {
     "name": "stdout",
     "output_type": "stream",
     "text": [
      "reference_text: chẳng phải là bệnh hiểm nghèo nhưng trĩ vẫn là bệnh gây khó chịu cho bệnh nhân bởi làm cản trở công việc của họ lúc làm việc cũng như lúc ngủ họ vẫn phải lo nghĩ giáo sư nghĩa nói\n",
      "predicted_text: chẳng phải là bệnh hiểm nghèo nhưng chỉ vẫn là bệnh tê khó chịu cho bệnh nhân, bởi làm cản trở công việc của họ, lúc làm việc cũng như lúc ngủ, họ vẫn phải lo nghĩ, giáo dư nghĩa loái.\n",
      "Processing: FPTOpenSpeechData_Set001_V0.1_000620.mp3\n"
     ]
    },
    {
     "name": "stderr",
     "output_type": "stream",
     "text": [
      "/home/ngo/anaconda3/lib/python3.12/site-packages/whisper/transcribe.py:126: UserWarning: FP16 is not supported on CPU; using FP32 instead\n",
      "  warnings.warn(\"FP16 is not supported on CPU; using FP32 instead\")\n"
     ]
    },
    {
     "name": "stdout",
     "output_type": "stream",
     "text": [
      "reference_text: xin lỗi anh có thể lĩnh tiền mặt cái này không\n",
      "predicted_text: xin lỗi, anh có thể bị chuyển mặt cái này không?\n",
      "Processing: FPTOpenSpeechData_Set001_V0.1_000621.mp3\n"
     ]
    },
    {
     "name": "stderr",
     "output_type": "stream",
     "text": [
      "/home/ngo/anaconda3/lib/python3.12/site-packages/whisper/transcribe.py:126: UserWarning: FP16 is not supported on CPU; using FP32 instead\n",
      "  warnings.warn(\"FP16 is not supported on CPU; using FP32 instead\")\n"
     ]
    },
    {
     "name": "stdout",
     "output_type": "stream",
     "text": [
      "reference_text: đó là điềm\n",
      "predicted_text: đó là điểm.\n",
      "Processing: FPTOpenSpeechData_Set001_V0.1_000622.mp3\n"
     ]
    },
    {
     "name": "stderr",
     "output_type": "stream",
     "text": [
      "/home/ngo/anaconda3/lib/python3.12/site-packages/whisper/transcribe.py:126: UserWarning: FP16 is not supported on CPU; using FP32 instead\n",
      "  warnings.warn(\"FP16 is not supported on CPU; using FP32 instead\")\n"
     ]
    },
    {
     "name": "stdout",
     "output_type": "stream",
     "text": [
      "reference_text: cần phải bỏ những suy nghĩ cũ kỹ cổ hủ diện bộ cánh nhã nhặn vừa vặn sẽ giúp hà đẹp hơn ở lễ hỏi cưới\n",
      "predicted_text: cần phải bỏ những suy nghĩ cũ, kỹ, cầu hủ, điện, bộ, cánh, nhã nhạc vừa vặn sẽ giúp hàm đẹp hơn ở lễ hồi cưới.\n",
      "Processing: FPTOpenSpeechData_Set001_V0.1_000623.mp3\n"
     ]
    },
    {
     "name": "stderr",
     "output_type": "stream",
     "text": [
      "/home/ngo/anaconda3/lib/python3.12/site-packages/whisper/transcribe.py:126: UserWarning: FP16 is not supported on CPU; using FP32 instead\n",
      "  warnings.warn(\"FP16 is not supported on CPU; using FP32 instead\")\n"
     ]
    },
    {
     "name": "stdout",
     "output_type": "stream",
     "text": [
      "reference_text: kiếm được tiền dễ dàng nên vượng rất hào phóng sẵn sàng chiêu đãi lũ bạn ở nhà sang trọng hay đàn đúm ở chốn ăn chơi\n",
      "predicted_text: kính được tiền dễ dàng nên vương rất hào hóa, sẵn sàng chiêu đại lộ bạn ở nhà sáng trọng hay đàn đấm ở trong con chơi.\n",
      "Processing: FPTOpenSpeechData_Set001_V0.1_000624.mp3\n"
     ]
    },
    {
     "name": "stderr",
     "output_type": "stream",
     "text": [
      "/home/ngo/anaconda3/lib/python3.12/site-packages/whisper/transcribe.py:126: UserWarning: FP16 is not supported on CPU; using FP32 instead\n",
      "  warnings.warn(\"FP16 is not supported on CPU; using FP32 instead\")\n"
     ]
    },
    {
     "name": "stdout",
     "output_type": "stream",
     "text": [
      "reference_text: cửa trài còn gọi là mang cá nhỏ\n",
      "predicted_text: cựa chai còn gọi là mang cá nhỏ.\n",
      "Processing: FPTOpenSpeechData_Set001_V0.1_000625.mp3\n"
     ]
    },
    {
     "name": "stderr",
     "output_type": "stream",
     "text": [
      "/home/ngo/anaconda3/lib/python3.12/site-packages/whisper/transcribe.py:126: UserWarning: FP16 is not supported on CPU; using FP32 instead\n",
      "  warnings.warn(\"FP16 is not supported on CPU; using FP32 instead\")\n"
     ]
    },
    {
     "name": "stdout",
     "output_type": "stream",
     "text": [
      "reference_text: họ khẩn trương gói ghém hành lý rồi ra sân bay\n",
      "predicted_text: học phần trường sở dạng hình đi vơi ra bên bãi.\n",
      "Processing: FPTOpenSpeechData_Set001_V0.1_000626.mp3\n"
     ]
    },
    {
     "name": "stderr",
     "output_type": "stream",
     "text": [
      "/home/ngo/anaconda3/lib/python3.12/site-packages/whisper/transcribe.py:126: UserWarning: FP16 is not supported on CPU; using FP32 instead\n",
      "  warnings.warn(\"FP16 is not supported on CPU; using FP32 instead\")\n"
     ]
    },
    {
     "name": "stdout",
     "output_type": "stream",
     "text": [
      "reference_text: ti vi giảm âm lượng về không\n",
      "predicted_text: tv giảm âm lượng về 0\n",
      "Processing: FPTOpenSpeechData_Set001_V0.1_000627.mp3\n"
     ]
    },
    {
     "name": "stderr",
     "output_type": "stream",
     "text": [
      "/home/ngo/anaconda3/lib/python3.12/site-packages/whisper/transcribe.py:126: UserWarning: FP16 is not supported on CPU; using FP32 instead\n",
      "  warnings.warn(\"FP16 is not supported on CPU; using FP32 instead\")\n"
     ]
    },
    {
     "name": "stdout",
     "output_type": "stream",
     "text": [
      "reference_text: xin lỗi chải tóc tôi giống như hình này\n",
      "predicted_text: xin lỗi, trải tóc tôi giống như hình này.\n",
      "Processing: FPTOpenSpeechData_Set001_V0.1_000628.mp3\n"
     ]
    },
    {
     "name": "stderr",
     "output_type": "stream",
     "text": [
      "/home/ngo/anaconda3/lib/python3.12/site-packages/whisper/transcribe.py:126: UserWarning: FP16 is not supported on CPU; using FP32 instead\n",
      "  warnings.warn(\"FP16 is not supported on CPU; using FP32 instead\")\n"
     ]
    },
    {
     "name": "stdout",
     "output_type": "stream",
     "text": [
      "reference_text: kinh tế mỹ tiếp tục lún sâu thêm vào khủng hoảng\n",
      "predicted_text: kinh tế mỹ tiếp tục lúc sau thêm vào cuộc hoạt\n",
      "Processing: FPTOpenSpeechData_Set001_V0.1_000629.mp3\n"
     ]
    },
    {
     "name": "stderr",
     "output_type": "stream",
     "text": [
      "/home/ngo/anaconda3/lib/python3.12/site-packages/whisper/transcribe.py:126: UserWarning: FP16 is not supported on CPU; using FP32 instead\n",
      "  warnings.warn(\"FP16 is not supported on CPU; using FP32 instead\")\n"
     ]
    },
    {
     "name": "stdout",
     "output_type": "stream",
     "text": [
      "reference_text: vui lòng cho tôi xem cái đồng hồ thứ ba ở bên trái\n",
      "predicted_text: đường thì tôi xem cái ảnh đồng hồ thự 3 ở bên trái\n",
      "Processing: FPTOpenSpeechData_Set001_V0.1_000630.mp3\n"
     ]
    },
    {
     "name": "stderr",
     "output_type": "stream",
     "text": [
      "/home/ngo/anaconda3/lib/python3.12/site-packages/whisper/transcribe.py:126: UserWarning: FP16 is not supported on CPU; using FP32 instead\n",
      "  warnings.warn(\"FP16 is not supported on CPU; using FP32 instead\")\n"
     ]
    },
    {
     "name": "stdout",
     "output_type": "stream",
     "text": [
      "reference_text: bé thiêm nhiều đêm đang ngủ cứ giật mình mếu máo bố ơi mẹ ơi khiến thằng trường phải ngồi dậy dỗ em suốt đêm\n",
      "predicted_text: bé kim nhiều đêm đang ngủ cứ giật mình méo máu bố ơi mẹ ơi, khiến thằng trường phải ngồi dậy dỗ em suốt đêm.\n",
      "Processing: FPTOpenSpeechData_Set001_V0.1_000631.mp3\n"
     ]
    },
    {
     "name": "stderr",
     "output_type": "stream",
     "text": [
      "/home/ngo/anaconda3/lib/python3.12/site-packages/whisper/transcribe.py:126: UserWarning: FP16 is not supported on CPU; using FP32 instead\n",
      "  warnings.warn(\"FP16 is not supported on CPU; using FP32 instead\")\n"
     ]
    },
    {
     "name": "stdout",
     "output_type": "stream",
     "text": [
      "reference_text: giảm nhiệt độ xuống hai mươi lăm độ\n",
      "predicted_text: giảm nhiệt độ xuống 25 độ.\n",
      "Processing: FPTOpenSpeechData_Set001_V0.1_000632.mp3\n"
     ]
    },
    {
     "name": "stderr",
     "output_type": "stream",
     "text": [
      "/home/ngo/anaconda3/lib/python3.12/site-packages/whisper/transcribe.py:126: UserWarning: FP16 is not supported on CPU; using FP32 instead\n",
      "  warnings.warn(\"FP16 is not supported on CPU; using FP32 instead\")\n"
     ]
    },
    {
     "name": "stdout",
     "output_type": "stream",
     "text": [
      "reference_text: hằng ngày làm mặt lạnh với nhau nhưng những dịp phải dự cưới hỏi cỗ bàn cô vẫn diện thật đẹp tháp tùng chồng cười nói rất vui vẻ\n",
      "predicted_text: hàng ngày nằm mặt nạnh với nhau nhưng những gì phải dựng dưới hỏi cổ bàn cô vẫn diện thật đẹp, phát tùng trồng, gời lói rất vui vẻ.\n",
      "Processing: FPTOpenSpeechData_Set001_V0.1_000633.mp3\n"
     ]
    },
    {
     "name": "stderr",
     "output_type": "stream",
     "text": [
      "/home/ngo/anaconda3/lib/python3.12/site-packages/whisper/transcribe.py:126: UserWarning: FP16 is not supported on CPU; using FP32 instead\n",
      "  warnings.warn(\"FP16 is not supported on CPU; using FP32 instead\")\n"
     ]
    },
    {
     "name": "stdout",
     "output_type": "stream",
     "text": [
      "reference_text: để luôn nhớ mình là sinh viên việt\n",
      "predicted_text: để luôn nhớ mình là sinh viên vị.\n",
      "Processing: FPTOpenSpeechData_Set001_V0.1_000634.mp3\n"
     ]
    },
    {
     "name": "stderr",
     "output_type": "stream",
     "text": [
      "/home/ngo/anaconda3/lib/python3.12/site-packages/whisper/transcribe.py:126: UserWarning: FP16 is not supported on CPU; using FP32 instead\n",
      "  warnings.warn(\"FP16 is not supported on CPU; using FP32 instead\")\n"
     ]
    },
    {
     "name": "stdout",
     "output_type": "stream",
     "text": [
      "reference_text: tôi muốn anh khuyên tôi về\n",
      "predicted_text: cùng 1 anh trên đời về\n",
      "Processing: FPTOpenSpeechData_Set001_V0.1_000635.mp3\n"
     ]
    },
    {
     "name": "stderr",
     "output_type": "stream",
     "text": [
      "/home/ngo/anaconda3/lib/python3.12/site-packages/whisper/transcribe.py:126: UserWarning: FP16 is not supported on CPU; using FP32 instead\n",
      "  warnings.warn(\"FP16 is not supported on CPU; using FP32 instead\")\n"
     ]
    },
    {
     "name": "stdout",
     "output_type": "stream",
     "text": [
      "reference_text: tên cuối là gì\n",
      "predicted_text: tình huynh là gì?\n",
      "Processing: FPTOpenSpeechData_Set001_V0.1_000636.mp3\n"
     ]
    },
    {
     "name": "stderr",
     "output_type": "stream",
     "text": [
      "/home/ngo/anaconda3/lib/python3.12/site-packages/whisper/transcribe.py:126: UserWarning: FP16 is not supported on CPU; using FP32 instead\n",
      "  warnings.warn(\"FP16 is not supported on CPU; using FP32 instead\")\n"
     ]
    },
    {
     "name": "stdout",
     "output_type": "stream",
     "text": [
      "reference_text: rất hân hạnh khi nào tôi sẽ gặp lại\n",
      "predicted_text: cứ thân hạnh, khi nào tôi sẽ gặp lại.\n",
      "Processing: FPTOpenSpeechData_Set001_V0.1_000637.mp3\n"
     ]
    },
    {
     "name": "stderr",
     "output_type": "stream",
     "text": [
      "/home/ngo/anaconda3/lib/python3.12/site-packages/whisper/transcribe.py:126: UserWarning: FP16 is not supported on CPU; using FP32 instead\n",
      "  warnings.warn(\"FP16 is not supported on CPU; using FP32 instead\")\n"
     ]
    },
    {
     "name": "stdout",
     "output_type": "stream",
     "text": [
      "reference_text: tên tôi là senko yamada chuyến bay jal không không hai đến tokyo\n",
      "predicted_text: tên tôi là tenko yamada, chuyến bay gal 0024 tokyo.\n",
      "Processing: FPTOpenSpeechData_Set001_V0.1_000638.mp3\n"
     ]
    },
    {
     "name": "stderr",
     "output_type": "stream",
     "text": [
      "/home/ngo/anaconda3/lib/python3.12/site-packages/whisper/transcribe.py:126: UserWarning: FP16 is not supported on CPU; using FP32 instead\n",
      "  warnings.warn(\"FP16 is not supported on CPU; using FP32 instead\")\n"
     ]
    },
    {
     "name": "stdout",
     "output_type": "stream",
     "text": [
      "reference_text: tổng số tiền là hai trăm bốn mươi ba pound thưa mẹ\n",
      "predicted_text: trong phổ biến là 253 phao cơ mẹ.\n",
      "Processing: FPTOpenSpeechData_Set001_V0.1_000639.mp3\n"
     ]
    },
    {
     "name": "stderr",
     "output_type": "stream",
     "text": [
      "/home/ngo/anaconda3/lib/python3.12/site-packages/whisper/transcribe.py:126: UserWarning: FP16 is not supported on CPU; using FP32 instead\n",
      "  warnings.warn(\"FP16 is not supported on CPU; using FP32 instead\")\n"
     ]
    },
    {
     "name": "stdout",
     "output_type": "stream",
     "text": [
      "reference_text: tôi muốn mua cái này cỡ trung bình\n",
      "predicted_text: tôi muốn mua cái này cờ chú bình.\n",
      "Processing: FPTOpenSpeechData_Set001_V0.1_000640.mp3\n"
     ]
    },
    {
     "name": "stderr",
     "output_type": "stream",
     "text": [
      "/home/ngo/anaconda3/lib/python3.12/site-packages/whisper/transcribe.py:126: UserWarning: FP16 is not supported on CPU; using FP32 instead\n",
      "  warnings.warn(\"FP16 is not supported on CPU; using FP32 instead\")\n"
     ]
    },
    {
     "name": "stdout",
     "output_type": "stream",
     "text": [
      "reference_text: giám đốc và có lẽ là chủ nhân của một trường đàm thoại anh ngữ\n",
      "predicted_text: giám đốc ba cọ lè là chủ nhân của một trường nam thoài, anh hữu.\n",
      "Processing: FPTOpenSpeechData_Set001_V0.1_000641.mp3\n"
     ]
    },
    {
     "name": "stderr",
     "output_type": "stream",
     "text": [
      "/home/ngo/anaconda3/lib/python3.12/site-packages/whisper/transcribe.py:126: UserWarning: FP16 is not supported on CPU; using FP32 instead\n",
      "  warnings.warn(\"FP16 is not supported on CPU; using FP32 instead\")\n"
     ]
    },
    {
     "name": "stdout",
     "output_type": "stream",
     "text": [
      "reference_text: kênh một ti vi\n",
      "predicted_text: kênh mọc tv\n",
      "Processing: FPTOpenSpeechData_Set001_V0.1_000642.mp3\n"
     ]
    },
    {
     "name": "stderr",
     "output_type": "stream",
     "text": [
      "/home/ngo/anaconda3/lib/python3.12/site-packages/whisper/transcribe.py:126: UserWarning: FP16 is not supported on CPU; using FP32 instead\n",
      "  warnings.warn(\"FP16 is not supported on CPU; using FP32 instead\")\n"
     ]
    },
    {
     "name": "stdout",
     "output_type": "stream",
     "text": [
      "reference_text: có phải nó thực sự khó hiểu vậy không\n",
      "predicted_text: có phải nó thực sự có hiểu vậy không?\n",
      "Processing: FPTOpenSpeechData_Set001_V0.1_000643.mp3\n"
     ]
    },
    {
     "name": "stderr",
     "output_type": "stream",
     "text": [
      "/home/ngo/anaconda3/lib/python3.12/site-packages/whisper/transcribe.py:126: UserWarning: FP16 is not supported on CPU; using FP32 instead\n",
      "  warnings.warn(\"FP16 is not supported on CPU; using FP32 instead\")\n"
     ]
    },
    {
     "name": "stdout",
     "output_type": "stream",
     "text": [
      "reference_text: tôi sẽ trở về vào một ngày trong tuần\n",
      "predicted_text: tối xe kèo v312 trong quần\n",
      "Processing: FPTOpenSpeechData_Set001_V0.1_000644.mp3\n"
     ]
    },
    {
     "name": "stderr",
     "output_type": "stream",
     "text": [
      "/home/ngo/anaconda3/lib/python3.12/site-packages/whisper/transcribe.py:126: UserWarning: FP16 is not supported on CPU; using FP32 instead\n",
      "  warnings.warn(\"FP16 is not supported on CPU; using FP32 instead\")\n"
     ]
    },
    {
     "name": "stdout",
     "output_type": "stream",
     "text": [
      "reference_text: có đủ thời gian để chuyển xe không\n",
      "predicted_text: có đủ thời gian để chuyển xe không?\n",
      "Processing: FPTOpenSpeechData_Set001_V0.1_000645.mp3\n"
     ]
    },
    {
     "name": "stderr",
     "output_type": "stream",
     "text": [
      "/home/ngo/anaconda3/lib/python3.12/site-packages/whisper/transcribe.py:126: UserWarning: FP16 is not supported on CPU; using FP32 instead\n",
      "  warnings.warn(\"FP16 is not supported on CPU; using FP32 instead\")\n"
     ]
    },
    {
     "name": "stdout",
     "output_type": "stream",
     "text": [
      "reference_text: ồ tôi đã lỡ trạm dừng xe bít của mình tôi phải làm gì\n",
      "predicted_text: ồ, tôi đã lỡ chạm đường xe buýt của mình, có phải làm gì?\n",
      "Processing: FPTOpenSpeechData_Set001_V0.1_000646.mp3\n"
     ]
    },
    {
     "name": "stderr",
     "output_type": "stream",
     "text": [
      "/home/ngo/anaconda3/lib/python3.12/site-packages/whisper/transcribe.py:126: UserWarning: FP16 is not supported on CPU; using FP32 instead\n",
      "  warnings.warn(\"FP16 is not supported on CPU; using FP32 instead\")\n"
     ]
    },
    {
     "name": "stdout",
     "output_type": "stream",
     "text": [
      "reference_text: tiếc quá tôi phải làm gì bây giờ\n",
      "predicted_text: kiếp quá, tôi phải làm gì bây giờ?\n",
      "Processing: FPTOpenSpeechData_Set001_V0.1_000647.mp3\n"
     ]
    },
    {
     "name": "stderr",
     "output_type": "stream",
     "text": [
      "/home/ngo/anaconda3/lib/python3.12/site-packages/whisper/transcribe.py:126: UserWarning: FP16 is not supported on CPU; using FP32 instead\n",
      "  warnings.warn(\"FP16 is not supported on CPU; using FP32 instead\")\n"
     ]
    },
    {
     "name": "stdout",
     "output_type": "stream",
     "text": [
      "reference_text: một mẩu lui về phía sau đầu còn mẩu kia hướng về phía trước mõm\n",
      "predicted_text: một mẫu rui về phía sau đầu, còn mẫu kia hướng về phía trước mọi.\n",
      "Processing: FPTOpenSpeechData_Set001_V0.1_000648.mp3\n"
     ]
    },
    {
     "name": "stderr",
     "output_type": "stream",
     "text": [
      "/home/ngo/anaconda3/lib/python3.12/site-packages/whisper/transcribe.py:126: UserWarning: FP16 is not supported on CPU; using FP32 instead\n",
      "  warnings.warn(\"FP16 is not supported on CPU; using FP32 instead\")\n"
     ]
    },
    {
     "name": "stdout",
     "output_type": "stream",
     "text": [
      "reference_text: tôi muốn mua một phong bì\n",
      "predicted_text: tối mực 10b\n",
      "Processing: FPTOpenSpeechData_Set001_V0.1_000649.mp3\n"
     ]
    },
    {
     "name": "stderr",
     "output_type": "stream",
     "text": [
      "/home/ngo/anaconda3/lib/python3.12/site-packages/whisper/transcribe.py:126: UserWarning: FP16 is not supported on CPU; using FP32 instead\n",
      "  warnings.warn(\"FP16 is not supported on CPU; using FP32 instead\")\n"
     ]
    },
    {
     "name": "stdout",
     "output_type": "stream",
     "text": [
      "reference_text: đưa tôi về khách sạn\n",
      "predicted_text: đưa tôi về cái xã.\n",
      "Processing: FPTOpenSpeechData_Set001_V0.1_000650.mp3\n"
     ]
    },
    {
     "name": "stderr",
     "output_type": "stream",
     "text": [
      "/home/ngo/anaconda3/lib/python3.12/site-packages/whisper/transcribe.py:126: UserWarning: FP16 is not supported on CPU; using FP32 instead\n",
      "  warnings.warn(\"FP16 is not supported on CPU; using FP32 instead\")\n"
     ]
    },
    {
     "name": "stdout",
     "output_type": "stream",
     "text": [
      "reference_text: dự luật này được trông đợi sẽ thu hút được sự ủng hộ từ các đảng\n",
      "predicted_text: dự luật này được trông đạt sẽ thu hút được sự ủng hộ từ các đảng.\n",
      "Processing: FPTOpenSpeechData_Set001_V0.1_000651.mp3\n"
     ]
    },
    {
     "name": "stderr",
     "output_type": "stream",
     "text": [
      "/home/ngo/anaconda3/lib/python3.12/site-packages/whisper/transcribe.py:126: UserWarning: FP16 is not supported on CPU; using FP32 instead\n",
      "  warnings.warn(\"FP16 is not supported on CPU; using FP32 instead\")\n"
     ]
    },
    {
     "name": "stdout",
     "output_type": "stream",
     "text": [
      "reference_text: rủ nhau kết lại với ông để hình thành ban từ thiện dân lập gồm đủ ngành nghề thợ mộc thợ hồ\n",
      "predicted_text: rủ nhau kết lại với ông để hùng hành ban tử hiện dân lập gồm đủ nành nghề thợ mộc, thợ hồ.\n",
      "Processing: FPTOpenSpeechData_Set001_V0.1_000652.mp3\n"
     ]
    },
    {
     "name": "stderr",
     "output_type": "stream",
     "text": [
      "/home/ngo/anaconda3/lib/python3.12/site-packages/whisper/transcribe.py:126: UserWarning: FP16 is not supported on CPU; using FP32 instead\n",
      "  warnings.warn(\"FP16 is not supported on CPU; using FP32 instead\")\n"
     ]
    },
    {
     "name": "stdout",
     "output_type": "stream",
     "text": [
      "reference_text: vài ngày nữa sẽ có hàng\n",
      "predicted_text: vài ngày lượt đẹp ố hào\n",
      "Processing: FPTOpenSpeechData_Set001_V0.1_000653.mp3\n"
     ]
    },
    {
     "name": "stderr",
     "output_type": "stream",
     "text": [
      "/home/ngo/anaconda3/lib/python3.12/site-packages/whisper/transcribe.py:126: UserWarning: FP16 is not supported on CPU; using FP32 instead\n",
      "  warnings.warn(\"FP16 is not supported on CPU; using FP32 instead\")\n"
     ]
    },
    {
     "name": "stdout",
     "output_type": "stream",
     "text": [
      "reference_text: có được dùng điện thoại của anh không\n",
      "predicted_text: có được dùng điện thoại của anh không?\n",
      "Processing: FPTOpenSpeechData_Set001_V0.1_000654.mp3\n"
     ]
    },
    {
     "name": "stderr",
     "output_type": "stream",
     "text": [
      "/home/ngo/anaconda3/lib/python3.12/site-packages/whisper/transcribe.py:126: UserWarning: FP16 is not supported on CPU; using FP32 instead\n",
      "  warnings.warn(\"FP16 is not supported on CPU; using FP32 instead\")\n"
     ]
    },
    {
     "name": "stdout",
     "output_type": "stream",
     "text": [
      "reference_text: cái đầu tôi làm tôi rất đau\n",
      "predicted_text: các em hãy đăng ký kênh để ủng hộ kênh của mình nhé.\n",
      "Processing: FPTOpenSpeechData_Set001_V0.1_000655.mp3\n"
     ]
    },
    {
     "name": "stderr",
     "output_type": "stream",
     "text": [
      "/home/ngo/anaconda3/lib/python3.12/site-packages/whisper/transcribe.py:126: UserWarning: FP16 is not supported on CPU; using FP32 instead\n",
      "  warnings.warn(\"FP16 is not supported on CPU; using FP32 instead\")\n"
     ]
    },
    {
     "name": "stdout",
     "output_type": "stream",
     "text": [
      "reference_text: cách tốt nhất để chăm sóc làn da là tránh cho da tiếp xúc với ánh nắng mặt trời\n",
      "predicted_text: cách tốt nhất để chăm sóc làn da là tránh cho da tiếp xúc với ánh nắng mặt trời.\n",
      "Processing: FPTOpenSpeechData_Set001_V0.1_000656.mp3\n"
     ]
    },
    {
     "name": "stderr",
     "output_type": "stream",
     "text": [
      "/home/ngo/anaconda3/lib/python3.12/site-packages/whisper/transcribe.py:126: UserWarning: FP16 is not supported on CPU; using FP32 instead\n",
      "  warnings.warn(\"FP16 is not supported on CPU; using FP32 instead\")\n"
     ]
    },
    {
     "name": "stdout",
     "output_type": "stream",
     "text": [
      "reference_text: tôi thích các bộ phim hành động và ly kỳ\n",
      "predicted_text: tôi thích các bộ phim hành động và lý kỳ.\n",
      "Processing: FPTOpenSpeechData_Set001_V0.1_000657.mp3\n"
     ]
    },
    {
     "name": "stderr",
     "output_type": "stream",
     "text": [
      "/home/ngo/anaconda3/lib/python3.12/site-packages/whisper/transcribe.py:126: UserWarning: FP16 is not supported on CPU; using FP32 instead\n",
      "  warnings.warn(\"FP16 is not supported on CPU; using FP32 instead\")\n"
     ]
    },
    {
     "name": "stdout",
     "output_type": "stream",
     "text": [
      "reference_text: vui lòng cho thứ nào đó không ga\n",
      "predicted_text: vui lòng cho thứ nào đó phục gan\n",
      "Processing: FPTOpenSpeechData_Set001_V0.1_000658.mp3\n"
     ]
    },
    {
     "name": "stderr",
     "output_type": "stream",
     "text": [
      "/home/ngo/anaconda3/lib/python3.12/site-packages/whisper/transcribe.py:126: UserWarning: FP16 is not supported on CPU; using FP32 instead\n",
      "  warnings.warn(\"FP16 is not supported on CPU; using FP32 instead\")\n"
     ]
    },
    {
     "name": "stdout",
     "output_type": "stream",
     "text": [
      "reference_text: nhung tìm về nhà một người bạn ở -n hòa cầu giấy rồi bị ngất tại đó\n",
      "predicted_text: \n",
      "Processing: FPTOpenSpeechData_Set001_V0.1_000659.mp3\n"
     ]
    },
    {
     "name": "stderr",
     "output_type": "stream",
     "text": [
      "/home/ngo/anaconda3/lib/python3.12/site-packages/whisper/transcribe.py:126: UserWarning: FP16 is not supported on CPU; using FP32 instead\n",
      "  warnings.warn(\"FP16 is not supported on CPU; using FP32 instead\")\n"
     ]
    },
    {
     "name": "stdout",
     "output_type": "stream",
     "text": [
      "reference_text: nhóm sinh viên tại trường cùng họp mặt ăn tết chung\n",
      "predicted_text: nhóm sinh viên tại trường cùng họp mặt ăn tết chung\n",
      "Processing: FPTOpenSpeechData_Set001_V0.1_000660.mp3\n"
     ]
    },
    {
     "name": "stderr",
     "output_type": "stream",
     "text": [
      "/home/ngo/anaconda3/lib/python3.12/site-packages/whisper/transcribe.py:126: UserWarning: FP16 is not supported on CPU; using FP32 instead\n",
      "  warnings.warn(\"FP16 is not supported on CPU; using FP32 instead\")\n"
     ]
    },
    {
     "name": "stdout",
     "output_type": "stream",
     "text": [
      "reference_text: thế nhưng đối với vượng thì khác chỉ vài tiếng huýt sáo hắn đã thu phục được cả hai chú chó rồi vào nhà khua\n",
      "predicted_text: thế nhưng đối với vượng thì khác chỉ vài tiếng thích tháo, nhưng đã thu phục được cả hai chú chó rồi vào nhà, hù hả?\n",
      "Processing: FPTOpenSpeechData_Set001_V0.1_000661.mp3\n"
     ]
    },
    {
     "name": "stderr",
     "output_type": "stream",
     "text": [
      "/home/ngo/anaconda3/lib/python3.12/site-packages/whisper/transcribe.py:126: UserWarning: FP16 is not supported on CPU; using FP32 instead\n",
      "  warnings.warn(\"FP16 is not supported on CPU; using FP32 instead\")\n"
     ]
    },
    {
     "name": "stdout",
     "output_type": "stream",
     "text": [
      "reference_text: -n bể nước tồn đọng đủ các chất bẩn đen ngòm dưới đáy nắp đậy đã bong tróc\n",
      "predicted_text: về nước tôn đông đủ các chất bẩn bén ngon dưới đáy, nắp đầy đà bóng tróc\n",
      "Processing: FPTOpenSpeechData_Set001_V0.1_000662.mp3\n"
     ]
    },
    {
     "name": "stderr",
     "output_type": "stream",
     "text": [
      "/home/ngo/anaconda3/lib/python3.12/site-packages/whisper/transcribe.py:126: UserWarning: FP16 is not supported on CPU; using FP32 instead\n",
      "  warnings.warn(\"FP16 is not supported on CPU; using FP32 instead\")\n"
     ]
    },
    {
     "name": "stdout",
     "output_type": "stream",
     "text": [
      "reference_text: tuy vậy shubert cũng cho rằng cần phải tính đến cả yếu tố cá nhân\n",
      "predicted_text: tuy vậy, stubas cũng cho rằng cần phải tính đến cả yếu tố cá nhân.\n",
      "Processing: FPTOpenSpeechData_Set001_V0.1_000663.mp3\n"
     ]
    },
    {
     "name": "stderr",
     "output_type": "stream",
     "text": [
      "/home/ngo/anaconda3/lib/python3.12/site-packages/whisper/transcribe.py:126: UserWarning: FP16 is not supported on CPU; using FP32 instead\n",
      "  warnings.warn(\"FP16 is not supported on CPU; using FP32 instead\")\n"
     ]
    },
    {
     "name": "stdout",
     "output_type": "stream",
     "text": [
      "reference_text: chúng ta thật may mắn cửa hàng ala moana vẫn còn cỡ số bốn\n",
      "predicted_text: chính ta thật may mắn, cửa hàng alamoan vẫn còn đủ số 4.\n",
      "Processing: FPTOpenSpeechData_Set001_V0.1_000664.mp3\n"
     ]
    },
    {
     "name": "stderr",
     "output_type": "stream",
     "text": [
      "/home/ngo/anaconda3/lib/python3.12/site-packages/whisper/transcribe.py:126: UserWarning: FP16 is not supported on CPU; using FP32 instead\n",
      "  warnings.warn(\"FP16 is not supported on CPU; using FP32 instead\")\n"
     ]
    },
    {
     "name": "stdout",
     "output_type": "stream",
     "text": [
      "reference_text: tôi muốn mua những trái cam này bạn vui lòng gửi chúng tới nhật nhé\n",
      "predicted_text: tôi muốn mua nỉ tại cam này bạn vui lòng gửi chúng tới nhật nhé\n",
      "Processing: FPTOpenSpeechData_Set001_V0.1_000665.mp3\n"
     ]
    },
    {
     "name": "stderr",
     "output_type": "stream",
     "text": [
      "/home/ngo/anaconda3/lib/python3.12/site-packages/whisper/transcribe.py:126: UserWarning: FP16 is not supported on CPU; using FP32 instead\n",
      "  warnings.warn(\"FP16 is not supported on CPU; using FP32 instead\")\n"
     ]
    },
    {
     "name": "stdout",
     "output_type": "stream",
     "text": [
      "reference_text: đừng thay đổi kiểu chỉ cắt một chút\n",
      "predicted_text: đừng thay đổi kiểu, nhìn cắt một chút.\n",
      "Processing: FPTOpenSpeechData_Set001_V0.1_000666.mp3\n"
     ]
    },
    {
     "name": "stderr",
     "output_type": "stream",
     "text": [
      "/home/ngo/anaconda3/lib/python3.12/site-packages/whisper/transcribe.py:126: UserWarning: FP16 is not supported on CPU; using FP32 instead\n",
      "  warnings.warn(\"FP16 is not supported on CPU; using FP32 instead\")\n"
     ]
    },
    {
     "name": "stdout",
     "output_type": "stream",
     "text": [
      "reference_text: cái này có bao gồm giá bữa ăn sáng không\n",
      "predicted_text: cái này có bao gồm dạng bữa ăn sáng không?\n",
      "Processing: FPTOpenSpeechData_Set001_V0.1_000667.mp3\n"
     ]
    },
    {
     "name": "stderr",
     "output_type": "stream",
     "text": [
      "/home/ngo/anaconda3/lib/python3.12/site-packages/whisper/transcribe.py:126: UserWarning: FP16 is not supported on CPU; using FP32 instead\n",
      "  warnings.warn(\"FP16 is not supported on CPU; using FP32 instead\")\n"
     ]
    },
    {
     "name": "stdout",
     "output_type": "stream",
     "text": [
      "reference_text: xin lỗi có thể cho tôi một thẻ điện thoại không\n",
      "predicted_text: xin lỗi, có thể cho tôi một thẻ điện thoại không?\n",
      "Processing: FPTOpenSpeechData_Set001_V0.1_000668.mp3\n"
     ]
    },
    {
     "name": "stderr",
     "output_type": "stream",
     "text": [
      "/home/ngo/anaconda3/lib/python3.12/site-packages/whisper/transcribe.py:126: UserWarning: FP16 is not supported on CPU; using FP32 instead\n",
      "  warnings.warn(\"FP16 is not supported on CPU; using FP32 instead\")\n"
     ]
    },
    {
     "name": "stdout",
     "output_type": "stream",
     "text": [
      "reference_text: tôi có vinh dự được khiêu vũ cùng cô không\n",
      "predicted_text: rồi cô bình trợ được sưu trú cùng cô khám.\n",
      "Processing: FPTOpenSpeechData_Set001_V0.1_000669.mp3\n"
     ]
    },
    {
     "name": "stderr",
     "output_type": "stream",
     "text": [
      "/home/ngo/anaconda3/lib/python3.12/site-packages/whisper/transcribe.py:126: UserWarning: FP16 is not supported on CPU; using FP32 instead\n",
      "  warnings.warn(\"FP16 is not supported on CPU; using FP32 instead\")\n"
     ]
    },
    {
     "name": "stdout",
     "output_type": "stream",
     "text": [
      "reference_text: phế quản bị chít hẹp khiến trẻ thở khò khè thậm chí rít lên\n",
      "predicted_text: tế quản biệt dịch hẹp, khiến tệ thờ kho khe thâm trị rực lên\n",
      "Processing: FPTOpenSpeechData_Set001_V0.1_000670.mp3\n"
     ]
    },
    {
     "name": "stderr",
     "output_type": "stream",
     "text": [
      "/home/ngo/anaconda3/lib/python3.12/site-packages/whisper/transcribe.py:126: UserWarning: FP16 is not supported on CPU; using FP32 instead\n",
      "  warnings.warn(\"FP16 is not supported on CPU; using FP32 instead\")\n"
     ]
    },
    {
     "name": "stdout",
     "output_type": "stream",
     "text": [
      "reference_text: xin lỗi tôi bị lạc đường anh có thể chỉ cho tôi đường đến khu phố người hoa không\n",
      "predicted_text: xin lỗi tôi bị lạc đường, anh có thể chỉ cho tôi đường đến khu phố người hoa không?\n",
      "Processing: FPTOpenSpeechData_Set001_V0.1_000671.mp3\n"
     ]
    },
    {
     "name": "stderr",
     "output_type": "stream",
     "text": [
      "/home/ngo/anaconda3/lib/python3.12/site-packages/whisper/transcribe.py:126: UserWarning: FP16 is not supported on CPU; using FP32 instead\n",
      "  warnings.warn(\"FP16 is not supported on CPU; using FP32 instead\")\n"
     ]
    },
    {
     "name": "stdout",
     "output_type": "stream",
     "text": [
      "reference_text: ai đó bị thương\n",
      "predicted_text: ai đó bị thương\n",
      "Processing: FPTOpenSpeechData_Set001_V0.1_000672.mp3\n"
     ]
    },
    {
     "name": "stderr",
     "output_type": "stream",
     "text": [
      "/home/ngo/anaconda3/lib/python3.12/site-packages/whisper/transcribe.py:126: UserWarning: FP16 is not supported on CPU; using FP32 instead\n",
      "  warnings.warn(\"FP16 is not supported on CPU; using FP32 instead\")\n"
     ]
    },
    {
     "name": "stdout",
     "output_type": "stream",
     "text": [
      "reference_text: những dự án này đã bị hoãn vô thời hạn không những vậy hãng xe nhật cũng dừng phát triển động cơ hiện chỉ có hệ thống động cầu trước cạnh tranh với xe mũi dài\n",
      "predicted_text: những dự án này đã bị hoãn vô thời hạn, không những vậy, hãng xe nhật cũng dừng phát triển động cơ, hiện chỉ có hệ thống động cầu trước cạnh tranh với xe mũi dài.\n",
      "Processing: FPTOpenSpeechData_Set001_V0.1_000673.mp3\n"
     ]
    },
    {
     "name": "stderr",
     "output_type": "stream",
     "text": [
      "/home/ngo/anaconda3/lib/python3.12/site-packages/whisper/transcribe.py:126: UserWarning: FP16 is not supported on CPU; using FP32 instead\n",
      "  warnings.warn(\"FP16 is not supported on CPU; using FP32 instead\")\n"
     ]
    },
    {
     "name": "stdout",
     "output_type": "stream",
     "text": [
      "reference_text: xin lỗi anh có thể vẽ bản đồ sơ lược cho tôi không\n",
      "predicted_text: xin lỗi, ảnh của chị em chỉ là mạng đồ sưu dục cho tôi thôi không?\n",
      "Processing: FPTOpenSpeechData_Set001_V0.1_000674.mp3\n"
     ]
    },
    {
     "name": "stderr",
     "output_type": "stream",
     "text": [
      "/home/ngo/anaconda3/lib/python3.12/site-packages/whisper/transcribe.py:126: UserWarning: FP16 is not supported on CPU; using FP32 instead\n",
      "  warnings.warn(\"FP16 is not supported on CPU; using FP32 instead\")\n"
     ]
    },
    {
     "name": "stdout",
     "output_type": "stream",
     "text": [
      "reference_text: tôi muốn thuê một đôi giày trượt\n",
      "predicted_text: tôi muốn thuê một đôi chạy trượt.\n",
      "Processing: FPTOpenSpeechData_Set001_V0.1_000675.mp3\n"
     ]
    },
    {
     "name": "stderr",
     "output_type": "stream",
     "text": [
      "/home/ngo/anaconda3/lib/python3.12/site-packages/whisper/transcribe.py:126: UserWarning: FP16 is not supported on CPU; using FP32 instead\n",
      "  warnings.warn(\"FP16 is not supported on CPU; using FP32 instead\")\n"
     ]
    },
    {
     "name": "stdout",
     "output_type": "stream",
     "text": [
      "reference_text: không đáng đề cập đến\n",
      "predicted_text: không đáng đề cập đến\n",
      "Processing: FPTOpenSpeechData_Set001_V0.1_000676.mp3\n"
     ]
    },
    {
     "name": "stderr",
     "output_type": "stream",
     "text": [
      "/home/ngo/anaconda3/lib/python3.12/site-packages/whisper/transcribe.py:126: UserWarning: FP16 is not supported on CPU; using FP32 instead\n",
      "  warnings.warn(\"FP16 is not supported on CPU; using FP32 instead\")\n"
     ]
    },
    {
     "name": "stdout",
     "output_type": "stream",
     "text": [
      "reference_text: kỳ tích có thể để lại quyền lợi bởi một nhà độc tài dầu mỏ nhưng cũng có thể giúp thể chế hóa những phong trào chống mỹ diễn ra tại khu vực trung đông\n",
      "predicted_text: thủy tích có thể để lại quyền nợ bởi một nhà độc tài đầu mỏ nhưng cũng có thể giúp thể chế hóa những phong trào chủ nghĩa diễn ra tại khu vực trung đông.\n",
      "Processing: FPTOpenSpeechData_Set001_V0.1_000677.mp3\n"
     ]
    },
    {
     "name": "stderr",
     "output_type": "stream",
     "text": [
      "/home/ngo/anaconda3/lib/python3.12/site-packages/whisper/transcribe.py:126: UserWarning: FP16 is not supported on CPU; using FP32 instead\n",
      "  warnings.warn(\"FP16 is not supported on CPU; using FP32 instead\")\n"
     ]
    },
    {
     "name": "stdout",
     "output_type": "stream",
     "text": [
      "reference_text: những bộ não chỉ giảm hoạt động về đêm sẽ suy nghĩ hiệu quả triển vọng và dẫn đầu cả đội\n",
      "predicted_text: những bộ nã chỉ giảm hoạt động về đêm sẽ suy nghĩ hiệu quả, triển vọng và dẫn đầu cả đội.\n",
      "Processing: FPTOpenSpeechData_Set001_V0.1_000678.mp3\n"
     ]
    },
    {
     "name": "stderr",
     "output_type": "stream",
     "text": [
      "/home/ngo/anaconda3/lib/python3.12/site-packages/whisper/transcribe.py:126: UserWarning: FP16 is not supported on CPU; using FP32 instead\n",
      "  warnings.warn(\"FP16 is not supported on CPU; using FP32 instead\")\n"
     ]
    },
    {
     "name": "stdout",
     "output_type": "stream",
     "text": [
      "reference_text: tắt điều hòa phòng ăn\n",
      "predicted_text: cắt điện thoại phòng an\n",
      "Processing: FPTOpenSpeechData_Set001_V0.1_000679.mp3\n"
     ]
    },
    {
     "name": "stderr",
     "output_type": "stream",
     "text": [
      "/home/ngo/anaconda3/lib/python3.12/site-packages/whisper/transcribe.py:126: UserWarning: FP16 is not supported on CPU; using FP32 instead\n",
      "  warnings.warn(\"FP16 is not supported on CPU; using FP32 instead\")\n"
     ]
    },
    {
     "name": "stdout",
     "output_type": "stream",
     "text": [
      "reference_text: anh có thể giảm giá không\n",
      "predicted_text: anh có thể giảm giá không?\n",
      "Processing: FPTOpenSpeechData_Set001_V0.1_000680.mp3\n"
     ]
    },
    {
     "name": "stderr",
     "output_type": "stream",
     "text": [
      "/home/ngo/anaconda3/lib/python3.12/site-packages/whisper/transcribe.py:126: UserWarning: FP16 is not supported on CPU; using FP32 instead\n",
      "  warnings.warn(\"FP16 is not supported on CPU; using FP32 instead\")\n"
     ]
    },
    {
     "name": "stdout",
     "output_type": "stream",
     "text": [
      "reference_text: xin lỗi tôi phải đi vệ sinh\n",
      "predicted_text: trinh người cơ hội đi địa chi\n",
      "Processing: FPTOpenSpeechData_Set001_V0.1_000681.mp3\n"
     ]
    },
    {
     "name": "stderr",
     "output_type": "stream",
     "text": [
      "/home/ngo/anaconda3/lib/python3.12/site-packages/whisper/transcribe.py:126: UserWarning: FP16 is not supported on CPU; using FP32 instead\n",
      "  warnings.warn(\"FP16 is not supported on CPU; using FP32 instead\")\n"
     ]
    },
    {
     "name": "stdout",
     "output_type": "stream",
     "text": [
      "reference_text: những khi mùa khô kéo dài mỗi nhà vẫn phải dùng nước nhiễm phèn sau khi được lắng lọc bằng những biện pháp khác nhau khi thì dùng quần áo cũ lúc là phèn vẫn được dùng khử đục cát sỏi miễn là có nước để dùng\n",
      "predicted_text: những khi mùa khô kéo dài, mỗi nhà vẫn phải dùng nước miễn phèn, sau khi được lắng lọc bằng dung sáp khác nhau, khi thì dùng quần áo cũ, lúc là phèn vẫn được dùng sử dụng các sỏi miễn là có nước để dùng.\n",
      "Processing: FPTOpenSpeechData_Set001_V0.1_000682.mp3\n"
     ]
    },
    {
     "name": "stderr",
     "output_type": "stream",
     "text": [
      "/home/ngo/anaconda3/lib/python3.12/site-packages/whisper/transcribe.py:126: UserWarning: FP16 is not supported on CPU; using FP32 instead\n",
      "  warnings.warn(\"FP16 is not supported on CPU; using FP32 instead\")\n"
     ]
    },
    {
     "name": "stdout",
     "output_type": "stream",
     "text": [
      "reference_text: tôi có thể ở lại ba đêm không\n",
      "predicted_text: tôi có thể ở lại ba đêm không?\n",
      "Processing: FPTOpenSpeechData_Set001_V0.1_000683.mp3\n"
     ]
    },
    {
     "name": "stderr",
     "output_type": "stream",
     "text": [
      "/home/ngo/anaconda3/lib/python3.12/site-packages/whisper/transcribe.py:126: UserWarning: FP16 is not supported on CPU; using FP32 instead\n",
      "  warnings.warn(\"FP16 is not supported on CPU; using FP32 instead\")\n"
     ]
    },
    {
     "name": "stdout",
     "output_type": "stream",
     "text": [
      "reference_text: cô có thể lệ lau chiếc bàn này được không\n",
      "predicted_text: cô gọi thầy này để nói chuyện qua ngay được không?\n",
      "Processing: FPTOpenSpeechData_Set001_V0.1_000684.mp3\n"
     ]
    },
    {
     "name": "stderr",
     "output_type": "stream",
     "text": [
      "/home/ngo/anaconda3/lib/python3.12/site-packages/whisper/transcribe.py:126: UserWarning: FP16 is not supported on CPU; using FP32 instead\n",
      "  warnings.warn(\"FP16 is not supported on CPU; using FP32 instead\")\n"
     ]
    },
    {
     "name": "stdout",
     "output_type": "stream",
     "text": [
      "reference_text: không cô ta ít khi ghé thư viện\n",
      "predicted_text: không, có tai thì sẽ tiêu biển.\n",
      "Processing: FPTOpenSpeechData_Set001_V0.1_000685.mp3\n"
     ]
    },
    {
     "name": "stderr",
     "output_type": "stream",
     "text": [
      "/home/ngo/anaconda3/lib/python3.12/site-packages/whisper/transcribe.py:126: UserWarning: FP16 is not supported on CPU; using FP32 instead\n",
      "  warnings.warn(\"FP16 is not supported on CPU; using FP32 instead\")\n"
     ]
    },
    {
     "name": "stdout",
     "output_type": "stream",
     "text": [
      "reference_text: hiện tượng này sẽ bắt đầu tại nam á rồi dần được thấy tại hầu hết các nước trong đó có việt nam\n",
      "predicted_text: hiện tượng này sẽ bắt đầu tại nam á, rồi dần được thấy tại hầu hết các nước, trong đó có việt nam.\n",
      "Processing: FPTOpenSpeechData_Set001_V0.1_000686.mp3\n"
     ]
    },
    {
     "name": "stderr",
     "output_type": "stream",
     "text": [
      "/home/ngo/anaconda3/lib/python3.12/site-packages/whisper/transcribe.py:126: UserWarning: FP16 is not supported on CPU; using FP32 instead\n",
      "  warnings.warn(\"FP16 is not supported on CPU; using FP32 instead\")\n"
     ]
    },
    {
     "name": "stdout",
     "output_type": "stream",
     "text": [
      "reference_text: ba mươi lăm mm phim màu âm bản ba mươi tấm ạ\n",
      "predicted_text: 35mm tim màu âm bản 30 đấm ả\n",
      "Processing: FPTOpenSpeechData_Set001_V0.1_000687.mp3\n"
     ]
    },
    {
     "name": "stderr",
     "output_type": "stream",
     "text": [
      "/home/ngo/anaconda3/lib/python3.12/site-packages/whisper/transcribe.py:126: UserWarning: FP16 is not supported on CPU; using FP32 instead\n",
      "  warnings.warn(\"FP16 is not supported on CPU; using FP32 instead\")\n"
     ]
    },
    {
     "name": "stdout",
     "output_type": "stream",
     "text": [
      "reference_text: anh có thể giải thích tình huống này không\n",
      "predicted_text: anh có thể giải thích tình hướng này không?\n",
      "Processing: FPTOpenSpeechData_Set001_V0.1_000688.mp3\n"
     ]
    },
    {
     "name": "stderr",
     "output_type": "stream",
     "text": [
      "/home/ngo/anaconda3/lib/python3.12/site-packages/whisper/transcribe.py:126: UserWarning: FP16 is not supported on CPU; using FP32 instead\n",
      "  warnings.warn(\"FP16 is not supported on CPU; using FP32 instead\")\n"
     ]
    },
    {
     "name": "stdout",
     "output_type": "stream",
     "text": [
      "reference_text: trưởng phòng hành chính tổ chức nhà trường\n",
      "predicted_text: trưởng phòng hành chính tổ chức nhà trường\n",
      "Processing: FPTOpenSpeechData_Set001_V0.1_000689.mp3\n"
     ]
    },
    {
     "name": "stderr",
     "output_type": "stream",
     "text": [
      "/home/ngo/anaconda3/lib/python3.12/site-packages/whisper/transcribe.py:126: UserWarning: FP16 is not supported on CPU; using FP32 instead\n",
      "  warnings.warn(\"FP16 is not supported on CPU; using FP32 instead\")\n"
     ]
    },
    {
     "name": "stdout",
     "output_type": "stream",
     "text": [
      "reference_text: một quả lựu đạn được tung ra đúng lúc\n",
      "predicted_text: một quả lụ đạn được tung ra đúng lúc.\n",
      "Processing: FPTOpenSpeechData_Set001_V0.1_000690.mp3\n"
     ]
    },
    {
     "name": "stderr",
     "output_type": "stream",
     "text": [
      "/home/ngo/anaconda3/lib/python3.12/site-packages/whisper/transcribe.py:126: UserWarning: FP16 is not supported on CPU; using FP32 instead\n",
      "  warnings.warn(\"FP16 is not supported on CPU; using FP32 instead\")\n"
     ]
    },
    {
     "name": "stdout",
     "output_type": "stream",
     "text": [
      "reference_text: trông anh nhợt nhạt quá\n",
      "predicted_text: trông anh nhạt nhạt quá\n",
      "Processing: FPTOpenSpeechData_Set001_V0.1_000691.mp3\n"
     ]
    },
    {
     "name": "stderr",
     "output_type": "stream",
     "text": [
      "/home/ngo/anaconda3/lib/python3.12/site-packages/whisper/transcribe.py:126: UserWarning: FP16 is not supported on CPU; using FP32 instead\n",
      "  warnings.warn(\"FP16 is not supported on CPU; using FP32 instead\")\n"
     ]
    },
    {
     "name": "stdout",
     "output_type": "stream",
     "text": [
      "reference_text: này hơn người ta chớ\n",
      "predicted_text: này hơn người ta chớ\n",
      "Processing: FPTOpenSpeechData_Set001_V0.1_000692.mp3\n"
     ]
    },
    {
     "name": "stderr",
     "output_type": "stream",
     "text": [
      "/home/ngo/anaconda3/lib/python3.12/site-packages/whisper/transcribe.py:126: UserWarning: FP16 is not supported on CPU; using FP32 instead\n",
      "  warnings.warn(\"FP16 is not supported on CPU; using FP32 instead\")\n"
     ]
    },
    {
     "name": "stdout",
     "output_type": "stream",
     "text": [
      "reference_text: có xe buýt máy lạnh không\n",
      "predicted_text: có xe tuyết máy lạnh không?\n",
      "Processing: FPTOpenSpeechData_Set001_V0.1_000693.mp3\n"
     ]
    },
    {
     "name": "stderr",
     "output_type": "stream",
     "text": [
      "/home/ngo/anaconda3/lib/python3.12/site-packages/whisper/transcribe.py:126: UserWarning: FP16 is not supported on CPU; using FP32 instead\n",
      "  warnings.warn(\"FP16 is not supported on CPU; using FP32 instead\")\n"
     ]
    },
    {
     "name": "stdout",
     "output_type": "stream",
     "text": [
      "reference_text: ông toàn chơi phổng tay trên\n",
      "predicted_text: ông bò chơi bổng tay trên.\n",
      "Processing: FPTOpenSpeechData_Set001_V0.1_000694.mp3\n"
     ]
    },
    {
     "name": "stderr",
     "output_type": "stream",
     "text": [
      "/home/ngo/anaconda3/lib/python3.12/site-packages/whisper/transcribe.py:126: UserWarning: FP16 is not supported on CPU; using FP32 instead\n",
      "  warnings.warn(\"FP16 is not supported on CPU; using FP32 instead\")\n"
     ]
    },
    {
     "name": "stdout",
     "output_type": "stream",
     "text": [
      "reference_text: khai báo điện tử nhanh chóng hơn\n",
      "predicted_text: khai báo điện tử nhanh chóng thêm.\n",
      "Processing: FPTOpenSpeechData_Set001_V0.1_000695.mp3\n"
     ]
    },
    {
     "name": "stderr",
     "output_type": "stream",
     "text": [
      "/home/ngo/anaconda3/lib/python3.12/site-packages/whisper/transcribe.py:126: UserWarning: FP16 is not supported on CPU; using FP32 instead\n",
      "  warnings.warn(\"FP16 is not supported on CPU; using FP32 instead\")\n"
     ]
    },
    {
     "name": "stdout",
     "output_type": "stream",
     "text": [
      "reference_text: hai anh chị này cặp với nhau cuối tuần nào cũng mở tiệc họ gọi bạn bè về ăn uống nhảy nhót ồn ào quá mức\n",
      "predicted_text: hai anh chị này gặp với nhau vui tân nào cũng có tiệc, hồi với bạn bè về ăn uống nhảy nhót đồ nào cũng thắng.\n",
      "Processing: FPTOpenSpeechData_Set001_V0.1_000696.mp3\n"
     ]
    },
    {
     "name": "stderr",
     "output_type": "stream",
     "text": [
      "/home/ngo/anaconda3/lib/python3.12/site-packages/whisper/transcribe.py:126: UserWarning: FP16 is not supported on CPU; using FP32 instead\n",
      "  warnings.warn(\"FP16 is not supported on CPU; using FP32 instead\")\n"
     ]
    },
    {
     "name": "stdout",
     "output_type": "stream",
     "text": [
      "reference_text: -n cô ấy sắp bơm nó vào tĩnh mạch anh\n",
      "predicted_text: cô ấy sắp bơm nó vào tỉnh mặt anh.\n",
      "Processing: FPTOpenSpeechData_Set001_V0.1_000697.mp3\n"
     ]
    },
    {
     "name": "stderr",
     "output_type": "stream",
     "text": [
      "/home/ngo/anaconda3/lib/python3.12/site-packages/whisper/transcribe.py:126: UserWarning: FP16 is not supported on CPU; using FP32 instead\n",
      "  warnings.warn(\"FP16 is not supported on CPU; using FP32 instead\")\n"
     ]
    },
    {
     "name": "stdout",
     "output_type": "stream",
     "text": [
      "reference_text: có lẽ quý vị cần thải ra\n",
      "predicted_text: có lẽ quý vị cần thể ra\n",
      "Processing: FPTOpenSpeechData_Set001_V0.1_000698.mp3\n"
     ]
    },
    {
     "name": "stderr",
     "output_type": "stream",
     "text": [
      "/home/ngo/anaconda3/lib/python3.12/site-packages/whisper/transcribe.py:126: UserWarning: FP16 is not supported on CPU; using FP32 instead\n",
      "  warnings.warn(\"FP16 is not supported on CPU; using FP32 instead\")\n"
     ]
    },
    {
     "name": "stdout",
     "output_type": "stream",
     "text": [
      "reference_text: xin lỗi nhưng hình như nó quá nhỏ\n",
      "predicted_text: xin lỗi, nhưng hình như nó quá nhỏ.\n",
      "Processing: FPTOpenSpeechData_Set001_V0.1_000699.mp3\n"
     ]
    },
    {
     "name": "stderr",
     "output_type": "stream",
     "text": [
      "/home/ngo/anaconda3/lib/python3.12/site-packages/whisper/transcribe.py:126: UserWarning: FP16 is not supported on CPU; using FP32 instead\n",
      "  warnings.warn(\"FP16 is not supported on CPU; using FP32 instead\")\n"
     ]
    },
    {
     "name": "stdout",
     "output_type": "stream",
     "text": [
      "reference_text: tôi sẽ xác nhận những gì đã nói với anh\n",
      "predicted_text: tôi sẽ xác nhận những gì là nội vệ.\n",
      "Processing: FPTOpenSpeechData_Set001_V0.1_000700.mp3\n"
     ]
    },
    {
     "name": "stderr",
     "output_type": "stream",
     "text": [
      "/home/ngo/anaconda3/lib/python3.12/site-packages/whisper/transcribe.py:126: UserWarning: FP16 is not supported on CPU; using FP32 instead\n",
      "  warnings.warn(\"FP16 is not supported on CPU; using FP32 instead\")\n"
     ]
    },
    {
     "name": "stdout",
     "output_type": "stream",
     "text": [
      "reference_text: vì cái oanh từ khi mở cửa hàng trên phố thái hà\n",
      "predicted_text: vì cái oanh, từ khi mở cửa hàng trên phố thái hà,\n",
      "Processing: FPTOpenSpeechData_Set001_V0.1_000701.mp3\n"
     ]
    },
    {
     "name": "stderr",
     "output_type": "stream",
     "text": [
      "/home/ngo/anaconda3/lib/python3.12/site-packages/whisper/transcribe.py:126: UserWarning: FP16 is not supported on CPU; using FP32 instead\n",
      "  warnings.warn(\"FP16 is not supported on CPU; using FP32 instead\")\n"
     ]
    },
    {
     "name": "stdout",
     "output_type": "stream",
     "text": [
      "reference_text: chúng tôi có thể giải thích vấn đề như sau\n",
      "predicted_text: chúng tôi có thể giải thích vấn đề như sau\n",
      "Processing: FPTOpenSpeechData_Set001_V0.1_000702.mp3\n"
     ]
    },
    {
     "name": "stderr",
     "output_type": "stream",
     "text": [
      "/home/ngo/anaconda3/lib/python3.12/site-packages/whisper/transcribe.py:126: UserWarning: FP16 is not supported on CPU; using FP32 instead\n",
      "  warnings.warn(\"FP16 is not supported on CPU; using FP32 instead\")\n"
     ]
    },
    {
     "name": "stdout",
     "output_type": "stream",
     "text": [
      "reference_text: bạn đi đâu mà vội thế\n",
      "predicted_text: bạn đi về đâu mà vội thế?\n",
      "Processing: FPTOpenSpeechData_Set001_V0.1_000703.mp3\n"
     ]
    },
    {
     "name": "stderr",
     "output_type": "stream",
     "text": [
      "/home/ngo/anaconda3/lib/python3.12/site-packages/whisper/transcribe.py:126: UserWarning: FP16 is not supported on CPU; using FP32 instead\n",
      "  warnings.warn(\"FP16 is not supported on CPU; using FP32 instead\")\n"
     ]
    },
    {
     "name": "stdout",
     "output_type": "stream",
     "text": [
      "reference_text: vẫn chưa rõ ông có đưa ra tuyên bố ủng hộ ứng viên nào trong thời gian tới hay không\n",
      "predicted_text: vẫn chứng nó hay, có vẻ là tình dụng vô ứng viên ra trong thời gian xưa.\n",
      "Processing: FPTOpenSpeechData_Set001_V0.1_000704.mp3\n"
     ]
    },
    {
     "name": "stderr",
     "output_type": "stream",
     "text": [
      "/home/ngo/anaconda3/lib/python3.12/site-packages/whisper/transcribe.py:126: UserWarning: FP16 is not supported on CPU; using FP32 instead\n",
      "  warnings.warn(\"FP16 is not supported on CPU; using FP32 instead\")\n"
     ]
    },
    {
     "name": "stdout",
     "output_type": "stream",
     "text": [
      "reference_text: nhiều hơn những trẻ khác\n",
      "predicted_text: nhiều hơn những trẻ khác\n",
      "Processing: FPTOpenSpeechData_Set001_V0.1_000705.mp3\n"
     ]
    },
    {
     "name": "stderr",
     "output_type": "stream",
     "text": [
      "/home/ngo/anaconda3/lib/python3.12/site-packages/whisper/transcribe.py:126: UserWarning: FP16 is not supported on CPU; using FP32 instead\n",
      "  warnings.warn(\"FP16 is not supported on CPU; using FP32 instead\")\n"
     ]
    },
    {
     "name": "stdout",
     "output_type": "stream",
     "text": [
      "reference_text: như đã đồng ý hàng sẽ được giao cho anh vào sáng thứ hai\n",
      "predicted_text: như đã đồng ý, hàng sẽ được giao cho anh vào sáng tháng 2.\n",
      "Processing: FPTOpenSpeechData_Set001_V0.1_000706.mp3\n"
     ]
    },
    {
     "name": "stderr",
     "output_type": "stream",
     "text": [
      "/home/ngo/anaconda3/lib/python3.12/site-packages/whisper/transcribe.py:126: UserWarning: FP16 is not supported on CPU; using FP32 instead\n",
      "  warnings.warn(\"FP16 is not supported on CPU; using FP32 instead\")\n"
     ]
    },
    {
     "name": "stdout",
     "output_type": "stream",
     "text": [
      "reference_text: chị bây giờ đã nhẹ người\n",
      "predicted_text: chị bây giờ đã nhẹ ngồi\n",
      "Processing: FPTOpenSpeechData_Set001_V0.1_000707.mp3\n"
     ]
    },
    {
     "name": "stderr",
     "output_type": "stream",
     "text": [
      "/home/ngo/anaconda3/lib/python3.12/site-packages/whisper/transcribe.py:126: UserWarning: FP16 is not supported on CPU; using FP32 instead\n",
      "  warnings.warn(\"FP16 is not supported on CPU; using FP32 instead\")\n"
     ]
    },
    {
     "name": "stdout",
     "output_type": "stream",
     "text": [
      "reference_text: lúc gặp ngọc nổ súng làm thắng chết tại chỗ\n",
      "predicted_text: hãy subscribe cho kênh ghiền mì gõ để không bỏ lỡ những video hấp dẫn\n",
      "Processing: FPTOpenSpeechData_Set001_V0.1_000708.mp3\n"
     ]
    },
    {
     "name": "stderr",
     "output_type": "stream",
     "text": [
      "/home/ngo/anaconda3/lib/python3.12/site-packages/whisper/transcribe.py:126: UserWarning: FP16 is not supported on CPU; using FP32 instead\n",
      "  warnings.warn(\"FP16 is not supported on CPU; using FP32 instead\")\n"
     ]
    },
    {
     "name": "stdout",
     "output_type": "stream",
     "text": [
      "reference_text: ôi khác nhiều chứ\n",
      "predicted_text: ôi khát điều chứ\n",
      "Processing: FPTOpenSpeechData_Set001_V0.1_000709.mp3\n"
     ]
    },
    {
     "name": "stderr",
     "output_type": "stream",
     "text": [
      "/home/ngo/anaconda3/lib/python3.12/site-packages/whisper/transcribe.py:126: UserWarning: FP16 is not supported on CPU; using FP32 instead\n",
      "  warnings.warn(\"FP16 is not supported on CPU; using FP32 instead\")\n"
     ]
    },
    {
     "name": "stdout",
     "output_type": "stream",
     "text": [
      "reference_text: đây có phải xe lửa đi chiang mai không\n",
      "predicted_text: đây có phải xe lửa đi trang mai không?\n",
      "Processing: FPTOpenSpeechData_Set001_V0.1_000710.mp3\n"
     ]
    },
    {
     "name": "stderr",
     "output_type": "stream",
     "text": [
      "/home/ngo/anaconda3/lib/python3.12/site-packages/whisper/transcribe.py:126: UserWarning: FP16 is not supported on CPU; using FP32 instead\n",
      "  warnings.warn(\"FP16 is not supported on CPU; using FP32 instead\")\n"
     ]
    },
    {
     "name": "stdout",
     "output_type": "stream",
     "text": [
      "reference_text: khoai tây đánh nhừ và cải chua đức\n",
      "predicted_text: hai tay đã như ra cải chúa đức.\n",
      "Processing: FPTOpenSpeechData_Set001_V0.1_000711.mp3\n"
     ]
    },
    {
     "name": "stderr",
     "output_type": "stream",
     "text": [
      "/home/ngo/anaconda3/lib/python3.12/site-packages/whisper/transcribe.py:126: UserWarning: FP16 is not supported on CPU; using FP32 instead\n",
      "  warnings.warn(\"FP16 is not supported on CPU; using FP32 instead\")\n"
     ]
    },
    {
     "name": "stdout",
     "output_type": "stream",
     "text": [
      "reference_text: mồ hôi trên cơ thể người cũng khó khô đi\n",
      "predicted_text: mồ hôi trên cơ thể người cũng khó khô đi\n",
      "Processing: FPTOpenSpeechData_Set001_V0.1_000712.mp3\n"
     ]
    },
    {
     "name": "stderr",
     "output_type": "stream",
     "text": [
      "/home/ngo/anaconda3/lib/python3.12/site-packages/whisper/transcribe.py:126: UserWarning: FP16 is not supported on CPU; using FP32 instead\n",
      "  warnings.warn(\"FP16 is not supported on CPU; using FP32 instead\")\n"
     ]
    },
    {
     "name": "stdout",
     "output_type": "stream",
     "text": [
      "reference_text: bé yêu và cún xinh\n",
      "predicted_text: hãy subscribe cho kênh la la school để không bỏ lỡ những video hấp dẫn\n",
      "Processing: FPTOpenSpeechData_Set001_V0.1_000713.mp3\n"
     ]
    },
    {
     "name": "stderr",
     "output_type": "stream",
     "text": [
      "/home/ngo/anaconda3/lib/python3.12/site-packages/whisper/transcribe.py:126: UserWarning: FP16 is not supported on CPU; using FP32 instead\n",
      "  warnings.warn(\"FP16 is not supported on CPU; using FP32 instead\")\n"
     ]
    },
    {
     "name": "stdout",
     "output_type": "stream",
     "text": [
      "reference_text: có siêu thị ở góc đường này\n",
      "predicted_text: có chương trình ở góc đường này.\n",
      "Processing: FPTOpenSpeechData_Set001_V0.1_000714.mp3\n"
     ]
    },
    {
     "name": "stderr",
     "output_type": "stream",
     "text": [
      "/home/ngo/anaconda3/lib/python3.12/site-packages/whisper/transcribe.py:126: UserWarning: FP16 is not supported on CPU; using FP32 instead\n",
      "  warnings.warn(\"FP16 is not supported on CPU; using FP32 instead\")\n"
     ]
    },
    {
     "name": "stdout",
     "output_type": "stream",
     "text": [
      "reference_text: ngắt ti vi\n",
      "predicted_text: htv\n",
      "Processing: FPTOpenSpeechData_Set001_V0.1_000715.mp3\n"
     ]
    },
    {
     "name": "stderr",
     "output_type": "stream",
     "text": [
      "/home/ngo/anaconda3/lib/python3.12/site-packages/whisper/transcribe.py:126: UserWarning: FP16 is not supported on CPU; using FP32 instead\n",
      "  warnings.warn(\"FP16 is not supported on CPU; using FP32 instead\")\n"
     ]
    },
    {
     "name": "stdout",
     "output_type": "stream",
     "text": [
      "reference_text: món ăn của địa phương nào đặc biệt\n",
      "predicted_text: món ăn của địa phương nào đặc biệt?\n",
      "Processing: FPTOpenSpeechData_Set001_V0.1_000716.mp3\n"
     ]
    },
    {
     "name": "stderr",
     "output_type": "stream",
     "text": [
      "/home/ngo/anaconda3/lib/python3.12/site-packages/whisper/transcribe.py:126: UserWarning: FP16 is not supported on CPU; using FP32 instead\n",
      "  warnings.warn(\"FP16 is not supported on CPU; using FP32 instead\")\n"
     ]
    },
    {
     "name": "stdout",
     "output_type": "stream",
     "text": [
      "reference_text: công an hà nội đã cạo sửa hồ sơ\n",
      "predicted_text: công an hà nội đã cạo sửa hồ sơ.\n",
      "Processing: FPTOpenSpeechData_Set001_V0.1_000717.mp3\n"
     ]
    },
    {
     "name": "stderr",
     "output_type": "stream",
     "text": [
      "/home/ngo/anaconda3/lib/python3.12/site-packages/whisper/transcribe.py:126: UserWarning: FP16 is not supported on CPU; using FP32 instead\n",
      "  warnings.warn(\"FP16 is not supported on CPU; using FP32 instead\")\n"
     ]
    },
    {
     "name": "stdout",
     "output_type": "stream",
     "text": [
      "reference_text: khi đối tác đầu tư tiền bạc thì mình phải đầu tư công sức\n",
      "predicted_text: khi đối tác đầu tư tiền bạc thì mình phải đầu tư công sức\n",
      "Processing: FPTOpenSpeechData_Set001_V0.1_000718.mp3\n"
     ]
    },
    {
     "name": "stderr",
     "output_type": "stream",
     "text": [
      "/home/ngo/anaconda3/lib/python3.12/site-packages/whisper/transcribe.py:126: UserWarning: FP16 is not supported on CPU; using FP32 instead\n",
      "  warnings.warn(\"FP16 is not supported on CPU; using FP32 instead\")\n"
     ]
    },
    {
     "name": "stdout",
     "output_type": "stream",
     "text": [
      "reference_text: bạn không biết lái đúng không\n",
      "predicted_text: bạn không biết lại được không?\n",
      "Processing: FPTOpenSpeechData_Set001_V0.1_000719.mp3\n"
     ]
    },
    {
     "name": "stderr",
     "output_type": "stream",
     "text": [
      "/home/ngo/anaconda3/lib/python3.12/site-packages/whisper/transcribe.py:126: UserWarning: FP16 is not supported on CPU; using FP32 instead\n",
      "  warnings.warn(\"FP16 is not supported on CPU; using FP32 instead\")\n"
     ]
    },
    {
     "name": "stdout",
     "output_type": "stream",
     "text": [
      "reference_text: nói khó là khó vậy thôi nước ngoài quản lý được thì mình cũng quản lý được\n",
      "predicted_text: nói khó là khó vậy thôi, nước ngoài quản lý được thì mình cũng quản lý được\n",
      "Processing: FPTOpenSpeechData_Set001_V0.1_000720.mp3\n"
     ]
    },
    {
     "name": "stderr",
     "output_type": "stream",
     "text": [
      "/home/ngo/anaconda3/lib/python3.12/site-packages/whisper/transcribe.py:126: UserWarning: FP16 is not supported on CPU; using FP32 instead\n",
      "  warnings.warn(\"FP16 is not supported on CPU; using FP32 instead\")\n"
     ]
    },
    {
     "name": "stdout",
     "output_type": "stream",
     "text": [
      "reference_text: tối nay có đông không\n",
      "predicted_text: tối nay có đông không?\n",
      "Processing: FPTOpenSpeechData_Set001_V0.1_000721.mp3\n"
     ]
    },
    {
     "name": "stderr",
     "output_type": "stream",
     "text": [
      "/home/ngo/anaconda3/lib/python3.12/site-packages/whisper/transcribe.py:126: UserWarning: FP16 is not supported on CPU; using FP32 instead\n",
      "  warnings.warn(\"FP16 is not supported on CPU; using FP32 instead\")\n"
     ]
    },
    {
     "name": "stdout",
     "output_type": "stream",
     "text": [
      "reference_text: nướu anh ta đau khi anh ta dùng ngón tay ấn vào\n",
      "predicted_text: díu anh ta đâu khi anh ta dìu ở đây anh ta?\n",
      "Processing: FPTOpenSpeechData_Set001_V0.1_000722.mp3\n"
     ]
    },
    {
     "name": "stderr",
     "output_type": "stream",
     "text": [
      "/home/ngo/anaconda3/lib/python3.12/site-packages/whisper/transcribe.py:126: UserWarning: FP16 is not supported on CPU; using FP32 instead\n",
      "  warnings.warn(\"FP16 is not supported on CPU; using FP32 instead\")\n"
     ]
    },
    {
     "name": "stdout",
     "output_type": "stream",
     "text": [
      "reference_text: chức danh chính thức của quí vị là gì\n",
      "predicted_text: chức danh chính thức của quý vị là gì?\n",
      "Processing: FPTOpenSpeechData_Set001_V0.1_000723.mp3\n"
     ]
    },
    {
     "name": "stderr",
     "output_type": "stream",
     "text": [
      "/home/ngo/anaconda3/lib/python3.12/site-packages/whisper/transcribe.py:126: UserWarning: FP16 is not supported on CPU; using FP32 instead\n",
      "  warnings.warn(\"FP16 is not supported on CPU; using FP32 instead\")\n"
     ]
    },
    {
     "name": "stdout",
     "output_type": "stream",
     "text": [
      "reference_text: anh muốn nó thế nào ý tôi là anh muốn bỏ gì vào trong hamburger của anh\n",
      "predicted_text: anh muốn họ thấy thế nào, icô là? anh muốn mò gì vào trong hai mắt dưa của anh?\n",
      "Processing: FPTOpenSpeechData_Set001_V0.1_000724.mp3\n"
     ]
    },
    {
     "name": "stderr",
     "output_type": "stream",
     "text": [
      "/home/ngo/anaconda3/lib/python3.12/site-packages/whisper/transcribe.py:126: UserWarning: FP16 is not supported on CPU; using FP32 instead\n",
      "  warnings.warn(\"FP16 is not supported on CPU; using FP32 instead\")\n"
     ]
    },
    {
     "name": "stdout",
     "output_type": "stream",
     "text": [
      "reference_text: tôi nói được một chút tiếng ý\n",
      "predicted_text: cái đó là một việc tiện ý\n",
      "Processing: FPTOpenSpeechData_Set001_V0.1_000725.mp3\n"
     ]
    },
    {
     "name": "stderr",
     "output_type": "stream",
     "text": [
      "/home/ngo/anaconda3/lib/python3.12/site-packages/whisper/transcribe.py:126: UserWarning: FP16 is not supported on CPU; using FP32 instead\n",
      "  warnings.warn(\"FP16 is not supported on CPU; using FP32 instead\")\n"
     ]
    },
    {
     "name": "stdout",
     "output_type": "stream",
     "text": [
      "reference_text: chồng tôi bị đau tim\n",
      "predicted_text: chồng tôi bị đau tim.\n",
      "Processing: FPTOpenSpeechData_Set001_V0.1_000726.mp3\n"
     ]
    },
    {
     "name": "stderr",
     "output_type": "stream",
     "text": [
      "/home/ngo/anaconda3/lib/python3.12/site-packages/whisper/transcribe.py:126: UserWarning: FP16 is not supported on CPU; using FP32 instead\n",
      "  warnings.warn(\"FP16 is not supported on CPU; using FP32 instead\")\n"
     ]
    },
    {
     "name": "stdout",
     "output_type": "stream",
     "text": [
      "reference_text: cùng chuẩn và ngũ hai đối tượng khác chuyên làm nhiệm vụ đưa người sang trung quốc là nguyễn vũ hải và võ cảnh dũng cùng trú tại bắc giang cũng bị cảnh sát bắt\n",
      "predicted_text: cùng trận vào ngũ, hai đối tượng khác chuyên làm điện phủ dương người trao chương quốc là nguyễn vũ hằng và võ cảnh dũng cùng chú tại bắc giang cũng bị cảnh sát bắt.\n",
      "Processing: FPTOpenSpeechData_Set001_V0.1_000727.mp3\n"
     ]
    },
    {
     "name": "stderr",
     "output_type": "stream",
     "text": [
      "/home/ngo/anaconda3/lib/python3.12/site-packages/whisper/transcribe.py:126: UserWarning: FP16 is not supported on CPU; using FP32 instead\n",
      "  warnings.warn(\"FP16 is not supported on CPU; using FP32 instead\")\n"
     ]
    },
    {
     "name": "stdout",
     "output_type": "stream",
     "text": [
      "reference_text: ông lữ minh châu\n",
      "predicted_text: hãy subscribe cho kênh ghiền mì gõ để không bỏ lỡ những video hấp dẫn\n",
      "Processing: FPTOpenSpeechData_Set001_V0.1_000728.mp3\n"
     ]
    },
    {
     "name": "stderr",
     "output_type": "stream",
     "text": [
      "/home/ngo/anaconda3/lib/python3.12/site-packages/whisper/transcribe.py:126: UserWarning: FP16 is not supported on CPU; using FP32 instead\n",
      "  warnings.warn(\"FP16 is not supported on CPU; using FP32 instead\")\n"
     ]
    },
    {
     "name": "stdout",
     "output_type": "stream",
     "text": [
      "reference_text: tôi sẽ thử bánh pudding\n",
      "predicted_text: tôi sẽ thử bánh thức đinh\n",
      "Processing: FPTOpenSpeechData_Set001_V0.1_000729.mp3\n"
     ]
    },
    {
     "name": "stderr",
     "output_type": "stream",
     "text": [
      "/home/ngo/anaconda3/lib/python3.12/site-packages/whisper/transcribe.py:126: UserWarning: FP16 is not supported on CPU; using FP32 instead\n",
      "  warnings.warn(\"FP16 is not supported on CPU; using FP32 instead\")\n"
     ]
    },
    {
     "name": "stdout",
     "output_type": "stream",
     "text": [
      "reference_text: cái này không vừa anh có thể đổi nó lấy cái khác không\n",
      "predicted_text: cái này không vừa, anh có thể đổi nó lấy cái khác không?\n",
      "Processing: FPTOpenSpeechData_Set001_V0.1_000730.mp3\n"
     ]
    },
    {
     "name": "stderr",
     "output_type": "stream",
     "text": [
      "/home/ngo/anaconda3/lib/python3.12/site-packages/whisper/transcribe.py:126: UserWarning: FP16 is not supported on CPU; using FP32 instead\n",
      "  warnings.warn(\"FP16 is not supported on CPU; using FP32 instead\")\n"
     ]
    },
    {
     "name": "stdout",
     "output_type": "stream",
     "text": [
      "reference_text: bên chi bộ chưa có quyết định chính thức\n",
      "predicted_text: bên chi bộ chưa có quyết định chính thức.\n",
      "Processing: FPTOpenSpeechData_Set001_V0.1_000731.mp3\n"
     ]
    },
    {
     "name": "stderr",
     "output_type": "stream",
     "text": [
      "/home/ngo/anaconda3/lib/python3.12/site-packages/whisper/transcribe.py:126: UserWarning: FP16 is not supported on CPU; using FP32 instead\n",
      "  warnings.warn(\"FP16 is not supported on CPU; using FP32 instead\")\n"
     ]
    },
    {
     "name": "stdout",
     "output_type": "stream",
     "text": [
      "reference_text: hạn viện mỹ vừa ủng hộ một đạo luật trong đó kiểm soát chặt chẽ hơn nữa hoạt động chơi bạc trực tuyến\n",
      "predicted_text: hạ viện mỹ vừa ủng hộ một đạo luật trong đó kiểm soát chặt chẽ hơn nữa hoạt động xây pháp dịch việt.\n",
      "Processing: FPTOpenSpeechData_Set001_V0.1_000732.mp3\n"
     ]
    },
    {
     "name": "stderr",
     "output_type": "stream",
     "text": [
      "/home/ngo/anaconda3/lib/python3.12/site-packages/whisper/transcribe.py:126: UserWarning: FP16 is not supported on CPU; using FP32 instead\n",
      "  warnings.warn(\"FP16 is not supported on CPU; using FP32 instead\")\n"
     ]
    },
    {
     "name": "stdout",
     "output_type": "stream",
     "text": [
      "reference_text: giấy phạt đây anh bị phạt hai mươi lăm ringgit\n",
      "predicted_text: giấy phạt đây, anh bị phạt 25 ringgit.\n",
      "Processing: FPTOpenSpeechData_Set001_V0.1_000733.mp3\n"
     ]
    },
    {
     "name": "stderr",
     "output_type": "stream",
     "text": [
      "/home/ngo/anaconda3/lib/python3.12/site-packages/whisper/transcribe.py:126: UserWarning: FP16 is not supported on CPU; using FP32 instead\n",
      "  warnings.warn(\"FP16 is not supported on CPU; using FP32 instead\")\n"
     ]
    },
    {
     "name": "stdout",
     "output_type": "stream",
     "text": [
      "reference_text: một số trường hợp góp vốn khác\n",
      "predicted_text: chúng ta sẽ trực hợp góc của khác.\n",
      "Processing: FPTOpenSpeechData_Set001_V0.1_000734.mp3\n"
     ]
    },
    {
     "name": "stderr",
     "output_type": "stream",
     "text": [
      "/home/ngo/anaconda3/lib/python3.12/site-packages/whisper/transcribe.py:126: UserWarning: FP16 is not supported on CPU; using FP32 instead\n",
      "  warnings.warn(\"FP16 is not supported on CPU; using FP32 instead\")\n"
     ]
    },
    {
     "name": "stdout",
     "output_type": "stream",
     "text": [
      "reference_text: các phòng có két sắt không\n",
      "predicted_text: các phân quốc cảnh sát không?\n",
      "Processing: FPTOpenSpeechData_Set001_V0.1_000735.mp3\n"
     ]
    },
    {
     "name": "stderr",
     "output_type": "stream",
     "text": [
      "/home/ngo/anaconda3/lib/python3.12/site-packages/whisper/transcribe.py:126: UserWarning: FP16 is not supported on CPU; using FP32 instead\n",
      "  warnings.warn(\"FP16 is not supported on CPU; using FP32 instead\")\n"
     ]
    },
    {
     "name": "stdout",
     "output_type": "stream",
     "text": [
      "reference_text: cái nào tiện lợi nhất để đi đến nơi này bằng xe buýt hay xe điện\n",
      "predicted_text: cạn nào tiền lời nhất để đi định nơi này bằng chơi bít hay xe điện?\n",
      "Processing: FPTOpenSpeechData_Set001_V0.1_000736.mp3\n"
     ]
    },
    {
     "name": "stderr",
     "output_type": "stream",
     "text": [
      "/home/ngo/anaconda3/lib/python3.12/site-packages/whisper/transcribe.py:126: UserWarning: FP16 is not supported on CPU; using FP32 instead\n",
      "  warnings.warn(\"FP16 is not supported on CPU; using FP32 instead\")\n"
     ]
    },
    {
     "name": "stdout",
     "output_type": "stream",
     "text": [
      "reference_text: thời gian từ đầu đến cuối là bao lâu\n",
      "predicted_text: thời gian từ đầu đến cuối là bao lâu?\n",
      "Processing: FPTOpenSpeechData_Set001_V0.1_000737.mp3\n"
     ]
    },
    {
     "name": "stderr",
     "output_type": "stream",
     "text": [
      "/home/ngo/anaconda3/lib/python3.12/site-packages/whisper/transcribe.py:126: UserWarning: FP16 is not supported on CPU; using FP32 instead\n",
      "  warnings.warn(\"FP16 is not supported on CPU; using FP32 instead\")\n"
     ]
    },
    {
     "name": "stdout",
     "output_type": "stream",
     "text": [
      "reference_text: địa điểm trượt tuyết đâu\n",
      "predicted_text: vậy điểm thuật tuyết đâu?\n",
      "Processing: FPTOpenSpeechData_Set001_V0.1_000738.mp3\n"
     ]
    },
    {
     "name": "stderr",
     "output_type": "stream",
     "text": [
      "/home/ngo/anaconda3/lib/python3.12/site-packages/whisper/transcribe.py:126: UserWarning: FP16 is not supported on CPU; using FP32 instead\n",
      "  warnings.warn(\"FP16 is not supported on CPU; using FP32 instead\")\n"
     ]
    },
    {
     "name": "stdout",
     "output_type": "stream",
     "text": [
      "reference_text: địa điểm các bức tranh ở maunet ở đâu\n",
      "predicted_text: địa điểm chạm đứng trên môn ép ở đâu?\n",
      "Processing: FPTOpenSpeechData_Set001_V0.1_000739.mp3\n"
     ]
    },
    {
     "name": "stderr",
     "output_type": "stream",
     "text": [
      "/home/ngo/anaconda3/lib/python3.12/site-packages/whisper/transcribe.py:126: UserWarning: FP16 is not supported on CPU; using FP32 instead\n",
      "  warnings.warn(\"FP16 is not supported on CPU; using FP32 instead\")\n"
     ]
    },
    {
     "name": "stdout",
     "output_type": "stream",
     "text": [
      "reference_text: chỉ có thể mua vé qua điện thoại\n",
      "predicted_text: chỉ có thể mua vé qua điện thoại\n",
      "Processing: FPTOpenSpeechData_Set001_V0.1_000740.mp3\n"
     ]
    },
    {
     "name": "stderr",
     "output_type": "stream",
     "text": [
      "/home/ngo/anaconda3/lib/python3.12/site-packages/whisper/transcribe.py:126: UserWarning: FP16 is not supported on CPU; using FP32 instead\n",
      "  warnings.warn(\"FP16 is not supported on CPU; using FP32 instead\")\n"
     ]
    },
    {
     "name": "stdout",
     "output_type": "stream",
     "text": [
      "reference_text: vui lòng cho tôi cái gì trị phỏng tốt\n",
      "predicted_text: vui lòng cho tôi cải dì chị, học tốt\n",
      "Processing: FPTOpenSpeechData_Set001_V0.1_000741.mp3\n"
     ]
    },
    {
     "name": "stderr",
     "output_type": "stream",
     "text": [
      "/home/ngo/anaconda3/lib/python3.12/site-packages/whisper/transcribe.py:126: UserWarning: FP16 is not supported on CPU; using FP32 instead\n",
      "  warnings.warn(\"FP16 is not supported on CPU; using FP32 instead\")\n"
     ]
    },
    {
     "name": "stdout",
     "output_type": "stream",
     "text": [
      "reference_text: tôi không thể ăn nó cái này quá dài\n",
      "predicted_text: tôi không thể ăn ngọt cái này quá dài\n",
      "Processing: FPTOpenSpeechData_Set001_V0.1_000742.mp3\n"
     ]
    },
    {
     "name": "stderr",
     "output_type": "stream",
     "text": [
      "/home/ngo/anaconda3/lib/python3.12/site-packages/whisper/transcribe.py:126: UserWarning: FP16 is not supported on CPU; using FP32 instead\n",
      "  warnings.warn(\"FP16 is not supported on CPU; using FP32 instead\")\n"
     ]
    },
    {
     "name": "stdout",
     "output_type": "stream",
     "text": [
      "reference_text: tỷ phú đức tự tử vì khủng hoảng kinh tế\n",
      "predicted_text: trị phú đức tự tử vì phục hoạch chức tế\n",
      "Processing: FPTOpenSpeechData_Set001_V0.1_000743.mp3\n"
     ]
    },
    {
     "name": "stderr",
     "output_type": "stream",
     "text": [
      "/home/ngo/anaconda3/lib/python3.12/site-packages/whisper/transcribe.py:126: UserWarning: FP16 is not supported on CPU; using FP32 instead\n",
      "  warnings.warn(\"FP16 is not supported on CPU; using FP32 instead\")\n"
     ]
    },
    {
     "name": "stdout",
     "output_type": "stream",
     "text": [
      "reference_text: năm qua họ đã cố gắng lèo lái một lúc hai hãng và để không bị khủng hoảng như các hãng khác của mỹ\n",
      "predicted_text: năm qua họ đã cố gắng ngào lái một lúc hai hãng và để không bị thủng hoảng như các hãng khác của mỹ.\n",
      "Processing: FPTOpenSpeechData_Set001_V0.1_000744.mp3\n"
     ]
    },
    {
     "name": "stderr",
     "output_type": "stream",
     "text": [
      "/home/ngo/anaconda3/lib/python3.12/site-packages/whisper/transcribe.py:126: UserWarning: FP16 is not supported on CPU; using FP32 instead\n",
      "  warnings.warn(\"FP16 is not supported on CPU; using FP32 instead\")\n"
     ]
    },
    {
     "name": "stdout",
     "output_type": "stream",
     "text": [
      "reference_text: tôi muốn nước cam trứng trộn một bánh xốp và một tách cà phê\n",
      "predicted_text: tôi muốn nước cam trứng trộn một bánh xốp và một tách cà phê\n",
      "Processing: FPTOpenSpeechData_Set001_V0.1_000745.mp3\n"
     ]
    },
    {
     "name": "stderr",
     "output_type": "stream",
     "text": [
      "/home/ngo/anaconda3/lib/python3.12/site-packages/whisper/transcribe.py:126: UserWarning: FP16 is not supported on CPU; using FP32 instead\n",
      "  warnings.warn(\"FP16 is not supported on CPU; using FP32 instead\")\n"
     ]
    },
    {
     "name": "stdout",
     "output_type": "stream",
     "text": [
      "reference_text: tôi đặt một phòng hai giường\n",
      "predicted_text: tôi đặt một phóng hai dưới.\n",
      "Processing: FPTOpenSpeechData_Set001_V0.1_000746.mp3\n"
     ]
    },
    {
     "name": "stderr",
     "output_type": "stream",
     "text": [
      "/home/ngo/anaconda3/lib/python3.12/site-packages/whisper/transcribe.py:126: UserWarning: FP16 is not supported on CPU; using FP32 instead\n",
      "  warnings.warn(\"FP16 is not supported on CPU; using FP32 instead\")\n"
     ]
    },
    {
     "name": "stdout",
     "output_type": "stream",
     "text": [
      "reference_text: malan có chuyện gì với bạn vậy trông bạn buồn quá\n",
      "predicted_text: ma lan gọi truyền chi vậy bàn vầy, đông bàn buông quá.\n",
      "Processing: FPTOpenSpeechData_Set001_V0.1_000747.mp3\n"
     ]
    },
    {
     "name": "stderr",
     "output_type": "stream",
     "text": [
      "/home/ngo/anaconda3/lib/python3.12/site-packages/whisper/transcribe.py:126: UserWarning: FP16 is not supported on CPU; using FP32 instead\n",
      "  warnings.warn(\"FP16 is not supported on CPU; using FP32 instead\")\n"
     ]
    },
    {
     "name": "stdout",
     "output_type": "stream",
     "text": [
      "reference_text: chúng thường xảy ra trong những vùng biển sóng vỗ\n",
      "predicted_text: chính thường thầy ra trong những vùng biển sóng vỗ.\n",
      "Processing: FPTOpenSpeechData_Set001_V0.1_000748.mp3\n"
     ]
    },
    {
     "name": "stderr",
     "output_type": "stream",
     "text": [
      "/home/ngo/anaconda3/lib/python3.12/site-packages/whisper/transcribe.py:126: UserWarning: FP16 is not supported on CPU; using FP32 instead\n",
      "  warnings.warn(\"FP16 is not supported on CPU; using FP32 instead\")\n"
     ]
    },
    {
     "name": "stdout",
     "output_type": "stream",
     "text": [
      "reference_text: tắt điều hòa phòng họp\n",
      "predicted_text: cắt điện hòa phòng hợp\n",
      "Processing: FPTOpenSpeechData_Set001_V0.1_000749.mp3\n"
     ]
    },
    {
     "name": "stderr",
     "output_type": "stream",
     "text": [
      "/home/ngo/anaconda3/lib/python3.12/site-packages/whisper/transcribe.py:126: UserWarning: FP16 is not supported on CPU; using FP32 instead\n",
      "  warnings.warn(\"FP16 is not supported on CPU; using FP32 instead\")\n"
     ]
    },
    {
     "name": "stdout",
     "output_type": "stream",
     "text": [
      "reference_text: khi nào thì tôi ra viện được\n",
      "predicted_text: khi nào tôi sẽ giao diện được\n",
      "Processing: FPTOpenSpeechData_Set001_V0.1_000750.mp3\n"
     ]
    },
    {
     "name": "stderr",
     "output_type": "stream",
     "text": [
      "/home/ngo/anaconda3/lib/python3.12/site-packages/whisper/transcribe.py:126: UserWarning: FP16 is not supported on CPU; using FP32 instead\n",
      "  warnings.warn(\"FP16 is not supported on CPU; using FP32 instead\")\n"
     ]
    },
    {
     "name": "stdout",
     "output_type": "stream",
     "text": [
      "reference_text: sẽ phải tốn hai ngày thì anh mới khỏe để xuất viện\n",
      "predicted_text: sẽ phải tốn 2 ngày vì anh mới vừa ăn để xuất viện.\n",
      "Processing: FPTOpenSpeechData_Set001_V0.1_000751.mp3\n"
     ]
    },
    {
     "name": "stderr",
     "output_type": "stream",
     "text": [
      "/home/ngo/anaconda3/lib/python3.12/site-packages/whisper/transcribe.py:126: UserWarning: FP16 is not supported on CPU; using FP32 instead\n",
      "  warnings.warn(\"FP16 is not supported on CPU; using FP32 instead\")\n"
     ]
    },
    {
     "name": "stdout",
     "output_type": "stream",
     "text": [
      "reference_text: hiện nay theo nhận thức của đa số người việt chúng ta nhà nước pháp quyền là nhà nước quản lý xã hội bằng pháp luật\n",
      "predicted_text: hiện nay theo nhận thức của đa số người việt chúng ta nhà nước pháp quyền là nhà nước quản lý xã hội bằng pháp luật.\n",
      "Processing: FPTOpenSpeechData_Set001_V0.1_000752.mp3\n"
     ]
    },
    {
     "name": "stderr",
     "output_type": "stream",
     "text": [
      "/home/ngo/anaconda3/lib/python3.12/site-packages/whisper/transcribe.py:126: UserWarning: FP16 is not supported on CPU; using FP32 instead\n",
      "  warnings.warn(\"FP16 is not supported on CPU; using FP32 instead\")\n"
     ]
    },
    {
     "name": "stdout",
     "output_type": "stream",
     "text": [
      "reference_text: bật\n",
      "predicted_text: bác\n",
      "Processing: FPTOpenSpeechData_Set001_V0.1_000753.mp3\n"
     ]
    },
    {
     "name": "stderr",
     "output_type": "stream",
     "text": [
      "/home/ngo/anaconda3/lib/python3.12/site-packages/whisper/transcribe.py:126: UserWarning: FP16 is not supported on CPU; using FP32 instead\n",
      "  warnings.warn(\"FP16 is not supported on CPU; using FP32 instead\")\n"
     ]
    },
    {
     "name": "stdout",
     "output_type": "stream",
     "text": [
      "reference_text: tôi xin tuyên bố kết thúc cuộc họp\n",
      "predicted_text: câu chính tuyên bố kết thúc cuộc học\n",
      "Processing: FPTOpenSpeechData_Set001_V0.1_000754.mp3\n"
     ]
    },
    {
     "name": "stderr",
     "output_type": "stream",
     "text": [
      "/home/ngo/anaconda3/lib/python3.12/site-packages/whisper/transcribe.py:126: UserWarning: FP16 is not supported on CPU; using FP32 instead\n",
      "  warnings.warn(\"FP16 is not supported on CPU; using FP32 instead\")\n"
     ]
    },
    {
     "name": "stdout",
     "output_type": "stream",
     "text": [
      "reference_text: não dẫu tổn hại nặng vẫn phải chữa mặc dù đã gần như biết rõ về cách gây bệnh cũng như những tác hại mà bệnh nhân sẽ phải chịu cả đời nhưng đến nay giới y sỹ vẫn chưa tìm được biện pháp hữu hiệu nào để điều trị căn bệnh hiểm nghèo này\n",
      "predicted_text: não dẫu tổn hại nặng vật thải sữa, mặc dù đã gần, nghi tiết rõ về các gây bệnh cũng như tạm hạn mà đệnh nhân sẽ phải chịu cả đời, nhưng đến nay, giới y tí vẫn chưa tìm được biện pháp giới hiện nào điều trị tâm tận của nhau này.\n",
      "Processing: FPTOpenSpeechData_Set001_V0.1_000755.mp3\n"
     ]
    },
    {
     "name": "stderr",
     "output_type": "stream",
     "text": [
      "/home/ngo/anaconda3/lib/python3.12/site-packages/whisper/transcribe.py:126: UserWarning: FP16 is not supported on CPU; using FP32 instead\n",
      "  warnings.warn(\"FP16 is not supported on CPU; using FP32 instead\")\n"
     ]
    },
    {
     "name": "stdout",
     "output_type": "stream",
     "text": [
      "reference_text: kênh không\n",
      "predicted_text: trên thăm\n",
      "Processing: FPTOpenSpeechData_Set001_V0.1_000756.mp3\n"
     ]
    },
    {
     "name": "stderr",
     "output_type": "stream",
     "text": [
      "/home/ngo/anaconda3/lib/python3.12/site-packages/whisper/transcribe.py:126: UserWarning: FP16 is not supported on CPU; using FP32 instead\n",
      "  warnings.warn(\"FP16 is not supported on CPU; using FP32 instead\")\n"
     ]
    },
    {
     "name": "stdout",
     "output_type": "stream",
     "text": [
      "reference_text: bạn có thể cho tôi thêm vài phút không\n",
      "predicted_text: bạn có thể cho tôi thêm vài phút không?\n",
      "Processing: FPTOpenSpeechData_Set001_V0.1_000757.mp3\n"
     ]
    },
    {
     "name": "stderr",
     "output_type": "stream",
     "text": [
      "/home/ngo/anaconda3/lib/python3.12/site-packages/whisper/transcribe.py:126: UserWarning: FP16 is not supported on CPU; using FP32 instead\n",
      "  warnings.warn(\"FP16 is not supported on CPU; using FP32 instead\")\n"
     ]
    },
    {
     "name": "stdout",
     "output_type": "stream",
     "text": [
      "reference_text: kết quả bốc thăm vòng loại cuối cùng\n",
      "predicted_text: kết quả múc thăm vòng loại cuối cùng.\n",
      "Processing: FPTOpenSpeechData_Set001_V0.1_000758.mp3\n"
     ]
    },
    {
     "name": "stderr",
     "output_type": "stream",
     "text": [
      "/home/ngo/anaconda3/lib/python3.12/site-packages/whisper/transcribe.py:126: UserWarning: FP16 is not supported on CPU; using FP32 instead\n",
      "  warnings.warn(\"FP16 is not supported on CPU; using FP32 instead\")\n"
     ]
    },
    {
     "name": "stdout",
     "output_type": "stream",
     "text": [
      "reference_text: tôi đang tìm một công việc mới\n",
      "predicted_text: tôi đang tìm một công việc mới.\n",
      "Processing: FPTOpenSpeechData_Set001_V0.1_000759.mp3\n"
     ]
    },
    {
     "name": "stderr",
     "output_type": "stream",
     "text": [
      "/home/ngo/anaconda3/lib/python3.12/site-packages/whisper/transcribe.py:126: UserWarning: FP16 is not supported on CPU; using FP32 instead\n",
      "  warnings.warn(\"FP16 is not supported on CPU; using FP32 instead\")\n"
     ]
    },
    {
     "name": "stdout",
     "output_type": "stream",
     "text": [
      "reference_text: sống độc thân bạn đã lãng phí tình cảm đẹp đẽ ấy\n",
      "predicted_text: công hợp phân quan là làm gì thì cảm giác đẹp đấy ạ.\n",
      "Processing: FPTOpenSpeechData_Set001_V0.1_000760.mp3\n"
     ]
    },
    {
     "name": "stderr",
     "output_type": "stream",
     "text": [
      "/home/ngo/anaconda3/lib/python3.12/site-packages/whisper/transcribe.py:126: UserWarning: FP16 is not supported on CPU; using FP32 instead\n",
      "  warnings.warn(\"FP16 is not supported on CPU; using FP32 instead\")\n"
     ]
    },
    {
     "name": "stdout",
     "output_type": "stream",
     "text": [
      "reference_text: đại dương bắc cực ấm lên đột ngột\n",
      "predicted_text: đại dương bắt cửa mình lên đường ngồi\n",
      "Processing: FPTOpenSpeechData_Set001_V0.1_000761.mp3\n"
     ]
    },
    {
     "name": "stderr",
     "output_type": "stream",
     "text": [
      "/home/ngo/anaconda3/lib/python3.12/site-packages/whisper/transcribe.py:126: UserWarning: FP16 is not supported on CPU; using FP32 instead\n",
      "  warnings.warn(\"FP16 is not supported on CPU; using FP32 instead\")\n"
     ]
    },
    {
     "name": "stdout",
     "output_type": "stream",
     "text": [
      "reference_text: bạn có một nụ cười đẹp\n",
      "predicted_text: bạn có một nhịp cười đẹp\n",
      "Processing: FPTOpenSpeechData_Set001_V0.1_000762.mp3\n"
     ]
    },
    {
     "name": "stderr",
     "output_type": "stream",
     "text": [
      "/home/ngo/anaconda3/lib/python3.12/site-packages/whisper/transcribe.py:126: UserWarning: FP16 is not supported on CPU; using FP32 instead\n",
      "  warnings.warn(\"FP16 is not supported on CPU; using FP32 instead\")\n"
     ]
    },
    {
     "name": "stdout",
     "output_type": "stream",
     "text": [
      "reference_text: hãy đứng tại chỗ đừng cử động\n",
      "predicted_text: hãy đứng tại chỗ đừng cử động.\n",
      "Processing: FPTOpenSpeechData_Set001_V0.1_000763.mp3\n"
     ]
    },
    {
     "name": "stderr",
     "output_type": "stream",
     "text": [
      "/home/ngo/anaconda3/lib/python3.12/site-packages/whisper/transcribe.py:126: UserWarning: FP16 is not supported on CPU; using FP32 instead\n",
      "  warnings.warn(\"FP16 is not supported on CPU; using FP32 instead\")\n"
     ]
    },
    {
     "name": "stdout",
     "output_type": "stream",
     "text": [
      "reference_text: à tôi hiểu cái đó và cà phê nữa\n",
      "predicted_text: à tôi hiểu, em đổ vào cà phê nữa.\n",
      "Processing: FPTOpenSpeechData_Set001_V0.1_000764.mp3\n"
     ]
    },
    {
     "name": "stderr",
     "output_type": "stream",
     "text": [
      "/home/ngo/anaconda3/lib/python3.12/site-packages/whisper/transcribe.py:126: UserWarning: FP16 is not supported on CPU; using FP32 instead\n",
      "  warnings.warn(\"FP16 is not supported on CPU; using FP32 instead\")\n"
     ]
    },
    {
     "name": "stdout",
     "output_type": "stream",
     "text": [
      "reference_text: một giờ thì giá bao nhiêu\n",
      "predicted_text: một giờ thiên gia bao nhiêu\n",
      "Processing: FPTOpenSpeechData_Set001_V0.1_000765.mp3\n"
     ]
    },
    {
     "name": "stderr",
     "output_type": "stream",
     "text": [
      "/home/ngo/anaconda3/lib/python3.12/site-packages/whisper/transcribe.py:126: UserWarning: FP16 is not supported on CPU; using FP32 instead\n",
      "  warnings.warn(\"FP16 is not supported on CPU; using FP32 instead\")\n"
     ]
    },
    {
     "name": "stdout",
     "output_type": "stream",
     "text": [
      "reference_text: vĩnh cũng hy vọng nhiều người dân việt sẽ được ăn những quả bưởi chất lượng thời gian tới bưởi bảo quản đã khó nhãn vải bảo quản còn khó hơn\n",
      "predicted_text: vịnh cũng hy vọng nhiều người dân việt sẽ được ăn những quả bưởi chất lượng thời gian tới, bởi bảo quản đã khó, nhà ăn phải, bảo quản còn khó hơn.\n",
      "Processing: FPTOpenSpeechData_Set001_V0.1_000766.mp3\n"
     ]
    },
    {
     "name": "stderr",
     "output_type": "stream",
     "text": [
      "/home/ngo/anaconda3/lib/python3.12/site-packages/whisper/transcribe.py:126: UserWarning: FP16 is not supported on CPU; using FP32 instead\n",
      "  warnings.warn(\"FP16 is not supported on CPU; using FP32 instead\")\n"
     ]
    },
    {
     "name": "stdout",
     "output_type": "stream",
     "text": [
      "reference_text: dị tật thai nhi chủ yếu dựa vào chẩn đoán hình ảnh và xét nghiệm di truyền\n",
      "predicted_text: vi tật thay nghĩa chủ yếu dựa vào trần đoán hình ảnh và kết nối dưới cương\n",
      "Processing: FPTOpenSpeechData_Set001_V0.1_000767.mp3\n"
     ]
    },
    {
     "name": "stderr",
     "output_type": "stream",
     "text": [
      "/home/ngo/anaconda3/lib/python3.12/site-packages/whisper/transcribe.py:126: UserWarning: FP16 is not supported on CPU; using FP32 instead\n",
      "  warnings.warn(\"FP16 is not supported on CPU; using FP32 instead\")\n"
     ]
    },
    {
     "name": "stdout",
     "output_type": "stream",
     "text": [
      "reference_text: cho tôi một ít thuốc nhỏ mắt được không\n",
      "predicted_text: cho tôi một chút thôi và má tôi không\n",
      "Processing: FPTOpenSpeechData_Set001_V0.1_000768.mp3\n"
     ]
    },
    {
     "name": "stderr",
     "output_type": "stream",
     "text": [
      "/home/ngo/anaconda3/lib/python3.12/site-packages/whisper/transcribe.py:126: UserWarning: FP16 is not supported on CPU; using FP32 instead\n",
      "  warnings.warn(\"FP16 is not supported on CPU; using FP32 instead\")\n"
     ]
    },
    {
     "name": "stdout",
     "output_type": "stream",
     "text": [
      "reference_text: xin lỗi tôi kiểm tra hóa đơn được không\n",
      "predicted_text: chị nói được được cháu ở đây là không?\n",
      "Processing: FPTOpenSpeechData_Set001_V0.1_000769.mp3\n"
     ]
    },
    {
     "name": "stderr",
     "output_type": "stream",
     "text": [
      "/home/ngo/anaconda3/lib/python3.12/site-packages/whisper/transcribe.py:126: UserWarning: FP16 is not supported on CPU; using FP32 instead\n",
      "  warnings.warn(\"FP16 is not supported on CPU; using FP32 instead\")\n"
     ]
    },
    {
     "name": "stdout",
     "output_type": "stream",
     "text": [
      "reference_text: cái gì ở góc phố\n",
      "predicted_text: tại vì... các phụ...\n",
      "Processing: FPTOpenSpeechData_Set001_V0.1_000770.mp3\n"
     ]
    },
    {
     "name": "stderr",
     "output_type": "stream",
     "text": [
      "/home/ngo/anaconda3/lib/python3.12/site-packages/whisper/transcribe.py:126: UserWarning: FP16 is not supported on CPU; using FP32 instead\n",
      "  warnings.warn(\"FP16 is not supported on CPU; using FP32 instead\")\n"
     ]
    },
    {
     "name": "stdout",
     "output_type": "stream",
     "text": [
      "reference_text: chúng vẫn vào hai mắt của tôi\n",
      "predicted_text: chụm vần vào hai mắt của tôi.\n",
      "Processing: FPTOpenSpeechData_Set001_V0.1_000771.mp3\n"
     ]
    },
    {
     "name": "stderr",
     "output_type": "stream",
     "text": [
      "/home/ngo/anaconda3/lib/python3.12/site-packages/whisper/transcribe.py:126: UserWarning: FP16 is not supported on CPU; using FP32 instead\n",
      "  warnings.warn(\"FP16 is not supported on CPU; using FP32 instead\")\n"
     ]
    },
    {
     "name": "stdout",
     "output_type": "stream",
     "text": [
      "reference_text: trước khi đến với điện ảnh tôi kinh doanh cho thuê xe du lịch\n",
      "predicted_text: trước khi đến với điện ảnh, tôi kinh doanh cho thuê xe du lịch\n",
      "Processing: FPTOpenSpeechData_Set001_V0.1_000772.mp3\n"
     ]
    },
    {
     "name": "stderr",
     "output_type": "stream",
     "text": [
      "/home/ngo/anaconda3/lib/python3.12/site-packages/whisper/transcribe.py:126: UserWarning: FP16 is not supported on CPU; using FP32 instead\n",
      "  warnings.warn(\"FP16 is not supported on CPU; using FP32 instead\")\n"
     ]
    },
    {
     "name": "stdout",
     "output_type": "stream",
     "text": [
      "reference_text: tàng trữ trái phép và vũ khí quân dụng nguyễn hữu cảnh chủ vũ trường bị phạt bảy năm sáu tháng tù cảnh đã tự hủy cuộc đời bởi sự liều lĩnh\n",
      "predicted_text: đang chịu trái phép và phụ thí quanh dụng nguyễn hữu cảnh, chủ vụ trường bị phạt 7 năm 6 tháng tù, cảnh đã tự hủy cuộc đời với sự liều lĩnh.\n",
      "Processing: FPTOpenSpeechData_Set001_V0.1_000773.mp3\n"
     ]
    },
    {
     "name": "stderr",
     "output_type": "stream",
     "text": [
      "/home/ngo/anaconda3/lib/python3.12/site-packages/whisper/transcribe.py:126: UserWarning: FP16 is not supported on CPU; using FP32 instead\n",
      "  warnings.warn(\"FP16 is not supported on CPU; using FP32 instead\")\n"
     ]
    },
    {
     "name": "stdout",
     "output_type": "stream",
     "text": [
      "reference_text: anh ấy đi chưa chưa\n",
      "predicted_text: anh ấy đi chưa? chưa\n",
      "Processing: FPTOpenSpeechData_Set001_V0.1_000774.mp3\n"
     ]
    },
    {
     "name": "stderr",
     "output_type": "stream",
     "text": [
      "/home/ngo/anaconda3/lib/python3.12/site-packages/whisper/transcribe.py:126: UserWarning: FP16 is not supported on CPU; using FP32 instead\n",
      "  warnings.warn(\"FP16 is not supported on CPU; using FP32 instead\")\n"
     ]
    },
    {
     "name": "stdout",
     "output_type": "stream",
     "text": [
      "reference_text: tôi có thể gửi trước hành lý của tôi được không\n",
      "predicted_text: tôi có thể gửi trước hành lý của tôi được không?\n",
      "Processing: FPTOpenSpeechData_Set001_V0.1_000775.mp3\n"
     ]
    },
    {
     "name": "stderr",
     "output_type": "stream",
     "text": [
      "/home/ngo/anaconda3/lib/python3.12/site-packages/whisper/transcribe.py:126: UserWarning: FP16 is not supported on CPU; using FP32 instead\n",
      "  warnings.warn(\"FP16 is not supported on CPU; using FP32 instead\")\n"
     ]
    },
    {
     "name": "stdout",
     "output_type": "stream",
     "text": [
      "reference_text: hầu hết số mỡ động vật đều đang ở giai đoạn phân hủy bốc mùi hôi thối nồng nặc\n",
      "predicted_text: hầu hết số mờ đông vật, têu đá hờ dãi đoan phấn hủy, bốc mùi hối thủi nông nặc\n",
      "Processing: FPTOpenSpeechData_Set001_V0.1_000776.mp3\n"
     ]
    },
    {
     "name": "stderr",
     "output_type": "stream",
     "text": [
      "/home/ngo/anaconda3/lib/python3.12/site-packages/whisper/transcribe.py:126: UserWarning: FP16 is not supported on CPU; using FP32 instead\n",
      "  warnings.warn(\"FP16 is not supported on CPU; using FP32 instead\")\n"
     ]
    },
    {
     "name": "stdout",
     "output_type": "stream",
     "text": [
      "reference_text: khoảng bốn mươi lăm đô la mỗi người\n",
      "predicted_text: khoảng 45 đô la mỗi người\n",
      "Processing: FPTOpenSpeechData_Set001_V0.1_000777.mp3\n"
     ]
    },
    {
     "name": "stderr",
     "output_type": "stream",
     "text": [
      "/home/ngo/anaconda3/lib/python3.12/site-packages/whisper/transcribe.py:126: UserWarning: FP16 is not supported on CPU; using FP32 instead\n",
      "  warnings.warn(\"FP16 is not supported on CPU; using FP32 instead\")\n"
     ]
    },
    {
     "name": "stdout",
     "output_type": "stream",
     "text": [
      "reference_text: thằng bé không đội mũ khi ra ngoài vào trời lạnh không\n",
      "predicted_text: chẳng lẽ không đuổi ngủ khi ra ngoài vào trời lại không?\n",
      "Processing: FPTOpenSpeechData_Set001_V0.1_000778.mp3\n"
     ]
    },
    {
     "name": "stderr",
     "output_type": "stream",
     "text": [
      "/home/ngo/anaconda3/lib/python3.12/site-packages/whisper/transcribe.py:126: UserWarning: FP16 is not supported on CPU; using FP32 instead\n",
      "  warnings.warn(\"FP16 is not supported on CPU; using FP32 instead\")\n"
     ]
    },
    {
     "name": "stdout",
     "output_type": "stream",
     "text": [
      "reference_text: tôi không nghĩ đó là một phong tục nhật bản độc nhất vô nhị\n",
      "predicted_text: tôi không gì đòi làm một phong tích nhật bản được ghép vô nhị.\n",
      "Processing: FPTOpenSpeechData_Set001_V0.1_000779.mp3\n"
     ]
    },
    {
     "name": "stderr",
     "output_type": "stream",
     "text": [
      "/home/ngo/anaconda3/lib/python3.12/site-packages/whisper/transcribe.py:126: UserWarning: FP16 is not supported on CPU; using FP32 instead\n",
      "  warnings.warn(\"FP16 is not supported on CPU; using FP32 instead\")\n"
     ]
    },
    {
     "name": "stdout",
     "output_type": "stream",
     "text": [
      "reference_text: chiếc này dành riêng tổng thống mới đắc cử của mỹ xác nhận đã chuyển tới mật vụ mỹ chiếc xe dành cho tổng thống mới để thay chiếc xe cũ\n",
      "predicted_text: chiếc này dành riêng tổng thống mới đắc cử của mỹ xác nhận đã chuyển tới mật vụ mỹ chiếc xe dành cho tổng thống mới để thay chiếc xe cũ.\n",
      "Processing: FPTOpenSpeechData_Set001_V0.1_000780.mp3\n"
     ]
    },
    {
     "name": "stderr",
     "output_type": "stream",
     "text": [
      "/home/ngo/anaconda3/lib/python3.12/site-packages/whisper/transcribe.py:126: UserWarning: FP16 is not supported on CPU; using FP32 instead\n",
      "  warnings.warn(\"FP16 is not supported on CPU; using FP32 instead\")\n"
     ]
    },
    {
     "name": "stdout",
     "output_type": "stream",
     "text": [
      "reference_text: hôm nay ba em đi công tác anh qua đây nhé\n",
      "predicted_text: hôm nay bà em đi công tác, anh qua đây nhé!\n",
      "Processing: FPTOpenSpeechData_Set001_V0.1_000781.mp3\n"
     ]
    },
    {
     "name": "stderr",
     "output_type": "stream",
     "text": [
      "/home/ngo/anaconda3/lib/python3.12/site-packages/whisper/transcribe.py:126: UserWarning: FP16 is not supported on CPU; using FP32 instead\n",
      "  warnings.warn(\"FP16 is not supported on CPU; using FP32 instead\")\n"
     ]
    },
    {
     "name": "stdout",
     "output_type": "stream",
     "text": [
      "reference_text: xin lỗi tôi đang tắm\n",
      "predicted_text: xin lỗi tôi đang tắm\n",
      "Processing: FPTOpenSpeechData_Set001_V0.1_000782.mp3\n"
     ]
    },
    {
     "name": "stderr",
     "output_type": "stream",
     "text": [
      "/home/ngo/anaconda3/lib/python3.12/site-packages/whisper/transcribe.py:126: UserWarning: FP16 is not supported on CPU; using FP32 instead\n",
      "  warnings.warn(\"FP16 is not supported on CPU; using FP32 instead\")\n"
     ]
    },
    {
     "name": "stdout",
     "output_type": "stream",
     "text": [
      "reference_text: từ hôm nay bạn sẽ ở đâu\n",
      "predicted_text: từ hôm nay bạn sẽ ở đâu?\n",
      "Processing: FPTOpenSpeechData_Set001_V0.1_000783.mp3\n"
     ]
    },
    {
     "name": "stderr",
     "output_type": "stream",
     "text": [
      "/home/ngo/anaconda3/lib/python3.12/site-packages/whisper/transcribe.py:126: UserWarning: FP16 is not supported on CPU; using FP32 instead\n",
      "  warnings.warn(\"FP16 is not supported on CPU; using FP32 instead\")\n"
     ]
    },
    {
     "name": "stdout",
     "output_type": "stream",
     "text": [
      "reference_text: các tác phẩm ăn khách để ở đâu\n",
      "predicted_text: các tác phẩm anh khách để ở đâu?\n",
      "Processing: FPTOpenSpeechData_Set001_V0.1_000784.mp3\n"
     ]
    },
    {
     "name": "stderr",
     "output_type": "stream",
     "text": [
      "/home/ngo/anaconda3/lib/python3.12/site-packages/whisper/transcribe.py:126: UserWarning: FP16 is not supported on CPU; using FP32 instead\n",
      "  warnings.warn(\"FP16 is not supported on CPU; using FP32 instead\")\n"
     ]
    },
    {
     "name": "stdout",
     "output_type": "stream",
     "text": [
      "reference_text: anh ấy vừa mới đến từ anh quốc hôm qua\n",
      "predicted_text: anh ấy vừa mời đến từ ánh cửa hôm qua.\n",
      "Processing: FPTOpenSpeechData_Set001_V0.1_000785.mp3\n"
     ]
    },
    {
     "name": "stderr",
     "output_type": "stream",
     "text": [
      "/home/ngo/anaconda3/lib/python3.12/site-packages/whisper/transcribe.py:126: UserWarning: FP16 is not supported on CPU; using FP32 instead\n",
      "  warnings.warn(\"FP16 is not supported on CPU; using FP32 instead\")\n"
     ]
    },
    {
     "name": "stdout",
     "output_type": "stream",
     "text": [
      "reference_text: nếu bạn không bắt đầu chuẩn bị tôi không cần nữa\n",
      "predicted_text: nếu bạn không mất đâu thì mình không cần nữa.\n",
      "Processing: FPTOpenSpeechData_Set001_V0.1_000786.mp3\n"
     ]
    },
    {
     "name": "stderr",
     "output_type": "stream",
     "text": [
      "/home/ngo/anaconda3/lib/python3.12/site-packages/whisper/transcribe.py:126: UserWarning: FP16 is not supported on CPU; using FP32 instead\n",
      "  warnings.warn(\"FP16 is not supported on CPU; using FP32 instead\")\n"
     ]
    },
    {
     "name": "stdout",
     "output_type": "stream",
     "text": [
      "reference_text: tôi muốn đặt chỗ cửa hàng da vào ngày mười hai tháng ba\n",
      "predicted_text: tôi cũng đặt chỗ cửa hàng ra vào ngày 12 tháng 3.\n",
      "Processing: FPTOpenSpeechData_Set001_V0.1_000787.mp3\n"
     ]
    },
    {
     "name": "stderr",
     "output_type": "stream",
     "text": [
      "/home/ngo/anaconda3/lib/python3.12/site-packages/whisper/transcribe.py:126: UserWarning: FP16 is not supported on CPU; using FP32 instead\n",
      "  warnings.warn(\"FP16 is not supported on CPU; using FP32 instead\")\n"
     ]
    },
    {
     "name": "stdout",
     "output_type": "stream",
     "text": [
      "reference_text: đúng là quê một cục\n",
      "predicted_text: đúng không? đúng không?\n",
      "Processing: FPTOpenSpeechData_Set001_V0.1_000788.mp3\n"
     ]
    },
    {
     "name": "stderr",
     "output_type": "stream",
     "text": [
      "/home/ngo/anaconda3/lib/python3.12/site-packages/whisper/transcribe.py:126: UserWarning: FP16 is not supported on CPU; using FP32 instead\n",
      "  warnings.warn(\"FP16 is not supported on CPU; using FP32 instead\")\n"
     ]
    },
    {
     "name": "stdout",
     "output_type": "stream",
     "text": [
      "reference_text: bush phương tây và nga căng thẳng\n",
      "predicted_text: phước tây và nga cắt thẳng\n",
      "Processing: FPTOpenSpeechData_Set001_V0.1_000789.mp3\n"
     ]
    },
    {
     "name": "stderr",
     "output_type": "stream",
     "text": [
      "/home/ngo/anaconda3/lib/python3.12/site-packages/whisper/transcribe.py:126: UserWarning: FP16 is not supported on CPU; using FP32 instead\n",
      "  warnings.warn(\"FP16 is not supported on CPU; using FP32 instead\")\n"
     ]
    },
    {
     "name": "stdout",
     "output_type": "stream",
     "text": [
      "reference_text: não dẫu tổn hại nặng vẫn phải chữa mặc dù đã gần như biết rõ về cách gây bệnh cũng như những tác hại mà bệnh nhân sẽ phải chịu cả đời nhưng đến nay giới y sỹ vẫn chưa tìm ra được biện pháp hữu hiệu nào để điều trị căn bệnh hiểm nghèo này\n",
      "predicted_text: lão giữa tổ hại lặng vẫn phải chữa, mặc dù đã gần như biết rõ về cách xây bệnh cũng như những tác hại mà bệnh nhân sẽ phải chịu cả đời, nhưng đến nay người y sĩ vẫn chưa tìm ra được biện pháp, dữ liệu nào để điều trị thân bệnh hiểm nghèo này.\n",
      "Processing: FPTOpenSpeechData_Set001_V0.1_000790.mp3\n"
     ]
    },
    {
     "name": "stderr",
     "output_type": "stream",
     "text": [
      "/home/ngo/anaconda3/lib/python3.12/site-packages/whisper/transcribe.py:126: UserWarning: FP16 is not supported on CPU; using FP32 instead\n",
      "  warnings.warn(\"FP16 is not supported on CPU; using FP32 instead\")\n"
     ]
    },
    {
     "name": "stdout",
     "output_type": "stream",
     "text": [
      "reference_text: ở thể chế này những cuộc bán đấu giá được xem là một sự kiện xã hội\n",
      "predicted_text: ở thế chết này, những cuộc bắn đấu đá được xem là một sự kiện xã hội.\n",
      "Processing: FPTOpenSpeechData_Set001_V0.1_000791.mp3\n"
     ]
    },
    {
     "name": "stderr",
     "output_type": "stream",
     "text": [
      "/home/ngo/anaconda3/lib/python3.12/site-packages/whisper/transcribe.py:126: UserWarning: FP16 is not supported on CPU; using FP32 instead\n",
      "  warnings.warn(\"FP16 is not supported on CPU; using FP32 instead\")\n"
     ]
    },
    {
     "name": "stdout",
     "output_type": "stream",
     "text": [
      "reference_text: tôi sẽ chở anh đến đó\n",
      "predicted_text: đối xe chơi anh nhìn đó\n",
      "Processing: FPTOpenSpeechData_Set001_V0.1_000792.mp3\n"
     ]
    },
    {
     "name": "stderr",
     "output_type": "stream",
     "text": [
      "/home/ngo/anaconda3/lib/python3.12/site-packages/whisper/transcribe.py:126: UserWarning: FP16 is not supported on CPU; using FP32 instead\n",
      "  warnings.warn(\"FP16 is not supported on CPU; using FP32 instead\")\n"
     ]
    },
    {
     "name": "stdout",
     "output_type": "stream",
     "text": [
      "reference_text: bị bắt giam vì xúc phạm trên mạng xã hội ảo\n",
      "predicted_text: bị bắt giam vì xúc phạm trên mạng xã hội ảo.\n",
      "Processing: FPTOpenSpeechData_Set001_V0.1_000793.mp3\n"
     ]
    },
    {
     "name": "stderr",
     "output_type": "stream",
     "text": [
      "/home/ngo/anaconda3/lib/python3.12/site-packages/whisper/transcribe.py:126: UserWarning: FP16 is not supported on CPU; using FP32 instead\n",
      "  warnings.warn(\"FP16 is not supported on CPU; using FP32 instead\")\n"
     ]
    },
    {
     "name": "stdout",
     "output_type": "stream",
     "text": [
      "reference_text: khi nào quán trà đóng cửa\n",
      "predicted_text: khi nào quán trà đóng cửa?\n",
      "Processing: FPTOpenSpeechData_Set001_V0.1_000794.mp3\n"
     ]
    },
    {
     "name": "stderr",
     "output_type": "stream",
     "text": [
      "/home/ngo/anaconda3/lib/python3.12/site-packages/whisper/transcribe.py:126: UserWarning: FP16 is not supported on CPU; using FP32 instead\n",
      "  warnings.warn(\"FP16 is not supported on CPU; using FP32 instead\")\n"
     ]
    },
    {
     "name": "stdout",
     "output_type": "stream",
     "text": [
      "reference_text: tôi đến ga chính xe lửa bằng cách nào\n",
      "predicted_text: cô đệm gái chị xe lừa băng cách nắng\n",
      "Processing: FPTOpenSpeechData_Set001_V0.1_000795.mp3\n"
     ]
    },
    {
     "name": "stderr",
     "output_type": "stream",
     "text": [
      "/home/ngo/anaconda3/lib/python3.12/site-packages/whisper/transcribe.py:126: UserWarning: FP16 is not supported on CPU; using FP32 instead\n",
      "  warnings.warn(\"FP16 is not supported on CPU; using FP32 instead\")\n"
     ]
    },
    {
     "name": "stdout",
     "output_type": "stream",
     "text": [
      "reference_text: tôi muốn nói chuyện với\n",
      "predicted_text: tôi muốn nói chuyện với...\n",
      "Processing: FPTOpenSpeechData_Set001_V0.1_000796.mp3\n"
     ]
    },
    {
     "name": "stderr",
     "output_type": "stream",
     "text": [
      "/home/ngo/anaconda3/lib/python3.12/site-packages/whisper/transcribe.py:126: UserWarning: FP16 is not supported on CPU; using FP32 instead\n",
      "  warnings.warn(\"FP16 is not supported on CPU; using FP32 instead\")\n"
     ]
    },
    {
     "name": "stdout",
     "output_type": "stream",
     "text": [
      "reference_text: tôi đi hải phòng còn bạn đi đâu\n",
      "predicted_text: cố đi hải phòng, con mình đi đâu?\n",
      "Processing: FPTOpenSpeechData_Set001_V0.1_000797.mp3\n"
     ]
    },
    {
     "name": "stderr",
     "output_type": "stream",
     "text": [
      "/home/ngo/anaconda3/lib/python3.12/site-packages/whisper/transcribe.py:126: UserWarning: FP16 is not supported on CPU; using FP32 instead\n",
      "  warnings.warn(\"FP16 is not supported on CPU; using FP32 instead\")\n"
     ]
    },
    {
     "name": "stdout",
     "output_type": "stream",
     "text": [
      "reference_text: lên tới lớp thu tiền học phí\n",
      "predicted_text: lên tới lớp thu tiền học quý\n",
      "Processing: FPTOpenSpeechData_Set001_V0.1_000798.mp3\n"
     ]
    },
    {
     "name": "stderr",
     "output_type": "stream",
     "text": [
      "/home/ngo/anaconda3/lib/python3.12/site-packages/whisper/transcribe.py:126: UserWarning: FP16 is not supported on CPU; using FP32 instead\n",
      "  warnings.warn(\"FP16 is not supported on CPU; using FP32 instead\")\n"
     ]
    },
    {
     "name": "stdout",
     "output_type": "stream",
     "text": [
      "reference_text: ăn nói sờm sỡ\n",
      "predicted_text: ăn nói sơm sở.\n",
      "Processing: FPTOpenSpeechData_Set001_V0.1_000799.mp3\n"
     ]
    },
    {
     "name": "stderr",
     "output_type": "stream",
     "text": [
      "/home/ngo/anaconda3/lib/python3.12/site-packages/whisper/transcribe.py:126: UserWarning: FP16 is not supported on CPU; using FP32 instead\n",
      "  warnings.warn(\"FP16 is not supported on CPU; using FP32 instead\")\n"
     ]
    },
    {
     "name": "stdout",
     "output_type": "stream",
     "text": [
      "reference_text: vâng được đào ở đây\n",
      "predicted_text: vâng, việt nam ở đây.\n",
      "Processing: FPTOpenSpeechData_Set001_V0.1_000800.mp3\n"
     ]
    },
    {
     "name": "stderr",
     "output_type": "stream",
     "text": [
      "/home/ngo/anaconda3/lib/python3.12/site-packages/whisper/transcribe.py:126: UserWarning: FP16 is not supported on CPU; using FP32 instead\n",
      "  warnings.warn(\"FP16 is not supported on CPU; using FP32 instead\")\n"
     ]
    },
    {
     "name": "stdout",
     "output_type": "stream",
     "text": [
      "reference_text: mấy giờ xe buýt đó đến\n",
      "predicted_text: mấy giờ david đã đến?\n",
      "Processing: FPTOpenSpeechData_Set001_V0.1_000801.mp3\n"
     ]
    },
    {
     "name": "stderr",
     "output_type": "stream",
     "text": [
      "/home/ngo/anaconda3/lib/python3.12/site-packages/whisper/transcribe.py:126: UserWarning: FP16 is not supported on CPU; using FP32 instead\n",
      "  warnings.warn(\"FP16 is not supported on CPU; using FP32 instead\")\n"
     ]
    },
    {
     "name": "stdout",
     "output_type": "stream",
     "text": [
      "reference_text: nó sẽ dừng chảy máu\n",
      "predicted_text: nó sẽ dừng cạnh mấy\n",
      "Processing: FPTOpenSpeechData_Set001_V0.1_000802.mp3\n"
     ]
    },
    {
     "name": "stderr",
     "output_type": "stream",
     "text": [
      "/home/ngo/anaconda3/lib/python3.12/site-packages/whisper/transcribe.py:126: UserWarning: FP16 is not supported on CPU; using FP32 instead\n",
      "  warnings.warn(\"FP16 is not supported on CPU; using FP32 instead\")\n"
     ]
    },
    {
     "name": "stdout",
     "output_type": "stream",
     "text": [
      "reference_text: có đứa gọi hắn tên hải làm cái gì ở công ty nước ngoài\n",
      "predicted_text: có đứa gọi hắn tên hải, làm cái gì ở công ty nước ngoài?\n",
      "Processing: FPTOpenSpeechData_Set001_V0.1_000803.mp3\n"
     ]
    },
    {
     "name": "stderr",
     "output_type": "stream",
     "text": [
      "/home/ngo/anaconda3/lib/python3.12/site-packages/whisper/transcribe.py:126: UserWarning: FP16 is not supported on CPU; using FP32 instead\n",
      "  warnings.warn(\"FP16 is not supported on CPU; using FP32 instead\")\n"
     ]
    },
    {
     "name": "stdout",
     "output_type": "stream",
     "text": [
      "reference_text: mấy giờ con thuyền đó mới khởi hành\n",
      "predicted_text: mấy giờ con thuyền nó mới tự hành?\n",
      "Processing: FPTOpenSpeechData_Set001_V0.1_000804.mp3\n"
     ]
    },
    {
     "name": "stderr",
     "output_type": "stream",
     "text": [
      "/home/ngo/anaconda3/lib/python3.12/site-packages/whisper/transcribe.py:126: UserWarning: FP16 is not supported on CPU; using FP32 instead\n",
      "  warnings.warn(\"FP16 is not supported on CPU; using FP32 instead\")\n"
     ]
    },
    {
     "name": "stdout",
     "output_type": "stream",
     "text": [
      "reference_text: chính là nó cảm ơn\n",
      "predicted_text: kính là nó cảm ơn\n",
      "Processing: FPTOpenSpeechData_Set001_V0.1_000805.mp3\n"
     ]
    },
    {
     "name": "stderr",
     "output_type": "stream",
     "text": [
      "/home/ngo/anaconda3/lib/python3.12/site-packages/whisper/transcribe.py:126: UserWarning: FP16 is not supported on CPU; using FP32 instead\n",
      "  warnings.warn(\"FP16 is not supported on CPU; using FP32 instead\")\n"
     ]
    },
    {
     "name": "stdout",
     "output_type": "stream",
     "text": [
      "reference_text: đỗ đũa trồng trong mùa hè lớn nhanh và sớm có quả dẫu bị bỏ tưới đỗ đũa vẫn ra quả trĩu giàn\n",
      "predicted_text: đỗ đua trồng trong mùa hè lớn anh và thường có quả dẫu bị vỏ tưới, đỗ đua vẫn ra quả chiên hàng.\n",
      "Processing: FPTOpenSpeechData_Set001_V0.1_000806.mp3\n"
     ]
    },
    {
     "name": "stderr",
     "output_type": "stream",
     "text": [
      "/home/ngo/anaconda3/lib/python3.12/site-packages/whisper/transcribe.py:126: UserWarning: FP16 is not supported on CPU; using FP32 instead\n",
      "  warnings.warn(\"FP16 is not supported on CPU; using FP32 instead\")\n"
     ]
    },
    {
     "name": "stdout",
     "output_type": "stream",
     "text": [
      "reference_text: để nó cho tôi\n",
      "predicted_text: để nó cho tôi\n",
      "Processing: FPTOpenSpeechData_Set001_V0.1_000807.mp3\n"
     ]
    },
    {
     "name": "stderr",
     "output_type": "stream",
     "text": [
      "/home/ngo/anaconda3/lib/python3.12/site-packages/whisper/transcribe.py:126: UserWarning: FP16 is not supported on CPU; using FP32 instead\n",
      "  warnings.warn(\"FP16 is not supported on CPU; using FP32 instead\")\n"
     ]
    },
    {
     "name": "stdout",
     "output_type": "stream",
     "text": [
      "reference_text: -n chìm nghỉm\n",
      "predicted_text: các bạn có thể nhận thêm những thông tin về các bài học của mình trong phần bình luận.\n",
      "Processing: FPTOpenSpeechData_Set001_V0.1_000808.mp3\n"
     ]
    },
    {
     "name": "stderr",
     "output_type": "stream",
     "text": [
      "/home/ngo/anaconda3/lib/python3.12/site-packages/whisper/transcribe.py:126: UserWarning: FP16 is not supported on CPU; using FP32 instead\n",
      "  warnings.warn(\"FP16 is not supported on CPU; using FP32 instead\")\n"
     ]
    },
    {
     "name": "stdout",
     "output_type": "stream",
     "text": [
      "reference_text: tôi muốn hỏi anh về sendai\n",
      "predicted_text: tôi muốn hỏi anh về senpai.\n",
      "Processing: FPTOpenSpeechData_Set001_V0.1_000809.mp3\n"
     ]
    },
    {
     "name": "stderr",
     "output_type": "stream",
     "text": [
      "/home/ngo/anaconda3/lib/python3.12/site-packages/whisper/transcribe.py:126: UserWarning: FP16 is not supported on CPU; using FP32 instead\n",
      "  warnings.warn(\"FP16 is not supported on CPU; using FP32 instead\")\n"
     ]
    },
    {
     "name": "stdout",
     "output_type": "stream",
     "text": [
      "reference_text: nghĩa là khoảng mười đô la một cuộn phim ba mươi sáu tấm\n",
      "predicted_text: nghĩa là khoảng 10 đô la một cuộn phim 36 tấm.\n",
      "Processing: FPTOpenSpeechData_Set001_V0.1_000810.mp3\n"
     ]
    },
    {
     "name": "stderr",
     "output_type": "stream",
     "text": [
      "/home/ngo/anaconda3/lib/python3.12/site-packages/whisper/transcribe.py:126: UserWarning: FP16 is not supported on CPU; using FP32 instead\n",
      "  warnings.warn(\"FP16 is not supported on CPU; using FP32 instead\")\n"
     ]
    },
    {
     "name": "stdout",
     "output_type": "stream",
     "text": [
      "reference_text: trẻ em đâu có chướng ngại vật\n",
      "predicted_text: trẻ em đâu có chứa ngại vật.\n",
      "Processing: FPTOpenSpeechData_Set001_V0.1_000811.mp3\n"
     ]
    },
    {
     "name": "stderr",
     "output_type": "stream",
     "text": [
      "/home/ngo/anaconda3/lib/python3.12/site-packages/whisper/transcribe.py:126: UserWarning: FP16 is not supported on CPU; using FP32 instead\n",
      "  warnings.warn(\"FP16 is not supported on CPU; using FP32 instead\")\n"
     ]
    },
    {
     "name": "stdout",
     "output_type": "stream",
     "text": [
      "reference_text: tác dụng phụ của thuốc là gì\n",
      "predicted_text: tạm chứng của bộ thượng lãi dịch.\n",
      "Processing: FPTOpenSpeechData_Set001_V0.1_000812.mp3\n"
     ]
    },
    {
     "name": "stderr",
     "output_type": "stream",
     "text": [
      "/home/ngo/anaconda3/lib/python3.12/site-packages/whisper/transcribe.py:126: UserWarning: FP16 is not supported on CPU; using FP32 instead\n",
      "  warnings.warn(\"FP16 is not supported on CPU; using FP32 instead\")\n"
     ]
    },
    {
     "name": "stdout",
     "output_type": "stream",
     "text": [
      "reference_text: đúng vậy sao\n",
      "predicted_text: chú vậy sao?\n",
      "Processing: FPTOpenSpeechData_Set001_V0.1_000813.mp3\n"
     ]
    },
    {
     "name": "stderr",
     "output_type": "stream",
     "text": [
      "/home/ngo/anaconda3/lib/python3.12/site-packages/whisper/transcribe.py:126: UserWarning: FP16 is not supported on CPU; using FP32 instead\n",
      "  warnings.warn(\"FP16 is not supported on CPU; using FP32 instead\")\n"
     ]
    },
    {
     "name": "stdout",
     "output_type": "stream",
     "text": [
      "reference_text: đang diễn ra hào hứng sôi nổi\n",
      "predicted_text: đang diễn ra hào hứng trôi nổi.\n",
      "Processing: FPTOpenSpeechData_Set001_V0.1_000814.mp3\n"
     ]
    },
    {
     "name": "stderr",
     "output_type": "stream",
     "text": [
      "/home/ngo/anaconda3/lib/python3.12/site-packages/whisper/transcribe.py:126: UserWarning: FP16 is not supported on CPU; using FP32 instead\n",
      "  warnings.warn(\"FP16 is not supported on CPU; using FP32 instead\")\n"
     ]
    },
    {
     "name": "stdout",
     "output_type": "stream",
     "text": [
      "reference_text: có hai mùa ở miền nam việt nam\n",
      "predicted_text: của hai mùa ở miền nam việt nam.\n",
      "Processing: FPTOpenSpeechData_Set001_V0.1_000815.mp3\n"
     ]
    },
    {
     "name": "stderr",
     "output_type": "stream",
     "text": [
      "/home/ngo/anaconda3/lib/python3.12/site-packages/whisper/transcribe.py:126: UserWarning: FP16 is not supported on CPU; using FP32 instead\n",
      "  warnings.warn(\"FP16 is not supported on CPU; using FP32 instead\")\n"
     ]
    },
    {
     "name": "stdout",
     "output_type": "stream",
     "text": [
      "reference_text: chúng tôi muốn đi\n",
      "predicted_text: chúng tôi muộn đi\n",
      "Processing: FPTOpenSpeechData_Set001_V0.1_000816.mp3\n"
     ]
    },
    {
     "name": "stderr",
     "output_type": "stream",
     "text": [
      "/home/ngo/anaconda3/lib/python3.12/site-packages/whisper/transcribe.py:126: UserWarning: FP16 is not supported on CPU; using FP32 instead\n",
      "  warnings.warn(\"FP16 is not supported on CPU; using FP32 instead\")\n"
     ]
    },
    {
     "name": "stdout",
     "output_type": "stream",
     "text": [
      "reference_text: tôi không chắc nhưng tôi không chịu được mùi thịt tôi chỉ muốn ăn trái thơm\n",
      "predicted_text: tôi không chắc, nhưng tôi không chịu được mùi thịt, tôi chỉ muốn ăn trái thơm.\n",
      "Processing: FPTOpenSpeechData_Set001_V0.1_000817.mp3\n"
     ]
    },
    {
     "name": "stderr",
     "output_type": "stream",
     "text": [
      "/home/ngo/anaconda3/lib/python3.12/site-packages/whisper/transcribe.py:126: UserWarning: FP16 is not supported on CPU; using FP32 instead\n",
      "  warnings.warn(\"FP16 is not supported on CPU; using FP32 instead\")\n"
     ]
    },
    {
     "name": "stdout",
     "output_type": "stream",
     "text": [
      "reference_text: lúc viễn tìm được người giúp đỡ quay lại chỗ bị ngã thì nhóm cướp đã lấy xe của anh và tẩu thoát\n",
      "predicted_text: lúc viễn tìm được người giúp đỡ quay lại chỗ bị ngã thì nhóm cướp đã lấy xe của anh và tẩu thoát.\n",
      "Processing: FPTOpenSpeechData_Set001_V0.1_000818.mp3\n"
     ]
    },
    {
     "name": "stderr",
     "output_type": "stream",
     "text": [
      "/home/ngo/anaconda3/lib/python3.12/site-packages/whisper/transcribe.py:126: UserWarning: FP16 is not supported on CPU; using FP32 instead\n",
      "  warnings.warn(\"FP16 is not supported on CPU; using FP32 instead\")\n"
     ]
    },
    {
     "name": "stdout",
     "output_type": "stream",
     "text": [
      "reference_text: liền chạy theo nắm lấy cửa sau xe buýt\n",
      "predicted_text: lì chạy theo nắm lấy cửa sau xe bích.\n",
      "Processing: FPTOpenSpeechData_Set001_V0.1_000819.mp3\n"
     ]
    },
    {
     "name": "stderr",
     "output_type": "stream",
     "text": [
      "/home/ngo/anaconda3/lib/python3.12/site-packages/whisper/transcribe.py:126: UserWarning: FP16 is not supported on CPU; using FP32 instead\n",
      "  warnings.warn(\"FP16 is not supported on CPU; using FP32 instead\")\n"
     ]
    },
    {
     "name": "stdout",
     "output_type": "stream",
     "text": [
      "reference_text: tôi giao phó công việc này cho bạn\n",
      "predicted_text: tôi giáo phận công việc này cho bạn.\n",
      "Processing: FPTOpenSpeechData_Set001_V0.1_000820.mp3\n"
     ]
    },
    {
     "name": "stderr",
     "output_type": "stream",
     "text": [
      "/home/ngo/anaconda3/lib/python3.12/site-packages/whisper/transcribe.py:126: UserWarning: FP16 is not supported on CPU; using FP32 instead\n",
      "  warnings.warn(\"FP16 is not supported on CPU; using FP32 instead\")\n"
     ]
    },
    {
     "name": "stdout",
     "output_type": "stream",
     "text": [
      "reference_text: liệu ngân hàng có mở cửa ngày mai không\n",
      "predicted_text: liệu ngân hàng có mở cửa ngày mai không?\n",
      "Processing: FPTOpenSpeechData_Set001_V0.1_000821.mp3\n"
     ]
    },
    {
     "name": "stderr",
     "output_type": "stream",
     "text": [
      "/home/ngo/anaconda3/lib/python3.12/site-packages/whisper/transcribe.py:126: UserWarning: FP16 is not supported on CPU; using FP32 instead\n",
      "  warnings.warn(\"FP16 is not supported on CPU; using FP32 instead\")\n"
     ]
    },
    {
     "name": "stdout",
     "output_type": "stream",
     "text": [
      "reference_text: và nhện ta liền quăng ra chiếc thòng lọng bằng tơ của nó đầu kia sẽ là bữa ăn\n",
      "predicted_text: và nhận ra liền quanh ra chiếc thòng lặng bành tơ của nó đầu kia sẽ là bữa anh\n",
      "Processing: FPTOpenSpeechData_Set001_V0.1_000822.mp3\n"
     ]
    },
    {
     "name": "stderr",
     "output_type": "stream",
     "text": [
      "/home/ngo/anaconda3/lib/python3.12/site-packages/whisper/transcribe.py:126: UserWarning: FP16 is not supported on CPU; using FP32 instead\n",
      "  warnings.warn(\"FP16 is not supported on CPU; using FP32 instead\")\n"
     ]
    },
    {
     "name": "stdout",
     "output_type": "stream",
     "text": [
      "reference_text: việc bảo vệ những nguồn cung cấp dầu lửa trước đó đã là ưu tiên hàng đầu bỗng chốc lại trở thành nỗi ám ảnh của nước mỹ\n",
      "predicted_text: việc bảo vệ những nguồn cung cấp dầu lửa trước đó đã là ưu tiên hàng đầu bỗng chốc lại trở thành nỗi ám ảnh của nước mỹ.\n",
      "Processing: FPTOpenSpeechData_Set001_V0.1_000823.mp3\n"
     ]
    },
    {
     "name": "stderr",
     "output_type": "stream",
     "text": [
      "/home/ngo/anaconda3/lib/python3.12/site-packages/whisper/transcribe.py:126: UserWarning: FP16 is not supported on CPU; using FP32 instead\n",
      "  warnings.warn(\"FP16 is not supported on CPU; using FP32 instead\")\n"
     ]
    },
    {
     "name": "stdout",
     "output_type": "stream",
     "text": [
      "reference_text: tiền vệ người bồ đào nha mới đây khẳng định anh đã tìm lại được niềm hạnh phúc tại m.u. bất chấp những chỉ trích của người hâm mộ anh\n",
      "predicted_text: tiền vệ người bồ đào nha mới đây khẳng định anh đã tìm lại được niềm hạnh phúc tại m.u. bất chấp những chỉ trích của người hâm mộ anh\n",
      "Processing: FPTOpenSpeechData_Set001_V0.1_000824.mp3\n"
     ]
    },
    {
     "name": "stderr",
     "output_type": "stream",
     "text": [
      "/home/ngo/anaconda3/lib/python3.12/site-packages/whisper/transcribe.py:126: UserWarning: FP16 is not supported on CPU; using FP32 instead\n",
      "  warnings.warn(\"FP16 is not supported on CPU; using FP32 instead\")\n"
     ]
    },
    {
     "name": "stdout",
     "output_type": "stream",
     "text": [
      "reference_text: anh có nước mía không\n",
      "predicted_text: anh có nước nữa không?\n",
      "Processing: FPTOpenSpeechData_Set001_V0.1_000825.mp3\n"
     ]
    },
    {
     "name": "stderr",
     "output_type": "stream",
     "text": [
      "/home/ngo/anaconda3/lib/python3.12/site-packages/whisper/transcribe.py:126: UserWarning: FP16 is not supported on CPU; using FP32 instead\n",
      "  warnings.warn(\"FP16 is not supported on CPU; using FP32 instead\")\n"
     ]
    },
    {
     "name": "stdout",
     "output_type": "stream",
     "text": [
      "reference_text: an ninh tại các thành phố ấn độ được thắt chặt\n",
      "predicted_text: ảnh minh tại các thành phố ảnh độ nước thấp chậm\n",
      "Processing: FPTOpenSpeechData_Set001_V0.1_000826.mp3\n"
     ]
    },
    {
     "name": "stderr",
     "output_type": "stream",
     "text": [
      "/home/ngo/anaconda3/lib/python3.12/site-packages/whisper/transcribe.py:126: UserWarning: FP16 is not supported on CPU; using FP32 instead\n",
      "  warnings.warn(\"FP16 is not supported on CPU; using FP32 instead\")\n"
     ]
    },
    {
     "name": "stdout",
     "output_type": "stream",
     "text": [
      "reference_text: những lãnh đạo cấp cao cũng đang phải đối mặt với việc giảm lương đến mức nào hiện vẫn chưa rõ\n",
      "predicted_text: những lãnh đạo cấp cao cũng đang phải đối mặt với riêng giảm lương đến mức nào hiện vẫn chưa rõ.\n",
      "Processing: FPTOpenSpeechData_Set001_V0.1_000827.mp3\n"
     ]
    },
    {
     "name": "stderr",
     "output_type": "stream",
     "text": [
      "/home/ngo/anaconda3/lib/python3.12/site-packages/whisper/transcribe.py:126: UserWarning: FP16 is not supported on CPU; using FP32 instead\n",
      "  warnings.warn(\"FP16 is not supported on CPU; using FP32 instead\")\n"
     ]
    },
    {
     "name": "stdout",
     "output_type": "stream",
     "text": [
      "reference_text: đây có phải da thật không\n",
      "predicted_text: đây có phải ra thật không?\n",
      "Processing: FPTOpenSpeechData_Set001_V0.1_000828.mp3\n"
     ]
    },
    {
     "name": "stderr",
     "output_type": "stream",
     "text": [
      "/home/ngo/anaconda3/lib/python3.12/site-packages/whisper/transcribe.py:126: UserWarning: FP16 is not supported on CPU; using FP32 instead\n",
      "  warnings.warn(\"FP16 is not supported on CPU; using FP32 instead\")\n"
     ]
    },
    {
     "name": "stdout",
     "output_type": "stream",
     "text": [
      "reference_text: bỏ tù nạn nhân cưỡng hiếp tập thể\n",
      "predicted_text: cỏ tu lạc nghe cựa hiếp tập thể\n",
      "Processing: FPTOpenSpeechData_Set001_V0.1_000829.mp3\n"
     ]
    },
    {
     "name": "stderr",
     "output_type": "stream",
     "text": [
      "/home/ngo/anaconda3/lib/python3.12/site-packages/whisper/transcribe.py:126: UserWarning: FP16 is not supported on CPU; using FP32 instead\n",
      "  warnings.warn(\"FP16 is not supported on CPU; using FP32 instead\")\n"
     ]
    },
    {
     "name": "stdout",
     "output_type": "stream",
     "text": [
      "reference_text: lấy ngành thép làm ví dụ\n",
      "predicted_text: lấy cái thép làm ví dụ.\n",
      "Processing: FPTOpenSpeechData_Set001_V0.1_000830.mp3\n"
     ]
    },
    {
     "name": "stderr",
     "output_type": "stream",
     "text": [
      "/home/ngo/anaconda3/lib/python3.12/site-packages/whisper/transcribe.py:126: UserWarning: FP16 is not supported on CPU; using FP32 instead\n",
      "  warnings.warn(\"FP16 is not supported on CPU; using FP32 instead\")\n"
     ]
    },
    {
     "name": "stdout",
     "output_type": "stream",
     "text": [
      "reference_text: ví của tôi bị móc túi ở trong tàu điện ngầm\n",
      "predicted_text: ví của chúng tôi bị móc ướt ở trong tàu điện ngầm.\n",
      "Processing: FPTOpenSpeechData_Set001_V0.1_000831.mp3\n"
     ]
    },
    {
     "name": "stderr",
     "output_type": "stream",
     "text": [
      "/home/ngo/anaconda3/lib/python3.12/site-packages/whisper/transcribe.py:126: UserWarning: FP16 is not supported on CPU; using FP32 instead\n",
      "  warnings.warn(\"FP16 is not supported on CPU; using FP32 instead\")\n"
     ]
    },
    {
     "name": "stdout",
     "output_type": "stream",
     "text": [
      "reference_text: tôi muốn ăn hơi tái\n",
      "predicted_text: tôi muốn ăn hơi tỏi.\n",
      "Processing: FPTOpenSpeechData_Set001_V0.1_000832.mp3\n"
     ]
    },
    {
     "name": "stderr",
     "output_type": "stream",
     "text": [
      "/home/ngo/anaconda3/lib/python3.12/site-packages/whisper/transcribe.py:126: UserWarning: FP16 is not supported on CPU; using FP32 instead\n",
      "  warnings.warn(\"FP16 is not supported on CPU; using FP32 instead\")\n"
     ]
    },
    {
     "name": "stdout",
     "output_type": "stream",
     "text": [
      "reference_text: mấy giờ là chuyến bay tiếp theo tới narita\n",
      "predicted_text: mấy giờ là chuyến bay tiếp theo tới nijita?\n",
      "Processing: FPTOpenSpeechData_Set001_V0.1_000833.mp3\n"
     ]
    },
    {
     "name": "stderr",
     "output_type": "stream",
     "text": [
      "/home/ngo/anaconda3/lib/python3.12/site-packages/whisper/transcribe.py:126: UserWarning: FP16 is not supported on CPU; using FP32 instead\n",
      "  warnings.warn(\"FP16 is not supported on CPU; using FP32 instead\")\n"
     ]
    },
    {
     "name": "stdout",
     "output_type": "stream",
     "text": [
      "reference_text: giấy phạt đây anh bị phạt hai mươi lăm ringgit\n",
      "predicted_text: giấy phạt đây, anh bị phạt 25 tuyên nghiệp.\n",
      "Processing: FPTOpenSpeechData_Set001_V0.1_000834.mp3\n"
     ]
    },
    {
     "name": "stderr",
     "output_type": "stream",
     "text": [
      "/home/ngo/anaconda3/lib/python3.12/site-packages/whisper/transcribe.py:126: UserWarning: FP16 is not supported on CPU; using FP32 instead\n",
      "  warnings.warn(\"FP16 is not supported on CPU; using FP32 instead\")\n"
     ]
    },
    {
     "name": "stdout",
     "output_type": "stream",
     "text": [
      "reference_text: binh lính chính phủ gần thánh đường\n",
      "predicted_text: điều gì cũng gần thế thôi\n",
      "Processing: FPTOpenSpeechData_Set001_V0.1_000835.mp3\n"
     ]
    },
    {
     "name": "stderr",
     "output_type": "stream",
     "text": [
      "/home/ngo/anaconda3/lib/python3.12/site-packages/whisper/transcribe.py:126: UserWarning: FP16 is not supported on CPU; using FP32 instead\n",
      "  warnings.warn(\"FP16 is not supported on CPU; using FP32 instead\")\n"
     ]
    },
    {
     "name": "stdout",
     "output_type": "stream",
     "text": [
      "reference_text: vui lòng đến quầy của hàng không nhật bản\n",
      "predicted_text: hãy subscribe cho kênh ghiền mì gõ để không bỏ lỡ những video hấp dẫn\n",
      "Processing: FPTOpenSpeechData_Set001_V0.1_000836.mp3\n"
     ]
    },
    {
     "name": "stderr",
     "output_type": "stream",
     "text": [
      "/home/ngo/anaconda3/lib/python3.12/site-packages/whisper/transcribe.py:126: UserWarning: FP16 is not supported on CPU; using FP32 instead\n",
      "  warnings.warn(\"FP16 is not supported on CPU; using FP32 instead\")\n"
     ]
    },
    {
     "name": "stdout",
     "output_type": "stream",
     "text": [
      "reference_text: anh giỏi quá rồi nhỉ\n",
      "predicted_text: anh giỏi quá rồi nhỉ?\n",
      "Processing: FPTOpenSpeechData_Set001_V0.1_000837.mp3\n"
     ]
    },
    {
     "name": "stderr",
     "output_type": "stream",
     "text": [
      "/home/ngo/anaconda3/lib/python3.12/site-packages/whisper/transcribe.py:126: UserWarning: FP16 is not supported on CPU; using FP32 instead\n",
      "  warnings.warn(\"FP16 is not supported on CPU; using FP32 instead\")\n"
     ]
    },
    {
     "name": "stdout",
     "output_type": "stream",
     "text": [
      "reference_text: tôi có thể cầm áo khoác của bạn không\n",
      "predicted_text: chú có thể cân bạo khoảng vừa bằng không?\n",
      "Processing: FPTOpenSpeechData_Set001_V0.1_000838.mp3\n"
     ]
    },
    {
     "name": "stderr",
     "output_type": "stream",
     "text": [
      "/home/ngo/anaconda3/lib/python3.12/site-packages/whisper/transcribe.py:126: UserWarning: FP16 is not supported on CPU; using FP32 instead\n",
      "  warnings.warn(\"FP16 is not supported on CPU; using FP32 instead\")\n"
     ]
    },
    {
     "name": "stdout",
     "output_type": "stream",
     "text": [
      "reference_text: chị có cỡ lớn không\n",
      "predicted_text: chị có cửa lớn không?\n",
      "Processing: FPTOpenSpeechData_Set001_V0.1_000839.mp3\n"
     ]
    },
    {
     "name": "stderr",
     "output_type": "stream",
     "text": [
      "/home/ngo/anaconda3/lib/python3.12/site-packages/whisper/transcribe.py:126: UserWarning: FP16 is not supported on CPU; using FP32 instead\n",
      "  warnings.warn(\"FP16 is not supported on CPU; using FP32 instead\")\n"
     ]
    },
    {
     "name": "stdout",
     "output_type": "stream",
     "text": [
      "reference_text: từ mẫu phân tích của bà vũ thị khởi giám đốc tổng công ty tâm lý học ứng dụng nhiều phụ huynh đã hiểu rõ khoảng trống giữa cha mẹ và con cái không phải là khoảng cách về địa lý mà là khoảng cách tâm lý\n",
      "predicted_text: từ mẫu phân tích của bà vũ thị khởi, đám đốc tổng công ty tâm lý học ứng dụng nhờ phụ huynh đã hiểu rõ khoảng trống giữa cha mẹ và con cái không phải là khoảng cách về địa lý mà là khoảng cách tâm lý.\n",
      "Processing: FPTOpenSpeechData_Set001_V0.1_000840.mp3\n"
     ]
    },
    {
     "name": "stderr",
     "output_type": "stream",
     "text": [
      "/home/ngo/anaconda3/lib/python3.12/site-packages/whisper/transcribe.py:126: UserWarning: FP16 is not supported on CPU; using FP32 instead\n",
      "  warnings.warn(\"FP16 is not supported on CPU; using FP32 instead\")\n"
     ]
    },
    {
     "name": "stdout",
     "output_type": "stream",
     "text": [
      "reference_text: thưa ông có đúng mười một giờ\n",
      "predicted_text: chưa ông có đúng 11 giờ.\n",
      "Processing: FPTOpenSpeechData_Set001_V0.1_000841.mp3\n"
     ]
    },
    {
     "name": "stderr",
     "output_type": "stream",
     "text": [
      "/home/ngo/anaconda3/lib/python3.12/site-packages/whisper/transcribe.py:126: UserWarning: FP16 is not supported on CPU; using FP32 instead\n",
      "  warnings.warn(\"FP16 is not supported on CPU; using FP32 instead\")\n"
     ]
    },
    {
     "name": "stdout",
     "output_type": "stream",
     "text": [
      "reference_text: làm ơn\n",
      "predicted_text: làm ơn\n",
      "Processing: FPTOpenSpeechData_Set001_V0.1_000842.mp3\n"
     ]
    },
    {
     "name": "stderr",
     "output_type": "stream",
     "text": [
      "/home/ngo/anaconda3/lib/python3.12/site-packages/whisper/transcribe.py:126: UserWarning: FP16 is not supported on CPU; using FP32 instead\n",
      "  warnings.warn(\"FP16 is not supported on CPU; using FP32 instead\")\n"
     ]
    },
    {
     "name": "stdout",
     "output_type": "stream",
     "text": [
      "reference_text: tờ báo trên bàn vừa mới được đọc\n",
      "predicted_text: giờ báo trên bàn vừa mới được đọc.\n",
      "Processing: FPTOpenSpeechData_Set001_V0.1_000843.mp3\n"
     ]
    },
    {
     "name": "stderr",
     "output_type": "stream",
     "text": [
      "/home/ngo/anaconda3/lib/python3.12/site-packages/whisper/transcribe.py:126: UserWarning: FP16 is not supported on CPU; using FP32 instead\n",
      "  warnings.warn(\"FP16 is not supported on CPU; using FP32 instead\")\n"
     ]
    },
    {
     "name": "stdout",
     "output_type": "stream",
     "text": [
      "reference_text: giết người cướp của lấy tiền về quê\n",
      "predicted_text: giết người cướp của lấy tiền về quê\n",
      "Processing: FPTOpenSpeechData_Set001_V0.1_000844.mp3\n"
     ]
    },
    {
     "name": "stderr",
     "output_type": "stream",
     "text": [
      "/home/ngo/anaconda3/lib/python3.12/site-packages/whisper/transcribe.py:126: UserWarning: FP16 is not supported on CPU; using FP32 instead\n",
      "  warnings.warn(\"FP16 is not supported on CPU; using FP32 instead\")\n"
     ]
    },
    {
     "name": "stdout",
     "output_type": "stream",
     "text": [
      "reference_text: ti vi bóng đá ti vi\n",
      "predicted_text: tv bóng đá tv\n",
      "Processing: FPTOpenSpeechData_Set001_V0.1_000845.mp3\n"
     ]
    },
    {
     "name": "stderr",
     "output_type": "stream",
     "text": [
      "/home/ngo/anaconda3/lib/python3.12/site-packages/whisper/transcribe.py:126: UserWarning: FP16 is not supported on CPU; using FP32 instead\n",
      "  warnings.warn(\"FP16 is not supported on CPU; using FP32 instead\")\n"
     ]
    },
    {
     "name": "stdout",
     "output_type": "stream",
     "text": [
      "reference_text: tôi có thể sử dụng mặt nạ trang điểm với số lần như thế nào\n",
      "predicted_text: tôi có thể sử dụng mặt nạ trang diễn với số rằn như thế nào?\n",
      "Processing: FPTOpenSpeechData_Set001_V0.1_000846.mp3\n"
     ]
    },
    {
     "name": "stderr",
     "output_type": "stream",
     "text": [
      "/home/ngo/anaconda3/lib/python3.12/site-packages/whisper/transcribe.py:126: UserWarning: FP16 is not supported on CPU; using FP32 instead\n",
      "  warnings.warn(\"FP16 is not supported on CPU; using FP32 instead\")\n"
     ]
    },
    {
     "name": "stdout",
     "output_type": "stream",
     "text": [
      "reference_text: không có sổ điện thoại\n",
      "predicted_text: không có số điện thoại\n",
      "Processing: FPTOpenSpeechData_Set001_V0.1_000847.mp3\n"
     ]
    },
    {
     "name": "stderr",
     "output_type": "stream",
     "text": [
      "/home/ngo/anaconda3/lib/python3.12/site-packages/whisper/transcribe.py:126: UserWarning: FP16 is not supported on CPU; using FP32 instead\n",
      "  warnings.warn(\"FP16 is not supported on CPU; using FP32 instead\")\n"
     ]
    },
    {
     "name": "stdout",
     "output_type": "stream",
     "text": [
      "reference_text: không giống như sản phẩm nông nghiệp dễ hỏng dầu có thể chôn dưới đất\n",
      "predicted_text: không giống như sản phẩm nông nghiệp dễ họng dầu có thể chôn dưới đất\n",
      "Processing: FPTOpenSpeechData_Set001_V0.1_000848.mp3\n"
     ]
    },
    {
     "name": "stderr",
     "output_type": "stream",
     "text": [
      "/home/ngo/anaconda3/lib/python3.12/site-packages/whisper/transcribe.py:126: UserWarning: FP16 is not supported on CPU; using FP32 instead\n",
      "  warnings.warn(\"FP16 is not supported on CPU; using FP32 instead\")\n"
     ]
    },
    {
     "name": "stdout",
     "output_type": "stream",
     "text": [
      "reference_text: nhưng chính các nhà máy đường đang kích thích nông dân trồng mía khi đẩy giá mua mía lên cao\n",
      "predicted_text: nhưng chính các nhà máy đường đang kích thích nông dân cầm mía, vì đại giá mua mía lên cao.\n",
      "Processing: FPTOpenSpeechData_Set001_V0.1_000849.mp3\n"
     ]
    },
    {
     "name": "stderr",
     "output_type": "stream",
     "text": [
      "/home/ngo/anaconda3/lib/python3.12/site-packages/whisper/transcribe.py:126: UserWarning: FP16 is not supported on CPU; using FP32 instead\n",
      "  warnings.warn(\"FP16 is not supported on CPU; using FP32 instead\")\n"
     ]
    },
    {
     "name": "stdout",
     "output_type": "stream",
     "text": [
      "reference_text: cám ơn xã hội đã cho chúng ta những con người có tấm lòng\n",
      "predicted_text: cảm ơn xã hội đã cho chúng ta những con người có ấm lòng.\n",
      "Processing: FPTOpenSpeechData_Set001_V0.1_000850.mp3\n"
     ]
    },
    {
     "name": "stderr",
     "output_type": "stream",
     "text": [
      "/home/ngo/anaconda3/lib/python3.12/site-packages/whisper/transcribe.py:126: UserWarning: FP16 is not supported on CPU; using FP32 instead\n",
      "  warnings.warn(\"FP16 is not supported on CPU; using FP32 instead\")\n"
     ]
    },
    {
     "name": "stdout",
     "output_type": "stream",
     "text": [
      "reference_text: xin lỗi có thể nào anh là anh không\n",
      "predicted_text: xin lỗi có thể nào, anh là anh không?\n",
      "Processing: FPTOpenSpeechData_Set001_V0.1_000851.mp3\n"
     ]
    },
    {
     "name": "stderr",
     "output_type": "stream",
     "text": [
      "/home/ngo/anaconda3/lib/python3.12/site-packages/whisper/transcribe.py:126: UserWarning: FP16 is not supported on CPU; using FP32 instead\n",
      "  warnings.warn(\"FP16 is not supported on CPU; using FP32 instead\")\n"
     ]
    },
    {
     "name": "stdout",
     "output_type": "stream",
     "text": [
      "reference_text: tôi muốn đặt chỗ trước cho hai người vào bảy giờ tối nay\n",
      "predicted_text: tôi muốn đặt chỗ trước cho hai người vào 7 giờ tối nay.\n",
      "Processing: FPTOpenSpeechData_Set001_V0.1_000852.mp3\n"
     ]
    },
    {
     "name": "stderr",
     "output_type": "stream",
     "text": [
      "/home/ngo/anaconda3/lib/python3.12/site-packages/whisper/transcribe.py:126: UserWarning: FP16 is not supported on CPU; using FP32 instead\n",
      "  warnings.warn(\"FP16 is not supported on CPU; using FP32 instead\")\n"
     ]
    },
    {
     "name": "stdout",
     "output_type": "stream",
     "text": [
      "reference_text: thượng tá công an này được phát hiện trong tư thế\n",
      "predicted_text: thượng tá công an này được phát hiện trong tư thế.\n",
      "Processing: FPTOpenSpeechData_Set001_V0.1_000853.mp3\n"
     ]
    },
    {
     "name": "stderr",
     "output_type": "stream",
     "text": [
      "/home/ngo/anaconda3/lib/python3.12/site-packages/whisper/transcribe.py:126: UserWarning: FP16 is not supported on CPU; using FP32 instead\n",
      "  warnings.warn(\"FP16 is not supported on CPU; using FP32 instead\")\n"
     ]
    },
    {
     "name": "stdout",
     "output_type": "stream",
     "text": [
      "reference_text: nhưng đấy là cơ chế nào\n",
      "predicted_text: nhưng đấy là cơ chế nào?\n",
      "Processing: FPTOpenSpeechData_Set001_V0.1_000854.mp3\n"
     ]
    },
    {
     "name": "stderr",
     "output_type": "stream",
     "text": [
      "/home/ngo/anaconda3/lib/python3.12/site-packages/whisper/transcribe.py:126: UserWarning: FP16 is not supported on CPU; using FP32 instead\n",
      "  warnings.warn(\"FP16 is not supported on CPU; using FP32 instead\")\n"
     ]
    },
    {
     "name": "stdout",
     "output_type": "stream",
     "text": [
      "reference_text: chúng tôi đính kèm một bản miêu tả ngắn cách đến được khu liên hợp\n",
      "predicted_text: chúng tôi đem chèm một miếng thịt ngắn cách đến được của liên hợp.\n",
      "Processing: FPTOpenSpeechData_Set001_V0.1_000855.mp3\n"
     ]
    },
    {
     "name": "stderr",
     "output_type": "stream",
     "text": [
      "/home/ngo/anaconda3/lib/python3.12/site-packages/whisper/transcribe.py:126: UserWarning: FP16 is not supported on CPU; using FP32 instead\n",
      "  warnings.warn(\"FP16 is not supported on CPU; using FP32 instead\")\n"
     ]
    },
    {
     "name": "stdout",
     "output_type": "stream",
     "text": [
      "reference_text: ảnh tổng thống bush chơi nhạc nhảy\n",
      "predicted_text: hãy đăng ký kênh để ủng hộ kênh của mình nhé.\n",
      "Processing: FPTOpenSpeechData_Set001_V0.1_000856.mp3\n"
     ]
    },
    {
     "name": "stderr",
     "output_type": "stream",
     "text": [
      "/home/ngo/anaconda3/lib/python3.12/site-packages/whisper/transcribe.py:126: UserWarning: FP16 is not supported on CPU; using FP32 instead\n",
      "  warnings.warn(\"FP16 is not supported on CPU; using FP32 instead\")\n"
     ]
    },
    {
     "name": "stdout",
     "output_type": "stream",
     "text": [
      "reference_text: mời các anh ngồi xuống đây\n",
      "predicted_text: mời các anh ngồi xuống đây\n",
      "Processing: FPTOpenSpeechData_Set001_V0.1_000857.mp3\n"
     ]
    },
    {
     "name": "stderr",
     "output_type": "stream",
     "text": [
      "/home/ngo/anaconda3/lib/python3.12/site-packages/whisper/transcribe.py:126: UserWarning: FP16 is not supported on CPU; using FP32 instead\n",
      "  warnings.warn(\"FP16 is not supported on CPU; using FP32 instead\")\n"
     ]
    },
    {
     "name": "stdout",
     "output_type": "stream",
     "text": [
      "reference_text: anh có uống bất kỳ loại dược phẩm nào khác không\n",
      "predicted_text: anh có uống bất kỳ loại dược phẩm nào khác không?\n",
      "Processing: FPTOpenSpeechData_Set001_V0.1_000858.mp3\n"
     ]
    },
    {
     "name": "stderr",
     "output_type": "stream",
     "text": [
      "/home/ngo/anaconda3/lib/python3.12/site-packages/whisper/transcribe.py:126: UserWarning: FP16 is not supported on CPU; using FP32 instead\n",
      "  warnings.warn(\"FP16 is not supported on CPU; using FP32 instead\")\n"
     ]
    },
    {
     "name": "stdout",
     "output_type": "stream",
     "text": [
      "reference_text: làm ơn cho tôi một chỗ ở khu không hút thuốc\n",
      "predicted_text: làm ơn cho tôi một chỗ ở khu không hút thuốc.\n",
      "Processing: FPTOpenSpeechData_Set001_V0.1_000859.mp3\n"
     ]
    },
    {
     "name": "stderr",
     "output_type": "stream",
     "text": [
      "/home/ngo/anaconda3/lib/python3.12/site-packages/whisper/transcribe.py:126: UserWarning: FP16 is not supported on CPU; using FP32 instead\n",
      "  warnings.warn(\"FP16 is not supported on CPU; using FP32 instead\")\n"
     ]
    },
    {
     "name": "stdout",
     "output_type": "stream",
     "text": [
      "reference_text: tôi muốn một vé khứ hồi đến trạm s\n",
      "predicted_text: tôi muốn một vé thư hồi đến trạm ép\n",
      "Processing: FPTOpenSpeechData_Set001_V0.1_000860.mp3\n"
     ]
    },
    {
     "name": "stderr",
     "output_type": "stream",
     "text": [
      "/home/ngo/anaconda3/lib/python3.12/site-packages/whisper/transcribe.py:126: UserWarning: FP16 is not supported on CPU; using FP32 instead\n",
      "  warnings.warn(\"FP16 is not supported on CPU; using FP32 instead\")\n"
     ]
    },
    {
     "name": "stdout",
     "output_type": "stream",
     "text": [
      "reference_text: mời các bạn tham vấn cho bạn bảo ngọc và chia sẻ về chuyện này\n",
      "predicted_text: mời các bạn tham vấn cho bạn bảo ngọc và chia sẻ về chuyện này.\n",
      "Processing: FPTOpenSpeechData_Set001_V0.1_000861.mp3\n"
     ]
    },
    {
     "name": "stderr",
     "output_type": "stream",
     "text": [
      "/home/ngo/anaconda3/lib/python3.12/site-packages/whisper/transcribe.py:126: UserWarning: FP16 is not supported on CPU; using FP32 instead\n",
      "  warnings.warn(\"FP16 is not supported on CPU; using FP32 instead\")\n"
     ]
    },
    {
     "name": "stdout",
     "output_type": "stream",
     "text": [
      "reference_text: từ đây đến viện bảo tàng mất bao lâu\n",
      "predicted_text: \n",
      "Processing: FPTOpenSpeechData_Set001_V0.1_000862.mp3\n"
     ]
    },
    {
     "name": "stderr",
     "output_type": "stream",
     "text": [
      "/home/ngo/anaconda3/lib/python3.12/site-packages/whisper/transcribe.py:126: UserWarning: FP16 is not supported on CPU; using FP32 instead\n",
      "  warnings.warn(\"FP16 is not supported on CPU; using FP32 instead\")\n"
     ]
    },
    {
     "name": "stdout",
     "output_type": "stream",
     "text": [
      "reference_text: còn vé cho buổi diễn tối nay không\n",
      "predicted_text: còn đến trong bụi diễn tuần này không?\n",
      "Processing: FPTOpenSpeechData_Set001_V0.1_000863.mp3\n"
     ]
    },
    {
     "name": "stderr",
     "output_type": "stream",
     "text": [
      "/home/ngo/anaconda3/lib/python3.12/site-packages/whisper/transcribe.py:126: UserWarning: FP16 is not supported on CPU; using FP32 instead\n",
      "  warnings.warn(\"FP16 is not supported on CPU; using FP32 instead\")\n"
     ]
    },
    {
     "name": "stdout",
     "output_type": "stream",
     "text": [
      "reference_text: tôi nghĩ họ sẽ sớm kết hôn\n",
      "predicted_text: vâng thì họ sẽ sẵn kết hôn\n",
      "Processing: FPTOpenSpeechData_Set001_V0.1_000864.mp3\n"
     ]
    },
    {
     "name": "stderr",
     "output_type": "stream",
     "text": [
      "/home/ngo/anaconda3/lib/python3.12/site-packages/whisper/transcribe.py:126: UserWarning: FP16 is not supported on CPU; using FP32 instead\n",
      "  warnings.warn(\"FP16 is not supported on CPU; using FP32 instead\")\n"
     ]
    },
    {
     "name": "stdout",
     "output_type": "stream",
     "text": [
      "reference_text: đừng có tòm tem nhăng nhít vớ vẩn để xấu mặt mọi người\n",
      "predicted_text: đừng có toan khen nhăn bịt vỡ vẩn để chấu mặt mọi người\n",
      "Processing: FPTOpenSpeechData_Set001_V0.1_000865.mp3\n"
     ]
    },
    {
     "name": "stderr",
     "output_type": "stream",
     "text": [
      "/home/ngo/anaconda3/lib/python3.12/site-packages/whisper/transcribe.py:126: UserWarning: FP16 is not supported on CPU; using FP32 instead\n",
      "  warnings.warn(\"FP16 is not supported on CPU; using FP32 instead\")\n"
     ]
    },
    {
     "name": "stdout",
     "output_type": "stream",
     "text": [
      "reference_text: những dự án mở rộng ở nhật cũng bị hoãn hãng khẳng định sẽ chẳng sa thải nhân công chính thức nhưng bảy ngàn nhân công thời vụ đã được nghỉ việc ở mỹ\n",
      "predicted_text: những dự án mở rộng ở nhật cũng bị hoãn, hãng khẳng định sẽ chẳng xa thải nhân công chính thức nhưng 7.000 nhân công thời vụ đã được nghỉ dự ở mỹ.\n",
      "Processing: FPTOpenSpeechData_Set001_V0.1_000866.mp3\n"
     ]
    },
    {
     "name": "stderr",
     "output_type": "stream",
     "text": [
      "/home/ngo/anaconda3/lib/python3.12/site-packages/whisper/transcribe.py:126: UserWarning: FP16 is not supported on CPU; using FP32 instead\n",
      "  warnings.warn(\"FP16 is not supported on CPU; using FP32 instead\")\n"
     ]
    },
    {
     "name": "stdout",
     "output_type": "stream",
     "text": [
      "reference_text: bật chế độ sưởi ấm\n",
      "predicted_text: bật chia đậu sữa ấm.\n",
      "Processing: FPTOpenSpeechData_Set001_V0.1_000867.mp3\n"
     ]
    },
    {
     "name": "stderr",
     "output_type": "stream",
     "text": [
      "/home/ngo/anaconda3/lib/python3.12/site-packages/whisper/transcribe.py:126: UserWarning: FP16 is not supported on CPU; using FP32 instead\n",
      "  warnings.warn(\"FP16 is not supported on CPU; using FP32 instead\")\n"
     ]
    },
    {
     "name": "stdout",
     "output_type": "stream",
     "text": [
      "reference_text: là người hay tò mò ưa khám phá sáng tạo tâm hồn cởi mở họ thích lắng nghe và cho mọi người lời khuyên\n",
      "predicted_text: là người hay đòi mò tư khám phá, sáng tạo tâm hồn cự mở họ thích lắng nghe và cho một người lời duyên\n",
      "Processing: FPTOpenSpeechData_Set001_V0.1_000868.mp3\n"
     ]
    },
    {
     "name": "stderr",
     "output_type": "stream",
     "text": [
      "/home/ngo/anaconda3/lib/python3.12/site-packages/whisper/transcribe.py:126: UserWarning: FP16 is not supported on CPU; using FP32 instead\n",
      "  warnings.warn(\"FP16 is not supported on CPU; using FP32 instead\")\n"
     ]
    },
    {
     "name": "stdout",
     "output_type": "stream",
     "text": [
      "reference_text: thức uống bánh mỳ và các món ăn chính sẽ được cung cấp\n",
      "predicted_text: thức uống, bánh mì và các món ăn chính sẽ được cung cấp.\n",
      "Processing: FPTOpenSpeechData_Set001_V0.1_000869.mp3\n"
     ]
    },
    {
     "name": "stderr",
     "output_type": "stream",
     "text": [
      "/home/ngo/anaconda3/lib/python3.12/site-packages/whisper/transcribe.py:126: UserWarning: FP16 is not supported on CPU; using FP32 instead\n",
      "  warnings.warn(\"FP16 is not supported on CPU; using FP32 instead\")\n"
     ]
    },
    {
     "name": "stdout",
     "output_type": "stream",
     "text": [
      "reference_text: một số lượng lớn\n",
      "predicted_text: một số lực lớn\n",
      "Processing: FPTOpenSpeechData_Set001_V0.1_000870.mp3\n"
     ]
    },
    {
     "name": "stderr",
     "output_type": "stream",
     "text": [
      "/home/ngo/anaconda3/lib/python3.12/site-packages/whisper/transcribe.py:126: UserWarning: FP16 is not supported on CPU; using FP32 instead\n",
      "  warnings.warn(\"FP16 is not supported on CPU; using FP32 instead\")\n"
     ]
    },
    {
     "name": "stdout",
     "output_type": "stream",
     "text": [
      "reference_text: nó thật vui\n",
      "predicted_text: mình qua thật buồn\n",
      "Processing: FPTOpenSpeechData_Set001_V0.1_000871.mp3\n"
     ]
    },
    {
     "name": "stderr",
     "output_type": "stream",
     "text": [
      "/home/ngo/anaconda3/lib/python3.12/site-packages/whisper/transcribe.py:126: UserWarning: FP16 is not supported on CPU; using FP32 instead\n",
      "  warnings.warn(\"FP16 is not supported on CPU; using FP32 instead\")\n"
     ]
    },
    {
     "name": "stdout",
     "output_type": "stream",
     "text": [
      "reference_text: tăng nhiệt độ lên hai mươi chín độ\n",
      "predicted_text: căng nhiệt độ lên 29 độ\n",
      "Processing: FPTOpenSpeechData_Set001_V0.1_000872.mp3\n"
     ]
    },
    {
     "name": "stderr",
     "output_type": "stream",
     "text": [
      "/home/ngo/anaconda3/lib/python3.12/site-packages/whisper/transcribe.py:126: UserWarning: FP16 is not supported on CPU; using FP32 instead\n",
      "  warnings.warn(\"FP16 is not supported on CPU; using FP32 instead\")\n"
     ]
    },
    {
     "name": "stdout",
     "output_type": "stream",
     "text": [
      "reference_text: giá cước đến chiangmai là bao nhiêu\n",
      "predicted_text: giá cược liền chiếc thang mai là bao nhiêu?\n",
      "Processing: FPTOpenSpeechData_Set001_V0.1_000873.mp3\n"
     ]
    },
    {
     "name": "stderr",
     "output_type": "stream",
     "text": [
      "/home/ngo/anaconda3/lib/python3.12/site-packages/whisper/transcribe.py:126: UserWarning: FP16 is not supported on CPU; using FP32 instead\n",
      "  warnings.warn(\"FP16 is not supported on CPU; using FP32 instead\")\n"
     ]
    },
    {
     "name": "stdout",
     "output_type": "stream",
     "text": [
      "reference_text: các bà vợ kể rằng\n",
      "predicted_text: các ba vợ chảy răng.\n",
      "Processing: FPTOpenSpeechData_Set001_V0.1_000874.mp3\n"
     ]
    },
    {
     "name": "stderr",
     "output_type": "stream",
     "text": [
      "/home/ngo/anaconda3/lib/python3.12/site-packages/whisper/transcribe.py:126: UserWarning: FP16 is not supported on CPU; using FP32 instead\n",
      "  warnings.warn(\"FP16 is not supported on CPU; using FP32 instead\")\n"
     ]
    },
    {
     "name": "stdout",
     "output_type": "stream",
     "text": [
      "reference_text: anh có muốn được giúp gì không\n",
      "predicted_text: anh có muốn được ít gì không?\n",
      "Processing: FPTOpenSpeechData_Set001_V0.1_000875.mp3\n"
     ]
    },
    {
     "name": "stderr",
     "output_type": "stream",
     "text": [
      "/home/ngo/anaconda3/lib/python3.12/site-packages/whisper/transcribe.py:126: UserWarning: FP16 is not supported on CPU; using FP32 instead\n",
      "  warnings.warn(\"FP16 is not supported on CPU; using FP32 instead\")\n"
     ]
    },
    {
     "name": "stdout",
     "output_type": "stream",
     "text": [
      "reference_text: chúng tôi muốn đi trượt nước\n",
      "predicted_text: hẳn tôi muốn đi trở nước.\n",
      "Processing: FPTOpenSpeechData_Set001_V0.1_000876.mp3\n"
     ]
    },
    {
     "name": "stderr",
     "output_type": "stream",
     "text": [
      "/home/ngo/anaconda3/lib/python3.12/site-packages/whisper/transcribe.py:126: UserWarning: FP16 is not supported on CPU; using FP32 instead\n",
      "  warnings.warn(\"FP16 is not supported on CPU; using FP32 instead\")\n"
     ]
    },
    {
     "name": "stdout",
     "output_type": "stream",
     "text": [
      "reference_text: tôi sẽ quay lại trong vòng một tiếng nữa\n",
      "predicted_text: cô sẽ quay lại trong vòng một tiếng lửa\n",
      "Processing: FPTOpenSpeechData_Set001_V0.1_000877.mp3\n"
     ]
    },
    {
     "name": "stderr",
     "output_type": "stream",
     "text": [
      "/home/ngo/anaconda3/lib/python3.12/site-packages/whisper/transcribe.py:126: UserWarning: FP16 is not supported on CPU; using FP32 instead\n",
      "  warnings.warn(\"FP16 is not supported on CPU; using FP32 instead\")\n"
     ]
    },
    {
     "name": "stdout",
     "output_type": "stream",
     "text": [
      "reference_text: cho tôi một ít dấm\n",
      "predicted_text: cho tao một bát giấm\n",
      "Processing: FPTOpenSpeechData_Set001_V0.1_000878.mp3\n"
     ]
    },
    {
     "name": "stderr",
     "output_type": "stream",
     "text": [
      "/home/ngo/anaconda3/lib/python3.12/site-packages/whisper/transcribe.py:126: UserWarning: FP16 is not supported on CPU; using FP32 instead\n",
      "  warnings.warn(\"FP16 is not supported on CPU; using FP32 instead\")\n"
     ]
    },
    {
     "name": "stdout",
     "output_type": "stream",
     "text": [
      "reference_text: kha đây là noami mình đang ở thành phố\n",
      "predicted_text: k, đây là noami, mình đang ở thành phố.\n",
      "Processing: FPTOpenSpeechData_Set001_V0.1_000879.mp3\n"
     ]
    },
    {
     "name": "stderr",
     "output_type": "stream",
     "text": [
      "/home/ngo/anaconda3/lib/python3.12/site-packages/whisper/transcribe.py:126: UserWarning: FP16 is not supported on CPU; using FP32 instead\n",
      "  warnings.warn(\"FP16 is not supported on CPU; using FP32 instead\")\n"
     ]
    },
    {
     "name": "stdout",
     "output_type": "stream",
     "text": [
      "reference_text: ngày mai trời sẽ có sương mù à\n",
      "predicted_text: ngày mai thì trẻ con sẽ mua.\n",
      "Processing: FPTOpenSpeechData_Set001_V0.1_000880.mp3\n"
     ]
    },
    {
     "name": "stderr",
     "output_type": "stream",
     "text": [
      "/home/ngo/anaconda3/lib/python3.12/site-packages/whisper/transcribe.py:126: UserWarning: FP16 is not supported on CPU; using FP32 instead\n",
      "  warnings.warn(\"FP16 is not supported on CPU; using FP32 instead\")\n"
     ]
    },
    {
     "name": "stdout",
     "output_type": "stream",
     "text": [
      "reference_text: tôi có một thẻ ngân hàng\n",
      "predicted_text: tôi có một thẻ ngân hàng.\n",
      "Processing: FPTOpenSpeechData_Set001_V0.1_000881.mp3\n"
     ]
    },
    {
     "name": "stderr",
     "output_type": "stream",
     "text": [
      "/home/ngo/anaconda3/lib/python3.12/site-packages/whisper/transcribe.py:126: UserWarning: FP16 is not supported on CPU; using FP32 instead\n",
      "  warnings.warn(\"FP16 is not supported on CPU; using FP32 instead\")\n"
     ]
    },
    {
     "name": "stdout",
     "output_type": "stream",
     "text": [
      "reference_text: vui lòng cho tôi ghế phía trước dọc lối đi\n",
      "predicted_text: vui lòng cho tôi kể phía trước và ngồi đi.\n",
      "Processing: FPTOpenSpeechData_Set001_V0.1_000882.mp3\n"
     ]
    },
    {
     "name": "stderr",
     "output_type": "stream",
     "text": [
      "/home/ngo/anaconda3/lib/python3.12/site-packages/whisper/transcribe.py:126: UserWarning: FP16 is not supported on CPU; using FP32 instead\n",
      "  warnings.warn(\"FP16 is not supported on CPU; using FP32 instead\")\n"
     ]
    },
    {
     "name": "stdout",
     "output_type": "stream",
     "text": [
      "reference_text: lũ trẻ nít\n",
      "predicted_text: lũ trẻ nít\n",
      "Processing: FPTOpenSpeechData_Set001_V0.1_000883.mp3\n"
     ]
    },
    {
     "name": "stderr",
     "output_type": "stream",
     "text": [
      "/home/ngo/anaconda3/lib/python3.12/site-packages/whisper/transcribe.py:126: UserWarning: FP16 is not supported on CPU; using FP32 instead\n",
      "  warnings.warn(\"FP16 is not supported on CPU; using FP32 instead\")\n"
     ]
    },
    {
     "name": "stdout",
     "output_type": "stream",
     "text": [
      "reference_text: tụ tập học đòi đàn đúm hư thân mất nết\n",
      "predicted_text: tụ tập học đòi đàn đấm thư thân mất nết\n",
      "Processing: FPTOpenSpeechData_Set001_V0.1_000884.mp3\n"
     ]
    },
    {
     "name": "stderr",
     "output_type": "stream",
     "text": [
      "/home/ngo/anaconda3/lib/python3.12/site-packages/whisper/transcribe.py:126: UserWarning: FP16 is not supported on CPU; using FP32 instead\n",
      "  warnings.warn(\"FP16 is not supported on CPU; using FP32 instead\")\n"
     ]
    },
    {
     "name": "stdout",
     "output_type": "stream",
     "text": [
      "reference_text: tối nay bạn có muốn đến rạp chiếu phim không\n",
      "predicted_text: tối nay bạn muốn đến tập chức phim không?\n",
      "Processing: FPTOpenSpeechData_Set001_V0.1_000885.mp3\n"
     ]
    },
    {
     "name": "stderr",
     "output_type": "stream",
     "text": [
      "/home/ngo/anaconda3/lib/python3.12/site-packages/whisper/transcribe.py:126: UserWarning: FP16 is not supported on CPU; using FP32 instead\n",
      "  warnings.warn(\"FP16 is not supported on CPU; using FP32 instead\")\n"
     ]
    },
    {
     "name": "stdout",
     "output_type": "stream",
     "text": [
      "reference_text: gần đây nhiều sếp âm thầm bán cổ phiếu nhưng không báo cơ quan quản lý\n",
      "predicted_text: hôm nay, nhiều sách âm thầm bán cổ phiếu nhưng không bảo cơ quan quản lý.\n",
      "Processing: FPTOpenSpeechData_Set001_V0.1_000886.mp3\n"
     ]
    },
    {
     "name": "stderr",
     "output_type": "stream",
     "text": [
      "/home/ngo/anaconda3/lib/python3.12/site-packages/whisper/transcribe.py:126: UserWarning: FP16 is not supported on CPU; using FP32 instead\n",
      "  warnings.warn(\"FP16 is not supported on CPU; using FP32 instead\")\n"
     ]
    },
    {
     "name": "stdout",
     "output_type": "stream",
     "text": [
      "reference_text: ông ri nhấn mạnh bình nhưỡng sẽ không khoanh tay ngồi nhìn mà sẽ tấn công nếu cần\n",
      "predicted_text: cũng như nhấn mạnh kinh nghiệm sẽ không phải tái ngôi nhìn mà sẽ dẫn đến những việc cần.\n",
      "Processing: FPTOpenSpeechData_Set001_V0.1_000887.mp3\n"
     ]
    },
    {
     "name": "stderr",
     "output_type": "stream",
     "text": [
      "/home/ngo/anaconda3/lib/python3.12/site-packages/whisper/transcribe.py:126: UserWarning: FP16 is not supported on CPU; using FP32 instead\n",
      "  warnings.warn(\"FP16 is not supported on CPU; using FP32 instead\")\n"
     ]
    },
    {
     "name": "stdout",
     "output_type": "stream",
     "text": [
      "reference_text: vâng chúng tôi có thể vui lòng cho tôi biết tên\n",
      "predicted_text: vâng, chính tôi có thể vui lòng cho tôi biết tên.\n",
      "Processing: FPTOpenSpeechData_Set001_V0.1_000888.mp3\n"
     ]
    },
    {
     "name": "stderr",
     "output_type": "stream",
     "text": [
      "/home/ngo/anaconda3/lib/python3.12/site-packages/whisper/transcribe.py:126: UserWarning: FP16 is not supported on CPU; using FP32 instead\n",
      "  warnings.warn(\"FP16 is not supported on CPU; using FP32 instead\")\n"
     ]
    },
    {
     "name": "stdout",
     "output_type": "stream",
     "text": [
      "reference_text: nằm giữa trung tâm thành phố bắc giang quán phở nổi tiếng của nguyễn thị hảo và nguyễn tuấn vũ chẳng lúc nào đề biển mở cửa nhưng khách vẫn hối hả\n",
      "predicted_text: nằm giữa trung tâm thành phố bắc giang, quán phở lộ chiếm của nguyễn thiên hậu và nguyễn tuấn vũ chẳng lúc nào để viện mở cửa như khách vấn phối hạ.\n",
      "Processing: FPTOpenSpeechData_Set001_V0.1_000889.mp3\n"
     ]
    },
    {
     "name": "stderr",
     "output_type": "stream",
     "text": [
      "/home/ngo/anaconda3/lib/python3.12/site-packages/whisper/transcribe.py:126: UserWarning: FP16 is not supported on CPU; using FP32 instead\n",
      "  warnings.warn(\"FP16 is not supported on CPU; using FP32 instead\")\n"
     ]
    },
    {
     "name": "stdout",
     "output_type": "stream",
     "text": [
      "reference_text: đây là đường nút từ nút giao thông khu an nam sài gòn đến cầu phú mỹ và đường vành đai phía đông thành phố\n",
      "predicted_text: đây là đường nút từ nút giao thông khu ăn nam sài gòn đến cầu phú mỹ và đường vần đai phía đông thành phố.\n",
      "Processing: FPTOpenSpeechData_Set001_V0.1_000890.mp3\n"
     ]
    },
    {
     "name": "stderr",
     "output_type": "stream",
     "text": [
      "/home/ngo/anaconda3/lib/python3.12/site-packages/whisper/transcribe.py:126: UserWarning: FP16 is not supported on CPU; using FP32 instead\n",
      "  warnings.warn(\"FP16 is not supported on CPU; using FP32 instead\")\n"
     ]
    },
    {
     "name": "stdout",
     "output_type": "stream",
     "text": [
      "reference_text: chúng giúp làn da khô trở nên tươi mát mềm mại hơn\n",
      "predicted_text: chúng giúp làn da khô trở nên tươi mát, mềm mại hơn\n",
      "Processing: FPTOpenSpeechData_Set001_V0.1_000891.mp3\n"
     ]
    },
    {
     "name": "stderr",
     "output_type": "stream",
     "text": [
      "/home/ngo/anaconda3/lib/python3.12/site-packages/whisper/transcribe.py:126: UserWarning: FP16 is not supported on CPU; using FP32 instead\n",
      "  warnings.warn(\"FP16 is not supported on CPU; using FP32 instead\")\n"
     ]
    },
    {
     "name": "stdout",
     "output_type": "stream",
     "text": [
      "reference_text: vì ngôn ngữ bây giờ không phải là tiếng anh nữa nên tốt nhất là bạn hủy cả dòng\n",
      "predicted_text: vì cô cử bây giờ không phải là tiếng hát rửa thế tốt nhất là bà thủy cả dòng\n",
      "Processing: FPTOpenSpeechData_Set001_V0.1_000892.mp3\n"
     ]
    },
    {
     "name": "stderr",
     "output_type": "stream",
     "text": [
      "/home/ngo/anaconda3/lib/python3.12/site-packages/whisper/transcribe.py:126: UserWarning: FP16 is not supported on CPU; using FP32 instead\n",
      "  warnings.warn(\"FP16 is not supported on CPU; using FP32 instead\")\n"
     ]
    },
    {
     "name": "stdout",
     "output_type": "stream",
     "text": [
      "reference_text: cương ấp úng không trả lời\n",
      "predicted_text: cường ấp không trả lời\n",
      "Processing: FPTOpenSpeechData_Set001_V0.1_000893.mp3\n"
     ]
    },
    {
     "name": "stderr",
     "output_type": "stream",
     "text": [
      "/home/ngo/anaconda3/lib/python3.12/site-packages/whisper/transcribe.py:126: UserWarning: FP16 is not supported on CPU; using FP32 instead\n",
      "  warnings.warn(\"FP16 is not supported on CPU; using FP32 instead\")\n"
     ]
    },
    {
     "name": "stdout",
     "output_type": "stream",
     "text": [
      "reference_text: khách nước ngoài đón tết tại hà nội\n",
      "predicted_text: hết ngày đấu tếp tại hà nội\n",
      "Processing: FPTOpenSpeechData_Set001_V0.1_000894.mp3\n"
     ]
    },
    {
     "name": "stderr",
     "output_type": "stream",
     "text": [
      "/home/ngo/anaconda3/lib/python3.12/site-packages/whisper/transcribe.py:126: UserWarning: FP16 is not supported on CPU; using FP32 instead\n",
      "  warnings.warn(\"FP16 is not supported on CPU; using FP32 instead\")\n"
     ]
    },
    {
     "name": "stdout",
     "output_type": "stream",
     "text": [
      "reference_text: tôi sẽ thảo phiếu tính tiền cho ông\n",
      "predicted_text: tôi sẽ thảo phiếu tính tiền cho ông.\n",
      "Processing: FPTOpenSpeechData_Set001_V0.1_000895.mp3\n"
     ]
    },
    {
     "name": "stderr",
     "output_type": "stream",
     "text": [
      "/home/ngo/anaconda3/lib/python3.12/site-packages/whisper/transcribe.py:126: UserWarning: FP16 is not supported on CPU; using FP32 instead\n",
      "  warnings.warn(\"FP16 is not supported on CPU; using FP32 instead\")\n"
     ]
    },
    {
     "name": "stdout",
     "output_type": "stream",
     "text": [
      "reference_text: phía công an cũng sẽ có những thông báo để có biện pháp ngăn chặn\n",
      "predicted_text: phía công an cũng sẽ có những thông báo để có biện pháp ngăn chặn.\n",
      "Processing: FPTOpenSpeechData_Set001_V0.1_000896.mp3\n"
     ]
    },
    {
     "name": "stderr",
     "output_type": "stream",
     "text": [
      "/home/ngo/anaconda3/lib/python3.12/site-packages/whisper/transcribe.py:126: UserWarning: FP16 is not supported on CPU; using FP32 instead\n",
      "  warnings.warn(\"FP16 is not supported on CPU; using FP32 instead\")\n"
     ]
    },
    {
     "name": "stdout",
     "output_type": "stream",
     "text": [
      "reference_text: phó bí thư tưởng phi chiến thăm tặng quà gia đình chính sách hộ nghèo ở huyện chương mỹ\n",
      "predicted_text: họ bị thứ tưởng khi chiến thăm tăng gia đình kiến sách hôn heo ở huyền chiếc mỹ\n",
      "Processing: FPTOpenSpeechData_Set001_V0.1_000897.mp3\n"
     ]
    },
    {
     "name": "stderr",
     "output_type": "stream",
     "text": [
      "/home/ngo/anaconda3/lib/python3.12/site-packages/whisper/transcribe.py:126: UserWarning: FP16 is not supported on CPU; using FP32 instead\n",
      "  warnings.warn(\"FP16 is not supported on CPU; using FP32 instead\")\n"
     ]
    },
    {
     "name": "stdout",
     "output_type": "stream",
     "text": [
      "reference_text: anh đã làm thế này bao lâu rồi\n",
      "predicted_text: anh đã làm thế này bao lâu rồi?\n",
      "Processing: FPTOpenSpeechData_Set001_V0.1_000898.mp3\n"
     ]
    },
    {
     "name": "stderr",
     "output_type": "stream",
     "text": [
      "/home/ngo/anaconda3/lib/python3.12/site-packages/whisper/transcribe.py:126: UserWarning: FP16 is not supported on CPU; using FP32 instead\n",
      "  warnings.warn(\"FP16 is not supported on CPU; using FP32 instead\")\n"
     ]
    },
    {
     "name": "stdout",
     "output_type": "stream",
     "text": [
      "reference_text: tắt đèn phòng họp\n",
      "predicted_text: cắt đen phòng hợp\n",
      "Processing: FPTOpenSpeechData_Set001_V0.1_000899.mp3\n"
     ]
    },
    {
     "name": "stderr",
     "output_type": "stream",
     "text": [
      "/home/ngo/anaconda3/lib/python3.12/site-packages/whisper/transcribe.py:126: UserWarning: FP16 is not supported on CPU; using FP32 instead\n",
      "  warnings.warn(\"FP16 is not supported on CPU; using FP32 instead\")\n"
     ]
    },
    {
     "name": "stdout",
     "output_type": "stream",
     "text": [
      "reference_text: vài tháng\n",
      "predicted_text: 3 tháng\n",
      "Processing: FPTOpenSpeechData_Set001_V0.1_000900.mp3\n"
     ]
    },
    {
     "name": "stderr",
     "output_type": "stream",
     "text": [
      "/home/ngo/anaconda3/lib/python3.12/site-packages/whisper/transcribe.py:126: UserWarning: FP16 is not supported on CPU; using FP32 instead\n",
      "  warnings.warn(\"FP16 is not supported on CPU; using FP32 instead\")\n"
     ]
    },
    {
     "name": "stdout",
     "output_type": "stream",
     "text": [
      "reference_text: ảnh bush lần đầu tới điểm nóng trung đông\n",
      "predicted_text: anh bớt lần đầu tôi đi ngóng ngông\n",
      "Processing: FPTOpenSpeechData_Set001_V0.1_000901.mp3\n"
     ]
    },
    {
     "name": "stderr",
     "output_type": "stream",
     "text": [
      "/home/ngo/anaconda3/lib/python3.12/site-packages/whisper/transcribe.py:126: UserWarning: FP16 is not supported on CPU; using FP32 instead\n",
      "  warnings.warn(\"FP16 is not supported on CPU; using FP32 instead\")\n"
     ]
    },
    {
     "name": "stdout",
     "output_type": "stream",
     "text": [
      "reference_text: anh ấy sống cạnh nhà\n",
      "predicted_text: anh ơi, trong cạnh nhà\n",
      "Processing: FPTOpenSpeechData_Set001_V0.1_000902.mp3\n"
     ]
    },
    {
     "name": "stderr",
     "output_type": "stream",
     "text": [
      "/home/ngo/anaconda3/lib/python3.12/site-packages/whisper/transcribe.py:126: UserWarning: FP16 is not supported on CPU; using FP32 instead\n",
      "  warnings.warn(\"FP16 is not supported on CPU; using FP32 instead\")\n"
     ]
    },
    {
     "name": "stdout",
     "output_type": "stream",
     "text": [
      "reference_text: kẹo làm từ bột hòn đường quế hạt thông\n",
      "predicted_text: kẹo làm từ bột hoàn, đường, quế, hạt thống.\n",
      "Processing: FPTOpenSpeechData_Set001_V0.1_000903.mp3\n"
     ]
    },
    {
     "name": "stderr",
     "output_type": "stream",
     "text": [
      "/home/ngo/anaconda3/lib/python3.12/site-packages/whisper/transcribe.py:126: UserWarning: FP16 is not supported on CPU; using FP32 instead\n",
      "  warnings.warn(\"FP16 is not supported on CPU; using FP32 instead\")\n"
     ]
    },
    {
     "name": "stdout",
     "output_type": "stream",
     "text": [
      "reference_text: cô ấy đang gọi từ canada\n",
      "predicted_text: cô ấy đang ngồi tìm camera.\n",
      "Processing: FPTOpenSpeechData_Set001_V0.1_000904.mp3\n"
     ]
    },
    {
     "name": "stderr",
     "output_type": "stream",
     "text": [
      "/home/ngo/anaconda3/lib/python3.12/site-packages/whisper/transcribe.py:126: UserWarning: FP16 is not supported on CPU; using FP32 instead\n",
      "  warnings.warn(\"FP16 is not supported on CPU; using FP32 instead\")\n"
     ]
    },
    {
     "name": "stdout",
     "output_type": "stream",
     "text": [
      "reference_text: điều hòa làm lạnh\n",
      "predicted_text: điều hoa làm lãng\n",
      "Processing: FPTOpenSpeechData_Set001_V0.1_000905.mp3\n"
     ]
    },
    {
     "name": "stderr",
     "output_type": "stream",
     "text": [
      "/home/ngo/anaconda3/lib/python3.12/site-packages/whisper/transcribe.py:126: UserWarning: FP16 is not supported on CPU; using FP32 instead\n",
      "  warnings.warn(\"FP16 is not supported on CPU; using FP32 instead\")\n"
     ]
    },
    {
     "name": "stdout",
     "output_type": "stream",
     "text": [
      "reference_text: nhìn cây đào đẹp\n",
      "predicted_text: nhìn cây đào đẹp\n",
      "Processing: FPTOpenSpeechData_Set001_V0.1_000906.mp3\n"
     ]
    },
    {
     "name": "stderr",
     "output_type": "stream",
     "text": [
      "/home/ngo/anaconda3/lib/python3.12/site-packages/whisper/transcribe.py:126: UserWarning: FP16 is not supported on CPU; using FP32 instead\n",
      "  warnings.warn(\"FP16 is not supported on CPU; using FP32 instead\")\n"
     ]
    },
    {
     "name": "stdout",
     "output_type": "stream",
     "text": [
      "reference_text: hàng đống bưởi\n",
      "predicted_text: hãy subscribe cho kênh ghiền mì gõ để không bỏ lỡ những video hấp dẫn\n",
      "Processing: FPTOpenSpeechData_Set001_V0.1_000907.mp3\n"
     ]
    },
    {
     "name": "stderr",
     "output_type": "stream",
     "text": [
      "/home/ngo/anaconda3/lib/python3.12/site-packages/whisper/transcribe.py:126: UserWarning: FP16 is not supported on CPU; using FP32 instead\n",
      "  warnings.warn(\"FP16 is not supported on CPU; using FP32 instead\")\n"
     ]
    },
    {
     "name": "stdout",
     "output_type": "stream",
     "text": [
      "reference_text: cơn khát thèm du thuyền bùng nổ vượt xa khả năng đáp ứng của cơ sở hạ tầng\n",
      "predicted_text: cơn khát thêm dấu thiên, bùng nổ vượt ra khả năng đạt ứng của cơ sở hạ tâm.\n",
      "Processing: FPTOpenSpeechData_Set001_V0.1_000908.mp3\n"
     ]
    },
    {
     "name": "stderr",
     "output_type": "stream",
     "text": [
      "/home/ngo/anaconda3/lib/python3.12/site-packages/whisper/transcribe.py:126: UserWarning: FP16 is not supported on CPU; using FP32 instead\n",
      "  warnings.warn(\"FP16 is not supported on CPU; using FP32 instead\")\n"
     ]
    },
    {
     "name": "stdout",
     "output_type": "stream",
     "text": [
      "reference_text: tôi chơi dương cầm giỏi\n",
      "predicted_text: tôi chơi dương cầm dòi\n",
      "Processing: FPTOpenSpeechData_Set001_V0.1_000909.mp3\n"
     ]
    },
    {
     "name": "stderr",
     "output_type": "stream",
     "text": [
      "/home/ngo/anaconda3/lib/python3.12/site-packages/whisper/transcribe.py:126: UserWarning: FP16 is not supported on CPU; using FP32 instead\n",
      "  warnings.warn(\"FP16 is not supported on CPU; using FP32 instead\")\n"
     ]
    },
    {
     "name": "stdout",
     "output_type": "stream",
     "text": [
      "reference_text: làm một chiếc túi đủ lớn để có thể đút vừa một cuốn sổ tay có kích thước tám nhân mười một\n",
      "predicted_text: làm một kiểm soát lớn để có thể đụng vừa một cuộn thổ tay có kích thước tạm nhân 11.\n",
      "Processing: FPTOpenSpeechData_Set001_V0.1_000910.mp3\n"
     ]
    },
    {
     "name": "stderr",
     "output_type": "stream",
     "text": [
      "/home/ngo/anaconda3/lib/python3.12/site-packages/whisper/transcribe.py:126: UserWarning: FP16 is not supported on CPU; using FP32 instead\n",
      "  warnings.warn(\"FP16 is not supported on CPU; using FP32 instead\")\n"
     ]
    },
    {
     "name": "stdout",
     "output_type": "stream",
     "text": [
      "reference_text: tôi muốn bạn gửi cái này\n",
      "predicted_text: tôi muốn bàn thí cạnh này.\n",
      "Processing: FPTOpenSpeechData_Set001_V0.1_000911.mp3\n"
     ]
    },
    {
     "name": "stderr",
     "output_type": "stream",
     "text": [
      "/home/ngo/anaconda3/lib/python3.12/site-packages/whisper/transcribe.py:126: UserWarning: FP16 is not supported on CPU; using FP32 instead\n",
      "  warnings.warn(\"FP16 is not supported on CPU; using FP32 instead\")\n"
     ]
    },
    {
     "name": "stdout",
     "output_type": "stream",
     "text": [
      "reference_text: do còn lượng nước trong cồn nhiều hơn nên động cơ ít bị nóng hơn\n",
      "predicted_text: do còn lượng nước trong cục cồn nhiều hơn nên động cơ ít bị nóng hơn.\n",
      "Processing: FPTOpenSpeechData_Set001_V0.1_000912.mp3\n"
     ]
    },
    {
     "name": "stderr",
     "output_type": "stream",
     "text": [
      "/home/ngo/anaconda3/lib/python3.12/site-packages/whisper/transcribe.py:126: UserWarning: FP16 is not supported on CPU; using FP32 instead\n",
      "  warnings.warn(\"FP16 is not supported on CPU; using FP32 instead\")\n"
     ]
    },
    {
     "name": "stdout",
     "output_type": "stream",
     "text": [
      "reference_text: đây có thể là trứng cá đỏ hoặc mụn trứng cá người lớn\n",
      "predicted_text: đây có thể là trứng cá đũa hoặc mụn trứng cắn người lớn.\n",
      "Processing: FPTOpenSpeechData_Set001_V0.1_000913.mp3\n"
     ]
    },
    {
     "name": "stderr",
     "output_type": "stream",
     "text": [
      "/home/ngo/anaconda3/lib/python3.12/site-packages/whisper/transcribe.py:126: UserWarning: FP16 is not supported on CPU; using FP32 instead\n",
      "  warnings.warn(\"FP16 is not supported on CPU; using FP32 instead\")\n"
     ]
    },
    {
     "name": "stdout",
     "output_type": "stream",
     "text": [
      "reference_text: tôi muốn có catalogue\n",
      "predicted_text: tôi muốn với cát tân lô\n",
      "Processing: FPTOpenSpeechData_Set001_V0.1_000914.mp3\n"
     ]
    },
    {
     "name": "stderr",
     "output_type": "stream",
     "text": [
      "/home/ngo/anaconda3/lib/python3.12/site-packages/whisper/transcribe.py:126: UserWarning: FP16 is not supported on CPU; using FP32 instead\n",
      "  warnings.warn(\"FP16 is not supported on CPU; using FP32 instead\")\n"
     ]
    },
    {
     "name": "stdout",
     "output_type": "stream",
     "text": [
      "reference_text: các tiết mục múa tượng trưng cho mùa xuân\n",
      "predicted_text: ta tiếp một mối tượng trưng cho mùa xuân.\n",
      "Processing: FPTOpenSpeechData_Set001_V0.1_000915.mp3\n"
     ]
    },
    {
     "name": "stderr",
     "output_type": "stream",
     "text": [
      "/home/ngo/anaconda3/lib/python3.12/site-packages/whisper/transcribe.py:126: UserWarning: FP16 is not supported on CPU; using FP32 instead\n",
      "  warnings.warn(\"FP16 is not supported on CPU; using FP32 instead\")\n"
     ]
    },
    {
     "name": "stdout",
     "output_type": "stream",
     "text": [
      "reference_text: -n hồ bắt nguồn từ dòng suối tía huyền thoại và nằm gọn gàng giữa rừng thông mênh mông\n",
      "predicted_text: hồ bạch nguồn tư long tử chí duyên thoài, ra năm gòm ra rửa đường thông minh mông.\n",
      "Processing: FPTOpenSpeechData_Set001_V0.1_000916.mp3\n"
     ]
    },
    {
     "name": "stderr",
     "output_type": "stream",
     "text": [
      "/home/ngo/anaconda3/lib/python3.12/site-packages/whisper/transcribe.py:126: UserWarning: FP16 is not supported on CPU; using FP32 instead\n",
      "  warnings.warn(\"FP16 is not supported on CPU; using FP32 instead\")\n"
     ]
    },
    {
     "name": "stdout",
     "output_type": "stream",
     "text": [
      "reference_text: tôi đang tìm một món đồ lưu niệm nhỏ\n",
      "predicted_text: tôi đang tìm một món đồ lưu niệm nhỏ.\n",
      "Processing: FPTOpenSpeechData_Set001_V0.1_000917.mp3\n"
     ]
    },
    {
     "name": "stderr",
     "output_type": "stream",
     "text": [
      "/home/ngo/anaconda3/lib/python3.12/site-packages/whisper/transcribe.py:126: UserWarning: FP16 is not supported on CPU; using FP32 instead\n",
      "  warnings.warn(\"FP16 is not supported on CPU; using FP32 instead\")\n"
     ]
    },
    {
     "name": "stdout",
     "output_type": "stream",
     "text": [
      "reference_text: chúng tôi sẽ báo cho anh ngay khi chúng tôi tìm được\n",
      "predicted_text: chúng tôi sẽ báo cho anh ngay khi chúng tôi tìm được.\n",
      "Processing: FPTOpenSpeechData_Set001_V0.1_000918.mp3\n"
     ]
    },
    {
     "name": "stderr",
     "output_type": "stream",
     "text": [
      "/home/ngo/anaconda3/lib/python3.12/site-packages/whisper/transcribe.py:126: UserWarning: FP16 is not supported on CPU; using FP32 instead\n",
      "  warnings.warn(\"FP16 is not supported on CPU; using FP32 instead\")\n"
     ]
    },
    {
     "name": "stdout",
     "output_type": "stream",
     "text": [
      "reference_text: còn dự án phát triển sản phẩm từ mây và gỗ đảm bảo bền vững do ủy ban xã quản lý tài trợ sẽ thiết lập hệ thống sản xuất bài bản cho các sản phẩm mây tre tại việt nam cũng như lào\n",
      "predicted_text: còn dự án phát triển sản phẩm từ mây và gỗ đảm bảo bền vững do ủy ban xã quản lý tài trợ để thiết lập hệ thống sản xuất bài bản cho các sản phẩm lây che tại việt nam cũng như nào.\n",
      "Processing: FPTOpenSpeechData_Set001_V0.1_000919.mp3\n"
     ]
    },
    {
     "name": "stderr",
     "output_type": "stream",
     "text": [
      "/home/ngo/anaconda3/lib/python3.12/site-packages/whisper/transcribe.py:126: UserWarning: FP16 is not supported on CPU; using FP32 instead\n",
      "  warnings.warn(\"FP16 is not supported on CPU; using FP32 instead\")\n"
     ]
    },
    {
     "name": "stdout",
     "output_type": "stream",
     "text": [
      "reference_text: hãy mang cho tôi một cục xà phòng\n",
      "predicted_text: hãy đăng ký kênh để ủng hộ kênh của mình nhé.\n",
      "Processing: FPTOpenSpeechData_Set001_V0.1_000920.mp3\n"
     ]
    },
    {
     "name": "stderr",
     "output_type": "stream",
     "text": [
      "/home/ngo/anaconda3/lib/python3.12/site-packages/whisper/transcribe.py:126: UserWarning: FP16 is not supported on CPU; using FP32 instead\n",
      "  warnings.warn(\"FP16 is not supported on CPU; using FP32 instead\")\n"
     ]
    },
    {
     "name": "stdout",
     "output_type": "stream",
     "text": [
      "reference_text: tôi bị táo bón nhiều\n",
      "predicted_text: tôi bị táo bọn nhiều.\n",
      "Processing: FPTOpenSpeechData_Set001_V0.1_000921.mp3\n"
     ]
    },
    {
     "name": "stderr",
     "output_type": "stream",
     "text": [
      "/home/ngo/anaconda3/lib/python3.12/site-packages/whisper/transcribe.py:126: UserWarning: FP16 is not supported on CPU; using FP32 instead\n",
      "  warnings.warn(\"FP16 is not supported on CPU; using FP32 instead\")\n"
     ]
    },
    {
     "name": "stdout",
     "output_type": "stream",
     "text": [
      "reference_text: đó là quan niệm tình yêu ở phái đẹp\n",
      "predicted_text: đó là quan điện tình yêu ở phái đẹp.\n",
      "Processing: FPTOpenSpeechData_Set001_V0.1_000922.mp3\n"
     ]
    },
    {
     "name": "stderr",
     "output_type": "stream",
     "text": [
      "/home/ngo/anaconda3/lib/python3.12/site-packages/whisper/transcribe.py:126: UserWarning: FP16 is not supported on CPU; using FP32 instead\n",
      "  warnings.warn(\"FP16 is not supported on CPU; using FP32 instead\")\n"
     ]
    },
    {
     "name": "stdout",
     "output_type": "stream",
     "text": [
      "reference_text: thấy cá ục sôi dưới đìa mắc nôn nao trong ruột\n",
      "predicted_text: thấy cá ột soi dưới đè, mắt nôn nao trong ruột.\n",
      "Processing: FPTOpenSpeechData_Set001_V0.1_000923.mp3\n"
     ]
    },
    {
     "name": "stderr",
     "output_type": "stream",
     "text": [
      "/home/ngo/anaconda3/lib/python3.12/site-packages/whisper/transcribe.py:126: UserWarning: FP16 is not supported on CPU; using FP32 instead\n",
      "  warnings.warn(\"FP16 is not supported on CPU; using FP32 instead\")\n"
     ]
    },
    {
     "name": "stdout",
     "output_type": "stream",
     "text": [
      "reference_text: cho tới thứ hai\n",
      "predicted_text: chào tớ xin hãy\n",
      "Processing: FPTOpenSpeechData_Set001_V0.1_000924.mp3\n"
     ]
    },
    {
     "name": "stderr",
     "output_type": "stream",
     "text": [
      "/home/ngo/anaconda3/lib/python3.12/site-packages/whisper/transcribe.py:126: UserWarning: FP16 is not supported on CPU; using FP32 instead\n",
      "  warnings.warn(\"FP16 is not supported on CPU; using FP32 instead\")\n"
     ]
    },
    {
     "name": "stdout",
     "output_type": "stream",
     "text": [
      "reference_text: phó tổng thống đắc cử cũng khẳng định đội ngũ lãnh đạo kinh tế của ông đã lên kế hoạch thực hiện một gói kích thích kinh tế nữa với giá trị có thể lên tới một ngàn tỷ đô la mỹ\n",
      "predicted_text: phó tổng thống nga tử cũng hoảng định đội mô lãnh đạo kinh tế của ông đã lên kế hoạch thực hiện một gói xích xích kinh tế lửa với giá trị có thể lên tới 1.000 tỷ usd.\n",
      "Processing: FPTOpenSpeechData_Set001_V0.1_000925.mp3\n"
     ]
    },
    {
     "name": "stderr",
     "output_type": "stream",
     "text": [
      "/home/ngo/anaconda3/lib/python3.12/site-packages/whisper/transcribe.py:126: UserWarning: FP16 is not supported on CPU; using FP32 instead\n",
      "  warnings.warn(\"FP16 is not supported on CPU; using FP32 instead\")\n"
     ]
    },
    {
     "name": "stdout",
     "output_type": "stream",
     "text": [
      "reference_text: trong quá trình này một số người quen là việt kiều đã bày tỏ ý với phố muốn mua dâm các người mẫu diễn viên\n",
      "predicted_text: trong quá trình này, một số người quen là việt kiều đã bày tỏ ý với phố muốn mua dâm người bảo diễn viên.\n",
      "Processing: FPTOpenSpeechData_Set001_V0.1_000926.mp3\n"
     ]
    },
    {
     "name": "stderr",
     "output_type": "stream",
     "text": [
      "/home/ngo/anaconda3/lib/python3.12/site-packages/whisper/transcribe.py:126: UserWarning: FP16 is not supported on CPU; using FP32 instead\n",
      "  warnings.warn(\"FP16 is not supported on CPU; using FP32 instead\")\n"
     ]
    },
    {
     "name": "stdout",
     "output_type": "stream",
     "text": [
      "reference_text: vui lòng mang cho tôi một ít nước uống\n",
      "predicted_text: ngươi vào mang cho tôi một ít nước uống.\n",
      "Processing: FPTOpenSpeechData_Set001_V0.1_000927.mp3\n"
     ]
    },
    {
     "name": "stderr",
     "output_type": "stream",
     "text": [
      "/home/ngo/anaconda3/lib/python3.12/site-packages/whisper/transcribe.py:126: UserWarning: FP16 is not supported on CPU; using FP32 instead\n",
      "  warnings.warn(\"FP16 is not supported on CPU; using FP32 instead\")\n"
     ]
    },
    {
     "name": "stdout",
     "output_type": "stream",
     "text": [
      "reference_text: thược dược\n",
      "predicted_text: thuộc dục\n",
      "Processing: FPTOpenSpeechData_Set001_V0.1_000928.mp3\n"
     ]
    },
    {
     "name": "stderr",
     "output_type": "stream",
     "text": [
      "/home/ngo/anaconda3/lib/python3.12/site-packages/whisper/transcribe.py:126: UserWarning: FP16 is not supported on CPU; using FP32 instead\n",
      "  warnings.warn(\"FP16 is not supported on CPU; using FP32 instead\")\n"
     ]
    },
    {
     "name": "stdout",
     "output_type": "stream",
     "text": [
      "reference_text: hãy cho tiền vào thùng vé khi anh xuống xe\n",
      "predicted_text: hãy cho tiền vào cùng vé khi anh xuống xe.\n",
      "Processing: FPTOpenSpeechData_Set001_V0.1_000929.mp3\n"
     ]
    },
    {
     "name": "stderr",
     "output_type": "stream",
     "text": [
      "/home/ngo/anaconda3/lib/python3.12/site-packages/whisper/transcribe.py:126: UserWarning: FP16 is not supported on CPU; using FP32 instead\n",
      "  warnings.warn(\"FP16 is not supported on CPU; using FP32 instead\")\n"
     ]
    },
    {
     "name": "stdout",
     "output_type": "stream",
     "text": [
      "reference_text: sa pa bây giờ là một trong những địa danh du lịch hấp dẫn nhất miền bắc\n",
      "predicted_text: sapa bây giờ là một trong những địa danh du lịch hấp dẫn nhất miền bắc.\n",
      "Processing: FPTOpenSpeechData_Set001_V0.1_000930.mp3\n"
     ]
    },
    {
     "name": "stderr",
     "output_type": "stream",
     "text": [
      "/home/ngo/anaconda3/lib/python3.12/site-packages/whisper/transcribe.py:126: UserWarning: FP16 is not supported on CPU; using FP32 instead\n",
      "  warnings.warn(\"FP16 is not supported on CPU; using FP32 instead\")\n"
     ]
    },
    {
     "name": "stdout",
     "output_type": "stream",
     "text": [
      "reference_text: mỗi con bò đều được đeo một chiếc vòng cổ gắn pin\n",
      "predicted_text: mỗi con bò đều được đeo một chữ vòng cổ gắn pin.\n",
      "Processing: FPTOpenSpeechData_Set001_V0.1_000931.mp3\n"
     ]
    },
    {
     "name": "stderr",
     "output_type": "stream",
     "text": [
      "/home/ngo/anaconda3/lib/python3.12/site-packages/whisper/transcribe.py:126: UserWarning: FP16 is not supported on CPU; using FP32 instead\n",
      "  warnings.warn(\"FP16 is not supported on CPU; using FP32 instead\")\n"
     ]
    },
    {
     "name": "stdout",
     "output_type": "stream",
     "text": [
      "reference_text: cho cô ấy một phiếu tính tiền liệt kê từng khoản được không\n",
      "predicted_text: cháu có vậy một tiền đề kê tư khoản được không?\n",
      "Processing: FPTOpenSpeechData_Set001_V0.1_000932.mp3\n"
     ]
    },
    {
     "name": "stderr",
     "output_type": "stream",
     "text": [
      "/home/ngo/anaconda3/lib/python3.12/site-packages/whisper/transcribe.py:126: UserWarning: FP16 is not supported on CPU; using FP32 instead\n",
      "  warnings.warn(\"FP16 is not supported on CPU; using FP32 instead\")\n"
     ]
    },
    {
     "name": "stdout",
     "output_type": "stream",
     "text": [
      "reference_text: tôi muốn chuyển sang phòng khác\n",
      "predicted_text: tôi muốn chuyển trạng phòng khác.\n",
      "Processing: FPTOpenSpeechData_Set001_V0.1_000933.mp3\n"
     ]
    },
    {
     "name": "stderr",
     "output_type": "stream",
     "text": [
      "/home/ngo/anaconda3/lib/python3.12/site-packages/whisper/transcribe.py:126: UserWarning: FP16 is not supported on CPU; using FP32 instead\n",
      "  warnings.warn(\"FP16 is not supported on CPU; using FP32 instead\")\n"
     ]
    },
    {
     "name": "stdout",
     "output_type": "stream",
     "text": [
      "reference_text: có giảm giá cho trẻ em không\n",
      "predicted_text: có làm đá cho chị ăn không?\n",
      "Processing: FPTOpenSpeechData_Set001_V0.1_000934.mp3\n"
     ]
    },
    {
     "name": "stderr",
     "output_type": "stream",
     "text": [
      "/home/ngo/anaconda3/lib/python3.12/site-packages/whisper/transcribe.py:126: UserWarning: FP16 is not supported on CPU; using FP32 instead\n",
      "  warnings.warn(\"FP16 is not supported on CPU; using FP32 instead\")\n"
     ]
    },
    {
     "name": "stdout",
     "output_type": "stream",
     "text": [
      "reference_text: cho tôi biết tên cô ấy\n",
      "predicted_text: do tôi biết tên cô ấy\n",
      "Processing: FPTOpenSpeechData_Set001_V0.1_000935.mp3\n"
     ]
    },
    {
     "name": "stderr",
     "output_type": "stream",
     "text": [
      "/home/ngo/anaconda3/lib/python3.12/site-packages/whisper/transcribe.py:126: UserWarning: FP16 is not supported on CPU; using FP32 instead\n",
      "  warnings.warn(\"FP16 is not supported on CPU; using FP32 instead\")\n"
     ]
    },
    {
     "name": "stdout",
     "output_type": "stream",
     "text": [
      "reference_text: tất cả cũng chỉ xuất phát từ thói cả nể cố hữu dính mác sinh viên này thôi\n",
      "predicted_text: tất cả cũng chỉ xuất phát từ thói cả nể, cố hữu dính mát sinh viên này thôi.\n",
      "Processing: FPTOpenSpeechData_Set001_V0.1_000936.mp3\n"
     ]
    },
    {
     "name": "stderr",
     "output_type": "stream",
     "text": [
      "/home/ngo/anaconda3/lib/python3.12/site-packages/whisper/transcribe.py:126: UserWarning: FP16 is not supported on CPU; using FP32 instead\n",
      "  warnings.warn(\"FP16 is not supported on CPU; using FP32 instead\")\n"
     ]
    },
    {
     "name": "stdout",
     "output_type": "stream",
     "text": [
      "reference_text: có nhưng một vài xe đã hoàn tất cuộc đua\n",
      "predicted_text: có nhưng một vài xe đại hoàn thất kiệt đua.\n",
      "Processing: FPTOpenSpeechData_Set001_V0.1_000937.mp3\n"
     ]
    },
    {
     "name": "stderr",
     "output_type": "stream",
     "text": [
      "/home/ngo/anaconda3/lib/python3.12/site-packages/whisper/transcribe.py:126: UserWarning: FP16 is not supported on CPU; using FP32 instead\n",
      "  warnings.warn(\"FP16 is not supported on CPU; using FP32 instead\")\n"
     ]
    },
    {
     "name": "stdout",
     "output_type": "stream",
     "text": [
      "reference_text: cho tôi nửa gói thuốc lá salem\n",
      "predicted_text: chào tụi em!\n",
      "Processing: FPTOpenSpeechData_Set001_V0.1_000938.mp3\n"
     ]
    },
    {
     "name": "stderr",
     "output_type": "stream",
     "text": [
      "/home/ngo/anaconda3/lib/python3.12/site-packages/whisper/transcribe.py:126: UserWarning: FP16 is not supported on CPU; using FP32 instead\n",
      "  warnings.warn(\"FP16 is not supported on CPU; using FP32 instead\")\n"
     ]
    },
    {
     "name": "stdout",
     "output_type": "stream",
     "text": [
      "reference_text: nó hơi ngọt\n",
      "predicted_text: gói hơi ngoặt\n",
      "Processing: FPTOpenSpeechData_Set001_V0.1_000939.mp3\n"
     ]
    },
    {
     "name": "stderr",
     "output_type": "stream",
     "text": [
      "/home/ngo/anaconda3/lib/python3.12/site-packages/whisper/transcribe.py:126: UserWarning: FP16 is not supported on CPU; using FP32 instead\n",
      "  warnings.warn(\"FP16 is not supported on CPU; using FP32 instead\")\n"
     ]
    },
    {
     "name": "stdout",
     "output_type": "stream",
     "text": [
      "reference_text: ngắt ti vi\n",
      "predicted_text: nhắc tv\n",
      "Processing: FPTOpenSpeechData_Set001_V0.1_000940.mp3\n"
     ]
    },
    {
     "name": "stderr",
     "output_type": "stream",
     "text": [
      "/home/ngo/anaconda3/lib/python3.12/site-packages/whisper/transcribe.py:126: UserWarning: FP16 is not supported on CPU; using FP32 instead\n",
      "  warnings.warn(\"FP16 is not supported on CPU; using FP32 instead\")\n"
     ]
    },
    {
     "name": "stdout",
     "output_type": "stream",
     "text": [
      "reference_text: khuyến cáo chọn ấm của tiến sĩ khải\n",
      "predicted_text: tuyết khám phạm ập của tiến sĩ phải\n",
      "Processing: FPTOpenSpeechData_Set001_V0.1_000941.mp3\n"
     ]
    },
    {
     "name": "stderr",
     "output_type": "stream",
     "text": [
      "/home/ngo/anaconda3/lib/python3.12/site-packages/whisper/transcribe.py:126: UserWarning: FP16 is not supported on CPU; using FP32 instead\n",
      "  warnings.warn(\"FP16 is not supported on CPU; using FP32 instead\")\n"
     ]
    },
    {
     "name": "stdout",
     "output_type": "stream",
     "text": [
      "reference_text: các nhà đầu tư đã lỡ ôm quyền mua cổ phần đang rất hoang mang\n",
      "predicted_text: các nhà đầu tư đã lỡ ôm quyền mua, cổ phần đang rất hoang mang.\n",
      "Processing: FPTOpenSpeechData_Set001_V0.1_000942.mp3\n"
     ]
    },
    {
     "name": "stderr",
     "output_type": "stream",
     "text": [
      "/home/ngo/anaconda3/lib/python3.12/site-packages/whisper/transcribe.py:126: UserWarning: FP16 is not supported on CPU; using FP32 instead\n",
      "  warnings.warn(\"FP16 is not supported on CPU; using FP32 instead\")\n"
     ]
    },
    {
     "name": "stdout",
     "output_type": "stream",
     "text": [
      "reference_text: chúng ta có vài phút nữa để làm\n",
      "predicted_text: chúng ta gọi vai thịt người để làm\n",
      "Processing: FPTOpenSpeechData_Set001_V0.1_000943.mp3\n"
     ]
    },
    {
     "name": "stderr",
     "output_type": "stream",
     "text": [
      "/home/ngo/anaconda3/lib/python3.12/site-packages/whisper/transcribe.py:126: UserWarning: FP16 is not supported on CPU; using FP32 instead\n",
      "  warnings.warn(\"FP16 is not supported on CPU; using FP32 instead\")\n"
     ]
    },
    {
     "name": "stdout",
     "output_type": "stream",
     "text": [
      "reference_text: chúng ta có thể làm việc gì bù cho nó\n",
      "predicted_text: chúng ta có thể làm việc gì bù cho nó?\n",
      "Processing: FPTOpenSpeechData_Set001_V0.1_000944.mp3\n"
     ]
    },
    {
     "name": "stderr",
     "output_type": "stream",
     "text": [
      "/home/ngo/anaconda3/lib/python3.12/site-packages/whisper/transcribe.py:126: UserWarning: FP16 is not supported on CPU; using FP32 instead\n",
      "  warnings.warn(\"FP16 is not supported on CPU; using FP32 instead\")\n"
     ]
    },
    {
     "name": "stdout",
     "output_type": "stream",
     "text": [
      "reference_text: nhìn lên phía trái từ khu chung cư sẽ thấy nhà thờ phú cam\n",
      "predicted_text: nhìn lên phía trái, từ khu xung cư sẽ thấy nhà thờ phú cam\n",
      "Processing: FPTOpenSpeechData_Set001_V0.1_000945.mp3\n"
     ]
    },
    {
     "name": "stderr",
     "output_type": "stream",
     "text": [
      "/home/ngo/anaconda3/lib/python3.12/site-packages/whisper/transcribe.py:126: UserWarning: FP16 is not supported on CPU; using FP32 instead\n",
      "  warnings.warn(\"FP16 is not supported on CPU; using FP32 instead\")\n"
     ]
    },
    {
     "name": "stdout",
     "output_type": "stream",
     "text": [
      "reference_text: đừng bao giờ tự mình đi vào rừng\n",
      "predicted_text: đừng bao giờ tự mình đi vào giường\n",
      "Processing: FPTOpenSpeechData_Set001_V0.1_000946.mp3\n"
     ]
    },
    {
     "name": "stderr",
     "output_type": "stream",
     "text": [
      "/home/ngo/anaconda3/lib/python3.12/site-packages/whisper/transcribe.py:126: UserWarning: FP16 is not supported on CPU; using FP32 instead\n",
      "  warnings.warn(\"FP16 is not supported on CPU; using FP32 instead\")\n"
     ]
    },
    {
     "name": "stdout",
     "output_type": "stream",
     "text": [
      "reference_text: khoang trời nằm ở tầng nào\n",
      "predicted_text: khoán chơi nào năm ưu tân nào\n",
      "Processing: FPTOpenSpeechData_Set001_V0.1_000947.mp3\n"
     ]
    },
    {
     "name": "stderr",
     "output_type": "stream",
     "text": [
      "/home/ngo/anaconda3/lib/python3.12/site-packages/whisper/transcribe.py:126: UserWarning: FP16 is not supported on CPU; using FP32 instead\n",
      "  warnings.warn(\"FP16 is not supported on CPU; using FP32 instead\")\n"
     ]
    },
    {
     "name": "stdout",
     "output_type": "stream",
     "text": [
      "reference_text: để hoàn thiện hơn hoặc thay đổi khi cần thiết\n",
      "predicted_text: để hoàn thiện hơn hoặc thay đổi khi cần thiết.\n",
      "Processing: FPTOpenSpeechData_Set001_V0.1_000948.mp3\n"
     ]
    },
    {
     "name": "stderr",
     "output_type": "stream",
     "text": [
      "/home/ngo/anaconda3/lib/python3.12/site-packages/whisper/transcribe.py:126: UserWarning: FP16 is not supported on CPU; using FP32 instead\n",
      "  warnings.warn(\"FP16 is not supported on CPU; using FP32 instead\")\n"
     ]
    },
    {
     "name": "stdout",
     "output_type": "stream",
     "text": [
      "reference_text: vui dòng đưa tôi đến khu phố người hoa\n",
      "predicted_text: vui lòng đưa tôi đến khu phố nguy hoa.\n",
      "Processing: FPTOpenSpeechData_Set001_V0.1_000949.mp3\n"
     ]
    },
    {
     "name": "stderr",
     "output_type": "stream",
     "text": [
      "/home/ngo/anaconda3/lib/python3.12/site-packages/whisper/transcribe.py:126: UserWarning: FP16 is not supported on CPU; using FP32 instead\n",
      "  warnings.warn(\"FP16 is not supported on CPU; using FP32 instead\")\n"
     ]
    },
    {
     "name": "stdout",
     "output_type": "stream",
     "text": [
      "reference_text: và ông lucas phải báo cáo cho ai\n",
      "predicted_text: và ông nú cát phải báo cáo cho ai?\n",
      "Processing: FPTOpenSpeechData_Set001_V0.1_000950.mp3\n"
     ]
    },
    {
     "name": "stderr",
     "output_type": "stream",
     "text": [
      "/home/ngo/anaconda3/lib/python3.12/site-packages/whisper/transcribe.py:126: UserWarning: FP16 is not supported on CPU; using FP32 instead\n",
      "  warnings.warn(\"FP16 is not supported on CPU; using FP32 instead\")\n"
     ]
    },
    {
     "name": "stdout",
     "output_type": "stream",
     "text": [
      "reference_text: từ bây giờ nó được gọi là thai nhi\n",
      "predicted_text: từ bây giờ nó được gọi là thai y\n",
      "Processing: FPTOpenSpeechData_Set001_V0.1_000951.mp3\n"
     ]
    },
    {
     "name": "stderr",
     "output_type": "stream",
     "text": [
      "/home/ngo/anaconda3/lib/python3.12/site-packages/whisper/transcribe.py:126: UserWarning: FP16 is not supported on CPU; using FP32 instead\n",
      "  warnings.warn(\"FP16 is not supported on CPU; using FP32 instead\")\n"
     ]
    },
    {
     "name": "stdout",
     "output_type": "stream",
     "text": [
      "reference_text: đó là cuộc sống đó cũng là bóng đá\n",
      "predicted_text: đó là cuộc sống, đó cũng là bóng đá\n",
      "Processing: FPTOpenSpeechData_Set001_V0.1_000952.mp3\n"
     ]
    },
    {
     "name": "stderr",
     "output_type": "stream",
     "text": [
      "/home/ngo/anaconda3/lib/python3.12/site-packages/whisper/transcribe.py:126: UserWarning: FP16 is not supported on CPU; using FP32 instead\n",
      "  warnings.warn(\"FP16 is not supported on CPU; using FP32 instead\")\n"
     ]
    },
    {
     "name": "stdout",
     "output_type": "stream",
     "text": [
      "reference_text: xin lỗi cắt ngắn thêm một ít ở phần\n",
      "predicted_text: xin lỗi, các bạn thêm một ít hờ văn.\n",
      "Processing: FPTOpenSpeechData_Set001_V0.1_000953.mp3\n"
     ]
    },
    {
     "name": "stderr",
     "output_type": "stream",
     "text": [
      "/home/ngo/anaconda3/lib/python3.12/site-packages/whisper/transcribe.py:126: UserWarning: FP16 is not supported on CPU; using FP32 instead\n",
      "  warnings.warn(\"FP16 is not supported on CPU; using FP32 instead\")\n"
     ]
    },
    {
     "name": "stdout",
     "output_type": "stream",
     "text": [
      "reference_text: cô ấy sẽ muốn đậu xe đến năm giờ\n",
      "predicted_text: cô ấy sẽ ngứng đậu xe đến 5 giờ.\n",
      "Processing: FPTOpenSpeechData_Set001_V0.1_000954.mp3\n"
     ]
    },
    {
     "name": "stderr",
     "output_type": "stream",
     "text": [
      "/home/ngo/anaconda3/lib/python3.12/site-packages/whisper/transcribe.py:126: UserWarning: FP16 is not supported on CPU; using FP32 instead\n",
      "  warnings.warn(\"FP16 is not supported on CPU; using FP32 instead\")\n"
     ]
    },
    {
     "name": "stdout",
     "output_type": "stream",
     "text": [
      "reference_text: đây là máy giặt phải không\n",
      "predicted_text: tại làm anh gặp bài không?\n",
      "Processing: FPTOpenSpeechData_Set001_V0.1_000955.mp3\n"
     ]
    },
    {
     "name": "stderr",
     "output_type": "stream",
     "text": [
      "/home/ngo/anaconda3/lib/python3.12/site-packages/whisper/transcribe.py:126: UserWarning: FP16 is not supported on CPU; using FP32 instead\n",
      "  warnings.warn(\"FP16 is not supported on CPU; using FP32 instead\")\n"
     ]
    },
    {
     "name": "stdout",
     "output_type": "stream",
     "text": [
      "reference_text: anh trần công phô tàu nước ngoài đã được báo trước chính xác\n",
      "predicted_text: hạch vật góc phô tàu nước ngoài đã được báo chức chắc xác\n",
      "Processing: FPTOpenSpeechData_Set001_V0.1_000956.mp3\n"
     ]
    },
    {
     "name": "stderr",
     "output_type": "stream",
     "text": [
      "/home/ngo/anaconda3/lib/python3.12/site-packages/whisper/transcribe.py:126: UserWarning: FP16 is not supported on CPU; using FP32 instead\n",
      "  warnings.warn(\"FP16 is not supported on CPU; using FP32 instead\")\n"
     ]
    },
    {
     "name": "stdout",
     "output_type": "stream",
     "text": [
      "reference_text: sau đó thảo được nguyễn vũ bão chở đến ngã tư nguyễn trãi quốc lộ một để đặt pháo giữa đường thảo chuẩn bị cho nổ thì bị công an bắt quả tang\n",
      "predicted_text: sau đó thảo đồng nhiên vụ báo trở đến nhà tư nhiên trái, quốc lộ 1 để đặt tháo giữa đường. thảo chuẩn bị cho lộ thì bị công an bắt quả ta.\n",
      "Processing: FPTOpenSpeechData_Set001_V0.1_000957.mp3\n"
     ]
    },
    {
     "name": "stderr",
     "output_type": "stream",
     "text": [
      "/home/ngo/anaconda3/lib/python3.12/site-packages/whisper/transcribe.py:126: UserWarning: FP16 is not supported on CPU; using FP32 instead\n",
      "  warnings.warn(\"FP16 is not supported on CPU; using FP32 instead\")\n"
     ]
    },
    {
     "name": "stdout",
     "output_type": "stream",
     "text": [
      "reference_text: tôi muốn một ít cà phê uống liền\n",
      "predicted_text: tôi muốn một ít cà phê uống liền.\n",
      "Processing: FPTOpenSpeechData_Set001_V0.1_000958.mp3\n"
     ]
    },
    {
     "name": "stderr",
     "output_type": "stream",
     "text": [
      "/home/ngo/anaconda3/lib/python3.12/site-packages/whisper/transcribe.py:126: UserWarning: FP16 is not supported on CPU; using FP32 instead\n",
      "  warnings.warn(\"FP16 is not supported on CPU; using FP32 instead\")\n"
     ]
    },
    {
     "name": "stdout",
     "output_type": "stream",
     "text": [
      "reference_text: con búp bê bằng gỗ này bao nhiêu tiền\n",
      "predicted_text: một bức ghê bằng gỗ này đang nhiều tiền.\n",
      "Processing: FPTOpenSpeechData_Set001_V0.1_000959.mp3\n"
     ]
    },
    {
     "name": "stderr",
     "output_type": "stream",
     "text": [
      "/home/ngo/anaconda3/lib/python3.12/site-packages/whisper/transcribe.py:126: UserWarning: FP16 is not supported on CPU; using FP32 instead\n",
      "  warnings.warn(\"FP16 is not supported on CPU; using FP32 instead\")\n"
     ]
    },
    {
     "name": "stdout",
     "output_type": "stream",
     "text": [
      "reference_text: bật đèn phòng đọc\n",
      "predicted_text: bắc đen không đọc.\n",
      "Processing: FPTOpenSpeechData_Set001_V0.1_000960.mp3\n"
     ]
    },
    {
     "name": "stderr",
     "output_type": "stream",
     "text": [
      "/home/ngo/anaconda3/lib/python3.12/site-packages/whisper/transcribe.py:126: UserWarning: FP16 is not supported on CPU; using FP32 instead\n",
      "  warnings.warn(\"FP16 is not supported on CPU; using FP32 instead\")\n"
     ]
    },
    {
     "name": "stdout",
     "output_type": "stream",
     "text": [
      "reference_text: tuần này ông thầy có vô thường xuyên không\n",
      "predicted_text: tuần này ông thầy có vô thường suy không?\n",
      "Processing: FPTOpenSpeechData_Set001_V0.1_000961.mp3\n"
     ]
    },
    {
     "name": "stderr",
     "output_type": "stream",
     "text": [
      "/home/ngo/anaconda3/lib/python3.12/site-packages/whisper/transcribe.py:126: UserWarning: FP16 is not supported on CPU; using FP32 instead\n",
      "  warnings.warn(\"FP16 is not supported on CPU; using FP32 instead\")\n"
     ]
    },
    {
     "name": "stdout",
     "output_type": "stream",
     "text": [
      "reference_text: giảm\n",
      "predicted_text: dạm!\n",
      "Processing: FPTOpenSpeechData_Set001_V0.1_000962.mp3\n"
     ]
    },
    {
     "name": "stderr",
     "output_type": "stream",
     "text": [
      "/home/ngo/anaconda3/lib/python3.12/site-packages/whisper/transcribe.py:126: UserWarning: FP16 is not supported on CPU; using FP32 instead\n",
      "  warnings.warn(\"FP16 is not supported on CPU; using FP32 instead\")\n"
     ]
    },
    {
     "name": "stdout",
     "output_type": "stream",
     "text": [
      "reference_text: vui lòng cho tôi một nĩa nữa\n",
      "predicted_text: vui lòng cho tôi một miền nữa.\n",
      "Processing: FPTOpenSpeechData_Set001_V0.1_000963.mp3\n"
     ]
    },
    {
     "name": "stderr",
     "output_type": "stream",
     "text": [
      "/home/ngo/anaconda3/lib/python3.12/site-packages/whisper/transcribe.py:126: UserWarning: FP16 is not supported on CPU; using FP32 instead\n",
      "  warnings.warn(\"FP16 is not supported on CPU; using FP32 instead\")\n"
     ]
    },
    {
     "name": "stdout",
     "output_type": "stream",
     "text": [
      "reference_text: ti vi tăng tiếng đến bốn\n",
      "predicted_text: tv tăng tiến ninh 4\n",
      "Processing: FPTOpenSpeechData_Set001_V0.1_000964.mp3\n"
     ]
    },
    {
     "name": "stderr",
     "output_type": "stream",
     "text": [
      "/home/ngo/anaconda3/lib/python3.12/site-packages/whisper/transcribe.py:126: UserWarning: FP16 is not supported on CPU; using FP32 instead\n",
      "  warnings.warn(\"FP16 is not supported on CPU; using FP32 instead\")\n"
     ]
    },
    {
     "name": "stdout",
     "output_type": "stream",
     "text": [
      "reference_text: anh có thể đổi phòng tôi với một cái nhìn ra biển không\n",
      "predicted_text: anh có thể đối phòng tôi với một cái nhìn ra biển không?\n",
      "Processing: FPTOpenSpeechData_Set001_V0.1_000965.mp3\n"
     ]
    },
    {
     "name": "stderr",
     "output_type": "stream",
     "text": [
      "/home/ngo/anaconda3/lib/python3.12/site-packages/whisper/transcribe.py:126: UserWarning: FP16 is not supported on CPU; using FP32 instead\n",
      "  warnings.warn(\"FP16 is not supported on CPU; using FP32 instead\")\n"
     ]
    },
    {
     "name": "stdout",
     "output_type": "stream",
     "text": [
      "reference_text: tỉ như với món thiền trên ghế đá\n",
      "predicted_text: tỉ như với món thiền trên ghế đá\n",
      "Processing: FPTOpenSpeechData_Set001_V0.1_000966.mp3\n"
     ]
    },
    {
     "name": "stderr",
     "output_type": "stream",
     "text": [
      "/home/ngo/anaconda3/lib/python3.12/site-packages/whisper/transcribe.py:126: UserWarning: FP16 is not supported on CPU; using FP32 instead\n",
      "  warnings.warn(\"FP16 is not supported on CPU; using FP32 instead\")\n"
     ]
    },
    {
     "name": "stdout",
     "output_type": "stream",
     "text": [
      "reference_text: rồi một đêm khi chàng lên giường bằng trực giác\n",
      "predicted_text: tôi có thể cứ trả lý cho bác thư giãn.\n",
      "Processing: FPTOpenSpeechData_Set001_V0.1_000967.mp3\n"
     ]
    },
    {
     "name": "stderr",
     "output_type": "stream",
     "text": [
      "/home/ngo/anaconda3/lib/python3.12/site-packages/whisper/transcribe.py:126: UserWarning: FP16 is not supported on CPU; using FP32 instead\n",
      "  warnings.warn(\"FP16 is not supported on CPU; using FP32 instead\")\n"
     ]
    },
    {
     "name": "stdout",
     "output_type": "stream",
     "text": [
      "reference_text: anh có bị dị ứng thực sự nặng không\n",
      "predicted_text: anh có bị kỳ ứng thực sự nặng không?\n",
      "Processing: FPTOpenSpeechData_Set001_V0.1_000968.mp3\n"
     ]
    },
    {
     "name": "stderr",
     "output_type": "stream",
     "text": [
      "/home/ngo/anaconda3/lib/python3.12/site-packages/whisper/transcribe.py:126: UserWarning: FP16 is not supported on CPU; using FP32 instead\n",
      "  warnings.warn(\"FP16 is not supported on CPU; using FP32 instead\")\n"
     ]
    },
    {
     "name": "stdout",
     "output_type": "stream",
     "text": [
      "reference_text: nó không đúng\n",
      "predicted_text: nó không đúng\n",
      "Processing: FPTOpenSpeechData_Set001_V0.1_000969.mp3\n"
     ]
    },
    {
     "name": "stderr",
     "output_type": "stream",
     "text": [
      "/home/ngo/anaconda3/lib/python3.12/site-packages/whisper/transcribe.py:126: UserWarning: FP16 is not supported on CPU; using FP32 instead\n",
      "  warnings.warn(\"FP16 is not supported on CPU; using FP32 instead\")\n"
     ]
    },
    {
     "name": "stdout",
     "output_type": "stream",
     "text": [
      "reference_text: làm ơn cho tiền lẻ\n",
      "predicted_text: làm ơn cho thêm lẽ\n",
      "Processing: FPTOpenSpeechData_Set001_V0.1_000970.mp3\n"
     ]
    },
    {
     "name": "stderr",
     "output_type": "stream",
     "text": [
      "/home/ngo/anaconda3/lib/python3.12/site-packages/whisper/transcribe.py:126: UserWarning: FP16 is not supported on CPU; using FP32 instead\n",
      "  warnings.warn(\"FP16 is not supported on CPU; using FP32 instead\")\n"
     ]
    },
    {
     "name": "stdout",
     "output_type": "stream",
     "text": [
      "reference_text: đến washington giá vé bao nhiêu\n",
      "predicted_text: để washington trả rẻ bao nhiêu\n",
      "Processing: FPTOpenSpeechData_Set001_V0.1_000971.mp3\n"
     ]
    },
    {
     "name": "stderr",
     "output_type": "stream",
     "text": [
      "/home/ngo/anaconda3/lib/python3.12/site-packages/whisper/transcribe.py:126: UserWarning: FP16 is not supported on CPU; using FP32 instead\n",
      "  warnings.warn(\"FP16 is not supported on CPU; using FP32 instead\")\n"
     ]
    },
    {
     "name": "stdout",
     "output_type": "stream",
     "text": [
      "reference_text: vâng đó là vàng mười tám cara\n",
      "predicted_text: vân võ đạo vàng 18k\n",
      "Processing: FPTOpenSpeechData_Set001_V0.1_000972.mp3\n"
     ]
    },
    {
     "name": "stderr",
     "output_type": "stream",
     "text": [
      "/home/ngo/anaconda3/lib/python3.12/site-packages/whisper/transcribe.py:126: UserWarning: FP16 is not supported on CPU; using FP32 instead\n",
      "  warnings.warn(\"FP16 is not supported on CPU; using FP32 instead\")\n"
     ]
    },
    {
     "name": "stdout",
     "output_type": "stream",
     "text": [
      "reference_text: kìa ai đang nghịch trái tim\n",
      "predicted_text: vì ai đang nghịch tách đi\n",
      "Processing: FPTOpenSpeechData_Set001_V0.1_000973.mp3\n"
     ]
    },
    {
     "name": "stderr",
     "output_type": "stream",
     "text": [
      "/home/ngo/anaconda3/lib/python3.12/site-packages/whisper/transcribe.py:126: UserWarning: FP16 is not supported on CPU; using FP32 instead\n",
      "  warnings.warn(\"FP16 is not supported on CPU; using FP32 instead\")\n"
     ]
    },
    {
     "name": "stdout",
     "output_type": "stream",
     "text": [
      "reference_text: khi đạp thắng tôi luôn nghe thấy một tiếng ồn lạ\n",
      "predicted_text: khi đặt thắng, cô luôn nghe thị một tiếng ôn lạ.\n",
      "Processing: FPTOpenSpeechData_Set001_V0.1_000974.mp3\n"
     ]
    },
    {
     "name": "stderr",
     "output_type": "stream",
     "text": [
      "/home/ngo/anaconda3/lib/python3.12/site-packages/whisper/transcribe.py:126: UserWarning: FP16 is not supported on CPU; using FP32 instead\n",
      "  warnings.warn(\"FP16 is not supported on CPU; using FP32 instead\")\n"
     ]
    },
    {
     "name": "stdout",
     "output_type": "stream",
     "text": [
      "reference_text: cái nhỏ có hành tươi\n",
      "predicted_text: cại nhỏ có anh tươi\n",
      "Processing: FPTOpenSpeechData_Set001_V0.1_000975.mp3\n"
     ]
    },
    {
     "name": "stderr",
     "output_type": "stream",
     "text": [
      "/home/ngo/anaconda3/lib/python3.12/site-packages/whisper/transcribe.py:126: UserWarning: FP16 is not supported on CPU; using FP32 instead\n",
      "  warnings.warn(\"FP16 is not supported on CPU; using FP32 instead\")\n"
     ]
    },
    {
     "name": "stdout",
     "output_type": "stream",
     "text": [
      "reference_text: trường tôi là một trường công lập\n",
      "predicted_text: trường tôi là một trường công lập.\n",
      "Processing: FPTOpenSpeechData_Set001_V0.1_000976.mp3\n"
     ]
    },
    {
     "name": "stderr",
     "output_type": "stream",
     "text": [
      "/home/ngo/anaconda3/lib/python3.12/site-packages/whisper/transcribe.py:126: UserWarning: FP16 is not supported on CPU; using FP32 instead\n",
      "  warnings.warn(\"FP16 is not supported on CPU; using FP32 instead\")\n"
     ]
    },
    {
     "name": "stdout",
     "output_type": "stream",
     "text": [
      "reference_text: anh có thể gửi nó không\n",
      "predicted_text: anh có thể gửi nó không?\n",
      "Processing: FPTOpenSpeechData_Set001_V0.1_000977.mp3\n"
     ]
    },
    {
     "name": "stderr",
     "output_type": "stream",
     "text": [
      "/home/ngo/anaconda3/lib/python3.12/site-packages/whisper/transcribe.py:126: UserWarning: FP16 is not supported on CPU; using FP32 instead\n",
      "  warnings.warn(\"FP16 is not supported on CPU; using FP32 instead\")\n"
     ]
    },
    {
     "name": "stdout",
     "output_type": "stream",
     "text": [
      "reference_text: quí vị có uống thuốc của quí vị vào ban đêm không\n",
      "predicted_text: quý vị có uống thuốc của quý vị vào căn đêm không?\n",
      "Processing: FPTOpenSpeechData_Set001_V0.1_000978.mp3\n"
     ]
    },
    {
     "name": "stderr",
     "output_type": "stream",
     "text": [
      "/home/ngo/anaconda3/lib/python3.12/site-packages/whisper/transcribe.py:126: UserWarning: FP16 is not supported on CPU; using FP32 instead\n",
      "  warnings.warn(\"FP16 is not supported on CPU; using FP32 instead\")\n"
     ]
    },
    {
     "name": "stdout",
     "output_type": "stream",
     "text": [
      "reference_text: xin lỗi bạn có thể chỉ giúp tôi ngân hàng gần nhất không\n",
      "predicted_text: xin lỗi, bạn có thể chỉ giúp tôi ngân hàng gần nhất không?\n",
      "Processing: FPTOpenSpeechData_Set001_V0.1_000979.mp3\n"
     ]
    },
    {
     "name": "stderr",
     "output_type": "stream",
     "text": [
      "/home/ngo/anaconda3/lib/python3.12/site-packages/whisper/transcribe.py:126: UserWarning: FP16 is not supported on CPU; using FP32 instead\n",
      "  warnings.warn(\"FP16 is not supported on CPU; using FP32 instead\")\n"
     ]
    },
    {
     "name": "stdout",
     "output_type": "stream",
     "text": [
      "reference_text: và vui lòng thắt dây an toàn của quý khách\n",
      "predicted_text: và vui lòng khách đây an toàn của quý khách\n",
      "Processing: FPTOpenSpeechData_Set001_V0.1_000980.mp3\n"
     ]
    },
    {
     "name": "stderr",
     "output_type": "stream",
     "text": [
      "/home/ngo/anaconda3/lib/python3.12/site-packages/whisper/transcribe.py:126: UserWarning: FP16 is not supported on CPU; using FP32 instead\n",
      "  warnings.warn(\"FP16 is not supported on CPU; using FP32 instead\")\n"
     ]
    },
    {
     "name": "stdout",
     "output_type": "stream",
     "text": [
      "reference_text: do vậy tôi vẫn phải gồng mình\n",
      "predicted_text: cơ vật này không đi\n",
      "Processing: FPTOpenSpeechData_Set001_V0.1_000981.mp3\n"
     ]
    },
    {
     "name": "stderr",
     "output_type": "stream",
     "text": [
      "/home/ngo/anaconda3/lib/python3.12/site-packages/whisper/transcribe.py:126: UserWarning: FP16 is not supported on CPU; using FP32 instead\n",
      "  warnings.warn(\"FP16 is not supported on CPU; using FP32 instead\")\n"
     ]
    },
    {
     "name": "stdout",
     "output_type": "stream",
     "text": [
      "reference_text: hãng xe hạng sang của đức sẽ giới thiệu mẫu ưu đãi đầu tiên thuộc danh mục sản phẩm của mình\n",
      "predicted_text: hãng xe hạng xa của đức sẽ giới thiệu mẫu ưu đãi đầu tiên thuộc doanh mục sản phẩm của mình.\n",
      "Processing: FPTOpenSpeechData_Set001_V0.1_000982.mp3\n"
     ]
    },
    {
     "name": "stderr",
     "output_type": "stream",
     "text": [
      "/home/ngo/anaconda3/lib/python3.12/site-packages/whisper/transcribe.py:126: UserWarning: FP16 is not supported on CPU; using FP32 instead\n",
      "  warnings.warn(\"FP16 is not supported on CPU; using FP32 instead\")\n"
     ]
    },
    {
     "name": "stdout",
     "output_type": "stream",
     "text": [
      "reference_text: roong cửa cũng phải kín thì tủ mới hoạt động tốt gió hở làm thất thoát điện rất lớn\n",
      "predicted_text: nó có vũ khí kinh tích của người hoạt động, nó hờ lạc thật hoàn thiện rất lớn.\n",
      "Processing: FPTOpenSpeechData_Set001_V0.1_000983.mp3\n"
     ]
    },
    {
     "name": "stderr",
     "output_type": "stream",
     "text": [
      "/home/ngo/anaconda3/lib/python3.12/site-packages/whisper/transcribe.py:126: UserWarning: FP16 is not supported on CPU; using FP32 instead\n",
      "  warnings.warn(\"FP16 is not supported on CPU; using FP32 instead\")\n"
     ]
    },
    {
     "name": "stdout",
     "output_type": "stream",
     "text": [
      "reference_text: tôi cảm thấy lạnh và buồn nôn có nơi nào để nằm không\n",
      "predicted_text: tôi cảm thấy lành và buồn luôn. có nơi nào để nằm không?\n",
      "Processing: FPTOpenSpeechData_Set001_V0.1_000984.mp3\n"
     ]
    },
    {
     "name": "stderr",
     "output_type": "stream",
     "text": [
      "/home/ngo/anaconda3/lib/python3.12/site-packages/whisper/transcribe.py:126: UserWarning: FP16 is not supported on CPU; using FP32 instead\n",
      "  warnings.warn(\"FP16 is not supported on CPU; using FP32 instead\")\n"
     ]
    },
    {
     "name": "stdout",
     "output_type": "stream",
     "text": [
      "reference_text: tôi đang tìm một công việc mới\n",
      "predicted_text: tôi đang tìm một công việc mới.\n",
      "Processing: FPTOpenSpeechData_Set001_V0.1_000985.mp3\n"
     ]
    },
    {
     "name": "stderr",
     "output_type": "stream",
     "text": [
      "/home/ngo/anaconda3/lib/python3.12/site-packages/whisper/transcribe.py:126: UserWarning: FP16 is not supported on CPU; using FP32 instead\n",
      "  warnings.warn(\"FP16 is not supported on CPU; using FP32 instead\")\n"
     ]
    },
    {
     "name": "stdout",
     "output_type": "stream",
     "text": [
      "reference_text: súng được du nhập vào nhật bản vào thời đó chúng đóng một vai trò quan trọng để thắng một trận đấu\n",
      "predicted_text: trung được trung nhập vào nhật bản vào thời đó, trung tộc một vai cho quá trọng để thẳng một trận đấu.\n",
      "Processing: FPTOpenSpeechData_Set001_V0.1_000986.mp3\n"
     ]
    },
    {
     "name": "stderr",
     "output_type": "stream",
     "text": [
      "/home/ngo/anaconda3/lib/python3.12/site-packages/whisper/transcribe.py:126: UserWarning: FP16 is not supported on CPU; using FP32 instead\n",
      "  warnings.warn(\"FP16 is not supported on CPU; using FP32 instead\")\n"
     ]
    },
    {
     "name": "stdout",
     "output_type": "stream",
     "text": [
      "reference_text: tôi muốn trả phòng vậy vui lòng đến phòng tôi để mang hành lý của tôi\n",
      "predicted_text: tôi muốn trả phòng, vậy vui lòng đến phòng tôi để mang hành lý của tôi.\n",
      "Processing: FPTOpenSpeechData_Set001_V0.1_000987.mp3\n"
     ]
    },
    {
     "name": "stderr",
     "output_type": "stream",
     "text": [
      "/home/ngo/anaconda3/lib/python3.12/site-packages/whisper/transcribe.py:126: UserWarning: FP16 is not supported on CPU; using FP32 instead\n",
      "  warnings.warn(\"FP16 is not supported on CPU; using FP32 instead\")\n"
     ]
    },
    {
     "name": "stdout",
     "output_type": "stream",
     "text": [
      "reference_text: ông được nhiều người biết đến\n",
      "predicted_text: ông được nhiều người biết đến.\n",
      "Processing: FPTOpenSpeechData_Set001_V0.1_000988.mp3\n"
     ]
    },
    {
     "name": "stderr",
     "output_type": "stream",
     "text": [
      "/home/ngo/anaconda3/lib/python3.12/site-packages/whisper/transcribe.py:126: UserWarning: FP16 is not supported on CPU; using FP32 instead\n",
      "  warnings.warn(\"FP16 is not supported on CPU; using FP32 instead\")\n"
     ]
    },
    {
     "name": "stdout",
     "output_type": "stream",
     "text": [
      "reference_text: vĩ bảo những người có tuổi tác ban đầu thường dằn vặt về quá khứ nghĩ về những ngày giữ địa vị ngoài xã hội\n",
      "predicted_text: vĩ báo, những người có kể tóc ban đầu thành dòng vật về quá khứ, dữ về những ngày, dữ địa dự ngoài xã hội.\n",
      "Processing: FPTOpenSpeechData_Set001_V0.1_000989.mp3\n"
     ]
    },
    {
     "name": "stderr",
     "output_type": "stream",
     "text": [
      "/home/ngo/anaconda3/lib/python3.12/site-packages/whisper/transcribe.py:126: UserWarning: FP16 is not supported on CPU; using FP32 instead\n",
      "  warnings.warn(\"FP16 is not supported on CPU; using FP32 instead\")\n"
     ]
    },
    {
     "name": "stdout",
     "output_type": "stream",
     "text": [
      "reference_text: họ còn trang điểm nhảy múa giống như vậy\n",
      "predicted_text: họ còn trang điệp, nhảy, nối rập như vậy\n",
      "Processing: FPTOpenSpeechData_Set001_V0.1_000990.mp3\n"
     ]
    },
    {
     "name": "stderr",
     "output_type": "stream",
     "text": [
      "/home/ngo/anaconda3/lib/python3.12/site-packages/whisper/transcribe.py:126: UserWarning: FP16 is not supported on CPU; using FP32 instead\n",
      "  warnings.warn(\"FP16 is not supported on CPU; using FP32 instead\")\n"
     ]
    },
    {
     "name": "stdout",
     "output_type": "stream",
     "text": [
      "reference_text: bạn có thể tìm một tờ ở một quầy mới gần đây\n",
      "predicted_text: bạn có thể tìm một tờ ở một quầy mới gần đây\n",
      "Processing: FPTOpenSpeechData_Set001_V0.1_000991.mp3\n"
     ]
    },
    {
     "name": "stderr",
     "output_type": "stream",
     "text": [
      "/home/ngo/anaconda3/lib/python3.12/site-packages/whisper/transcribe.py:126: UserWarning: FP16 is not supported on CPU; using FP32 instead\n",
      "  warnings.warn(\"FP16 is not supported on CPU; using FP32 instead\")\n"
     ]
    },
    {
     "name": "stdout",
     "output_type": "stream",
     "text": [
      "reference_text: cái này mắc quá\n",
      "predicted_text: cảnh này mất quá\n",
      "Processing: FPTOpenSpeechData_Set001_V0.1_000992.mp3\n"
     ]
    },
    {
     "name": "stderr",
     "output_type": "stream",
     "text": [
      "/home/ngo/anaconda3/lib/python3.12/site-packages/whisper/transcribe.py:126: UserWarning: FP16 is not supported on CPU; using FP32 instead\n",
      "  warnings.warn(\"FP16 is not supported on CPU; using FP32 instead\")\n"
     ]
    },
    {
     "name": "stdout",
     "output_type": "stream",
     "text": [
      "reference_text: va chạm với người chở ngỗng chiếc xe lật úp làm đổ rất nhiều biển báo lẫn cột đèn\n",
      "predicted_text: vài thạm với người chở hốc, chiếc xe lật út làm đối rất nhiều biểu báo lẫn cột đèn.\n",
      "Processing: FPTOpenSpeechData_Set001_V0.1_000993.mp3\n"
     ]
    },
    {
     "name": "stderr",
     "output_type": "stream",
     "text": [
      "/home/ngo/anaconda3/lib/python3.12/site-packages/whisper/transcribe.py:126: UserWarning: FP16 is not supported on CPU; using FP32 instead\n",
      "  warnings.warn(\"FP16 is not supported on CPU; using FP32 instead\")\n"
     ]
    },
    {
     "name": "stdout",
     "output_type": "stream",
     "text": [
      "reference_text: những chiếc thuộc sở hữu của một tổng đại lý ở đức vững chắc nhiều năm liền nhưng hãng cũng không thoát khỏi cơn bão khủng hoảng\n",
      "predicted_text: những chiếc thuyền sở hữu của một tộc đại lý ở đức vẫn chắc nhiều năm liền, nhưng hãi cũng không thoát khỏi cơ bá khủng hoảng.\n",
      "Processing: FPTOpenSpeechData_Set001_V0.1_000994.mp3\n"
     ]
    },
    {
     "name": "stderr",
     "output_type": "stream",
     "text": [
      "/home/ngo/anaconda3/lib/python3.12/site-packages/whisper/transcribe.py:126: UserWarning: FP16 is not supported on CPU; using FP32 instead\n",
      "  warnings.warn(\"FP16 is not supported on CPU; using FP32 instead\")\n"
     ]
    },
    {
     "name": "stdout",
     "output_type": "stream",
     "text": [
      "reference_text: kết thúc trận đấu các cầu thủ thường có trao đổi áo đấu cho nhau\n",
      "predicted_text: kết thúc trận đấu các cầu thủ thường có trao đổi áo đấu cho nhau.\n",
      "Processing: FPTOpenSpeechData_Set001_V0.1_000995.mp3\n"
     ]
    },
    {
     "name": "stderr",
     "output_type": "stream",
     "text": [
      "/home/ngo/anaconda3/lib/python3.12/site-packages/whisper/transcribe.py:126: UserWarning: FP16 is not supported on CPU; using FP32 instead\n",
      "  warnings.warn(\"FP16 is not supported on CPU; using FP32 instead\")\n"
     ]
    },
    {
     "name": "stdout",
     "output_type": "stream",
     "text": [
      "reference_text: vui lòng đừng nói bây giờ chúng ta sẽ nói về nó trong cuộc họp báo\n",
      "predicted_text: nguyên lòng đừng nói bây giờ, chúng ta sẽ nói về nữa trong cuộc họp báo.\n",
      "Processing: FPTOpenSpeechData_Set001_V0.1_000996.mp3\n"
     ]
    },
    {
     "name": "stderr",
     "output_type": "stream",
     "text": [
      "/home/ngo/anaconda3/lib/python3.12/site-packages/whisper/transcribe.py:126: UserWarning: FP16 is not supported on CPU; using FP32 instead\n",
      "  warnings.warn(\"FP16 is not supported on CPU; using FP32 instead\")\n"
     ]
    },
    {
     "name": "stdout",
     "output_type": "stream",
     "text": [
      "reference_text: trời có đang quang đãng dần không\n",
      "predicted_text: trời có can quan đảng dân không?\n",
      "Processing: FPTOpenSpeechData_Set001_V0.1_000997.mp3\n"
     ]
    },
    {
     "name": "stderr",
     "output_type": "stream",
     "text": [
      "/home/ngo/anaconda3/lib/python3.12/site-packages/whisper/transcribe.py:126: UserWarning: FP16 is not supported on CPU; using FP32 instead\n",
      "  warnings.warn(\"FP16 is not supported on CPU; using FP32 instead\")\n"
     ]
    },
    {
     "name": "stdout",
     "output_type": "stream",
     "text": [
      "reference_text: để nó cho tôi\n",
      "predicted_text: để nó cho tôi\n",
      "Processing: FPTOpenSpeechData_Set001_V0.1_000998.mp3\n"
     ]
    },
    {
     "name": "stderr",
     "output_type": "stream",
     "text": [
      "/home/ngo/anaconda3/lib/python3.12/site-packages/whisper/transcribe.py:126: UserWarning: FP16 is not supported on CPU; using FP32 instead\n",
      "  warnings.warn(\"FP16 is not supported on CPU; using FP32 instead\")\n"
     ]
    },
    {
     "name": "stdout",
     "output_type": "stream",
     "text": [
      "reference_text: mì vằn thắn và sủi cảo là hai món được ưa chuộng nhất tại đây\n",
      "predicted_text: mi văn thánh và sửa cảo là hai món được ưa chuông nhất tại đây.\n",
      "Processing: FPTOpenSpeechData_Set001_V0.1_000999.mp3\n"
     ]
    },
    {
     "name": "stderr",
     "output_type": "stream",
     "text": [
      "/home/ngo/anaconda3/lib/python3.12/site-packages/whisper/transcribe.py:126: UserWarning: FP16 is not supported on CPU; using FP32 instead\n",
      "  warnings.warn(\"FP16 is not supported on CPU; using FP32 instead\")\n"
     ]
    },
    {
     "name": "stdout",
     "output_type": "stream",
     "text": [
      "reference_text: thủ tục lên máy bay vào lúc hai giờ ba mươi\n",
      "predicted_text: chúng tôi sẽ bay vào lúc 2h30\n",
      "Processing: FPTOpenSpeechData_Set001_V0.1_001000.mp3\n"
     ]
    },
    {
     "name": "stderr",
     "output_type": "stream",
     "text": [
      "/home/ngo/anaconda3/lib/python3.12/site-packages/whisper/transcribe.py:126: UserWarning: FP16 is not supported on CPU; using FP32 instead\n",
      "  warnings.warn(\"FP16 is not supported on CPU; using FP32 instead\")\n"
     ]
    },
    {
     "name": "stdout",
     "output_type": "stream",
     "text": [
      "reference_text: một áp phích phim ấn độ\n",
      "predicted_text: một áp thích thiên ứng\n",
      "Xu ly tung file am thanh - end\n"
     ]
    }
   ],
   "source": [
    "print(\"Xu ly tung file am thanh\")\n",
    "# Khởi tạo danh sách để lưu kết quả\n",
    "hypotheses = []\n",
    "references = []\n",
    "results = []\n",
    "\n",
    "# Sắp xếp danh sách file theo tên\n",
    "audio_files = sorted([f for f in os.listdir(AUDIO_FOLDER) if f.endswith(\".mp3\")])\n",
    "\n",
    "# Xử lý từng file âm thanh\n",
    "for audio_file in audio_files:\n",
    "    file_path = os.path.join(AUDIO_FOLDER, audio_file)\n",
    "    print(f\"Processing: {audio_file}\")\n",
    "    \n",
    "    # Nhận diện giọng nói\n",
    "    result = model.transcribe(file_path, language=\"vi\")\n",
    "    predicted_text = result[\"text\"].strip().lower()\n",
    "    \n",
    "    # Lưu kết quả nếu có transcript chuẩn\n",
    "    if audio_file in ground_truths:\n",
    "        reference_text = ground_truths[audio_file].strip().lower()\n",
    "        print(f'reference_text: {reference_text}')\n",
    "        print(f'predicted_text: {predicted_text}')\n",
    "        if reference_text and predicted_text:\n",
    "            references.append(reference_text)\n",
    "            hypotheses.append(predicted_text)\n",
    "    else:\n",
    "        print(f\"Warning: No reference found for {audio_file}\")\n",
    "    \n",
    "    # Ghi kết quả vào danh sách\n",
    "    results.append(f\"{audio_file}|{predicted_text}\")\n",
    "\n",
    "print(\"Xu ly tung file am thanh - end\")"
   ]
  },
  {
   "cell_type": "code",
   "execution_count": 7,
   "id": "53097727-224f-4ac1-8ae8-ed8b8a2b0003",
   "metadata": {},
   "outputs": [
    {
     "name": "stdout",
     "output_type": "stream",
     "text": [
      "reference_text: ['cách để đi', 'họ đã xét nghiệm máu cho cheng nhưng mọi thứ vẫn hoàn toàn bình thường', 'anh có thể gọi tôi không', 'có rất nhiều yếu tố may rủi ở đây', 'ai là chúa nói dối', 'có cửa hàng tiện lợi ở sân bay không', 'anh đổi ngoại tệ được không', 'cô ấy mua hai mươi trái chôm chôm và ba con cá', 'đứa bé có ói òng ọc ra sữa hoặc nước và bé chưa đến mười tuần tuổi hoặc có biểu hiện mất nước không', 'tôi có thể viết tên địa chỉ số điện thoại của công ty bảo hiểm của anh được không', 'đừng lo tôi vừa mới đến rồi', 'mười phút nữa vào giờ rưỡi', 'tôi có thể hẹn cho chiều mai không', 'anh rửa hình kỹ thuật số ra được không', 'tôi cố thu xếp thôi', 'tôi không dùng ma túy', 'quân đội mỹ muốn chế tạo những máy tự động hoàn toàn vì những chiếc mà họ đang có vẫn cần được điều khiển bởi con người', 'tôi quên túi đeo vai trong xe tắc xi', 'dư luận đã phản ánh lên cơ quan địa chính của thị trấn nhưng mãi chả thấy hồi âm', 'giả danh làm từ thiện lừa tiền người dân', 'sắm đồ siêu sang ở hội chợ triệu phú', 'nếu làm lộ thiên cơ âm binh sẽ đánh trả thầy', 'máy ném bom chiến lược của nga gặp nạn', 'anh có thích tôi giữ trước quyển sách này cho anh không', 'ở người bị hội chứng khi ăn ngủ phần não phải vẫn thức và sau đó là cả các dạng hoạt động thể chất', 'tỉ lệ là mười mm trên một km', 'tôi muốn thực hiện một cuộc gọi điện thoại quốc tế đi nhật bản cuộc gọi -n là đến tokyo số ba hai chín hai tám hai một một', 'nơi đây hiện khá yên tĩnh', 'nhưng cũng có những bạn nằm khèo ở nhà trùm mềm và khóc nhè', 'chúng ta không thể mua cái nào ở nhật bản', 'cho vừa với số kinh phí hạn hẹp của một bộ phim', 'kịch sến nhiều tập làm tôi oải quá tôi sẽ tắt tv', 'chính vì thế những người phải sống một thời gian dài trong không gian có thể gặp rủi ro', 'thực ra thà không đến nỗi mơ mộng đến mê muội để chẳng hiểu tấm lòng của những người thân thông qua lời khuyên nhủ', 'bán đấu giá mỹ nữ', 'địa chỉ email của tôi là s t e f a n dot m a r t e n s \\\\r\\\\n @ gmx dot de', 'hôm thứ năm ủy ban bầu cử thái lan cho rằng đảng của người thái yêu người thái đã phạm hai luật trong chiến dịch tranh cử vừa qua', 'không thể xem lần vấp ngã ấy là tai', 'cướp bóc trong khi hỏa hoạn', 'một dân tộc từng không có người từ á sang âu -n', 'tết đầu tiên xa việt nam của cháu quả là ý nghĩa', 'trong làng ai cũng quý mến gia đình anh phú', 'xin chào gia đình tanaka', 'anh đã làm rất tệ', 'cô ta nghi ngờ lúc mình say rượu đã bị toán cưỡng bức', 'ông muốn nhãn hiệu bia nào', 'anh có dừng tại khách sạn begin không', 'bật điều hòa nhiệt độ', 'nhiều chàng trai để ý và theo dõi bạn', 'chúng ta hãy tung một đồng tiền để quyết định', 'tôi nghe đĩa cd này được không', 'nguyễn văn vũ vừa tử nạn vì hỗ trợ đuổi bắt tội phạm ngày mười ba tháng một công an xã cẩm trạch huyện cần cẩu cho biết một người lái xe khách hai bảy tuổi đã tử nạn khi giúp một phụ nữ bị bảy tên khống chế cướp tài sản', 'hai con voi này rất hung dữ và phá nát nhiều hoa màu của người dân trong khu vực', 'anh có bị đau do mệt mỏi không', 'bạn có muốn tôi dịch cái này cho bạn không tôi nói tiếng nhật', 'vâng giá sẽ là ba trăm yên', 'và như thế những điều tốt đẹp', 'tăng nhiệt độ lên hai mươi mốt độ', '-n ở sheraton', 'tốt hơn là tôi nên đi bây giờ', 'kỳ tích có thể để lại quyền lực bởi một nhà độc tài dầu mỏ nhưng cũng có thể giúp thể chế hóa những phong trào chống mỹ diễn ra tại khu vực trung đông', 'lãnh đạo ngành ô tô mỹ nên từ chức', 'cô ấy biết', 'từng sợi thương li ti kết lại', 'mồ hôi là một trong những phương tiện để cơ thể thải cặn bã ra ngoài', 'ti vi k+ một', 'hiện nay mỗi khi chào hàng các lò rang hạt dưa như tứ hưng duy ký thiên hương', 'vì không biết nhìn xa trông rộng và vì niềm tin sắt đá rằng rồi mọi việc sẽ êm xuôi', 'nhờ có chúa', 'xe chú rể lăn xuống vực sau tiệc cưới', 'rồi anh đi một chuyến đến khu vực vỉa san hô và thăm viện bảo tàng úc anh có thể tìm hiểu nhiều về nước úc anh cũng có thể có một món quà đẹp tại cảng darling nếu anh muốn mua vài đồ lưu niệm có rất nhiều đồ vật và phụ kiện anh có thể muốn mua', 'đó là chưa kể các thủ đoạn chính trị xã hội khác', 'tôi có vẽ một chút', 'cho tôi mẫu thử được không', 'tôi có ba con gái', 'tôi sẽ ở lại đây', 'người ta cho rằng số khúc gỗ ở dưới đáy bị dính nước bẩn ít thì kỳ kinh sẽ ngắn', 'không một nơi nào lãng mạn và thơ mộng hơn những khu hồ hoang', 'bị hại kháng cáo vì cho rằng các cơ quan tố tụng ở huyện hương khê bỏ lọt người sót tội', 'cuối cùng họ sẽ phải gõ cửa nhờ ông ấy', 'cái giá của một anh hùng', 'bản sao tấm séc khoản tiền vợ chồng nguyễn nhận được', 'nhằm thu hút thêm nhiều nhà đầu tư', 'vui lòng cho ba vé khứ hồi hạng hai', 'anh cần một con tem một đô la ba mươi cent', 'xà lách trộn phó mát mốc xanh và cây óc chó', 'chúng tôi sẽ bồi thường cho anh', 'chỉ xét tuyển hồ sơ không phải thi', 'gần chín nghìn tỉ đồng xây đường sắt đô thị cát linh hà đông', 'bỏ quần vào trong máy giặt', 'trả lời tôi biết', 'đến thời điểm hiện tại ít nhất trong cả nước đã có năm mươi nghìn lao động thất nghiệp', 'anh sẵn sàng gọi món chưa', 'là tác động của nó đến hiệu suất chung của toàn bộ hệ thống điện', 'đã bán rồi', 'thời tiết ấm áp như thể là đầu hè', 'chúng tôi có bốn người', 'vẻ đẹp khuôn mặt và bản năng tình dục quan hệ tương hỗ chặt chẽ với nhau', 'hầu bàn của quý khách sẽ là alfredo', 'đầu gối có bị sưng đỏ hoặc cả hai', 'hút thuốc bị hạn chế trong khu vực công cộng', 'chẳng phải là bệnh hiểm nghèo nhưng trĩ vẫn là bệnh gây khó chịu cho bệnh nhân bởi làm cản trở công việc của họ lúc làm việc cũng như lúc ngủ họ vẫn phải lo nghĩ giáo sư nghĩa nói', 'chuyển máy cho ai', 'kết quả lao động của tôi đến đâu thì tác phẩm trả lời', 'khi những chiếc đĩa được dỡ bỏ lũ hà mã cũng chẳng thèm chú ý tới những chiếc nhãn đó nữa', 'không vậy không sao tôi sẽ gọi ông ấy sau cảm ơn', 'có giảm giá cho người cao niên không', 'hãy gọi cảnh sát ngay', 'bắt đầu đếm', 'anh có bị đau do mệt mỏi không', 'lãi suất cho vay cũng đã giảm mạnh theo lãi huy động vốn lãi nhiều vẫn chẳng có người nào gửi cả', 'các nhà khoa học đang tiến thêm một bước', 'cùng chuẩn và ngũ hai đối tượng khác chuyên làm nhiệm vụ đưa người sang trung quốc là nguyễn vũ hải và võ cảnh dũng cùng trú tại bắc giang cũng bị cảnh sát bắt', 'hệ thống phòng ngự tài năng và giàu kinh nghiệm', 'sẽ đủ sức cạnh tranh với nước ngoài', 'giơ tay lên để đồng ý', 'vui lòng trả mười đô la', 'đây là hồi chuông cảnh báo về sự mất an toàn lưới điện trên địa bàn', 'ban đêm bắng cây đa', 'kênh hai ti vi', 'này chúng tôi sắp nhổ neo', 'mở', 'độc giả của tôi muốn hướng tới là sinh viên và trí thức', 'không mở cửa ồ ạt', 'tôi muốn đổi cái này lấy cái màu xanh', 'sống với em anh nhé', 'vừa gọi điện vừa đi lại rất gây hại cho sức khỏe', 'tôi có thể tìm bảng tin ở đâu', 'anh chuẩn bị toa này cho tôi được không', 'đây là địa chỉ của anh', 'anh lắng nghe tôi một phút được không', 'lạm phát tăng là do dự báo yếu kém', 'thịt gà nhồi hỗn hợp băm nhỏ', 'trung tá nguyễn phả lại cán bộ quản giáo trực tiếp buồng số bảy chỗ ở của ông mẫu ông dũng nói kín kẽ cũng là tâm lý của người cải tạo loại án như trường hợp ông dũng', 'kí túc vắng tanh đèn thoát hiểm nhấp nháy chập chờn cứ như trên phim được xem ý', 'mở', 'tốt nhất anh không nên làm nó', 'tôi có thể mua vé ở đâu', 'vậy điều gì ủng hộ ý tưởng táo bạo trên', 'họ sẽ chơi nhiều ca khúc từ bộ phim âm thanh của âm nhạc', 'mã vùng của plymouth là không một bảy năm hai', 'không tôi luôn tỉ mỉ', 'một số trò chơi đòi hỏi các động tác chậm thận trọng hãy từ từ', 'có nên ưu tiên cho các hoạt động bí mật', 'nó là của anh', '-n lỗ mũi hẹp -n có tài kiếm tiền', 'đây là ghi chép cho phí nào', 'tôi bị các triệu chứng viêm phổi', 'còn bao nhiều giờ thì chúng ta sẽ đến new york', 'thị trường chính thức kém sôi động nên thị trường phi tập trung cũng ê ẩm', 'chúng tôi đã thuê căn hộ', 'mở lên', 'cuộc tình đó tồn tại cho tới ngày cô ta -n khối tài sản mà ông giao phó rồi biến mất tăm', 'xin vui lòng hãy sẵn sàng vào lúc chín giờ rưỡi', 'tôi không nghĩ như vậy', 'cách dễ nhất là tìm người khác để yêu', 'hãy tận dụng những gì có sẵn từ thiên nhiên để làm đẹp làn da', 'cô lấy cho tôi cái khăn nào', 'lối đánh tấn công quen thuộc của chị biến mất thay vào đó là những đường bóng yếu ớt', 'tôi có thể có bản đồ đường đi của đảo maui không', 'tôi bị suyễn', 'thành ra càng cổ phần hóa ồ ạt càng bán giá nội bộ ồ ạt trừ phi có sẵn một cơ chế kiểm soát', 'nền tài chính nhật bản phụ thuộc khá lớn vào các chính sách tiền tệ của mỹ', 'anh cất hành lý này cho tôi được không', 'obon nghĩa là gì', 'tăng nhiệt độ lên hai mươi chín độ', 'kênh sáu', 'phờ phạc sau hành trình dài', 'mười hai giờ mười lăm rồi', 'tiêu cực ương ngạnh', 'tuy nhiên hôm qua ông đã phá lệ', 'phát triển', 'cái xác cứ thế khô dần cho đến hôm nay', 'ti vi vtv hai', 'nhóm cho rằng điều đó chứng tỏ phụ nữ tập trung hơn vào ngôn ngữ của sự hài hước', 'phòng quá ồn và tôi không thể ngủ được', 'những lãnh đạo cấp cao đang phải đối mặt với việc giảm lương đến mức nào hiện vẫn chưa rõ', 'xe mỹ từng là biểu tượng giàu sang', 'bữa ăn sinh viên từ lâu đã đơn giản lắm rồi giờ càng đơn giản hơn bao giờ hết', 'bệnh này có thường xảy ra không', 'anh có đang thấy cầu vồng không', 'họ phải đảm bảo có đủ vắc xin và thực hiện các biện pháp cần thiết khác để đối phó với tình hình', 'anh gọi đánh thức tôi lúc bảy giờ sáng mai được không', 'tự đăng cáo phó cho mình', 'anh thích kiểu nào hơn', 'ánh đuốc hắt lên khoanh cổ cụt đỏ hỏn hụt hẫng', 'xin lỗi anh có thể -n lĩnh tiền mặt cái này không', 'cảnh sát biết rằng có một nhóm bí mật hoạt động bất hợp pháp', 'thiết bị còn gửi thông điệp cảnh báo tới người chủ khi pin sắp hết', 'xin vui lòng cứ mang giày', 'tôi không biết chắc là có tai nạn', 'tao nhanh đến mức nào', 'bữa tiệc sống động -n', 'vậy còn yếu tố tinh thần thì sao', 'cái này trên tầng ba', 'chuyến bay của anh khi nào', 'không không phải có bàn trống cho hai người không', 'tôi có thể có một tờ tạp chí khác không', 'bán cho tôi một vé hạng hai đến chermarn', 'jerry đây là jack làm ơn gọi cho edith', 'tất cả những gì nước mỹ làm chỉ đơn thuần là vì muốn sở hữu những nguồn tài nguyên quý giá của các quốc gia đó', 'chúng sở hữu tiếng thét chói tai và rất thích nhảy nhót', 'tưởng dễ đẻ trứng vàng nhiều đơn vị ùn ùn xin thành lập công ty chứng khoán ngay lúc thị trường đỉnh cao', 'ừ bạn đứng không đúng băng chuyền', 'ngân hàng phương nam cũng một phen hú vía khi thông tin rủi ro tín dụng bị rò rỉ ra ngoài', 'bà mẹ nghèo đông con', 'mẫu xe được trình làng ở triển lãm được giới truyền thông coi là hình mẫu của chiếc bốn cửa sẽ ra mắt vào tới', 'anh mặc cái này trông rất đẹp', 'chưa có thông tin về bệnh chết người ở nước này', 'cho tôi bản đồ thành phố được không', 'đều không quan trọng', 'có lúc họ đút hai tay trong túi hai vai rụt lại mà đi có lúc đánh tay thoải mái ưỡn ngực', 'tôi bị ung thư', 'tôi không thể hiểu bạn', 'tôi cảm thấy rất nặng nề tôi không thể di chuyển chân của tôi', 'tình yêu là mù quáng người đang yêu không thấy khuyết điểm của người khác', 'phát tờ rơi quảng cáo biến thành rác đô thị', 'cô ấy có thính giác ảo', 'đôi khi trong các khẩu súng các em mang trên người không hề có đạn -n chỉ là một thứ hù dọa những', 'đâu là nền tảng sinh học của ý thức', 'tôi có thể xin một khác không', 'tôi đã từng chứng kiến bão và giờ đây tôi đang cộng tác tại nước ngoài', 'có phí uống không', 'tôi đi hải phòng còn bạn đi đâu', 'ti vi giảm âm lượng về bốn', 'cũng đồng nghĩa với việc chúng ta có thể sẽ chuốc lấy khổ đau', 'gần đây lại có vụ công ty xe khách thuận thảo ở bình định bị các đối thủ hùa nhau ngăn cản không cho hoạt động', 'vâng tôi đã đến đây lần đầu tiên cách đây năm năm', 'chành bành chằng chịt chỗ nào cũng có', 'tôi có thể xem một bộ phim ở đâu', 'cô ấy cần một bóng đèn bốn mươi oắt cho đèn để bàn', 'góa vợ hai con', 'trẻ em ở các trường học được cung cấp nước sạch để uống', 'làm ơn nối máy tôi với cảnh sát', 'đầu tư cho dự án xây dựng nhà máy sản xuất điện thoại di động tại đà nẵng', 'vui lòng chuẩn bị cái này ở hải quan đằng kia chúc ở lại vui vẻ', 'một dãy các tủ lạnh xếp dọc theo căn phòng', 'ti vi giảm âm lượng về một', 'không phải mặt hàng đó', 'tảng đất thó hình lục lăng mát lạnh', 'đều tắc do ngập nước', 'có phải tàu từ sydney đến trễ không', 'tôi sẽ lấy phòng này', 'nghỉ ngơi vài ngày', 'họ có chiến thuật tốt hiệu quả và nhiều cầu thủ có kỹ thuật cá nhân điêu luyện', 'vui lòng vé b đi a', 'tôi muốn nhuộm màu', 'đồng xu bị kẹt ở đây', 'một trong ba người này làm giám đốc một công ty sản xuất hàng hóa', 'sếu đầu đỏ xuất hiện tại tây ninh', 'quý vị có thể cử động khuỷu tay được không', 'con đường dài lắm sao anh để em đi một mình', 'chỉ cần gọi bất cứ lúc nào anh muốn nói chuyện với tôi', 'trộm viếng thăm lấy hết đồ đạc trong nhà', 'nó đau ở đây', 'nó rất ngon', 'cho nên mặc dù có chất lượng tốt nhưng giá thành của nó lại rất cao và khó ứng dụng rộng', 'tiếng nổ ì ầm vang lên từ những âm thanh chứa thuốc nổ mà các thợ mỏ ném vào không khí', 'chính vì vậy mà không khí tết dường như đến chậm hơn', 'làm ơn cho tôi loại thứ hai', 'mưa sầm sập vừa ra ngoài trời quần áo chị lập tức ướt sũng', 'bị đuổi việc vác dao truy sát ông chủ', 'ngỗng cũng có khả năng ghi nhớ từ trước tới giờ giới khảo cổ vẫn tưởng rằng não của ngỗng chỉ có thể lưu giữ thông tin vài giây', 'chuyện sản xuất của lão chủ tịch họ nguyễn và họ đỗ mãi mãi vào sử sách', 'vậy còn yếu tố tinh thần thì sao', 'tôi muốn đăng ký một chuyến bay từ los angeles đi new york khởi hành vào ngày mười lăm và quay về vào ngày mười ba', 'xin lỗi tôi có thể tìm một đại lý lữ hành ở đâu', 'quí vị có phòng dành cho một đêm không', 'cô ấy đang rất mong anh', 'có tiếng rì rào từ xa đến gần', 'một số cổ động viên còn dùng những lời lẽ thô tục chửi bới lực lượng công an', 'anh đem cho tôi một ít nước được không', 'ti vi tăng tiếng đến sáu', 'chúng tôi sẽ trả phòng khoảng giữa trưa', 'honda đẩy mạnh sản xuất ở nước ngoài', 'ti vi giảm âm lượng về bẩy', 'con lợn rừng nhảy xuống sông và trốn thoát', 'tôi muốn một đôi giày thể thao', 'tôi cần nó trước thứ sáu', 'ta hãy nghỉ một chút', 'tôi muốn mua bơ', 'hàng nghìn người trung á rời quê hương đến nga kiếm việc', 'giá một dặm là bao nhiêu', 'tôi có thể thanh toán cho nó bằng đồng yên nhật không', 'quý vị có bị đau họng các triệu chứng cảm lạnh hay cúm không', 'một nghệ sĩ đích thực là phải lao động quần quật để mời gọi cảm hứng đến', 'được tôi sẽ làm nó ngay', 'thể dục chơi thể thao nơi không khí trong lành', 'ngoài vài sân bóng đá cầu lông mà chúng tôi mới làm lại thì hầu như chẳng có gì mới', 'mệt', 'tổng số tiền là hai trăm bốn mươi ba pound thưa mẹ', 'hầu hết rừng nằm ở ven sông , biển nên đã -n -n', 'nhìn nó vậy mà giỏi nhỉ', 'tôi có thể nói mấy câu được không', 'tuy nhiên các nhà khoa học châu âu vẫn chưa vừa ý với kết quả này', 'tám tổ chức công đoàn ở đức tạo thành liên đoàn lao động đức', 'nói chuyện trịnh trọng nghe ghê quá', 'tôi muốn nửa tá', 'tôi cần một cái gì đó cho táo bón', 'vâng dave mark sachiko và rumi sẽ có ở bữa tiệc', 'tình hình ở nước anh thì ngược lại phe nào phe nấy thi nhau đả kích thủ tướng của mình', 'phòng có máy lạnh không', 'họ thoải mái với việc người bạn đường phải núp trong', 'cô gái kia yêu cầu gia đình không được báo với công an nếu không còn nguy hiểm tới tính mạng', 'được thưa anh', 'nhà nước có thể hỗ trợ giá thuê bằng cách miễn giảm tiền sử dụng đất miễn giảm thuế', 'vui lòng mang cho tôi một ít giấy viết', 'công an huyện quảng ngãi đã triệu tập bố mẹ của cháu lĩnh là nguyễn văn vĩnh và võ thị thụy để lấy lời khai', 'bạn có những món hàng khác không', 'ti vi giảm tiếng về một', 'cha và dì cứ đổ riệt cho mẹ', 'tuy nhiên sự việc vừa đi qua đã chứng tỏ ông đã bắt đầu lo lắng cho an ninh của gia đình mình', 'một thành phố như thế xứng đáng được ca tụng', 'cả sân thiên trường ồ lên tiếc nuối', 'chúng ta có thể bắt đầu không', 'phía bên phải cơ thể tôi bị đau rất tệ', 'người dân ngán ngẩm với dịch vụ bệnh viện', 'có cái gì gây ra cơn đau này không', 'tôi cần phải về nhà bây giờ', 'không chỉ có mức lương trung bình thấp nhất ở đông bắc á mà công đoàn độc lập cũng không hiện hữu ở nơi này', 'gia đình bart cho biết bộ phim phỉ báng ông đồng thời dọa sẽ kiện để bộ phim này không được phép chiếu', 'số tiền này dự định sẽ được dùng để đỡ gánh chi phí an sinh xã hội cho các chủ doanh nghiệp và khuyến khích họ thuê thêm lao động', 'vui lòng cho tôi biết tàu sẽ khởi hành đúng giờ không', 'bạn có biết hẹn hò', 'miễn thuế đối với nhà đầu tư trong nước kém ưu đãi hơn so với đầu tư nước ngoài', 'đồng hồ tôi chậm ba phút', 'cô rê chí mén \\\\r\\\\n và giấc mơ toàn cầu', 'lên các cuộc hẹn phỏng vấn và thực hiện phỏng vấn', 'tôi sẽ kê toa thuốc cho anh', 'khách hàng chờ nhận hành lý thất lạc', 'ti vi tắt âm lượng', 'trường là người rất có kỷ luật nhưng làm việc hơi cẩu thả một chút', 'có lẽ bạn đang nghĩ rằng bạn vẫn luôn cư xử một cách đúng mực', 'buộc tháo dỡ phần vi phạm ngay như quận bình thạnh', 'bạn sẽ chỉ huy một hạm đội gồm các tàu chiến chiến hạm', 'bác tư re', 'tôi sẽ ở nhà một người bạn tại new york', 'cái này hoàn toàn tự động , vì vậy anh cần bấm nút mở ống kính', 'phân của quí vị có màu đen bao lâu rồi', 'khát mộng tủ', 'tôi đi bộ', 'con trai của họ ăn nhiều nhất', 'anh có mang tiền lẻ không', 'xin chào vui lòng nối máy cho tôi đến bàn đặt phòng', 'chúng tôi phải đi bây giờ tôi rất thích bài khiêu vũ', 'hôm nay su không ở đây', 'bữa sáng có gì', 'tôi muốn chỉ ra rằng', 'do vậy việc y án sơ thẩm là hoàn toàn có cơ sở', 'động cơ bị nóng quá', 'hầu như không ai chú ý đến những mệnh lệnh ông đưa ra nữa binh lính thì không chịu chiến đấu', 'tôi đến cùng bạn tôi được không', 'chừng nào thì khu bị đóng cửa sẽ mở cửa cho xe đi', 'đây là một áp lực nặng nề đối với các đơn vị sản xuất thép', 'sản phẩm đã được miễn giảm thuế chủ yếu phục vụ thị trường các tỉnh miền tây nam bộ đã biến khỏi mĩ khởi', 'tôi nói cậu có nghe không', 'tôi có thể ở lại ba đêm không', 'tuy nhiên giá bán vẫn giữ mức khá cao', 'tôi có một số câu hỏi về điều khoản số tám', 'tôi thường có nhưng tôi thích nghỉ hè', 'ngày mai chúng tôi phải dậy sớm', 'dòng sản phẩm thảm đỏ thôi miên mọi ánh nhìn bởi chi tiết xếp nếp mềm mại', 'với dầu và mụn mặt nạ táo và mật ong sẽ giúp bạn cải thiện làn da', 'và tăng khả năng sinh sản', 'tại bữa cơm nhấp xong chén rượu bảy đưa tuấn thấy anh bỉnh kêu đắng khó uống', 'mà điện sản xuất lãi như vậy có thấy evn đả động gì đâu', 'anh có thích gặp nói chuyện sau không', 'làm ơn cho một ly rượu vang đỏ được không', 'đi lên', 'tôi muốn một đôi ván trượt nước', 'con biết nịnh bố mỗi khi thích món đồ chơi nào đó', 'bạn muốn uống loại rượu nào', 'tại cuộc họp ông nguyễn quốc bảo khẳng định thời gian tới sẽ tập trung điều hành nhằm tháo gỡ khó khăn về vốn cũng như thủ tục hành chính phục vụ sản xuất nhập khẩu', 'dùng thuốc ngay khi thức dậy buổi sáng', 'ồ không vấn đề gì', 'nhiều lần chị góp ý ông xã đã hứa sẽ sửa lịch cho hợp lý song chỉ được dăm bữa nửa tháng mọi việc lại đâu vào đấy', 'bạn đừng để mắt to hơn bụng', 'còn gì ý nghĩa hơn với một tiền đạo khi ghi bàn quyết định thắng lợi cho đội nhà trong ngày sinh nhật của mình', 'bắt đầu lúc mấy giờ', 'con của quí vị bao nhiêu tuổi', 'vui lòng mang cho tôi món khai vị', 'lập trình viên đa số đều bị tâm thần', 'tôi muốn thời gian đó quan sát và tư duy nhờ đó mà có ý tưởng điều chỉnh nhịp đèn anh tuấn chia sẻ', 'mặc dù có vẻ ghê gớm bạn rất sợ bị tổn', 'nhà hát mở cửa lúc mấy giờ', 'tóm lược sức khỏe ban đầu', 'tôi muốn giữ nó dưới giá ba mươi đô la', 'chiếc này dành riêng tổng thống mới đắc cử của mỹ xác nhận đã chuyển tới mật vụ mỹ chiếc xe dành cho tổng thống mới để thay thế chiếc xe cũ', 'nhưng tôi không muốn bạn tin tưởng vào bất kỳ điều gì', 'không thể phớt lờ lạm phát', 'hoa nhận lời yêu thắng', 'bóng đá anh hấp dẫn nhiều tỷ phú', 'cách tốt nhất là bằng xe buýt', 'cô ấy bị mất thẻ ngân hàng', 'phòng thay đồ ở đằng kia', 'sản phẩm phụ của máy rút tiền đầu tiên là mã số bảo mật -n viết tắt là pin', 'tôi hy vọng thời tiết sẽ sớm sáng sủa', 'bạn đường khều cùi chỏ nhắc coi chừng ổng khùng', 'thuốc diệt cỏ làm ếch đực mất khả năng sinh sản', 'bạn có thể bật máy điều hòa lên được không', 'phê thuốc lắc', 'chỗ cho thuê ghế bãi biển đã mở cửa chưa', 'tôi muốn trau dồi tiếng tây ban nha của mình', 'kênh k+ một', 'làm gì để bảo vệ sự an toàn của ngân hàng', 'tôi đã bị lừa', 'vậy kế hoạch của anh cho ngày mai ra sao', 'tôi uống từ vòi nước được không', 'nó có hướng dẫn -n sử dụng không', 'có người còn không ngần ngại so sánh doanh thu phim việt với các phim nhập của nước ngoài', 'bạn có quan tâm đến đồ cổ không', 'bản báo cáo cũng chỉ rõ ở việt nam hiện nay những hủ tục hay những suy nghĩ cũ tồn tại ở nhiều vùng dân tộc thiểu số thậm chí cả ở các tỉnh thành lớn đã khiến cho sự bất bình đẳng giới cũng như tỷ lệ tử vong ở phụ nữ và trẻ nhỏ vẫn rất cao', 'cũng chẳng còn xúng xính quần áo mới', 'tôi đang tìm diêm', 'một chỗ bí mật à ý bạn là sao', 'chính sách quản lý cần cởi mở', 'bệnh này có thường xảy ra không', 'quẹo tay lái và đi vòng các góc', 'anh ấy đến từ flanders', 'nhiều bộ ong hang đá có dấu hiệu -n gấu ngựa gấu chó sinh sống -n', 'xin lỗi ông cho tôi lấy hóa đơn được không', 'các mảnh có rìa sắc được tha vào cán gỗ và gắn chặt bằng nhựa thông', 'vui lòng không bỏ đồ quý giá trên toa hành khách', 'người mẫu phải tập tành trình diễn quần quật -n đến tận khuya', 'được rồi chút nữa tôi sẽ massage cho ngài chỗ khác', 'không lẽ ước nguyện đó của tôi lại khó đến thế sao', 'thời gian đóng ma làng cả đoàn phim sống vài tháng trời trên vùng núi lương sơn hòa bình', 'nhiều trụ cột và các mạch vữa đều mục ruỗng', 'làm nơi nấu nướng giặt giũ', 'khách tham quan cũng tranh thủ ngồi vào ghế hành khách để thử độ êm nhún', 'tôi e rằng ở đây không chúng tôi không chấp nhận', 'dù chỉ có tính thẩm mỹ song giải pháp sửa chữa hoặc đổi mã hàng lạ lẫm vẫn tạo được sự hứng khởi ở những trẻ nhỏ', 'con nhỏ mở cái túi gút đeo trên cổ', 'họ không cho phép anh vào nhà', 'nguồn nước ở đây đã bị nhiễm mặn nhiễm phèn và nhiễm khuẩn bởi thói quen thải rác trực tiếp ra sông lượng thuốc trừ sâu dùng trong nông nghiệp và việc xây cầu cảng ở cuối dòng sông cũng là lý do', 'đây có thể là kẽ hở nảy sinh tiêu cực gây thất thoát lớn', 'đốt pháo sẽ bị tội gây rối trật tự công cộng bởi tác hại lớn mà việc đốt pháo đã bị cấm hẳn', 'phê thuốc lắc', 'điều này chọc tức tôi', 'trước đó tôi về mở hộp thư điện tử ra và nhận được rất nhiều lá thư của người hâm mộ yêu cầu tôi về quê hương đi và tôi biết đã đến lúc nói lời tạm biệt', 'các kết quả xét nghiệm có bí mật không', 'toàn là đồ dùng cá nhân', 'dừng lại', 'những lợi ích nào khác được cung cấp', 'chúng tôi không có cỡ khác', 'quý vị có cục u hay chỗ sưng nào ở cả hai bên cổ không', 'ti vi tăng tiếng đến chín', 'và cho tôi khoai tây chiên', 'các đầu bếp còn chế biến ra nhiều loại phở khác nhau bằng cách biến tấu những món ăn hàn quốc trung quốc như phở hải sản phở xào mực', 'anh có thể cho tôi biết số điện thoại của jerry hart hart anh ấy ở tại phố mười hai phố pinewood street', 'anh có thể cho tôi biết số điện thoại của jerry hart hart anh ấy ở tại bốn mười hai phố pinewood street seattle', 'hậu quả là cấu trúc sản xuất của việt nam cũng bị méo mó nghiêm trọng', 'chuyến đi hay quá', 'anh chắc là đói có gà nướng trong tủ lạnh', 'xin lỗi tôi đã không để ý', 'vui lòng cho tôi xem cái giống cái -n được trưng bày ở cửa sổ', 'mở ti vi', 'các hoa hậu xuất hiện trong màn mở đầu', 'cần phải bỏ những suy nghĩ cũ kỹ cổ hủ diện bộ cánh nhã nhặn vừa vặn sẽ giúp hà đẹp hơn ở lễ hỏi cưới', 'với vở kịch thị nở gặp chí phèo diệp anh đã diễn rất đạt và gây được cảm tình với ban giám khảo cũng như đông đảo khán giả', 'virus', 'thưa anh tên của anh là gì', 'còn thọ đang bị công an tạm giữ', 'tôi có thể lấy gì cho anh', 'đây là hai mươi đô la và anh có thể giữ tiền thối', 'ba hai bảy bảy anh có thể nói chuyện với cô ấy ở một số máy con một năm chín cô ấy nghĩ nó như', 'mọi thứ dường như vô nghĩa và vô dụng đối với tôi', 'cho dù ngôn ngữ của bạn có là gì đi nữa', 'tôi muốn gặp về một bác sĩ chuyên về tai', 'giá cao su bắt đầu hạ nhiệt', 'cách tốt nhất để đến khách sạn plaza là gì', 'gầy tọp', 'quán cà phê anh em mở làm phở ngon cực kỳ', 'vui lòng dùng máy xerox', 'từ bây giờ nó được gọi là thai nhi', 'tôi không có em trai', 'cú ngoạm của nó yếu hơn của linh cẩu', 'đạo chích người nước ngoài tái xuất', 'tôi tham gia vào câu lạc bộ quần vợt', 'rùa phải nuôi trong các bồn khô vì chúng không ngóc đầu lên được', 'ví cũ mèm tiền nhồi nhét vô tổ chức', 'quí vị khuyên tôi khi nào thì có thể thay các lốp xe này', 'tên tôi là suzuki , tôi đã đặt phòng cho đêm nay', 'ông tổng giám đốc doanh nghiệp bảo trợ xã hội là người đã hỗ trợ xây dựng ngôi nhà từ những chai nhựa lông ngỗng và cũng là chủ dự án này', 'thông minh có năng lực được giáo dục cẩn thận và có lòng tin', 'tôi muốn biết về sự giám giảm giá dành cho sinh viên', 'bạn có kiểu giống thế này màu nâu không', 'số phòng anh số mấy', 'chúc mừng về ngôi nhà mới của bạn', 'giá đậu xe một tiếng là bao nhiêu', 'xây dựng nhà máy ở nước ngoài', 'nhóm người ngủ trong phòng lạnh nhất phần lớn mơ những điều khó chịu kinh sợ còn ở phòng ấm nhất những giấc mơ êm ái nhẹ nhàng đã đến trong giấc ngủ của những người ở đó', 'do đó không thể nào nhầm lẫn được giữa một nụ cười ngượng ngựu', 'hãy đến gặp bác sỹ để khám', 'tôi có thể dùng thẻ này để được giảm giá không', 'thiếu nữ anh chết trong bồn tắm ở tokyo', 'hoài niệm về chuyện xếp hàng ở liên xô', 'xin nhiệt liệt hoan nghênh họ', 'toàn bộ quy trình điện toán hóa thư viện do công ty lạc việt giúp nghiên cứu thiết kế', 'điều quan trọng là anh đã cố gắng', 'bên cạnh đó cũng phải an toàn hơn', 'lẽ ra anh phải ở trường chứ', 'nhà nước không để những người nghèo đã được vào học mà lại không thể tiếp tục đi học', 'tôi muốn thay đổi chuyến bay của mình', 'cho tôi một cuộn phim phơi sáng ba mươi sáu', 'bạn có thể ở lại đây lâu như bạn muốn', 'gài số', 'anh gợi ý một nhà hàng pháp ngon được không', 'nên khâu tổ chức tuyển sinh của các trường', 'nước có ấm không', 'tốp này bị bắt tốp khác lại tới', 'anh ta có cá tính không thân thiện', 'hãy đưa vợ anh đi cùng', 'các dự án mở rộng cũng đã phải đình lại những tác động xấu đến quá nhanh trên diện rộng và nặng nề hơn so với những gì chúng tôi dự báo', 'xin lỗi cho tôi một cái đĩa để chia ra được không', 'tôi cho rằng không có vấn đề gì', 'vui lòng sắp xếp một chuyến bay khác để tôi có thể chuyển sang a một hai ba', 'đến lượt anh', 'anh có bao giờ đến tokyo chưa', 'áo mưa phát sáng theo nhịp mưa rơi', 'bạn có thể nói cho tôi bít về nhà hàng truyền thống không', 'trước đây có ai trong gia đình quí vị từng có vấn đề ở bụng không', 'từ vệt bồ hóng nâu trầm', 'nhà thi đấu đại học công nghệ bắc kinh', 'món canh nguội lạnh', 'ông cường nhận định lượng phôi thép sản xuất ở trong nước sẽ không tăng đáng kể ít nhất là cho đến cuối năm sau', 'nó xảy không có gì là ngạc nhiên', 'và lời cảnh báo đã sớm trở thành sự thật', 'với hai cổ tay treo lủng lẳng những túi xốp', 'trong cái nóng oi ả của mùa hè các loài vật cũng có cách tự làm mát cho riêng mình', 'nhưng rất tốn kém khi thay thế hoặc sửa chữa', 'bao nhiêu tiếng bằng xe buýt đến medan vậy bác ơi', 'còn đây là thế giới của giày dép', 'không hấp dẫn -n', 'cái giá của một anh hùng', 'tăng nhiệt độ lên ba mươi độ', 'điều đó là không thể hiểu được', 'hoa mãn lâu ngày ấy và bây giờ', 'ba tôi sẽ về hưu năm nay', 'vợ đánh chồng vì không kiếm được tiền', 'không nhà tài trợ không bán vé để phục vụ các bạn sinh viên', 'dệt bằng lúa mì nga', 'ba tháng cô ấy khá mới', 'vui lòng đưa tờ báo nhật', 'có tour đến tauron không', 'xin lỗi anh có thể bán theo đơn này không', 'phải chờ tới khi ối ra nhiều trở lại thì bọn rầy mới biến mất', 'sáu mươi sáu sáu mươi bảy', 'phù thủy cũng có ngân hàng à', 'chứng khoán châu âu trượt giảm phiên thứ bốn liên tiếp cổ phiếu khối khai thác mất điểm', 'độc đáo nhất thuộc về loài nhím', 'dự kiến phiên xử diễn ra trong hai ngày', 'chào rất vui được gặp anh', 'tái kiểm định chất lượng giáo dục theo chỉ đạo của bộ giáo dục và đào tạo', 'hóa ra vị khách bỉ đang công tác tại bảo tàng lịch sử và nghệ thuật hoàng gia bỉ', 'cám ơn anh cho số thẻ tín dụng để giữ phòng được không', 'mồ hôi trên cơ thể người cũng khó khô đi', 'thặng dư ngày càng nhỏ đi', 'thấy còn hai người đang chới với sắp chìm giữa ngã ba sông chỉ kịp đẩy em phượng lên bờ là anh thắng lại đạp nước bơi ngược ra', 'chúng bò lổm ngổm trên người anh', 'hãy sẵn sàng ở tiền sảnh khách sạn lúc tám giờ mười lăm sáng mai', 'sự thực đứa bé mồ côi được thánh nhập chữa bách bệnh bằng xoa và vuốt', 'vui lòng mang lại dĩa thức ăn', 'suzuki đây', 'điều tra một thẩm phán làm sai lệch hồ sơ', 'có nhiều tiết mục mới và hấp dẫn', 'tôi là hành khách quá cảnh', 'để đãi lấy thiếc bán cho các đầu nậu ảnh', 'chỗ phát ban trông như thế nào', 'hành khách nói đùa bom có thể bị xử lý hình sự', 'vâng thịt bò rất ngon gửi lời khen ngợi của tôi đến đầu bếp nhé', 'đến địa phận xã mỹ thuận mỹ lộc nam định có một người trẻ tuổi lái xe máy cùng chiều vượt trước bảo dừng lại để nhờ dẫn đường', 'có một ngày lễ cho các bé gái vào ngày ba tháng ba', 'lá chắn nhỏ nhất để không bị phá sản là sở đúc tiền của mỹ bằng khả năng của mình họ đã sản xuất những đồng đô la mỹ và độc quyền về giá trị của nó', '-n và bất thình lình lao vào -n hạ gục đối thủ', 'vui lòng đợi tại phòng chờ quá cảnh ở phi trường', 'tôi có thể mua sách ở đâu ở anh', 'nãy giờ sao toàn nghe chê không', 'triển lãm trưng bày bẩy mốt tác phẩm của họa sĩ trương hán minh', 'theo tôi ở đây bạn cần có ô tô để đi đây đó tôi không còn cách nào khác là thuê một chiếc ô tô', 'tên tôi là noriko tanaka', 'nhân viên giải thích lý do là máy fax hỏng không thể gửi lệnh chị đặt ra hà nội được', 'những ngày hè sôi động và các môn thể thao ngoài trời thật hấp dẫn', 'tàu từ saitama vào ở sân ga nào', 'tôi bị mất máy ảnh', 'tôi nóng lòng được ăn đồ ăn nhật bản', 'các cầu thủ mu ăn mừng bàn thắng', 'cô ấy bảo ngưng check in sau mười một giờ đêm', 'anh có bị chuyển động gì trong đầu không', 'tốn hai mươi phút', 'người đàn ông này kém cỏi', 'sẻ ngô xanh', 'phần nào khiến giải thưởng ngành múa khá xôm tụ', 'tôi vẫn không giấu được những nỗi bực dọc', 'vĩ bảo những người có tuổi tác ban đầu thường dằn vặt về quá khứ nghĩ về những ngày giữ địa vị ngoài xã hội', 'đầu gối tôi bị va', 'theo đại diện của hãng tất cả các loại hình mai táng truyền thống từ trước tới nay chỉ để lại trong lòng người thân những nỗi buồn thương nặng nề u ám', 'hoàng mai là tuyến đường chính và có nhiều phương tiện lưu thông', 'bật', 'khi hai người đến tên hôn bất ngờ từ trong nhà gần đó chạy ra tay cầm chiếc rựa lao thẳng vào chém anh lê văn sửu', 'có ánh chớp lóe hắt lên vách liếp -n cây gậy rễ si', 'chúng tôi đi chung', 'chín mươi hai chín mươi ba', 'cài đặt lại phần mềm tốn cả ngày', 'chỗ ngồi này không có trong khu này', 'anh có thể chỉ cho tôi cách ăn món này được không', 'có khá gần', 'cái nào gần nhất', 'tôi sẽ nói lại với chị sau cám ơn chị rất nhiều tạm biệt', 'bạn đã bỏ lỡ một cơ hội hay đã bỏ lỡ thứ gì đó', 'tôi muốn tham gia một tua thành phố', 'người dân cố thủ tại chung cư sắp sập', 'tốn thêm hai đô la mỗi cuộn bạn có muốn in hai lần không', 'lá chắn nhỏ nhất để không bị phá sản là sở đúc tiền của mỹ bằng khả năng của mình họ đã sản xuất những đồng dollar mỹ và độc quyền về giá trị của nó', 'theo tỉ giá hiện nay tôi sẽ nhận được bao nhiêu euro', 'cái này có bảo hành không', 'tôi đang dùng insulin', 'chẳng phải là bệnh hiểm nghèo nhưng trĩ vẫn là bệnh gây khó chịu cho bệnh nhân bởi làm cản trở công việc của họ lúc làm việc cũng như lúc ngủ họ vẫn phải lo nghĩ giáo sư nghĩa nói', 'xin lỗi anh có thể lĩnh tiền mặt cái này không', 'đó là điềm', 'cần phải bỏ những suy nghĩ cũ kỹ cổ hủ diện bộ cánh nhã nhặn vừa vặn sẽ giúp hà đẹp hơn ở lễ hỏi cưới', 'kiếm được tiền dễ dàng nên vượng rất hào phóng sẵn sàng chiêu đãi lũ bạn ở nhà sang trọng hay đàn đúm ở chốn ăn chơi', 'cửa trài còn gọi là mang cá nhỏ', 'họ khẩn trương gói ghém hành lý rồi ra sân bay', 'ti vi giảm âm lượng về không', 'xin lỗi chải tóc tôi giống như hình này', 'kinh tế mỹ tiếp tục lún sâu thêm vào khủng hoảng', 'vui lòng cho tôi xem cái đồng hồ thứ ba ở bên trái', 'bé thiêm nhiều đêm đang ngủ cứ giật mình mếu máo bố ơi mẹ ơi khiến thằng trường phải ngồi dậy dỗ em suốt đêm', 'giảm nhiệt độ xuống hai mươi lăm độ', 'hằng ngày làm mặt lạnh với nhau nhưng những dịp phải dự cưới hỏi cỗ bàn cô vẫn diện thật đẹp tháp tùng chồng cười nói rất vui vẻ', 'để luôn nhớ mình là sinh viên việt', 'tôi muốn anh khuyên tôi về', 'tên cuối là gì', 'rất hân hạnh khi nào tôi sẽ gặp lại', 'tên tôi là senko yamada chuyến bay jal không không hai đến tokyo', 'tổng số tiền là hai trăm bốn mươi ba pound thưa mẹ', 'tôi muốn mua cái này cỡ trung bình', 'giám đốc và có lẽ là chủ nhân của một trường đàm thoại anh ngữ', 'kênh một ti vi', 'có phải nó thực sự khó hiểu vậy không', 'tôi sẽ trở về vào một ngày trong tuần', 'có đủ thời gian để chuyển xe không', 'ồ tôi đã lỡ trạm dừng xe bít của mình tôi phải làm gì', 'tiếc quá tôi phải làm gì bây giờ', 'một mẩu lui về phía sau đầu còn mẩu kia hướng về phía trước mõm', 'tôi muốn mua một phong bì', 'đưa tôi về khách sạn', 'dự luật này được trông đợi sẽ thu hút được sự ủng hộ từ các đảng', 'rủ nhau kết lại với ông để hình thành ban từ thiện dân lập gồm đủ ngành nghề thợ mộc thợ hồ', 'vài ngày nữa sẽ có hàng', 'có được dùng điện thoại của anh không', 'cái đầu tôi làm tôi rất đau', 'cách tốt nhất để chăm sóc làn da là tránh cho da tiếp xúc với ánh nắng mặt trời', 'tôi thích các bộ phim hành động và ly kỳ', 'vui lòng cho thứ nào đó không ga', 'nhóm sinh viên tại trường cùng họp mặt ăn tết chung', 'thế nhưng đối với vượng thì khác chỉ vài tiếng huýt sáo hắn đã thu phục được cả hai chú chó rồi vào nhà khua', '-n bể nước tồn đọng đủ các chất bẩn đen ngòm dưới đáy nắp đậy đã bong tróc', 'tuy vậy shubert cũng cho rằng cần phải tính đến cả yếu tố cá nhân', 'chúng ta thật may mắn cửa hàng ala moana vẫn còn cỡ số bốn', 'tôi muốn mua những trái cam này bạn vui lòng gửi chúng tới nhật nhé', 'đừng thay đổi kiểu chỉ cắt một chút', 'cái này có bao gồm giá bữa ăn sáng không', 'xin lỗi có thể cho tôi một thẻ điện thoại không', 'tôi có vinh dự được khiêu vũ cùng cô không', 'phế quản bị chít hẹp khiến trẻ thở khò khè thậm chí rít lên', 'xin lỗi tôi bị lạc đường anh có thể chỉ cho tôi đường đến khu phố người hoa không', 'ai đó bị thương', 'những dự án này đã bị hoãn vô thời hạn không những vậy hãng xe nhật cũng dừng phát triển động cơ hiện chỉ có hệ thống động cầu trước cạnh tranh với xe mũi dài', 'xin lỗi anh có thể vẽ bản đồ sơ lược cho tôi không', 'tôi muốn thuê một đôi giày trượt', 'không đáng đề cập đến', 'kỳ tích có thể để lại quyền lợi bởi một nhà độc tài dầu mỏ nhưng cũng có thể giúp thể chế hóa những phong trào chống mỹ diễn ra tại khu vực trung đông', 'những bộ não chỉ giảm hoạt động về đêm sẽ suy nghĩ hiệu quả triển vọng và dẫn đầu cả đội', 'tắt điều hòa phòng ăn', 'anh có thể giảm giá không', 'xin lỗi tôi phải đi vệ sinh', 'những khi mùa khô kéo dài mỗi nhà vẫn phải dùng nước nhiễm phèn sau khi được lắng lọc bằng những biện pháp khác nhau khi thì dùng quần áo cũ lúc là phèn vẫn được dùng khử đục cát sỏi miễn là có nước để dùng', 'tôi có thể ở lại ba đêm không', 'cô có thể lệ lau chiếc bàn này được không', 'không cô ta ít khi ghé thư viện', 'hiện tượng này sẽ bắt đầu tại nam á rồi dần được thấy tại hầu hết các nước trong đó có việt nam', 'ba mươi lăm mm phim màu âm bản ba mươi tấm ạ', 'anh có thể giải thích tình huống này không', 'trưởng phòng hành chính tổ chức nhà trường', 'một quả lựu đạn được tung ra đúng lúc', 'trông anh nhợt nhạt quá', 'này hơn người ta chớ', 'có xe buýt máy lạnh không', 'ông toàn chơi phổng tay trên', 'khai báo điện tử nhanh chóng hơn', 'hai anh chị này cặp với nhau cuối tuần nào cũng mở tiệc họ gọi bạn bè về ăn uống nhảy nhót ồn ào quá mức', '-n cô ấy sắp bơm nó vào tĩnh mạch anh', 'có lẽ quý vị cần thải ra', 'xin lỗi nhưng hình như nó quá nhỏ', 'tôi sẽ xác nhận những gì đã nói với anh', 'vì cái oanh từ khi mở cửa hàng trên phố thái hà', 'chúng tôi có thể giải thích vấn đề như sau', 'bạn đi đâu mà vội thế', 'vẫn chưa rõ ông có đưa ra tuyên bố ủng hộ ứng viên nào trong thời gian tới hay không', 'nhiều hơn những trẻ khác', 'như đã đồng ý hàng sẽ được giao cho anh vào sáng thứ hai', 'chị bây giờ đã nhẹ người', 'lúc gặp ngọc nổ súng làm thắng chết tại chỗ', 'ôi khác nhiều chứ', 'đây có phải xe lửa đi chiang mai không', 'khoai tây đánh nhừ và cải chua đức', 'mồ hôi trên cơ thể người cũng khó khô đi', 'bé yêu và cún xinh', 'có siêu thị ở góc đường này', 'ngắt ti vi', 'món ăn của địa phương nào đặc biệt', 'công an hà nội đã cạo sửa hồ sơ', 'khi đối tác đầu tư tiền bạc thì mình phải đầu tư công sức', 'bạn không biết lái đúng không', 'nói khó là khó vậy thôi nước ngoài quản lý được thì mình cũng quản lý được', 'tối nay có đông không', 'nướu anh ta đau khi anh ta dùng ngón tay ấn vào', 'chức danh chính thức của quí vị là gì', 'anh muốn nó thế nào ý tôi là anh muốn bỏ gì vào trong hamburger của anh', 'tôi nói được một chút tiếng ý', 'chồng tôi bị đau tim', 'cùng chuẩn và ngũ hai đối tượng khác chuyên làm nhiệm vụ đưa người sang trung quốc là nguyễn vũ hải và võ cảnh dũng cùng trú tại bắc giang cũng bị cảnh sát bắt', 'ông lữ minh châu', 'tôi sẽ thử bánh pudding', 'cái này không vừa anh có thể đổi nó lấy cái khác không', 'bên chi bộ chưa có quyết định chính thức', 'hạn viện mỹ vừa ủng hộ một đạo luật trong đó kiểm soát chặt chẽ hơn nữa hoạt động chơi bạc trực tuyến', 'giấy phạt đây anh bị phạt hai mươi lăm ringgit', 'một số trường hợp góp vốn khác', 'các phòng có két sắt không', 'cái nào tiện lợi nhất để đi đến nơi này bằng xe buýt hay xe điện', 'thời gian từ đầu đến cuối là bao lâu', 'địa điểm trượt tuyết đâu', 'địa điểm các bức tranh ở maunet ở đâu', 'chỉ có thể mua vé qua điện thoại', 'vui lòng cho tôi cái gì trị phỏng tốt', 'tôi không thể ăn nó cái này quá dài', 'tỷ phú đức tự tử vì khủng hoảng kinh tế', 'năm qua họ đã cố gắng lèo lái một lúc hai hãng và để không bị khủng hoảng như các hãng khác của mỹ', 'tôi muốn nước cam trứng trộn một bánh xốp và một tách cà phê', 'tôi đặt một phòng hai giường', 'malan có chuyện gì với bạn vậy trông bạn buồn quá', 'chúng thường xảy ra trong những vùng biển sóng vỗ', 'tắt điều hòa phòng họp', 'khi nào thì tôi ra viện được', 'sẽ phải tốn hai ngày thì anh mới khỏe để xuất viện', 'hiện nay theo nhận thức của đa số người việt chúng ta nhà nước pháp quyền là nhà nước quản lý xã hội bằng pháp luật', 'bật', 'tôi xin tuyên bố kết thúc cuộc họp', 'não dẫu tổn hại nặng vẫn phải chữa mặc dù đã gần như biết rõ về cách gây bệnh cũng như những tác hại mà bệnh nhân sẽ phải chịu cả đời nhưng đến nay giới y sỹ vẫn chưa tìm được biện pháp hữu hiệu nào để điều trị căn bệnh hiểm nghèo này', 'kênh không', 'bạn có thể cho tôi thêm vài phút không', 'kết quả bốc thăm vòng loại cuối cùng', 'tôi đang tìm một công việc mới', 'sống độc thân bạn đã lãng phí tình cảm đẹp đẽ ấy', 'đại dương bắc cực ấm lên đột ngột', 'bạn có một nụ cười đẹp', 'hãy đứng tại chỗ đừng cử động', 'à tôi hiểu cái đó và cà phê nữa', 'một giờ thì giá bao nhiêu', 'vĩnh cũng hy vọng nhiều người dân việt sẽ được ăn những quả bưởi chất lượng thời gian tới bưởi bảo quản đã khó nhãn vải bảo quản còn khó hơn', 'dị tật thai nhi chủ yếu dựa vào chẩn đoán hình ảnh và xét nghiệm di truyền', 'cho tôi một ít thuốc nhỏ mắt được không', 'xin lỗi tôi kiểm tra hóa đơn được không', 'cái gì ở góc phố', 'chúng vẫn vào hai mắt của tôi', 'trước khi đến với điện ảnh tôi kinh doanh cho thuê xe du lịch', 'tàng trữ trái phép và vũ khí quân dụng nguyễn hữu cảnh chủ vũ trường bị phạt bảy năm sáu tháng tù cảnh đã tự hủy cuộc đời bởi sự liều lĩnh', 'anh ấy đi chưa chưa', 'tôi có thể gửi trước hành lý của tôi được không', 'hầu hết số mỡ động vật đều đang ở giai đoạn phân hủy bốc mùi hôi thối nồng nặc', 'khoảng bốn mươi lăm đô la mỗi người', 'thằng bé không đội mũ khi ra ngoài vào trời lạnh không', 'tôi không nghĩ đó là một phong tục nhật bản độc nhất vô nhị', 'chiếc này dành riêng tổng thống mới đắc cử của mỹ xác nhận đã chuyển tới mật vụ mỹ chiếc xe dành cho tổng thống mới để thay chiếc xe cũ', 'hôm nay ba em đi công tác anh qua đây nhé', 'xin lỗi tôi đang tắm', 'từ hôm nay bạn sẽ ở đâu', 'các tác phẩm ăn khách để ở đâu', 'anh ấy vừa mới đến từ anh quốc hôm qua', 'nếu bạn không bắt đầu chuẩn bị tôi không cần nữa', 'tôi muốn đặt chỗ cửa hàng da vào ngày mười hai tháng ba', 'đúng là quê một cục', 'bush phương tây và nga căng thẳng', 'não dẫu tổn hại nặng vẫn phải chữa mặc dù đã gần như biết rõ về cách gây bệnh cũng như những tác hại mà bệnh nhân sẽ phải chịu cả đời nhưng đến nay giới y sỹ vẫn chưa tìm ra được biện pháp hữu hiệu nào để điều trị căn bệnh hiểm nghèo này', 'ở thể chế này những cuộc bán đấu giá được xem là một sự kiện xã hội', 'tôi sẽ chở anh đến đó', 'bị bắt giam vì xúc phạm trên mạng xã hội ảo', 'khi nào quán trà đóng cửa', 'tôi đến ga chính xe lửa bằng cách nào', 'tôi muốn nói chuyện với', 'tôi đi hải phòng còn bạn đi đâu', 'lên tới lớp thu tiền học phí', 'ăn nói sờm sỡ', 'vâng được đào ở đây', 'mấy giờ xe buýt đó đến', 'nó sẽ dừng chảy máu', 'có đứa gọi hắn tên hải làm cái gì ở công ty nước ngoài', 'mấy giờ con thuyền đó mới khởi hành', 'chính là nó cảm ơn', 'đỗ đũa trồng trong mùa hè lớn nhanh và sớm có quả dẫu bị bỏ tưới đỗ đũa vẫn ra quả trĩu giàn', 'để nó cho tôi', '-n chìm nghỉm', 'tôi muốn hỏi anh về sendai', 'nghĩa là khoảng mười đô la một cuộn phim ba mươi sáu tấm', 'trẻ em đâu có chướng ngại vật', 'tác dụng phụ của thuốc là gì', 'đúng vậy sao', 'đang diễn ra hào hứng sôi nổi', 'có hai mùa ở miền nam việt nam', 'chúng tôi muốn đi', 'tôi không chắc nhưng tôi không chịu được mùi thịt tôi chỉ muốn ăn trái thơm', 'lúc viễn tìm được người giúp đỡ quay lại chỗ bị ngã thì nhóm cướp đã lấy xe của anh và tẩu thoát', 'liền chạy theo nắm lấy cửa sau xe buýt', 'tôi giao phó công việc này cho bạn', 'liệu ngân hàng có mở cửa ngày mai không', 'và nhện ta liền quăng ra chiếc thòng lọng bằng tơ của nó đầu kia sẽ là bữa ăn', 'việc bảo vệ những nguồn cung cấp dầu lửa trước đó đã là ưu tiên hàng đầu bỗng chốc lại trở thành nỗi ám ảnh của nước mỹ', 'tiền vệ người bồ đào nha mới đây khẳng định anh đã tìm lại được niềm hạnh phúc tại m.u. bất chấp những chỉ trích của người hâm mộ anh', 'anh có nước mía không', 'an ninh tại các thành phố ấn độ được thắt chặt', 'những lãnh đạo cấp cao cũng đang phải đối mặt với việc giảm lương đến mức nào hiện vẫn chưa rõ', 'đây có phải da thật không', 'bỏ tù nạn nhân cưỡng hiếp tập thể', 'lấy ngành thép làm ví dụ', 'ví của tôi bị móc túi ở trong tàu điện ngầm', 'tôi muốn ăn hơi tái', 'mấy giờ là chuyến bay tiếp theo tới narita', 'giấy phạt đây anh bị phạt hai mươi lăm ringgit', 'binh lính chính phủ gần thánh đường', 'vui lòng đến quầy của hàng không nhật bản', 'anh giỏi quá rồi nhỉ', 'tôi có thể cầm áo khoác của bạn không', 'chị có cỡ lớn không', 'từ mẫu phân tích của bà vũ thị khởi giám đốc tổng công ty tâm lý học ứng dụng nhiều phụ huynh đã hiểu rõ khoảng trống giữa cha mẹ và con cái không phải là khoảng cách về địa lý mà là khoảng cách tâm lý', 'thưa ông có đúng mười một giờ', 'làm ơn', 'tờ báo trên bàn vừa mới được đọc', 'giết người cướp của lấy tiền về quê', 'ti vi bóng đá ti vi', 'tôi có thể sử dụng mặt nạ trang điểm với số lần như thế nào', 'không có sổ điện thoại', 'không giống như sản phẩm nông nghiệp dễ hỏng dầu có thể chôn dưới đất', 'nhưng chính các nhà máy đường đang kích thích nông dân trồng mía khi đẩy giá mua mía lên cao', 'cám ơn xã hội đã cho chúng ta những con người có tấm lòng', 'xin lỗi có thể nào anh là anh không', 'tôi muốn đặt chỗ trước cho hai người vào bảy giờ tối nay', 'thượng tá công an này được phát hiện trong tư thế', 'nhưng đấy là cơ chế nào', 'chúng tôi đính kèm một bản miêu tả ngắn cách đến được khu liên hợp', 'ảnh tổng thống bush chơi nhạc nhảy', 'mời các anh ngồi xuống đây', 'anh có uống bất kỳ loại dược phẩm nào khác không', 'làm ơn cho tôi một chỗ ở khu không hút thuốc', 'tôi muốn một vé khứ hồi đến trạm s', 'mời các bạn tham vấn cho bạn bảo ngọc và chia sẻ về chuyện này', 'còn vé cho buổi diễn tối nay không', 'tôi nghĩ họ sẽ sớm kết hôn', 'đừng có tòm tem nhăng nhít vớ vẩn để xấu mặt mọi người', 'những dự án mở rộng ở nhật cũng bị hoãn hãng khẳng định sẽ chẳng sa thải nhân công chính thức nhưng bảy ngàn nhân công thời vụ đã được nghỉ việc ở mỹ', 'bật chế độ sưởi ấm', 'là người hay tò mò ưa khám phá sáng tạo tâm hồn cởi mở họ thích lắng nghe và cho mọi người lời khuyên', 'thức uống bánh mỳ và các món ăn chính sẽ được cung cấp', 'một số lượng lớn', 'nó thật vui', 'tăng nhiệt độ lên hai mươi chín độ', 'giá cước đến chiangmai là bao nhiêu', 'các bà vợ kể rằng', 'anh có muốn được giúp gì không', 'chúng tôi muốn đi trượt nước', 'tôi sẽ quay lại trong vòng một tiếng nữa', 'cho tôi một ít dấm', 'kha đây là noami mình đang ở thành phố', 'ngày mai trời sẽ có sương mù à', 'tôi có một thẻ ngân hàng', 'vui lòng cho tôi ghế phía trước dọc lối đi', 'lũ trẻ nít', 'tụ tập học đòi đàn đúm hư thân mất nết', 'tối nay bạn có muốn đến rạp chiếu phim không', 'gần đây nhiều sếp âm thầm bán cổ phiếu nhưng không báo cơ quan quản lý', 'ông ri nhấn mạnh bình nhưỡng sẽ không khoanh tay ngồi nhìn mà sẽ tấn công nếu cần', 'vâng chúng tôi có thể vui lòng cho tôi biết tên', 'nằm giữa trung tâm thành phố bắc giang quán phở nổi tiếng của nguyễn thị hảo và nguyễn tuấn vũ chẳng lúc nào đề biển mở cửa nhưng khách vẫn hối hả', 'đây là đường nút từ nút giao thông khu an nam sài gòn đến cầu phú mỹ và đường vành đai phía đông thành phố', 'chúng giúp làn da khô trở nên tươi mát mềm mại hơn', 'vì ngôn ngữ bây giờ không phải là tiếng anh nữa nên tốt nhất là bạn hủy cả dòng', 'cương ấp úng không trả lời', 'khách nước ngoài đón tết tại hà nội', 'tôi sẽ thảo phiếu tính tiền cho ông', 'phía công an cũng sẽ có những thông báo để có biện pháp ngăn chặn', 'phó bí thư tưởng phi chiến thăm tặng quà gia đình chính sách hộ nghèo ở huyện chương mỹ', 'anh đã làm thế này bao lâu rồi', 'tắt đèn phòng họp', 'vài tháng', 'ảnh bush lần đầu tới điểm nóng trung đông', 'anh ấy sống cạnh nhà', 'kẹo làm từ bột hòn đường quế hạt thông', 'cô ấy đang gọi từ canada', 'điều hòa làm lạnh', 'nhìn cây đào đẹp', 'hàng đống bưởi', 'cơn khát thèm du thuyền bùng nổ vượt xa khả năng đáp ứng của cơ sở hạ tầng', 'tôi chơi dương cầm giỏi', 'làm một chiếc túi đủ lớn để có thể đút vừa một cuốn sổ tay có kích thước tám nhân mười một', 'tôi muốn bạn gửi cái này', 'do còn lượng nước trong cồn nhiều hơn nên động cơ ít bị nóng hơn', 'đây có thể là trứng cá đỏ hoặc mụn trứng cá người lớn', 'tôi muốn có catalogue', 'các tiết mục múa tượng trưng cho mùa xuân', '-n hồ bắt nguồn từ dòng suối tía huyền thoại và nằm gọn gàng giữa rừng thông mênh mông', 'tôi đang tìm một món đồ lưu niệm nhỏ', 'chúng tôi sẽ báo cho anh ngay khi chúng tôi tìm được', 'còn dự án phát triển sản phẩm từ mây và gỗ đảm bảo bền vững do ủy ban xã quản lý tài trợ sẽ thiết lập hệ thống sản xuất bài bản cho các sản phẩm mây tre tại việt nam cũng như lào', 'hãy mang cho tôi một cục xà phòng', 'tôi bị táo bón nhiều', 'đó là quan niệm tình yêu ở phái đẹp', 'thấy cá ục sôi dưới đìa mắc nôn nao trong ruột', 'cho tới thứ hai', 'phó tổng thống đắc cử cũng khẳng định đội ngũ lãnh đạo kinh tế của ông đã lên kế hoạch thực hiện một gói kích thích kinh tế nữa với giá trị có thể lên tới một ngàn tỷ đô la mỹ', 'trong quá trình này một số người quen là việt kiều đã bày tỏ ý với phố muốn mua dâm các người mẫu diễn viên', 'vui lòng mang cho tôi một ít nước uống', 'thược dược', 'hãy cho tiền vào thùng vé khi anh xuống xe', 'sa pa bây giờ là một trong những địa danh du lịch hấp dẫn nhất miền bắc', 'mỗi con bò đều được đeo một chiếc vòng cổ gắn pin', 'cho cô ấy một phiếu tính tiền liệt kê từng khoản được không', 'tôi muốn chuyển sang phòng khác', 'có giảm giá cho trẻ em không', 'cho tôi biết tên cô ấy', 'tất cả cũng chỉ xuất phát từ thói cả nể cố hữu dính mác sinh viên này thôi', 'có nhưng một vài xe đã hoàn tất cuộc đua', 'cho tôi nửa gói thuốc lá salem', 'nó hơi ngọt', 'ngắt ti vi', 'khuyến cáo chọn ấm của tiến sĩ khải', 'các nhà đầu tư đã lỡ ôm quyền mua cổ phần đang rất hoang mang', 'chúng ta có vài phút nữa để làm', 'chúng ta có thể làm việc gì bù cho nó', 'nhìn lên phía trái từ khu chung cư sẽ thấy nhà thờ phú cam', 'đừng bao giờ tự mình đi vào rừng', 'khoang trời nằm ở tầng nào', 'để hoàn thiện hơn hoặc thay đổi khi cần thiết', 'vui dòng đưa tôi đến khu phố người hoa', 'và ông lucas phải báo cáo cho ai', 'từ bây giờ nó được gọi là thai nhi', 'đó là cuộc sống đó cũng là bóng đá', 'xin lỗi cắt ngắn thêm một ít ở phần', 'cô ấy sẽ muốn đậu xe đến năm giờ', 'đây là máy giặt phải không', 'anh trần công phô tàu nước ngoài đã được báo trước chính xác', 'sau đó thảo được nguyễn vũ bão chở đến ngã tư nguyễn trãi quốc lộ một để đặt pháo giữa đường thảo chuẩn bị cho nổ thì bị công an bắt quả tang', 'tôi muốn một ít cà phê uống liền', 'con búp bê bằng gỗ này bao nhiêu tiền', 'bật đèn phòng đọc', 'tuần này ông thầy có vô thường xuyên không', 'giảm', 'vui lòng cho tôi một nĩa nữa', 'ti vi tăng tiếng đến bốn', 'anh có thể đổi phòng tôi với một cái nhìn ra biển không', 'tỉ như với món thiền trên ghế đá', 'rồi một đêm khi chàng lên giường bằng trực giác', 'anh có bị dị ứng thực sự nặng không', 'nó không đúng', 'làm ơn cho tiền lẻ', 'đến washington giá vé bao nhiêu', 'vâng đó là vàng mười tám cara', 'kìa ai đang nghịch trái tim', 'khi đạp thắng tôi luôn nghe thấy một tiếng ồn lạ', 'cái nhỏ có hành tươi', 'trường tôi là một trường công lập', 'anh có thể gửi nó không', 'quí vị có uống thuốc của quí vị vào ban đêm không', 'xin lỗi bạn có thể chỉ giúp tôi ngân hàng gần nhất không', 'và vui lòng thắt dây an toàn của quý khách', 'do vậy tôi vẫn phải gồng mình', 'hãng xe hạng sang của đức sẽ giới thiệu mẫu ưu đãi đầu tiên thuộc danh mục sản phẩm của mình', 'roong cửa cũng phải kín thì tủ mới hoạt động tốt gió hở làm thất thoát điện rất lớn', 'tôi cảm thấy lạnh và buồn nôn có nơi nào để nằm không', 'tôi đang tìm một công việc mới', 'súng được du nhập vào nhật bản vào thời đó chúng đóng một vai trò quan trọng để thắng một trận đấu', 'tôi muốn trả phòng vậy vui lòng đến phòng tôi để mang hành lý của tôi', 'ông được nhiều người biết đến', 'vĩ bảo những người có tuổi tác ban đầu thường dằn vặt về quá khứ nghĩ về những ngày giữ địa vị ngoài xã hội', 'họ còn trang điểm nhảy múa giống như vậy', 'bạn có thể tìm một tờ ở một quầy mới gần đây', 'cái này mắc quá', 'va chạm với người chở ngỗng chiếc xe lật úp làm đổ rất nhiều biển báo lẫn cột đèn', 'những chiếc thuộc sở hữu của một tổng đại lý ở đức vững chắc nhiều năm liền nhưng hãng cũng không thoát khỏi cơn bão khủng hoảng', 'kết thúc trận đấu các cầu thủ thường có trao đổi áo đấu cho nhau', 'vui lòng đừng nói bây giờ chúng ta sẽ nói về nó trong cuộc họp báo', 'trời có đang quang đãng dần không', 'để nó cho tôi', 'mì vằn thắn và sủi cảo là hai món được ưa chuộng nhất tại đây', 'thủ tục lên máy bay vào lúc hai giờ ba mươi', 'một áp phích phim ấn độ']\n",
      "hypothesis: ['các địa đi', 'họ đã trải nghiệm mọi các giáo viên mọi người vừa trả comment cho.', 'anh có thể gọi tôi không?', 'có rất nhiều yếu tố main ở đây.', 'ai là trường đối dối?', 'cuốn tự hành kiệt lại ở sân máy không?', 'anh đổi ngoại tệ được không?', 'cô ấy mua 2 nguồn cải tôm tôm và 3 con cá.', 'đưa bè vào gói ông học gá sừa hoặc nước và bè chưa đến 10 tuần tuổi hoặc có biểu hiện mất nữa không?', 'tôi có thể viết tên, địa chỉ, số điện thoại của công ty bảo hiểm của anh được không?', 'đừng lo, tôi vừa mới đến rồi.', '10 phút nữa vào giờ rưỡi', 'tôi có thể hẹn cho trường má có.', 'anh vừa hình kỳ thật số ra được không?', 'cảm ơn các bạn đã theo dõi và hẹn gặp lại.', 'tôi không thường bắt tui', 'quân đội mỹ muốn chế tạo những máy tự động hoàn toàn vì những chiếc mà họ đang có vẫn cần được điều kiện với con người.', 'tôi quên quỷ đeo vai trong khe đặc trì.', 'dư luận đã phản ánh lên cơ quan địa chính của thị trấn nhưng mãi chả thấy hồi âm', 'giả danh làm từ thiện lùa tiền người dân', 'sắp đổ siêu sát ở chợ triệu u.', 'nếu làm lộn viên cơ âm binh sẽ đánh trả thầy', 'máy ném bom chiến lược của nga gặp lại', 'anh có thích tôi giữ trước quyển sách này cho anh không?', 'ở người bị hộ trứng, khi ăn ngủ, phần não phải dẫn thức và sau đó là cả các loại hoạt động thể chất.', 'tỷ lệ là 10mm trên 1km', 'cảm ơn các bạn đã xem video này. hẹn gặp lại các bạn trong những video tiếp theo.', 'lời đây hiện khả duyệt gì?', 'nhưng cũng có những bạn nằm kèo ở nhà trầm mền và cọc nhè.', 'chúng ta không thể mua cái nào ở nhật bản.', 'cho vừa với số tiến phí hạn hệ của một bộ phim.', 'kịch sến nhiều tập, làm tôi oãi quá. tôi sẽ tắt tv.', 'chính vì thế, những người phải sống một thời gian dài trong không gian có thể gặp tự do.', 'thực ra thà không đến nỗi mơ mộng đến mê mùi để chẳng hiểu tâm lòng của những người thân thân qua lời thương ngữ.', 'bạn đồng giả phí nữ', 'để ký email của tôi là stefan.martens a1', 'nhưng năm, quỹ ban bầu quỷ thái lan cho rằng đảng của người thái yêu người thái đã phọng hai luật trong chính trị trách cử vừa qua.', 'không thể xem rằng bậc nhà ấy là ai.', 'các bạn đừng kêu hòa hoạt.', 'mình dán cập tinh vốn bỏ ngay dưới a sau a sẽ được.', 'tết đầu tiên xa việt nam của cháu quả là ý nghĩa.', 'trong làn ai cũng quý ngến gia đình anh phú.', 'xin chào, chào tạm biệt.', 'anh ta làm rất tệ.', 'hãy subscribe cho kênh ghiền mì gõ để không bỏ lỡ những video hấp dẫn', 'còn mỗi đợt đợt điện nào', 'anh quên rừng tại khách sạn đi hình không?', 'mật liêu hoa nhiệt độ', 'nhưng chàng trai để ý và theo dõi bà.', 'chúng ta hãy chấp nhận một động tiền để quyết định.', 'cô nghe điểm chi tiết này được không?', 'nguyễn văn vũ vừa tử lạng vì hỗ trợ đuổi bắt tội phạm. ngày 13 tháng 1, công an xã cẩm trạch, nguyện cần cầu cho biết một người lái xe khách 27 tuổi đã tử lạng khi giúp một phụ nữ bị bệnh tên công chế cướp tài sản.', 'hai con voi này rất hung dữ và phá nát nhiều hoa màu của người dân trong khu vực.', 'anh có bị đau dô mịt mỏi không?', 'bạn gọi một tôi dịch chạy này cho bạn không? tôi đã trực nhập.', 'răng giá sẽ là 3 trần y.', 'và như thế những điều tốt đẹp.', 'tăng nhiệt độ lên 21 độ', 'thương sinh người ta', 'đối thân hạt đôi nguyên lưu trung sổ.', 'quý thích có thể để lại tiền lực với một nhà đặc tài giàu mạo, nhưng cũng có thể giúp thể chế hóa những thông trào chứng minh chuyên gia tại khu vực trung đông.', 'lạch đạo ngặt ô tô mỹ nơi từ chức', 'cô ấy biết', 'từng sợi thương ly ti kết lại', 'bồ hôi là một trong những phương tiện để cơ thể thảy cặn bã ra ngoài.', 'tvk cộng 1', 'hiện nay mỗi khi chào hàng các lò ra hạt dưa như tứ, như thân, duy kính thiên hương', 'vì không biết nhìn ra trống rộng và vì niềm tin thất giả rằng tôi mọi việc lại êm cười', 'như có chúa.', 'chết để nắm bức sóc thiệt hướng', 'rồi anh đi một chuyến đến khu vực về san hô và thăm huyền vào càng úc, anh có thể tìm hiểu nhiều về nước úc. anh cũng có thể có một món quà đẹp tại càng sai linh nếu anh muốn mua vài đồ lưu niệm. có rất nhiều đồ vật và phù quyền anh có thể muốn mua.', 'đó là chưa kể các thủ đoạn chính trị xã hội khác.', 'tôi có vẻ một chút', 'cho tôi mẫu thử được không', 'tôi có 3 con gái', 'tôi sẽ ở lại đây.', 'người ta cho rằng số khu vụ ở dưới thế bị chính nước bẩn ít thì kỳ kinh chuyển đến.', 'không một nơi nào lãng mạn và thơ mộng hơn những khu hồ hoang.', 'bị hại khám cáo vì cho rằng các cơ quan phố tục ở thương khê bỏ lọc người sắp tội.', 'cuối cùng họ sẽ phải góp lời những người đồng hành.', 'cái giá của một anh hùng', 'mặt sao tấn sát quản tiền vợ chồng biến hiện được', 'nhằm thu hút thêm nhiều nhà đầu tư', 'như lòng cho bảo vệ của người hàng hàng.', 'anh cần một con tiêm, một đô la ba mươi kém.', 'cảnh trường format bốc thanh và kẹo chó', 'chúng tôi sẽ bôi thường cho anh', 'kỹ xét điển hồ sơ không phải thi.', 'gần 9.000 tỷ đồng xây đường sát vương hỷ, khách lên hà đông', 'bò quân vào trong mày giật.', 'trả lời tôi biết.', 'đến thời điểm hiện tại, ít nước trong cả nước đã có 50.000 lao động thất nghiệp.', 'anh chẳng sang gọi món trưa.', 'là tác động của nó đến hiệu suất chung của toàn bộ hệ thống điện.', 'mà bà nuôi', 'thời tiết mát mưa sẽ là lầu nhà', 'chúng tôi có 4 người', 'về đẹp khuôn mặt và bản linh tình dục quan hệ, tương hội, trách nhiệm với nhau.', \"thông bằng của ý khách sẽ là o'hare.\", 'đầu gối có bị tưng tò hoặc cả hai số.', 'hãy subscribe cho kênh ghiền mì gõ để không bỏ lỡ những video hấp dẫn', 'còn cả là bệnh hiện nào, nhưng chị vẫn làm bệnh gây khó chịu cho tận nhân về làm hạn trở công việc của họ. lúc làm việc cũng như lúc ngủ, họ vẫn phải nghe nghĩ, giáo dương đã nói.', 'cup mình lên chúa', 'kết quả lao động của tôi đến đâu thì tác phẩm trả lời.', 'khi những chiếc đĩa được dỡ bỏ, lũ hà mã cũng chẳng thèm chú ý tới những chiếc nhãn đoán nữa.', 'không, vậy, không sao, tôi sẽ gọi ông ấy sau, cảm ơn.', 'có giảm giá cho người cao niên không?', 'hãy gọi cảnh sát nhanh', 'bắt đầu đếm', 'anh có bị đau do mệt ngoài không?', 'lãi chất cho vai cũng đã giảm mạnh theo lãi động vốn, lãi nhiều vẫn chẳng có người nào gửi cả.', 'các nhà khoa học đang tiến thêm một bước.', 'cùng chuẩn và ngũ, hai đối tượng khác chuyên làm nhiệm vụ đưa người sang trung quốc là nguyễn vũ hải và võ cảnh dũng cùng chú trại bắc giang xử lý cảnh sát bắc.', 'hệ thống phong bức tài năng và giàu kinh nghiệm', 'sẽ đủ sức cạnh tranh với nước ngoài.', 'giờ ta nên đề đồng ý.', 'ui, lòng trả 10$', 'đây là hồi chu cạch báo về sự mất an toàn lưới địa trên địa bàn.', 'ban đêm vắng cây đà', 'kim hai tv', 'này, chị tôi sắp vô nheo', 'mà', 'đọc giả của tôi muốn hướng tới là sinh viên và chỉ thích', 'không mở cửa ồ ạc', 'tôi muốn từ cái này lấy cái màu xanh.', 'sống với em anh nhé!', 'vừa gọi điện vừa đi lại hết gây hại cho sức khỏe', 'tôi còn thấy tin bằng tin ở đâu', 'anh chuẩn bị toàn này cho tôi được không?', 'đây là địa chỉ của anh.', 'anh lắng nghe tôi một phút được không?', 'đã tăng là do dụng đo dụng điều kiện', 'hiệp gai, nhồi hồn hợp bắt nhọc', 'chúng ta nhận tả lại cán bộ quản giáo trực tiếp bồn số 7, chỗ ở của ông mẫu, ông dũng nói, chính kẽ cũng là tâm lý của người cải tạo, loại án như trường hợp ông dũng.', 'khi túc xà vắng tanh, đêm thả thiện từ ngất ngại chật chơn trừ nước trên phim được xem y', 'mở', 'cô thích anh không nên làm nó', 'tôi không thể mua vẹ ở đâu', 'vậy đều gì có ý tưởng khó bạo chứ?', 'họ sẽ chơi nhiều ca khúc từ bộ phim âm thanh của âm nhạc.', 'mà vùng của flymouth là 01752', 'không, tôi luôn tin anh', 'một số trò chơi đòi hỏi bắt động tác chậm, thận trọng hay tư tư.', 'cảm ơn các bạn đã theo dõi và hẹn gặp lại.', 'nó là quân', 'cảm ơn các bạn đã theo dõi và hẹn gặp lại.', 'đây là ghi chép cho phí nào.', 'tôi bị cạp theo trực tiếp thôi.', 'còn bao nhiêu giờ thì chúng ta sẽ đến như đó?', 'thị trường chính thức kém sơ động nên thị trường phi tập trung cũng nghe lầm.', 'chúng tôi đã thuê căn hộ.', 'mở lên!', 'cuộc tình đó tồn tại cho tới ngày cô ta trưởng quản khối tài sản mà ông ra phó rồi biến mất tâm.', 'xin vui lòng hãy sẵn sàng vào lúc 9 giờ giờ ấy.', 'tôi không nghĩ như vậy.', 'cách dễ nhất là tìm người khác để yêu', 'hãy tận dụng những gì có sẵn từ thiên nhiên để làm đẹp làng cha', 'cô lấy cho tôi cái khăn nào?', 'đồ đánh tấn công quan trọng của chị biến mất thay vào đó là những đường bóng yếu ớt', 'tôi có thể có bản đồ được đi của tạo mai không?', 'đâu bị xuyên', 'thành ra các cổ phân hóa ô ạc căng bắn giá nổi bộ ô ạc tương trí có sẵn một cơ sở kiểm soát', 'nên tài chính nhật bản phụ thuộc khá lớn vào các chính sách truyền tệ của mỹ', 'anh cất hình dị ra cho tôi được không?', 'ô bôn nghĩa là gì?', 'tăng nhiệt độ lên 29 độ', 'cần sao?', 'hậu pháp của dân dài', '12h15 rồi', 'tiếp tục tương ảnh.', 'tuy nhiên, không bao giờ đạt phá lệ.', 'pháp tiến', 'cải sát cứ thế khô giật cho đến hôm nay', 'hãy subscribe cho kênh ghiền mì gõ để không bỏ lỡ những video hấp dẫn', 'nhóm chắc rằng điều đó chứng tỏ phụ nữ tập trung hơn vào nguồn lưỡi của sự hài hước', 'phòng quá ồn, tôi không thể ngủ được.', 'những lãnh đạo cấp cao đang phải đối mặt với việc giảm lương đến mức nào nhận vẫn chưa rõ.', 'xe mỹ từng là biểu tượng giàu sang.', 'bữa ăn sinh viên từ lâu đã đơn giản lắm rồi giờ càng đơn giản hơn bao giờ hết', 'bệnh này có thường xảy ra không?', 'anh có đang thấy cậu bồn không?', 'họ phải đặt vào một bức xin và thực hiện các việc sắp cần thiết giá trị đối so với tích dịch.', 'anh gọi đánh thức tôi lúc 7 giờ sáng mai được không?', 'được năng thảo phó cho mình', 'anh thích điều nào hơn?', 'ảnh được hắt lên khoánh cổ cụt, đỏ hòn hụt hởng.', 'xin lỗi, anh có thể bình tiên mặt cái này không?', 'cảnh sát biết rằng có một nhóm bí mật hoạt động bất hợp pháp.', 'thiết bị còn gửi thông điệp cảnh báo tới người chủ khi binh sắp hết.', 'xin vui lòng cửa mang giày', 'tôi không biết chắc là mỏ tai nào', 'tao lấy đến mức lọ', 'bớ việt sống động', 'vậy còn yếu tố tích thật thì sao?', 'cái này trên tầng 3', 'việc bay của anh khi nào?', 'không, cũng phải, có quan trọng cho 2 người không?', 'tôi có thể cuốn một tờ tạp chí khác không?', 'bạn cho tôi một vẽ hàng hai điểm, xem ai?', 'xin hãy để ý đây là sách mà vừa gọi cho để ý', 'tất cả những gì nước mỹ làm chỉ đơn thuần là muốn sở hữu những nguồn tài nguyên di giá của các quốc gia đó.', 'chúng sở hữu tiếng thích chói tai và lứt thích nhẹ nhót.', 'tưởng dễ đẹp, trứng đỏ, nhiều đơn vị ủng hộ trên thành lập công ty trứng quán ngay lúc thị trường đỉnh cao.', 'thì bạn đúng không đúng bằng quyền', 'nên là phương nam cũng là fan ủng viên khi thông tin dùng do tín dụng lý do gì được hoặc', 'bà mẹ nghèo đóng con', 'mẫu xe được trình nằm trong triển lãm được giới truyền thông coi là hình mẫu của chiếc bốn cửa đã ra mắt vào tới.', 'ánh mặt các em giống rất đẹp.', 'chưa có thông tin về bệnh trinh người ở nước này', 'cho tôi bản đồ thành phố được không?', 'đều không quan trọng.', 'có lúc họ đút hai tay vào trong túi, hai vai rực lại mà đi. có lúc đánh tay thoải mái, hưởng nhịp.', 'tôi bị ung thư', 'rồi công kỳ hiệu bản', 'tôi cảm thấy rất nàng nề, tôi không thể đi tuyển chân của tôi.', 'tình yêu là mù quảng, người đang yêu không thấy, tuyết điểm của người khác.', 'bác trời gây quảng cáo biến hạch rác đô thị', 'cô ấy có gì đi chạy cao', 'đôi khi trong các sổ chí các em thích người không hề có đạn chỉ là một thứ hình dạng nhẹ.', 'hẹn gặp lại các bạn trong những video tiếp theo.', 'tôi có thể chinh một bác công', 'tôi đã từng chứng kiến bão và giờ đây tôi đang công tác tại nước ngoài.', 'có quý uống không?', 'tôi đi hải phòng còn bạn đi đâu?', 'bb giảm âm lượng về 4.', 'cũng đồng nghĩa với việc chúng ta có thể trẻ chuốt lấy khổ đau', 'gần đây lại có vụ công ty xe khách thuận thảo ở bình tĩnh, các đối thủ hùa nhau ngăn cản không cho hoạt động.', 'vâng tôi đã đến đây lần đầu tiên cách đây 5 năm', 'chăn băng, chăn dịch chỗ nào cũng có.', 'tôi có thể xem mùi của kim ở đâu?', 'cô ấy cần một bóng đèn 40w cho đèn về bàn.', 'quả vợ hai con', 'chị em có cách thử hỏi thông tin của các bạn được không?', 'làm ơn đối mái tôi với cảnh sát.', 'đầu tư cho dự án xây dựng nhà máy sản xuất điện thoại di động tại đà nẵng.', 'vui lòng chuẩn bị cái này ở hải quan đằng kia. chúc và lại vui vẻ.', 'một dãy khắc lặn phép dầu theo tâm quan.', 'tv giảm âm lượng về 1', 'cô vệ mặt hàng đó', 'tảng đất khó, hình lục lăng mát lặng.', 'điều tắt do ngọc nước', 'có phải tao từ sydney đến kia không?', 'tôi sẽ lấy phong ngài', 'vị ngôi vàng này', 'họ có chiến thuật tốt, hiệu quả và nhiều cầu thủ có kỹ thuật đá nhân điêu luyện.', 'rồi lòng vẹp lên thì an.', 'tôi muốn dựng màu.', 'đông chú bị kẹt ở đây.', 'một trong ba người này làm giám đốc một công ty sản xuất hàng hóa', 'sếu đau đỏ hiện tại tên anh', 'nghĩ gì có thể dùng điều này được không?', 'con đường dài lắm, sao anh để em đi một mình?', 'chỉ cần gọi bác cứ lúc nào anh muốn nói chuyện với tôi.', 'rộng biến thăm lấy hết đồ đạc trong nhà', 'nó nào ở đây,', 'nó rất ngon', 'cho nên, mặc dù có chất lượng tốt nhưng giá thành của nó lại rất cao và có ứng dụng rộng.', 'nếu nụ y âm đang ứng tinh thì có thức nụ, có thức mộng thì có thức nụ.', 'chính vì vậy mà không khí tết dường như đến thật hơn.', 'làm ơn cho tôi loại thị hai.', 'mưa sầm sạch vừa ra ngồi trời, quần áo chịu lập tức ướt sống.', 'bị rủi việc, bác giao đi sát ông vũ', 'ngỗng cũng có khả năng ghi nhớ từ trước tới giờ, tôi khả cổ vẫn tưởng rằng, não của ngỗng chỉ có thể lưu giữ thông tin và dây.', 'chuyên sản xuất của lã chủ tịch phọng yến và họ đổ mãi mãi vào sự trách.', 'còn yếu tố tinh thần thì sao?', 'tôi muốn đăng ký một chuyện bay đưa được an-10s đi new york, rời hành vào ngày 15 và quay về vào ngày 13.', 'xin lỗi, tôi có thể tìm một đại lý lưu hành ở đâu?', 'quý vị có phòng dành cho một đêm không?', 'cô ấy đang rất mong anh.', 'có tiếng gì rào từ xa đến gần', 'một số cổ động viên còn dùng những lời lẽ thô tục chửi với lực lượng công an', 'anh nhanh cho tôi một kịp nhận được không?', 'tv tăng tiến ninh 6', 'chúng tôi sẽ trả phòng khoảng giữa trưa', 'honda đẩy mạnh sản xuất ở nước ngoài.', 'pv giảm âm lượng 17.', 'con nạn ruột hãy dính sốc và xuống thoát.', 'thì thôi, một mình tôi sẽ thể thao.', 'tôi cả nói trước thứ sáu.', 'ta hãy nghĩ một chút', 'trả lời cá ehkä�� εί�', 'hãy subscribe cho kênh la la school để không bỏ lỡ những video hấp dẫn', 'giá 100 là bao nhiêu?', 'tôi có thể thanh toán cho nó bằng đồng biên nhập không?', 'quý vị có bị đau hổng, các kiện chứng, cảm lạnh hay cũng không?', 'một nghệ sĩ đích thực là phải lao động quần quật để mời gọi cảm hứng đến', 'được, tôi sẽ làm ngón ngay', 'hãy subscribe cho kênh ghiền mì gõ để không bỏ lỡ những video hấp dẫn', 'ngoài vài chân bóng đá cầu lông mà chúng tôi mới làm lại thì hầu như chẳng có gì mới.', 'lê', 'tổng số tiền là 243 bao chứ nè', 'hầu hết dựng nằm ở bên sông, biển nên đã ăn hàng nên...', 'nhìn nó vậy mà giỏi gì?', 'tôi có thể nói mấy câu được không?', 'tuy nhiên các nhà khoa học châu âu vẫn chưa gửi ý với kết quả này.', '8 tổ chức công đoàn nội đức tạo thành binh đoàn lao động đức.', 'nói chuyện tỉnh trọng nghe ghê quá', 'với một nửa tá', 'tôi cần một cái gì đó cho tạo bói.', 'vâng, đây, max, sachiko và yumi sẽ có bữa tiệc.', 'tuy nhiên anh thì ngược lại, phe nào phe nấy tin nhau, đã kích cụ tướng của mình.', 'phòng có mấy lạnh không?', 'sau khởi ngã của việc nghe bàn đường của mức trống', 'cô gái kia yêu cầu gia đình không được báo với công an nếu không còn nguy hiểm phải tính mạng', 'được, được anh.', 'nhà nước có thể hỗ trợ giá thuê bằng cách miễn giảm tiền sử dụng đất, miễn giảm thuê.', 'vui lòng mang cho nó mùi ít cái liếc', 'công an hiện tại ngãi đã trợ tập bố mẹ của cháu lĩnh làm nghiễm dân lĩnh và gọi thị trị để lấy lời khai.', 'bạn có những món hàng khác không?', 'tv giảm tiếng về 1', 'cha bà dì cũng đổ việc cho mẹ', 'tuy nhiên sự việc vừa đi qua chứng tỏ ông đã bắt đầu lo lắng cho an ninh của gia đình mình.', 'một thành phố như thế xứng đáng được các...', 'cảm ơn các bạn đã theo dõi và hẹn gặp lại.', 'chúng ta có thể bắt đầu không?', 'phía bên phải cơ thể tôi bị lau rất rẻ', 'người dân kế cập với dịch vụ hoạt viện', 'có cái gì gây ra tên câu này không?', 'tôi cần phải về nhà bây giờ.', 'không chỉ có mức lương trung bình thấp nhất trong đồng bất áp, mà còn đặc lực của các hiện tượng an ninh.', 'gia đình park cho biết bộ phim tỷ bán ông, đồng thời dọa thể viện bộ phim này không được phép chiếu.', 'thông tin này dự định sẽ được dùng để đỡ gánh chi phí ăn sức xã hội cho các sủ doanh nghiệp và quyết thích họ thuê thêm lao động.', 'vui lòng cho tôi biết cầu sẽ khởi hành đúng giờ không?', 'mẹ có đi hết rồi', 'nguyễn thủy đối với nhà đầu tư trong nước kém yêu đáy hơn so với đầu tư nước ngoài.', 'đồng hồ tôi chậm 3 phút', 'cô ri chỉ mến và giấc mơ toàn cầu.', 'lên các cuộc hiện phóng vấn và thực hiện phóng vấn.', 'tôi sẽ che ta thuốc cho ăn', 'khách hàng chờ nhận hành ý thất lạc', 'tiếp theo các anh lượm', 'trường là người rất có kỹ thuật, nhưng làm việc hơi cẩu khả một chút.', 'có lẽ bạn đang nghĩ rằng bạn vẫn luôn tương tự một cách đúng mục.', 'bộ kháo dở phần vi phạm ngay như quận bình thạnh', 'bạn sẽ chỉ huy một hạng đội gồm các tàu chiến chiến hạng.', 'bác tư rê', 'tôi sẽ ở nhà một người bạn tại new york', 'cái này hoàn toàn tự động, vì vậy anh cần bấm nút mở ống chính.', 'vẫn của quý vị cậu mà đen bao lâu rồi?', 'khát mộng tủ', '4d go', 'con trai của họ ăn nhiều nhất.', 'anh có nên trình lễ không?', 'xin chào, vui lòng ngồi máy cho tôi đến bàn tập vào.', 'chúng tôi phải đi bây giờ, tôi rất thích bài du vụ.', 'hôm nay, chú không ở đây.', 'mưa sáng có gì', 'cứu bọn chị ra ra', 'do vậy, việc y áp sơ tẩm là hoàn toàn khó chứa sở.', 'độc cơ bị nóng quá', 'hầu như không ai tùy dù những cân nhẫn của mấy người là ai đó, thì mình chỉ có kiểu kiểu đồng.', 'tôi đến cùng bạn tôi được không?', 'chừng nào thị phố bị đóng cửa, thẻ nội vượng có xe đi.', 'đây là một áp lực nặng nề đối với các đơn vị sản xuất thép.', 'sản phẩm đã được miễn giảng thuế, chủ yếu phục vụ thị trường các tiền liền, nên lang bộ đã biến khỏi những khởi.', 'tôi nói, cậu có nghe không?', 'các bạn có thể lại mã điểm không?', 'tuy nhiên, gà bán vẫn giữ mức phá cao.', 'có một số câu hỏi về điều khoản số 8.', 'tôi thường có nhưng tôi thích thì hẹn.', 'ngày mai chúng tôi phải dậy sớm.', 'dòng sản phẩm thảm rỏ, thôi miến mọi ánh liên bởi chi tiết chụp nếp mềm mài', 'với dầu và bụng mặt nạ táo và mật ong để giúp bạn cải thiện làn da', 'và tăng khả năng sinh tạng.', 'tại bữa cơm, nhấp xăm chán rượu, bãi đưa, tưởng thấy anh bỉnh kêu đám khó uống.', 'mà điện sản xuất. lại như vậy, có thấy evn đã đọc gì đâu?', 'anh có thích gặp nói chuyện sao không?', 'làm ơn cho một ly rượu vắng đỏ được không?', 'chào tạm biệt.', 'với một nguồn đối vạn truyệt nước.', 'con biết nịnh bố mỗi khi thích món đồ chơi nào đó.', 'bạn muốn uống loài dược nào?', 'tại cuộc họp công nghiên quốc bảo đảm định thời gian tới sẽ tập trung điều hành nhằm tháo gỡ khó khăn kề vốn cũng như thủ tục hành chính, phục vụ sản xuất, nhập khẩu.', 'dùng thuốc ngay khi thức dậy, hình sáng.', 'ồ, mà đưa đi', 'nhiều lần chỉ góp ý, ông đã hứa sửa lịch cho hợp ý xong, chỉ được tâm ứng nửa tháng, còn việc giải đấu vào đấy.', 'bạn tính về mắt to hơn luôn', 'còn gì nữa hơn với một tình cảm suy nghĩ bằng quyết định tham dự cho đội nhà trong ngày sinh viên.', 'bắt đầu lướt ngấy dây', 'con của quý vị bao nhiêu tuổi?', 'vui lòng mang cho tôi món khai vị', 'lập trình viên đa số đều bị tâm thần.', 'tôi muốn thời gian đó quan sát và tư duy, nhờ đó mà có ý tưởng điều chỉnh nhịp đèn anh tốn chia sẻ.', 'mặc dù có vẻ gây đến giấu, bạn rất sợ bị bỏng.', 'nhà hạt mở cửa lúc mậy dơ', 'hãy subscribe cho kênh ghiền mì gõ để không bỏ lỡ những video hấp dẫn', 'mọi người nói là giá là 80$', 'chiếc này dành tiên tổng thống mới đắc cử của mỹ xác nhận đã chuyển tới mật vụ mỹ chiếc xe dành cho tổng thống mới để thay thế chiếc xe cũ.', 'nhưng tôi không muốn bạn tin tưởng vào bất kỳ điều gì.', 'không thể phất lờ nặng pháp', 'hoa nhận lời yêu thật', 'bọc ta anh thấp dẫn thiêu tỉ', 'các em nhớ là đăng xuống đi', 'cô ấy bị mất tiệm ngân hàng', 'còn thay đổi thằng kia?', 'cái cáiiko .', 'tôi hy vọng thời tiết sẽ sớm tránh rủa', 'bàn đường theo cua trọt nhắc có chân ổng khung', 'chú vị cỏ làm ếch được mất khả năng sinh sản.', 'bạn có thể bật máy điều hòa lên được không?', 'quý vị ngủ lắm', 'chủ yếu thuê dĩ lại biện tài mật vừa chưa?', 'tôi muốn trâu dồi chiếc xe đăng nha của mình.', 'trên ca cộng 1', 'làm gì để bảo vệ sự an toàn của dân hàng?', 'tôi đã bị lừa', 'vậy kế hoạch của anh cho ngày mai ra sao?', 'tôi uống từ ngoài nước được không?', 'nó có hướng dẫn sử dụng không?', 'có người còn không đừng ngại so sánh ánh mô tuyệt biệt với các tiêm nhập của nước ngoài.', 'bạn có quan tâm định vụ vụ không?', 'bản báo cáo cũng chỉ rõ, ở việt nam hiện nay, những hổ tục hay những suy nghĩ cũ tồn tại ở nhiều vùng dân tộc thiểu số, thậm chí cả ở các tỉnh thành lớn đã khiến cho sự bất bình đẳng giới cũng như tỷ lệ tử vong ở phụ nữ và trẻ nhỏ vẫn rất cao.', 'cũng chẳng còn trúng tính quần áo mới', 'cô đang tìm riêng', 'một chồ biến mật à, ý bà là có.', 'cách quản lý cần gửi mở', 'bệnh này có thường thải ra không?', 'quẹo tay lại và đi vòng ca khúc', 'anh ấy định đi qua đám cơ.', 'hãy subscribe cho kênh la la school để không bỏ lỡ những video hấp dẫn', 'xin lỗi ông, cho tôi lấy hóa đơn được không?', 'các mảnh có rìa thích được tha vào cán gỗ và ránh chặt bằng nhựa thông.', 'đuôi lòng không bỏ đôi kỳ dạng kết toán hay', 'người hỏng phải đặt tầng, trình diễn vùng hoặc vòng vọng đến tận phiên.', 'được rồi, chút nữa tôi sẽ massage cho ngài chỗ khác.', 'không lẽ ước mệnh đó của tôi lại phó đi thế sao?', 'thời gian đọng má lang, cả đoàn kim sống vai tháng tơi đến vùng nửa lượng sơn hoa binh.', 'nhiều trụ cột và các mạch bữa đều mục rổ.', 'làm nơi nấu nướng đặc lụi', 'cách tham quan cũng đánh phố môn quan về hành trách kể từ hội ế.', 'tôi e rằng ở đây không, tôi không chấp nhận.', 'tôi chỉ có tiếng thảnh nghĩ trong loại pháp giữa chữa hoặc từ má hoàng, lạ lắm vẫn tạo được sự dính khởi với những trẻ nhỏ.', 'con nhỏ mở cái túi quất đeo trên cổ.', 'họ không cho phép anh được nha', 'nguồn nước ở đây đã bị nhiễm mạng, nhiễm vèn và nhiễm quẩn bởi thói quen thái giác trực tiếp ra sông, lượng thuốc trùi sâu dùng trong nông nghiệp và việc xây cầu cạn ở cuối dòng sông cũng là lý do.', 'đây có thể là kế hợp nảy sinh tiêu cực rơi sắc thoát lớn.', 'bước 6 sẽ bị tội gây dựt trật tự công cộng và tác hại lớn mà việc bước 6 đã bị cấn hẳn.', 'cảm ơn các bạn đã theo dõi và hẹn gặp lại.', 'điều này đọc thức thôi.', 'trước đó, tôi về mở hộp thơ điện tử ra, nhận được rất nhiều lá thê của người hâm mộ, yêu cầu tôi về quê hương đi, và tôi biết đã đến lúc nói lời thành viên.', 'các kết quả thét nghiệm có bí mật không?', 'toàn là đồ dùng cá nhân.', 'đừng lại', 'nhưng với ít nào khả cực cung cấp,', 'chẳng tôi tham quan của tôi.', 'quý vị có cục u hay tổ chức nào ở cả hai bên cổ không?', 'tv đăng tiếng ninh chính', 'rồi, cho phô phát tây tiết này.', 'các đầu viên còn chỉ biến ra nhiều loại cửa khác nhau bằng cách chuyển dịch vụ, một trong hàn quốc, trung quốc, nhật quốc, hàn quốc, hàn quốc, hàn quốc.', 'anh có thể cho tôi biết số điện thoại của jerry hart? h-a-r-t anh ấy ở tại phố 12, phố pinwall street.', 'anh có thể cho tôi biết số điện thoại của jerry hart? hart a.r.t. anh ấy ở tại 412 phố kingwood, st. petersburg.', 'hậu quả là cấu trúc sản xuất của việt nam cũng bị méo mó nghiêm trọng', 'chuyện đi hay quá!', 'anh chắc là đói, có cả nướng trong cỗ lạnh.', 'xin lỗi tôi đã không để ý.', 'vui lòng cho tôi xem cái giống thái từ đồng chinh máy ở cửa sổ.', 'mở tv', 'các hoa hậu chúc mừng và bởi đầu', 'cần phải bỏ những suy nghĩ cũ kỹ, cổ hú, diện bộ ảnh nhã nhặn vừa vặn của bút hà đẹp hơn ở lẽ hỏi dưới.', 'với vỡ cực thị mở gặp trí tèo, dịp ăn đã diễn rất đạt và gây được cảm tình với ban giám khảo cũng như đông đảo khán giả.', 'video', 'thưa anh, tên của anh là gì?', 'còn họ đang bị công an tạm giữ.', 'tôi có thể lấy gì cho anh?', 'đây là 20 đô la và anh có thể giữ tiền thối.', 'bà 277, anh có thể nói chuyện với cô ấy, ở một chỗ mày có 1 năm ký, cô ấy nhìn nói như...', 'mọi sự tương nhiên vô nghĩa và vô dụng với tôi.', 'cho dù ngôn ngữ của bạn có là gì đi nữa', 'tôi muốn gặp về một bác sĩ trên vệ tài.', 'giá cao bắt đầu hạ nhiệt', 'cách tốt nhất để đến khách sạn plaza là gì?', 'nghe ý tóc', 'quán cà phê anh em mở, làm vừa ngón bức kì.', 'vui lòng dùng máy xe rốt', 'học tí đến giờ nó được gọi là thanh niên', 'tôi không có em trai', 'bộ mặt của mình vừa không được v cortex', 'đạo chích người nước ngoài phá xuất', 'cô tham gia vào cổ lạc bộ quân vượt', 'vừa phải nuôi trong các môn cố bị trình thông ngốc đâu lên được', 'hãy subscribe cho kênh ghiền mì gõ để không bỏ lỡ những video hấp dẫn', 'quý vị khuyên tôi khi nào thì có thể thay các lột xe này.', 'tên tôi là suzuki, tôi đã đặt phòng cho đêm nay.', 'ông tổng giám đốc doanh nghiệp bảo trợ xã hội làm người đã hỗ trợ xây dựng ngôi nhà từ những giai dựa, lòng ngỗng và cũng là chủ tự án này.', 'thông minh, có năng lực, chẳng hạn, cẩn thận và có lòng tin', 'tôi muốn biết về sự chám giảm giá dành cho sinh viên.', 'bạn có kiểu giống thế này màu nâu không?', 'trượng vong anh thua mấy?', 'chúc mừng về ngôi nhà quậy của bạn', 'giá đậu xe một tiếng là bao nhiêu?', 'xây dựng nhà máy ở nước ngoài.', 'giống như ngủ trong phòng lạnh nhất, mặt lớn với những điều phát diệu, tựa sợ. còn ở phòng ấp nhất, những cái môi êm ái nhẹ nhàng đã đến trong tiếng ngủ của những người ở đó.', 'do đó không thể nào nhầm lẫn được giữa một mục vụ người người.', 'hãy đến gặp bác sĩ để khám.', 'tôi có thể dùng thẻ này để được giảm giá không?', 'như anh chết trong buổi tắm hợp với yêu', 'cảm ơn các bạn đã theo dõi và hẹn gặp lại.', 'chuyên nghiệp diệt khoản ngân họ', 'toàn bộ quy trình điện toán hóa thư viên do công ty lạc việt giúp nghiên cứu thiết kế', 'đi với tầm lạnh cả phục hướng', 'bên cạnh đó cũng phải an toàn hơn.', 'lẽ ra anh phải ở chùa chứ', 'nhà nước không để những người nghèo đã được vào học mà lại không thể tiếp tục đi học.', 'tôi muốn thay đổi chứng may của mình.', 'cho tôi một cuộn phim khơi sáng ba lần sau.', 'bạn có thể ở lại đây lâu như bạn muốn', 'gai trốn', 'anh giải ý một nhà hàng pháp ngôn được không?', 'nên sau tổ chức tuyển sinh của các trường,', 'như tọn không?', 'tôm nay nhìn mắt, tôi kháng lại tưởng.', 'anh ta có cả tình không thân thiện', '2 đứa vừa anh đi cùng', 'các dự án mở rộng cũng đã phải định những tác động xấu đến quá nhanh trên diện rộng và lặng lẽ hơn so với những gì chúng tôi định nói.', 'xin lỗi cho tôi một cậy đĩa để chia ra được không?', 'tôi cho rằng không có vấn đề gì', 'vui lòng sắp xếp một chuyến bay khác để tôi có thể chuyển sang a123.', 'định lực anh', 'anh có bao giờ đến tokyo chưa?', 'cảm ơn các bạn đã theo dõi.', 'bạn có thể nói cho tôi biết về nhà hàng truyền tấm không?', 'trước đây có ai trong gia đình quý vị từng có vấn đề ở bụng không?', 'từ vệt bộ hóng nâu trầm', 'và thi đấu đại học quân diện bắc kinh.', 'quán canh người lạnh', 'ông cường nhận định, lượng khâu thép sản xuất ở trong nước sẽ không tăng đáng kể, ít nhất là cho đến cuối năm sau.', 'nó xảy ra không có gì là ngạc nhiên.', 'và lời cảnh báo đã xứng trở thành sự thật.', 'với hai cổ tay treo lủng lặng những túi sót.', 'trong cái nóng oi ảo của mùa hè, các loại vật cũng có cách tự và mát cho riêng mình.', 'nhưng rất tốn kém khi thay thế hoặc sửa chữa.', 'bao nhiêu tiếng bằng xe buýt đến lê đan vậy bác ơi?', 'còn đây là thế giới của dây dép.', 'không hấp dẫn', 'cái giá của một anh hùng', 'các bạn hãy đăng kí cho kênh lalaschool để không bỏ lỡ những video hấp dẫn', 'điều đó là không thể hiểu được.', 'ho mãn lâu ngày ấy và bây giờ', 'ba tôi sẽ về du năm nay', 'hãy đăng ký kênh để ủng hộ kênh của mình nhé.', 'không nhà tài trợ không bán vé để phục vụ các bạn sinh viên', 'rẹp phần mối miệng ra', '3 tháng cô ấy thả mới.', 'lý lâm đức tơ bảo nhật', 'có tui đến charon không?', 'xin lỗi, anh có thể bán theo đơn này không?', 'phải chờ tới khi ối ra nhiều trở lại thì họ gầy mới biến mất.', '6667', 'cô thủy cũng có linh hồn à', 'trừng khoản châu âu trượt giảm khiến thứ 4 lên tiệp, cổ phiếu cuối 2 tháng mất điểm', 'đầu góc nhất thu về loài nhím', 'chuyển tiến kiến xử diễn ra trong 2 ngày.', 'chào, rất vui được gặp anh', 'kiểm định chất lượng giáo dục theo chỉ đạo của bộ giáo dục và đào tạo.', 'hóa ra vị khách bỉ đang công tác tại bảo tàng lịch sử và nghệ thuật hoàng gia bỉ.', 'cảm ơn. anh cho số thiết dụng để giữ phòng được không?', 'mồ hôn trên cơ thể người mồ hôn đi', 'thằng dư ngày càng nhỏ đi', 'thấy còn hai người đang chơi với cắt chìm giữa mã ba sông chỉ kịp đẩy em phượng lên bờ là anh hắn phải đạp nước bơi ngự ra.', 'trứng bò lùm hủ thiết người anh', 'hãy sẵn sàng ở trên sành khách sạn lúc tạm tiên năm tháng mai.', 'sư thược đứa bé mô côi được hành nhập, kiểu bách mệnh băng chó và ruột.', 'vì vui lòng mang lại địa thức ăn.', 'sư dụng kỳ đại', 'chúng ta mở trầm tả các xe lệnh hồ sơ.', 'có nhiều tiết mục mới và hấp dẫn.', 'vừa là hành khách quá cảnh.', 'để nãy lấy thiết bán cho các đầu hậu ảnh', 'chù phật ban chung như thế nào?', 'thành cách nói đùa, buông có thể bị xử lý hình dân', 'vâng, thịt bò rất ngon, gửi lại tin lời của tôi đến đầu bếp nhé.', 'đến địa phận xã nghị thuận, mỹ lộc, nam định, có một người trẻ tuổi lái xe máy cùng chiều vượt trước, bảo dừng lại để nhờ dẫn đường.', 'có một ngày lễ cho các bé gái vào ngày 3 tháng 3.', 'lá trắng nhỏ nhất để không bị phá thảm hàm ở lúc tiền của mỹ bằng khả năng của mình, họ đã sản xuất những đồng đô la mỹ và độc quyền về giá trị của nó.', 'các bạn nhớ đăng ký kênh để ủng hộ kênh của mình nhé.', 'vui lòng để tại phòng chờ quát ảnh ở phi trường.', 'tôi có thể mua sách ở đâu? gỡ anh.', 'nãy giờ sao toàn nghe chê không?', 'truyền lãm trưng bay 7 mùa tạp phẩm của hoa sĩ trương hạnh minh', 'theo tôi, ở đây bạn cần một ô tô để đi đây đó. tôi không còn cách nào khác là thuê một chiếc ô tô.', 'chân tôi là noriko tanaka', 'nhân viên giải thích lý do là mấy khách hỏng không thể gửi lệnh chỉ đặt ra là được.', 'những ngày hè sôi động và các món thể tháo ngoài trời thật hấp dẫn', 'tàu từ saitama vào ở sân ga nào?', 'cậu bị mất mạng anh', 'tôi mong lòng được ăn đồ ăn nhật bản', 'sẽ còn một ít ngủ ăn bằng hàng.', 'cố lên bảo mình xếp in trong 11 giờ đến.', 'anh có bị chuyển động gì trong đầu không?', 'tốn 20 phút', 'người đàn ông này kém còi', 'sẻ hỗ sách', 'phần nào khiến giải thưởng ngành múa khá thơm tụ.', 'tôi vẫn không giấu được những nỗi bực lòng.', 'vĩ bảo, những người có tuổi tác ban đầu thường dằn vặt về quá khứ, nghĩ về những ngày dữ địa vị ngoài xã hội.', 'nấu gội cơm mì vác', 'ừ ừ ừ ừ', 'hàng mai là tuyến đường chính và có nhiều phương tiện luôn không?', 'bác', 'khi hai người đối tên hôn bất ngờ từ trong nhà gần đó chạy ra, tay cầm chiếc cửa, lao thẳng vào chém anh lê văn dũng.', 'cô anh chụp lệ hắt lên vách liệp một cây vầy rễ xiên.', 'chúng ta đi chung.', '912, 913', 'cài đặt lại phần mềm tốn cả ngày.', 'chỗ ngồi này không có trong khu này.', 'anh có thể chỉ cho tôi cách ăn món này được không?', 'có khá gần', 'cãi nào gần nhất?', 'cô sẽ đổi lại với chị châu. cảm ơn chị rất nhiều. tạm biệt.', 'bạn đã bỏ lỡ một cơ hội hay đã bỏ lỡ thứ gì đó?', 'tôi muốn tham gia một tour thành phố.', 'người dân cố thủ tại chung cư sắp sập', 'thêm 2 đô la mỗi buổi buồn bàn gọi 1925 không?', 'nhã chấm nhỏ nhất để không bị phá sản là thả rút tiền của mỹ. bằng khả năng của mình, họ đã sản xuất những đồng đô la mỹ và độc quyền về giá trị của nó.', 'theo tỷ giá hiện nay, tôi sẽ nhận được bao nhiêu euro?', 'đại này có bảo hành không?', 'tôi đang dùng insulin', 'chẳng phải là bệnh hiểm nghèo nhưng chỉ vẫn là bệnh tê khó chịu cho bệnh nhân, bởi làm cản trở công việc của họ, lúc làm việc cũng như lúc ngủ, họ vẫn phải lo nghĩ, giáo dư nghĩa loái.', 'xin lỗi, anh có thể bị chuyển mặt cái này không?', 'đó là điểm.', 'cần phải bỏ những suy nghĩ cũ, kỹ, cầu hủ, điện, bộ, cánh, nhã nhạc vừa vặn sẽ giúp hàm đẹp hơn ở lễ hồi cưới.', 'kính được tiền dễ dàng nên vương rất hào hóa, sẵn sàng chiêu đại lộ bạn ở nhà sáng trọng hay đàn đấm ở trong con chơi.', 'cựa chai còn gọi là mang cá nhỏ.', 'học phần trường sở dạng hình đi vơi ra bên bãi.', 'tv giảm âm lượng về 0', 'xin lỗi, trải tóc tôi giống như hình này.', 'kinh tế mỹ tiếp tục lúc sau thêm vào cuộc hoạt', 'đường thì tôi xem cái ảnh đồng hồ thự 3 ở bên trái', 'bé kim nhiều đêm đang ngủ cứ giật mình méo máu bố ơi mẹ ơi, khiến thằng trường phải ngồi dậy dỗ em suốt đêm.', 'giảm nhiệt độ xuống 25 độ.', 'hàng ngày nằm mặt nạnh với nhau nhưng những gì phải dựng dưới hỏi cổ bàn cô vẫn diện thật đẹp, phát tùng trồng, gời lói rất vui vẻ.', 'để luôn nhớ mình là sinh viên vị.', 'cùng 1 anh trên đời về', 'tình huynh là gì?', 'cứ thân hạnh, khi nào tôi sẽ gặp lại.', 'tên tôi là tenko yamada, chuyến bay gal 0024 tokyo.', 'trong phổ biến là 253 phao cơ mẹ.', 'tôi muốn mua cái này cờ chú bình.', 'giám đốc ba cọ lè là chủ nhân của một trường nam thoài, anh hữu.', 'kênh mọc tv', 'có phải nó thực sự có hiểu vậy không?', 'tối xe kèo v312 trong quần', 'có đủ thời gian để chuyển xe không?', 'ồ, tôi đã lỡ chạm đường xe buýt của mình, có phải làm gì?', 'kiếp quá, tôi phải làm gì bây giờ?', 'một mẫu rui về phía sau đầu, còn mẫu kia hướng về phía trước mọi.', 'tối mực 10b', 'đưa tôi về cái xã.', 'dự luật này được trông đạt sẽ thu hút được sự ủng hộ từ các đảng.', 'rủ nhau kết lại với ông để hùng hành ban tử hiện dân lập gồm đủ nành nghề thợ mộc, thợ hồ.', 'vài ngày lượt đẹp ố hào', 'có được dùng điện thoại của anh không?', 'các em hãy đăng ký kênh để ủng hộ kênh của mình nhé.', 'cách tốt nhất để chăm sóc làn da là tránh cho da tiếp xúc với ánh nắng mặt trời.', 'tôi thích các bộ phim hành động và lý kỳ.', 'vui lòng cho thứ nào đó phục gan', 'nhóm sinh viên tại trường cùng họp mặt ăn tết chung', 'thế nhưng đối với vượng thì khác chỉ vài tiếng thích tháo, nhưng đã thu phục được cả hai chú chó rồi vào nhà, hù hả?', 'về nước tôn đông đủ các chất bẩn bén ngon dưới đáy, nắp đầy đà bóng tróc', 'tuy vậy, stubas cũng cho rằng cần phải tính đến cả yếu tố cá nhân.', 'chính ta thật may mắn, cửa hàng alamoan vẫn còn đủ số 4.', 'tôi muốn mua nỉ tại cam này bạn vui lòng gửi chúng tới nhật nhé', 'đừng thay đổi kiểu, nhìn cắt một chút.', 'cái này có bao gồm dạng bữa ăn sáng không?', 'xin lỗi, có thể cho tôi một thẻ điện thoại không?', 'rồi cô bình trợ được sưu trú cùng cô khám.', 'tế quản biệt dịch hẹp, khiến tệ thờ kho khe thâm trị rực lên', 'xin lỗi tôi bị lạc đường, anh có thể chỉ cho tôi đường đến khu phố người hoa không?', 'ai đó bị thương', 'những dự án này đã bị hoãn vô thời hạn, không những vậy, hãng xe nhật cũng dừng phát triển động cơ, hiện chỉ có hệ thống động cầu trước cạnh tranh với xe mũi dài.', 'xin lỗi, ảnh của chị em chỉ là mạng đồ sưu dục cho tôi thôi không?', 'tôi muốn thuê một đôi chạy trượt.', 'không đáng đề cập đến', 'thủy tích có thể để lại quyền nợ bởi một nhà độc tài đầu mỏ nhưng cũng có thể giúp thể chế hóa những phong trào chủ nghĩa diễn ra tại khu vực trung đông.', 'những bộ nã chỉ giảm hoạt động về đêm sẽ suy nghĩ hiệu quả, triển vọng và dẫn đầu cả đội.', 'cắt điện thoại phòng an', 'anh có thể giảm giá không?', 'trinh người cơ hội đi địa chi', 'những khi mùa khô kéo dài, mỗi nhà vẫn phải dùng nước miễn phèn, sau khi được lắng lọc bằng dung sáp khác nhau, khi thì dùng quần áo cũ, lúc là phèn vẫn được dùng sử dụng các sỏi miễn là có nước để dùng.', 'tôi có thể ở lại ba đêm không?', 'cô gọi thầy này để nói chuyện qua ngay được không?', 'không, có tai thì sẽ tiêu biển.', 'hiện tượng này sẽ bắt đầu tại nam á, rồi dần được thấy tại hầu hết các nước, trong đó có việt nam.', '35mm tim màu âm bản 30 đấm ả', 'anh có thể giải thích tình hướng này không?', 'trưởng phòng hành chính tổ chức nhà trường', 'một quả lụ đạn được tung ra đúng lúc.', 'trông anh nhạt nhạt quá', 'này hơn người ta chớ', 'có xe tuyết máy lạnh không?', 'ông bò chơi bổng tay trên.', 'khai báo điện tử nhanh chóng thêm.', 'hai anh chị này gặp với nhau vui tân nào cũng có tiệc, hồi với bạn bè về ăn uống nhảy nhót đồ nào cũng thắng.', 'cô ấy sắp bơm nó vào tỉnh mặt anh.', 'có lẽ quý vị cần thể ra', 'xin lỗi, nhưng hình như nó quá nhỏ.', 'tôi sẽ xác nhận những gì là nội vệ.', 'vì cái oanh, từ khi mở cửa hàng trên phố thái hà,', 'chúng tôi có thể giải thích vấn đề như sau', 'bạn đi về đâu mà vội thế?', 'vẫn chứng nó hay, có vẻ là tình dụng vô ứng viên ra trong thời gian xưa.', 'nhiều hơn những trẻ khác', 'như đã đồng ý, hàng sẽ được giao cho anh vào sáng tháng 2.', 'chị bây giờ đã nhẹ ngồi', 'hãy subscribe cho kênh ghiền mì gõ để không bỏ lỡ những video hấp dẫn', 'ôi khát điều chứ', 'đây có phải xe lửa đi trang mai không?', 'hai tay đã như ra cải chúa đức.', 'mồ hôi trên cơ thể người cũng khó khô đi', 'hãy subscribe cho kênh la la school để không bỏ lỡ những video hấp dẫn', 'có chương trình ở góc đường này.', 'htv', 'món ăn của địa phương nào đặc biệt?', 'công an hà nội đã cạo sửa hồ sơ.', 'khi đối tác đầu tư tiền bạc thì mình phải đầu tư công sức', 'bạn không biết lại được không?', 'nói khó là khó vậy thôi, nước ngoài quản lý được thì mình cũng quản lý được', 'tối nay có đông không?', 'díu anh ta đâu khi anh ta dìu ở đây anh ta?', 'chức danh chính thức của quý vị là gì?', 'anh muốn họ thấy thế nào, icô là? anh muốn mò gì vào trong hai mắt dưa của anh?', 'cái đó là một việc tiện ý', 'chồng tôi bị đau tim.', 'cùng trận vào ngũ, hai đối tượng khác chuyên làm điện phủ dương người trao chương quốc là nguyễn vũ hằng và võ cảnh dũng cùng chú tại bắc giang cũng bị cảnh sát bắt.', 'hãy subscribe cho kênh ghiền mì gõ để không bỏ lỡ những video hấp dẫn', 'tôi sẽ thử bánh thức đinh', 'cái này không vừa, anh có thể đổi nó lấy cái khác không?', 'bên chi bộ chưa có quyết định chính thức.', 'hạ viện mỹ vừa ủng hộ một đạo luật trong đó kiểm soát chặt chẽ hơn nữa hoạt động xây pháp dịch việt.', 'giấy phạt đây, anh bị phạt 25 ringgit.', 'chúng ta sẽ trực hợp góc của khác.', 'các phân quốc cảnh sát không?', 'cạn nào tiền lời nhất để đi định nơi này bằng chơi bít hay xe điện?', 'thời gian từ đầu đến cuối là bao lâu?', 'vậy điểm thuật tuyết đâu?', 'địa điểm chạm đứng trên môn ép ở đâu?', 'chỉ có thể mua vé qua điện thoại', 'vui lòng cho tôi cải dì chị, học tốt', 'tôi không thể ăn ngọt cái này quá dài', 'trị phú đức tự tử vì phục hoạch chức tế', 'năm qua họ đã cố gắng ngào lái một lúc hai hãng và để không bị thủng hoảng như các hãng khác của mỹ.', 'tôi muốn nước cam trứng trộn một bánh xốp và một tách cà phê', 'tôi đặt một phóng hai dưới.', 'ma lan gọi truyền chi vậy bàn vầy, đông bàn buông quá.', 'chính thường thầy ra trong những vùng biển sóng vỗ.', 'cắt điện hòa phòng hợp', 'khi nào tôi sẽ giao diện được', 'sẽ phải tốn 2 ngày vì anh mới vừa ăn để xuất viện.', 'hiện nay theo nhận thức của đa số người việt chúng ta nhà nước pháp quyền là nhà nước quản lý xã hội bằng pháp luật.', 'bác', 'câu chính tuyên bố kết thúc cuộc học', 'não dẫu tổn hại nặng vật thải sữa, mặc dù đã gần, nghi tiết rõ về các gây bệnh cũng như tạm hạn mà đệnh nhân sẽ phải chịu cả đời, nhưng đến nay, giới y tí vẫn chưa tìm được biện pháp giới hiện nào điều trị tâm tận của nhau này.', 'trên thăm', 'bạn có thể cho tôi thêm vài phút không?', 'kết quả múc thăm vòng loại cuối cùng.', 'tôi đang tìm một công việc mới.', 'công hợp phân quan là làm gì thì cảm giác đẹp đấy ạ.', 'đại dương bắt cửa mình lên đường ngồi', 'bạn có một nhịp cười đẹp', 'hãy đứng tại chỗ đừng cử động.', 'à tôi hiểu, em đổ vào cà phê nữa.', 'một giờ thiên gia bao nhiêu', 'vịnh cũng hy vọng nhiều người dân việt sẽ được ăn những quả bưởi chất lượng thời gian tới, bởi bảo quản đã khó, nhà ăn phải, bảo quản còn khó hơn.', 'vi tật thay nghĩa chủ yếu dựa vào trần đoán hình ảnh và kết nối dưới cương', 'cho tôi một chút thôi và má tôi không', 'chị nói được được cháu ở đây là không?', 'tại vì... các phụ...', 'chụm vần vào hai mắt của tôi.', 'trước khi đến với điện ảnh, tôi kinh doanh cho thuê xe du lịch', 'đang chịu trái phép và phụ thí quanh dụng nguyễn hữu cảnh, chủ vụ trường bị phạt 7 năm 6 tháng tù, cảnh đã tự hủy cuộc đời với sự liều lĩnh.', 'anh ấy đi chưa? chưa', 'tôi có thể gửi trước hành lý của tôi được không?', 'hầu hết số mờ đông vật, têu đá hờ dãi đoan phấn hủy, bốc mùi hối thủi nông nặc', 'khoảng 45 đô la mỗi người', 'chẳng lẽ không đuổi ngủ khi ra ngoài vào trời lại không?', 'tôi không gì đòi làm một phong tích nhật bản được ghép vô nhị.', 'chiếc này dành riêng tổng thống mới đắc cử của mỹ xác nhận đã chuyển tới mật vụ mỹ chiếc xe dành cho tổng thống mới để thay chiếc xe cũ.', 'hôm nay bà em đi công tác, anh qua đây nhé!', 'xin lỗi tôi đang tắm', 'từ hôm nay bạn sẽ ở đâu?', 'các tác phẩm anh khách để ở đâu?', 'anh ấy vừa mời đến từ ánh cửa hôm qua.', 'nếu bạn không mất đâu thì mình không cần nữa.', 'tôi cũng đặt chỗ cửa hàng ra vào ngày 12 tháng 3.', 'đúng không? đúng không?', 'phước tây và nga cắt thẳng', 'lão giữa tổ hại lặng vẫn phải chữa, mặc dù đã gần như biết rõ về cách xây bệnh cũng như những tác hại mà bệnh nhân sẽ phải chịu cả đời, nhưng đến nay người y sĩ vẫn chưa tìm ra được biện pháp, dữ liệu nào để điều trị thân bệnh hiểm nghèo này.', 'ở thế chết này, những cuộc bắn đấu đá được xem là một sự kiện xã hội.', 'đối xe chơi anh nhìn đó', 'bị bắt giam vì xúc phạm trên mạng xã hội ảo.', 'khi nào quán trà đóng cửa?', 'cô đệm gái chị xe lừa băng cách nắng', 'tôi muốn nói chuyện với...', 'cố đi hải phòng, con mình đi đâu?', 'lên tới lớp thu tiền học quý', 'ăn nói sơm sở.', 'vâng, việt nam ở đây.', 'mấy giờ david đã đến?', 'nó sẽ dừng cạnh mấy', 'có đứa gọi hắn tên hải, làm cái gì ở công ty nước ngoài?', 'mấy giờ con thuyền nó mới tự hành?', 'kính là nó cảm ơn', 'đỗ đua trồng trong mùa hè lớn anh và thường có quả dẫu bị vỏ tưới, đỗ đua vẫn ra quả chiên hàng.', 'để nó cho tôi', 'các bạn có thể nhận thêm những thông tin về các bài học của mình trong phần bình luận.', 'tôi muốn hỏi anh về senpai.', 'nghĩa là khoảng 10 đô la một cuộn phim 36 tấm.', 'trẻ em đâu có chứa ngại vật.', 'tạm chứng của bộ thượng lãi dịch.', 'chú vậy sao?', 'đang diễn ra hào hứng trôi nổi.', 'của hai mùa ở miền nam việt nam.', 'chúng tôi muộn đi', 'tôi không chắc, nhưng tôi không chịu được mùi thịt, tôi chỉ muốn ăn trái thơm.', 'lúc viễn tìm được người giúp đỡ quay lại chỗ bị ngã thì nhóm cướp đã lấy xe của anh và tẩu thoát.', 'lì chạy theo nắm lấy cửa sau xe bích.', 'tôi giáo phận công việc này cho bạn.', 'liệu ngân hàng có mở cửa ngày mai không?', 'và nhận ra liền quanh ra chiếc thòng lặng bành tơ của nó đầu kia sẽ là bữa anh', 'việc bảo vệ những nguồn cung cấp dầu lửa trước đó đã là ưu tiên hàng đầu bỗng chốc lại trở thành nỗi ám ảnh của nước mỹ.', 'tiền vệ người bồ đào nha mới đây khẳng định anh đã tìm lại được niềm hạnh phúc tại m.u. bất chấp những chỉ trích của người hâm mộ anh', 'anh có nước nữa không?', 'ảnh minh tại các thành phố ảnh độ nước thấp chậm', 'những lãnh đạo cấp cao cũng đang phải đối mặt với riêng giảm lương đến mức nào hiện vẫn chưa rõ.', 'đây có phải ra thật không?', 'cỏ tu lạc nghe cựa hiếp tập thể', 'lấy cái thép làm ví dụ.', 'ví của chúng tôi bị móc ướt ở trong tàu điện ngầm.', 'tôi muốn ăn hơi tỏi.', 'mấy giờ là chuyến bay tiếp theo tới nijita?', 'giấy phạt đây, anh bị phạt 25 tuyên nghiệp.', 'điều gì cũng gần thế thôi', 'hãy subscribe cho kênh ghiền mì gõ để không bỏ lỡ những video hấp dẫn', 'anh giỏi quá rồi nhỉ?', 'chú có thể cân bạo khoảng vừa bằng không?', 'chị có cửa lớn không?', 'từ mẫu phân tích của bà vũ thị khởi, đám đốc tổng công ty tâm lý học ứng dụng nhờ phụ huynh đã hiểu rõ khoảng trống giữa cha mẹ và con cái không phải là khoảng cách về địa lý mà là khoảng cách tâm lý.', 'chưa ông có đúng 11 giờ.', 'làm ơn', 'giờ báo trên bàn vừa mới được đọc.', 'giết người cướp của lấy tiền về quê', 'tv bóng đá tv', 'tôi có thể sử dụng mặt nạ trang diễn với số rằn như thế nào?', 'không có số điện thoại', 'không giống như sản phẩm nông nghiệp dễ họng dầu có thể chôn dưới đất', 'nhưng chính các nhà máy đường đang kích thích nông dân cầm mía, vì đại giá mua mía lên cao.', 'cảm ơn xã hội đã cho chúng ta những con người có ấm lòng.', 'xin lỗi có thể nào, anh là anh không?', 'tôi muốn đặt chỗ trước cho hai người vào 7 giờ tối nay.', 'thượng tá công an này được phát hiện trong tư thế.', 'nhưng đấy là cơ chế nào?', 'chúng tôi đem chèm một miếng thịt ngắn cách đến được của liên hợp.', 'hãy đăng ký kênh để ủng hộ kênh của mình nhé.', 'mời các anh ngồi xuống đây', 'anh có uống bất kỳ loại dược phẩm nào khác không?', 'làm ơn cho tôi một chỗ ở khu không hút thuốc.', 'tôi muốn một vé thư hồi đến trạm ép', 'mời các bạn tham vấn cho bạn bảo ngọc và chia sẻ về chuyện này.', 'còn đến trong bụi diễn tuần này không?', 'vâng thì họ sẽ sẵn kết hôn', 'đừng có toan khen nhăn bịt vỡ vẩn để chấu mặt mọi người', 'những dự án mở rộng ở nhật cũng bị hoãn, hãng khẳng định sẽ chẳng xa thải nhân công chính thức nhưng 7.000 nhân công thời vụ đã được nghỉ dự ở mỹ.', 'bật chia đậu sữa ấm.', 'là người hay đòi mò tư khám phá, sáng tạo tâm hồn cự mở họ thích lắng nghe và cho một người lời duyên', 'thức uống, bánh mì và các món ăn chính sẽ được cung cấp.', 'một số lực lớn', 'mình qua thật buồn', 'căng nhiệt độ lên 29 độ', 'giá cược liền chiếc thang mai là bao nhiêu?', 'các ba vợ chảy răng.', 'anh có muốn được ít gì không?', 'hẳn tôi muốn đi trở nước.', 'cô sẽ quay lại trong vòng một tiếng lửa', 'cho tao một bát giấm', 'k, đây là noami, mình đang ở thành phố.', 'ngày mai thì trẻ con sẽ mua.', 'tôi có một thẻ ngân hàng.', 'vui lòng cho tôi kể phía trước và ngồi đi.', 'lũ trẻ nít', 'tụ tập học đòi đàn đấm thư thân mất nết', 'tối nay bạn muốn đến tập chức phim không?', 'hôm nay, nhiều sách âm thầm bán cổ phiếu nhưng không bảo cơ quan quản lý.', 'cũng như nhấn mạnh kinh nghiệm sẽ không phải tái ngôi nhìn mà sẽ dẫn đến những việc cần.', 'vâng, chính tôi có thể vui lòng cho tôi biết tên.', 'nằm giữa trung tâm thành phố bắc giang, quán phở lộ chiếm của nguyễn thiên hậu và nguyễn tuấn vũ chẳng lúc nào để viện mở cửa như khách vấn phối hạ.', 'đây là đường nút từ nút giao thông khu ăn nam sài gòn đến cầu phú mỹ và đường vần đai phía đông thành phố.', 'chúng giúp làn da khô trở nên tươi mát, mềm mại hơn', 'vì cô cử bây giờ không phải là tiếng hát rửa thế tốt nhất là bà thủy cả dòng', 'cường ấp không trả lời', 'hết ngày đấu tếp tại hà nội', 'tôi sẽ thảo phiếu tính tiền cho ông.', 'phía công an cũng sẽ có những thông báo để có biện pháp ngăn chặn.', 'họ bị thứ tưởng khi chiến thăm tăng gia đình kiến sách hôn heo ở huyền chiếc mỹ', 'anh đã làm thế này bao lâu rồi?', 'cắt đen phòng hợp', '3 tháng', 'anh bớt lần đầu tôi đi ngóng ngông', 'anh ơi, trong cạnh nhà', 'kẹo làm từ bột hoàn, đường, quế, hạt thống.', 'cô ấy đang ngồi tìm camera.', 'điều hoa làm lãng', 'nhìn cây đào đẹp', 'hãy subscribe cho kênh ghiền mì gõ để không bỏ lỡ những video hấp dẫn', 'cơn khát thêm dấu thiên, bùng nổ vượt ra khả năng đạt ứng của cơ sở hạ tâm.', 'tôi chơi dương cầm dòi', 'làm một kiểm soát lớn để có thể đụng vừa một cuộn thổ tay có kích thước tạm nhân 11.', 'tôi muốn bàn thí cạnh này.', 'do còn lượng nước trong cục cồn nhiều hơn nên động cơ ít bị nóng hơn.', 'đây có thể là trứng cá đũa hoặc mụn trứng cắn người lớn.', 'tôi muốn với cát tân lô', 'ta tiếp một mối tượng trưng cho mùa xuân.', 'hồ bạch nguồn tư long tử chí duyên thoài, ra năm gòm ra rửa đường thông minh mông.', 'tôi đang tìm một món đồ lưu niệm nhỏ.', 'chúng tôi sẽ báo cho anh ngay khi chúng tôi tìm được.', 'còn dự án phát triển sản phẩm từ mây và gỗ đảm bảo bền vững do ủy ban xã quản lý tài trợ để thiết lập hệ thống sản xuất bài bản cho các sản phẩm lây che tại việt nam cũng như nào.', 'hãy đăng ký kênh để ủng hộ kênh của mình nhé.', 'tôi bị táo bọn nhiều.', 'đó là quan điện tình yêu ở phái đẹp.', 'thấy cá ột soi dưới đè, mắt nôn nao trong ruột.', 'chào tớ xin hãy', 'phó tổng thống nga tử cũng hoảng định đội mô lãnh đạo kinh tế của ông đã lên kế hoạch thực hiện một gói xích xích kinh tế lửa với giá trị có thể lên tới 1.000 tỷ usd.', 'trong quá trình này, một số người quen là việt kiều đã bày tỏ ý với phố muốn mua dâm người bảo diễn viên.', 'ngươi vào mang cho tôi một ít nước uống.', 'thuộc dục', 'hãy cho tiền vào cùng vé khi anh xuống xe.', 'sapa bây giờ là một trong những địa danh du lịch hấp dẫn nhất miền bắc.', 'mỗi con bò đều được đeo một chữ vòng cổ gắn pin.', 'cháu có vậy một tiền đề kê tư khoản được không?', 'tôi muốn chuyển trạng phòng khác.', 'có làm đá cho chị ăn không?', 'do tôi biết tên cô ấy', 'tất cả cũng chỉ xuất phát từ thói cả nể, cố hữu dính mát sinh viên này thôi.', 'có nhưng một vài xe đại hoàn thất kiệt đua.', 'chào tụi em!', 'gói hơi ngoặt', 'nhắc tv', 'tuyết khám phạm ập của tiến sĩ phải', 'các nhà đầu tư đã lỡ ôm quyền mua, cổ phần đang rất hoang mang.', 'chúng ta gọi vai thịt người để làm', 'chúng ta có thể làm việc gì bù cho nó?', 'nhìn lên phía trái, từ khu xung cư sẽ thấy nhà thờ phú cam', 'đừng bao giờ tự mình đi vào giường', 'khoán chơi nào năm ưu tân nào', 'để hoàn thiện hơn hoặc thay đổi khi cần thiết.', 'vui lòng đưa tôi đến khu phố nguy hoa.', 'và ông nú cát phải báo cáo cho ai?', 'từ bây giờ nó được gọi là thai y', 'đó là cuộc sống, đó cũng là bóng đá', 'xin lỗi, các bạn thêm một ít hờ văn.', 'cô ấy sẽ ngứng đậu xe đến 5 giờ.', 'tại làm anh gặp bài không?', 'hạch vật góc phô tàu nước ngoài đã được báo chức chắc xác', 'sau đó thảo đồng nhiên vụ báo trở đến nhà tư nhiên trái, quốc lộ 1 để đặt tháo giữa đường. thảo chuẩn bị cho lộ thì bị công an bắt quả ta.', 'tôi muốn một ít cà phê uống liền.', 'một bức ghê bằng gỗ này đang nhiều tiền.', 'bắc đen không đọc.', 'tuần này ông thầy có vô thường suy không?', 'dạm!', 'vui lòng cho tôi một miền nữa.', 'tv tăng tiến ninh 4', 'anh có thể đối phòng tôi với một cái nhìn ra biển không?', 'tỉ như với món thiền trên ghế đá', 'tôi có thể cứ trả lý cho bác thư giãn.', 'anh có bị kỳ ứng thực sự nặng không?', 'nó không đúng', 'làm ơn cho thêm lẽ', 'để washington trả rẻ bao nhiêu', 'vân võ đạo vàng 18k', 'vì ai đang nghịch tách đi', 'khi đặt thắng, cô luôn nghe thị một tiếng ôn lạ.', 'cại nhỏ có anh tươi', 'trường tôi là một trường công lập.', 'anh có thể gửi nó không?', 'quý vị có uống thuốc của quý vị vào căn đêm không?', 'xin lỗi, bạn có thể chỉ giúp tôi ngân hàng gần nhất không?', 'và vui lòng khách đây an toàn của quý khách', 'cơ vật này không đi', 'hãng xe hạng xa của đức sẽ giới thiệu mẫu ưu đãi đầu tiên thuộc doanh mục sản phẩm của mình.', 'nó có vũ khí kinh tích của người hoạt động, nó hờ lạc thật hoàn thiện rất lớn.', 'tôi cảm thấy lành và buồn luôn. có nơi nào để nằm không?', 'tôi đang tìm một công việc mới.', 'trung được trung nhập vào nhật bản vào thời đó, trung tộc một vai cho quá trọng để thẳng một trận đấu.', 'tôi muốn trả phòng, vậy vui lòng đến phòng tôi để mang hành lý của tôi.', 'ông được nhiều người biết đến.', 'vĩ báo, những người có kể tóc ban đầu thành dòng vật về quá khứ, dữ về những ngày, dữ địa dự ngoài xã hội.', 'họ còn trang điệp, nhảy, nối rập như vậy', 'bạn có thể tìm một tờ ở một quầy mới gần đây', 'cảnh này mất quá', 'vài thạm với người chở hốc, chiếc xe lật út làm đối rất nhiều biểu báo lẫn cột đèn.', 'những chiếc thuyền sở hữu của một tộc đại lý ở đức vẫn chắc nhiều năm liền, nhưng hãi cũng không thoát khỏi cơ bá khủng hoảng.', 'kết thúc trận đấu các cầu thủ thường có trao đổi áo đấu cho nhau.', 'nguyên lòng đừng nói bây giờ, chúng ta sẽ nói về nữa trong cuộc họp báo.', 'trời có can quan đảng dân không?', 'để nó cho tôi', 'mi văn thánh và sửa cảo là hai món được ưa chuông nhất tại đây.', 'chúng tôi sẽ bay vào lúc 2h30', 'một áp thích thiên ứng']\n",
      "Tính toán WER\n",
      "Word Error Rate (WER): 36.54%\n"
     ]
    }
   ],
   "source": [
    "# Ghi kết quả dự đoán vào file transcript_result.txt\n",
    "with open(RESULT_FILE, \"w\", encoding=\"utf-8\") as f:\n",
    "    f.write(\"\\n\".join(results))\n",
    "\n",
    "print(f\"reference_text: {references}\")\n",
    "print(f\"hypothesis: {hypotheses}\")\n",
    "# Tính toán WER nếu có dữ liệu hợp lệ\n",
    "if references and hypotheses:\n",
    "    print(\"Tính toán WER\")\n",
    "    wer_score = jiwer.wer(references, hypotheses)\n",
    "    print(f\"Word Error Rate (WER): {wer_score:.2%}\")\n",
    "else:\n",
    "    print(\"Không có dữ liệu hợp lệ để tính WER.\")\n"
   ]
  },
  {
   "cell_type": "code",
   "execution_count": null,
   "id": "1ddcd313-c573-45bf-8ac0-1723dc78f059",
   "metadata": {},
   "outputs": [],
   "source": []
  }
 ],
 "metadata": {
  "kernelspec": {
   "display_name": "base",
   "language": "python",
   "name": "python3"
  },
  "language_info": {
   "codemirror_mode": {
    "name": "ipython",
    "version": 3
   },
   "file_extension": ".py",
   "mimetype": "text/x-python",
   "name": "python",
   "nbconvert_exporter": "python",
   "pygments_lexer": "ipython3",
   "version": "3.12.2"
  }
 },
 "nbformat": 4,
 "nbformat_minor": 5
}
