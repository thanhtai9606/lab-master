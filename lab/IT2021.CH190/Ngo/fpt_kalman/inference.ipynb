{
 "cells": [
  {
   "cell_type": "code",
   "execution_count": 1,
   "id": "ccb4b4c8-145e-473b-91a7-100cdee417a1",
   "metadata": {},
   "outputs": [],
   "source": [
    "# pip install openai-whisper jiwer"
   ]
  },
  {
   "cell_type": "code",
   "execution_count": 2,
   "id": "8ff3c37b",
   "metadata": {},
   "outputs": [],
   "source": [
    "# pip install ffmpeg"
   ]
  },
  {
   "cell_type": "code",
   "execution_count": 3,
   "id": "ddead78c-bba4-4b7b-b17a-dc129d3b3c24",
   "metadata": {},
   "outputs": [
    {
     "name": "stdout",
     "output_type": "stream",
     "text": [
      "import\n"
     ]
    }
   ],
   "source": [
    "import os\n",
    "import whisper\n",
    "import jiwer\n",
    "\n",
    "print(\"import\")"
   ]
  },
  {
   "cell_type": "code",
   "execution_count": 4,
   "id": "de38b478-d6ae-41ec-9559-90b2c867afab",
   "metadata": {},
   "outputs": [
    {
     "name": "stdout",
     "output_type": "stream",
     "text": [
      "Load model\n"
     ]
    }
   ],
   "source": [
    "# Định nghĩa đường dẫn thư mục\n",
    "AUDIO_FOLDER = \"./data\"\n",
    "TRANSCRIPT_FILE = \"./transcriptAll.txt\"\n",
    "RESULT_FILE = \"./transcript_result.txt\"\n",
    "\n",
    "# Load mô hình Whisper Large V3\n",
    "model = whisper.load_model(\"large-v3\")\n",
    "\n",
    "print(\"Load model\")"
   ]
  },
  {
   "cell_type": "code",
   "execution_count": 5,
   "id": "c5bdf0ba-b83f-4e34-be23-4ffcfa696016",
   "metadata": {},
   "outputs": [
    {
     "name": "stdout",
     "output_type": "stream",
     "text": [
      "Doc transcript\n",
      "Doc transcript - end\n"
     ]
    }
   ],
   "source": [
    "# Đọc transcript chuẩn\n",
    "print(\"Doc transcript\")\n",
    "ground_truths = {}\n",
    "with open(TRANSCRIPT_FILE, \"r\", encoding=\"utf-8\") as f:\n",
    "    for line in f:\n",
    "        parts = line.strip().split(\"|\")\n",
    "        if len(parts) >= 2:\n",
    "            filename, transcript, length = parts\n",
    "            ground_truths[filename] = transcript\n",
    "\n",
    "print(\"Doc transcript - end\")"
   ]
  },
  {
   "cell_type": "code",
   "execution_count": 6,
   "id": "c6605ce8-f0d2-41d0-9397-a6d49e7b1cf5",
   "metadata": {},
   "outputs": [
    {
     "name": "stdout",
     "output_type": "stream",
     "text": [
      "Processing: FPTOpenSpeechData_Set001_V0.1_000001.mp3\n"
     ]
    },
    {
     "name": "stderr",
     "output_type": "stream",
     "text": [
      "/home/ngo/anaconda3/lib/python3.12/site-packages/whisper/transcribe.py:126: UserWarning: FP16 is not supported on CPU; using FP32 instead\n",
      "  warnings.warn(\"FP16 is not supported on CPU; using FP32 instead\")\n"
     ]
    },
    {
     "name": "stdout",
     "output_type": "stream",
     "text": [
      "reference_text - predicted_text: cách để đi - sắc lệ đi.\n",
      "Processing: FPTOpenSpeechData_Set001_V0.1_000002.mp3\n"
     ]
    },
    {
     "name": "stderr",
     "output_type": "stream",
     "text": [
      "/home/ngo/anaconda3/lib/python3.12/site-packages/whisper/transcribe.py:126: UserWarning: FP16 is not supported on CPU; using FP32 instead\n",
      "  warnings.warn(\"FP16 is not supported on CPU; using FP32 instead\")\n"
     ]
    },
    {
     "name": "stdout",
     "output_type": "stream",
     "text": [
      "reference_text - predicted_text: họ đã xét nghiệm máu cho cheng nhưng mọi thứ vẫn hoàn toàn bình thường - họ đã xét nghiệm mọi người, mọi người đã có đi chứ?\n",
      "Processing: FPTOpenSpeechData_Set001_V0.1_000003.mp3\n"
     ]
    },
    {
     "name": "stderr",
     "output_type": "stream",
     "text": [
      "/home/ngo/anaconda3/lib/python3.12/site-packages/whisper/transcribe.py:126: UserWarning: FP16 is not supported on CPU; using FP32 instead\n",
      "  warnings.warn(\"FP16 is not supported on CPU; using FP32 instead\")\n"
     ]
    },
    {
     "name": "stdout",
     "output_type": "stream",
     "text": [
      "reference_text - predicted_text: anh có thể gọi tôi không - hãy subscribe cho kênh ghiền mì gõ để không bỏ lỡ những video hấp dẫn\n",
      "Processing: FPTOpenSpeechData_Set001_V0.1_000004.mp3\n"
     ]
    },
    {
     "name": "stderr",
     "output_type": "stream",
     "text": [
      "/home/ngo/anaconda3/lib/python3.12/site-packages/whisper/transcribe.py:126: UserWarning: FP16 is not supported on CPU; using FP32 instead\n",
      "  warnings.warn(\"FP16 is not supported on CPU; using FP32 instead\")\n"
     ]
    },
    {
     "name": "stdout",
     "output_type": "stream",
     "text": [
      "reference_text - predicted_text: có rất nhiều yếu tố may rủi ở đây - họ sẽ cứu cứu tôi hay hơn ở đây.\n",
      "Processing: FPTOpenSpeechData_Set001_V0.1_000005.mp3\n"
     ]
    },
    {
     "name": "stderr",
     "output_type": "stream",
     "text": [
      "/home/ngo/anaconda3/lib/python3.12/site-packages/whisper/transcribe.py:126: UserWarning: FP16 is not supported on CPU; using FP32 instead\n",
      "  warnings.warn(\"FP16 is not supported on CPU; using FP32 instead\")\n"
     ]
    },
    {
     "name": "stdout",
     "output_type": "stream",
     "text": [
      "reference_text - predicted_text: ai là chúa nói dối - ai là thứ nói dối?\n",
      "Processing: FPTOpenSpeechData_Set001_V0.1_000006.mp3\n"
     ]
    },
    {
     "name": "stderr",
     "output_type": "stream",
     "text": [
      "/home/ngo/anaconda3/lib/python3.12/site-packages/whisper/transcribe.py:126: UserWarning: FP16 is not supported on CPU; using FP32 instead\n",
      "  warnings.warn(\"FP16 is not supported on CPU; using FP32 instead\")\n"
     ]
    },
    {
     "name": "stdout",
     "output_type": "stream",
     "text": [
      "reference_text - predicted_text: có cửa hàng tiện lợi ở sân bay không - của sự hành chuyển lại ở sân máy phân.\n",
      "Processing: FPTOpenSpeechData_Set001_V0.1_000007.mp3\n"
     ]
    },
    {
     "name": "stderr",
     "output_type": "stream",
     "text": [
      "/home/ngo/anaconda3/lib/python3.12/site-packages/whisper/transcribe.py:126: UserWarning: FP16 is not supported on CPU; using FP32 instead\n",
      "  warnings.warn(\"FP16 is not supported on CPU; using FP32 instead\")\n"
     ]
    },
    {
     "name": "stdout",
     "output_type": "stream",
     "text": [
      "reference_text - predicted_text: anh đổi ngoại tệ được không - hãy đổi ngoài tệ được không?\n",
      "Processing: FPTOpenSpeechData_Set001_V0.1_000008.mp3\n"
     ]
    },
    {
     "name": "stderr",
     "output_type": "stream",
     "text": [
      "/home/ngo/anaconda3/lib/python3.12/site-packages/whisper/transcribe.py:126: UserWarning: FP16 is not supported on CPU; using FP32 instead\n",
      "  warnings.warn(\"FP16 is not supported on CPU; using FP32 instead\")\n"
     ]
    },
    {
     "name": "stdout",
     "output_type": "stream",
     "text": [
      "reference_text - predicted_text: cô ấy mua hai mươi trái chôm chôm và ba con cá - cô ấy mua 2 mua cả trung tâm và 3 bóng đá.\n",
      "Processing: FPTOpenSpeechData_Set001_V0.1_000009.mp3\n"
     ]
    },
    {
     "name": "stderr",
     "output_type": "stream",
     "text": [
      "/home/ngo/anaconda3/lib/python3.12/site-packages/whisper/transcribe.py:126: UserWarning: FP16 is not supported on CPU; using FP32 instead\n",
      "  warnings.warn(\"FP16 is not supported on CPU; using FP32 instead\")\n"
     ]
    },
    {
     "name": "stdout",
     "output_type": "stream",
     "text": [
      "reference_text - predicted_text: đứa bé có ói òng ọc ra sữa hoặc nước và bé chưa đến mười tuần tuổi hoặc có biểu hiện mất nước không - chứ bè cũng phải uống hóa trường hoặc lớp 3 để chứa tiêm huy tư tùy hoặc có điều hiển mất được không.\n",
      "Processing: FPTOpenSpeechData_Set001_V0.1_000010.mp3\n"
     ]
    },
    {
     "name": "stderr",
     "output_type": "stream",
     "text": [
      "/home/ngo/anaconda3/lib/python3.12/site-packages/whisper/transcribe.py:126: UserWarning: FP16 is not supported on CPU; using FP32 instead\n",
      "  warnings.warn(\"FP16 is not supported on CPU; using FP32 instead\")\n"
     ]
    },
    {
     "name": "stdout",
     "output_type": "stream",
     "text": [
      "reference_text - predicted_text: tôi có thể viết tên địa chỉ số điện thoại của công ty bảo hiểm của anh được không - tôi có thể viết tên, kiểu gì, số điện thoại của công ty bảo hiểm của anh được không?\n",
      "Processing: FPTOpenSpeechData_Set001_V0.1_000011.mp3\n"
     ]
    },
    {
     "name": "stderr",
     "output_type": "stream",
     "text": [
      "/home/ngo/anaconda3/lib/python3.12/site-packages/whisper/transcribe.py:126: UserWarning: FP16 is not supported on CPU; using FP32 instead\n",
      "  warnings.warn(\"FP16 is not supported on CPU; using FP32 instead\")\n"
     ]
    },
    {
     "name": "stdout",
     "output_type": "stream",
     "text": [
      "reference_text - predicted_text: đừng lo tôi vừa mới đến rồi - đừng lo, tôi vừa mới đến rồi.\n",
      "Processing: FPTOpenSpeechData_Set001_V0.1_000012.mp3\n"
     ]
    },
    {
     "name": "stderr",
     "output_type": "stream",
     "text": [
      "/home/ngo/anaconda3/lib/python3.12/site-packages/whisper/transcribe.py:126: UserWarning: FP16 is not supported on CPU; using FP32 instead\n",
      "  warnings.warn(\"FP16 is not supported on CPU; using FP32 instead\")\n"
     ]
    },
    {
     "name": "stdout",
     "output_type": "stream",
     "text": [
      "reference_text - predicted_text: mười phút nữa vào giờ rưỡi - 10 phút nữa vào giờ rưỡi\n",
      "Processing: FPTOpenSpeechData_Set001_V0.1_000013.mp3\n"
     ]
    },
    {
     "name": "stderr",
     "output_type": "stream",
     "text": [
      "/home/ngo/anaconda3/lib/python3.12/site-packages/whisper/transcribe.py:126: UserWarning: FP16 is not supported on CPU; using FP32 instead\n",
      "  warnings.warn(\"FP16 is not supported on CPU; using FP32 instead\")\n"
     ]
    },
    {
     "name": "stdout",
     "output_type": "stream",
     "text": [
      "reference_text - predicted_text: tôi có thể hẹn cho chiều mai không - rồi, đây là hệ thống của trường đại phòng.\n",
      "Processing: FPTOpenSpeechData_Set001_V0.1_000014.mp3\n"
     ]
    },
    {
     "name": "stderr",
     "output_type": "stream",
     "text": [
      "/home/ngo/anaconda3/lib/python3.12/site-packages/whisper/transcribe.py:126: UserWarning: FP16 is not supported on CPU; using FP32 instead\n",
      "  warnings.warn(\"FP16 is not supported on CPU; using FP32 instead\")\n"
     ]
    },
    {
     "name": "stdout",
     "output_type": "stream",
     "text": [
      "reference_text - predicted_text: anh rửa hình kỹ thuật số ra được không - anh vừa hình chuyện thật số ra được không?\n",
      "Processing: FPTOpenSpeechData_Set001_V0.1_000015.mp3\n"
     ]
    },
    {
     "name": "stderr",
     "output_type": "stream",
     "text": [
      "/home/ngo/anaconda3/lib/python3.12/site-packages/whisper/transcribe.py:126: UserWarning: FP16 is not supported on CPU; using FP32 instead\n",
      "  warnings.warn(\"FP16 is not supported on CPU; using FP32 instead\")\n"
     ]
    },
    {
     "name": "stdout",
     "output_type": "stream",
     "text": [
      "reference_text - predicted_text: tôi cố thu xếp thôi - cảm ơn.\n",
      "Processing: FPTOpenSpeechData_Set001_V0.1_000016.mp3\n"
     ]
    },
    {
     "name": "stderr",
     "output_type": "stream",
     "text": [
      "/home/ngo/anaconda3/lib/python3.12/site-packages/whisper/transcribe.py:126: UserWarning: FP16 is not supported on CPU; using FP32 instead\n",
      "  warnings.warn(\"FP16 is not supported on CPU; using FP32 instead\")\n"
     ]
    },
    {
     "name": "stdout",
     "output_type": "stream",
     "text": [
      "reference_text - predicted_text: tôi không dùng ma túy - được không thưa quý vị?\n",
      "Processing: FPTOpenSpeechData_Set001_V0.1_000017.mp3\n"
     ]
    },
    {
     "name": "stderr",
     "output_type": "stream",
     "text": [
      "/home/ngo/anaconda3/lib/python3.12/site-packages/whisper/transcribe.py:126: UserWarning: FP16 is not supported on CPU; using FP32 instead\n",
      "  warnings.warn(\"FP16 is not supported on CPU; using FP32 instead\")\n"
     ]
    },
    {
     "name": "stdout",
     "output_type": "stream",
     "text": [
      "reference_text - predicted_text: quân đội mỹ muốn chế tạo những máy tự động hoàn toàn vì những chiếc mà họ đang có vẫn cần được điều khiển bởi con người - quân đội mỹ muốn thể tạo những máy tự động hoàn toàn vì những chiếc mà họ đang có vẫn cần được điều khiển với con người.\n",
      "Processing: FPTOpenSpeechData_Set001_V0.1_000018.mp3\n"
     ]
    },
    {
     "name": "stderr",
     "output_type": "stream",
     "text": [
      "/home/ngo/anaconda3/lib/python3.12/site-packages/whisper/transcribe.py:126: UserWarning: FP16 is not supported on CPU; using FP32 instead\n",
      "  warnings.warn(\"FP16 is not supported on CPU; using FP32 instead\")\n"
     ]
    },
    {
     "name": "stdout",
     "output_type": "stream",
     "text": [
      "reference_text - predicted_text: tôi quên túi đeo vai trong xe tắc xi - tôi quên tôi, em vai nó kia kia\n",
      "Processing: FPTOpenSpeechData_Set001_V0.1_000019.mp3\n"
     ]
    },
    {
     "name": "stderr",
     "output_type": "stream",
     "text": [
      "/home/ngo/anaconda3/lib/python3.12/site-packages/whisper/transcribe.py:126: UserWarning: FP16 is not supported on CPU; using FP32 instead\n",
      "  warnings.warn(\"FP16 is not supported on CPU; using FP32 instead\")\n"
     ]
    },
    {
     "name": "stdout",
     "output_type": "stream",
     "text": [
      "reference_text - predicted_text: dư luận đã phản ánh lên cơ quan địa chính của thị trấn nhưng mãi chả thấy hồi âm - dư luận đã phản ánh lên cơ quan địa chính của thị trấn nhưng mà chả thấy hồi âm.\n",
      "Processing: FPTOpenSpeechData_Set001_V0.1_000020.mp3\n"
     ]
    },
    {
     "name": "stderr",
     "output_type": "stream",
     "text": [
      "/home/ngo/anaconda3/lib/python3.12/site-packages/whisper/transcribe.py:126: UserWarning: FP16 is not supported on CPU; using FP32 instead\n",
      "  warnings.warn(\"FP16 is not supported on CPU; using FP32 instead\")\n"
     ]
    },
    {
     "name": "stdout",
     "output_type": "stream",
     "text": [
      "reference_text - predicted_text: giả danh làm từ thiện lừa tiền người dân - giả danh là từ thiện lừa tiệt người dân\n",
      "Processing: FPTOpenSpeechData_Set001_V0.1_000021.mp3\n"
     ]
    },
    {
     "name": "stderr",
     "output_type": "stream",
     "text": [
      "/home/ngo/anaconda3/lib/python3.12/site-packages/whisper/transcribe.py:126: UserWarning: FP16 is not supported on CPU; using FP32 instead\n",
      "  warnings.warn(\"FP16 is not supported on CPU; using FP32 instead\")\n"
     ]
    },
    {
     "name": "stdout",
     "output_type": "stream",
     "text": [
      "reference_text - predicted_text: sắm đồ siêu sang ở hội chợ triệu phú - chắc đúng, chứng xác.\n",
      "Processing: FPTOpenSpeechData_Set001_V0.1_000022.mp3\n"
     ]
    },
    {
     "name": "stderr",
     "output_type": "stream",
     "text": [
      "/home/ngo/anaconda3/lib/python3.12/site-packages/whisper/transcribe.py:126: UserWarning: FP16 is not supported on CPU; using FP32 instead\n",
      "  warnings.warn(\"FP16 is not supported on CPU; using FP32 instead\")\n"
     ]
    },
    {
     "name": "stdout",
     "output_type": "stream",
     "text": [
      "reference_text - predicted_text: nếu làm lộ thiên cơ âm binh sẽ đánh trả thầy - nếu làm lộ thiên cơ âm binh sẽ đánh trả thầy\n",
      "Processing: FPTOpenSpeechData_Set001_V0.1_000023.mp3\n"
     ]
    },
    {
     "name": "stderr",
     "output_type": "stream",
     "text": [
      "/home/ngo/anaconda3/lib/python3.12/site-packages/whisper/transcribe.py:126: UserWarning: FP16 is not supported on CPU; using FP32 instead\n",
      "  warnings.warn(\"FP16 is not supported on CPU; using FP32 instead\")\n"
     ]
    },
    {
     "name": "stdout",
     "output_type": "stream",
     "text": [
      "reference_text - predicted_text: máy ném bom chiến lược của nga gặp nạn - mấy cái bóng chiếc thơ của ta gặp lại\n",
      "Processing: FPTOpenSpeechData_Set001_V0.1_000024.mp3\n"
     ]
    },
    {
     "name": "stderr",
     "output_type": "stream",
     "text": [
      "/home/ngo/anaconda3/lib/python3.12/site-packages/whisper/transcribe.py:126: UserWarning: FP16 is not supported on CPU; using FP32 instead\n",
      "  warnings.warn(\"FP16 is not supported on CPU; using FP32 instead\")\n"
     ]
    },
    {
     "name": "stdout",
     "output_type": "stream",
     "text": [
      "reference_text - predicted_text: anh có thích tôi giữ trước quyển sách này cho anh không - anh có thích tôi giữ trước quyển sách này cho anh không?\n",
      "Processing: FPTOpenSpeechData_Set001_V0.1_000025.mp3\n"
     ]
    },
    {
     "name": "stderr",
     "output_type": "stream",
     "text": [
      "/home/ngo/anaconda3/lib/python3.12/site-packages/whisper/transcribe.py:126: UserWarning: FP16 is not supported on CPU; using FP32 instead\n",
      "  warnings.warn(\"FP16 is not supported on CPU; using FP32 instead\")\n"
     ]
    },
    {
     "name": "stdout",
     "output_type": "stream",
     "text": [
      "reference_text - predicted_text: ở người bị hội chứng khi ăn ngủ phần não phải vẫn thức và sau đó là cả các dạng hoạt động thể chất - ở nơi địa phục trứng khi ăn ngủ, bẩn áo phản dẫn thức và sau đó là cảm giác hoạt động thể chất.\n",
      "Processing: FPTOpenSpeechData_Set001_V0.1_000026.mp3\n"
     ]
    },
    {
     "name": "stderr",
     "output_type": "stream",
     "text": [
      "/home/ngo/anaconda3/lib/python3.12/site-packages/whisper/transcribe.py:126: UserWarning: FP16 is not supported on CPU; using FP32 instead\n",
      "  warnings.warn(\"FP16 is not supported on CPU; using FP32 instead\")\n"
     ]
    },
    {
     "name": "stdout",
     "output_type": "stream",
     "text": [
      "reference_text - predicted_text: tỉ lệ là mười mm trên một km - sự lệ là 10mm x 1mm.\n",
      "Processing: FPTOpenSpeechData_Set001_V0.1_000027.mp3\n"
     ]
    },
    {
     "name": "stderr",
     "output_type": "stream",
     "text": [
      "/home/ngo/anaconda3/lib/python3.12/site-packages/whisper/transcribe.py:126: UserWarning: FP16 is not supported on CPU; using FP32 instead\n",
      "  warnings.warn(\"FP16 is not supported on CPU; using FP32 instead\")\n"
     ]
    },
    {
     "name": "stdout",
     "output_type": "stream",
     "text": [
      "reference_text - predicted_text: tôi muốn thực hiện một cuộc gọi điện thoại quốc tế đi nhật bản cuộc gọi -n là đến tokyo số ba hai chín hai tám hai một một - tôi muốn dự kiến một cuộc gọi điện thoại quốc tế, nhật bản, cuộc gọi điện thoại đến tokyo. dù 3, 2, 3, 2, 1.\n",
      "Processing: FPTOpenSpeechData_Set001_V0.1_000028.mp3\n"
     ]
    },
    {
     "name": "stderr",
     "output_type": "stream",
     "text": [
      "/home/ngo/anaconda3/lib/python3.12/site-packages/whisper/transcribe.py:126: UserWarning: FP16 is not supported on CPU; using FP32 instead\n",
      "  warnings.warn(\"FP16 is not supported on CPU; using FP32 instead\")\n"
     ]
    },
    {
     "name": "stdout",
     "output_type": "stream",
     "text": [
      "reference_text - predicted_text: nơi đây hiện khá yên tĩnh - lời đây hiệp thái nhất tính.\n",
      "Processing: FPTOpenSpeechData_Set001_V0.1_000029.mp3\n"
     ]
    },
    {
     "name": "stderr",
     "output_type": "stream",
     "text": [
      "/home/ngo/anaconda3/lib/python3.12/site-packages/whisper/transcribe.py:126: UserWarning: FP16 is not supported on CPU; using FP32 instead\n",
      "  warnings.warn(\"FP16 is not supported on CPU; using FP32 instead\")\n"
     ]
    },
    {
     "name": "stdout",
     "output_type": "stream",
     "text": [
      "reference_text - predicted_text: nhưng cũng có những bạn nằm khèo ở nhà trùm mềm và khóc nhè - nhưng cũng có những bạn nằm khèo ở nhà rung mòn và không nghe.\n",
      "Processing: FPTOpenSpeechData_Set001_V0.1_000030.mp3\n"
     ]
    },
    {
     "name": "stderr",
     "output_type": "stream",
     "text": [
      "/home/ngo/anaconda3/lib/python3.12/site-packages/whisper/transcribe.py:126: UserWarning: FP16 is not supported on CPU; using FP32 instead\n",
      "  warnings.warn(\"FP16 is not supported on CPU; using FP32 instead\")\n"
     ]
    },
    {
     "name": "stdout",
     "output_type": "stream",
     "text": [
      "reference_text - predicted_text: chúng ta không thể mua cái nào ở nhật bản - chúng ta không thể mua cái nào ở nhật bản.\n",
      "Processing: FPTOpenSpeechData_Set001_V0.1_000031.mp3\n"
     ]
    },
    {
     "name": "stderr",
     "output_type": "stream",
     "text": [
      "/home/ngo/anaconda3/lib/python3.12/site-packages/whisper/transcribe.py:126: UserWarning: FP16 is not supported on CPU; using FP32 instead\n",
      "  warnings.warn(\"FP16 is not supported on CPU; using FP32 instead\")\n"
     ]
    },
    {
     "name": "stdout",
     "output_type": "stream",
     "text": [
      "reference_text - predicted_text: cho vừa với số kinh phí hạn hẹp của một bộ phim - cho vừa với số tiền tí hoặc hệ thống của bộ phim.\n",
      "Processing: FPTOpenSpeechData_Set001_V0.1_000032.mp3\n"
     ]
    },
    {
     "name": "stderr",
     "output_type": "stream",
     "text": [
      "/home/ngo/anaconda3/lib/python3.12/site-packages/whisper/transcribe.py:126: UserWarning: FP16 is not supported on CPU; using FP32 instead\n",
      "  warnings.warn(\"FP16 is not supported on CPU; using FP32 instead\")\n"
     ]
    },
    {
     "name": "stdout",
     "output_type": "stream",
     "text": [
      "reference_text - predicted_text: kịch sến nhiều tập làm tôi oải quá tôi sẽ tắt tv - kịch sớm nhiều tập, nhà tôi loại quá tôi sẽ tắt bí vi\n",
      "Processing: FPTOpenSpeechData_Set001_V0.1_000033.mp3\n"
     ]
    },
    {
     "name": "stderr",
     "output_type": "stream",
     "text": [
      "/home/ngo/anaconda3/lib/python3.12/site-packages/whisper/transcribe.py:126: UserWarning: FP16 is not supported on CPU; using FP32 instead\n",
      "  warnings.warn(\"FP16 is not supported on CPU; using FP32 instead\")\n"
     ]
    },
    {
     "name": "stdout",
     "output_type": "stream",
     "text": [
      "reference_text - predicted_text: chính vì thế những người phải sống một thời gian dài trong không gian có thể gặp rủi ro - chính vì thế, những người phải sống một thời gian đài trong không gian có thể là tùy do.\n",
      "Processing: FPTOpenSpeechData_Set001_V0.1_000034.mp3\n"
     ]
    },
    {
     "name": "stderr",
     "output_type": "stream",
     "text": [
      "/home/ngo/anaconda3/lib/python3.12/site-packages/whisper/transcribe.py:126: UserWarning: FP16 is not supported on CPU; using FP32 instead\n",
      "  warnings.warn(\"FP16 is not supported on CPU; using FP32 instead\")\n"
     ]
    },
    {
     "name": "stdout",
     "output_type": "stream",
     "text": [
      "reference_text - predicted_text: thực ra thà không đến nỗi mơ mộng đến mê muội để chẳng hiểu tấm lòng của những người thân thông qua lời khuyên nhủ - thật ra thà không đến nỗi mơ một đến mê mùi dễ dàng hưởng tâm lòng của những người phân phân ra là thư lực.\n",
      "Processing: FPTOpenSpeechData_Set001_V0.1_000035.mp3\n"
     ]
    },
    {
     "name": "stderr",
     "output_type": "stream",
     "text": [
      "/home/ngo/anaconda3/lib/python3.12/site-packages/whisper/transcribe.py:126: UserWarning: FP16 is not supported on CPU; using FP32 instead\n",
      "  warnings.warn(\"FP16 is not supported on CPU; using FP32 instead\")\n"
     ]
    },
    {
     "name": "stdout",
     "output_type": "stream",
     "text": [
      "reference_text - predicted_text: bán đấu giá mỹ nữ - bắt đầu ra phía trước\n",
      "Processing: FPTOpenSpeechData_Set001_V0.1_000036.mp3\n"
     ]
    },
    {
     "name": "stderr",
     "output_type": "stream",
     "text": [
      "/home/ngo/anaconda3/lib/python3.12/site-packages/whisper/transcribe.py:126: UserWarning: FP16 is not supported on CPU; using FP32 instead\n",
      "  warnings.warn(\"FP16 is not supported on CPU; using FP32 instead\")\n"
     ]
    },
    {
     "name": "stdout",
     "output_type": "stream",
     "text": [
      "reference_text - predicted_text: địa chỉ email của tôi là s t e f a n dot m a r t e n s \\r\\n @ gmx dot de - email của tôi là stefan.martens a1 gms.be\n",
      "Processing: FPTOpenSpeechData_Set001_V0.1_000037.mp3\n"
     ]
    },
    {
     "name": "stderr",
     "output_type": "stream",
     "text": [
      "/home/ngo/anaconda3/lib/python3.12/site-packages/whisper/transcribe.py:126: UserWarning: FP16 is not supported on CPU; using FP32 instead\n",
      "  warnings.warn(\"FP16 is not supported on CPU; using FP32 instead\")\n"
     ]
    },
    {
     "name": "stdout",
     "output_type": "stream",
     "text": [
      "reference_text - predicted_text: hôm thứ năm ủy ban bầu cử thái lan cho rằng đảng của người thái yêu người thái đã phạm hai luật trong chiến dịch tranh cử vừa qua - các quý vị hãy đăng ký kênh để ủng hộ kênh của mình nhé.\n",
      "Processing: FPTOpenSpeechData_Set001_V0.1_000038.mp3\n"
     ]
    },
    {
     "name": "stderr",
     "output_type": "stream",
     "text": [
      "/home/ngo/anaconda3/lib/python3.12/site-packages/whisper/transcribe.py:126: UserWarning: FP16 is not supported on CPU; using FP32 instead\n",
      "  warnings.warn(\"FP16 is not supported on CPU; using FP32 instead\")\n"
     ]
    },
    {
     "name": "stdout",
     "output_type": "stream",
     "text": [
      "reference_text - predicted_text: không thể xem lần vấp ngã ấy là tai - không thể xem rằng bậc ngài...\n",
      "Processing: FPTOpenSpeechData_Set001_V0.1_000039.mp3\n"
     ]
    },
    {
     "name": "stderr",
     "output_type": "stream",
     "text": [
      "/home/ngo/anaconda3/lib/python3.12/site-packages/whisper/transcribe.py:126: UserWarning: FP16 is not supported on CPU; using FP32 instead\n",
      "  warnings.warn(\"FP16 is not supported on CPU; using FP32 instead\")\n"
     ]
    },
    {
     "name": "stdout",
     "output_type": "stream",
     "text": [
      "reference_text - predicted_text: cướp bóc trong khi hỏa hoạn - các bác chú kêu hỏi hỏi.\n",
      "Processing: FPTOpenSpeechData_Set001_V0.1_000040.mp3\n"
     ]
    },
    {
     "name": "stderr",
     "output_type": "stream",
     "text": [
      "/home/ngo/anaconda3/lib/python3.12/site-packages/whisper/transcribe.py:126: UserWarning: FP16 is not supported on CPU; using FP32 instead\n",
      "  warnings.warn(\"FP16 is not supported on CPU; using FP32 instead\")\n"
     ]
    },
    {
     "name": "stdout",
     "output_type": "stream",
     "text": [
      "reference_text - predicted_text: một dân tộc từng không có người từ á sang âu -n - \n",
      "Processing: FPTOpenSpeechData_Set001_V0.1_000041.mp3\n"
     ]
    },
    {
     "name": "stderr",
     "output_type": "stream",
     "text": [
      "/home/ngo/anaconda3/lib/python3.12/site-packages/whisper/transcribe.py:126: UserWarning: FP16 is not supported on CPU; using FP32 instead\n",
      "  warnings.warn(\"FP16 is not supported on CPU; using FP32 instead\")\n"
     ]
    },
    {
     "name": "stdout",
     "output_type": "stream",
     "text": [
      "reference_text - predicted_text: tết đầu tiên xa việt nam của cháu quả là ý nghĩa - tất đầu tiên xe việt nam của cháu quả là ý nghĩa.\n",
      "Processing: FPTOpenSpeechData_Set001_V0.1_000042.mp3\n"
     ]
    },
    {
     "name": "stderr",
     "output_type": "stream",
     "text": [
      "/home/ngo/anaconda3/lib/python3.12/site-packages/whisper/transcribe.py:126: UserWarning: FP16 is not supported on CPU; using FP32 instead\n",
      "  warnings.warn(\"FP16 is not supported on CPU; using FP32 instead\")\n"
     ]
    },
    {
     "name": "stdout",
     "output_type": "stream",
     "text": [
      "reference_text - predicted_text: trong làng ai cũng quý mến gia đình anh phú - trong là hai cục quý mến gia đình anh phú.\n",
      "Processing: FPTOpenSpeechData_Set001_V0.1_000043.mp3\n"
     ]
    },
    {
     "name": "stderr",
     "output_type": "stream",
     "text": [
      "/home/ngo/anaconda3/lib/python3.12/site-packages/whisper/transcribe.py:126: UserWarning: FP16 is not supported on CPU; using FP32 instead\n",
      "  warnings.warn(\"FP16 is not supported on CPU; using FP32 instead\")\n"
     ]
    },
    {
     "name": "stdout",
     "output_type": "stream",
     "text": [
      "reference_text - predicted_text: xin chào gia đình tanaka - chào tạm biệt các bạn\n",
      "Processing: FPTOpenSpeechData_Set001_V0.1_000044.mp3\n"
     ]
    },
    {
     "name": "stderr",
     "output_type": "stream",
     "text": [
      "/home/ngo/anaconda3/lib/python3.12/site-packages/whisper/transcribe.py:126: UserWarning: FP16 is not supported on CPU; using FP32 instead\n",
      "  warnings.warn(\"FP16 is not supported on CPU; using FP32 instead\")\n"
     ]
    },
    {
     "name": "stdout",
     "output_type": "stream",
     "text": [
      "reference_text - predicted_text: anh đã làm rất tệ - anh ta làm rất đẹp.\n",
      "Processing: FPTOpenSpeechData_Set001_V0.1_000045.mp3\n"
     ]
    },
    {
     "name": "stderr",
     "output_type": "stream",
     "text": [
      "/home/ngo/anaconda3/lib/python3.12/site-packages/whisper/transcribe.py:126: UserWarning: FP16 is not supported on CPU; using FP32 instead\n",
      "  warnings.warn(\"FP16 is not supported on CPU; using FP32 instead\")\n"
     ]
    },
    {
     "name": "stdout",
     "output_type": "stream",
     "text": [
      "reference_text - predicted_text: cô ta nghi ngờ lúc mình say rượu đã bị toán cưỡng bức - hãy subscribe cho kênh ghiền mì gõ để không bỏ lỡ những video hấp dẫn\n",
      "Processing: FPTOpenSpeechData_Set001_V0.1_000046.mp3\n"
     ]
    },
    {
     "name": "stderr",
     "output_type": "stream",
     "text": [
      "/home/ngo/anaconda3/lib/python3.12/site-packages/whisper/transcribe.py:126: UserWarning: FP16 is not supported on CPU; using FP32 instead\n",
      "  warnings.warn(\"FP16 is not supported on CPU; using FP32 instead\")\n"
     ]
    },
    {
     "name": "stdout",
     "output_type": "stream",
     "text": [
      "reference_text - predicted_text: ông muốn nhãn hiệu bia nào - còn mỗi nhận hiệu như thế nào?\n",
      "Processing: FPTOpenSpeechData_Set001_V0.1_000047.mp3\n"
     ]
    },
    {
     "name": "stderr",
     "output_type": "stream",
     "text": [
      "/home/ngo/anaconda3/lib/python3.12/site-packages/whisper/transcribe.py:126: UserWarning: FP16 is not supported on CPU; using FP32 instead\n",
      "  warnings.warn(\"FP16 is not supported on CPU; using FP32 instead\")\n"
     ]
    },
    {
     "name": "stdout",
     "output_type": "stream",
     "text": [
      "reference_text - predicted_text: anh có dừng tại khách sạn begin không - anh vừa dừng ra cái trạng bình yên cho.\n",
      "Processing: FPTOpenSpeechData_Set001_V0.1_000048.mp3\n"
     ]
    },
    {
     "name": "stderr",
     "output_type": "stream",
     "text": [
      "/home/ngo/anaconda3/lib/python3.12/site-packages/whisper/transcribe.py:126: UserWarning: FP16 is not supported on CPU; using FP32 instead\n",
      "  warnings.warn(\"FP16 is not supported on CPU; using FP32 instead\")\n"
     ]
    },
    {
     "name": "stdout",
     "output_type": "stream",
     "text": [
      "reference_text - predicted_text: bật điều hòa nhiệt độ - bắt điện thoại nhịp ảo\n",
      "Processing: FPTOpenSpeechData_Set001_V0.1_000049.mp3\n"
     ]
    },
    {
     "name": "stderr",
     "output_type": "stream",
     "text": [
      "/home/ngo/anaconda3/lib/python3.12/site-packages/whisper/transcribe.py:126: UserWarning: FP16 is not supported on CPU; using FP32 instead\n",
      "  warnings.warn(\"FP16 is not supported on CPU; using FP32 instead\")\n"
     ]
    },
    {
     "name": "stdout",
     "output_type": "stream",
     "text": [
      "reference_text - predicted_text: nhiều chàng trai để ý và theo dõi bạn - nhiều chàng trai đợi ấy và theo dõi bà.\n",
      "Processing: FPTOpenSpeechData_Set001_V0.1_000050.mp3\n"
     ]
    },
    {
     "name": "stderr",
     "output_type": "stream",
     "text": [
      "/home/ngo/anaconda3/lib/python3.12/site-packages/whisper/transcribe.py:126: UserWarning: FP16 is not supported on CPU; using FP32 instead\n",
      "  warnings.warn(\"FP16 is not supported on CPU; using FP32 instead\")\n"
     ]
    },
    {
     "name": "stdout",
     "output_type": "stream",
     "text": [
      "reference_text - predicted_text: chúng ta hãy tung một đồng tiền để quyết định - chúng ta hãy đồng tiền để chấp nhận.\n",
      "Processing: FPTOpenSpeechData_Set001_V0.1_000051.mp3\n"
     ]
    },
    {
     "name": "stderr",
     "output_type": "stream",
     "text": [
      "/home/ngo/anaconda3/lib/python3.12/site-packages/whisper/transcribe.py:126: UserWarning: FP16 is not supported on CPU; using FP32 instead\n",
      "  warnings.warn(\"FP16 is not supported on CPU; using FP32 instead\")\n"
     ]
    },
    {
     "name": "stdout",
     "output_type": "stream",
     "text": [
      "reference_text - predicted_text: tôi nghe đĩa cd này được không - tôi nghe điểm tv ít nay được không?\n",
      "Processing: FPTOpenSpeechData_Set001_V0.1_000052.mp3\n"
     ]
    },
    {
     "name": "stderr",
     "output_type": "stream",
     "text": [
      "/home/ngo/anaconda3/lib/python3.12/site-packages/whisper/transcribe.py:126: UserWarning: FP16 is not supported on CPU; using FP32 instead\n",
      "  warnings.warn(\"FP16 is not supported on CPU; using FP32 instead\")\n"
     ]
    },
    {
     "name": "stdout",
     "output_type": "stream",
     "text": [
      "reference_text - predicted_text: nguyễn văn vũ vừa tử nạn vì hỗ trợ đuổi bắt tội phạm ngày mười ba tháng một công an xã cẩm trạch huyện cần cẩu cho biết một người lái xe khách hai bảy tuổi đã tử nạn khi giúp một phụ nữ bị bảy tên khống chế cướp tài sản - nguyễn văn vũ vừa tử lạng vì hỗ trợ đuổi bắt đội tạ. ngày 13 tháng 1, công an xã cẩm sạch nguyễn tân cầu cho biết một người lái xe khách 27 tuổi đã tử lạng khi giúp một thủ lũ bị bệnh tên phóng chế trước tài sản.\n",
      "Processing: FPTOpenSpeechData_Set001_V0.1_000053.mp3\n"
     ]
    },
    {
     "name": "stderr",
     "output_type": "stream",
     "text": [
      "/home/ngo/anaconda3/lib/python3.12/site-packages/whisper/transcribe.py:126: UserWarning: FP16 is not supported on CPU; using FP32 instead\n",
      "  warnings.warn(\"FP16 is not supported on CPU; using FP32 instead\")\n"
     ]
    },
    {
     "name": "stdout",
     "output_type": "stream",
     "text": [
      "reference_text - predicted_text: hai con voi này rất hung dữ và phá nát nhiều hoa màu của người dân trong khu vực - hai con voi này rất hung dữ và phá nát nhiều hoa màu của người dân trong khu vực.\n",
      "Processing: FPTOpenSpeechData_Set001_V0.1_000054.mp3\n"
     ]
    },
    {
     "name": "stderr",
     "output_type": "stream",
     "text": [
      "/home/ngo/anaconda3/lib/python3.12/site-packages/whisper/transcribe.py:126: UserWarning: FP16 is not supported on CPU; using FP32 instead\n",
      "  warnings.warn(\"FP16 is not supported on CPU; using FP32 instead\")\n"
     ]
    },
    {
     "name": "stdout",
     "output_type": "stream",
     "text": [
      "reference_text - predicted_text: anh có bị đau do mệt mỏi không - anh có bị đau do miệt mỏi không?\n",
      "Processing: FPTOpenSpeechData_Set001_V0.1_000055.mp3\n"
     ]
    },
    {
     "name": "stderr",
     "output_type": "stream",
     "text": [
      "/home/ngo/anaconda3/lib/python3.12/site-packages/whisper/transcribe.py:126: UserWarning: FP16 is not supported on CPU; using FP32 instead\n",
      "  warnings.warn(\"FP16 is not supported on CPU; using FP32 instead\")\n"
     ]
    },
    {
     "name": "stdout",
     "output_type": "stream",
     "text": [
      "reference_text - predicted_text: bạn có muốn tôi dịch cái này cho bạn không tôi nói tiếng nhật - bạn có muốn tôi thì chạy ngay cho bạn không, tôi phải tự nhật.\n",
      "Processing: FPTOpenSpeechData_Set001_V0.1_000056.mp3\n"
     ]
    },
    {
     "name": "stderr",
     "output_type": "stream",
     "text": [
      "/home/ngo/anaconda3/lib/python3.12/site-packages/whisper/transcribe.py:126: UserWarning: FP16 is not supported on CPU; using FP32 instead\n",
      "  warnings.warn(\"FP16 is not supported on CPU; using FP32 instead\")\n"
     ]
    },
    {
     "name": "stdout",
     "output_type": "stream",
     "text": [
      "reference_text - predicted_text: vâng giá sẽ là ba trăm yên - \n",
      "Processing: FPTOpenSpeechData_Set001_V0.1_000057.mp3\n"
     ]
    },
    {
     "name": "stderr",
     "output_type": "stream",
     "text": [
      "/home/ngo/anaconda3/lib/python3.12/site-packages/whisper/transcribe.py:126: UserWarning: FP16 is not supported on CPU; using FP32 instead\n",
      "  warnings.warn(\"FP16 is not supported on CPU; using FP32 instead\")\n"
     ]
    },
    {
     "name": "stdout",
     "output_type": "stream",
     "text": [
      "reference_text - predicted_text: và như thế những điều tốt đẹp - và giữ thế những điều tốt đẹp\n",
      "Processing: FPTOpenSpeechData_Set001_V0.1_000058.mp3\n"
     ]
    },
    {
     "name": "stderr",
     "output_type": "stream",
     "text": [
      "/home/ngo/anaconda3/lib/python3.12/site-packages/whisper/transcribe.py:126: UserWarning: FP16 is not supported on CPU; using FP32 instead\n",
      "  warnings.warn(\"FP16 is not supported on CPU; using FP32 instead\")\n"
     ]
    },
    {
     "name": "stdout",
     "output_type": "stream",
     "text": [
      "reference_text - predicted_text: tăng nhiệt độ lên hai mươi mốt độ - sáng giờ dựa lên 20 món rồi.\n",
      "Processing: FPTOpenSpeechData_Set001_V0.1_000059.mp3\n"
     ]
    },
    {
     "name": "stderr",
     "output_type": "stream",
     "text": [
      "/home/ngo/anaconda3/lib/python3.12/site-packages/whisper/transcribe.py:126: UserWarning: FP16 is not supported on CPU; using FP32 instead\n",
      "  warnings.warn(\"FP16 is not supported on CPU; using FP32 instead\")\n"
     ]
    },
    {
     "name": "stdout",
     "output_type": "stream",
     "text": [
      "reference_text - predicted_text: -n ở sheraton - cảm ơn các bạn đã theo dõi và hẹn gặp lại.\n",
      "Processing: FPTOpenSpeechData_Set001_V0.1_000060.mp3\n"
     ]
    },
    {
     "name": "stderr",
     "output_type": "stream",
     "text": [
      "/home/ngo/anaconda3/lib/python3.12/site-packages/whisper/transcribe.py:126: UserWarning: FP16 is not supported on CPU; using FP32 instead\n",
      "  warnings.warn(\"FP16 is not supported on CPU; using FP32 instead\")\n"
     ]
    },
    {
     "name": "stdout",
     "output_type": "stream",
     "text": [
      "reference_text - predicted_text: tốt hơn là tôi nên đi bây giờ - các bạn hãy đăng ký kênh để ủng hộ kênh của mình nhé.\n",
      "Processing: FPTOpenSpeechData_Set001_V0.1_000061.mp3\n"
     ]
    },
    {
     "name": "stderr",
     "output_type": "stream",
     "text": [
      "/home/ngo/anaconda3/lib/python3.12/site-packages/whisper/transcribe.py:126: UserWarning: FP16 is not supported on CPU; using FP32 instead\n",
      "  warnings.warn(\"FP16 is not supported on CPU; using FP32 instead\")\n"
     ]
    },
    {
     "name": "stdout",
     "output_type": "stream",
     "text": [
      "reference_text - predicted_text: kỳ tích có thể để lại quyền lực bởi một nhà độc tài dầu mỏ nhưng cũng có thể giúp thể chế hóa những phong trào chống mỹ diễn ra tại khu vực trung đông - chỉ có thể để lại trường mệnh với một nhà đặc tài giàu mạng, nhưng cũng có thể giúp thể chế hóa đến trong trào trình những chuyên gia tại khu vực tinh đông.\n",
      "Processing: FPTOpenSpeechData_Set001_V0.1_000062.mp3\n"
     ]
    },
    {
     "name": "stderr",
     "output_type": "stream",
     "text": [
      "/home/ngo/anaconda3/lib/python3.12/site-packages/whisper/transcribe.py:126: UserWarning: FP16 is not supported on CPU; using FP32 instead\n",
      "  warnings.warn(\"FP16 is not supported on CPU; using FP32 instead\")\n"
     ]
    },
    {
     "name": "stdout",
     "output_type": "stream",
     "text": [
      "reference_text - predicted_text: lãnh đạo ngành ô tô mỹ nên từ chức - mà sao thật ô tô mỹ ra tổ chức\n",
      "Processing: FPTOpenSpeechData_Set001_V0.1_000063.mp3\n"
     ]
    },
    {
     "name": "stderr",
     "output_type": "stream",
     "text": [
      "/home/ngo/anaconda3/lib/python3.12/site-packages/whisper/transcribe.py:126: UserWarning: FP16 is not supported on CPU; using FP32 instead\n",
      "  warnings.warn(\"FP16 is not supported on CPU; using FP32 instead\")\n"
     ]
    },
    {
     "name": "stdout",
     "output_type": "stream",
     "text": [
      "reference_text - predicted_text: cô ấy biết - hãy subscribe cho kênh ghiền mì gõ để không bỏ lỡ những video hấp dẫn\n",
      "Processing: FPTOpenSpeechData_Set001_V0.1_000064.mp3\n"
     ]
    },
    {
     "name": "stderr",
     "output_type": "stream",
     "text": [
      "/home/ngo/anaconda3/lib/python3.12/site-packages/whisper/transcribe.py:126: UserWarning: FP16 is not supported on CPU; using FP32 instead\n",
      "  warnings.warn(\"FP16 is not supported on CPU; using FP32 instead\")\n"
     ]
    },
    {
     "name": "stdout",
     "output_type": "stream",
     "text": [
      "reference_text - predicted_text: từng sợi thương li ti kết lại - xin sợi thương ly tiết kết lại.\n",
      "Processing: FPTOpenSpeechData_Set001_V0.1_000065.mp3\n"
     ]
    },
    {
     "name": "stderr",
     "output_type": "stream",
     "text": [
      "/home/ngo/anaconda3/lib/python3.12/site-packages/whisper/transcribe.py:126: UserWarning: FP16 is not supported on CPU; using FP32 instead\n",
      "  warnings.warn(\"FP16 is not supported on CPU; using FP32 instead\")\n"
     ]
    },
    {
     "name": "stdout",
     "output_type": "stream",
     "text": [
      "reference_text - predicted_text: mồ hôi là một trong những phương tiện để cơ thể thải cặn bã ra ngoài - bồ hôi là một trong những phương tiện để cơ thể thả cặn bã ra ngoài.\n",
      "Processing: FPTOpenSpeechData_Set001_V0.1_000066.mp3\n"
     ]
    },
    {
     "name": "stderr",
     "output_type": "stream",
     "text": [
      "/home/ngo/anaconda3/lib/python3.12/site-packages/whisper/transcribe.py:126: UserWarning: FP16 is not supported on CPU; using FP32 instead\n",
      "  warnings.warn(\"FP16 is not supported on CPU; using FP32 instead\")\n"
     ]
    },
    {
     "name": "stdout",
     "output_type": "stream",
     "text": [
      "reference_text - predicted_text: ti vi k+ một - tv trái tổng 1\n",
      "Processing: FPTOpenSpeechData_Set001_V0.1_000067.mp3\n"
     ]
    },
    {
     "name": "stderr",
     "output_type": "stream",
     "text": [
      "/home/ngo/anaconda3/lib/python3.12/site-packages/whisper/transcribe.py:126: UserWarning: FP16 is not supported on CPU; using FP32 instead\n",
      "  warnings.warn(\"FP16 is not supported on CPU; using FP32 instead\")\n"
     ]
    },
    {
     "name": "stdout",
     "output_type": "stream",
     "text": [
      "reference_text - predicted_text: hiện nay mỗi khi chào hàng các lò rang hạt dưa như tứ hưng duy ký thiên hương - hiện nay mỗi khi chào hàng các lò rang hạt như tứ, như hưng, như tỉ, như hương.\n",
      "Processing: FPTOpenSpeechData_Set001_V0.1_000068.mp3\n"
     ]
    },
    {
     "name": "stderr",
     "output_type": "stream",
     "text": [
      "/home/ngo/anaconda3/lib/python3.12/site-packages/whisper/transcribe.py:126: UserWarning: FP16 is not supported on CPU; using FP32 instead\n",
      "  warnings.warn(\"FP16 is not supported on CPU; using FP32 instead\")\n"
     ]
    },
    {
     "name": "stdout",
     "output_type": "stream",
     "text": [
      "reference_text - predicted_text: vì không biết nhìn xa trông rộng và vì niềm tin sắt đá rằng rồi mọi việc sẽ êm xuôi - vì không biết nhiên sao tổng thống và vì nhận chính sách trả tăng tôi có gì sẽ chấp nhận.\n",
      "Processing: FPTOpenSpeechData_Set001_V0.1_000069.mp3\n"
     ]
    },
    {
     "name": "stderr",
     "output_type": "stream",
     "text": [
      "/home/ngo/anaconda3/lib/python3.12/site-packages/whisper/transcribe.py:126: UserWarning: FP16 is not supported on CPU; using FP32 instead\n",
      "  warnings.warn(\"FP16 is not supported on CPU; using FP32 instead\")\n"
     ]
    },
    {
     "name": "stdout",
     "output_type": "stream",
     "text": [
      "reference_text - predicted_text: nhờ có chúa - nhờ cậu chúa.\n",
      "Processing: FPTOpenSpeechData_Set001_V0.1_000070.mp3\n"
     ]
    },
    {
     "name": "stderr",
     "output_type": "stream",
     "text": [
      "/home/ngo/anaconda3/lib/python3.12/site-packages/whisper/transcribe.py:126: UserWarning: FP16 is not supported on CPU; using FP32 instead\n",
      "  warnings.warn(\"FP16 is not supported on CPU; using FP32 instead\")\n"
     ]
    },
    {
     "name": "stdout",
     "output_type": "stream",
     "text": [
      "reference_text - predicted_text: xe chú rể lăn xuống vực sau tiệc cưới - chess sẽ đặt phức tắc tiếp với\n",
      "Processing: FPTOpenSpeechData_Set001_V0.1_000071.mp3\n"
     ]
    },
    {
     "name": "stderr",
     "output_type": "stream",
     "text": [
      "/home/ngo/anaconda3/lib/python3.12/site-packages/whisper/transcribe.py:126: UserWarning: FP16 is not supported on CPU; using FP32 instead\n",
      "  warnings.warn(\"FP16 is not supported on CPU; using FP32 instead\")\n"
     ]
    },
    {
     "name": "stdout",
     "output_type": "stream",
     "text": [
      "reference_text - predicted_text: rồi anh đi một chuyến đến khu vực vỉa san hô và thăm viện bảo tàng úc anh có thể tìm hiểu nhiều về nước úc anh cũng có thể có một món quà đẹp tại cảng darling nếu anh muốn mua vài đồ lưu niệm có rất nhiều đồ vật và phụ kiện anh có thể muốn mua - rồi anh đi một chuyến đến khu vực vỉa sáng hô và thăm hiểu bảo tàng úc. anh có thể tìm hiểu nhiều về nước úc. anh cũng có thể có một món quà đẹp tải, tải trai lĩnh. nếu anh muốn mua vài đồ lưu niệm, có rất nhiều đồ vật và phù kiến anh có thể muốn mua.\n",
      "Processing: FPTOpenSpeechData_Set001_V0.1_000072.mp3\n"
     ]
    },
    {
     "name": "stderr",
     "output_type": "stream",
     "text": [
      "/home/ngo/anaconda3/lib/python3.12/site-packages/whisper/transcribe.py:126: UserWarning: FP16 is not supported on CPU; using FP32 instead\n",
      "  warnings.warn(\"FP16 is not supported on CPU; using FP32 instead\")\n"
     ]
    },
    {
     "name": "stdout",
     "output_type": "stream",
     "text": [
      "reference_text - predicted_text: đó là chưa kể các thủ đoạn chính trị xã hội khác - đó là chưa kể các vụ đại chính trị xã hội khác.\n",
      "Processing: FPTOpenSpeechData_Set001_V0.1_000073.mp3\n"
     ]
    },
    {
     "name": "stderr",
     "output_type": "stream",
     "text": [
      "/home/ngo/anaconda3/lib/python3.12/site-packages/whisper/transcribe.py:126: UserWarning: FP16 is not supported on CPU; using FP32 instead\n",
      "  warnings.warn(\"FP16 is not supported on CPU; using FP32 instead\")\n"
     ]
    },
    {
     "name": "stdout",
     "output_type": "stream",
     "text": [
      "reference_text - predicted_text: tôi có vẽ một chút - \n",
      "Processing: FPTOpenSpeechData_Set001_V0.1_000074.mp3\n"
     ]
    },
    {
     "name": "stderr",
     "output_type": "stream",
     "text": [
      "/home/ngo/anaconda3/lib/python3.12/site-packages/whisper/transcribe.py:126: UserWarning: FP16 is not supported on CPU; using FP32 instead\n",
      "  warnings.warn(\"FP16 is not supported on CPU; using FP32 instead\")\n"
     ]
    },
    {
     "name": "stdout",
     "output_type": "stream",
     "text": [
      "reference_text - predicted_text: cho tôi mẫu thử được không - chào tạm biệt.\n",
      "Processing: FPTOpenSpeechData_Set001_V0.1_000075.mp3\n"
     ]
    },
    {
     "name": "stderr",
     "output_type": "stream",
     "text": [
      "/home/ngo/anaconda3/lib/python3.12/site-packages/whisper/transcribe.py:126: UserWarning: FP16 is not supported on CPU; using FP32 instead\n",
      "  warnings.warn(\"FP16 is not supported on CPU; using FP32 instead\")\n"
     ]
    },
    {
     "name": "stdout",
     "output_type": "stream",
     "text": [
      "reference_text - predicted_text: tôi có ba con gái - tôi có 8 con.\n",
      "Processing: FPTOpenSpeechData_Set001_V0.1_000076.mp3\n"
     ]
    },
    {
     "name": "stderr",
     "output_type": "stream",
     "text": [
      "/home/ngo/anaconda3/lib/python3.12/site-packages/whisper/transcribe.py:126: UserWarning: FP16 is not supported on CPU; using FP32 instead\n",
      "  warnings.warn(\"FP16 is not supported on CPU; using FP32 instead\")\n"
     ]
    },
    {
     "name": "stdout",
     "output_type": "stream",
     "text": [
      "reference_text - predicted_text: tôi sẽ ở lại đây - tôi sẽ ở lại đây\n",
      "Processing: FPTOpenSpeechData_Set001_V0.1_000077.mp3\n"
     ]
    },
    {
     "name": "stderr",
     "output_type": "stream",
     "text": [
      "/home/ngo/anaconda3/lib/python3.12/site-packages/whisper/transcribe.py:126: UserWarning: FP16 is not supported on CPU; using FP32 instead\n",
      "  warnings.warn(\"FP16 is not supported on CPU; using FP32 instead\")\n"
     ]
    },
    {
     "name": "stdout",
     "output_type": "stream",
     "text": [
      "reference_text - predicted_text: người ta cho rằng số khúc gỗ ở dưới đáy bị dính nước bẩn ít thì kỳ kinh sẽ ngắn - hãy đăng ký kênh để nhận thêm nhiều video mới nhé.\n",
      "Processing: FPTOpenSpeechData_Set001_V0.1_000078.mp3\n"
     ]
    },
    {
     "name": "stderr",
     "output_type": "stream",
     "text": [
      "/home/ngo/anaconda3/lib/python3.12/site-packages/whisper/transcribe.py:126: UserWarning: FP16 is not supported on CPU; using FP32 instead\n",
      "  warnings.warn(\"FP16 is not supported on CPU; using FP32 instead\")\n"
     ]
    },
    {
     "name": "stdout",
     "output_type": "stream",
     "text": [
      "reference_text - predicted_text: không một nơi nào lãng mạn và thơ mộng hơn những khu hồ hoang - không một nơi nào lãng mạn và thơ mộng hơn những khu hồ hóa.\n",
      "Processing: FPTOpenSpeechData_Set001_V0.1_000079.mp3\n"
     ]
    },
    {
     "name": "stderr",
     "output_type": "stream",
     "text": [
      "/home/ngo/anaconda3/lib/python3.12/site-packages/whisper/transcribe.py:126: UserWarning: FP16 is not supported on CPU; using FP32 instead\n",
      "  warnings.warn(\"FP16 is not supported on CPU; using FP32 instead\")\n"
     ]
    },
    {
     "name": "stdout",
     "output_type": "stream",
     "text": [
      "reference_text - predicted_text: bị hại kháng cáo vì cho rằng các cơ quan tố tụng ở huyện hương khê bỏ lọt người sót tội - vậy hãy sắp đó, mình cho ra các cơ quan bố tục từ khi bỏ lọt người sắp tội.\n",
      "Processing: FPTOpenSpeechData_Set001_V0.1_000080.mp3\n"
     ]
    },
    {
     "name": "stderr",
     "output_type": "stream",
     "text": [
      "/home/ngo/anaconda3/lib/python3.12/site-packages/whisper/transcribe.py:126: UserWarning: FP16 is not supported on CPU; using FP32 instead\n",
      "  warnings.warn(\"FP16 is not supported on CPU; using FP32 instead\")\n"
     ]
    },
    {
     "name": "stdout",
     "output_type": "stream",
     "text": [
      "reference_text - predicted_text: cuối cùng họ sẽ phải gõ cửa nhờ ông ấy - \n",
      "Processing: FPTOpenSpeechData_Set001_V0.1_000081.mp3\n"
     ]
    },
    {
     "name": "stderr",
     "output_type": "stream",
     "text": [
      "/home/ngo/anaconda3/lib/python3.12/site-packages/whisper/transcribe.py:126: UserWarning: FP16 is not supported on CPU; using FP32 instead\n",
      "  warnings.warn(\"FP16 is not supported on CPU; using FP32 instead\")\n"
     ]
    },
    {
     "name": "stdout",
     "output_type": "stream",
     "text": [
      "reference_text - predicted_text: cái giá của một anh hùng - giải giá của một anh hùng\n",
      "Processing: FPTOpenSpeechData_Set001_V0.1_000082.mp3\n"
     ]
    },
    {
     "name": "stderr",
     "output_type": "stream",
     "text": [
      "/home/ngo/anaconda3/lib/python3.12/site-packages/whisper/transcribe.py:126: UserWarning: FP16 is not supported on CPU; using FP32 instead\n",
      "  warnings.warn(\"FP16 is not supported on CPU; using FP32 instead\")\n"
     ]
    },
    {
     "name": "stdout",
     "output_type": "stream",
     "text": [
      "reference_text - predicted_text: bản sao tấm séc khoản tiền vợ chồng nguyễn nhận được - và sao tổng chấp phản hành vận trong vết tiệm nước.\n",
      "Processing: FPTOpenSpeechData_Set001_V0.1_000083.mp3\n"
     ]
    },
    {
     "name": "stderr",
     "output_type": "stream",
     "text": [
      "/home/ngo/anaconda3/lib/python3.12/site-packages/whisper/transcribe.py:126: UserWarning: FP16 is not supported on CPU; using FP32 instead\n",
      "  warnings.warn(\"FP16 is not supported on CPU; using FP32 instead\")\n"
     ]
    },
    {
     "name": "stdout",
     "output_type": "stream",
     "text": [
      "reference_text - predicted_text: nhằm thu hút thêm nhiều nhà đầu tư - nhằm thu hút thêm nhiều nhà đầu tư.\n",
      "Processing: FPTOpenSpeechData_Set001_V0.1_000084.mp3\n"
     ]
    },
    {
     "name": "stderr",
     "output_type": "stream",
     "text": [
      "/home/ngo/anaconda3/lib/python3.12/site-packages/whisper/transcribe.py:126: UserWarning: FP16 is not supported on CPU; using FP32 instead\n",
      "  warnings.warn(\"FP16 is not supported on CPU; using FP32 instead\")\n"
     ]
    },
    {
     "name": "stdout",
     "output_type": "stream",
     "text": [
      "reference_text - predicted_text: vui lòng cho ba vé khứ hồi hạng hai - vui lòng chỗ bảo vệ người hành hành\n",
      "Processing: FPTOpenSpeechData_Set001_V0.1_000085.mp3\n"
     ]
    },
    {
     "name": "stderr",
     "output_type": "stream",
     "text": [
      "/home/ngo/anaconda3/lib/python3.12/site-packages/whisper/transcribe.py:126: UserWarning: FP16 is not supported on CPU; using FP32 instead\n",
      "  warnings.warn(\"FP16 is not supported on CPU; using FP32 instead\")\n"
     ]
    },
    {
     "name": "stdout",
     "output_type": "stream",
     "text": [
      "reference_text - predicted_text: anh cần một con tem một đô la ba mươi cent - anh cần một con tiêm một ơ ra 30 năm.\n",
      "Processing: FPTOpenSpeechData_Set001_V0.1_000086.mp3\n"
     ]
    },
    {
     "name": "stderr",
     "output_type": "stream",
     "text": [
      "/home/ngo/anaconda3/lib/python3.12/site-packages/whisper/transcribe.py:126: UserWarning: FP16 is not supported on CPU; using FP32 instead\n",
      "  warnings.warn(\"FP16 is not supported on CPU; using FP32 instead\")\n"
     ]
    },
    {
     "name": "stdout",
     "output_type": "stream",
     "text": [
      "reference_text - predicted_text: xà lách trộn phó mát mốc xanh và cây óc chó - cảm ơn các bạn đã theo dõi.\n",
      "Processing: FPTOpenSpeechData_Set001_V0.1_000087.mp3\n"
     ]
    },
    {
     "name": "stderr",
     "output_type": "stream",
     "text": [
      "/home/ngo/anaconda3/lib/python3.12/site-packages/whisper/transcribe.py:126: UserWarning: FP16 is not supported on CPU; using FP32 instead\n",
      "  warnings.warn(\"FP16 is not supported on CPU; using FP32 instead\")\n"
     ]
    },
    {
     "name": "stdout",
     "output_type": "stream",
     "text": [
      "reference_text - predicted_text: chúng tôi sẽ bồi thường cho anh - chúng tôi sẽ bôi thường cho anh.\n",
      "Processing: FPTOpenSpeechData_Set001_V0.1_000088.mp3\n"
     ]
    },
    {
     "name": "stderr",
     "output_type": "stream",
     "text": [
      "/home/ngo/anaconda3/lib/python3.12/site-packages/whisper/transcribe.py:126: UserWarning: FP16 is not supported on CPU; using FP32 instead\n",
      "  warnings.warn(\"FP16 is not supported on CPU; using FP32 instead\")\n"
     ]
    },
    {
     "name": "stdout",
     "output_type": "stream",
     "text": [
      "reference_text - predicted_text: chỉ xét tuyển hồ sơ không phải thi - chỉ xét điểm hồ sơ thông bài thêm\n",
      "Processing: FPTOpenSpeechData_Set001_V0.1_000089.mp3\n"
     ]
    },
    {
     "name": "stderr",
     "output_type": "stream",
     "text": [
      "/home/ngo/anaconda3/lib/python3.12/site-packages/whisper/transcribe.py:126: UserWarning: FP16 is not supported on CPU; using FP32 instead\n",
      "  warnings.warn(\"FP16 is not supported on CPU; using FP32 instead\")\n"
     ]
    },
    {
     "name": "stdout",
     "output_type": "stream",
     "text": [
      "reference_text - predicted_text: gần chín nghìn tỉ đồng xây đường sắt đô thị cát linh hà đông - gần 9.000 tỷ đồng xây đường sát đối ngự, các linh hà đông.\n",
      "Processing: FPTOpenSpeechData_Set001_V0.1_000090.mp3\n"
     ]
    },
    {
     "name": "stderr",
     "output_type": "stream",
     "text": [
      "/home/ngo/anaconda3/lib/python3.12/site-packages/whisper/transcribe.py:126: UserWarning: FP16 is not supported on CPU; using FP32 instead\n",
      "  warnings.warn(\"FP16 is not supported on CPU; using FP32 instead\")\n"
     ]
    },
    {
     "name": "stdout",
     "output_type": "stream",
     "text": [
      "reference_text - predicted_text: bỏ quần vào trong máy giặt - bỏ quan sát trong bài giật.\n",
      "Processing: FPTOpenSpeechData_Set001_V0.1_000091.mp3\n"
     ]
    },
    {
     "name": "stderr",
     "output_type": "stream",
     "text": [
      "/home/ngo/anaconda3/lib/python3.12/site-packages/whisper/transcribe.py:126: UserWarning: FP16 is not supported on CPU; using FP32 instead\n",
      "  warnings.warn(\"FP16 is not supported on CPU; using FP32 instead\")\n"
     ]
    },
    {
     "name": "stdout",
     "output_type": "stream",
     "text": [
      "reference_text - predicted_text: trả lời tôi biết - trả lời tôi biết.\n",
      "Processing: FPTOpenSpeechData_Set001_V0.1_000092.mp3\n"
     ]
    },
    {
     "name": "stderr",
     "output_type": "stream",
     "text": [
      "/home/ngo/anaconda3/lib/python3.12/site-packages/whisper/transcribe.py:126: UserWarning: FP16 is not supported on CPU; using FP32 instead\n",
      "  warnings.warn(\"FP16 is not supported on CPU; using FP32 instead\")\n"
     ]
    },
    {
     "name": "stdout",
     "output_type": "stream",
     "text": [
      "reference_text - predicted_text: đến thời điểm hiện tại ít nhất trong cả nước đã có năm mươi nghìn lao động thất nghiệp - đến thời điểm hiện tại, ít nhất trong cả nước đã có 50.000 lao động thức nghiệp.\n",
      "Processing: FPTOpenSpeechData_Set001_V0.1_000093.mp3\n"
     ]
    },
    {
     "name": "stderr",
     "output_type": "stream",
     "text": [
      "/home/ngo/anaconda3/lib/python3.12/site-packages/whisper/transcribe.py:126: UserWarning: FP16 is not supported on CPU; using FP32 instead\n",
      "  warnings.warn(\"FP16 is not supported on CPU; using FP32 instead\")\n"
     ]
    },
    {
     "name": "stdout",
     "output_type": "stream",
     "text": [
      "reference_text - predicted_text: anh sẵn sàng gọi món chưa - anh chẳng tham mọi món đưa.\n",
      "Processing: FPTOpenSpeechData_Set001_V0.1_000094.mp3\n"
     ]
    },
    {
     "name": "stderr",
     "output_type": "stream",
     "text": [
      "/home/ngo/anaconda3/lib/python3.12/site-packages/whisper/transcribe.py:126: UserWarning: FP16 is not supported on CPU; using FP32 instead\n",
      "  warnings.warn(\"FP16 is not supported on CPU; using FP32 instead\")\n"
     ]
    },
    {
     "name": "stdout",
     "output_type": "stream",
     "text": [
      "reference_text - predicted_text: là tác động của nó đến hiệu suất chung của toàn bộ hệ thống điện - là tác động của nó đến hiện sức chung của toàn bộ hệ thống điện.\n",
      "Processing: FPTOpenSpeechData_Set001_V0.1_000095.mp3\n"
     ]
    },
    {
     "name": "stderr",
     "output_type": "stream",
     "text": [
      "/home/ngo/anaconda3/lib/python3.12/site-packages/whisper/transcribe.py:126: UserWarning: FP16 is not supported on CPU; using FP32 instead\n",
      "  warnings.warn(\"FP16 is not supported on CPU; using FP32 instead\")\n"
     ]
    },
    {
     "name": "stdout",
     "output_type": "stream",
     "text": [
      "reference_text - predicted_text: đã bán rồi - tạm biệt.\n",
      "Processing: FPTOpenSpeechData_Set001_V0.1_000096.mp3\n"
     ]
    },
    {
     "name": "stderr",
     "output_type": "stream",
     "text": [
      "/home/ngo/anaconda3/lib/python3.12/site-packages/whisper/transcribe.py:126: UserWarning: FP16 is not supported on CPU; using FP32 instead\n",
      "  warnings.warn(\"FP16 is not supported on CPU; using FP32 instead\")\n"
     ]
    },
    {
     "name": "stdout",
     "output_type": "stream",
     "text": [
      "reference_text - predicted_text: thời tiết ấm áp như thể là đầu hè - hãy subscribe cho kênh ghiền mì gõ để không bỏ lỡ những video hấp dẫn\n",
      "Processing: FPTOpenSpeechData_Set001_V0.1_000097.mp3\n"
     ]
    },
    {
     "name": "stderr",
     "output_type": "stream",
     "text": [
      "/home/ngo/anaconda3/lib/python3.12/site-packages/whisper/transcribe.py:126: UserWarning: FP16 is not supported on CPU; using FP32 instead\n",
      "  warnings.warn(\"FP16 is not supported on CPU; using FP32 instead\")\n"
     ]
    },
    {
     "name": "stdout",
     "output_type": "stream",
     "text": [
      "reference_text - predicted_text: chúng tôi có bốn người - chúng tôi tỏ bổ lời\n",
      "Processing: FPTOpenSpeechData_Set001_V0.1_000098.mp3\n"
     ]
    },
    {
     "name": "stderr",
     "output_type": "stream",
     "text": [
      "/home/ngo/anaconda3/lib/python3.12/site-packages/whisper/transcribe.py:126: UserWarning: FP16 is not supported on CPU; using FP32 instead\n",
      "  warnings.warn(\"FP16 is not supported on CPU; using FP32 instead\")\n"
     ]
    },
    {
     "name": "stdout",
     "output_type": "stream",
     "text": [
      "reference_text - predicted_text: vẻ đẹp khuôn mặt và bản năng tình dục quan hệ tương hỗ chặt chẽ với nhau - về đẹp khung mắt ta đã nên tìm nhiều quan hệ, cơ hội, thực sự với nhau.\n",
      "Processing: FPTOpenSpeechData_Set001_V0.1_000099.mp3\n"
     ]
    },
    {
     "name": "stderr",
     "output_type": "stream",
     "text": [
      "/home/ngo/anaconda3/lib/python3.12/site-packages/whisper/transcribe.py:126: UserWarning: FP16 is not supported on CPU; using FP32 instead\n",
      "  warnings.warn(\"FP16 is not supported on CPU; using FP32 instead\")\n"
     ]
    },
    {
     "name": "stdout",
     "output_type": "stream",
     "text": [
      "reference_text - predicted_text: hầu bàn của quý khách sẽ là alfredo - thông bằng của quý khách sẽ là o2o.\n",
      "Processing: FPTOpenSpeechData_Set001_V0.1_000100.mp3\n"
     ]
    },
    {
     "name": "stderr",
     "output_type": "stream",
     "text": [
      "/home/ngo/anaconda3/lib/python3.12/site-packages/whisper/transcribe.py:126: UserWarning: FP16 is not supported on CPU; using FP32 instead\n",
      "  warnings.warn(\"FP16 is not supported on CPU; using FP32 instead\")\n"
     ]
    },
    {
     "name": "stdout",
     "output_type": "stream",
     "text": [
      "reference_text - predicted_text: đầu gối có bị sưng đỏ hoặc cả hai - đầu gối có bị tích đỏ hoặc cả hai số\n",
      "Processing: FPTOpenSpeechData_Set001_V0.1_000101.mp3\n"
     ]
    },
    {
     "name": "stderr",
     "output_type": "stream",
     "text": [
      "/home/ngo/anaconda3/lib/python3.12/site-packages/whisper/transcribe.py:126: UserWarning: FP16 is not supported on CPU; using FP32 instead\n",
      "  warnings.warn(\"FP16 is not supported on CPU; using FP32 instead\")\n"
     ]
    },
    {
     "name": "stdout",
     "output_type": "stream",
     "text": [
      "reference_text - predicted_text: hút thuốc bị hạn chế trong khu vực công cộng - cảm ơn các bạn đã theo dõi và hẹn gặp lại.\n",
      "Processing: FPTOpenSpeechData_Set001_V0.1_000102.mp3\n"
     ]
    },
    {
     "name": "stderr",
     "output_type": "stream",
     "text": [
      "/home/ngo/anaconda3/lib/python3.12/site-packages/whisper/transcribe.py:126: UserWarning: FP16 is not supported on CPU; using FP32 instead\n",
      "  warnings.warn(\"FP16 is not supported on CPU; using FP32 instead\")\n"
     ]
    },
    {
     "name": "stdout",
     "output_type": "stream",
     "text": [
      "reference_text - predicted_text: chẳng phải là bệnh hiểm nghèo nhưng trĩ vẫn là bệnh gây khó chịu cho bệnh nhân bởi làm cản trở công việc của họ lúc làm việc cũng như lúc ngủ họ vẫn phải lo nghĩ giáo sư nghĩa nói - chẳng phải là bệnh người nghèo, nhưng chỉ vẫn là bệnh gây khó chịu sôi. tận nhân về làm tàn trễ công việc của họ, lúc làm việc cũng như lúc ngủ, họ vẫn phải nghe những giáo dư nghĩa nói.\n",
      "Processing: FPTOpenSpeechData_Set001_V0.1_000103.mp3\n"
     ]
    },
    {
     "name": "stderr",
     "output_type": "stream",
     "text": [
      "/home/ngo/anaconda3/lib/python3.12/site-packages/whisper/transcribe.py:126: UserWarning: FP16 is not supported on CPU; using FP32 instead\n",
      "  warnings.warn(\"FP16 is not supported on CPU; using FP32 instead\")\n"
     ]
    },
    {
     "name": "stdout",
     "output_type": "stream",
     "text": [
      "reference_text - predicted_text: chuyển máy cho ai - tự nhiên là như vậy.\n",
      "Processing: FPTOpenSpeechData_Set001_V0.1_000104.mp3\n"
     ]
    },
    {
     "name": "stderr",
     "output_type": "stream",
     "text": [
      "/home/ngo/anaconda3/lib/python3.12/site-packages/whisper/transcribe.py:126: UserWarning: FP16 is not supported on CPU; using FP32 instead\n",
      "  warnings.warn(\"FP16 is not supported on CPU; using FP32 instead\")\n"
     ]
    },
    {
     "name": "stdout",
     "output_type": "stream",
     "text": [
      "reference_text - predicted_text: kết quả lao động của tôi đến đâu thì tác phẩm trả lời - kết quả là gặp lại một số đánh giá thị trách thẳng trả lời.\n",
      "Processing: FPTOpenSpeechData_Set001_V0.1_000105.mp3\n"
     ]
    },
    {
     "name": "stderr",
     "output_type": "stream",
     "text": [
      "/home/ngo/anaconda3/lib/python3.12/site-packages/whisper/transcribe.py:126: UserWarning: FP16 is not supported on CPU; using FP32 instead\n",
      "  warnings.warn(\"FP16 is not supported on CPU; using FP32 instead\")\n"
     ]
    },
    {
     "name": "stdout",
     "output_type": "stream",
     "text": [
      "reference_text - predicted_text: khi những chiếc đĩa được dỡ bỏ lũ hà mã cũng chẳng thèm chú ý tới những chiếc nhãn đó nữa - trước khi những chữ nghĩa được dỡ bỏ, lũ hài vã cũng càng thàm thùy tới những chữ nhan đồn nữa.\n",
      "Processing: FPTOpenSpeechData_Set001_V0.1_000106.mp3\n"
     ]
    },
    {
     "name": "stderr",
     "output_type": "stream",
     "text": [
      "/home/ngo/anaconda3/lib/python3.12/site-packages/whisper/transcribe.py:126: UserWarning: FP16 is not supported on CPU; using FP32 instead\n",
      "  warnings.warn(\"FP16 is not supported on CPU; using FP32 instead\")\n"
     ]
    },
    {
     "name": "stdout",
     "output_type": "stream",
     "text": [
      "reference_text - predicted_text: không vậy không sao tôi sẽ gọi ông ấy sau cảm ơn - không quên không sao tôi thật là không thể thao tâm ơn.\n",
      "Processing: FPTOpenSpeechData_Set001_V0.1_000107.mp3\n"
     ]
    },
    {
     "name": "stderr",
     "output_type": "stream",
     "text": [
      "/home/ngo/anaconda3/lib/python3.12/site-packages/whisper/transcribe.py:126: UserWarning: FP16 is not supported on CPU; using FP32 instead\n",
      "  warnings.warn(\"FP16 is not supported on CPU; using FP32 instead\")\n"
     ]
    },
    {
     "name": "stdout",
     "output_type": "stream",
     "text": [
      "reference_text - predicted_text: có giảm giá cho người cao niên không - có giảm giá cho người cao niên không?\n",
      "Processing: FPTOpenSpeechData_Set001_V0.1_000108.mp3\n"
     ]
    },
    {
     "name": "stderr",
     "output_type": "stream",
     "text": [
      "/home/ngo/anaconda3/lib/python3.12/site-packages/whisper/transcribe.py:126: UserWarning: FP16 is not supported on CPU; using FP32 instead\n",
      "  warnings.warn(\"FP16 is not supported on CPU; using FP32 instead\")\n"
     ]
    },
    {
     "name": "stdout",
     "output_type": "stream",
     "text": [
      "reference_text - predicted_text: hãy gọi cảnh sát ngay - hãy ngồi cảnh sát ngay\n",
      "Processing: FPTOpenSpeechData_Set001_V0.1_000109.mp3\n"
     ]
    },
    {
     "name": "stderr",
     "output_type": "stream",
     "text": [
      "/home/ngo/anaconda3/lib/python3.12/site-packages/whisper/transcribe.py:126: UserWarning: FP16 is not supported on CPU; using FP32 instead\n",
      "  warnings.warn(\"FP16 is not supported on CPU; using FP32 instead\")\n"
     ]
    },
    {
     "name": "stdout",
     "output_type": "stream",
     "text": [
      "reference_text - predicted_text: bắt đầu đếm - bắt đầu điểm.\n",
      "Processing: FPTOpenSpeechData_Set001_V0.1_000110.mp3\n"
     ]
    },
    {
     "name": "stderr",
     "output_type": "stream",
     "text": [
      "/home/ngo/anaconda3/lib/python3.12/site-packages/whisper/transcribe.py:126: UserWarning: FP16 is not supported on CPU; using FP32 instead\n",
      "  warnings.warn(\"FP16 is not supported on CPU; using FP32 instead\")\n"
     ]
    },
    {
     "name": "stdout",
     "output_type": "stream",
     "text": [
      "reference_text - predicted_text: anh có bị đau do mệt mỏi không - anh có bị đau dấu gì không?\n",
      "Processing: FPTOpenSpeechData_Set001_V0.1_000111.mp3\n"
     ]
    },
    {
     "name": "stderr",
     "output_type": "stream",
     "text": [
      "/home/ngo/anaconda3/lib/python3.12/site-packages/whisper/transcribe.py:126: UserWarning: FP16 is not supported on CPU; using FP32 instead\n",
      "  warnings.warn(\"FP16 is not supported on CPU; using FP32 instead\")\n"
     ]
    },
    {
     "name": "stdout",
     "output_type": "stream",
     "text": [
      "reference_text - predicted_text: lãi suất cho vay cũng đã giảm mạnh theo lãi huy động vốn lãi nhiều vẫn chẳng có người nào gửi cả - lại cho tôi vai cũng đã giảm mạnh cho lại anh đoạn 4, lại anh nhiều vẫn chẳng có người nào dùm trả.\n",
      "Processing: FPTOpenSpeechData_Set001_V0.1_000112.mp3\n"
     ]
    },
    {
     "name": "stderr",
     "output_type": "stream",
     "text": [
      "/home/ngo/anaconda3/lib/python3.12/site-packages/whisper/transcribe.py:126: UserWarning: FP16 is not supported on CPU; using FP32 instead\n",
      "  warnings.warn(\"FP16 is not supported on CPU; using FP32 instead\")\n"
     ]
    },
    {
     "name": "stdout",
     "output_type": "stream",
     "text": [
      "reference_text - predicted_text: các nhà khoa học đang tiến thêm một bước - các nhà khoa học đang kiếm thêm một bước.\n",
      "Processing: FPTOpenSpeechData_Set001_V0.1_000113.mp3\n"
     ]
    },
    {
     "name": "stderr",
     "output_type": "stream",
     "text": [
      "/home/ngo/anaconda3/lib/python3.12/site-packages/whisper/transcribe.py:126: UserWarning: FP16 is not supported on CPU; using FP32 instead\n",
      "  warnings.warn(\"FP16 is not supported on CPU; using FP32 instead\")\n"
     ]
    },
    {
     "name": "stdout",
     "output_type": "stream",
     "text": [
      "reference_text - predicted_text: cùng chuẩn và ngũ hai đối tượng khác chuyên làm nhiệm vụ đưa người sang trung quốc là nguyễn vũ hải và võ cảnh dũng cùng trú tại bắc giang cũng bị cảnh sát bắt - cùng chuẩn và ngũ hai đối tượng khác đứng làm nhiệm vụ đưa người sang trung quốc là nguyễn vũ hà và võ cảnh dũng cùng chúng ta báo ra chuẩn bị tàn sát bắt.\n",
      "Processing: FPTOpenSpeechData_Set001_V0.1_000114.mp3\n"
     ]
    },
    {
     "name": "stderr",
     "output_type": "stream",
     "text": [
      "/home/ngo/anaconda3/lib/python3.12/site-packages/whisper/transcribe.py:126: UserWarning: FP16 is not supported on CPU; using FP32 instead\n",
      "  warnings.warn(\"FP16 is not supported on CPU; using FP32 instead\")\n"
     ]
    },
    {
     "name": "stdout",
     "output_type": "stream",
     "text": [
      "reference_text - predicted_text: hệ thống phòng ngự tài năng và giàu kinh nghiệm - hệ thống phòng bị phá các báo giáo kích hiệu\n",
      "Processing: FPTOpenSpeechData_Set001_V0.1_000115.mp3\n"
     ]
    },
    {
     "name": "stderr",
     "output_type": "stream",
     "text": [
      "/home/ngo/anaconda3/lib/python3.12/site-packages/whisper/transcribe.py:126: UserWarning: FP16 is not supported on CPU; using FP32 instead\n",
      "  warnings.warn(\"FP16 is not supported on CPU; using FP32 instead\")\n"
     ]
    },
    {
     "name": "stdout",
     "output_type": "stream",
     "text": [
      "reference_text - predicted_text: sẽ đủ sức cạnh tranh với nước ngoài - sẽ đủ sức cạnh tranh với chúng tôi.\n",
      "Processing: FPTOpenSpeechData_Set001_V0.1_000116.mp3\n"
     ]
    },
    {
     "name": "stderr",
     "output_type": "stream",
     "text": [
      "/home/ngo/anaconda3/lib/python3.12/site-packages/whisper/transcribe.py:126: UserWarning: FP16 is not supported on CPU; using FP32 instead\n",
      "  warnings.warn(\"FP16 is not supported on CPU; using FP32 instead\")\n"
     ]
    },
    {
     "name": "stdout",
     "output_type": "stream",
     "text": [
      "reference_text - predicted_text: giơ tay lên để đồng ý - rồi tất cả mọi người đi đâu nha.\n",
      "Processing: FPTOpenSpeechData_Set001_V0.1_000117.mp3\n"
     ]
    },
    {
     "name": "stderr",
     "output_type": "stream",
     "text": [
      "/home/ngo/anaconda3/lib/python3.12/site-packages/whisper/transcribe.py:126: UserWarning: FP16 is not supported on CPU; using FP32 instead\n",
      "  warnings.warn(\"FP16 is not supported on CPU; using FP32 instead\")\n"
     ]
    },
    {
     "name": "stdout",
     "output_type": "stream",
     "text": [
      "reference_text - predicted_text: vui lòng trả mười đô la - hãy subscribe cho kênh ghiền mì gõ để không bỏ lỡ những video hấp dẫn\n",
      "Processing: FPTOpenSpeechData_Set001_V0.1_000118.mp3\n"
     ]
    },
    {
     "name": "stderr",
     "output_type": "stream",
     "text": [
      "/home/ngo/anaconda3/lib/python3.12/site-packages/whisper/transcribe.py:126: UserWarning: FP16 is not supported on CPU; using FP32 instead\n",
      "  warnings.warn(\"FP16 is not supported on CPU; using FP32 instead\")\n"
     ]
    },
    {
     "name": "stdout",
     "output_type": "stream",
     "text": [
      "reference_text - predicted_text: đây là hồi chuông cảnh báo về sự mất an toàn lưới điện trên địa bàn - đây là hội thu cập báo về sự quốc án và ưu định trên địa bàn.\n",
      "Processing: FPTOpenSpeechData_Set001_V0.1_000119.mp3\n"
     ]
    },
    {
     "name": "stderr",
     "output_type": "stream",
     "text": [
      "/home/ngo/anaconda3/lib/python3.12/site-packages/whisper/transcribe.py:126: UserWarning: FP16 is not supported on CPU; using FP32 instead\n",
      "  warnings.warn(\"FP16 is not supported on CPU; using FP32 instead\")\n"
     ]
    },
    {
     "name": "stdout",
     "output_type": "stream",
     "text": [
      "reference_text - predicted_text: ban đêm bắng cây đa - bạn đem bắn tay đạp\n",
      "Processing: FPTOpenSpeechData_Set001_V0.1_000120.mp3\n"
     ]
    },
    {
     "name": "stderr",
     "output_type": "stream",
     "text": [
      "/home/ngo/anaconda3/lib/python3.12/site-packages/whisper/transcribe.py:126: UserWarning: FP16 is not supported on CPU; using FP32 instead\n",
      "  warnings.warn(\"FP16 is not supported on CPU; using FP32 instead\")\n"
     ]
    },
    {
     "name": "stdout",
     "output_type": "stream",
     "text": [
      "reference_text - predicted_text: kênh hai ti vi - kim hai tv\n",
      "Processing: FPTOpenSpeechData_Set001_V0.1_000121.mp3\n"
     ]
    },
    {
     "name": "stderr",
     "output_type": "stream",
     "text": [
      "/home/ngo/anaconda3/lib/python3.12/site-packages/whisper/transcribe.py:126: UserWarning: FP16 is not supported on CPU; using FP32 instead\n",
      "  warnings.warn(\"FP16 is not supported on CPU; using FP32 instead\")\n"
     ]
    },
    {
     "name": "stdout",
     "output_type": "stream",
     "text": [
      "reference_text - predicted_text: này chúng tôi sắp nhổ neo - đây, chị có chặt đồ nào?\n",
      "Processing: FPTOpenSpeechData_Set001_V0.1_000122.mp3\n"
     ]
    },
    {
     "name": "stderr",
     "output_type": "stream",
     "text": [
      "/home/ngo/anaconda3/lib/python3.12/site-packages/whisper/transcribe.py:126: UserWarning: FP16 is not supported on CPU; using FP32 instead\n",
      "  warnings.warn(\"FP16 is not supported on CPU; using FP32 instead\")\n"
     ]
    },
    {
     "name": "stdout",
     "output_type": "stream",
     "text": [
      "reference_text - predicted_text: mở - mà...\n",
      "Processing: FPTOpenSpeechData_Set001_V0.1_000123.mp3\n"
     ]
    },
    {
     "name": "stderr",
     "output_type": "stream",
     "text": [
      "/home/ngo/anaconda3/lib/python3.12/site-packages/whisper/transcribe.py:126: UserWarning: FP16 is not supported on CPU; using FP32 instead\n",
      "  warnings.warn(\"FP16 is not supported on CPU; using FP32 instead\")\n"
     ]
    },
    {
     "name": "stdout",
     "output_type": "stream",
     "text": [
      "reference_text - predicted_text: độc giả của tôi muốn hướng tới là sinh viên và trí thức - các bạn có thể nhớ like, share và đăng ký kênh để ủng hộ kênh của mình nhé.\n",
      "Processing: FPTOpenSpeechData_Set001_V0.1_000124.mp3\n"
     ]
    },
    {
     "name": "stderr",
     "output_type": "stream",
     "text": [
      "/home/ngo/anaconda3/lib/python3.12/site-packages/whisper/transcribe.py:126: UserWarning: FP16 is not supported on CPU; using FP32 instead\n",
      "  warnings.warn(\"FP16 is not supported on CPU; using FP32 instead\")\n"
     ]
    },
    {
     "name": "stdout",
     "output_type": "stream",
     "text": [
      "reference_text - predicted_text: không mở cửa ồ ạt - xem mọi điều ở app\n",
      "Processing: FPTOpenSpeechData_Set001_V0.1_000125.mp3\n"
     ]
    },
    {
     "name": "stderr",
     "output_type": "stream",
     "text": [
      "/home/ngo/anaconda3/lib/python3.12/site-packages/whisper/transcribe.py:126: UserWarning: FP16 is not supported on CPU; using FP32 instead\n",
      "  warnings.warn(\"FP16 is not supported on CPU; using FP32 instead\")\n"
     ]
    },
    {
     "name": "stdout",
     "output_type": "stream",
     "text": [
      "reference_text - predicted_text: tôi muốn đổi cái này lấy cái màu xanh - tôi muốn về cải này để cải màu xanh\n",
      "Processing: FPTOpenSpeechData_Set001_V0.1_000126.mp3\n"
     ]
    },
    {
     "name": "stderr",
     "output_type": "stream",
     "text": [
      "/home/ngo/anaconda3/lib/python3.12/site-packages/whisper/transcribe.py:126: UserWarning: FP16 is not supported on CPU; using FP32 instead\n",
      "  warnings.warn(\"FP16 is not supported on CPU; using FP32 instead\")\n"
     ]
    },
    {
     "name": "stdout",
     "output_type": "stream",
     "text": [
      "reference_text - predicted_text: sống với em anh nhé - sống với em anh nhé\n",
      "Processing: FPTOpenSpeechData_Set001_V0.1_000127.mp3\n"
     ]
    },
    {
     "name": "stderr",
     "output_type": "stream",
     "text": [
      "/home/ngo/anaconda3/lib/python3.12/site-packages/whisper/transcribe.py:126: UserWarning: FP16 is not supported on CPU; using FP32 instead\n",
      "  warnings.warn(\"FP16 is not supported on CPU; using FP32 instead\")\n"
     ]
    },
    {
     "name": "stdout",
     "output_type": "stream",
     "text": [
      "reference_text - predicted_text: vừa gọi điện vừa đi lại rất gây hại cho sức khỏe - vừa gọi điện vừa đi lại hết gây hại cho sức khỏe\n",
      "Processing: FPTOpenSpeechData_Set001_V0.1_000128.mp3\n"
     ]
    },
    {
     "name": "stderr",
     "output_type": "stream",
     "text": [
      "/home/ngo/anaconda3/lib/python3.12/site-packages/whisper/transcribe.py:126: UserWarning: FP16 is not supported on CPU; using FP32 instead\n",
      "  warnings.warn(\"FP16 is not supported on CPU; using FP32 instead\")\n"
     ]
    },
    {
     "name": "stdout",
     "output_type": "stream",
     "text": [
      "reference_text - predicted_text: tôi có thể tìm bảng tin ở đâu - cái quần đề chính bán chính ở đâu?\n",
      "Processing: FPTOpenSpeechData_Set001_V0.1_000129.mp3\n"
     ]
    },
    {
     "name": "stderr",
     "output_type": "stream",
     "text": [
      "/home/ngo/anaconda3/lib/python3.12/site-packages/whisper/transcribe.py:126: UserWarning: FP16 is not supported on CPU; using FP32 instead\n",
      "  warnings.warn(\"FP16 is not supported on CPU; using FP32 instead\")\n"
     ]
    },
    {
     "name": "stdout",
     "output_type": "stream",
     "text": [
      "reference_text - predicted_text: anh chuẩn bị toa này cho tôi được không - anh cần bị tòa này do tôi được không?\n",
      "Processing: FPTOpenSpeechData_Set001_V0.1_000130.mp3\n"
     ]
    },
    {
     "name": "stderr",
     "output_type": "stream",
     "text": [
      "/home/ngo/anaconda3/lib/python3.12/site-packages/whisper/transcribe.py:126: UserWarning: FP16 is not supported on CPU; using FP32 instead\n",
      "  warnings.warn(\"FP16 is not supported on CPU; using FP32 instead\")\n"
     ]
    },
    {
     "name": "stdout",
     "output_type": "stream",
     "text": [
      "reference_text - predicted_text: đây là địa chỉ của anh - đây là địa chỉ của anh.\n",
      "Processing: FPTOpenSpeechData_Set001_V0.1_000131.mp3\n"
     ]
    },
    {
     "name": "stderr",
     "output_type": "stream",
     "text": [
      "/home/ngo/anaconda3/lib/python3.12/site-packages/whisper/transcribe.py:126: UserWarning: FP16 is not supported on CPU; using FP32 instead\n",
      "  warnings.warn(\"FP16 is not supported on CPU; using FP32 instead\")\n"
     ]
    },
    {
     "name": "stdout",
     "output_type": "stream",
     "text": [
      "reference_text - predicted_text: anh lắng nghe tôi một phút được không - anh lắng nghe tôi một phút được không?\n",
      "Processing: FPTOpenSpeechData_Set001_V0.1_000132.mp3\n"
     ]
    },
    {
     "name": "stderr",
     "output_type": "stream",
     "text": [
      "/home/ngo/anaconda3/lib/python3.12/site-packages/whisper/transcribe.py:126: UserWarning: FP16 is not supported on CPU; using FP32 instead\n",
      "  warnings.warn(\"FP16 is not supported on CPU; using FP32 instead\")\n"
     ]
    },
    {
     "name": "stdout",
     "output_type": "stream",
     "text": [
      "reference_text - predicted_text: lạm phát tăng là do dự báo yếu kém - hãy đăng ký kênh để ủng hộ kênh của mình nhé!\n",
      "Processing: FPTOpenSpeechData_Set001_V0.1_000133.mp3\n"
     ]
    },
    {
     "name": "stderr",
     "output_type": "stream",
     "text": [
      "/home/ngo/anaconda3/lib/python3.12/site-packages/whisper/transcribe.py:126: UserWarning: FP16 is not supported on CPU; using FP32 instead\n",
      "  warnings.warn(\"FP16 is not supported on CPU; using FP32 instead\")\n"
     ]
    },
    {
     "name": "stdout",
     "output_type": "stream",
     "text": [
      "reference_text - predicted_text: thịt gà nhồi hỗn hợp băm nhỏ - hiệp gạt, rồi hồn hợp tóc nhỏ.\n",
      "Processing: FPTOpenSpeechData_Set001_V0.1_000134.mp3\n"
     ]
    },
    {
     "name": "stderr",
     "output_type": "stream",
     "text": [
      "/home/ngo/anaconda3/lib/python3.12/site-packages/whisper/transcribe.py:126: UserWarning: FP16 is not supported on CPU; using FP32 instead\n",
      "  warnings.warn(\"FP16 is not supported on CPU; using FP32 instead\")\n"
     ]
    },
    {
     "name": "stdout",
     "output_type": "stream",
     "text": [
      "reference_text - predicted_text: trung tá nguyễn phả lại cán bộ quản giáo trực tiếp buồng số bảy chỗ ở của ông mẫu ông dũng nói kín kẽ cũng là tâm lý của người cải tạo loại án như trường hợp ông dũng - chúng ta luyện trả lại cán bộ quản giáo thịt tiếp 4 số 7 chỗ ở của ông mẫu. ông dũng nói, nhưng kẻ cũng là tân bí của người cải tạo là án như trường hợp ông dũng.\n",
      "Processing: FPTOpenSpeechData_Set001_V0.1_000135.mp3\n"
     ]
    },
    {
     "name": "stderr",
     "output_type": "stream",
     "text": [
      "/home/ngo/anaconda3/lib/python3.12/site-packages/whisper/transcribe.py:126: UserWarning: FP16 is not supported on CPU; using FP32 instead\n",
      "  warnings.warn(\"FP16 is not supported on CPU; using FP32 instead\")\n"
     ]
    },
    {
     "name": "stdout",
     "output_type": "stream",
     "text": [
      "reference_text - predicted_text: kí túc vắng tanh đèn thoát hiểm nhấp nháy chập chờn cứ như trên phim được xem ý - chỉ có cả bản tán đang phát hiện chuyện mất ngại chết trên tường nước trên trên đường trang y.\n",
      "Processing: FPTOpenSpeechData_Set001_V0.1_000136.mp3\n"
     ]
    },
    {
     "name": "stderr",
     "output_type": "stream",
     "text": [
      "/home/ngo/anaconda3/lib/python3.12/site-packages/whisper/transcribe.py:126: UserWarning: FP16 is not supported on CPU; using FP32 instead\n",
      "  warnings.warn(\"FP16 is not supported on CPU; using FP32 instead\")\n"
     ]
    },
    {
     "name": "stdout",
     "output_type": "stream",
     "text": [
      "reference_text - predicted_text: mở - mà\n",
      "Processing: FPTOpenSpeechData_Set001_V0.1_000137.mp3\n"
     ]
    },
    {
     "name": "stderr",
     "output_type": "stream",
     "text": [
      "/home/ngo/anaconda3/lib/python3.12/site-packages/whisper/transcribe.py:126: UserWarning: FP16 is not supported on CPU; using FP32 instead\n",
      "  warnings.warn(\"FP16 is not supported on CPU; using FP32 instead\")\n"
     ]
    },
    {
     "name": "stdout",
     "output_type": "stream",
     "text": [
      "reference_text - predicted_text: tốt nhất anh không nên làm nó - cổ chức anh không nên làm đó.\n",
      "Processing: FPTOpenSpeechData_Set001_V0.1_000138.mp3\n"
     ]
    },
    {
     "name": "stderr",
     "output_type": "stream",
     "text": [
      "/home/ngo/anaconda3/lib/python3.12/site-packages/whisper/transcribe.py:126: UserWarning: FP16 is not supported on CPU; using FP32 instead\n",
      "  warnings.warn(\"FP16 is not supported on CPU; using FP32 instead\")\n"
     ]
    },
    {
     "name": "stdout",
     "output_type": "stream",
     "text": [
      "reference_text - predicted_text: tôi có thể mua vé ở đâu - tôi không thể mua mẹ rồi đâu\n",
      "Processing: FPTOpenSpeechData_Set001_V0.1_000139.mp3\n"
     ]
    },
    {
     "name": "stderr",
     "output_type": "stream",
     "text": [
      "/home/ngo/anaconda3/lib/python3.12/site-packages/whisper/transcribe.py:126: UserWarning: FP16 is not supported on CPU; using FP32 instead\n",
      "  warnings.warn(\"FP16 is not supported on CPU; using FP32 instead\")\n"
     ]
    },
    {
     "name": "stdout",
     "output_type": "stream",
     "text": [
      "reference_text - predicted_text: vậy điều gì ủng hộ ý tưởng táo bạo trên - vậy đó thì hỏi thảo báo tiếp\n",
      "Processing: FPTOpenSpeechData_Set001_V0.1_000140.mp3\n"
     ]
    },
    {
     "name": "stderr",
     "output_type": "stream",
     "text": [
      "/home/ngo/anaconda3/lib/python3.12/site-packages/whisper/transcribe.py:126: UserWarning: FP16 is not supported on CPU; using FP32 instead\n",
      "  warnings.warn(\"FP16 is not supported on CPU; using FP32 instead\")\n"
     ]
    },
    {
     "name": "stdout",
     "output_type": "stream",
     "text": [
      "reference_text - predicted_text: họ sẽ chơi nhiều ca khúc từ bộ phim âm thanh của âm nhạc - họ sẽ chơi nhiều ca phúc từ bộ viết, âm thanh của âm nhạc.\n",
      "Processing: FPTOpenSpeechData_Set001_V0.1_000141.mp3\n"
     ]
    },
    {
     "name": "stderr",
     "output_type": "stream",
     "text": [
      "/home/ngo/anaconda3/lib/python3.12/site-packages/whisper/transcribe.py:126: UserWarning: FP16 is not supported on CPU; using FP32 instead\n",
      "  warnings.warn(\"FP16 is not supported on CPU; using FP32 instead\")\n"
     ]
    },
    {
     "name": "stdout",
     "output_type": "stream",
     "text": [
      "reference_text - predicted_text: mã vùng của plymouth là không một bảy năm hai - mà vùng của bờ lai mau là 01752\n",
      "Processing: FPTOpenSpeechData_Set001_V0.1_000142.mp3\n"
     ]
    },
    {
     "name": "stderr",
     "output_type": "stream",
     "text": [
      "/home/ngo/anaconda3/lib/python3.12/site-packages/whisper/transcribe.py:126: UserWarning: FP16 is not supported on CPU; using FP32 instead\n",
      "  warnings.warn(\"FP16 is not supported on CPU; using FP32 instead\")\n"
     ]
    },
    {
     "name": "stdout",
     "output_type": "stream",
     "text": [
      "reference_text - predicted_text: không tôi luôn tỉ mỉ - cơ lợi bình.\n",
      "Processing: FPTOpenSpeechData_Set001_V0.1_000143.mp3\n"
     ]
    },
    {
     "name": "stderr",
     "output_type": "stream",
     "text": [
      "/home/ngo/anaconda3/lib/python3.12/site-packages/whisper/transcribe.py:126: UserWarning: FP16 is not supported on CPU; using FP32 instead\n",
      "  warnings.warn(\"FP16 is not supported on CPU; using FP32 instead\")\n"
     ]
    },
    {
     "name": "stdout",
     "output_type": "stream",
     "text": [
      "reference_text - predicted_text: một số trò chơi đòi hỏi các động tác chậm thận trọng hãy từ từ - một số trò chơi gọi hỏi các động tác dân thành trạng thay tư tư.\n",
      "Processing: FPTOpenSpeechData_Set001_V0.1_000144.mp3\n"
     ]
    },
    {
     "name": "stderr",
     "output_type": "stream",
     "text": [
      "/home/ngo/anaconda3/lib/python3.12/site-packages/whisper/transcribe.py:126: UserWarning: FP16 is not supported on CPU; using FP32 instead\n",
      "  warnings.warn(\"FP16 is not supported on CPU; using FP32 instead\")\n"
     ]
    },
    {
     "name": "stdout",
     "output_type": "stream",
     "text": [
      "reference_text - predicted_text: có nên ưu tiên cho các hoạt động bí mật - hãy subscribe cho kênh ghiền mì gõ để không bỏ lỡ những video hấp dẫn\n",
      "Processing: FPTOpenSpeechData_Set001_V0.1_000145.mp3\n"
     ]
    },
    {
     "name": "stderr",
     "output_type": "stream",
     "text": [
      "/home/ngo/anaconda3/lib/python3.12/site-packages/whisper/transcribe.py:126: UserWarning: FP16 is not supported on CPU; using FP32 instead\n",
      "  warnings.warn(\"FP16 is not supported on CPU; using FP32 instead\")\n"
     ]
    },
    {
     "name": "stdout",
     "output_type": "stream",
     "text": [
      "reference_text - predicted_text: nó là của anh - nó là của anh\n",
      "Processing: FPTOpenSpeechData_Set001_V0.1_000146.mp3\n"
     ]
    },
    {
     "name": "stderr",
     "output_type": "stream",
     "text": [
      "/home/ngo/anaconda3/lib/python3.12/site-packages/whisper/transcribe.py:126: UserWarning: FP16 is not supported on CPU; using FP32 instead\n",
      "  warnings.warn(\"FP16 is not supported on CPU; using FP32 instead\")\n"
     ]
    },
    {
     "name": "stdout",
     "output_type": "stream",
     "text": [
      "reference_text - predicted_text: -n lỗ mũi hẹp -n có tài kiếm tiền - cảm ơn các bạn đã theo dõi và hẹn gặp lại.\n",
      "Processing: FPTOpenSpeechData_Set001_V0.1_000147.mp3\n"
     ]
    },
    {
     "name": "stderr",
     "output_type": "stream",
     "text": [
      "/home/ngo/anaconda3/lib/python3.12/site-packages/whisper/transcribe.py:126: UserWarning: FP16 is not supported on CPU; using FP32 instead\n",
      "  warnings.warn(\"FP16 is not supported on CPU; using FP32 instead\")\n"
     ]
    },
    {
     "name": "stdout",
     "output_type": "stream",
     "text": [
      "reference_text - predicted_text: đây là ghi chép cho phí nào - đây là video cho phí mạng.\n",
      "Processing: FPTOpenSpeechData_Set001_V0.1_000148.mp3\n"
     ]
    },
    {
     "name": "stderr",
     "output_type": "stream",
     "text": [
      "/home/ngo/anaconda3/lib/python3.12/site-packages/whisper/transcribe.py:126: UserWarning: FP16 is not supported on CPU; using FP32 instead\n",
      "  warnings.warn(\"FP16 is not supported on CPU; using FP32 instead\")\n"
     ]
    },
    {
     "name": "stdout",
     "output_type": "stream",
     "text": [
      "reference_text - predicted_text: tôi bị các triệu chứng viêm phổi - tôi bị gặp cho tình yêu tôi.\n",
      "Processing: FPTOpenSpeechData_Set001_V0.1_000149.mp3\n"
     ]
    },
    {
     "name": "stderr",
     "output_type": "stream",
     "text": [
      "/home/ngo/anaconda3/lib/python3.12/site-packages/whisper/transcribe.py:126: UserWarning: FP16 is not supported on CPU; using FP32 instead\n",
      "  warnings.warn(\"FP16 is not supported on CPU; using FP32 instead\")\n"
     ]
    },
    {
     "name": "stdout",
     "output_type": "stream",
     "text": [
      "reference_text - predicted_text: còn bao nhiều giờ thì chúng ta sẽ đến new york - còn 30 giờ thì chúng ta sẽ đến như đó.\n",
      "Processing: FPTOpenSpeechData_Set001_V0.1_000150.mp3\n"
     ]
    },
    {
     "name": "stderr",
     "output_type": "stream",
     "text": [
      "/home/ngo/anaconda3/lib/python3.12/site-packages/whisper/transcribe.py:126: UserWarning: FP16 is not supported on CPU; using FP32 instead\n",
      "  warnings.warn(\"FP16 is not supported on CPU; using FP32 instead\")\n"
     ]
    },
    {
     "name": "stdout",
     "output_type": "stream",
     "text": [
      "reference_text - predicted_text: thị trường chính thức kém sôi động nên thị trường phi tập trung cũng ê ẩm - thị trường chính thức kém sở động đến thị trường phi tập trung phối lập.\n",
      "Processing: FPTOpenSpeechData_Set001_V0.1_000151.mp3\n"
     ]
    },
    {
     "name": "stderr",
     "output_type": "stream",
     "text": [
      "/home/ngo/anaconda3/lib/python3.12/site-packages/whisper/transcribe.py:126: UserWarning: FP16 is not supported on CPU; using FP32 instead\n",
      "  warnings.warn(\"FP16 is not supported on CPU; using FP32 instead\")\n"
     ]
    },
    {
     "name": "stdout",
     "output_type": "stream",
     "text": [
      "reference_text - predicted_text: chúng tôi đã thuê căn hộ - chúng tôi đã thuê căn hộ\n",
      "Processing: FPTOpenSpeechData_Set001_V0.1_000152.mp3\n"
     ]
    },
    {
     "name": "stderr",
     "output_type": "stream",
     "text": [
      "/home/ngo/anaconda3/lib/python3.12/site-packages/whisper/transcribe.py:126: UserWarning: FP16 is not supported on CPU; using FP32 instead\n",
      "  warnings.warn(\"FP16 is not supported on CPU; using FP32 instead\")\n"
     ]
    },
    {
     "name": "stdout",
     "output_type": "stream",
     "text": [
      "reference_text - predicted_text: mở lên - màu đen!\n",
      "Processing: FPTOpenSpeechData_Set001_V0.1_000153.mp3\n"
     ]
    },
    {
     "name": "stderr",
     "output_type": "stream",
     "text": [
      "/home/ngo/anaconda3/lib/python3.12/site-packages/whisper/transcribe.py:126: UserWarning: FP16 is not supported on CPU; using FP32 instead\n",
      "  warnings.warn(\"FP16 is not supported on CPU; using FP32 instead\")\n"
     ]
    },
    {
     "name": "stdout",
     "output_type": "stream",
     "text": [
      "reference_text - predicted_text: cuộc tình đó tồn tại cho tới ngày cô ta -n khối tài sản mà ông giao phó rồi biến mất tăm - cuộc tình đó thông tải cho tới ngày cô ta chưa còn có thời gian mà ông gia phó sẽ bị mất tâm\n",
      "Processing: FPTOpenSpeechData_Set001_V0.1_000154.mp3\n"
     ]
    },
    {
     "name": "stderr",
     "output_type": "stream",
     "text": [
      "/home/ngo/anaconda3/lib/python3.12/site-packages/whisper/transcribe.py:126: UserWarning: FP16 is not supported on CPU; using FP32 instead\n",
      "  warnings.warn(\"FP16 is not supported on CPU; using FP32 instead\")\n"
     ]
    },
    {
     "name": "stdout",
     "output_type": "stream",
     "text": [
      "reference_text - predicted_text: xin vui lòng hãy sẵn sàng vào lúc chín giờ rưỡi - xin hãy đăng ký kênh để ủng hộ kênh của mình nhé.\n",
      "Processing: FPTOpenSpeechData_Set001_V0.1_000155.mp3\n"
     ]
    },
    {
     "name": "stderr",
     "output_type": "stream",
     "text": [
      "/home/ngo/anaconda3/lib/python3.12/site-packages/whisper/transcribe.py:126: UserWarning: FP16 is not supported on CPU; using FP32 instead\n",
      "  warnings.warn(\"FP16 is not supported on CPU; using FP32 instead\")\n"
     ]
    },
    {
     "name": "stdout",
     "output_type": "stream",
     "text": [
      "reference_text - predicted_text: tôi không nghĩ như vậy - báo cáo thông tin ngươi rồi.\n",
      "Processing: FPTOpenSpeechData_Set001_V0.1_000156.mp3\n"
     ]
    },
    {
     "name": "stderr",
     "output_type": "stream",
     "text": [
      "/home/ngo/anaconda3/lib/python3.12/site-packages/whisper/transcribe.py:126: UserWarning: FP16 is not supported on CPU; using FP32 instead\n",
      "  warnings.warn(\"FP16 is not supported on CPU; using FP32 instead\")\n"
     ]
    },
    {
     "name": "stdout",
     "output_type": "stream",
     "text": [
      "reference_text - predicted_text: cách dễ nhất là tìm người khác để yêu - cách dễ chất hạt định người khác để yêu\n",
      "Processing: FPTOpenSpeechData_Set001_V0.1_000157.mp3\n"
     ]
    },
    {
     "name": "stderr",
     "output_type": "stream",
     "text": [
      "/home/ngo/anaconda3/lib/python3.12/site-packages/whisper/transcribe.py:126: UserWarning: FP16 is not supported on CPU; using FP32 instead\n",
      "  warnings.warn(\"FP16 is not supported on CPU; using FP32 instead\")\n"
     ]
    },
    {
     "name": "stdout",
     "output_type": "stream",
     "text": [
      "reference_text - predicted_text: hãy tận dụng những gì có sẵn từ thiên nhiên để làm đẹp làn da - hãy tự dụng khi có sẵn thức thuyết để làm cho các cha.\n",
      "Processing: FPTOpenSpeechData_Set001_V0.1_000158.mp3\n"
     ]
    },
    {
     "name": "stderr",
     "output_type": "stream",
     "text": [
      "/home/ngo/anaconda3/lib/python3.12/site-packages/whisper/transcribe.py:126: UserWarning: FP16 is not supported on CPU; using FP32 instead\n",
      "  warnings.warn(\"FP16 is not supported on CPU; using FP32 instead\")\n"
     ]
    },
    {
     "name": "stdout",
     "output_type": "stream",
     "text": [
      "reference_text - predicted_text: cô lấy cho tôi cái khăn nào - cô lấy cho tôi cái thằng nào?\n",
      "Processing: FPTOpenSpeechData_Set001_V0.1_000159.mp3\n"
     ]
    },
    {
     "name": "stderr",
     "output_type": "stream",
     "text": [
      "/home/ngo/anaconda3/lib/python3.12/site-packages/whisper/transcribe.py:126: UserWarning: FP16 is not supported on CPU; using FP32 instead\n",
      "  warnings.warn(\"FP16 is not supported on CPU; using FP32 instead\")\n"
     ]
    },
    {
     "name": "stdout",
     "output_type": "stream",
     "text": [
      "reference_text - predicted_text: lối đánh tấn công quen thuộc của chị biến mất thay vào đó là những đường bóng yếu ớt - điều đánh tấn công quan trọng của chị biến mất hay gọi đó là những nguồn bóng yếu ớt\n",
      "Processing: FPTOpenSpeechData_Set001_V0.1_000160.mp3\n"
     ]
    },
    {
     "name": "stderr",
     "output_type": "stream",
     "text": [
      "/home/ngo/anaconda3/lib/python3.12/site-packages/whisper/transcribe.py:126: UserWarning: FP16 is not supported on CPU; using FP32 instead\n",
      "  warnings.warn(\"FP16 is not supported on CPU; using FP32 instead\")\n"
     ]
    },
    {
     "name": "stdout",
     "output_type": "stream",
     "text": [
      "reference_text - predicted_text: tôi có thể có bản đồ đường đi của đảo maui không - không có thể có bản đồ giống như vừa đã, không ai cũng không.\n",
      "Processing: FPTOpenSpeechData_Set001_V0.1_000161.mp3\n"
     ]
    },
    {
     "name": "stderr",
     "output_type": "stream",
     "text": [
      "/home/ngo/anaconda3/lib/python3.12/site-packages/whisper/transcribe.py:126: UserWarning: FP16 is not supported on CPU; using FP32 instead\n",
      "  warnings.warn(\"FP16 is not supported on CPU; using FP32 instead\")\n"
     ]
    },
    {
     "name": "stdout",
     "output_type": "stream",
     "text": [
      "reference_text - predicted_text: tôi bị suyễn - tôi đi xuyên.\n",
      "Processing: FPTOpenSpeechData_Set001_V0.1_000162.mp3\n"
     ]
    },
    {
     "name": "stderr",
     "output_type": "stream",
     "text": [
      "/home/ngo/anaconda3/lib/python3.12/site-packages/whisper/transcribe.py:126: UserWarning: FP16 is not supported on CPU; using FP32 instead\n",
      "  warnings.warn(\"FP16 is not supported on CPU; using FP32 instead\")\n"
     ]
    },
    {
     "name": "stdout",
     "output_type": "stream",
     "text": [
      "reference_text - predicted_text: thành ra càng cổ phần hóa ồ ạt càng bán giá nội bộ ồ ạt trừ phi có sẵn một cơ chế kiểm soát - hãy đăng ký kênh để ủng hộ kênh của mình nhé.\n",
      "Processing: FPTOpenSpeechData_Set001_V0.1_000163.mp3\n"
     ]
    },
    {
     "name": "stderr",
     "output_type": "stream",
     "text": [
      "/home/ngo/anaconda3/lib/python3.12/site-packages/whisper/transcribe.py:126: UserWarning: FP16 is not supported on CPU; using FP32 instead\n",
      "  warnings.warn(\"FP16 is not supported on CPU; using FP32 instead\")\n"
     ]
    },
    {
     "name": "stdout",
     "output_type": "stream",
     "text": [
      "reference_text - predicted_text: nền tài chính nhật bản phụ thuộc khá lớn vào các chính sách tiền tệ của mỹ - nền tài chính nhật bản phù thuộc khá lớn vào các chính sách tuyên tạo của mỹ\n",
      "Processing: FPTOpenSpeechData_Set001_V0.1_000164.mp3\n"
     ]
    },
    {
     "name": "stderr",
     "output_type": "stream",
     "text": [
      "/home/ngo/anaconda3/lib/python3.12/site-packages/whisper/transcribe.py:126: UserWarning: FP16 is not supported on CPU; using FP32 instead\n",
      "  warnings.warn(\"FP16 is not supported on CPU; using FP32 instead\")\n"
     ]
    },
    {
     "name": "stdout",
     "output_type": "stream",
     "text": [
      "reference_text - predicted_text: anh cất hành lý này cho tôi được không - các anh hãy nhớ đối đầu không?\n",
      "Processing: FPTOpenSpeechData_Set001_V0.1_000165.mp3\n"
     ]
    },
    {
     "name": "stderr",
     "output_type": "stream",
     "text": [
      "/home/ngo/anaconda3/lib/python3.12/site-packages/whisper/transcribe.py:126: UserWarning: FP16 is not supported on CPU; using FP32 instead\n",
      "  warnings.warn(\"FP16 is not supported on CPU; using FP32 instead\")\n"
     ]
    },
    {
     "name": "stdout",
     "output_type": "stream",
     "text": [
      "reference_text - predicted_text: obon nghĩa là gì - ông môn nghe là gì?\n",
      "Processing: FPTOpenSpeechData_Set001_V0.1_000166.mp3\n"
     ]
    },
    {
     "name": "stderr",
     "output_type": "stream",
     "text": [
      "/home/ngo/anaconda3/lib/python3.12/site-packages/whisper/transcribe.py:126: UserWarning: FP16 is not supported on CPU; using FP32 instead\n",
      "  warnings.warn(\"FP16 is not supported on CPU; using FP32 instead\")\n"
     ]
    },
    {
     "name": "stdout",
     "output_type": "stream",
     "text": [
      "reference_text - predicted_text: tăng nhiệt độ lên hai mươi chín độ - căng nhiệt độ lên 29 độ.\n",
      "Processing: FPTOpenSpeechData_Set001_V0.1_000167.mp3\n"
     ]
    },
    {
     "name": "stderr",
     "output_type": "stream",
     "text": [
      "/home/ngo/anaconda3/lib/python3.12/site-packages/whisper/transcribe.py:126: UserWarning: FP16 is not supported on CPU; using FP32 instead\n",
      "  warnings.warn(\"FP16 is not supported on CPU; using FP32 instead\")\n"
     ]
    },
    {
     "name": "stdout",
     "output_type": "stream",
     "text": [
      "reference_text - predicted_text: kênh sáu - xin chào\n",
      "Processing: FPTOpenSpeechData_Set001_V0.1_000168.mp3\n"
     ]
    },
    {
     "name": "stderr",
     "output_type": "stream",
     "text": [
      "/home/ngo/anaconda3/lib/python3.12/site-packages/whisper/transcribe.py:126: UserWarning: FP16 is not supported on CPU; using FP32 instead\n",
      "  warnings.warn(\"FP16 is not supported on CPU; using FP32 instead\")\n"
     ]
    },
    {
     "name": "stdout",
     "output_type": "stream",
     "text": [
      "reference_text - predicted_text: phờ phạc sau hành trình dài - hậu tác thống dân dạy.\n",
      "Processing: FPTOpenSpeechData_Set001_V0.1_000169.mp3\n"
     ]
    },
    {
     "name": "stderr",
     "output_type": "stream",
     "text": [
      "/home/ngo/anaconda3/lib/python3.12/site-packages/whisper/transcribe.py:126: UserWarning: FP16 is not supported on CPU; using FP32 instead\n",
      "  warnings.warn(\"FP16 is not supported on CPU; using FP32 instead\")\n"
     ]
    },
    {
     "name": "stdout",
     "output_type": "stream",
     "text": [
      "reference_text - predicted_text: mười hai giờ mười lăm rồi - 12h15 rồi\n",
      "Processing: FPTOpenSpeechData_Set001_V0.1_000170.mp3\n"
     ]
    },
    {
     "name": "stderr",
     "output_type": "stream",
     "text": [
      "/home/ngo/anaconda3/lib/python3.12/site-packages/whisper/transcribe.py:126: UserWarning: FP16 is not supported on CPU; using FP32 instead\n",
      "  warnings.warn(\"FP16 is not supported on CPU; using FP32 instead\")\n"
     ]
    },
    {
     "name": "stdout",
     "output_type": "stream",
     "text": [
      "reference_text - predicted_text: tiêu cực ương ngạnh - như cực tư nạn\n",
      "Processing: FPTOpenSpeechData_Set001_V0.1_000171.mp3\n"
     ]
    },
    {
     "name": "stderr",
     "output_type": "stream",
     "text": [
      "/home/ngo/anaconda3/lib/python3.12/site-packages/whisper/transcribe.py:126: UserWarning: FP16 is not supported on CPU; using FP32 instead\n",
      "  warnings.warn(\"FP16 is not supported on CPU; using FP32 instead\")\n"
     ]
    },
    {
     "name": "stdout",
     "output_type": "stream",
     "text": [
      "reference_text - predicted_text: tuy nhiên hôm qua ông đã phá lệ - cảm ơn các bạn đã theo dõi và hẹn gặp lại.\n",
      "Processing: FPTOpenSpeechData_Set001_V0.1_000172.mp3\n"
     ]
    },
    {
     "name": "stderr",
     "output_type": "stream",
     "text": [
      "/home/ngo/anaconda3/lib/python3.12/site-packages/whisper/transcribe.py:126: UserWarning: FP16 is not supported on CPU; using FP32 instead\n",
      "  warnings.warn(\"FP16 is not supported on CPU; using FP32 instead\")\n"
     ]
    },
    {
     "name": "stdout",
     "output_type": "stream",
     "text": [
      "reference_text - predicted_text: phát triển - phát triển\n",
      "Processing: FPTOpenSpeechData_Set001_V0.1_000173.mp3\n"
     ]
    },
    {
     "name": "stderr",
     "output_type": "stream",
     "text": [
      "/home/ngo/anaconda3/lib/python3.12/site-packages/whisper/transcribe.py:126: UserWarning: FP16 is not supported on CPU; using FP32 instead\n",
      "  warnings.warn(\"FP16 is not supported on CPU; using FP32 instead\")\n"
     ]
    },
    {
     "name": "stdout",
     "output_type": "stream",
     "text": [
      "reference_text - predicted_text: cái xác cứ thế khô dần cho đến hôm nay - cảnh sát cứ thấy khô giật và để thóc anh.\n",
      "Processing: FPTOpenSpeechData_Set001_V0.1_000174.mp3\n"
     ]
    },
    {
     "name": "stderr",
     "output_type": "stream",
     "text": [
      "/home/ngo/anaconda3/lib/python3.12/site-packages/whisper/transcribe.py:126: UserWarning: FP16 is not supported on CPU; using FP32 instead\n",
      "  warnings.warn(\"FP16 is not supported on CPU; using FP32 instead\")\n"
     ]
    },
    {
     "name": "stdout",
     "output_type": "stream",
     "text": [
      "reference_text - predicted_text: ti vi vtv hai - c.v.v.v.v.2\n",
      "Processing: FPTOpenSpeechData_Set001_V0.1_000175.mp3\n"
     ]
    },
    {
     "name": "stderr",
     "output_type": "stream",
     "text": [
      "/home/ngo/anaconda3/lib/python3.12/site-packages/whisper/transcribe.py:126: UserWarning: FP16 is not supported on CPU; using FP32 instead\n",
      "  warnings.warn(\"FP16 is not supported on CPU; using FP32 instead\")\n"
     ]
    },
    {
     "name": "stdout",
     "output_type": "stream",
     "text": [
      "reference_text - predicted_text: nhóm cho rằng điều đó chứng tỏ phụ nữ tập trung hơn vào ngôn ngữ của sự hài hước - nói chung là điều đó chính tỏa phụ nữ tập trung hơn là một lúc sự hài hước\n",
      "Processing: FPTOpenSpeechData_Set001_V0.1_000176.mp3\n"
     ]
    },
    {
     "name": "stderr",
     "output_type": "stream",
     "text": [
      "/home/ngo/anaconda3/lib/python3.12/site-packages/whisper/transcribe.py:126: UserWarning: FP16 is not supported on CPU; using FP32 instead\n",
      "  warnings.warn(\"FP16 is not supported on CPU; using FP32 instead\")\n"
     ]
    },
    {
     "name": "stdout",
     "output_type": "stream",
     "text": [
      "reference_text - predicted_text: phòng quá ồn và tôi không thể ngủ được - phòng quá ồn, tôi không thể ngủ được.\n",
      "Processing: FPTOpenSpeechData_Set001_V0.1_000177.mp3\n"
     ]
    },
    {
     "name": "stderr",
     "output_type": "stream",
     "text": [
      "/home/ngo/anaconda3/lib/python3.12/site-packages/whisper/transcribe.py:126: UserWarning: FP16 is not supported on CPU; using FP32 instead\n",
      "  warnings.warn(\"FP16 is not supported on CPU; using FP32 instead\")\n"
     ]
    },
    {
     "name": "stdout",
     "output_type": "stream",
     "text": [
      "reference_text - predicted_text: những lãnh đạo cấp cao đang phải đối mặt với việc giảm lương đến mức nào hiện vẫn chưa rõ - những bác đạo có cao răng phải đối mặt với việc tặng lương từ mức nào nhận đến chưa rõ.\n",
      "Processing: FPTOpenSpeechData_Set001_V0.1_000178.mp3\n"
     ]
    },
    {
     "name": "stderr",
     "output_type": "stream",
     "text": [
      "/home/ngo/anaconda3/lib/python3.12/site-packages/whisper/transcribe.py:126: UserWarning: FP16 is not supported on CPU; using FP32 instead\n",
      "  warnings.warn(\"FP16 is not supported on CPU; using FP32 instead\")\n"
     ]
    },
    {
     "name": "stdout",
     "output_type": "stream",
     "text": [
      "reference_text - predicted_text: xe mỹ từng là biểu tượng giàu sang - sẽ bị tự làm biểu tượng râu sáng.\n",
      "Processing: FPTOpenSpeechData_Set001_V0.1_000179.mp3\n"
     ]
    },
    {
     "name": "stderr",
     "output_type": "stream",
     "text": [
      "/home/ngo/anaconda3/lib/python3.12/site-packages/whisper/transcribe.py:126: UserWarning: FP16 is not supported on CPU; using FP32 instead\n",
      "  warnings.warn(\"FP16 is not supported on CPU; using FP32 instead\")\n"
     ]
    },
    {
     "name": "stdout",
     "output_type": "stream",
     "text": [
      "reference_text - predicted_text: bữa ăn sinh viên từ lâu đã đơn giản lắm rồi giờ càng đơn giản hơn bao giờ hết - bữa ăn sinh viên từ lâu đã đơn giản lắm rồi giờ càng đơn giản hơn bao giờ hết\n",
      "Processing: FPTOpenSpeechData_Set001_V0.1_000180.mp3\n"
     ]
    },
    {
     "name": "stderr",
     "output_type": "stream",
     "text": [
      "/home/ngo/anaconda3/lib/python3.12/site-packages/whisper/transcribe.py:126: UserWarning: FP16 is not supported on CPU; using FP32 instead\n",
      "  warnings.warn(\"FP16 is not supported on CPU; using FP32 instead\")\n"
     ]
    },
    {
     "name": "stdout",
     "output_type": "stream",
     "text": [
      "reference_text - predicted_text: bệnh này có thường xảy ra không - bệnh này có thường sẽ ra không?\n",
      "Processing: FPTOpenSpeechData_Set001_V0.1_000181.mp3\n"
     ]
    },
    {
     "name": "stderr",
     "output_type": "stream",
     "text": [
      "/home/ngo/anaconda3/lib/python3.12/site-packages/whisper/transcribe.py:126: UserWarning: FP16 is not supported on CPU; using FP32 instead\n",
      "  warnings.warn(\"FP16 is not supported on CPU; using FP32 instead\")\n"
     ]
    },
    {
     "name": "stdout",
     "output_type": "stream",
     "text": [
      "reference_text - predicted_text: anh có đang thấy cầu vồng không - anh có đang thấy cầu vọng không?\n",
      "Processing: FPTOpenSpeechData_Set001_V0.1_000182.mp3\n"
     ]
    },
    {
     "name": "stderr",
     "output_type": "stream",
     "text": [
      "/home/ngo/anaconda3/lib/python3.12/site-packages/whisper/transcribe.py:126: UserWarning: FP16 is not supported on CPU; using FP32 instead\n",
      "  warnings.warn(\"FP16 is not supported on CPU; using FP32 instead\")\n"
     ]
    },
    {
     "name": "stdout",
     "output_type": "stream",
     "text": [
      "reference_text - predicted_text: họ phải đảm bảo có đủ vắc xin và thực hiện các biện pháp cần thiết khác để đối phó với tình hình - học hỏi là bảo hộ đối với các thí nghiệm các cơ chế khác của các phòng hợp lý.\n",
      "Processing: FPTOpenSpeechData_Set001_V0.1_000183.mp3\n"
     ]
    },
    {
     "name": "stderr",
     "output_type": "stream",
     "text": [
      "/home/ngo/anaconda3/lib/python3.12/site-packages/whisper/transcribe.py:126: UserWarning: FP16 is not supported on CPU; using FP32 instead\n",
      "  warnings.warn(\"FP16 is not supported on CPU; using FP32 instead\")\n"
     ]
    },
    {
     "name": "stdout",
     "output_type": "stream",
     "text": [
      "reference_text - predicted_text: anh gọi đánh thức tôi lúc bảy giờ sáng mai được không - anh gọi đánh thức tôi lúc 7h sáng mai được không?\n",
      "Processing: FPTOpenSpeechData_Set001_V0.1_000184.mp3\n"
     ]
    },
    {
     "name": "stderr",
     "output_type": "stream",
     "text": [
      "/home/ngo/anaconda3/lib/python3.12/site-packages/whisper/transcribe.py:126: UserWarning: FP16 is not supported on CPU; using FP32 instead\n",
      "  warnings.warn(\"FP16 is not supported on CPU; using FP32 instead\")\n"
     ]
    },
    {
     "name": "stdout",
     "output_type": "stream",
     "text": [
      "reference_text - predicted_text: tự đăng cáo phó cho mình - cứ đau khỏi cho mình\n",
      "Processing: FPTOpenSpeechData_Set001_V0.1_000185.mp3\n"
     ]
    },
    {
     "name": "stderr",
     "output_type": "stream",
     "text": [
      "/home/ngo/anaconda3/lib/python3.12/site-packages/whisper/transcribe.py:126: UserWarning: FP16 is not supported on CPU; using FP32 instead\n",
      "  warnings.warn(\"FP16 is not supported on CPU; using FP32 instead\")\n"
     ]
    },
    {
     "name": "stdout",
     "output_type": "stream",
     "text": [
      "reference_text - predicted_text: anh thích kiểu nào hơn - anh hiểu nào hơn?\n",
      "Processing: FPTOpenSpeechData_Set001_V0.1_000186.mp3\n"
     ]
    },
    {
     "name": "stderr",
     "output_type": "stream",
     "text": [
      "/home/ngo/anaconda3/lib/python3.12/site-packages/whisper/transcribe.py:126: UserWarning: FP16 is not supported on CPU; using FP32 instead\n",
      "  warnings.warn(\"FP16 is not supported on CPU; using FP32 instead\")\n"
     ]
    },
    {
     "name": "stdout",
     "output_type": "stream",
     "text": [
      "reference_text - predicted_text: ánh đuốc hắt lên khoanh cổ cụt đỏ hỏn hụt hẫng - anh đưa hắt lên quanh cổ cụt đỏ ngọt một thầm.\n",
      "Processing: FPTOpenSpeechData_Set001_V0.1_000187.mp3\n"
     ]
    },
    {
     "name": "stderr",
     "output_type": "stream",
     "text": [
      "/home/ngo/anaconda3/lib/python3.12/site-packages/whisper/transcribe.py:126: UserWarning: FP16 is not supported on CPU; using FP32 instead\n",
      "  warnings.warn(\"FP16 is not supported on CPU; using FP32 instead\")\n"
     ]
    },
    {
     "name": "stdout",
     "output_type": "stream",
     "text": [
      "reference_text - predicted_text: xin lỗi anh có thể -n lĩnh tiền mặt cái này không - xin lỗi, anh có thể đi cùng tiến mặt cái này không?\n",
      "Processing: FPTOpenSpeechData_Set001_V0.1_000188.mp3\n"
     ]
    },
    {
     "name": "stderr",
     "output_type": "stream",
     "text": [
      "/home/ngo/anaconda3/lib/python3.12/site-packages/whisper/transcribe.py:126: UserWarning: FP16 is not supported on CPU; using FP32 instead\n",
      "  warnings.warn(\"FP16 is not supported on CPU; using FP32 instead\")\n"
     ]
    },
    {
     "name": "stdout",
     "output_type": "stream",
     "text": [
      "reference_text - predicted_text: cảnh sát biết rằng có một nhóm bí mật hoạt động bất hợp pháp - cảnh sát biết ráng có một ngân binh mật hoạt động bất phật pháp.\n",
      "Processing: FPTOpenSpeechData_Set001_V0.1_000189.mp3\n"
     ]
    },
    {
     "name": "stderr",
     "output_type": "stream",
     "text": [
      "/home/ngo/anaconda3/lib/python3.12/site-packages/whisper/transcribe.py:126: UserWarning: FP16 is not supported on CPU; using FP32 instead\n",
      "  warnings.warn(\"FP16 is not supported on CPU; using FP32 instead\")\n"
     ]
    },
    {
     "name": "stdout",
     "output_type": "stream",
     "text": [
      "reference_text - predicted_text: thiết bị còn gửi thông điệp cảnh báo tới người chủ khi pin sắp hết - tiếp tục gửi thông điệp cảnh báo tới người chủ khi đến sắp hết.\n",
      "Processing: FPTOpenSpeechData_Set001_V0.1_000190.mp3\n"
     ]
    },
    {
     "name": "stderr",
     "output_type": "stream",
     "text": [
      "/home/ngo/anaconda3/lib/python3.12/site-packages/whisper/transcribe.py:126: UserWarning: FP16 is not supported on CPU; using FP32 instead\n",
      "  warnings.warn(\"FP16 is not supported on CPU; using FP32 instead\")\n"
     ]
    },
    {
     "name": "stdout",
     "output_type": "stream",
     "text": [
      "reference_text - predicted_text: xin vui lòng cứ mang giày - chính vui đạo cử mang dạy\n",
      "Processing: FPTOpenSpeechData_Set001_V0.1_000191.mp3\n"
     ]
    },
    {
     "name": "stderr",
     "output_type": "stream",
     "text": [
      "/home/ngo/anaconda3/lib/python3.12/site-packages/whisper/transcribe.py:126: UserWarning: FP16 is not supported on CPU; using FP32 instead\n",
      "  warnings.warn(\"FP16 is not supported on CPU; using FP32 instead\")\n"
     ]
    },
    {
     "name": "stdout",
     "output_type": "stream",
     "text": [
      "reference_text - predicted_text: tôi không biết chắc là có tai nạn - tôi không biết, chắc là có tai nạn.\n",
      "Processing: FPTOpenSpeechData_Set001_V0.1_000192.mp3\n"
     ]
    },
    {
     "name": "stderr",
     "output_type": "stream",
     "text": [
      "/home/ngo/anaconda3/lib/python3.12/site-packages/whisper/transcribe.py:126: UserWarning: FP16 is not supported on CPU; using FP32 instead\n",
      "  warnings.warn(\"FP16 is not supported on CPU; using FP32 instead\")\n"
     ]
    },
    {
     "name": "stdout",
     "output_type": "stream",
     "text": [
      "reference_text - predicted_text: tao nhanh đến mức nào - báo ngay để biết nào\n",
      "Processing: FPTOpenSpeechData_Set001_V0.1_000193.mp3\n"
     ]
    },
    {
     "name": "stderr",
     "output_type": "stream",
     "text": [
      "/home/ngo/anaconda3/lib/python3.12/site-packages/whisper/transcribe.py:126: UserWarning: FP16 is not supported on CPU; using FP32 instead\n",
      "  warnings.warn(\"FP16 is not supported on CPU; using FP32 instead\")\n"
     ]
    },
    {
     "name": "stdout",
     "output_type": "stream",
     "text": [
      "reference_text - predicted_text: bữa tiệc sống động -n - bởi vì sống lòng\n",
      "Processing: FPTOpenSpeechData_Set001_V0.1_000194.mp3\n"
     ]
    },
    {
     "name": "stderr",
     "output_type": "stream",
     "text": [
      "/home/ngo/anaconda3/lib/python3.12/site-packages/whisper/transcribe.py:126: UserWarning: FP16 is not supported on CPU; using FP32 instead\n",
      "  warnings.warn(\"FP16 is not supported on CPU; using FP32 instead\")\n"
     ]
    },
    {
     "name": "stdout",
     "output_type": "stream",
     "text": [
      "reference_text - predicted_text: vậy còn yếu tố tinh thần thì sao - vậy còn yếu tố tích thật thì sao?\n",
      "Processing: FPTOpenSpeechData_Set001_V0.1_000195.mp3\n"
     ]
    },
    {
     "name": "stderr",
     "output_type": "stream",
     "text": [
      "/home/ngo/anaconda3/lib/python3.12/site-packages/whisper/transcribe.py:126: UserWarning: FP16 is not supported on CPU; using FP32 instead\n",
      "  warnings.warn(\"FP16 is not supported on CPU; using FP32 instead\")\n"
     ]
    },
    {
     "name": "stdout",
     "output_type": "stream",
     "text": [
      "reference_text - predicted_text: cái này trên tầng ba - cảm ơn anh chị thân ba\n",
      "Processing: FPTOpenSpeechData_Set001_V0.1_000196.mp3\n"
     ]
    },
    {
     "name": "stderr",
     "output_type": "stream",
     "text": [
      "/home/ngo/anaconda3/lib/python3.12/site-packages/whisper/transcribe.py:126: UserWarning: FP16 is not supported on CPU; using FP32 instead\n",
      "  warnings.warn(\"FP16 is not supported on CPU; using FP32 instead\")\n"
     ]
    },
    {
     "name": "stdout",
     "output_type": "stream",
     "text": [
      "reference_text - predicted_text: chuyến bay của anh khi nào - chuyến bay của anh khi nào?\n",
      "Processing: FPTOpenSpeechData_Set001_V0.1_000197.mp3\n"
     ]
    },
    {
     "name": "stderr",
     "output_type": "stream",
     "text": [
      "/home/ngo/anaconda3/lib/python3.12/site-packages/whisper/transcribe.py:126: UserWarning: FP16 is not supported on CPU; using FP32 instead\n",
      "  warnings.warn(\"FP16 is not supported on CPU; using FP32 instead\")\n"
     ]
    },
    {
     "name": "stdout",
     "output_type": "stream",
     "text": [
      "reference_text - predicted_text: không không phải có bàn trống cho hai người không - không, không phải. còn bán trộm cho 2 người không?\n",
      "Processing: FPTOpenSpeechData_Set001_V0.1_000198.mp3\n"
     ]
    },
    {
     "name": "stderr",
     "output_type": "stream",
     "text": [
      "/home/ngo/anaconda3/lib/python3.12/site-packages/whisper/transcribe.py:126: UserWarning: FP16 is not supported on CPU; using FP32 instead\n",
      "  warnings.warn(\"FP16 is not supported on CPU; using FP32 instead\")\n"
     ]
    },
    {
     "name": "stdout",
     "output_type": "stream",
     "text": [
      "reference_text - predicted_text: tôi có thể có một tờ tạp chí khác không - tôi sẽ có một tài tập chíu tác không?\n",
      "Processing: FPTOpenSpeechData_Set001_V0.1_000199.mp3\n"
     ]
    },
    {
     "name": "stderr",
     "output_type": "stream",
     "text": [
      "/home/ngo/anaconda3/lib/python3.12/site-packages/whisper/transcribe.py:126: UserWarning: FP16 is not supported on CPU; using FP32 instead\n",
      "  warnings.warn(\"FP16 is not supported on CPU; using FP32 instead\")\n"
     ]
    },
    {
     "name": "stdout",
     "output_type": "stream",
     "text": [
      "reference_text - predicted_text: bán cho tôi một vé hạng hai đến chermarn - bạn cho tôi một vẻ hài hại để xem ai.\n",
      "Processing: FPTOpenSpeechData_Set001_V0.1_000200.mp3\n"
     ]
    },
    {
     "name": "stderr",
     "output_type": "stream",
     "text": [
      "/home/ngo/anaconda3/lib/python3.12/site-packages/whisper/transcribe.py:126: UserWarning: FP16 is not supported on CPU; using FP32 instead\n",
      "  warnings.warn(\"FP16 is not supported on CPU; using FP32 instead\")\n"
     ]
    },
    {
     "name": "stdout",
     "output_type": "stream",
     "text": [
      "reference_text - predicted_text: jerry đây là jack làm ơn gọi cho edith - cảm ơn các bạn đã theo dõi và hẹn gặp lại.\n",
      "Xu ly tung file am thanh - end\n"
     ]
    }
   ],
   "source": [
    "# Khởi tạo danh sách để lưu kết quả\n",
    "hypotheses = []\n",
    "references = []\n",
    "results = []\n",
    "\n",
    "# Sắp xếp danh sách file theo tên\n",
    "audio_files = sorted([f for f in os.listdir(AUDIO_FOLDER) if f.endswith(\".mp3\")])\n",
    "\n",
    "# Xử lý từng file âm thanh\n",
    "for audio_file in audio_files:\n",
    "    file_path = os.path.join(AUDIO_FOLDER, audio_file)\n",
    "    print(f\"Processing: {audio_file}\")\n",
    "    \n",
    "    # Nhận diện giọng nói\n",
    "    result = model.transcribe(file_path, language=\"vi\")\n",
    "    predicted_text = result[\"text\"].strip().lower()\n",
    "    \n",
    "    # Lưu kết quả nếu có transcript chuẩn\n",
    "    if audio_file in ground_truths:\n",
    "        reference_text = ground_truths[audio_file].strip().lower()\n",
    "        print(f'reference_text - predicted_text: {reference_text} - {predicted_text}')\n",
    "        if reference_text and predicted_text:\n",
    "            references.append(reference_text)\n",
    "            hypotheses.append(predicted_text)\n",
    "    else:\n",
    "        print(f\"Warning: No reference found for {audio_file}\")\n",
    "    \n",
    "    # Ghi kết quả vào danh sách\n",
    "    results.append(f\"{audio_file}|{predicted_text}\")\n",
    "\n",
    "print(\"Xu ly tung file am thanh - end\")"
   ]
  },
  {
   "cell_type": "code",
   "execution_count": 7,
   "id": "53097727-224f-4ac1-8ae8-ed8b8a2b0003",
   "metadata": {},
   "outputs": [
    {
     "name": "stdout",
     "output_type": "stream",
     "text": [
      "reference_text: ['cách để đi', 'họ đã xét nghiệm máu cho cheng nhưng mọi thứ vẫn hoàn toàn bình thường', 'anh có thể gọi tôi không', 'có rất nhiều yếu tố may rủi ở đây', 'ai là chúa nói dối', 'có cửa hàng tiện lợi ở sân bay không', 'anh đổi ngoại tệ được không', 'cô ấy mua hai mươi trái chôm chôm và ba con cá', 'đứa bé có ói òng ọc ra sữa hoặc nước và bé chưa đến mười tuần tuổi hoặc có biểu hiện mất nước không', 'tôi có thể viết tên địa chỉ số điện thoại của công ty bảo hiểm của anh được không', 'đừng lo tôi vừa mới đến rồi', 'mười phút nữa vào giờ rưỡi', 'tôi có thể hẹn cho chiều mai không', 'anh rửa hình kỹ thuật số ra được không', 'tôi cố thu xếp thôi', 'tôi không dùng ma túy', 'quân đội mỹ muốn chế tạo những máy tự động hoàn toàn vì những chiếc mà họ đang có vẫn cần được điều khiển bởi con người', 'tôi quên túi đeo vai trong xe tắc xi', 'dư luận đã phản ánh lên cơ quan địa chính của thị trấn nhưng mãi chả thấy hồi âm', 'giả danh làm từ thiện lừa tiền người dân', 'sắm đồ siêu sang ở hội chợ triệu phú', 'nếu làm lộ thiên cơ âm binh sẽ đánh trả thầy', 'máy ném bom chiến lược của nga gặp nạn', 'anh có thích tôi giữ trước quyển sách này cho anh không', 'ở người bị hội chứng khi ăn ngủ phần não phải vẫn thức và sau đó là cả các dạng hoạt động thể chất', 'tỉ lệ là mười mm trên một km', 'tôi muốn thực hiện một cuộc gọi điện thoại quốc tế đi nhật bản cuộc gọi -n là đến tokyo số ba hai chín hai tám hai một một', 'nơi đây hiện khá yên tĩnh', 'nhưng cũng có những bạn nằm khèo ở nhà trùm mềm và khóc nhè', 'chúng ta không thể mua cái nào ở nhật bản', 'cho vừa với số kinh phí hạn hẹp của một bộ phim', 'kịch sến nhiều tập làm tôi oải quá tôi sẽ tắt tv', 'chính vì thế những người phải sống một thời gian dài trong không gian có thể gặp rủi ro', 'thực ra thà không đến nỗi mơ mộng đến mê muội để chẳng hiểu tấm lòng của những người thân thông qua lời khuyên nhủ', 'bán đấu giá mỹ nữ', 'địa chỉ email của tôi là s t e f a n dot m a r t e n s \\\\r\\\\n @ gmx dot de', 'hôm thứ năm ủy ban bầu cử thái lan cho rằng đảng của người thái yêu người thái đã phạm hai luật trong chiến dịch tranh cử vừa qua', 'không thể xem lần vấp ngã ấy là tai', 'cướp bóc trong khi hỏa hoạn', 'tết đầu tiên xa việt nam của cháu quả là ý nghĩa', 'trong làng ai cũng quý mến gia đình anh phú', 'xin chào gia đình tanaka', 'anh đã làm rất tệ', 'cô ta nghi ngờ lúc mình say rượu đã bị toán cưỡng bức', 'ông muốn nhãn hiệu bia nào', 'anh có dừng tại khách sạn begin không', 'bật điều hòa nhiệt độ', 'nhiều chàng trai để ý và theo dõi bạn', 'chúng ta hãy tung một đồng tiền để quyết định', 'tôi nghe đĩa cd này được không', 'nguyễn văn vũ vừa tử nạn vì hỗ trợ đuổi bắt tội phạm ngày mười ba tháng một công an xã cẩm trạch huyện cần cẩu cho biết một người lái xe khách hai bảy tuổi đã tử nạn khi giúp một phụ nữ bị bảy tên khống chế cướp tài sản', 'hai con voi này rất hung dữ và phá nát nhiều hoa màu của người dân trong khu vực', 'anh có bị đau do mệt mỏi không', 'bạn có muốn tôi dịch cái này cho bạn không tôi nói tiếng nhật', 'và như thế những điều tốt đẹp', 'tăng nhiệt độ lên hai mươi mốt độ', '-n ở sheraton', 'tốt hơn là tôi nên đi bây giờ', 'kỳ tích có thể để lại quyền lực bởi một nhà độc tài dầu mỏ nhưng cũng có thể giúp thể chế hóa những phong trào chống mỹ diễn ra tại khu vực trung đông', 'lãnh đạo ngành ô tô mỹ nên từ chức', 'cô ấy biết', 'từng sợi thương li ti kết lại', 'mồ hôi là một trong những phương tiện để cơ thể thải cặn bã ra ngoài', 'ti vi k+ một', 'hiện nay mỗi khi chào hàng các lò rang hạt dưa như tứ hưng duy ký thiên hương', 'vì không biết nhìn xa trông rộng và vì niềm tin sắt đá rằng rồi mọi việc sẽ êm xuôi', 'nhờ có chúa', 'xe chú rể lăn xuống vực sau tiệc cưới', 'rồi anh đi một chuyến đến khu vực vỉa san hô và thăm viện bảo tàng úc anh có thể tìm hiểu nhiều về nước úc anh cũng có thể có một món quà đẹp tại cảng darling nếu anh muốn mua vài đồ lưu niệm có rất nhiều đồ vật và phụ kiện anh có thể muốn mua', 'đó là chưa kể các thủ đoạn chính trị xã hội khác', 'cho tôi mẫu thử được không', 'tôi có ba con gái', 'tôi sẽ ở lại đây', 'người ta cho rằng số khúc gỗ ở dưới đáy bị dính nước bẩn ít thì kỳ kinh sẽ ngắn', 'không một nơi nào lãng mạn và thơ mộng hơn những khu hồ hoang', 'bị hại kháng cáo vì cho rằng các cơ quan tố tụng ở huyện hương khê bỏ lọt người sót tội', 'cái giá của một anh hùng', 'bản sao tấm séc khoản tiền vợ chồng nguyễn nhận được', 'nhằm thu hút thêm nhiều nhà đầu tư', 'vui lòng cho ba vé khứ hồi hạng hai', 'anh cần một con tem một đô la ba mươi cent', 'xà lách trộn phó mát mốc xanh và cây óc chó', 'chúng tôi sẽ bồi thường cho anh', 'chỉ xét tuyển hồ sơ không phải thi', 'gần chín nghìn tỉ đồng xây đường sắt đô thị cát linh hà đông', 'bỏ quần vào trong máy giặt', 'trả lời tôi biết', 'đến thời điểm hiện tại ít nhất trong cả nước đã có năm mươi nghìn lao động thất nghiệp', 'anh sẵn sàng gọi món chưa', 'là tác động của nó đến hiệu suất chung của toàn bộ hệ thống điện', 'đã bán rồi', 'thời tiết ấm áp như thể là đầu hè', 'chúng tôi có bốn người', 'vẻ đẹp khuôn mặt và bản năng tình dục quan hệ tương hỗ chặt chẽ với nhau', 'hầu bàn của quý khách sẽ là alfredo', 'đầu gối có bị sưng đỏ hoặc cả hai', 'hút thuốc bị hạn chế trong khu vực công cộng', 'chẳng phải là bệnh hiểm nghèo nhưng trĩ vẫn là bệnh gây khó chịu cho bệnh nhân bởi làm cản trở công việc của họ lúc làm việc cũng như lúc ngủ họ vẫn phải lo nghĩ giáo sư nghĩa nói', 'chuyển máy cho ai', 'kết quả lao động của tôi đến đâu thì tác phẩm trả lời', 'khi những chiếc đĩa được dỡ bỏ lũ hà mã cũng chẳng thèm chú ý tới những chiếc nhãn đó nữa', 'không vậy không sao tôi sẽ gọi ông ấy sau cảm ơn', 'có giảm giá cho người cao niên không', 'hãy gọi cảnh sát ngay', 'bắt đầu đếm', 'anh có bị đau do mệt mỏi không', 'lãi suất cho vay cũng đã giảm mạnh theo lãi huy động vốn lãi nhiều vẫn chẳng có người nào gửi cả', 'các nhà khoa học đang tiến thêm một bước', 'cùng chuẩn và ngũ hai đối tượng khác chuyên làm nhiệm vụ đưa người sang trung quốc là nguyễn vũ hải và võ cảnh dũng cùng trú tại bắc giang cũng bị cảnh sát bắt', 'hệ thống phòng ngự tài năng và giàu kinh nghiệm', 'sẽ đủ sức cạnh tranh với nước ngoài', 'giơ tay lên để đồng ý', 'vui lòng trả mười đô la', 'đây là hồi chuông cảnh báo về sự mất an toàn lưới điện trên địa bàn', 'ban đêm bắng cây đa', 'kênh hai ti vi', 'này chúng tôi sắp nhổ neo', 'mở', 'độc giả của tôi muốn hướng tới là sinh viên và trí thức', 'không mở cửa ồ ạt', 'tôi muốn đổi cái này lấy cái màu xanh', 'sống với em anh nhé', 'vừa gọi điện vừa đi lại rất gây hại cho sức khỏe', 'tôi có thể tìm bảng tin ở đâu', 'anh chuẩn bị toa này cho tôi được không', 'đây là địa chỉ của anh', 'anh lắng nghe tôi một phút được không', 'lạm phát tăng là do dự báo yếu kém', 'thịt gà nhồi hỗn hợp băm nhỏ', 'trung tá nguyễn phả lại cán bộ quản giáo trực tiếp buồng số bảy chỗ ở của ông mẫu ông dũng nói kín kẽ cũng là tâm lý của người cải tạo loại án như trường hợp ông dũng', 'kí túc vắng tanh đèn thoát hiểm nhấp nháy chập chờn cứ như trên phim được xem ý', 'mở', 'tốt nhất anh không nên làm nó', 'tôi có thể mua vé ở đâu', 'vậy điều gì ủng hộ ý tưởng táo bạo trên', 'họ sẽ chơi nhiều ca khúc từ bộ phim âm thanh của âm nhạc', 'mã vùng của plymouth là không một bảy năm hai', 'không tôi luôn tỉ mỉ', 'một số trò chơi đòi hỏi các động tác chậm thận trọng hãy từ từ', 'có nên ưu tiên cho các hoạt động bí mật', 'nó là của anh', '-n lỗ mũi hẹp -n có tài kiếm tiền', 'đây là ghi chép cho phí nào', 'tôi bị các triệu chứng viêm phổi', 'còn bao nhiều giờ thì chúng ta sẽ đến new york', 'thị trường chính thức kém sôi động nên thị trường phi tập trung cũng ê ẩm', 'chúng tôi đã thuê căn hộ', 'mở lên', 'cuộc tình đó tồn tại cho tới ngày cô ta -n khối tài sản mà ông giao phó rồi biến mất tăm', 'xin vui lòng hãy sẵn sàng vào lúc chín giờ rưỡi', 'tôi không nghĩ như vậy', 'cách dễ nhất là tìm người khác để yêu', 'hãy tận dụng những gì có sẵn từ thiên nhiên để làm đẹp làn da', 'cô lấy cho tôi cái khăn nào', 'lối đánh tấn công quen thuộc của chị biến mất thay vào đó là những đường bóng yếu ớt', 'tôi có thể có bản đồ đường đi của đảo maui không', 'tôi bị suyễn', 'thành ra càng cổ phần hóa ồ ạt càng bán giá nội bộ ồ ạt trừ phi có sẵn một cơ chế kiểm soát', 'nền tài chính nhật bản phụ thuộc khá lớn vào các chính sách tiền tệ của mỹ', 'anh cất hành lý này cho tôi được không', 'obon nghĩa là gì', 'tăng nhiệt độ lên hai mươi chín độ', 'kênh sáu', 'phờ phạc sau hành trình dài', 'mười hai giờ mười lăm rồi', 'tiêu cực ương ngạnh', 'tuy nhiên hôm qua ông đã phá lệ', 'phát triển', 'cái xác cứ thế khô dần cho đến hôm nay', 'ti vi vtv hai', 'nhóm cho rằng điều đó chứng tỏ phụ nữ tập trung hơn vào ngôn ngữ của sự hài hước', 'phòng quá ồn và tôi không thể ngủ được', 'những lãnh đạo cấp cao đang phải đối mặt với việc giảm lương đến mức nào hiện vẫn chưa rõ', 'xe mỹ từng là biểu tượng giàu sang', 'bữa ăn sinh viên từ lâu đã đơn giản lắm rồi giờ càng đơn giản hơn bao giờ hết', 'bệnh này có thường xảy ra không', 'anh có đang thấy cầu vồng không', 'họ phải đảm bảo có đủ vắc xin và thực hiện các biện pháp cần thiết khác để đối phó với tình hình', 'anh gọi đánh thức tôi lúc bảy giờ sáng mai được không', 'tự đăng cáo phó cho mình', 'anh thích kiểu nào hơn', 'ánh đuốc hắt lên khoanh cổ cụt đỏ hỏn hụt hẫng', 'xin lỗi anh có thể -n lĩnh tiền mặt cái này không', 'cảnh sát biết rằng có một nhóm bí mật hoạt động bất hợp pháp', 'thiết bị còn gửi thông điệp cảnh báo tới người chủ khi pin sắp hết', 'xin vui lòng cứ mang giày', 'tôi không biết chắc là có tai nạn', 'tao nhanh đến mức nào', 'bữa tiệc sống động -n', 'vậy còn yếu tố tinh thần thì sao', 'cái này trên tầng ba', 'chuyến bay của anh khi nào', 'không không phải có bàn trống cho hai người không', 'tôi có thể có một tờ tạp chí khác không', 'bán cho tôi một vé hạng hai đến chermarn', 'jerry đây là jack làm ơn gọi cho edith']\n",
      "hypothesis: ['sắc lệ đi.', 'họ đã xét nghiệm mọi người, mọi người đã có đi chứ?', 'hãy subscribe cho kênh ghiền mì gõ để không bỏ lỡ những video hấp dẫn', 'họ sẽ cứu cứu tôi hay hơn ở đây.', 'ai là thứ nói dối?', 'của sự hành chuyển lại ở sân máy phân.', 'hãy đổi ngoài tệ được không?', 'cô ấy mua 2 mua cả trung tâm và 3 bóng đá.', 'chứ bè cũng phải uống hóa trường hoặc lớp 3 để chứa tiêm huy tư tùy hoặc có điều hiển mất được không.', 'tôi có thể viết tên, kiểu gì, số điện thoại của công ty bảo hiểm của anh được không?', 'đừng lo, tôi vừa mới đến rồi.', '10 phút nữa vào giờ rưỡi', 'rồi, đây là hệ thống của trường đại phòng.', 'anh vừa hình chuyện thật số ra được không?', 'cảm ơn.', 'được không thưa quý vị?', 'quân đội mỹ muốn thể tạo những máy tự động hoàn toàn vì những chiếc mà họ đang có vẫn cần được điều khiển với con người.', 'tôi quên tôi, em vai nó kia kia', 'dư luận đã phản ánh lên cơ quan địa chính của thị trấn nhưng mà chả thấy hồi âm.', 'giả danh là từ thiện lừa tiệt người dân', 'chắc đúng, chứng xác.', 'nếu làm lộ thiên cơ âm binh sẽ đánh trả thầy', 'mấy cái bóng chiếc thơ của ta gặp lại', 'anh có thích tôi giữ trước quyển sách này cho anh không?', 'ở nơi địa phục trứng khi ăn ngủ, bẩn áo phản dẫn thức và sau đó là cảm giác hoạt động thể chất.', 'sự lệ là 10mm x 1mm.', 'tôi muốn dự kiến một cuộc gọi điện thoại quốc tế, nhật bản, cuộc gọi điện thoại đến tokyo. dù 3, 2, 3, 2, 1.', 'lời đây hiệp thái nhất tính.', 'nhưng cũng có những bạn nằm khèo ở nhà rung mòn và không nghe.', 'chúng ta không thể mua cái nào ở nhật bản.', 'cho vừa với số tiền tí hoặc hệ thống của bộ phim.', 'kịch sớm nhiều tập, nhà tôi loại quá tôi sẽ tắt bí vi', 'chính vì thế, những người phải sống một thời gian đài trong không gian có thể là tùy do.', 'thật ra thà không đến nỗi mơ một đến mê mùi dễ dàng hưởng tâm lòng của những người phân phân ra là thư lực.', 'bắt đầu ra phía trước', 'email của tôi là stefan.martens a1 gms.be', 'các quý vị hãy đăng ký kênh để ủng hộ kênh của mình nhé.', 'không thể xem rằng bậc ngài...', 'các bác chú kêu hỏi hỏi.', 'tất đầu tiên xe việt nam của cháu quả là ý nghĩa.', 'trong là hai cục quý mến gia đình anh phú.', 'chào tạm biệt các bạn', 'anh ta làm rất đẹp.', 'hãy subscribe cho kênh ghiền mì gõ để không bỏ lỡ những video hấp dẫn', 'còn mỗi nhận hiệu như thế nào?', 'anh vừa dừng ra cái trạng bình yên cho.', 'bắt điện thoại nhịp ảo', 'nhiều chàng trai đợi ấy và theo dõi bà.', 'chúng ta hãy đồng tiền để chấp nhận.', 'tôi nghe điểm tv ít nay được không?', 'nguyễn văn vũ vừa tử lạng vì hỗ trợ đuổi bắt đội tạ. ngày 13 tháng 1, công an xã cẩm sạch nguyễn tân cầu cho biết một người lái xe khách 27 tuổi đã tử lạng khi giúp một thủ lũ bị bệnh tên phóng chế trước tài sản.', 'hai con voi này rất hung dữ và phá nát nhiều hoa màu của người dân trong khu vực.', 'anh có bị đau do miệt mỏi không?', 'bạn có muốn tôi thì chạy ngay cho bạn không, tôi phải tự nhật.', 'và giữ thế những điều tốt đẹp', 'sáng giờ dựa lên 20 món rồi.', 'cảm ơn các bạn đã theo dõi và hẹn gặp lại.', 'các bạn hãy đăng ký kênh để ủng hộ kênh của mình nhé.', 'chỉ có thể để lại trường mệnh với một nhà đặc tài giàu mạng, nhưng cũng có thể giúp thể chế hóa đến trong trào trình những chuyên gia tại khu vực tinh đông.', 'mà sao thật ô tô mỹ ra tổ chức', 'hãy subscribe cho kênh ghiền mì gõ để không bỏ lỡ những video hấp dẫn', 'xin sợi thương ly tiết kết lại.', 'bồ hôi là một trong những phương tiện để cơ thể thả cặn bã ra ngoài.', 'tv trái tổng 1', 'hiện nay mỗi khi chào hàng các lò rang hạt như tứ, như hưng, như tỉ, như hương.', 'vì không biết nhiên sao tổng thống và vì nhận chính sách trả tăng tôi có gì sẽ chấp nhận.', 'nhờ cậu chúa.', 'chess sẽ đặt phức tắc tiếp với', 'rồi anh đi một chuyến đến khu vực vỉa sáng hô và thăm hiểu bảo tàng úc. anh có thể tìm hiểu nhiều về nước úc. anh cũng có thể có một món quà đẹp tải, tải trai lĩnh. nếu anh muốn mua vài đồ lưu niệm, có rất nhiều đồ vật và phù kiến anh có thể muốn mua.', 'đó là chưa kể các vụ đại chính trị xã hội khác.', 'chào tạm biệt.', 'tôi có 8 con.', 'tôi sẽ ở lại đây', 'hãy đăng ký kênh để nhận thêm nhiều video mới nhé.', 'không một nơi nào lãng mạn và thơ mộng hơn những khu hồ hóa.', 'vậy hãy sắp đó, mình cho ra các cơ quan bố tục từ khi bỏ lọt người sắp tội.', 'giải giá của một anh hùng', 'và sao tổng chấp phản hành vận trong vết tiệm nước.', 'nhằm thu hút thêm nhiều nhà đầu tư.', 'vui lòng chỗ bảo vệ người hành hành', 'anh cần một con tiêm một ơ ra 30 năm.', 'cảm ơn các bạn đã theo dõi.', 'chúng tôi sẽ bôi thường cho anh.', 'chỉ xét điểm hồ sơ thông bài thêm', 'gần 9.000 tỷ đồng xây đường sát đối ngự, các linh hà đông.', 'bỏ quan sát trong bài giật.', 'trả lời tôi biết.', 'đến thời điểm hiện tại, ít nhất trong cả nước đã có 50.000 lao động thức nghiệp.', 'anh chẳng tham mọi món đưa.', 'là tác động của nó đến hiện sức chung của toàn bộ hệ thống điện.', 'tạm biệt.', 'hãy subscribe cho kênh ghiền mì gõ để không bỏ lỡ những video hấp dẫn', 'chúng tôi tỏ bổ lời', 'về đẹp khung mắt ta đã nên tìm nhiều quan hệ, cơ hội, thực sự với nhau.', 'thông bằng của quý khách sẽ là o2o.', 'đầu gối có bị tích đỏ hoặc cả hai số', 'cảm ơn các bạn đã theo dõi và hẹn gặp lại.', 'chẳng phải là bệnh người nghèo, nhưng chỉ vẫn là bệnh gây khó chịu sôi. tận nhân về làm tàn trễ công việc của họ, lúc làm việc cũng như lúc ngủ, họ vẫn phải nghe những giáo dư nghĩa nói.', 'tự nhiên là như vậy.', 'kết quả là gặp lại một số đánh giá thị trách thẳng trả lời.', 'trước khi những chữ nghĩa được dỡ bỏ, lũ hài vã cũng càng thàm thùy tới những chữ nhan đồn nữa.', 'không quên không sao tôi thật là không thể thao tâm ơn.', 'có giảm giá cho người cao niên không?', 'hãy ngồi cảnh sát ngay', 'bắt đầu điểm.', 'anh có bị đau dấu gì không?', 'lại cho tôi vai cũng đã giảm mạnh cho lại anh đoạn 4, lại anh nhiều vẫn chẳng có người nào dùm trả.', 'các nhà khoa học đang kiếm thêm một bước.', 'cùng chuẩn và ngũ hai đối tượng khác đứng làm nhiệm vụ đưa người sang trung quốc là nguyễn vũ hà và võ cảnh dũng cùng chúng ta báo ra chuẩn bị tàn sát bắt.', 'hệ thống phòng bị phá các báo giáo kích hiệu', 'sẽ đủ sức cạnh tranh với chúng tôi.', 'rồi tất cả mọi người đi đâu nha.', 'hãy subscribe cho kênh ghiền mì gõ để không bỏ lỡ những video hấp dẫn', 'đây là hội thu cập báo về sự quốc án và ưu định trên địa bàn.', 'bạn đem bắn tay đạp', 'kim hai tv', 'đây, chị có chặt đồ nào?', 'mà...', 'các bạn có thể nhớ like, share và đăng ký kênh để ủng hộ kênh của mình nhé.', 'xem mọi điều ở app', 'tôi muốn về cải này để cải màu xanh', 'sống với em anh nhé', 'vừa gọi điện vừa đi lại hết gây hại cho sức khỏe', 'cái quần đề chính bán chính ở đâu?', 'anh cần bị tòa này do tôi được không?', 'đây là địa chỉ của anh.', 'anh lắng nghe tôi một phút được không?', 'hãy đăng ký kênh để ủng hộ kênh của mình nhé!', 'hiệp gạt, rồi hồn hợp tóc nhỏ.', 'chúng ta luyện trả lại cán bộ quản giáo thịt tiếp 4 số 7 chỗ ở của ông mẫu. ông dũng nói, nhưng kẻ cũng là tân bí của người cải tạo là án như trường hợp ông dũng.', 'chỉ có cả bản tán đang phát hiện chuyện mất ngại chết trên tường nước trên trên đường trang y.', 'mà', 'cổ chức anh không nên làm đó.', 'tôi không thể mua mẹ rồi đâu', 'vậy đó thì hỏi thảo báo tiếp', 'họ sẽ chơi nhiều ca phúc từ bộ viết, âm thanh của âm nhạc.', 'mà vùng của bờ lai mau là 01752', 'cơ lợi bình.', 'một số trò chơi gọi hỏi các động tác dân thành trạng thay tư tư.', 'hãy subscribe cho kênh ghiền mì gõ để không bỏ lỡ những video hấp dẫn', 'nó là của anh', 'cảm ơn các bạn đã theo dõi và hẹn gặp lại.', 'đây là video cho phí mạng.', 'tôi bị gặp cho tình yêu tôi.', 'còn 30 giờ thì chúng ta sẽ đến như đó.', 'thị trường chính thức kém sở động đến thị trường phi tập trung phối lập.', 'chúng tôi đã thuê căn hộ', 'màu đen!', 'cuộc tình đó thông tải cho tới ngày cô ta chưa còn có thời gian mà ông gia phó sẽ bị mất tâm', 'xin hãy đăng ký kênh để ủng hộ kênh của mình nhé.', 'báo cáo thông tin ngươi rồi.', 'cách dễ chất hạt định người khác để yêu', 'hãy tự dụng khi có sẵn thức thuyết để làm cho các cha.', 'cô lấy cho tôi cái thằng nào?', 'điều đánh tấn công quan trọng của chị biến mất hay gọi đó là những nguồn bóng yếu ớt', 'không có thể có bản đồ giống như vừa đã, không ai cũng không.', 'tôi đi xuyên.', 'hãy đăng ký kênh để ủng hộ kênh của mình nhé.', 'nền tài chính nhật bản phù thuộc khá lớn vào các chính sách tuyên tạo của mỹ', 'các anh hãy nhớ đối đầu không?', 'ông môn nghe là gì?', 'căng nhiệt độ lên 29 độ.', 'xin chào', 'hậu tác thống dân dạy.', '12h15 rồi', 'như cực tư nạn', 'cảm ơn các bạn đã theo dõi và hẹn gặp lại.', 'phát triển', 'cảnh sát cứ thấy khô giật và để thóc anh.', 'c.v.v.v.v.2', 'nói chung là điều đó chính tỏa phụ nữ tập trung hơn là một lúc sự hài hước', 'phòng quá ồn, tôi không thể ngủ được.', 'những bác đạo có cao răng phải đối mặt với việc tặng lương từ mức nào nhận đến chưa rõ.', 'sẽ bị tự làm biểu tượng râu sáng.', 'bữa ăn sinh viên từ lâu đã đơn giản lắm rồi giờ càng đơn giản hơn bao giờ hết', 'bệnh này có thường sẽ ra không?', 'anh có đang thấy cầu vọng không?', 'học hỏi là bảo hộ đối với các thí nghiệm các cơ chế khác của các phòng hợp lý.', 'anh gọi đánh thức tôi lúc 7h sáng mai được không?', 'cứ đau khỏi cho mình', 'anh hiểu nào hơn?', 'anh đưa hắt lên quanh cổ cụt đỏ ngọt một thầm.', 'xin lỗi, anh có thể đi cùng tiến mặt cái này không?', 'cảnh sát biết ráng có một ngân binh mật hoạt động bất phật pháp.', 'tiếp tục gửi thông điệp cảnh báo tới người chủ khi đến sắp hết.', 'chính vui đạo cử mang dạy', 'tôi không biết, chắc là có tai nạn.', 'báo ngay để biết nào', 'bởi vì sống lòng', 'vậy còn yếu tố tích thật thì sao?', 'cảm ơn anh chị thân ba', 'chuyến bay của anh khi nào?', 'không, không phải. còn bán trộm cho 2 người không?', 'tôi sẽ có một tài tập chíu tác không?', 'bạn cho tôi một vẻ hài hại để xem ai.', 'cảm ơn các bạn đã theo dõi và hẹn gặp lại.']\n",
      "Tính toán WER\n",
      "Word Error Rate (WER): 57.72%\n"
     ]
    }
   ],
   "source": [
    "# Ghi kết quả dự đoán vào file transcript_result.txt\n",
    "with open(RESULT_FILE, \"w\", encoding=\"utf-8\") as f:\n",
    "    f.write(\"\\n\".join(results))\n",
    "\n",
    "print(f\"reference_text: {references}\")\n",
    "print(f\"hypothesis: {hypotheses}\")\n",
    "# Tính toán WER nếu có dữ liệu hợp lệ\n",
    "if references and hypotheses:\n",
    "    print(\"Tính toán WER\")\n",
    "    wer_score = jiwer.wer(references, hypotheses)\n",
    "    print(f\"Word Error Rate (WER): {wer_score:.2%}\")\n",
    "else:\n",
    "    print(\"Không có dữ liệu hợp lệ để tính WER.\")\n"
   ]
  },
  {
   "cell_type": "code",
   "execution_count": null,
   "id": "1ddcd313-c573-45bf-8ac0-1723dc78f059",
   "metadata": {},
   "outputs": [],
   "source": []
  }
 ],
 "metadata": {
  "kernelspec": {
   "display_name": "base",
   "language": "python",
   "name": "python3"
  },
  "language_info": {
   "codemirror_mode": {
    "name": "ipython",
    "version": 3
   },
   "file_extension": ".py",
   "mimetype": "text/x-python",
   "name": "python",
   "nbconvert_exporter": "python",
   "pygments_lexer": "ipython3",
   "version": "3.12.2"
  }
 },
 "nbformat": 4,
 "nbformat_minor": 5
}
