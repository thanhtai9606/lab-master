{
 "cells": [
  {
   "cell_type": "code",
   "execution_count": 1,
   "id": "ccb4b4c8-145e-473b-91a7-100cdee417a1",
   "metadata": {},
   "outputs": [],
   "source": [
    "# pip install openai-whisper jiwer"
   ]
  },
  {
   "cell_type": "code",
   "execution_count": 2,
   "id": "8ff3c37b",
   "metadata": {},
   "outputs": [],
   "source": [
    "# pip install ffmpeg"
   ]
  },
  {
   "cell_type": "code",
   "execution_count": 3,
   "id": "ddead78c-bba4-4b7b-b17a-dc129d3b3c24",
   "metadata": {},
   "outputs": [
    {
     "name": "stdout",
     "output_type": "stream",
     "text": [
      "import\n"
     ]
    }
   ],
   "source": [
    "import os\n",
    "import torch\n",
    "import librosa\n",
    "import datasets\n",
    "import jiwer\n",
    "from transformers import WhisperProcessor, WhisperForConditionalGeneration, Seq2SeqTrainer, Seq2SeqTrainingArguments\n",
    "\n",
    "# Định nghĩa đường dẫn dữ liệu\n",
    "AUDIO_FOLDER = \"./train/data\"\n",
    "TRANSCRIPT_FILE = \"./transcriptAll.txt\"\n",
    "FINETUNED_MODEL_PATH = \"./whisper_finetuned\"\n",
    "\n",
    "# Load processor từ OpenAI Whisper\n",
    "processor = WhisperProcessor.from_pretrained(\"openai/whisper-large-v3\")\n",
    "model = WhisperForConditionalGeneration.from_pretrained(\"openai/whisper-large-v3\")\n",
    "\n",
    "# Đặt mô hình train trên GPU nếu có\n",
    "device = \"cuda\" if torch.cuda.is_available() else \"cpu\"\n",
    "model.to(device)\n",
    "\n",
    "# Đọc transcript chuẩn từ file\n",
    "data = []\n",
    "with open(TRANSCRIPT_FILE, \"r\", encoding=\"utf-8\") as f:\n",
    "    for line in f:\n",
    "        parts = line.strip().split(\"|\")\n",
    "        if len(parts) == 2:\n",
    "            filename, transcript = parts\n",
    "            file_path = os.path.join(AUDIO_FOLDER, filename)\n",
    "            if os.path.exists(file_path):\n",
    "                data.append({\"file\": file_path, \"text\": transcript.lower()})\n",
    "\n",
    "# Chuyển dữ liệu thành dataset\n",
    "def load_audio(example):\n",
    "    audio, sr = librosa.load(example[\"file\"], sr=16000)\n",
    "    example[\"input_features\"] = processor(audio, sampling_rate=16000, return_tensors=\"pt\").input_features.squeeze(0)\n",
    "    example[\"labels\"] = processor.tokenizer(example[\"text\"]).input_ids\n",
    "    return example\n",
    "\n",
    "dataset = datasets.Dataset.from_list(data).map(load_audio)\n",
    "\n",
    "# Training arguments\n",
    "training_args = Seq2SeqTrainingArguments(\n",
    "    output_dir=\"./whisper_checkpoints\",\n",
    "    per_device_train_batch_size=8,\n",
    "    gradient_accumulation_steps=2,\n",
    "    evaluation_strategy=\"epoch\",\n",
    "    save_strategy=\"epoch\",\n",
    "    learning_rate=1e-5,\n",
    "    num_train_epochs=3,\n",
    "    predict_with_generate=True,\n",
    "    save_total_limit=2,\n",
    "    logging_dir=\"./logs\",\n",
    "    fp16=torch.cuda.is_available(),\n",
    ")\n",
    "\n",
    "# Trainer\n",
    "trainer = Seq2SeqTrainer(\n",
    "    model=model,\n",
    "    args=training_args,\n",
    "    train_dataset=dataset,\n",
    ")\n",
    "\n",
    "# Train model\n",
    "trainer.train()\n",
    "\n",
    "# Lưu mô hình đã fine-tune\n",
    "model.save_pretrained(FINETUNED_MODEL_PATH)\n",
    "processor.save_pretrained(FINETUNED_MODEL_PATH)\n",
    "print(\"✅ Fine-tuning hoàn tất! Mô hình đã lưu tại:\", FINETUNED_MODEL_PATH)\n"
   ]
  },
  {
   "cell_type": "code",
   "execution_count": null,
   "id": "2a801c30-9ae7-4ac6-a6c2-7161cdc735e5",
   "metadata": {},
   "outputs": [],
   "source": []
  }
 ],
 "metadata": {
  "kernelspec": {
   "display_name": "Python 3 (ipykernel)",
   "language": "python",
   "name": "python3"
  },
  "language_info": {
   "codemirror_mode": {
    "name": "ipython",
    "version": 3
   },
   "file_extension": ".py",
   "mimetype": "text/x-python",
   "name": "python",
   "nbconvert_exporter": "python",
   "pygments_lexer": "ipython3",
   "version": "3.12.2"
  }
 },
 "nbformat": 4,
 "nbformat_minor": 5
}
