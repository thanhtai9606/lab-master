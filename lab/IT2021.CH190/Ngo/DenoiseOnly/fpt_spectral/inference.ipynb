{
 "cells": [
  {
   "cell_type": "code",
   "execution_count": 1,
   "id": "ccb4b4c8-145e-473b-91a7-100cdee417a1",
   "metadata": {},
   "outputs": [],
   "source": [
    "# pip install openai-whisper jiwer"
   ]
  },
  {
   "cell_type": "code",
   "execution_count": 2,
   "id": "8ff3c37b",
   "metadata": {},
   "outputs": [],
   "source": [
    "# pip install ffmpeg"
   ]
  },
  {
   "cell_type": "code",
   "execution_count": 3,
   "id": "ddead78c-bba4-4b7b-b17a-dc129d3b3c24",
   "metadata": {},
   "outputs": [
    {
     "name": "stdout",
     "output_type": "stream",
     "text": [
      "import\n"
     ]
    }
   ],
   "source": [
    "import os\n",
    "import whisper\n",
    "import jiwer\n",
    "\n",
    "print(\"import\")"
   ]
  },
  {
   "cell_type": "code",
   "execution_count": 4,
   "id": "de38b478-d6ae-41ec-9559-90b2c867afab",
   "metadata": {},
   "outputs": [
    {
     "name": "stdout",
     "output_type": "stream",
     "text": [
      "Load model\n"
     ]
    }
   ],
   "source": [
    "# Định nghĩa đường dẫn thư mục\n",
    "AUDIO_FOLDER = \"./data\"\n",
    "TRANSCRIPT_FILE = \"./transcriptAll.txt\"\n",
    "RESULT_FILE = \"./transcript_result.txt\"\n",
    "\n",
    "# Load mô hình Whisper Large V3\n",
    "model = whisper.load_model(\"large-v3\")\n",
    "\n",
    "print(\"Load model\")"
   ]
  },
  {
   "cell_type": "code",
   "execution_count": 5,
   "id": "c5bdf0ba-b83f-4e34-be23-4ffcfa696016",
   "metadata": {},
   "outputs": [
    {
     "name": "stdout",
     "output_type": "stream",
     "text": [
      "Doc transcript\n",
      "Doc transcript - end\n"
     ]
    }
   ],
   "source": [
    "# Đọc transcript chuẩn\n",
    "print(\"Doc transcr\"\n",
    "\"ipt\")\n",
    "ground_truths = {}\n",
    "with open(TRANSCRIPT_FILE, \"r\", encoding=\"utf-8\") as f:\n",
    "    for line in f:\n",
    "        parts = line.strip().split(\"|\")\n",
    "        if len(parts) >= 2:\n",
    "            filename, transcript, length = parts\n",
    "            ground_truths[filename] = transcript\n",
    "\n",
    "print(\"Doc transcript - end\")"
   ]
  },
  {
   "cell_type": "code",
   "execution_count": 6,
   "id": "c6605ce8-f0d2-41d0-9397-a6d49e7b1cf5",
   "metadata": {},
   "outputs": [
    {
     "name": "stdout",
     "output_type": "stream",
     "text": [
      "Processing: FPTOpenSpeechData_Set001_V0.1_000001.mp3\n"
     ]
    },
    {
     "name": "stderr",
     "output_type": "stream",
     "text": [
      "/home/ngo/anaconda3/lib/python3.12/site-packages/whisper/transcribe.py:126: UserWarning: FP16 is not supported on CPU; using FP32 instead\n",
      "  warnings.warn(\"FP16 is not supported on CPU; using FP32 instead\")\n"
     ]
    },
    {
     "name": "stdout",
     "output_type": "stream",
     "text": [
      "reference_text - predicted_text: cách để đi - các địa đi\n",
      "Processing: FPTOpenSpeechData_Set001_V0.1_000002.mp3\n"
     ]
    },
    {
     "name": "stderr",
     "output_type": "stream",
     "text": [
      "/home/ngo/anaconda3/lib/python3.12/site-packages/whisper/transcribe.py:126: UserWarning: FP16 is not supported on CPU; using FP32 instead\n",
      "  warnings.warn(\"FP16 is not supported on CPU; using FP32 instead\")\n"
     ]
    },
    {
     "name": "stdout",
     "output_type": "stream",
     "text": [
      "reference_text - predicted_text: họ đã xét nghiệm máu cho cheng nhưng mọi thứ vẫn hoàn toàn bình thường - họ đã sẽ thiên bằng các giáo viên mọi người và các minh chống.\n",
      "Processing: FPTOpenSpeechData_Set001_V0.1_000003.mp3\n"
     ]
    },
    {
     "name": "stderr",
     "output_type": "stream",
     "text": [
      "/home/ngo/anaconda3/lib/python3.12/site-packages/whisper/transcribe.py:126: UserWarning: FP16 is not supported on CPU; using FP32 instead\n",
      "  warnings.warn(\"FP16 is not supported on CPU; using FP32 instead\")\n"
     ]
    },
    {
     "name": "stdout",
     "output_type": "stream",
     "text": [
      "reference_text - predicted_text: anh có thể gọi tôi không - anh có thể gọi tôi xong.\n",
      "Processing: FPTOpenSpeechData_Set001_V0.1_000004.mp3\n"
     ]
    },
    {
     "name": "stderr",
     "output_type": "stream",
     "text": [
      "/home/ngo/anaconda3/lib/python3.12/site-packages/whisper/transcribe.py:126: UserWarning: FP16 is not supported on CPU; using FP32 instead\n",
      "  warnings.warn(\"FP16 is not supported on CPU; using FP32 instead\")\n"
     ]
    },
    {
     "name": "stdout",
     "output_type": "stream",
     "text": [
      "reference_text - predicted_text: có rất nhiều yếu tố may rủi ở đây - có rất nhiều yếu tố main ở đây.\n",
      "Processing: FPTOpenSpeechData_Set001_V0.1_000005.mp3\n"
     ]
    },
    {
     "name": "stderr",
     "output_type": "stream",
     "text": [
      "/home/ngo/anaconda3/lib/python3.12/site-packages/whisper/transcribe.py:126: UserWarning: FP16 is not supported on CPU; using FP32 instead\n",
      "  warnings.warn(\"FP16 is not supported on CPU; using FP32 instead\")\n"
     ]
    },
    {
     "name": "stdout",
     "output_type": "stream",
     "text": [
      "reference_text - predicted_text: ai là chúa nói dối - hay là chưa lấy dối?\n",
      "Processing: FPTOpenSpeechData_Set001_V0.1_000006.mp3\n"
     ]
    },
    {
     "name": "stderr",
     "output_type": "stream",
     "text": [
      "/home/ngo/anaconda3/lib/python3.12/site-packages/whisper/transcribe.py:126: UserWarning: FP16 is not supported on CPU; using FP32 instead\n",
      "  warnings.warn(\"FP16 is not supported on CPU; using FP32 instead\")\n"
     ]
    },
    {
     "name": "stdout",
     "output_type": "stream",
     "text": [
      "reference_text - predicted_text: có cửa hàng tiện lợi ở sân bay không - cuối tuổi hàng chuyển lại ở sân mai phong.\n",
      "Processing: FPTOpenSpeechData_Set001_V0.1_000007.mp3\n"
     ]
    },
    {
     "name": "stderr",
     "output_type": "stream",
     "text": [
      "/home/ngo/anaconda3/lib/python3.12/site-packages/whisper/transcribe.py:126: UserWarning: FP16 is not supported on CPU; using FP32 instead\n",
      "  warnings.warn(\"FP16 is not supported on CPU; using FP32 instead\")\n"
     ]
    },
    {
     "name": "stdout",
     "output_type": "stream",
     "text": [
      "reference_text - predicted_text: anh đổi ngoại tệ được không - anh đổi ngoại tệ được không?\n",
      "Processing: FPTOpenSpeechData_Set001_V0.1_000008.mp3\n"
     ]
    },
    {
     "name": "stderr",
     "output_type": "stream",
     "text": [
      "/home/ngo/anaconda3/lib/python3.12/site-packages/whisper/transcribe.py:126: UserWarning: FP16 is not supported on CPU; using FP32 instead\n",
      "  warnings.warn(\"FP16 is not supported on CPU; using FP32 instead\")\n"
     ]
    },
    {
     "name": "stdout",
     "output_type": "stream",
     "text": [
      "reference_text - predicted_text: cô ấy mua hai mươi trái chôm chôm và ba con cá - cô ấy mua 2 nguồn cải tôm tôm và 3 con cá.\n",
      "Processing: FPTOpenSpeechData_Set001_V0.1_000009.mp3\n"
     ]
    },
    {
     "name": "stderr",
     "output_type": "stream",
     "text": [
      "/home/ngo/anaconda3/lib/python3.12/site-packages/whisper/transcribe.py:126: UserWarning: FP16 is not supported on CPU; using FP32 instead\n",
      "  warnings.warn(\"FP16 is not supported on CPU; using FP32 instead\")\n"
     ]
    },
    {
     "name": "stdout",
     "output_type": "stream",
     "text": [
      "reference_text - predicted_text: đứa bé có ói òng ọc ra sữa hoặc nước và bé chưa đến mười tuần tuổi hoặc có biểu hiện mất nước không - đưa bè vào gói ông học rá sừa hoặc nước và bè chưa đến 10 tuần tuổi hoặc có biểu hiện mất nữa không?\n",
      "Processing: FPTOpenSpeechData_Set001_V0.1_000010.mp3\n"
     ]
    },
    {
     "name": "stderr",
     "output_type": "stream",
     "text": [
      "/home/ngo/anaconda3/lib/python3.12/site-packages/whisper/transcribe.py:126: UserWarning: FP16 is not supported on CPU; using FP32 instead\n",
      "  warnings.warn(\"FP16 is not supported on CPU; using FP32 instead\")\n"
     ]
    },
    {
     "name": "stdout",
     "output_type": "stream",
     "text": [
      "reference_text - predicted_text: tôi có thể viết tên địa chỉ số điện thoại của công ty bảo hiểm của anh được không - tôi có thể viết tên, chìa chỉ, số điện thoại của công ty bảo hiểm của anh được không?\n",
      "Processing: FPTOpenSpeechData_Set001_V0.1_000011.mp3\n"
     ]
    },
    {
     "name": "stderr",
     "output_type": "stream",
     "text": [
      "/home/ngo/anaconda3/lib/python3.12/site-packages/whisper/transcribe.py:126: UserWarning: FP16 is not supported on CPU; using FP32 instead\n",
      "  warnings.warn(\"FP16 is not supported on CPU; using FP32 instead\")\n"
     ]
    },
    {
     "name": "stdout",
     "output_type": "stream",
     "text": [
      "reference_text - predicted_text: đừng lo tôi vừa mới đến rồi - đừng lo, tôi vừa mới đến rồi.\n",
      "Processing: FPTOpenSpeechData_Set001_V0.1_000012.mp3\n"
     ]
    },
    {
     "name": "stderr",
     "output_type": "stream",
     "text": [
      "/home/ngo/anaconda3/lib/python3.12/site-packages/whisper/transcribe.py:126: UserWarning: FP16 is not supported on CPU; using FP32 instead\n",
      "  warnings.warn(\"FP16 is not supported on CPU; using FP32 instead\")\n"
     ]
    },
    {
     "name": "stdout",
     "output_type": "stream",
     "text": [
      "reference_text - predicted_text: mười phút nữa vào giờ rưỡi - 10 phút nữa vào giờ rồi\n",
      "Processing: FPTOpenSpeechData_Set001_V0.1_000013.mp3\n"
     ]
    },
    {
     "name": "stderr",
     "output_type": "stream",
     "text": [
      "/home/ngo/anaconda3/lib/python3.12/site-packages/whisper/transcribe.py:126: UserWarning: FP16 is not supported on CPU; using FP32 instead\n",
      "  warnings.warn(\"FP16 is not supported on CPU; using FP32 instead\")\n"
     ]
    },
    {
     "name": "stdout",
     "output_type": "stream",
     "text": [
      "reference_text - predicted_text: tôi có thể hẹn cho chiều mai không - tôi có thể hẹn cho trường mai không?\n",
      "Processing: FPTOpenSpeechData_Set001_V0.1_000014.mp3\n"
     ]
    },
    {
     "name": "stderr",
     "output_type": "stream",
     "text": [
      "/home/ngo/anaconda3/lib/python3.12/site-packages/whisper/transcribe.py:126: UserWarning: FP16 is not supported on CPU; using FP32 instead\n",
      "  warnings.warn(\"FP16 is not supported on CPU; using FP32 instead\")\n"
     ]
    },
    {
     "name": "stdout",
     "output_type": "stream",
     "text": [
      "reference_text - predicted_text: anh rửa hình kỹ thuật số ra được không - anh vừa hình kỳ thật số ra được không?\n",
      "Processing: FPTOpenSpeechData_Set001_V0.1_000015.mp3\n"
     ]
    },
    {
     "name": "stderr",
     "output_type": "stream",
     "text": [
      "/home/ngo/anaconda3/lib/python3.12/site-packages/whisper/transcribe.py:126: UserWarning: FP16 is not supported on CPU; using FP32 instead\n",
      "  warnings.warn(\"FP16 is not supported on CPU; using FP32 instead\")\n"
     ]
    },
    {
     "name": "stdout",
     "output_type": "stream",
     "text": [
      "reference_text - predicted_text: tôi cố thu xếp thôi - cảm ơn các bạn đã theo dõi và hẹn gặp lại.\n",
      "Processing: FPTOpenSpeechData_Set001_V0.1_000016.mp3\n"
     ]
    },
    {
     "name": "stderr",
     "output_type": "stream",
     "text": [
      "/home/ngo/anaconda3/lib/python3.12/site-packages/whisper/transcribe.py:126: UserWarning: FP16 is not supported on CPU; using FP32 instead\n",
      "  warnings.warn(\"FP16 is not supported on CPU; using FP32 instead\")\n"
     ]
    },
    {
     "name": "stdout",
     "output_type": "stream",
     "text": [
      "reference_text - predicted_text: tôi không dùng ma túy - tôi cũng dùng lá tươi\n",
      "Processing: FPTOpenSpeechData_Set001_V0.1_000017.mp3\n"
     ]
    },
    {
     "name": "stderr",
     "output_type": "stream",
     "text": [
      "/home/ngo/anaconda3/lib/python3.12/site-packages/whisper/transcribe.py:126: UserWarning: FP16 is not supported on CPU; using FP32 instead\n",
      "  warnings.warn(\"FP16 is not supported on CPU; using FP32 instead\")\n"
     ]
    },
    {
     "name": "stdout",
     "output_type": "stream",
     "text": [
      "reference_text - predicted_text: quân đội mỹ muốn chế tạo những máy tự động hoàn toàn vì những chiếc mà họ đang có vẫn cần được điều khiển bởi con người - quân đội mỹ muốn chế tạo những máy tự động hoàn toàn vì những chiếc mà họ đang có vẫn cần được điều kiện với con người.\n",
      "Processing: FPTOpenSpeechData_Set001_V0.1_000018.mp3\n"
     ]
    },
    {
     "name": "stderr",
     "output_type": "stream",
     "text": [
      "/home/ngo/anaconda3/lib/python3.12/site-packages/whisper/transcribe.py:126: UserWarning: FP16 is not supported on CPU; using FP32 instead\n",
      "  warnings.warn(\"FP16 is not supported on CPU; using FP32 instead\")\n"
     ]
    },
    {
     "name": "stdout",
     "output_type": "stream",
     "text": [
      "reference_text - predicted_text: tôi quên túi đeo vai trong xe tắc xi - tôi quên cụi đeo vai trong xe taxi.\n",
      "Processing: FPTOpenSpeechData_Set001_V0.1_000019.mp3\n"
     ]
    },
    {
     "name": "stderr",
     "output_type": "stream",
     "text": [
      "/home/ngo/anaconda3/lib/python3.12/site-packages/whisper/transcribe.py:126: UserWarning: FP16 is not supported on CPU; using FP32 instead\n",
      "  warnings.warn(\"FP16 is not supported on CPU; using FP32 instead\")\n"
     ]
    },
    {
     "name": "stdout",
     "output_type": "stream",
     "text": [
      "reference_text - predicted_text: dư luận đã phản ánh lên cơ quan địa chính của thị trấn nhưng mãi chả thấy hồi âm - dư luận đã phản ánh lên cơ quan địa chính của thị trấn nhưng mãi chả thấy hồi âm.\n",
      "Processing: FPTOpenSpeechData_Set001_V0.1_000020.mp3\n"
     ]
    },
    {
     "name": "stderr",
     "output_type": "stream",
     "text": [
      "/home/ngo/anaconda3/lib/python3.12/site-packages/whisper/transcribe.py:126: UserWarning: FP16 is not supported on CPU; using FP32 instead\n",
      "  warnings.warn(\"FP16 is not supported on CPU; using FP32 instead\")\n"
     ]
    },
    {
     "name": "stdout",
     "output_type": "stream",
     "text": [
      "reference_text - predicted_text: giả danh làm từ thiện lừa tiền người dân - giả danh làm từ thiện lùi tiền người dân\n",
      "Processing: FPTOpenSpeechData_Set001_V0.1_000021.mp3\n"
     ]
    },
    {
     "name": "stderr",
     "output_type": "stream",
     "text": [
      "/home/ngo/anaconda3/lib/python3.12/site-packages/whisper/transcribe.py:126: UserWarning: FP16 is not supported on CPU; using FP32 instead\n",
      "  warnings.warn(\"FP16 is not supported on CPU; using FP32 instead\")\n"
     ]
    },
    {
     "name": "stdout",
     "output_type": "stream",
     "text": [
      "reference_text - predicted_text: sắm đồ siêu sang ở hội chợ triệu phú - sắp câu siêu sát ở chợ triệu ủ.\n",
      "Processing: FPTOpenSpeechData_Set001_V0.1_000022.mp3\n"
     ]
    },
    {
     "name": "stderr",
     "output_type": "stream",
     "text": [
      "/home/ngo/anaconda3/lib/python3.12/site-packages/whisper/transcribe.py:126: UserWarning: FP16 is not supported on CPU; using FP32 instead\n",
      "  warnings.warn(\"FP16 is not supported on CPU; using FP32 instead\")\n"
     ]
    },
    {
     "name": "stdout",
     "output_type": "stream",
     "text": [
      "reference_text - predicted_text: nếu làm lộ thiên cơ âm binh sẽ đánh trả thầy - nếu làm lộn viên cơ âm binh sẽ đánh trả thầy\n",
      "Processing: FPTOpenSpeechData_Set001_V0.1_000023.mp3\n"
     ]
    },
    {
     "name": "stderr",
     "output_type": "stream",
     "text": [
      "/home/ngo/anaconda3/lib/python3.12/site-packages/whisper/transcribe.py:126: UserWarning: FP16 is not supported on CPU; using FP32 instead\n",
      "  warnings.warn(\"FP16 is not supported on CPU; using FP32 instead\")\n"
     ]
    },
    {
     "name": "stdout",
     "output_type": "stream",
     "text": [
      "reference_text - predicted_text: máy ném bom chiến lược của nga gặp nạn - máy ném bom chiến lược của nga gặp lại\n",
      "Processing: FPTOpenSpeechData_Set001_V0.1_000024.mp3\n"
     ]
    },
    {
     "name": "stderr",
     "output_type": "stream",
     "text": [
      "/home/ngo/anaconda3/lib/python3.12/site-packages/whisper/transcribe.py:126: UserWarning: FP16 is not supported on CPU; using FP32 instead\n",
      "  warnings.warn(\"FP16 is not supported on CPU; using FP32 instead\")\n"
     ]
    },
    {
     "name": "stdout",
     "output_type": "stream",
     "text": [
      "reference_text - predicted_text: anh có thích tôi giữ trước quyển sách này cho anh không - anh có thích tôi giữ trước quyển sách này cho anh không?\n",
      "Processing: FPTOpenSpeechData_Set001_V0.1_000025.mp3\n"
     ]
    },
    {
     "name": "stderr",
     "output_type": "stream",
     "text": [
      "/home/ngo/anaconda3/lib/python3.12/site-packages/whisper/transcribe.py:126: UserWarning: FP16 is not supported on CPU; using FP32 instead\n",
      "  warnings.warn(\"FP16 is not supported on CPU; using FP32 instead\")\n"
     ]
    },
    {
     "name": "stdout",
     "output_type": "stream",
     "text": [
      "reference_text - predicted_text: ở người bị hội chứng khi ăn ngủ phần não phải vẫn thức và sau đó là cả các dạng hoạt động thể chất - ở người bị hộ trứng, khi ăn ngủ, phần não phải dẫn thức và sau đó là cả các loại hoạt động thể chất.\n",
      "Processing: FPTOpenSpeechData_Set001_V0.1_000026.mp3\n"
     ]
    },
    {
     "name": "stderr",
     "output_type": "stream",
     "text": [
      "/home/ngo/anaconda3/lib/python3.12/site-packages/whisper/transcribe.py:126: UserWarning: FP16 is not supported on CPU; using FP32 instead\n",
      "  warnings.warn(\"FP16 is not supported on CPU; using FP32 instead\")\n"
     ]
    },
    {
     "name": "stdout",
     "output_type": "stream",
     "text": [
      "reference_text - predicted_text: tỉ lệ là mười mm trên một km - kỷ lệ là 10mm trên 1km\n",
      "Processing: FPTOpenSpeechData_Set001_V0.1_000027.mp3\n"
     ]
    },
    {
     "name": "stderr",
     "output_type": "stream",
     "text": [
      "/home/ngo/anaconda3/lib/python3.12/site-packages/whisper/transcribe.py:126: UserWarning: FP16 is not supported on CPU; using FP32 instead\n",
      "  warnings.warn(\"FP16 is not supported on CPU; using FP32 instead\")\n"
     ]
    },
    {
     "name": "stdout",
     "output_type": "stream",
     "text": [
      "reference_text - predicted_text: tôi muốn thực hiện một cuộc gọi điện thoại quốc tế đi nhật bản cuộc gọi -n là đến tokyo số ba hai chín hai tám hai một một - các bạn có thể thực hiện một cuộc gọi điện thoại quốc tế đi nhật bản, một cuộc gọi điện thoại điện tokyo, số 32928211.\n",
      "Processing: FPTOpenSpeechData_Set001_V0.1_000028.mp3\n"
     ]
    },
    {
     "name": "stderr",
     "output_type": "stream",
     "text": [
      "/home/ngo/anaconda3/lib/python3.12/site-packages/whisper/transcribe.py:126: UserWarning: FP16 is not supported on CPU; using FP32 instead\n",
      "  warnings.warn(\"FP16 is not supported on CPU; using FP32 instead\")\n"
     ]
    },
    {
     "name": "stdout",
     "output_type": "stream",
     "text": [
      "reference_text - predicted_text: nơi đây hiện khá yên tĩnh - lời đây hiện khả nhiệm tình\n",
      "Processing: FPTOpenSpeechData_Set001_V0.1_000029.mp3\n"
     ]
    },
    {
     "name": "stderr",
     "output_type": "stream",
     "text": [
      "/home/ngo/anaconda3/lib/python3.12/site-packages/whisper/transcribe.py:126: UserWarning: FP16 is not supported on CPU; using FP32 instead\n",
      "  warnings.warn(\"FP16 is not supported on CPU; using FP32 instead\")\n"
     ]
    },
    {
     "name": "stdout",
     "output_type": "stream",
     "text": [
      "reference_text - predicted_text: nhưng cũng có những bạn nằm khèo ở nhà trùm mềm và khóc nhè - nhưng cũng có những bạn nằm kheo ở nhà trông mền và khóc nhè.\n",
      "Processing: FPTOpenSpeechData_Set001_V0.1_000030.mp3\n"
     ]
    },
    {
     "name": "stderr",
     "output_type": "stream",
     "text": [
      "/home/ngo/anaconda3/lib/python3.12/site-packages/whisper/transcribe.py:126: UserWarning: FP16 is not supported on CPU; using FP32 instead\n",
      "  warnings.warn(\"FP16 is not supported on CPU; using FP32 instead\")\n"
     ]
    },
    {
     "name": "stdout",
     "output_type": "stream",
     "text": [
      "reference_text - predicted_text: chúng ta không thể mua cái nào ở nhật bản - chúng ta không thể mua cái nào ở nhật bản.\n",
      "Processing: FPTOpenSpeechData_Set001_V0.1_000031.mp3\n"
     ]
    },
    {
     "name": "stderr",
     "output_type": "stream",
     "text": [
      "/home/ngo/anaconda3/lib/python3.12/site-packages/whisper/transcribe.py:126: UserWarning: FP16 is not supported on CPU; using FP32 instead\n",
      "  warnings.warn(\"FP16 is not supported on CPU; using FP32 instead\")\n"
     ]
    },
    {
     "name": "stdout",
     "output_type": "stream",
     "text": [
      "reference_text - predicted_text: cho vừa với số kinh phí hạn hẹp của một bộ phim - cho vừa với số kinh phí hạn hẹp của một bộ phim.\n",
      "Processing: FPTOpenSpeechData_Set001_V0.1_000032.mp3\n"
     ]
    },
    {
     "name": "stderr",
     "output_type": "stream",
     "text": [
      "/home/ngo/anaconda3/lib/python3.12/site-packages/whisper/transcribe.py:126: UserWarning: FP16 is not supported on CPU; using FP32 instead\n",
      "  warnings.warn(\"FP16 is not supported on CPU; using FP32 instead\")\n"
     ]
    },
    {
     "name": "stdout",
     "output_type": "stream",
     "text": [
      "reference_text - predicted_text: kịch sến nhiều tập làm tôi oải quá tôi sẽ tắt tv - kịch sến nhiều tập, làm tôi loại quá, tôi sẽ tắt tivi.\n",
      "Processing: FPTOpenSpeechData_Set001_V0.1_000033.mp3\n"
     ]
    },
    {
     "name": "stderr",
     "output_type": "stream",
     "text": [
      "/home/ngo/anaconda3/lib/python3.12/site-packages/whisper/transcribe.py:126: UserWarning: FP16 is not supported on CPU; using FP32 instead\n",
      "  warnings.warn(\"FP16 is not supported on CPU; using FP32 instead\")\n"
     ]
    },
    {
     "name": "stdout",
     "output_type": "stream",
     "text": [
      "reference_text - predicted_text: chính vì thế những người phải sống một thời gian dài trong không gian có thể gặp rủi ro - chính vì thế, những người phải sống một thời gian dài trong không gian có thể gặp tự do.\n",
      "Processing: FPTOpenSpeechData_Set001_V0.1_000034.mp3\n"
     ]
    },
    {
     "name": "stderr",
     "output_type": "stream",
     "text": [
      "/home/ngo/anaconda3/lib/python3.12/site-packages/whisper/transcribe.py:126: UserWarning: FP16 is not supported on CPU; using FP32 instead\n",
      "  warnings.warn(\"FP16 is not supported on CPU; using FP32 instead\")\n"
     ]
    },
    {
     "name": "stdout",
     "output_type": "stream",
     "text": [
      "reference_text - predicted_text: thực ra thà không đến nỗi mơ mộng đến mê muội để chẳng hiểu tấm lòng của những người thân thông qua lời khuyên nhủ - thực ra thà không đến nỗi mơ mộng đến mê mùi để chẳng hiểu tâm lòng của những người thân thân qua lời thương ngữ.\n",
      "Processing: FPTOpenSpeechData_Set001_V0.1_000035.mp3\n"
     ]
    },
    {
     "name": "stderr",
     "output_type": "stream",
     "text": [
      "/home/ngo/anaconda3/lib/python3.12/site-packages/whisper/transcribe.py:126: UserWarning: FP16 is not supported on CPU; using FP32 instead\n",
      "  warnings.warn(\"FP16 is not supported on CPU; using FP32 instead\")\n"
     ]
    },
    {
     "name": "stdout",
     "output_type": "stream",
     "text": [
      "reference_text - predicted_text: bán đấu giá mỹ nữ - bạn đồng giả phi nữ\n",
      "Processing: FPTOpenSpeechData_Set001_V0.1_000036.mp3\n"
     ]
    },
    {
     "name": "stderr",
     "output_type": "stream",
     "text": [
      "/home/ngo/anaconda3/lib/python3.12/site-packages/whisper/transcribe.py:126: UserWarning: FP16 is not supported on CPU; using FP32 instead\n",
      "  warnings.warn(\"FP16 is not supported on CPU; using FP32 instead\")\n"
     ]
    },
    {
     "name": "stdout",
     "output_type": "stream",
     "text": [
      "reference_text - predicted_text: địa chỉ email của tôi là s t e f a n dot m a r t e n s \\r\\n @ gmx dot de - địa chỉ email của tôi là stefan.martens a1\n",
      "Processing: FPTOpenSpeechData_Set001_V0.1_000037.mp3\n"
     ]
    },
    {
     "name": "stderr",
     "output_type": "stream",
     "text": [
      "/home/ngo/anaconda3/lib/python3.12/site-packages/whisper/transcribe.py:126: UserWarning: FP16 is not supported on CPU; using FP32 instead\n",
      "  warnings.warn(\"FP16 is not supported on CPU; using FP32 instead\")\n"
     ]
    },
    {
     "name": "stdout",
     "output_type": "stream",
     "text": [
      "reference_text - predicted_text: hôm thứ năm ủy ban bầu cử thái lan cho rằng đảng của người thái yêu người thái đã phạm hai luật trong chiến dịch tranh cử vừa qua - những năm, ủy ban bầu cử thái lan cho rằng đảng của người thái yêu người thái đã phọng hai lần trong chiến dịch tranh cử vừa qua.\n",
      "Processing: FPTOpenSpeechData_Set001_V0.1_000038.mp3\n"
     ]
    },
    {
     "name": "stderr",
     "output_type": "stream",
     "text": [
      "/home/ngo/anaconda3/lib/python3.12/site-packages/whisper/transcribe.py:126: UserWarning: FP16 is not supported on CPU; using FP32 instead\n",
      "  warnings.warn(\"FP16 is not supported on CPU; using FP32 instead\")\n"
     ]
    },
    {
     "name": "stdout",
     "output_type": "stream",
     "text": [
      "reference_text - predicted_text: không thể xem lần vấp ngã ấy là tai - không thể xem rằng bậc nào ấy là anh.\n",
      "Processing: FPTOpenSpeechData_Set001_V0.1_000039.mp3\n"
     ]
    },
    {
     "name": "stderr",
     "output_type": "stream",
     "text": [
      "/home/ngo/anaconda3/lib/python3.12/site-packages/whisper/transcribe.py:126: UserWarning: FP16 is not supported on CPU; using FP32 instead\n",
      "  warnings.warn(\"FP16 is not supported on CPU; using FP32 instead\")\n"
     ]
    },
    {
     "name": "stdout",
     "output_type": "stream",
     "text": [
      "reference_text - predicted_text: cướp bóc trong khi hỏa hoạn - các bác sĩ kêu hỏa hoạt.\n",
      "Processing: FPTOpenSpeechData_Set001_V0.1_000040.mp3\n"
     ]
    },
    {
     "name": "stderr",
     "output_type": "stream",
     "text": [
      "/home/ngo/anaconda3/lib/python3.12/site-packages/whisper/transcribe.py:126: UserWarning: FP16 is not supported on CPU; using FP32 instead\n",
      "  warnings.warn(\"FP16 is not supported on CPU; using FP32 instead\")\n"
     ]
    },
    {
     "name": "stdout",
     "output_type": "stream",
     "text": [
      "reference_text - predicted_text: một dân tộc từng không có người từ á sang âu -n - một dân tộc tinh vốn bỏ người dưới áp và ngâu sợ đất.\n",
      "Processing: FPTOpenSpeechData_Set001_V0.1_000041.mp3\n"
     ]
    },
    {
     "name": "stderr",
     "output_type": "stream",
     "text": [
      "/home/ngo/anaconda3/lib/python3.12/site-packages/whisper/transcribe.py:126: UserWarning: FP16 is not supported on CPU; using FP32 instead\n",
      "  warnings.warn(\"FP16 is not supported on CPU; using FP32 instead\")\n"
     ]
    },
    {
     "name": "stdout",
     "output_type": "stream",
     "text": [
      "reference_text - predicted_text: tết đầu tiên xa việt nam của cháu quả là ý nghĩa - tết đầu tiên xa việt nam của cháu quả là ý nghĩa.\n",
      "Processing: FPTOpenSpeechData_Set001_V0.1_000042.mp3\n"
     ]
    },
    {
     "name": "stderr",
     "output_type": "stream",
     "text": [
      "/home/ngo/anaconda3/lib/python3.12/site-packages/whisper/transcribe.py:126: UserWarning: FP16 is not supported on CPU; using FP32 instead\n",
      "  warnings.warn(\"FP16 is not supported on CPU; using FP32 instead\")\n"
     ]
    },
    {
     "name": "stdout",
     "output_type": "stream",
     "text": [
      "reference_text - predicted_text: trong làng ai cũng quý mến gia đình anh phú - trong làn ai cũng quý mến gia đình anh phú.\n",
      "Processing: FPTOpenSpeechData_Set001_V0.1_000043.mp3\n"
     ]
    },
    {
     "name": "stderr",
     "output_type": "stream",
     "text": [
      "/home/ngo/anaconda3/lib/python3.12/site-packages/whisper/transcribe.py:126: UserWarning: FP16 is not supported on CPU; using FP32 instead\n",
      "  warnings.warn(\"FP16 is not supported on CPU; using FP32 instead\")\n"
     ]
    },
    {
     "name": "stdout",
     "output_type": "stream",
     "text": [
      "reference_text - predicted_text: xin chào gia đình tanaka - xin chào, chào tạm biệt.\n",
      "Processing: FPTOpenSpeechData_Set001_V0.1_000044.mp3\n"
     ]
    },
    {
     "name": "stderr",
     "output_type": "stream",
     "text": [
      "/home/ngo/anaconda3/lib/python3.12/site-packages/whisper/transcribe.py:126: UserWarning: FP16 is not supported on CPU; using FP32 instead\n",
      "  warnings.warn(\"FP16 is not supported on CPU; using FP32 instead\")\n"
     ]
    },
    {
     "name": "stdout",
     "output_type": "stream",
     "text": [
      "reference_text - predicted_text: anh đã làm rất tệ - anh ta làm rất tệ.\n",
      "Processing: FPTOpenSpeechData_Set001_V0.1_000045.mp3\n"
     ]
    },
    {
     "name": "stderr",
     "output_type": "stream",
     "text": [
      "/home/ngo/anaconda3/lib/python3.12/site-packages/whisper/transcribe.py:126: UserWarning: FP16 is not supported on CPU; using FP32 instead\n",
      "  warnings.warn(\"FP16 is not supported on CPU; using FP32 instead\")\n"
     ]
    },
    {
     "name": "stdout",
     "output_type": "stream",
     "text": [
      "reference_text - predicted_text: cô ta nghi ngờ lúc mình say rượu đã bị toán cưỡng bức - các bạn nhìn thấy không? các bạn nhìn thấy không?\n",
      "Processing: FPTOpenSpeechData_Set001_V0.1_000046.mp3\n"
     ]
    },
    {
     "name": "stderr",
     "output_type": "stream",
     "text": [
      "/home/ngo/anaconda3/lib/python3.12/site-packages/whisper/transcribe.py:126: UserWarning: FP16 is not supported on CPU; using FP32 instead\n",
      "  warnings.warn(\"FP16 is not supported on CPU; using FP32 instead\")\n"
     ]
    },
    {
     "name": "stdout",
     "output_type": "stream",
     "text": [
      "reference_text - predicted_text: ông muốn nhãn hiệu bia nào - còn nguyên nhân là việt nam.\n",
      "Processing: FPTOpenSpeechData_Set001_V0.1_000047.mp3\n"
     ]
    },
    {
     "name": "stderr",
     "output_type": "stream",
     "text": [
      "/home/ngo/anaconda3/lib/python3.12/site-packages/whisper/transcribe.py:126: UserWarning: FP16 is not supported on CPU; using FP32 instead\n",
      "  warnings.warn(\"FP16 is not supported on CPU; using FP32 instead\")\n"
     ]
    },
    {
     "name": "stdout",
     "output_type": "stream",
     "text": [
      "reference_text - predicted_text: anh có dừng tại khách sạn begin không - anh có dừng tại khách sạn v-wing không?\n",
      "Processing: FPTOpenSpeechData_Set001_V0.1_000048.mp3\n"
     ]
    },
    {
     "name": "stderr",
     "output_type": "stream",
     "text": [
      "/home/ngo/anaconda3/lib/python3.12/site-packages/whisper/transcribe.py:126: UserWarning: FP16 is not supported on CPU; using FP32 instead\n",
      "  warnings.warn(\"FP16 is not supported on CPU; using FP32 instead\")\n"
     ]
    },
    {
     "name": "stdout",
     "output_type": "stream",
     "text": [
      "reference_text - predicted_text: bật điều hòa nhiệt độ - mật liêu hoa nhiệt đảo\n",
      "Processing: FPTOpenSpeechData_Set001_V0.1_000049.mp3\n"
     ]
    },
    {
     "name": "stderr",
     "output_type": "stream",
     "text": [
      "/home/ngo/anaconda3/lib/python3.12/site-packages/whisper/transcribe.py:126: UserWarning: FP16 is not supported on CPU; using FP32 instead\n",
      "  warnings.warn(\"FP16 is not supported on CPU; using FP32 instead\")\n"
     ]
    },
    {
     "name": "stdout",
     "output_type": "stream",
     "text": [
      "reference_text - predicted_text: nhiều chàng trai để ý và theo dõi bạn - nhiều chàng trai để ấy và theo dõi cả.\n",
      "Processing: FPTOpenSpeechData_Set001_V0.1_000050.mp3\n"
     ]
    },
    {
     "name": "stderr",
     "output_type": "stream",
     "text": [
      "/home/ngo/anaconda3/lib/python3.12/site-packages/whisper/transcribe.py:126: UserWarning: FP16 is not supported on CPU; using FP32 instead\n",
      "  warnings.warn(\"FP16 is not supported on CPU; using FP32 instead\")\n"
     ]
    },
    {
     "name": "stdout",
     "output_type": "stream",
     "text": [
      "reference_text - predicted_text: chúng ta hãy tung một đồng tiền để quyết định - chúng ta hay chứ một động tiên để quyết định.\n",
      "Processing: FPTOpenSpeechData_Set001_V0.1_000051.mp3\n"
     ]
    },
    {
     "name": "stderr",
     "output_type": "stream",
     "text": [
      "/home/ngo/anaconda3/lib/python3.12/site-packages/whisper/transcribe.py:126: UserWarning: FP16 is not supported on CPU; using FP32 instead\n",
      "  warnings.warn(\"FP16 is not supported on CPU; using FP32 instead\")\n"
     ]
    },
    {
     "name": "stdout",
     "output_type": "stream",
     "text": [
      "reference_text - predicted_text: tôi nghe đĩa cd này được không - cô nghe điểm chi tiết này được không?\n",
      "Processing: FPTOpenSpeechData_Set001_V0.1_000052.mp3\n"
     ]
    },
    {
     "name": "stderr",
     "output_type": "stream",
     "text": [
      "/home/ngo/anaconda3/lib/python3.12/site-packages/whisper/transcribe.py:126: UserWarning: FP16 is not supported on CPU; using FP32 instead\n",
      "  warnings.warn(\"FP16 is not supported on CPU; using FP32 instead\")\n"
     ]
    },
    {
     "name": "stdout",
     "output_type": "stream",
     "text": [
      "reference_text - predicted_text: nguyễn văn vũ vừa tử nạn vì hỗ trợ đuổi bắt tội phạm ngày mười ba tháng một công an xã cẩm trạch huyện cần cẩu cho biết một người lái xe khách hai bảy tuổi đã tử nạn khi giúp một phụ nữ bị bảy tên khống chế cướp tài sản - nguyễn văn vũ vừa tử lạng vì hỗ trợ đuổi bắt tội phạm. ngày 13 tháng 1, công an xã cẩm trạch, nguyện cần cầu cho biết một người lái xe khách 27 tuổi đã tử lạng khi giúp một phụ nữ bị bệnh trên công chế cướp tài sản.\n",
      "Processing: FPTOpenSpeechData_Set001_V0.1_000053.mp3\n"
     ]
    },
    {
     "name": "stderr",
     "output_type": "stream",
     "text": [
      "/home/ngo/anaconda3/lib/python3.12/site-packages/whisper/transcribe.py:126: UserWarning: FP16 is not supported on CPU; using FP32 instead\n",
      "  warnings.warn(\"FP16 is not supported on CPU; using FP32 instead\")\n"
     ]
    },
    {
     "name": "stdout",
     "output_type": "stream",
     "text": [
      "reference_text - predicted_text: hai con voi này rất hung dữ và phá nát nhiều hoa màu của người dân trong khu vực - hai con voi này rất hung dữ và phá nát nhiều hoa màu của người dân trong khu vực.\n",
      "Processing: FPTOpenSpeechData_Set001_V0.1_000054.mp3\n"
     ]
    },
    {
     "name": "stderr",
     "output_type": "stream",
     "text": [
      "/home/ngo/anaconda3/lib/python3.12/site-packages/whisper/transcribe.py:126: UserWarning: FP16 is not supported on CPU; using FP32 instead\n",
      "  warnings.warn(\"FP16 is not supported on CPU; using FP32 instead\")\n"
     ]
    },
    {
     "name": "stdout",
     "output_type": "stream",
     "text": [
      "reference_text - predicted_text: anh có bị đau do mệt mỏi không - anh có bị đau rô mịt mỏi không?\n",
      "Processing: FPTOpenSpeechData_Set001_V0.1_000055.mp3\n"
     ]
    },
    {
     "name": "stderr",
     "output_type": "stream",
     "text": [
      "/home/ngo/anaconda3/lib/python3.12/site-packages/whisper/transcribe.py:126: UserWarning: FP16 is not supported on CPU; using FP32 instead\n",
      "  warnings.warn(\"FP16 is not supported on CPU; using FP32 instead\")\n"
     ]
    },
    {
     "name": "stdout",
     "output_type": "stream",
     "text": [
      "reference_text - predicted_text: bạn có muốn tôi dịch cái này cho bạn không tôi nói tiếng nhật - bạn gọi một tôi dịch cạnh này cho bạn không? tôi đã trực nhập.\n",
      "Processing: FPTOpenSpeechData_Set001_V0.1_000056.mp3\n"
     ]
    },
    {
     "name": "stderr",
     "output_type": "stream",
     "text": [
      "/home/ngo/anaconda3/lib/python3.12/site-packages/whisper/transcribe.py:126: UserWarning: FP16 is not supported on CPU; using FP32 instead\n",
      "  warnings.warn(\"FP16 is not supported on CPU; using FP32 instead\")\n"
     ]
    },
    {
     "name": "stdout",
     "output_type": "stream",
     "text": [
      "reference_text - predicted_text: vâng giá sẽ là ba trăm yên - răng giá sẽ là 300 yên.\n",
      "Processing: FPTOpenSpeechData_Set001_V0.1_000057.mp3\n"
     ]
    },
    {
     "name": "stderr",
     "output_type": "stream",
     "text": [
      "/home/ngo/anaconda3/lib/python3.12/site-packages/whisper/transcribe.py:126: UserWarning: FP16 is not supported on CPU; using FP32 instead\n",
      "  warnings.warn(\"FP16 is not supported on CPU; using FP32 instead\")\n"
     ]
    },
    {
     "name": "stdout",
     "output_type": "stream",
     "text": [
      "reference_text - predicted_text: và như thế những điều tốt đẹp - và như thế những điều tốt đẹp.\n",
      "Processing: FPTOpenSpeechData_Set001_V0.1_000058.mp3\n"
     ]
    },
    {
     "name": "stderr",
     "output_type": "stream",
     "text": [
      "/home/ngo/anaconda3/lib/python3.12/site-packages/whisper/transcribe.py:126: UserWarning: FP16 is not supported on CPU; using FP32 instead\n",
      "  warnings.warn(\"FP16 is not supported on CPU; using FP32 instead\")\n"
     ]
    },
    {
     "name": "stdout",
     "output_type": "stream",
     "text": [
      "reference_text - predicted_text: tăng nhiệt độ lên hai mươi mốt độ - sáng nhiệt độ lên 21 độ.\n",
      "Processing: FPTOpenSpeechData_Set001_V0.1_000059.mp3\n"
     ]
    },
    {
     "name": "stderr",
     "output_type": "stream",
     "text": [
      "/home/ngo/anaconda3/lib/python3.12/site-packages/whisper/transcribe.py:126: UserWarning: FP16 is not supported on CPU; using FP32 instead\n",
      "  warnings.warn(\"FP16 is not supported on CPU; using FP32 instead\")\n"
     ]
    },
    {
     "name": "stdout",
     "output_type": "stream",
     "text": [
      "reference_text - predicted_text: -n ở sheraton - tôi sẽ dạy tên.\n",
      "Processing: FPTOpenSpeechData_Set001_V0.1_000060.mp3\n"
     ]
    },
    {
     "name": "stderr",
     "output_type": "stream",
     "text": [
      "/home/ngo/anaconda3/lib/python3.12/site-packages/whisper/transcribe.py:126: UserWarning: FP16 is not supported on CPU; using FP32 instead\n",
      "  warnings.warn(\"FP16 is not supported on CPU; using FP32 instead\")\n"
     ]
    },
    {
     "name": "stdout",
     "output_type": "stream",
     "text": [
      "reference_text - predicted_text: tốt hơn là tôi nên đi bây giờ - tốt hơn là tôi nên đi đi sổ.\n",
      "Processing: FPTOpenSpeechData_Set001_V0.1_000061.mp3\n"
     ]
    },
    {
     "name": "stderr",
     "output_type": "stream",
     "text": [
      "/home/ngo/anaconda3/lib/python3.12/site-packages/whisper/transcribe.py:126: UserWarning: FP16 is not supported on CPU; using FP32 instead\n",
      "  warnings.warn(\"FP16 is not supported on CPU; using FP32 instead\")\n"
     ]
    },
    {
     "name": "stdout",
     "output_type": "stream",
     "text": [
      "reference_text - predicted_text: kỳ tích có thể để lại quyền lực bởi một nhà độc tài dầu mỏ nhưng cũng có thể giúp thể chế hóa những phong trào chống mỹ diễn ra tại khu vực trung đông - quý vị có thể để lại tiền lực với một nhà đặc tài giàu mọ, nhưng cũng có thể giúp thể chế hóa những phong trào chứng minh chuyên gia tại khu vực trung đông.\n",
      "Processing: FPTOpenSpeechData_Set001_V0.1_000062.mp3\n"
     ]
    },
    {
     "name": "stderr",
     "output_type": "stream",
     "text": [
      "/home/ngo/anaconda3/lib/python3.12/site-packages/whisper/transcribe.py:126: UserWarning: FP16 is not supported on CPU; using FP32 instead\n",
      "  warnings.warn(\"FP16 is not supported on CPU; using FP32 instead\")\n"
     ]
    },
    {
     "name": "stdout",
     "output_type": "stream",
     "text": [
      "reference_text - predicted_text: lãnh đạo ngành ô tô mỹ nên từ chức - lãnh đạo ngặt ô tô mỹ nên từ chức.\n",
      "Processing: FPTOpenSpeechData_Set001_V0.1_000063.mp3\n"
     ]
    },
    {
     "name": "stderr",
     "output_type": "stream",
     "text": [
      "/home/ngo/anaconda3/lib/python3.12/site-packages/whisper/transcribe.py:126: UserWarning: FP16 is not supported on CPU; using FP32 instead\n",
      "  warnings.warn(\"FP16 is not supported on CPU; using FP32 instead\")\n"
     ]
    },
    {
     "name": "stdout",
     "output_type": "stream",
     "text": [
      "reference_text - predicted_text: cô ấy biết - cô ấy biết\n",
      "Processing: FPTOpenSpeechData_Set001_V0.1_000064.mp3\n"
     ]
    },
    {
     "name": "stderr",
     "output_type": "stream",
     "text": [
      "/home/ngo/anaconda3/lib/python3.12/site-packages/whisper/transcribe.py:126: UserWarning: FP16 is not supported on CPU; using FP32 instead\n",
      "  warnings.warn(\"FP16 is not supported on CPU; using FP32 instead\")\n"
     ]
    },
    {
     "name": "stdout",
     "output_type": "stream",
     "text": [
      "reference_text - predicted_text: từng sợi thương li ti kết lại - từng sợi thương ly ti kết lại\n",
      "Processing: FPTOpenSpeechData_Set001_V0.1_000065.mp3\n"
     ]
    },
    {
     "name": "stderr",
     "output_type": "stream",
     "text": [
      "/home/ngo/anaconda3/lib/python3.12/site-packages/whisper/transcribe.py:126: UserWarning: FP16 is not supported on CPU; using FP32 instead\n",
      "  warnings.warn(\"FP16 is not supported on CPU; using FP32 instead\")\n"
     ]
    },
    {
     "name": "stdout",
     "output_type": "stream",
     "text": [
      "reference_text - predicted_text: mồ hôi là một trong những phương tiện để cơ thể thải cặn bã ra ngoài - mồ hôi là một trong những phương tiện để cơ thể thảy cặn bã ra ngoài.\n",
      "Processing: FPTOpenSpeechData_Set001_V0.1_000066.mp3\n"
     ]
    },
    {
     "name": "stderr",
     "output_type": "stream",
     "text": [
      "/home/ngo/anaconda3/lib/python3.12/site-packages/whisper/transcribe.py:126: UserWarning: FP16 is not supported on CPU; using FP32 instead\n",
      "  warnings.warn(\"FP16 is not supported on CPU; using FP32 instead\")\n"
     ]
    },
    {
     "name": "stdout",
     "output_type": "stream",
     "text": [
      "reference_text - predicted_text: ti vi k+ một - tvk cộng 1\n",
      "Processing: FPTOpenSpeechData_Set001_V0.1_000067.mp3\n"
     ]
    },
    {
     "name": "stderr",
     "output_type": "stream",
     "text": [
      "/home/ngo/anaconda3/lib/python3.12/site-packages/whisper/transcribe.py:126: UserWarning: FP16 is not supported on CPU; using FP32 instead\n",
      "  warnings.warn(\"FP16 is not supported on CPU; using FP32 instead\")\n"
     ]
    },
    {
     "name": "stdout",
     "output_type": "stream",
     "text": [
      "reference_text - predicted_text: hiện nay mỗi khi chào hàng các lò rang hạt dưa như tứ hưng duy ký thiên hương - hiện nay mỗi khi chào hàng gác lò ra hạt dưa như tứ, như thân, như ký thiên thương.\n",
      "Processing: FPTOpenSpeechData_Set001_V0.1_000068.mp3\n"
     ]
    },
    {
     "name": "stderr",
     "output_type": "stream",
     "text": [
      "/home/ngo/anaconda3/lib/python3.12/site-packages/whisper/transcribe.py:126: UserWarning: FP16 is not supported on CPU; using FP32 instead\n",
      "  warnings.warn(\"FP16 is not supported on CPU; using FP32 instead\")\n"
     ]
    },
    {
     "name": "stdout",
     "output_type": "stream",
     "text": [
      "reference_text - predicted_text: vì không biết nhìn xa trông rộng và vì niềm tin sắt đá rằng rồi mọi việc sẽ êm xuôi - vì không biết nhìn sao trống rộng và vì niềm tin rất là tăng tôi mọi việc sẽ yên xuân\n",
      "Processing: FPTOpenSpeechData_Set001_V0.1_000069.mp3\n"
     ]
    },
    {
     "name": "stderr",
     "output_type": "stream",
     "text": [
      "/home/ngo/anaconda3/lib/python3.12/site-packages/whisper/transcribe.py:126: UserWarning: FP16 is not supported on CPU; using FP32 instead\n",
      "  warnings.warn(\"FP16 is not supported on CPU; using FP32 instead\")\n"
     ]
    },
    {
     "name": "stdout",
     "output_type": "stream",
     "text": [
      "reference_text - predicted_text: nhờ có chúa - như có chúa.\n",
      "Processing: FPTOpenSpeechData_Set001_V0.1_000070.mp3\n"
     ]
    },
    {
     "name": "stderr",
     "output_type": "stream",
     "text": [
      "/home/ngo/anaconda3/lib/python3.12/site-packages/whisper/transcribe.py:126: UserWarning: FP16 is not supported on CPU; using FP32 instead\n",
      "  warnings.warn(\"FP16 is not supported on CPU; using FP32 instead\")\n"
     ]
    },
    {
     "name": "stdout",
     "output_type": "stream",
     "text": [
      "reference_text - predicted_text: xe chú rể lăn xuống vực sau tiệc cưới - 6. năm 751\n",
      "Processing: FPTOpenSpeechData_Set001_V0.1_000071.mp3\n"
     ]
    },
    {
     "name": "stderr",
     "output_type": "stream",
     "text": [
      "/home/ngo/anaconda3/lib/python3.12/site-packages/whisper/transcribe.py:126: UserWarning: FP16 is not supported on CPU; using FP32 instead\n",
      "  warnings.warn(\"FP16 is not supported on CPU; using FP32 instead\")\n"
     ]
    },
    {
     "name": "stdout",
     "output_type": "stream",
     "text": [
      "reference_text - predicted_text: rồi anh đi một chuyến đến khu vực vỉa san hô và thăm viện bảo tàng úc anh có thể tìm hiểu nhiều về nước úc anh cũng có thể có một món quà đẹp tại cảng darling nếu anh muốn mua vài đồ lưu niệm có rất nhiều đồ vật và phụ kiện anh có thể muốn mua - rồi anh đi một chuyến đến khu vực về san hô và thăm huyền vào tàng úc, anh có thể tìm hiểu nhiều về nước úc. anh cũng có thể có một món quà đẹp tại tàng sài lưng nếu anh muốn mua vài đồ lưu niệm. có rất nhiều đồ vật và phù quyền anh có thể muốn mua.\n",
      "Processing: FPTOpenSpeechData_Set001_V0.1_000072.mp3\n"
     ]
    },
    {
     "name": "stderr",
     "output_type": "stream",
     "text": [
      "/home/ngo/anaconda3/lib/python3.12/site-packages/whisper/transcribe.py:126: UserWarning: FP16 is not supported on CPU; using FP32 instead\n",
      "  warnings.warn(\"FP16 is not supported on CPU; using FP32 instead\")\n"
     ]
    },
    {
     "name": "stdout",
     "output_type": "stream",
     "text": [
      "reference_text - predicted_text: đó là chưa kể các thủ đoạn chính trị xã hội khác - đó là chưa kể các thủ đoạn chính trị xã hội khác.\n",
      "Processing: FPTOpenSpeechData_Set001_V0.1_000073.mp3\n"
     ]
    },
    {
     "name": "stderr",
     "output_type": "stream",
     "text": [
      "/home/ngo/anaconda3/lib/python3.12/site-packages/whisper/transcribe.py:126: UserWarning: FP16 is not supported on CPU; using FP32 instead\n",
      "  warnings.warn(\"FP16 is not supported on CPU; using FP32 instead\")\n"
     ]
    },
    {
     "name": "stdout",
     "output_type": "stream",
     "text": [
      "reference_text - predicted_text: tôi có vẽ một chút - tôi có vẻ một chút\n",
      "Processing: FPTOpenSpeechData_Set001_V0.1_000074.mp3\n"
     ]
    },
    {
     "name": "stderr",
     "output_type": "stream",
     "text": [
      "/home/ngo/anaconda3/lib/python3.12/site-packages/whisper/transcribe.py:126: UserWarning: FP16 is not supported on CPU; using FP32 instead\n",
      "  warnings.warn(\"FP16 is not supported on CPU; using FP32 instead\")\n"
     ]
    },
    {
     "name": "stdout",
     "output_type": "stream",
     "text": [
      "reference_text - predicted_text: cho tôi mẫu thử được không - rồi tôi mở thử được không?\n",
      "Processing: FPTOpenSpeechData_Set001_V0.1_000075.mp3\n"
     ]
    },
    {
     "name": "stderr",
     "output_type": "stream",
     "text": [
      "/home/ngo/anaconda3/lib/python3.12/site-packages/whisper/transcribe.py:126: UserWarning: FP16 is not supported on CPU; using FP32 instead\n",
      "  warnings.warn(\"FP16 is not supported on CPU; using FP32 instead\")\n"
     ]
    },
    {
     "name": "stdout",
     "output_type": "stream",
     "text": [
      "reference_text - predicted_text: tôi có ba con gái - tôi có 3 con gái.\n",
      "Processing: FPTOpenSpeechData_Set001_V0.1_000076.mp3\n"
     ]
    },
    {
     "name": "stderr",
     "output_type": "stream",
     "text": [
      "/home/ngo/anaconda3/lib/python3.12/site-packages/whisper/transcribe.py:126: UserWarning: FP16 is not supported on CPU; using FP32 instead\n",
      "  warnings.warn(\"FP16 is not supported on CPU; using FP32 instead\")\n"
     ]
    },
    {
     "name": "stdout",
     "output_type": "stream",
     "text": [
      "reference_text - predicted_text: tôi sẽ ở lại đây - tôi sẽ ở lại đây.\n",
      "Processing: FPTOpenSpeechData_Set001_V0.1_000077.mp3\n"
     ]
    },
    {
     "name": "stderr",
     "output_type": "stream",
     "text": [
      "/home/ngo/anaconda3/lib/python3.12/site-packages/whisper/transcribe.py:126: UserWarning: FP16 is not supported on CPU; using FP32 instead\n",
      "  warnings.warn(\"FP16 is not supported on CPU; using FP32 instead\")\n"
     ]
    },
    {
     "name": "stdout",
     "output_type": "stream",
     "text": [
      "reference_text - predicted_text: người ta cho rằng số khúc gỗ ở dưới đáy bị dính nước bẩn ít thì kỳ kinh sẽ ngắn - người ta cho rằng số hút vùa ở dưới này bị chín nước bằng ít thì kỳ kinh chế nến.\n",
      "Processing: FPTOpenSpeechData_Set001_V0.1_000078.mp3\n"
     ]
    },
    {
     "name": "stderr",
     "output_type": "stream",
     "text": [
      "/home/ngo/anaconda3/lib/python3.12/site-packages/whisper/transcribe.py:126: UserWarning: FP16 is not supported on CPU; using FP32 instead\n",
      "  warnings.warn(\"FP16 is not supported on CPU; using FP32 instead\")\n"
     ]
    },
    {
     "name": "stdout",
     "output_type": "stream",
     "text": [
      "reference_text - predicted_text: không một nơi nào lãng mạn và thơ mộng hơn những khu hồ hoang - không một nơi nào lãng mạn và thơ mộng hơn những khu hồ hoa.\n",
      "Processing: FPTOpenSpeechData_Set001_V0.1_000079.mp3\n"
     ]
    },
    {
     "name": "stderr",
     "output_type": "stream",
     "text": [
      "/home/ngo/anaconda3/lib/python3.12/site-packages/whisper/transcribe.py:126: UserWarning: FP16 is not supported on CPU; using FP32 instead\n",
      "  warnings.warn(\"FP16 is not supported on CPU; using FP32 instead\")\n"
     ]
    },
    {
     "name": "stdout",
     "output_type": "stream",
     "text": [
      "reference_text - predicted_text: bị hại kháng cáo vì cho rằng các cơ quan tố tụng ở huyện hương khê bỏ lọt người sót tội - bị hại khám cáo vì cho rằng các cơ quan phố tục ở thương khê bỏ lọc người sắp tội.\n",
      "Processing: FPTOpenSpeechData_Set001_V0.1_000080.mp3\n"
     ]
    },
    {
     "name": "stderr",
     "output_type": "stream",
     "text": [
      "/home/ngo/anaconda3/lib/python3.12/site-packages/whisper/transcribe.py:126: UserWarning: FP16 is not supported on CPU; using FP32 instead\n",
      "  warnings.warn(\"FP16 is not supported on CPU; using FP32 instead\")\n"
     ]
    },
    {
     "name": "stdout",
     "output_type": "stream",
     "text": [
      "reference_text - predicted_text: cuối cùng họ sẽ phải gõ cửa nhờ ông ấy - cuối cùng họ sẽ phải góp lợi dụng cho nó.\n",
      "Processing: FPTOpenSpeechData_Set001_V0.1_000081.mp3\n"
     ]
    },
    {
     "name": "stderr",
     "output_type": "stream",
     "text": [
      "/home/ngo/anaconda3/lib/python3.12/site-packages/whisper/transcribe.py:126: UserWarning: FP16 is not supported on CPU; using FP32 instead\n",
      "  warnings.warn(\"FP16 is not supported on CPU; using FP32 instead\")\n"
     ]
    },
    {
     "name": "stdout",
     "output_type": "stream",
     "text": [
      "reference_text - predicted_text: cái giá của một anh hùng - cái giá của một anh hùng\n",
      "Processing: FPTOpenSpeechData_Set001_V0.1_000082.mp3\n"
     ]
    },
    {
     "name": "stderr",
     "output_type": "stream",
     "text": [
      "/home/ngo/anaconda3/lib/python3.12/site-packages/whisper/transcribe.py:126: UserWarning: FP16 is not supported on CPU; using FP32 instead\n",
      "  warnings.warn(\"FP16 is not supported on CPU; using FP32 instead\")\n"
     ]
    },
    {
     "name": "stdout",
     "output_type": "stream",
     "text": [
      "reference_text - predicted_text: bản sao tấm séc khoản tiền vợ chồng nguyễn nhận được - mặt sao tân sát quản tiền vợ chồng nguyễn thiện lục\n",
      "Processing: FPTOpenSpeechData_Set001_V0.1_000083.mp3\n"
     ]
    },
    {
     "name": "stderr",
     "output_type": "stream",
     "text": [
      "/home/ngo/anaconda3/lib/python3.12/site-packages/whisper/transcribe.py:126: UserWarning: FP16 is not supported on CPU; using FP32 instead\n",
      "  warnings.warn(\"FP16 is not supported on CPU; using FP32 instead\")\n"
     ]
    },
    {
     "name": "stdout",
     "output_type": "stream",
     "text": [
      "reference_text - predicted_text: nhằm thu hút thêm nhiều nhà đầu tư - nhằm thu hút thêm nhiều nhà đầu tư\n",
      "Processing: FPTOpenSpeechData_Set001_V0.1_000084.mp3\n"
     ]
    },
    {
     "name": "stderr",
     "output_type": "stream",
     "text": [
      "/home/ngo/anaconda3/lib/python3.12/site-packages/whisper/transcribe.py:126: UserWarning: FP16 is not supported on CPU; using FP32 instead\n",
      "  warnings.warn(\"FP16 is not supported on CPU; using FP32 instead\")\n"
     ]
    },
    {
     "name": "stdout",
     "output_type": "stream",
     "text": [
      "reference_text - predicted_text: vui lòng cho ba vé khứ hồi hạng hai - vui lòng cho bảo vệ của uy hằng hàng.\n",
      "Processing: FPTOpenSpeechData_Set001_V0.1_000085.mp3\n"
     ]
    },
    {
     "name": "stderr",
     "output_type": "stream",
     "text": [
      "/home/ngo/anaconda3/lib/python3.12/site-packages/whisper/transcribe.py:126: UserWarning: FP16 is not supported on CPU; using FP32 instead\n",
      "  warnings.warn(\"FP16 is not supported on CPU; using FP32 instead\")\n"
     ]
    },
    {
     "name": "stdout",
     "output_type": "stream",
     "text": [
      "reference_text - predicted_text: anh cần một con tem một đô la ba mươi cent - anh cần một cuốn tiêm, một đô la ba mươi kem.\n",
      "Processing: FPTOpenSpeechData_Set001_V0.1_000086.mp3\n"
     ]
    },
    {
     "name": "stderr",
     "output_type": "stream",
     "text": [
      "/home/ngo/anaconda3/lib/python3.12/site-packages/whisper/transcribe.py:126: UserWarning: FP16 is not supported on CPU; using FP32 instead\n",
      "  warnings.warn(\"FP16 is not supported on CPU; using FP32 instead\")\n"
     ]
    },
    {
     "name": "stdout",
     "output_type": "stream",
     "text": [
      "reference_text - predicted_text: xà lách trộn phó mát mốc xanh và cây óc chó - các đánh trường format mốc xanh và kẹo chó.\n",
      "Processing: FPTOpenSpeechData_Set001_V0.1_000087.mp3\n"
     ]
    },
    {
     "name": "stderr",
     "output_type": "stream",
     "text": [
      "/home/ngo/anaconda3/lib/python3.12/site-packages/whisper/transcribe.py:126: UserWarning: FP16 is not supported on CPU; using FP32 instead\n",
      "  warnings.warn(\"FP16 is not supported on CPU; using FP32 instead\")\n"
     ]
    },
    {
     "name": "stdout",
     "output_type": "stream",
     "text": [
      "reference_text - predicted_text: chúng tôi sẽ bồi thường cho anh - chúng tôi sẽ bôi thường cho anh\n",
      "Processing: FPTOpenSpeechData_Set001_V0.1_000088.mp3\n"
     ]
    },
    {
     "name": "stderr",
     "output_type": "stream",
     "text": [
      "/home/ngo/anaconda3/lib/python3.12/site-packages/whisper/transcribe.py:126: UserWarning: FP16 is not supported on CPU; using FP32 instead\n",
      "  warnings.warn(\"FP16 is not supported on CPU; using FP32 instead\")\n"
     ]
    },
    {
     "name": "stdout",
     "output_type": "stream",
     "text": [
      "reference_text - predicted_text: chỉ xét tuyển hồ sơ không phải thi - kỹ xét điểm hồ sơ không phải thi.\n",
      "Processing: FPTOpenSpeechData_Set001_V0.1_000089.mp3\n"
     ]
    },
    {
     "name": "stderr",
     "output_type": "stream",
     "text": [
      "/home/ngo/anaconda3/lib/python3.12/site-packages/whisper/transcribe.py:126: UserWarning: FP16 is not supported on CPU; using FP32 instead\n",
      "  warnings.warn(\"FP16 is not supported on CPU; using FP32 instead\")\n"
     ]
    },
    {
     "name": "stdout",
     "output_type": "stream",
     "text": [
      "reference_text - predicted_text: gần chín nghìn tỉ đồng xây đường sắt đô thị cát linh hà đông - gần 9.000 tỷ đồng xây đường sát vương hỷ, khép lên hà đông\n",
      "Processing: FPTOpenSpeechData_Set001_V0.1_000090.mp3\n"
     ]
    },
    {
     "name": "stderr",
     "output_type": "stream",
     "text": [
      "/home/ngo/anaconda3/lib/python3.12/site-packages/whisper/transcribe.py:126: UserWarning: FP16 is not supported on CPU; using FP32 instead\n",
      "  warnings.warn(\"FP16 is not supported on CPU; using FP32 instead\")\n"
     ]
    },
    {
     "name": "stdout",
     "output_type": "stream",
     "text": [
      "reference_text - predicted_text: bỏ quần vào trong máy giặt - bỏ quân vào trong bầy nhật.\n",
      "Processing: FPTOpenSpeechData_Set001_V0.1_000091.mp3\n"
     ]
    },
    {
     "name": "stderr",
     "output_type": "stream",
     "text": [
      "/home/ngo/anaconda3/lib/python3.12/site-packages/whisper/transcribe.py:126: UserWarning: FP16 is not supported on CPU; using FP32 instead\n",
      "  warnings.warn(\"FP16 is not supported on CPU; using FP32 instead\")\n"
     ]
    },
    {
     "name": "stdout",
     "output_type": "stream",
     "text": [
      "reference_text - predicted_text: trả lời tôi biết - trả lời tôi biết.\n",
      "Processing: FPTOpenSpeechData_Set001_V0.1_000092.mp3\n"
     ]
    },
    {
     "name": "stderr",
     "output_type": "stream",
     "text": [
      "/home/ngo/anaconda3/lib/python3.12/site-packages/whisper/transcribe.py:126: UserWarning: FP16 is not supported on CPU; using FP32 instead\n",
      "  warnings.warn(\"FP16 is not supported on CPU; using FP32 instead\")\n"
     ]
    },
    {
     "name": "stdout",
     "output_type": "stream",
     "text": [
      "reference_text - predicted_text: đến thời điểm hiện tại ít nhất trong cả nước đã có năm mươi nghìn lao động thất nghiệp - đến thời điểm hiện tại, ít nhất trong cả nước đã có 50.000 lao động thức nghiệp.\n",
      "Processing: FPTOpenSpeechData_Set001_V0.1_000093.mp3\n"
     ]
    },
    {
     "name": "stderr",
     "output_type": "stream",
     "text": [
      "/home/ngo/anaconda3/lib/python3.12/site-packages/whisper/transcribe.py:126: UserWarning: FP16 is not supported on CPU; using FP32 instead\n",
      "  warnings.warn(\"FP16 is not supported on CPU; using FP32 instead\")\n"
     ]
    },
    {
     "name": "stdout",
     "output_type": "stream",
     "text": [
      "reference_text - predicted_text: anh sẵn sàng gọi món chưa - anh sẵn sàng gọi món trưa.\n",
      "Processing: FPTOpenSpeechData_Set001_V0.1_000094.mp3\n"
     ]
    },
    {
     "name": "stderr",
     "output_type": "stream",
     "text": [
      "/home/ngo/anaconda3/lib/python3.12/site-packages/whisper/transcribe.py:126: UserWarning: FP16 is not supported on CPU; using FP32 instead\n",
      "  warnings.warn(\"FP16 is not supported on CPU; using FP32 instead\")\n"
     ]
    },
    {
     "name": "stdout",
     "output_type": "stream",
     "text": [
      "reference_text - predicted_text: là tác động của nó đến hiệu suất chung của toàn bộ hệ thống điện - là tác động của nó đến hiệu suất chung của toàn bộ hệ thống điện.\n",
      "Processing: FPTOpenSpeechData_Set001_V0.1_000095.mp3\n"
     ]
    },
    {
     "name": "stderr",
     "output_type": "stream",
     "text": [
      "/home/ngo/anaconda3/lib/python3.12/site-packages/whisper/transcribe.py:126: UserWarning: FP16 is not supported on CPU; using FP32 instead\n",
      "  warnings.warn(\"FP16 is not supported on CPU; using FP32 instead\")\n"
     ]
    },
    {
     "name": "stdout",
     "output_type": "stream",
     "text": [
      "reference_text - predicted_text: đã bán rồi - nào bạn ơi\n",
      "Processing: FPTOpenSpeechData_Set001_V0.1_000096.mp3\n"
     ]
    },
    {
     "name": "stderr",
     "output_type": "stream",
     "text": [
      "/home/ngo/anaconda3/lib/python3.12/site-packages/whisper/transcribe.py:126: UserWarning: FP16 is not supported on CPU; using FP32 instead\n",
      "  warnings.warn(\"FP16 is not supported on CPU; using FP32 instead\")\n"
     ]
    },
    {
     "name": "stdout",
     "output_type": "stream",
     "text": [
      "reference_text - predicted_text: thời tiết ấm áp như thể là đầu hè - thời trí thơm mát như chết là đầu nhỉ?\n",
      "Processing: FPTOpenSpeechData_Set001_V0.1_000097.mp3\n"
     ]
    },
    {
     "name": "stderr",
     "output_type": "stream",
     "text": [
      "/home/ngo/anaconda3/lib/python3.12/site-packages/whisper/transcribe.py:126: UserWarning: FP16 is not supported on CPU; using FP32 instead\n",
      "  warnings.warn(\"FP16 is not supported on CPU; using FP32 instead\")\n"
     ]
    },
    {
     "name": "stdout",
     "output_type": "stream",
     "text": [
      "reference_text - predicted_text: chúng tôi có bốn người - chúng tôi có 4 người\n",
      "Processing: FPTOpenSpeechData_Set001_V0.1_000098.mp3\n"
     ]
    },
    {
     "name": "stderr",
     "output_type": "stream",
     "text": [
      "/home/ngo/anaconda3/lib/python3.12/site-packages/whisper/transcribe.py:126: UserWarning: FP16 is not supported on CPU; using FP32 instead\n",
      "  warnings.warn(\"FP16 is not supported on CPU; using FP32 instead\")\n"
     ]
    },
    {
     "name": "stdout",
     "output_type": "stream",
     "text": [
      "reference_text - predicted_text: vẻ đẹp khuôn mặt và bản năng tình dục quan hệ tương hỗ chặt chẽ với nhau - về đẹp khuôn mặt và bản năng tình dịp quan hệ, tương hội chặt chẽ với nhau.\n",
      "Processing: FPTOpenSpeechData_Set001_V0.1_000099.mp3\n"
     ]
    },
    {
     "name": "stderr",
     "output_type": "stream",
     "text": [
      "/home/ngo/anaconda3/lib/python3.12/site-packages/whisper/transcribe.py:126: UserWarning: FP16 is not supported on CPU; using FP32 instead\n",
      "  warnings.warn(\"FP16 is not supported on CPU; using FP32 instead\")\n"
     ]
    },
    {
     "name": "stdout",
     "output_type": "stream",
     "text": [
      "reference_text - predicted_text: hầu bàn của quý khách sẽ là alfredo - thông bằng của ý khách trẻ là osero.\n",
      "Processing: FPTOpenSpeechData_Set001_V0.1_000100.mp3\n"
     ]
    },
    {
     "name": "stderr",
     "output_type": "stream",
     "text": [
      "/home/ngo/anaconda3/lib/python3.12/site-packages/whisper/transcribe.py:126: UserWarning: FP16 is not supported on CPU; using FP32 instead\n",
      "  warnings.warn(\"FP16 is not supported on CPU; using FP32 instead\")\n"
     ]
    },
    {
     "name": "stdout",
     "output_type": "stream",
     "text": [
      "reference_text - predicted_text: đầu gối có bị sưng đỏ hoặc cả hai - đầu gối có bị tưng tò hoặc cả hai thân.\n",
      "Processing: FPTOpenSpeechData_Set001_V0.1_000101.mp3\n"
     ]
    },
    {
     "name": "stderr",
     "output_type": "stream",
     "text": [
      "/home/ngo/anaconda3/lib/python3.12/site-packages/whisper/transcribe.py:126: UserWarning: FP16 is not supported on CPU; using FP32 instead\n",
      "  warnings.warn(\"FP16 is not supported on CPU; using FP32 instead\")\n"
     ]
    },
    {
     "name": "stdout",
     "output_type": "stream",
     "text": [
      "reference_text - predicted_text: hút thuốc bị hạn chế trong khu vực công cộng - hãy subscribe cho kênh ghiền mì gõ để không bỏ lỡ những video hấp dẫn\n",
      "Processing: FPTOpenSpeechData_Set001_V0.1_000102.mp3\n"
     ]
    },
    {
     "name": "stderr",
     "output_type": "stream",
     "text": [
      "/home/ngo/anaconda3/lib/python3.12/site-packages/whisper/transcribe.py:126: UserWarning: FP16 is not supported on CPU; using FP32 instead\n",
      "  warnings.warn(\"FP16 is not supported on CPU; using FP32 instead\")\n"
     ]
    },
    {
     "name": "stdout",
     "output_type": "stream",
     "text": [
      "reference_text - predicted_text: chẳng phải là bệnh hiểm nghèo nhưng trĩ vẫn là bệnh gây khó chịu cho bệnh nhân bởi làm cản trở công việc của họ lúc làm việc cũng như lúc ngủ họ vẫn phải lo nghĩ giáo sư nghĩa nói - chẳng phải là bệnh hiện nào, nhưng chị vẫn là bệnh gây khó chịu cho bệnh nhân để làm thảm trở công việc của họ. lúc làm việc cũng như lúc ngủ, họ vẫn phải nghe nghĩ, giáo dương đã nói.\n",
      "Processing: FPTOpenSpeechData_Set001_V0.1_000103.mp3\n"
     ]
    },
    {
     "name": "stderr",
     "output_type": "stream",
     "text": [
      "/home/ngo/anaconda3/lib/python3.12/site-packages/whisper/transcribe.py:126: UserWarning: FP16 is not supported on CPU; using FP32 instead\n",
      "  warnings.warn(\"FP16 is not supported on CPU; using FP32 instead\")\n"
     ]
    },
    {
     "name": "stdout",
     "output_type": "stream",
     "text": [
      "reference_text - predicted_text: chuyển máy cho ai - 黑\n",
      "Processing: FPTOpenSpeechData_Set001_V0.1_000104.mp3\n"
     ]
    },
    {
     "name": "stderr",
     "output_type": "stream",
     "text": [
      "/home/ngo/anaconda3/lib/python3.12/site-packages/whisper/transcribe.py:126: UserWarning: FP16 is not supported on CPU; using FP32 instead\n",
      "  warnings.warn(\"FP16 is not supported on CPU; using FP32 instead\")\n"
     ]
    },
    {
     "name": "stdout",
     "output_type": "stream",
     "text": [
      "reference_text - predicted_text: kết quả lao động của tôi đến đâu thì tác phẩm trả lời - kết quả lao động của tôi đến đâu thì tác phẩm trả lời.\n",
      "Processing: FPTOpenSpeechData_Set001_V0.1_000105.mp3\n"
     ]
    },
    {
     "name": "stderr",
     "output_type": "stream",
     "text": [
      "/home/ngo/anaconda3/lib/python3.12/site-packages/whisper/transcribe.py:126: UserWarning: FP16 is not supported on CPU; using FP32 instead\n",
      "  warnings.warn(\"FP16 is not supported on CPU; using FP32 instead\")\n"
     ]
    },
    {
     "name": "stdout",
     "output_type": "stream",
     "text": [
      "reference_text - predicted_text: khi những chiếc đĩa được dỡ bỏ lũ hà mã cũng chẳng thèm chú ý tới những chiếc nhãn đó nữa - khi những chiếc đĩa được dỡ bỏ, lũ hà mã cũng chẳng thèm chú ý tới những chiếc nhãn đoán nữa.\n",
      "Processing: FPTOpenSpeechData_Set001_V0.1_000106.mp3\n"
     ]
    },
    {
     "name": "stderr",
     "output_type": "stream",
     "text": [
      "/home/ngo/anaconda3/lib/python3.12/site-packages/whisper/transcribe.py:126: UserWarning: FP16 is not supported on CPU; using FP32 instead\n",
      "  warnings.warn(\"FP16 is not supported on CPU; using FP32 instead\")\n"
     ]
    },
    {
     "name": "stdout",
     "output_type": "stream",
     "text": [
      "reference_text - predicted_text: không vậy không sao tôi sẽ gọi ông ấy sau cảm ơn - không, vậy, không sao, tôi sẽ gọi ông ấy sau, cảm ơn.\n",
      "Processing: FPTOpenSpeechData_Set001_V0.1_000107.mp3\n"
     ]
    },
    {
     "name": "stderr",
     "output_type": "stream",
     "text": [
      "/home/ngo/anaconda3/lib/python3.12/site-packages/whisper/transcribe.py:126: UserWarning: FP16 is not supported on CPU; using FP32 instead\n",
      "  warnings.warn(\"FP16 is not supported on CPU; using FP32 instead\")\n"
     ]
    },
    {
     "name": "stdout",
     "output_type": "stream",
     "text": [
      "reference_text - predicted_text: có giảm giá cho người cao niên không - có giảm giá cho người cao niên không?\n",
      "Processing: FPTOpenSpeechData_Set001_V0.1_000108.mp3\n"
     ]
    },
    {
     "name": "stderr",
     "output_type": "stream",
     "text": [
      "/home/ngo/anaconda3/lib/python3.12/site-packages/whisper/transcribe.py:126: UserWarning: FP16 is not supported on CPU; using FP32 instead\n",
      "  warnings.warn(\"FP16 is not supported on CPU; using FP32 instead\")\n"
     ]
    },
    {
     "name": "stdout",
     "output_type": "stream",
     "text": [
      "reference_text - predicted_text: hãy gọi cảnh sát ngay - hãy gọi kiểm soát ngay.\n",
      "Processing: FPTOpenSpeechData_Set001_V0.1_000109.mp3\n"
     ]
    },
    {
     "name": "stderr",
     "output_type": "stream",
     "text": [
      "/home/ngo/anaconda3/lib/python3.12/site-packages/whisper/transcribe.py:126: UserWarning: FP16 is not supported on CPU; using FP32 instead\n",
      "  warnings.warn(\"FP16 is not supported on CPU; using FP32 instead\")\n"
     ]
    },
    {
     "name": "stdout",
     "output_type": "stream",
     "text": [
      "reference_text - predicted_text: bắt đầu đếm - bắt đầu đếm.\n",
      "Processing: FPTOpenSpeechData_Set001_V0.1_000110.mp3\n"
     ]
    },
    {
     "name": "stderr",
     "output_type": "stream",
     "text": [
      "/home/ngo/anaconda3/lib/python3.12/site-packages/whisper/transcribe.py:126: UserWarning: FP16 is not supported on CPU; using FP32 instead\n",
      "  warnings.warn(\"FP16 is not supported on CPU; using FP32 instead\")\n"
     ]
    },
    {
     "name": "stdout",
     "output_type": "stream",
     "text": [
      "reference_text - predicted_text: anh có bị đau do mệt mỏi không - anh có bị đau do mệt ngoài không?\n",
      "Processing: FPTOpenSpeechData_Set001_V0.1_000111.mp3\n"
     ]
    },
    {
     "name": "stderr",
     "output_type": "stream",
     "text": [
      "/home/ngo/anaconda3/lib/python3.12/site-packages/whisper/transcribe.py:126: UserWarning: FP16 is not supported on CPU; using FP32 instead\n",
      "  warnings.warn(\"FP16 is not supported on CPU; using FP32 instead\")\n"
     ]
    },
    {
     "name": "stdout",
     "output_type": "stream",
     "text": [
      "reference_text - predicted_text: lãi suất cho vay cũng đã giảm mạnh theo lãi huy động vốn lãi nhiều vẫn chẳng có người nào gửi cả - lãi sotovai cũng đã giảm mạnh theo lãi huy đậu 4, lãi nhiều vẫn chẳng có người nào gửi cả.\n",
      "Processing: FPTOpenSpeechData_Set001_V0.1_000112.mp3\n"
     ]
    },
    {
     "name": "stderr",
     "output_type": "stream",
     "text": [
      "/home/ngo/anaconda3/lib/python3.12/site-packages/whisper/transcribe.py:126: UserWarning: FP16 is not supported on CPU; using FP32 instead\n",
      "  warnings.warn(\"FP16 is not supported on CPU; using FP32 instead\")\n"
     ]
    },
    {
     "name": "stdout",
     "output_type": "stream",
     "text": [
      "reference_text - predicted_text: các nhà khoa học đang tiến thêm một bước - các nhà khoa học đang chiến thêm một bước.\n",
      "Processing: FPTOpenSpeechData_Set001_V0.1_000113.mp3\n"
     ]
    },
    {
     "name": "stderr",
     "output_type": "stream",
     "text": [
      "/home/ngo/anaconda3/lib/python3.12/site-packages/whisper/transcribe.py:126: UserWarning: FP16 is not supported on CPU; using FP32 instead\n",
      "  warnings.warn(\"FP16 is not supported on CPU; using FP32 instead\")\n"
     ]
    },
    {
     "name": "stdout",
     "output_type": "stream",
     "text": [
      "reference_text - predicted_text: cùng chuẩn và ngũ hai đối tượng khác chuyên làm nhiệm vụ đưa người sang trung quốc là nguyễn vũ hải và võ cảnh dũng cùng trú tại bắc giang cũng bị cảnh sát bắt - cùng chuẩn và ngũ, hai đối tượng khác chuyên làm nhiệm vụ đưa người sang trung quốc là nguyễn vũ hải và võ cảnh dũng cùng chú trại bắc giang xử lý cảnh sát bắt.\n",
      "Processing: FPTOpenSpeechData_Set001_V0.1_000114.mp3\n"
     ]
    },
    {
     "name": "stderr",
     "output_type": "stream",
     "text": [
      "/home/ngo/anaconda3/lib/python3.12/site-packages/whisper/transcribe.py:126: UserWarning: FP16 is not supported on CPU; using FP32 instead\n",
      "  warnings.warn(\"FP16 is not supported on CPU; using FP32 instead\")\n"
     ]
    },
    {
     "name": "stdout",
     "output_type": "stream",
     "text": [
      "reference_text - predicted_text: hệ thống phòng ngự tài năng và giàu kinh nghiệm - hệ thống phong bức bài năng và dòng kinh nghiệm\n",
      "Processing: FPTOpenSpeechData_Set001_V0.1_000115.mp3\n"
     ]
    },
    {
     "name": "stderr",
     "output_type": "stream",
     "text": [
      "/home/ngo/anaconda3/lib/python3.12/site-packages/whisper/transcribe.py:126: UserWarning: FP16 is not supported on CPU; using FP32 instead\n",
      "  warnings.warn(\"FP16 is not supported on CPU; using FP32 instead\")\n"
     ]
    },
    {
     "name": "stdout",
     "output_type": "stream",
     "text": [
      "reference_text - predicted_text: sẽ đủ sức cạnh tranh với nước ngoài - sẽ đủ sức cạnh tranh với nước ngoài.\n",
      "Processing: FPTOpenSpeechData_Set001_V0.1_000116.mp3\n"
     ]
    },
    {
     "name": "stderr",
     "output_type": "stream",
     "text": [
      "/home/ngo/anaconda3/lib/python3.12/site-packages/whisper/transcribe.py:126: UserWarning: FP16 is not supported on CPU; using FP32 instead\n",
      "  warnings.warn(\"FP16 is not supported on CPU; using FP32 instead\")\n"
     ]
    },
    {
     "name": "stdout",
     "output_type": "stream",
     "text": [
      "reference_text - predicted_text: giơ tay lên để đồng ý - giờ ta lên để đồng nghĩ.\n",
      "Processing: FPTOpenSpeechData_Set001_V0.1_000117.mp3\n"
     ]
    },
    {
     "name": "stderr",
     "output_type": "stream",
     "text": [
      "/home/ngo/anaconda3/lib/python3.12/site-packages/whisper/transcribe.py:126: UserWarning: FP16 is not supported on CPU; using FP32 instead\n",
      "  warnings.warn(\"FP16 is not supported on CPU; using FP32 instead\")\n"
     ]
    },
    {
     "name": "stdout",
     "output_type": "stream",
     "text": [
      "reference_text - predicted_text: vui lòng trả mười đô la - vui lòng trả 10 đô la\n",
      "Processing: FPTOpenSpeechData_Set001_V0.1_000118.mp3\n"
     ]
    },
    {
     "name": "stderr",
     "output_type": "stream",
     "text": [
      "/home/ngo/anaconda3/lib/python3.12/site-packages/whisper/transcribe.py:126: UserWarning: FP16 is not supported on CPU; using FP32 instead\n",
      "  warnings.warn(\"FP16 is not supported on CPU; using FP32 instead\")\n"
     ]
    },
    {
     "name": "stdout",
     "output_type": "stream",
     "text": [
      "reference_text - predicted_text: đây là hồi chuông cảnh báo về sự mất an toàn lưới điện trên địa bàn - đây là hồi chu cạch báo về sự mất an toàn lưới địa trên địa bàn.\n",
      "Processing: FPTOpenSpeechData_Set001_V0.1_000119.mp3\n"
     ]
    },
    {
     "name": "stderr",
     "output_type": "stream",
     "text": [
      "/home/ngo/anaconda3/lib/python3.12/site-packages/whisper/transcribe.py:126: UserWarning: FP16 is not supported on CPU; using FP32 instead\n",
      "  warnings.warn(\"FP16 is not supported on CPU; using FP32 instead\")\n"
     ]
    },
    {
     "name": "stdout",
     "output_type": "stream",
     "text": [
      "reference_text - predicted_text: ban đêm bắng cây đa - và anh đêm vắng cây đà.\n",
      "Processing: FPTOpenSpeechData_Set001_V0.1_000120.mp3\n"
     ]
    },
    {
     "name": "stderr",
     "output_type": "stream",
     "text": [
      "/home/ngo/anaconda3/lib/python3.12/site-packages/whisper/transcribe.py:126: UserWarning: FP16 is not supported on CPU; using FP32 instead\n",
      "  warnings.warn(\"FP16 is not supported on CPU; using FP32 instead\")\n"
     ]
    },
    {
     "name": "stdout",
     "output_type": "stream",
     "text": [
      "reference_text - predicted_text: kênh hai ti vi - kim hai tv\n",
      "Processing: FPTOpenSpeechData_Set001_V0.1_000121.mp3\n"
     ]
    },
    {
     "name": "stderr",
     "output_type": "stream",
     "text": [
      "/home/ngo/anaconda3/lib/python3.12/site-packages/whisper/transcribe.py:126: UserWarning: FP16 is not supported on CPU; using FP32 instead\n",
      "  warnings.warn(\"FP16 is not supported on CPU; using FP32 instead\")\n"
     ]
    },
    {
     "name": "stdout",
     "output_type": "stream",
     "text": [
      "reference_text - predicted_text: này chúng tôi sắp nhổ neo - này, chúng tôi sắp vô nheo.\n",
      "Processing: FPTOpenSpeechData_Set001_V0.1_000122.mp3\n"
     ]
    },
    {
     "name": "stderr",
     "output_type": "stream",
     "text": [
      "/home/ngo/anaconda3/lib/python3.12/site-packages/whisper/transcribe.py:126: UserWarning: FP16 is not supported on CPU; using FP32 instead\n",
      "  warnings.warn(\"FP16 is not supported on CPU; using FP32 instead\")\n"
     ]
    },
    {
     "name": "stdout",
     "output_type": "stream",
     "text": [
      "reference_text - predicted_text: mở - mà\n",
      "Processing: FPTOpenSpeechData_Set001_V0.1_000123.mp3\n"
     ]
    },
    {
     "name": "stderr",
     "output_type": "stream",
     "text": [
      "/home/ngo/anaconda3/lib/python3.12/site-packages/whisper/transcribe.py:126: UserWarning: FP16 is not supported on CPU; using FP32 instead\n",
      "  warnings.warn(\"FP16 is not supported on CPU; using FP32 instead\")\n"
     ]
    },
    {
     "name": "stdout",
     "output_type": "stream",
     "text": [
      "reference_text - predicted_text: độc giả của tôi muốn hướng tới là sinh viên và trí thức - đọc giả của tôi muốn hướng tới là sinh viên và chỉ thức\n",
      "Processing: FPTOpenSpeechData_Set001_V0.1_000124.mp3\n"
     ]
    },
    {
     "name": "stderr",
     "output_type": "stream",
     "text": [
      "/home/ngo/anaconda3/lib/python3.12/site-packages/whisper/transcribe.py:126: UserWarning: FP16 is not supported on CPU; using FP32 instead\n",
      "  warnings.warn(\"FP16 is not supported on CPU; using FP32 instead\")\n"
     ]
    },
    {
     "name": "stdout",
     "output_type": "stream",
     "text": [
      "reference_text - predicted_text: không mở cửa ồ ạt - không mở cửa ồ ạt\n",
      "Processing: FPTOpenSpeechData_Set001_V0.1_000125.mp3\n"
     ]
    },
    {
     "name": "stderr",
     "output_type": "stream",
     "text": [
      "/home/ngo/anaconda3/lib/python3.12/site-packages/whisper/transcribe.py:126: UserWarning: FP16 is not supported on CPU; using FP32 instead\n",
      "  warnings.warn(\"FP16 is not supported on CPU; using FP32 instead\")\n"
     ]
    },
    {
     "name": "stdout",
     "output_type": "stream",
     "text": [
      "reference_text - predicted_text: tôi muốn đổi cái này lấy cái màu xanh - tôi muốn từ cái này lấy cái màu xanh.\n",
      "Processing: FPTOpenSpeechData_Set001_V0.1_000126.mp3\n"
     ]
    },
    {
     "name": "stderr",
     "output_type": "stream",
     "text": [
      "/home/ngo/anaconda3/lib/python3.12/site-packages/whisper/transcribe.py:126: UserWarning: FP16 is not supported on CPU; using FP32 instead\n",
      "  warnings.warn(\"FP16 is not supported on CPU; using FP32 instead\")\n"
     ]
    },
    {
     "name": "stdout",
     "output_type": "stream",
     "text": [
      "reference_text - predicted_text: sống với em anh nhé - sống với em anh nhỉ?\n",
      "Processing: FPTOpenSpeechData_Set001_V0.1_000127.mp3\n"
     ]
    },
    {
     "name": "stderr",
     "output_type": "stream",
     "text": [
      "/home/ngo/anaconda3/lib/python3.12/site-packages/whisper/transcribe.py:126: UserWarning: FP16 is not supported on CPU; using FP32 instead\n",
      "  warnings.warn(\"FP16 is not supported on CPU; using FP32 instead\")\n"
     ]
    },
    {
     "name": "stdout",
     "output_type": "stream",
     "text": [
      "reference_text - predicted_text: vừa gọi điện vừa đi lại rất gây hại cho sức khỏe - vừa gọi điện vừa đi lại hết gây hại cho sức khỏe\n",
      "Processing: FPTOpenSpeechData_Set001_V0.1_000128.mp3\n"
     ]
    },
    {
     "name": "stderr",
     "output_type": "stream",
     "text": [
      "/home/ngo/anaconda3/lib/python3.12/site-packages/whisper/transcribe.py:126: UserWarning: FP16 is not supported on CPU; using FP32 instead\n",
      "  warnings.warn(\"FP16 is not supported on CPU; using FP32 instead\")\n"
     ]
    },
    {
     "name": "stdout",
     "output_type": "stream",
     "text": [
      "reference_text - predicted_text: tôi có thể tìm bảng tin ở đâu - tôi có thể tìm bà kinh ở đâu?\n",
      "Processing: FPTOpenSpeechData_Set001_V0.1_000129.mp3\n"
     ]
    },
    {
     "name": "stderr",
     "output_type": "stream",
     "text": [
      "/home/ngo/anaconda3/lib/python3.12/site-packages/whisper/transcribe.py:126: UserWarning: FP16 is not supported on CPU; using FP32 instead\n",
      "  warnings.warn(\"FP16 is not supported on CPU; using FP32 instead\")\n"
     ]
    },
    {
     "name": "stdout",
     "output_type": "stream",
     "text": [
      "reference_text - predicted_text: anh chuẩn bị toa này cho tôi được không - anh chuẩn bị toa ngày cho tôi được không?\n",
      "Processing: FPTOpenSpeechData_Set001_V0.1_000130.mp3\n"
     ]
    },
    {
     "name": "stderr",
     "output_type": "stream",
     "text": [
      "/home/ngo/anaconda3/lib/python3.12/site-packages/whisper/transcribe.py:126: UserWarning: FP16 is not supported on CPU; using FP32 instead\n",
      "  warnings.warn(\"FP16 is not supported on CPU; using FP32 instead\")\n"
     ]
    },
    {
     "name": "stdout",
     "output_type": "stream",
     "text": [
      "reference_text - predicted_text: đây là địa chỉ của anh - đây là địa chỉ của anh.\n",
      "Processing: FPTOpenSpeechData_Set001_V0.1_000131.mp3\n"
     ]
    },
    {
     "name": "stderr",
     "output_type": "stream",
     "text": [
      "/home/ngo/anaconda3/lib/python3.12/site-packages/whisper/transcribe.py:126: UserWarning: FP16 is not supported on CPU; using FP32 instead\n",
      "  warnings.warn(\"FP16 is not supported on CPU; using FP32 instead\")\n"
     ]
    },
    {
     "name": "stdout",
     "output_type": "stream",
     "text": [
      "reference_text - predicted_text: anh lắng nghe tôi một phút được không - anh lắng nghe tôi một phút được không?\n",
      "Processing: FPTOpenSpeechData_Set001_V0.1_000132.mp3\n"
     ]
    },
    {
     "name": "stderr",
     "output_type": "stream",
     "text": [
      "/home/ngo/anaconda3/lib/python3.12/site-packages/whisper/transcribe.py:126: UserWarning: FP16 is not supported on CPU; using FP32 instead\n",
      "  warnings.warn(\"FP16 is not supported on CPU; using FP32 instead\")\n"
     ]
    },
    {
     "name": "stdout",
     "output_type": "stream",
     "text": [
      "reference_text - predicted_text: lạm phát tăng là do dự báo yếu kém - đã tăng ở do dụng đo dụng điều kiện.\n",
      "Processing: FPTOpenSpeechData_Set001_V0.1_000133.mp3\n"
     ]
    },
    {
     "name": "stderr",
     "output_type": "stream",
     "text": [
      "/home/ngo/anaconda3/lib/python3.12/site-packages/whisper/transcribe.py:126: UserWarning: FP16 is not supported on CPU; using FP32 instead\n",
      "  warnings.warn(\"FP16 is not supported on CPU; using FP32 instead\")\n"
     ]
    },
    {
     "name": "stdout",
     "output_type": "stream",
     "text": [
      "reference_text - predicted_text: thịt gà nhồi hỗn hợp băm nhỏ - hịt dài, nhồi hồn hợp bắp nhỏ\n",
      "Processing: FPTOpenSpeechData_Set001_V0.1_000134.mp3\n"
     ]
    },
    {
     "name": "stderr",
     "output_type": "stream",
     "text": [
      "/home/ngo/anaconda3/lib/python3.12/site-packages/whisper/transcribe.py:126: UserWarning: FP16 is not supported on CPU; using FP32 instead\n",
      "  warnings.warn(\"FP16 is not supported on CPU; using FP32 instead\")\n"
     ]
    },
    {
     "name": "stdout",
     "output_type": "stream",
     "text": [
      "reference_text - predicted_text: trung tá nguyễn phả lại cán bộ quản giáo trực tiếp buồng số bảy chỗ ở của ông mẫu ông dũng nói kín kẽ cũng là tâm lý của người cải tạo loại án như trường hợp ông dũng - trung tá nguyễn phản lại, cán bộ quản giáo trực tiếp buôn số 7, chỗ ở của ông mẫu, ông dũng nói, những kẻ cũng là tâm lý của người cải tạo, loại án như trường hợp ông dũng.\n",
      "Processing: FPTOpenSpeechData_Set001_V0.1_000135.mp3\n"
     ]
    },
    {
     "name": "stderr",
     "output_type": "stream",
     "text": [
      "/home/ngo/anaconda3/lib/python3.12/site-packages/whisper/transcribe.py:126: UserWarning: FP16 is not supported on CPU; using FP32 instead\n",
      "  warnings.warn(\"FP16 is not supported on CPU; using FP32 instead\")\n"
     ]
    },
    {
     "name": "stdout",
     "output_type": "stream",
     "text": [
      "reference_text - predicted_text: kí túc vắng tanh đèn thoát hiểm nhấp nháy chập chờn cứ như trên phim được xem ý - kỳ túc xà vắng tanh, đen thả thiện từ nhấp nhảy chật chơn, cười như trên phim được xem y.\n",
      "Processing: FPTOpenSpeechData_Set001_V0.1_000136.mp3\n"
     ]
    },
    {
     "name": "stderr",
     "output_type": "stream",
     "text": [
      "/home/ngo/anaconda3/lib/python3.12/site-packages/whisper/transcribe.py:126: UserWarning: FP16 is not supported on CPU; using FP32 instead\n",
      "  warnings.warn(\"FP16 is not supported on CPU; using FP32 instead\")\n"
     ]
    },
    {
     "name": "stdout",
     "output_type": "stream",
     "text": [
      "reference_text - predicted_text: mở - mà...\n",
      "Processing: FPTOpenSpeechData_Set001_V0.1_000137.mp3\n"
     ]
    },
    {
     "name": "stderr",
     "output_type": "stream",
     "text": [
      "/home/ngo/anaconda3/lib/python3.12/site-packages/whisper/transcribe.py:126: UserWarning: FP16 is not supported on CPU; using FP32 instead\n",
      "  warnings.warn(\"FP16 is not supported on CPU; using FP32 instead\")\n"
     ]
    },
    {
     "name": "stdout",
     "output_type": "stream",
     "text": [
      "reference_text - predicted_text: tốt nhất anh không nên làm nó - cổ thấp anh không nên làm nó.\n",
      "Processing: FPTOpenSpeechData_Set001_V0.1_000138.mp3\n"
     ]
    },
    {
     "name": "stderr",
     "output_type": "stream",
     "text": [
      "/home/ngo/anaconda3/lib/python3.12/site-packages/whisper/transcribe.py:126: UserWarning: FP16 is not supported on CPU; using FP32 instead\n",
      "  warnings.warn(\"FP16 is not supported on CPU; using FP32 instead\")\n"
     ]
    },
    {
     "name": "stdout",
     "output_type": "stream",
     "text": [
      "reference_text - predicted_text: tôi có thể mua vé ở đâu - tôi có thể mua mẹ ở đâu?\n",
      "Processing: FPTOpenSpeechData_Set001_V0.1_000139.mp3\n"
     ]
    },
    {
     "name": "stderr",
     "output_type": "stream",
     "text": [
      "/home/ngo/anaconda3/lib/python3.12/site-packages/whisper/transcribe.py:126: UserWarning: FP16 is not supported on CPU; using FP32 instead\n",
      "  warnings.warn(\"FP16 is not supported on CPU; using FP32 instead\")\n"
     ]
    },
    {
     "name": "stdout",
     "output_type": "stream",
     "text": [
      "reference_text - predicted_text: vậy điều gì ủng hộ ý tưởng táo bạo trên - vậy điều gì là một ý tưởng khó bạo chứ?\n",
      "Processing: FPTOpenSpeechData_Set001_V0.1_000140.mp3\n"
     ]
    },
    {
     "name": "stderr",
     "output_type": "stream",
     "text": [
      "/home/ngo/anaconda3/lib/python3.12/site-packages/whisper/transcribe.py:126: UserWarning: FP16 is not supported on CPU; using FP32 instead\n",
      "  warnings.warn(\"FP16 is not supported on CPU; using FP32 instead\")\n"
     ]
    },
    {
     "name": "stdout",
     "output_type": "stream",
     "text": [
      "reference_text - predicted_text: họ sẽ chơi nhiều ca khúc từ bộ phim âm thanh của âm nhạc - họ sẽ chơi nhiều ca khúc từ bộ phim âm thanh của âm nhạc.\n",
      "Processing: FPTOpenSpeechData_Set001_V0.1_000141.mp3\n"
     ]
    },
    {
     "name": "stderr",
     "output_type": "stream",
     "text": [
      "/home/ngo/anaconda3/lib/python3.12/site-packages/whisper/transcribe.py:126: UserWarning: FP16 is not supported on CPU; using FP32 instead\n",
      "  warnings.warn(\"FP16 is not supported on CPU; using FP32 instead\")\n"
     ]
    },
    {
     "name": "stdout",
     "output_type": "stream",
     "text": [
      "reference_text - predicted_text: mã vùng của plymouth là không một bảy năm hai - mà vùng của flymouth là 01752\n",
      "Processing: FPTOpenSpeechData_Set001_V0.1_000142.mp3\n"
     ]
    },
    {
     "name": "stderr",
     "output_type": "stream",
     "text": [
      "/home/ngo/anaconda3/lib/python3.12/site-packages/whisper/transcribe.py:126: UserWarning: FP16 is not supported on CPU; using FP32 instead\n",
      "  warnings.warn(\"FP16 is not supported on CPU; using FP32 instead\")\n"
     ]
    },
    {
     "name": "stdout",
     "output_type": "stream",
     "text": [
      "reference_text - predicted_text: không tôi luôn tỉ mỉ - không, tôi luôn tin anh.\n",
      "Processing: FPTOpenSpeechData_Set001_V0.1_000143.mp3\n"
     ]
    },
    {
     "name": "stderr",
     "output_type": "stream",
     "text": [
      "/home/ngo/anaconda3/lib/python3.12/site-packages/whisper/transcribe.py:126: UserWarning: FP16 is not supported on CPU; using FP32 instead\n",
      "  warnings.warn(\"FP16 is not supported on CPU; using FP32 instead\")\n"
     ]
    },
    {
     "name": "stdout",
     "output_type": "stream",
     "text": [
      "reference_text - predicted_text: một số trò chơi đòi hỏi các động tác chậm thận trọng hãy từ từ - một số trò chơi đòi hỏi các động tác chậm, thận trọng hay tư tư.\n",
      "Processing: FPTOpenSpeechData_Set001_V0.1_000144.mp3\n"
     ]
    },
    {
     "name": "stderr",
     "output_type": "stream",
     "text": [
      "/home/ngo/anaconda3/lib/python3.12/site-packages/whisper/transcribe.py:126: UserWarning: FP16 is not supported on CPU; using FP32 instead\n",
      "  warnings.warn(\"FP16 is not supported on CPU; using FP32 instead\")\n"
     ]
    },
    {
     "name": "stdout",
     "output_type": "stream",
     "text": [
      "reference_text - predicted_text: có nên ưu tiên cho các hoạt động bí mật - cảm ơn các bạn đã theo dõi và hẹn gặp lại.\n",
      "Processing: FPTOpenSpeechData_Set001_V0.1_000145.mp3\n"
     ]
    },
    {
     "name": "stderr",
     "output_type": "stream",
     "text": [
      "/home/ngo/anaconda3/lib/python3.12/site-packages/whisper/transcribe.py:126: UserWarning: FP16 is not supported on CPU; using FP32 instead\n",
      "  warnings.warn(\"FP16 is not supported on CPU; using FP32 instead\")\n"
     ]
    },
    {
     "name": "stdout",
     "output_type": "stream",
     "text": [
      "reference_text - predicted_text: nó là của anh - nó là của anh\n",
      "Processing: FPTOpenSpeechData_Set001_V0.1_000146.mp3\n"
     ]
    },
    {
     "name": "stderr",
     "output_type": "stream",
     "text": [
      "/home/ngo/anaconda3/lib/python3.12/site-packages/whisper/transcribe.py:126: UserWarning: FP16 is not supported on CPU; using FP32 instead\n",
      "  warnings.warn(\"FP16 is not supported on CPU; using FP32 instead\")\n"
     ]
    },
    {
     "name": "stdout",
     "output_type": "stream",
     "text": [
      "reference_text - predicted_text: -n lỗ mũi hẹp -n có tài kiếm tiền - cảm ơn các bạn đã theo dõi và hẹn gặp lại.\n",
      "Processing: FPTOpenSpeechData_Set001_V0.1_000147.mp3\n"
     ]
    },
    {
     "name": "stderr",
     "output_type": "stream",
     "text": [
      "/home/ngo/anaconda3/lib/python3.12/site-packages/whisper/transcribe.py:126: UserWarning: FP16 is not supported on CPU; using FP32 instead\n",
      "  warnings.warn(\"FP16 is not supported on CPU; using FP32 instead\")\n"
     ]
    },
    {
     "name": "stdout",
     "output_type": "stream",
     "text": [
      "reference_text - predicted_text: đây là ghi chép cho phí nào - đây là ghi chép cho phí nào.\n",
      "Processing: FPTOpenSpeechData_Set001_V0.1_000148.mp3\n"
     ]
    },
    {
     "name": "stderr",
     "output_type": "stream",
     "text": [
      "/home/ngo/anaconda3/lib/python3.12/site-packages/whisper/transcribe.py:126: UserWarning: FP16 is not supported on CPU; using FP32 instead\n",
      "  warnings.warn(\"FP16 is not supported on CPU; using FP32 instead\")\n"
     ]
    },
    {
     "name": "stdout",
     "output_type": "stream",
     "text": [
      "reference_text - predicted_text: tôi bị các triệu chứng viêm phổi - tôi bị cạp theo trực tiếp thôi.\n",
      "Processing: FPTOpenSpeechData_Set001_V0.1_000149.mp3\n"
     ]
    },
    {
     "name": "stderr",
     "output_type": "stream",
     "text": [
      "/home/ngo/anaconda3/lib/python3.12/site-packages/whisper/transcribe.py:126: UserWarning: FP16 is not supported on CPU; using FP32 instead\n",
      "  warnings.warn(\"FP16 is not supported on CPU; using FP32 instead\")\n"
     ]
    },
    {
     "name": "stdout",
     "output_type": "stream",
     "text": [
      "reference_text - predicted_text: còn bao nhiều giờ thì chúng ta sẽ đến new york - còn 30 giờ thì chúng ta sẽ đến new york.\n",
      "Processing: FPTOpenSpeechData_Set001_V0.1_000150.mp3\n"
     ]
    },
    {
     "name": "stderr",
     "output_type": "stream",
     "text": [
      "/home/ngo/anaconda3/lib/python3.12/site-packages/whisper/transcribe.py:126: UserWarning: FP16 is not supported on CPU; using FP32 instead\n",
      "  warnings.warn(\"FP16 is not supported on CPU; using FP32 instead\")\n"
     ]
    },
    {
     "name": "stdout",
     "output_type": "stream",
     "text": [
      "reference_text - predicted_text: thị trường chính thức kém sôi động nên thị trường phi tập trung cũng ê ẩm - thị trường chính thức kém sơ động nên thị trường phi tập trung cũng nghe lầm.\n",
      "Processing: FPTOpenSpeechData_Set001_V0.1_000151.mp3\n"
     ]
    },
    {
     "name": "stderr",
     "output_type": "stream",
     "text": [
      "/home/ngo/anaconda3/lib/python3.12/site-packages/whisper/transcribe.py:126: UserWarning: FP16 is not supported on CPU; using FP32 instead\n",
      "  warnings.warn(\"FP16 is not supported on CPU; using FP32 instead\")\n"
     ]
    },
    {
     "name": "stdout",
     "output_type": "stream",
     "text": [
      "reference_text - predicted_text: chúng tôi đã thuê căn hộ - chúng tôi đã thuê căn hộ.\n",
      "Processing: FPTOpenSpeechData_Set001_V0.1_000152.mp3\n"
     ]
    },
    {
     "name": "stderr",
     "output_type": "stream",
     "text": [
      "/home/ngo/anaconda3/lib/python3.12/site-packages/whisper/transcribe.py:126: UserWarning: FP16 is not supported on CPU; using FP32 instead\n",
      "  warnings.warn(\"FP16 is not supported on CPU; using FP32 instead\")\n"
     ]
    },
    {
     "name": "stdout",
     "output_type": "stream",
     "text": [
      "reference_text - predicted_text: mở lên - mở lên!\n",
      "Processing: FPTOpenSpeechData_Set001_V0.1_000153.mp3\n"
     ]
    },
    {
     "name": "stderr",
     "output_type": "stream",
     "text": [
      "/home/ngo/anaconda3/lib/python3.12/site-packages/whisper/transcribe.py:126: UserWarning: FP16 is not supported on CPU; using FP32 instead\n",
      "  warnings.warn(\"FP16 is not supported on CPU; using FP32 instead\")\n"
     ]
    },
    {
     "name": "stdout",
     "output_type": "stream",
     "text": [
      "reference_text - predicted_text: cuộc tình đó tồn tại cho tới ngày cô ta -n khối tài sản mà ông giao phó rồi biến mất tăm - cuộc tình đó tồn tại cho tới ngày cô ta trụm còn khối tài sản mà ông ra phó rồi biến mất tâm\n",
      "Processing: FPTOpenSpeechData_Set001_V0.1_000154.mp3\n"
     ]
    },
    {
     "name": "stderr",
     "output_type": "stream",
     "text": [
      "/home/ngo/anaconda3/lib/python3.12/site-packages/whisper/transcribe.py:126: UserWarning: FP16 is not supported on CPU; using FP32 instead\n",
      "  warnings.warn(\"FP16 is not supported on CPU; using FP32 instead\")\n"
     ]
    },
    {
     "name": "stdout",
     "output_type": "stream",
     "text": [
      "reference_text - predicted_text: xin vui lòng hãy sẵn sàng vào lúc chín giờ rưỡi - xin vui lòng hãy sẵn sàng vào lúc 9 giờ rưỡi.\n",
      "Processing: FPTOpenSpeechData_Set001_V0.1_000155.mp3\n"
     ]
    },
    {
     "name": "stderr",
     "output_type": "stream",
     "text": [
      "/home/ngo/anaconda3/lib/python3.12/site-packages/whisper/transcribe.py:126: UserWarning: FP16 is not supported on CPU; using FP32 instead\n",
      "  warnings.warn(\"FP16 is not supported on CPU; using FP32 instead\")\n"
     ]
    },
    {
     "name": "stdout",
     "output_type": "stream",
     "text": [
      "reference_text - predicted_text: tôi không nghĩ như vậy - tôi không nghĩ như vậy.\n",
      "Processing: FPTOpenSpeechData_Set001_V0.1_000156.mp3\n"
     ]
    },
    {
     "name": "stderr",
     "output_type": "stream",
     "text": [
      "/home/ngo/anaconda3/lib/python3.12/site-packages/whisper/transcribe.py:126: UserWarning: FP16 is not supported on CPU; using FP32 instead\n",
      "  warnings.warn(\"FP16 is not supported on CPU; using FP32 instead\")\n"
     ]
    },
    {
     "name": "stdout",
     "output_type": "stream",
     "text": [
      "reference_text - predicted_text: cách dễ nhất là tìm người khác để yêu - cách dễ nhất là tìm người khác để yêu\n",
      "Processing: FPTOpenSpeechData_Set001_V0.1_000157.mp3\n"
     ]
    },
    {
     "name": "stderr",
     "output_type": "stream",
     "text": [
      "/home/ngo/anaconda3/lib/python3.12/site-packages/whisper/transcribe.py:126: UserWarning: FP16 is not supported on CPU; using FP32 instead\n",
      "  warnings.warn(\"FP16 is not supported on CPU; using FP32 instead\")\n"
     ]
    },
    {
     "name": "stdout",
     "output_type": "stream",
     "text": [
      "reference_text - predicted_text: hãy tận dụng những gì có sẵn từ thiên nhiên để làm đẹp làn da - hãy tận dụng những gì có sẵn từ thiên nhiên để làm đẹp làn da\n",
      "Processing: FPTOpenSpeechData_Set001_V0.1_000158.mp3\n"
     ]
    },
    {
     "name": "stderr",
     "output_type": "stream",
     "text": [
      "/home/ngo/anaconda3/lib/python3.12/site-packages/whisper/transcribe.py:126: UserWarning: FP16 is not supported on CPU; using FP32 instead\n",
      "  warnings.warn(\"FP16 is not supported on CPU; using FP32 instead\")\n"
     ]
    },
    {
     "name": "stdout",
     "output_type": "stream",
     "text": [
      "reference_text - predicted_text: cô lấy cho tôi cái khăn nào - cô lấy cho tôi cái khăn nào?\n",
      "Processing: FPTOpenSpeechData_Set001_V0.1_000159.mp3\n"
     ]
    },
    {
     "name": "stderr",
     "output_type": "stream",
     "text": [
      "/home/ngo/anaconda3/lib/python3.12/site-packages/whisper/transcribe.py:126: UserWarning: FP16 is not supported on CPU; using FP32 instead\n",
      "  warnings.warn(\"FP16 is not supported on CPU; using FP32 instead\")\n"
     ]
    },
    {
     "name": "stdout",
     "output_type": "stream",
     "text": [
      "reference_text - predicted_text: lối đánh tấn công quen thuộc của chị biến mất thay vào đó là những đường bóng yếu ớt - đồ đánh tấn công quan trọng của chị biến mất thay vào đó là những đường bóng yếu ớt\n",
      "Processing: FPTOpenSpeechData_Set001_V0.1_000160.mp3\n"
     ]
    },
    {
     "name": "stderr",
     "output_type": "stream",
     "text": [
      "/home/ngo/anaconda3/lib/python3.12/site-packages/whisper/transcribe.py:126: UserWarning: FP16 is not supported on CPU; using FP32 instead\n",
      "  warnings.warn(\"FP16 is not supported on CPU; using FP32 instead\")\n"
     ]
    },
    {
     "name": "stdout",
     "output_type": "stream",
     "text": [
      "reference_text - predicted_text: tôi có thể có bản đồ đường đi của đảo maui không - tôi có thể có bản đồ đường đi của tạo maui không?\n",
      "Processing: FPTOpenSpeechData_Set001_V0.1_000161.mp3\n"
     ]
    },
    {
     "name": "stderr",
     "output_type": "stream",
     "text": [
      "/home/ngo/anaconda3/lib/python3.12/site-packages/whisper/transcribe.py:126: UserWarning: FP16 is not supported on CPU; using FP32 instead\n",
      "  warnings.warn(\"FP16 is not supported on CPU; using FP32 instead\")\n"
     ]
    },
    {
     "name": "stdout",
     "output_type": "stream",
     "text": [
      "reference_text - predicted_text: tôi bị suyễn - hậu bị xuyên.\n",
      "Processing: FPTOpenSpeechData_Set001_V0.1_000162.mp3\n"
     ]
    },
    {
     "name": "stderr",
     "output_type": "stream",
     "text": [
      "/home/ngo/anaconda3/lib/python3.12/site-packages/whisper/transcribe.py:126: UserWarning: FP16 is not supported on CPU; using FP32 instead\n",
      "  warnings.warn(\"FP16 is not supported on CPU; using FP32 instead\")\n"
     ]
    },
    {
     "name": "stdout",
     "output_type": "stream",
     "text": [
      "reference_text - predicted_text: thành ra càng cổ phần hóa ồ ạt càng bán giá nội bộ ồ ạt trừ phi có sẵn một cơ chế kiểm soát - thành ra các cổ phân hóa ô ạt cam bắn giá nổi bộ ô ạt tương trí có sẵn một cơ sở kiểm soát\n",
      "Processing: FPTOpenSpeechData_Set001_V0.1_000163.mp3\n"
     ]
    },
    {
     "name": "stderr",
     "output_type": "stream",
     "text": [
      "/home/ngo/anaconda3/lib/python3.12/site-packages/whisper/transcribe.py:126: UserWarning: FP16 is not supported on CPU; using FP32 instead\n",
      "  warnings.warn(\"FP16 is not supported on CPU; using FP32 instead\")\n"
     ]
    },
    {
     "name": "stdout",
     "output_type": "stream",
     "text": [
      "reference_text - predicted_text: nền tài chính nhật bản phụ thuộc khá lớn vào các chính sách tiền tệ của mỹ - nền tài chính nhật bản phụ thuộc khá lớn vào các chính sách tuyên tạo của mỹ\n",
      "Processing: FPTOpenSpeechData_Set001_V0.1_000164.mp3\n"
     ]
    },
    {
     "name": "stderr",
     "output_type": "stream",
     "text": [
      "/home/ngo/anaconda3/lib/python3.12/site-packages/whisper/transcribe.py:126: UserWarning: FP16 is not supported on CPU; using FP32 instead\n",
      "  warnings.warn(\"FP16 is not supported on CPU; using FP32 instead\")\n"
     ]
    },
    {
     "name": "stdout",
     "output_type": "stream",
     "text": [
      "reference_text - predicted_text: anh cất hành lý này cho tôi được không - anh có thêm gì ra cho tôi được không?\n",
      "Processing: FPTOpenSpeechData_Set001_V0.1_000165.mp3\n"
     ]
    },
    {
     "name": "stderr",
     "output_type": "stream",
     "text": [
      "/home/ngo/anaconda3/lib/python3.12/site-packages/whisper/transcribe.py:126: UserWarning: FP16 is not supported on CPU; using FP32 instead\n",
      "  warnings.warn(\"FP16 is not supported on CPU; using FP32 instead\")\n"
     ]
    },
    {
     "name": "stdout",
     "output_type": "stream",
     "text": [
      "reference_text - predicted_text: obon nghĩa là gì - ô con nghĩ là gì?\n",
      "Processing: FPTOpenSpeechData_Set001_V0.1_000166.mp3\n"
     ]
    },
    {
     "name": "stderr",
     "output_type": "stream",
     "text": [
      "/home/ngo/anaconda3/lib/python3.12/site-packages/whisper/transcribe.py:126: UserWarning: FP16 is not supported on CPU; using FP32 instead\n",
      "  warnings.warn(\"FP16 is not supported on CPU; using FP32 instead\")\n"
     ]
    },
    {
     "name": "stdout",
     "output_type": "stream",
     "text": [
      "reference_text - predicted_text: tăng nhiệt độ lên hai mươi chín độ - tăng nhiệt độ lên 29 độ.\n",
      "Processing: FPTOpenSpeechData_Set001_V0.1_000167.mp3\n"
     ]
    },
    {
     "name": "stderr",
     "output_type": "stream",
     "text": [
      "/home/ngo/anaconda3/lib/python3.12/site-packages/whisper/transcribe.py:126: UserWarning: FP16 is not supported on CPU; using FP32 instead\n",
      "  warnings.warn(\"FP16 is not supported on CPU; using FP32 instead\")\n"
     ]
    },
    {
     "name": "stdout",
     "output_type": "stream",
     "text": [
      "reference_text - predicted_text: kênh sáu - cần sao?\n",
      "Processing: FPTOpenSpeechData_Set001_V0.1_000168.mp3\n"
     ]
    },
    {
     "name": "stderr",
     "output_type": "stream",
     "text": [
      "/home/ngo/anaconda3/lib/python3.12/site-packages/whisper/transcribe.py:126: UserWarning: FP16 is not supported on CPU; using FP32 instead\n",
      "  warnings.warn(\"FP16 is not supported on CPU; using FP32 instead\")\n"
     ]
    },
    {
     "name": "stdout",
     "output_type": "stream",
     "text": [
      "reference_text - predicted_text: phờ phạc sau hành trình dài - hậu pháp của dân dài\n",
      "Processing: FPTOpenSpeechData_Set001_V0.1_000169.mp3\n"
     ]
    },
    {
     "name": "stderr",
     "output_type": "stream",
     "text": [
      "/home/ngo/anaconda3/lib/python3.12/site-packages/whisper/transcribe.py:126: UserWarning: FP16 is not supported on CPU; using FP32 instead\n",
      "  warnings.warn(\"FP16 is not supported on CPU; using FP32 instead\")\n"
     ]
    },
    {
     "name": "stdout",
     "output_type": "stream",
     "text": [
      "reference_text - predicted_text: mười hai giờ mười lăm rồi - 12h15 rồi\n",
      "Processing: FPTOpenSpeechData_Set001_V0.1_000170.mp3\n"
     ]
    },
    {
     "name": "stderr",
     "output_type": "stream",
     "text": [
      "/home/ngo/anaconda3/lib/python3.12/site-packages/whisper/transcribe.py:126: UserWarning: FP16 is not supported on CPU; using FP32 instead\n",
      "  warnings.warn(\"FP16 is not supported on CPU; using FP32 instead\")\n"
     ]
    },
    {
     "name": "stdout",
     "output_type": "stream",
     "text": [
      "reference_text - predicted_text: tiêu cực ương ngạnh - tiếp tục tương ảnh.\n",
      "Processing: FPTOpenSpeechData_Set001_V0.1_000171.mp3\n"
     ]
    },
    {
     "name": "stderr",
     "output_type": "stream",
     "text": [
      "/home/ngo/anaconda3/lib/python3.12/site-packages/whisper/transcribe.py:126: UserWarning: FP16 is not supported on CPU; using FP32 instead\n",
      "  warnings.warn(\"FP16 is not supported on CPU; using FP32 instead\")\n"
     ]
    },
    {
     "name": "stdout",
     "output_type": "stream",
     "text": [
      "reference_text - predicted_text: tuy nhiên hôm qua ông đã phá lệ - tuy nhiên, không vang đạp cả lệ.\n",
      "Processing: FPTOpenSpeechData_Set001_V0.1_000172.mp3\n"
     ]
    },
    {
     "name": "stderr",
     "output_type": "stream",
     "text": [
      "/home/ngo/anaconda3/lib/python3.12/site-packages/whisper/transcribe.py:126: UserWarning: FP16 is not supported on CPU; using FP32 instead\n",
      "  warnings.warn(\"FP16 is not supported on CPU; using FP32 instead\")\n"
     ]
    },
    {
     "name": "stdout",
     "output_type": "stream",
     "text": [
      "reference_text - predicted_text: phát triển - phạm thiên\n",
      "Processing: FPTOpenSpeechData_Set001_V0.1_000173.mp3\n"
     ]
    },
    {
     "name": "stderr",
     "output_type": "stream",
     "text": [
      "/home/ngo/anaconda3/lib/python3.12/site-packages/whisper/transcribe.py:126: UserWarning: FP16 is not supported on CPU; using FP32 instead\n",
      "  warnings.warn(\"FP16 is not supported on CPU; using FP32 instead\")\n"
     ]
    },
    {
     "name": "stdout",
     "output_type": "stream",
     "text": [
      "reference_text - predicted_text: cái xác cứ thế khô dần cho đến hôm nay - cải sát như thế khô giật cho đến hôm nay\n",
      "Processing: FPTOpenSpeechData_Set001_V0.1_000174.mp3\n"
     ]
    },
    {
     "name": "stderr",
     "output_type": "stream",
     "text": [
      "/home/ngo/anaconda3/lib/python3.12/site-packages/whisper/transcribe.py:126: UserWarning: FP16 is not supported on CPU; using FP32 instead\n",
      "  warnings.warn(\"FP16 is not supported on CPU; using FP32 instead\")\n"
     ]
    },
    {
     "name": "stdout",
     "output_type": "stream",
     "text": [
      "reference_text - predicted_text: ti vi vtv hai - hãy subscribe cho kênh ghiền mì gõ để không bỏ lỡ những video hấp dẫn\n",
      "Processing: FPTOpenSpeechData_Set001_V0.1_000175.mp3\n"
     ]
    },
    {
     "name": "stderr",
     "output_type": "stream",
     "text": [
      "/home/ngo/anaconda3/lib/python3.12/site-packages/whisper/transcribe.py:126: UserWarning: FP16 is not supported on CPU; using FP32 instead\n",
      "  warnings.warn(\"FP16 is not supported on CPU; using FP32 instead\")\n"
     ]
    },
    {
     "name": "stdout",
     "output_type": "stream",
     "text": [
      "reference_text - predicted_text: nhóm cho rằng điều đó chứng tỏ phụ nữ tập trung hơn vào ngôn ngữ của sự hài hước - nhóm chắc rằng điều đó chứng tỏ phụ nữ tập trung hơn vào ngôn ngữ của sự hài hước\n",
      "Processing: FPTOpenSpeechData_Set001_V0.1_000176.mp3\n"
     ]
    },
    {
     "name": "stderr",
     "output_type": "stream",
     "text": [
      "/home/ngo/anaconda3/lib/python3.12/site-packages/whisper/transcribe.py:126: UserWarning: FP16 is not supported on CPU; using FP32 instead\n",
      "  warnings.warn(\"FP16 is not supported on CPU; using FP32 instead\")\n"
     ]
    },
    {
     "name": "stdout",
     "output_type": "stream",
     "text": [
      "reference_text - predicted_text: phòng quá ồn và tôi không thể ngủ được - phòng quá ồn, tôi không thể ngủ được.\n",
      "Processing: FPTOpenSpeechData_Set001_V0.1_000177.mp3\n"
     ]
    },
    {
     "name": "stderr",
     "output_type": "stream",
     "text": [
      "/home/ngo/anaconda3/lib/python3.12/site-packages/whisper/transcribe.py:126: UserWarning: FP16 is not supported on CPU; using FP32 instead\n",
      "  warnings.warn(\"FP16 is not supported on CPU; using FP32 instead\")\n"
     ]
    },
    {
     "name": "stdout",
     "output_type": "stream",
     "text": [
      "reference_text - predicted_text: những lãnh đạo cấp cao đang phải đối mặt với việc giảm lương đến mức nào hiện vẫn chưa rõ - những lãnh đạo cấp cao đang phải đối mặt với dịch tạm lương đến mức nào nhận đến chưa đó.\n",
      "Processing: FPTOpenSpeechData_Set001_V0.1_000178.mp3\n"
     ]
    },
    {
     "name": "stderr",
     "output_type": "stream",
     "text": [
      "/home/ngo/anaconda3/lib/python3.12/site-packages/whisper/transcribe.py:126: UserWarning: FP16 is not supported on CPU; using FP32 instead\n",
      "  warnings.warn(\"FP16 is not supported on CPU; using FP32 instead\")\n"
     ]
    },
    {
     "name": "stdout",
     "output_type": "stream",
     "text": [
      "reference_text - predicted_text: xe mỹ từng là biểu tượng giàu sang - xe mỹ từng là biểu tượng giàu sang.\n",
      "Processing: FPTOpenSpeechData_Set001_V0.1_000179.mp3\n"
     ]
    },
    {
     "name": "stderr",
     "output_type": "stream",
     "text": [
      "/home/ngo/anaconda3/lib/python3.12/site-packages/whisper/transcribe.py:126: UserWarning: FP16 is not supported on CPU; using FP32 instead\n",
      "  warnings.warn(\"FP16 is not supported on CPU; using FP32 instead\")\n"
     ]
    },
    {
     "name": "stdout",
     "output_type": "stream",
     "text": [
      "reference_text - predicted_text: bữa ăn sinh viên từ lâu đã đơn giản lắm rồi giờ càng đơn giản hơn bao giờ hết - bữa ăn sinh viên từ lâu đã đơn giản lắm rồi giờ càng đơn giản hơn bao giờ hết\n",
      "Processing: FPTOpenSpeechData_Set001_V0.1_000180.mp3\n"
     ]
    },
    {
     "name": "stderr",
     "output_type": "stream",
     "text": [
      "/home/ngo/anaconda3/lib/python3.12/site-packages/whisper/transcribe.py:126: UserWarning: FP16 is not supported on CPU; using FP32 instead\n",
      "  warnings.warn(\"FP16 is not supported on CPU; using FP32 instead\")\n"
     ]
    },
    {
     "name": "stdout",
     "output_type": "stream",
     "text": [
      "reference_text - predicted_text: bệnh này có thường xảy ra không - bệnh này có thường xảy ra không?\n",
      "Processing: FPTOpenSpeechData_Set001_V0.1_000181.mp3\n"
     ]
    },
    {
     "name": "stderr",
     "output_type": "stream",
     "text": [
      "/home/ngo/anaconda3/lib/python3.12/site-packages/whisper/transcribe.py:126: UserWarning: FP16 is not supported on CPU; using FP32 instead\n",
      "  warnings.warn(\"FP16 is not supported on CPU; using FP32 instead\")\n"
     ]
    },
    {
     "name": "stdout",
     "output_type": "stream",
     "text": [
      "reference_text - predicted_text: anh có đang thấy cầu vồng không - anh có đang thấy cậu bồn không?\n",
      "Processing: FPTOpenSpeechData_Set001_V0.1_000182.mp3\n"
     ]
    },
    {
     "name": "stderr",
     "output_type": "stream",
     "text": [
      "/home/ngo/anaconda3/lib/python3.12/site-packages/whisper/transcribe.py:126: UserWarning: FP16 is not supported on CPU; using FP32 instead\n",
      "  warnings.warn(\"FP16 is not supported on CPU; using FP32 instead\")\n"
     ]
    },
    {
     "name": "stdout",
     "output_type": "stream",
     "text": [
      "reference_text - predicted_text: họ phải đảm bảo có đủ vắc xin và thực hiện các biện pháp cần thiết khác để đối phó với tình hình - họ phải đặt vào một bức xin và thực hiện các việc tốt cẩn thận thêm giá trị đối với tích dịch.\n",
      "Processing: FPTOpenSpeechData_Set001_V0.1_000183.mp3\n"
     ]
    },
    {
     "name": "stderr",
     "output_type": "stream",
     "text": [
      "/home/ngo/anaconda3/lib/python3.12/site-packages/whisper/transcribe.py:126: UserWarning: FP16 is not supported on CPU; using FP32 instead\n",
      "  warnings.warn(\"FP16 is not supported on CPU; using FP32 instead\")\n"
     ]
    },
    {
     "name": "stdout",
     "output_type": "stream",
     "text": [
      "reference_text - predicted_text: anh gọi đánh thức tôi lúc bảy giờ sáng mai được không - anh gọi đánh thức tôi lúc 7 giờ sáng mai được không?\n",
      "Processing: FPTOpenSpeechData_Set001_V0.1_000184.mp3\n"
     ]
    },
    {
     "name": "stderr",
     "output_type": "stream",
     "text": [
      "/home/ngo/anaconda3/lib/python3.12/site-packages/whisper/transcribe.py:126: UserWarning: FP16 is not supported on CPU; using FP32 instead\n",
      "  warnings.warn(\"FP16 is not supported on CPU; using FP32 instead\")\n"
     ]
    },
    {
     "name": "stdout",
     "output_type": "stream",
     "text": [
      "reference_text - predicted_text: tự đăng cáo phó cho mình - được nhăn thảo phó cho mình\n",
      "Processing: FPTOpenSpeechData_Set001_V0.1_000185.mp3\n"
     ]
    },
    {
     "name": "stderr",
     "output_type": "stream",
     "text": [
      "/home/ngo/anaconda3/lib/python3.12/site-packages/whisper/transcribe.py:126: UserWarning: FP16 is not supported on CPU; using FP32 instead\n",
      "  warnings.warn(\"FP16 is not supported on CPU; using FP32 instead\")\n"
     ]
    },
    {
     "name": "stdout",
     "output_type": "stream",
     "text": [
      "reference_text - predicted_text: anh thích kiểu nào hơn - anh thích điều nào hơn?\n",
      "Processing: FPTOpenSpeechData_Set001_V0.1_000186.mp3\n"
     ]
    },
    {
     "name": "stderr",
     "output_type": "stream",
     "text": [
      "/home/ngo/anaconda3/lib/python3.12/site-packages/whisper/transcribe.py:126: UserWarning: FP16 is not supported on CPU; using FP32 instead\n",
      "  warnings.warn(\"FP16 is not supported on CPU; using FP32 instead\")\n"
     ]
    },
    {
     "name": "stdout",
     "output_type": "stream",
     "text": [
      "reference_text - predicted_text: ánh đuốc hắt lên khoanh cổ cụt đỏ hỏn hụt hẫng - ảnh được hắt lên khoanh cổ cụt, đỏ hòn hụt hởng.\n",
      "Processing: FPTOpenSpeechData_Set001_V0.1_000187.mp3\n"
     ]
    },
    {
     "name": "stderr",
     "output_type": "stream",
     "text": [
      "/home/ngo/anaconda3/lib/python3.12/site-packages/whisper/transcribe.py:126: UserWarning: FP16 is not supported on CPU; using FP32 instead\n",
      "  warnings.warn(\"FP16 is not supported on CPU; using FP32 instead\")\n"
     ]
    },
    {
     "name": "stdout",
     "output_type": "stream",
     "text": [
      "reference_text - predicted_text: xin lỗi anh có thể -n lĩnh tiền mặt cái này không - xin lỗi, anh có thể bình tiên mặt cái này không?\n",
      "Processing: FPTOpenSpeechData_Set001_V0.1_000188.mp3\n"
     ]
    },
    {
     "name": "stderr",
     "output_type": "stream",
     "text": [
      "/home/ngo/anaconda3/lib/python3.12/site-packages/whisper/transcribe.py:126: UserWarning: FP16 is not supported on CPU; using FP32 instead\n",
      "  warnings.warn(\"FP16 is not supported on CPU; using FP32 instead\")\n"
     ]
    },
    {
     "name": "stdout",
     "output_type": "stream",
     "text": [
      "reference_text - predicted_text: cảnh sát biết rằng có một nhóm bí mật hoạt động bất hợp pháp - cảnh sát biết rằng có một nhóm bí mật hoạt động bất hợp pháp.\n",
      "Processing: FPTOpenSpeechData_Set001_V0.1_000189.mp3\n"
     ]
    },
    {
     "name": "stderr",
     "output_type": "stream",
     "text": [
      "/home/ngo/anaconda3/lib/python3.12/site-packages/whisper/transcribe.py:126: UserWarning: FP16 is not supported on CPU; using FP32 instead\n",
      "  warnings.warn(\"FP16 is not supported on CPU; using FP32 instead\")\n"
     ]
    },
    {
     "name": "stdout",
     "output_type": "stream",
     "text": [
      "reference_text - predicted_text: thiết bị còn gửi thông điệp cảnh báo tới người chủ khi pin sắp hết - thiết bị còn gửi thông điệp cảnh báo tới người chủ khi binh sắp hết.\n",
      "Processing: FPTOpenSpeechData_Set001_V0.1_000190.mp3\n"
     ]
    },
    {
     "name": "stderr",
     "output_type": "stream",
     "text": [
      "/home/ngo/anaconda3/lib/python3.12/site-packages/whisper/transcribe.py:126: UserWarning: FP16 is not supported on CPU; using FP32 instead\n",
      "  warnings.warn(\"FP16 is not supported on CPU; using FP32 instead\")\n"
     ]
    },
    {
     "name": "stdout",
     "output_type": "stream",
     "text": [
      "reference_text - predicted_text: xin vui lòng cứ mang giày - xin vui lòng giữ mang giày\n",
      "Processing: FPTOpenSpeechData_Set001_V0.1_000191.mp3\n"
     ]
    },
    {
     "name": "stderr",
     "output_type": "stream",
     "text": [
      "/home/ngo/anaconda3/lib/python3.12/site-packages/whisper/transcribe.py:126: UserWarning: FP16 is not supported on CPU; using FP32 instead\n",
      "  warnings.warn(\"FP16 is not supported on CPU; using FP32 instead\")\n"
     ]
    },
    {
     "name": "stdout",
     "output_type": "stream",
     "text": [
      "reference_text - predicted_text: tôi không biết chắc là có tai nạn - tôi không biết, chắc là một tai nạn.\n",
      "Processing: FPTOpenSpeechData_Set001_V0.1_000192.mp3\n"
     ]
    },
    {
     "name": "stderr",
     "output_type": "stream",
     "text": [
      "/home/ngo/anaconda3/lib/python3.12/site-packages/whisper/transcribe.py:126: UserWarning: FP16 is not supported on CPU; using FP32 instead\n",
      "  warnings.warn(\"FP16 is not supported on CPU; using FP32 instead\")\n"
     ]
    },
    {
     "name": "stdout",
     "output_type": "stream",
     "text": [
      "reference_text - predicted_text: tao nhanh đến mức nào - cao lên đến mức nào?\n",
      "Processing: FPTOpenSpeechData_Set001_V0.1_000193.mp3\n"
     ]
    },
    {
     "name": "stderr",
     "output_type": "stream",
     "text": [
      "/home/ngo/anaconda3/lib/python3.12/site-packages/whisper/transcribe.py:126: UserWarning: FP16 is not supported on CPU; using FP32 instead\n",
      "  warnings.warn(\"FP16 is not supported on CPU; using FP32 instead\")\n"
     ]
    },
    {
     "name": "stdout",
     "output_type": "stream",
     "text": [
      "reference_text - predicted_text: bữa tiệc sống động -n - bới việt sống động\n",
      "Processing: FPTOpenSpeechData_Set001_V0.1_000194.mp3\n"
     ]
    },
    {
     "name": "stderr",
     "output_type": "stream",
     "text": [
      "/home/ngo/anaconda3/lib/python3.12/site-packages/whisper/transcribe.py:126: UserWarning: FP16 is not supported on CPU; using FP32 instead\n",
      "  warnings.warn(\"FP16 is not supported on CPU; using FP32 instead\")\n"
     ]
    },
    {
     "name": "stdout",
     "output_type": "stream",
     "text": [
      "reference_text - predicted_text: vậy còn yếu tố tinh thần thì sao - vậy còn yếu tố tích thật thì sao?\n",
      "Processing: FPTOpenSpeechData_Set001_V0.1_000195.mp3\n"
     ]
    },
    {
     "name": "stderr",
     "output_type": "stream",
     "text": [
      "/home/ngo/anaconda3/lib/python3.12/site-packages/whisper/transcribe.py:126: UserWarning: FP16 is not supported on CPU; using FP32 instead\n",
      "  warnings.warn(\"FP16 is not supported on CPU; using FP32 instead\")\n"
     ]
    },
    {
     "name": "stdout",
     "output_type": "stream",
     "text": [
      "reference_text - predicted_text: cái này trên tầng ba - cái này trên tầng 3\n",
      "Processing: FPTOpenSpeechData_Set001_V0.1_000196.mp3\n"
     ]
    },
    {
     "name": "stderr",
     "output_type": "stream",
     "text": [
      "/home/ngo/anaconda3/lib/python3.12/site-packages/whisper/transcribe.py:126: UserWarning: FP16 is not supported on CPU; using FP32 instead\n",
      "  warnings.warn(\"FP16 is not supported on CPU; using FP32 instead\")\n"
     ]
    },
    {
     "name": "stdout",
     "output_type": "stream",
     "text": [
      "reference_text - predicted_text: chuyến bay của anh khi nào - chuyến bay của anh khi nào?\n",
      "Processing: FPTOpenSpeechData_Set001_V0.1_000197.mp3\n"
     ]
    },
    {
     "name": "stderr",
     "output_type": "stream",
     "text": [
      "/home/ngo/anaconda3/lib/python3.12/site-packages/whisper/transcribe.py:126: UserWarning: FP16 is not supported on CPU; using FP32 instead\n",
      "  warnings.warn(\"FP16 is not supported on CPU; using FP32 instead\")\n"
     ]
    },
    {
     "name": "stdout",
     "output_type": "stream",
     "text": [
      "reference_text - predicted_text: không không phải có bàn trống cho hai người không - không, có phải có bắt chồng cho hai người không?\n",
      "Processing: FPTOpenSpeechData_Set001_V0.1_000198.mp3\n"
     ]
    },
    {
     "name": "stderr",
     "output_type": "stream",
     "text": [
      "/home/ngo/anaconda3/lib/python3.12/site-packages/whisper/transcribe.py:126: UserWarning: FP16 is not supported on CPU; using FP32 instead\n",
      "  warnings.warn(\"FP16 is not supported on CPU; using FP32 instead\")\n"
     ]
    },
    {
     "name": "stdout",
     "output_type": "stream",
     "text": [
      "reference_text - predicted_text: tôi có thể có một tờ tạp chí khác không - tôi có thể cuốn một tờ tạp chí khác không?\n",
      "Processing: FPTOpenSpeechData_Set001_V0.1_000199.mp3\n"
     ]
    },
    {
     "name": "stderr",
     "output_type": "stream",
     "text": [
      "/home/ngo/anaconda3/lib/python3.12/site-packages/whisper/transcribe.py:126: UserWarning: FP16 is not supported on CPU; using FP32 instead\n",
      "  warnings.warn(\"FP16 is not supported on CPU; using FP32 instead\")\n"
     ]
    },
    {
     "name": "stdout",
     "output_type": "stream",
     "text": [
      "reference_text - predicted_text: bán cho tôi một vé hạng hai đến chermarn - bạn cho tôi một vẽ hà ha để xem ai.\n",
      "Processing: FPTOpenSpeechData_Set001_V0.1_000200.mp3\n"
     ]
    },
    {
     "name": "stderr",
     "output_type": "stream",
     "text": [
      "/home/ngo/anaconda3/lib/python3.12/site-packages/whisper/transcribe.py:126: UserWarning: FP16 is not supported on CPU; using FP32 instead\n",
      "  warnings.warn(\"FP16 is not supported on CPU; using FP32 instead\")\n"
     ]
    },
    {
     "name": "stdout",
     "output_type": "stream",
     "text": [
      "reference_text - predicted_text: jerry đây là jack làm ơn gọi cho edith - xin hãy lấy tay là rách và vượt qua chùa để đi.\n",
      "Processing: FPTOpenSpeechData_Set001_V0.1_000201.mp3\n"
     ]
    },
    {
     "name": "stderr",
     "output_type": "stream",
     "text": [
      "/home/ngo/anaconda3/lib/python3.12/site-packages/whisper/transcribe.py:126: UserWarning: FP16 is not supported on CPU; using FP32 instead\n",
      "  warnings.warn(\"FP16 is not supported on CPU; using FP32 instead\")\n"
     ]
    },
    {
     "name": "stdout",
     "output_type": "stream",
     "text": [
      "reference_text - predicted_text: tất cả những gì nước mỹ làm chỉ đơn thuần là vì muốn sở hữu những nguồn tài nguyên quý giá của các quốc gia đó - tất cả những gì nước mỹ làm chỉ đơn thuần là muốn sở hữu những nguồn tài nguyên di giá của các quốc gia đó.\n",
      "Processing: FPTOpenSpeechData_Set001_V0.1_000202.mp3\n"
     ]
    },
    {
     "name": "stderr",
     "output_type": "stream",
     "text": [
      "/home/ngo/anaconda3/lib/python3.12/site-packages/whisper/transcribe.py:126: UserWarning: FP16 is not supported on CPU; using FP32 instead\n",
      "  warnings.warn(\"FP16 is not supported on CPU; using FP32 instead\")\n"
     ]
    },
    {
     "name": "stdout",
     "output_type": "stream",
     "text": [
      "reference_text - predicted_text: chúng sở hữu tiếng thét chói tai và rất thích nhảy nhót - chúng sở hữu tiếng suốt trói tai và rất thích nhẹ nhót.\n",
      "Processing: FPTOpenSpeechData_Set001_V0.1_000203.mp3\n"
     ]
    },
    {
     "name": "stderr",
     "output_type": "stream",
     "text": [
      "/home/ngo/anaconda3/lib/python3.12/site-packages/whisper/transcribe.py:126: UserWarning: FP16 is not supported on CPU; using FP32 instead\n",
      "  warnings.warn(\"FP16 is not supported on CPU; using FP32 instead\")\n"
     ]
    },
    {
     "name": "stdout",
     "output_type": "stream",
     "text": [
      "reference_text - predicted_text: tưởng dễ đẻ trứng vàng nhiều đơn vị ùn ùn xin thành lập công ty chứng khoán ngay lúc thị trường đỉnh cao - hãy subscribe cho kênh ghiền mì gõ để không bỏ lỡ những video hấp dẫn\n",
      "Processing: FPTOpenSpeechData_Set001_V0.1_000204.mp3\n"
     ]
    },
    {
     "name": "stderr",
     "output_type": "stream",
     "text": [
      "/home/ngo/anaconda3/lib/python3.12/site-packages/whisper/transcribe.py:126: UserWarning: FP16 is not supported on CPU; using FP32 instead\n",
      "  warnings.warn(\"FP16 is not supported on CPU; using FP32 instead\")\n"
     ]
    },
    {
     "name": "stdout",
     "output_type": "stream",
     "text": [
      "reference_text - predicted_text: ừ bạn đứng không đúng băng chuyền - thì bạn đúng không đúng bằng kiền\n",
      "Processing: FPTOpenSpeechData_Set001_V0.1_000205.mp3\n"
     ]
    },
    {
     "name": "stderr",
     "output_type": "stream",
     "text": [
      "/home/ngo/anaconda3/lib/python3.12/site-packages/whisper/transcribe.py:126: UserWarning: FP16 is not supported on CPU; using FP32 instead\n",
      "  warnings.warn(\"FP16 is not supported on CPU; using FP32 instead\")\n"
     ]
    },
    {
     "name": "stdout",
     "output_type": "stream",
     "text": [
      "reference_text - predicted_text: ngân hàng phương nam cũng một phen hú vía khi thông tin rủi ro tín dụng bị rò rỉ ra ngoài - nên là phương nam cũng một kênh ủng viên khi thông tin dùng do tiến dục bị do gì được hoài.\n",
      "Processing: FPTOpenSpeechData_Set001_V0.1_000206.mp3\n"
     ]
    },
    {
     "name": "stderr",
     "output_type": "stream",
     "text": [
      "/home/ngo/anaconda3/lib/python3.12/site-packages/whisper/transcribe.py:126: UserWarning: FP16 is not supported on CPU; using FP32 instead\n",
      "  warnings.warn(\"FP16 is not supported on CPU; using FP32 instead\")\n"
     ]
    },
    {
     "name": "stdout",
     "output_type": "stream",
     "text": [
      "reference_text - predicted_text: bà mẹ nghèo đông con - bà mẹ nghèo đóng con\n",
      "Processing: FPTOpenSpeechData_Set001_V0.1_000207.mp3\n"
     ]
    },
    {
     "name": "stderr",
     "output_type": "stream",
     "text": [
      "/home/ngo/anaconda3/lib/python3.12/site-packages/whisper/transcribe.py:126: UserWarning: FP16 is not supported on CPU; using FP32 instead\n",
      "  warnings.warn(\"FP16 is not supported on CPU; using FP32 instead\")\n"
     ]
    },
    {
     "name": "stdout",
     "output_type": "stream",
     "text": [
      "reference_text - predicted_text: mẫu xe được trình làng ở triển lãm được giới truyền thông coi là hình mẫu của chiếc bốn cửa sẽ ra mắt vào tới - mẫu xe được trình nàng trong triển ám được giới truyền thông coi là hình mẫu của chiếc bốn cửa sẽ ra mắt vào tới.\n",
      "Processing: FPTOpenSpeechData_Set001_V0.1_000208.mp3\n"
     ]
    },
    {
     "name": "stderr",
     "output_type": "stream",
     "text": [
      "/home/ngo/anaconda3/lib/python3.12/site-packages/whisper/transcribe.py:126: UserWarning: FP16 is not supported on CPU; using FP32 instead\n",
      "  warnings.warn(\"FP16 is not supported on CPU; using FP32 instead\")\n"
     ]
    },
    {
     "name": "stdout",
     "output_type": "stream",
     "text": [
      "reference_text - predicted_text: anh mặc cái này trông rất đẹp - ánh mặt các em trông rất đẹp.\n",
      "Processing: FPTOpenSpeechData_Set001_V0.1_000209.mp3\n"
     ]
    },
    {
     "name": "stderr",
     "output_type": "stream",
     "text": [
      "/home/ngo/anaconda3/lib/python3.12/site-packages/whisper/transcribe.py:126: UserWarning: FP16 is not supported on CPU; using FP32 instead\n",
      "  warnings.warn(\"FP16 is not supported on CPU; using FP32 instead\")\n"
     ]
    },
    {
     "name": "stdout",
     "output_type": "stream",
     "text": [
      "reference_text - predicted_text: chưa có thông tin về bệnh chết người ở nước này - sự có thông tin về lệnh sinh người ở nước này\n",
      "Processing: FPTOpenSpeechData_Set001_V0.1_000210.mp3\n"
     ]
    },
    {
     "name": "stderr",
     "output_type": "stream",
     "text": [
      "/home/ngo/anaconda3/lib/python3.12/site-packages/whisper/transcribe.py:126: UserWarning: FP16 is not supported on CPU; using FP32 instead\n",
      "  warnings.warn(\"FP16 is not supported on CPU; using FP32 instead\")\n"
     ]
    },
    {
     "name": "stdout",
     "output_type": "stream",
     "text": [
      "reference_text - predicted_text: cho tôi bản đồ thành phố được không - cho tôi bản đồ thành phố được không?\n",
      "Processing: FPTOpenSpeechData_Set001_V0.1_000211.mp3\n"
     ]
    },
    {
     "name": "stderr",
     "output_type": "stream",
     "text": [
      "/home/ngo/anaconda3/lib/python3.12/site-packages/whisper/transcribe.py:126: UserWarning: FP16 is not supported on CPU; using FP32 instead\n",
      "  warnings.warn(\"FP16 is not supported on CPU; using FP32 instead\")\n"
     ]
    },
    {
     "name": "stdout",
     "output_type": "stream",
     "text": [
      "reference_text - predicted_text: đều không quan trọng - đều không quan trọng.\n",
      "Processing: FPTOpenSpeechData_Set001_V0.1_000212.mp3\n"
     ]
    },
    {
     "name": "stderr",
     "output_type": "stream",
     "text": [
      "/home/ngo/anaconda3/lib/python3.12/site-packages/whisper/transcribe.py:126: UserWarning: FP16 is not supported on CPU; using FP32 instead\n",
      "  warnings.warn(\"FP16 is not supported on CPU; using FP32 instead\")\n"
     ]
    },
    {
     "name": "stdout",
     "output_type": "stream",
     "text": [
      "reference_text - predicted_text: có lúc họ đút hai tay trong túi hai vai rụt lại mà đi có lúc đánh tay thoải mái ưỡn ngực - có lúc đút hai tay trong túi, hai vai rụt lại mà đi. có lúc đánh tay thoải mái, hưởng nhịp.\n",
      "Processing: FPTOpenSpeechData_Set001_V0.1_000213.mp3\n"
     ]
    },
    {
     "name": "stderr",
     "output_type": "stream",
     "text": [
      "/home/ngo/anaconda3/lib/python3.12/site-packages/whisper/transcribe.py:126: UserWarning: FP16 is not supported on CPU; using FP32 instead\n",
      "  warnings.warn(\"FP16 is not supported on CPU; using FP32 instead\")\n"
     ]
    },
    {
     "name": "stdout",
     "output_type": "stream",
     "text": [
      "reference_text - predicted_text: tôi bị ung thư - tôi bị ung thư\n",
      "Processing: FPTOpenSpeechData_Set001_V0.1_000214.mp3\n"
     ]
    },
    {
     "name": "stderr",
     "output_type": "stream",
     "text": [
      "/home/ngo/anaconda3/lib/python3.12/site-packages/whisper/transcribe.py:126: UserWarning: FP16 is not supported on CPU; using FP32 instead\n",
      "  warnings.warn(\"FP16 is not supported on CPU; using FP32 instead\")\n"
     ]
    },
    {
     "name": "stdout",
     "output_type": "stream",
     "text": [
      "reference_text - predicted_text: tôi không thể hiểu bạn - rồi công ty hiệu bản\n",
      "Processing: FPTOpenSpeechData_Set001_V0.1_000215.mp3\n"
     ]
    },
    {
     "name": "stderr",
     "output_type": "stream",
     "text": [
      "/home/ngo/anaconda3/lib/python3.12/site-packages/whisper/transcribe.py:126: UserWarning: FP16 is not supported on CPU; using FP32 instead\n",
      "  warnings.warn(\"FP16 is not supported on CPU; using FP32 instead\")\n"
     ]
    },
    {
     "name": "stdout",
     "output_type": "stream",
     "text": [
      "reference_text - predicted_text: tôi cảm thấy rất nặng nề tôi không thể di chuyển chân của tôi - tôi cảm thấy rất nàng nề, tôi không thể đi tuyển chân của tôi.\n",
      "Processing: FPTOpenSpeechData_Set001_V0.1_000216.mp3\n"
     ]
    },
    {
     "name": "stderr",
     "output_type": "stream",
     "text": [
      "/home/ngo/anaconda3/lib/python3.12/site-packages/whisper/transcribe.py:126: UserWarning: FP16 is not supported on CPU; using FP32 instead\n",
      "  warnings.warn(\"FP16 is not supported on CPU; using FP32 instead\")\n"
     ]
    },
    {
     "name": "stdout",
     "output_type": "stream",
     "text": [
      "reference_text - predicted_text: tình yêu là mù quáng người đang yêu không thấy khuyết điểm của người khác - tình yêu là mù quảng, người đang yêu không thấy, tuyết điểm của người khác.\n",
      "Processing: FPTOpenSpeechData_Set001_V0.1_000217.mp3\n"
     ]
    },
    {
     "name": "stderr",
     "output_type": "stream",
     "text": [
      "/home/ngo/anaconda3/lib/python3.12/site-packages/whisper/transcribe.py:126: UserWarning: FP16 is not supported on CPU; using FP32 instead\n",
      "  warnings.warn(\"FP16 is not supported on CPU; using FP32 instead\")\n"
     ]
    },
    {
     "name": "stdout",
     "output_type": "stream",
     "text": [
      "reference_text - predicted_text: phát tờ rơi quảng cáo biến thành rác đô thị - master ray quảng cáo viết hạch rác đô thị\n",
      "Processing: FPTOpenSpeechData_Set001_V0.1_000218.mp3\n"
     ]
    },
    {
     "name": "stderr",
     "output_type": "stream",
     "text": [
      "/home/ngo/anaconda3/lib/python3.12/site-packages/whisper/transcribe.py:126: UserWarning: FP16 is not supported on CPU; using FP32 instead\n",
      "  warnings.warn(\"FP16 is not supported on CPU; using FP32 instead\")\n"
     ]
    },
    {
     "name": "stdout",
     "output_type": "stream",
     "text": [
      "reference_text - predicted_text: cô ấy có thính giác ảo - cô ấy có gì gì chẳng hạn\n",
      "Processing: FPTOpenSpeechData_Set001_V0.1_000219.mp3\n"
     ]
    },
    {
     "name": "stderr",
     "output_type": "stream",
     "text": [
      "/home/ngo/anaconda3/lib/python3.12/site-packages/whisper/transcribe.py:126: UserWarning: FP16 is not supported on CPU; using FP32 instead\n",
      "  warnings.warn(\"FP16 is not supported on CPU; using FP32 instead\")\n"
     ]
    },
    {
     "name": "stdout",
     "output_type": "stream",
     "text": [
      "reference_text - predicted_text: đôi khi trong các khẩu súng các em mang trên người không hề có đạn -n chỉ là một thứ hù dọa những - đôi khi trong các sổ sử, các em thích người không hề có đại, chỉ là một thứ hình dạng như...\n",
      "Processing: FPTOpenSpeechData_Set001_V0.1_000220.mp3\n"
     ]
    },
    {
     "name": "stderr",
     "output_type": "stream",
     "text": [
      "/home/ngo/anaconda3/lib/python3.12/site-packages/whisper/transcribe.py:126: UserWarning: FP16 is not supported on CPU; using FP32 instead\n",
      "  warnings.warn(\"FP16 is not supported on CPU; using FP32 instead\")\n"
     ]
    },
    {
     "name": "stdout",
     "output_type": "stream",
     "text": [
      "reference_text - predicted_text: đâu là nền tảng sinh học của ý thức - tôi học lại nhนะ, where i got my brenda à\n",
      "Processing: FPTOpenSpeechData_Set001_V0.1_000221.mp3\n"
     ]
    },
    {
     "name": "stderr",
     "output_type": "stream",
     "text": [
      "/home/ngo/anaconda3/lib/python3.12/site-packages/whisper/transcribe.py:126: UserWarning: FP16 is not supported on CPU; using FP32 instead\n",
      "  warnings.warn(\"FP16 is not supported on CPU; using FP32 instead\")\n"
     ]
    },
    {
     "name": "stdout",
     "output_type": "stream",
     "text": [
      "reference_text - predicted_text: tôi có thể xin một khác không - tôi có thể chinh một, bác không?\n",
      "Processing: FPTOpenSpeechData_Set001_V0.1_000222.mp3\n"
     ]
    },
    {
     "name": "stderr",
     "output_type": "stream",
     "text": [
      "/home/ngo/anaconda3/lib/python3.12/site-packages/whisper/transcribe.py:126: UserWarning: FP16 is not supported on CPU; using FP32 instead\n",
      "  warnings.warn(\"FP16 is not supported on CPU; using FP32 instead\")\n"
     ]
    },
    {
     "name": "stdout",
     "output_type": "stream",
     "text": [
      "reference_text - predicted_text: tôi đã từng chứng kiến bão và giờ đây tôi đang cộng tác tại nước ngoài - tôi đã từng chứng kiến bão và giờ đây tôi đang công tác tại nước ngoài.\n",
      "Processing: FPTOpenSpeechData_Set001_V0.1_000223.mp3\n"
     ]
    },
    {
     "name": "stderr",
     "output_type": "stream",
     "text": [
      "/home/ngo/anaconda3/lib/python3.12/site-packages/whisper/transcribe.py:126: UserWarning: FP16 is not supported on CPU; using FP32 instead\n",
      "  warnings.warn(\"FP16 is not supported on CPU; using FP32 instead\")\n"
     ]
    },
    {
     "name": "stdout",
     "output_type": "stream",
     "text": [
      "reference_text - predicted_text: có phí uống không - có quý uống không?\n",
      "Processing: FPTOpenSpeechData_Set001_V0.1_000224.mp3\n"
     ]
    },
    {
     "name": "stderr",
     "output_type": "stream",
     "text": [
      "/home/ngo/anaconda3/lib/python3.12/site-packages/whisper/transcribe.py:126: UserWarning: FP16 is not supported on CPU; using FP32 instead\n",
      "  warnings.warn(\"FP16 is not supported on CPU; using FP32 instead\")\n"
     ]
    },
    {
     "name": "stdout",
     "output_type": "stream",
     "text": [
      "reference_text - predicted_text: tôi đi hải phòng còn bạn đi đâu - tôi đi hải phòng còn bạn đi đâu?\n",
      "Processing: FPTOpenSpeechData_Set001_V0.1_000225.mp3\n"
     ]
    },
    {
     "name": "stderr",
     "output_type": "stream",
     "text": [
      "/home/ngo/anaconda3/lib/python3.12/site-packages/whisper/transcribe.py:126: UserWarning: FP16 is not supported on CPU; using FP32 instead\n",
      "  warnings.warn(\"FP16 is not supported on CPU; using FP32 instead\")\n"
     ]
    },
    {
     "name": "stdout",
     "output_type": "stream",
     "text": [
      "reference_text - predicted_text: ti vi giảm âm lượng về bốn - bv giảm âm lượng về 4\n",
      "Processing: FPTOpenSpeechData_Set001_V0.1_000226.mp3\n"
     ]
    },
    {
     "name": "stderr",
     "output_type": "stream",
     "text": [
      "/home/ngo/anaconda3/lib/python3.12/site-packages/whisper/transcribe.py:126: UserWarning: FP16 is not supported on CPU; using FP32 instead\n",
      "  warnings.warn(\"FP16 is not supported on CPU; using FP32 instead\")\n"
     ]
    },
    {
     "name": "stdout",
     "output_type": "stream",
     "text": [
      "reference_text - predicted_text: cũng đồng nghĩa với việc chúng ta có thể sẽ chuốc lấy khổ đau - cũng đồng nghĩa với việc chúng ta có thể sẽ chuốt lấy khổ đau\n",
      "Processing: FPTOpenSpeechData_Set001_V0.1_000227.mp3\n"
     ]
    },
    {
     "name": "stderr",
     "output_type": "stream",
     "text": [
      "/home/ngo/anaconda3/lib/python3.12/site-packages/whisper/transcribe.py:126: UserWarning: FP16 is not supported on CPU; using FP32 instead\n",
      "  warnings.warn(\"FP16 is not supported on CPU; using FP32 instead\")\n"
     ]
    },
    {
     "name": "stdout",
     "output_type": "stream",
     "text": [
      "reference_text - predicted_text: gần đây lại có vụ công ty xe khách thuận thảo ở bình định bị các đối thủ hùa nhau ngăn cản không cho hoạt động - gần đây lại có vụ công ty xe khách thuận thảo ở bình tĩnh, các đối thủ hùa nhau ngăn cả không cho hoạt động.\n",
      "Processing: FPTOpenSpeechData_Set001_V0.1_000228.mp3\n"
     ]
    },
    {
     "name": "stderr",
     "output_type": "stream",
     "text": [
      "/home/ngo/anaconda3/lib/python3.12/site-packages/whisper/transcribe.py:126: UserWarning: FP16 is not supported on CPU; using FP32 instead\n",
      "  warnings.warn(\"FP16 is not supported on CPU; using FP32 instead\")\n"
     ]
    },
    {
     "name": "stdout",
     "output_type": "stream",
     "text": [
      "reference_text - predicted_text: vâng tôi đã đến đây lần đầu tiên cách đây năm năm - vâng tôi đã đến sau lần đầu tiên cách đây 5 năm\n",
      "Processing: FPTOpenSpeechData_Set001_V0.1_000229.mp3\n"
     ]
    },
    {
     "name": "stderr",
     "output_type": "stream",
     "text": [
      "/home/ngo/anaconda3/lib/python3.12/site-packages/whisper/transcribe.py:126: UserWarning: FP16 is not supported on CPU; using FP32 instead\n",
      "  warnings.warn(\"FP16 is not supported on CPU; using FP32 instead\")\n"
     ]
    },
    {
     "name": "stdout",
     "output_type": "stream",
     "text": [
      "reference_text - predicted_text: chành bành chằng chịt chỗ nào cũng có - tranh bành, tranh dịch chỗ nào cũng có.\n",
      "Processing: FPTOpenSpeechData_Set001_V0.1_000230.mp3\n"
     ]
    },
    {
     "name": "stderr",
     "output_type": "stream",
     "text": [
      "/home/ngo/anaconda3/lib/python3.12/site-packages/whisper/transcribe.py:126: UserWarning: FP16 is not supported on CPU; using FP32 instead\n",
      "  warnings.warn(\"FP16 is not supported on CPU; using FP32 instead\")\n"
     ]
    },
    {
     "name": "stdout",
     "output_type": "stream",
     "text": [
      "reference_text - predicted_text: tôi có thể xem một bộ phim ở đâu - tôi có thể xem mùa của phim ở đâu?\n",
      "Processing: FPTOpenSpeechData_Set001_V0.1_000231.mp3\n"
     ]
    },
    {
     "name": "stderr",
     "output_type": "stream",
     "text": [
      "/home/ngo/anaconda3/lib/python3.12/site-packages/whisper/transcribe.py:126: UserWarning: FP16 is not supported on CPU; using FP32 instead\n",
      "  warnings.warn(\"FP16 is not supported on CPU; using FP32 instead\")\n"
     ]
    },
    {
     "name": "stdout",
     "output_type": "stream",
     "text": [
      "reference_text - predicted_text: cô ấy cần một bóng đèn bốn mươi oắt cho đèn để bàn - cô ấy cần một bóng đèn 40w cho đèn về bàn.\n",
      "Processing: FPTOpenSpeechData_Set001_V0.1_000232.mp3\n"
     ]
    },
    {
     "name": "stderr",
     "output_type": "stream",
     "text": [
      "/home/ngo/anaconda3/lib/python3.12/site-packages/whisper/transcribe.py:126: UserWarning: FP16 is not supported on CPU; using FP32 instead\n",
      "  warnings.warn(\"FP16 is not supported on CPU; using FP32 instead\")\n"
     ]
    },
    {
     "name": "stdout",
     "output_type": "stream",
     "text": [
      "reference_text - predicted_text: góa vợ hai con - quả vợ hai con\n",
      "Processing: FPTOpenSpeechData_Set001_V0.1_000233.mp3\n"
     ]
    },
    {
     "name": "stderr",
     "output_type": "stream",
     "text": [
      "/home/ngo/anaconda3/lib/python3.12/site-packages/whisper/transcribe.py:126: UserWarning: FP16 is not supported on CPU; using FP32 instead\n",
      "  warnings.warn(\"FP16 is not supported on CPU; using FP32 instead\")\n"
     ]
    },
    {
     "name": "stdout",
     "output_type": "stream",
     "text": [
      "reference_text - predicted_text: trẻ em ở các trường học được cung cấp nước sạch để uống - chị em đã cắt thử hồn không có nước sạch được\n",
      "Processing: FPTOpenSpeechData_Set001_V0.1_000234.mp3\n"
     ]
    },
    {
     "name": "stderr",
     "output_type": "stream",
     "text": [
      "/home/ngo/anaconda3/lib/python3.12/site-packages/whisper/transcribe.py:126: UserWarning: FP16 is not supported on CPU; using FP32 instead\n",
      "  warnings.warn(\"FP16 is not supported on CPU; using FP32 instead\")\n"
     ]
    },
    {
     "name": "stdout",
     "output_type": "stream",
     "text": [
      "reference_text - predicted_text: làm ơn nối máy tôi với cảnh sát - làm ơn đối máy tôi với cảnh sát.\n",
      "Processing: FPTOpenSpeechData_Set001_V0.1_000235.mp3\n"
     ]
    },
    {
     "name": "stderr",
     "output_type": "stream",
     "text": [
      "/home/ngo/anaconda3/lib/python3.12/site-packages/whisper/transcribe.py:126: UserWarning: FP16 is not supported on CPU; using FP32 instead\n",
      "  warnings.warn(\"FP16 is not supported on CPU; using FP32 instead\")\n"
     ]
    },
    {
     "name": "stdout",
     "output_type": "stream",
     "text": [
      "reference_text - predicted_text: đầu tư cho dự án xây dựng nhà máy sản xuất điện thoại di động tại đà nẵng - đầu tư cho dự án xây dựng nhà máy sản xuất điện thoại di động tại đà nẵng.\n",
      "Processing: FPTOpenSpeechData_Set001_V0.1_000236.mp3\n"
     ]
    },
    {
     "name": "stderr",
     "output_type": "stream",
     "text": [
      "/home/ngo/anaconda3/lib/python3.12/site-packages/whisper/transcribe.py:126: UserWarning: FP16 is not supported on CPU; using FP32 instead\n",
      "  warnings.warn(\"FP16 is not supported on CPU; using FP32 instead\")\n"
     ]
    },
    {
     "ename": "RuntimeError",
     "evalue": "Failed to load audio: ffmpeg version 6.1.1-3ubuntu5 Copyright (c) 2000-2023 the FFmpeg developers\n  built with gcc 13 (Ubuntu 13.2.0-23ubuntu3)\n  configuration: --prefix=/usr --extra-version=3ubuntu5 --toolchain=hardened --libdir=/usr/lib/x86_64-linux-gnu --incdir=/usr/include/x86_64-linux-gnu --arch=amd64 --enable-gpl --disable-stripping --disable-omx --enable-gnutls --enable-libaom --enable-libass --enable-libbs2b --enable-libcaca --enable-libcdio --enable-libcodec2 --enable-libdav1d --enable-libflite --enable-libfontconfig --enable-libfreetype --enable-libfribidi --enable-libglslang --enable-libgme --enable-libgsm --enable-libharfbuzz --enable-libmp3lame --enable-libmysofa --enable-libopenjpeg --enable-libopenmpt --enable-libopus --enable-librubberband --enable-libshine --enable-libsnappy --enable-libsoxr --enable-libspeex --enable-libtheora --enable-libtwolame --enable-libvidstab --enable-libvorbis --enable-libvpx --enable-libwebp --enable-libx265 --enable-libxml2 --enable-libxvid --enable-libzimg --enable-openal --enable-opencl --enable-opengl --disable-sndio --enable-libvpl --disable-libmfx --enable-libdc1394 --enable-libdrm --enable-libiec61883 --enable-chromaprint --enable-frei0r --enable-ladspa --enable-libbluray --enable-libjack --enable-libpulse --enable-librabbitmq --enable-librist --enable-libsrt --enable-libssh --enable-libsvtav1 --enable-libx264 --enable-libzmq --enable-libzvbi --enable-lv2 --enable-sdl2 --enable-libplacebo --enable-librav1e --enable-pocketsphinx --enable-librsvg --enable-libjxl --enable-shared\n  libavutil      58. 29.100 / 58. 29.100\n  libavcodec     60. 31.102 / 60. 31.102\n  libavformat    60. 16.100 / 60. 16.100\n  libavdevice    60.  3.100 / 60.  3.100\n  libavfilter     9. 12.100 /  9. 12.100\n  libswscale      7.  5.100 /  7.  5.100\n  libswresample   4. 12.100 /  4. 12.100\n  libpostproc    57.  3.100 / 57.  3.100\n[in#0 @ 0x59d8a6ebde00] Error opening input: No such file or directory\nError opening input file ./data/FPTOpenSpeechData_Set001_V0.1_000236.mp3.\nError opening input files: No such file or directory\n",
     "output_type": "error",
     "traceback": [
      "\u001b[0;31m---------------------------------------------------------------------------\u001b[0m",
      "\u001b[0;31mCalledProcessError\u001b[0m                        Traceback (most recent call last)",
      "File \u001b[0;32m~/anaconda3/lib/python3.12/site-packages/whisper/audio.py:58\u001b[0m, in \u001b[0;36mload_audio\u001b[0;34m(file, sr)\u001b[0m\n\u001b[1;32m     57\u001b[0m \u001b[38;5;28;01mtry\u001b[39;00m:\n\u001b[0;32m---> 58\u001b[0m     out \u001b[38;5;241m=\u001b[39m run(cmd, capture_output\u001b[38;5;241m=\u001b[39m\u001b[38;5;28;01mTrue\u001b[39;00m, check\u001b[38;5;241m=\u001b[39m\u001b[38;5;28;01mTrue\u001b[39;00m)\u001b[38;5;241m.\u001b[39mstdout\n\u001b[1;32m     59\u001b[0m \u001b[38;5;28;01mexcept\u001b[39;00m CalledProcessError \u001b[38;5;28;01mas\u001b[39;00m e:\n",
      "File \u001b[0;32m~/anaconda3/lib/python3.12/subprocess.py:571\u001b[0m, in \u001b[0;36mrun\u001b[0;34m(input, capture_output, timeout, check, *popenargs, **kwargs)\u001b[0m\n\u001b[1;32m    570\u001b[0m     \u001b[38;5;28;01mif\u001b[39;00m check \u001b[38;5;129;01mand\u001b[39;00m retcode:\n\u001b[0;32m--> 571\u001b[0m         \u001b[38;5;28;01mraise\u001b[39;00m CalledProcessError(retcode, process\u001b[38;5;241m.\u001b[39margs,\n\u001b[1;32m    572\u001b[0m                                  output\u001b[38;5;241m=\u001b[39mstdout, stderr\u001b[38;5;241m=\u001b[39mstderr)\n\u001b[1;32m    573\u001b[0m \u001b[38;5;28;01mreturn\u001b[39;00m CompletedProcess(process\u001b[38;5;241m.\u001b[39margs, retcode, stdout, stderr)\n",
      "\u001b[0;31mCalledProcessError\u001b[0m: Command '['ffmpeg', '-nostdin', '-threads', '0', '-i', './data/FPTOpenSpeechData_Set001_V0.1_000236.mp3', '-f', 's16le', '-ac', '1', '-acodec', 'pcm_s16le', '-ar', '16000', '-']' returned non-zero exit status 254.",
      "\nThe above exception was the direct cause of the following exception:\n",
      "\u001b[0;31mRuntimeError\u001b[0m                              Traceback (most recent call last)",
      "Cell \u001b[0;32mIn[6], line 15\u001b[0m\n\u001b[1;32m     12\u001b[0m \u001b[38;5;28mprint\u001b[39m(\u001b[38;5;124mf\u001b[39m\u001b[38;5;124m\"\u001b[39m\u001b[38;5;124mProcessing: \u001b[39m\u001b[38;5;132;01m{\u001b[39;00maudio_file\u001b[38;5;132;01m}\u001b[39;00m\u001b[38;5;124m\"\u001b[39m)\n\u001b[1;32m     14\u001b[0m \u001b[38;5;66;03m# Nhận diện giọng nói\u001b[39;00m\n\u001b[0;32m---> 15\u001b[0m result \u001b[38;5;241m=\u001b[39m model\u001b[38;5;241m.\u001b[39mtranscribe(file_path, language\u001b[38;5;241m=\u001b[39m\u001b[38;5;124m\"\u001b[39m\u001b[38;5;124mvi\u001b[39m\u001b[38;5;124m\"\u001b[39m)\n\u001b[1;32m     16\u001b[0m predicted_text \u001b[38;5;241m=\u001b[39m result[\u001b[38;5;124m\"\u001b[39m\u001b[38;5;124mtext\u001b[39m\u001b[38;5;124m\"\u001b[39m]\u001b[38;5;241m.\u001b[39mstrip()\u001b[38;5;241m.\u001b[39mlower()\n\u001b[1;32m     18\u001b[0m \u001b[38;5;66;03m# Lưu kết quả nếu có transcript chuẩn\u001b[39;00m\n",
      "File \u001b[0;32m~/anaconda3/lib/python3.12/site-packages/whisper/transcribe.py:133\u001b[0m, in \u001b[0;36mtranscribe\u001b[0;34m(model, audio, verbose, temperature, compression_ratio_threshold, logprob_threshold, no_speech_threshold, condition_on_previous_text, initial_prompt, word_timestamps, prepend_punctuations, append_punctuations, clip_timestamps, hallucination_silence_threshold, **decode_options)\u001b[0m\n\u001b[1;32m    130\u001b[0m     decode_options[\u001b[38;5;124m\"\u001b[39m\u001b[38;5;124mfp16\u001b[39m\u001b[38;5;124m\"\u001b[39m] \u001b[38;5;241m=\u001b[39m \u001b[38;5;28;01mFalse\u001b[39;00m\n\u001b[1;32m    132\u001b[0m \u001b[38;5;66;03m# Pad 30-seconds of silence to the input audio, for slicing\u001b[39;00m\n\u001b[0;32m--> 133\u001b[0m mel \u001b[38;5;241m=\u001b[39m log_mel_spectrogram(audio, model\u001b[38;5;241m.\u001b[39mdims\u001b[38;5;241m.\u001b[39mn_mels, padding\u001b[38;5;241m=\u001b[39mN_SAMPLES)\n\u001b[1;32m    134\u001b[0m content_frames \u001b[38;5;241m=\u001b[39m mel\u001b[38;5;241m.\u001b[39mshape[\u001b[38;5;241m-\u001b[39m\u001b[38;5;241m1\u001b[39m] \u001b[38;5;241m-\u001b[39m N_FRAMES\n\u001b[1;32m    135\u001b[0m content_duration \u001b[38;5;241m=\u001b[39m \u001b[38;5;28mfloat\u001b[39m(content_frames \u001b[38;5;241m*\u001b[39m HOP_LENGTH \u001b[38;5;241m/\u001b[39m SAMPLE_RATE)\n",
      "File \u001b[0;32m~/anaconda3/lib/python3.12/site-packages/whisper/audio.py:140\u001b[0m, in \u001b[0;36mlog_mel_spectrogram\u001b[0;34m(audio, n_mels, padding, device)\u001b[0m\n\u001b[1;32m    138\u001b[0m \u001b[38;5;28;01mif\u001b[39;00m \u001b[38;5;129;01mnot\u001b[39;00m torch\u001b[38;5;241m.\u001b[39mis_tensor(audio):\n\u001b[1;32m    139\u001b[0m     \u001b[38;5;28;01mif\u001b[39;00m \u001b[38;5;28misinstance\u001b[39m(audio, \u001b[38;5;28mstr\u001b[39m):\n\u001b[0;32m--> 140\u001b[0m         audio \u001b[38;5;241m=\u001b[39m load_audio(audio)\n\u001b[1;32m    141\u001b[0m     audio \u001b[38;5;241m=\u001b[39m torch\u001b[38;5;241m.\u001b[39mfrom_numpy(audio)\n\u001b[1;32m    143\u001b[0m \u001b[38;5;28;01mif\u001b[39;00m device \u001b[38;5;129;01mis\u001b[39;00m \u001b[38;5;129;01mnot\u001b[39;00m \u001b[38;5;28;01mNone\u001b[39;00m:\n",
      "File \u001b[0;32m~/anaconda3/lib/python3.12/site-packages/whisper/audio.py:60\u001b[0m, in \u001b[0;36mload_audio\u001b[0;34m(file, sr)\u001b[0m\n\u001b[1;32m     58\u001b[0m     out \u001b[38;5;241m=\u001b[39m run(cmd, capture_output\u001b[38;5;241m=\u001b[39m\u001b[38;5;28;01mTrue\u001b[39;00m, check\u001b[38;5;241m=\u001b[39m\u001b[38;5;28;01mTrue\u001b[39;00m)\u001b[38;5;241m.\u001b[39mstdout\n\u001b[1;32m     59\u001b[0m \u001b[38;5;28;01mexcept\u001b[39;00m CalledProcessError \u001b[38;5;28;01mas\u001b[39;00m e:\n\u001b[0;32m---> 60\u001b[0m     \u001b[38;5;28;01mraise\u001b[39;00m \u001b[38;5;167;01mRuntimeError\u001b[39;00m(\u001b[38;5;124mf\u001b[39m\u001b[38;5;124m\"\u001b[39m\u001b[38;5;124mFailed to load audio: \u001b[39m\u001b[38;5;132;01m{\u001b[39;00me\u001b[38;5;241m.\u001b[39mstderr\u001b[38;5;241m.\u001b[39mdecode()\u001b[38;5;132;01m}\u001b[39;00m\u001b[38;5;124m\"\u001b[39m) \u001b[38;5;28;01mfrom\u001b[39;00m \u001b[38;5;21;01me\u001b[39;00m\n\u001b[1;32m     62\u001b[0m \u001b[38;5;28;01mreturn\u001b[39;00m np\u001b[38;5;241m.\u001b[39mfrombuffer(out, np\u001b[38;5;241m.\u001b[39mint16)\u001b[38;5;241m.\u001b[39mflatten()\u001b[38;5;241m.\u001b[39mastype(np\u001b[38;5;241m.\u001b[39mfloat32) \u001b[38;5;241m/\u001b[39m \u001b[38;5;241m32768.0\u001b[39m\n",
      "\u001b[0;31mRuntimeError\u001b[0m: Failed to load audio: ffmpeg version 6.1.1-3ubuntu5 Copyright (c) 2000-2023 the FFmpeg developers\n  built with gcc 13 (Ubuntu 13.2.0-23ubuntu3)\n  configuration: --prefix=/usr --extra-version=3ubuntu5 --toolchain=hardened --libdir=/usr/lib/x86_64-linux-gnu --incdir=/usr/include/x86_64-linux-gnu --arch=amd64 --enable-gpl --disable-stripping --disable-omx --enable-gnutls --enable-libaom --enable-libass --enable-libbs2b --enable-libcaca --enable-libcdio --enable-libcodec2 --enable-libdav1d --enable-libflite --enable-libfontconfig --enable-libfreetype --enable-libfribidi --enable-libglslang --enable-libgme --enable-libgsm --enable-libharfbuzz --enable-libmp3lame --enable-libmysofa --enable-libopenjpeg --enable-libopenmpt --enable-libopus --enable-librubberband --enable-libshine --enable-libsnappy --enable-libsoxr --enable-libspeex --enable-libtheora --enable-libtwolame --enable-libvidstab --enable-libvorbis --enable-libvpx --enable-libwebp --enable-libx265 --enable-libxml2 --enable-libxvid --enable-libzimg --enable-openal --enable-opencl --enable-opengl --disable-sndio --enable-libvpl --disable-libmfx --enable-libdc1394 --enable-libdrm --enable-libiec61883 --enable-chromaprint --enable-frei0r --enable-ladspa --enable-libbluray --enable-libjack --enable-libpulse --enable-librabbitmq --enable-librist --enable-libsrt --enable-libssh --enable-libsvtav1 --enable-libx264 --enable-libzmq --enable-libzvbi --enable-lv2 --enable-sdl2 --enable-libplacebo --enable-librav1e --enable-pocketsphinx --enable-librsvg --enable-libjxl --enable-shared\n  libavutil      58. 29.100 / 58. 29.100\n  libavcodec     60. 31.102 / 60. 31.102\n  libavformat    60. 16.100 / 60. 16.100\n  libavdevice    60.  3.100 / 60.  3.100\n  libavfilter     9. 12.100 /  9. 12.100\n  libswscale      7.  5.100 /  7.  5.100\n  libswresample   4. 12.100 /  4. 12.100\n  libpostproc    57.  3.100 / 57.  3.100\n[in#0 @ 0x59d8a6ebde00] Error opening input: No such file or directory\nError opening input file ./data/FPTOpenSpeechData_Set001_V0.1_000236.mp3.\nError opening input files: No such file or directory\n"
     ]
    }
   ],
   "source": [
    "# Khởi tạo danh sách để lưu kết quả\n",
    "hypotheses = []\n",
    "references = []\n",
    "results = []\n",
    "\n",
    "# Sắp xếp danh sách file theo tên\n",
    "audio_files = sorted([f for f in os.listdir(AUDIO_FOLDER) if f.endswith(\".mp3\")])\n",
    "\n",
    "# Xử lý từng file âm thanh\n",
    "for audio_file in audio_files:\n",
    "    file_path = os.path.join(AUDIO_FOLDER, audio_file)\n",
    "    print(f\"Processing: {audio_file}\")\n",
    "    \n",
    "    # Nhận diện giọng nói\n",
    "    result = model.transcribe(file_path, language=\"vi\")\n",
    "    predicted_text = result[\"text\"].strip().lower()\n",
    "    \n",
    "    # Lưu kết quả nếu có transcript chuẩn\n",
    "    if audio_file in ground_truths:\n",
    "        reference_text = ground_truths[audio_file].strip().lower()\n",
    "        print(f'reference_text - predicted_text: {reference_text} - {predicted_text}')\n",
    "        if reference_text and predicted_text:\n",
    "            references.append(reference_text)\n",
    "            hypotheses.append(predicted_text)\n",
    "    else:\n",
    "        print(f\"Warning: No reference found for {audio_file}\")\n",
    "    \n",
    "    # Ghi kết quả vào danh sách\n",
    "    results.append(f\"{audio_file}|{predicted_text}\")\n",
    "\n",
    "print(\"Xu ly tung file am thanh - end\")"
   ]
  },
  {
   "cell_type": "code",
   "execution_count": null,
   "id": "53097727-224f-4ac1-8ae8-ed8b8a2b0003",
   "metadata": {},
   "outputs": [
    {
     "name": "stdout",
     "output_type": "stream",
     "text": [
      "reference_text: ['cách để đi', 'họ đã xét nghiệm máu cho cheng nhưng mọi thứ vẫn hoàn toàn bình thường', 'anh có thể gọi tôi không', 'có rất nhiều yếu tố may rủi ở đây', 'ai là chúa nói dối', 'có cửa hàng tiện lợi ở sân bay không', 'anh đổi ngoại tệ được không', 'cô ấy mua hai mươi trái chôm chôm và ba con cá', 'đứa bé có ói òng ọc ra sữa hoặc nước và bé chưa đến mười tuần tuổi hoặc có biểu hiện mất nước không', 'tôi có thể viết tên địa chỉ số điện thoại của công ty bảo hiểm của anh được không', 'đừng lo tôi vừa mới đến rồi', 'mười phút nữa vào giờ rưỡi', 'tôi có thể hẹn cho chiều mai không', 'anh rửa hình kỹ thuật số ra được không', 'tôi cố thu xếp thôi', 'tôi không dùng ma túy', 'quân đội mỹ muốn chế tạo những máy tự động hoàn toàn vì những chiếc mà họ đang có vẫn cần được điều khiển bởi con người', 'tôi quên túi đeo vai trong xe tắc xi', 'dư luận đã phản ánh lên cơ quan địa chính của thị trấn nhưng mãi chả thấy hồi âm', 'giả danh làm từ thiện lừa tiền người dân', 'sắm đồ siêu sang ở hội chợ triệu phú', 'nếu làm lộ thiên cơ âm binh sẽ đánh trả thầy', 'máy ném bom chiến lược của nga gặp nạn', 'anh có thích tôi giữ trước quyển sách này cho anh không', 'ở người bị hội chứng khi ăn ngủ phần não phải vẫn thức và sau đó là cả các dạng hoạt động thể chất', 'tỉ lệ là mười mm trên một km', 'tôi muốn thực hiện một cuộc gọi điện thoại quốc tế đi nhật bản cuộc gọi -n là đến tokyo số ba hai chín hai tám hai một một', 'nơi đây hiện khá yên tĩnh', 'nhưng cũng có những bạn nằm khèo ở nhà trùm mềm và khóc nhè', 'chúng ta không thể mua cái nào ở nhật bản', 'cho vừa với số kinh phí hạn hẹp của một bộ phim', 'kịch sến nhiều tập làm tôi oải quá tôi sẽ tắt tv', 'chính vì thế những người phải sống một thời gian dài trong không gian có thể gặp rủi ro', 'thực ra thà không đến nỗi mơ mộng đến mê muội để chẳng hiểu tấm lòng của những người thân thông qua lời khuyên nhủ', 'bán đấu giá mỹ nữ', 'địa chỉ email của tôi là s t e f a n dot m a r t e n s \\\\r\\\\n @ gmx dot de', 'hôm thứ năm ủy ban bầu cử thái lan cho rằng đảng của người thái yêu người thái đã phạm hai luật trong chiến dịch tranh cử vừa qua', 'không thể xem lần vấp ngã ấy là tai', 'cướp bóc trong khi hỏa hoạn', 'một dân tộc từng không có người từ á sang âu -n', 'tết đầu tiên xa việt nam của cháu quả là ý nghĩa', 'trong làng ai cũng quý mến gia đình anh phú', 'xin chào gia đình tanaka', 'anh đã làm rất tệ', 'cô ta nghi ngờ lúc mình say rượu đã bị toán cưỡng bức', 'ông muốn nhãn hiệu bia nào', 'anh có dừng tại khách sạn begin không', 'bật điều hòa nhiệt độ', 'nhiều chàng trai để ý và theo dõi bạn', 'chúng ta hãy tung một đồng tiền để quyết định', 'tôi nghe đĩa cd này được không', 'nguyễn văn vũ vừa tử nạn vì hỗ trợ đuổi bắt tội phạm ngày mười ba tháng một công an xã cẩm trạch huyện cần cẩu cho biết một người lái xe khách hai bảy tuổi đã tử nạn khi giúp một phụ nữ bị bảy tên khống chế cướp tài sản', 'hai con voi này rất hung dữ và phá nát nhiều hoa màu của người dân trong khu vực', 'anh có bị đau do mệt mỏi không', 'bạn có muốn tôi dịch cái này cho bạn không tôi nói tiếng nhật', 'vâng giá sẽ là ba trăm yên', 'và như thế những điều tốt đẹp', 'tăng nhiệt độ lên hai mươi mốt độ', '-n ở sheraton', 'kỳ tích có thể để lại quyền lực bởi một nhà độc tài dầu mỏ nhưng cũng có thể giúp thể chế hóa những phong trào chống mỹ diễn ra tại khu vực trung đông', 'lãnh đạo ngành ô tô mỹ nên từ chức', 'cô ấy biết', 'từng sợi thương li ti kết lại', 'mồ hôi là một trong những phương tiện để cơ thể thải cặn bã ra ngoài', 'ti vi k+ một', 'hiện nay mỗi khi chào hàng các lò rang hạt dưa như tứ hưng duy ký thiên hương', 'nhờ có chúa', 'xe chú rể lăn xuống vực sau tiệc cưới', 'rồi anh đi một chuyến đến khu vực vỉa san hô và thăm viện bảo tàng úc anh có thể tìm hiểu nhiều về nước úc anh cũng có thể có một món quà đẹp tại cảng darling nếu anh muốn mua vài đồ lưu niệm có rất nhiều đồ vật và phụ kiện anh có thể muốn mua', 'đó là chưa kể các thủ đoạn chính trị xã hội khác', 'tôi có vẽ một chút', 'cho tôi mẫu thử được không', 'tôi có ba con gái', 'tôi sẽ ở lại đây', 'người ta cho rằng số khúc gỗ ở dưới đáy bị dính nước bẩn ít thì kỳ kinh sẽ ngắn', 'không một nơi nào lãng mạn và thơ mộng hơn những khu hồ hoang', 'bị hại kháng cáo vì cho rằng các cơ quan tố tụng ở huyện hương khê bỏ lọt người sót tội', 'cuối cùng họ sẽ phải gõ cửa nhờ ông ấy', 'cái giá của một anh hùng', 'bản sao tấm séc khoản tiền vợ chồng nguyễn nhận được', 'nhằm thu hút thêm nhiều nhà đầu tư', 'vui lòng cho ba vé khứ hồi hạng hai', 'anh cần một con tem một đô la ba mươi cent', 'xà lách trộn phó mát mốc xanh và cây óc chó', 'chúng tôi sẽ bồi thường cho anh', 'chỉ xét tuyển hồ sơ không phải thi', 'gần chín nghìn tỉ đồng xây đường sắt đô thị cát linh hà đông', 'bỏ quần vào trong máy giặt', 'trả lời tôi biết', 'đến thời điểm hiện tại ít nhất trong cả nước đã có năm mươi nghìn lao động thất nghiệp', 'anh sẵn sàng gọi món chưa', 'là tác động của nó đến hiệu suất chung của toàn bộ hệ thống điện', 'đã bán rồi', 'chúng tôi có bốn người', 'vẻ đẹp khuôn mặt và bản năng tình dục quan hệ tương hỗ chặt chẽ với nhau', 'hầu bàn của quý khách sẽ là alfredo', 'đầu gối có bị sưng đỏ hoặc cả hai', 'hút thuốc bị hạn chế trong khu vực công cộng', 'chẳng phải là bệnh hiểm nghèo nhưng trĩ vẫn là bệnh gây khó chịu cho bệnh nhân bởi làm cản trở công việc của họ lúc làm việc cũng như lúc ngủ họ vẫn phải lo nghĩ giáo sư nghĩa nói', 'chuyển máy cho ai', 'kết quả lao động của tôi đến đâu thì tác phẩm trả lời', 'khi những chiếc đĩa được dỡ bỏ lũ hà mã cũng chẳng thèm chú ý tới những chiếc nhãn đó nữa', 'không vậy không sao tôi sẽ gọi ông ấy sau cảm ơn', 'có giảm giá cho người cao niên không', 'hãy gọi cảnh sát ngay', 'bắt đầu đếm', 'anh có bị đau do mệt mỏi không', 'lãi suất cho vay cũng đã giảm mạnh theo lãi huy động vốn lãi nhiều vẫn chẳng có người nào gửi cả', 'các nhà khoa học đang tiến thêm một bước', 'cùng chuẩn và ngũ hai đối tượng khác chuyên làm nhiệm vụ đưa người sang trung quốc là nguyễn vũ hải và võ cảnh dũng cùng trú tại bắc giang cũng bị cảnh sát bắt', 'hệ thống phòng ngự tài năng và giàu kinh nghiệm', 'sẽ đủ sức cạnh tranh với nước ngoài', 'giơ tay lên để đồng ý', 'vui lòng trả mười đô la', 'đây là hồi chuông cảnh báo về sự mất an toàn lưới điện trên địa bàn', 'ban đêm bắng cây đa', 'kênh hai ti vi', 'này chúng tôi sắp nhổ neo', 'mở', 'độc giả của tôi muốn hướng tới là sinh viên và trí thức', 'không mở cửa ồ ạt', 'tôi muốn đổi cái này lấy cái màu xanh', 'sống với em anh nhé', 'vừa gọi điện vừa đi lại rất gây hại cho sức khỏe', 'tôi có thể tìm bảng tin ở đâu', 'anh chuẩn bị toa này cho tôi được không', 'đây là địa chỉ của anh', 'anh lắng nghe tôi một phút được không', 'lạm phát tăng là do dự báo yếu kém', 'thịt gà nhồi hỗn hợp băm nhỏ', 'trung tá nguyễn phả lại cán bộ quản giáo trực tiếp buồng số bảy chỗ ở của ông mẫu ông dũng nói kín kẽ cũng là tâm lý của người cải tạo loại án như trường hợp ông dũng', 'kí túc vắng tanh đèn thoát hiểm nhấp nháy chập chờn cứ như trên phim được xem ý', 'mở', 'tốt nhất anh không nên làm nó', 'tôi có thể mua vé ở đâu', 'vậy điều gì ủng hộ ý tưởng táo bạo trên', 'họ sẽ chơi nhiều ca khúc từ bộ phim âm thanh của âm nhạc', 'mã vùng của plymouth là không một bảy năm hai', 'không tôi luôn tỉ mỉ', 'một số trò chơi đòi hỏi các động tác chậm thận trọng hãy từ từ', 'có nên ưu tiên cho các hoạt động bí mật', 'nó là của anh', '-n lỗ mũi hẹp -n có tài kiếm tiền', 'đây là ghi chép cho phí nào', 'tôi bị các triệu chứng viêm phổi', 'còn bao nhiều giờ thì chúng ta sẽ đến new york', 'thị trường chính thức kém sôi động nên thị trường phi tập trung cũng ê ẩm', 'chúng tôi đã thuê căn hộ', 'mở lên', 'cuộc tình đó tồn tại cho tới ngày cô ta -n khối tài sản mà ông giao phó rồi biến mất tăm', 'xin vui lòng hãy sẵn sàng vào lúc chín giờ rưỡi', 'tôi không nghĩ như vậy', 'cách dễ nhất là tìm người khác để yêu', 'hãy tận dụng những gì có sẵn từ thiên nhiên để làm đẹp làn da', 'cô lấy cho tôi cái khăn nào', 'lối đánh tấn công quen thuộc của chị biến mất thay vào đó là những đường bóng yếu ớt', 'tôi có thể có bản đồ đường đi của đảo maui không', 'tôi bị suyễn', 'thành ra càng cổ phần hóa ồ ạt càng bán giá nội bộ ồ ạt trừ phi có sẵn một cơ chế kiểm soát', 'nền tài chính nhật bản phụ thuộc khá lớn vào các chính sách tiền tệ của mỹ', 'anh cất hành lý này cho tôi được không', 'obon nghĩa là gì', 'tăng nhiệt độ lên hai mươi chín độ', 'kênh sáu', 'phờ phạc sau hành trình dài', 'mười hai giờ mười lăm rồi', 'tiêu cực ương ngạnh', 'tuy nhiên hôm qua ông đã phá lệ', 'phát triển', 'cái xác cứ thế khô dần cho đến hôm nay', 'ti vi vtv hai', 'nhóm cho rằng điều đó chứng tỏ phụ nữ tập trung hơn vào ngôn ngữ của sự hài hước', 'phòng quá ồn và tôi không thể ngủ được', 'những lãnh đạo cấp cao đang phải đối mặt với việc giảm lương đến mức nào hiện vẫn chưa rõ', 'xe mỹ từng là biểu tượng giàu sang', 'bữa ăn sinh viên từ lâu đã đơn giản lắm rồi giờ càng đơn giản hơn bao giờ hết', 'bệnh này có thường xảy ra không', 'anh có đang thấy cầu vồng không', 'họ phải đảm bảo có đủ vắc xin và thực hiện các biện pháp cần thiết khác để đối phó với tình hình', 'anh gọi đánh thức tôi lúc bảy giờ sáng mai được không', 'tự đăng cáo phó cho mình', 'anh thích kiểu nào hơn', 'ánh đuốc hắt lên khoanh cổ cụt đỏ hỏn hụt hẫng', 'xin lỗi anh có thể -n lĩnh tiền mặt cái này không', 'cảnh sát biết rằng có một nhóm bí mật hoạt động bất hợp pháp', 'thiết bị còn gửi thông điệp cảnh báo tới người chủ khi pin sắp hết', 'xin vui lòng cứ mang giày', 'tôi không biết chắc là có tai nạn', 'tao nhanh đến mức nào', 'bữa tiệc sống động -n', 'vậy còn yếu tố tinh thần thì sao', 'cái này trên tầng ba', 'chuyến bay của anh khi nào', 'không không phải có bàn trống cho hai người không', 'bán cho tôi một vé hạng hai đến chermarn', 'jerry đây là jack làm ơn gọi cho edith']\n",
      "hypothesis: ['cảm ơn các bạn đã theo dõi và hẹn gặp lại.', 'hãy subscribe cho kênh ghiền mì gõ để không bỏ lỡ những video hấp dẫn', 'hãy subscribe cho kênh ghiền mì gõ để không bỏ lỡ những video hấp dẫn', 'cảm ơn các bạn đã theo dõi và hẹn gặp lại.', 'cảm ơn các bạn đã theo dõi và hẹn gặp lại.', 'cảm ơn các bạn đã theo dõi và hẹn gặp lại.', 'hãy đợi hoài đại được không?', 'cô ấy mua 2 dưới, 2 dung và 3 mắt ạ.', 'hãy subscribe cho kênh ghiền mì gõ để không bỏ lỡ những video hấp dẫn', 'tôi có thể biết tên, địa chỉ, số điện thoại của công ty bảo hiểm của anh được không?', 'tình hào tôi đúng với đến rồi.', '10 phút nữa vào 10.', 'cô có thể hãy tự dùng máy tính.', 'anh vừa hình dị thật sự ra được không?', 'cảm ơn các bạn đã theo dõi và hẹn gặp lại.', 'cảm ơn các bạn đã theo dõi và hẹn gặp lại.', 'các đội mỹ vua thứ tạng hiện nay tự động hoàn toàn dùng những chiếc mà họ đã có để tâm lực điều khiển với con người.', 'cô đơn vị đã bán được cái gì?', 'hãy subscribe cho kênh ghiền mì gõ để không bỏ lỡ những video hấp dẫn', 'rồi đây là từ khuyện lùa tiệc người dân', 'chào tạm biệt.', 'nếu làm lộn, nhưng sao âm binh sẽ đánh trả thầy.', 'hãy đăng ký kênh để ủng hộ kênh của mình nhé.', 'anh có thích tôi giữ chú chuyển sách này cho anh không?', 'hãy subscribe cho kênh ghiền mì gõ để không bỏ lỡ những video hấp dẫn', 'chính tệ là người như mẹ một tương lai.', 'hãy subscribe cho kênh ghiền mì gõ để không bỏ lỡ những video hấp dẫn', 'lời đây hiện tại.', 'chứ cũng có những bạn nằm kèo ở nhà thông môn và ông em', 'chúng ta không sẵn mùi cách nào như vậy.', 'chào tạm biệt.', 'thực sớm nhiều tập được hoài quá, tôi sẽ cắt miếng lấy.', 'chính vì thế, những người phải sống một thời gian dài trong không gian có thể là tùy cho.', 'rát thà không đến nỗi mơ mộng đến mê mùi đánh giữa thấm và buồn những người không có quả thương nữa', 'bác đồng giá đi được.', 'đi ký email của tôi là', 'chào tạm biệt và hẹn gặp lại.', 'chúng tôi xem chẳng có gì.', 'học tập tiêu thảo khác.', 'cảm ơn các bạn đã theo dõi và hẹn gặp lại.', 'tết đầu tiên sang việt nam của cháu quả ai ý nghĩa?', 'trong là hai cụm miếng ngón gia đình thăng cuốn.', 'chào tạm biệt các bạn.', 'chào tạm biệt.', 'hãy subscribe cho kênh ghiền mì gõ để không bỏ lỡ những video hấp dẫn', 'cảm ơn các bạn đã theo dõi và hẹn gặp lại.', 'anh có dừng lại dạng điên không?', 'học viên hoài nghi bảo.', 'nhìn chàng trai để ấy ra theo gỡ cả.', 'cảm ơn các bạn.', 'các bạn có thể nhớ like và share video này để ủng hộ kênh của mình nhé.', 'hãy subscribe cho kênh ghiền mì gõ để không bỏ lỡ những video hấp dẫn', 'hai con voi này rất hôn dữ và bán áp nhiều hoa màu của người dân trong khu vực.', 'anh có bị đau đô nguyệt không?', 'bản gọi của tôi thì cách này cho bạn bầu, tôi đã tự nhập.', 'còn giá trả là 80.000.', 'và như thế thì...', 'các vị thợ lên 21 độ.', 'cảm ơn các bạn đã theo dõi và hẹn gặp lại.', 'chính thức có thể đề lạc trường lực với một nhà đại tài dầu mạc, nhưng cũng có thể giúp thể thuyền hóa những thông thảo của những nhân gia tại khu vực vinh đông.', 'mà là khó khăn. ô tô bị ra tử.', 'hãy subscribe cho kênh ghiền mì gõ để không bỏ lỡ những video hấp dẫn', 'sơn chạy luôn lý tí đó này.', 'bồ hôi là một trong những công việc để cơ thể khả cặp đã đá hoàng.', 'hãy subscribe cho kênh ghiền mì gõ để không bỏ lỡ những video hấp dẫn', 'hiện nay mỗi khi vào hàng các loại đang mặc dư như tử, như thân, như tỉ, như thương.', 'nhưng có thua.', 'ché xé, áp tức chắc kết luận.', 'rồi anh đi một miếng tế phục vừa ra ngô và thăm thêm cả đám ốc. anh có thể tìm hiểu nhiều về nước. anh cũng có thể có một đón quà kè tài tài. tài linh nếu anh muốn mua vài đồ nước miệng. có rất nhiều đồ mặt bạc để anh có thể mua.', 'đó là chư trị các hữu lợi chính trị phạm hồ pháp.', 'tôi có thể nghe thiếu.', 'cảm ơn các bạn đã theo dõi và hẹn gặp lại.', 'hãy subscribe cho kênh ghiền mì gõ để không bỏ lỡ những video hấp dẫn', 'tôi sẽ lại đánh.', 'hãy đăng ký kênh để nhận thêm nhiều video mới nhé.', 'không một nơi nào lãng mạn và thơ mộng hơn những ưu hộ hoá.', 'hãy subscribe cho kênh la la school để không bỏ lỡ những video hấp dẫn', 'cảm ơn các bạn đã theo dõi và hẹn gặp lại.', 'cả giá cũng một ảnh hưởng.', 'cảm ơn các bạn đã theo dõi và hẹn gặp lại.', 'nhằm thu hút thêm nhiều nhà đầu tư.', 'hãy subscribe cho kênh ghiền mì gõ để không bỏ lỡ những video hấp dẫn', 'anh thầm quân tiêm mất đồ ra ra mươi trăm.', 'thầy đưa con mặt cho thằng bà kia cho.', 'chúng tôi sẽ bưu thường cho anh', 'để ý xét để ý mồm xeo thông bài thay.', 'gần chính mình tử đồng, xoay đường sát đôi người, các linh hà đông.', 'hòa, quên sợ không mấy đợt.', 'trả lời tôi biết.', 'đến thời điểm hiện tại, trong cả nước đã có các phương hình lao động thích nghiệp.', 'anh thật chào mọi người.', 'cả cái đạo của nó đến nhịp chung của toàn bộ hệ thống địa.', 'cảm ơn.', 'thôi xong rồi chơi', 'vì vậy không phải là mình có gì quan hệ thương thật với nhau.', 'thông qua của phía khách hàng là othello.', 'đồng hồ có biến tính tòa hoặc là...', 'cảm ơn các bạn đã theo dõi và hẹn gặp lại.', 'cảm giác là bệnh bệnh nào, nhưng chỉ vẫn làm bệnh đầy thật, chỉ cho bệnh nhân về, làm trở công việc hoặc họ. nếu mà người như mong muốn, họ vẫn phải nghe những bài hướng của mình.', 'cảm ơn các bạn đã theo dõi và hẹn gặp lại.', 'hẹn gặp lại các bạn trong những video tiếp theo.', 'chịu!', 'không phải không sao tôi chắc là tôi thích thấu thật hơn.', 'hỏi chàng trả cho người khác điên thôi.', 'hãy bờ cảnh sát ngay.', 'cảm ơn các bạn đã theo dõi và hẹn gặp lại.', 'cảm ơn các bạn đã theo dõi và hẹn gặp lại.', 'lại cho tôi vai cũng đã giảm mạnh theo, lại anh giảm vốn, lại anh nhiều vận dạng tổng hệ nào cũng giảm.', 'các nhà sơ học đang chiến thêm một bước.', 'hãy subscribe cho kênh ghiền mì gõ để không bỏ lỡ những video hấp dẫn', 'thế thức phóng, ai áp, coi dấu đi kìa.', 'sẽ đổ xuất các cặp bên ngoài.', 'cảm ơn các bạn đã theo dõi và hẹn gặp lại.', 'chúng ta chẳng người đủ lắm.', 'đây là hội đu cáo về sự quốc án và ưu định trên địa bàn.', 'cảm ơn các bạn đã theo dõi và hẹn gặp lại.', 'hãy subscribe cho kênh ghiền mì gõ để không bỏ lỡ những video hấp dẫn', 'cảm ơn các bạn đã theo dõi và hẹn gặp lại.', '5', 'của đại mũ hướng', 'hãy subscribe cho kênh ghiền mì gõ để không bỏ lỡ những video hấp dẫn', 'ôi, nhìn kìa, cái này lấy cái màu ra.', 'tạm thời em anh nhé.', 'vừa gọi điện vừa đi lại hết gây hại cho sức khỏe', 'các bạn hãy đăng kí cho kênh lalaschool để không bỏ lỡ những video hấp dẫn', 'anh còn chỉ toán này cho tôi thì không.', 'đây là địa chỉ của anh.', 'anh đánh nghe tôi một phút được không?', 'cảm ơn các bạn đã theo dõi.', 'hiệp gia rồi hồn hợp tâm nhỏ.', 'chúng ta những cả là cán bộ quản giáo thức tiếp vùng số 70 ở của ông mẫu hồ dực nói, những kẻ bức ngạc âm mỹ của người cảnh tạo là hạng như cường hóa công dụng.', 'chị cứ bảo bà bán lên mặt điện thì mất ngay cho trên đường đi. trên đường điện thì...', 'màu', 'các bạn có thể nhớ đăng ký kênh để ủng hộ kênh của mình nhé.', 'cô có thể mua bẹo nữa đâu', 'cảm ơn các bạn đã theo dõi và hẹn gặp lại.', 'họ sẽ chơi nhiều ca phúc từ bộ viết âm thanh của âm nhạc.', 'và vùng của lai mau là 01752', 'cảm ơn.', 'một số tài xứ gọi hỏi tất cả dân thành cộng hòa thông tin.', 'hãy subscribe cho kênh ghiền mì gõ để không bỏ lỡ những video hấp dẫn', 'nói lại quán', 'hãy subscribe cho kênh ghiền mì gõ để không bỏ lỡ những video hấp dẫn', 'cảm ơn các vị khách chào tính mạng.', 'cảm ơn các bạn đã theo dõi và hẹn gặp lại.', 'còn ta như giờ thì chúng ta sẽ đến như đó.', 'cảm ơn các bạn đã theo dõi và hẹn gặp lại.', 'tôi đã thấy con hồ.', 'hãy subscribe cho kênh ghiền mì gõ để không bỏ lỡ những video hấp dẫn', 'cô kỳnh đã trả lời cho tôi, ngày ta trả lời cho các tài sản mà ông đã gọi là tiền bắt lắm.', 'xin hãy đăng ký kênh để ủng hộ kênh của mình nhé.', 'tôi không muốn như vậy.', 'các bạn hãy đăng ký kênh để ủng hộ kênh của mình nhé.', 'hãy tự dụng những gì có tảm thức chiếm để lát đẹp ra.', 'cô hãy cho tôi cái thằng nào.', 'nếu em tính phong quan thuộc của chị biến mất hay vào đó là những lường vóng yếu ớt', 'tôi có thể phỏ bằng được những việc nào đó.', 'cảm ơn các bạn đã theo dõi và hẹn gặp lại.', 'hãy subscribe cho kênh ghiền mì gõ để không bỏ lỡ những video hấp dẫn', 'nên tài chính các bạn phù thuộc khá lớn vào các chính sách địa tài của mỹ.', 'cảm ơn các anh chị rất là lâu', 'ô con ghê là gì?', 'điểm độ lớn 29 độ.', 'chào', 'cảm ơn các bạn đã theo dõi và hẹn gặp lại.', '12h15 rồi.', 'cảm ơn các bạn đã theo dõi và hẹn gặp lại.', 'cảm ơn các bạn đã theo dõi và hẹn gặp lại.', 'hãy subscribe cho kênh ghiền mì gõ để không bỏ lỡ những video hấp dẫn', 'cảm ơn các bạn đã theo dõi và hẹn gặp lại.', 'vtv2', 'hãy đăng ký kênh để ủng hộ kênh của mình nhé.', 'hồng quá ồn tôi không thể ngủ được.', 'những năng lượng cao đăng đường mà kể về thành dương chỉ mức nào vẫn chưa có.', 'sẽ mệnh tương lai biểu tượng râu rá.', 'bữa ăn trên viên tử lâu đã đơn giản lắm rồi, giờ càng đơn giản hơn bao giờ hơn.', 'mặt này có thường sẽ ra không?', 'anh có đem thấy tổ vồn không?', 'hãy subscribe cho kênh ghiền mì gõ để không bỏ lỡ những video hấp dẫn', 'anh gọi đánh thức tôi lúc 7 giờ tháng mai không?', 'cảm ơn các bạn đã theo dõi và hẹn gặp lại.', 'anh hiểu nào không?', 'anh đưa hạt lên quanh cổ cụt đỏ ngon thật thật.', 'xin lỗi, anh có thể thử cùng điện mà trả ngay không?', 'cảm giác biết rằng có một nhân viên mất tài lộc bất phật.', 'hãy subscribe cho kênh ghiền mì gõ để không bỏ lỡ những video hấp dẫn', 'chuyện vui lòng giữ mãi dài.', 'tôi không biết, chắc là họ đã ngạc nhiên.', 'tạo ra những...', 'bữa thì sóng động.', 'quả yêu của tất cả chúng ta', 'để ngay chung tầm 3.', 'hẹn gặp lại các bạn trong những video tiếp theo.', 'cảm ơn các bạn đã theo dõi.', 'và cái tôi một vẻ hài hại để xem ai.', 'chào tạm biệt quý vị và các bạn.']\n",
      "Tính toán WER\n",
      "Word Error Rate (WER): 87.08%\n"
     ]
    }
   ],
   "source": [
    "# Ghi kết quả dự đoán vào file transcript_result.txt\n",
    "with open(RESULT_FILE, \"w\", encoding=\"utf-8\") as f:\n",
    "    f.write(\"\\n\".join(results))\n",
    "\n",
    "print(f\"reference_text: {references}\")\n",
    "print(f\"hypothesis: {hypotheses}\")\n",
    "# Tính toán WER nếu có dữ liệu hợp lệ\n",
    "if references and hypotheses:\n",
    "    print(\"Tính toán WER\")\n",
    "    wer_score = jiwer.wer(references, hypotheses)\n",
    "    print(f\"Word Error Rate (WER): {wer_score:.2%}\")\n",
    "else:\n",
    "    print(\"Không có dữ liệu hợp lệ để tính WER.\")\n"
   ]
  },
  {
   "cell_type": "code",
   "execution_count": null,
   "id": "1ddcd313-c573-45bf-8ac0-1723dc78f059",
   "metadata": {},
   "outputs": [],
   "source": []
  }
 ],
 "metadata": {
  "kernelspec": {
   "display_name": "base",
   "language": "python",
   "name": "python3"
  },
  "language_info": {
   "codemirror_mode": {
    "name": "ipython",
    "version": 3
   },
   "file_extension": ".py",
   "mimetype": "text/x-python",
   "name": "python",
   "nbconvert_exporter": "python",
   "pygments_lexer": "ipython3",
   "version": "3.12.2"
  }
 },
 "nbformat": 4,
 "nbformat_minor": 5
}
