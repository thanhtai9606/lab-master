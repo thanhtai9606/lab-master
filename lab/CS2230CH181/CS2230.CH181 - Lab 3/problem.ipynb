{
 "cells": [
  {
   "cell_type": "code",
   "execution_count": 131,
   "id": "fySIYAXMVTgq",
   "metadata": {
    "colab": {
     "base_uri": "https://localhost:8080/"
    },
    "executionInfo": {
     "elapsed": 4208,
     "status": "ok",
     "timestamp": 1714033265142,
     "user": {
      "displayName": "Vũ Nguyễn Đức",
      "userId": "08568379512742239702"
     },
     "user_tz": -420
    },
    "id": "fySIYAXMVTgq",
    "outputId": "59338561-68cf-4e54-9766-ee824893ebeb"
   },
   "outputs": [
    {
     "name": "stdout",
     "output_type": "stream",
     "text": [
      "2.15.0\n"
     ]
    }
   ],
   "source": [
    "# Kiểm tra phiên bản của thư viện Keras (2.15.0).\n",
    "!python -c 'import keras; print(keras.__version__)'"
   ]
  },
  {
   "cell_type": "markdown",
   "id": "0e58d1bc",
   "metadata": {},
   "source": []
  },
  {
   "cell_type": "markdown",
   "id": "61e257f0-a0ce-4789-9f79-f96d94ca85f0",
   "metadata": {
    "id": "61e257f0-a0ce-4789-9f79-f96d94ca85f0",
    "nbgrader": {
     "grade": false,
     "grade_id": "cell-6736f975e67c30ad",
     "locked": true,
     "schema_version": 3,
     "solution": false,
     "task": false
    },
    "tags": []
   },
   "source": [
    "# MẠNG CONVOLUTIONAL NEURAL NETWORK (CNN)"
   ]
  },
  {
   "cell_type": "markdown",
   "id": "d454249f-474b-48c0-8130-049379e629d4",
   "metadata": {
    "id": "d454249f-474b-48c0-8130-049379e629d4",
    "nbgrader": {
     "grade": false,
     "grade_id": "cell-050a6be3b280ce97",
     "locked": true,
     "schema_version": 3,
     "solution": false,
     "task": false
    },
    "tags": []
   },
   "source": [
    "Bài tập này, ta sẽ tiến hành cài đặt một trong những mạng `CNN` đầu tiên là LeNet. Kiến trúc của mạng LeNet được tóm tắt như sau:\n",
    "\n",
    "![](LeNet.png)"
   ]
  },
  {
   "cell_type": "markdown",
   "id": "7ad3b367-d230-4ed5-a08e-b5515639234a",
   "metadata": {
    "id": "7ad3b367-d230-4ed5-a08e-b5515639234a",
    "nbgrader": {
     "grade": false,
     "grade_id": "cell-6cc039d2bb061e46",
     "locked": true,
     "schema_version": 3,
     "solution": false,
     "task": false
    },
    "tags": []
   },
   "source": [
    "Trong hình trên kiến trúc của mô hình được tóm tắt như sau:\n",
    "\n",
    "**Lớp input**: chứa ảnh đầu vào\n",
    "- Kích thước ảnh của tập MNIST là `28x28`. Do ảnh này là ảnh mức xám (không có màu) nên độ sâu bằng 1.\n",
    "\n",
    "**Lớp convolution C1**: lớp biến đổi đặc trưng đầu tiên, sử dụng phép biến đổi convolution kết hợp với hàm kích hoạt.\n",
    "\n",
    "- Phiên bản năm 1998 Yann Lecun sử dụng `6 filter` kích thước `3x3`, hàm kích hoạt `sigmoid`.\n",
    "\n",
    "**Lớp pooling** hay subsampling S2: lớp làm giảm kích thước chiều không gian (chiều ngang và dọc).\n",
    "- Phiên bản năm 1998 sử dụng filter `AveragePooling` với kích thước à `2x2`.\n",
    "\n",
    "**Lớp convolution C3**: tương tự C1 nhưng số filter nhiều hơn *nhằm tạo ra các **đặc trưng cấp cao** kết hợp từ các đặc trưng cấp thấp trước đó*.\n",
    "- Lớp này sử dụng `16 filter` kích thước `3x3` với hàm kích hoạt `sigmoid`.\n",
    "\n",
    "**Lớp convolution S4**: tương tự như lớp S2.\n",
    "- Ta sử dụng filter `AveragePooling`, kích thước filter là `2x2`.\n",
    "\n",
    "**Lớp fully connected (kết nối đầu đủ) F5**: thực hiện phép nhân tuyến tính kết hợp với hàm kích hoạt. Các lớp F5 trở đi thực hiện chức năng phân loại (classify) đặc trưng đã rút trích từ các bước trước đó.\n",
    "- Phiên bản này sử dụng hàm `sigmoid`. Số neuron output của lớp này là **120 neuron**.\n",
    "- Lưu ý quan trọng: trước lớp F5, ta sẽ có \"bước đệm\" là `Flatten` để biến đặc trưng **từ dạng tensor thành dạng vector**.\n",
    "\n",
    "**Lớp fully connected F6**: tương tự lớp F5.\n",
    "- Số neuron output của lớp này là **84 neuron**, hàm kích hoạt `sigmoid`.\n",
    "\n",
    "**Lớp output**: Tương tự như F5.\n",
    "- Số neuron output của lớp này là **10 neuron**, sử dụng hàm `softmax` để đưa đặc trưng về không gian xác suất của các lớp đối tượng cần phân loại.\n",
    "\n",
    "Bắt đầu tiến hành cài đặt thôi!"
   ]
  },
  {
   "cell_type": "markdown",
   "id": "79eba6e4-47be-4e0b-afb5-48d886f902ab",
   "metadata": {
    "id": "79eba6e4-47be-4e0b-afb5-48d886f902ab",
    "nbgrader": {
     "grade": false,
     "grade_id": "cell-1812041c5720e9b5",
     "locked": true,
     "schema_version": 3,
     "solution": false,
     "task": false
    },
    "tags": []
   },
   "source": [
    "## 1. Chuẩn bị dữ liệu huấn luyện\n",
    "Đầu tiên, ta sẽ sử dụng tập dữ liệu MNIST cho bài tập này. Trong `keras.datasets` có rất nhiều dữ liệu được đóng gói và chuẩn bị sẵn như `MNIST`, `CIFAR`, `Fashion MNIST`. Trong bài tập này, ta sẽ sử dụng tập dữ liệu `MNIST`:"
   ]
  },
  {
   "cell_type": "code",
   "execution_count": 132,
   "id": "0e2e1340-928e-4831-8e65-cf2f6bb97f40",
   "metadata": {
    "colab": {
     "base_uri": "https://localhost:8080/"
    },
    "executionInfo": {
     "elapsed": 6235,
     "status": "ok",
     "timestamp": 1714033271375,
     "user": {
      "displayName": "Vũ Nguyễn Đức",
      "userId": "08568379512742239702"
     },
     "user_tz": -420
    },
    "id": "0e2e1340-928e-4831-8e65-cf2f6bb97f40",
    "nbgrader": {
     "grade": false,
     "grade_id": "cell-331969f8fc0b9ac8",
     "locked": true,
     "schema_version": 3,
     "solution": false,
     "task": false
    },
    "outputId": "060dbffb-1334-4c8b-d540-002992f6f3b6",
    "tags": []
   },
   "outputs": [
    {
     "name": "stdout",
     "output_type": "stream",
     "text": [
      "Thông tin kích thước các biến trên: \n",
      "(60000, 28, 28)\n",
      "(60000,)\n",
      "(10000, 28, 28)\n",
      "(10000,)\n"
     ]
    }
   ],
   "source": [
    "from keras.datasets import mnist\n",
    "import numpy as np\n",
    "import tensorflow as tf\n",
    "\n",
    "\n",
    "def fix_random_seed():\n",
    "    np.random.seed(1)\n",
    "    tf.random.set_seed(1)\n",
    "\n",
    "(x_train, y_train), (x_test, y_test) = mnist.load_data()\n",
    "\n",
    "print(\"Thông tin kích thước các biến trên: \")\n",
    "print(x_train.shape)\n",
    "print(y_train.shape)\n",
    "print(x_test.shape)\n",
    "print(y_test.shape)"
   ]
  },
  {
   "cell_type": "code",
   "execution_count": 133,
   "id": "e74456d2-2311-43da-a5d8-3c78a486ba73",
   "metadata": {
    "colab": {
     "base_uri": "https://localhost:8080/"
    },
    "executionInfo": {
     "elapsed": 8,
     "status": "ok",
     "timestamp": 1714033271376,
     "user": {
      "displayName": "Vũ Nguyễn Đức",
      "userId": "08568379512742239702"
     },
     "user_tz": -420
    },
    "id": "e74456d2-2311-43da-a5d8-3c78a486ba73",
    "nbgrader": {
     "grade": false,
     "grade_id": "cell-6603da2a0f4da64e",
     "locked": true,
     "schema_version": 3,
     "solution": false,
     "task": false
    },
    "outputId": "8d6aece2-860c-4770-c7ce-5ecc12484be7",
    "tags": []
   },
   "outputs": [
    {
     "name": "stdout",
     "output_type": "stream",
     "text": [
      "Ý nghĩa kích thước các biến trên: \n",
      "Số mẫu train: 60000 mẫu\n",
      "Số mẫu test: 10000 mẫu\n",
      "Kích thước ảnh đầu vào:  (28, 28)\n"
     ]
    }
   ],
   "source": [
    "print('Ý nghĩa kích thước các biến trên: ')\n",
    "print('Số mẫu train: {} mẫu'.format(x_train.shape[0]))\n",
    "print('Số mẫu test: {} mẫu'.format(x_test.shape[0]))\n",
    "print('Kích thước ảnh đầu vào: ', x_train.shape[1:])"
   ]
  },
  {
   "cell_type": "code",
   "execution_count": 134,
   "id": "7d63350c-3085-4e7a-9771-8c9425a3f49f",
   "metadata": {
    "colab": {
     "base_uri": "https://localhost:8080/",
     "height": 467
    },
    "executionInfo": {
     "elapsed": 586,
     "status": "ok",
     "timestamp": 1714033271958,
     "user": {
      "displayName": "Vũ Nguyễn Đức",
      "userId": "08568379512742239702"
     },
     "user_tz": -420
    },
    "id": "7d63350c-3085-4e7a-9771-8c9425a3f49f",
    "nbgrader": {
     "grade": false,
     "grade_id": "cell-e35d149b69abc143",
     "locked": true,
     "schema_version": 3,
     "solution": false,
     "task": false
    },
    "outputId": "99dd8836-a1d7-4cf9-8490-796159f4c970",
    "tags": []
   },
   "outputs": [
    {
     "data": {
      "image/png": "[encoded data removed]",
      "text/plain": [
       "<Figure size 640x480 with 1 Axes>"
      ]
     },
     "metadata": {},
     "output_type": "display_data"
    },
    {
     "name": "stdout",
     "output_type": "stream",
     "text": [
      "Nhãn (label) của ground-truth:  3\n"
     ]
    }
   ],
   "source": [
    "# Code block này hiển thị một mẫu dữ liệu train.\n",
    "# Đây là việc NÊN LÀM khi bắt đầu với bất kỳ dữ liệu nào\n",
    "# Ở đây ta sẽ load mẫu dữ liệu thứ 1234. Các bạn có thể thay đổi giá trị này tùy ý\n",
    "import matplotlib.pyplot as plt\n",
    "\n",
    "sample_id = 1234\n",
    "plt.imshow(x_train[sample_id])\n",
    "plt.show()\n",
    "print('Nhãn (label) của ground-truth: ', y_train[sample_id])"
   ]
  },
  {
   "cell_type": "markdown",
   "id": "225d242e-d010-4f65-9030-97fc722a21a9",
   "metadata": {
    "id": "225d242e-d010-4f65-9030-97fc722a21a9",
    "nbgrader": {
     "grade": false,
     "grade_id": "cell-c1c769fbbbafaa90",
     "locked": true,
     "schema_version": 3,
     "solution": false,
     "task": false
    },
    "tags": []
   },
   "source": [
    "## 2. Tiền xử lý dữ liệu\n",
    "Việc chuẩn hóa dữ liệu bao gồm hai nhóm công việc chính:\n",
    "* Đối với output `y`: chuyển đổi **từ dạng nhãn (label) sang dạng one-hot encoding**.\n",
    "* Đối với input `x`: chuẩn hóa các giá trị mức sáng **từ [0-255] về đoạn [0-1]**. Bước này cải tiến tốc độ huấn luyện một cách đáng kể."
   ]
  },
  {
   "cell_type": "code",
   "execution_count": 135,
   "id": "8af7bbc2-4055-4618-99c7-dc0b0c1a459f",
   "metadata": {
    "executionInfo": {
     "elapsed": 5,
     "status": "ok",
     "timestamp": 1714033271958,
     "user": {
      "displayName": "Vũ Nguyễn Đức",
      "userId": "08568379512742239702"
     },
     "user_tz": -420
    },
    "id": "8af7bbc2-4055-4618-99c7-dc0b0c1a459f",
    "nbgrader": {
     "grade": false,
     "grade_id": "cell-f5b6fa2eccd42071",
     "locked": true,
     "schema_version": 3,
     "solution": false,
     "task": false
    },
    "tags": []
   },
   "outputs": [],
   "source": [
    "# Hàm này được sử dụng để chuyển đổi output từ dạng\n",
    "# nhãn sang dạng one-hot vector\n",
    "def onehot(y):\n",
    "    oh = np.zeros((y.shape[0], 10))\n",
    "    for i in range(y.shape[0]):\n",
    "        oh[i, int(y[i])]=1\n",
    "    return oh"
   ]
  },
  {
   "cell_type": "code",
   "execution_count": 136,
   "id": "91de17a1-3122-4360-9a29-b12088db0121",
   "metadata": {
    "executionInfo": {
     "elapsed": 1339,
     "status": "ok",
     "timestamp": 1714033273293,
     "user": {
      "displayName": "Vũ Nguyễn Đức",
      "userId": "08568379512742239702"
     },
     "user_tz": -420
    },
    "id": "91de17a1-3122-4360-9a29-b12088db0121",
    "nbgrader": {
     "grade": false,
     "grade_id": "cell-fa08d97ef14a7f0e",
     "locked": true,
     "schema_version": 3,
     "solution": false,
     "task": false
    },
    "tags": []
   },
   "outputs": [],
   "source": [
    "from sklearn import preprocessing\n",
    "import numpy as np\n",
    "\n",
    "# Chuyển đổi từ dạng label sang dạng one-hot encoding\n",
    "y_train_oh = onehot(y_train)\n",
    "y_train_oh.shape\n",
    "\n",
    "y_test_oh = onehot(y_test)\n",
    "y_test_oh.shape\n",
    "\n",
    "# Chuẩn hóa ảnh đầu vào về [0-1]\n",
    "x_train_norm = x_train / 255.0\n",
    "x_test_norm = x_test / 255.0"
   ]
  },
  {
   "cell_type": "code",
   "execution_count": 137,
   "id": "a2389d65-c9b4-4623-9b9a-0cee90dad63d",
   "metadata": {
    "colab": {
     "base_uri": "https://localhost:8080/"
    },
    "executionInfo": {
     "elapsed": 16,
     "status": "ok",
     "timestamp": 1714033273293,
     "user": {
      "displayName": "Vũ Nguyễn Đức",
      "userId": "08568379512742239702"
     },
     "user_tz": -420
    },
    "id": "a2389d65-c9b4-4623-9b9a-0cee90dad63d",
    "nbgrader": {
     "grade": false,
     "grade_id": "cell-0e0243e7b32f48af",
     "locked": true,
     "schema_version": 3,
     "solution": false,
     "task": false
    },
    "outputId": "49fc7faa-f92a-4146-f697-bb06e7293ced",
    "tags": []
   },
   "outputs": [
    {
     "name": "stdout",
     "output_type": "stream",
     "text": [
      "`y` TRƯỚC khi biến đổi:  0\n",
      "`y` SAU khi biến đổi:  [1. 0. 0. 0. 0. 0. 0. 0. 0. 0.]\n"
     ]
    }
   ],
   "source": [
    "# Các bạn có thể xem dữ liệu trước và sau khi tiền xử lý\n",
    "# Các bạn có thể thay đổi sample_id bằng số tùy ý\n",
    "sample_id = 4321\n",
    "\n",
    "print(\"`y` TRƯỚC khi biến đổi: \", y_train[sample_id])\n",
    "print(\"`y` SAU khi biến đổi: \", y_train_oh[sample_id])"
   ]
  },
  {
   "cell_type": "code",
   "execution_count": 138,
   "id": "a9968f6d-0861-407a-9968-8e1b9fc5cc88",
   "metadata": {
    "colab": {
     "base_uri": "https://localhost:8080/"
    },
    "executionInfo": {
     "elapsed": 14,
     "status": "ok",
     "timestamp": 1714033273293,
     "user": {
      "displayName": "Vũ Nguyễn Đức",
      "userId": "08568379512742239702"
     },
     "user_tz": -420
    },
    "id": "a9968f6d-0861-407a-9968-8e1b9fc5cc88",
    "nbgrader": {
     "grade": false,
     "grade_id": "cell-62a5bd0ec9e5d722",
     "locked": true,
     "schema_version": 3,
     "solution": false,
     "task": false
    },
    "outputId": "16ef88aa-001c-46ba-ff9c-f60f6bf52415",
    "tags": []
   },
   "outputs": [
    {
     "name": "stdout",
     "output_type": "stream",
     "text": [
      "`x` TRƯỚC khi biến đổi:  [[  0   0   0   0   0   0   0   0   0   0   0   0   0   0   0   0   0   0\n",
      "    0   0   0   0   0   0   0   0   0   0]\n",
      " [  0   0   0   0   0   0   0   0   0   0   0   0   0   0   0   0   0   0\n",
      "    0   0   0   0   0   0   0   0   0   0]\n",
      " [  0   0   0   0   0   0   0   0   0   0   0   0   0   0   0   0   0   0\n",
      "    0   0   0   0   0   0   0   0   0   0]\n",
      " [  0   0   0   0   0   0   0   0   0   0   0   0   0   0   0   0   0   0\n",
      "    0   0   0   0   0   0   0   0   0   0]\n",
      " [  0   0   0   0   0   0   0   0   0   0   0   0   0   0   0   0   0   0\n",
      "   48 191 255 203   7   0   0   0   0   0]\n",
      " [  0   0   0   0   0   0   0   0   0   0   0   0   0   0   0   0   7  57\n",
      "  172 252 247 196  43   0   0   0   0   0]\n",
      " [  0   0   0   0   0   0   0   0   0   0   0   0   0   0   0   0 104 252\n",
      "  252 252  50   0   0   0   0   0   0   0]\n",
      " [  0   0   0   0   0   0   0   0   0   0   0   0   0   0   0 201 253 252\n",
      "  252 202  51   0   0   0   0   0   0   0]\n",
      " [  0   0   0   0   0   0   0   0   0   0   0   0   0  26 223 253 254 234\n",
      "  235 253 179  10   0   0   0   0   0   0]\n",
      " [  0   0   0   0   0   0   0   0   0   0   0   0  45 169 234 227 134  28\n",
      "   66 246 253  84   0   0   0   0   0   0]\n",
      " [  0   0   0   0   0   0   0   0   0   0   0  38 229 252 252 103   0   0\n",
      "    0 187 253 171   0   0   0   0   0   0]\n",
      " [  0   0   0   0   0   0   0   0   0   0   0 163 253 252 164  15   0   0\n",
      "    0  63 253 246 100   0   0   0   0   0]\n",
      " [  0   0   0   0   0   0   0   0   0   7 204 253 239  88   0   0   0   0\n",
      "    0  51 242 253  56   0   0   0   0   0]\n",
      " [  0   0   0   0   0   0   0   0   7 150 252 252 125   0   0   0   0   0\n",
      "    0   0 216 252  56   0   0   0   0   0]\n",
      " [  0   0   0   0   0   0   0   0  29 252 252 164   0   0   0   0   0   0\n",
      "    0   0 253 252  94   0   0   0   0   0]\n",
      " [  0   0   0   0   0   0   0   0 229 252 214  28   0   0   0   0   0   0\n",
      "    0  51 253 252  68   0   0   0   0   0]\n",
      " [  0   0   0   0   0   0   0 176 254 222  25   0   0   0   0   0   0   0\n",
      "   48 241 254 134   0   0   0   0   0   0]\n",
      " [  0   0   0   0   0   0  82 243 247 103   0   0   0   0   0   0   7  57\n",
      "  172 252 222  65   0   0   0   0   0   0]\n",
      " [  0   0   0   0   0   0 147 252 225   0   0   0   0   0   0   0  66 252\n",
      "  252 252  76   0   0   0   0   0   0   0]\n",
      " [  0   0   0   0   0   0 197 252 125   0   0   0   0   0  38 163 241 252\n",
      "  214  90   0   0   0   0   0   0   0   0]\n",
      " [  0   0   0   0   0  57 253 253  63   0   0  13  29 104 178 253 251 150\n",
      "   25   0   0   0   0   0   0   0   0   0]\n",
      " [  0   0   0   0   0  95 240 252 156 169 169 206 253 252 252 252  75   0\n",
      "    0   0   0   0   0   0   0   0   0   0]\n",
      " [  0   0   0   0   0   0 197 252 253 252 252 252 244 168 130  56   0   0\n",
      "    0   0   0   0   0   0   0   0   0   0]\n",
      " [  0   0   0   0   0   0  59 190 253 252 252 151  25   0   0   0   0   0\n",
      "    0   0   0   0   0   0   0   0   0   0]\n",
      " [  0   0   0   0   0   0   0   0   0   0   0   0   0   0   0   0   0   0\n",
      "    0   0   0   0   0   0   0   0   0   0]\n",
      " [  0   0   0   0   0   0   0   0   0   0   0   0   0   0   0   0   0   0\n",
      "    0   0   0   0   0   0   0   0   0   0]\n",
      " [  0   0   0   0   0   0   0   0   0   0   0   0   0   0   0   0   0   0\n",
      "    0   0   0   0   0   0   0   0   0   0]\n",
      " [  0   0   0   0   0   0   0   0   0   0   0   0   0   0   0   0   0   0\n",
      "    0   0   0   0   0   0   0   0   0   0]]\n",
      "`x` SAU khi biến đổi:  [[0.         0.         0.         0.         0.         0.\n",
      "  0.         0.         0.         0.         0.         0.\n",
      "  0.         0.         0.         0.         0.         0.\n",
      "  0.         0.         0.         0.         0.         0.\n",
      "  0.         0.         0.         0.        ]\n",
      " [0.         0.         0.         0.         0.         0.\n",
      "  0.         0.         0.         0.         0.         0.\n",
      "  0.         0.         0.         0.         0.         0.\n",
      "  0.         0.         0.         0.         0.         0.\n",
      "  0.         0.         0.         0.        ]\n",
      " [0.         0.         0.         0.         0.         0.\n",
      "  0.         0.         0.         0.         0.         0.\n",
      "  0.         0.         0.         0.         0.         0.\n",
      "  0.         0.         0.         0.         0.         0.\n",
      "  0.         0.         0.         0.        ]\n",
      " [0.         0.         0.         0.         0.         0.\n",
      "  0.         0.         0.         0.         0.         0.\n",
      "  0.         0.         0.         0.         0.         0.\n",
      "  0.         0.         0.         0.         0.         0.\n",
      "  0.         0.         0.         0.        ]\n",
      " [0.         0.         0.         0.         0.         0.\n",
      "  0.         0.         0.         0.         0.         0.\n",
      "  0.         0.         0.         0.         0.         0.\n",
      "  0.18823529 0.74901961 1.         0.79607843 0.02745098 0.\n",
      "  0.         0.         0.         0.        ]\n",
      " [0.         0.         0.         0.         0.         0.\n",
      "  0.         0.         0.         0.         0.         0.\n",
      "  0.         0.         0.         0.         0.02745098 0.22352941\n",
      "  0.6745098  0.98823529 0.96862745 0.76862745 0.16862745 0.\n",
      "  0.         0.         0.         0.        ]\n",
      " [0.         0.         0.         0.         0.         0.\n",
      "  0.         0.         0.         0.         0.         0.\n",
      "  0.         0.         0.         0.         0.40784314 0.98823529\n",
      "  0.98823529 0.98823529 0.19607843 0.         0.         0.\n",
      "  0.         0.         0.         0.        ]\n",
      " [0.         0.         0.         0.         0.         0.\n",
      "  0.         0.         0.         0.         0.         0.\n",
      "  0.         0.         0.         0.78823529 0.99215686 0.98823529\n",
      "  0.98823529 0.79215686 0.2        0.         0.         0.\n",
      "  0.         0.         0.         0.        ]\n",
      " [0.         0.         0.         0.         0.         0.\n",
      "  0.         0.         0.         0.         0.         0.\n",
      "  0.         0.10196078 0.8745098  0.99215686 0.99607843 0.91764706\n",
      "  0.92156863 0.99215686 0.70196078 0.03921569 0.         0.\n",
      "  0.         0.         0.         0.        ]\n",
      " [0.         0.         0.         0.         0.         0.\n",
      "  0.         0.         0.         0.         0.         0.\n",
      "  0.17647059 0.6627451  0.91764706 0.89019608 0.5254902  0.10980392\n",
      "  0.25882353 0.96470588 0.99215686 0.32941176 0.         0.\n",
      "  0.         0.         0.         0.        ]\n",
      " [0.         0.         0.         0.         0.         0.\n",
      "  0.         0.         0.         0.         0.         0.14901961\n",
      "  0.89803922 0.98823529 0.98823529 0.40392157 0.         0.\n",
      "  0.         0.73333333 0.99215686 0.67058824 0.         0.\n",
      "  0.         0.         0.         0.        ]\n",
      " [0.         0.         0.         0.         0.         0.\n",
      "  0.         0.         0.         0.         0.         0.63921569\n",
      "  0.99215686 0.98823529 0.64313725 0.05882353 0.         0.\n",
      "  0.         0.24705882 0.99215686 0.96470588 0.39215686 0.\n",
      "  0.         0.         0.         0.        ]\n",
      " [0.         0.         0.         0.         0.         0.\n",
      "  0.         0.         0.         0.02745098 0.8        0.99215686\n",
      "  0.9372549  0.34509804 0.         0.         0.         0.\n",
      "  0.         0.2        0.94901961 0.99215686 0.21960784 0.\n",
      "  0.         0.         0.         0.        ]\n",
      " [0.         0.         0.         0.         0.         0.\n",
      "  0.         0.         0.02745098 0.58823529 0.98823529 0.98823529\n",
      "  0.49019608 0.         0.         0.         0.         0.\n",
      "  0.         0.         0.84705882 0.98823529 0.21960784 0.\n",
      "  0.         0.         0.         0.        ]\n",
      " [0.         0.         0.         0.         0.         0.\n",
      "  0.         0.         0.11372549 0.98823529 0.98823529 0.64313725\n",
      "  0.         0.         0.         0.         0.         0.\n",
      "  0.         0.         0.99215686 0.98823529 0.36862745 0.\n",
      "  0.         0.         0.         0.        ]\n",
      " [0.         0.         0.         0.         0.         0.\n",
      "  0.         0.         0.89803922 0.98823529 0.83921569 0.10980392\n",
      "  0.         0.         0.         0.         0.         0.\n",
      "  0.         0.2        0.99215686 0.98823529 0.26666667 0.\n",
      "  0.         0.         0.         0.        ]\n",
      " [0.         0.         0.         0.         0.         0.\n",
      "  0.         0.69019608 0.99607843 0.87058824 0.09803922 0.\n",
      "  0.         0.         0.         0.         0.         0.\n",
      "  0.18823529 0.94509804 0.99607843 0.5254902  0.         0.\n",
      "  0.         0.         0.         0.        ]\n",
      " [0.         0.         0.         0.         0.         0.\n",
      "  0.32156863 0.95294118 0.96862745 0.40392157 0.         0.\n",
      "  0.         0.         0.         0.         0.02745098 0.22352941\n",
      "  0.6745098  0.98823529 0.87058824 0.25490196 0.         0.\n",
      "  0.         0.         0.         0.        ]\n",
      " [0.         0.         0.         0.         0.         0.\n",
      "  0.57647059 0.98823529 0.88235294 0.         0.         0.\n",
      "  0.         0.         0.         0.         0.25882353 0.98823529\n",
      "  0.98823529 0.98823529 0.29803922 0.         0.         0.\n",
      "  0.         0.         0.         0.        ]\n",
      " [0.         0.         0.         0.         0.         0.\n",
      "  0.77254902 0.98823529 0.49019608 0.         0.         0.\n",
      "  0.         0.         0.14901961 0.63921569 0.94509804 0.98823529\n",
      "  0.83921569 0.35294118 0.         0.         0.         0.\n",
      "  0.         0.         0.         0.        ]\n",
      " [0.         0.         0.         0.         0.         0.22352941\n",
      "  0.99215686 0.99215686 0.24705882 0.         0.         0.05098039\n",
      "  0.11372549 0.40784314 0.69803922 0.99215686 0.98431373 0.58823529\n",
      "  0.09803922 0.         0.         0.         0.         0.\n",
      "  0.         0.         0.         0.        ]\n",
      " [0.         0.         0.         0.         0.         0.37254902\n",
      "  0.94117647 0.98823529 0.61176471 0.6627451  0.6627451  0.80784314\n",
      "  0.99215686 0.98823529 0.98823529 0.98823529 0.29411765 0.\n",
      "  0.         0.         0.         0.         0.         0.\n",
      "  0.         0.         0.         0.        ]\n",
      " [0.         0.         0.         0.         0.         0.\n",
      "  0.77254902 0.98823529 0.99215686 0.98823529 0.98823529 0.98823529\n",
      "  0.95686275 0.65882353 0.50980392 0.21960784 0.         0.\n",
      "  0.         0.         0.         0.         0.         0.\n",
      "  0.         0.         0.         0.        ]\n",
      " [0.         0.         0.         0.         0.         0.\n",
      "  0.23137255 0.74509804 0.99215686 0.98823529 0.98823529 0.59215686\n",
      "  0.09803922 0.         0.         0.         0.         0.\n",
      "  0.         0.         0.         0.         0.         0.\n",
      "  0.         0.         0.         0.        ]\n",
      " [0.         0.         0.         0.         0.         0.\n",
      "  0.         0.         0.         0.         0.         0.\n",
      "  0.         0.         0.         0.         0.         0.\n",
      "  0.         0.         0.         0.         0.         0.\n",
      "  0.         0.         0.         0.        ]\n",
      " [0.         0.         0.         0.         0.         0.\n",
      "  0.         0.         0.         0.         0.         0.\n",
      "  0.         0.         0.         0.         0.         0.\n",
      "  0.         0.         0.         0.         0.         0.\n",
      "  0.         0.         0.         0.        ]\n",
      " [0.         0.         0.         0.         0.         0.\n",
      "  0.         0.         0.         0.         0.         0.\n",
      "  0.         0.         0.         0.         0.         0.\n",
      "  0.         0.         0.         0.         0.         0.\n",
      "  0.         0.         0.         0.        ]\n",
      " [0.         0.         0.         0.         0.         0.\n",
      "  0.         0.         0.         0.         0.         0.\n",
      "  0.         0.         0.         0.         0.         0.\n",
      "  0.         0.         0.         0.         0.         0.\n",
      "  0.         0.         0.         0.        ]]\n"
     ]
    }
   ],
   "source": [
    "print(\"`x` TRƯỚC khi biến đổi: \", x_train[sample_id])\n",
    "print(\"`x` SAU khi biến đổi: \", x_train_norm[sample_id])"
   ]
  },
  {
   "cell_type": "markdown",
   "id": "f17333bc-8585-406e-a1ee-79c03d2a2d03",
   "metadata": {
    "id": "f17333bc-8585-406e-a1ee-79c03d2a2d03",
    "nbgrader": {
     "grade": false,
     "grade_id": "cell-4f9fcd48b0721ed1",
     "locked": true,
     "schema_version": 3,
     "solution": false,
     "task": false
    },
    "tags": []
   },
   "source": [
    "## 3. Cài đặt mạng CNN với kiến trúc LeNet"
   ]
  },
  {
   "cell_type": "markdown",
   "id": "c4b2f1f8-90f2-4952-8ba1-b6cbaa60dc2e",
   "metadata": {
    "id": "c4b2f1f8-90f2-4952-8ba1-b6cbaa60dc2e",
    "nbgrader": {
     "grade": false,
     "grade_id": "cell-ba60168f1c07967f",
     "locked": true,
     "schema_version": 3,
     "solution": false,
     "task": false
    },
    "tags": []
   },
   "source": [
    "Import các thư viện Keras phục vụ cho việc cài đặt mô hình:\n",
    "\n",
    "Đầu tiên, ta sẽ import các thư viện, module, hàm của `Keras`:\n",
    "- `Input`: để nhận dữ liệu đầu vào cho mô hình\n",
    "- `Conv2D`: biến đổi Convolution với activation\n",
    "- `AveragePooling2D`: giảm kích thước đặc trưng\n",
    "- `Dense`: hay còn gọi là lớp Fully Connected (Lớp kết nối đầy đủ), một thành phần quan trọng của các mô hình dựa trên mạng Neural Network.\n",
    "- `Model`: đây là lớp đối tượng mô hình được sử dụng để đóng gói lớp đầu vào, đầu ra, sau đó huấn luyện với phương thức `fit` và dự đoán kết quả với `predict`.\n",
    "- `load_model`: hàm sử dụng để load mô hình lên từ file"
   ]
  },
  {
   "cell_type": "code",
   "execution_count": 139,
   "id": "5173f06c-248a-4543-a739-6fc16133965b",
   "metadata": {
    "executionInfo": {
     "elapsed": 4,
     "status": "ok",
     "timestamp": 1714033273293,
     "user": {
      "displayName": "Vũ Nguyễn Đức",
      "userId": "08568379512742239702"
     },
     "user_tz": -420
    },
    "id": "5173f06c-248a-4543-a739-6fc16133965b",
    "nbgrader": {
     "grade": false,
     "grade_id": "cell-41738a4f2aff4901",
     "locked": true,
     "schema_version": 3,
     "solution": false,
     "task": false
    },
    "tags": []
   },
   "outputs": [],
   "source": [
    "from keras.layers import Input, Dense, Conv2D, AveragePooling2D, Flatten\n",
    "from keras.models import load_model, Model\n",
    "import keras"
   ]
  },
  {
   "cell_type": "code",
   "execution_count": 140,
   "id": "a396f301-3bbf-40f3-a727-5cdae2c8f28a",
   "metadata": {
    "executionInfo": {
     "elapsed": 562,
     "status": "ok",
     "timestamp": 1714033273852,
     "user": {
      "displayName": "Vũ Nguyễn Đức",
      "userId": "08568379512742239702"
     },
     "user_tz": -420
    },
    "id": "a396f301-3bbf-40f3-a727-5cdae2c8f28a",
    "nbgrader": {
     "grade": false,
     "grade_id": "cell-7235847a9f5cd5b3",
     "locked": true,
     "schema_version": 3,
     "solution": false,
     "task": false
    },
    "tags": []
   },
   "outputs": [],
   "source": [
    "class LeNetCNN:\n",
    "    # constructor\n",
    "    def __init__(self):\n",
    "        self.model = None\n",
    "\n",
    "    # Định nghĩa kiến trúc của mô hình\n",
    "    def build(self, input_dim):\n",
    "        input = Input(shape=input_dim)  # input\n",
    "\n",
    "        # Bước rút trích đặc trưng\n",
    "        C1 = Conv2D(6, (3, 3), padding=\"same\", activation=\"sigmoid\")(input)\n",
    "        S2 = AveragePooling2D(pool_size=(2, 2), padding=\"same\")(C1)\n",
    "        C3 = Conv2D(16, (3, 3), padding=\"same\", activation=\"sigmoid\")(S2)\n",
    "        S4 = AveragePooling2D(pool_size=(2, 2), padding=\"same\")(C3)\n",
    "        # Bước trung gian chuyển từ tensor sang vector\n",
    "        flat = Flatten()(S4)\n",
    "        # Bước phân loại đặc trưng bước trước\n",
    "        F5 = Dense(120, activation=\"sigmoid\", use_bias=True)(flat)\n",
    "        F6 = Dense(84, activation=\"sigmoid\", use_bias=True)(F5)\n",
    "        output = Dense(10, activation=\"softmax\", use_bias=True)(F6)  # y~ output\n",
    "\n",
    "        self.model = Model(input, output)\n",
    "\n",
    "    # Huấn luyện mô hình\n",
    "    def train(\n",
    "        self, x_train, y_train\n",
    "    ):  # x_train chinh la X, y_train chinh la ground-truth\n",
    "        adam = keras.optimizers.Adam(learning_rate=0.01)\n",
    "        self.model.compile(\n",
    "            optimizer=adam, loss=\"categorical_crossentropy\", metrics=[\"accuracy\"]\n",
    "        )\n",
    "        self.model.fit(x_train, y_train, epochs=10, batch_size=128)\n",
    "\n",
    "    # Load mô hình từ file\n",
    "    def load(self, model_file):\n",
    "        self.model = load_model(model_file)\n",
    "\n",
    "    # Lưu mô hình hiện tại xuống file\n",
    "    def save(self, model_file):\n",
    "        self.model.save(model_file)\n",
    "\n",
    "    # Tóm tắt kiến trúc mạng\n",
    "    def summary(self):\n",
    "        self.model.summary()\n",
    "\n",
    "    # Thử nghiệm mô hình với dữ liệu ảnh đầu vào\n",
    "    def predict(self, x_test):\n",
    "        return self.model.predict(x_test)\n",
    "\n",
    "    # Đánh giá trên tập dữ liệu test\n",
    "    def predict_and_eval(self, x_test_norm, y_test):\n",
    "        # Predict trên tập dữ liệu test\n",
    "        test_pred = self.model.predict(x_test_norm)\n",
    "\n",
    "        # Đánh giá độ chính xác trên toàn bộ tập test\n",
    "        accuracy = tf.keras.metrics.Accuracy()\n",
    "        labels_pred = [np.argmax(i) for i in test_pred]\n",
    "        accuracy.update_state(labels_pred, y_test)\n",
    "        print(\n",
    "            \"Độ chính xác của phiên bản hiện tại: {}\".format(\n",
    "                accuracy.result().numpy() * 100\n",
    "            )\n",
    "        )"
   ]
  },
  {
   "cell_type": "code",
   "execution_count": 141,
   "id": "3c514ff3-ee90-412b-bb5a-062bafde6fc4",
   "metadata": {
    "colab": {
     "base_uri": "https://localhost:8080/"
    },
    "executionInfo": {
     "elapsed": 976,
     "status": "ok",
     "timestamp": 1714033274826,
     "user": {
      "displayName": "Vũ Nguyễn Đức",
      "userId": "08568379512742239702"
     },
     "user_tz": -420
    },
    "id": "3c514ff3-ee90-412b-bb5a-062bafde6fc4",
    "nbgrader": {
     "grade": false,
     "grade_id": "cell-a1ea4bce79733766",
     "locked": true,
     "schema_version": 3,
     "solution": false,
     "task": false
    },
    "outputId": "049a2944-d257-434d-924c-f6981a0ee76f",
    "tags": []
   },
   "outputs": [
    {
     "name": "stdout",
     "output_type": "stream",
     "text": [
      "Model: \"model_17\"\n",
      "_________________________________________________________________\n",
      " Layer (type)                Output Shape              Param #   \n",
      "=================================================================\n",
      " input_18 (InputLayer)       [(None, 28, 28, 1)]       0         \n",
      "                                                                 \n",
      " conv2d_31 (Conv2D)          (None, 28, 28, 6)         60        \n",
      "                                                                 \n",
      " average_pooling2d_17 (Aver  (None, 14, 14, 6)         0         \n",
      " agePooling2D)                                                   \n",
      "                                                                 \n",
      " conv2d_32 (Conv2D)          (None, 14, 14, 16)        880       \n",
      "                                                                 \n",
      " average_pooling2d_18 (Aver  (None, 7, 7, 16)          0         \n",
      " agePooling2D)                                                   \n",
      "                                                                 \n",
      " flatten_17 (Flatten)        (None, 784)               0         \n",
      "                                                                 \n",
      " dense_51 (Dense)            (None, 120)               94200     \n",
      "                                                                 \n",
      " dense_52 (Dense)            (None, 84)                10164     \n",
      "                                                                 \n",
      " dense_53 (Dense)            (None, 10)                850       \n",
      "                                                                 \n",
      "=================================================================\n",
      "Total params: 106154 (414.66 KB)\n",
      "Trainable params: 106154 (414.66 KB)\n",
      "Non-trainable params: 0 (0.00 Byte)\n",
      "_________________________________________________________________\n"
     ]
    }
   ],
   "source": [
    "# Khởi tạo random seed để cố định kết quả huấn luyện cho tất cả mọi người\n",
    "fix_random_seed()\n",
    "\n",
    "# Khởi tạo đối tượng mạng CNN kiến trúc LeNet\n",
    "lenet = LeNetCNN()\n",
    "# Xây dựng kiến trúc mô hình với ảnh đầu vào kích thước 28x28x1\n",
    "lenet.build((28, 28, 1))\n",
    "lenet.summary()"
   ]
  },
  {
   "cell_type": "code",
   "execution_count": 142,
   "id": "UvQ5QgbNRloi",
   "metadata": {
    "colab": {
     "base_uri": "https://localhost:8080/"
    },
    "executionInfo": {
     "elapsed": 44344,
     "status": "ok",
     "timestamp": 1714033319165,
     "user": {
      "displayName": "Vũ Nguyễn Đức",
      "userId": "08568379512742239702"
     },
     "user_tz": -420
    },
    "id": "UvQ5QgbNRloi",
    "outputId": "1a4d038e-9a7c-4246-ab65-2e1b1fd8b9ca"
   },
   "outputs": [
    {
     "name": "stderr",
     "output_type": "stream",
     "text": [
      "WARNING:absl:At this time, the v2.11+ optimizer `tf.keras.optimizers.Adam` runs slowly on M1/M2 Macs, please use the legacy Keras optimizer instead, located at `tf.keras.optimizers.legacy.Adam`.\n"
     ]
    },
    {
     "name": "stdout",
     "output_type": "stream",
     "text": [
      "Epoch 1/10\n",
      "469/469 [==============================] - 3s 5ms/step - loss: 2.3094 - accuracy: 0.1051\n",
      "Epoch 2/10\n",
      "469/469 [==============================] - 2s 5ms/step - loss: 1.8930 - accuracy: 0.2723\n",
      "Epoch 3/10\n",
      "469/469 [==============================] - 2s 5ms/step - loss: 0.1270 - accuracy: 0.9606\n",
      "Epoch 4/10\n",
      "469/469 [==============================] - 2s 5ms/step - loss: 0.0661 - accuracy: 0.9794\n",
      "Epoch 5/10\n",
      "469/469 [==============================] - 2s 5ms/step - loss: 0.0473 - accuracy: 0.9850\n",
      "Epoch 6/10\n",
      "469/469 [==============================] - 2s 5ms/step - loss: 0.0374 - accuracy: 0.9882\n",
      "Epoch 7/10\n",
      "469/469 [==============================] - 2s 5ms/step - loss: 0.0301 - accuracy: 0.9904\n",
      "Epoch 8/10\n",
      "469/469 [==============================] - 2s 5ms/step - loss: 0.0263 - accuracy: 0.9919\n",
      "Epoch 9/10\n",
      "469/469 [==============================] - 2s 5ms/step - loss: 0.0213 - accuracy: 0.9933\n",
      "Epoch 10/10\n",
      "469/469 [==============================] - 2s 5ms/step - loss: 0.0189 - accuracy: 0.9940\n"
     ]
    }
   ],
   "source": [
    "# Train đi, chờ chi!\n",
    "lenet.train(x_train_norm, y_train_oh)"
   ]
  },
  {
   "cell_type": "markdown",
   "id": "e4a196ba-5366-47a2-b1a7-bcaf03936605",
   "metadata": {
    "id": "e4a196ba-5366-47a2-b1a7-bcaf03936605",
    "nbgrader": {
     "grade": false,
     "grade_id": "cell-9f597daf866aaed8",
     "locked": true,
     "schema_version": 3,
     "solution": false,
     "task": false
    },
    "tags": []
   },
   "source": [
    "Với kiến trúc mạng ở trên, hãy quan sát và xem có thông tin nào bạn chưa thực sự hiểu rõ không?\n",
    "\n",
    "Các thông tin cần nắm vững:\n",
    "- Tên lớp\n",
    "- Kích thước lớp\n",
    "- Số lượng tham số\n",
    "\n",
    "Thảo luận với bạn bè / thầy cô khi có chỗ nào chưa rõ trong các tham số trên."
   ]
  },
  {
   "cell_type": "code",
   "execution_count": 143,
   "id": "90538869-b247-4c5c-86ce-1ba49f92aae6",
   "metadata": {
    "colab": {
     "base_uri": "https://localhost:8080/",
     "height": 500
    },
    "executionInfo": {
     "elapsed": 1246,
     "status": "ok",
     "timestamp": 1714033320407,
     "user": {
      "displayName": "Vũ Nguyễn Đức",
      "userId": "08568379512742239702"
     },
     "user_tz": -420
    },
    "id": "90538869-b247-4c5c-86ce-1ba49f92aae6",
    "nbgrader": {
     "grade": false,
     "grade_id": "cell-4236035607f6cc5f",
     "locked": true,
     "schema_version": 3,
     "solution": false,
     "task": false
    },
    "outputId": "4f41d778-c28a-48a5-a484-eaf05b1f8d95",
    "tags": []
   },
   "outputs": [
    {
     "name": "stdout",
     "output_type": "stream",
     "text": [
      "313/313 [==============================] - 0s 985us/step\n"
     ]
    },
    {
     "data": {
      "image/png": "[encoded data removed]",
      "text/plain": [
       "<Figure size 640x480 with 1 Axes>"
      ]
     },
     "metadata": {},
     "output_type": "display_data"
    },
    {
     "name": "stdout",
     "output_type": "stream",
     "text": [
      "Nhãn dự đoán:  8\n",
      "Nhãn ground-truth:  8\n"
     ]
    }
   ],
   "source": [
    "# Predict trên tập dữ liệu test\n",
    "pred = lenet.predict(x_test_norm)\n",
    "test_index = 1234\n",
    "plt.imshow(x_test[test_index])\n",
    "plt.show()\n",
    "print('Nhãn dự đoán: ', np.argmax(pred[test_index]))\n",
    "print('Nhãn ground-truth: ', y_test[test_index])"
   ]
  },
  {
   "cell_type": "code",
   "execution_count": 144,
   "id": "ddbe08d9-fd89-4b67-8d62-64ec1ed4785a",
   "metadata": {
    "colab": {
     "base_uri": "https://localhost:8080/"
    },
    "executionInfo": {
     "elapsed": 1075,
     "status": "ok",
     "timestamp": 1714033321474,
     "user": {
      "displayName": "Vũ Nguyễn Đức",
      "userId": "08568379512742239702"
     },
     "user_tz": -420
    },
    "id": "ddbe08d9-fd89-4b67-8d62-64ec1ed4785a",
    "nbgrader": {
     "grade": false,
     "grade_id": "cell-06228067710bb510",
     "locked": true,
     "schema_version": 3,
     "solution": false,
     "task": false
    },
    "outputId": "102d4ce6-0c03-406a-c149-2081bd6e448b",
    "tags": []
   },
   "outputs": [
    {
     "name": "stdout",
     "output_type": "stream",
     "text": [
      "313/313 [==============================] - 0s 930us/step\n",
      "Độ chính xác của phiên bản hiện tại: 98.51999878883362\n"
     ]
    }
   ],
   "source": [
    "# Đánh giá hiệu quả của hệ thống trên tập test\n",
    "lenet.predict_and_eval(x_test_norm, y_test)"
   ]
  },
  {
   "cell_type": "markdown",
   "id": "8f22937b-90ae-47f9-981b-74420ee7b90b",
   "metadata": {
    "id": "8f22937b-90ae-47f9-981b-74420ee7b90b",
    "nbgrader": {
     "grade": false,
     "grade_id": "cell-cd44357ea71a7ccf",
     "locked": true,
     "schema_version": 3,
     "solution": false,
     "task": false
    },
    "tags": []
   },
   "source": [
    "## 4. Thử nghiệm với một số biến thể"
   ]
  },
  {
   "cell_type": "markdown",
   "id": "fd7e369e-63c1-4870-882b-7bff6b90bdea",
   "metadata": {
    "id": "fd7e369e-63c1-4870-882b-7bff6b90bdea",
    "nbgrader": {
     "grade": false,
     "grade_id": "cell-f47d995b92ff354d",
     "locked": true,
     "schema_version": 3,
     "solution": false,
     "task": false
    },
    "tags": []
   },
   "source": [
    "### 4.1 Biến thể Alpha - Thay activation `sigmoid` bằng `relu`"
   ]
  },
  {
   "cell_type": "code",
   "execution_count": 145,
   "id": "b2c1b4af-5b7e-427d-8582-f602ff557b4c",
   "metadata": {
    "executionInfo": {
     "elapsed": 8,
     "status": "ok",
     "timestamp": 1714033321474,
     "user": {
      "displayName": "Vũ Nguyễn Đức",
      "userId": "08568379512742239702"
     },
     "user_tz": -420
    },
    "id": "b2c1b4af-5b7e-427d-8582-f602ff557b4c",
    "nbgrader": {
     "grade": false,
     "grade_id": "cell-eaa8dbe632d82887",
     "locked": false,
     "schema_version": 3,
     "solution": true,
     "task": false
    },
    "tags": []
   },
   "outputs": [],
   "source": [
    "class AlphaCNN(LeNetCNN):\n",
    "    # Define structure of the CNN\n",
    "    def build(self, input_dim):\n",
    "        input = Input(shape=input_dim)\n",
    "        output = None\n",
    "        ### BEGIN SOLUTION\n",
    "        # Bước rút trích đặc trưng\n",
    "        C1 = Conv2D(6, (3, 3), padding=\"same\", activation=\"relu\")(input)\n",
    "        S2 = AveragePooling2D(pool_size=(2, 2), padding=\"same\")(C1)\n",
    "        C3 = Conv2D(16, (3, 3), padding=\"same\", activation=\"relu\")(S2)\n",
    "        S4 = AveragePooling2D(pool_size=(2, 2), padding=\"same\")(C3)\n",
    "        # Bước trung gian chuyển từ tensor sang vector\n",
    "        flat = Flatten()(S4)\n",
    "        # Bước phân loại đặc trưng bước trước\n",
    "        F5 = Dense(120, activation=\"relu\", use_bias=True)(flat)\n",
    "        F6 = Dense(84, activation=\"relu\", use_bias=True)(F5)\n",
    "        output = Dense(10, activation=\"softmax\", use_bias=True)(F6)  # y~ output\n",
    "        ### END SOLUTION\n",
    "        self.model = Model(input, output)"
   ]
  },
  {
   "cell_type": "code",
   "execution_count": 146,
   "id": "bc2652c7-480f-4b48-8ac0-c1c3f6ad41df",
   "metadata": {
    "colab": {
     "base_uri": "https://localhost:8080/"
    },
    "executionInfo": {
     "elapsed": 576,
     "status": "ok",
     "timestamp": 1714033322043,
     "user": {
      "displayName": "Vũ Nguyễn Đức",
      "userId": "08568379512742239702"
     },
     "user_tz": -420
    },
    "id": "bc2652c7-480f-4b48-8ac0-c1c3f6ad41df",
    "nbgrader": {
     "grade": false,
     "grade_id": "cell-75f270766ba8c072",
     "locked": true,
     "schema_version": 3,
     "solution": false,
     "task": false
    },
    "outputId": "28296c2d-15a4-424a-9930-3bc254a61bf7",
    "tags": []
   },
   "outputs": [
    {
     "name": "stdout",
     "output_type": "stream",
     "text": [
      "Model: \"model_18\"\n",
      "_________________________________________________________________\n",
      " Layer (type)                Output Shape              Param #   \n",
      "=================================================================\n",
      " input_19 (InputLayer)       [(None, 28, 28, 1)]       0         \n",
      "                                                                 \n",
      " conv2d_33 (Conv2D)          (None, 28, 28, 6)         60        \n",
      "                                                                 \n",
      " average_pooling2d_19 (Aver  (None, 14, 14, 6)         0         \n",
      " agePooling2D)                                                   \n",
      "                                                                 \n",
      " conv2d_34 (Conv2D)          (None, 14, 14, 16)        880       \n",
      "                                                                 \n",
      " average_pooling2d_20 (Aver  (None, 7, 7, 16)          0         \n",
      " agePooling2D)                                                   \n",
      "                                                                 \n",
      " flatten_18 (Flatten)        (None, 784)               0         \n",
      "                                                                 \n",
      " dense_54 (Dense)            (None, 120)               94200     \n",
      "                                                                 \n",
      " dense_55 (Dense)            (None, 84)                10164     \n",
      "                                                                 \n",
      " dense_56 (Dense)            (None, 10)                850       \n",
      "                                                                 \n",
      "=================================================================\n",
      "Total params: 106154 (414.66 KB)\n",
      "Trainable params: 106154 (414.66 KB)\n",
      "Non-trainable params: 0 (0.00 Byte)\n",
      "_________________________________________________________________\n"
     ]
    }
   ],
   "source": [
    "# Khởi tạo random seed để cố định kết quả huấn luyện cho tất cả mọi người\n",
    "fix_random_seed()\n",
    "# Khởi tạo đối tượng mạng CNN kiến trúc Alpha\n",
    "alpha = AlphaCNN()\n",
    "# Xây dựng kiến trúc mô hình với ảnh đầu vào kích thước 28x28x1\n",
    "alpha.build((28, 28, 1))\n",
    "alpha.summary()"
   ]
  },
  {
   "cell_type": "code",
   "execution_count": 147,
   "id": "dc55c6d5-6b4f-47a3-bc51-f0c2422c21c3",
   "metadata": {
    "executionInfo": {
     "elapsed": 10,
     "status": "ok",
     "timestamp": 1714033322043,
     "user": {
      "displayName": "Vũ Nguyễn Đức",
      "userId": "08568379512742239702"
     },
     "user_tz": -420
    },
    "id": "dc55c6d5-6b4f-47a3-bc51-f0c2422c21c3",
    "nbgrader": {
     "grade": true,
     "grade_id": "cell-69b3da1266013ec3",
     "locked": true,
     "points": 5,
     "schema_version": 3,
     "solution": false,
     "task": false
    },
    "tags": []
   },
   "outputs": [],
   "source": [
    "# Kiểm tra kiến trúc Alpha\n",
    "# Kiểm tra số layer không đổi\n",
    "assert len(alpha.model.layers) == 9\n",
    "# Kiểm tra một số lớp trong kiến trúc mạng Alpha\n",
    "assert \"InputLayer\" in str(type(alpha.model.layers[0]))\n",
    "assert \"Conv2D\" in str(type(alpha.model.layers[1]))\n",
    "assert \"AveragePooling2D\" in str(type(alpha.model.layers[2]))\n",
    "assert \"Dense\" in str(type(alpha.model.layers[6]))\n",
    "# Kiểm tra hàm activation của lớp convolution\n",
    "assert alpha.model.layers[1].activation(1.0).numpy() == 1.0\n",
    "assert alpha.model.layers[1].activation(-1.0).numpy() == 0.0"
   ]
  },
  {
   "cell_type": "code",
   "execution_count": 148,
   "id": "c4fdd3c2-3bc8-4561-a7a7-5782ece72ba5",
   "metadata": {
    "colab": {
     "base_uri": "https://localhost:8080/"
    },
    "executionInfo": {
     "elapsed": 22727,
     "status": "ok",
     "timestamp": 1714033344768,
     "user": {
      "displayName": "Vũ Nguyễn Đức",
      "userId": "08568379512742239702"
     },
     "user_tz": -420
    },
    "id": "c4fdd3c2-3bc8-4561-a7a7-5782ece72ba5",
    "nbgrader": {
     "grade": false,
     "grade_id": "cell-bbc8a416556c71aa",
     "locked": true,
     "schema_version": 3,
     "solution": false,
     "task": false
    },
    "outputId": "49a57244-757a-447d-ca55-3c322f57b41b",
    "tags": []
   },
   "outputs": [
    {
     "name": "stderr",
     "output_type": "stream",
     "text": [
      "WARNING:absl:At this time, the v2.11+ optimizer `tf.keras.optimizers.Adam` runs slowly on M1/M2 Macs, please use the legacy Keras optimizer instead, located at `tf.keras.optimizers.legacy.Adam`.\n"
     ]
    },
    {
     "name": "stdout",
     "output_type": "stream",
     "text": [
      "Epoch 1/10\n",
      "469/469 [==============================] - 2s 5ms/step - loss: 0.1635 - accuracy: 0.9486\n",
      "Epoch 2/10\n",
      "469/469 [==============================] - 2s 5ms/step - loss: 0.0584 - accuracy: 0.9824\n",
      "Epoch 3/10\n",
      "469/469 [==============================] - 2s 5ms/step - loss: 0.0461 - accuracy: 0.9857\n",
      "Epoch 4/10\n",
      "469/469 [==============================] - 2s 5ms/step - loss: 0.0400 - accuracy: 0.9873\n",
      "Epoch 5/10\n",
      "469/469 [==============================] - 2s 5ms/step - loss: 0.0292 - accuracy: 0.9911\n",
      "Epoch 6/10\n",
      "469/469 [==============================] - 2s 5ms/step - loss: 0.0315 - accuracy: 0.9908\n",
      "Epoch 7/10\n",
      "469/469 [==============================] - 2s 5ms/step - loss: 0.0300 - accuracy: 0.9910\n",
      "Epoch 8/10\n",
      "469/469 [==============================] - 2s 5ms/step - loss: 0.0285 - accuracy: 0.9915\n",
      "Epoch 9/10\n",
      "469/469 [==============================] - 2s 5ms/step - loss: 0.0268 - accuracy: 0.9923\n",
      "Epoch 10/10\n",
      "469/469 [==============================] - 2s 5ms/step - loss: 0.0248 - accuracy: 0.9930\n"
     ]
    }
   ],
   "source": [
    "# Sau khi đã đảm bảo rằng kiến trúc của bạn đã ổn. Chờ gì nữa, train thôi!\n",
    "alpha.train(x_train_norm, y_train_oh)"
   ]
  },
  {
   "cell_type": "code",
   "execution_count": 149,
   "id": "b033eb06-45b7-40cf-9cf5-0371c2b64217",
   "metadata": {
    "colab": {
     "base_uri": "https://localhost:8080/"
    },
    "executionInfo": {
     "elapsed": 1361,
     "status": "ok",
     "timestamp": 1714033346124,
     "user": {
      "displayName": "Vũ Nguyễn Đức",
      "userId": "08568379512742239702"
     },
     "user_tz": -420
    },
    "id": "b033eb06-45b7-40cf-9cf5-0371c2b64217",
    "nbgrader": {
     "grade": false,
     "grade_id": "cell-bdbb24e5e8fe59f1",
     "locked": true,
     "schema_version": 3,
     "solution": false,
     "task": false
    },
    "outputId": "fa343b92-12f4-43c1-9f6c-fe51433a7935",
    "tags": []
   },
   "outputs": [
    {
     "name": "stdout",
     "output_type": "stream",
     "text": [
      "313/313 [==============================] - 0s 831us/step\n",
      "Độ chính xác của phiên bản hiện tại: 98.78000020980835\n"
     ]
    }
   ],
   "source": [
    "# Đánh giá hiệu quả của mô hình trên tập test\n",
    "alpha.predict_and_eval(x_test_norm, y_test)"
   ]
  },
  {
   "cell_type": "markdown",
   "id": "fd79ef31-9bea-4b46-83db-5a9339570b39",
   "metadata": {
    "id": "fd79ef31-9bea-4b46-83db-5a9339570b39",
    "nbgrader": {
     "grade": false,
     "grade_id": "cell-2f08b3408e361ba2",
     "locked": true,
     "schema_version": 3,
     "solution": false,
     "task": false
    },
    "tags": []
   },
   "source": [
    "Theo bạn giữa phiên bản LeNet và Alpha, bạn thấy ĐỘ CHÍNH XÁC trên tập test của hai mô hình này có sự chênh lệch đáng kể hay không?"
   ]
  },
  {
   "cell_type": "code",
   "execution_count": 150,
   "id": "3e3bc6f9-212e-4c5b-8258-ad83d6807800",
   "metadata": {
    "colab": {
     "base_uri": "https://localhost:8080/"
    },
    "executionInfo": {
     "elapsed": 25,
     "status": "ok",
     "timestamp": 1714033346125,
     "user": {
      "displayName": "Vũ Nguyễn Đức",
      "userId": "08568379512742239702"
     },
     "user_tz": -420
    },
    "id": "3e3bc6f9-212e-4c5b-8258-ad83d6807800",
    "nbgrader": {
     "grade": false,
     "grade_id": "cell-2e8de9f7c7e4f13b",
     "locked": false,
     "schema_version": 3,
     "solution": true,
     "task": false
    },
    "outputId": "ed4f3663-17e0-40c8-8aef-96b23b7f380d",
    "tags": []
   },
   "outputs": [
    {
     "name": "stdout",
     "output_type": "stream",
     "text": [
      "Theo mình thì:  LeNet ngang ngửa Alpha (chênh không quá 1%)\n"
     ]
    }
   ],
   "source": [
    "options = ['Không có ý kiến', 'LeNet tốt hơn Alpha', 'LeNet tệ hơn Alpha', 'LeNet ngang ngửa Alpha (chênh không quá 1%)']\n",
    "your_choice = None\n",
    "\n",
    "# Hãy chọn your_choice bằng 0, 1, 2 hoặc 3 tương ứng với các lựa chọn ở trên\n",
    "### BEGIN SOLUTION\n",
    "your_choice = 3\n",
    "### END SOLUTION\n",
    "\n",
    "print(\"Theo mình thì: \", options[your_choice])"
   ]
  },
  {
   "cell_type": "markdown",
   "id": "8d2617a7-ce29-4c51-945a-2cdd75f38589",
   "metadata": {
    "id": "8d2617a7-ce29-4c51-945a-2cdd75f38589",
    "nbgrader": {
     "grade": false,
     "grade_id": "cell-cfa7ba4c556964f7",
     "locked": true,
     "schema_version": 3,
     "solution": false,
     "task": false
    },
    "tags": []
   },
   "source": [
    "Quan sát độ chính xác trên tập train của quá trình huấn luyện, theo bạn mô hình nào cho **tốc độ hội tụ** (*thể hiện tốc độ cải thiện độ chính xác qua từng epoch*) nhanh hơn?"
   ]
  },
  {
   "cell_type": "code",
   "execution_count": 151,
   "id": "01d2df8f-c73f-44b6-ade3-472ed41c9cff",
   "metadata": {
    "colab": {
     "base_uri": "https://localhost:8080/"
    },
    "executionInfo": {
     "elapsed": 13,
     "status": "ok",
     "timestamp": 1714033346125,
     "user": {
      "displayName": "Vũ Nguyễn Đức",
      "userId": "08568379512742239702"
     },
     "user_tz": -420
    },
    "id": "01d2df8f-c73f-44b6-ade3-472ed41c9cff",
    "nbgrader": {
     "grade": false,
     "grade_id": "cell-b676fbf327be2a59",
     "locked": false,
     "schema_version": 3,
     "solution": true,
     "task": false
    },
    "outputId": "c836580a-e4b8-4a72-a03a-0c33fff6c6a7",
    "tags": []
   },
   "outputs": [
    {
     "name": "stdout",
     "output_type": "stream",
     "text": [
      "Theo mình thì:  LeNet hội tụ nhanh ngang ngửa Alpha (tại epoch huấn luyện thứ 1 , chênh lệch acc không quá 5%\n"
     ]
    }
   ],
   "source": [
    "options = ['Không có ý kiến', 'LeNet hội tụ nhanh hơn Alpha', 'LeNet hội tụ chậm hơn Alpha',\n",
    "           'LeNet hội tụ nhanh ngang ngửa Alpha (tại epoch huấn luyện thứ 1 , chênh lệch acc không quá 5%']\n",
    "your_choice = None\n",
    "\n",
    "# Hãy chọn your_choice bằng 0, 1, 2 hoặc 3 tương ứng với các lựa chọn ở trên\n",
    "### BEGIN SOLUTION\n",
    "your_choice = 2\n",
    "### END SOLUTION\n",
    "\n",
    "print(\"Theo mình thì: \", options[your_choice])"
   ]
  },
  {
   "cell_type": "markdown",
   "id": "c30583ea-c145-434d-a89d-fd45327deb6b",
   "metadata": {
    "id": "c30583ea-c145-434d-a89d-fd45327deb6b",
    "nbgrader": {
     "grade": false,
     "grade_id": "cell-54d39820be1b395e",
     "locked": true,
     "schema_version": 3,
     "solution": false,
     "task": false
    },
    "tags": []
   },
   "source": [
    "### 4.2. Biến thể Beta - Thay AveragePooling bằng MaxPooling\n",
    "Lưu ý rằng, biến thể `Beta` được phát triển tiếp từ biến thể `Alpha`, do đó cấu hình liên quan đến hàm activation cũng sử dụng `ReLU`"
   ]
  },
  {
   "cell_type": "code",
   "execution_count": 103,
   "id": "c8f23cca-010f-4c2a-a288-7ac58b5ecdce",
   "metadata": {
    "executionInfo": {
     "elapsed": 3,
     "status": "ok",
     "timestamp": 1714033346125,
     "user": {
      "displayName": "Vũ Nguyễn Đức",
      "userId": "08568379512742239702"
     },
     "user_tz": -420
    },
    "id": "c8f23cca-010f-4c2a-a288-7ac58b5ecdce",
    "nbgrader": {
     "grade": false,
     "grade_id": "cell-1f2f494eec2c0ad2",
     "locked": false,
     "schema_version": 3,
     "solution": true,
     "task": false
    },
    "tags": []
   },
   "outputs": [],
   "source": [
    "from keras.layers import MaxPooling2D\n",
    "\n",
    "\n",
    "class BetaCNN(LeNetCNN):\n",
    "    # Define structure of the CNN\n",
    "    def build(self, input_dim):\n",
    "        input = Input(shape=input_dim)\n",
    "        output = None\n",
    "        ### BEGIN SOLUTION\n",
    "        # Bước rút trích đặc trưng\n",
    "        C1 = Conv2D(6, (3, 3), padding=\"same\", activation=\"relu\")(input)\n",
    "        S2 = MaxPooling2D(pool_size=(2, 2), padding=\"same\")(C1)\n",
    "        C3 = Conv2D(16, (3, 3), padding=\"same\", activation=\"relu\")(S2)\n",
    "        S4 = MaxPooling2D(pool_size=(2, 2), padding=\"same\")(C3)\n",
    "        # Bước trung gian chuyển từ tensor sang vector\n",
    "        flat = Flatten()(S4)\n",
    "        # Bước phân loại đặc trưng bước trước\n",
    "        F5 = Dense(120, activation=\"relu\", use_bias=True)(flat)\n",
    "        F6 = Dense(84, activation=\"relu\", use_bias=True)(F5)\n",
    "        output = Dense(10, activation=\"softmax\", use_bias=True)(F6)  # y~ output\n",
    "        ### END SOLUTION\n",
    "        self.model = Model(input, output)"
   ]
  },
  {
   "cell_type": "code",
   "execution_count": 104,
   "id": "8425a11f-60c0-4f4b-a535-ee31d77568eb",
   "metadata": {
    "colab": {
     "base_uri": "https://localhost:8080/"
    },
    "executionInfo": {
     "elapsed": 535,
     "status": "ok",
     "timestamp": 1714033346658,
     "user": {
      "displayName": "Vũ Nguyễn Đức",
      "userId": "08568379512742239702"
     },
     "user_tz": -420
    },
    "id": "8425a11f-60c0-4f4b-a535-ee31d77568eb",
    "nbgrader": {
     "grade": false,
     "grade_id": "cell-bd91506665c2387b",
     "locked": true,
     "schema_version": 3,
     "solution": false,
     "task": false
    },
    "outputId": "a9b3bacc-f261-4398-f792-87ad731fb142",
    "tags": []
   },
   "outputs": [
    {
     "name": "stdout",
     "output_type": "stream",
     "text": [
      "Model: \"model_13\"\n",
      "_________________________________________________________________\n",
      " Layer (type)                Output Shape              Param #   \n",
      "=================================================================\n",
      " input_14 (InputLayer)       [(None, 28, 28, 1)]       0         \n",
      "                                                                 \n",
      " conv2d_24 (Conv2D)          (None, 28, 28, 6)         60        \n",
      "                                                                 \n",
      " max_pooling2d_7 (MaxPoolin  (None, 14, 14, 6)         0         \n",
      " g2D)                                                            \n",
      "                                                                 \n",
      " conv2d_25 (Conv2D)          (None, 14, 14, 16)        880       \n",
      "                                                                 \n",
      " max_pooling2d_8 (MaxPoolin  (None, 7, 7, 16)          0         \n",
      " g2D)                                                            \n",
      "                                                                 \n",
      " flatten_13 (Flatten)        (None, 784)               0         \n",
      "                                                                 \n",
      " dense_39 (Dense)            (None, 120)               94200     \n",
      "                                                                 \n",
      " dense_40 (Dense)            (None, 84)                10164     \n",
      "                                                                 \n",
      " dense_41 (Dense)            (None, 10)                850       \n",
      "                                                                 \n",
      "=================================================================\n",
      "Total params: 106154 (414.66 KB)\n",
      "Trainable params: 106154 (414.66 KB)\n",
      "Non-trainable params: 0 (0.00 Byte)\n",
      "_________________________________________________________________\n"
     ]
    }
   ],
   "source": [
    "# Khởi tạo random seed để cố định kết quả huấn luyện cho tất cả mọi người\n",
    "fix_random_seed()\n",
    "\n",
    "# Khởi tạo đối tượng mạng CNN kiến trúc Beta\n",
    "beta = BetaCNN()\n",
    "# Xây dựng kiến trúc mô hình với ảnh đầu vào kích thước 28x28x1\n",
    "beta.build((28, 28, 1))\n",
    "beta.summary()"
   ]
  },
  {
   "cell_type": "code",
   "execution_count": 105,
   "id": "9e2ebe03-0c1f-4017-9104-f0322a617167",
   "metadata": {
    "executionInfo": {
     "elapsed": 13,
     "status": "ok",
     "timestamp": 1714033346658,
     "user": {
      "displayName": "Vũ Nguyễn Đức",
      "userId": "08568379512742239702"
     },
     "user_tz": -420
    },
    "id": "9e2ebe03-0c1f-4017-9104-f0322a617167",
    "nbgrader": {
     "grade": true,
     "grade_id": "cell-c3ba13f1868a0d82",
     "locked": true,
     "points": 5,
     "schema_version": 3,
     "solution": false,
     "task": false
    },
    "tags": []
   },
   "outputs": [],
   "source": [
    "# Kiểm tra kiến trúc Beta\n",
    "\n",
    "# Kiểm tra số layer không đổi\n",
    "assert len(beta.model.layers) == 9\n",
    "# Kiểm tra một số lớp trong kiến trúc mạng\n",
    "assert \"InputLayer\" in str(type(beta.model.layers[0]))\n",
    "assert \"Conv2D\" in str(type(beta.model.layers[1]))\n",
    "assert \"MaxPooling2D\" in str(type(beta.model.layers[2]))\n",
    "assert \"Dense\" in str(type(beta.model.layers[6]))\n",
    "# Kiểm tra hàm activation của lớp convolution\n",
    "assert beta.model.layers[1].activation(1.0).numpy() == 1.0\n",
    "assert beta.model.layers[1].activation(-1.0).numpy() == 0.0"
   ]
  },
  {
   "cell_type": "code",
   "execution_count": 106,
   "id": "cabf587a-dd0e-473a-97df-fdde6a62e42b",
   "metadata": {
    "colab": {
     "base_uri": "https://localhost:8080/"
    },
    "executionInfo": {
     "elapsed": 42855,
     "status": "ok",
     "timestamp": 1714033389510,
     "user": {
      "displayName": "Vũ Nguyễn Đức",
      "userId": "08568379512742239702"
     },
     "user_tz": -420
    },
    "id": "cabf587a-dd0e-473a-97df-fdde6a62e42b",
    "nbgrader": {
     "grade": false,
     "grade_id": "cell-2e4e82ce5f59e366",
     "locked": true,
     "schema_version": 3,
     "solution": false,
     "task": false
    },
    "outputId": "77cf60d0-5a61-4ba9-f00a-23ef92c6928a",
    "tags": []
   },
   "outputs": [
    {
     "name": "stderr",
     "output_type": "stream",
     "text": [
      "WARNING:absl:At this time, the v2.11+ optimizer `tf.keras.optimizers.Adam` runs slowly on M1/M2 Macs, please use the legacy Keras optimizer instead, located at `tf.keras.optimizers.legacy.Adam`.\n"
     ]
    },
    {
     "name": "stdout",
     "output_type": "stream",
     "text": [
      "Epoch 1/10\n",
      "469/469 [==============================] - 3s 5ms/step - loss: 0.1553 - accuracy: 0.9505\n",
      "Epoch 2/10\n",
      "469/469 [==============================] - 2s 5ms/step - loss: 0.0608 - accuracy: 0.9815\n",
      "Epoch 3/10\n",
      "469/469 [==============================] - 2s 5ms/step - loss: 0.0489 - accuracy: 0.9855\n",
      "Epoch 4/10\n",
      "469/469 [==============================] - 2s 5ms/step - loss: 0.0424 - accuracy: 0.9873\n",
      "Epoch 5/10\n",
      "469/469 [==============================] - 2s 5ms/step - loss: 0.0399 - accuracy: 0.9883\n",
      "Epoch 6/10\n",
      "469/469 [==============================] - 2s 5ms/step - loss: 0.0404 - accuracy: 0.9885\n",
      "Epoch 7/10\n",
      "469/469 [==============================] - 2s 5ms/step - loss: 0.0335 - accuracy: 0.9907\n",
      "Epoch 8/10\n",
      "469/469 [==============================] - 2s 5ms/step - loss: 0.0378 - accuracy: 0.9895\n",
      "Epoch 9/10\n",
      "469/469 [==============================] - 2s 5ms/step - loss: 0.0327 - accuracy: 0.9913\n",
      "Epoch 10/10\n",
      "469/469 [==============================] - 2s 5ms/step - loss: 0.0289 - accuracy: 0.9918\n"
     ]
    }
   ],
   "source": [
    "# Train đi, chờ chi!\n",
    "beta.train(x_train_norm, y_train_oh)"
   ]
  },
  {
   "cell_type": "code",
   "execution_count": 107,
   "id": "45711bee-67fc-4775-927b-37d08e13b422",
   "metadata": {
    "colab": {
     "base_uri": "https://localhost:8080/"
    },
    "executionInfo": {
     "elapsed": 592,
     "status": "ok",
     "timestamp": 1714033390096,
     "user": {
      "displayName": "Vũ Nguyễn Đức",
      "userId": "08568379512742239702"
     },
     "user_tz": -420
    },
    "id": "45711bee-67fc-4775-927b-37d08e13b422",
    "nbgrader": {
     "grade": false,
     "grade_id": "cell-7d74d6c35f41b377",
     "locked": true,
     "schema_version": 3,
     "solution": false,
     "task": false
    },
    "outputId": "176f98e8-fac3-4978-ee3e-caa7940c5fd1",
    "tags": []
   },
   "outputs": [
    {
     "name": "stdout",
     "output_type": "stream",
     "text": [
      "313/313 [==============================] - 0s 908us/step\n",
      "Độ chính xác của phiên bản hiện tại: 98.65000247955322\n"
     ]
    }
   ],
   "source": [
    "# Đánh giá trên tập dữ liệu test\n",
    "beta.predict_and_eval(x_test_norm, y_test)"
   ]
  },
  {
   "cell_type": "markdown",
   "id": "834a7d42-a020-4147-8daa-68a7f67992fc",
   "metadata": {
    "id": "834a7d42-a020-4147-8daa-68a7f67992fc",
    "nbgrader": {
     "grade": false,
     "grade_id": "cell-a5dbd567133a56ee",
     "locked": true,
     "schema_version": 3,
     "solution": false,
     "task": false
    },
    "tags": []
   },
   "source": [
    "Theo bạn giữa phiên bản Alpha và Beta, bạn thấy kết quả có sự thay đổi đáng kể hay không?"
   ]
  },
  {
   "cell_type": "code",
   "execution_count": 152,
   "id": "05099664-4af6-4569-8e38-a9c318ed822e",
   "metadata": {
    "colab": {
     "base_uri": "https://localhost:8080/"
    },
    "executionInfo": {
     "elapsed": 22,
     "status": "ok",
     "timestamp": 1714033390096,
     "user": {
      "displayName": "Vũ Nguyễn Đức",
      "userId": "08568379512742239702"
     },
     "user_tz": -420
    },
    "id": "05099664-4af6-4569-8e38-a9c318ed822e",
    "nbgrader": {
     "grade": false,
     "grade_id": "cell-1f5d9a2a3ee03410",
     "locked": false,
     "schema_version": 3,
     "solution": true,
     "task": false
    },
    "outputId": "74eddce7-f176-42a2-dbdd-7fb7d4ccd7a1",
    "tags": []
   },
   "outputs": [
    {
     "name": "stdout",
     "output_type": "stream",
     "text": [
      "Theo tôi thì:  Alpha ngang ngửa Beta (chênh không quá 1%)\n"
     ]
    }
   ],
   "source": [
    "options = ['Không có ý kiến', 'Alpha tốt hơn Beta', 'Alpha tệ hơn Beta', 'Alpha ngang ngửa Beta (chênh không quá 1%)']\n",
    "\n",
    "your_choice = None\n",
    "\n",
    "# Hãy chọn your_choice bằng 0, 1, 2 hoặc 3 tương ứng với các lựa chọn ở trên\n",
    "### BEGIN SOLUTION\n",
    "your_choice = 3\n",
    "### END SOLUTION\n",
    "\n",
    "print(\"Theo tôi thì: \", options[your_choice])"
   ]
  },
  {
   "cell_type": "markdown",
   "id": "a9df8c5b-9535-4936-91c9-1725730cef94",
   "metadata": {
    "id": "a9df8c5b-9535-4936-91c9-1725730cef94",
    "nbgrader": {
     "grade": false,
     "grade_id": "cell-3a1de1be4efbb3de",
     "locked": true,
     "schema_version": 3,
     "solution": false,
     "task": false
    },
    "tags": []
   },
   "source": [
    "Như vậy, đến bước này, bạn đã cài đặt xong mô hình LeNet theo hướng hiện đại, hay còn gọi là LeNet phiên bản 2020.\n",
    "\n",
    "Không dừng lại ở đó, ta sẽ thử với một số biến thể táo bạo hơn."
   ]
  },
  {
   "cell_type": "markdown",
   "id": "9635f78c-93be-4399-939b-52f2d8d8257c",
   "metadata": {
    "id": "9635f78c-93be-4399-939b-52f2d8d8257c",
    "nbgrader": {
     "grade": false,
     "grade_id": "cell-bafdc603bfb88d1f",
     "locked": true,
     "schema_version": 3,
     "solution": false,
     "task": false
    },
    "tags": []
   },
   "source": [
    "### 4.3 Biến thể Gamma - Bỏ hết hàm activation trong biến thể Beta\n",
    "Biến thể Gamma ra đời vì sự nghi ngờ rằng, **hàm activation không thực sự hữu ích** trong kiến trúc mạng CNN. Bạn hãy thử cài đặt, đánh giá xem giả thuyết này có đúng không?"
   ]
  },
  {
   "cell_type": "code",
   "execution_count": 109,
   "id": "214c9246-3610-41bd-8317-f01b1cf2dd48",
   "metadata": {
    "executionInfo": {
     "elapsed": 4,
     "status": "ok",
     "timestamp": 1714033390096,
     "user": {
      "displayName": "Vũ Nguyễn Đức",
      "userId": "08568379512742239702"
     },
     "user_tz": -420
    },
    "id": "214c9246-3610-41bd-8317-f01b1cf2dd48",
    "nbgrader": {
     "grade": false,
     "grade_id": "cell-2a3cf75dca1f3dc5",
     "locked": false,
     "schema_version": 3,
     "solution": true,
     "task": false
    },
    "tags": []
   },
   "outputs": [],
   "source": [
    "class GammaCNN(LeNetCNN):\n",
    "    # Define structure of the CNN\n",
    "    def build(self, input_dim):\n",
    "        input = Input(shape=input_dim)\n",
    "        output = None\n",
    "        ### BEGIN SOLUTION\n",
    "        # Bước rút trích đặc trưng\n",
    "        C1 = Conv2D(6, (3, 3), padding=\"same\")(input)\n",
    "        S2 = MaxPooling2D(pool_size=(2, 2), padding=\"same\")(C1)\n",
    "        C3 = Conv2D(16, (3, 3), padding=\"same\")(S2)\n",
    "        S4 = MaxPooling2D(pool_size=(2, 2), padding=\"same\")(C3)\n",
    "        # Bước trung gian chuyển từ tensor sang vector\n",
    "        flat = Flatten()(S4)\n",
    "        # Bước phân loại đặc trưng bước trước\n",
    "        F5 = Dense(120, use_bias=True)(flat)\n",
    "        F6 = Dense(84,  use_bias=True)(F5)\n",
    "        output = Dense(10, activation=\"softmax\", use_bias=True)(F6)  # y~ output\n",
    "        ### END SOLUTION\n",
    "\n",
    "        self.model = Model(input, output)"
   ]
  },
  {
   "cell_type": "code",
   "execution_count": 110,
   "id": "7c73560b-d6ca-4df7-8a8f-5d6b7e6d510b",
   "metadata": {
    "colab": {
     "base_uri": "https://localhost:8080/"
    },
    "executionInfo": {
     "elapsed": 593,
     "status": "ok",
     "timestamp": 1714033390686,
     "user": {
      "displayName": "Vũ Nguyễn Đức",
      "userId": "08568379512742239702"
     },
     "user_tz": -420
    },
    "id": "7c73560b-d6ca-4df7-8a8f-5d6b7e6d510b",
    "nbgrader": {
     "grade": false,
     "grade_id": "cell-708799ec6d4c03b9",
     "locked": true,
     "schema_version": 3,
     "solution": false,
     "task": false
    },
    "outputId": "72ade30a-0aaa-4bab-870e-845d5563506b",
    "tags": []
   },
   "outputs": [
    {
     "name": "stdout",
     "output_type": "stream",
     "text": [
      "Model: \"model_14\"\n",
      "_________________________________________________________________\n",
      " Layer (type)                Output Shape              Param #   \n",
      "=================================================================\n",
      " input_15 (InputLayer)       [(None, 28, 28, 1)]       0         \n",
      "                                                                 \n",
      " conv2d_26 (Conv2D)          (None, 28, 28, 6)         60        \n",
      "                                                                 \n",
      " max_pooling2d_9 (MaxPoolin  (None, 14, 14, 6)         0         \n",
      " g2D)                                                            \n",
      "                                                                 \n",
      " conv2d_27 (Conv2D)          (None, 14, 14, 16)        880       \n",
      "                                                                 \n",
      " max_pooling2d_10 (MaxPooli  (None, 7, 7, 16)          0         \n",
      " ng2D)                                                           \n",
      "                                                                 \n",
      " flatten_14 (Flatten)        (None, 784)               0         \n",
      "                                                                 \n",
      " dense_42 (Dense)            (None, 120)               94200     \n",
      "                                                                 \n",
      " dense_43 (Dense)            (None, 84)                10164     \n",
      "                                                                 \n",
      " dense_44 (Dense)            (None, 10)                850       \n",
      "                                                                 \n",
      "=================================================================\n",
      "Total params: 106154 (414.66 KB)\n",
      "Trainable params: 106154 (414.66 KB)\n",
      "Non-trainable params: 0 (0.00 Byte)\n",
      "_________________________________________________________________\n"
     ]
    }
   ],
   "source": [
    "# Khởi tạo random seed để cố định kết quả huấn luyện cho tất cả mọi người\n",
    "fix_random_seed()\n",
    "\n",
    "# Khởi tạo đối tượng mạng CNN kiến trúc Gamma\n",
    "gamma = GammaCNN()\n",
    "# Xây dựng kiến trúc mô hình với ảnh đầu vào kích thước 28x28x1\n",
    "gamma.build((28, 28, 1))\n",
    "gamma.summary()"
   ]
  },
  {
   "cell_type": "code",
   "execution_count": 111,
   "id": "1de96afd-4ae9-47d2-8d82-ee03845b9f21",
   "metadata": {
    "executionInfo": {
     "elapsed": 13,
     "status": "ok",
     "timestamp": 1714033390686,
     "user": {
      "displayName": "Vũ Nguyễn Đức",
      "userId": "08568379512742239702"
     },
     "user_tz": -420
    },
    "id": "1de96afd-4ae9-47d2-8d82-ee03845b9f21",
    "nbgrader": {
     "grade": true,
     "grade_id": "cell-c62f68ce594105a4",
     "locked": true,
     "points": 5,
     "schema_version": 3,
     "solution": false,
     "task": false
    },
    "tags": []
   },
   "outputs": [],
   "source": [
    "# Kiểm tra kiến trúc Gamma\n",
    "\n",
    "# Kiểm tra số layer không đổi\n",
    "assert len(gamma.model.layers) == 9\n",
    "# Kiểm tra một số lớp trong kiến trúc mạng\n",
    "assert \"InputLayer\" in str(type(gamma.model.layers[0]))\n",
    "assert \"Conv2D\" in str(type(gamma.model.layers[1]))\n",
    "assert \"MaxPooling2D\" in str(type(gamma.model.layers[2]))\n",
    "assert \"Dense\" in str(type(gamma.model.layers[6]))\n",
    "# Kiểm tra hàm activation của lớp convolution\n",
    "assert gamma.model.layers[1].activation(1.0) == 1.0\n",
    "assert gamma.model.layers[1].activation(-1.0) == -1.0"
   ]
  },
  {
   "cell_type": "code",
   "execution_count": 112,
   "id": "b5a8bbc6-468b-4b52-9b90-70efe5df352c",
   "metadata": {
    "colab": {
     "base_uri": "https://localhost:8080/"
    },
    "executionInfo": {
     "elapsed": 29998,
     "status": "ok",
     "timestamp": 1714033420681,
     "user": {
      "displayName": "Vũ Nguyễn Đức",
      "userId": "08568379512742239702"
     },
     "user_tz": -420
    },
    "id": "b5a8bbc6-468b-4b52-9b90-70efe5df352c",
    "nbgrader": {
     "grade": false,
     "grade_id": "cell-0bd39c18f8cd3555",
     "locked": true,
     "schema_version": 3,
     "solution": false,
     "task": false
    },
    "outputId": "e1b82917-6125-4594-9475-373cf434ab4a",
    "tags": []
   },
   "outputs": [
    {
     "name": "stderr",
     "output_type": "stream",
     "text": [
      "WARNING:absl:At this time, the v2.11+ optimizer `tf.keras.optimizers.Adam` runs slowly on M1/M2 Macs, please use the legacy Keras optimizer instead, located at `tf.keras.optimizers.legacy.Adam`.\n"
     ]
    },
    {
     "name": "stdout",
     "output_type": "stream",
     "text": [
      "Epoch 1/10\n",
      "469/469 [==============================] - 3s 5ms/step - loss: 0.2092 - accuracy: 0.9380\n",
      "Epoch 2/10\n",
      "469/469 [==============================] - 2s 5ms/step - loss: 0.1171 - accuracy: 0.9648\n",
      "Epoch 3/10\n",
      "469/469 [==============================] - 2s 5ms/step - loss: 0.0999 - accuracy: 0.9711\n",
      "Epoch 4/10\n",
      "469/469 [==============================] - 2s 5ms/step - loss: 0.0955 - accuracy: 0.9719\n",
      "Epoch 5/10\n",
      "469/469 [==============================] - 2s 5ms/step - loss: 0.0928 - accuracy: 0.9726\n",
      "Epoch 6/10\n",
      "469/469 [==============================] - 2s 5ms/step - loss: 0.1246 - accuracy: 0.9665\n",
      "Epoch 7/10\n",
      "469/469 [==============================] - 2s 5ms/step - loss: 0.0734 - accuracy: 0.9778\n",
      "Epoch 8/10\n",
      "469/469 [==============================] - 2s 5ms/step - loss: 0.0787 - accuracy: 0.9766\n",
      "Epoch 9/10\n",
      "469/469 [==============================] - 2s 5ms/step - loss: 0.1739 - accuracy: 0.9654\n",
      "Epoch 10/10\n",
      "469/469 [==============================] - 2s 5ms/step - loss: 0.1472 - accuracy: 0.9720\n"
     ]
    }
   ],
   "source": [
    "# Train train train!\n",
    "gamma.train(x_train_norm, y_train_oh)"
   ]
  },
  {
   "cell_type": "code",
   "execution_count": 113,
   "id": "6306c696-445e-4821-a06a-f725ae20f684",
   "metadata": {
    "colab": {
     "base_uri": "https://localhost:8080/"
    },
    "executionInfo": {
     "elapsed": 2215,
     "status": "ok",
     "timestamp": 1714033422887,
     "user": {
      "displayName": "Vũ Nguyễn Đức",
      "userId": "08568379512742239702"
     },
     "user_tz": -420
    },
    "id": "6306c696-445e-4821-a06a-f725ae20f684",
    "nbgrader": {
     "grade": false,
     "grade_id": "cell-8815bdaf09859dff",
     "locked": true,
     "schema_version": 3,
     "solution": false,
     "task": false
    },
    "outputId": "e789ad64-5de3-4f55-a5c7-4a5abeb098d7",
    "tags": []
   },
   "outputs": [
    {
     "name": "stdout",
     "output_type": "stream",
     "text": [
      "313/313 [==============================] - 0s 958us/step\n",
      "Độ chính xác của phiên bản hiện tại: 97.76999950408936\n"
     ]
    }
   ],
   "source": [
    "# Đánh giá trên tập dữ liệu test\n",
    "gamma.predict_and_eval(x_test_norm, y_test)"
   ]
  },
  {
   "cell_type": "markdown",
   "id": "46186d3d-e2a8-4060-a0f0-a78afc242469",
   "metadata": {
    "id": "46186d3d-e2a8-4060-a0f0-a78afc242469",
    "nbgrader": {
     "grade": false,
     "grade_id": "cell-4da75126248a9cfa",
     "locked": true,
     "schema_version": 3,
     "solution": false,
     "task": false
    },
    "tags": []
   },
   "source": [
    "Theo bạn giữa phiên bản Beta và Gamma, bạn thấy kết quả có sự thay đổi đáng kể hay không?"
   ]
  },
  {
   "cell_type": "code",
   "execution_count": 153,
   "id": "d1899c64-d372-4ea5-b5d2-14c92cda071e",
   "metadata": {
    "colab": {
     "base_uri": "https://localhost:8080/"
    },
    "executionInfo": {
     "elapsed": 31,
     "status": "ok",
     "timestamp": 1714033422887,
     "user": {
      "displayName": "Vũ Nguyễn Đức",
      "userId": "08568379512742239702"
     },
     "user_tz": -420
    },
    "id": "d1899c64-d372-4ea5-b5d2-14c92cda071e",
    "nbgrader": {
     "grade": false,
     "grade_id": "cell-e51075ea1ec0d8fc",
     "locked": false,
     "schema_version": 3,
     "solution": true,
     "task": false
    },
    "outputId": "0f13f679-fe7f-4025-fadc-e8a78422390c",
    "tags": []
   },
   "outputs": [
    {
     "name": "stdout",
     "output_type": "stream",
     "text": [
      "Theo tôi thì:  Beta tốt hơn Gamma\n"
     ]
    }
   ],
   "source": [
    "options = ['Không có ý kiến', 'Beta tốt hơn Gamma', 'Beta tệ hơn Gamma', 'Beta ngang ngửa Gamma (chênh không quá 1%)']\n",
    "\n",
    "your_choice = None\n",
    "\n",
    "# Hãy chọn your_choice bằng 0, 1, 2 hoặc 3 tương ứng với các lựa chọn ở trên\n",
    "### BEGIN SOLUTION\n",
    "your_choice = 3\n",
    "### END SOLUTION\n",
    "\n",
    "print(\"Theo tôi thì: \", options[your_choice])"
   ]
  },
  {
   "cell_type": "markdown",
   "id": "1da59dc1-0de1-46a9-aba8-e0702e632792",
   "metadata": {
    "id": "1da59dc1-0de1-46a9-aba8-e0702e632792",
    "nbgrader": {
     "grade": false,
     "grade_id": "cell-c10d40ae2d03ca4d",
     "locked": true,
     "schema_version": 3,
     "solution": false,
     "task": false
    },
    "tags": []
   },
   "source": [
    "### 4.4 Biến thể Omicron - Bỏ hết hàm Pooling trong biến thể Beta\n",
    "Biến thể **Omicron** ra đời vì sự nghi ngờ rằng, **Bước MaxPooling không thực sự hữu ích** trong kiến trúc mạng CNN. Bạn hãy thử cài đặt, đánh giá xem giả thuyết này có đúng không?"
   ]
  },
  {
   "cell_type": "code",
   "execution_count": 117,
   "id": "8b6bcb63-ee11-4f1f-8c6a-c57265c7e80c",
   "metadata": {
    "executionInfo": {
     "elapsed": 18,
     "status": "ok",
     "timestamp": 1714033422887,
     "user": {
      "displayName": "Vũ Nguyễn Đức",
      "userId": "08568379512742239702"
     },
     "user_tz": -420
    },
    "id": "8b6bcb63-ee11-4f1f-8c6a-c57265c7e80c",
    "nbgrader": {
     "grade": false,
     "grade_id": "cell-da6b9f79a575bd59",
     "locked": false,
     "schema_version": 3,
     "solution": true,
     "task": false
    },
    "tags": []
   },
   "outputs": [],
   "source": [
    "class OmicronCNN(LeNetCNN):\n",
    "    # Define structure of the CNN\n",
    "    def build(self, input_dim):\n",
    "        input = Input(shape=input_dim)\n",
    "        output = None\n",
    "\n",
    "        ### BEGIN SOLUTION\n",
    "        # Bước rút trích đặc trưng\n",
    "        C1 = Conv2D(6, (3, 3), padding=\"same\", activation=\"relu\")(input)\n",
    "        C3 = Conv2D(16, (3, 3), padding=\"same\", activation=\"relu\")(C1)\n",
    "        # Bước trung gian chuyển từ tensor sang vector\n",
    "        flat = Flatten()(C3)\n",
    "        # Bước phân loại đặc trưng bước trước\n",
    "        F5 = Dense(120, activation=\"relu\", use_bias=True)(flat)\n",
    "        F6 = Dense(84, activation=\"relu\", use_bias=True)(F5)\n",
    "        output = Dense(10, activation=\"softmax\", use_bias=True)(F6)  # y~ output\n",
    "        ### END SOLUTION\n",
    "\n",
    "        self.model = Model(input, output)"
   ]
  },
  {
   "cell_type": "code",
   "execution_count": 118,
   "id": "87312bbb-4595-4a2e-93a9-d374846b8b95",
   "metadata": {
    "colab": {
     "base_uri": "https://localhost:8080/"
    },
    "executionInfo": {
     "elapsed": 18,
     "status": "ok",
     "timestamp": 1714033422887,
     "user": {
      "displayName": "Vũ Nguyễn Đức",
      "userId": "08568379512742239702"
     },
     "user_tz": -420
    },
    "id": "87312bbb-4595-4a2e-93a9-d374846b8b95",
    "nbgrader": {
     "grade": false,
     "grade_id": "cell-eab8b1ab6e4f23a2",
     "locked": true,
     "schema_version": 3,
     "solution": false,
     "task": false
    },
    "outputId": "8f2eb76c-88f3-422d-fbbc-b57301916658",
    "tags": []
   },
   "outputs": [
    {
     "name": "stdout",
     "output_type": "stream",
     "text": [
      "Model: \"model_15\"\n",
      "_________________________________________________________________\n",
      " Layer (type)                Output Shape              Param #   \n",
      "=================================================================\n",
      " input_16 (InputLayer)       [(None, 28, 28, 1)]       0         \n",
      "                                                                 \n",
      " conv2d_29 (Conv2D)          (None, 28, 28, 6)         60        \n",
      "                                                                 \n",
      " conv2d_30 (Conv2D)          (None, 28, 28, 16)        880       \n",
      "                                                                 \n",
      " flatten_15 (Flatten)        (None, 12544)             0         \n",
      "                                                                 \n",
      " dense_45 (Dense)            (None, 120)               1505400   \n",
      "                                                                 \n",
      " dense_46 (Dense)            (None, 84)                10164     \n",
      "                                                                 \n",
      " dense_47 (Dense)            (None, 10)                850       \n",
      "                                                                 \n",
      "=================================================================\n",
      "Total params: 1517354 (5.79 MB)\n",
      "Trainable params: 1517354 (5.79 MB)\n",
      "Non-trainable params: 0 (0.00 Byte)\n",
      "_________________________________________________________________\n"
     ]
    }
   ],
   "source": [
    "# Khởi tạo random seed để cố định kết quả huấn luyện cho tất cả mọi người\n",
    "fix_random_seed()\n",
    "\n",
    "# Khởi tạo đối tượng mạng CNN kiến trúc Omicron\n",
    "omicron = OmicronCNN()\n",
    "# Xây dựng kiến trúc mô hình với ảnh đầu vào kích thước 28x28x1\n",
    "omicron.build((28, 28, 1))\n",
    "omicron.summary()"
   ]
  },
  {
   "cell_type": "code",
   "execution_count": 119,
   "id": "db9b5215-e34c-4434-aa4c-f2ef42e688da",
   "metadata": {
    "executionInfo": {
     "elapsed": 10,
     "status": "ok",
     "timestamp": 1714033422887,
     "user": {
      "displayName": "Vũ Nguyễn Đức",
      "userId": "08568379512742239702"
     },
     "user_tz": -420
    },
    "id": "db9b5215-e34c-4434-aa4c-f2ef42e688da",
    "nbgrader": {
     "grade": true,
     "grade_id": "cell-67108bef8f744c25",
     "locked": true,
     "points": 5,
     "schema_version": 3,
     "solution": false,
     "task": false
    },
    "tags": []
   },
   "outputs": [],
   "source": [
    "# Kiểm tra kiến trúc Omicron\n",
    "\n",
    "# Kiểm tra số layer không đổi\n",
    "assert len(omicron.model.layers) == 7\n",
    "# Kiểm tra một số lớp trong kiến trúc mạng\n",
    "assert \"InputLayer\" in str(type(omicron.model.layers[0]))\n",
    "assert \"Conv2D\" in str(type(omicron.model.layers[1]))\n",
    "assert \"Conv2D\" in str(type(omicron.model.layers[2]))\n",
    "assert \"Dense\" in str(type(omicron.model.layers[6]))\n",
    "# Kiểm tra hàm activation của lớp convolution\n",
    "assert beta.model.layers[1].activation(1.0).numpy() == 1.0\n",
    "assert beta.model.layers[1].activation(-1.0).numpy() == 0.0"
   ]
  },
  {
   "cell_type": "code",
   "execution_count": 120,
   "id": "84a945cc-9bba-4b03-9997-5281cc7ecad6",
   "metadata": {
    "colab": {
     "base_uri": "https://localhost:8080/"
    },
    "executionInfo": {
     "elapsed": 32795,
     "status": "ok",
     "timestamp": 1714033455677,
     "user": {
      "displayName": "Vũ Nguyễn Đức",
      "userId": "08568379512742239702"
     },
     "user_tz": -420
    },
    "id": "84a945cc-9bba-4b03-9997-5281cc7ecad6",
    "nbgrader": {
     "grade": false,
     "grade_id": "cell-203181219f352b0b",
     "locked": true,
     "schema_version": 3,
     "solution": false,
     "task": false
    },
    "outputId": "a4037751-c097-47c9-bd4a-1282f322dc8b",
    "tags": []
   },
   "outputs": [
    {
     "name": "stderr",
     "output_type": "stream",
     "text": [
      "WARNING:absl:At this time, the v2.11+ optimizer `tf.keras.optimizers.Adam` runs slowly on M1/M2 Macs, please use the legacy Keras optimizer instead, located at `tf.keras.optimizers.legacy.Adam`.\n"
     ]
    },
    {
     "name": "stdout",
     "output_type": "stream",
     "text": [
      "Epoch 1/10\n",
      "469/469 [==============================] - 6s 12ms/step - loss: 0.1837 - accuracy: 0.9445\n",
      "Epoch 2/10\n",
      "469/469 [==============================] - 6s 12ms/step - loss: 0.0640 - accuracy: 0.9805\n",
      "Epoch 3/10\n",
      "469/469 [==============================] - 6s 12ms/step - loss: 0.0408 - accuracy: 0.9876\n",
      "Epoch 4/10\n",
      "469/469 [==============================] - 6s 12ms/step - loss: 0.0427 - accuracy: 0.9874\n",
      "Epoch 5/10\n",
      "469/469 [==============================] - 6s 12ms/step - loss: 0.0326 - accuracy: 0.9907\n",
      "Epoch 6/10\n",
      "469/469 [==============================] - 6s 12ms/step - loss: 0.0316 - accuracy: 0.9916\n",
      "Epoch 7/10\n",
      "469/469 [==============================] - 6s 12ms/step - loss: 0.0334 - accuracy: 0.9913\n",
      "Epoch 8/10\n",
      "469/469 [==============================] - 6s 12ms/step - loss: 0.0287 - accuracy: 0.9930\n",
      "Epoch 9/10\n",
      "469/469 [==============================] - 6s 12ms/step - loss: 0.0292 - accuracy: 0.9927\n",
      "Epoch 10/10\n",
      "469/469 [==============================] - 6s 12ms/step - loss: 0.0287 - accuracy: 0.9935\n"
     ]
    }
   ],
   "source": [
    "# Train train train!\n",
    "omicron.train(x_train_norm, y_train_oh)"
   ]
  },
  {
   "cell_type": "code",
   "execution_count": 121,
   "id": "bd4d81b9-68c3-4d0f-af55-64f8808897f0",
   "metadata": {
    "colab": {
     "base_uri": "https://localhost:8080/"
    },
    "executionInfo": {
     "elapsed": 1384,
     "status": "ok",
     "timestamp": 1714033457049,
     "user": {
      "displayName": "Vũ Nguyễn Đức",
      "userId": "08568379512742239702"
     },
     "user_tz": -420
    },
    "id": "bd4d81b9-68c3-4d0f-af55-64f8808897f0",
    "nbgrader": {
     "grade": false,
     "grade_id": "cell-52ea9ba0b1d57fa3",
     "locked": true,
     "schema_version": 3,
     "solution": false,
     "task": false
    },
    "outputId": "275963fd-8896-44e0-af30-c3a3330932cc",
    "tags": []
   },
   "outputs": [
    {
     "name": "stdout",
     "output_type": "stream",
     "text": [
      "313/313 [==============================] - 0s 1ms/step\n",
      "Độ chính xác của phiên bản hiện tại: 97.75000214576721\n"
     ]
    }
   ],
   "source": [
    "# Đánh giá trên tập dữ liệu test\n",
    "omicron.predict_and_eval(x_test_norm, y_test)"
   ]
  },
  {
   "cell_type": "markdown",
   "id": "2ed10394-06eb-435f-82ae-3f2198b4a26b",
   "metadata": {
    "id": "2ed10394-06eb-435f-82ae-3f2198b4a26b",
    "nbgrader": {
     "grade": false,
     "grade_id": "cell-5392363c0eb31db6",
     "locked": true,
     "schema_version": 3,
     "solution": false,
     "task": false
    },
    "tags": []
   },
   "source": [
    "Theo bạn giữa phiên bản Beta và Omicron, bạn thấy kết quả có sự thay đổi đáng kể hay không?"
   ]
  },
  {
   "cell_type": "code",
   "execution_count": 154,
   "id": "2336cb9d-bdfc-4599-a32f-3f6b14ca8f39",
   "metadata": {
    "colab": {
     "base_uri": "https://localhost:8080/"
    },
    "executionInfo": {
     "elapsed": 45,
     "status": "ok",
     "timestamp": 1714033457050,
     "user": {
      "displayName": "Vũ Nguyễn Đức",
      "userId": "08568379512742239702"
     },
     "user_tz": -420
    },
    "id": "2336cb9d-bdfc-4599-a32f-3f6b14ca8f39",
    "nbgrader": {
     "grade": false,
     "grade_id": "cell-afc2fda9bbda9f9c",
     "locked": false,
     "schema_version": 3,
     "solution": true,
     "task": false
    },
    "outputId": "0336bae1-4b7e-4518-bc21-26abd5eb6687",
    "tags": []
   },
   "outputs": [
    {
     "name": "stdout",
     "output_type": "stream",
     "text": [
      "Theo tôi thì:  Beta tốt hơn Omicron\n"
     ]
    }
   ],
   "source": [
    "options = ['Không có ý kiến', 'Beta tốt hơn Omicron', 'Beta tệ hơn Omicron', 'Beta ngang ngửa Omicron (chênh không quá 1%)']\n",
    "\n",
    "your_choice = None\n",
    "\n",
    "# Hãy chọn your_choice bằng 0, 1, 2 hoặc 3 tương ứng với các lựa chọn ở trên\n",
    "### BEGIN SOLUTION\n",
    "your_choice = 3\n",
    "### END SOLUTION\n",
    "\n",
    "print(\"Theo tôi thì: \", options[your_choice])"
   ]
  },
  {
   "cell_type": "markdown",
   "id": "5f10f67c-c7be-44f6-a55a-74316ecdca4c",
   "metadata": {
    "id": "5f10f67c-c7be-44f6-a55a-74316ecdca4c",
    "nbgrader": {
     "grade": false,
     "grade_id": "cell-39df1608d027be9f",
     "locked": true,
     "schema_version": 3,
     "solution": false,
     "task": false
    },
    "tags": []
   },
   "source": [
    "Ngoài ra, bạn có nhận xét gì về số lượng tham số và thời gian train của mô hình Omicron?"
   ]
  },
  {
   "cell_type": "code",
   "execution_count": 123,
   "id": "0c6bb5fc-29e7-462a-b987-a0788c69199d",
   "metadata": {
    "colab": {
     "base_uri": "https://localhost:8080/"
    },
    "executionInfo": {
     "elapsed": 32,
     "status": "ok",
     "timestamp": 1714033457050,
     "user": {
      "displayName": "Vũ Nguyễn Đức",
      "userId": "08568379512742239702"
     },
     "user_tz": -420
    },
    "id": "0c6bb5fc-29e7-462a-b987-a0788c69199d",
    "nbgrader": {
     "grade": false,
     "grade_id": "cell-06864dcb2e0d74f7",
     "locked": false,
     "schema_version": 3,
     "solution": true,
     "task": false
    },
    "outputId": "9a30cd2e-149d-416e-eb29-cf745aa6b85e",
    "tags": []
   },
   "outputs": [
    {
     "name": "stdout",
     "output_type": "stream",
     "text": [
      "Theo tôi thì: \n",
      "   -  Omicron train tương đương Beta (không quá 10 giây)\n"
     ]
    }
   ],
   "source": [
    "options = ['Omicron có tham số ít hơn Beta', 'Omicron nhiều tham số hơn Beta', 'Omicron có tham số bằng Beta',\n",
    "           'Omicron train nhanh hơn Beta', 'Omicron train chậm hơn Beta', 'Omicron train tương đương Beta (không quá 10 giây)']\n",
    "\n",
    "your_choices = []\n",
    "\n",
    "# Hãy chọn your_choice với một TẬP CÁC GIÁ TRỊ từ 0, 1, 2, 3, 4, 5 tương ứng với các lựa chọn ở trên.\n",
    "# LƯU Ý: Có thể chọn 0, 1 hoặc nhiều hơn 1 lựa chọn trong câu hỏi này\n",
    "### BEGIN SOLUTION\n",
    "your_choices = [2,5]\n",
    "### END SOLUTION\n",
    "\n",
    "print(\"Theo tôi thì: \")\n",
    "for op in your_choices:\n",
    "    print('   - ', options[op])"
   ]
  },
  {
   "cell_type": "markdown",
   "id": "ae624f13-3594-428c-9cb4-8ace14843323",
   "metadata": {
    "id": "ae624f13-3594-428c-9cb4-8ace14843323",
    "nbgrader": {
     "grade": false,
     "grade_id": "cell-b47acb5531c758eb",
     "locked": true,
     "schema_version": 3,
     "solution": false,
     "task": false
    },
    "tags": []
   },
   "source": [
    "### 4.5 Biến thể Delta - Bỏ hết lớp Convolution trong biến thể Beta\n",
    "Biến thể **Delta** ra đời vì sự nghi ngờ rằng, **Bước Convolution không thực sự hữu ích!!!??** trong kiến trúc mạng CNN. Bạn hãy thử cài đặt, đánh giá xem giả thuyết này có đúng không?\n",
    "\n",
    "Biến thể này nguy hiểm, vì nó thay đổi hoàn toàn kiến trúc của mạng CNN. Theo bạn, biến thể Beta này bản chất là mô hình gì?"
   ]
  },
  {
   "cell_type": "code",
   "execution_count": 124,
   "id": "9676160a-9a04-4367-8191-9a74f9ec1c0d",
   "metadata": {
    "executionInfo": {
     "elapsed": 18,
     "status": "ok",
     "timestamp": 1714033457050,
     "user": {
      "displayName": "Vũ Nguyễn Đức",
      "userId": "08568379512742239702"
     },
     "user_tz": -420
    },
    "id": "9676160a-9a04-4367-8191-9a74f9ec1c0d",
    "nbgrader": {
     "grade": false,
     "grade_id": "cell-b4859246363ac223",
     "locked": false,
     "schema_version": 3,
     "solution": true,
     "task": false
    },
    "tags": []
   },
   "outputs": [],
   "source": [
    "class DeltaCNN(LeNetCNN):\n",
    "    # Define structure of the CNN\n",
    "    def build(self, input_dim):\n",
    "        input = Input(shape=input_dim)\n",
    "        output = None\n",
    "        ### BEGIN SOLUTION\n",
    "        # Bước rút trích đặc trưng\n",
    "        S2 = MaxPooling2D(pool_size=(2, 2), padding=\"same\")(input)\n",
    "        S4 = MaxPooling2D(pool_size=(2, 2), padding=\"same\")(S2)\n",
    "        # Bước trung gian chuyển từ tensor sang vector\n",
    "        flat = Flatten()(S4)\n",
    "        # Bước phân loại đặc trưng bước trước\n",
    "        F5 = Dense(120, activation=\"relu\", use_bias=True)(flat)\n",
    "        F6 = Dense(84, activation=\"relu\", use_bias=True)(F5)\n",
    "        output = Dense(10, activation=\"softmax\", use_bias=True)(F6)  # y~ output\n",
    "        ### END SOLUTION\n",
    "\n",
    "        self.model = Model(input, output)"
   ]
  },
  {
   "cell_type": "code",
   "execution_count": 125,
   "id": "0a6d13e0-4782-4d50-a921-28d714205515",
   "metadata": {
    "colab": {
     "base_uri": "https://localhost:8080/"
    },
    "executionInfo": {
     "elapsed": 17,
     "status": "ok",
     "timestamp": 1714033457050,
     "user": {
      "displayName": "Vũ Nguyễn Đức",
      "userId": "08568379512742239702"
     },
     "user_tz": -420
    },
    "id": "0a6d13e0-4782-4d50-a921-28d714205515",
    "nbgrader": {
     "grade": false,
     "grade_id": "cell-9242a4efe38e4b31",
     "locked": true,
     "schema_version": 3,
     "solution": false,
     "task": false
    },
    "outputId": "01b4c781-9995-49b4-dd3a-7df2e1f7053e",
    "tags": []
   },
   "outputs": [
    {
     "name": "stdout",
     "output_type": "stream",
     "text": [
      "Model: \"model_16\"\n",
      "_________________________________________________________________\n",
      " Layer (type)                Output Shape              Param #   \n",
      "=================================================================\n",
      " input_17 (InputLayer)       [(None, 28, 28, 1)]       0         \n",
      "                                                                 \n",
      " max_pooling2d_11 (MaxPooli  (None, 14, 14, 1)         0         \n",
      " ng2D)                                                           \n",
      "                                                                 \n",
      " max_pooling2d_12 (MaxPooli  (None, 7, 7, 1)           0         \n",
      " ng2D)                                                           \n",
      "                                                                 \n",
      " flatten_16 (Flatten)        (None, 49)                0         \n",
      "                                                                 \n",
      " dense_48 (Dense)            (None, 120)               6000      \n",
      "                                                                 \n",
      " dense_49 (Dense)            (None, 84)                10164     \n",
      "                                                                 \n",
      " dense_50 (Dense)            (None, 10)                850       \n",
      "                                                                 \n",
      "=================================================================\n",
      "Total params: 17014 (66.46 KB)\n",
      "Trainable params: 17014 (66.46 KB)\n",
      "Non-trainable params: 0 (0.00 Byte)\n",
      "_________________________________________________________________\n"
     ]
    }
   ],
   "source": [
    "# Khởi tạo random seed để cố định kết quả huấn luyện cho tất cả mọi người\n",
    "fix_random_seed()\n",
    "\n",
    "# Khởi tạo đối tượng mạng CNN kiến trúc Omicron\n",
    "delta = DeltaCNN()\n",
    "# Xây dựng kiến trúc mô hình với ảnh đầu vào kích thước 28x28x1\n",
    "delta.build((28, 28, 1))\n",
    "delta.summary()"
   ]
  },
  {
   "cell_type": "code",
   "execution_count": 126,
   "id": "870be9ab-0eba-4657-888c-e3ef25c0aad5",
   "metadata": {
    "executionInfo": {
     "elapsed": 10,
     "status": "ok",
     "timestamp": 1714033457050,
     "user": {
      "displayName": "Vũ Nguyễn Đức",
      "userId": "08568379512742239702"
     },
     "user_tz": -420
    },
    "id": "870be9ab-0eba-4657-888c-e3ef25c0aad5",
    "nbgrader": {
     "grade": true,
     "grade_id": "cell-fe9f94591026468d",
     "locked": true,
     "points": 5,
     "schema_version": 3,
     "solution": false,
     "task": false
    },
    "tags": []
   },
   "outputs": [],
   "source": [
    "# Kiểm tra kiến trúc Delta\n",
    "\n",
    "# Kiểm tra số layer không đổi\n",
    "assert len(delta.model.layers) == 7\n",
    "# Kiểm tra một số lớp trong kiến trúc mạng\n",
    "assert \"InputLayer\" in str(type(delta.model.layers[0]))\n",
    "assert \"MaxPooling2D\" in str(type(delta.model.layers[1]))\n",
    "assert \"MaxPooling2D\" in str(type(delta.model.layers[2]))\n",
    "assert \"Dense\" in str(type(delta.model.layers[6]))\n",
    "# Kiểm tra hàm activation của lớp convolution\n",
    "assert delta.model.layers[1].pool_size  == (2, 2)"
   ]
  },
  {
   "cell_type": "code",
   "execution_count": 127,
   "id": "7e9fad50-0703-4be8-b468-6adb0d94b058",
   "metadata": {
    "colab": {
     "base_uri": "https://localhost:8080/"
    },
    "executionInfo": {
     "elapsed": 22064,
     "status": "ok",
     "timestamp": 1714033479110,
     "user": {
      "displayName": "Vũ Nguyễn Đức",
      "userId": "08568379512742239702"
     },
     "user_tz": -420
    },
    "id": "7e9fad50-0703-4be8-b468-6adb0d94b058",
    "nbgrader": {
     "grade": false,
     "grade_id": "cell-703a6528300f05a9",
     "locked": true,
     "schema_version": 3,
     "solution": false,
     "task": false
    },
    "outputId": "c28d21a5-3f79-41cc-9e6b-b7ceefb76f21",
    "tags": []
   },
   "outputs": [
    {
     "name": "stderr",
     "output_type": "stream",
     "text": [
      "WARNING:absl:At this time, the v2.11+ optimizer `tf.keras.optimizers.Adam` runs slowly on M1/M2 Macs, please use the legacy Keras optimizer instead, located at `tf.keras.optimizers.legacy.Adam`.\n"
     ]
    },
    {
     "name": "stdout",
     "output_type": "stream",
     "text": [
      "Epoch 1/10\n",
      "469/469 [==============================] - 1s 966us/step - loss: 0.5100 - accuracy: 0.8328\n",
      "Epoch 2/10\n",
      "469/469 [==============================] - 0s 953us/step - loss: 0.3633 - accuracy: 0.8797\n",
      "Epoch 3/10\n",
      "469/469 [==============================] - 0s 944us/step - loss: 0.3363 - accuracy: 0.8878\n",
      "Epoch 4/10\n",
      "469/469 [==============================] - 0s 933us/step - loss: 0.3196 - accuracy: 0.8921\n",
      "Epoch 5/10\n",
      "469/469 [==============================] - 0s 942us/step - loss: 0.3066 - accuracy: 0.8976\n",
      "Epoch 6/10\n",
      "469/469 [==============================] - 0s 1ms/step - loss: 0.2982 - accuracy: 0.9001\n",
      "Epoch 7/10\n",
      "469/469 [==============================] - 0s 958us/step - loss: 0.2910 - accuracy: 0.9029\n",
      "Epoch 8/10\n",
      "469/469 [==============================] - 0s 1ms/step - loss: 0.2870 - accuracy: 0.9047\n",
      "Epoch 9/10\n",
      "469/469 [==============================] - 0s 965us/step - loss: 0.2776 - accuracy: 0.9062\n",
      "Epoch 10/10\n",
      "469/469 [==============================] - 0s 1ms/step - loss: 0.2779 - accuracy: 0.9054\n"
     ]
    }
   ],
   "source": [
    "# Trèn trén tren!\n",
    "delta.train(x_train_norm, y_train_oh)"
   ]
  },
  {
   "cell_type": "code",
   "execution_count": 128,
   "id": "e7b09a9b-7dc4-4a4b-98ad-6e56456b926b",
   "metadata": {
    "colab": {
     "base_uri": "https://localhost:8080/"
    },
    "executionInfo": {
     "elapsed": 1093,
     "status": "ok",
     "timestamp": 1714033480198,
     "user": {
      "displayName": "Vũ Nguyễn Đức",
      "userId": "08568379512742239702"
     },
     "user_tz": -420
    },
    "id": "e7b09a9b-7dc4-4a4b-98ad-6e56456b926b",
    "nbgrader": {
     "grade": false,
     "grade_id": "cell-a729ab21d81380e7",
     "locked": true,
     "schema_version": 3,
     "solution": false,
     "task": false
    },
    "outputId": "a7c8aa23-63eb-4689-f4ec-d823f808776d",
    "tags": []
   },
   "outputs": [
    {
     "name": "stdout",
     "output_type": "stream",
     "text": [
      "313/313 [==============================] - 0s 362us/step\n",
      "Độ chính xác của phiên bản hiện tại: 88.91000151634216\n"
     ]
    }
   ],
   "source": [
    "# Đánh giá trên tập dữ liệu test\n",
    "delta.predict_and_eval(x_test_norm, y_test)"
   ]
  },
  {
   "cell_type": "markdown",
   "id": "4344f9c9-acad-4c08-9d2b-c64583f2fae1",
   "metadata": {
    "id": "4344f9c9-acad-4c08-9d2b-c64583f2fae1",
    "nbgrader": {
     "grade": false,
     "grade_id": "cell-8d9d20a5ca56bb4c",
     "locked": true,
     "schema_version": 3,
     "solution": false,
     "task": false
    },
    "tags": []
   },
   "source": [
    "Theo bạn giữa phiên bản Delta và Beta, bạn thấy kết quả có sự thay đổi đáng kể hay không?"
   ]
  },
  {
   "cell_type": "code",
   "execution_count": 129,
   "id": "815de145-a238-4afa-a21f-947a3de3ffa9",
   "metadata": {
    "colab": {
     "base_uri": "https://localhost:8080/"
    },
    "executionInfo": {
     "elapsed": 32,
     "status": "ok",
     "timestamp": 1714033480198,
     "user": {
      "displayName": "Vũ Nguyễn Đức",
      "userId": "08568379512742239702"
     },
     "user_tz": -420
    },
    "id": "815de145-a238-4afa-a21f-947a3de3ffa9",
    "nbgrader": {
     "grade": false,
     "grade_id": "cell-4382fac94f0ef40b",
     "locked": false,
     "schema_version": 3,
     "solution": true,
     "task": false
    },
    "outputId": "c41a0ba0-a093-4de0-be0e-a633b85c6509",
    "tags": []
   },
   "outputs": [
    {
     "name": "stdout",
     "output_type": "stream",
     "text": [
      "Theo tôi thì:  Beta ngang ngửa Delta (chênh không quá 1%)\n"
     ]
    }
   ],
   "source": [
    "options = ['Không có ý kiến', 'Beta tốt hơn Delta', 'Beta tệ hơn Delta', 'Beta ngang ngửa Delta (chênh không quá 1%)']\n",
    "\n",
    "your_choice = None\n",
    "\n",
    "# Hãy chọn your_choice bằng 0, 1, 2 hoặc 3 tương ứng với các lựa chọn ở trên\n",
    "### BEGIN SOLUTION\n",
    "your_choice = 1\n",
    "### END SOLUTION\n",
    "\n",
    "print(\"Theo tôi thì: \", options[your_choice])"
   ]
  },
  {
   "cell_type": "markdown",
   "id": "6a203208-c4de-47df-bb76-752fc312d1ea",
   "metadata": {
    "id": "6a203208-c4de-47df-bb76-752fc312d1ea",
    "nbgrader": {
     "grade": false,
     "grade_id": "cell-69b898a90737815a",
     "locked": true,
     "schema_version": 3,
     "solution": false,
     "task": false
    },
    "tags": []
   },
   "source": [
    "Ngoài ra, bạn có nhận xét gì về số lượng tham số và thời gian train của mô hình Delta?"
   ]
  },
  {
   "cell_type": "code",
   "execution_count": 130,
   "id": "df891c8e-f1e4-47c2-b56e-b06089821b5c",
   "metadata": {
    "colab": {
     "base_uri": "https://localhost:8080/"
    },
    "executionInfo": {
     "elapsed": 15,
     "status": "ok",
     "timestamp": 1714033480198,
     "user": {
      "displayName": "Vũ Nguyễn Đức",
      "userId": "08568379512742239702"
     },
     "user_tz": -420
    },
    "id": "df891c8e-f1e4-47c2-b56e-b06089821b5c",
    "nbgrader": {
     "grade": false,
     "grade_id": "cell-420393feaa427f16",
     "locked": false,
     "schema_version": 3,
     "solution": true,
     "task": false
    },
    "outputId": "43b4ded4-fa17-478a-e9dd-232fd56cce0a",
    "tags": []
   },
   "outputs": [
    {
     "name": "stdout",
     "output_type": "stream",
     "text": [
      "Theo tôi thì: \n",
      "   -  Delta train tương đương\n"
     ]
    }
   ],
   "source": [
    "options = ['Delta có tham số ít hơn Beta', 'Delta nhiều tham số hơn Beta', 'Delta có tham số bằng Beta',\n",
    "           'Delta train nhanh hơn Beta', 'Delta train chậm hơn Beta', 'Delta train tương đương']\n",
    "\n",
    "your_choices = []\n",
    "\n",
    "# Hãy chọn your_choice với một TẬP CÁC GIÁ TRỊ từ 0, 1, 2, 3, 4, 5 tương ứng với các lựa chọn ở trên\n",
    "# LƯU Ý: Có thể chọn 0, 1 hoặc nhiều hơn 1 lựa chọn trong câu hỏi này\n",
    "### BEGIN SOLUTION\n",
    "your_choices = [1,3]\n",
    "### END SOLUTION\n",
    "\n",
    "print(\"Theo tôi thì: \")\n",
    "for op in your_choices:\n",
    "    print('   - ', options[op])"
   ]
  },
  {
   "cell_type": "markdown",
   "id": "b2634d9e-d20e-4eb7-9a92-66304023b20d",
   "metadata": {
    "id": "b2634d9e-d20e-4eb7-9a92-66304023b20d",
    "nbgrader": {
     "grade": false,
     "grade_id": "cell-2e080c77ec0c63d3",
     "locked": true,
     "schema_version": 3,
     "solution": false,
     "task": false
    },
    "tags": []
   },
   "source": [
    "Phew!! Vậy là bạn đã trải nghiệm **cảm giác thiết kế, chỉnh sửa kiến trúc** mạng CNN. Mỗi module đều có một chức năng nhất định. Hi vọng bạn cảm nhận được ý nghĩa của từng module và vai trò của nó trong thiết kế chung của mạng CNN."
   ]
  }
 ],
 "metadata": {
  "accelerator": "GPU",
  "colab": {
   "gpuType": "T4",
   "provenance": []
  },
  "kernelspec": {
   "display_name": "Python 3 (ipykernel)",
   "language": "python",
   "name": "python3"
  },
  "language_info": {
   "codemirror_mode": {
    "name": "ipython",
    "version": 3
   },
   "file_extension": ".py",
   "mimetype": "text/x-python",
   "name": "python",
   "nbconvert_exporter": "python",
   "pygments_lexer": "ipython3",
   "version": "3.11.5"
  },
  "vscode": {
   "interpreter": {
    "hash": "1ab48fd54ba4be4b5abe8211922eb8aabb6bf77188ebe1c958396403dd876fed"
   }
  }
 },
 "nbformat": 4,
 "nbformat_minor": 5
}
