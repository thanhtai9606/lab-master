{
 "cells": [
  {
   "cell_type": "code",
   "execution_count": 18,
   "metadata": {},
   "outputs": [
    {
     "ename": "ValueError",
     "evalue": "shapes (250000,5) and (6,) not aligned: 5 (dim 1) != 6 (dim 0)",
     "output_type": "error",
     "traceback": [
      "\u001b[0;31m---------------------------------------------------------------------------\u001b[0m",
      "\u001b[0;31mValueError\u001b[0m                                Traceback (most recent call last)",
      "Cell \u001b[0;32mIn[18], line 36\u001b[0m\n\u001b[1;32m     33\u001b[0m x2s \u001b[38;5;241m=\u001b[39m np\u001b[38;5;241m.\u001b[39mlinspace(\u001b[38;5;241m0.0\u001b[39m, \u001b[38;5;241m1.1\u001b[39m, \u001b[38;5;241m500\u001b[39m)\n\u001b[1;32m     34\u001b[0m x1, x2 \u001b[38;5;241m=\u001b[39m np\u001b[38;5;241m.\u001b[39mmeshgrid(x1s, x2s)\n\u001b[0;32m---> 36\u001b[0m z1 \u001b[38;5;241m=\u001b[39m \u001b[43mmlp\u001b[49m\u001b[43m(\u001b[49m\u001b[43mx1\u001b[49m\u001b[43m,\u001b[49m\u001b[43m \u001b[49m\u001b[43mx2\u001b[49m\u001b[43m)\u001b[49m\n\u001b[1;32m     38\u001b[0m plt\u001b[38;5;241m.\u001b[39mfigure()\n\u001b[1;32m     39\u001b[0m plt\u001b[38;5;241m.\u001b[39mcontourf(x1, x2, z1, alpha\u001b[38;5;241m=\u001b[39m\u001b[38;5;241m0.8\u001b[39m, cmap\u001b[38;5;241m=\u001b[39m\u001b[38;5;124m'\u001b[39m\u001b[38;5;124mviridis\u001b[39m\u001b[38;5;124m'\u001b[39m)\n",
      "Cell \u001b[0;32mIn[18], line 27\u001b[0m, in \u001b[0;36mmlp\u001b[0;34m(x1, x2)\u001b[0m\n\u001b[1;32m     24\u001b[0m a1 \u001b[38;5;241m=\u001b[39m activation(z1)\n\u001b[1;32m     26\u001b[0m \u001b[38;5;66;03m# Tính toán đầu ra của lớp output\u001b[39;00m\n\u001b[0;32m---> 27\u001b[0m z2 \u001b[38;5;241m=\u001b[39m \u001b[43mnp\u001b[49m\u001b[38;5;241;43m.\u001b[39;49m\u001b[43mdot\u001b[49m\u001b[43m(\u001b[49m\u001b[43ma1\u001b[49m\u001b[43m,\u001b[49m\u001b[43m \u001b[49m\u001b[43mW2\u001b[49m\u001b[43m)\u001b[49m \u001b[38;5;241m+\u001b[39m b2\n\u001b[1;32m     28\u001b[0m a2 \u001b[38;5;241m=\u001b[39m activation(z2)\n\u001b[1;32m     30\u001b[0m \u001b[38;5;28;01mreturn\u001b[39;00m a2\u001b[38;5;241m.\u001b[39mreshape(x1\u001b[38;5;241m.\u001b[39mshape)\n",
      "\u001b[0;31mValueError\u001b[0m: shapes (250000,5) and (6,) not aligned: 5 (dim 1) != 6 (dim 0)"
     ]
    }
   ],
   "source": [
    "import numpy as np\n",
    "import matplotlib.pyplot as plt\n",
    "\n",
    "def activation(z):\n",
    "    return np.double(z >= 0)\n",
    "\n",
    "def mlp(x1, x2):\n",
    "    # Trọng số và bias từ lớp input đến lớp ẩn\n",
    "    W1 = np.array([\n",
    "        [10, -10],\n",
    "        [-10, 10],\n",
    "        [10, -10],\n",
    "        [-10, 10],\n",
    "        [10, -10]\n",
    "    ])\n",
    "    b1 = np.array([-10, 10, -10, 10, -10])\n",
    "\n",
    "    # Trọng số và bias từ lớp ẩn đến lớp output\n",
    "    W2 = np.array([1, 1, 1, 1, 1,1])\n",
    "    b2 = -4  # Điều chỉnh bias lớp output để có biên quyết định chính xác hơn\n",
    "\n",
    "    # Tính toán đầu ra của lớp ẩn\n",
    "    z1 = np.dot(np.stack([x1.ravel(), x2.ravel()], axis=1), W1.T) + b1\n",
    "    a1 = activation(z1)\n",
    "\n",
    "    # Tính toán đầu ra của lớp output\n",
    "    z2 = np.dot(a1, W2) + b2\n",
    "    a2 = activation(z2)\n",
    "\n",
    "\n",
    "x1s = np.linspace(0.0, 1.0, 500)\n",
    "x2s = np.linspace(0.0, 1.1, 500)\n",
    "x1, x2 = np.meshgrid(x1s, x2s)\n",
    "\n",
    "z1 = mlp(x1, x2)\n",
    "\n",
    "plt.figure()\n",
    "plt.contourf(x1, x2, z1, alpha=0.8, cmap='viridis')\n",
    "plt.plot([0.2, 0.3, 0.5, 0.7, 0.8], [0.7, 0.2, 1.0, 0.2, 0.7], \"ro\", markersize=5)\n",
    "plt.fill([0.2, 0.3, 0.5, 0.7, 0.8], [0.7, 0.2, 1.0, 0.2, 0.7], 'yellow', alpha=0.6)  # Fill the pentagon with yellow color\n",
    "\n",
    "plt.xticks(np.arange(0.0, 1.1, step=0.1))\n",
    "plt.yticks(np.arange(0.0, 1.2, step=0.1))\n",
    "plt.grid(True)\n",
    "plt.show()\n"
   ]
  }
 ],
 "metadata": {
  "kernelspec": {
   "display_name": "Python 3",
   "language": "python",
   "name": "python3"
  },
  "language_info": {
   "codemirror_mode": {
    "name": "ipython",
    "version": 3
   },
   "file_extension": ".py",
   "mimetype": "text/x-python",
   "name": "python",
   "nbconvert_exporter": "python",
   "pygments_lexer": "ipython3",
   "version": "3.11.9"
  }
 },
 "nbformat": 4,
 "nbformat_minor": 2
}
