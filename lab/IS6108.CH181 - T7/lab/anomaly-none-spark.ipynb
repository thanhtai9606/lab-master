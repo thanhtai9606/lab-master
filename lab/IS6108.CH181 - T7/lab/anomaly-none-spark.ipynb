{
 "cells": [
  {
   "cell_type": "code",
   "execution_count": null,
   "metadata": {},
   "outputs": [],
   "source": [
    "from pyspark.sql import SparkSession\n",
    "from sklearn.ensemble import IsolationForest\n",
    "import matplotlib.pyplot as plt\n",
    "\n",
    "# Tạo Spark session\n",
    "spark = SparkSession.builder.appName(\"AnomalyDetection\").getOrCreate()\n",
    "\n",
    "# Đọc file CSV\n",
    "df = spark.read.csv(\"../../../data/Chiller.csv\", header=True, inferSchema=True)\n",
    "# Hiển thị dữ liệu\n",
    "df.show()\n",
    "\n",
    "# Chuyển đổi DataFrame của Spark thành Pandas DataFrame\n",
    "pandas_df = df.toPandas()\n",
    "\n",
    "# Lấy danh sách header và bỏ qua cột đầu tiên\n",
    "columns = df.columns\n",
    "\n",
    "# Chọn cột đầu tiên làm trục X (Timestamp) và một cột được chọn làm trục Y\n",
    "timestamp_column = columns[0]\n",
    "selected_column = \"Y-Acceleration\"  # Thay thế bằng tên cột bạn muốn chọn làm trục Y\n",
    "\n",
    "# Chọn các cột cần thiết cho mô hình IsolationForest (bỏ qua cột đầu tiên)\n",
    "features = pandas_df[columns[1:]].values\n",
    "\n",
    "# Sử dụng IsolationForest để phát hiện bất thường\n",
    "model = IsolationForest(contamination=0.1)  # Đặt mức độ bất thường mong muốn\n",
    "model.fit(features)\n",
    "\n",
    "# Dự đoán các điểm bất thường\n",
    "predictions = model.predict(features)\n",
    "\n",
    "# Thêm cột dự đoán vào DataFrame\n",
    "pandas_df[\"anomaly\"] = predictions\n",
    "\n",
    "# Vẽ biểu đồ line với trục X là Timestamp và trục Y là selected_column, các điểm bất thường được đánh dấu bằng scatter màu đỏ\n",
    "plt.figure(figsize=(14, 7))\n",
    "\n",
    "# Vẽ biểu đồ line cho cột được chọn\n",
    "plt.plot(pandas_df[timestamp_column], pandas_df[selected_column], label=selected_column, color='blue')\n",
    "\n",
    "# Vẽ các điểm bất thường bằng scatter màu đỏ\n",
    "anomalies = pandas_df[pandas_df[\"anomaly\"] == -1]\n",
    "plt.scatter(anomalies[timestamp_column], anomalies[selected_column], color='red', label=\"Anomalies\")\n",
    "\n",
    "plt.xlabel(timestamp_column)\n",
    "plt.ylabel(selected_column)\n",
    "plt.legend()\n",
    "plt.title(\"IsolationForest Anomaly Detection\")\n",
    "plt.show()\n"
   ]
  }
 ],
 "metadata": {
  "language_info": {
   "name": "python"
  }
 },
 "nbformat": 4,
 "nbformat_minor": 2
}
