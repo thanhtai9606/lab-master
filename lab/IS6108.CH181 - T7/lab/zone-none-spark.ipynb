{
 "cells": [
  {
   "cell_type": "code",
   "execution_count": 1,
   "metadata": {},
   "outputs": [],
   "source": [
    "import pandas as pd\n",
    "import numpy as np\n",
    "import matplotlib.pyplot as plt\n",
    "from sklearn.ensemble import IsolationForest\n",
    "from sklearn.decomposition import PCA\n",
    "\n",
    "file_path = \"../../../data/zone_temparature_and_humidity.csv\"\n",
    "# Load your dataset\n",
    "data_csv = pd.read_csv(file_path)\n",
    "\n",
    "# Select the specific feature for analysis\n",
    "feature = 'payload_Zone1_humidity_mt0708_dew_value'\n",
    "\n",
    "\n",
    "data_feature = data_csv[feature].dropna().values.reshape(-1, 1)\n",
    "column_timestamp= \"timeStamp\"\n",
    "# Apply the Isolation Forest method\n",
    "iso_forest = IsolationForest(contamination=0.01, random_state=42)\n",
    "anomalies = iso_forest.fit_predict(data_feature)\n",
    "anomaly_indices = np.where(anomalies == -1)[0]\n",
    "\n",
    "# Plot the data with anomalies highlighted\n",
    "plt.figure(figsize=(14, 7))\n",
    "plt.plot(data_csv[column_timestamp], data_csv[feature], label=feature)\n",
    "plt.scatter(data_csv.iloc[anomaly_indices][column_timestamp], data_csv.iloc[anomaly_indices][feature], color='red', label='Anomaly')\n",
    "plt.xlabel(column_timestamp)\n",
    "plt.ylabel(feature)\n",
    "plt.title(f'{feature} Data Over Time with Anomalies Highlighted')\n",
    "plt.legend()\n",
    "plt.show()"
   ]
  }
 ],
 "metadata": {
  "kernelspec": {
   "display_name": "Python 3",
   "language": "python",
   "name": "python3"
  },
  "language_info": {
   "codemirror_mode": {
    "name": "ipython",
    "version": 3
   },
   "file_extension": ".py",
   "mimetype": "text/x-python",
   "name": "python",
   "nbconvert_exporter": "python",
   "pygments_lexer": "ipython3",
   "version": "3.11.9"
  }
 },
 "nbformat": 4,
 "nbformat_minor": 2
}
