{
 "cells": [
  {
   "cell_type": "code",
   "execution_count": 3,
   "metadata": {},
   "outputs": [
    {
     "ename": "ModuleNotFoundError",
     "evalue": "No module named 'pyspark'",
     "output_type": "error",
     "traceback": [
      "\u001b[0;31m---------------------------------------------------------------------------\u001b[0m",
      "\u001b[0;31mModuleNotFoundError\u001b[0m                       Traceback (most recent call last)",
      "Cell \u001b[0;32mIn[3], line 3\u001b[0m\n\u001b[1;32m      1\u001b[0m \u001b[38;5;28;01mfrom\u001b[39;00m \u001b[38;5;21;01msklearn\u001b[39;00m\u001b[38;5;21;01m.\u001b[39;00m\u001b[38;5;21;01mensemble\u001b[39;00m \u001b[38;5;28;01mimport\u001b[39;00m IsolationForest\n\u001b[1;32m      2\u001b[0m \u001b[38;5;28;01mimport\u001b[39;00m \u001b[38;5;21;01mmatplotlib\u001b[39;00m\u001b[38;5;21;01m.\u001b[39;00m\u001b[38;5;21;01mpyplot\u001b[39;00m \u001b[38;5;28;01mas\u001b[39;00m \u001b[38;5;21;01mplt\u001b[39;00m\n\u001b[0;32m----> 3\u001b[0m \u001b[38;5;28;01mfrom\u001b[39;00m \u001b[38;5;21;01mpyspark\u001b[39;00m\u001b[38;5;21;01m.\u001b[39;00m\u001b[38;5;21;01msql\u001b[39;00m \u001b[38;5;28;01mimport\u001b[39;00m SparkSession\n\u001b[1;32m      5\u001b[0m \u001b[38;5;66;03m# Tạo Spark session\u001b[39;00m\n\u001b[1;32m      6\u001b[0m spark \u001b[38;5;241m=\u001b[39m SparkSession\u001b[38;5;241m.\u001b[39mbuilder\u001b[38;5;241m.\u001b[39mappName(\u001b[38;5;124m\"\u001b[39m\u001b[38;5;124mAnomalyDetection\u001b[39m\u001b[38;5;124m\"\u001b[39m)\u001b[38;5;241m.\u001b[39mgetOrCreate()\n",
      "\u001b[0;31mModuleNotFoundError\u001b[0m: No module named 'pyspark'"
     ]
    }
   ],
   "source": [
    "from sklearn.ensemble import IsolationForest\n",
    "import matplotlib.pyplot as plt\n",
    "from pyspark.sql import SparkSession\n",
    "\n",
    "# Tạo Spark session\n",
    "spark = SparkSession.builder.appName(\"AnomalyDetection\").getOrCreate()\n",
    "\n",
    "# Đọc file CSV\n",
    "df = spark.read.csv(\"../../../data/101.csv\", header=True, inferSchema=True)\n",
    "\n",
    "# Hiển thị dữ liệu\n",
    "df.show()\n",
    "\n",
    "# Chuyển đổi DataFrame của Spark thành Pandas DataFrame\n",
    "pandas_df = df.toPandas()\n",
    "\n",
    "# Lấy danh sách header và bỏ qua cột đầu tiên\n",
    "columns = df.columns[1:]\n",
    "\n",
    "# Chọn các cột cần thiết (bỏ qua cột đầu tiên)\n",
    "features = pandas_df[columns].values\n",
    "\n",
    "# Sử dụng IsolationForest để phát hiện bất thường\n",
    "model = IsolationForest(contamination=0.1)  # Đặt mức độ bất thường mong muốn\n",
    "model.fit(features)\n",
    "\n",
    "# Dự đoán các điểm bất thường\n",
    "predictions = model.predict(features)\n",
    "\n",
    "target = \"101J_AM1_TI_303_PV\"\n",
    "# Thêm cột dự đoán vào DataFrame\n",
    "pandas_df[\"anomaly\"] = predictions\n",
    "\n",
    "# Hiển thị kết quả dưới dạng biểu đồ\n",
    "plt.figure(figsize=(10, 6))\n",
    "\n",
    "# Vẽ các điểm dữ liệu\n",
    "plt.scatter(pandas_df[columns[0]], pandas_df[columns[1]], c='blue', label=\"Normal\")\n",
    "\n",
    "# Vẽ các điểm bất thường\n",
    "anomalies = pandas_df[pandas_df[\"anomaly\"] == -1]\n",
    "plt.scatter(anomalies[columns[0]], anomalies[columns[1]], c='red', label=\"Anomaly\")\n",
    "\n",
    "plt.xlabel(columns[0])\n",
    "plt.ylabel(columns[1])\n",
    "plt.legend()\n",
    "plt.title(\"IsolationForest Anomaly Detection\")\n",
    "plt.show()\n"
   ]
  }
 ],
 "metadata": {
  "kernelspec": {
   "display_name": ".venv",
   "language": "python",
   "name": "python3"
  },
  "language_info": {
   "codemirror_mode": {
    "name": "ipython",
    "version": 3
   },
   "file_extension": ".py",
   "mimetype": "text/x-python",
   "name": "python",
   "nbconvert_exporter": "python",
   "pygments_lexer": "ipython3",
   "version": "3.11.9"
  }
 },
 "nbformat": 4,
 "nbformat_minor": 2
}
