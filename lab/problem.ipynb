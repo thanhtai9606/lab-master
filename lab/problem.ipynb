{
  "cells": [
    {
      "cell_type": "markdown",
      "id": "26f05d0f-06f5-48d1-8626-8dc83eef26de",
      "metadata": {
        "id": "26f05d0f-06f5-48d1-8626-8dc83eef26de",
        "nbgrader": {
          "grade": false,
          "grade_id": "cell-5809f805b6345a16",
          "locked": true,
          "schema_version": 3,
          "solution": false,
          "task": false
        },
        "tags": []
      },
      "source": [
        "# LUYỆN TẬP NUMPY - PHẦN 1"
      ]
    },
    {
      "cell_type": "code",
      "execution_count": 57,
      "id": "f45b620e-ed08-4abe-bfe5-416efe19c95d",
      "metadata": {
        "id": "f45b620e-ed08-4abe-bfe5-416efe19c95d",
        "nbgrader": {
          "grade": false,
          "grade_id": "cell-3a2b0f507b3ad318",
          "locked": true,
          "schema_version": 3,
          "solution": false,
          "task": false
        },
        "tags": []
      },
      "outputs": [],
      "source": [
        "import numpy as np\n",
        "from typing import List, Dict, Tuple, Optional"
      ]
    },
    {
      "cell_type": "markdown",
      "id": "a44f645a-c3c1-421a-b249-5989ec63560f",
      "metadata": {
        "id": "a44f645a-c3c1-421a-b249-5989ec63560f",
        "nbgrader": {
          "grade": false,
          "grade_id": "cell-c7c5ec99cd86a48a",
          "locked": true,
          "schema_version": 3,
          "solution": false,
          "task": false
        },
        "tags": []
      },
      "source": [
        "## Bài 1: Khởi tạo vector\n",
        "Khởi tạo một vector gồm `n` phần tử gồm toàn số 0."
      ]
    },
    {
      "cell_type": "markdown",
      "id": "2b1f8b60-5d33-4ae5-b2b2-65be52dccf6e",
      "metadata": {
        "id": "2b1f8b60-5d33-4ae5-b2b2-65be52dccf6e",
        "nbgrader": {
          "grade": false,
          "grade_id": "cell-762e4f7881769608",
          "locked": true,
          "schema_version": 3,
          "solution": false,
          "task": false
        },
        "tags": []
      },
      "source": [
        "Ví dụ:\n",
        "\n",
        "Input:\n",
        "```\n",
        "n = 5\n",
        "```\n",
        "\n",
        "Output:\n",
        "```\n",
        "array([0., 0., 0., 0., 0.])\n",
        "```"
      ]
    },
    {
      "cell_type": "code",
      "execution_count": 58,
      "id": "8d9613b7-0508-4dc9-8c40-44099f8a6a06",
      "metadata": {
        "id": "8d9613b7-0508-4dc9-8c40-44099f8a6a06",
        "nbgrader": {
          "grade": false,
          "grade_id": "cell-02aa6d96c8c51dc9",
          "locked": false,
          "schema_version": 3,
          "solution": true,
          "task": false
        },
        "tags": []
      },
      "outputs": [],
      "source": [
        "def init_zeros(n: int) -> np.ndarray:\n",
        "    ### BEGIN SOLUTION\n",
        "    return np.zeros(n)\n",
        "    ### END SOLUTION"
      ]
    },
    {
      "cell_type": "code",
      "execution_count": 59,
      "id": "ea80855f-f927-48af-9df8-08a3986ce6e7",
      "metadata": {
        "colab": {
          "base_uri": "https://localhost:8080/"
        },
        "id": "ea80855f-f927-48af-9df8-08a3986ce6e7",
        "nbgrader": {
          "grade": false,
          "grade_id": "cell-8afbdd0befb84406",
          "locked": true,
          "schema_version": 3,
          "solution": false,
          "task": false
        },
        "outputId": "52692690-cc42-452b-f906-a8ae7f5e4e3f",
        "tags": []
      },
      "outputs": [
        {
          "data": {
            "text/plain": [
              "array([0., 0., 0., 0., 0.])"
            ]
          },
          "execution_count": 59,
          "metadata": {},
          "output_type": "execute_result"
        }
      ],
      "source": [
        "# Sample Input & Output\n",
        "init_zeros(5)"
      ]
    },
    {
      "cell_type": "code",
      "execution_count": 60,
      "id": "8f516dcd-48e0-4e89-aa1d-b5fc4946010b",
      "metadata": {
        "id": "8f516dcd-48e0-4e89-aa1d-b5fc4946010b",
        "nbgrader": {
          "grade": true,
          "grade_id": "cell-ebe669293315df42",
          "locked": true,
          "points": 5,
          "schema_version": 3,
          "solution": false,
          "task": false
        },
        "tags": []
      },
      "outputs": [],
      "source": [
        "# Public Test\n",
        "assert init_zeros(5).shape == (5, )\n",
        "assert np.sum(abs(init_zeros(5) - np.array([0, 0, 0, 0, 0]))) == 0"
      ]
    },
    {
      "cell_type": "markdown",
      "id": "aa333be6-36f0-4b97-bd13-d2ec3a7f6e6d",
      "metadata": {
        "id": "aa333be6-36f0-4b97-bd13-d2ec3a7f6e6d",
        "nbgrader": {
          "grade": false,
          "grade_id": "cell-f844ea8d8190f862",
          "locked": true,
          "schema_version": 3,
          "solution": false,
          "task": false
        },
        "tags": []
      },
      "source": [
        "## Bài 2: Khởi tạo vector\n",
        "Khởi tạo một vector gồm `n` phần tử gồm toàn số 1."
      ]
    },
    {
      "cell_type": "markdown",
      "id": "b8d2caf9-fa84-45ec-813e-5206a8dec21a",
      "metadata": {
        "id": "b8d2caf9-fa84-45ec-813e-5206a8dec21a",
        "nbgrader": {
          "grade": false,
          "grade_id": "cell-91f1d945b2be808c",
          "locked": true,
          "schema_version": 3,
          "solution": false,
          "task": false
        },
        "tags": []
      },
      "source": [
        "Ví dụ:\n",
        "\n",
        "Input:\n",
        "```\n",
        "n = 5\n",
        "```\n",
        "\n",
        "Output:\n",
        "```\n",
        "array([1, 1, 1, 1, 1])\n",
        "```"
      ]
    },
    {
      "cell_type": "code",
      "execution_count": 61,
      "id": "4161cd42-7a01-44db-9aed-627413804a20",
      "metadata": {
        "id": "4161cd42-7a01-44db-9aed-627413804a20",
        "nbgrader": {
          "grade": false,
          "grade_id": "cell-a3d940e1087fc999",
          "locked": false,
          "schema_version": 3,
          "solution": true,
          "task": false
        },
        "tags": []
      },
      "outputs": [],
      "source": [
        "def init_ones(n: int) -> np.ndarray:\n",
        "    ### BEGIN SOLUTION\n",
        "    return np.ones(n)\n",
        "    ### END SOLUTION"
      ]
    },
    {
      "cell_type": "code",
      "execution_count": 62,
      "id": "2da63e00-f8bd-453a-866f-02f3b1b40cbb",
      "metadata": {
        "colab": {
          "base_uri": "https://localhost:8080/"
        },
        "id": "2da63e00-f8bd-453a-866f-02f3b1b40cbb",
        "nbgrader": {
          "grade": false,
          "grade_id": "cell-5ea577c5e71f5f47",
          "locked": true,
          "schema_version": 3,
          "solution": false,
          "task": false
        },
        "outputId": "a8bf4bf4-d473-499e-d5ae-ba32b731388c",
        "tags": []
      },
      "outputs": [
        {
          "data": {
            "text/plain": [
              "array([1., 1., 1., 1., 1.])"
            ]
          },
          "execution_count": 62,
          "metadata": {},
          "output_type": "execute_result"
        }
      ],
      "source": [
        "# Sample Input & Output\n",
        "init_ones(5)"
      ]
    },
    {
      "cell_type": "code",
      "execution_count": 63,
      "id": "0645765a-eff1-44d2-8a11-8e77c38d49b4",
      "metadata": {
        "id": "0645765a-eff1-44d2-8a11-8e77c38d49b4",
        "nbgrader": {
          "grade": true,
          "grade_id": "cell-962507eb0e79c742",
          "locked": true,
          "points": 5,
          "schema_version": 3,
          "solution": false,
          "task": false
        },
        "tags": []
      },
      "outputs": [],
      "source": [
        "# Public Test\n",
        "assert init_ones(5).shape == (5, )\n",
        "assert np.sum(abs(init_ones(5) - np.array([1, 1, 1, 1, 1]))) == 0"
      ]
    },
    {
      "cell_type": "markdown",
      "id": "868ad0ae-c205-4219-b54a-5540d1343568",
      "metadata": {
        "id": "868ad0ae-c205-4219-b54a-5540d1343568",
        "nbgrader": {
          "grade": false,
          "grade_id": "cell-25b2d7b0d2e2d452",
          "locked": true,
          "schema_version": 3,
          "solution": false,
          "task": false
        },
        "tags": []
      },
      "source": [
        "## Bài 3: Khởi tạo vector\n",
        "Khởi tạo một vector gồm `n` phần tử gồm toàn số `x`."
      ]
    },
    {
      "cell_type": "markdown",
      "id": "a5c3950f-0f9a-45fa-97b2-403fd8d3d73b",
      "metadata": {
        "id": "a5c3950f-0f9a-45fa-97b2-403fd8d3d73b",
        "nbgrader": {
          "grade": false,
          "grade_id": "cell-5b6b7530637a28f3",
          "locked": true,
          "schema_version": 3,
          "solution": false,
          "task": false
        },
        "tags": []
      },
      "source": [
        "Ví dụ:\n",
        "\n",
        "Input:\n",
        "```\n",
        "n = 5\n",
        "x = 3.5\n",
        "```\n",
        "\n",
        "Output:\n",
        "```\n",
        "array([3.5, 3.5, 3.5, 3.5, 3.5])\n",
        "```"
      ]
    },
    {
      "cell_type": "code",
      "execution_count": 64,
      "id": "1910a248-1d78-42f7-bcba-5e701880a2e0",
      "metadata": {
        "id": "1910a248-1d78-42f7-bcba-5e701880a2e0",
        "nbgrader": {
          "grade": false,
          "grade_id": "cell-0c08e0ad3fa2f88b",
          "locked": false,
          "schema_version": 3,
          "solution": true,
          "task": false
        },
        "tags": []
      },
      "outputs": [],
      "source": [
        "def init_all_x(n: int, x: float) -> np.ndarray:\n",
        "    ### BEGIN SOLUTION\n",
        "    return np.full(n, x)\n",
        "    ### END SOLUTION"
      ]
    },
    {
      "cell_type": "code",
      "execution_count": 65,
      "id": "fae1d039-bd17-4ebf-b3b6-d874e6d40251",
      "metadata": {
        "colab": {
          "base_uri": "https://localhost:8080/"
        },
        "id": "fae1d039-bd17-4ebf-b3b6-d874e6d40251",
        "nbgrader": {
          "grade": false,
          "grade_id": "cell-04ace7c580292913",
          "locked": true,
          "schema_version": 3,
          "solution": false,
          "task": false
        },
        "outputId": "0df017da-06ab-4a95-e7c4-53587ae1b198",
        "tags": []
      },
      "outputs": [
        {
          "data": {
            "text/plain": [
              "array([3.5, 3.5, 3.5, 3.5, 3.5])"
            ]
          },
          "execution_count": 65,
          "metadata": {},
          "output_type": "execute_result"
        }
      ],
      "source": [
        "# Sample Input & Output\n",
        "init_all_x(5, 3.5)"
      ]
    },
    {
      "cell_type": "code",
      "execution_count": 66,
      "id": "ad6c0f58-7417-42a1-b6e7-5ea0a48327ef",
      "metadata": {
        "id": "ad6c0f58-7417-42a1-b6e7-5ea0a48327ef",
        "nbgrader": {
          "grade": true,
          "grade_id": "cell-d011edd31917dd88",
          "locked": true,
          "points": 5,
          "schema_version": 3,
          "solution": false,
          "task": false
        },
        "tags": []
      },
      "outputs": [],
      "source": [
        "# Public Test\n",
        "assert init_all_x(5, 3.5).shape == (5, )\n",
        "assert np.sum(abs(init_all_x(5, 3.5) - np.array([3.5, 3.5, 3.5, 3.5, 3.5]))) == 0"
      ]
    },
    {
      "cell_type": "markdown",
      "id": "1204b408-77f7-4fc8-9d96-fe218f606dd5",
      "metadata": {
        "id": "1204b408-77f7-4fc8-9d96-fe218f606dd5",
        "nbgrader": {
          "grade": false,
          "grade_id": "cell-97a3bbc08aef2208",
          "locked": true,
          "schema_version": 3,
          "solution": false,
          "task": false
        },
        "tags": []
      },
      "source": [
        "## Bài 4: Khởi tạo vector\n",
        "Khởi tạo một vector có số phần tử là `n` gồm các số nguyên tăng dần từ `0..n-1`."
      ]
    },
    {
      "cell_type": "markdown",
      "id": "d5f57168-194a-4bc4-9f45-f8e5c3c92507",
      "metadata": {
        "id": "d5f57168-194a-4bc4-9f45-f8e5c3c92507",
        "nbgrader": {
          "grade": false,
          "grade_id": "cell-cb4290522ece0c57",
          "locked": true,
          "schema_version": 3,
          "solution": false,
          "task": false
        },
        "tags": []
      },
      "source": [
        "Ví dụ:\n",
        "\n",
        "Input:\n",
        "```\n",
        "n = 5\n",
        "```\n",
        "\n",
        "Output:\n",
        "```\n",
        "array([0, 1, 2, 3, 4])\n",
        "```"
      ]
    },
    {
      "cell_type": "code",
      "execution_count": 67,
      "id": "3f557001-b219-4b8f-9594-a35fd63a8fc4",
      "metadata": {
        "id": "3f557001-b219-4b8f-9594-a35fd63a8fc4",
        "nbgrader": {
          "grade": false,
          "grade_id": "cell-f57ae1d754273897",
          "locked": false,
          "schema_version": 3,
          "solution": true,
          "task": false
        },
        "tags": []
      },
      "outputs": [],
      "source": [
        "def init_range(n: int) -> np.ndarray:\n",
        "    ### BEGIN SOLUTION\n",
        "    return np.arange(n)\n",
        "    ### END SOLUTION"
      ]
    },
    {
      "cell_type": "code",
      "execution_count": 68,
      "id": "bb5391ee-5e7e-466e-90c8-1d88cc54f002",
      "metadata": {
        "colab": {
          "base_uri": "https://localhost:8080/"
        },
        "id": "bb5391ee-5e7e-466e-90c8-1d88cc54f002",
        "nbgrader": {
          "grade": false,
          "grade_id": "cell-23bef9c73a6fb338",
          "locked": true,
          "schema_version": 3,
          "solution": false,
          "task": false
        },
        "outputId": "8fa6e4ef-2ca1-4057-d4e9-84dd7c69b67d",
        "tags": []
      },
      "outputs": [
        {
          "data": {
            "text/plain": [
              "array([0, 1, 2, 3, 4])"
            ]
          },
          "execution_count": 68,
          "metadata": {},
          "output_type": "execute_result"
        }
      ],
      "source": [
        "# Sample Input & Output\n",
        "init_range(5)"
      ]
    },
    {
      "cell_type": "code",
      "execution_count": 69,
      "id": "6d153891-0906-440e-bf1d-24f8bb7c1c06",
      "metadata": {
        "id": "6d153891-0906-440e-bf1d-24f8bb7c1c06",
        "nbgrader": {
          "grade": true,
          "grade_id": "cell-f603c404941edf2b",
          "locked": true,
          "points": 5,
          "schema_version": 3,
          "solution": false,
          "task": false
        },
        "tags": []
      },
      "outputs": [],
      "source": [
        "# Public Test\n",
        "assert init_range(5).shape == (5, )\n",
        "assert np.sum(abs(init_range(5) - np.array([0,1,2,3,4]))) == 0"
      ]
    },
    {
      "cell_type": "markdown",
      "id": "62cf2633-48dc-4d11-84b1-6826d0d33f0a",
      "metadata": {
        "id": "62cf2633-48dc-4d11-84b1-6826d0d33f0a",
        "nbgrader": {
          "grade": false,
          "grade_id": "cell-827c731e96d73e76",
          "locked": true,
          "schema_version": 3,
          "solution": false,
          "task": false
        },
        "tags": []
      },
      "source": [
        "## Bài 5: Khởi tạo vector\n",
        "Khởi tạo một vector có số phần tử là `n` gồm các số nguyên tăng dần từ `x, x+1,...,x+n-1` (chuỗi số bắt đầu từ `x`)"
      ]
    },
    {
      "cell_type": "markdown",
      "id": "af4dd0f3-de72-454b-893d-e943f5acd52b",
      "metadata": {
        "id": "af4dd0f3-de72-454b-893d-e943f5acd52b",
        "nbgrader": {
          "grade": false,
          "grade_id": "cell-71ece646bd8cfe27",
          "locked": true,
          "schema_version": 3,
          "solution": false,
          "task": false
        },
        "tags": []
      },
      "source": [
        "Ví dụ:\n",
        "\n",
        "Input:\n",
        "```\n",
        "n = 5\n",
        "x = 3.5\n",
        "```\n",
        "\n",
        "Output:\n",
        "```\n",
        "array([3.5, 4.5, 5.5, 6.5, 7.5])\n",
        "```"
      ]
    },
    {
      "cell_type": "code",
      "execution_count": 70,
      "id": "f3489551-50a3-43f9-849f-7f14796af4dd",
      "metadata": {
        "id": "f3489551-50a3-43f9-849f-7f14796af4dd",
        "nbgrader": {
          "grade": false,
          "grade_id": "cell-c48f88fadbb49ac3",
          "locked": false,
          "schema_version": 3,
          "solution": true,
          "task": false
        },
        "tags": []
      },
      "outputs": [],
      "source": [
        "def init_range(n: int, x: int) -> np.ndarray:\n",
        "    ### BEGIN SOLUTION\n",
        "    return np.arange(x, x+n)\n",
        "    ### END SOLUTION"
      ]
    },
    {
      "cell_type": "code",
      "execution_count": 71,
      "id": "b5988875-cc79-4a4b-9995-22d4821aa414",
      "metadata": {
        "colab": {
          "base_uri": "https://localhost:8080/"
        },
        "id": "b5988875-cc79-4a4b-9995-22d4821aa414",
        "nbgrader": {
          "grade": false,
          "grade_id": "cell-6b2c4f450cb1d1bf",
          "locked": true,
          "schema_version": 3,
          "solution": false,
          "task": false
        },
        "outputId": "f90d2771-9d17-4be1-8b7d-9a1cc207344b",
        "tags": []
      },
      "outputs": [
        {
          "data": {
            "text/plain": [
              "array([3.5, 4.5, 5.5, 6.5, 7.5])"
            ]
          },
          "execution_count": 71,
          "metadata": {},
          "output_type": "execute_result"
        }
      ],
      "source": [
        "# Sample Input & Output\n",
        "init_range(5, 3.5)"
      ]
    },
    {
      "cell_type": "code",
      "execution_count": 72,
      "id": "710c12ef-ea84-44b1-9fed-ad70c783e25f",
      "metadata": {
        "id": "710c12ef-ea84-44b1-9fed-ad70c783e25f",
        "nbgrader": {
          "grade": true,
          "grade_id": "cell-3cfbf5f25a97488b",
          "locked": true,
          "points": 5,
          "schema_version": 3,
          "solution": false,
          "task": false
        },
        "tags": []
      },
      "outputs": [],
      "source": [
        "# Public Test\n",
        "assert init_range(5, 3).shape == (5, )\n",
        "assert np.sum(abs(init_range(5, 3) - np.array([3, 4, 5, 6, 7]))) == 0"
      ]
    },
    {
      "cell_type": "markdown",
      "id": "fa42e514-0117-4a82-a255-ff017a3a57dc",
      "metadata": {
        "id": "fa42e514-0117-4a82-a255-ff017a3a57dc",
        "nbgrader": {
          "grade": false,
          "grade_id": "cell-31621c9c04a5cef5",
          "locked": true,
          "schema_version": 3,
          "solution": false,
          "task": false
        },
        "tags": []
      },
      "source": [
        "## Bài 6: Khởi tạo ma trận\n",
        "Khởi tạo ma trận kích thước `m x n` gồm toàn số `K`."
      ]
    },
    {
      "cell_type": "markdown",
      "id": "ac828feb-8ce4-4a6d-9f0d-9f2cfc9376db",
      "metadata": {
        "id": "ac828feb-8ce4-4a6d-9f0d-9f2cfc9376db",
        "nbgrader": {
          "grade": false,
          "grade_id": "cell-2d907d0918d30eb2",
          "locked": true,
          "schema_version": 3,
          "solution": false,
          "task": false
        },
        "tags": []
      },
      "source": [
        "Ví dụ:\n",
        "\n",
        "Input:\n",
        "```\n",
        "m = 3\n",
        "n = 4\n",
        "K = 5\n",
        "```\n",
        "\n",
        "Output:\n",
        "```\n",
        "array([[5., 5., 5., 5.],\n",
        "       [5., 5., 5., 5.],\n",
        "       [5., 5., 5., 5.]])\n",
        "```"
      ]
    },
    {
      "cell_type": "code",
      "execution_count": 73,
      "id": "fab61da4-6c99-456c-ae41-45de4c52b9d2",
      "metadata": {
        "id": "fab61da4-6c99-456c-ae41-45de4c52b9d2",
        "nbgrader": {
          "grade": false,
          "grade_id": "cell-647a473a18b7e01f",
          "locked": false,
          "schema_version": 3,
          "solution": true,
          "task": false
        },
        "tags": []
      },
      "outputs": [],
      "source": [
        "def init_mat_K(m: int, n: int, K: float) -> np.ndarray:\n",
        "    ### BEGIN SOLUTION\n",
        "    return np.full((m, n), K)\n",
        "    ### END SOLUTION"
      ]
    },
    {
      "cell_type": "code",
      "execution_count": 74,
      "id": "b69fc81f-6d10-46a2-89e7-02c9966cf522",
      "metadata": {
        "colab": {
          "base_uri": "https://localhost:8080/"
        },
        "id": "b69fc81f-6d10-46a2-89e7-02c9966cf522",
        "nbgrader": {
          "grade": false,
          "grade_id": "cell-7f766cac2d6f908c",
          "locked": true,
          "schema_version": 3,
          "solution": false,
          "task": false
        },
        "outputId": "9cb3e2dd-ebbc-4621-efd1-3e02769f7f43",
        "tags": []
      },
      "outputs": [
        {
          "data": {
            "text/plain": [
              "array([[5, 5, 5, 5],\n",
              "       [5, 5, 5, 5],\n",
              "       [5, 5, 5, 5]])"
            ]
          },
          "execution_count": 74,
          "metadata": {},
          "output_type": "execute_result"
        }
      ],
      "source": [
        "# Sample Input & Output\n",
        "init_mat_K(3, 4, 5)"
      ]
    },
    {
      "cell_type": "code",
      "execution_count": 75,
      "id": "d163fa0e-32c8-4bac-92d3-2dbc180ca203",
      "metadata": {
        "id": "d163fa0e-32c8-4bac-92d3-2dbc180ca203",
        "nbgrader": {
          "grade": true,
          "grade_id": "cell-fed0cc85f74a9f21",
          "locked": true,
          "points": 5,
          "schema_version": 3,
          "solution": false,
          "task": false
        },
        "tags": []
      },
      "outputs": [],
      "source": [
        "# Public Test\n",
        "assert init_mat_K(2,3,4).shape == (2, 3)\n",
        "assert np.sum(abs(init_mat_K(2,3,4) - np.array([[4, 4, 4], [4, 4, 4]]))) == 0"
      ]
    },
    {
      "cell_type": "markdown",
      "id": "f2dee3fb-c52c-410c-a38d-565a9be8f14d",
      "metadata": {
        "id": "f2dee3fb-c52c-410c-a38d-565a9be8f14d",
        "nbgrader": {
          "grade": false,
          "grade_id": "cell-d09f08dbc5a484ca",
          "locked": true,
          "schema_version": 3,
          "solution": false,
          "task": false
        },
        "tags": []
      },
      "source": [
        "## Bài 7: Khởi tạo ma trận\n",
        "Khởi tạo ma trận kích thước `m x n` gồm tăng dần từ trái sang phải, từ trên xuống dưới. Phần tử nhỏ nhất bắt đầu từ 1."
      ]
    },
    {
      "cell_type": "markdown",
      "id": "a7068e99-f24d-45a1-8049-c663eaf34498",
      "metadata": {
        "id": "a7068e99-f24d-45a1-8049-c663eaf34498",
        "nbgrader": {
          "grade": false,
          "grade_id": "cell-6788f8e2316c16c5",
          "locked": true,
          "schema_version": 3,
          "solution": false,
          "task": false
        },
        "tags": []
      },
      "source": [
        "Ví dụ:\n",
        "\n",
        "Input:\n",
        "```\n",
        "m = 2\n",
        "n = 4\n",
        "```\n",
        "\n",
        "Output:\n",
        "```\n",
        "array([[1, 2, 3, 4],\n",
        "       [5, 6, 7, 8]])\n",
        "```"
      ]
    },
    {
      "cell_type": "code",
      "execution_count": 76,
      "id": "7a0be1a4-eb71-47e7-9aa4-680a8ff1c91b",
      "metadata": {
        "id": "7a0be1a4-eb71-47e7-9aa4-680a8ff1c91b",
        "nbgrader": {
          "grade": false,
          "grade_id": "cell-9c8f504ad99b5023",
          "locked": false,
          "schema_version": 3,
          "solution": true,
          "task": false
        },
        "tags": []
      },
      "outputs": [],
      "source": [
        "def init_mat_increase(m: int, n: int) -> np.ndarray:\n",
        "    ### BEGIN SOLUTION\n",
        "    sequence = np.arange(1, m*n + 1)\n",
        "    matrix = sequence.reshape((m, n))\n",
        "    return matrix\n",
        "    ### END SOLUTION"
      ]
    },
    {
      "cell_type": "code",
      "execution_count": 77,
      "id": "d1c0e0a5-291c-4a55-aefb-ad215a27ade9",
      "metadata": {
        "colab": {
          "base_uri": "https://localhost:8080/"
        },
        "id": "d1c0e0a5-291c-4a55-aefb-ad215a27ade9",
        "nbgrader": {
          "grade": false,
          "grade_id": "cell-22c095a6b8e997a4",
          "locked": true,
          "schema_version": 3,
          "solution": false,
          "task": false
        },
        "outputId": "53921102-0e79-4cfe-8c81-4b323b265cca",
        "tags": []
      },
      "outputs": [
        {
          "data": {
            "text/plain": [
              "array([[1, 2, 3, 4],\n",
              "       [5, 6, 7, 8]])"
            ]
          },
          "execution_count": 77,
          "metadata": {},
          "output_type": "execute_result"
        }
      ],
      "source": [
        "# Sample Input & Output\n",
        "init_mat_increase(2, 4)"
      ]
    },
    {
      "cell_type": "code",
      "execution_count": 78,
      "id": "282f6d67-f7fc-488b-8133-090fa9f5847d",
      "metadata": {
        "id": "282f6d67-f7fc-488b-8133-090fa9f5847d",
        "nbgrader": {
          "grade": true,
          "grade_id": "cell-03844dd4ad0af952",
          "locked": true,
          "points": 5,
          "schema_version": 3,
          "solution": false,
          "task": false
        },
        "tags": []
      },
      "outputs": [],
      "source": [
        "# Public Test\n",
        "assert init_mat_increase(2,3).shape == (2, 3)\n",
        "assert np.sum(abs(init_mat_increase(2,3) - np.array([[1, 2, 3], [4, 5, 6]]))) == 0"
      ]
    },
    {
      "cell_type": "markdown",
      "id": "aacefd3d-eac9-4ad3-add1-2eb07363b1ee",
      "metadata": {
        "id": "aacefd3d-eac9-4ad3-add1-2eb07363b1ee",
        "nbgrader": {
          "grade": false,
          "grade_id": "cell-9f7ad3988806ed3a",
          "locked": true,
          "schema_version": 3,
          "solution": false,
          "task": false
        },
        "tags": []
      },
      "source": [
        "## Bài 8: Tích vô hướng 2 vector\n",
        "Viết hàm `solution` nhận vào 2 List `a` và `b` có kiểu dữ liệu là `float`, tính tích vô hướng giữa hai vector `a` và `b`."
      ]
    },
    {
      "cell_type": "markdown",
      "id": "bf7c4473-145b-4238-b3d5-70de7ebc1da4",
      "metadata": {
        "id": "bf7c4473-145b-4238-b3d5-70de7ebc1da4",
        "nbgrader": {
          "grade": false,
          "grade_id": "cell-c2a6053f86dcae2d",
          "locked": true,
          "schema_version": 3,
          "solution": false,
          "task": false
        },
        "tags": []
      },
      "source": [
        "Ví dụ:\n",
        "\n",
        "Input:\n",
        "```\n",
        "a = [1, 2]\n",
        "b = [3, 4]\n",
        "```\n",
        "\n",
        "Output:\n",
        "```\n",
        "11\n",
        "```"
      ]
    },
    {
      "cell_type": "code",
      "execution_count": 79,
      "id": "01e56020-8b32-4b89-be4e-b6da688e79a9",
      "metadata": {
        "id": "01e56020-8b32-4b89-be4e-b6da688e79a9",
        "nbgrader": {
          "grade": false,
          "grade_id": "cell-5df78180cf1cc01b",
          "locked": false,
          "schema_version": 3,
          "solution": true,
          "task": false
        },
        "tags": []
      },
      "outputs": [],
      "source": [
        "def product_on_list(a: List[int], b: List[int]) -> np.ndarray:\n",
        "    # Step 1: Convert a and b to numpy arrays\n",
        "    ### BEGIN SOLUTION\n",
        "    a_array = np.array(a, dtype=float)\n",
        "    b_array = np.array(b, dtype=float)\n",
        "    ### END SOLUTION\n",
        "\n",
        "    # Step 2: Calculate dot product using the dot function\n",
        "    ### BEGIN SOLUTION\n",
        "    return np.dot(a_array, b_array)\n",
        "    ### END SOLUTION"
      ]
    },
    {
      "cell_type": "code",
      "execution_count": 80,
      "id": "4a263f7f-669c-4296-a71f-0aa116f8955f",
      "metadata": {
        "colab": {
          "base_uri": "https://localhost:8080/"
        },
        "id": "4a263f7f-669c-4296-a71f-0aa116f8955f",
        "nbgrader": {
          "grade": false,
          "grade_id": "cell-40446ed2553bd853",
          "locked": true,
          "schema_version": 3,
          "solution": false,
          "task": false
        },
        "outputId": "1cd58f2c-efd6-4d2d-d6a8-7b9cb4d5ef26",
        "tags": []
      },
      "outputs": [
        {
          "data": {
            "text/plain": [
              "8.0"
            ]
          },
          "execution_count": 80,
          "metadata": {},
          "output_type": "execute_result"
        }
      ],
      "source": [
        "# Sample Input & Output\n",
        "product_on_list([1, 2], [2, 3])"
      ]
    },
    {
      "cell_type": "code",
      "execution_count": 81,
      "id": "c377608b-8560-498e-80ef-35ceaf76f004",
      "metadata": {
        "id": "c377608b-8560-498e-80ef-35ceaf76f004",
        "nbgrader": {
          "grade": true,
          "grade_id": "cell-0ef1ef029f07a0d5",
          "locked": true,
          "points": 5,
          "schema_version": 3,
          "solution": false,
          "task": false
        },
        "tags": []
      },
      "outputs": [],
      "source": [
        "# Public Test\n",
        "assert product_on_list([1, 2], [2, 3]) == 8\n",
        "assert product_on_list([1, 2], [0, 0]) == 0"
      ]
    },
    {
      "cell_type": "markdown",
      "id": "20d735c2-3aca-49d9-ba0c-d9a1475229cc",
      "metadata": {
        "id": "20d735c2-3aca-49d9-ba0c-d9a1475229cc",
        "nbgrader": {
          "grade": false,
          "grade_id": "cell-76d6dbeffcebb3f5",
          "locked": true,
          "schema_version": 3,
          "solution": false,
          "task": false
        },
        "tags": []
      },
      "source": [
        "## Bài 9: Tích vô hướng 2 ma trận\n",
        "Viết hàm nhận vào hai *ma trận* `X` và *ma trận* `W`, trả về giá trị tích `M` (dot product) theo công thức sau:\n",
        "```\n",
        "M = (x^T)W\n",
        "```\n",
        "Trong đó, `x^T` là phép chuyển vị của `x`. Cần kiểm tra số chiều để bảo đảm phép tính luôn tính được trước khi thực hiện phép tính, trả về giá trị `None` nếu số chiều không tương thích."
      ]
    },
    {
      "cell_type": "markdown",
      "id": "c60f4e46-684c-40aa-96e2-7a463f7c9249",
      "metadata": {
        "id": "c60f4e46-684c-40aa-96e2-7a463f7c9249",
        "nbgrader": {
          "grade": false,
          "grade_id": "cell-05e77d672a36ca1c",
          "locked": true,
          "schema_version": 3,
          "solution": false,
          "task": false
        },
        "tags": []
      },
      "source": [
        "Ví dụ:\n",
        "\n",
        "\n",
        "Input:\n",
        "```\n",
        "X = np.array([\n",
        "    [1, 1, 1],\n",
        "    [0, 0, 0]]\n",
        ")\n",
        "\n",
        "W = np.array([\n",
        "    [1, 1, 1],\n",
        "    [0, 0, 0]]\n",
        ")\n",
        "```\n",
        "\n",
        "Output:\n",
        "```\n",
        "[[1, 1, 1],\n",
        " [1, 1, 1],\n",
        " [1, 1, 1]]\n",
        "```"
      ]
    },
    {
      "cell_type": "code",
      "execution_count": 82,
      "id": "96eb2dd6-6aed-4036-aa26-530c638e0f16",
      "metadata": {
        "id": "96eb2dd6-6aed-4036-aa26-530c638e0f16",
        "nbgrader": {
          "grade": false,
          "grade_id": "cell-69e629a87810b09e",
          "locked": false,
          "schema_version": 3,
          "solution": true,
          "task": false
        },
        "tags": []
      },
      "outputs": [],
      "source": [
        "def product_vec_mat(X: np.ndarray, W: np.ndarray) -> Optional[np.ndarray]:\n",
        "    ### BEGIN SOLUTION\n",
        "    X_T = X.T\n",
        "    M = np.dot(X_T, W)\n",
        "    return M\n",
        "\n",
        "    ### END SOLUTION"
      ]
    },
    {
      "cell_type": "code",
      "execution_count": 83,
      "id": "1e40e853-0465-4467-8616-cdab0b4d32ad",
      "metadata": {
        "colab": {
          "base_uri": "https://localhost:8080/"
        },
        "id": "1e40e853-0465-4467-8616-cdab0b4d32ad",
        "nbgrader": {
          "grade": false,
          "grade_id": "cell-ee8380a99ffcecda",
          "locked": true,
          "schema_version": 3,
          "solution": false,
          "task": false
        },
        "outputId": "9c05c16c-b079-410e-e2e1-aca7abb97591",
        "tags": []
      },
      "outputs": [
        {
          "data": {
            "text/plain": [
              "array([[1, 1, 1],\n",
              "       [1, 1, 1],\n",
              "       [1, 1, 1]])"
            ]
          },
          "execution_count": 83,
          "metadata": {},
          "output_type": "execute_result"
        }
      ],
      "source": [
        "# Sample Input & Output\n",
        "X = np.array([\n",
        "  [1, 1, 1],\n",
        "  [0, 0, 0]\n",
        "])\n",
        "W = np.array([\n",
        "  [1, 1, 1],\n",
        "  [0, 0, 0]\n",
        "])\n",
        "product_vec_mat(X, W)"
      ]
    },
    {
      "cell_type": "code",
      "execution_count": 84,
      "id": "e51e798e-72ba-400e-a9f4-316b2d8658e5",
      "metadata": {
        "id": "e51e798e-72ba-400e-a9f4-316b2d8658e5",
        "nbgrader": {
          "grade": true,
          "grade_id": "cell-d9ba88b8cf66b1b2",
          "locked": true,
          "points": 5,
          "schema_version": 3,
          "solution": false,
          "task": false
        },
        "tags": []
      },
      "outputs": [],
      "source": [
        "# Public Test\n",
        "X = np.array([\n",
        "    [1, 2, 3],\n",
        "    [4, 5, 6]\n",
        "])\n",
        "W = np.array([\n",
        "    [7, 8, 9],\n",
        "    [10, 11, 12]\n",
        "])\n",
        "\n",
        "assert np.sum(abs(product_vec_mat(X, W)-np.array([\n",
        "    [47, 52, 57],\n",
        "    [64, 71, 78],\n",
        "    [81, 90, 99]\n",
        "]))) < 0.0001"
      ]
    },
    {
      "cell_type": "markdown",
      "id": "3fdf6f9a-010f-437b-9a25-1311e6dd233a",
      "metadata": {
        "id": "3fdf6f9a-010f-437b-9a25-1311e6dd233a",
        "nbgrader": {
          "grade": false,
          "grade_id": "cell-e54264761157b414",
          "locked": true,
          "schema_version": 3,
          "solution": false,
          "task": false
        },
        "tags": []
      },
      "source": [
        "## Bài 10: Tổng các ma trận và vector\n",
        "Viết hàm nhận vào hai ma trận `X` và `W`, trả về giá trị `M` theo công thức sau:\n",
        "```\n",
        "M = 2 (X^T + W).X\n",
        "```\n",
        "Trong đó `X^T` là phép chuyển vị của `X`. Cần kiểm tra số chiều để bảo đảm phép tính luôn tính được trước khi thực hiện phép tính, trả về giá trị `None` nếu số chiều không tương thích."
      ]
    },
    {
      "cell_type": "markdown",
      "id": "a2a4407b-83d5-4892-a206-93bfc82882f1",
      "metadata": {
        "id": "a2a4407b-83d5-4892-a206-93bfc82882f1",
        "nbgrader": {
          "grade": false,
          "grade_id": "cell-fe6f1d7c75aa4b9f",
          "locked": true,
          "schema_version": 3,
          "solution": false,
          "task": false
        },
        "tags": []
      },
      "source": [
        "Ví dụ:\n",
        "\n",
        "\n",
        "Input:\n",
        "```\n",
        "X = np.array([\n",
        "    [1, 1],\n",
        "    [0, 0]\n",
        "])\n",
        "\n",
        "W = np.array([\n",
        "    [1, 1],\n",
        "    [0, 0]\n",
        "])\n",
        "```\n",
        "\n",
        "Output:\n",
        "```\n",
        "array([[4, 4],\n",
        "       [2, 2]])\n",
        "```"
      ]
    },
    {
      "cell_type": "code",
      "execution_count": 85,
      "id": "f3474841-6a9e-4957-93e9-f585a27ab135",
      "metadata": {
        "id": "f3474841-6a9e-4957-93e9-f585a27ab135",
        "nbgrader": {
          "grade": false,
          "grade_id": "cell-9c712e65a5212682",
          "locked": false,
          "schema_version": 3,
          "solution": true,
          "task": false
        },
        "tags": []
      },
      "outputs": [],
      "source": [
        "def prod_sum_mat(x: np.ndarray, w: np.ndarray) -> Optional[np.ndarray]:\n",
        "    ### BEGIN SOLUTION\n",
        "    x_transpose = x.T\n",
        "    sum_x_w = x_transpose + w\n",
        "    product = np.dot(sum_x_w, x)\n",
        "    m = 2 * product\n",
        "    return m\n",
        "    ### END SOLUTION"
      ]
    },
    {
      "cell_type": "code",
      "execution_count": 86,
      "id": "c482defa-814e-47a6-ad97-6fa97ab32afb",
      "metadata": {
        "id": "c482defa-814e-47a6-ad97-6fa97ab32afb",
        "nbgrader": {
          "grade": true,
          "grade_id": "cell-8c1b22bfa138e962",
          "locked": true,
          "points": 5,
          "schema_version": 3,
          "solution": false,
          "task": false
        },
        "tags": []
      },
      "outputs": [],
      "source": [
        "# Public Test\n",
        "X = np.array([\n",
        "  [1, 1],\n",
        "  [2, 3],\n",
        "  [5, 4]\n",
        "])\n",
        "\n",
        "W = np.array([\n",
        "  [1, 2, 3],\n",
        "  [4, 5, 6]\n",
        "])\n",
        "\n",
        "assert np.sum(abs(prod_sum_mat(X, W)-np.array([\n",
        "    [100, 92],\n",
        "    [142, 138]\n",
        "]))) < 0.0001"
      ]
    },
    {
      "cell_type": "markdown",
      "id": "fe3b606e-bc55-43b5-aafd-03fb3915969e",
      "metadata": {
        "id": "fe3b606e-bc55-43b5-aafd-03fb3915969e"
      },
      "source": [
        "# LUYỆN TẬP NUMPY - PHẦN 2"
      ]
    },
    {
      "cell_type": "markdown",
      "id": "c3350abe-24dc-4d1b-813f-c743dba6abd1",
      "metadata": {
        "id": "c3350abe-24dc-4d1b-813f-c743dba6abd1"
      },
      "source": [
        "## Bài 1: Gửi tiết kiệm\n",
        "Tính số tiền còn lại trong tài khoản ngân hàng với đầu vào là\n",
        "danh sách các số tiền giao dịch, tương ứng là sẽ có danh sách\n",
        "các loại giao dịch gửi tiền (ký hiệu bằng chuỗi 'D'), rút tiền\n",
        "(ký hiệu bằng chuỗi 'W')\n",
        "\n",
        "**Input:**\n",
        "   - moneys: kiểu numpy array, chứa danh sách các số tiền giao dịch\n",
        "   (gửi và rút khỏi tài khoản)\n",
        "   - types: kiểu numpy array, chứa danh sách các loại giao dịch\n",
        "   (gửi ký hiệu là 'D', rút ký hiệu là 'W')\n",
        "\n",
        "**Output:**\n",
        "   - Kiểu số thực, số tiền còn lại trong tài khoản"
      ]
    },
    {
      "cell_type": "markdown",
      "id": "66359a16-8637-4fc5-98fd-a3bd9636a2ae",
      "metadata": {
        "id": "66359a16-8637-4fc5-98fd-a3bd9636a2ae"
      },
      "source": [
        "Ví dụ:\n",
        "\n",
        "Input:\n",
        "```\n",
        "moneys = [400.0, 100.0, 200.0]\n",
        "types = ['D', 'W', 'D']\n",
        "```\n",
        "\n",
        "Output:\n",
        "```\n",
        "500.0\n",
        "```"
      ]
    },
    {
      "cell_type": "code",
      "execution_count": 87,
      "id": "1fa0fa97-52f5-4497-a137-e004b3a8c032",
      "metadata": {
        "id": "1fa0fa97-52f5-4497-a137-e004b3a8c032"
      },
      "outputs": [],
      "source": [
        "def balance(moneys: np.ndarray, types: np.ndarray) -> float:\n",
        "    ### BEGIN SOLUTION\n",
        "    balance = 0.0\n",
        "    for money, type in zip(moneys, types):\n",
        "        if type == 'D':\n",
        "            balance += money\n",
        "        elif type == 'W':\n",
        "            balance -= money\n",
        "    return balance\n",
        "    ### END SOLUTION"
      ]
    },
    {
      "cell_type": "code",
      "execution_count": 88,
      "id": "a8dcca65-9697-41c7-a981-5cb5ab3b0280",
      "metadata": {
        "colab": {
          "base_uri": "https://localhost:8080/"
        },
        "id": "a8dcca65-9697-41c7-a981-5cb5ab3b0280",
        "outputId": "58d4fbf9-9592-4b61-e98d-759cb1148302"
      },
      "outputs": [
        {
          "data": {
            "text/plain": [
              "500.0"
            ]
          },
          "execution_count": 88,
          "metadata": {},
          "output_type": "execute_result"
        }
      ],
      "source": [
        "# Sample Input & Output\n",
        "balance(np.array([400.0, 100.0, 200.0]), np.array(['D', 'W', 'D']))"
      ]
    },
    {
      "cell_type": "code",
      "execution_count": 89,
      "id": "e200c7c4-1df1-487a-8194-ca53a35031b3",
      "metadata": {
        "id": "e200c7c4-1df1-487a-8194-ca53a35031b3"
      },
      "outputs": [],
      "source": [
        "# Public Test\n",
        "assert balance(np.array([400.0, 100.0, 200.0]), np.array(['D', 'W', 'D'])) == 500"
      ]
    },
    {
      "cell_type": "markdown",
      "id": "8caf6e00-9e5d-4e6d-8cfc-00606fc8ffff",
      "metadata": {
        "id": "8caf6e00-9e5d-4e6d-8cfc-00606fc8ffff"
      },
      "source": [
        "## Bài 2: Điểm trung bình\n",
        "Tính điểm trung bình của một bạn sinh viên biết trước danh sách các điểm số và số tín chỉ của từng môn học.\n",
        "\n",
        "**Input:**\n",
        "   - marks: kiểu List, gồm *n* phần tử. Đây là điểm các môn của một sinh viên.\n",
        "   - credits: kiểu List, gồm *n* phần tử. Đây là số tín chỉ lần lượt của các môn.   \n",
        "   \n",
        "**Output:**\n",
        "   - Kiểu số thực, điểm trung bình của các môn học của sinh viên"
      ]
    },
    {
      "cell_type": "markdown",
      "id": "04bcbb33-2c56-4bcd-b0dd-e5b331a54319",
      "metadata": {
        "id": "04bcbb33-2c56-4bcd-b0dd-e5b331a54319"
      },
      "source": [
        "Ví dụ:\n",
        "\n",
        "Input:\n",
        "```\n",
        "marks = [8.0, 9.0, 10.0]\n",
        "credits = [2, 2, 1]\n",
        "```\n",
        "\n",
        "Output:\n",
        "```\n",
        "8.8\n",
        "```"
      ]
    },
    {
      "cell_type": "code",
      "execution_count": 90,
      "id": "0dc76c01-d187-4c17-af47-39db12fd85d7",
      "metadata": {
        "id": "0dc76c01-d187-4c17-af47-39db12fd85d7"
      },
      "outputs": [],
      "source": [
        "def gpa_one_student(marks: List[float], weights: List[int]) -> float:\n",
        "    result = 0\n",
        "    ### BEGIN SOLUTION\n",
        "    total_weighted_marks = sum(mark * weight for mark, weight in zip(marks, weights))\n",
        "    total_weights = sum(weights)\n",
        "    result = total_weighted_marks / total_weights if total_weights > 0 else 0\n",
        "    ### END SOLUTION\n",
        "    return result"
      ]
    },
    {
      "cell_type": "code",
      "execution_count": 91,
      "id": "77fcc0cd-df41-43ac-9260-fa8883a1f2d7",
      "metadata": {
        "colab": {
          "base_uri": "https://localhost:8080/"
        },
        "id": "77fcc0cd-df41-43ac-9260-fa8883a1f2d7",
        "outputId": "4bcd8178-e8fc-4696-cb5a-41f6c738deba"
      },
      "outputs": [
        {
          "data": {
            "text/plain": [
              "8.8"
            ]
          },
          "execution_count": 91,
          "metadata": {},
          "output_type": "execute_result"
        }
      ],
      "source": [
        "# Sample Input & Output\n",
        "marks = [8.0, 9.0, 10.0]\n",
        "credits = [2, 2, 1]\n",
        "gpa_one_student(marks, credits)"
      ]
    },
    {
      "cell_type": "code",
      "execution_count": 92,
      "id": "d288f02c-686c-4d7e-9eba-551a1e02ecb7",
      "metadata": {
        "id": "d288f02c-686c-4d7e-9eba-551a1e02ecb7"
      },
      "outputs": [],
      "source": [
        "# Public Test\n",
        "assert abs(gpa_one_student([10, 9, 8], [4, 3, 2])-9.222222222222221) < 0.000001"
      ]
    },
    {
      "cell_type": "markdown",
      "id": "5ba99aa7-a94c-460f-aa4d-66cbc2d6773a",
      "metadata": {
        "id": "5ba99aa7-a94c-460f-aa4d-66cbc2d6773a"
      },
      "source": [
        "## Bài 3:\n",
        "Đếm số lượng sinh viên có điểm số không dưới K điểm cho trước của một lớp học.\n",
        "\n",
        "**Input:**\n",
        "\n",
        "    - marks: kiểu numpy array, kích thước 1 x n. Đây là điểm toán cả n sinh viên trong lớp.\n",
        "    - K: kiểu số thực, điểm chuẩn.\n",
        "   \n",
        "**Output:**\n",
        "\n",
        "    - Kiểu số nguyên, số lượng sinh viên trong lớp đạt từ K điểm trở lên"
      ]
    },
    {
      "cell_type": "code",
      "execution_count": 93,
      "id": "7a4586e5-95e5-4856-bc46-6ab875c3b637",
      "metadata": {
        "id": "7a4586e5-95e5-4856-bc46-6ab875c3b637"
      },
      "outputs": [],
      "source": [
        "def pass_exam(marks: List[int], K: int) -> int:\n",
        "    ### BEGIN SOLUTION\n",
        "    if not isinstance(marks, np.ndarray):\n",
        "        marks = np.array(marks)\n",
        "    pass_marks = marks[marks >= K]\n",
        "    count = len(pass_marks)\n",
        "    return count\n",
        "\n",
        "    ### END SOLUTION"
      ]
    },
    {
      "cell_type": "code",
      "execution_count": 94,
      "id": "fafc2651-af7c-4836-82a9-668f16c0a7d7",
      "metadata": {
        "colab": {
          "base_uri": "https://localhost:8080/"
        },
        "id": "fafc2651-af7c-4836-82a9-668f16c0a7d7",
        "outputId": "ab03a751-e3ea-45db-92b3-f47f332c43cf"
      },
      "outputs": [
        {
          "data": {
            "text/plain": [
              "2"
            ]
          },
          "execution_count": 94,
          "metadata": {},
          "output_type": "execute_result"
        }
      ],
      "source": [
        "# Sample Input & Output\n",
        "marks = np.array([4.0, 9.0, 5.0])\n",
        "K = 5\n",
        "pass_exam(marks, K)"
      ]
    },
    {
      "cell_type": "code",
      "execution_count": 95,
      "id": "2a3050e2-fd6d-40ab-b281-7006f713e813",
      "metadata": {
        "id": "2a3050e2-fd6d-40ab-b281-7006f713e813"
      },
      "outputs": [],
      "source": [
        "# Public Test\n",
        "assert pass_exam(np.array([3.0, 9.5, 4.5]), 5.0) == 1"
      ]
    },
    {
      "cell_type": "markdown",
      "id": "544a317d-8f6d-4d7a-bdca-95fba7940790",
      "metadata": {
        "id": "544a317d-8f6d-4d7a-bdca-95fba7940790"
      },
      "source": [
        "## Bài 4:\n",
        "Tính điểm trung bình cao nhất của một lớp học biết trước danh sách các điểm số và số tín chỉ\n",
        "cho từng môn học của một lớp.\n",
        "\n",
        "**Input:**\n",
        "   - marks: kiểu numpy array, kích thước m x n. Đây là điểm các môn của một lớp học. Trong đó, m là số sinh viên, n là số môn học\n",
        "   - credits: kiểu numpy array, kích thước 1 x n. Đây là số tín chỉ lần lượt của các môn.\n",
        "   \n",
        "**Output:**\n",
        "   - Kiểu số thực, điểm trung bình của sinh viên cao nhất."
      ]
    },
    {
      "cell_type": "markdown",
      "id": "79347d94-7fc6-46fd-b58f-087b323973a2",
      "metadata": {
        "id": "79347d94-7fc6-46fd-b58f-087b323973a2"
      },
      "source": [
        "Ví dụ:\n",
        "\n",
        "Input:\n",
        "```\n",
        "marks = np.array(\n",
        "   [[8.0, 9.0, 10.0],\n",
        "   [7.0, 9.0, 8.0],\n",
        "   [8.0, 8.0, 8.0],\n",
        "   [10.0, 9.0, 7.0],\n",
        "   [9.0, 9.0, 10.0]\n",
        "])\n",
        "\n",
        "credits = np.array([2,2,1])\n",
        "```\n",
        "\n",
        "Output:\n",
        "```\n",
        "9.2\n",
        "```"
      ]
    },
    {
      "cell_type": "code",
      "execution_count": 96,
      "id": "54516ed1-3ea9-4ab6-ad91-237bdc6bebf7",
      "metadata": {
        "id": "54516ed1-3ea9-4ab6-ad91-237bdc6bebf7"
      },
      "outputs": [],
      "source": [
        "def max_gpa(marks: List[float], credits: List[int]) -> float:\n",
        "    ### BEGIN SOLUTION\n",
        "    total_points = np.dot(marks, credits)\n",
        "    total_credits = np.sum(credits)\n",
        "    gpas = total_points / total_credits\n",
        "    max_gpa = np.max(gpas)\n",
        "    return max_gpa\n",
        "    ### END SOLUTION"
      ]
    },
    {
      "cell_type": "code",
      "execution_count": 97,
      "id": "6bb366d9-825e-4ee4-8f82-dd0bbb1bc065",
      "metadata": {
        "colab": {
          "base_uri": "https://localhost:8080/"
        },
        "id": "6bb366d9-825e-4ee4-8f82-dd0bbb1bc065",
        "outputId": "975969f9-7d3f-4399-8f28-5513decb58fc"
      },
      "outputs": [
        {
          "data": {
            "text/plain": [
              "9.2"
            ]
          },
          "execution_count": 97,
          "metadata": {},
          "output_type": "execute_result"
        }
      ],
      "source": [
        "# Sample Input & Output\n",
        "marks = np.array(\n",
        "   [[8.0, 9.0, 10.0],\n",
        "   [7.0, 9.0, 8.0],\n",
        "   [8.0, 8.0, 8.0],\n",
        "   [10.0, 9.0, 7.0],\n",
        "   [9.0, 9.0, 10.0]\n",
        "])\n",
        "credits = np.array([2,2,1])\n",
        "max_gpa(marks, credits)"
      ]
    },
    {
      "cell_type": "code",
      "execution_count": 98,
      "id": "01e2b86c-718d-4386-9c77-3d9c5c8b12fe",
      "metadata": {
        "id": "01e2b86c-718d-4386-9c77-3d9c5c8b12fe"
      },
      "outputs": [],
      "source": [
        "# Public Test\n",
        "marks = np.array(\n",
        "   [[4.0, 9.0, 4.5],\n",
        "   [5.0, 8.0, 4.5],\n",
        "   [6.0, 7.0, 7.5],\n",
        "   [7.0, 6.0, 7.5],\n",
        "   [8.0, 5.0, 4.5]\n",
        "])\n",
        "credits = np.array([2,1,2])\n",
        "assert abs(max_gpa(marks, credits)-7.0) < 0.000001"
      ]
    },
    {
      "cell_type": "markdown",
      "id": "1d230010-0cd0-4a17-9ad7-bf720628bbdf",
      "metadata": {
        "id": "1d230010-0cd0-4a17-9ad7-bf720628bbdf"
      },
      "source": [
        "## Bài 5:\n",
        "Tính điểm trung bình tích luỹ của từng sinh viên trong lớp học biết trước\n",
        "danh sách các điểm số và số tín chỉ cho từng môn học của một lớp.\n",
        "\n",
        "**Lưu ý:** khi tính điểm trung bình ta sẽ loại bỏ các điểm và các tín chỉ của môn dưới 5 điểm (rớt).\n",
        "\n",
        "**Công thức tính điểm trung bình tích lũy:**\n",
        "   - ĐTBTL = (điểm môn 1 * số tín chỉ môn 1 + ... + điểm môn n * số tín chỉ môn n) / tổng số tín chỉ\n",
        "\n",
        "**Input:**\n",
        "   - marks: kiểu numpy array, kích thước m x n. Đây là điểm các môn của một lớp học.\n",
        "   Trong đó, m là số sinh viên, n là số môn học\n",
        "   - credits: kiểu numpy array, kích thước 1 x n. Đây là số tín chỉ lần lượt của các môn.\n",
        "\n",
        "**Output:**\n",
        "   - Kiểu numpy array, kích thước 1 x m, chứa điểm trung bình của các bạn sinh viên trong lớp."
      ]
    },
    {
      "cell_type": "markdown",
      "id": "50b320cb-4bd9-46c9-b7c0-8a9aa4b85ed9",
      "metadata": {
        "id": "50b320cb-4bd9-46c9-b7c0-8a9aa4b85ed9"
      },
      "source": [
        "Ví dụ:\n",
        "\n",
        "Input:\n",
        "```\n",
        "marks = np.array([\n",
        "    [8.0, 9.0, 10.0],\n",
        "    [4.0, 9.0, 8.0],\n",
        "    [8.0, 3.0, 8.0],\n",
        "    [10.0, 9.0, 5.0],\n",
        "    [9.0, 9.0, 4.0]\n",
        "])\n",
        "\n",
        "credits = np.array([2, 2, 1])\n",
        "```\n",
        "\n",
        "Output:\n",
        "```\n",
        "array([8.8, 8.66666667, 8., 8.6, 9.])\n",
        "```"
      ]
    },
    {
      "cell_type": "code",
      "execution_count": 99,
      "id": "f93b1581-80ee-462e-a7cf-7b3a355ad39c",
      "metadata": {
        "id": "f93b1581-80ee-462e-a7cf-7b3a355ad39c"
      },
      "outputs": [],
      "source": [
        "def gpa_of_pass(marks: np.ndarray, credits: List[int]) -> np.ndarray:\n",
        "    ### BEGIN SOLUTION\n",
        "    passed = marks >= 5\n",
        "    total_points = np.sum(marks * credits * passed, axis=1)\n",
        "    total_credits_passed = np.sum(credits * passed, axis=1)\n",
        "    gpa = np.where(total_credits_passed > 0, total_points / total_credits_passed, 0)\n",
        "    return gpa;\n",
        "    ### END SOLUTION"
      ]
    },
    {
      "cell_type": "code",
      "execution_count": 100,
      "id": "163ac497-b443-4c74-85e9-25a46bcddc9b",
      "metadata": {
        "colab": {
          "base_uri": "https://localhost:8080/"
        },
        "id": "163ac497-b443-4c74-85e9-25a46bcddc9b",
        "outputId": "ec4c49ea-427d-46fb-db68-d928e5bb05aa"
      },
      "outputs": [
        {
          "data": {
            "text/plain": [
              "array([8.8       , 8.66666667, 8.        , 8.6       , 9.        ])"
            ]
          },
          "execution_count": 100,
          "metadata": {},
          "output_type": "execute_result"
        }
      ],
      "source": [
        "# Sample Input & Output\n",
        "marks = np.array(\n",
        "    [[8.0, 9.0, 10.0],\n",
        "    [4.0, 9.0, 8.0],\n",
        "    [8.0, 3.0, 8.0],\n",
        "    [10.0, 9.0, 5.0],\n",
        "    [9.0, 9.0, 4.0]])\n",
        "credits = np.array([2,2,1])\n",
        "gpa_of_pass(marks, credits)"
      ]
    },
    {
      "cell_type": "code",
      "execution_count": 101,
      "id": "364e6446-86f7-4494-bc9c-1369f3b67ad8",
      "metadata": {
        "id": "364e6446-86f7-4494-bc9c-1369f3b67ad8"
      },
      "outputs": [],
      "source": [
        "# Public Test\n",
        "marks = np.array(\n",
        "   [[4.0, 9.0, 4.5],\n",
        "   [5.0, 8.0, 4.5],\n",
        "   [6.0, 7.0, 7.5],\n",
        "   [7.0, 6.0, 7.5],\n",
        "   [8.0, 5.0, 4.5]])\n",
        "credits = np.array([2,1,2])\n",
        "assert np.sum(abs(gpa_of_pass(marks, credits)-np.array([9., 6., 6.8, 7.0, 7.0]))) < 0.000001"
      ]
    },
    {
      "cell_type": "markdown",
      "id": "81542fa8-96d7-4d01-82d1-dfe7da8711a3",
      "metadata": {
        "id": "81542fa8-96d7-4d01-82d1-dfe7da8711a3"
      },
      "source": [
        "# LUYỆN TẬP OOP - PHẦN 1"
      ]
    },
    {
      "cell_type": "markdown",
      "id": "082817f7-4d18-4772-aecf-d21ffdf014d4",
      "metadata": {
        "id": "082817f7-4d18-4772-aecf-d21ffdf014d4"
      },
      "source": [
        "Viết chương trình cài đặt 3 lớp (class) sau: `Geometry` , `Square`, và `Round`. Cho biết 2 class `Square` và `Round` kế thừa từ class `Geometry`.\n",
        "\n",
        "Cả 3 class đều có những thuộc tính, phương thức sau:\n",
        "\n",
        "- Thuộc tính:\n",
        "    - `property` (`float`): có thể xem là độ dài cạnh (đối với hình vuông) hoặc bán kính (đối với hình tròn).\n",
        "\n",
        "- Phương thức:\n",
        "    - Hàm khởi tạo `__init__`.\n",
        "    - Hàm tính diện tích `calculate_area`."
      ]
    },
    {
      "cell_type": "markdown",
      "id": "9ca37545-89e7-4b98-8880-c3941cc5f596",
      "metadata": {
        "id": "9ca37545-89e7-4b98-8880-c3941cc5f596"
      },
      "source": [
        "Ví dụ về hàm `calculate_area` của class `Square`:\n",
        "- Thuộc tính của object:\n",
        "```\n",
        "property = 2\n",
        "```\n",
        "- Input:\n",
        "```\n",
        "# no input\n",
        "```\n",
        "- Output:\n",
        "```\n",
        "4\n",
        "```"
      ]
    },
    {
      "cell_type": "markdown",
      "id": "a7ab76a9-5254-4dec-97a9-87815861051f",
      "metadata": {
        "id": "a7ab76a9-5254-4dec-97a9-87815861051f"
      },
      "source": [
        "Ví dụ về hàm `calculate_area` của class `Round`:\n",
        "- Thuộc tính của object:\n",
        "```\n",
        "property = 2\n",
        "```\n",
        "- Input:\n",
        "```\n",
        "# no input\n",
        "```\n",
        "- Output:\n",
        "```\n",
        "12.56637\n",
        "```\n",
        "\n",
        "**Lưu ý:** Dùng `math.pi` để tính diện tích, kết quả làm tròn 5 chữ số thập phân."
      ]
    },
    {
      "cell_type": "markdown",
      "id": "764dafe0-6a11-4454-b35e-2209580fc6ed",
      "metadata": {
        "id": "764dafe0-6a11-4454-b35e-2209580fc6ed"
      },
      "source": [
        "**Yêu cầu 1:** Cài đặt class `Geometry`. Cài đặt phương thức `calculate_area` là `abstract method`."
      ]
    },
    {
      "cell_type": "code",
      "execution_count": 102,
      "id": "93d2141a-665b-45fd-8dae-59f2c54bd382",
      "metadata": {
        "id": "93d2141a-665b-45fd-8dae-59f2c54bd382"
      },
      "outputs": [],
      "source": [
        "from abc import abstractmethod\n",
        "from typing import List, Dict, Tuple, Optional\n",
        "\n",
        "### BEGIN SOLUTION\n",
        "class Geometry():\n",
        "    def __init__(self, property: float):\n",
        "        self.property = property\n",
        "\n",
        "    @abstractmethod\n",
        "    def calculate_area(self):\n",
        "        pass\n",
        "### END SOLUTION"
      ]
    },
    {
      "cell_type": "code",
      "execution_count": 103,
      "id": "b578d867-132c-4d29-91e9-ff0370c90c4b",
      "metadata": {
        "id": "b578d867-132c-4d29-91e9-ff0370c90c4b"
      },
      "outputs": [],
      "source": [
        "# Public Test\n",
        "geometry_obj = Geometry(2)\n",
        "assert geometry_obj.property == 2"
      ]
    },
    {
      "cell_type": "markdown",
      "id": "6f4415fe-f6bf-4e40-b4c1-9449b09f9a5b",
      "metadata": {
        "id": "6f4415fe-f6bf-4e40-b4c1-9449b09f9a5b"
      },
      "source": [
        "**Yêu cầu 2:** Cài đặt class `Square` kế thừa từ class `Geometry`."
      ]
    },
    {
      "cell_type": "code",
      "execution_count": 104,
      "id": "02336a7f-41f4-4605-ad98-7dcfeb138049",
      "metadata": {
        "id": "02336a7f-41f4-4605-ad98-7dcfeb138049"
      },
      "outputs": [],
      "source": [
        "class Square(Geometry):\n",
        "    def __init__(self, property: float) -> None:\n",
        "        # Call the __init__ method of the parent class using `super()`\n",
        "        ### BEGIN SOLUTION\n",
        "        super().__init__(property)\n",
        "        ### END SOLUTION\n",
        "\n",
        "    # Implement the `calculate_area` method\n",
        "    ### BEGIN SOLUTION\n",
        "    def calculate_area(self):\n",
        "        return round(self.property ** 2, 5)\n",
        "    ### END SOLUTION"
      ]
    },
    {
      "cell_type": "code",
      "execution_count": 105,
      "id": "c3100ec2-4a5e-4370-8555-93607f456ce5",
      "metadata": {
        "id": "c3100ec2-4a5e-4370-8555-93607f456ce5"
      },
      "outputs": [],
      "source": [
        "# Public Test\n",
        "square_obj = Square(2)\n",
        "assert square_obj.calculate_area() == 4"
      ]
    },
    {
      "cell_type": "markdown",
      "id": "ae922c50-3425-471d-88a9-c2508c930d20",
      "metadata": {
        "id": "ae922c50-3425-471d-88a9-c2508c930d20"
      },
      "source": [
        "**Yêu cầu 3:** Cài đặt class `Round` kế thừa từ class `Geometry`. Lưu ý sử dụng `math.pi` và làm tròn kết quả 5 chữ số thập phân."
      ]
    },
    {
      "cell_type": "code",
      "execution_count": 106,
      "id": "6c24f41e-df72-4b6b-94d8-3bbf54e35a3c",
      "metadata": {
        "id": "6c24f41e-df72-4b6b-94d8-3bbf54e35a3c"
      },
      "outputs": [],
      "source": [
        "import math\n",
        "\n",
        "class Round(Geometry):\n",
        "    def __init__(self, property: float) -> None:\n",
        "        # Call the __init__ method of the parent class using `super()`\n",
        "        ### BEGIN SOLUTION\n",
        "        super().__init__(property)\n",
        "        ### END SOLUTION\n",
        "\n",
        "    # Implement the `calculate_area` method\n",
        "    ### BEGIN SOLUTION\n",
        "    def calculate_area(self):\n",
        "        return round(math.pi * self.property ** 2, 5)\n",
        "    ### END SOLUTION"
      ]
    },
    {
      "cell_type": "code",
      "execution_count": 107,
      "id": "0d8340cf-73e3-4cd5-aca1-eaf9fd77b828",
      "metadata": {
        "id": "0d8340cf-73e3-4cd5-aca1-eaf9fd77b828"
      },
      "outputs": [],
      "source": [
        "# Public Test\n",
        "square_obj = Round(2)\n",
        "assert square_obj.calculate_area() == 12.56637"
      ]
    },
    {
      "cell_type": "markdown",
      "id": "27e90e6b-8d8f-43d7-b0b2-739a9cf5cc0b",
      "metadata": {
        "id": "27e90e6b-8d8f-43d7-b0b2-739a9cf5cc0b"
      },
      "source": [
        "# LUYỆN TẬP OOP - PHẦN 2"
      ]
    },
    {
      "cell_type": "markdown",
      "id": "f45623f3-df40-435a-91a1-d6d3d5e2bf5a",
      "metadata": {
        "id": "f45623f3-df40-435a-91a1-d6d3d5e2bf5a"
      },
      "source": [
        "Viết chương trình cài đặt lớp (class) `PhanSo` (Phân số).\n",
        "\n",
        "Lớp (class) có những thuộc tính, phương thức sau:\n",
        "\n",
        "- Thuộc tính:\n",
        "    - `tu_so` (int): Tử số.\n",
        "    - `mau_so` (int): Mẫu số (có điều kiện khác `0`, khi khai báo sử dụng câu lệnh `assert` để kiểm tra).\n",
        "\n",
        "- Phương thức:\n",
        "    - Hàm khởi tạo `__init__`: Lưu ý trả ra lỗi nêu khai báo mẫu số bằng `0`. Lưu ý rút gọn phân số.\n",
        "    - Hàm tính toán: `cong`, `tru`:\n",
        "        - Cập nhật `tu_so` và `mau_so` của object, lưu ý rút gọn phân số.\n",
        "    - Hàm rút gọn phân số: `rut_gon`.\n",
        "    \n",
        "**Quy ước:** Nếu tử số bằng `0` thì gán mẫu số bằng `1`."
      ]
    },
    {
      "cell_type": "markdown",
      "id": "7de60427-dc20-4899-a2eb-47344dc565ef",
      "metadata": {
        "id": "7de60427-dc20-4899-a2eb-47344dc565ef"
      },
      "source": [
        "Ví dụ số 1 về hàm `__init__`:\n",
        "- Input:\n",
        "```\n",
        "tu_so = 2\n",
        "mau_so = 4\n",
        "```\n",
        "- Output:\n",
        "```\n",
        "# no output\n",
        "```\n",
        "- Thuộc tính của object sau khi chạy:\n",
        "```\n",
        "tu_so = 1\n",
        "mau_so = 2\n",
        "```"
      ]
    },
    {
      "cell_type": "markdown",
      "id": "e9f7ed2c-c649-4489-b335-2ee792bbe712",
      "metadata": {
        "id": "e9f7ed2c-c649-4489-b335-2ee792bbe712"
      },
      "source": [
        "Ví dụ số 2 về hàm `__init__`:\n",
        "- Input:\n",
        "```\n",
        "tu_so = 2\n",
        "mau_so = 0\n",
        "```\n",
        "- Output:\n",
        "```\n",
        "# error\n",
        "```\n",
        "- Thuộc tính của object sau khi chạy:\n",
        "```\n",
        "# error\n",
        "```"
      ]
    },
    {
      "cell_type": "markdown",
      "id": "7039afda-3609-49f6-a776-d65f258d18e8",
      "metadata": {
        "id": "7039afda-3609-49f6-a776-d65f258d18e8"
      },
      "source": [
        "Ví dụ về hàm `cong` (cộng phân số):\n",
        "- Thuộc tính của object:\n",
        "```\n",
        "tu_so = 1\n",
        "mau_so = 3\n",
        "```\n",
        "- Input:\n",
        "```\n",
        "other = PhanSo(1, 3)\n",
        "```\n",
        "- Output:\n",
        "```\n",
        "# no output\n",
        "```\n",
        "- Thuộc tính của object sau khi chạy:\n",
        "```\n",
        "tu_so = 2\n",
        "mau_so = 3\n",
        "```"
      ]
    },
    {
      "cell_type": "markdown",
      "id": "59ed1c8b-4387-4d61-9f20-cb03c0d0e60e",
      "metadata": {
        "id": "59ed1c8b-4387-4d61-9f20-cb03c0d0e60e"
      },
      "source": [
        "Ví dụ về hàm `tru` (trừ phân số):\n",
        "- Thuộc tính của object:\n",
        "```\n",
        "tu_so = 2\n",
        "mau_so = 3\n",
        "```\n",
        "- Input:\n",
        "```\n",
        "other = PhanSo(1, 3)\n",
        "```\n",
        "- Output:\n",
        "```\n",
        "# no output\n",
        "```\n",
        "- Thuộc tính của object sau khi chạy:\n",
        "```\n",
        "tu_so = 1\n",
        "mau_so = 3\n",
        "```"
      ]
    },
    {
      "cell_type": "markdown",
      "id": "d0a4e432-4e72-421d-9b0f-6f09ba0a22ea",
      "metadata": {
        "id": "d0a4e432-4e72-421d-9b0f-6f09ba0a22ea"
      },
      "source": [
        "**Yêu cầu:** Thực hiện cài đặt class `PhanSo`."
      ]
    },
    {
      "cell_type": "code",
      "execution_count": 108,
      "id": "f1b1689f-668c-4138-9a74-9cc01908865c",
      "metadata": {
        "id": "f1b1689f-668c-4138-9a74-9cc01908865c"
      },
      "outputs": [],
      "source": [
        "import math\n",
        "from typing import List, Dict, Tuple, Optional\n",
        "\n",
        "\n",
        "class PhanSo:\n",
        "    def __init__(self, tu_so: int, mau_so: int) -> None:\n",
        "        # Use `assert` statement to check the denominator\n",
        "        ### BEGIN SOLUTION\n",
        "        assert mau_so != 0\n",
        "        ### END SOLUTION\n",
        "\n",
        "        # Initialize attributes `tu_so`, `mau_so`\n",
        "        ### BEGIN SOLUTION\n",
        "        self.tu_so = tu_so\n",
        "        self.mau_so = mau_so\n",
        "        ### END SOLUTION\n",
        "\n",
        "        # Simplify the fraction\n",
        "        self.rut_gon()\n",
        "\n",
        "    def rut_gon(self) -> None:\n",
        "        # Use `math.gcd` to find the greatest common divisor\n",
        "        ### BEGIN SOLUTION\n",
        "        ucln = math.gcd(self.tu_so, self.mau_so)\n",
        "        self.tu_so //= ucln\n",
        "        self.mau_so //= ucln\n",
        "        if self.tu_so == 0:\n",
        "            self.mau_so = 1\n",
        "        ### END SOLUTION\n",
        "\n",
        "    def cong(self, other: 'PhanSo') -> None:\n",
        "        ### BEGIN SOLUTION\n",
        "        self.tu_so = self.tu_so * other.mau_so + other.tu_so * self.mau_so\n",
        "        self.mau_so = self.mau_so * other.mau_so\n",
        "        self.rut_gon()\n",
        "        ### END SOLUTION\n",
        "\n",
        "    def tru(self, other: 'PhanSo') -> None:\n",
        "        ### BEGIN SOLUTION\n",
        "        self.tu_so = self.tu_so * other.mau_so - other.tu_so * self.mau_so\n",
        "        self.mau_so = self.mau_so * other.mau_so\n",
        "        self.rut_gon()\n",
        "        ### END SOLUTION"
      ]
    },
    {
      "cell_type": "code",
      "execution_count": 109,
      "id": "011da474-af74-4099-b4e3-44ee40e43c8d",
      "metadata": {
        "id": "011da474-af74-4099-b4e3-44ee40e43c8d"
      },
      "outputs": [],
      "source": [
        "# Public Test\n",
        "phan_so_obj = PhanSo(2, 4)\n",
        "assert phan_so_obj.tu_so == 1\n",
        "assert phan_so_obj.mau_so == 2"
      ]
    },
    {
      "cell_type": "code",
      "execution_count": 110,
      "id": "af34af9c-c14a-4832-9b3a-9b253f96039c",
      "metadata": {
        "id": "af34af9c-c14a-4832-9b3a-9b253f96039c"
      },
      "outputs": [],
      "source": [
        "# Public Test\n",
        "try:\n",
        "    has_error = False\n",
        "    PhanSo(1, 0)\n",
        "except:\n",
        "    has_error = True\n",
        "\n",
        "assert has_error"
      ]
    },
    {
      "cell_type": "code",
      "execution_count": 111,
      "id": "2a29ac93-3b93-413c-b9a7-d7e5131e6b88",
      "metadata": {
        "id": "2a29ac93-3b93-413c-b9a7-d7e5131e6b88"
      },
      "outputs": [],
      "source": [
        "# Public Test\n",
        "phan_so_obj = PhanSo(2, 3)\n",
        "phan_so_obj.tru(PhanSo(1, 3))\n",
        "assert phan_so_obj.tu_so == 1\n",
        "assert phan_so_obj.mau_so == 3"
      ]
    }
  ],
  "metadata": {
    "colab": {
      "provenance": []
    },
    "kernelspec": {
      "display_name": "Python 3 (ipykernel)",
      "language": "python",
      "name": "python3"
    },
    "language_info": {
      "codemirror_mode": {
        "name": "ipython",
        "version": 3
      },
      "file_extension": ".py",
      "mimetype": "text/x-python",
      "name": "python",
      "nbconvert_exporter": "python",
      "pygments_lexer": "ipython3",
      "version": "3.11.9"
    }
  },
  "nbformat": 4,
  "nbformat_minor": 5
}
