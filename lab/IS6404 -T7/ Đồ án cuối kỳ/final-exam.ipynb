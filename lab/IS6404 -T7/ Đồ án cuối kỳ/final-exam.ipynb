{
 "cells": [
  {
   "cell_type": "code",
   "execution_count": 12,
   "metadata": {},
   "outputs": [
    {
     "name": "stdout",
     "output_type": "stream",
     "text": [
      "   Year         GDP\n",
      "0  1985  235.652540\n",
      "1  1986  430.188501\n",
      "2  1987  585.304937\n",
      "3  1988  397.014360\n",
      "4  1989   96.130362\n",
      "<class 'pandas.core.frame.DataFrame'>\n",
      "RangeIndex: 38 entries, 0 to 37\n",
      "Data columns (total 2 columns):\n",
      " #   Column  Non-Null Count  Dtype  \n",
      "---  ------  --------------  -----  \n",
      " 0   Year    38 non-null     int64  \n",
      " 1   GDP     38 non-null     float64\n",
      "dtypes: float64(1), int64(1)\n",
      "memory usage: 740.0 bytes\n",
      "None\n"
     ]
    }
   ],
   "source": [
    "import pandas as pd\n",
    "\n",
    "# Đọc dữ liệu từ tệp CSV\n",
    "data = pd.read_csv('../../../data/gdp.csv')\n",
    "# data = pd.read_csv('../../../data/BCP.csv')\n",
    "# Xem trước dữ liệu\n",
    "print(data.head())\n",
    "print(data.info())\n"
   ]
  },
  {
   "cell_type": "markdown",
   "metadata": {},
   "source": [
    "# Cài đặt thuật toán Logistics"
   ]
  },
  {
   "cell_type": "code",
   "execution_count": 17,
   "metadata": {},
   "outputs": [
    {
     "name": "stdout",
     "output_type": "stream",
     "text": [
      "Data Head:\n",
      "   Year         GDP\n",
      "0  1985  235.652540\n",
      "1  1986  430.188501\n",
      "2  1987  585.304937\n",
      "3  1988  397.014360\n",
      "4  1989   96.130362\n",
      "\n",
      "Data Columns:\n",
      "Index(['Year', 'GDP'], dtype='object')\n",
      "\n",
      "Accuracy: 0.875\n",
      "F1 Score: 0.8888888888888888\n",
      "\n",
      "Data Result:\n",
      "   Year         GDP  GDP_binary  target_prediction\n",
      "0  1985  235.652540           0                NaN\n",
      "1  1986  430.188501           0                NaN\n",
      "2  1987  585.304937           0                NaN\n",
      "3  1988  397.014360           0                NaN\n",
      "4  1989   96.130362           0                0.0\n",
      "5  1990   96.719296           0                NaN\n",
      "6  1991  140.631004           0                0.0\n",
      "7  1992  141.383685           0                NaN\n",
      "8  1993  185.187122           0                NaN\n",
      "9  1994  224.637094           0                NaN\n"
     ]
    },
    {
     "name": "stderr",
     "output_type": "stream",
     "text": [
      "/Library/Frameworks/Python.framework/Versions/3.11/lib/python3.11/site-packages/sklearn/neural_network/_multilayer_perceptron.py:690: ConvergenceWarning: Stochastic Optimizer: Maximum iterations (1000) reached and the optimization hasn't converged yet.\n",
      "  warnings.warn(\n"
     ]
    }
   ],
   "source": [
    "import pandas as pd\n",
    "import numpy as np\n",
    "from sklearn.model_selection import train_test_split\n",
    "from sklearn.preprocessing import StandardScaler, LabelEncoder\n",
    "from sklearn.linear_model import LogisticRegression\n",
    "from sklearn.neural_network import MLPClassifier\n",
    "from sklearn.metrics import accuracy_score, f1_score\n",
    "\n",
    "# Đọc dữ liệu từ tệp CSV mới được tải lên\n",
    "try:\n",
    "    data = pd.read_csv('../../../data/gdp.csv')\n",
    "\n",
    "    # Xem trước dữ liệu\n",
    "    data_head = data.head()\n",
    "    data_columns = data.columns\n",
    "\n",
    "    # Giả sử cột 'GDP' là mục tiêu và các cột còn lại là đặc trưng\n",
    "    target_column = 'GDP'\n",
    "    features = [col for col in data.columns if col != target_column]\n",
    "\n",
    "    # Chuyển đổi GDP thành nhị phân (0 hoặc 1) dựa trên giá trị trung bình\n",
    "    data['GDP_binary'] = (data[target_column] > data[target_column].mean()).astype(int)\n",
    "\n",
    "    X = data[features]\n",
    "    y = data['GDP_binary']\n",
    "\n",
    "    # Chia dữ liệu thành tập huấn luyện và tập kiểm tra\n",
    "    X_train, X_test, y_train, y_test = train_test_split(X, y, test_size=0.2, random_state=42)\n",
    "\n",
    "    # Chuyển đổi X_test thành DataFrame để sử dụng thuộc tính index\n",
    "    X_test_df = pd.DataFrame(X_test, columns=features)\n",
    "\n",
    "    # Chuẩn hóa dữ liệu\n",
    "    scaler = StandardScaler()\n",
    "    X_train = scaler.fit_transform(X_train)\n",
    "    X_test = scaler.transform(X_test)\n",
    "\n",
    "    # Huấn luyện mô hình hồi quy Logistic\n",
    "    logistic_model = LogisticRegression()\n",
    "    logistic_model.fit(X_train, y_train)\n",
    "\n",
    "    # Dự đoán với mô hình hồi quy Logistic\n",
    "    y_pred_logistic = logistic_model.predict(X_test)\n",
    "\n",
    "    # Huấn luyện mô hình MLP\n",
    "    mlp_model = MLPClassifier(hidden_layer_sizes=(10,), max_iter=1000, random_state=42)\n",
    "    mlp_model.fit(X_train, y_train)\n",
    "\n",
    "    # Dự đoán với mô hình MLP\n",
    "    y_pred_mlp = mlp_model.predict(X_test)\n",
    "\n",
    "    # Kết hợp kết quả dự đoán từ cả hai mô hình\n",
    "    y_pred_combined = (y_pred_logistic + y_pred_mlp) / 2\n",
    "    y_pred_combined = np.round(y_pred_combined).astype(int)\n",
    "\n",
    "    # Đánh giá độ chính xác và F1 score\n",
    "    accuracy = accuracy_score(y_test, y_pred_combined)\n",
    "    f1 = f1_score(y_test, y_pred_combined)\n",
    "\n",
    "    # Thêm cột dự đoán vào dữ liệu ban đầu\n",
    "    data.loc[X_test_df.index, 'target_prediction'] = y_pred_combined\n",
    "\n",
    "    # Hiển thị 10 dòng đầu tiên của dữ liệu kết quả\n",
    "    data_result = data.head(10)\n",
    "\n",
    "    print(\"Data Head:\")\n",
    "    print(data_head)\n",
    "    print(\"\\nData Columns:\")\n",
    "    print(data_columns)\n",
    "    print(\"\\nAccuracy:\", accuracy)\n",
    "    print(\"F1 Score:\", f1)\n",
    "    print(\"\\nData Result:\")\n",
    "    print(data_result)\n",
    "\n",
    "except Exception as e:\n",
    "    print(f\"Error processing the data: {e}\")\n"
   ]
  }
 ],
 "metadata": {
  "kernelspec": {
   "display_name": "Python 3",
   "language": "python",
   "name": "python3"
  },
  "language_info": {
   "codemirror_mode": {
    "name": "ipython",
    "version": 3
   },
   "file_extension": ".py",
   "mimetype": "text/x-python",
   "name": "python",
   "nbconvert_exporter": "python",
   "pygments_lexer": "ipython3",
   "version": "3.11.9"
  }
 },
 "nbformat": 4,
 "nbformat_minor": 2
}
