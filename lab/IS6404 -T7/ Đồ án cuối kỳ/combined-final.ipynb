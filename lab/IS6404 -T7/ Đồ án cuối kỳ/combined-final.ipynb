{
 "cells": [
  {
   "cell_type": "code",
   "execution_count": 2,
   "metadata": {},
   "outputs": [],
   "source": [
    "import pandas as pd\n",
    "import numpy as np\n",
    "from sklearn.model_selection import train_test_split\n",
    "from sklearn.preprocessing import StandardScaler\n",
    "from sklearn.linear_model import LinearRegression\n",
    "from sklearn.metrics import accuracy_score, f1_score, precision_score, recall_score, mean_squared_error\n",
    "from xgboost import XGBRegressor\n",
    "from sklearn.neural_network import MLPRegressor\n",
    "\n",
    "# Đọc dữ liệu từ tệp CSV\n",
    "data = pd.read_csv('../../../data/BCP.csv')\n",
    "output_file = '../../../data/BCP_predictions.csv'\n",
    "\n",
    "# Loại bỏ cột 'Time' vì không sử dụng trong tính toán\n",
    "data = data.drop(columns=['Time'])\n",
    "\n",
    "# Xử lý các giá trị NaN\n",
    "data.dropna(inplace=True)\n",
    "\n",
    "# Chọn cột '440FI539' làm mục tiêu và các cột còn lại là đặc trưng\n",
    "target_column = '440FI539'\n",
    "features = [col for col in data.columns if col != target_column]\n",
    "\n",
    "X = data[features]\n",
    "y = data[target_column]\n",
    "\n",
    "# Chia dữ liệu thành tập huấn luyện và tập kiểm tra\n",
    "X_train, X_test, y_train, y_test = train_test_split(X, y, test_size=0.2, random_state=42)\n",
    "\n",
    "# Chuẩn hóa dữ liệu\n",
    "scaler = StandardScaler()\n",
    "X_train = scaler.fit_transform(X_train)\n",
    "X_test = scaler.transform(X_test)\n"
   ]
  },
  {
   "cell_type": "markdown",
   "metadata": {},
   "source": [
    "### 1. Hồi quy đơn biến (Univariate Regression)"
   ]
  },
  {
   "cell_type": "code",
   "execution_count": 3,
   "metadata": {},
   "outputs": [
    {
     "name": "stdout",
     "output_type": "stream",
     "text": [
      "Univariate Regression\n",
      "MSE: 0.00019320148767008001\n"
     ]
    }
   ],
   "source": [
    "# Huấn luyện mô hình hồi quy đơn biến\n",
    "univariate_model = LinearRegression()\n",
    "univariate_model.fit(X_train[:, 0].reshape(-1, 1), y_train)\n",
    "\n",
    "# Dự đoán với mô hình hồi quy đơn biến\n",
    "y_pred_univariate = univariate_model.predict(X_test[:, 0].reshape(-1, 1))\n",
    "\n",
    "# Đánh giá mô hình hồi quy đơn biến\n",
    "mse_univariate = mean_squared_error(y_test, y_pred_univariate)\n",
    "print(\"Univariate Regression\")\n",
    "print(f\"MSE: {mse_univariate}\")\n"
   ]
  },
  {
   "cell_type": "markdown",
   "metadata": {},
   "source": [
    "### 2. Hồi quy đa biến (Multivariate Regression)"
   ]
  },
  {
   "cell_type": "code",
   "execution_count": 4,
   "metadata": {},
   "outputs": [
    {
     "name": "stdout",
     "output_type": "stream",
     "text": [
      "Multivariate Regression\n",
      "MSE: 0.00017634528136417995\n"
     ]
    }
   ],
   "source": [
    "# Huấn luyện mô hình hồi quy đa biến\n",
    "multivariate_model = LinearRegression()\n",
    "multivariate_model.fit(X_train, y_train)\n",
    "\n",
    "# Dự đoán với mô hình hồi quy đa biến\n",
    "y_pred_multivariate = multivariate_model.predict(X_test)\n",
    "\n",
    "# Đánh giá mô hình hồi quy đa biến\n",
    "mse_multivariate = mean_squared_error(y_test, y_pred_multivariate)\n",
    "print(\"Multivariate Regression\")\n",
    "print(f\"MSE: {mse_multivariate}\")\n"
   ]
  },
  {
   "cell_type": "markdown",
   "metadata": {},
   "source": [
    "### 3. XGBoost"
   ]
  },
  {
   "cell_type": "code",
   "execution_count": 5,
   "metadata": {},
   "outputs": [
    {
     "name": "stdout",
     "output_type": "stream",
     "text": [
      "XGBoost\n",
      "MSE: 8.13638742312531e-05\n"
     ]
    }
   ],
   "source": [
    "# Huấn luyện mô hình XGBoost\n",
    "xgboost_model = XGBRegressor()\n",
    "xgboost_model.fit(X_train, y_train)\n",
    "\n",
    "# Dự đoán với mô hình XGBoost\n",
    "y_pred_xgboost = xgboost_model.predict(X_test)\n",
    "\n",
    "# Đánh giá mô hình XGBoost\n",
    "mse_xgboost = mean_squared_error(y_test, y_pred_xgboost)\n",
    "print(\"XGBoost\")\n",
    "print(f\"MSE: {mse_xgboost}\")\n"
   ]
  },
  {
   "cell_type": "markdown",
   "metadata": {},
   "source": [
    "### 4. MLP (Multi-Layer Perceptron)"
   ]
  },
  {
   "cell_type": "code",
   "execution_count": 6,
   "metadata": {},
   "outputs": [
    {
     "name": "stdout",
     "output_type": "stream",
     "text": [
      "MLP\n",
      "MSE: 0.08383364447821133\n"
     ]
    }
   ],
   "source": [
    "# Huấn luyện mô hình MLP\n",
    "mlp_model = MLPRegressor(hidden_layer_sizes=(10,), max_iter=1000, random_state=42)\n",
    "mlp_model.fit(X_train, y_train)\n",
    "\n",
    "# Dự đoán với mô hình MLP\n",
    "y_pred_mlp = mlp_model.predict(X_test)\n",
    "\n",
    "# Đánh giá mô hình MLP\n",
    "mse_mlp = mean_squared_error(y_test, y_pred_mlp)\n",
    "print(\"MLP\")\n",
    "print(f\"MSE: {mse_mlp}\")\n"
   ]
  },
  {
   "cell_type": "markdown",
   "metadata": {},
   "source": [
    "### 5. Mô hình kết hợp (Hybrid Model)"
   ]
  },
  {
   "cell_type": "code",
   "execution_count": 7,
   "metadata": {},
   "outputs": [
    {
     "name": "stdout",
     "output_type": "stream",
     "text": [
      "Hybrid Model\n",
      "MSE: 1.6551879466205253\n"
     ]
    }
   ],
   "source": [
    "# Kết hợp kết quả dự đoán từ các mô hình hồi quy đa biến, XGBoost và MLP\n",
    "y_pred_combined = (y_pred_multivariate  + y_pred_mlp) / 3\n",
    "\n",
    "# Đánh giá mô hình kết hợp\n",
    "mse_combined = mean_squared_error(y_test, y_pred_combined)\n",
    "print(\"Hybrid Model\")\n",
    "print(f\"MSE: {mse_combined}\")\n"
   ]
  },
  {
   "cell_type": "markdown",
   "metadata": {},
   "source": [
    "### Tổng kết"
   ]
  },
  {
   "cell_type": "code",
   "execution_count": 8,
   "metadata": {},
   "outputs": [
    {
     "name": "stdout",
     "output_type": "stream",
     "text": [
      "\n",
      "Summary of Results\n",
      "Univariate Regression\n",
      "MSE: 0.00019320148767008001\n",
      "\n",
      "Multivariate Regression\n",
      "MSE: 0.00017634528136417995\n",
      "\n",
      "XGBoost\n",
      "MSE: 8.13638742312531e-05\n",
      "\n",
      "MLP\n",
      "MSE: 0.08383364447821133\n",
      "\n",
      "Hybrid Model\n",
      "MSE: 1.6551879466205253\n"
     ]
    }
   ],
   "source": [
    "print(\"\\nSummary of Results\")\n",
    "print(\"Univariate Regression\")\n",
    "print(f\"MSE: {mse_univariate}\")\n",
    "\n",
    "print(\"\\nMultivariate Regression\")\n",
    "print(f\"MSE: {mse_multivariate}\")\n",
    "\n",
    "print(\"\\nXGBoost\")\n",
    "print(f\"MSE: {mse_xgboost}\")\n",
    "\n",
    "print(\"\\nMLP\")\n",
    "print(f\"MSE: {mse_mlp}\")\n",
    "\n",
    "print(\"\\nHybrid Model\")\n",
    "print(f\"MSE: {mse_combined}\")\n"
   ]
  }
 ],
 "metadata": {
  "kernelspec": {
   "display_name": "Python 3",
   "language": "python",
   "name": "python3"
  },
  "language_info": {
   "codemirror_mode": {
    "name": "ipython",
    "version": 3
   },
   "file_extension": ".py",
   "mimetype": "text/x-python",
   "name": "python",
   "nbconvert_exporter": "python",
   "pygments_lexer": "ipython3",
   "version": "3.12.3"
  }
 },
 "nbformat": 4,
 "nbformat_minor": 2
}
