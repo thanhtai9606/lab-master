{
  "cells": [
    {
      "cell_type": "code",
      "execution_count": 2,
      "metadata": {
        "collapsed": true,
        "id": "r__fmusqNNuu"
      },
      "outputs": [],
      "source": [
        "import warnings\n",
        "warnings.filterwarnings('ignore')\n",
        "%matplotlib inline\n",
        "import matplotlib.pyplot as plt\n",
        "import numpy as np"
      ]
    },
    {
      "cell_type": "code",
      "execution_count": 3,
      "metadata": {
        "id": "cDw0uXxPNNuv"
      },
      "outputs": [],
      "source": [
        "def initialize_population( num_individuals, num_variables ):\n",
        "    \"\"\"\n",
        "    Khởi tạo quần thể gồm num_individuals cá thể. Mỗi cá thể có num_parameters biến.\n",
        "\n",
        "    Arguments:\n",
        "    num_individuals -- Số lượng cá thể\n",
        "    num_variables -- Số lượng biến\n",
        "\n",
        "    Returns:\n",
        "    pop -- Ma trận (num_individuals, num_variables ) chứa quần thể mới được khởi tạo ngẫu nhiên.\n",
        "    \"\"\"\n",
        "\n",
        "    pop = np.random.randint(2, size=(num_individuals, num_variables))\n",
        "\n",
        "\n",
        "    return pop"
      ]
    },
    {
      "cell_type": "code",
      "execution_count": 4,
      "metadata": {
        "colab": {
          "base_uri": "https://localhost:8080/"
        },
        "id": "B2mFFli0fUCH",
        "outputId": "28b0ddec-4b30-4121-de81-cbf325d87c05"
      },
      "outputs": [
        {
          "name": "stdout",
          "output_type": "stream",
          "text": [
            "[[1 1 0 1]\n",
            " [0 1 1 1]\n",
            " [1 0 0 0]\n",
            " [0 1 1 1]\n",
            " [0 1 1 0]\n",
            " [0 1 0 0]\n",
            " [1 1 1 0]\n",
            " [1 1 1 1]]\n"
          ]
        }
      ],
      "source": [
        "# np.random.seed(42)\n",
        "pop = initialize_population(8,4)\n",
        "print(pop)"
      ]
    },
    {
      "cell_type": "code",
      "execution_count": 5,
      "metadata": {
        "id": "sexPh34MNNuw"
      },
      "outputs": [],
      "source": [
        "def onemax( ind ):\n",
        "    \"\"\"\n",
        "    Hàm đánh giá OneMax: Đếm số bit 1 trong chuỗi nhị phân (cá thể ind).\n",
        "\n",
        "    Arguments:\n",
        "    ind -- Cá thể cần được đánh giá.\n",
        "\n",
        "    Returns:\n",
        "    value -- Giá trị của cá thể ind.\n",
        "    \"\"\"\n",
        "\n",
        "    value = np.sum(ind)\n",
        "\n",
        "    return value"
      ]
    },
    {
      "cell_type": "code",
      "execution_count": 6,
      "metadata": {
        "colab": {
          "base_uri": "https://localhost:8080/"
        },
        "id": "m-wgJivufTUG",
        "outputId": "2951246e-d1f7-48b2-e1e9-7fdf2915b2be"
      },
      "outputs": [
        {
          "data": {
            "text/plain": [
              "1"
            ]
          },
          "execution_count": 6,
          "metadata": {},
          "output_type": "execute_result"
        }
      ],
      "source": [
        "onemax(pop[5,:])"
      ]
    },
    {
      "cell_type": "code",
      "execution_count": 7,
      "metadata": {
        "id": "RWOJbcSCn3mz"
      },
      "outputs": [],
      "source": [
        "def truncation_selection(pop, pop_fitness, selection_size):\n",
        "    selected_indices = np.argsort(pop_fitness)[-selection_size:]\n",
        "    return selected_indices"
      ]
    },
    {
      "cell_type": "code",
      "execution_count": 8,
      "metadata": {
        "id": "KYtI5HO2NNuy"
      },
      "outputs": [],
      "source": [
        "def crossover( pop ):\n",
        "    \"\"\"\n",
        "    Hàm biến đổi tạo ra các cá thể con.\n",
        "\n",
        "    Arguments:\n",
        "    pop -- Quàn thể hiện tại.\n",
        "\n",
        "    Returns:\n",
        "    offspring -- Quần thể chứa các cá thể con được sinh ra.\n",
        "    \"\"\"\n",
        "\n",
        "    num_individuals = len(pop)\n",
        "    num_parameters = len(pop[0])\n",
        "    indices = np.arange(num_individuals)\n",
        "    # Đảo ngẫu nhiên thứ tự các cá thể trong quần thể\n",
        "    np.random.shuffle(indices)\n",
        "    offspring = []\n",
        "\n",
        "    for i in range(0, num_individuals, 2):\n",
        "        idx1 = indices[i]\n",
        "        idx2 = indices[i+1]\n",
        "        offspring1 = list(pop[idx1])\n",
        "        offspring2 = list(pop[idx2])\n",
        "\n",
        "        # Cài đặt phép lai đồng nhất uniform crossover.\n",
        "        for idx in range(0, num_parameters):\n",
        "            r = np.random.rand()\n",
        "            if r < 0.5:\n",
        "                temp = offspring2[idx]\n",
        "                offspring2[idx] = offspring1[idx]\n",
        "                offspring1[idx] = temp\n",
        "\n",
        "        offspring.append(offspring1)\n",
        "        offspring.append(offspring2)\n",
        "\n",
        "    offspring = np.array(offspring)\n",
        "    return offspring"
      ]
    },
    {
      "cell_type": "code",
      "execution_count": 9,
      "metadata": {
        "id": "YPG8Ayu_yzwC"
      },
      "outputs": [],
      "source": [
        "def mutation(pop, mutation_prob):\n",
        "    num_individuals = len(pop)\n",
        "    num_parameters = len(pop[0])\n",
        "    for i in range(0, num_individuals):\n",
        "        for j in range(0, num_parameters):\n",
        "            r = np.random.rand()\n",
        "            if r < mutation_prob:\n",
        "                if pop[i][j] == 0:\n",
        "                    pop[i][j] = 1\n",
        "                else:\n",
        "                    pop[i][j] = 0\n",
        "\n",
        "    return pop"
      ]
    },
    {
      "cell_type": "code",
      "execution_count": 10,
      "metadata": {
        "id": "s-tug82wvrIV"
      },
      "outputs": [],
      "source": [
        "def genetic_algorithm(objective, num_individuals, num_parameters, max_evaluations, verbose=False):\n",
        "    pop = initialize_population(num_individuals, num_parameters)\n",
        "    pop_fitness = np.array([objective(ind) for ind in pop])\n",
        "    num_evaluations = num_individuals\n",
        "    best_fitness = []\n",
        "    if verbose:\n",
        "        print(\"#Gen 0:\")\n",
        "        print(pop_fitness)\n",
        "\n",
        "    selection_size = num_individuals // 2\n",
        "\n",
        "    while num_evaluations < max_evaluations:\n",
        "        best_fitness.append([num_evaluations, np.max(pop_fitness)])\n",
        "        selected_indices = truncation_selection( pop, pop_fitness, selection_size )\n",
        "        selection_set = pop[selected_indices]\n",
        "        selection_fitness = pop_fitness[selected_indices]\n",
        "\n",
        "        offspring = crossover(selection_set)\n",
        "        offspring = mutation(offspring, 0.1)\n",
        "        offspring_fitness = np.array([objective(ind) for ind in offspring])\n",
        "        num_evaluations += len(offspring)\n",
        "\n",
        "        pop = np.vstack([selection_set, offspring])\n",
        "        pop_fitness = np.concatenate((selection_fitness, offspring_fitness))\n",
        "\n",
        "        if verbose:\n",
        "            print(f'#Gen {i+1}:')\n",
        "            print(pop_fitness)\n",
        "\n",
        "    best_fitness.append([num_evaluations, np.max(pop_fitness)])\n",
        "    if verbose:\n",
        "        print('#Final result:')\n",
        "        print(pop)\n",
        "        print(pop_fitness)\n",
        "\n",
        "    return (pop, pop_fitness, best_fitness)\n"
      ]
    },
    {
      "cell_type": "code",
      "execution_count": 11,
      "metadata": {
        "id": "_M6RxNZxxw8u"
      },
      "outputs": [],
      "source": [
        "np.random.seed(42)\n",
        "num_parameters = 100\n",
        "num_individuals = 128\n",
        "max_evaluations = 2**15\n",
        "pop, pop_fitness, best_fitness = genetic_algorithm(onemax, num_individuals, num_parameters, max_evaluations)"
      ]
    },
    {
      "cell_type": "code",
      "execution_count": 12,
      "metadata": {
        "colab": {
          "base_uri": "https://localhost:8080/",
          "height": 472
        },
        "id": "zQ5kzIiWHri3",
        "outputId": "0aa229eb-9518-453d-9dfd-0b6e1247cad7"
      },
      "outputs": [
        {
          "data": {
            "image/png": "[encoded data removed]",
            "text/plain": [
              "<Figure size 640x480 with 1 Axes>"
            ]
          },
          "metadata": {},
          "output_type": "display_data"
        }
      ],
      "source": [
        "best_fitness = np.array(best_fitness)\n",
        "plt.plot(best_fitness[:,0], best_fitness[:,1], label='truncation', color='b')\n",
        "plt.xlabel(\"Number of evaluations\")\n",
        "plt.ylabel(\"Fitness\")\n",
        "plt.ylim(num_parameters/2, num_parameters)\n",
        "plt.title(f\"One-Max on {num_parameters} Dimensions\")\n",
        "plt.legend();"
      ]
    },
    {
      "cell_type": "code",
      "execution_count": 27,
      "metadata": {
        "id": "2SyNCQWHH89Q"
      },
      "outputs": [],
      "source": [
        "n_trials = 10\n",
        "num_parameters = 50\n",
        "max_evaluations = 10000\n",
        "num_individuals = 24 # population size\n",
        "\n",
        "fits_truncation = []\n",
        "evals = []\n",
        "for i in range(n_trials):\n",
        "    pop, pop_fitness, best_fitness = genetic_algorithm(onemax, num_individuals, num_parameters, max_evaluations)\n",
        "    best_fitness = np.array(best_fitness)\n",
        "    if i == 0:\n",
        "        evals = best_fitness[:,0]\n",
        "    fits_truncation.append(best_fitness[:,1])"
      ]
    },
    {
      "cell_type": "code",
      "execution_count": 28,
      "metadata": {
        "id": "AzUj3rOKXN8S"
      },
      "outputs": [],
      "source": [
        "fits_truncation = np.array(fits_truncation)"
      ]
    },
    {
      "cell_type": "code",
      "execution_count": 29,
      "metadata": {
        "colab": {
          "base_uri": "https://localhost:8080/"
        },
        "id": "vFgHE5AxXX_E",
        "outputId": "59abbfe5-7d5f-4959-c1c6-561878695804"
      },
      "outputs": [
        {
          "data": {
            "text/plain": [
              "array([[31, 32, 35, ..., 50, 50, 50],\n",
              "       [34, 34, 38, ..., 50, 50, 50],\n",
              "       [32, 32, 35, ..., 50, 50, 50],\n",
              "       ...,\n",
              "       [31, 31, 32, ..., 50, 50, 50],\n",
              "       [31, 34, 34, ..., 50, 50, 50],\n",
              "       [32, 32, 35, ..., 50, 50, 50]])"
            ]
          },
          "execution_count": 29,
          "metadata": {},
          "output_type": "execute_result"
        }
      ],
      "source": [
        "fits_truncation"
      ]
    },
    {
      "cell_type": "code",
      "execution_count": 30,
      "metadata": {
        "colab": {
          "base_uri": "https://localhost:8080/"
        },
        "id": "zzEUZpSGXyXj",
        "outputId": "1ea82c35-6b39-4b92-b1c7-2ded15d27878"
      },
      "outputs": [
        {
          "data": {
            "text/plain": [
              "array([31.8, 33.1, 34.9, 35.5, 36.3, 36.8, 37.6, 37.7, 38.9, 39.2, 40.6,\n",
              "       40.7, 40.7, 41.2, 41.4, 41.5, 41.8, 42.1, 42.5, 42.5, 42.6, 42.8,\n",
              "       43. , 43.6, 43.6, 43.7, 43.8, 44.3, 44.3, 44.4, 44.6, 45. , 45.3,\n",
              "       45.4, 45.4, 45.4, 45.5, 45.7, 45.8, 45.8, 45.8, 45.9, 46.2, 46.3,\n",
              "       46.3, 46.3, 46.4, 46.5, 46.6, 46.6, 46.7, 46.8, 46.8, 46.8, 47. ,\n",
              "       47. , 47. , 47. , 47.5, 47.5, 47.5, 47.5, 47.5, 47.5, 47.5, 47.6,\n",
              "       47.7, 47.8, 47.8, 47.8, 47.8, 47.8, 47.8, 47.9, 47.9, 47.9, 48. ,\n",
              "       48. , 48. , 48. , 48. , 48. , 48. , 48. , 48. , 48.3, 48.4, 48.4,\n",
              "       48.4, 48.4, 48.4, 48.4, 48.4, 48.4, 48.4, 48.5, 48.9, 48.9, 48.9,\n",
              "       48.9, 48.9, 49. , 49. , 49. , 49. , 49. , 49. , 49. , 49. , 49. ,\n",
              "       49. , 49. , 49. , 49. , 49. , 49. , 49. , 49. , 49. , 49. , 49. ,\n",
              "       49. , 49. , 49. , 49. , 49. , 49. , 49. , 49. , 49. , 49. , 49. ,\n",
              "       49. , 49. , 49. , 49. , 49.1, 49.1, 49.1, 49.1, 49.1, 49.1, 49.1,\n",
              "       49.1, 49.1, 49.1, 49.1, 49.1, 49.1, 49.1, 49.1, 49.1, 49.1, 49.1,\n",
              "       49.1, 49.2, 49.2, 49.2, 49.2, 49.2, 49.2, 49.2, 49.2, 49.3, 49.3,\n",
              "       49.3, 49.3, 49.4, 49.4, 49.5, 49.5, 49.5, 49.5, 49.5, 49.5, 49.5,\n",
              "       49.5, 49.5, 49.5, 49.5, 49.5, 49.5, 49.5, 49.5, 49.5, 49.5, 49.5,\n",
              "       49.5, 49.5, 49.5, 49.5, 49.5, 49.5, 49.5, 49.5, 49.5, 49.5, 49.6,\n",
              "       49.6, 49.6, 49.6, 49.6, 49.6, 49.6, 49.6, 49.6, 49.6, 49.6, 49.7,\n",
              "       49.7, 49.7, 49.7, 49.7, 49.7, 49.7, 49.7, 49.7, 49.7, 49.7, 49.7,\n",
              "       49.7, 49.7, 49.7, 49.7, 49.7, 49.7, 49.7, 49.7, 49.7, 49.7, 49.7,\n",
              "       49.7, 49.7, 49.7, 49.7, 49.7, 49.7, 49.7, 49.7, 49.7, 49.7, 49.7,\n",
              "       49.7, 49.7, 49.7, 49.7, 49.7, 49.7, 49.7, 49.7, 49.7, 49.7, 49.8,\n",
              "       49.8, 49.8, 49.8, 49.8, 49.8, 49.8, 49.8, 49.8, 49.8, 49.9, 49.9,\n",
              "       49.9, 49.9, 49.9, 49.9, 49.9, 49.9, 49.9, 50. , 50. , 50. , 50. ,\n",
              "       50. , 50. , 50. , 50. , 50. , 50. , 50. , 50. , 50. , 50. , 50. ,\n",
              "       50. , 50. , 50. , 50. , 50. , 50. , 50. , 50. , 50. , 50. , 50. ,\n",
              "       50. , 50. , 50. , 50. , 50. , 50. , 50. , 50. , 50. , 50. , 50. ,\n",
              "       50. , 50. , 50. , 50. , 50. , 50. , 50. , 50. , 50. , 50. , 50. ,\n",
              "       50. , 50. , 50. , 50. , 50. , 50. , 50. , 50. , 50. , 50. , 50. ,\n",
              "       50. , 50. , 50. , 50. , 50. , 50. , 50. , 50. , 50. , 50. , 50. ,\n",
              "       50. , 50. , 50. , 50. , 50. , 50. , 50. , 50. , 50. , 50. , 50. ,\n",
              "       50. , 50. , 50. , 50. , 50. , 50. , 50. , 50. , 50. , 50. , 50. ,\n",
              "       50. , 50. , 50. , 50. , 50. , 50. , 50. , 50. , 50. , 50. , 50. ,\n",
              "       50. , 50. , 50. , 50. , 50. , 50. , 50. , 50. , 50. , 50. , 50. ,\n",
              "       50. , 50. , 50. , 50. , 50. , 50. , 50. , 50. , 50. , 50. , 50. ,\n",
              "       50. , 50. , 50. , 50. , 50. , 50. , 50. , 50. , 50. , 50. , 50. ,\n",
              "       50. , 50. , 50. , 50. , 50. , 50. , 50. , 50. , 50. , 50. , 50. ,\n",
              "       50. , 50. , 50. , 50. , 50. , 50. , 50. , 50. , 50. , 50. , 50. ,\n",
              "       50. , 50. , 50. , 50. , 50. , 50. , 50. , 50. , 50. , 50. , 50. ,\n",
              "       50. , 50. , 50. , 50. , 50. , 50. , 50. , 50. , 50. , 50. , 50. ,\n",
              "       50. , 50. , 50. , 50. , 50. , 50. , 50. , 50. , 50. , 50. , 50. ,\n",
              "       50. , 50. , 50. , 50. , 50. , 50. , 50. , 50. , 50. , 50. , 50. ,\n",
              "       50. , 50. , 50. , 50. , 50. , 50. , 50. , 50. , 50. , 50. , 50. ,\n",
              "       50. , 50. , 50. , 50. , 50. , 50. , 50. , 50. , 50. , 50. , 50. ,\n",
              "       50. , 50. , 50. , 50. , 50. , 50. , 50. , 50. , 50. , 50. , 50. ,\n",
              "       50. , 50. , 50. , 50. , 50. , 50. , 50. , 50. , 50. , 50. , 50. ,\n",
              "       50. , 50. , 50. , 50. , 50. , 50. , 50. , 50. , 50. , 50. , 50. ,\n",
              "       50. , 50. , 50. , 50. , 50. , 50. , 50. , 50. , 50. , 50. , 50. ,\n",
              "       50. , 50. , 50. , 50. , 50. , 50. , 50. , 50. , 50. , 50. , 50. ,\n",
              "       50. , 50. , 50. , 50. , 50. , 50. , 50. , 50. , 50. , 50. , 50. ,\n",
              "       50. , 50. , 50. , 50. , 50. , 50. , 50. , 50. , 50. , 50. , 50. ,\n",
              "       50. , 50. , 50. , 50. , 50. , 50. , 50. , 50. , 50. , 50. , 50. ,\n",
              "       50. , 50. , 50. , 50. , 50. , 50. , 50. , 50. , 50. , 50. , 50. ,\n",
              "       50. , 50. , 50. , 50. , 50. , 50. , 50. , 50. , 50. , 50. , 50. ,\n",
              "       50. , 50. , 50. , 50. , 50. , 50. , 50. , 50. , 50. , 50. , 50. ,\n",
              "       50. , 50. , 50. , 50. , 50. , 50. , 50. , 50. , 50. , 50. , 50. ,\n",
              "       50. , 50. , 50. , 50. , 50. , 50. , 50. , 50. , 50. , 50. , 50. ,\n",
              "       50. , 50. , 50. , 50. , 50. , 50. , 50. , 50. , 50. , 50. , 50. ,\n",
              "       50. , 50. , 50. , 50. , 50. , 50. , 50. , 50. , 50. , 50. , 50. ,\n",
              "       50. , 50. , 50. , 50. , 50. , 50. , 50. , 50. , 50. , 50. , 50. ,\n",
              "       50. , 50. , 50. , 50. , 50. , 50. , 50. , 50. , 50. , 50. , 50. ,\n",
              "       50. , 50. , 50. , 50. , 50. , 50. , 50. , 50. , 50. , 50. , 50. ,\n",
              "       50. , 50. , 50. , 50. , 50. , 50. , 50. , 50. , 50. , 50. , 50. ,\n",
              "       50. , 50. , 50. , 50. , 50. , 50. , 50. , 50. , 50. , 50. , 50. ,\n",
              "       50. , 50. , 50. , 50. , 50. , 50. , 50. , 50. , 50. , 50. , 50. ,\n",
              "       50. , 50. , 50. , 50. , 50. , 50. , 50. , 50. , 50. , 50. , 50. ,\n",
              "       50. , 50. , 50. , 50. , 50. , 50. , 50. , 50. , 50. , 50. , 50. ,\n",
              "       50. , 50. , 50. , 50. , 50. , 50. , 50. , 50. , 50. , 50. , 50. ,\n",
              "       50. , 50. , 50. , 50. , 50. , 50. , 50. , 50. , 50. , 50. , 50. ,\n",
              "       50. , 50. , 50. , 50. , 50. , 50. , 50. , 50. , 50. , 50. , 50. ,\n",
              "       50. , 50. , 50. , 50. , 50. , 50. , 50. , 50. , 50. , 50. , 50. ,\n",
              "       50. , 50. , 50. , 50. , 50. , 50. , 50. , 50. , 50. , 50. , 50. ,\n",
              "       50. , 50. , 50. , 50. , 50. , 50. , 50. , 50. , 50. , 50. , 50. ,\n",
              "       50. , 50. , 50. , 50. , 50. , 50. , 50. , 50. , 50. , 50. , 50. ,\n",
              "       50. , 50. , 50. , 50. , 50. , 50. , 50. , 50. ])"
            ]
          },
          "execution_count": 30,
          "metadata": {},
          "output_type": "execute_result"
        }
      ],
      "source": [
        "avg = np.mean(fits_truncation, axis=0)\n",
        "err = np.std(fits_truncation, axis=0)\n",
        "avg"
      ]
    },
    {
      "cell_type": "code",
      "execution_count": 32,
      "metadata": {
        "colab": {
          "base_uri": "https://localhost:8080/",
          "height": 472
        },
        "id": "6smvrTq3LQz_",
        "outputId": "cbb2754e-660a-46e8-9805-82457e53f8ad"
      },
      "outputs": [
        {
          "data": {
            "image/png": "[encoded data removed]",
            "text/plain": [
              "<Figure size 640x480 with 1 Axes>"
            ]
          },
          "metadata": {},
          "output_type": "display_data"
        }
      ],
      "source": [
        "plt.plot(evals, avg, label=\"Truncation\", color='b')\n",
        "plt.fill_between(evals, avg+err, avg-err, facecolor='b', alpha=0.1)\n",
        "\n",
        "plt.xlabel(\"Evaluations\")\n",
        "plt.ylabel(\"Fitness\")\n",
        "plt.xlim(0, max_evaluations+num_individuals)\n",
        "plt.title(f\"One-Max on {num_parameters} Dimensions\")\n",
        "plt.legend();"
      ]
    },
    {
      "cell_type": "code",
      "execution_count": 17,
      "metadata": {
        "id": "MwCWN8pyQB9S"
      },
      "outputs": [],
      "source": []
    }
  ],
  "metadata": {
    "anaconda-cloud": {},
    "colab": {
      "provenance": []
    },
    "kernelspec": {
      "display_name": "Python [Root]",
      "language": "python",
      "name": "Python [Root]"
    },
    "language_info": {
      "codemirror_mode": {
        "name": "ipython",
        "version": 2
      },
      "file_extension": ".py",
      "mimetype": "text/x-python",
      "name": "python",
      "nbconvert_exporter": "python",
      "pygments_lexer": "ipython2",
      "version": "2.7.12"
    }
  },
  "nbformat": 4,
  "nbformat_minor": 0
}
