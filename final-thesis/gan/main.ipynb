{
 "cells": [
  {
   "cell_type": "code",
   "execution_count": null,
   "metadata": {},
   "outputs": [],
   "source": [
    "from data_preprocessing import preprocess_data\n",
    "from gan_model import Generator, Discriminator\n",
    "from train_gan import train_gan, detect_anomalies\n",
    "from visualization import plot_results, plot_anomalies\n",
    "\n",
    "# 1. Xử lý dữ liệu\n",
    "X_train_tensor, X_test_tensor, latent_dim, input_dim = preprocess_data('data/Chiller.csv')\n",
    "\n",
    "# 2. Khởi tạo mô hình\n",
    "generator = Generator(latent_dim, input_dim)\n",
    "discriminator = Discriminator(input_dim)\n",
    "\n",
    "# 3. Huấn luyện mô hình\n",
    "train_gan(generator, discriminator, X_train_tensor, latent_dim, epochs=50, batch_size=32)\n",
    "\n",
    "# 4. Dự đoán và phát hiện bất thường\n",
    "test_probs, anomalies, threshold = detect_anomalies(discriminator, X_test_tensor)\n",
    "\n",
    "# 5. Hiển thị kết quả\n",
    "plot_results(test_probs, threshold)\n",
    "plot_anomalies(test_probs, anomalies, threshold)"
   ]
  }
 ],
 "metadata": {
  "kernelspec": {
   "display_name": ".venv",
   "language": "python",
   "name": "python3"
  },
  "language_info": {
   "name": "python",
   "version": "3.13.1"
  }
 },
 "nbformat": 4,
 "nbformat_minor": 2
}
