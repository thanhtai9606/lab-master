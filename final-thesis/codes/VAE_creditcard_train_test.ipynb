{
 "cells": [
  {
   "cell_type": "code",
   "execution_count": null,
   "metadata": {},
   "outputs": [],
   "source": [
    "!pip install torch torchvision scikit-learn pandas matplotlib kaggle imbalanced-learn"
   ]
  },
  {
   "cell_type": "code",
   "execution_count": null,
   "metadata": {},
   "outputs": [],
   "source": [
    "import sys\n",
    "!{sys.executable} -m pip install imbalanced-learn\n"
   ]
  },
  {
   "cell_type": "code",
   "execution_count": 7,
   "metadata": {},
   "outputs": [],
   "source": [
    "import pandas as pd\n",
    "from sklearn.preprocessing import StandardScaler\n",
    "import torch\n",
    "from torch.utils.data import DataLoader, TensorDataset\n",
    "import numpy as np\n",
    "\n",
    "# Đọc dữ liệu từ file CSV\n",
    "data = pd.read_csv('creditcard.csv')\n",
    "\n",
    "# Chuẩn hóa cột 'Amount' và 'Time'\n",
    "scaler = StandardScaler()\n",
    "data['Amount_scaled'] = scaler.fit_transform(data[['Amount']])\n",
    "data['Time_scaled'] = scaler.fit_transform(data[['Time']])\n",
    "\n",
    "# Xóa các cột 'Class', 'Amount', và 'Time' chưa chuẩn hóa\n",
    "X = data.drop(columns=['Class', 'Amount', 'Time'])\n",
    "X['Amount'] = data['Amount_scaled']\n",
    "X['Time'] = data['Time_scaled']\n",
    "\n",
    "# Nhãn dữ liệu\n",
    "y = data['Class']"
   ]
  },
  {
   "cell_type": "code",
   "execution_count": 8,
   "metadata": {},
   "outputs": [],
   "source": [
    "# Chọn 10,000 dòng dữ liệu bình thường cho tập huấn luyện\n",
    "train_data_normal = data[data['Class'] == 0].sample(n=10000, random_state=42)\n",
    "\n",
    "# Chọn 200 dòng dữ liệu bình thường và 200 dòng dữ liệu bất thường cho tập kiểm tra\n",
    "test_data_normal = data[data['Class'] == 0].sample(n=200, random_state=42)\n",
    "test_data_fraud = data[data['Class'] == 1].sample(n=200, random_state=42)\n",
    "\n",
    "# Kết hợp dữ liệu test (200 dòng bình thường + 200 dòng bất thường)\n",
    "test_data = pd.concat([test_data_normal, test_data_fraud])\n",
    "\n",
    "# Tạo các tập X_train và X_test\n",
    "X_train = train_data_normal.drop(columns=['Class', 'Amount', 'Time'])\n",
    "X_train['Amount'] = train_data_normal['Amount_scaled']\n",
    "X_train['Time'] = train_data_normal['Time_scaled']\n",
    "\n",
    "X_test = test_data.drop(columns=['Class', 'Amount', 'Time'])\n",
    "X_test['Amount'] = test_data['Amount_scaled']\n",
    "X_test['Time'] = test_data['Time_scaled']\n",
    "\n",
    "# Nhãn dữ liệu kiểm tra (class 0 và 1)\n",
    "y_test = test_data['Class']"
   ]
  },
  {
   "cell_type": "code",
   "execution_count": 9,
   "metadata": {},
   "outputs": [],
   "source": [
    "# Chuyển đổi dữ liệu huấn luyện và kiểm tra sang tensor cho PyTorch\n",
    "X_train_tensor = torch.tensor(X_train.values, dtype=torch.float32)\n",
    "X_test_tensor = torch.tensor(X_test.values, dtype=torch.float32)"
   ]
  },
  {
   "cell_type": "code",
   "execution_count": 10,
   "metadata": {},
   "outputs": [
    {
     "name": "stdout",
     "output_type": "stream",
     "text": [
      "Epoch 1, Loss: 34.69888970336914\n",
      "Epoch 2, Loss: 32.268689965820315\n",
      "Epoch 3, Loss: 31.739519934082033\n",
      "Epoch 4, Loss: 31.47432975769043\n",
      "Epoch 5, Loss: 31.318169177246094\n",
      "Epoch 6, Loss: 31.276053399658203\n",
      "Epoch 7, Loss: 31.211805157470703\n",
      "Epoch 8, Loss: 31.195224710083007\n",
      "Epoch 9, Loss: 31.188827709960936\n",
      "Epoch 10, Loss: 31.1304010559082\n",
      "Epoch 11, Loss: 31.106282763671874\n",
      "Epoch 12, Loss: 31.078238784790038\n",
      "Epoch 13, Loss: 31.00732177429199\n",
      "Epoch 14, Loss: 30.92915082397461\n",
      "Epoch 15, Loss: 30.880446148681642\n",
      "Epoch 16, Loss: 30.83421510620117\n",
      "Epoch 17, Loss: 30.779971621704103\n",
      "Epoch 18, Loss: 30.761000817871093\n",
      "Epoch 19, Loss: 30.734686810302733\n",
      "Epoch 20, Loss: 30.742814221191406\n"
     ]
    }
   ],
   "source": [
    "import torch.nn as nn\n",
    "import torch.optim as optim\n",
    "\n",
    "class VAE(nn.Module):\n",
    "    def __init__(self, input_dim, latent_dim):\n",
    "        super(VAE, self).__init__()\n",
    "        self.fc1 = nn.Linear(input_dim, 32)\n",
    "        self.fc2_mu = nn.Linear(32, latent_dim)\n",
    "        self.fc2_logvar = nn.Linear(32, latent_dim)\n",
    "        self.fc3 = nn.Linear(latent_dim, 32)\n",
    "        self.fc4 = nn.Linear(32, input_dim)\n",
    "\n",
    "    def encode(self, x):\n",
    "        h = torch.relu(self.fc1(x))\n",
    "        return self.fc2_mu(h), self.fc2_logvar(h)\n",
    "\n",
    "    def reparameterize(self, mu, logvar):\n",
    "        std = torch.exp(0.5 * logvar)\n",
    "        eps = torch.randn_like(std)\n",
    "        return mu + eps * std\n",
    "\n",
    "    def decode(self, z):\n",
    "        h = torch.relu(self.fc3(z))\n",
    "        return torch.sigmoid(self.fc4(h))\n",
    "\n",
    "    def forward(self, x):\n",
    "        mu, logvar = self.encode(x)\n",
    "        z = self.reparameterize(mu, logvar)\n",
    "        return self.decode(z), mu, logvar\n",
    "\n",
    "# Khởi tạo mô hình VAE\n",
    "input_dim = X_train.shape[1]\n",
    "latent_dim = 2\n",
    "model = VAE(input_dim, latent_dim)\n",
    "optimizer = optim.Adam(model.parameters(), lr=0.001)\n",
    "\n",
    "# Huấn luyện mô hình\n",
    "def loss_function(recon_x, x, mu, logvar):\n",
    "    BCE = nn.functional.mse_loss(recon_x, x, reduction='sum')\n",
    "    KLD = -0.5 * torch.sum(1 + logvar - mu.pow(2) - logvar.exp())\n",
    "    return BCE + KLD\n",
    "\n",
    "epochs = 20\n",
    "model.train()\n",
    "train_loader = DataLoader(TensorDataset(X_train_tensor, X_train_tensor), batch_size=32, shuffle=True)\n",
    "\n",
    "for epoch in range(epochs):\n",
    "    train_loss = 0\n",
    "    for x, _ in train_loader:\n",
    "        optimizer.zero_grad()\n",
    "        recon_batch, mu, logvar = model(x)\n",
    "        loss = loss_function(recon_batch, x, mu, logvar)\n",
    "        loss.backward()\n",
    "        optimizer.step()\n",
    "        train_loss += loss.item()\n",
    "    print(f'Epoch {epoch+1}, Loss: {train_loss / len(train_loader.dataset)}')"
   ]
  },
  {
   "cell_type": "code",
   "execution_count": 11,
   "metadata": {},
   "outputs": [],
   "source": [
    "# Đặt mô hình vào chế độ đánh giá\n",
    "model.eval()\n",
    "with torch.no_grad():\n",
    "    X_test_pred, _, _ = model(X_test_tensor)\n",
    "    reconstruction_loss = torch.mean((X_test_tensor - X_test_pred) ** 2, dim=1).numpy()\n",
    "\n",
    "# Thiết lập ngưỡng phát hiện bất thường\n",
    "threshold = np.percentile(reconstruction_loss, 95)  # Ngưỡng 95%\n",
    "\n",
    "# Dự đoán nhãn dựa trên ngưỡng\n",
    "y_pred = (reconstruction_loss > threshold).astype(int)  # 1 là bất thường, 0 là bình thường"
   ]
  },
  {
   "cell_type": "code",
   "execution_count": 12,
   "metadata": {},
   "outputs": [
    {
     "name": "stdout",
     "output_type": "stream",
     "text": [
      "Confusion Matrix:\n",
      " [[200   0]\n",
      " [180  20]]\n",
      "Classification Report:\n",
      "               precision    recall  f1-score   support\n",
      "\n",
      "           0       0.53      1.00      0.69       200\n",
      "           1       1.00      0.10      0.18       200\n",
      "\n",
      "    accuracy                           0.55       400\n",
      "   macro avg       0.76      0.55      0.44       400\n",
      "weighted avg       0.76      0.55      0.44       400\n",
      "\n",
      "ROC AUC Score: 0.55\n"
     ]
    }
   ],
   "source": [
    "from sklearn.metrics import classification_report, confusion_matrix, roc_auc_score\n",
    "\n",
    "# So sánh kết quả với nhãn thực tế\n",
    "print(\"Confusion Matrix:\\n\", confusion_matrix(y_test, y_pred))\n",
    "print(\"Classification Report:\\n\", classification_report(y_test, y_pred))\n",
    "print(\"ROC AUC Score:\", roc_auc_score(y_test, y_pred))"
   ]
  }
 ],
 "metadata": {
  "kernelspec": {
   "display_name": "Python 3",
   "language": "python",
   "name": "python3"
  },
  "language_info": {
   "codemirror_mode": {
    "name": "ipython",
    "version": 3
   },
   "file_extension": ".py",
   "mimetype": "text/x-python",
   "name": "python",
   "nbconvert_exporter": "python",
   "pygments_lexer": "ipython3",
   "version": "3.12.6"
  }
 },
 "nbformat": 4,
 "nbformat_minor": 2
}
