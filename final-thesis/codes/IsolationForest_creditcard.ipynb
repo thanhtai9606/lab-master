{
 "cells": [
  {
   "cell_type": "code",
   "execution_count": 1,
   "metadata": {},
   "outputs": [
    {
     "name": "stdout",
     "output_type": "stream",
     "text": [
      "Dataset URL: https://www.kaggle.com/datasets/mlg-ulb/creditcardfraud\n",
      "License(s): DbCL-1.0\n",
      "creditcardfraud.zip: Skipping, found more recently modified local copy (use --force to force download)\n"
     ]
    }
   ],
   "source": [
    "import pandas as pd\n",
    "import numpy as np\n",
    "from sklearn.model_selection import train_test_split\n",
    "from sklearn.preprocessing import StandardScaler\n",
    "from sklearn.ensemble import IsolationForest\n",
    "from sklearn.metrics import classification_report, roc_auc_score\n",
    "import matplotlib.pyplot as plt\n",
    "\n",
    "# Tải dữ liệu từ Kaggle\n",
    "!kaggle datasets download -d mlg-ulb/creditcardfraud\n",
    "\n",
    "# Giải nén dữ liệu\n",
    "import zipfile\n",
    "with zipfile.ZipFile(\"creditcardfraud.zip\",\"r\") as zip_ref:\n",
    "    zip_ref.extractall()\n"
   ]
  },
  {
   "cell_type": "code",
   "execution_count": 2,
   "metadata": {},
   "outputs": [
    {
     "name": "stdout",
     "output_type": "stream",
     "text": [
      "Train size: 227845, Test size: 56962\n"
     ]
    }
   ],
   "source": [
    "# Đọc dữ liệu từ file CSV\n",
    "data = pd.read_csv('creditcard.csv')\n",
    "\n",
    "# Tách dữ liệu thành đặc trưng và nhãn\n",
    "X = data.drop(columns=['Class'])\n",
    "y = data['Class']\n",
    "\n",
    "# Chuẩn hóa dữ liệu\n",
    "scaler = StandardScaler()\n",
    "X_scaled = scaler.fit_transform(X)\n",
    "\n",
    "# Chia dữ liệu thành tập huấn luyện và tập kiểm tra\n",
    "X_train, X_test, y_train, y_test = train_test_split(X_scaled, y, test_size=0.2, random_state=42)\n",
    "\n",
    "# Kiểm tra kích thước dữ liệu\n",
    "print(f\"Train size: {X_train.shape[0]}, Test size: {X_test.shape[0]}\")\n"
   ]
  },
  {
   "cell_type": "code",
   "execution_count": 3,
   "metadata": {},
   "outputs": [],
   "source": [
    "# Khởi tạo mô hình Isolation Forest\n",
    "iso_forest = IsolationForest(n_estimators=100, contamination=0.001, random_state=42)\n",
    "\n",
    "# Huấn luyện mô hình trên dữ liệu huấn luyện\n",
    "iso_forest.fit(X_train)\n",
    "\n",
    "# Dự đoán trên tập kiểm tra\n",
    "y_pred_test = iso_forest.predict(X_test)\n",
    "\n",
    "# Isolation Forest trả về -1 cho bất thường và 1 cho bình thường, do đó cần chuyển đổi\n",
    "y_pred_test = np.where(y_pred_test == -1, 1, 0)  # 1 là bất thường, 0 là bình thường\n"
   ]
  },
  {
   "cell_type": "code",
   "execution_count": 4,
   "metadata": {},
   "outputs": [
    {
     "name": "stdout",
     "output_type": "stream",
     "text": [
      "Classification Report:\n",
      "               precision    recall  f1-score   support\n",
      "\n",
      "           0       1.00      1.00      1.00     56864\n",
      "           1       0.50      0.27      0.35        98\n",
      "\n",
      "    accuracy                           1.00     56962\n",
      "   macro avg       0.75      0.63      0.67     56962\n",
      "weighted avg       1.00      1.00      1.00     56962\n",
      "\n",
      "ROC AUC Score: 0.6324244455801454\n"
     ]
    }
   ],
   "source": [
    "# Đánh giá mô hình\n",
    "print(\"Classification Report:\\n\", classification_report(y_test, y_pred_test))\n",
    "print(\"ROC AUC Score:\", roc_auc_score(y_test, y_pred_test))\n"
   ]
  },
  {
   "cell_type": "code",
   "execution_count": null,
   "metadata": {},
   "outputs": [],
   "source": [
    "# Tính toán lỗi tái tạo (reconstruction error) của Isolation Forest\n",
    "reconstruction_error = iso_forest.decision_function(X_test)\n",
    "\n",
    "# Vẽ biểu đồ\n",
    "plt.figure(figsize=(14, 8))\n",
    "plt.hist(reconstruction_error[y_test == 0], bins=50, alpha=0.6, label='Non-Fraud')\n",
    "plt.hist(reconstruction_error[y_test == 1], bins=50, alpha=0.6, label='Fraud')\n",
    "plt.axvline(0, color='r', linestyle='--', label='Threshold')\n",
    "plt.title('Reconstruction Error by Class')\n",
    "plt.xlabel('Reconstruction Error')\n",
    "plt.ylabel('Frequency')\n",
    "plt.legend()\n",
    "plt.show()\n"
   ]
  }
 ],
 "metadata": {
  "kernelspec": {
   "display_name": "Python 3",
   "language": "python",
   "name": "python3"
  },
  "language_info": {
   "codemirror_mode": {
    "name": "ipython",
    "version": 3
   },
   "file_extension": ".py",
   "mimetype": "text/x-python",
   "name": "python",
   "nbconvert_exporter": "python",
   "pygments_lexer": "ipython3",
   "version": "3.11.9"
  }
 },
 "nbformat": 4,
 "nbformat_minor": 2
}
