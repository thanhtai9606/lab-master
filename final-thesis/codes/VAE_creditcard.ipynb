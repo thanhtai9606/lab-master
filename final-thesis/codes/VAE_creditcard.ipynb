{
 "cells": [
  {
   "cell_type": "code",
   "execution_count": 24,
   "metadata": {},
   "outputs": [
    {
     "name": "stdout",
     "output_type": "stream",
     "text": [
      "Requirement already satisfied: torch in /home/nemo/apps/source/develop/lab-master/.venv/lib/python3.12/site-packages (2.4.1)\n",
      "Requirement already satisfied: torchvision in /home/nemo/apps/source/develop/lab-master/.venv/lib/python3.12/site-packages (0.19.1)\n",
      "Requirement already satisfied: scikit-learn in /home/nemo/apps/source/develop/lab-master/.venv/lib/python3.12/site-packages (1.5.0)\n",
      "Requirement already satisfied: pandas in /home/nemo/apps/source/develop/lab-master/.venv/lib/python3.12/site-packages (2.2.2)\n",
      "Requirement already satisfied: matplotlib in /home/nemo/apps/source/develop/lab-master/.venv/lib/python3.12/site-packages (3.9.0)\n",
      "Requirement already satisfied: kaggle in /home/nemo/apps/source/develop/lab-master/.venv/lib/python3.12/site-packages (1.6.17)\n",
      "Requirement already satisfied: imbalanced-learn in /home/nemo/apps/source/develop/lab-master/.venv/lib/python3.12/site-packages (0.12.3)\n",
      "Requirement already satisfied: filelock in /home/nemo/apps/source/develop/lab-master/.venv/lib/python3.12/site-packages (from torch) (3.16.0)\n",
      "Requirement already satisfied: typing-extensions>=4.8.0 in /home/nemo/apps/source/develop/lab-master/.venv/lib/python3.12/site-packages (from torch) (4.12.2)\n",
      "Requirement already satisfied: sympy in /home/nemo/apps/source/develop/lab-master/.venv/lib/python3.12/site-packages (from torch) (1.13.2)\n",
      "Requirement already satisfied: networkx in /home/nemo/apps/source/develop/lab-master/.venv/lib/python3.12/site-packages (from torch) (3.3)\n",
      "Requirement already satisfied: jinja2 in /home/nemo/apps/source/develop/lab-master/.venv/lib/python3.12/site-packages (from torch) (3.1.4)\n",
      "Requirement already satisfied: fsspec in /home/nemo/apps/source/develop/lab-master/.venv/lib/python3.12/site-packages (from torch) (2024.9.0)\n",
      "Requirement already satisfied: setuptools in /home/nemo/apps/source/develop/lab-master/.venv/lib/python3.12/site-packages (from torch) (71.1.0)\n",
      "Requirement already satisfied: nvidia-cuda-nvrtc-cu12==12.1.105 in /home/nemo/apps/source/develop/lab-master/.venv/lib/python3.12/site-packages (from torch) (12.1.105)\n",
      "Requirement already satisfied: nvidia-cuda-runtime-cu12==12.1.105 in /home/nemo/apps/source/develop/lab-master/.venv/lib/python3.12/site-packages (from torch) (12.1.105)\n",
      "Requirement already satisfied: nvidia-cuda-cupti-cu12==12.1.105 in /home/nemo/apps/source/develop/lab-master/.venv/lib/python3.12/site-packages (from torch) (12.1.105)\n",
      "Requirement already satisfied: nvidia-cudnn-cu12==9.1.0.70 in /home/nemo/apps/source/develop/lab-master/.venv/lib/python3.12/site-packages (from torch) (9.1.0.70)\n",
      "Requirement already satisfied: nvidia-cublas-cu12==12.1.3.1 in /home/nemo/apps/source/develop/lab-master/.venv/lib/python3.12/site-packages (from torch) (12.1.3.1)\n",
      "Requirement already satisfied: nvidia-cufft-cu12==11.0.2.54 in /home/nemo/apps/source/develop/lab-master/.venv/lib/python3.12/site-packages (from torch) (11.0.2.54)\n",
      "Requirement already satisfied: nvidia-curand-cu12==10.3.2.106 in /home/nemo/apps/source/develop/lab-master/.venv/lib/python3.12/site-packages (from torch) (10.3.2.106)\n",
      "Requirement already satisfied: nvidia-cusolver-cu12==11.4.5.107 in /home/nemo/apps/source/develop/lab-master/.venv/lib/python3.12/site-packages (from torch) (11.4.5.107)\n",
      "Requirement already satisfied: nvidia-cusparse-cu12==12.1.0.106 in /home/nemo/apps/source/develop/lab-master/.venv/lib/python3.12/site-packages (from torch) (12.1.0.106)\n",
      "Requirement already satisfied: nvidia-nccl-cu12==2.20.5 in /home/nemo/apps/source/develop/lab-master/.venv/lib/python3.12/site-packages (from torch) (2.20.5)\n",
      "Requirement already satisfied: nvidia-nvtx-cu12==12.1.105 in /home/nemo/apps/source/develop/lab-master/.venv/lib/python3.12/site-packages (from torch) (12.1.105)\n",
      "Requirement already satisfied: triton==3.0.0 in /home/nemo/apps/source/develop/lab-master/.venv/lib/python3.12/site-packages (from torch) (3.0.0)\n",
      "Requirement already satisfied: nvidia-nvjitlink-cu12 in /home/nemo/apps/source/develop/lab-master/.venv/lib/python3.12/site-packages (from nvidia-cusolver-cu12==11.4.5.107->torch) (12.6.68)\n",
      "Requirement already satisfied: numpy in /home/nemo/apps/source/develop/lab-master/.venv/lib/python3.12/site-packages (from torchvision) (1.26.4)\n",
      "Requirement already satisfied: pillow!=8.3.*,>=5.3.0 in /home/nemo/apps/source/develop/lab-master/.venv/lib/python3.12/site-packages (from torchvision) (10.3.0)\n",
      "Requirement already satisfied: scipy>=1.6.0 in /home/nemo/apps/source/develop/lab-master/.venv/lib/python3.12/site-packages (from scikit-learn) (1.13.1)\n",
      "Requirement already satisfied: joblib>=1.2.0 in /home/nemo/apps/source/develop/lab-master/.venv/lib/python3.12/site-packages (from scikit-learn) (1.4.2)\n",
      "Requirement already satisfied: threadpoolctl>=3.1.0 in /home/nemo/apps/source/develop/lab-master/.venv/lib/python3.12/site-packages (from scikit-learn) (3.5.0)\n",
      "Requirement already satisfied: python-dateutil>=2.8.2 in /home/nemo/apps/source/develop/lab-master/.venv/lib/python3.12/site-packages (from pandas) (2.9.0.post0)\n",
      "Requirement already satisfied: pytz>=2020.1 in /home/nemo/apps/source/develop/lab-master/.venv/lib/python3.12/site-packages (from pandas) (2024.1)\n",
      "Requirement already satisfied: tzdata>=2022.7 in /home/nemo/apps/source/develop/lab-master/.venv/lib/python3.12/site-packages (from pandas) (2024.1)\n",
      "Requirement already satisfied: contourpy>=1.0.1 in /home/nemo/apps/source/develop/lab-master/.venv/lib/python3.12/site-packages (from matplotlib) (1.2.1)\n",
      "Requirement already satisfied: cycler>=0.10 in /home/nemo/apps/source/develop/lab-master/.venv/lib/python3.12/site-packages (from matplotlib) (0.12.1)\n",
      "Requirement already satisfied: fonttools>=4.22.0 in /home/nemo/apps/source/develop/lab-master/.venv/lib/python3.12/site-packages (from matplotlib) (4.53.0)\n",
      "Requirement already satisfied: kiwisolver>=1.3.1 in /home/nemo/apps/source/develop/lab-master/.venv/lib/python3.12/site-packages (from matplotlib) (1.4.5)\n",
      "Requirement already satisfied: packaging>=20.0 in /home/nemo/apps/source/develop/lab-master/.venv/lib/python3.12/site-packages (from matplotlib) (24.0)\n",
      "Requirement already satisfied: pyparsing>=2.3.1 in /home/nemo/apps/source/develop/lab-master/.venv/lib/python3.12/site-packages (from matplotlib) (3.1.2)\n",
      "Requirement already satisfied: six>=1.10 in /home/nemo/apps/source/develop/lab-master/.venv/lib/python3.12/site-packages (from kaggle) (1.16.0)\n",
      "Requirement already satisfied: certifi>=2023.7.22 in /home/nemo/apps/source/develop/lab-master/.venv/lib/python3.12/site-packages (from kaggle) (2024.7.4)\n",
      "Requirement already satisfied: requests in /home/nemo/apps/source/develop/lab-master/.venv/lib/python3.12/site-packages (from kaggle) (2.32.3)\n",
      "Requirement already satisfied: tqdm in /home/nemo/apps/source/develop/lab-master/.venv/lib/python3.12/site-packages (from kaggle) (4.66.5)\n",
      "Requirement already satisfied: python-slugify in /home/nemo/apps/source/develop/lab-master/.venv/lib/python3.12/site-packages (from kaggle) (8.0.4)\n",
      "Requirement already satisfied: urllib3 in /home/nemo/apps/source/develop/lab-master/.venv/lib/python3.12/site-packages (from kaggle) (2.2.2)\n",
      "Requirement already satisfied: bleach in /home/nemo/apps/source/develop/lab-master/.venv/lib/python3.12/site-packages (from kaggle) (6.1.0)\n",
      "Requirement already satisfied: webencodings in /home/nemo/apps/source/develop/lab-master/.venv/lib/python3.12/site-packages (from bleach->kaggle) (0.5.1)\n",
      "Requirement already satisfied: MarkupSafe>=2.0 in /home/nemo/apps/source/develop/lab-master/.venv/lib/python3.12/site-packages (from jinja2->torch) (2.1.5)\n",
      "Requirement already satisfied: text-unidecode>=1.3 in /home/nemo/apps/source/develop/lab-master/.venv/lib/python3.12/site-packages (from python-slugify->kaggle) (1.3)\n",
      "Requirement already satisfied: charset-normalizer<4,>=2 in /home/nemo/apps/source/develop/lab-master/.venv/lib/python3.12/site-packages (from requests->kaggle) (3.3.2)\n",
      "Requirement already satisfied: idna<4,>=2.5 in /home/nemo/apps/source/develop/lab-master/.venv/lib/python3.12/site-packages (from requests->kaggle) (3.8)\n",
      "Requirement already satisfied: mpmath<1.4,>=1.1.0 in /home/nemo/apps/source/develop/lab-master/.venv/lib/python3.12/site-packages (from sympy->torch) (1.3.0)\n",
      "\n",
      "\u001b[1m[\u001b[0m\u001b[34;49mnotice\u001b[0m\u001b[1;39;49m]\u001b[0m\u001b[39;49m A new release of pip is available: \u001b[0m\u001b[31;49m24.1\u001b[0m\u001b[39;49m -> \u001b[0m\u001b[32;49m24.2\u001b[0m\n",
      "\u001b[1m[\u001b[0m\u001b[34;49mnotice\u001b[0m\u001b[1;39;49m]\u001b[0m\u001b[39;49m To update, run: \u001b[0m\u001b[32;49mpip install --upgrade pip\u001b[0m\n"
     ]
    }
   ],
   "source": [
    "!pip install torch torchvision scikit-learn pandas matplotlib kaggle imbalanced-learn"
   ]
  },
  {
   "cell_type": "code",
   "execution_count": 25,
   "metadata": {},
   "outputs": [
    {
     "name": "stdout",
     "output_type": "stream",
     "text": [
      "Requirement already satisfied: imbalanced-learn in /home/nemo/apps/source/develop/lab-master/.venv/lib/python3.12/site-packages (0.12.3)\n",
      "Requirement already satisfied: numpy>=1.17.3 in /home/nemo/apps/source/develop/lab-master/.venv/lib/python3.12/site-packages (from imbalanced-learn) (1.26.4)\n",
      "Requirement already satisfied: scipy>=1.5.0 in /home/nemo/apps/source/develop/lab-master/.venv/lib/python3.12/site-packages (from imbalanced-learn) (1.13.1)\n",
      "Requirement already satisfied: scikit-learn>=1.0.2 in /home/nemo/apps/source/develop/lab-master/.venv/lib/python3.12/site-packages (from imbalanced-learn) (1.5.0)\n",
      "Requirement already satisfied: joblib>=1.1.1 in /home/nemo/apps/source/develop/lab-master/.venv/lib/python3.12/site-packages (from imbalanced-learn) (1.4.2)\n",
      "Requirement already satisfied: threadpoolctl>=2.0.0 in /home/nemo/apps/source/develop/lab-master/.venv/lib/python3.12/site-packages (from imbalanced-learn) (3.5.0)\n",
      "\n",
      "\u001b[1m[\u001b[0m\u001b[34;49mnotice\u001b[0m\u001b[1;39;49m]\u001b[0m\u001b[39;49m A new release of pip is available: \u001b[0m\u001b[31;49m24.1\u001b[0m\u001b[39;49m -> \u001b[0m\u001b[32;49m24.2\u001b[0m\n",
      "\u001b[1m[\u001b[0m\u001b[34;49mnotice\u001b[0m\u001b[1;39;49m]\u001b[0m\u001b[39;49m To update, run: \u001b[0m\u001b[32;49mpip install --upgrade pip\u001b[0m\n"
     ]
    }
   ],
   "source": [
    "import sys\n",
    "!{sys.executable} -m pip install imbalanced-learn\n"
   ]
  },
  {
   "cell_type": "code",
   "execution_count": 26,
   "metadata": {},
   "outputs": [],
   "source": [
    "import pandas as pd\n",
    "from sklearn.preprocessing import StandardScaler\n",
    "from sklearn.model_selection import train_test_split\n",
    "import torch\n",
    "from torch.utils.data import DataLoader, TensorDataset\n",
    "from imblearn.over_sampling import SMOTE\n",
    "import numpy as np\n",
    "# Đọc dữ liệu từ file CSV\n",
    "data = pd.read_csv('creditcard.csv')\n",
    "\n",
    "# Chuẩn hóa cột 'Amount' và 'Time'\n",
    "scaler = StandardScaler()\n",
    "data['Amount_scaled'] = scaler.fit_transform(data[['Amount']])\n",
    "data['Time_scaled'] = scaler.fit_transform(data[['Time']])\n",
    "\n",
    "# Xóa các cột 'Class', 'Amount', và 'Time' chưa chuẩn hóa\n",
    "X = data.drop(columns=['Class', 'Amount', 'Time'])\n",
    "\n",
    "# Thêm cột 'Amount_scaled' và 'Time_scaled'\n",
    "X['Amount'] = data['Amount_scaled']\n",
    "X['Time'] = data['Time_scaled']\n",
    "\n",
    "# Nhãn dữ liệu\n",
    "y = data['Class']\n",
    "\n",
    "\n",
    "\n",
    "# # Sử dụng SMOTE để cân bằng dữ liệu\n",
    "# smote = SMOTE(random_state=42)\n",
    "# X_resampled, y_resampled = smote.fit_resample(X, y)\n",
    "\n",
    "# # Sau đó chia dữ liệu cân bằng thành tập huấn luyện và kiểm tra\n",
    "# X_train, X_test, y_train, y_test = train_test_split(X_resampled, y_resampled, test_size=0.3, random_state=42)\n",
    "\n",
    "\n",
    "# Chia dữ liệu thành tập huấn luyện và kiểm tra\n",
    "X_train, X_test, y_train, y_test = train_test_split(X, y, test_size=0.2, random_state=42)\n",
    "\n",
    "# Chuyển đổi sang tensor cho PyTorch\n",
    "X_train_tensor = torch.tensor(X_train.values, dtype=torch.float32)\n",
    "X_test_tensor = torch.tensor(X_test.values, dtype=torch.float32)\n"
   ]
  },
  {
   "cell_type": "code",
   "execution_count": 27,
   "metadata": {},
   "outputs": [],
   "source": [
    "import torch.nn as nn\n",
    "import torch.optim as optim\n",
    "\n",
    "class VAE(nn.Module):\n",
    "    def __init__(self, input_dim, latent_dim):\n",
    "        super(VAE, self).__init__()\n",
    "        self.fc1 = nn.Linear(input_dim, 32)\n",
    "        self.fc2_mu = nn.Linear(32, latent_dim)\n",
    "        self.fc2_logvar = nn.Linear(32, latent_dim)\n",
    "        self.fc3 = nn.Linear(latent_dim, 32)\n",
    "        self.fc4 = nn.Linear(32, input_dim)\n",
    "\n",
    "    def encode(self, x):\n",
    "        h = torch.relu(self.fc1(x))\n",
    "        return self.fc2_mu(h), self.fc2_logvar(h)\n",
    "\n",
    "    def reparameterize(self, mu, logvar):\n",
    "        std = torch.exp(0.5 * logvar)\n",
    "        eps = torch.randn_like(std)\n",
    "        return mu + eps * std\n",
    "\n",
    "    def decode(self, z):\n",
    "        h = torch.relu(self.fc3(z))\n",
    "        return torch.sigmoid(self.fc4(h))\n",
    "\n",
    "    def forward(self, x):\n",
    "        mu, logvar = self.encode(x)\n",
    "        z = self.reparameterize(mu, logvar)\n",
    "        return self.decode(z), mu, logvar\n",
    "\n",
    "# Khởi tạo mô hình VAE\n",
    "input_dim = X_train.shape[1]\n",
    "latent_dim = 2\n",
    "model = VAE(input_dim, latent_dim)\n",
    "optimizer = optim.Adam(model.parameters(), lr=0.001)\n"
   ]
  },
  {
   "cell_type": "code",
   "execution_count": 28,
   "metadata": {},
   "outputs": [
    {
     "name": "stdout",
     "output_type": "stream",
     "text": [
      "Epoch 1, Loss: 33.74479897894689\n",
      "Epoch 2, Loss: 32.99580878035265\n",
      "Epoch 3, Loss: 32.83804679203751\n",
      "Epoch 4, Loss: 32.79035118715971\n",
      "Epoch 5, Loss: 32.74641838965269\n",
      "Epoch 6, Loss: 32.71932046002027\n",
      "Epoch 7, Loss: 32.69932340669539\n",
      "Epoch 8, Loss: 32.68486096073807\n",
      "Epoch 9, Loss: 32.67630422939947\n",
      "Epoch 10, Loss: 32.680823635600326\n",
      "Epoch 11, Loss: 32.66135965904941\n",
      "Epoch 12, Loss: 32.662871789307545\n",
      "Epoch 13, Loss: 32.65647174878987\n",
      "Epoch 14, Loss: 32.64670798478686\n",
      "Epoch 15, Loss: 32.651870069625375\n",
      "Epoch 16, Loss: 32.65071182423424\n",
      "Epoch 17, Loss: 32.639335396790585\n",
      "Epoch 18, Loss: 32.63175450584751\n",
      "Epoch 19, Loss: 32.62553699853958\n",
      "Epoch 20, Loss: 32.621025121311675\n"
     ]
    }
   ],
   "source": [
    "def loss_function(recon_x, x, mu, logvar):\n",
    "    BCE = nn.functional.mse_loss(recon_x, x, reduction='sum')\n",
    "    KLD = -0.5 * torch.sum(1 + logvar - mu.pow(2) - logvar.exp())\n",
    "    return BCE + KLD\n",
    "\n",
    "# Huấn luyện mô hình\n",
    "epochs = 20\n",
    "model.train()\n",
    "train_loader = DataLoader(TensorDataset(X_train_tensor, X_train_tensor), batch_size=32, shuffle=True)\n",
    "\n",
    "for epoch in range(epochs):\n",
    "    train_loss = 0\n",
    "    for x, _ in train_loader:\n",
    "        optimizer.zero_grad()\n",
    "        recon_batch, mu, logvar = model(x)\n",
    "        loss = loss_function(recon_batch, x, mu, logvar)\n",
    "        loss.backward()\n",
    "        optimizer.step()\n",
    "        train_loss += loss.item()\n",
    "    print(f'Epoch {epoch+1}, Loss: {train_loss / len(train_loader.dataset)}')\n"
   ]
  },
  {
   "cell_type": "code",
   "execution_count": 29,
   "metadata": {},
   "outputs": [
    {
     "name": "stdout",
     "output_type": "stream",
     "text": [
      "    Reconstruction_Loss  Predicted_Anomaly  Actual_Label\n",
      "0             74.084999                  1             1\n",
      "9              2.557303                  1             0\n",
      "31             2.191410                  1             0\n",
      "32           119.346313                  1             0\n",
      "41             2.830609                  1             0\n",
      "Missed fraud cases:\n",
      "       Reconstruction_Loss  Predicted_Anomaly  Actual_Label\n",
      "8379              0.808348                  0             1\n",
      "10279             0.841183                  0             1\n",
      "17388             0.703998                  0             1\n",
      "22797             1.552286                  0             1\n",
      "30129             1.781046                  0             1\n"
     ]
    }
   ],
   "source": [
    "# Đặt mô hình vào chế độ đánh giá\n",
    "model.eval()\n",
    "with torch.no_grad():\n",
    "    X_test_pred, _, _ = model(X_test_tensor)\n",
    "    reconstruction_loss = torch.mean((X_test_tensor - X_test_pred) ** 2, dim=1).numpy()\n",
    "\n",
    "# Thiết lập ngưỡng phát hiện bất thường\n",
    "threshold = np.percentile(reconstruction_loss, 95)  # Ngưỡng 95% của lỗi tái tạo\n",
    "\n",
    "# Gán nhãn dự đoán dựa trên ngưỡng\n",
    "y_pred = (reconstruction_loss > threshold).astype(int)  # 1 là bất thường, 0 là bình thường\n",
    "\n",
    "# So sánh kết quả với nhãn thực tế\n",
    "import pandas as pd\n",
    "\n",
    "# Tạo DataFrame chứa kết quả dự đoán và nhãn thực tế\n",
    "results_df = pd.DataFrame({\n",
    "    'Reconstruction_Loss': reconstruction_loss,   # Lỗi tái tạo từ VAE\n",
    "    'Predicted_Anomaly': y_pred,                  # 1 là bất thường, 0 là bình thường\n",
    "    'Actual_Label': y_test.values                 # Nhãn thực tế từ dữ liệu\n",
    "})\n",
    "\n",
    "# Hiển thị các giao dịch mà mô hình đánh dấu là gian lận và so sánh với nhãn thực tế\n",
    "fraud_cases = results_df[results_df['Predicted_Anomaly'] == 1]  # Các giao dịch được dự đoán là gian lận\n",
    "print(fraud_cases.head())  # Hiển thị một số giao dịch bị dự đoán là gian lận\n",
    "\n",
    "# Hiển thị các giao dịch mà mô hình bỏ sót (thực tế là gian lận nhưng không được dự đoán)\n",
    "missed_fraud_cases = results_df[(results_df['Predicted_Anomaly'] == 0) & (results_df['Actual_Label'] == 1)]\n",
    "print(\"Missed fraud cases:\")\n",
    "print(missed_fraud_cases.head())\n"
   ]
  },
  {
   "cell_type": "code",
   "execution_count": 30,
   "metadata": {},
   "outputs": [
    {
     "name": "stdout",
     "output_type": "stream",
     "text": [
      "Confusion Matrix:\n",
      " [[54101  2763]\n",
      " [   12    86]]\n",
      "Classification Report:\n",
      "               precision    recall  f1-score   support\n",
      "\n",
      "           0       1.00      0.95      0.97     56864\n",
      "           1       0.03      0.88      0.06        98\n",
      "\n",
      "    accuracy                           0.95     56962\n",
      "   macro avg       0.51      0.91      0.52     56962\n",
      "weighted avg       1.00      0.95      0.97     56962\n",
      "\n",
      "ROC AUC Score: 0.91448070153779\n"
     ]
    }
   ],
   "source": [
    "from sklearn.metrics import classification_report, confusion_matrix, roc_auc_score\n",
    "\n",
    "# So sánh kết quả với nhãn thực tế\n",
    "print(\"Confusion Matrix:\\n\", confusion_matrix(y_test, y_pred))\n",
    "print(\"Classification Report:\\n\", classification_report(y_test, y_pred))\n",
    "print(\"ROC AUC Score:\", roc_auc_score(y_test, y_pred))\n"
   ]
  },
  {
   "cell_type": "code",
   "execution_count": 32,
   "metadata": {},
   "outputs": [
    {
     "data": {
      "image/png": "[encoded data removed]",
      "text/plain": [
       "<Figure size 1400x800 with 1 Axes>"
      ]
     },
     "metadata": {},
     "output_type": "display_data"
    }
   ],
   "source": [
    "import matplotlib.pyplot as plt\n",
    "import seaborn as sns\n",
    "\n",
    "# Vẽ biểu đồ phân phối của reconstruction_loss\n",
    "plt.figure(figsize=(14, 8))\n",
    "plt.hist(reconstruction_loss[y_test == 0], bins=50, alpha=0.6, label='Non-Fraud')\n",
    "plt.hist(reconstruction_loss[y_test == 1], bins=50, alpha=0.6, label='Fraud')\n",
    "plt.axvline(threshold, color='r', linestyle='--', label='Threshold')\n",
    "plt.title('Reconstruction Loss by Class')\n",
    "plt.xlabel('Reconstruction Loss')\n",
    "plt.ylabel('Frequency')\n",
    "plt.legend()\n",
    "plt.show()\n"
   ]
  },
  {
   "cell_type": "code",
   "execution_count": 33,
   "metadata": {},
   "outputs": [
    {
     "name": "stdout",
     "output_type": "stream",
     "text": [
      "Predicted Fraud Cases:\n",
      "    Reconstruction_Loss  Predicted_Anomaly  Actual_Label\n",
      "0             74.084999                  1             1\n",
      "9              2.557303                  1             0\n",
      "31             2.191410                  1             0\n",
      "32           119.346313                  1             0\n",
      "41             2.830609                  1             0\n",
      "False Positives (Predicted Fraud, but Actually Non-Fraud):\n",
      "    Reconstruction_Loss  Predicted_Anomaly  Actual_Label\n",
      "9              2.557303                  1             0\n",
      "31             2.191410                  1             0\n",
      "32           119.346313                  1             0\n",
      "41             2.830609                  1             0\n",
      "44             2.624180                  1             0\n",
      "False Negatives (Predicted Non-Fraud, but Actually Fraud):\n",
      "       Reconstruction_Loss  Predicted_Anomaly  Actual_Label\n",
      "8379              0.808348                  0             1\n",
      "10279             0.841183                  0             1\n",
      "17388             0.703998                  0             1\n",
      "22797             1.552286                  0             1\n",
      "30129             1.781046                  0             1\n"
     ]
    }
   ],
   "source": [
    "# Hiển thị các giao dịch được dự đoán là gian lận\n",
    "fraud_cases = results_df[results_df['Predicted_Anomaly'] == 1]\n",
    "print(\"Predicted Fraud Cases:\")\n",
    "print(fraud_cases.head())\n",
    "\n",
    "# Hiển thị các giao dịch mà mô hình dự đoán sai (False Positives và False Negatives)\n",
    "false_positives = results_df[(results_df['Predicted_Anomaly'] == 1) & (results_df['Actual_Label'] == 0)]\n",
    "false_negatives = results_df[(results_df['Predicted_Anomaly'] == 0) & (results_df['Actual_Label'] == 1)]\n",
    "\n",
    "print(\"False Positives (Predicted Fraud, but Actually Non-Fraud):\")\n",
    "print(false_positives.head())\n",
    "\n",
    "print(\"False Negatives (Predicted Non-Fraud, but Actually Fraud):\")\n",
    "print(false_negatives.head())\n"
   ]
  }
 ],
 "metadata": {
  "kernelspec": {
   "display_name": "Python 3",
   "language": "python",
   "name": "python3"
  },
  "language_info": {
   "codemirror_mode": {
    "name": "ipython",
    "version": 3
   },
   "file_extension": ".py",
   "mimetype": "text/x-python",
   "name": "python",
   "nbconvert_exporter": "python",
   "pygments_lexer": "ipython3",
   "version": "3.11.9"
  }
 },
 "nbformat": 4,
 "nbformat_minor": 2
}
