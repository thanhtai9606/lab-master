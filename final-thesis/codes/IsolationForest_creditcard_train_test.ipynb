{
 "cells": [
  {
   "cell_type": "code",
   "execution_count": 1,
   "metadata": {},
   "outputs": [
    {
     "name": "stdout",
     "output_type": "stream",
     "text": [
      "Class\n",
      "0    284315\n",
      "1       492\n",
      "Name: count, dtype: int64\n",
      "Train size: 10000, Test size: 1200\n",
      "Class\n",
      "0    800\n",
      "1    400\n",
      "Name: count, dtype: int64\n"
     ]
    }
   ],
   "source": [
    "import pandas as pd\n",
    "from sklearn.preprocessing import StandardScaler\n",
    "from sklearn.ensemble import IsolationForest\n",
    "from sklearn.metrics import classification_report, confusion_matrix, roc_auc_score\n",
    "import numpy as np\n",
    "import matplotlib.pyplot as plt\n",
    "\n",
    "# 1. Đọc dữ liệu từ file CSV\n",
    "data = pd.read_csv('creditcard.csv')\n",
    "\n",
    "# 2. Kiểm tra phân phối nhãn\n",
    "print(data['Class'].value_counts())\n",
    "\n",
    "# 3. Chuẩn hóa các cột Amount và Time\n",
    "scaler = StandardScaler()\n",
    "\n",
    "data['Amount_scaled'] = scaler.fit_transform(data[['Amount']])\n",
    "data['Time_scaled'] = scaler.fit_transform(data[['Time']])\n",
    "\n",
    "# 4. Chọn tập huấn luyện chỉ chứa dữ liệu bình thường\n",
    "train_data_normal = data[data['Class'] == 0].sample(n=10000, random_state=42)\n",
    "\n",
    "# 5. Chọn tập kiểm tra gồm dữ liệu bình thường và bất thường\n",
    "test_data_normal = data[data['Class'] == 0].sample(n=800, random_state=42)\n",
    "test_data_fraud = data[data['Class'] == 1].sample(n=400, random_state=42)\n",
    "\n",
    "# 6. Kết hợp tập kiểm tra\n",
    "test_data = pd.concat([test_data_normal, test_data_fraud])\n",
    "test_data = test_data.sample(frac=1, random_state=42).reset_index(drop=True)  # Shuffle test set\n",
    "\n",
    "# 7. Tạo X_train và X_test, bỏ cột Class, Amount và Time gốc\n",
    "X_train = train_data_normal.drop(columns=['Class', 'Amount', 'Time'])\n",
    "X_test = test_data.drop(columns=['Class', 'Amount', 'Time'])\n",
    "\n",
    "# 8. Gán lại nhãn cho y_test\n",
    "y_test = test_data['Class']\n",
    "\n",
    "# 9. Thông tin kích thước tập dữ liệu\n",
    "print(f\"Train size: {X_train.shape[0]}, Test size: {X_test.shape[0]}\")\n",
    "\n",
    "# (Optional) Kiểm tra phân phối dữ liệu kiểm tra\n",
    "print(y_test.value_counts())\n"
   ]
  },
  {
   "cell_type": "code",
   "execution_count": 2,
   "metadata": {},
   "outputs": [],
   "source": [
    "# Bước 5: Khởi tạo Isolation Forest với tham số điều chỉnh\n",
    "iso_forest = IsolationForest(n_estimators=200, contamination=0.002, random_state=42)\n",
    "\n",
    "# Bước 6: Huấn luyện mô hình trên dữ liệu huấn luyện\n",
    "iso_forest.fit(X_train)\n",
    "\n",
    "# Bước 7: Dự đoán trên tập kiểm tra\n",
    "y_pred_test = iso_forest.predict(X_test)\n",
    "\n",
    "# Isolation Forest trả về -1 cho bất thường và 1 cho bình thường, do đó cần chuyển đổi nhãn\n",
    "y_pred_test = np.where(y_pred_test == -1, 1, 0)  # 1 là bất thường (gian lận), 0 là bình thường\n",
    "\n",
    "# Bước 8: Tính toán điểm bất thường (anomaly scores)\n",
    "anomaly_scores = iso_forest.decision_function(X_test)\n"
   ]
  },
  {
   "cell_type": "code",
   "execution_count": 3,
   "metadata": {},
   "outputs": [],
   "source": [
    "# Bước 9: Điều chỉnh ngưỡng phát hiện bất thường (chọn ngưỡng dựa trên phân vị thứ 5)\n",
    "threshold = np.percentile(anomaly_scores, 5)  # 5% điểm thấp nhất có thể là bất thường\n",
    "\n",
    "# Dự đoán lại dựa trên ngưỡng mới\n",
    "y_pred_test_adjusted = (anomaly_scores < threshold).astype(int)"
   ]
  },
  {
   "cell_type": "code",
   "execution_count": 4,
   "metadata": {},
   "outputs": [
    {
     "name": "stdout",
     "output_type": "stream",
     "text": [
      "anom_score range: 0.3539 ~ 0.7260\n",
      "Confusion Matrix:\n",
      " [[800   0]\n",
      " [340  60]]\n",
      "Classification Report:\n",
      "               precision    recall  f1-score   support\n",
      "\n",
      "           0       0.70      1.00      0.82       800\n",
      "           1       1.00      0.15      0.26       400\n",
      "\n",
      "    accuracy                           0.72      1200\n",
      "   macro avg       0.85      0.57      0.54      1200\n",
      "weighted avg       0.80      0.72      0.64      1200\n",
      "\n",
      "ROC AUC Score (using scores): 0.9544968749999999\n"
     ]
    }
   ],
   "source": [
    "# ==== 10. Huấn luyện IsolationForest trên dữ liệu normal ====\n",
    "# Lưu ý: score_samples càng CAO thì càng \"bình thường\".\n",
    "# Ta sẽ đảo dấu để có 'anom_score' càng CAO càng \"bất thường\".\n",
    "iso = IsolationForest(\n",
    "    n_estimators=200,\n",
    "    max_samples='auto',\n",
    "    contamination='auto',   # không dùng predict() nên tham số này ít ảnh hưởng\n",
    "    random_state=42,\n",
    "    n_jobs=-1\n",
    ")\n",
    "iso.fit(X_train)\n",
    "\n",
    "# ==== 11. Tính điểm bất thường liên tục ====\n",
    "# score_samples: cao = normal, thấp = bất thường → đảo dấu cho dễ hiểu\n",
    "raw_scores = iso.score_samples(X_test)   # hình dạng (n_samples,)\n",
    "anom_score = -raw_scores                 # cao = bất thường\n",
    "\n",
    "# (tuỳ chọn) xem min/max để hiểu phân bố\n",
    "print(f\"anom_score range: {anom_score.min():.4f} ~ {anom_score.max():.4f}\")\n",
    "\n",
    "# ==== 12. Điều chỉnh ngưỡng (ví dụ: lấy top 5% điểm cao nhất là bất thường) ====\n",
    "top_pct = 5  # bạn đổi 5 -> 10/15... để tăng Recall\n",
    "threshold = np.percentile(anom_score, 100 - top_pct)  # ngưỡng tại bách phân vị 95\n",
    "\n",
    "# Dự đoán: anom_score >= threshold => 1 (bất thường), ngược lại 0 (bình thường)\n",
    "y_pred_test_adjusted = (anom_score >= threshold).astype(int)\n",
    "\n",
    "# ==== 13. Đánh giá ====\n",
    "print(\"Confusion Matrix:\\n\", confusion_matrix(y_test, y_pred_test_adjusted))\n",
    "print(\"Classification Report:\\n\", classification_report(y_test, y_pred_test_adjusted, digits=2))\n",
    "\n",
    "# ROC AUC nên tính bằng ĐIỂM liên tục (anom_score), không phải nhãn 0/1\n",
    "print(\"ROC AUC Score (using scores):\", roc_auc_score(y_test, anom_score))\n",
    "\n"
   ]
  }
 ],
 "metadata": {
  "kernelspec": {
   "display_name": "Python 3",
   "language": "python",
   "name": "python3"
  },
  "language_info": {
   "codemirror_mode": {
    "name": "ipython",
    "version": 3
   },
   "file_extension": ".py",
   "mimetype": "text/x-python",
   "name": "python",
   "nbconvert_exporter": "python",
   "pygments_lexer": "ipython3",
   "version": "3.11.13"
  }
 },
 "nbformat": 4,
 "nbformat_minor": 2
}
