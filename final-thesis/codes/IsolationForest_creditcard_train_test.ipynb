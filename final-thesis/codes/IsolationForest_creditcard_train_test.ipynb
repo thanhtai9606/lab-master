{
 "cells": [
  {
   "cell_type": "code",
   "execution_count": null,
   "metadata": {},
   "outputs": [
    {
     "name": "stdout",
     "output_type": "stream",
     "text": [
      "Class\n",
      "0    284315\n",
      "1       492\n",
      "Name: count, dtype: int64\n",
      "Train size: 10000, Test size: 800\n",
      "Class\n",
      "0    600\n",
      "1    200\n",
      "Name: count, dtype: int64\n"
     ]
    }
   ],
   "source": [
    "import pandas as pd\n",
    "from sklearn.preprocessing import StandardScaler\n",
    "from sklearn.ensemble import IsolationForest\n",
    "from sklearn.metrics import classification_report, confusion_matrix, roc_auc_score\n",
    "import numpy as np\n",
    "import matplotlib.pyplot as plt\n",
    "\n",
    "# 1. Đọc dữ liệu từ file CSV\n",
    "data = pd.read_csv('creditcard.csv')\n",
    "\n",
    "# 2. Kiểm tra phân phối nhãn\n",
    "print(data['Class'].value_counts())\n",
    "\n",
    "# 3. Chuẩn hóa các cột Amount và Time\n",
    "scaler = StandardScaler()\n",
    "\n",
    "data['Amount_scaled'] = scaler.fit_transform(data[['Amount']])\n",
    "data['Time_scaled'] = scaler.fit_transform(data[['Time']])\n",
    "\n",
    "# 4. Chọn tập huấn luyện chỉ chứa dữ liệu bình thường\n",
    "train_data_normal = data[data['Class'] == 0].sample(n=10000, random_state=42)\n",
    "\n",
    "# 5. Chọn tập kiểm tra gồm dữ liệu bình thường và bất thường\n",
    "test_data_normal = data[data['Class'] == 0].sample(n=800, random_state=42)\n",
    "test_data_fraud = data[data['Class'] == 1].sample(n=200, random_state=42)\n",
    "\n",
    "# 6. Kết hợp tập kiểm tra\n",
    "test_data = pd.concat([test_data_normal, test_data_fraud])\n",
    "test_data = test_data.sample(frac=1, random_state=42).reset_index(drop=True)  # Shuffle test set\n",
    "\n",
    "# 7. Tạo X_train và X_test, bỏ cột Class, Amount và Time gốc\n",
    "X_train = train_data_normal.drop(columns=['Class', 'Amount', 'Time'])\n",
    "X_test = test_data.drop(columns=['Class', 'Amount', 'Time'])\n",
    "\n",
    "# 8. Gán lại nhãn cho y_test\n",
    "y_test = test_data['Class']\n",
    "\n",
    "# 9. Thông tin kích thước tập dữ liệu\n",
    "print(f\"Train size: {X_train.shape[0]}, Test size: {X_test.shape[0]}\")\n",
    "\n",
    "# (Optional) Kiểm tra phân phối dữ liệu kiểm tra\n",
    "print(y_test.value_counts())\n"
   ]
  },
  {
   "cell_type": "code",
   "execution_count": 17,
   "metadata": {},
   "outputs": [],
   "source": [
    "# Bước 5: Khởi tạo Isolation Forest với tham số điều chỉnh\n",
    "iso_forest = IsolationForest(n_estimators=200, contamination=0.002, random_state=42)\n",
    "\n",
    "# Bước 6: Huấn luyện mô hình trên dữ liệu huấn luyện\n",
    "iso_forest.fit(X_train)\n",
    "\n",
    "# Bước 7: Dự đoán trên tập kiểm tra\n",
    "y_pred_test = iso_forest.predict(X_test)\n",
    "\n",
    "# Isolation Forest trả về -1 cho bất thường và 1 cho bình thường, do đó cần chuyển đổi nhãn\n",
    "y_pred_test = np.where(y_pred_test == -1, 1, 0)  # 1 là bất thường (gian lận), 0 là bình thường\n",
    "\n",
    "# Bước 8: Tính toán điểm bất thường (anomaly scores)\n",
    "anomaly_scores = iso_forest.decision_function(X_test)\n"
   ]
  },
  {
   "cell_type": "code",
   "execution_count": 18,
   "metadata": {},
   "outputs": [],
   "source": [
    "# Bước 9: Điều chỉnh ngưỡng phát hiện bất thường (chọn ngưỡng dựa trên phân vị thứ 5)\n",
    "threshold = np.percentile(anomaly_scores, 5)  # 5% điểm thấp nhất có thể là bất thường\n",
    "\n",
    "# Dự đoán lại dựa trên ngưỡng mới\n",
    "y_pred_test_adjusted = (anomaly_scores < threshold).astype(int)"
   ]
  },
  {
   "cell_type": "code",
   "execution_count": 19,
   "metadata": {},
   "outputs": [
    {
     "name": "stdout",
     "output_type": "stream",
     "text": [
      "Confusion Matrix:\n",
      " [[600   0]\n",
      " [160  40]]\n",
      "Classification Report:\n",
      "               precision    recall  f1-score   support\n",
      "\n",
      "           0       0.79      1.00      0.88       600\n",
      "           1       1.00      0.20      0.33       200\n",
      "\n",
      "    accuracy                           0.80       800\n",
      "   macro avg       0.89      0.60      0.61       800\n",
      "weighted avg       0.84      0.80      0.75       800\n",
      "\n",
      "ROC AUC Score: 0.6\n"
     ]
    }
   ],
   "source": [
    "# Bước 10: Đánh giá mô hình bằng confusion matrix, classification report và ROC AUC\n",
    "print(\"Confusion Matrix:\\n\", confusion_matrix(y_test, y_pred_test_adjusted))\n",
    "print(\"Classification Report:\\n\", classification_report(y_test, y_pred_test_adjusted))\n",
    "print(\"ROC AUC Score:\", roc_auc_score(y_test, y_pred_test_adjusted))\n"
   ]
  },
  {
   "cell_type": "code",
   "execution_count": 7,
   "metadata": {},
   "outputs": [
    {
     "name": "stdout",
     "output_type": "stream",
     "text": [
      "     anomaly_score  predicted_anomaly  actual_label\n",
      "10       -0.025131                  1             1\n",
      "59       -0.038394                  1             1\n",
      "86       -0.063080                  1             1\n",
      "129      -0.069752                  1             1\n",
      "164      -0.064895                  1             1\n"
     ]
    },
    {
     "data": {
      "image/png": "[encoded data removed]",
      "text/plain": [
       "<Figure size 1400x800 with 1 Axes>"
      ]
     },
     "metadata": {},
     "output_type": "display_data"
    }
   ],
   "source": [
    "# Bước 11: Hiển thị các giao dịch mà mô hình đánh dấu là gian lận và so sánh với nhãn thực tế\n",
    "results_df = pd.DataFrame({\n",
    "    'anomaly_score': anomaly_scores,\n",
    "    'predicted_anomaly': y_pred_test_adjusted,\n",
    "    'actual_label': y_test.values  # Nhãn thực tế từ dữ liệu\n",
    "})\n",
    "\n",
    "# Hiển thị các giao dịch mà mô hình đánh dấu là gian lận\n",
    "fraud_cases = results_df[results_df['predicted_anomaly'] == 1]\n",
    "print(fraud_cases.head())  # Hiển thị một số giao dịch bị dự đoán là gian lận\n",
    "\n",
    "# Bước 12: Vẽ biểu đồ phân phối điểm bất thường theo nhãn\n",
    "plt.figure(figsize=(14, 8))\n",
    "plt.hist(anomaly_scores[y_test == 0], bins=50, alpha=0.6, label='Non-Fraud')\n",
    "plt.hist(anomaly_scores[y_test == 1], bins=50, alpha=0.6, label='Fraud')\n",
    "plt.axvline(threshold, color='r', linestyle='--', label='Threshold')\n",
    "plt.title('Anomaly Score by Class')\n",
    "plt.xlabel('Anomaly Score')\n",
    "plt.ylabel('Frequency')\n",
    "plt.legend()\n",
    "plt.show()\n"
   ]
  }
 ],
 "metadata": {
  "kernelspec": {
   "display_name": "Python 3",
   "language": "python",
   "name": "python3"
  },
  "language_info": {
   "codemirror_mode": {
    "name": "ipython",
    "version": 3
   },
   "file_extension": ".py",
   "mimetype": "text/x-python",
   "name": "python",
   "nbconvert_exporter": "python",
   "pygments_lexer": "ipython3",
   "version": "3.11.13"
  }
 },
 "nbformat": 4,
 "nbformat_minor": 2
}
